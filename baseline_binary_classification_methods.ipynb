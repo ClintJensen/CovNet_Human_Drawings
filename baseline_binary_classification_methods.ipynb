{
  "nbformat": 4,
  "nbformat_minor": 0,
  "metadata": {
    "colab": {
      "name": "baseline_binary_classification_methods.ipynb",
      "version": "0.3.2",
      "provenance": [],
      "include_colab_link": true
    },
    "kernelspec": {
      "name": "python3",
      "display_name": "Python 3"
    }
  },
  "cells": [
    {
      "cell_type": "markdown",
      "metadata": {
        "id": "view-in-github",
        "colab_type": "text"
      },
      "source": [
        "<a href=\"https://colab.research.google.com/github/pabloinsente/CovNet_Human_Drawings/blob/master/baseline_binary_classification_methods.ipynb\" target=\"_parent\"><img src=\"https://colab.research.google.com/assets/colab-badge.svg\" alt=\"Open In Colab\"/></a>"
      ]
    },
    {
      "metadata": {
        "id": "TXwk9Cqq_Sai",
        "colab_type": "text"
      },
      "cell_type": "markdown",
      "source": [
        "#Baseline for binary classification of child/adult from drawings "
      ]
    },
    {
      "metadata": {
        "id": "ObeZBPWqBiSV",
        "colab_type": "text"
      },
      "cell_type": "markdown",
      "source": [
        "##Data Preparation"
      ]
    },
    {
      "metadata": {
        "id": "EbY-t84bAzVT",
        "colab_type": "code",
        "colab": {}
      },
      "cell_type": "code",
      "source": [
        "from sklearn.model_selection import train_test_split\n",
        "from sklearn.metrics import confusion_matrix\n",
        "from sklearn.metrics import classification_report\n",
        "from sklearn.metrics import accuracy_score\n",
        "\n",
        "from imblearn.over_sampling import RandomOverSampler \n",
        "from imblearn.over_sampling import SMOTE \n",
        "\n",
        "from numpy import genfromtxt\n",
        "from collections import Counter\n",
        "import matplotlib.pyplot as plt"
      ],
      "execution_count": 0,
      "outputs": []
    },
    {
      "metadata": {
        "id": "QkbiV6x5-y3D",
        "colab_type": "code",
        "colab": {}
      },
      "cell_type": "code",
      "source": [
        "# Clone the data into Colab\n",
        "! git clone https://github.com/pabloinsente/CovNet_Human_Drawings"
      ],
      "execution_count": 0,
      "outputs": []
    },
    {
      "metadata": {
        "id": "RyIBl8K__v2V",
        "colab_type": "code",
        "colab": {
          "base_uri": "https://localhost:8080/",
          "height": 52
        },
        "outputId": "98dba742-3200-4661-ddae-43dbf3efbd6e"
      },
      "cell_type": "code",
      "source": [
        "# Get data\n",
        "x_path= 'CovNet_Human_Drawings/data/merged_dataframes_prediction/x_train_drawings_features_max_pool_5_pca.csv'\n",
        "y_path = 'CovNet_Human_Drawings/data/merged_dataframes_prediction/y_train_age_adult_labels.csv'\n",
        "\n",
        "x = genfromtxt(x_path, delimiter=',')\n",
        "y = genfromtxt(y_path, delimiter=',')\n",
        "\n",
        "print(x.shape) # (258, 200)\n",
        "print(y.shape) # (258,)"
      ],
      "execution_count": 6,
      "outputs": [
        {
          "output_type": "stream",
          "text": [
            "(258, 200)\n",
            "(258,)\n"
          ],
          "name": "stdout"
        }
      ]
    },
    {
      "metadata": {
        "id": "rXjzygJTBa3D",
        "colab_type": "code",
        "colab": {
          "base_uri": "https://localhost:8080/",
          "height": 87
        },
        "outputId": "dcc4c158-ace5-4c21-a78b-7a4dd7f7cb39"
      },
      "cell_type": "code",
      "source": [
        "# Split data into train and test sets\n",
        "# Since we have an small sample, we will do a 70/30 split\n",
        "\n",
        "x_train, x_test, y_train, y_test = train_test_split(x, y, test_size = 0.3, random_state=44)\n",
        "print(x_train.shape) \n",
        "print(y_train.shape) \n",
        "print(x_test.shape) \n",
        "print(y_test.shape)"
      ],
      "execution_count": 10,
      "outputs": [
        {
          "output_type": "stream",
          "text": [
            "(180, 200)\n",
            "(180,)\n",
            "(78, 200)\n",
            "(78,)\n"
          ],
          "name": "stdout"
        }
      ]
    },
    {
      "metadata": {
        "id": "oDthiRfdCEYx",
        "colab_type": "text"
      },
      "cell_type": "markdown",
      "source": [
        "##Resampling Imbalanced Data\n",
        "Since our classes are imbalanced, we will use oversampling of the \"adult\" class **on the training set**  to help training on that class. *imblearn* implement oversampling for us\n",
        "\n",
        "**See documentantion at** https://imbalanced-learn.readthedocs.io/en/stable/generated/imblearn.over_sampling.RandomOverSampler.html"
      ]
    },
    {
      "metadata": {
        "id": "7Usr2cw8B8N6",
        "colab_type": "code",
        "colab": {
          "base_uri": "https://localhost:8080/",
          "height": 69
        },
        "outputId": "1cc3e6ce-1e69-4b39-9c11-5a02697d9a19"
      },
      "cell_type": "code",
      "source": [
        "#ros = RandomOverSampler(random_state=42)\n",
        "ros = SMOTE(random_state=42)\n",
        "\n",
        "x_train_res, y_train_res = ros.fit_resample(x_train, y_train)\n",
        "print(x_train_res.shape) # (258, 200)\n",
        "print(y_train_res.shape) # (258,)\n",
        "print('Resampled dataset shape %s' % Counter(y_train_res))\n",
        "\n",
        "# Now we have 50/50 balanced classes"
      ],
      "execution_count": 63,
      "outputs": [
        {
          "output_type": "stream",
          "text": [
            "(286, 200)\n",
            "(286,)\n",
            "Resampled dataset shape Counter({1.0: 143, 0.0: 143})\n"
          ],
          "name": "stdout"
        }
      ]
    },
    {
      "metadata": {
        "id": "ZcBrBokeM9M0",
        "colab_type": "code",
        "colab": {
          "base_uri": "https://localhost:8080/",
          "height": 299
        },
        "outputId": "76faf8d8-c0d6-40fe-c288-d5f8a05ac437"
      },
      "cell_type": "code",
      "source": [
        "x_train = x_train_res\n",
        "y_train = y_train_res\n",
        "print('Resampled dataset shape %s' % Counter(y_train))\n",
        "plt.hist(y_train, bins='auto')  # arguments are passed to np.histogram\n",
        "plt.title(\"Histogram train dataset classes\")\n",
        "plt.show()"
      ],
      "execution_count": 73,
      "outputs": [
        {
          "output_type": "stream",
          "text": [
            "Resampled dataset shape Counter({1.0: 143, 0.0: 143})\n"
          ],
          "name": "stdout"
        },
        {
          "output_type": "display_data",
          "data": {
            "image/png": "[encoded data removed]",
            "text/plain": [
              "<Figure size 432x288 with 1 Axes>"
            ]
          },
          "metadata": {
            "tags": []
          }
        }
      ]
    },
    {
      "metadata": {
        "id": "T6-DBBeQMfz3",
        "colab_type": "code",
        "colab": {
          "base_uri": "https://localhost:8080/",
          "height": 299
        },
        "outputId": "cc7a736e-8e69-49c7-bb96-74d93664b59f"
      },
      "cell_type": "code",
      "source": [
        "print('Test dataset shape %s' % Counter(y_test))\n",
        "plt.hist(y_test, bins='auto')  # arguments are passed to np.histogram\n",
        "plt.title(\"Histogram test dataset classes\")\n",
        "plt.show()"
      ],
      "execution_count": 74,
      "outputs": [
        {
          "output_type": "stream",
          "text": [
            "Test dataset shape Counter({0.0: 65, 1.0: 13})\n"
          ],
          "name": "stdout"
        },
        {
          "output_type": "display_data",
          "data": {
            "image/png": "[encoded data removed]",
            "text/plain": [
              "<Figure size 432x288 with 1 Axes>"
            ]
          },
          "metadata": {
            "tags": []
          }
        }
      ]
    },
    {
      "metadata": {
        "id": "ZJEejZeyA3UF",
        "colab_type": "text"
      },
      "cell_type": "markdown",
      "source": [
        "## Logistic Regression \n",
        "\n",
        "\n"
      ]
    },
    {
      "metadata": {
        "id": "oWyYBLkmBgN1",
        "colab_type": "code",
        "colab": {}
      },
      "cell_type": "code",
      "source": [
        "from sklearn.linear_model import LogisticRegression"
      ],
      "execution_count": 0,
      "outputs": []
    },
    {
      "metadata": {
        "id": "HvOfH8nQHqhd",
        "colab_type": "text"
      },
      "cell_type": "markdown",
      "source": [
        "###Train logistic regression"
      ]
    },
    {
      "metadata": {
        "id": "SSx65HTUAxBD",
        "colab_type": "code",
        "colab": {
          "base_uri": "https://localhost:8080/",
          "height": 72
        },
        "outputId": "0debc49e-9b17-4a8b-a229-881f0e6165f8"
      },
      "cell_type": "code",
      "source": [
        "# Train classifier\n",
        "log_classifier = LogisticRegression(random_state=0)\n",
        "log_classifier.fit(x_train, y_train)\n",
        "y_pred = log_classifier.predict(x_test)"
      ],
      "execution_count": 65,
      "outputs": [
        {
          "output_type": "stream",
          "text": [
            "/usr/local/lib/python3.6/dist-packages/sklearn/linear_model/logistic.py:433: FutureWarning: Default solver will be changed to 'lbfgs' in 0.22. Specify a solver to silence this warning.\n",
            "  FutureWarning)\n"
          ],
          "name": "stderr"
        }
      ]
    },
    {
      "metadata": {
        "id": "siZ29snsHt-S",
        "colab_type": "text"
      },
      "cell_type": "markdown",
      "source": [
        "###Test logistic regression"
      ]
    },
    {
      "metadata": {
        "id": "jvnLEL0OCfJT",
        "colab_type": "code",
        "colab": {
          "base_uri": "https://localhost:8080/",
          "height": 312
        },
        "outputId": "0f3697f7-3fb7-4b45-9206-8183702c58f7"
      },
      "cell_type": "code",
      "source": [
        "# Accuracy \n",
        "acc = accuracy_score(y_test, y_pred)\n",
        "print(\"Accuracy\", \"\\n\", acc, \"\\n\")\n",
        "\n",
        "# Confusion matrix\n",
        "cm = confusion_matrix(y_test, y_pred)\n",
        "print(\"Confusion Matrix\", \"\\n\", cm, \"\\n\")\n",
        "\n",
        "# Classification report\n",
        "target_names = ['Child', 'Adult']\n",
        "cr = classification_report(y_test, y_pred, target_names=target_names)\n",
        "print(\"Calssification report\", \"\\n\", cr)"
      ],
      "execution_count": 66,
      "outputs": [
        {
          "output_type": "stream",
          "text": [
            "Accuracy \n",
            " 0.7692307692307693 \n",
            "\n",
            "Confusion Matrix \n",
            " [[59  6]\n",
            " [12  1]] \n",
            "\n",
            "Calssification report \n",
            "               precision    recall  f1-score   support\n",
            "\n",
            "       Child       0.83      0.91      0.87        65\n",
            "       Adult       0.14      0.08      0.10        13\n",
            "\n",
            "   micro avg       0.77      0.77      0.77        78\n",
            "   macro avg       0.49      0.49      0.48        78\n",
            "weighted avg       0.72      0.77      0.74        78\n",
            "\n"
          ],
          "name": "stdout"
        }
      ]
    },
    {
      "metadata": {
        "id": "Xj1hKl9EKTjK",
        "colab_type": "text"
      },
      "cell_type": "markdown",
      "source": [
        "##Suport Vector Machine"
      ]
    },
    {
      "metadata": {
        "id": "eslBDDCKKWV0",
        "colab_type": "code",
        "colab": {}
      },
      "cell_type": "code",
      "source": [
        "from sklearn.svm import SVC"
      ],
      "execution_count": 0,
      "outputs": []
    },
    {
      "metadata": {
        "id": "JOx-QOmjOdwZ",
        "colab_type": "text"
      },
      "cell_type": "markdown",
      "source": [
        "###Training support vector machine"
      ]
    },
    {
      "metadata": {
        "id": "7-UNddEtKXN0",
        "colab_type": "code",
        "colab": {}
      },
      "cell_type": "code",
      "source": [
        "svm = SVC(gamma='auto')\n",
        "svm.fit(x_train, y_train) \n",
        "y_pred = svm.predict(x_test)"
      ],
      "execution_count": 0,
      "outputs": []
    },
    {
      "metadata": {
        "id": "PMjRUuPQOi72",
        "colab_type": "text"
      },
      "cell_type": "markdown",
      "source": [
        "###Testing support vector machine"
      ]
    },
    {
      "metadata": {
        "id": "X0WYMs1BMGHU",
        "colab_type": "code",
        "colab": {
          "base_uri": "https://localhost:8080/",
          "height": 312
        },
        "outputId": "87c87775-d9f7-4275-aea4-32d11efa5bb4"
      },
      "cell_type": "code",
      "source": [
        "# Accuracy \n",
        "acc = accuracy_score(y_test, y_pred)\n",
        "print(\"Accuracy\", \"\\n\", acc, \"\\n\")\n",
        "\n",
        "# Confusion matrix\n",
        "cm = confusion_matrix(y_test, y_pred)\n",
        "print(\"Confusion Matrix\", \"\\n\", cm, \"\\n\")\n",
        "\n",
        "# Classification report\n",
        "target_names = ['Child', 'Adult']\n",
        "cr = classification_report(y_test, y_pred, target_names=target_names)\n",
        "print(\"Calssification report\", \"\\n\", cr)"
      ],
      "execution_count": 69,
      "outputs": [
        {
          "output_type": "stream",
          "text": [
            "Accuracy \n",
            " 0.8205128205128205 \n",
            "\n",
            "Confusion Matrix \n",
            " [[64  1]\n",
            " [13  0]] \n",
            "\n",
            "Calssification report \n",
            "               precision    recall  f1-score   support\n",
            "\n",
            "       Child       0.83      0.98      0.90        65\n",
            "       Adult       0.00      0.00      0.00        13\n",
            "\n",
            "   micro avg       0.82      0.82      0.82        78\n",
            "   macro avg       0.42      0.49      0.45        78\n",
            "weighted avg       0.69      0.82      0.75        78\n",
            "\n"
          ],
          "name": "stdout"
        }
      ]
    },
    {
      "metadata": {
        "id": "IUnvV8k2PRcw",
        "colab_type": "text"
      },
      "cell_type": "markdown",
      "source": [
        "##Decision Tree"
      ]
    },
    {
      "metadata": {
        "id": "1Xw_vjesPTEe",
        "colab_type": "code",
        "colab": {}
      },
      "cell_type": "code",
      "source": [
        "from sklearn import tree"
      ],
      "execution_count": 0,
      "outputs": []
    },
    {
      "metadata": {
        "id": "CA8dCLfXPr9u",
        "colab_type": "text"
      },
      "cell_type": "markdown",
      "source": [
        "###Training decision tree"
      ]
    },
    {
      "metadata": {
        "id": "UNY_wRsqPYYE",
        "colab_type": "code",
        "colab": {}
      },
      "cell_type": "code",
      "source": [
        "d_tree = tree.DecisionTreeClassifier()\n",
        "d_tree.fit(x_train, y_train) \n",
        "y_pred = d_tree.predict(x_test)"
      ],
      "execution_count": 0,
      "outputs": []
    },
    {
      "metadata": {
        "id": "XSgKy-kHPzCu",
        "colab_type": "text"
      },
      "cell_type": "markdown",
      "source": [
        "###Testing decision tree"
      ]
    },
    {
      "metadata": {
        "id": "wZWYB0nfPiRh",
        "colab_type": "code",
        "colab": {
          "base_uri": "https://localhost:8080/",
          "height": 312
        },
        "outputId": "4ef61d7e-5caa-406a-f360-90968dd430d1"
      },
      "cell_type": "code",
      "source": [
        "# Accuracy \n",
        "acc = accuracy_score(y_test, y_pred)\n",
        "print(\"Accuracy\", \"\\n\", acc, \"\\n\")\n",
        "\n",
        "# Confusion matrix\n",
        "cm = confusion_matrix(y_test, y_pred)\n",
        "print(\"Confusion Matrix\", \"\\n\", cm, \"\\n\")\n",
        "\n",
        "# Classification report\n",
        "target_names = ['Child', 'Adult']\n",
        "cr = classification_report(y_test, y_pred, target_names=target_names)\n",
        "print(\"Calssification report\", \"\\n\", cr)"
      ],
      "execution_count": 78,
      "outputs": [
        {
          "output_type": "stream",
          "text": [
            "Accuracy \n",
            " 0.6410256410256411 \n",
            "\n",
            "Confusion Matrix \n",
            " [[47 18]\n",
            " [10  3]] \n",
            "\n",
            "Calssification report \n",
            "               precision    recall  f1-score   support\n",
            "\n",
            "       Child       0.82      0.72      0.77        65\n",
            "       Adult       0.14      0.23      0.18        13\n",
            "\n",
            "   micro avg       0.64      0.64      0.64        78\n",
            "   macro avg       0.48      0.48      0.47        78\n",
            "weighted avg       0.71      0.64      0.67        78\n",
            "\n"
          ],
          "name": "stdout"
        }
      ]
    },
    {
      "metadata": {
        "id": "37Bkqa_FQL4Z",
        "colab_type": "text"
      },
      "cell_type": "markdown",
      "source": [
        "##Gaussian Naive Bayes"
      ]
    },
    {
      "metadata": {
        "id": "Y4HEWPMAQLYf",
        "colab_type": "code",
        "colab": {}
      },
      "cell_type": "code",
      "source": [
        "from sklearn.naive_bayes import GaussianNB"
      ],
      "execution_count": 0,
      "outputs": []
    },
    {
      "metadata": {
        "id": "jCYkCbF6TLtg",
        "colab_type": "text"
      },
      "cell_type": "markdown",
      "source": [
        "###Training Naive Bayes"
      ]
    },
    {
      "metadata": {
        "id": "kpJhLIr0QUlS",
        "colab_type": "code",
        "colab": {}
      },
      "cell_type": "code",
      "source": [
        "bayes = GaussianNB()\n",
        "bayes.fit(x_train, y_train) \n",
        "y_pred = bayes.predict(x_test)"
      ],
      "execution_count": 0,
      "outputs": []
    },
    {
      "metadata": {
        "id": "n9G0qFrqTQO1",
        "colab_type": "text"
      },
      "cell_type": "markdown",
      "source": [
        "###Testing Naive Bayes"
      ]
    },
    {
      "metadata": {
        "id": "rKQMA1k8QgF1",
        "colab_type": "code",
        "colab": {
          "base_uri": "https://localhost:8080/",
          "height": 312
        },
        "outputId": "f79d12ce-3e17-432b-b92b-c476da3ec168"
      },
      "cell_type": "code",
      "source": [
        "# Accuracy \n",
        "acc = accuracy_score(y_test, y_pred)\n",
        "print(\"Accuracy\", \"\\n\", acc, \"\\n\")\n",
        "\n",
        "# Confusion matrix\n",
        "cm = confusion_matrix(y_test, y_pred)\n",
        "print(\"Confusion Matrix\", \"\\n\", cm, \"\\n\")\n",
        "\n",
        "# Classification report\n",
        "target_names = ['Child', 'Adult']\n",
        "cr = classification_report(y_test, y_pred, target_names=target_names)\n",
        "print(\"Calssification report\", \"\\n\", cr)"
      ],
      "execution_count": 82,
      "outputs": [
        {
          "output_type": "stream",
          "text": [
            "Accuracy \n",
            " 0.7948717948717948 \n",
            "\n",
            "Confusion Matrix \n",
            " [[61  4]\n",
            " [12  1]] \n",
            "\n",
            "Calssification report \n",
            "               precision    recall  f1-score   support\n",
            "\n",
            "       Child       0.84      0.94      0.88        65\n",
            "       Adult       0.20      0.08      0.11        13\n",
            "\n",
            "   micro avg       0.79      0.79      0.79        78\n",
            "   macro avg       0.52      0.51      0.50        78\n",
            "weighted avg       0.73      0.79      0.76        78\n",
            "\n"
          ],
          "name": "stdout"
        }
      ]
    },
    {
      "metadata": {
        "id": "p3Fjn75FQ0A2",
        "colab_type": "text"
      },
      "cell_type": "markdown",
      "source": [
        "## Random Forest"
      ]
    },
    {
      "metadata": {
        "id": "oAsAISt4Q1g9",
        "colab_type": "code",
        "colab": {}
      },
      "cell_type": "code",
      "source": [
        "from sklearn.ensemble import RandomForestClassifier"
      ],
      "execution_count": 0,
      "outputs": []
    },
    {
      "metadata": {
        "id": "LbUF0ndhTT7T",
        "colab_type": "text"
      },
      "cell_type": "markdown",
      "source": [
        "###Training Random Forest"
      ]
    },
    {
      "metadata": {
        "id": "KQ8LptbHQ3fC",
        "colab_type": "code",
        "colab": {}
      },
      "cell_type": "code",
      "source": [
        "forest = RandomForestClassifier(n_estimators=100)\n",
        "forest.fit(x_train, y_train) \n",
        "y_pred = forest.predict(x_test)"
      ],
      "execution_count": 0,
      "outputs": []
    },
    {
      "metadata": {
        "id": "7ALD5ojETYrJ",
        "colab_type": "text"
      },
      "cell_type": "markdown",
      "source": [
        "###Testing Random Forest"
      ]
    },
    {
      "metadata": {
        "id": "Nt8dMDUlSFO6",
        "colab_type": "code",
        "colab": {
          "base_uri": "https://localhost:8080/",
          "height": 312
        },
        "outputId": "29c18387-2b0f-4d1f-8776-7c9aac82a5bb"
      },
      "cell_type": "code",
      "source": [
        "# Accuracy \n",
        "acc = accuracy_score(y_test, y_pred)\n",
        "print(\"Accuracy\", \"\\n\", acc, \"\\n\")\n",
        "\n",
        "# Confusion matrix\n",
        "cm = confusion_matrix(y_test, y_pred)\n",
        "print(\"Confusion Matrix\", \"\\n\", cm, \"\\n\")\n",
        "\n",
        "# Classification report\n",
        "target_names = ['Child', 'Adult']\n",
        "cr = classification_report(y_test, y_pred, target_names=target_names)\n",
        "print(\"Calssification report\", \"\\n\", cr)"
      ],
      "execution_count": 85,
      "outputs": [
        {
          "output_type": "stream",
          "text": [
            "Accuracy \n",
            " 0.8461538461538461 \n",
            "\n",
            "Confusion Matrix \n",
            " [[65  0]\n",
            " [12  1]] \n",
            "\n",
            "Calssification report \n",
            "               precision    recall  f1-score   support\n",
            "\n",
            "       Child       0.84      1.00      0.92        65\n",
            "       Adult       1.00      0.08      0.14        13\n",
            "\n",
            "   micro avg       0.85      0.85      0.85        78\n",
            "   macro avg       0.92      0.54      0.53        78\n",
            "weighted avg       0.87      0.85      0.79        78\n",
            "\n"
          ],
          "name": "stdout"
        }
      ]
    },
    {
      "metadata": {
        "id": "mZkPa4EnS4VF",
        "colab_type": "text"
      },
      "cell_type": "markdown",
      "source": [
        "##Gradient Boosting Classifier"
      ]
    },
    {
      "metadata": {
        "id": "B4VRSGnnSs6V",
        "colab_type": "code",
        "colab": {}
      },
      "cell_type": "code",
      "source": [
        "from sklearn.ensemble import GradientBoostingClassifier"
      ],
      "execution_count": 0,
      "outputs": []
    },
    {
      "metadata": {
        "id": "_Te7YLW5Tf2_",
        "colab_type": "text"
      },
      "cell_type": "markdown",
      "source": [
        "###Training Gradient Boosting Classifier"
      ]
    },
    {
      "metadata": {
        "id": "rpnkfdHLSvrX",
        "colab_type": "code",
        "colab": {}
      },
      "cell_type": "code",
      "source": [
        "boosting = GradientBoostingClassifier(n_estimators=100, learning_rate = 0.1)\n",
        "boosting.fit(x_train, y_train) \n",
        "boosting = forest.predict(x_test)"
      ],
      "execution_count": 0,
      "outputs": []
    },
    {
      "metadata": {
        "id": "_VNIAXFNTkK2",
        "colab_type": "text"
      },
      "cell_type": "markdown",
      "source": [
        "###Testing Gradient Boosting Classifier"
      ]
    },
    {
      "metadata": {
        "id": "U2gXcU-USng9",
        "colab_type": "code",
        "colab": {
          "base_uri": "https://localhost:8080/",
          "height": 312
        },
        "outputId": "95479cc1-478c-4558-f0a2-d043ced7d5bc"
      },
      "cell_type": "code",
      "source": [
        "# Accuracy \n",
        "acc = accuracy_score(y_test, y_pred)\n",
        "print(\"Accuracy\", \"\\n\", acc, \"\\n\")\n",
        "\n",
        "# Confusion matrix\n",
        "cm = confusion_matrix(y_test, y_pred)\n",
        "print(\"Confusion Matrix\", \"\\n\", cm, \"\\n\")\n",
        "\n",
        "# Classification report\n",
        "target_names = ['Child', 'Adult']\n",
        "cr = classification_report(y_test, y_pred, target_names=target_names)\n",
        "print(\"Calssification report\", \"\\n\", cr)"
      ],
      "execution_count": 88,
      "outputs": [
        {
          "output_type": "stream",
          "text": [
            "Accuracy \n",
            " 0.8461538461538461 \n",
            "\n",
            "Confusion Matrix \n",
            " [[65  0]\n",
            " [12  1]] \n",
            "\n",
            "Calssification report \n",
            "               precision    recall  f1-score   support\n",
            "\n",
            "       Child       0.84      1.00      0.92        65\n",
            "       Adult       1.00      0.08      0.14        13\n",
            "\n",
            "   micro avg       0.85      0.85      0.85        78\n",
            "   macro avg       0.92      0.54      0.53        78\n",
            "weighted avg       0.87      0.85      0.79        78\n",
            "\n"
          ],
          "name": "stdout"
        }
      ]
    }
  ]
}