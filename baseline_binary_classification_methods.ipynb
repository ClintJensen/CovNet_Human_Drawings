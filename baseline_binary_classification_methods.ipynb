{
  "nbformat": 4,
  "nbformat_minor": 0,
  "metadata": {
    "colab": {
      "name": "baseline_binary_classification_methods.ipynb",
      "version": "0.3.2",
      "provenance": [],
      "toc_visible": true,
      "include_colab_link": true
    },
    "kernelspec": {
      "name": "python3",
      "display_name": "Python 3"
    }
  },
  "cells": [
    {
      "cell_type": "markdown",
      "metadata": {
        "id": "view-in-github",
        "colab_type": "text"
      },
      "source": [
        "<a href=\"https://colab.research.google.com/github/pabloinsente/CovNet_Human_Drawings/blob/master/baseline_binary_classification_methods.ipynb\" target=\"_parent\"><img src=\"https://colab.research.google.com/assets/colab-badge.svg\" alt=\"Open In Colab\"/></a>"
      ]
    },
    {
      "metadata": {
        "id": "TXwk9Cqq_Sai",
        "colab_type": "text"
      },
      "cell_type": "markdown",
      "source": [
        "#Baseline for binary classification of child/adult from drawings with PCA vectors"
      ]
    },
    {
      "metadata": {
        "id": "ObeZBPWqBiSV",
        "colab_type": "text"
      },
      "cell_type": "markdown",
      "source": [
        "##Data Preparation"
      ]
    },
    {
      "metadata": {
        "id": "EbY-t84bAzVT",
        "colab_type": "code",
        "colab": {}
      },
      "cell_type": "code",
      "source": [
        "from sklearn.model_selection import train_test_split\n",
        "from sklearn.metrics import confusion_matrix\n",
        "from sklearn.metrics import classification_report\n",
        "from sklearn.metrics import accuracy_score\n",
        "\n",
        "from imblearn.over_sampling import RandomOverSampler \n",
        "from imblearn.over_sampling import SMOTE \n",
        "\n",
        "from numpy import genfromtxt\n",
        "import pandas as pd\n",
        "from collections import Counter\n",
        "import matplotlib.pyplot as plt"
      ],
      "execution_count": 0,
      "outputs": []
    },
    {
      "metadata": {
        "id": "QkbiV6x5-y3D",
        "colab_type": "code",
        "colab": {
          "base_uri": "https://localhost:8080/",
          "height": 35
        },
        "outputId": "9c200a9d-68e2-4eee-954f-990c7d1dbc9a"
      },
      "cell_type": "code",
      "source": [
        "# Clone the data into Colab\n",
        "! git clone https://github.com/pabloinsente/CovNet_Human_Drawings"
      ],
      "execution_count": 3,
      "outputs": [
        {
          "output_type": "stream",
          "text": [
            "fatal: destination path 'CovNet_Human_Drawings' already exists and is not an empty directory.\n"
          ],
          "name": "stdout"
        }
      ]
    },
    {
      "metadata": {
        "id": "RyIBl8K__v2V",
        "colab_type": "code",
        "outputId": "98dba742-3200-4661-ddae-43dbf3efbd6e",
        "colab": {
          "base_uri": "https://localhost:8080/",
          "height": 52
        }
      },
      "cell_type": "code",
      "source": [
        "# Get data\n",
        "#x_path= 'CovNet_Human_Drawings/data/merged_dataframes_prediction/x_train_drawings_features_max_pool_5_pca.csv'\n",
        "#y_path = 'CovNet_Human_Drawings/data/merged_dataframes_prediction/y_train_age_adult_labels.csv'\n",
        "\n",
        "#x = genfromtxt(x_path, delimiter=',')\n",
        "#y = genfromtxt(y_path, delimiter=',')\n",
        "\n",
        "#print(x.shape) # (258, 200)\n",
        "#print(y.shape) # (258,)"
      ],
      "execution_count": 0,
      "outputs": [
        {
          "output_type": "stream",
          "text": [
            "(258, 200)\n",
            "(258,)\n"
          ],
          "name": "stdout"
        }
      ]
    },
    {
      "metadata": {
        "id": "ufsZPu0JHTB_",
        "colab_type": "code",
        "colab": {
          "base_uri": "https://localhost:8080/",
          "height": 52
        },
        "outputId": "9dc37ddb-1bf9-4299-cf0b-d6c2fac54244"
      },
      "cell_type": "code",
      "source": [
        "# Read feature matrix\n",
        "x_path = \"CovNet_Human_Drawings/data/merged_dataframes_prediction/raw_features_max_pool_5_res_norm.csv\"\n",
        "x = genfromtxt(x_path, delimiter=',')\n",
        "\n",
        "# Read labels vector\n",
        "y_path = 'CovNet_Human_Drawings/data/merged_dataframes_prediction/y_train_age_adult_labels.csv'\n",
        "y = genfromtxt(y_path, delimiter=',')\n",
        "\n",
        "#x = x.drop([0]) # drop headers\n",
        "print(x.shape)\n",
        "print(y.shape)"
      ],
      "execution_count": 4,
      "outputs": [
        {
          "output_type": "stream",
          "text": [
            "(258, 25088)\n",
            "(258,)\n"
          ],
          "name": "stdout"
        }
      ]
    },
    {
      "metadata": {
        "id": "xLRMtpc3HYOv",
        "colab_type": "text"
      },
      "cell_type": "markdown",
      "source": [
        "##PCA"
      ]
    },
    {
      "metadata": {
        "id": "bSUV_o6tId5Q",
        "colab_type": "code",
        "colab": {}
      },
      "cell_type": "code",
      "source": [
        "from sklearn.decomposition import PCA\n",
        "import numpy as np"
      ],
      "execution_count": 0,
      "outputs": []
    },
    {
      "metadata": {
        "id": "JnCACU9YHfh9",
        "colab_type": "code",
        "colab": {
          "base_uri": "https://localhost:8080/",
          "height": 301
        },
        "outputId": "b6c6c922-03b6-4a3a-ad7b-a56761d4fa89"
      },
      "cell_type": "code",
      "source": [
        "# Let's print out the accumulated explained variance as we get\n",
        "# more components using PCA \n",
        "\n",
        "pca = PCA(n_components=200)\n",
        "pca.fit(x)\n",
        "\n",
        "plt.plot(np.cumsum(pca.explained_variance_ratio_))\n",
        "plt.xlabel('Number of components')\n",
        "plt.ylabel('Cumulative explained variance')"
      ],
      "execution_count": 9,
      "outputs": [
        {
          "output_type": "execute_result",
          "data": {
            "text/plain": [
              "Text(0, 0.5, 'Cumulative explained variance')"
            ]
          },
          "metadata": {
            "tags": []
          },
          "execution_count": 9
        },
        {
          "output_type": "display_data",
          "data": {
            "image/png": "[encoded data removed]",
            "text/plain": [
              "<Figure size 432x288 with 1 Axes>"
            ]
          },
          "metadata": {
            "tags": []
          }
        }
      ]
    },
    {
      "metadata": {
        "id": "8zz0sCqRIrlA",
        "colab_type": "code",
        "colab": {
          "base_uri": "https://localhost:8080/",
          "height": 35
        },
        "outputId": "377ffe42-4983-474f-8834-cfaec72bc1f6"
      },
      "cell_type": "code",
      "source": [
        "# Looks like with 175 components we retain all the variance\n",
        "NCOMPONENTS = 200\n",
        "\n",
        "pca = PCA(n_components=NCOMPONENTS)\n",
        "x_pca = pca.fit_transform(x)\n",
        "x = x_pca\n",
        "x.shape"
      ],
      "execution_count": 10,
      "outputs": [
        {
          "output_type": "execute_result",
          "data": {
            "text/plain": [
              "(258, 200)"
            ]
          },
          "metadata": {
            "tags": []
          },
          "execution_count": 10
        }
      ]
    },
    {
      "metadata": {
        "id": "rXjzygJTBa3D",
        "colab_type": "code",
        "outputId": "84e8146a-b9bc-42ed-aceb-93425147613b",
        "colab": {
          "base_uri": "https://localhost:8080/",
          "height": 87
        }
      },
      "cell_type": "code",
      "source": [
        "# Split data into train and test sets\n",
        "# Since we have an small sample, we will do a 70/30 split\n",
        "\n",
        "x_train, x_test, y_train, y_test = train_test_split(x, y, test_size = 0.3, random_state=44, stratify=y)\n",
        "print(x_train.shape) \n",
        "print(y_train.shape) \n",
        "print(x_test.shape) \n",
        "print(y_test.shape)"
      ],
      "execution_count": 11,
      "outputs": [
        {
          "output_type": "stream",
          "text": [
            "(180, 200)\n",
            "(180,)\n",
            "(78, 200)\n",
            "(78,)\n"
          ],
          "name": "stdout"
        }
      ]
    },
    {
      "metadata": {
        "id": "oDthiRfdCEYx",
        "colab_type": "text"
      },
      "cell_type": "markdown",
      "source": [
        "##Resampling Imbalanced Data\n",
        "Since our classes are imbalanced, we will use oversampling of the \"adult\" class **on the training set**  to help training on that class. *imblearn* implement oversampling for us\n",
        "\n",
        "**See documentantion at** https://imbalanced-learn.readthedocs.io/en/stable/generated/imblearn.over_sampling.RandomOverSampler.html"
      ]
    },
    {
      "metadata": {
        "id": "7Usr2cw8B8N6",
        "colab_type": "code",
        "outputId": "0071ad0c-c37b-4b43-f8d9-d133d495812b",
        "colab": {
          "base_uri": "https://localhost:8080/",
          "height": 69
        }
      },
      "cell_type": "code",
      "source": [
        "#ros = RandomOverSampler(random_state=42)\n",
        "ros = SMOTE(random_state=42)\n",
        "\n",
        "x_train_res, y_train_res = ros.fit_resample(x_train, y_train)\n",
        "print(x_train_res.shape) # (258, 200)\n",
        "print(y_train_res.shape) # (258,)\n",
        "print('Resampled dataset shape %s' % Counter(y_train_res))\n",
        "\n",
        "# Now we have 50/50 balanced classes"
      ],
      "execution_count": 12,
      "outputs": [
        {
          "output_type": "stream",
          "text": [
            "(290, 200)\n",
            "(290,)\n",
            "Resampled dataset shape Counter({0.0: 145, 1.0: 145})\n"
          ],
          "name": "stdout"
        }
      ]
    },
    {
      "metadata": {
        "id": "ZcBrBokeM9M0",
        "colab_type": "code",
        "outputId": "c84d748c-8b88-443b-8dd7-ca7295cd1c7b",
        "colab": {
          "base_uri": "https://localhost:8080/",
          "height": 299
        }
      },
      "cell_type": "code",
      "source": [
        "x_train = x_train_res\n",
        "y_train = y_train_res\n",
        "print('Resampled dataset shape %s' % Counter(y_train))\n",
        "plt.hist(y_train, bins='auto')  # arguments are passed to np.histogram\n",
        "plt.title(\"Histogram train dataset classes\")\n",
        "plt.show()"
      ],
      "execution_count": 13,
      "outputs": [
        {
          "output_type": "stream",
          "text": [
            "Resampled dataset shape Counter({0.0: 145, 1.0: 145})\n"
          ],
          "name": "stdout"
        },
        {
          "output_type": "display_data",
          "data": {
            "image/png": "[encoded data removed]",
            "text/plain": [
              "<Figure size 432x288 with 1 Axes>"
            ]
          },
          "metadata": {
            "tags": []
          }
        }
      ]
    },
    {
      "metadata": {
        "id": "T6-DBBeQMfz3",
        "colab_type": "code",
        "outputId": "8b3a8a1c-ab69-4918-e088-bd8950490345",
        "colab": {
          "base_uri": "https://localhost:8080/",
          "height": 299
        }
      },
      "cell_type": "code",
      "source": [
        "print('Test dataset shape %s' % Counter(y_test))\n",
        "plt.hist(y_test, bins='auto')  # arguments are passed to np.histogram\n",
        "plt.title(\"Histogram test dataset classes\")\n",
        "plt.show()"
      ],
      "execution_count": 14,
      "outputs": [
        {
          "output_type": "stream",
          "text": [
            "Test dataset shape Counter({0.0: 63, 1.0: 15})\n"
          ],
          "name": "stdout"
        },
        {
          "output_type": "display_data",
          "data": {
            "image/png": "[encoded data removed]",
            "text/plain": [
              "<Figure size 432x288 with 1 Axes>"
            ]
          },
          "metadata": {
            "tags": []
          }
        }
      ]
    },
    {
      "metadata": {
        "id": "ZJEejZeyA3UF",
        "colab_type": "text"
      },
      "cell_type": "markdown",
      "source": [
        "## Logistic Regression"
      ]
    },
    {
      "metadata": {
        "id": "oWyYBLkmBgN1",
        "colab_type": "code",
        "colab": {}
      },
      "cell_type": "code",
      "source": [
        "from sklearn.linear_model import LogisticRegression"
      ],
      "execution_count": 0,
      "outputs": []
    },
    {
      "metadata": {
        "id": "HvOfH8nQHqhd",
        "colab_type": "text"
      },
      "cell_type": "markdown",
      "source": [
        "###Train logistic regression"
      ]
    },
    {
      "metadata": {
        "id": "SSx65HTUAxBD",
        "colab_type": "code",
        "outputId": "b2a7f676-f687-4dc8-aefc-8d46d4db5740",
        "colab": {
          "base_uri": "https://localhost:8080/",
          "height": 72
        }
      },
      "cell_type": "code",
      "source": [
        "# Train classifier\n",
        "log_classifier = LogisticRegression(random_state=0)\n",
        "log_classifier.fit(x_train, y_train)\n",
        "y_pred = log_classifier.predict(x_test)"
      ],
      "execution_count": 16,
      "outputs": [
        {
          "output_type": "stream",
          "text": [
            "/usr/local/lib/python3.6/dist-packages/sklearn/linear_model/logistic.py:433: FutureWarning: Default solver will be changed to 'lbfgs' in 0.22. Specify a solver to silence this warning.\n",
            "  FutureWarning)\n"
          ],
          "name": "stderr"
        }
      ]
    },
    {
      "metadata": {
        "id": "siZ29snsHt-S",
        "colab_type": "text"
      },
      "cell_type": "markdown",
      "source": [
        "###Test logistic regression"
      ]
    },
    {
      "metadata": {
        "id": "jvnLEL0OCfJT",
        "colab_type": "code",
        "outputId": "db954ac7-3b1f-4186-d98e-7afd110ab5f3",
        "colab": {
          "base_uri": "https://localhost:8080/",
          "height": 312
        }
      },
      "cell_type": "code",
      "source": [
        "# Accuracy \n",
        "acc = accuracy_score(y_test, y_pred)\n",
        "print(\"Accuracy\", \"\\n\", acc, \"\\n\")\n",
        "\n",
        "# Confusion matrix\n",
        "cm = confusion_matrix(y_test, y_pred)\n",
        "print(\"Confusion Matrix\", \"\\n\", cm, \"\\n\")\n",
        "\n",
        "# Classification report\n",
        "target_names = ['Child', 'Adult']\n",
        "cr = classification_report(y_test, y_pred, target_names=target_names)\n",
        "print(\"Calssification report\", \"\\n\", cr)"
      ],
      "execution_count": 17,
      "outputs": [
        {
          "output_type": "stream",
          "text": [
            "Accuracy \n",
            " 0.7948717948717948 \n",
            "\n",
            "Confusion Matrix \n",
            " [[60  3]\n",
            " [13  2]] \n",
            "\n",
            "Calssification report \n",
            "               precision    recall  f1-score   support\n",
            "\n",
            "       Child       0.82      0.95      0.88        63\n",
            "       Adult       0.40      0.13      0.20        15\n",
            "\n",
            "   micro avg       0.79      0.79      0.79        78\n",
            "   macro avg       0.61      0.54      0.54        78\n",
            "weighted avg       0.74      0.79      0.75        78\n",
            "\n"
          ],
          "name": "stdout"
        }
      ]
    },
    {
      "metadata": {
        "id": "Xj1hKl9EKTjK",
        "colab_type": "text"
      },
      "cell_type": "markdown",
      "source": [
        "##Suport Vector Machine"
      ]
    },
    {
      "metadata": {
        "id": "eslBDDCKKWV0",
        "colab_type": "code",
        "colab": {}
      },
      "cell_type": "code",
      "source": [
        "from sklearn.svm import SVC"
      ],
      "execution_count": 0,
      "outputs": []
    },
    {
      "metadata": {
        "id": "JOx-QOmjOdwZ",
        "colab_type": "text"
      },
      "cell_type": "markdown",
      "source": [
        "###Training support vector machine"
      ]
    },
    {
      "metadata": {
        "id": "7-UNddEtKXN0",
        "colab_type": "code",
        "colab": {}
      },
      "cell_type": "code",
      "source": [
        "svm = SVC(gamma='auto')\n",
        "svm.fit(x_train, y_train) \n",
        "y_pred = svm.predict(x_test)"
      ],
      "execution_count": 0,
      "outputs": []
    },
    {
      "metadata": {
        "id": "PMjRUuPQOi72",
        "colab_type": "text"
      },
      "cell_type": "markdown",
      "source": [
        "###Testing support vector machine"
      ]
    },
    {
      "metadata": {
        "id": "X0WYMs1BMGHU",
        "colab_type": "code",
        "outputId": "39291751-c844-4e13-8bdc-a9f9ff48cea7",
        "colab": {
          "base_uri": "https://localhost:8080/",
          "height": 312
        }
      },
      "cell_type": "code",
      "source": [
        "# Accuracy \n",
        "acc = accuracy_score(y_test, y_pred)\n",
        "print(\"Accuracy\", \"\\n\", acc, \"\\n\")\n",
        "\n",
        "# Confusion matrix\n",
        "cm = confusion_matrix(y_test, y_pred)\n",
        "print(\"Confusion Matrix\", \"\\n\", cm, \"\\n\")\n",
        "\n",
        "# Classification report\n",
        "target_names = ['Child', 'Adult']\n",
        "cr = classification_report(y_test, y_pred, target_names=target_names)\n",
        "print(\"Calssification report\", \"\\n\", cr)"
      ],
      "execution_count": 20,
      "outputs": [
        {
          "output_type": "stream",
          "text": [
            "Accuracy \n",
            " 0.8205128205128205 \n",
            "\n",
            "Confusion Matrix \n",
            " [[63  0]\n",
            " [14  1]] \n",
            "\n",
            "Calssification report \n",
            "               precision    recall  f1-score   support\n",
            "\n",
            "       Child       0.82      1.00      0.90        63\n",
            "       Adult       1.00      0.07      0.12        15\n",
            "\n",
            "   micro avg       0.82      0.82      0.82        78\n",
            "   macro avg       0.91      0.53      0.51        78\n",
            "weighted avg       0.85      0.82      0.75        78\n",
            "\n"
          ],
          "name": "stdout"
        }
      ]
    },
    {
      "metadata": {
        "id": "IUnvV8k2PRcw",
        "colab_type": "text"
      },
      "cell_type": "markdown",
      "source": [
        "##Decision Tree"
      ]
    },
    {
      "metadata": {
        "id": "1Xw_vjesPTEe",
        "colab_type": "code",
        "colab": {}
      },
      "cell_type": "code",
      "source": [
        "from sklearn import tree"
      ],
      "execution_count": 0,
      "outputs": []
    },
    {
      "metadata": {
        "id": "CA8dCLfXPr9u",
        "colab_type": "text"
      },
      "cell_type": "markdown",
      "source": [
        "###Training decision tree"
      ]
    },
    {
      "metadata": {
        "id": "UNY_wRsqPYYE",
        "colab_type": "code",
        "colab": {}
      },
      "cell_type": "code",
      "source": [
        "d_tree = tree.DecisionTreeClassifier()\n",
        "d_tree.fit(x_train, y_train) \n",
        "y_pred = d_tree.predict(x_test)"
      ],
      "execution_count": 0,
      "outputs": []
    },
    {
      "metadata": {
        "id": "XSgKy-kHPzCu",
        "colab_type": "text"
      },
      "cell_type": "markdown",
      "source": [
        "###Testing decision tree"
      ]
    },
    {
      "metadata": {
        "id": "wZWYB0nfPiRh",
        "colab_type": "code",
        "outputId": "dc465e3f-dcc1-4294-8f9f-51905c7395c3",
        "colab": {
          "base_uri": "https://localhost:8080/",
          "height": 312
        }
      },
      "cell_type": "code",
      "source": [
        "# Accuracy \n",
        "acc = accuracy_score(y_test, y_pred)\n",
        "print(\"Accuracy\", \"\\n\", acc, \"\\n\")\n",
        "\n",
        "# Confusion matrix\n",
        "cm = confusion_matrix(y_test, y_pred)\n",
        "print(\"Confusion Matrix\", \"\\n\", cm, \"\\n\")\n",
        "\n",
        "# Classification report\n",
        "target_names = ['Child', 'Adult']\n",
        "cr = classification_report(y_test, y_pred, target_names=target_names)\n",
        "print(\"Calssification report\", \"\\n\", cr)"
      ],
      "execution_count": 23,
      "outputs": [
        {
          "output_type": "stream",
          "text": [
            "Accuracy \n",
            " 0.5897435897435898 \n",
            "\n",
            "Confusion Matrix \n",
            " [[43 20]\n",
            " [12  3]] \n",
            "\n",
            "Calssification report \n",
            "               precision    recall  f1-score   support\n",
            "\n",
            "       Child       0.78      0.68      0.73        63\n",
            "       Adult       0.13      0.20      0.16        15\n",
            "\n",
            "   micro avg       0.59      0.59      0.59        78\n",
            "   macro avg       0.46      0.44      0.44        78\n",
            "weighted avg       0.66      0.59      0.62        78\n",
            "\n"
          ],
          "name": "stdout"
        }
      ]
    },
    {
      "metadata": {
        "id": "37Bkqa_FQL4Z",
        "colab_type": "text"
      },
      "cell_type": "markdown",
      "source": [
        "##Gaussian Naive Bayes"
      ]
    },
    {
      "metadata": {
        "id": "Y4HEWPMAQLYf",
        "colab_type": "code",
        "colab": {}
      },
      "cell_type": "code",
      "source": [
        "from sklearn.naive_bayes import GaussianNB"
      ],
      "execution_count": 0,
      "outputs": []
    },
    {
      "metadata": {
        "id": "jCYkCbF6TLtg",
        "colab_type": "text"
      },
      "cell_type": "markdown",
      "source": [
        "###Training Naive Bayes"
      ]
    },
    {
      "metadata": {
        "id": "kpJhLIr0QUlS",
        "colab_type": "code",
        "colab": {}
      },
      "cell_type": "code",
      "source": [
        "bayes = GaussianNB()\n",
        "bayes.fit(x_train, y_train) \n",
        "y_pred = bayes.predict(x_test)"
      ],
      "execution_count": 0,
      "outputs": []
    },
    {
      "metadata": {
        "id": "n9G0qFrqTQO1",
        "colab_type": "text"
      },
      "cell_type": "markdown",
      "source": [
        "###Testing Naive Bayes"
      ]
    },
    {
      "metadata": {
        "id": "rKQMA1k8QgF1",
        "colab_type": "code",
        "outputId": "a26d32c6-a61b-42bb-cbbf-76f21a72ec9a",
        "colab": {
          "base_uri": "https://localhost:8080/",
          "height": 312
        }
      },
      "cell_type": "code",
      "source": [
        "# Accuracy \n",
        "acc = accuracy_score(y_test, y_pred)\n",
        "print(\"Accuracy\", \"\\n\", acc, \"\\n\")\n",
        "\n",
        "# Confusion matrix\n",
        "cm = confusion_matrix(y_test, y_pred)\n",
        "print(\"Confusion Matrix\", \"\\n\", cm, \"\\n\")\n",
        "\n",
        "# Classification report\n",
        "target_names = ['Child', 'Adult']\n",
        "cr = classification_report(y_test, y_pred, target_names=target_names)\n",
        "print(\"Calssification report\", \"\\n\", cr)"
      ],
      "execution_count": 26,
      "outputs": [
        {
          "output_type": "stream",
          "text": [
            "Accuracy \n",
            " 0.717948717948718 \n",
            "\n",
            "Confusion Matrix \n",
            " [[55  8]\n",
            " [14  1]] \n",
            "\n",
            "Calssification report \n",
            "               precision    recall  f1-score   support\n",
            "\n",
            "       Child       0.80      0.87      0.83        63\n",
            "       Adult       0.11      0.07      0.08        15\n",
            "\n",
            "   micro avg       0.72      0.72      0.72        78\n",
            "   macro avg       0.45      0.47      0.46        78\n",
            "weighted avg       0.67      0.72      0.69        78\n",
            "\n"
          ],
          "name": "stdout"
        }
      ]
    },
    {
      "metadata": {
        "id": "p3Fjn75FQ0A2",
        "colab_type": "text"
      },
      "cell_type": "markdown",
      "source": [
        "## Random Forest"
      ]
    },
    {
      "metadata": {
        "id": "oAsAISt4Q1g9",
        "colab_type": "code",
        "colab": {}
      },
      "cell_type": "code",
      "source": [
        "from sklearn.ensemble import RandomForestClassifier"
      ],
      "execution_count": 0,
      "outputs": []
    },
    {
      "metadata": {
        "id": "LbUF0ndhTT7T",
        "colab_type": "text"
      },
      "cell_type": "markdown",
      "source": [
        "###Training Random Forest"
      ]
    },
    {
      "metadata": {
        "id": "KQ8LptbHQ3fC",
        "colab_type": "code",
        "colab": {}
      },
      "cell_type": "code",
      "source": [
        "forest = RandomForestClassifier(n_estimators=100)\n",
        "forest.fit(x_train, y_train) \n",
        "y_pred = forest.predict(x_test)"
      ],
      "execution_count": 0,
      "outputs": []
    },
    {
      "metadata": {
        "id": "7ALD5ojETYrJ",
        "colab_type": "text"
      },
      "cell_type": "markdown",
      "source": [
        "###Testing Random Forest"
      ]
    },
    {
      "metadata": {
        "id": "Nt8dMDUlSFO6",
        "colab_type": "code",
        "outputId": "33777e65-0e44-4559-a0a2-ae0a1398047c",
        "colab": {
          "base_uri": "https://localhost:8080/",
          "height": 312
        }
      },
      "cell_type": "code",
      "source": [
        "# Accuracy \n",
        "acc = accuracy_score(y_test, y_pred)\n",
        "print(\"Accuracy\", \"\\n\", acc, \"\\n\")\n",
        "\n",
        "# Confusion matrix\n",
        "cm = confusion_matrix(y_test, y_pred)\n",
        "print(\"Confusion Matrix\", \"\\n\", cm, \"\\n\")\n",
        "\n",
        "# Classification report\n",
        "target_names = ['Child', 'Adult']\n",
        "cr = classification_report(y_test, y_pred, target_names=target_names)\n",
        "print(\"Calssification report\", \"\\n\", cr)"
      ],
      "execution_count": 29,
      "outputs": [
        {
          "output_type": "stream",
          "text": [
            "Accuracy \n",
            " 0.8205128205128205 \n",
            "\n",
            "Confusion Matrix \n",
            " [[63  0]\n",
            " [14  1]] \n",
            "\n",
            "Calssification report \n",
            "               precision    recall  f1-score   support\n",
            "\n",
            "       Child       0.82      1.00      0.90        63\n",
            "       Adult       1.00      0.07      0.12        15\n",
            "\n",
            "   micro avg       0.82      0.82      0.82        78\n",
            "   macro avg       0.91      0.53      0.51        78\n",
            "weighted avg       0.85      0.82      0.75        78\n",
            "\n"
          ],
          "name": "stdout"
        }
      ]
    },
    {
      "metadata": {
        "id": "mZkPa4EnS4VF",
        "colab_type": "text"
      },
      "cell_type": "markdown",
      "source": [
        "##Gradient Boosting Classifier"
      ]
    },
    {
      "metadata": {
        "id": "B4VRSGnnSs6V",
        "colab_type": "code",
        "colab": {}
      },
      "cell_type": "code",
      "source": [
        "from sklearn.ensemble import GradientBoostingClassifier"
      ],
      "execution_count": 0,
      "outputs": []
    },
    {
      "metadata": {
        "id": "_Te7YLW5Tf2_",
        "colab_type": "text"
      },
      "cell_type": "markdown",
      "source": [
        "###Training Gradient Boosting Classifier"
      ]
    },
    {
      "metadata": {
        "id": "rpnkfdHLSvrX",
        "colab_type": "code",
        "colab": {}
      },
      "cell_type": "code",
      "source": [
        "boosting = GradientBoostingClassifier(n_estimators=100, learning_rate = 0.1)\n",
        "boosting.fit(x_train, y_train) \n",
        "boosting = forest.predict(x_test)"
      ],
      "execution_count": 0,
      "outputs": []
    },
    {
      "metadata": {
        "id": "_VNIAXFNTkK2",
        "colab_type": "text"
      },
      "cell_type": "markdown",
      "source": [
        "###Testing Gradient Boosting Classifier"
      ]
    },
    {
      "metadata": {
        "id": "U2gXcU-USng9",
        "colab_type": "code",
        "outputId": "2e544c64-f639-41a5-cedb-623fd44c930d",
        "colab": {
          "base_uri": "https://localhost:8080/",
          "height": 312
        }
      },
      "cell_type": "code",
      "source": [
        "# Accuracy \n",
        "acc = accuracy_score(y_test, y_pred)\n",
        "print(\"Accuracy\", \"\\n\", acc, \"\\n\")\n",
        "\n",
        "# Confusion matrix\n",
        "cm = confusion_matrix(y_test, y_pred)\n",
        "print(\"Confusion Matrix\", \"\\n\", cm, \"\\n\")\n",
        "\n",
        "# Classification report\n",
        "target_names = ['Child', 'Adult']\n",
        "cr = classification_report(y_test, y_pred, target_names=target_names)\n",
        "print(\"Calssification report\", \"\\n\", cr)"
      ],
      "execution_count": 32,
      "outputs": [
        {
          "output_type": "stream",
          "text": [
            "Accuracy \n",
            " 0.8205128205128205 \n",
            "\n",
            "Confusion Matrix \n",
            " [[63  0]\n",
            " [14  1]] \n",
            "\n",
            "Calssification report \n",
            "               precision    recall  f1-score   support\n",
            "\n",
            "       Child       0.82      1.00      0.90        63\n",
            "       Adult       1.00      0.07      0.12        15\n",
            "\n",
            "   micro avg       0.82      0.82      0.82        78\n",
            "   macro avg       0.91      0.53      0.51        78\n",
            "weighted avg       0.85      0.82      0.75        78\n",
            "\n"
          ],
          "name": "stdout"
        }
      ]
    }
  ]
}