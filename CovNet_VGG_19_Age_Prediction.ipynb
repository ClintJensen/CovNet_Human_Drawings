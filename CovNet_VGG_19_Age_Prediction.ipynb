{
  "nbformat": 4,
  "nbformat_minor": 0,
  "metadata": {
    "colab": {
      "name": "CovNet_VGG-19_Age_Prediction.ipynb",
      "version": "0.3.2",
      "provenance": [],
      "include_colab_link": true
    },
    "kernelspec": {
      "name": "python3",
      "display_name": "Python 3"
    }
  },
  "cells": [
    {
      "cell_type": "markdown",
      "metadata": {
        "id": "view-in-github",
        "colab_type": "text"
      },
      "source": [
        "<a href=\"https://colab.research.google.com/github/pabloinsente/CovNet_Human_Drawings/blob/master/CovNet_VGG_19_Age_Prediction.ipynb\" target=\"_parent\"><img src=\"https://colab.research.google.com/assets/colab-badge.svg\" alt=\"Open In Colab\"/></a>"
      ]
    },
    {
      "metadata": {
        "id": "UPEF0uZFBq7f",
        "colab_type": "text"
      },
      "cell_type": "markdown",
      "source": [
        "# Age prediction from features extracted from drawings with VGG-19 CovNet"
      ]
    },
    {
      "metadata": {
        "id": "mEh6ibgkrxpu",
        "colab_type": "code",
        "colab": {
          "base_uri": "https://localhost:8080/",
          "height": 193
        },
        "outputId": "3e3666f1-8ac5-4fd6-8178-3207d562a61d"
      },
      "cell_type": "code",
      "source": [
        "# install seaborn for pairplot\n",
        "!pip install -q seaborn\n",
        "# install rarfile to read feature file\n",
        "!pip install rarfile"
      ],
      "execution_count": 4,
      "outputs": [
        {
          "output_type": "stream",
          "text": [
            "Collecting rarfile\n",
            "\u001b[?25l  Downloading https://files.pythonhosted.org/packages/de/a4/8b4abc72310da6fa53b6de8de1019e0516885d05369d6c91cba23476abe5/rarfile-3.0.tar.gz (110kB)\n",
            "\u001b[K    100% |████████████████████████████████| 112kB 2.7MB/s \n",
            "\u001b[?25hBuilding wheels for collected packages: rarfile\n",
            "  Building wheel for rarfile (setup.py) ... \u001b[?25ldone\n",
            "\u001b[?25h  Stored in directory: /root/.cache/pip/wheels/dc/84/da/8aff50941f548db5384b076d5a6a6afea0cd12672e0326edc4\n",
            "Successfully built rarfile\n",
            "Installing collected packages: rarfile\n",
            "Successfully installed rarfile-3.0\n"
          ],
          "name": "stdout"
        }
      ]
    },
    {
      "metadata": {
        "id": "v44IMLpHsijn",
        "colab_type": "code",
        "colab": {
          "base_uri": "https://localhost:8080/",
          "height": 35
        },
        "outputId": "ec2ba302-c8c0-4f0c-832f-6a062ef3f61a"
      },
      "cell_type": "code",
      "source": [
        "from __future__ import absolute_import, division, print_function\n",
        "\n",
        "import pathlib\n",
        "\n",
        "import matplotlib.pyplot as plt\n",
        "import pandas as pd\n",
        "import seaborn as sns\n",
        "import rarfile\n",
        "import csv\n",
        "\n",
        "\n",
        "import tensorflow as tf\n",
        "from tensorflow import keras\n",
        "from tensorflow.keras import layers\n",
        "\n",
        "print(tf.__version__)"
      ],
      "execution_count": 2,
      "outputs": [
        {
          "output_type": "stream",
          "text": [
            "1.13.1\n"
          ],
          "name": "stdout"
        }
      ]
    },
    {
      "metadata": {
        "id": "4l3p9sEOstD8",
        "colab_type": "code",
        "colab": {
          "base_uri": "https://localhost:8080/",
          "height": 139
        },
        "outputId": "822dbcf2-2e21-4c64-f71f-6c43713521b0"
      },
      "cell_type": "code",
      "source": [
        "# Clone the data into Colab\n",
        "! git clone https://github.com/pabloinsente/CovNet_Human_Drawings\n",
        "# Run this just once per sesion"
      ],
      "execution_count": 3,
      "outputs": [
        {
          "output_type": "stream",
          "text": [
            "Cloning into 'CovNet_Human_Drawings'...\n",
            "remote: Enumerating objects: 498, done.\u001b[K\n",
            "remote: Counting objects: 100% (498/498), done.\u001b[K\n",
            "remote: Compressing objects: 100% (434/434), done.\u001b[K\n",
            "remote: Total 498 (delta 93), reused 438 (delta 60), pack-reused 0\u001b[K\n",
            "Receiving objects: 100% (498/498), 43.07 MiB | 44.20 MiB/s, done.\n",
            "Resolving deltas: 100% (93/93), done.\n"
          ],
          "name": "stdout"
        }
      ]
    },
    {
      "metadata": {
        "id": "-fVfnHW3Bf-l",
        "colab_type": "text"
      },
      "cell_type": "markdown",
      "source": [
        "## Data wrangling - Dataframe for Neural Net"
      ]
    },
    {
      "metadata": {
        "id": "km82JkFos1NH",
        "colab_type": "code",
        "colab": {
          "base_uri": "https://localhost:8080/",
          "height": 52
        },
        "outputId": "46c4c2f9-621c-4138-e7d1-c964d3c7012b"
      },
      "cell_type": "code",
      "source": [
        "# Read csv files from compressed rar file and convert into a dataframe\n",
        "rar_path = rarfile.RarFile(\"CovNet_Human_Drawings/data/vectors_features/vgg19_vectors_drawings_block5_pool_all.rar\")\n",
        "csv_file_name = \"vgg19_vectors_drawings_block5_pool_all.csv\"\n",
        "rar_file = rarfile.RarFile.open(rar_path, csv_file_name)\n",
        "raw_dataset = pd.read_csv(rar_file, sep=\",\", header=None)\n",
        "print(raw_dataset.shape)\n",
        "print(type(raw_dataset))"
      ],
      "execution_count": 20,
      "outputs": [
        {
          "output_type": "stream",
          "text": [
            "(258, 25088)\n",
            "<class 'pandas.core.frame.DataFrame'>\n"
          ],
          "name": "stdout"
        }
      ]
    },
    {
      "metadata": {
        "id": "eOZuhSLCv075",
        "colab_type": "code",
        "colab": {
          "base_uri": "https://localhost:8080/",
          "height": 52
        },
        "outputId": "f3cbabc7-233f-402f-f864-2f2682e508be"
      },
      "cell_type": "code",
      "source": [
        "# create headers for vectors\n",
        "n_vectors = raw_dataset.shape[1]\n",
        "col_list =[]\n",
        "[col_list.append(\"vector_{}\".format(vector)) for vector in range(n_vectors)]\n",
        "print(col_list[0:5])\n",
        "print(len(col_list))"
      ],
      "execution_count": 49,
      "outputs": [
        {
          "output_type": "stream",
          "text": [
            "['vector_0', 'vector_1', 'vector_2', 'vector_3', 'vector_4']\n",
            "25088\n"
          ],
          "name": "stdout"
        }
      ]
    },
    {
      "metadata": {
        "id": "tMSGem9N4Wet",
        "colab_type": "code",
        "colab": {
          "base_uri": "https://localhost:8080/",
          "height": 520
        },
        "outputId": "7a4a62d7-0dbf-43b2-e63e-c06147eb0ff3"
      },
      "cell_type": "code",
      "source": [
        "# add headers to vectors in raw dataframe\n",
        "raw_dataset.columns = col_list\n",
        "print(raw_dataset.head())"
      ],
      "execution_count": 38,
      "outputs": [
        {
          "output_type": "stream",
          "text": [
            "   vector_0  vector_1  vector_2  vector_3  vector_4  vector_5  vector_6  \\\n",
            "0       0.0       0.0       0.0       0.0       0.0       0.0       0.0   \n",
            "1       0.0       0.0       0.0       0.0       0.0       0.0       0.0   \n",
            "2       0.0       0.0       0.0       0.0       0.0       0.0       0.0   \n",
            "3       0.0       0.0       0.0       0.0       0.0       0.0       0.0   \n",
            "4       0.0       0.0       0.0       0.0       0.0       0.0       0.0   \n",
            "\n",
            "   vector_7  vector_8  vector_9      ...       vector_25078  vector_25079  \\\n",
            "0       0.0       0.0       0.0      ...                0.0           0.0   \n",
            "1       0.0       0.0       0.0      ...                0.0           0.0   \n",
            "2       0.0       0.0       0.0      ...                0.0           0.0   \n",
            "3       0.0       0.0       0.0      ...                0.0           0.0   \n",
            "4       0.0       0.0       0.0      ...                0.0           0.0   \n",
            "\n",
            "   vector_25080  vector_25081  vector_25082  vector_25083  vector_25084  \\\n",
            "0           0.0           0.0      0.000000           0.0           0.0   \n",
            "1           0.0           0.0      2.030937           0.0           0.0   \n",
            "2           0.0           0.0      0.000000           0.0           0.0   \n",
            "3           0.0           0.0      0.000000           0.0           0.0   \n",
            "4           0.0           0.0      0.000000           0.0           0.0   \n",
            "\n",
            "   vector_25085  vector_25086  vector_25087  \n",
            "0           0.0           0.0           0.0  \n",
            "1           0.0           0.0           0.0  \n",
            "2           0.0           0.0           0.0  \n",
            "3           0.0           0.0           0.0  \n",
            "4           0.0           0.0           0.0  \n",
            "\n",
            "[5 rows x 25088 columns]\n"
          ],
          "name": "stdout"
        }
      ]
    },
    {
      "metadata": {
        "id": "pU1r4ng-zXOG",
        "colab_type": "code",
        "colab": {
          "base_uri": "https://localhost:8080/",
          "height": 35
        },
        "outputId": "54d6ce59-789c-4852-e7da-a761c2b17b3d"
      },
      "cell_type": "code",
      "source": [
        "# Get the drwawings filenames from directory \n",
        "from os import listdir\n",
        "from os.path import isfile, join\n",
        "\n",
        "path = 'CovNet_Human_Drawings/data/human_drawings_all/'\n",
        "filenames = [f for f in listdir(path) if isfile(join(path, f))]\n",
        "len(filenames) # This should yield 258 "
      ],
      "execution_count": 18,
      "outputs": [
        {
          "output_type": "execute_result",
          "data": {
            "text/plain": [
              "258"
            ]
          },
          "metadata": {
            "tags": []
          },
          "execution_count": 18
        }
      ]
    },
    {
      "metadata": {
        "id": "gUXHZ-fq7hHp",
        "colab_type": "code",
        "colab": {
          "base_uri": "https://localhost:8080/",
          "height": 52
        },
        "outputId": "f87e5b0f-54e9-4ac0-ec8b-9178e17ce877"
      },
      "cell_type": "code",
      "source": [
        "# Split the strings by the underscore and return the first element (row id for merging)\n",
        "filenames_crop = []\n",
        "n_id = len(filenames)\n",
        "[filenames_crop.append(filenames[id].split('_')[0]) for id in range(n_id)]\n",
        "print(filenames_crop[0:5])\n",
        "print(len(filenames_crop)) # this should yield 258"
      ],
      "execution_count": 98,
      "outputs": [
        {
          "output_type": "stream",
          "text": [
            "['DAM058', 'DAM041', 'DAM078', 'DAM027', 'DAM027']\n",
            "258\n"
          ],
          "name": "stdout"
        }
      ]
    },
    {
      "metadata": {
        "id": "jdLUGu8q9h2o",
        "colab_type": "code",
        "colab": {
          "base_uri": "https://localhost:8080/",
          "height": 52
        },
        "outputId": "07d62f83-9dcf-4c05-9b04-52e8256b7b2c"
      },
      "cell_type": "code",
      "source": [
        "# There is \"a\" in the filenames. To merge this dataframe with the metadata, \n",
        "# we need to change that to uppercasem e.g. DAMa025 needs to change to DAMA025\n",
        "filenames_up = [x.upper() for x in filenames_crop]\n",
        "print(filenames_up[0:5])\n",
        "print(len(filenames_up)) # this should yield 258"
      ],
      "execution_count": 99,
      "outputs": [
        {
          "output_type": "stream",
          "text": [
            "['DAM058', 'DAM041', 'DAM078', 'DAM027', 'DAM027']\n",
            "258\n"
          ],
          "name": "stdout"
        }
      ]
    },
    {
      "metadata": {
        "id": "qYsBYf0YzooU",
        "colab_type": "code",
        "colab": {
          "base_uri": "https://localhost:8080/",
          "height": 156
        },
        "outputId": "69c7a51b-2f86-4bb4-967a-213e0b189e79"
      },
      "cell_type": "code",
      "source": [
        "# Get rows ids as dataframe\n",
        "id_list = pd.DataFrame(filenames_up, columns=['id'])\n",
        "print(len(id_list)) # This should yield 258 \n",
        "print(type(id_list))\n",
        "print(id_list.head())"
      ],
      "execution_count": 54,
      "outputs": [
        {
          "output_type": "stream",
          "text": [
            "258\n",
            "<class 'pandas.core.frame.DataFrame'>\n",
            "       id\n",
            "0  DAM058\n",
            "1  DAM041\n",
            "2  DAM078\n",
            "3  DAM027\n",
            "4  DAM027\n"
          ],
          "name": "stdout"
        }
      ]
    },
    {
      "metadata": {
        "id": "2YbLtGskyvS6",
        "colab_type": "code",
        "colab": {
          "base_uri": "https://localhost:8080/",
          "height": 537
        },
        "outputId": "c686c851-46d4-4054-e55c-835ee14ab9ab"
      },
      "cell_type": "code",
      "source": [
        "# merge vector's id and raw vectors\n",
        "df_vectors = pd.concat([id_list, raw_dataset], axis=1)\n",
        "print(df_vectors.shape) # this should yield (258, 25089)\n",
        "print(df_vectors.head())"
      ],
      "execution_count": 55,
      "outputs": [
        {
          "output_type": "stream",
          "text": [
            "(258, 25089)\n",
            "       id  vector_0  vector_1  vector_2  vector_3  vector_4  vector_5  \\\n",
            "0  DAM058       0.0       0.0       0.0       0.0       0.0       0.0   \n",
            "1  DAM041       0.0       0.0       0.0       0.0       0.0       0.0   \n",
            "2  DAM078       0.0       0.0       0.0       0.0       0.0       0.0   \n",
            "3  DAM027       0.0       0.0       0.0       0.0       0.0       0.0   \n",
            "4  DAM027       0.0       0.0       0.0       0.0       0.0       0.0   \n",
            "\n",
            "   vector_6  vector_7  vector_8      ...       vector_25078  vector_25079  \\\n",
            "0       0.0       0.0       0.0      ...                0.0           0.0   \n",
            "1       0.0       0.0       0.0      ...                0.0           0.0   \n",
            "2       0.0       0.0       0.0      ...                0.0           0.0   \n",
            "3       0.0       0.0       0.0      ...                0.0           0.0   \n",
            "4       0.0       0.0       0.0      ...                0.0           0.0   \n",
            "\n",
            "   vector_25080  vector_25081  vector_25082  vector_25083  vector_25084  \\\n",
            "0           0.0           0.0      0.000000           0.0           0.0   \n",
            "1           0.0           0.0      2.030937           0.0           0.0   \n",
            "2           0.0           0.0      0.000000           0.0           0.0   \n",
            "3           0.0           0.0      0.000000           0.0           0.0   \n",
            "4           0.0           0.0      0.000000           0.0           0.0   \n",
            "\n",
            "   vector_25085  vector_25086  vector_25087  \n",
            "0           0.0           0.0           0.0  \n",
            "1           0.0           0.0           0.0  \n",
            "2           0.0           0.0           0.0  \n",
            "3           0.0           0.0           0.0  \n",
            "4           0.0           0.0           0.0  \n",
            "\n",
            "[5 rows x 25089 columns]\n"
          ],
          "name": "stdout"
        }
      ]
    },
    {
      "metadata": {
        "id": "1QG__dpY5oje",
        "colab_type": "code",
        "colab": {
          "base_uri": "https://localhost:8080/",
          "height": 659
        },
        "outputId": "7c620c25-740a-4f48-a179-327dd087e005"
      },
      "cell_type": "code",
      "source": [
        "# read metadata as pandas dataframe\n",
        "meta_patah= \"CovNet_Human_Drawings/data/metadata_participants/Study 1 DAM masterdata053117.csv\"\n",
        "df_metadata = pd.read_csv(meta_patah, sep=\",\")\n",
        "print(df_metadata.shape)\n",
        "print(df_metadata.head())"
      ],
      "execution_count": 57,
      "outputs": [
        {
          "output_type": "stream",
          "text": [
            "(107, 397)\n",
            "       id  drop IS_medium_order IS_shape_order IS_site  age_yr  age4g  female  \\\n",
            "0  DAM001     0             SPF            ABC     PSL    5.70      3     0.0   \n",
            "1  DAM002     0             FSP            ACB     PSL    5.42      3     1.0   \n",
            "2  DAM003     0             FSP            BAC     PSL    4.53      2     1.0   \n",
            "3  DAM004     0             SPF            BCA     PSL    5.37      3     0.0   \n",
            "4  DAM005     0             PFS            CBA     PSL    4.19      2     0.0   \n",
            "\n",
            "   adult  child        ...         PS_enjoy_electronic  PS_min_traditional  \\\n",
            "0    0.0    1.0        ...                         NaN                 NaN   \n",
            "1    0.0    1.0        ...                         7.0                  20   \n",
            "2    0.0    1.0        ...                         NaN                  30   \n",
            "3    0.0    1.0        ...                         NaN                 NaN   \n",
            "4    0.0    1.0        ...                        10.0                  15   \n",
            "\n",
            "   PS_min_electornic                                         PS_comment  \\\n",
            "0                NaN                                                NaN   \n",
            "1               20.0                                                NaN   \n",
            "2                NaN  Kids use kindle fire to watch shows  only. The...   \n",
            "3                NaN                                                NaN   \n",
            "4               40.0  Our child really enjoys electronic viewing and...   \n",
            "\n",
            "   asq_total  asq_communication  asq_grossmotor  asq_finemotor  \\\n",
            "0        NaN                NaN             NaN            NaN   \n",
            "1      265.0               55.0            35.0           55.0   \n",
            "2      290.0               60.0            60.0           55.0   \n",
            "3        NaN                NaN             NaN            NaN   \n",
            "4      265.0               45.0            55.0           55.0   \n",
            "\n",
            "   asq_problemsolving asq_personalsocial  \n",
            "0                 NaN                NaN  \n",
            "1                60.0               60.0  \n",
            "2                55.0               60.0  \n",
            "3                 NaN                NaN  \n",
            "4                60.0               50.0  \n",
            "\n",
            "[5 rows x 397 columns]\n"
          ],
          "name": "stdout"
        }
      ]
    },
    {
      "metadata": {
        "id": "aDcr5RvFAIkG",
        "colab_type": "code",
        "colab": {
          "base_uri": "https://localhost:8080/",
          "height": 139
        },
        "outputId": "b2b1150d-77fc-4d96-e156-cab3a1b05c6d"
      },
      "cell_type": "code",
      "source": [
        "# subset metadata; get id and age columns\n",
        "df_metadata_age = df_metadata[['id','age_yr']]\n",
        "print(df_metadata_age.shape)\n",
        "print(df_metadata_age.head())"
      ],
      "execution_count": 58,
      "outputs": [
        {
          "output_type": "stream",
          "text": [
            "(107, 2)\n",
            "       id  age_yr\n",
            "0  DAM001    5.70\n",
            "1  DAM002    5.42\n",
            "2  DAM003    4.53\n",
            "3  DAM004    5.37\n",
            "4  DAM005    4.19\n"
          ],
          "name": "stdout"
        }
      ]
    },
    {
      "metadata": {
        "id": "BjhDpj1o60xY",
        "colab_type": "code",
        "colab": {
          "base_uri": "https://localhost:8080/",
          "height": 537
        },
        "outputId": "0687b6fa-6c1c-44d7-81ac-5fa5d55d3182"
      },
      "cell_type": "code",
      "source": [
        "# merge metadata and vectors by id\n",
        "df_predict_age = pd.merge(df_metadata_age, df_vectors, on='id')\n",
        "print(df_predict_age.shape) # this should yield (258, 25090)\n",
        "print(df_predict_age.head())"
      ],
      "execution_count": 60,
      "outputs": [
        {
          "output_type": "stream",
          "text": [
            "(258, 25090)\n",
            "       id  age_yr  vector_0  vector_1  vector_2  vector_3  vector_4  vector_5  \\\n",
            "0  DAM001    5.70       0.0       0.0       0.0       0.0  0.000000  0.000000   \n",
            "1  DAM001    5.70       0.0       0.0       0.0       0.0  0.000000  8.308172   \n",
            "2  DAM001    5.70       0.0       0.0       0.0       0.0  2.121198  0.000000   \n",
            "3  DAM002    5.42       0.0       0.0       0.0       0.0  0.000000  0.000000   \n",
            "4  DAM002    5.42       0.0       0.0       0.0       0.0  0.000000  0.000000   \n",
            "\n",
            "   vector_6  vector_7      ...       vector_25078  vector_25079  vector_25080  \\\n",
            "0       0.0       0.0      ...                0.0           0.0      0.000000   \n",
            "1       0.0       0.0      ...                0.0           0.0     10.788058   \n",
            "2       0.0       0.0      ...                0.0           0.0      0.000000   \n",
            "3       0.0       0.0      ...                0.0           0.0     29.385056   \n",
            "4       0.0       0.0      ...                0.0           0.0      0.000000   \n",
            "\n",
            "   vector_25081  vector_25082  vector_25083  vector_25084  vector_25085  \\\n",
            "0           0.0      0.630956      0.000000           0.0           0.0   \n",
            "1           0.0      0.000000     22.443872           0.0           0.0   \n",
            "2           0.0      0.000000      0.000000           0.0           0.0   \n",
            "3           0.0      0.000000      0.000000           0.0           0.0   \n",
            "4           0.0      1.291875      0.000000           0.0           0.0   \n",
            "\n",
            "   vector_25086  vector_25087  \n",
            "0           0.0           0.0  \n",
            "1           0.0           0.0  \n",
            "2           0.0           0.0  \n",
            "3           0.0           0.0  \n",
            "4           0.0           0.0  \n",
            "\n",
            "[5 rows x 25090 columns]\n"
          ],
          "name": "stdout"
        }
      ]
    },
    {
      "metadata": {
        "id": "7HrhPqw1BAQU",
        "colab_type": "code",
        "colab": {}
      },
      "cell_type": "code",
      "source": [
        "# Let's export the pandas dataframe to a csv for later\n",
        "df_predict_age.to_csv(\"predict_age_from_vectors_block5_pool_all.csv\", sep=',')"
      ],
      "execution_count": 0,
      "outputs": []
    },
    {
      "metadata": {
        "id": "HJekx0_EDBvq",
        "colab_type": "text"
      },
      "cell_type": "markdown",
      "source": [
        "## Clean the data "
      ]
    },
    {
      "metadata": {
        "id": "WK980QDiBdPy",
        "colab_type": "code",
        "colab": {
          "base_uri": "https://localhost:8080/",
          "height": 69
        },
        "outputId": "fe898ef2-c072-4ca8-9d95-bf67b627f2ff"
      },
      "cell_type": "code",
      "source": [
        "# print NA values\n",
        "NA = df_predict_age.isna().sum()\n",
        "print(NA[0:2]) # we have 11 rows with missing values for age"
      ],
      "execution_count": 70,
      "outputs": [
        {
          "output_type": "stream",
          "text": [
            "id         0\n",
            "age_yr    11\n",
            "dtype: int64\n"
          ],
          "name": "stdout"
        }
      ]
    },
    {
      "metadata": {
        "id": "DGPaIBu4DQTc",
        "colab_type": "code",
        "colab": {}
      },
      "cell_type": "code",
      "source": [
        "from fancyimpute import IterativeImputer\n",
        "# IterativeImputer: A strategy for imputing missing values by modeling each \n",
        "# feature with missing values as a function of other features in a round-robin fashion.\n",
        "\n",
        "# IterativeImputer only works with scalar values so we have to get rid of \n",
        "# id label first \n",
        "df_predict_age_na = df_predict_age_na = df_predict_age.loc[:, df_predict_age.columns != 'id']\n",
        "\n",
        "# now we can do the imputation \n",
        "df_predict_age_imp = IterativeImputer().fit_transform(df_predict_age_na)"
      ],
      "execution_count": 0,
      "outputs": []
    },
    {
      "metadata": {
        "id": "uGa_osUKIW4h",
        "colab_type": "code",
        "colab": {
          "base_uri": "https://localhost:8080/",
          "height": 416
        },
        "outputId": "fa200707-ea4b-4db3-ffe4-020279684452"
      },
      "cell_type": "code",
      "source": [
        "# IterativeImputer returns a np array, so we need to change it back to pandas\n",
        "df_predict_age_pn = pd.DataFrame(df_predict_age_imp)\n",
        "print(type(df_predict_age_pn))\n",
        "print(df_predict_age_pn.head())"
      ],
      "execution_count": 83,
      "outputs": [
        {
          "output_type": "stream",
          "text": [
            "<class 'pandas.core.frame.DataFrame'>\n",
            "   0      1      2      3      4         5         6      7      8      9      \\\n",
            "0   5.70    0.0    0.0    0.0    0.0  0.000000  0.000000    0.0    0.0    0.0   \n",
            "1   5.70    0.0    0.0    0.0    0.0  0.000000  8.308172    0.0    0.0    0.0   \n",
            "2   5.70    0.0    0.0    0.0    0.0  2.121198  0.000000    0.0    0.0    0.0   \n",
            "3   5.42    0.0    0.0    0.0    0.0  0.000000  0.000000    0.0    0.0    0.0   \n",
            "4   5.42    0.0    0.0    0.0    0.0  0.000000  0.000000    0.0    0.0    0.0   \n",
            "\n",
            "   ...    25079  25080      25081  25082     25083      25084  25085  25086  \\\n",
            "0  ...      0.0    0.0   0.000000    0.0  0.630956   0.000000    0.0    0.0   \n",
            "1  ...      0.0    0.0  10.788058    0.0  0.000000  22.443872    0.0    0.0   \n",
            "2  ...      0.0    0.0   0.000000    0.0  0.000000   0.000000    0.0    0.0   \n",
            "3  ...      0.0    0.0  29.385056    0.0  0.000000   0.000000    0.0    0.0   \n",
            "4  ...      0.0    0.0   0.000000    0.0  1.291875   0.000000    0.0    0.0   \n",
            "\n",
            "   25087  25088  \n",
            "0    0.0    0.0  \n",
            "1    0.0    0.0  \n",
            "2    0.0    0.0  \n",
            "3    0.0    0.0  \n",
            "4    0.0    0.0  \n",
            "\n",
            "[5 rows x 25089 columns]\n"
          ],
          "name": "stdout"
        }
      ]
    },
    {
      "metadata": {
        "id": "092dDB52OnZY",
        "colab_type": "code",
        "colab": {
          "base_uri": "https://localhost:8080/",
          "height": 416
        },
        "outputId": "0d740a7c-0b38-451a-fba8-7f348b82cf45"
      },
      "cell_type": "code",
      "source": [
        "# merge vector's id and raw vectors\n",
        "df_predict_age_fix = pd.concat([id_list, df_predict_age_pn], axis=1)\n",
        "print(df_predict_age_fix.shape) # this should yield (258, 25089)\n",
        "print(df_predict_age_fix.head())"
      ],
      "execution_count": 91,
      "outputs": [
        {
          "output_type": "stream",
          "text": [
            "(258, 25090)\n",
            "       id     0    1    2    3    4         5         6    7    8  ...    \\\n",
            "0  DAM058  5.70  0.0  0.0  0.0  0.0  0.000000  0.000000  0.0  0.0  ...     \n",
            "1  DAM041  5.70  0.0  0.0  0.0  0.0  0.000000  8.308172  0.0  0.0  ...     \n",
            "2  DAM078  5.70  0.0  0.0  0.0  0.0  2.121198  0.000000  0.0  0.0  ...     \n",
            "3  DAM027  5.42  0.0  0.0  0.0  0.0  0.000000  0.000000  0.0  0.0  ...     \n",
            "4  DAM027  5.42  0.0  0.0  0.0  0.0  0.000000  0.000000  0.0  0.0  ...     \n",
            "\n",
            "   25079  25080      25081  25082     25083      25084  25085  25086  25087  \\\n",
            "0    0.0    0.0   0.000000    0.0  0.630956   0.000000    0.0    0.0    0.0   \n",
            "1    0.0    0.0  10.788058    0.0  0.000000  22.443872    0.0    0.0    0.0   \n",
            "2    0.0    0.0   0.000000    0.0  0.000000   0.000000    0.0    0.0    0.0   \n",
            "3    0.0    0.0  29.385056    0.0  0.000000   0.000000    0.0    0.0    0.0   \n",
            "4    0.0    0.0   0.000000    0.0  1.291875   0.000000    0.0    0.0    0.0   \n",
            "\n",
            "   25088  \n",
            "0    0.0  \n",
            "1    0.0  \n",
            "2    0.0  \n",
            "3    0.0  \n",
            "4    0.0  \n",
            "\n",
            "[5 rows x 25090 columns]\n"
          ],
          "name": "stdout"
        }
      ]
    },
    {
      "metadata": {
        "id": "J-X3gEwiO84u",
        "colab_type": "code",
        "colab": {
          "base_uri": "https://localhost:8080/",
          "height": 35
        },
        "outputId": "2dee9668-0e1c-42e0-81e0-e7ac3dc2b7a7"
      },
      "cell_type": "code",
      "source": [
        "# let's get the original col names to add that back to the new dataframe\n",
        "col_names = list(df_predict_age.columns.values)\n",
        "print(col_names[0:5])"
      ],
      "execution_count": 97,
      "outputs": [
        {
          "output_type": "stream",
          "text": [
            "['id', 'age_yr', 'vector_0', 'vector_1', 'vector_2']\n"
          ],
          "name": "stdout"
        }
      ]
    },
    {
      "metadata": {
        "id": "eCW4PUd3LJ1Y",
        "colab_type": "code",
        "colab": {
          "base_uri": "https://localhost:8080/",
          "height": 520
        },
        "outputId": "4fd7e55b-2ac4-420b-c304-e0270fbaa87b"
      },
      "cell_type": "code",
      "source": [
        "# add headers to vectors into dataframe after imputation\n",
        "df_predict_age_fix.columns = col_names\n",
        "print(df_predict_age_fix.head())"
      ],
      "execution_count": 93,
      "outputs": [
        {
          "output_type": "stream",
          "text": [
            "       id  age_yr  vector_0  vector_1  vector_2  vector_3  vector_4  vector_5  \\\n",
            "0  DAM058    5.70       0.0       0.0       0.0       0.0  0.000000  0.000000   \n",
            "1  DAM041    5.70       0.0       0.0       0.0       0.0  0.000000  8.308172   \n",
            "2  DAM078    5.70       0.0       0.0       0.0       0.0  2.121198  0.000000   \n",
            "3  DAM027    5.42       0.0       0.0       0.0       0.0  0.000000  0.000000   \n",
            "4  DAM027    5.42       0.0       0.0       0.0       0.0  0.000000  0.000000   \n",
            "\n",
            "   vector_6  vector_7      ...       vector_25078  vector_25079  vector_25080  \\\n",
            "0       0.0       0.0      ...                0.0           0.0      0.000000   \n",
            "1       0.0       0.0      ...                0.0           0.0     10.788058   \n",
            "2       0.0       0.0      ...                0.0           0.0      0.000000   \n",
            "3       0.0       0.0      ...                0.0           0.0     29.385056   \n",
            "4       0.0       0.0      ...                0.0           0.0      0.000000   \n",
            "\n",
            "   vector_25081  vector_25082  vector_25083  vector_25084  vector_25085  \\\n",
            "0           0.0      0.630956      0.000000           0.0           0.0   \n",
            "1           0.0      0.000000     22.443872           0.0           0.0   \n",
            "2           0.0      0.000000      0.000000           0.0           0.0   \n",
            "3           0.0      0.000000      0.000000           0.0           0.0   \n",
            "4           0.0      1.291875      0.000000           0.0           0.0   \n",
            "\n",
            "   vector_25086  vector_25087  \n",
            "0           0.0           0.0  \n",
            "1           0.0           0.0  \n",
            "2           0.0           0.0  \n",
            "3           0.0           0.0  \n",
            "4           0.0           0.0  \n",
            "\n",
            "[5 rows x 25090 columns]\n"
          ],
          "name": "stdout"
        }
      ]
    },
    {
      "metadata": {
        "id": "hubhvGiPGaxc",
        "colab_type": "code",
        "colab": {
          "base_uri": "https://localhost:8080/",
          "height": 121
        },
        "outputId": "a3f8f031-f6ef-4c9c-e176-42227f1df8c6"
      },
      "cell_type": "code",
      "source": [
        "# print NA values before imputation\n",
        "NA = df_predict_age.isna().sum()\n",
        "print(NA[0:2]) # we have 11 rows with missing values for age\n",
        "\n",
        "# print NA values after imputation\n",
        "NA_imp = df_predict_age_fix.isna().sum()\n",
        "print(NA_imp[0:2]) # Now we have 0 NA values in our new dataframe"
      ],
      "execution_count": 94,
      "outputs": [
        {
          "output_type": "stream",
          "text": [
            "id         0\n",
            "age_yr    11\n",
            "dtype: int64\n",
            "id        0\n",
            "age_yr    0\n",
            "dtype: int64\n"
          ],
          "name": "stdout"
        }
      ]
    },
    {
      "metadata": {
        "id": "n5lhZPWIPpfm",
        "colab_type": "code",
        "colab": {}
      },
      "cell_type": "code",
      "source": [
        "# Let's export the pandas dataframe to a csv for later\n",
        "df_predict_age_fix.to_csv(\"predict_age_from_vectors_block5_pool_all_imp.csv\", sep=',')"
      ],
      "execution_count": 0,
      "outputs": []
    },
    {
      "metadata": {
        "id": "Zv9CimhUQATE",
        "colab_type": "text"
      },
      "cell_type": "markdown",
      "source": [
        "## Split the data into train and test for training"
      ]
    },
    {
      "metadata": {
        "id": "P7Rgqx7LZTz6",
        "colab_type": "text"
      },
      "cell_type": "markdown",
      "source": [
        "To avoid re-running the data wrangling process, now we can load the dataset from memory. We can skip everything above this section by running the two cells below"
      ]
    },
    {
      "metadata": {
        "id": "S4BcT9z1Y_xW",
        "colab_type": "code",
        "colab": {}
      },
      "cell_type": "code",
      "source": [
        "from __future__ import absolute_import, division, print_function\n",
        "\n",
        "import pathlib\n",
        "\n",
        "import matplotlib.pyplot as plt\n",
        "import pandas as pd\n",
        "import seaborn as sns\n",
        "import rarfile\n",
        "import csv\n",
        "\n",
        "\n",
        "import tensorflow as tf\n",
        "from tensorflow import keras\n",
        "from tensorflow.keras import layers\n",
        "\n",
        "print(tf.__version__)"
      ],
      "execution_count": 0,
      "outputs": []
    },
    {
      "metadata": {
        "id": "0K1HA8-1Zt2K",
        "colab_type": "code",
        "colab": {}
      },
      "cell_type": "code",
      "source": [
        "# Run this only if you haven't clone the data before\n",
        "# Clone the data into Colab\n",
        "! git clone https://github.com/pabloinsente/CovNet_Human_Drawings"
      ],
      "execution_count": 0,
      "outputs": []
    },
    {
      "metadata": {
        "id": "tG_U8SqXYNmz",
        "colab_type": "code",
        "colab": {}
      },
      "cell_type": "code",
      "source": [
        "df_path = \"CovNet_Human_Drawings/data/merged_dataframes_prediction/predict_age_from_vectors_block5_pool_all_imp.csv\"\n",
        "df_net = pd.read_csv(df_path, sep=\",\")\n",
        "print(df_net.shape)\n",
        "print(df_net.head())"
      ],
      "execution_count": 0,
      "outputs": []
    },
    {
      "metadata": {
        "id": "Wxckuju1QG23",
        "colab_type": "code",
        "colab": {}
      },
      "cell_type": "code",
      "source": [
        "# We will use 80% of the data for training and 20% for testing\n",
        "train_dataset = df_net.sample(frac=0.8,random_state=0)\n",
        "test_dataset = df_net.drop(train_dataset.index)"
      ],
      "execution_count": 0,
      "outputs": []
    },
    {
      "metadata": {
        "id": "00gHK_iRRYAW",
        "colab_type": "code",
        "colab": {}
      },
      "cell_type": "code",
      "source": [
        "# We will skip exploring the data because we have ~25,000 uninterpretable features"
      ],
      "execution_count": 0,
      "outputs": []
    },
    {
      "metadata": {
        "id": "LbvMJhk1RZWw",
        "colab_type": "text"
      },
      "cell_type": "markdown",
      "source": [
        "## Split features from labels\n"
      ]
    },
    {
      "metadata": {
        "id": "SbF2wT2oRbpn",
        "colab_type": "code",
        "colab": {}
      },
      "cell_type": "code",
      "source": [
        "# Separate the target value, or \"label\", from the features, \"agre_yr\" \n",
        "# This label is the value that we will train the model to predict.\n",
        "train_labels = train_dataset.pop('age_yr')\n",
        "test_labels = test_dataset.pop('age_yr')"
      ],
      "execution_count": 0,
      "outputs": []
    }
  ]
}