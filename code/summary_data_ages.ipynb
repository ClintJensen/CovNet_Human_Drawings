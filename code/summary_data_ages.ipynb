{
  "nbformat": 4,
  "nbformat_minor": 0,
  "metadata": {
    "colab": {
      "name": "Untitled2.ipynb",
      "version": "0.3.2",
      "provenance": [],
      "include_colab_link": true
    },
    "kernelspec": {
      "name": "python3",
      "display_name": "Python 3"
    }
  },
  "cells": [
    {
      "cell_type": "markdown",
      "metadata": {
        "id": "view-in-github",
        "colab_type": "text"
      },
      "source": [
        "<a href=\"https://colab.research.google.com/github/pabloinsente/CovNet_Human_Drawings/blob/master/code/summary_data_ages.ipynb\" target=\"_parent\"><img src=\"https://colab.research.google.com/assets/colab-badge.svg\" alt=\"Open In Colab\"/></a>"
      ]
    },
    {
      "cell_type": "code",
      "metadata": {
        "id": "hfnyNhNSrvCQ",
        "colab_type": "code",
        "colab": {}
      },
      "source": [
        "import pandas as pd\n",
        "import seaborn as sns"
      ],
      "execution_count": 0,
      "outputs": []
    },
    {
      "cell_type": "code",
      "metadata": {
        "id": "hKPue_Txrxph",
        "colab_type": "code",
        "outputId": "743d604c-a4a5-42c7-afd6-fa9557816d79",
        "colab": {
          "base_uri": "https://localhost:8080/",
          "height": 35
        }
      },
      "source": [
        "# Clone the data into Colab\n",
        "! git clone https://github.com/pabloinsente/CovNet_Human_Drawings"
      ],
      "execution_count": 0,
      "outputs": [
        {
          "output_type": "stream",
          "text": [
            "fatal: destination path 'CovNet_Human_Drawings' already exists and is not an empty directory.\n"
          ],
          "name": "stdout"
        }
      ]
    },
    {
      "cell_type": "code",
      "metadata": {
        "id": "igP3p3crrs0V",
        "colab_type": "code",
        "colab": {}
      },
      "source": [
        "# read metadata as pandas dataframe\n",
        "meta_path= \"CovNet_Human_Drawings/data/merged_dataframes_prediction/predict_age_from_vectors_block5_pool_all.csv\"\n",
        "df_metadata = pd.read_csv(meta_path, sep=\",\")"
      ],
      "execution_count": 0,
      "outputs": []
    },
    {
      "cell_type": "code",
      "metadata": {
        "id": "G7_9Vg4lr9HL",
        "colab_type": "code",
        "outputId": "2a357739-6c47-4527-e4c2-5186a851362a",
        "colab": {
          "base_uri": "https://localhost:8080/",
          "height": 173
        }
      },
      "source": [
        "# Children age summary\n",
        "# Filter by 'adult' == 0 -> pick 'age_year' col -> describe()\n",
        "df_metadata.loc[df_metadata['adult'] == 0]['age_yr'].describe()"
      ],
      "execution_count": 0,
      "outputs": [
        {
          "output_type": "execute_result",
          "data": {
            "text/plain": [
              "count    205.000000\n",
              "mean       4.015610\n",
              "std        1.302883\n",
              "min        1.830000\n",
              "25%        2.930000\n",
              "50%        4.020000\n",
              "75%        4.960000\n",
              "max        7.700000\n",
              "Name: age_yr, dtype: float64"
            ]
          },
          "metadata": {
            "tags": []
          },
          "execution_count": 4
        }
      ]
    },
    {
      "cell_type": "code",
      "metadata": {
        "id": "05IbyLELsCZO",
        "colab_type": "code",
        "outputId": "7775fdea-bdee-416c-a7a9-d53707eede71",
        "colab": {
          "base_uri": "https://localhost:8080/",
          "height": 173
        }
      },
      "source": [
        "# Adults age summary \n",
        "# Filter by 'adult' == 1 -> pick 'age_year' col -> describe()\n",
        "df_metadata.loc[df_metadata['adult'] == 1]['age_yr'].describe()"
      ],
      "execution_count": 0,
      "outputs": [
        {
          "output_type": "execute_result",
          "data": {
            "text/plain": [
              "count    42.000000\n",
              "mean     20.595714\n",
              "std       0.845121\n",
              "min      19.100000\n",
              "25%      19.910000\n",
              "50%      20.790000\n",
              "75%      21.170000\n",
              "max      22.010000\n",
              "Name: age_yr, dtype: float64"
            ]
          },
          "metadata": {
            "tags": []
          },
          "execution_count": 5
        }
      ]
    }
  ]
}