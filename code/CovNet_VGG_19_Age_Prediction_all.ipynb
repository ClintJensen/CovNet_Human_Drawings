{
  "nbformat": 4,
  "nbformat_minor": 0,
  "metadata": {
    "colab": {
      "name": "CovNet_VGG-19_Age_Prediction.ipynb",
      "version": "0.3.2",
      "provenance": [],
      "toc_visible": true,
      "include_colab_link": true
    },
    "kernelspec": {
      "name": "python3",
      "display_name": "Python 3"
    },
    "accelerator": "GPU"
  },
  "cells": [
    {
      "cell_type": "markdown",
      "metadata": {
        "id": "view-in-github",
        "colab_type": "text"
      },
      "source": [
        "<a href=\"https://colab.research.google.com/github/pabloinsente/CovNet_Human_Drawings/blob/master/code/CovNet_VGG_19_Age_Prediction_all.ipynb\" target=\"_parent\"><img src=\"https://colab.research.google.com/assets/colab-badge.svg\" alt=\"Open In Colab\"/></a>"
      ]
    },
    {
      "metadata": {
        "id": "UPEF0uZFBq7f",
        "colab_type": "text"
      },
      "cell_type": "markdown",
      "source": [
        "# Age prediction from features extracted from drawings with VGG-19 CovNet"
      ]
    },
    {
      "metadata": {
        "id": "mEh6ibgkrxpu",
        "colab_type": "code",
        "outputId": "ad0c8a67-db80-42e7-cff7-249cb472af68",
        "colab": {
          "base_uri": "https://localhost:8080/",
          "height": 193
        }
      },
      "cell_type": "code",
      "source": [
        "# install seaborn for pairplot\n",
        "!pip install -q seaborn\n",
        "# install rarfile to read feature file\n",
        "!pip install rarfile"
      ],
      "execution_count": 1,
      "outputs": [
        {
          "output_type": "stream",
          "text": [
            "Collecting rarfile\n",
            "\u001b[?25l  Downloading https://files.pythonhosted.org/packages/de/a4/8b4abc72310da6fa53b6de8de1019e0516885d05369d6c91cba23476abe5/rarfile-3.0.tar.gz (110kB)\n",
            "\u001b[K    100% |████████████████████████████████| 112kB 6.2MB/s \n",
            "\u001b[?25hBuilding wheels for collected packages: rarfile\n",
            "  Building wheel for rarfile (setup.py) ... \u001b[?25ldone\n",
            "\u001b[?25h  Stored in directory: /root/.cache/pip/wheels/dc/84/da/8aff50941f548db5384b076d5a6a6afea0cd12672e0326edc4\n",
            "Successfully built rarfile\n",
            "Installing collected packages: rarfile\n",
            "Successfully installed rarfile-3.0\n"
          ],
          "name": "stdout"
        }
      ]
    },
    {
      "metadata": {
        "id": "v44IMLpHsijn",
        "colab_type": "code",
        "outputId": "ac00f08e-2482-4d54-ee2f-11f7a4c2cf5c",
        "colab": {
          "base_uri": "https://localhost:8080/",
          "height": 35
        }
      },
      "cell_type": "code",
      "source": [
        "from __future__ import absolute_import, division, print_function\n",
        "\n",
        "import pathlib\n",
        "\n",
        "import matplotlib.pyplot as plt\n",
        "import pandas as pd\n",
        "import seaborn as sns\n",
        "import rarfile\n",
        "import csv\n",
        "\n",
        "\n",
        "import tensorflow as tf\n",
        "from tensorflow import keras\n",
        "from tensorflow.keras import layers\n",
        "\n",
        "print(tf.__version__)"
      ],
      "execution_count": 2,
      "outputs": [
        {
          "output_type": "stream",
          "text": [
            "1.13.1\n"
          ],
          "name": "stdout"
        }
      ]
    },
    {
      "metadata": {
        "id": "4l3p9sEOstD8",
        "colab_type": "code",
        "outputId": "4b46459e-ec03-4609-e0c5-4205b5555385",
        "colab": {
          "base_uri": "https://localhost:8080/",
          "height": 139
        }
      },
      "cell_type": "code",
      "source": [
        "# Clone the data into Colab\n",
        "! git clone https://github.com/pabloinsente/CovNet_Human_Drawings\n",
        "# Run this just once per sesion"
      ],
      "execution_count": 3,
      "outputs": [
        {
          "output_type": "stream",
          "text": [
            "Cloning into 'CovNet_Human_Drawings'...\n",
            "remote: Enumerating objects: 5, done.\u001b[K\n",
            "remote: Counting objects:  20% (1/5)   \u001b[K\rremote: Counting objects:  40% (2/5)   \u001b[K\rremote: Counting objects:  60% (3/5)   \u001b[K\rremote: Counting objects:  80% (4/5)   \u001b[K\rremote: Counting objects: 100% (5/5)   \u001b[K\rremote: Counting objects: 100% (5/5), done.\u001b[K\n",
            "remote: Compressing objects: 100% (5/5), done.\u001b[K\n",
            "remote: Total 532 (delta 0), reused 1 (delta 0), pack-reused 527\u001b[K\n",
            "Receiving objects: 100% (532/532), 47.28 MiB | 21.90 MiB/s, done.\n",
            "Resolving deltas: 100% (110/110), done.\n"
          ],
          "name": "stdout"
        }
      ]
    },
    {
      "metadata": {
        "id": "gwEDpQSM1y5l",
        "colab_type": "text"
      },
      "cell_type": "markdown",
      "source": [
        "# Data Wrangling"
      ]
    },
    {
      "metadata": {
        "id": "-fVfnHW3Bf-l",
        "colab_type": "text"
      },
      "cell_type": "markdown",
      "source": [
        "## Reading dataframe from CovNet for Neural Net"
      ]
    },
    {
      "metadata": {
        "id": "km82JkFos1NH",
        "colab_type": "code",
        "outputId": "6c96eb14-bbe2-48c2-9d4e-540bdfc4af55",
        "colab": {
          "base_uri": "https://localhost:8080/",
          "height": 52
        }
      },
      "cell_type": "code",
      "source": [
        "# Read csv files from compressed rar file and convert into a dataframe\n",
        "rar_path = rarfile.RarFile(\"CovNet_Human_Drawings/data/vectors_features/vgg19_vectors_drawings_block5_pool_all.rar\")\n",
        "csv_file_name = \"vgg19_vectors_drawings_block5_pool_all.csv\"\n",
        "rar_file = rarfile.RarFile.open(rar_path, csv_file_name)\n",
        "raw_dataset = pd.read_csv(rar_file, sep=\",\", header=None)\n",
        "print(raw_dataset.shape)\n",
        "print(type(raw_dataset))"
      ],
      "execution_count": 4,
      "outputs": [
        {
          "output_type": "stream",
          "text": [
            "(258, 25088)\n",
            "<class 'pandas.core.frame.DataFrame'>\n"
          ],
          "name": "stdout"
        }
      ]
    },
    {
      "metadata": {
        "id": "eOZuhSLCv075",
        "colab_type": "code",
        "outputId": "bac9bfd4-971f-4ecb-e0de-d524baba33bd",
        "colab": {
          "base_uri": "https://localhost:8080/",
          "height": 52
        }
      },
      "cell_type": "code",
      "source": [
        "# create headers for vectors\n",
        "n_vectors = raw_dataset.shape[1]\n",
        "col_list =[]\n",
        "[col_list.append(\"vector_{}\".format(vector)) for vector in range(n_vectors)]\n",
        "print(col_list[0:5])\n",
        "print(len(col_list))"
      ],
      "execution_count": 5,
      "outputs": [
        {
          "output_type": "stream",
          "text": [
            "['vector_0', 'vector_1', 'vector_2', 'vector_3', 'vector_4']\n",
            "25088\n"
          ],
          "name": "stdout"
        }
      ]
    },
    {
      "metadata": {
        "id": "tMSGem9N4Wet",
        "colab_type": "code",
        "outputId": "d62b43f6-cfd2-4544-ce35-37b43e0b045c",
        "colab": {
          "base_uri": "https://localhost:8080/",
          "height": 520
        }
      },
      "cell_type": "code",
      "source": [
        "# add headers to vectors in raw dataframe\n",
        "raw_dataset.columns = col_list\n",
        "print(raw_dataset.head())"
      ],
      "execution_count": 6,
      "outputs": [
        {
          "output_type": "stream",
          "text": [
            "   vector_0  vector_1  vector_2  vector_3  vector_4  vector_5  vector_6  \\\n",
            "0       0.0       0.0       0.0       0.0       0.0       0.0       0.0   \n",
            "1       0.0       0.0       0.0       0.0       0.0       0.0       0.0   \n",
            "2       0.0       0.0       0.0       0.0       0.0       0.0       0.0   \n",
            "3       0.0       0.0       0.0       0.0       0.0       0.0       0.0   \n",
            "4       0.0       0.0       0.0       0.0       0.0       0.0       0.0   \n",
            "\n",
            "   vector_7  vector_8  vector_9      ...       vector_25078  vector_25079  \\\n",
            "0       0.0       0.0       0.0      ...                0.0           0.0   \n",
            "1       0.0       0.0       0.0      ...                0.0           0.0   \n",
            "2       0.0       0.0       0.0      ...                0.0           0.0   \n",
            "3       0.0       0.0       0.0      ...                0.0           0.0   \n",
            "4       0.0       0.0       0.0      ...                0.0           0.0   \n",
            "\n",
            "   vector_25080  vector_25081  vector_25082  vector_25083  vector_25084  \\\n",
            "0           0.0           0.0      0.000000           0.0           0.0   \n",
            "1           0.0           0.0      2.030937           0.0           0.0   \n",
            "2           0.0           0.0      0.000000           0.0           0.0   \n",
            "3           0.0           0.0      0.000000           0.0           0.0   \n",
            "4           0.0           0.0      0.000000           0.0           0.0   \n",
            "\n",
            "   vector_25085  vector_25086  vector_25087  \n",
            "0           0.0           0.0           0.0  \n",
            "1           0.0           0.0           0.0  \n",
            "2           0.0           0.0           0.0  \n",
            "3           0.0           0.0           0.0  \n",
            "4           0.0           0.0           0.0  \n",
            "\n",
            "[5 rows x 25088 columns]\n"
          ],
          "name": "stdout"
        }
      ]
    },
    {
      "metadata": {
        "id": "pU1r4ng-zXOG",
        "colab_type": "code",
        "outputId": "ea5ed2cc-fcda-430c-9f0e-a83f7935687d",
        "colab": {
          "base_uri": "https://localhost:8080/",
          "height": 35
        }
      },
      "cell_type": "code",
      "source": [
        "# Get the drwawings filenames from directory \n",
        "from os import listdir\n",
        "from os.path import isfile, join\n",
        "\n",
        "path = 'CovNet_Human_Drawings/data/human_drawings_all/'\n",
        "filenames = [f for f in listdir(path) if isfile(join(path, f))]\n",
        "len(filenames) # This should yield 258 "
      ],
      "execution_count": 7,
      "outputs": [
        {
          "output_type": "execute_result",
          "data": {
            "text/plain": [
              "258"
            ]
          },
          "metadata": {
            "tags": []
          },
          "execution_count": 7
        }
      ]
    },
    {
      "metadata": {
        "id": "gUXHZ-fq7hHp",
        "colab_type": "code",
        "outputId": "fe14874e-2be0-4caa-c140-29f5bcac910a",
        "colab": {
          "base_uri": "https://localhost:8080/",
          "height": 52
        }
      },
      "cell_type": "code",
      "source": [
        "# Split the strings by the underscore and return the first element (row id for merging)\n",
        "filenames_crop = []\n",
        "n_id = len(filenames)\n",
        "[filenames_crop.append(filenames[id].split('_')[0]) for id in range(n_id)]\n",
        "print(filenames_crop[0:5])\n",
        "print(len(filenames_crop)) # this should yield 258"
      ],
      "execution_count": 8,
      "outputs": [
        {
          "output_type": "stream",
          "text": [
            "['DAM004', 'DAMa016', 'DAM081', 'DAM060', 'DAM066']\n",
            "258\n"
          ],
          "name": "stdout"
        }
      ]
    },
    {
      "metadata": {
        "id": "jdLUGu8q9h2o",
        "colab_type": "code",
        "outputId": "5afc2cfa-5544-4cbf-d822-3bfd5c694cc1",
        "colab": {
          "base_uri": "https://localhost:8080/",
          "height": 52
        }
      },
      "cell_type": "code",
      "source": [
        "# There is \"a\" in the filenames. To merge this dataframe with the metadata, \n",
        "# we need to change that to uppercasem e.g. DAMa025 needs to change to DAMA025\n",
        "filenames_up = [x.upper() for x in filenames_crop]\n",
        "print(filenames_up[0:5])\n",
        "print(len(filenames_up)) # this should yield 258"
      ],
      "execution_count": 9,
      "outputs": [
        {
          "output_type": "stream",
          "text": [
            "['DAM004', 'DAMA016', 'DAM081', 'DAM060', 'DAM066']\n",
            "258\n"
          ],
          "name": "stdout"
        }
      ]
    },
    {
      "metadata": {
        "id": "qYsBYf0YzooU",
        "colab_type": "code",
        "outputId": "77bf476b-cc4c-43ea-a9f9-821b7db8c10a",
        "colab": {
          "base_uri": "https://localhost:8080/",
          "height": 156
        }
      },
      "cell_type": "code",
      "source": [
        "# Get rows ids as dataframe\n",
        "id_list = pd.DataFrame(filenames_up, columns=['id'])\n",
        "print(len(id_list)) # This should yield 258 \n",
        "print(type(id_list))\n",
        "print(id_list.head())"
      ],
      "execution_count": 10,
      "outputs": [
        {
          "output_type": "stream",
          "text": [
            "258\n",
            "<class 'pandas.core.frame.DataFrame'>\n",
            "        id\n",
            "0   DAM004\n",
            "1  DAMA016\n",
            "2   DAM081\n",
            "3   DAM060\n",
            "4   DAM066\n"
          ],
          "name": "stdout"
        }
      ]
    },
    {
      "metadata": {
        "id": "2YbLtGskyvS6",
        "colab_type": "code",
        "outputId": "a29136e4-c787-4290-d9f0-d0c25d9996f2",
        "colab": {
          "base_uri": "https://localhost:8080/",
          "height": 537
        }
      },
      "cell_type": "code",
      "source": [
        "# merge vector's id and raw vectors\n",
        "df_vectors = pd.concat([id_list, raw_dataset], axis=1)\n",
        "print(df_vectors.shape) # this should yield (258, 25089)\n",
        "print(df_vectors.head())"
      ],
      "execution_count": 11,
      "outputs": [
        {
          "output_type": "stream",
          "text": [
            "(258, 25089)\n",
            "        id  vector_0  vector_1  vector_2  vector_3  vector_4  vector_5  \\\n",
            "0   DAM004       0.0       0.0       0.0       0.0       0.0       0.0   \n",
            "1  DAMA016       0.0       0.0       0.0       0.0       0.0       0.0   \n",
            "2   DAM081       0.0       0.0       0.0       0.0       0.0       0.0   \n",
            "3   DAM060       0.0       0.0       0.0       0.0       0.0       0.0   \n",
            "4   DAM066       0.0       0.0       0.0       0.0       0.0       0.0   \n",
            "\n",
            "   vector_6  vector_7  vector_8      ...       vector_25078  vector_25079  \\\n",
            "0       0.0       0.0       0.0      ...                0.0           0.0   \n",
            "1       0.0       0.0       0.0      ...                0.0           0.0   \n",
            "2       0.0       0.0       0.0      ...                0.0           0.0   \n",
            "3       0.0       0.0       0.0      ...                0.0           0.0   \n",
            "4       0.0       0.0       0.0      ...                0.0           0.0   \n",
            "\n",
            "   vector_25080  vector_25081  vector_25082  vector_25083  vector_25084  \\\n",
            "0           0.0           0.0      0.000000           0.0           0.0   \n",
            "1           0.0           0.0      2.030937           0.0           0.0   \n",
            "2           0.0           0.0      0.000000           0.0           0.0   \n",
            "3           0.0           0.0      0.000000           0.0           0.0   \n",
            "4           0.0           0.0      0.000000           0.0           0.0   \n",
            "\n",
            "   vector_25085  vector_25086  vector_25087  \n",
            "0           0.0           0.0           0.0  \n",
            "1           0.0           0.0           0.0  \n",
            "2           0.0           0.0           0.0  \n",
            "3           0.0           0.0           0.0  \n",
            "4           0.0           0.0           0.0  \n",
            "\n",
            "[5 rows x 25089 columns]\n"
          ],
          "name": "stdout"
        }
      ]
    },
    {
      "metadata": {
        "id": "1QG__dpY5oje",
        "colab_type": "code",
        "outputId": "fcbf66d1-722e-4c6c-96ed-3c93e5346b47",
        "colab": {
          "base_uri": "https://localhost:8080/",
          "height": 659
        }
      },
      "cell_type": "code",
      "source": [
        "# read metadata as pandas dataframe\n",
        "meta_patah= \"CovNet_Human_Drawings/data/metadata_participants/Study 1 DAM masterdata053117.csv\"\n",
        "df_metadata = pd.read_csv(meta_patah, sep=\",\")\n",
        "print(df_metadata.shape)\n",
        "print(df_metadata.head())"
      ],
      "execution_count": 12,
      "outputs": [
        {
          "output_type": "stream",
          "text": [
            "(107, 397)\n",
            "       id  drop IS_medium_order IS_shape_order IS_site  age_yr  age4g  female  \\\n",
            "0  DAM001     0             SPF            ABC     PSL    5.70      3     0.0   \n",
            "1  DAM002     0             FSP            ACB     PSL    5.42      3     1.0   \n",
            "2  DAM003     0             FSP            BAC     PSL    4.53      2     1.0   \n",
            "3  DAM004     0             SPF            BCA     PSL    5.37      3     0.0   \n",
            "4  DAM005     0             PFS            CBA     PSL    4.19      2     0.0   \n",
            "\n",
            "   adult  child        ...         PS_enjoy_electronic  PS_min_traditional  \\\n",
            "0      0    1.0        ...                         NaN                 NaN   \n",
            "1      0    1.0        ...                         7.0                  20   \n",
            "2      0    1.0        ...                         NaN                  30   \n",
            "3      0    1.0        ...                         NaN                 NaN   \n",
            "4      0    1.0        ...                        10.0                  15   \n",
            "\n",
            "   PS_min_electornic                                         PS_comment  \\\n",
            "0                NaN                                                NaN   \n",
            "1               20.0                                                NaN   \n",
            "2                NaN  Kids use kindle fire to watch shows  only. The...   \n",
            "3                NaN                                                NaN   \n",
            "4               40.0  Our child really enjoys electronic viewing and...   \n",
            "\n",
            "   asq_total  asq_communication  asq_grossmotor  asq_finemotor  \\\n",
            "0        NaN                NaN             NaN            NaN   \n",
            "1      265.0               55.0            35.0           55.0   \n",
            "2      290.0               60.0            60.0           55.0   \n",
            "3        NaN                NaN             NaN            NaN   \n",
            "4      265.0               45.0            55.0           55.0   \n",
            "\n",
            "   asq_problemsolving asq_personalsocial  \n",
            "0                 NaN                NaN  \n",
            "1                60.0               60.0  \n",
            "2                55.0               60.0  \n",
            "3                 NaN                NaN  \n",
            "4                60.0               50.0  \n",
            "\n",
            "[5 rows x 397 columns]\n"
          ],
          "name": "stdout"
        }
      ]
    },
    {
      "metadata": {
        "id": "aDcr5RvFAIkG",
        "colab_type": "code",
        "outputId": "a2dfdeea-9c6c-429d-b531-2750f47304bf",
        "colab": {
          "base_uri": "https://localhost:8080/",
          "height": 139
        }
      },
      "cell_type": "code",
      "source": [
        "# subset metadata; get id and age columns\n",
        "df_metadata_age = df_metadata[['id','age_yr', 'adult']]\n",
        "print(df_metadata_age.shape)\n",
        "print(df_metadata_age.head())"
      ],
      "execution_count": 16,
      "outputs": [
        {
          "output_type": "stream",
          "text": [
            "(107, 3)\n",
            "       id  age_yr  adult\n",
            "0  DAM001    5.70      0\n",
            "1  DAM002    5.42      0\n",
            "2  DAM003    4.53      0\n",
            "3  DAM004    5.37      0\n",
            "4  DAM005    4.19      0\n"
          ],
          "name": "stdout"
        }
      ]
    },
    {
      "metadata": {
        "id": "i5xD_FBF7nBp",
        "colab_type": "code",
        "colab": {
          "base_uri": "https://localhost:8080/",
          "height": 87
        },
        "outputId": "859a11d5-2616-4454-e633-8eb2146947bd"
      },
      "cell_type": "code",
      "source": [
        "# check nan values \n",
        "df_metadata_age.isna().sum()\n",
        "# there are missing values for age_yr that we will fix later"
      ],
      "execution_count": 18,
      "outputs": [
        {
          "output_type": "execute_result",
          "data": {
            "text/plain": [
              "id        0\n",
              "age_yr    5\n",
              "adult     0\n",
              "dtype: int64"
            ]
          },
          "metadata": {
            "tags": []
          },
          "execution_count": 18
        }
      ]
    },
    {
      "metadata": {
        "id": "BjhDpj1o60xY",
        "colab_type": "code",
        "outputId": "81d91ed8-bc6a-4421-e6b4-3b88a2588dad",
        "colab": {
          "base_uri": "https://localhost:8080/",
          "height": 537
        }
      },
      "cell_type": "code",
      "source": [
        "# merge metadata and vectors by id\n",
        "df_predict_age = pd.merge(df_metadata_age, df_vectors, on='id')\n",
        "print(df_predict_age.shape) # this should yield (258, 25090)\n",
        "print(df_predict_age.head())"
      ],
      "execution_count": 19,
      "outputs": [
        {
          "output_type": "stream",
          "text": [
            "(258, 25091)\n",
            "       id  age_yr  adult  vector_0  vector_1  vector_2  vector_3  vector_4  \\\n",
            "0  DAM001    5.70      0       0.0       0.0       0.0       0.0       0.0   \n",
            "1  DAM001    5.70      0       0.0       0.0       0.0       0.0       0.0   \n",
            "2  DAM001    5.70      0       0.0       0.0       0.0       0.0       0.0   \n",
            "3  DAM002    5.42      0       0.0       0.0       0.0       0.0       0.0   \n",
            "4  DAM002    5.42      0       0.0       0.0       0.0       0.0       0.0   \n",
            "\n",
            "   vector_5  vector_6      ...       vector_25078  vector_25079  vector_25080  \\\n",
            "0       0.0       0.0      ...                0.0           0.0      0.000000   \n",
            "1       0.0       0.0      ...                0.0           0.0     60.662159   \n",
            "2       0.0       0.0      ...                0.0           0.0      0.000000   \n",
            "3       0.0       0.0      ...                0.0           0.0      0.000000   \n",
            "4       0.0       0.0      ...                0.0           0.0      0.000000   \n",
            "\n",
            "   vector_25081  vector_25082  vector_25083  vector_25084  vector_25085  \\\n",
            "0           0.0      0.000000           0.0           0.0           0.0   \n",
            "1           0.0      0.000000           0.0           0.0           0.0   \n",
            "2           0.0      0.327322           0.0           0.0           0.0   \n",
            "3           0.0      0.028213           0.0           0.0           0.0   \n",
            "4           0.0      1.859237           0.0           0.0           0.0   \n",
            "\n",
            "   vector_25086  vector_25087  \n",
            "0           0.0           0.0  \n",
            "1           0.0           0.0  \n",
            "2           0.0           0.0  \n",
            "3           0.0           0.0  \n",
            "4           0.0           0.0  \n",
            "\n",
            "[5 rows x 25091 columns]\n"
          ],
          "name": "stdout"
        }
      ]
    },
    {
      "metadata": {
        "id": "7HrhPqw1BAQU",
        "colab_type": "code",
        "colab": {}
      },
      "cell_type": "code",
      "source": [
        "# Let's export the pandas dataframe to a csv for later\n",
        "df_predict_age.to_csv(\"predict_age_from_vectors_block5_pool_all.csv\", sep=',', index= False)"
      ],
      "execution_count": 0,
      "outputs": []
    },
    {
      "metadata": {
        "id": "HJekx0_EDBvq",
        "colab_type": "text"
      },
      "cell_type": "markdown",
      "source": [
        "## Cleaning the data "
      ]
    },
    {
      "metadata": {
        "id": "WK980QDiBdPy",
        "colab_type": "code",
        "outputId": "dffdbafd-4a6e-4b3b-a4b3-a6d0961b1c75",
        "colab": {
          "base_uri": "https://localhost:8080/",
          "height": 69
        }
      },
      "cell_type": "code",
      "source": [
        "# print NA values\n",
        "NA = df_predict_age.isna().sum()\n",
        "print(NA[0:2]) # we have 11 rows with missing values for age"
      ],
      "execution_count": 20,
      "outputs": [
        {
          "output_type": "stream",
          "text": [
            "id         0\n",
            "age_yr    11\n",
            "dtype: int64\n"
          ],
          "name": "stdout"
        }
      ]
    },
    {
      "metadata": {
        "id": "DGPaIBu4DQTc",
        "colab_type": "code",
        "outputId": "561fbf8d-64e6-4bc6-fc55-6514e5e524c7",
        "colab": {
          "base_uri": "https://localhost:8080/",
          "height": 35
        }
      },
      "cell_type": "code",
      "source": [
        "from fancyimpute import IterativeImputer\n",
        "# IterativeImputer: A strategy for imputing missing values by modeling each \n",
        "# feature with missing values as a function of other features in a round-robin fashion.\n",
        "\n",
        "# IterativeImputer only works with scalar values so we have to get rid of \n",
        "# id label first \n",
        "df_predict_age_na = df_predict_age_na = df_predict_age.loc[:, df_predict_age.columns != 'id']\n",
        "\n",
        "# now we can do the imputation \n",
        "df_predict_age_imp = IterativeImputer().fit_transform(df_predict_age_na)"
      ],
      "execution_count": 21,
      "outputs": [
        {
          "output_type": "stream",
          "text": [
            "Using TensorFlow backend.\n"
          ],
          "name": "stderr"
        }
      ]
    },
    {
      "metadata": {
        "id": "uGa_osUKIW4h",
        "colab_type": "code",
        "outputId": "1218616f-1939-46d4-cd99-64fabf549570",
        "colab": {
          "base_uri": "https://localhost:8080/",
          "height": 416
        }
      },
      "cell_type": "code",
      "source": [
        "# IterativeImputer returns a np array, so we need to change it back to pandas\n",
        "df_predict_age_pn = pd.DataFrame(df_predict_age_imp)\n",
        "print(type(df_predict_age_pn))\n",
        "print(df_predict_age_pn.head())"
      ],
      "execution_count": 22,
      "outputs": [
        {
          "output_type": "stream",
          "text": [
            "<class 'pandas.core.frame.DataFrame'>\n",
            "   0      1      2      3      4      5      6      7      8      9      \\\n",
            "0   5.70    0.0    0.0    0.0    0.0    0.0    0.0    0.0    0.0    0.0   \n",
            "1   5.70    0.0    0.0    0.0    0.0    0.0    0.0    0.0    0.0    0.0   \n",
            "2   5.70    0.0    0.0    0.0    0.0    0.0    0.0    0.0    0.0    0.0   \n",
            "3   5.42    0.0    0.0    0.0    0.0    0.0    0.0    0.0    0.0    0.0   \n",
            "4   5.42    0.0    0.0    0.0    0.0    0.0    0.0    0.0    0.0    0.0   \n",
            "\n",
            "   ...    25080  25081      25082  25083     25084  25085  25086  25087  \\\n",
            "0  ...      0.0    0.0   0.000000    0.0  0.000000    0.0    0.0    0.0   \n",
            "1  ...      0.0    0.0  60.662159    0.0  0.000000    0.0    0.0    0.0   \n",
            "2  ...      0.0    0.0   0.000000    0.0  0.327322    0.0    0.0    0.0   \n",
            "3  ...      0.0    0.0   0.000000    0.0  0.028213    0.0    0.0    0.0   \n",
            "4  ...      0.0    0.0   0.000000    0.0  1.859237    0.0    0.0    0.0   \n",
            "\n",
            "   25088  25089  \n",
            "0    0.0    0.0  \n",
            "1    0.0    0.0  \n",
            "2    0.0    0.0  \n",
            "3    0.0    0.0  \n",
            "4    0.0    0.0  \n",
            "\n",
            "[5 rows x 25090 columns]\n"
          ],
          "name": "stdout"
        }
      ]
    },
    {
      "metadata": {
        "id": "092dDB52OnZY",
        "colab_type": "code",
        "outputId": "aa66d181-26f8-458c-a1b5-fbd2110cfcc7",
        "colab": {
          "base_uri": "https://localhost:8080/",
          "height": 295
        }
      },
      "cell_type": "code",
      "source": [
        "# merge vector's id and raw vectors\n",
        "df_predict_age_fix = pd.concat([id_list, df_predict_age_pn], axis=1)\n",
        "print(df_predict_age_fix.shape) # this should yield (258, 25089)\n",
        "print(df_predict_age_fix.head())"
      ],
      "execution_count": 23,
      "outputs": [
        {
          "output_type": "stream",
          "text": [
            "(258, 25091)\n",
            "        id     0    1    2    3    4    5    6    7    8  ...    25080  25081  \\\n",
            "0   DAM004  5.70  0.0  0.0  0.0  0.0  0.0  0.0  0.0  0.0  ...      0.0    0.0   \n",
            "1  DAMA016  5.70  0.0  0.0  0.0  0.0  0.0  0.0  0.0  0.0  ...      0.0    0.0   \n",
            "2   DAM081  5.70  0.0  0.0  0.0  0.0  0.0  0.0  0.0  0.0  ...      0.0    0.0   \n",
            "3   DAM060  5.42  0.0  0.0  0.0  0.0  0.0  0.0  0.0  0.0  ...      0.0    0.0   \n",
            "4   DAM066  5.42  0.0  0.0  0.0  0.0  0.0  0.0  0.0  0.0  ...      0.0    0.0   \n",
            "\n",
            "       25082  25083     25084  25085  25086  25087  25088  25089  \n",
            "0   0.000000    0.0  0.000000    0.0    0.0    0.0    0.0    0.0  \n",
            "1  60.662159    0.0  0.000000    0.0    0.0    0.0    0.0    0.0  \n",
            "2   0.000000    0.0  0.327322    0.0    0.0    0.0    0.0    0.0  \n",
            "3   0.000000    0.0  0.028213    0.0    0.0    0.0    0.0    0.0  \n",
            "4   0.000000    0.0  1.859237    0.0    0.0    0.0    0.0    0.0  \n",
            "\n",
            "[5 rows x 25091 columns]\n"
          ],
          "name": "stdout"
        }
      ]
    },
    {
      "metadata": {
        "id": "J-X3gEwiO84u",
        "colab_type": "code",
        "outputId": "d8283d4b-5998-4356-fb53-c96e384de794",
        "colab": {
          "base_uri": "https://localhost:8080/",
          "height": 35
        }
      },
      "cell_type": "code",
      "source": [
        "# let's get the original col names to add that back to the new dataframe\n",
        "col_names = list(df_predict_age.columns.values)\n",
        "print(col_names[0:5])"
      ],
      "execution_count": 24,
      "outputs": [
        {
          "output_type": "stream",
          "text": [
            "['id', 'age_yr', 'adult', 'vector_0', 'vector_1']\n"
          ],
          "name": "stdout"
        }
      ]
    },
    {
      "metadata": {
        "id": "eCW4PUd3LJ1Y",
        "colab_type": "code",
        "outputId": "7404d5be-4f0b-4fda-bd04-8ac5539d7919",
        "colab": {
          "base_uri": "https://localhost:8080/",
          "height": 520
        }
      },
      "cell_type": "code",
      "source": [
        "# add headers to vectors into dataframe after imputation\n",
        "df_predict_age_fix.columns = col_names\n",
        "print(df_predict_age_fix.head())"
      ],
      "execution_count": 25,
      "outputs": [
        {
          "output_type": "stream",
          "text": [
            "        id  age_yr  adult  vector_0  vector_1  vector_2  vector_3  vector_4  \\\n",
            "0   DAM004    5.70    0.0       0.0       0.0       0.0       0.0       0.0   \n",
            "1  DAMA016    5.70    0.0       0.0       0.0       0.0       0.0       0.0   \n",
            "2   DAM081    5.70    0.0       0.0       0.0       0.0       0.0       0.0   \n",
            "3   DAM060    5.42    0.0       0.0       0.0       0.0       0.0       0.0   \n",
            "4   DAM066    5.42    0.0       0.0       0.0       0.0       0.0       0.0   \n",
            "\n",
            "   vector_5  vector_6      ...       vector_25078  vector_25079  vector_25080  \\\n",
            "0       0.0       0.0      ...                0.0           0.0      0.000000   \n",
            "1       0.0       0.0      ...                0.0           0.0     60.662159   \n",
            "2       0.0       0.0      ...                0.0           0.0      0.000000   \n",
            "3       0.0       0.0      ...                0.0           0.0      0.000000   \n",
            "4       0.0       0.0      ...                0.0           0.0      0.000000   \n",
            "\n",
            "   vector_25081  vector_25082  vector_25083  vector_25084  vector_25085  \\\n",
            "0           0.0      0.000000           0.0           0.0           0.0   \n",
            "1           0.0      0.000000           0.0           0.0           0.0   \n",
            "2           0.0      0.327322           0.0           0.0           0.0   \n",
            "3           0.0      0.028213           0.0           0.0           0.0   \n",
            "4           0.0      1.859237           0.0           0.0           0.0   \n",
            "\n",
            "   vector_25086  vector_25087  \n",
            "0           0.0           0.0  \n",
            "1           0.0           0.0  \n",
            "2           0.0           0.0  \n",
            "3           0.0           0.0  \n",
            "4           0.0           0.0  \n",
            "\n",
            "[5 rows x 25091 columns]\n"
          ],
          "name": "stdout"
        }
      ]
    },
    {
      "metadata": {
        "id": "hubhvGiPGaxc",
        "colab_type": "code",
        "outputId": "a2551910-d649-4bcc-f787-4ed5b5558268",
        "colab": {
          "base_uri": "https://localhost:8080/",
          "height": 121
        }
      },
      "cell_type": "code",
      "source": [
        "# print NA values before imputation\n",
        "NA = df_predict_age.isna().sum()\n",
        "print(NA[0:2]) # we have 11 rows with missing values for age\n",
        "\n",
        "# print NA values after imputation\n",
        "NA_imp = df_predict_age_fix.isna().sum()\n",
        "print(NA_imp[0:2]) # Now we have 0 NA values in our new dataframe"
      ],
      "execution_count": 26,
      "outputs": [
        {
          "output_type": "stream",
          "text": [
            "id         0\n",
            "age_yr    11\n",
            "dtype: int64\n",
            "id        0\n",
            "age_yr    0\n",
            "dtype: int64\n"
          ],
          "name": "stdout"
        }
      ]
    },
    {
      "metadata": {
        "id": "n5lhZPWIPpfm",
        "colab_type": "code",
        "colab": {}
      },
      "cell_type": "code",
      "source": [
        "# Let's export the pandas dataframe to a csv for later\n",
        "df_predict_age_fix.to_csv(\"predict_age_from_vectors_block5_pool_all_imp.csv\", sep=',', index=False)"
      ],
      "execution_count": 0,
      "outputs": []
    },
    {
      "metadata": {
        "id": "2jTJq8dXdFgO",
        "colab_type": "text"
      },
      "cell_type": "markdown",
      "source": [
        "# Preprocessing data for Neural Network"
      ]
    },
    {
      "metadata": {
        "id": "Zv9CimhUQATE",
        "colab_type": "text"
      },
      "cell_type": "markdown",
      "source": [
        "## Split the data into train and test for training"
      ]
    },
    {
      "metadata": {
        "id": "P7Rgqx7LZTz6",
        "colab_type": "text"
      },
      "cell_type": "markdown",
      "source": [
        "To avoid re-running the data wrangling process, now we can load the dataset from memory. We can skip everything above this section by running the two cells below"
      ]
    },
    {
      "metadata": {
        "id": "S4BcT9z1Y_xW",
        "colab_type": "code",
        "outputId": "4681950a-559e-426c-be08-9e1b509af2b0",
        "colab": {
          "base_uri": "https://localhost:8080/",
          "height": 52
        }
      },
      "cell_type": "code",
      "source": [
        "# install seaborn for pairplot\n",
        "!pip install -q seaborn\n",
        "\n",
        "from __future__ import absolute_import, division, print_function\n",
        "\n",
        "import pathlib\n",
        "\n",
        "import numpy as np\n",
        "import matplotlib.pyplot as plt\n",
        "import pandas as pd\n",
        "import seaborn as sns\n",
        "import csv\n",
        "%matplotlib inline\n",
        "\n",
        "from sklearn.preprocessing import StandardScaler\n",
        "from sklearn.decomposition import PCA\n",
        "\n",
        "import tensorflow as tf\n",
        "from tensorflow import keras\n",
        "from tensorflow.keras import layers\n",
        "\n",
        "print(tf.__version__)\n",
        "print(tf.test.gpu_device_name())"
      ],
      "execution_count": 29,
      "outputs": [
        {
          "output_type": "stream",
          "text": [
            "1.13.1\n",
            "/device:GPU:0\n"
          ],
          "name": "stdout"
        }
      ]
    },
    {
      "metadata": {
        "id": "0K1HA8-1Zt2K",
        "colab_type": "code",
        "outputId": "3687b6c0-0b0e-4f54-aa77-899a12167147",
        "colab": {
          "base_uri": "https://localhost:8080/",
          "height": 139
        }
      },
      "cell_type": "code",
      "source": [
        "# Run this only if you haven't clone the data before\n",
        "# Clone the data into Colab\n",
        "! git clone https://github.com/pabloinsente/CovNet_Human_Drawings"
      ],
      "execution_count": 0,
      "outputs": [
        {
          "output_type": "stream",
          "text": [
            "Cloning into 'CovNet_Human_Drawings'...\n",
            "remote: Enumerating objects: 523, done.\u001b[K\n",
            "remote: Counting objects: 100% (523/523), done.\u001b[K\n",
            "remote: Compressing objects: 100% (454/454), done.\u001b[K\n",
            "remote: Total 523 (delta 106), reused 451 (delta 64), pack-reused 0\u001b[K\n",
            "Receiving objects: 100% (523/523), 47.20 MiB | 39.30 MiB/s, done.\n",
            "Resolving deltas: 100% (106/106), done.\n"
          ],
          "name": "stdout"
        }
      ]
    },
    {
      "metadata": {
        "id": "tG_U8SqXYNmz",
        "colab_type": "code",
        "outputId": "ca92371a-e4e9-4c0c-88d5-8471843528b4",
        "colab": {
          "base_uri": "https://localhost:8080/",
          "height": 537
        }
      },
      "cell_type": "code",
      "source": [
        "# Read dataset from memory\n",
        "df_path = \"CovNet_Human_Drawings/data/merged_dataframes_prediction/predict_age_from_vectors_block5_pool_all_imp.csv\"\n",
        "df_net = pd.read_csv(df_path, sep=\",\")\n",
        "print(df_net.shape)\n",
        "print(df_net.head())"
      ],
      "execution_count": 30,
      "outputs": [
        {
          "output_type": "stream",
          "text": [
            "(258, 25090)\n",
            "       id  age_yr  vector_0  vector_1  vector_2  vector_3  vector_4  vector_5  \\\n",
            "0  DAM058    5.70       0.0       0.0       0.0       0.0  0.000000  0.000000   \n",
            "1  DAM041    5.70       0.0       0.0       0.0       0.0  0.000000  8.308172   \n",
            "2  DAM078    5.70       0.0       0.0       0.0       0.0  2.121198  0.000000   \n",
            "3  DAM027    5.42       0.0       0.0       0.0       0.0  0.000000  0.000000   \n",
            "4  DAM027    5.42       0.0       0.0       0.0       0.0  0.000000  0.000000   \n",
            "\n",
            "   vector_6  vector_7      ...       vector_25078  vector_25079  vector_25080  \\\n",
            "0       0.0       0.0      ...                0.0           0.0      0.000000   \n",
            "1       0.0       0.0      ...                0.0           0.0     10.788058   \n",
            "2       0.0       0.0      ...                0.0           0.0      0.000000   \n",
            "3       0.0       0.0      ...                0.0           0.0     29.385056   \n",
            "4       0.0       0.0      ...                0.0           0.0      0.000000   \n",
            "\n",
            "   vector_25081  vector_25082  vector_25083  vector_25084  vector_25085  \\\n",
            "0           0.0      0.630956      0.000000           0.0           0.0   \n",
            "1           0.0      0.000000     22.443872           0.0           0.0   \n",
            "2           0.0      0.000000      0.000000           0.0           0.0   \n",
            "3           0.0      0.000000      0.000000           0.0           0.0   \n",
            "4           0.0      1.291875      0.000000           0.0           0.0   \n",
            "\n",
            "   vector_25086  vector_25087  \n",
            "0           0.0           0.0  \n",
            "1           0.0           0.0  \n",
            "2           0.0           0.0  \n",
            "3           0.0           0.0  \n",
            "4           0.0           0.0  \n",
            "\n",
            "[5 rows x 25090 columns]\n"
          ],
          "name": "stdout"
        }
      ]
    },
    {
      "metadata": {
        "id": "Wxckuju1QG23",
        "colab_type": "code",
        "colab": {}
      },
      "cell_type": "code",
      "source": [
        "# We will use 80% of the data for training and 20% for testing\n",
        "train_dataset = df_net.sample(frac=0.8,random_state=0)\n",
        "test_dataset = df_net.drop(train_dataset.index)"
      ],
      "execution_count": 0,
      "outputs": []
    },
    {
      "metadata": {
        "id": "ZCvOvYnOyPtL",
        "colab_type": "code",
        "colab": {}
      },
      "cell_type": "code",
      "source": [
        "# Now we can drop the \"id\" from the dataset\n",
        "train_dataset = train_dataset.drop(['id'], axis=1)\n",
        "test_dataset = test_dataset.drop(['id'], axis=1)"
      ],
      "execution_count": 0,
      "outputs": []
    },
    {
      "metadata": {
        "id": "00gHK_iRRYAW",
        "colab_type": "code",
        "colab": {}
      },
      "cell_type": "code",
      "source": [
        "# We will skip exploring the data because we have ~25,000 uninterpretable features"
      ],
      "execution_count": 0,
      "outputs": []
    },
    {
      "metadata": {
        "id": "o6QMF2w_wujO",
        "colab_type": "text"
      },
      "cell_type": "markdown",
      "source": [
        "## Normalizing the data\n",
        "It is good practice to normalize features that use different scales and ranges. Although the model might converge without feature normalization, it makes training more difficult, and it makes the resulting model dependent on the choice of units used in the input.\n"
      ]
    },
    {
      "metadata": {
        "id": "l6JSAWu8wtoH",
        "colab_type": "code",
        "colab": {}
      },
      "cell_type": "code",
      "source": [
        "train_stats = train_dataset.describe()\n",
        "train_stats.pop(\"age_yr\") # we can drop the age variable here\n",
        "train_stats = train_stats.transpose()"
      ],
      "execution_count": 0,
      "outputs": []
    },
    {
      "metadata": {
        "id": "8TQ5Qxh00tgA",
        "colab_type": "code",
        "colab": {}
      },
      "cell_type": "code",
      "source": [
        "# function to normalize data base on stats for both train and test sets\n",
        "def norm(x):\n",
        "  return (x - train_stats['mean']) / train_stats['std']\n",
        "\n",
        "# normalized datasets\n",
        "normed_train_data = norm(train_dataset)\n",
        "normed_test_data = norm(test_dataset)"
      ],
      "execution_count": 0,
      "outputs": []
    },
    {
      "metadata": {
        "id": "LbvMJhk1RZWw",
        "colab_type": "text"
      },
      "cell_type": "markdown",
      "source": [
        "## Split features from labels\n"
      ]
    },
    {
      "metadata": {
        "id": "SbF2wT2oRbpn",
        "colab_type": "code",
        "colab": {}
      },
      "cell_type": "code",
      "source": [
        "# Separate the target value, or \"label\", from the features, \"agre_yr\" \n",
        "# This label is the value that we will train the model to predict.\n",
        "train_labels = train_dataset.pop('age_yr')\n",
        "test_labels = test_dataset.pop('age_yr')"
      ],
      "execution_count": 0,
      "outputs": []
    },
    {
      "metadata": {
        "id": "tG2d9kXFDCLv",
        "colab_type": "text"
      },
      "cell_type": "markdown",
      "source": [
        "## Normalizing data\n",
        "We will normalizing the data using sklearn StandartScaler. It is fitted to train data, because I assume that I know nothing about test data. Both datasets are transformed."
      ]
    },
    {
      "metadata": {
        "id": "3EKbm-CrAaLh",
        "colab_type": "code",
        "colab": {}
      },
      "cell_type": "code",
      "source": [
        "scaler = StandardScaler()\n",
        "scaler.fit(train_dataset)\n",
        "normed_train_data = scaler.transform(train_dataset)\n",
        "normed_test_data = scaler.transform(test_dataset)"
      ],
      "execution_count": 0,
      "outputs": []
    },
    {
      "metadata": {
        "id": "KLz4zDWRAu9n",
        "colab_type": "code",
        "outputId": "562aa10b-5fd6-4f10-a470-081d2dd4fc4c",
        "colab": {
          "base_uri": "https://localhost:8080/",
          "height": 52
        }
      },
      "cell_type": "code",
      "source": [
        "# Check if there are missing values\n",
        "print(np.isnan(np.sum(normed_train_data)))\n",
        "# check if there are inf values\n",
        "print(np.isinf(np.sum(normed_train_data)))"
      ],
      "execution_count": 0,
      "outputs": [
        {
          "output_type": "stream",
          "text": [
            "False\n",
            "False\n"
          ],
          "name": "stdout"
        }
      ]
    },
    {
      "metadata": {
        "id": "sl9ub_SH-vOi",
        "colab_type": "text"
      },
      "cell_type": "markdown",
      "source": [
        "## Dimensionality reduction before training\n",
        "We will use PCA to reduce dimensionality before training the model"
      ]
    },
    {
      "metadata": {
        "id": "RsYfx5jV5BLX",
        "colab_type": "code",
        "outputId": "fb3d8314-1fd1-4f77-85a6-276ca66a5e8a",
        "colab": {
          "base_uri": "https://localhost:8080/",
          "height": 297
        }
      },
      "cell_type": "code",
      "source": [
        "# Let's print out the accumulated explained variance as we get\n",
        "# more components using PCA \n",
        "\n",
        "pca = PCA(n_components=200)\n",
        "pca.fit(normed_train_data)\n",
        "\n",
        "plt.plot(np.cumsum(pca.explained_variance_ratio_))\n",
        "plt.xlabel('Number of components')\n",
        "plt.ylabel('Cumulative explained variance')"
      ],
      "execution_count": 0,
      "outputs": [
        {
          "output_type": "execute_result",
          "data": {
            "text/plain": [
              "Text(0, 0.5, 'Cumulative explained variance')"
            ]
          },
          "metadata": {
            "tags": []
          },
          "execution_count": 68
        },
        {
          "output_type": "display_data",
          "data": {
            "image/png": "[encoded data removed]",
            "text/plain": [
              "<Figure size 432x288 with 1 Axes>"
            ]
          },
          "metadata": {
            "tags": []
          }
        }
      ]
    },
    {
      "metadata": {
        "id": "5nPPlEoG-3uP",
        "colab_type": "code",
        "outputId": "e1d9979b-6641-484a-88bb-814644774b5e",
        "colab": {
          "base_uri": "https://localhost:8080/",
          "height": 52
        }
      },
      "cell_type": "code",
      "source": [
        "# Looks like with 200 components we retain all the variance\n",
        "NCOMPONENTS = 200\n",
        "\n",
        "pca = PCA(n_components=NCOMPONENTS)\n",
        "X_pca_train = pca.fit_transform(normed_train_data)\n",
        "X_pca_test = pca.transform(normed_test_data)\n",
        "pca_std = np.std(X_pca_train)"
      ],
      "execution_count": 0,
      "outputs": [
        {
          "output_type": "stream",
          "text": [
            "(206, 25088)\n",
            "(206, 200)\n"
          ],
          "name": "stdout"
        }
      ]
    },
    {
      "metadata": {
        "id": "ogJCzoZCEGyz",
        "colab_type": "code",
        "outputId": "09928443-e0f1-453d-854d-b95ef837c710",
        "colab": {
          "base_uri": "https://localhost:8080/",
          "height": 87
        }
      },
      "cell_type": "code",
      "source": [
        "# Now we can check that we have a dataset with the same number\n",
        "# of rows, but with only (206, 200) instead of (206, 25088) for\n",
        "# the training set\n",
        "\n",
        "# Training data\n",
        "print(normed_train_data.shape)\n",
        "print(X_pca_train.shape)\n",
        "\n",
        "# Test data\n",
        "print(normed_test_data.shape)\n",
        "print(X_pca_test.shape)"
      ],
      "execution_count": 0,
      "outputs": [
        {
          "output_type": "stream",
          "text": [
            "(206, 25088)\n",
            "(206, 200)\n",
            "(52, 25088)\n",
            "(52, 200)\n"
          ],
          "name": "stdout"
        }
      ]
    },
    {
      "metadata": {
        "id": "5-ng4er62Hue",
        "colab_type": "text"
      },
      "cell_type": "markdown",
      "source": [
        "# Building the Neural Network\n",
        " Here, we'll use a Sequential model with two densely connected hidden layers, and an output layer that returns a single, continuous value, age"
      ]
    },
    {
      "metadata": {
        "id": "dRZbQkZMG5wP",
        "colab_type": "code",
        "colab": {}
      },
      "cell_type": "code",
      "source": [
        "# Let's layout the model architecture\n",
        "model = tf.keras.models.Sequential([\n",
        "    tf.keras.layers.Dense(NCOMPONENTS, activation='relu', input_dim=NCOMPONENTS),\n",
        "    tf.keras.layers.Dense(64, activation='relu'),\n",
        "    tf.keras.layers.Dense(64, activation='relu'),\n",
        "    tf.keras.layers.Dense(1)\n",
        "])"
      ],
      "execution_count": 0,
      "outputs": []
    },
    {
      "metadata": {
        "id": "_musXiuh3QHu",
        "colab_type": "code",
        "outputId": "751d4c4c-8349-42d2-d696-b406eebc8d50",
        "colab": {
          "base_uri": "https://localhost:8080/",
          "height": 277
        }
      },
      "cell_type": "code",
      "source": [
        "# Summary of net architecture \n",
        "model.summary()"
      ],
      "execution_count": 0,
      "outputs": [
        {
          "output_type": "stream",
          "text": [
            "_________________________________________________________________\n",
            "Layer (type)                 Output Shape              Param #   \n",
            "=================================================================\n",
            "dense_34 (Dense)             (None, 200)               40200     \n",
            "_________________________________________________________________\n",
            "dense_35 (Dense)             (None, 64)                12864     \n",
            "_________________________________________________________________\n",
            "dense_36 (Dense)             (None, 64)                4160      \n",
            "_________________________________________________________________\n",
            "dense_37 (Dense)             (None, 1)                 65        \n",
            "=================================================================\n",
            "Total params: 57,289\n",
            "Trainable params: 57,289\n",
            "Non-trainable params: 0\n",
            "_________________________________________________________________\n"
          ],
          "name": "stdout"
        }
      ]
    },
    {
      "metadata": {
        "id": "fo7dgYgpIzBO",
        "colab_type": "code",
        "colab": {}
      },
      "cell_type": "code",
      "source": [
        "# Let's compile the model using:\n",
        "# - 'mean_squared_error' as the loss \n",
        "# - 'RMSprop' as the optimizer\n",
        "# - '0.001' as the learning rate\n",
        "\n",
        "from tensorflow.keras.optimizers import RMSprop\n",
        "\n",
        "model.compile(loss='mean_squared_error',\n",
        "              optimizer=RMSprop(lr=0.001),\n",
        "              metrics=['mean_absolute_error', 'mean_squared_error'])"
      ],
      "execution_count": 0,
      "outputs": []
    },
    {
      "metadata": {
        "id": "Q4IGn7k_O-n7",
        "colab_type": "text"
      },
      "cell_type": "markdown",
      "source": [
        "## Train the model\n",
        "Train the model for 1000 epochs, and record the training and validation accuracy in the history object."
      ]
    },
    {
      "metadata": {
        "id": "u5O-ceZXIxMI",
        "colab_type": "code",
        "outputId": "86c79695-1974-4bb2-b340-222532474fd9",
        "colab": {
          "base_uri": "https://localhost:8080/",
          "height": 208
        }
      },
      "cell_type": "code",
      "source": [
        "# Display training progress by printing a single dot for each completed epoch\n",
        "class PrintDot(keras.callbacks.Callback):\n",
        "  def on_epoch_end(self, epoch, logs):\n",
        "    if epoch % 100 == 0: print('')\n",
        "    print('.', end='')\n",
        "    \n",
        "# Now we can train the model\n",
        "n_epochs = 1000\n",
        "\n",
        "history = model.fit(X_pca_train, train_labels,\n",
        "                    epochs=n_epochs, \n",
        "                    validation_split = 0.2, \n",
        "                    verbose=0,\n",
        "                    callbacks=[PrintDot()])"
      ],
      "execution_count": 0,
      "outputs": [
        {
          "output_type": "stream",
          "text": [
            "\n",
            "....................................................................................................\n",
            "....................................................................................................\n",
            "....................................................................................................\n",
            "....................................................................................................\n",
            "....................................................................................................\n",
            "....................................................................................................\n",
            "....................................................................................................\n",
            "....................................................................................................\n",
            "....................................................................................................\n",
            "...................................................................................................."
          ],
          "name": "stdout"
        }
      ]
    },
    {
      "metadata": {
        "id": "TRvD0RjV4oup",
        "colab_type": "code",
        "outputId": "2c67f623-d655-42a3-b52e-b171de1bc6b3",
        "colab": {
          "base_uri": "https://localhost:8080/",
          "height": 468
        }
      },
      "cell_type": "code",
      "source": [
        "# Visualize the model's training progress using the stats stored in the history object.\n",
        "\n",
        "hist = pd.DataFrame(history.history)\n",
        "hist['epoch'] = history.epoch\n",
        "print(hist.head())\n",
        "print(hist.tail())"
      ],
      "execution_count": 0,
      "outputs": [
        {
          "output_type": "stream",
          "text": [
            "       loss  mean_absolute_error  mean_squared_error   val_loss  \\\n",
            "0  0.400291             0.377996            0.400291  41.078807   \n",
            "1  0.409695             0.389506            0.409695  41.485592   \n",
            "2  0.086080             0.185264            0.086080  41.485692   \n",
            "3  0.061277             0.143604            0.061277  41.553685   \n",
            "4  0.043816             0.123195            0.043816  41.446105   \n",
            "\n",
            "   val_mean_absolute_error  val_mean_squared_error  epoch  \n",
            "0                 3.956364               41.078808      0  \n",
            "1                 3.914828               41.485592      1  \n",
            "2                 3.970674               41.485691      2  \n",
            "3                 3.937264               41.553684      3  \n",
            "4                 3.946689               41.446102      4  \n",
            "         loss  mean_absolute_error  mean_squared_error   val_loss  \\\n",
            "995  0.028660             0.111217            0.028660  43.246071   \n",
            "996  0.081576             0.179131            0.081576  44.599292   \n",
            "997  0.149177             0.201723            0.149177  43.290712   \n",
            "998  0.069134             0.151795            0.069134  44.243104   \n",
            "999  0.067109             0.148824            0.067109  42.944321   \n",
            "\n",
            "     val_mean_absolute_error  val_mean_squared_error  epoch  \n",
            "995                 3.981292               43.246071    995  \n",
            "996                 3.967408               44.599293    996  \n",
            "997                 4.016807               43.290714    997  \n",
            "998                 3.911913               44.243107    998  \n",
            "999                 4.015239               42.944321    999  \n"
          ],
          "name": "stdout"
        }
      ]
    },
    {
      "metadata": {
        "id": "umrzn4gKPxGV",
        "colab_type": "code",
        "outputId": "d9ef6cbf-d409-4429-ed2f-1f47368dcbbc",
        "colab": {
          "base_uri": "https://localhost:8080/",
          "height": 549
        }
      },
      "cell_type": "code",
      "source": [
        "def plot_history(history):\n",
        "  hist = pd.DataFrame(history.history)\n",
        "  hist['epoch'] = history.epoch\n",
        "  \n",
        "  plt.figure()\n",
        "  plt.xlabel('Epoch')\n",
        "  plt.ylabel('Mean Abs Error [Age]')\n",
        "  plt.plot(hist['epoch'], hist['mean_absolute_error'],\n",
        "           label='Train Error')\n",
        "  plt.plot(hist['epoch'], hist['val_mean_absolute_error'],\n",
        "           label = 'Val Error')\n",
        "  plt.ylim([0,5])\n",
        "  plt.legend()\n",
        "  \n",
        "  plt.figure()\n",
        "  plt.xlabel('Epoch')\n",
        "  plt.ylabel('Mean Square Error [$Age^2$]')\n",
        "  plt.plot(hist['epoch'], hist['mean_squared_error'],\n",
        "           label='Train Error')\n",
        "  plt.plot(hist['epoch'], hist['val_mean_squared_error'],\n",
        "           label = 'Val Error')\n",
        "  plt.ylim([0,20])\n",
        "  plt.legend()\n",
        "  plt.show()\n",
        "\n",
        "\n",
        "plot_history(history)"
      ],
      "execution_count": 0,
      "outputs": [
        {
          "output_type": "display_data",
          "data": {
            "image/png": "[encoded data removed]",
            "text/plain": [
              "<Figure size 432x288 with 1 Axes>"
            ]
          },
          "metadata": {
            "tags": []
          }
        },
        {
          "output_type": "display_data",
          "data": {
            "image/png": "[encoded data removed]",
            "text/plain": [
              "<Figure size 432x288 with 1 Axes>"
            ]
          },
          "metadata": {
            "tags": []
          }
        }
      ]
    },
    {
      "metadata": {
        "id": "-kZnGxhvO0oK",
        "colab_type": "code",
        "outputId": "264eaf17-a789-41cc-b27b-bd0ab56fbc42",
        "colab": {
          "base_uri": "https://localhost:8080/",
          "height": 35
        }
      },
      "cell_type": "code",
      "source": [
        "loss, mae, mse = model.evaluate(X_pca_test, test_labels, verbose=0)\n",
        "\n",
        "print(\"Testing set Mean Abs Error: {:5.2f} Age\".format(mae))"
      ],
      "execution_count": 0,
      "outputs": [
        {
          "output_type": "stream",
          "text": [
            "Testing set Mean Abs Error: 12.96 Age\n"
          ],
          "name": "stdout"
        }
      ]
    },
    {
      "metadata": {
        "id": "Vg4nrN8NUR5l",
        "colab_type": "text"
      },
      "cell_type": "markdown",
      "source": [
        "## Test the model"
      ]
    },
    {
      "metadata": {
        "id": "9ny23UqeSXUj",
        "colab_type": "code",
        "outputId": "b4c87666-224a-494b-8b2d-cf26d6aebb7c",
        "colab": {
          "base_uri": "https://localhost:8080/",
          "height": 283
        }
      },
      "cell_type": "code",
      "source": [
        "test_predictions = model.predict(X_pca_test).flatten()\n",
        "\n",
        "plt.scatter(test_labels, test_predictions)\n",
        "plt.xlabel('True Values [Age]')\n",
        "plt.ylabel('Predictions [Age]')\n",
        "plt.axis('equal')\n",
        "plt.axis('square')\n",
        "#plt.xlim([0,plt.xlim()[1]])\n",
        "#plt.ylim([0,plt.ylim()[1]])\n",
        "plt.xlim([0,100])\n",
        "plt.ylim([0,100])\n",
        "_ = plt.plot([-100, 100], [-100, 100])"
      ],
      "execution_count": 0,
      "outputs": [
        {
          "output_type": "display_data",
          "data": {
            "image/png": "[encoded data removed]",
            "text/plain": [
              "<Figure size 432x288 with 1 Axes>"
            ]
          },
          "metadata": {
            "tags": []
          }
        }
      ]
    },
    {
      "metadata": {
        "id": "4qMmcdhcUZmw",
        "colab_type": "text"
      },
      "cell_type": "markdown",
      "source": [
        "The data is essencially binomial, therefore, a linear model will not work. We have to treat this as a binary calssification problem"
      ]
    },
    {
      "metadata": {
        "id": "P7qH3Y8aUkQE",
        "colab_type": "code",
        "colab": {}
      },
      "cell_type": "code",
      "source": [
        ""
      ],
      "execution_count": 0,
      "outputs": []
    }
  ]
}