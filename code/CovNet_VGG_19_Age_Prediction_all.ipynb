{
  "nbformat": 4,
  "nbformat_minor": 0,
  "metadata": {
    "colab": {
      "name": "CovNet_VGG-19_Age_Prediction.ipynb",
      "version": "0.3.2",
      "provenance": [],
      "toc_visible": true,
      "include_colab_link": true
    },
    "kernelspec": {
      "name": "python3",
      "display_name": "Python 3"
    }
  },
  "cells": [
    {
      "cell_type": "markdown",
      "metadata": {
        "id": "view-in-github",
        "colab_type": "text"
      },
      "source": [
        "<a href=\"https://colab.research.google.com/github/pabloinsente/CovNet_Human_Drawings/blob/master/CovNet_VGG_19_Age_Prediction.ipynb\" target=\"_parent\"><img src=\"https://colab.research.google.com/assets/colab-badge.svg\" alt=\"Open In Colab\"/></a>"
      ]
    },
    {
      "metadata": {
        "id": "UPEF0uZFBq7f",
        "colab_type": "text"
      },
      "cell_type": "markdown",
      "source": [
        "# Age prediction from features extracted from drawings with VGG-19 CovNet"
      ]
    },
    {
      "metadata": {
        "id": "mEh6ibgkrxpu",
        "colab_type": "code",
        "outputId": "940b0da6-df0f-4c4c-ba37-b2bac7eeb956",
        "colab": {
          "base_uri": "https://localhost:8080/",
          "height": 193
        }
      },
      "cell_type": "code",
      "source": [
        "# install seaborn for pairplot\n",
        "!pip install -q seaborn\n",
        "# install rarfile to read feature file\n",
        "!pip install rarfile"
      ],
      "execution_count": 5,
      "outputs": [
        {
          "output_type": "stream",
          "text": [
            "Collecting rarfile\n",
            "\u001b[?25l  Downloading https://files.pythonhosted.org/packages/de/a4/8b4abc72310da6fa53b6de8de1019e0516885d05369d6c91cba23476abe5/rarfile-3.0.tar.gz (110kB)\n",
            "\u001b[K    100% |████████████████████████████████| 112kB 4.6MB/s \n",
            "\u001b[?25hBuilding wheels for collected packages: rarfile\n",
            "  Building wheel for rarfile (setup.py) ... \u001b[?25ldone\n",
            "\u001b[?25h  Stored in directory: /root/.cache/pip/wheels/dc/84/da/8aff50941f548db5384b076d5a6a6afea0cd12672e0326edc4\n",
            "Successfully built rarfile\n",
            "Installing collected packages: rarfile\n",
            "Successfully installed rarfile-3.0\n"
          ],
          "name": "stdout"
        }
      ]
    },
    {
      "metadata": {
        "id": "v44IMLpHsijn",
        "colab_type": "code",
        "outputId": "347c0390-3aa3-4d38-a830-912ad90d54f9",
        "colab": {
          "base_uri": "https://localhost:8080/",
          "height": 35
        }
      },
      "cell_type": "code",
      "source": [
        "from __future__ import absolute_import, division, print_function\n",
        "\n",
        "import pathlib\n",
        "\n",
        "import matplotlib.pyplot as plt\n",
        "import pandas as pd\n",
        "import seaborn as sns\n",
        "import rarfile\n",
        "import csv\n",
        "\n",
        "\n",
        "import tensorflow as tf\n",
        "from tensorflow import keras\n",
        "from tensorflow.keras import layers\n",
        "\n",
        "print(tf.__version__)"
      ],
      "execution_count": 6,
      "outputs": [
        {
          "output_type": "stream",
          "text": [
            "1.13.1\n"
          ],
          "name": "stdout"
        }
      ]
    },
    {
      "metadata": {
        "id": "4l3p9sEOstD8",
        "colab_type": "code",
        "outputId": "822dbcf2-2e21-4c64-f71f-6c43713521b0",
        "colab": {
          "base_uri": "https://localhost:8080/",
          "height": 139
        }
      },
      "cell_type": "code",
      "source": [
        "# Clone the data into Colab\n",
        "! git clone https://github.com/pabloinsente/CovNet_Human_Drawings\n",
        "# Run this just once per sesion"
      ],
      "execution_count": 0,
      "outputs": [
        {
          "output_type": "stream",
          "text": [
            "Cloning into 'CovNet_Human_Drawings'...\n",
            "remote: Enumerating objects: 498, done.\u001b[K\n",
            "remote: Counting objects: 100% (498/498), done.\u001b[K\n",
            "remote: Compressing objects: 100% (434/434), done.\u001b[K\n",
            "remote: Total 498 (delta 93), reused 438 (delta 60), pack-reused 0\u001b[K\n",
            "Receiving objects: 100% (498/498), 43.07 MiB | 44.20 MiB/s, done.\n",
            "Resolving deltas: 100% (93/93), done.\n"
          ],
          "name": "stdout"
        }
      ]
    },
    {
      "metadata": {
        "id": "-fVfnHW3Bf-l",
        "colab_type": "text"
      },
      "cell_type": "markdown",
      "source": [
        "## Data wrangling - Dataframe for Neural Net"
      ]
    },
    {
      "metadata": {
        "id": "km82JkFos1NH",
        "colab_type": "code",
        "outputId": "c371282a-11de-428f-aea0-d04e7daf7f12",
        "colab": {
          "base_uri": "https://localhost:8080/",
          "height": 52
        }
      },
      "cell_type": "code",
      "source": [
        "# Read csv files from compressed rar file and convert into a dataframe\n",
        "rar_path = rarfile.RarFile(\"CovNet_Human_Drawings/data/vectors_features/vgg19_vectors_drawings_block5_pool_all.rar\")\n",
        "csv_file_name = \"vgg19_vectors_drawings_block5_pool_all.csv\"\n",
        "rar_file = rarfile.RarFile.open(rar_path, csv_file_name)\n",
        "raw_dataset = pd.read_csv(rar_file, sep=\",\", header=None)\n",
        "print(raw_dataset.shape)\n",
        "print(type(raw_dataset))"
      ],
      "execution_count": 7,
      "outputs": [
        {
          "output_type": "stream",
          "text": [
            "(258, 25088)\n",
            "<class 'pandas.core.frame.DataFrame'>\n"
          ],
          "name": "stdout"
        }
      ]
    },
    {
      "metadata": {
        "id": "eOZuhSLCv075",
        "colab_type": "code",
        "outputId": "536771ea-9eee-471b-e477-de919ad0a409",
        "colab": {
          "base_uri": "https://localhost:8080/",
          "height": 52
        }
      },
      "cell_type": "code",
      "source": [
        "# create headers for vectors\n",
        "n_vectors = raw_dataset.shape[1]\n",
        "col_list =[]\n",
        "[col_list.append(\"vector_{}\".format(vector)) for vector in range(n_vectors)]\n",
        "print(col_list[0:5])\n",
        "print(len(col_list))"
      ],
      "execution_count": 8,
      "outputs": [
        {
          "output_type": "stream",
          "text": [
            "['vector_0', 'vector_1', 'vector_2', 'vector_3', 'vector_4']\n",
            "25088\n"
          ],
          "name": "stdout"
        }
      ]
    },
    {
      "metadata": {
        "id": "tMSGem9N4Wet",
        "colab_type": "code",
        "outputId": "cd6edc9e-06ad-46f2-9c8b-bb0b049fd152",
        "colab": {
          "base_uri": "https://localhost:8080/",
          "height": 520
        }
      },
      "cell_type": "code",
      "source": [
        "# add headers to vectors in raw dataframe\n",
        "raw_dataset.columns = col_list\n",
        "print(raw_dataset.head())"
      ],
      "execution_count": 9,
      "outputs": [
        {
          "output_type": "stream",
          "text": [
            "   vector_0  vector_1  vector_2  vector_3  vector_4  vector_5  vector_6  \\\n",
            "0       0.0       0.0       0.0       0.0       0.0       0.0       0.0   \n",
            "1       0.0       0.0       0.0       0.0       0.0       0.0       0.0   \n",
            "2       0.0       0.0       0.0       0.0       0.0       0.0       0.0   \n",
            "3       0.0       0.0       0.0       0.0       0.0       0.0       0.0   \n",
            "4       0.0       0.0       0.0       0.0       0.0       0.0       0.0   \n",
            "\n",
            "   vector_7  vector_8  vector_9      ...       vector_25078  vector_25079  \\\n",
            "0       0.0       0.0       0.0      ...                0.0           0.0   \n",
            "1       0.0       0.0       0.0      ...                0.0           0.0   \n",
            "2       0.0       0.0       0.0      ...                0.0           0.0   \n",
            "3       0.0       0.0       0.0      ...                0.0           0.0   \n",
            "4       0.0       0.0       0.0      ...                0.0           0.0   \n",
            "\n",
            "   vector_25080  vector_25081  vector_25082  vector_25083  vector_25084  \\\n",
            "0           0.0           0.0      0.000000           0.0           0.0   \n",
            "1           0.0           0.0      2.030937           0.0           0.0   \n",
            "2           0.0           0.0      0.000000           0.0           0.0   \n",
            "3           0.0           0.0      0.000000           0.0           0.0   \n",
            "4           0.0           0.0      0.000000           0.0           0.0   \n",
            "\n",
            "   vector_25085  vector_25086  vector_25087  \n",
            "0           0.0           0.0           0.0  \n",
            "1           0.0           0.0           0.0  \n",
            "2           0.0           0.0           0.0  \n",
            "3           0.0           0.0           0.0  \n",
            "4           0.0           0.0           0.0  \n",
            "\n",
            "[5 rows x 25088 columns]\n"
          ],
          "name": "stdout"
        }
      ]
    },
    {
      "metadata": {
        "id": "pU1r4ng-zXOG",
        "colab_type": "code",
        "outputId": "2b781db8-fbe7-450b-8fbc-bc2bd4ab4f25",
        "colab": {
          "base_uri": "https://localhost:8080/",
          "height": 35
        }
      },
      "cell_type": "code",
      "source": [
        "# Get the drwawings filenames from directory \n",
        "from os import listdir\n",
        "from os.path import isfile, join\n",
        "\n",
        "path = 'CovNet_Human_Drawings/data/human_drawings_all/'\n",
        "filenames = [f for f in listdir(path) if isfile(join(path, f))]\n",
        "len(filenames) # This should yield 258 "
      ],
      "execution_count": 10,
      "outputs": [
        {
          "output_type": "execute_result",
          "data": {
            "text/plain": [
              "258"
            ]
          },
          "metadata": {
            "tags": []
          },
          "execution_count": 10
        }
      ]
    },
    {
      "metadata": {
        "id": "gUXHZ-fq7hHp",
        "colab_type": "code",
        "outputId": "ea4c0b05-8c8e-4e68-bf87-0b533d0f4cc2",
        "colab": {
          "base_uri": "https://localhost:8080/",
          "height": 52
        }
      },
      "cell_type": "code",
      "source": [
        "# Split the strings by the underscore and return the first element (row id for merging)\n",
        "filenames_crop = []\n",
        "n_id = len(filenames)\n",
        "[filenames_crop.append(filenames[id].split('_')[0]) for id in range(n_id)]\n",
        "print(filenames_crop[0:5])\n",
        "print(len(filenames_crop)) # this should yield 258"
      ],
      "execution_count": 11,
      "outputs": [
        {
          "output_type": "stream",
          "text": [
            "['DAM058', 'DAM041', 'DAM078', 'DAM027', 'DAM027']\n",
            "258\n"
          ],
          "name": "stdout"
        }
      ]
    },
    {
      "metadata": {
        "id": "jdLUGu8q9h2o",
        "colab_type": "code",
        "outputId": "e4bcf3a7-279d-4916-bd59-dae42dc69eab",
        "colab": {
          "base_uri": "https://localhost:8080/",
          "height": 52
        }
      },
      "cell_type": "code",
      "source": [
        "# There is \"a\" in the filenames. To merge this dataframe with the metadata, \n",
        "# we need to change that to uppercasem e.g. DAMa025 needs to change to DAMA025\n",
        "filenames_up = [x.upper() for x in filenames_crop]\n",
        "print(filenames_up[0:5])\n",
        "print(len(filenames_up)) # this should yield 258"
      ],
      "execution_count": 12,
      "outputs": [
        {
          "output_type": "stream",
          "text": [
            "['DAM058', 'DAM041', 'DAM078', 'DAM027', 'DAM027']\n",
            "258\n"
          ],
          "name": "stdout"
        }
      ]
    },
    {
      "metadata": {
        "id": "qYsBYf0YzooU",
        "colab_type": "code",
        "outputId": "3f510870-e3e3-4eb7-8a12-289930f88d67",
        "colab": {
          "base_uri": "https://localhost:8080/",
          "height": 156
        }
      },
      "cell_type": "code",
      "source": [
        "# Get rows ids as dataframe\n",
        "id_list = pd.DataFrame(filenames_up, columns=['id'])\n",
        "print(len(id_list)) # This should yield 258 \n",
        "print(type(id_list))\n",
        "print(id_list.head())"
      ],
      "execution_count": 13,
      "outputs": [
        {
          "output_type": "stream",
          "text": [
            "258\n",
            "<class 'pandas.core.frame.DataFrame'>\n",
            "       id\n",
            "0  DAM058\n",
            "1  DAM041\n",
            "2  DAM078\n",
            "3  DAM027\n",
            "4  DAM027\n"
          ],
          "name": "stdout"
        }
      ]
    },
    {
      "metadata": {
        "id": "2YbLtGskyvS6",
        "colab_type": "code",
        "outputId": "1dae6856-1da1-47b3-fd5d-e1ef22305fb0",
        "colab": {
          "base_uri": "https://localhost:8080/",
          "height": 537
        }
      },
      "cell_type": "code",
      "source": [
        "# merge vector's id and raw vectors\n",
        "df_vectors = pd.concat([id_list, raw_dataset], axis=1)\n",
        "print(df_vectors.shape) # this should yield (258, 25089)\n",
        "print(df_vectors.head())"
      ],
      "execution_count": 14,
      "outputs": [
        {
          "output_type": "stream",
          "text": [
            "(258, 25089)\n",
            "       id  vector_0  vector_1  vector_2  vector_3  vector_4  vector_5  \\\n",
            "0  DAM058       0.0       0.0       0.0       0.0       0.0       0.0   \n",
            "1  DAM041       0.0       0.0       0.0       0.0       0.0       0.0   \n",
            "2  DAM078       0.0       0.0       0.0       0.0       0.0       0.0   \n",
            "3  DAM027       0.0       0.0       0.0       0.0       0.0       0.0   \n",
            "4  DAM027       0.0       0.0       0.0       0.0       0.0       0.0   \n",
            "\n",
            "   vector_6  vector_7  vector_8      ...       vector_25078  vector_25079  \\\n",
            "0       0.0       0.0       0.0      ...                0.0           0.0   \n",
            "1       0.0       0.0       0.0      ...                0.0           0.0   \n",
            "2       0.0       0.0       0.0      ...                0.0           0.0   \n",
            "3       0.0       0.0       0.0      ...                0.0           0.0   \n",
            "4       0.0       0.0       0.0      ...                0.0           0.0   \n",
            "\n",
            "   vector_25080  vector_25081  vector_25082  vector_25083  vector_25084  \\\n",
            "0           0.0           0.0      0.000000           0.0           0.0   \n",
            "1           0.0           0.0      2.030937           0.0           0.0   \n",
            "2           0.0           0.0      0.000000           0.0           0.0   \n",
            "3           0.0           0.0      0.000000           0.0           0.0   \n",
            "4           0.0           0.0      0.000000           0.0           0.0   \n",
            "\n",
            "   vector_25085  vector_25086  vector_25087  \n",
            "0           0.0           0.0           0.0  \n",
            "1           0.0           0.0           0.0  \n",
            "2           0.0           0.0           0.0  \n",
            "3           0.0           0.0           0.0  \n",
            "4           0.0           0.0           0.0  \n",
            "\n",
            "[5 rows x 25089 columns]\n"
          ],
          "name": "stdout"
        }
      ]
    },
    {
      "metadata": {
        "id": "1QG__dpY5oje",
        "colab_type": "code",
        "outputId": "ab2ce802-2959-4479-996e-014b8b8e7600",
        "colab": {
          "base_uri": "https://localhost:8080/",
          "height": 659
        }
      },
      "cell_type": "code",
      "source": [
        "# read metadata as pandas dataframe\n",
        "meta_patah= \"CovNet_Human_Drawings/data/metadata_participants/Study 1 DAM masterdata053117.csv\"\n",
        "df_metadata = pd.read_csv(meta_patah, sep=\",\")\n",
        "print(df_metadata.shape)\n",
        "print(df_metadata.head())"
      ],
      "execution_count": 15,
      "outputs": [
        {
          "output_type": "stream",
          "text": [
            "(107, 397)\n",
            "       id  drop IS_medium_order IS_shape_order IS_site  age_yr  age4g  female  \\\n",
            "0  DAM001     0             SPF            ABC     PSL    5.70      3     0.0   \n",
            "1  DAM002     0             FSP            ACB     PSL    5.42      3     1.0   \n",
            "2  DAM003     0             FSP            BAC     PSL    4.53      2     1.0   \n",
            "3  DAM004     0             SPF            BCA     PSL    5.37      3     0.0   \n",
            "4  DAM005     0             PFS            CBA     PSL    4.19      2     0.0   \n",
            "\n",
            "   adult  child        ...         PS_enjoy_electronic  PS_min_traditional  \\\n",
            "0    0.0    1.0        ...                         NaN                 NaN   \n",
            "1    0.0    1.0        ...                         7.0                  20   \n",
            "2    0.0    1.0        ...                         NaN                  30   \n",
            "3    0.0    1.0        ...                         NaN                 NaN   \n",
            "4    0.0    1.0        ...                        10.0                  15   \n",
            "\n",
            "   PS_min_electornic                                         PS_comment  \\\n",
            "0                NaN                                                NaN   \n",
            "1               20.0                                                NaN   \n",
            "2                NaN  Kids use kindle fire to watch shows  only. The...   \n",
            "3                NaN                                                NaN   \n",
            "4               40.0  Our child really enjoys electronic viewing and...   \n",
            "\n",
            "   asq_total  asq_communication  asq_grossmotor  asq_finemotor  \\\n",
            "0        NaN                NaN             NaN            NaN   \n",
            "1      265.0               55.0            35.0           55.0   \n",
            "2      290.0               60.0            60.0           55.0   \n",
            "3        NaN                NaN             NaN            NaN   \n",
            "4      265.0               45.0            55.0           55.0   \n",
            "\n",
            "   asq_problemsolving asq_personalsocial  \n",
            "0                 NaN                NaN  \n",
            "1                60.0               60.0  \n",
            "2                55.0               60.0  \n",
            "3                 NaN                NaN  \n",
            "4                60.0               50.0  \n",
            "\n",
            "[5 rows x 397 columns]\n"
          ],
          "name": "stdout"
        }
      ]
    },
    {
      "metadata": {
        "id": "aDcr5RvFAIkG",
        "colab_type": "code",
        "outputId": "9247b481-c948-42ee-e4b3-9e6feac2dafb",
        "colab": {
          "base_uri": "https://localhost:8080/",
          "height": 139
        }
      },
      "cell_type": "code",
      "source": [
        "# subset metadata; get id and age columns\n",
        "df_metadata_age = df_metadata[['id','age_yr']]\n",
        "print(df_metadata_age.shape)\n",
        "print(df_metadata_age.head())"
      ],
      "execution_count": 16,
      "outputs": [
        {
          "output_type": "stream",
          "text": [
            "(107, 2)\n",
            "       id  age_yr\n",
            "0  DAM001    5.70\n",
            "1  DAM002    5.42\n",
            "2  DAM003    4.53\n",
            "3  DAM004    5.37\n",
            "4  DAM005    4.19\n"
          ],
          "name": "stdout"
        }
      ]
    },
    {
      "metadata": {
        "id": "BjhDpj1o60xY",
        "colab_type": "code",
        "outputId": "b5991c1e-1c5c-436e-a55b-75daa5d2db84",
        "colab": {
          "base_uri": "https://localhost:8080/",
          "height": 537
        }
      },
      "cell_type": "code",
      "source": [
        "# merge metadata and vectors by id\n",
        "df_predict_age = pd.merge(df_metadata_age, df_vectors, on='id')\n",
        "print(df_predict_age.shape) # this should yield (258, 25090)\n",
        "print(df_predict_age.head())"
      ],
      "execution_count": 17,
      "outputs": [
        {
          "output_type": "stream",
          "text": [
            "(258, 25090)\n",
            "       id  age_yr  vector_0  vector_1  vector_2  vector_3  vector_4  vector_5  \\\n",
            "0  DAM001    5.70       0.0       0.0       0.0       0.0  0.000000  0.000000   \n",
            "1  DAM001    5.70       0.0       0.0       0.0       0.0  0.000000  8.308172   \n",
            "2  DAM001    5.70       0.0       0.0       0.0       0.0  2.121198  0.000000   \n",
            "3  DAM002    5.42       0.0       0.0       0.0       0.0  0.000000  0.000000   \n",
            "4  DAM002    5.42       0.0       0.0       0.0       0.0  0.000000  0.000000   \n",
            "\n",
            "   vector_6  vector_7      ...       vector_25078  vector_25079  vector_25080  \\\n",
            "0       0.0       0.0      ...                0.0           0.0      0.000000   \n",
            "1       0.0       0.0      ...                0.0           0.0     10.788058   \n",
            "2       0.0       0.0      ...                0.0           0.0      0.000000   \n",
            "3       0.0       0.0      ...                0.0           0.0     29.385056   \n",
            "4       0.0       0.0      ...                0.0           0.0      0.000000   \n",
            "\n",
            "   vector_25081  vector_25082  vector_25083  vector_25084  vector_25085  \\\n",
            "0           0.0      0.630956      0.000000           0.0           0.0   \n",
            "1           0.0      0.000000     22.443872           0.0           0.0   \n",
            "2           0.0      0.000000      0.000000           0.0           0.0   \n",
            "3           0.0      0.000000      0.000000           0.0           0.0   \n",
            "4           0.0      1.291875      0.000000           0.0           0.0   \n",
            "\n",
            "   vector_25086  vector_25087  \n",
            "0           0.0           0.0  \n",
            "1           0.0           0.0  \n",
            "2           0.0           0.0  \n",
            "3           0.0           0.0  \n",
            "4           0.0           0.0  \n",
            "\n",
            "[5 rows x 25090 columns]\n"
          ],
          "name": "stdout"
        }
      ]
    },
    {
      "metadata": {
        "id": "7HrhPqw1BAQU",
        "colab_type": "code",
        "colab": {}
      },
      "cell_type": "code",
      "source": [
        "# Let's export the pandas dataframe to a csv for later\n",
        "df_predict_age.to_csv(\"predict_age_from_vectors_block5_pool_all.csv\", sep=',', index= False)"
      ],
      "execution_count": 0,
      "outputs": []
    },
    {
      "metadata": {
        "id": "HJekx0_EDBvq",
        "colab_type": "text"
      },
      "cell_type": "markdown",
      "source": [
        "## Cleaning the data "
      ]
    },
    {
      "metadata": {
        "id": "WK980QDiBdPy",
        "colab_type": "code",
        "outputId": "9db6a7d6-f04b-4aa4-e354-ca1690c9e4f4",
        "colab": {
          "base_uri": "https://localhost:8080/",
          "height": 69
        }
      },
      "cell_type": "code",
      "source": [
        "# print NA values\n",
        "NA = df_predict_age.isna().sum()\n",
        "print(NA[0:2]) # we have 11 rows with missing values for age"
      ],
      "execution_count": 19,
      "outputs": [
        {
          "output_type": "stream",
          "text": [
            "id         0\n",
            "age_yr    11\n",
            "dtype: int64\n"
          ],
          "name": "stdout"
        }
      ]
    },
    {
      "metadata": {
        "id": "DGPaIBu4DQTc",
        "colab_type": "code",
        "colab": {
          "base_uri": "https://localhost:8080/",
          "height": 35
        },
        "outputId": "34cf3469-daa0-4937-9015-8b67a959ad98"
      },
      "cell_type": "code",
      "source": [
        "from fancyimpute import IterativeImputer\n",
        "# IterativeImputer: A strategy for imputing missing values by modeling each \n",
        "# feature with missing values as a function of other features in a round-robin fashion.\n",
        "\n",
        "# IterativeImputer only works with scalar values so we have to get rid of \n",
        "# id label first \n",
        "df_predict_age_na = df_predict_age_na = df_predict_age.loc[:, df_predict_age.columns != 'id']\n",
        "\n",
        "# now we can do the imputation \n",
        "df_predict_age_imp = IterativeImputer().fit_transform(df_predict_age_na)"
      ],
      "execution_count": 20,
      "outputs": [
        {
          "output_type": "stream",
          "text": [
            "Using TensorFlow backend.\n"
          ],
          "name": "stderr"
        }
      ]
    },
    {
      "metadata": {
        "id": "uGa_osUKIW4h",
        "colab_type": "code",
        "outputId": "edffd43f-7a44-40d8-ec7e-d43b34a5b9ff",
        "colab": {
          "base_uri": "https://localhost:8080/",
          "height": 416
        }
      },
      "cell_type": "code",
      "source": [
        "# IterativeImputer returns a np array, so we need to change it back to pandas\n",
        "df_predict_age_pn = pd.DataFrame(df_predict_age_imp)\n",
        "print(type(df_predict_age_pn))\n",
        "print(df_predict_age_pn.head())"
      ],
      "execution_count": 21,
      "outputs": [
        {
          "output_type": "stream",
          "text": [
            "<class 'pandas.core.frame.DataFrame'>\n",
            "   0      1      2      3      4         5         6      7      8      9      \\\n",
            "0   5.70    0.0    0.0    0.0    0.0  0.000000  0.000000    0.0    0.0    0.0   \n",
            "1   5.70    0.0    0.0    0.0    0.0  0.000000  8.308172    0.0    0.0    0.0   \n",
            "2   5.70    0.0    0.0    0.0    0.0  2.121198  0.000000    0.0    0.0    0.0   \n",
            "3   5.42    0.0    0.0    0.0    0.0  0.000000  0.000000    0.0    0.0    0.0   \n",
            "4   5.42    0.0    0.0    0.0    0.0  0.000000  0.000000    0.0    0.0    0.0   \n",
            "\n",
            "   ...    25079  25080      25081  25082     25083      25084  25085  25086  \\\n",
            "0  ...      0.0    0.0   0.000000    0.0  0.630956   0.000000    0.0    0.0   \n",
            "1  ...      0.0    0.0  10.788058    0.0  0.000000  22.443872    0.0    0.0   \n",
            "2  ...      0.0    0.0   0.000000    0.0  0.000000   0.000000    0.0    0.0   \n",
            "3  ...      0.0    0.0  29.385056    0.0  0.000000   0.000000    0.0    0.0   \n",
            "4  ...      0.0    0.0   0.000000    0.0  1.291875   0.000000    0.0    0.0   \n",
            "\n",
            "   25087  25088  \n",
            "0    0.0    0.0  \n",
            "1    0.0    0.0  \n",
            "2    0.0    0.0  \n",
            "3    0.0    0.0  \n",
            "4    0.0    0.0  \n",
            "\n",
            "[5 rows x 25089 columns]\n"
          ],
          "name": "stdout"
        }
      ]
    },
    {
      "metadata": {
        "id": "092dDB52OnZY",
        "colab_type": "code",
        "outputId": "d688eb6c-b8b5-4a31-ab2b-5c11884a9c31",
        "colab": {
          "base_uri": "https://localhost:8080/",
          "height": 416
        }
      },
      "cell_type": "code",
      "source": [
        "# merge vector's id and raw vectors\n",
        "df_predict_age_fix = pd.concat([id_list, df_predict_age_pn], axis=1)\n",
        "print(df_predict_age_fix.shape) # this should yield (258, 25089)\n",
        "print(df_predict_age_fix.head())"
      ],
      "execution_count": 22,
      "outputs": [
        {
          "output_type": "stream",
          "text": [
            "(258, 25090)\n",
            "       id     0    1    2    3    4         5         6    7    8  ...    \\\n",
            "0  DAM058  5.70  0.0  0.0  0.0  0.0  0.000000  0.000000  0.0  0.0  ...     \n",
            "1  DAM041  5.70  0.0  0.0  0.0  0.0  0.000000  8.308172  0.0  0.0  ...     \n",
            "2  DAM078  5.70  0.0  0.0  0.0  0.0  2.121198  0.000000  0.0  0.0  ...     \n",
            "3  DAM027  5.42  0.0  0.0  0.0  0.0  0.000000  0.000000  0.0  0.0  ...     \n",
            "4  DAM027  5.42  0.0  0.0  0.0  0.0  0.000000  0.000000  0.0  0.0  ...     \n",
            "\n",
            "   25079  25080      25081  25082     25083      25084  25085  25086  25087  \\\n",
            "0    0.0    0.0   0.000000    0.0  0.630956   0.000000    0.0    0.0    0.0   \n",
            "1    0.0    0.0  10.788058    0.0  0.000000  22.443872    0.0    0.0    0.0   \n",
            "2    0.0    0.0   0.000000    0.0  0.000000   0.000000    0.0    0.0    0.0   \n",
            "3    0.0    0.0  29.385056    0.0  0.000000   0.000000    0.0    0.0    0.0   \n",
            "4    0.0    0.0   0.000000    0.0  1.291875   0.000000    0.0    0.0    0.0   \n",
            "\n",
            "   25088  \n",
            "0    0.0  \n",
            "1    0.0  \n",
            "2    0.0  \n",
            "3    0.0  \n",
            "4    0.0  \n",
            "\n",
            "[5 rows x 25090 columns]\n"
          ],
          "name": "stdout"
        }
      ]
    },
    {
      "metadata": {
        "id": "J-X3gEwiO84u",
        "colab_type": "code",
        "outputId": "b3b2228e-ef85-474c-a00a-8ca917cbeda5",
        "colab": {
          "base_uri": "https://localhost:8080/",
          "height": 35
        }
      },
      "cell_type": "code",
      "source": [
        "# let's get the original col names to add that back to the new dataframe\n",
        "col_names = list(df_predict_age.columns.values)\n",
        "print(col_names[0:5])"
      ],
      "execution_count": 23,
      "outputs": [
        {
          "output_type": "stream",
          "text": [
            "['id', 'age_yr', 'vector_0', 'vector_1', 'vector_2']\n"
          ],
          "name": "stdout"
        }
      ]
    },
    {
      "metadata": {
        "id": "eCW4PUd3LJ1Y",
        "colab_type": "code",
        "outputId": "ada9cfc0-ea67-4275-c574-f7491c98a543",
        "colab": {
          "base_uri": "https://localhost:8080/",
          "height": 520
        }
      },
      "cell_type": "code",
      "source": [
        "# add headers to vectors into dataframe after imputation\n",
        "df_predict_age_fix.columns = col_names\n",
        "print(df_predict_age_fix.head())"
      ],
      "execution_count": 24,
      "outputs": [
        {
          "output_type": "stream",
          "text": [
            "       id  age_yr  vector_0  vector_1  vector_2  vector_3  vector_4  vector_5  \\\n",
            "0  DAM058    5.70       0.0       0.0       0.0       0.0  0.000000  0.000000   \n",
            "1  DAM041    5.70       0.0       0.0       0.0       0.0  0.000000  8.308172   \n",
            "2  DAM078    5.70       0.0       0.0       0.0       0.0  2.121198  0.000000   \n",
            "3  DAM027    5.42       0.0       0.0       0.0       0.0  0.000000  0.000000   \n",
            "4  DAM027    5.42       0.0       0.0       0.0       0.0  0.000000  0.000000   \n",
            "\n",
            "   vector_6  vector_7      ...       vector_25078  vector_25079  vector_25080  \\\n",
            "0       0.0       0.0      ...                0.0           0.0      0.000000   \n",
            "1       0.0       0.0      ...                0.0           0.0     10.788058   \n",
            "2       0.0       0.0      ...                0.0           0.0      0.000000   \n",
            "3       0.0       0.0      ...                0.0           0.0     29.385056   \n",
            "4       0.0       0.0      ...                0.0           0.0      0.000000   \n",
            "\n",
            "   vector_25081  vector_25082  vector_25083  vector_25084  vector_25085  \\\n",
            "0           0.0      0.630956      0.000000           0.0           0.0   \n",
            "1           0.0      0.000000     22.443872           0.0           0.0   \n",
            "2           0.0      0.000000      0.000000           0.0           0.0   \n",
            "3           0.0      0.000000      0.000000           0.0           0.0   \n",
            "4           0.0      1.291875      0.000000           0.0           0.0   \n",
            "\n",
            "   vector_25086  vector_25087  \n",
            "0           0.0           0.0  \n",
            "1           0.0           0.0  \n",
            "2           0.0           0.0  \n",
            "3           0.0           0.0  \n",
            "4           0.0           0.0  \n",
            "\n",
            "[5 rows x 25090 columns]\n"
          ],
          "name": "stdout"
        }
      ]
    },
    {
      "metadata": {
        "id": "hubhvGiPGaxc",
        "colab_type": "code",
        "outputId": "bbee6eda-ca96-4ef8-d8c7-56091a9c6455",
        "colab": {
          "base_uri": "https://localhost:8080/",
          "height": 121
        }
      },
      "cell_type": "code",
      "source": [
        "# print NA values before imputation\n",
        "NA = df_predict_age.isna().sum()\n",
        "print(NA[0:2]) # we have 11 rows with missing values for age\n",
        "\n",
        "# print NA values after imputation\n",
        "NA_imp = df_predict_age_fix.isna().sum()\n",
        "print(NA_imp[0:2]) # Now we have 0 NA values in our new dataframe"
      ],
      "execution_count": 25,
      "outputs": [
        {
          "output_type": "stream",
          "text": [
            "id         0\n",
            "age_yr    11\n",
            "dtype: int64\n",
            "id        0\n",
            "age_yr    0\n",
            "dtype: int64\n"
          ],
          "name": "stdout"
        }
      ]
    },
    {
      "metadata": {
        "id": "n5lhZPWIPpfm",
        "colab_type": "code",
        "colab": {}
      },
      "cell_type": "code",
      "source": [
        "# Let's export the pandas dataframe to a csv for later\n",
        "df_predict_age_fix.to_csv(\"predict_age_from_vectors_block5_pool_all_imp.csv\", sep=',', index=False)"
      ],
      "execution_count": 0,
      "outputs": []
    },
    {
      "metadata": {
        "id": "2jTJq8dXdFgO",
        "colab_type": "text"
      },
      "cell_type": "markdown",
      "source": [
        "# Training the Neural Network"
      ]
    },
    {
      "metadata": {
        "id": "Zv9CimhUQATE",
        "colab_type": "text"
      },
      "cell_type": "markdown",
      "source": [
        "## Split the data into train and test for training"
      ]
    },
    {
      "metadata": {
        "id": "P7Rgqx7LZTz6",
        "colab_type": "text"
      },
      "cell_type": "markdown",
      "source": [
        "To avoid re-running the data wrangling process, now we can load the dataset from memory. We can skip everything above this section by running the two cells below"
      ]
    },
    {
      "metadata": {
        "id": "S4BcT9z1Y_xW",
        "colab_type": "code",
        "colab": {
          "base_uri": "https://localhost:8080/",
          "height": 35
        },
        "outputId": "454eb10e-ce7c-4d64-9414-82c3508b24b6"
      },
      "cell_type": "code",
      "source": [
        "# install seaborn for pairplot\n",
        "!pip install -q seaborn\n",
        "\n",
        "from __future__ import absolute_import, division, print_function\n",
        "\n",
        "import pathlib\n",
        "\n",
        "import matplotlib.pyplot as plt\n",
        "import pandas as pd\n",
        "import seaborn as sns\n",
        "import csv\n",
        "\n",
        "\n",
        "import tensorflow as tf\n",
        "from tensorflow import keras\n",
        "from tensorflow.keras import layers\n",
        "\n",
        "print(tf.__version__)"
      ],
      "execution_count": 2,
      "outputs": [
        {
          "output_type": "stream",
          "text": [
            "1.13.1\n"
          ],
          "name": "stdout"
        }
      ]
    },
    {
      "metadata": {
        "id": "0K1HA8-1Zt2K",
        "colab_type": "code",
        "colab": {
          "base_uri": "https://localhost:8080/",
          "height": 139
        },
        "outputId": "843df0e9-4813-4cfa-81e1-84f856653cf4"
      },
      "cell_type": "code",
      "source": [
        "# Run this only if you haven't clone the data before\n",
        "# Clone the data into Colab\n",
        "! git clone https://github.com/pabloinsente/CovNet_Human_Drawings"
      ],
      "execution_count": 3,
      "outputs": [
        {
          "output_type": "stream",
          "text": [
            "Cloning into 'CovNet_Human_Drawings'...\n",
            "remote: Enumerating objects: 510, done.\u001b[K\n",
            "remote: Counting objects: 100% (510/510), done.\u001b[K\n",
            "remote: Compressing objects: 100% (446/446), done.\u001b[K\n",
            "remote: Total 510 (delta 99), reused 441 (delta 60), pack-reused 0\u001b[K\n",
            "Receiving objects: 100% (510/510), 47.19 MiB | 28.16 MiB/s, done.\n",
            "Resolving deltas: 100% (99/99), done.\n"
          ],
          "name": "stdout"
        }
      ]
    },
    {
      "metadata": {
        "id": "tG_U8SqXYNmz",
        "colab_type": "code",
        "colab": {
          "base_uri": "https://localhost:8080/",
          "height": 537
        },
        "outputId": "0083c72e-df53-4b3a-b37c-67cbf7325e9b"
      },
      "cell_type": "code",
      "source": [
        "df_path = \"CovNet_Human_Drawings/data/merged_dataframes_prediction/predict_age_from_vectors_block5_pool_all_imp.csv\"\n",
        "df_net = pd.read_csv(df_path, sep=\",\")\n",
        "print(df_net.shape)\n",
        "print(df_net.head())"
      ],
      "execution_count": 4,
      "outputs": [
        {
          "output_type": "stream",
          "text": [
            "(258, 25091)\n",
            "   Unnamed: 0      id  age_yr  vector_0  vector_1  vector_2  vector_3  \\\n",
            "0           0  DAM058    5.70       0.0       0.0       0.0       0.0   \n",
            "1           1  DAM041    5.70       0.0       0.0       0.0       0.0   \n",
            "2           2  DAM078    5.70       0.0       0.0       0.0       0.0   \n",
            "3           3  DAM027    5.42       0.0       0.0       0.0       0.0   \n",
            "4           4  DAM027    5.42       0.0       0.0       0.0       0.0   \n",
            "\n",
            "   vector_4  vector_5  vector_6      ...       vector_25078  vector_25079  \\\n",
            "0  0.000000  0.000000       0.0      ...                0.0           0.0   \n",
            "1  0.000000  8.308172       0.0      ...                0.0           0.0   \n",
            "2  2.121198  0.000000       0.0      ...                0.0           0.0   \n",
            "3  0.000000  0.000000       0.0      ...                0.0           0.0   \n",
            "4  0.000000  0.000000       0.0      ...                0.0           0.0   \n",
            "\n",
            "   vector_25080  vector_25081  vector_25082  vector_25083  vector_25084  \\\n",
            "0      0.000000           0.0      0.630956      0.000000           0.0   \n",
            "1     10.788058           0.0      0.000000     22.443872           0.0   \n",
            "2      0.000000           0.0      0.000000      0.000000           0.0   \n",
            "3     29.385056           0.0      0.000000      0.000000           0.0   \n",
            "4      0.000000           0.0      1.291875      0.000000           0.0   \n",
            "\n",
            "   vector_25085  vector_25086  vector_25087  \n",
            "0           0.0           0.0           0.0  \n",
            "1           0.0           0.0           0.0  \n",
            "2           0.0           0.0           0.0  \n",
            "3           0.0           0.0           0.0  \n",
            "4           0.0           0.0           0.0  \n",
            "\n",
            "[5 rows x 25091 columns]\n"
          ],
          "name": "stdout"
        }
      ]
    },
    {
      "metadata": {
        "id": "Wxckuju1QG23",
        "colab_type": "code",
        "colab": {}
      },
      "cell_type": "code",
      "source": [
        "# We will use 80% of the data for training and 20% for testing\n",
        "train_dataset = df_net.sample(frac=0.8,random_state=0)\n",
        "test_dataset = df_net.drop(train_dataset.index)"
      ],
      "execution_count": 0,
      "outputs": []
    },
    {
      "metadata": {
        "id": "00gHK_iRRYAW",
        "colab_type": "code",
        "colab": {}
      },
      "cell_type": "code",
      "source": [
        "# We will skip exploring the data because we have ~25,000 uninterpretable features"
      ],
      "execution_count": 0,
      "outputs": []
    },
    {
      "metadata": {
        "id": "LbvMJhk1RZWw",
        "colab_type": "text"
      },
      "cell_type": "markdown",
      "source": [
        "## Split features from labels\n"
      ]
    },
    {
      "metadata": {
        "id": "SbF2wT2oRbpn",
        "colab_type": "code",
        "colab": {}
      },
      "cell_type": "code",
      "source": [
        "# Separate the target value, or \"label\", from the features, \"agre_yr\" \n",
        "# This label is the value that we will train the model to predict.\n",
        "train_labels = train_dataset.pop('age_yr')\n",
        "test_labels = test_dataset.pop('age_yr')"
      ],
      "execution_count": 0,
      "outputs": []
    }
  ]
}