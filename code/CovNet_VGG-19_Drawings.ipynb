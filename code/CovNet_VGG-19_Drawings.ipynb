{
  "nbformat": 4,
  "nbformat_minor": 0,
  "metadata": {
    "colab": {
      "name": "CovNet_VGG-19_Drawings.ipynb",
      "version": "0.3.2",
      "provenance": [],
      "include_colab_link": true
    },
    "kernelspec": {
      "name": "python3",
      "display_name": "Python 3"
    },
    "accelerator": "GPU"
  },
  "cells": [
    {
      "cell_type": "markdown",
      "metadata": {
        "id": "view-in-github",
        "colab_type": "text"
      },
      "source": [
        "<a href=\"https://colab.research.google.com/github/pabloinsente/CovNet_Human_Drawings/blob/master/code/CovNet_VGG-19_Drawings.ipynb\" target=\"_parent\"><img src=\"https://colab.research.google.com/assets/colab-badge.svg\" alt=\"Open In Colab\"/></a>"
      ]
    },
    {
      "metadata": {
        "id": "S4NTWD6c3QLC",
        "colab_type": "text"
      },
      "cell_type": "markdown",
      "source": [
        "# Feature extraction from intermediate layers with VGG19 architecture with weights pre-trained on ImageNet"
      ]
    },
    {
      "metadata": {
        "id": "OZExGdHDyEou",
        "colab_type": "code",
        "outputId": "2c427cc3-ae9a-4feb-e1b9-4fc487eb8eb2",
        "colab": {
          "base_uri": "https://localhost:8080/",
          "height": 34
        }
      },
      "cell_type": "code",
      "source": [
        "# Here we use Keras API to process the data by using VGG19 \n",
        "from keras.applications.vgg19 import VGG19\n",
        "from keras.preprocessing import image\n",
        "from keras.applications.vgg19 import preprocess_input\n",
        "from keras.models import Model\n",
        "import numpy as np"
      ],
      "execution_count": 1,
      "outputs": [
        {
          "output_type": "stream",
          "text": [
            "Using TensorFlow backend.\n"
          ],
          "name": "stderr"
        }
      ]
    },
    {
      "metadata": {
        "id": "y5o7m6WEyQQw",
        "colab_type": "code",
        "outputId": "e1065cd1-eaac-49c7-8edf-474cc2c18028",
        "colab": {
          "base_uri": "https://localhost:8080/",
          "height": 121
        }
      },
      "cell_type": "code",
      "source": [
        "# Load base model with imagenet pre-trained weights \n",
        "base_model = VGG19(weights='imagenet')"
      ],
      "execution_count": 2,
      "outputs": [
        {
          "output_type": "stream",
          "text": [
            "WARNING:tensorflow:From /usr/local/lib/python3.6/dist-packages/tensorflow/python/framework/op_def_library.py:263: colocate_with (from tensorflow.python.framework.ops) is deprecated and will be removed in a future version.\n",
            "Instructions for updating:\n",
            "Colocations handled automatically by placer.\n",
            "Downloading data from https://github.com/fchollet/deep-learning-models/releases/download/v0.1/vgg19_weights_tf_dim_ordering_tf_kernels.h5\n",
            "574717952/574710816 [==============================] - 37s 0us/step\n"
          ],
          "name": "stdout"
        }
      ]
    },
    {
      "metadata": {
        "id": "rivB17_85uby",
        "colab_type": "text"
      },
      "cell_type": "markdown",
      "source": [
        "## VGG-19 architecture  \n",
        "\n",
        "VGG-19 is a 19 layer Convolutional Neural Network  \n",
        "The **input layer** takes a 224x224x3 image (high, wifth, color channels)  \n",
        "The **output layer** is a softmax on 1000 classes  \n",
        "The **feature extraction** part goes from the input layer to the last max pooling layer  \n",
        "The **classification** part goes from the last max pooling layer to the output layer  \n",
        "\n",
        "Simonyan, and Zisserman paper:  \n",
        "https://arxiv.org/pdf/1409.1556.pdf  \n",
        "Keras reference:  \n",
        "https://keras.io/applications/#vgg19    \n",
        "![VGG-19 architecture](https://www.researchgate.net/profile/Clifford_Yang/publication/325137356/figure/fig2/AS:670371271413777@1536840374533/llustration-of-the-network-architecture-of-VGG-19-model-conv-means-convolution-FC-means.jpg)"
      ]
    },
    {
      "metadata": {
        "id": "tYTfJAUVl330",
        "colab_type": "code",
        "colab": {
          "base_uri": "https://localhost:8080/",
          "height": 1008
        },
        "outputId": "8d41356c-58d4-4c72-8378-5222b651ecb5"
      },
      "cell_type": "code",
      "source": [
        "# Here we can see the progression from layer to layer \n",
        "# The output shape column shows how the image gets compressed as \n",
        "# it pass through the layers\n",
        "base_model.summary()"
      ],
      "execution_count": 5,
      "outputs": [
        {
          "output_type": "stream",
          "text": [
            "_________________________________________________________________\n",
            "Layer (type)                 Output Shape              Param #   \n",
            "=================================================================\n",
            "input_1 (InputLayer)         (None, 224, 224, 3)       0         \n",
            "_________________________________________________________________\n",
            "block1_conv1 (Conv2D)        (None, 224, 224, 64)      1792      \n",
            "_________________________________________________________________\n",
            "block1_conv2 (Conv2D)        (None, 224, 224, 64)      36928     \n",
            "_________________________________________________________________\n",
            "block1_pool (MaxPooling2D)   (None, 112, 112, 64)      0         \n",
            "_________________________________________________________________\n",
            "block2_conv1 (Conv2D)        (None, 112, 112, 128)     73856     \n",
            "_________________________________________________________________\n",
            "block2_conv2 (Conv2D)        (None, 112, 112, 128)     147584    \n",
            "_________________________________________________________________\n",
            "block2_pool (MaxPooling2D)   (None, 56, 56, 128)       0         \n",
            "_________________________________________________________________\n",
            "block3_conv1 (Conv2D)        (None, 56, 56, 256)       295168    \n",
            "_________________________________________________________________\n",
            "block3_conv2 (Conv2D)        (None, 56, 56, 256)       590080    \n",
            "_________________________________________________________________\n",
            "block3_conv3 (Conv2D)        (None, 56, 56, 256)       590080    \n",
            "_________________________________________________________________\n",
            "block3_conv4 (Conv2D)        (None, 56, 56, 256)       590080    \n",
            "_________________________________________________________________\n",
            "block3_pool (MaxPooling2D)   (None, 28, 28, 256)       0         \n",
            "_________________________________________________________________\n",
            "block4_conv1 (Conv2D)        (None, 28, 28, 512)       1180160   \n",
            "_________________________________________________________________\n",
            "block4_conv2 (Conv2D)        (None, 28, 28, 512)       2359808   \n",
            "_________________________________________________________________\n",
            "block4_conv3 (Conv2D)        (None, 28, 28, 512)       2359808   \n",
            "_________________________________________________________________\n",
            "block4_conv4 (Conv2D)        (None, 28, 28, 512)       2359808   \n",
            "_________________________________________________________________\n",
            "block4_pool (MaxPooling2D)   (None, 14, 14, 512)       0         \n",
            "_________________________________________________________________\n",
            "block5_conv1 (Conv2D)        (None, 14, 14, 512)       2359808   \n",
            "_________________________________________________________________\n",
            "block5_conv2 (Conv2D)        (None, 14, 14, 512)       2359808   \n",
            "_________________________________________________________________\n",
            "block5_conv3 (Conv2D)        (None, 14, 14, 512)       2359808   \n",
            "_________________________________________________________________\n",
            "block5_conv4 (Conv2D)        (None, 14, 14, 512)       2359808   \n",
            "_________________________________________________________________\n",
            "block5_pool (MaxPooling2D)   (None, 7, 7, 512)         0         \n",
            "_________________________________________________________________\n",
            "flatten (Flatten)            (None, 25088)             0         \n",
            "_________________________________________________________________\n",
            "fc1 (Dense)                  (None, 4096)              102764544 \n",
            "_________________________________________________________________\n",
            "fc2 (Dense)                  (None, 4096)              16781312  \n",
            "_________________________________________________________________\n",
            "predictions (Dense)          (None, 1000)              4097000   \n",
            "=================================================================\n",
            "Total params: 143,667,240\n",
            "Trainable params: 143,667,240\n",
            "Non-trainable params: 0\n",
            "_________________________________________________________________\n"
          ],
          "name": "stdout"
        }
      ]
    },
    {
      "metadata": {
        "id": "6086Q9SJ3-pK",
        "colab_type": "code",
        "colab": {}
      },
      "cell_type": "code",
      "source": [
        "# Pick a layer for feature extraction \n",
        "# Here we pick the maxpooling layer in block 5\n",
        "feature_layer = \"block5_pool\"\n",
        "\n",
        "# To check other layers\n",
        "# feature_layer = \"block1_pool \"\n",
        "# feature_layer = \"block1_conv1 \"\n",
        " \n",
        "model = Model(inputs=base_model.input, \n",
        "              outputs=base_model.get_layer(feature_layer).output)"
      ],
      "execution_count": 0,
      "outputs": []
    },
    {
      "metadata": {
        "id": "VbEJr-PdyktQ",
        "colab_type": "code",
        "colab": {
          "base_uri": "https://localhost:8080/",
          "height": 134
        },
        "outputId": "b009531e-ff34-4bcc-b789-6567e30e0464"
      },
      "cell_type": "code",
      "source": [
        "# Images are storage in GitHub. By running this we clone the data into Colab\n",
        "! git clone https://github.com/pabloinsente/CovNet_Human_Drawings\n",
        "# Run this just once per sesion"
      ],
      "execution_count": 7,
      "outputs": [
        {
          "output_type": "stream",
          "text": [
            "Cloning into 'CovNet_Human_Drawings'...\n",
            "remote: Enumerating objects: 237, done.\u001b[K\n",
            "remote: Counting objects:   0% (1/237)   \u001b[K\rremote: Counting objects:   1% (3/237)   \u001b[K\rremote: Counting objects:   2% (5/237)   \u001b[K\rremote: Counting objects:   3% (8/237)   \u001b[K\rremote: Counting objects:   4% (10/237)   \u001b[K\rremote: Counting objects:   5% (12/237)   \u001b[K\rremote: Counting objects:   6% (15/237)   \u001b[K\rremote: Counting objects:   7% (17/237)   \u001b[K\rremote: Counting objects:   8% (19/237)   \u001b[K\rremote: Counting objects:   9% (22/237)   \u001b[K\rremote: Counting objects:  10% (24/237)   \u001b[K\rremote: Counting objects:  11% (27/237)   \u001b[K\rremote: Counting objects:  12% (29/237)   \u001b[K\rremote: Counting objects:  13% (31/237)   \u001b[K\rremote: Counting objects:  14% (34/237)   \u001b[K\rremote: Counting objects:  15% (36/237)   \u001b[K\rremote: Counting objects:  16% (38/237)   \u001b[K\rremote: Counting objects:  17% (41/237)   \u001b[K\rremote: Counting objects:  18% (43/237)   \u001b[K\rremote: Counting objects:  19% (46/237)   \u001b[K\rremote: Counting objects:  20% (48/237)   \u001b[K\rremote: Counting objects:  21% (50/237)   \u001b[K\rremote: Counting objects:  22% (53/237)   \u001b[K\rremote: Counting objects:  23% (55/237)   \u001b[K\rremote: Counting objects:  24% (57/237)   \u001b[K\rremote: Counting objects:  25% (60/237)   \u001b[K\rremote: Counting objects:  26% (62/237)   \u001b[K\rremote: Counting objects:  27% (64/237)   \u001b[K\rremote: Counting objects:  28% (67/237)   \u001b[K\rremote: Counting objects:  29% (69/237)   \u001b[K\rremote: Counting objects:  30% (72/237)   \u001b[K\rremote: Counting objects:  31% (74/237)   \u001b[K\rremote: Counting objects:  32% (76/237)   \u001b[K\rremote: Counting objects:  33% (79/237)   \u001b[K\rremote: Counting objects:  34% (81/237)   \u001b[K\rremote: Counting objects:  35% (83/237)   \u001b[K\rremote: Counting objects:  36% (86/237)   \u001b[K\rremote: Counting objects:  37% (88/237)   \u001b[K\rremote: Counting objects:  38% (91/237)   \u001b[K\rremote: Counting objects:  39% (93/237)   \u001b[K\rremote: Counting objects:  40% (95/237)   \u001b[K\rremote: Counting objects:  41% (98/237)   \u001b[K\rremote: Counting objects:  42% (100/237)   \u001b[K\rremote: Counting objects:  43% (102/237)   \u001b[K\rremote: Counting objects:  44% (105/237)   \u001b[K\rremote: Counting objects:  45% (107/237)   \u001b[K\rremote: Counting objects:  46% (110/237)   \u001b[K\rremote: Counting objects:  47% (112/237)   \u001b[K\rremote: Counting objects:  48% (114/237)   \u001b[K\rremote: Counting objects:  49% (117/237)   \u001b[K\rremote: Counting objects:  50% (119/237)   \u001b[K\rremote: Counting objects:  51% (121/237)   \u001b[K\rremote: Counting objects:  52% (124/237)   \u001b[K\rremote: Counting objects:  53% (126/237)   \u001b[K\rremote: Counting objects:  54% (128/237)   \u001b[K\rremote: Counting objects:  55% (131/237)   \u001b[K\rremote: Counting objects:  56% (133/237)   \u001b[K\rremote: Counting objects:  57% (136/237)   \u001b[K\rremote: Counting objects:  58% (138/237)   \u001b[K\rremote: Counting objects:  59% (140/237)   \u001b[K\rremote: Counting objects:  60% (143/237)   \u001b[K\rremote: Counting objects:  61% (145/237)   \u001b[K\rremote: Counting objects:  62% (147/237)   \u001b[K\rremote: Counting objects:  63% (150/237)   \u001b[K\rremote: Counting objects:  64% (152/237)   \u001b[K\rremote: Counting objects:  65% (155/237)   \u001b[K\rremote: Counting objects:  66% (157/237)   \u001b[K\rremote: Counting objects:  67% (159/237)   \u001b[K\rremote: Counting objects:  68% (162/237)   \u001b[K\rremote: Counting objects:  69% (164/237)   \u001b[K\rremote: Counting objects:  70% (166/237)   \u001b[K\rremote: Counting objects:  71% (169/237)   \u001b[K\rremote: Counting objects:  72% (171/237)   \u001b[K\rremote: Counting objects:  73% (174/237)   \u001b[K\rremote: Counting objects:  74% (176/237)   \u001b[K\rremote: Counting objects:  75% (178/237)   \u001b[K\rremote: Counting objects:  76% (181/237)   \u001b[K\rremote: Counting objects:  77% (183/237)   \u001b[K\rremote: Counting objects:  78% (185/237)   \u001b[K\rremote: Counting objects:  79% (188/237)   \u001b[K\rremote: Counting objects:  80% (190/237)   \u001b[K\rremote: Counting objects:  81% (192/237)   \u001b[K\rremote: Counting objects:  82% (195/237)   \u001b[K\rremote: Counting objects:  83% (197/237)   \u001b[K\rremote: Counting objects:  84% (200/237)   \u001b[K\rremote: Counting objects:  85% (202/237)   \u001b[K\rremote: Counting objects:  86% (204/237)   \u001b[K\rremote: Counting objects:  87% (207/237)   \u001b[K\rremote: Counting objects:  88% (209/237)   \u001b[K\rremote: Counting objects:  89% (211/237)   \u001b[K\rremote: Counting objects:  90% (214/237)   \u001b[K\rremote: Counting objects:  91% (216/237)   \u001b[K\rremote: Counting objects:  92% (219/237)   \u001b[K\rremote: Counting objects:  93% (221/237)   \u001b[K\rremote: Counting objects:  94% (223/237)   \u001b[K\rremote: Counting objects:  95% (226/237)   \u001b[K\rremote: Counting objects:  96% (228/237)   \u001b[K\rremote: Counting objects:  97% (230/237)   \u001b[K\rremote: Counting objects:  98% (233/237)   \u001b[K\rremote: Counting objects:  99% (235/237)   \u001b[K\rremote: Counting objects: 100% (237/237)   \u001b[K\rremote: Counting objects: 100% (237/237), done.\u001b[K\n",
            "remote: Compressing objects:   0% (1/206)   \u001b[K\rremote: Compressing objects:   1% (3/206)   \u001b[K\rremote: Compressing objects:   2% (5/206)   \u001b[K\rremote: Compressing objects:   3% (7/206)   \u001b[K\rremote: Compressing objects:   4% (9/206)   \u001b[K\rremote: Compressing objects:   5% (11/206)   \u001b[K\rremote: Compressing objects:   6% (13/206)   \u001b[K\rremote: Compressing objects:   7% (15/206)   \u001b[K\rremote: Compressing objects:   8% (17/206)   \u001b[K\rremote: Compressing objects:   9% (19/206)   \u001b[K\rremote: Compressing objects:  10% (21/206)   \u001b[K\rremote: Compressing objects:  11% (23/206)   \u001b[K\rremote: Compressing objects:  12% (25/206)   \u001b[K\rremote: Compressing objects:  13% (27/206)   \u001b[K\rremote: Compressing objects:  14% (29/206)   \u001b[K\rremote: Compressing objects:  15% (31/206)   \u001b[K\rremote: Compressing objects:  16% (33/206)   \u001b[K\rremote: Compressing objects:  17% (36/206)   \u001b[K\rremote: Compressing objects:  18% (38/206)   \u001b[K\rremote: Compressing objects:  19% (40/206)   \u001b[K\rremote: Compressing objects:  20% (42/206)   \u001b[K\rremote: Compressing objects:  21% (44/206)   \u001b[K\rremote: Compressing objects:  22% (46/206)   \u001b[K\rremote: Compressing objects:  23% (48/206)   \u001b[K\rremote: Compressing objects:  24% (50/206)   \u001b[K\rremote: Compressing objects:  25% (52/206)   \u001b[K\rremote: Compressing objects:  26% (54/206)   \u001b[K\rremote: Compressing objects:  27% (56/206)   \u001b[K\rremote: Compressing objects:  28% (58/206)   \u001b[K\rremote: Compressing objects:  29% (60/206)   \u001b[K\rremote: Compressing objects:  30% (62/206)   \u001b[K\rremote: Compressing objects:  31% (64/206)   \u001b[K\rremote: Compressing objects:  32% (66/206)   \u001b[K\rremote: Compressing objects:  33% (68/206)   \u001b[K\rremote: Compressing objects:  34% (71/206)   \u001b[K\rremote: Compressing objects:  35% (73/206)   \u001b[K\rremote: Compressing objects:  36% (75/206)   \u001b[K\rremote: Compressing objects:  37% (77/206)   \u001b[K\rremote: Compressing objects:  38% (79/206)   \u001b[K\rremote: Compressing objects:  39% (81/206)   \u001b[K\rremote: Compressing objects:  40% (83/206)   \u001b[K\rremote: Compressing objects:  41% (85/206)   \u001b[K\rremote: Compressing objects:  42% (87/206)   \u001b[K\rremote: Compressing objects:  43% (89/206)   \u001b[K\rremote: Compressing objects:  44% (91/206)   \u001b[K\rremote: Compressing objects:  45% (93/206)   \u001b[K\rremote: Compressing objects:  46% (95/206)   \u001b[K\rremote: Compressing objects:  47% (97/206)   \u001b[K\rremote: Compressing objects:  48% (99/206)   \u001b[K\rremote: Compressing objects:  49% (101/206)   \u001b[K\rremote: Compressing objects:  50% (103/206)   \u001b[K\rremote: Compressing objects:  51% (106/206)   \u001b[K\rremote: Compressing objects:  52% (108/206)   \u001b[K\rremote: Compressing objects:  53% (110/206)   \u001b[K\rremote: Compressing objects:  54% (112/206)   \u001b[K\rremote: Compressing objects:  55% (114/206)   \u001b[K\rremote: Compressing objects:  56% (116/206)   \u001b[K\rremote: Compressing objects:  57% (118/206)   \u001b[K\rremote: Compressing objects:  58% (120/206)   \u001b[K\rremote: Compressing objects:  59% (122/206)   \u001b[K\rremote: Compressing objects:  60% (124/206)   \u001b[K\rremote: Compressing objects:  61% (126/206)   \u001b[K\rremote: Compressing objects:  62% (128/206)   \u001b[K\rremote: Compressing objects:  63% (130/206)   \u001b[K\rremote: Compressing objects:  64% (132/206)   \u001b[K\rremote: Compressing objects:  65% (134/206)   \u001b[K\rremote: Compressing objects:  66% (136/206)   \u001b[K\rremote: Compressing objects:  67% (139/206)   \u001b[K\rremote: Compressing objects:  68% (141/206)   \u001b[K\rremote: Compressing objects:  69% (143/206)   \u001b[K\rremote: Compressing objects:  70% (145/206)   \u001b[K\rremote: Compressing objects:  71% (147/206)   \u001b[K\rremote: Compressing objects:  72% (149/206)   \u001b[K\rremote: Compressing objects:  73% (151/206)   \u001b[K\rremote: Compressing objects:  74% (153/206)   \u001b[K\rremote: Compressing objects:  75% (155/206)   \u001b[K\rremote: Compressing objects:  76% (157/206)   \u001b[K\rremote: Compressing objects:  77% (159/206)   \u001b[K\rremote: Compressing objects:  78% (161/206)   \u001b[K\rremote: Compressing objects:  79% (163/206)   \u001b[K\rremote: Compressing objects:  80% (165/206)   \u001b[K\rremote: Compressing objects:  81% (167/206)   \u001b[K\rremote: Compressing objects:  82% (169/206)   \u001b[K\rremote: Compressing objects:  83% (171/206)   \u001b[K\rremote: Compressing objects:  84% (174/206)   \u001b[K\rremote: Compressing objects:  85% (176/206)   \u001b[K\rremote: Compressing objects:  86% (178/206)   \u001b[K\rremote: Compressing objects:  87% (180/206)   \u001b[K\rremote: Compressing objects:  88% (182/206)   \u001b[K\rremote: Compressing objects:  89% (184/206)   \u001b[K\rremote: Compressing objects:  90% (186/206)   \u001b[K\rremote: Compressing objects:  91% (188/206)   \u001b[K\rremote: Compressing objects:  92% (190/206)   \u001b[K\rremote: Compressing objects:  93% (192/206)   \u001b[K\rremote: Compressing objects:  94% (194/206)   \u001b[K\rremote: Compressing objects:  95% (196/206)   \u001b[K\rremote: Compressing objects:  96% (198/206)   \u001b[K\rremote: Compressing objects:  97% (200/206)   \u001b[K\rremote: Compressing objects:  98% (202/206)   \u001b[K\rremote: Compressing objects:  99% (204/206)   \u001b[K\rremote: Compressing objects: 100% (206/206)   \u001b[K\rremote: Compressing objects: 100% (206/206), done.\u001b[K\n",
            "Receiving objects:   0% (1/237)   \rReceiving objects:   1% (3/237)   \rReceiving objects:   2% (5/237)   \rReceiving objects:   3% (8/237)   \rReceiving objects:   4% (10/237)   \rReceiving objects:   5% (12/237)   \rReceiving objects:   6% (15/237)   \rReceiving objects:   7% (17/237)   \rReceiving objects:   8% (19/237)   \rReceiving objects:   9% (22/237)   \rReceiving objects:  10% (24/237)   \rReceiving objects:  11% (27/237)   \rReceiving objects:  12% (29/237)   \rReceiving objects:  13% (31/237)   \rReceiving objects:  14% (34/237)   \rReceiving objects:  15% (36/237)   \rReceiving objects:  16% (38/237), 292.00 KiB | 523.00 KiB/s   \rReceiving objects:  17% (41/237), 292.00 KiB | 523.00 KiB/s   \rReceiving objects:  18% (43/237), 292.00 KiB | 523.00 KiB/s   \rReceiving objects:  19% (46/237), 292.00 KiB | 523.00 KiB/s   \rReceiving objects:  20% (48/237), 292.00 KiB | 523.00 KiB/s   \rReceiving objects:  21% (50/237), 292.00 KiB | 523.00 KiB/s   \rReceiving objects:  22% (53/237), 292.00 KiB | 523.00 KiB/s   \rReceiving objects:  23% (55/237), 292.00 KiB | 523.00 KiB/s   \rReceiving objects:  24% (57/237), 292.00 KiB | 523.00 KiB/s   \rReceiving objects:  25% (60/237), 292.00 KiB | 523.00 KiB/s   \rReceiving objects:  26% (62/237), 292.00 KiB | 523.00 KiB/s   \rReceiving objects:  27% (64/237), 292.00 KiB | 523.00 KiB/s   \rReceiving objects:  28% (67/237), 292.00 KiB | 523.00 KiB/s   \rReceiving objects:  29% (69/237), 292.00 KiB | 523.00 KiB/s   \rReceiving objects:  30% (72/237), 292.00 KiB | 523.00 KiB/s   \rReceiving objects:  31% (74/237), 292.00 KiB | 523.00 KiB/s   \rReceiving objects:  32% (76/237), 292.00 KiB | 523.00 KiB/s   \rReceiving objects:  33% (79/237), 292.00 KiB | 523.00 KiB/s   \rReceiving objects:  34% (81/237), 292.00 KiB | 523.00 KiB/s   \rReceiving objects:  35% (83/237), 292.00 KiB | 523.00 KiB/s   \rReceiving objects:  36% (86/237), 292.00 KiB | 523.00 KiB/s   \rReceiving objects:  37% (88/237), 292.00 KiB | 523.00 KiB/s   \rReceiving objects:  38% (91/237), 292.00 KiB | 523.00 KiB/s   \rReceiving objects:  39% (93/237), 292.00 KiB | 523.00 KiB/s   \rReceiving objects:  40% (95/237), 292.00 KiB | 523.00 KiB/s   \rReceiving objects:  41% (98/237), 292.00 KiB | 523.00 KiB/s   \rReceiving objects:  42% (100/237), 292.00 KiB | 523.00 KiB/s   \rReceiving objects:  43% (102/237), 292.00 KiB | 523.00 KiB/s   \rReceiving objects:  44% (105/237), 292.00 KiB | 523.00 KiB/s   \rReceiving objects:  45% (107/237), 292.00 KiB | 523.00 KiB/s   \rReceiving objects:  46% (110/237), 292.00 KiB | 523.00 KiB/s   \rReceiving objects:  47% (112/237), 292.00 KiB | 523.00 KiB/s   \rReceiving objects:  48% (114/237), 292.00 KiB | 523.00 KiB/s   \rReceiving objects:  49% (117/237), 292.00 KiB | 523.00 KiB/s   \rReceiving objects:  50% (119/237), 292.00 KiB | 523.00 KiB/s   \rReceiving objects:  51% (121/237), 292.00 KiB | 523.00 KiB/s   \rReceiving objects:  52% (124/237), 292.00 KiB | 523.00 KiB/s   \rReceiving objects:  53% (126/237), 292.00 KiB | 523.00 KiB/s   \rReceiving objects:  54% (128/237), 292.00 KiB | 523.00 KiB/s   \rReceiving objects:  55% (131/237), 292.00 KiB | 523.00 KiB/s   \rReceiving objects:  56% (133/237), 292.00 KiB | 523.00 KiB/s   \rReceiving objects:  57% (136/237), 292.00 KiB | 523.00 KiB/s   \rReceiving objects:  58% (138/237), 292.00 KiB | 523.00 KiB/s   \rReceiving objects:  59% (140/237), 292.00 KiB | 523.00 KiB/s   \rReceiving objects:  60% (143/237), 292.00 KiB | 523.00 KiB/s   \rReceiving objects:  61% (145/237), 292.00 KiB | 523.00 KiB/s   \rReceiving objects:  62% (147/237), 292.00 KiB | 523.00 KiB/s   \rReceiving objects:  63% (150/237), 292.00 KiB | 523.00 KiB/s   \rReceiving objects:  64% (152/237), 292.00 KiB | 523.00 KiB/s   \rReceiving objects:  65% (155/237), 292.00 KiB | 523.00 KiB/s   \rReceiving objects:  66% (157/237), 292.00 KiB | 523.00 KiB/s   \rReceiving objects:  66% (158/237), 2.43 MiB | 2.20 MiB/s   \rReceiving objects:  67% (159/237), 2.43 MiB | 2.20 MiB/s   \rReceiving objects:  68% (162/237), 2.43 MiB | 2.20 MiB/s   \rReceiving objects:  69% (164/237), 2.43 MiB | 2.20 MiB/s   \rReceiving objects:  70% (166/237), 2.43 MiB | 2.20 MiB/s   \rReceiving objects:  71% (169/237), 2.43 MiB | 2.20 MiB/s   \rReceiving objects:  72% (171/237), 2.43 MiB | 2.20 MiB/s   \rReceiving objects:  73% (174/237), 2.43 MiB | 2.20 MiB/s   \rReceiving objects:  74% (176/237), 2.43 MiB | 2.20 MiB/s   \rReceiving objects:  75% (178/237), 2.43 MiB | 2.20 MiB/s   \rReceiving objects:  76% (181/237), 2.43 MiB | 2.20 MiB/s   \rReceiving objects:  77% (183/237), 2.43 MiB | 2.20 MiB/s   \rReceiving objects:  78% (185/237), 2.43 MiB | 2.20 MiB/s   \rReceiving objects:  79% (188/237), 2.43 MiB | 2.20 MiB/s   \rReceiving objects:  80% (190/237), 2.43 MiB | 2.20 MiB/s   \rReceiving objects:  81% (192/237), 2.43 MiB | 2.20 MiB/s   \rReceiving objects:  82% (195/237), 2.43 MiB | 2.20 MiB/s   \rReceiving objects:  83% (197/237), 2.43 MiB | 2.20 MiB/s   \rReceiving objects:  84% (200/237), 2.43 MiB | 2.20 MiB/s   \rReceiving objects:  85% (202/237), 2.43 MiB | 2.20 MiB/s   \rReceiving objects:  86% (204/237), 2.43 MiB | 2.20 MiB/s   \rReceiving objects:  87% (207/237), 2.43 MiB | 2.20 MiB/s   \rReceiving objects:  88% (209/237), 2.43 MiB | 2.20 MiB/s   \rReceiving objects:  89% (211/237), 2.43 MiB | 2.20 MiB/s   \rReceiving objects:  90% (214/237), 2.43 MiB | 2.20 MiB/s   \rReceiving objects:  91% (216/237), 2.43 MiB | 2.20 MiB/s   \rReceiving objects:  92% (219/237), 2.43 MiB | 2.20 MiB/s   \rremote: Total 237 (delta 33), reused 221 (delta 28), pack-reused 0\u001b[K\n",
            "Receiving objects:  93% (221/237), 2.43 MiB | 2.20 MiB/s   \rReceiving objects:  94% (223/237), 2.43 MiB | 2.20 MiB/s   \rReceiving objects:  95% (226/237), 2.43 MiB | 2.20 MiB/s   \rReceiving objects:  96% (228/237), 2.43 MiB | 2.20 MiB/s   \rReceiving objects:  97% (230/237), 2.43 MiB | 2.20 MiB/s   \rReceiving objects:  98% (233/237), 2.43 MiB | 2.20 MiB/s   \rReceiving objects:  99% (235/237), 2.43 MiB | 2.20 MiB/s   \rReceiving objects: 100% (237/237), 2.43 MiB | 2.20 MiB/s   \rReceiving objects: 100% (237/237), 3.65 MiB | 3.21 MiB/s, done.\n",
            "Resolving deltas:   0% (0/33)   \rResolving deltas:   9% (3/33)   \rResolving deltas:  12% (4/33)   \rResolving deltas:  21% (7/33)   \rResolving deltas:  27% (9/33)   \rResolving deltas:  30% (10/33)   \rResolving deltas:  36% (12/33)   \rResolving deltas:  39% (13/33)   \rResolving deltas:  42% (14/33)   \rResolving deltas:  45% (15/33)   \rResolving deltas:  54% (18/33)   \rResolving deltas:  63% (21/33)   \rResolving deltas:  66% (22/33)   \rResolving deltas:  69% (23/33)   \rResolving deltas:  72% (24/33)   \rResolving deltas:  75% (25/33)   \rResolving deltas:  78% (26/33)   \rResolving deltas:  81% (27/33)   \rResolving deltas:  84% (28/33)   \rResolving deltas:  87% (29/33)   \rResolving deltas:  90% (30/33)   \rResolving deltas:  96% (32/33)   \rResolving deltas: 100% (33/33)   \rResolving deltas: 100% (33/33), done.\n"
          ],
          "name": "stdout"
        }
      ]
    },
    {
      "metadata": {
        "id": "zuF9vVlWyz3l",
        "colab_type": "code",
        "outputId": "a554a557-40ad-41df-8239-92cd6a204b84",
        "colab": {
          "base_uri": "https://localhost:8080/",
          "height": 34
        }
      },
      "cell_type": "code",
      "source": [
        "# Now repo data is available in Colab local environment\n",
        "!ls CovNet_Human_Drawings"
      ],
      "execution_count": 8,
      "outputs": [
        {
          "output_type": "stream",
          "text": [
            "code  data  README.md\n"
          ],
          "name": "stdout"
        }
      ]
    },
    {
      "metadata": {
        "id": "dD_5QNnSzkie",
        "colab_type": "code",
        "colab": {}
      },
      "cell_type": "code",
      "source": [
        "# Drawing data\n",
        "# You can run this if you want to check the path for a single image\n",
        "# ! ls CovNet_Human_Drawings/data/humans_drawings/"
      ],
      "execution_count": 0,
      "outputs": []
    },
    {
      "metadata": {
        "id": "_xYWj78Eyg8a",
        "colab_type": "code",
        "colab": {}
      },
      "cell_type": "code",
      "source": [
        "# Load and reshape the image to be feed into the model\n",
        "img_path = 'CovNet_Human_Drawings/data/humans_drawings/DAM001_F_DAPedit.jpg'\n",
        "img = image.load_img(img_path, target_size=(224, 224))\n",
        "x = image.img_to_array(img)\n",
        "x = np.expand_dims(x, axis=0)\n",
        "x = preprocess_input(x)"
      ],
      "execution_count": 0,
      "outputs": []
    },
    {
      "metadata": {
        "id": "XBJjuiqbz53G",
        "colab_type": "code",
        "colab": {}
      },
      "cell_type": "code",
      "source": [
        "# Do the feature extraction with block5 pooling layer\n",
        "block5_pool_features = model.predict(x)"
      ],
      "execution_count": 0,
      "outputs": []
    },
    {
      "metadata": {
        "id": "Ph9ZCgSc0OVr",
        "colab_type": "code",
        "outputId": "d3247b46-2403-4a41-ecc6-1e485bc2c8df",
        "colab": {
          "base_uri": "https://localhost:8080/",
          "height": 34
        }
      },
      "cell_type": "code",
      "source": [
        "# In block 5, we can check that feature has the same shape that the maxpooling \n",
        "# layer in block 5 (above drawing)\n",
        "# Print tensor shape\n",
        "print (block5_pool_features.shape)"
      ],
      "execution_count": 11,
      "outputs": [
        {
          "output_type": "stream",
          "text": [
            "(1, 7, 7, 512)\n"
          ],
          "name": "stdout"
        }
      ]
    },
    {
      "metadata": {
        "id": "-QJL5zSB9LUh",
        "colab_type": "code",
        "colab": {}
      },
      "cell_type": "code",
      "source": [
        "# Print extracted feature as a tensor (i.e., feature)\n",
        "# print(block5_pool_features)"
      ],
      "execution_count": 0,
      "outputs": []
    },
    {
      "metadata": {
        "id": "6cvV8I7krd_p",
        "colab_type": "code",
        "colab": {
          "base_uri": "https://localhost:8080/",
          "height": 34
        },
        "outputId": "66177612-e2e1-41dc-bae5-ab3e805d73a8"
      },
      "cell_type": "code",
      "source": [
        "# Print extracted feature flattened as a 1D vector\n",
        "vgg19_feature_np = np.array(block5_pool_features)\n",
        "vgg19_feature_np.flatten()"
      ],
      "execution_count": 24,
      "outputs": [
        {
          "output_type": "execute_result",
          "data": {
            "text/plain": [
              "array([0., 0., 0., ..., 0., 0., 0.], dtype=float32)"
            ]
          },
          "metadata": {
            "tags": []
          },
          "execution_count": 24
        }
      ]
    },
    {
      "metadata": {
        "id": "3UYBp9LOnT3t",
        "colab_type": "text"
      },
      "cell_type": "markdown",
      "source": [
        "# Feature extraction from all images"
      ]
    },
    {
      "metadata": {
        "id": "OHREIks9oKSQ",
        "colab_type": "code",
        "colab": {
          "base_uri": "https://localhost:8080/",
          "height": 34
        },
        "outputId": "052f850a-4c39-46eb-96d4-d2c72abccf41"
      },
      "cell_type": "code",
      "source": [
        "# Get the drwawings filenames from directory \n",
        "from os import listdir\n",
        "from os.path import isfile, join\n",
        "\n",
        "path = 'CovNet_Human_Drawings/data/humans_drawings/'\n",
        "filenames = [f for f in listdir(path) if isfile(join(path, f))]\n",
        "len(filenames) # This should yield 208 "
      ],
      "execution_count": 25,
      "outputs": [
        {
          "output_type": "execute_result",
          "data": {
            "text/plain": [
              "208"
            ]
          },
          "metadata": {
            "tags": []
          },
          "execution_count": 25
        }
      ]
    },
    {
      "metadata": {
        "id": "YNkNwOy6jwm9",
        "colab_type": "code",
        "colab": {}
      },
      "cell_type": "code",
      "source": [
        "\n",
        "# First pick the layer for feature extraction\n",
        "# A list of the layers' names is obtained by running \"base_model.summary()\"\n",
        "feature_layer = \"block5_pool\" # let's the last max pool as example\n",
        "model = Model(inputs=base_model.input, \n",
        "              outputs=base_model.get_layer(feature_layer).output)\n",
        "\n",
        "# Let's create a list to save flattened tensors as vectors\n",
        "vgg19_feature_list = []\n",
        "\n",
        "# Loop over filenames and append flattened tensor to vector list\n",
        "for fname in filenames:\n",
        "  # This part of the loop reshape and preprocess the input images \n",
        "  img_path = path + fname\n",
        "  img = image.load_img(img_path, target_size=(224, 224))\n",
        "  x = image.img_to_array(img)\n",
        "  x = np.expand_dims(x, axis=0)\n",
        "  x = preprocess_input(x)\n",
        "  \n",
        "  # This part of the loop extract the featues and flatten the tensors to vectors\n",
        "  vgg19_feature = model.predict(x)\n",
        "  vgg19_feature_np = np.array(vgg19_feature)\n",
        "  vgg19_feature_list.append(vgg19_feature_np.flatten())\n",
        "  "
      ],
      "execution_count": 0,
      "outputs": []
    },
    {
      "metadata": {
        "id": "YfB71I0KtWij",
        "colab_type": "code",
        "colab": {
          "base_uri": "https://localhost:8080/",
          "height": 34
        },
        "outputId": "8e1bdf81-888d-4b4f-d5d7-f7ec18a4951c"
      },
      "cell_type": "code",
      "source": [
        "# Let's pass the VGG19 feature list to a numpy array\n",
        "vgg19_feature_list_np = np.array(vgg19_feature_list)\n",
        "type(vgg19_feature_list_np)\n",
        "print(vgg19_feature_list_np.shape)"
      ],
      "execution_count": 32,
      "outputs": [
        {
          "output_type": "stream",
          "text": [
            "(208, 25088)\n"
          ],
          "name": "stdout"
        }
      ]
    },
    {
      "metadata": {
        "id": "Kw3UxzwW5Xqh",
        "colab_type": "text"
      },
      "cell_type": "markdown",
      "source": [
        "# Hierarchical clustering on drawings with vectors extracted from VGG19"
      ]
    },
    {
      "metadata": {
        "id": "OYbZKIemtjhW",
        "colab_type": "code",
        "colab": {
          "base_uri": "https://localhost:8080/",
          "height": 737
        },
        "outputId": "c217bbe7-a5dc-4ebe-da03-0e6246668e06"
      },
      "cell_type": "code",
      "source": [
        "# Let's use scipy to plot a dendogram to do hierarchical clustering\n",
        "from scipy.cluster.hierarchy import dendrogram, linkage  \n",
        "from matplotlib import pyplot as plt\n",
        "\n",
        "# Let's use the 'ward' method to compute the distance between clusters which \n",
        "# minimize the variance between clusters\n",
        "linked = linkage(vgg19_feature_list_np, 'ward')\n",
        "\n",
        "# Use filenames as label list\n",
        "labelList = filenames\n",
        "\n",
        "# Plot the dendogram as a descendeing tree\n",
        "plt.figure(figsize=(19, 10))  \n",
        "dendrogram(linked,  \n",
        "            orientation='top',\n",
        "            labels=labelList,\n",
        "            distance_sort='descending',\n",
        "            show_leaf_counts=True)\n",
        "plt.show()  "
      ],
      "execution_count": 46,
      "outputs": [
        {
          "output_type": "display_data",
          "data": {
            "image/png": "[encoded data removed]",
            "text/plain": [
              "<Figure size 1368x720 with 1 Axes>"
            ]
          },
          "metadata": {
            "tags": []
          }
        }
      ]
    },
    {
      "metadata": {
        "id": "dpEdaXiLui9P",
        "colab_type": "code",
        "colab": {
          "base_uri": "https://localhost:8080/",
          "height": 67
        },
        "outputId": "0abf6d0d-7273-4b0f-c6d1-139d466dedd3"
      },
      "cell_type": "code",
      "source": [
        "# Based on the dendogram, it looks like we have 4 clusters\n",
        "# Let's use sklearn to perform the hierarchical clustering\n",
        "from sklearn.cluster import AgglomerativeClustering\n",
        "\n",
        "k = 4\n",
        "hclustering = AgglomerativeClustering(n_clusters = k, affinity='euclidean', linkage='ward')\n",
        "hclustering.fit(vgg19_feature_list_np)"
      ],
      "execution_count": 48,
      "outputs": [
        {
          "output_type": "execute_result",
          "data": {
            "text/plain": [
              "AgglomerativeClustering(affinity='euclidean', compute_full_tree='auto',\n",
              "            connectivity=None, linkage='ward', memory=None, n_clusters=4,\n",
              "            pooling_func='deprecated')"
            ]
          },
          "metadata": {
            "tags": []
          },
          "execution_count": 48
        }
      ]
    },
    {
      "metadata": {
        "id": "Ss6dh-uN2PhS",
        "colab_type": "code",
        "colab": {
          "base_uri": "https://localhost:8080/",
          "height": 118
        },
        "outputId": "b5b990af-a718-406e-c4cb-f421dc9505de"
      },
      "cell_type": "code",
      "source": [
        "# Print the cluster to which each image was assigned to\n",
        "print(hclustering.labels_)  "
      ],
      "execution_count": 49,
      "outputs": [
        {
          "output_type": "stream",
          "text": [
            "[3 0 1 0 2 1 0 3 2 1 2 2 0 2 1 1 0 0 2 3 2 1 3 1 3 1 0 0 2 0 2 1 0 2 2 3 2\n",
            " 1 2 2 3 0 0 2 2 2 1 0 0 1 2 1 1 0 1 0 1 2 2 2 1 2 2 2 2 1 3 0 1 0 2 0 0 2\n",
            " 0 2 0 0 0 0 1 3 3 1 0 2 1 1 2 1 1 2 1 1 2 3 2 1 1 0 3 2 2 0 2 0 2 3 3 2 2\n",
            " 0 2 2 0 2 2 2 2 3 2 3 1 2 0 2 0 1 2 2 1 1 0 2 3 2 2 3 0 0 2 0 2 0 2 0 2 0\n",
            " 1 1 2 1 0 3 1 1 3 1 2 2 2 3 0 3 3 2 0 0 1 1 1 1 1 0 1 2 1 0 1 1 1 0 2 2 2\n",
            " 1 0 1 3 2 1 0 0 2 0 2 0 2 3 0 2 1 0 2 2 2 2 2]\n"
          ],
          "name": "stdout"
        }
      ]
    },
    {
      "metadata": {
        "id": "LnrlUMqf413S",
        "colab_type": "code",
        "colab": {
          "base_uri": "https://localhost:8080/",
          "height": 151
        },
        "outputId": "2df96c16-e5e8-4a4f-da53-57ec1ea37e54"
      },
      "cell_type": "code",
      "source": [
        "# Let's create a 2D pandas dataframe to plot the images by cluster later\n",
        "\n",
        "import pandas as pd\n",
        "\n",
        "# get filenames as a numpy aray\n",
        "filenames_np = np.asarray(filenames)\n",
        "\n",
        "# get cluster labels as a numpr array\n",
        "clusters_np = hclustering.labels_\n",
        "\n",
        "# create pandas dataframe stacking numpy arrays by column\n",
        "drawings_df = pd.DataFrame({'filenames_np':filenames_np, 'clusters_np':clusters_np})\n",
        "\n",
        "print(type(drawings_df))\n",
        "print(\"Shape: \", drawings_df.shape)\n",
        "print(drawings_df.head())"
      ],
      "execution_count": 112,
      "outputs": [
        {
          "output_type": "stream",
          "text": [
            "<class 'pandas.core.frame.DataFrame'>\n",
            "Shape:  (208, 2)\n",
            "   clusters_np          filenames_np\n",
            "0            3  DAM025_T_DAPedit.jpg\n",
            "1            0  DAM030_F_DAPedit.jpg\n",
            "2            1  DAM074_F_DAPedit.jpg\n",
            "3            0  DAM018_T_DAPedit.jpg\n",
            "4            2  DAM040_T_DAPedit.jpg\n"
          ],
          "name": "stdout"
        }
      ]
    },
    {
      "metadata": {
        "id": "4v7Y-QwLEYNq",
        "colab_type": "code",
        "colab": {
          "base_uri": "https://localhost:8080/",
          "height": 487
        },
        "outputId": "a6c9c0cc-7fb3-4e8e-a96b-3e041aaa6674"
      },
      "cell_type": "code",
      "source": [
        "# Let's subset the dataframe into 4 samller dataframes by cluster group\n",
        "\n",
        "# Data frame cluster 0\n",
        "cluster_0 = drawings_df.loc[drawings_df['clusters_np'] == 0]\n",
        "print(\"Lenght cluster 0: \", len(cluster_0))\n",
        "print(cluster_0.head())\n",
        "\n",
        "# Data frame cluster 1\n",
        "cluster_1 = drawings_df.loc[drawings_df['clusters_np'] == 1]\n",
        "print(\"Lenght cluster 1: \", len(cluster_1))\n",
        "print(cluster_1.head())\n",
        "\n",
        "# Data frame cluster 2\n",
        "cluster_2 = drawings_df.loc[drawings_df['clusters_np'] == 2]\n",
        "print(\"Lenght cluster 2: \", len(cluster_2))\n",
        "print(cluster_2.head())\n",
        "\n",
        "# Data frame cluster 3\n",
        "cluster_3 = drawings_df.loc[drawings_df['clusters_np'] == 3]\n",
        "print(\"Lenght cluster 3: \", len(cluster_3))\n",
        "print(cluster_3.head())"
      ],
      "execution_count": 117,
      "outputs": [
        {
          "output_type": "stream",
          "text": [
            "Lenght cluster 0:  54\n",
            "    clusters_np          filenames_np\n",
            "1             0  DAM030_F_DAPedit.jpg\n",
            "3             0  DAM018_T_DAPedit.jpg\n",
            "6             0  DAM037_F_DAPedit.jpg\n",
            "12            0  DAM021_T_DAPedit.jpg\n",
            "16            0  DAM060_T_DAPedit.jpg\n",
            "Lenght cluster 1:  53\n",
            "    clusters_np          filenames_np\n",
            "2             1  DAM074_F_DAPedit.jpg\n",
            "5             1  DAM005_T_DAPedit.jpg\n",
            "9             1  DAM004_T_DAPedit.jpg\n",
            "14            1  DAM076_F_DAPedit.jpg\n",
            "15            1  DAM065_F_DAPedit.jpg\n",
            "Lenght cluster 2:  76\n",
            "    clusters_np          filenames_np\n",
            "4             2  DAM040_T_DAPedit.jpg\n",
            "8             2  DAM082_F_DAPedit.jpg\n",
            "10            2  DAM059_P_DAPedit.jpg\n",
            "11            2  DAM077_P_DAPedit.jpg\n",
            "13            2  DAM066_P_DAPedit.jpg\n",
            "Lenght cluster 3:  25\n",
            "    clusters_np          filenames_np\n",
            "0             3  DAM025_T_DAPedit.jpg\n",
            "7             3  DAM036_F_DAPedit.jpg\n",
            "19            3  DAM025_F_DAPedit.jpg\n",
            "22            3  DAM029_T_DAPedit.jpg\n",
            "24            3  DAM078_T_DAPedit.jpg\n"
          ],
          "name": "stdout"
        }
      ]
    },
    {
      "metadata": {
        "id": "3o8bn4Iv93CU",
        "colab_type": "code",
        "colab": {}
      },
      "cell_type": "code",
      "source": [
        "%matplotlib inline\n",
        "\n",
        "import matplotlib.pyplot as plt\n",
        "import matplotlib.image as mpimg"
      ],
      "execution_count": 0,
      "outputs": []
    },
    {
      "metadata": {
        "id": "A1O_XBpY_WW4",
        "colab_type": "code",
        "colab": {
          "base_uri": "https://localhost:8080/",
          "height": 250
        },
        "outputId": "784f8e89-022b-438c-eb0e-17638a78b434"
      },
      "cell_type": "code",
      "source": [
        "%matplotlib inline\n",
        "import matplotlib.pyplot as plt\n",
        "import matplotlib.image as mpimg\n",
        "img=mpimg.imread('CovNet_Human_Drawings/data/humans_drawings/DAM001_F_DAPedit.jpg')\n",
        "imgplot = plt.imshow(img)\n",
        "plt.show()"
      ],
      "execution_count": 60,
      "outputs": [
        {
          "output_type": "display_data",
          "data": {
            "image/png": "[encoded data removed]",
            "text/plain": [
              "<Figure size 432x288 with 1 Axes>"
            ]
          },
          "metadata": {
            "tags": []
          }
        }
      ]
    }
  ]
}