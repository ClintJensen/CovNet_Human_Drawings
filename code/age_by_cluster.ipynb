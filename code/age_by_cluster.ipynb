{
  "nbformat": 4,
  "nbformat_minor": 0,
  "metadata": {
    "colab": {
      "name": "age_by_cluster",
      "version": "0.3.2",
      "provenance": [],
      "include_colab_link": true
    },
    "kernelspec": {
      "name": "python3",
      "display_name": "Python 3"
    }
  },
  "cells": [
    {
      "cell_type": "markdown",
      "metadata": {
        "id": "view-in-github",
        "colab_type": "text"
      },
      "source": [
        "<a href=\"https://colab.research.google.com/github/pabloinsente/CovNet_Human_Drawings/blob/master/age_by_cluster.ipynb\" target=\"_parent\"><img src=\"https://colab.research.google.com/assets/colab-badge.svg\" alt=\"Open In Colab\"/></a>"
      ]
    },
    {
      "metadata": {
        "id": "Gt_PfypTaEX-",
        "colab_type": "code",
        "colab": {
          "base_uri": "https://localhost:8080/",
          "height": 139
        },
        "outputId": "8e6064a2-e7c1-42ae-de31-6ce02b88c75c"
      },
      "cell_type": "code",
      "source": [
        "# Clone the data into Colab\n",
        "! git clone https://github.com/pabloinsente/CovNet_Human_Drawings"
      ],
      "execution_count": 1,
      "outputs": [
        {
          "output_type": "stream",
          "text": [
            "Cloning into 'CovNet_Human_Drawings'...\n",
            "remote: Enumerating objects: 92, done.\u001b[K\n",
            "remote: Counting objects: 100% (92/92), done.\u001b[K\n",
            "remote: Compressing objects: 100% (81/81), done.\u001b[K\n",
            "remote: Total 619 (delta 38), reused 35 (delta 10), pack-reused 527\u001b[K\n",
            "Receiving objects: 100% (619/619), 55.96 MiB | 29.06 MiB/s, done.\n",
            "Resolving deltas: 100% (148/148), done.\n"
          ],
          "name": "stdout"
        }
      ]
    },
    {
      "metadata": {
        "id": "JEDjxGcNZ4jo",
        "colab_type": "code",
        "colab": {
          "base_uri": "https://localhost:8080/",
          "height": 52
        },
        "outputId": "bbd03cb2-9c6c-4245-9fcc-ca3bc0688d50"
      },
      "cell_type": "code",
      "source": [
        "import pandas as pd\n",
        "# read metadata as pandas dataframe\n",
        "meta_path= \"CovNet_Human_Drawings/data/merged_dataframes_prediction/predict_age_from_vectors_block5_pool_all_imp.csv\"\n",
        "df_metadata = pd.read_csv(meta_path, sep=\",\")\n",
        "\n",
        "# read clusters as pandas dataframe\n",
        "cluster_path= \"CovNet_Human_Drawings/data/cluster_dataframes/h_clusters_8_drawings_block5_pool_all.csv\"\n",
        "df_cluster = pd.read_csv(cluster_path, sep=\",\")\n",
        "print(df_metadata.shape)\n",
        "print(df_cluster.shape)"
      ],
      "execution_count": 8,
      "outputs": [
        {
          "output_type": "stream",
          "text": [
            "(258, 25091)\n",
            "(258, 3)\n"
          ],
          "name": "stdout"
        }
      ]
    },
    {
      "metadata": {
        "id": "trtBcxY0dVbp",
        "colab_type": "code",
        "colab": {
          "base_uri": "https://localhost:8080/",
          "height": 52
        },
        "outputId": "731fe7db-d5cd-4f9b-9797-c1a0e9102741"
      },
      "cell_type": "code",
      "source": [
        "# extract and crop filename vector\n",
        "filenames_crop = []\n",
        "file_names = df_cluster[\"filenames_np\"]\n",
        "file_len = len(df_cluster[\"filenames_np\"])\n",
        "[filenames_crop.append(file_names[id].split('_')[0]) for id in range(file_len)]\n",
        "print(filenames_crop[0:5])\n",
        "print(len(filenames_crop))"
      ],
      "execution_count": 9,
      "outputs": [
        {
          "output_type": "stream",
          "text": [
            "['DAM024', 'DAM081', 'DAMa016', 'DAM064', 'DAM013']\n",
            "258\n"
          ],
          "name": "stdout"
        }
      ]
    },
    {
      "metadata": {
        "id": "nMYCOLrUf2sd",
        "colab_type": "code",
        "colab": {
          "base_uri": "https://localhost:8080/",
          "height": 52
        },
        "outputId": "1ffd16b3-7a9d-4fcd-9554-d84cd5f339b8"
      },
      "cell_type": "code",
      "source": [
        "# There is \"a\" in the filenames. To merge this dataframe with the metadata, \n",
        "# we need to change that to uppercasem e.g. DAMa025 needs to change to DAMA025\n",
        "filenames_up = [x.upper() for x in filenames_crop]\n",
        "print(filenames_up[0:5])\n",
        "print(len(filenames_up)) # this should yield 258"
      ],
      "execution_count": 10,
      "outputs": [
        {
          "output_type": "stream",
          "text": [
            "['DAM024', 'DAM081', 'DAMA016', 'DAM064', 'DAM013']\n",
            "258\n"
          ],
          "name": "stdout"
        }
      ]
    },
    {
      "metadata": {
        "id": "U9Px6qDNfpiE",
        "colab_type": "code",
        "colab": {
          "base_uri": "https://localhost:8080/",
          "height": 139
        },
        "outputId": "eda5804f-65dd-4879-a8b7-e52550db861c"
      },
      "cell_type": "code",
      "source": [
        "filenames_up = pd.DataFrame(filenames_up, columns =['id']) \n",
        "df_clusters = pd.concat([filenames_up, df_cluster], axis=1)\n",
        "cols = [1,3]\n",
        "#drop index and old filenames\n",
        "df_clusters.drop(df_clusters.columns[cols],axis=1,inplace=True) \n",
        "print(df_clusters.head())\n",
        "print(len(df_clusters)) # this should yield 258"
      ],
      "execution_count": 11,
      "outputs": [
        {
          "output_type": "stream",
          "text": [
            "        id  clusters_np\n",
            "0   DAM024            7\n",
            "1   DAM081            4\n",
            "2  DAMA016            6\n",
            "3   DAM064            4\n",
            "4   DAM013            3\n",
            "258\n"
          ],
          "name": "stdout"
        }
      ]
    },
    {
      "metadata": {
        "id": "Cu9LxsEobB2e",
        "colab_type": "code",
        "colab": {}
      },
      "cell_type": "code",
      "source": [
        "# subset metadata; get id and age columns\n",
        "df_metadata = df_metadata[['id','age_yr', 'adult']]\n",
        "print(df_metadata.shape)\n",
        "print(df_metadata.head())\n",
        "df_metadata.sort_values(by=['id'])[0:20]"
      ],
      "execution_count": 0,
      "outputs": []
    },
    {
      "metadata": {
        "id": "dpI5-caiapbX",
        "colab_type": "code",
        "colab": {}
      },
      "cell_type": "code",
      "source": [
        "# reset index \n",
        "a = a.reset_index(drop=True)\n",
        "b = b.reset_index(drop=True)\n",
        "\n",
        "# merge metadata and clusters by id\n",
        "df_clusters_age = pd.merge(df_metadata, df_clusters, on=['id'])\n",
        "print(df_clusters_age.shape) \n",
        "print(df_clusters_age.head())\n",
        "df_clusters_age.sort_values(by=['id'])"
      ],
      "execution_count": 0,
      "outputs": []
    },
    {
      "metadata": {
        "id": "UdzEiT3QBYet",
        "colab_type": "code",
        "colab": {
          "base_uri": "https://localhost:8080/",
          "height": 35
        },
        "outputId": "7431c031-c575-4e4b-cc79-fa13f89d56ed"
      },
      "cell_type": "code",
      "source": [
        "a =df_clusters.sort_values(by=['id']) \n",
        "b =df_metadata.sort_values(by=['id']) \n",
        "c = pd.merge(a, b, on=['id'])\n",
        "c.shape"
      ],
      "execution_count": 30,
      "outputs": [
        {
          "output_type": "execute_result",
          "data": {
            "text/plain": [
              "(678, 4)"
            ]
          },
          "metadata": {
            "tags": []
          },
          "execution_count": 30
        }
      ]
    }
  ]
}