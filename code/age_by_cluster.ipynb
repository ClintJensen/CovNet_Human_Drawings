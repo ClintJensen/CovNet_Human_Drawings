{
  "nbformat": 4,
  "nbformat_minor": 0,
  "metadata": {
    "colab": {
      "name": "age_by_cluster",
      "version": "0.3.2",
      "provenance": [],
      "include_colab_link": true
    },
    "kernelspec": {
      "name": "python3",
      "display_name": "Python 3"
    }
  },
  "cells": [
    {
      "cell_type": "markdown",
      "metadata": {
        "id": "view-in-github",
        "colab_type": "text"
      },
      "source": [
        "<a href=\"https://colab.research.google.com/github/pabloinsente/CovNet_Human_Drawings/blob/master/code/age_by_cluster.ipynb\" target=\"_parent\"><img src=\"https://colab.research.google.com/assets/colab-badge.svg\" alt=\"Open In Colab\"/></a>"
      ]
    },
    {
      "metadata": {
        "id": "C9LGxQfQdyhm",
        "colab_type": "code",
        "colab": {}
      },
      "cell_type": "code",
      "source": [
        "import pandas as pd\n",
        "import seaborn as sns\n",
        "import pandas as pd"
      ],
      "execution_count": 0,
      "outputs": []
    },
    {
      "metadata": {
        "id": "Gt_PfypTaEX-",
        "colab_type": "code",
        "outputId": "92c71ee2-6d05-43d7-8140-e5c7e004f659",
        "colab": {
          "base_uri": "https://localhost:8080/",
          "height": 139
        }
      },
      "cell_type": "code",
      "source": [
        "# Clone the data into Colab\n",
        "! git clone https://github.com/pabloinsente/CovNet_Human_Drawings"
      ],
      "execution_count": 2,
      "outputs": [
        {
          "output_type": "stream",
          "text": [
            "Cloning into 'CovNet_Human_Drawings'...\n",
            "remote: Enumerating objects: 12, done.\u001b[K\n",
            "remote: Counting objects: 100% (12/12), done.\u001b[K\n",
            "remote: Compressing objects: 100% (12/12), done.\u001b[K\n",
            "remote: Total 664 (delta 5), reused 0 (delta 0), pack-reused 652\u001b[K\n",
            "Receiving objects: 100% (664/664), 96.53 MiB | 40.93 MiB/s, done.\n",
            "Resolving deltas: 100% (187/187), done.\n"
          ],
          "name": "stdout"
        }
      ]
    },
    {
      "metadata": {
        "id": "JEDjxGcNZ4jo",
        "colab_type": "code",
        "outputId": "662c3c48-c175-4621-d357-f2b0f8e662a3",
        "colab": {
          "base_uri": "https://localhost:8080/",
          "height": 260
        }
      },
      "cell_type": "code",
      "source": [
        "# read metadata as pandas dataframe\n",
        "meta_path= \"CovNet_Human_Drawings/data/merged_dataframes_prediction/predict_age_from_vectors_block5_pool_all_imp.csv\"\n",
        "df_metadata = pd.read_csv(meta_path, sep=\",\")\n",
        "\n",
        "# read clusters as pandas dataframe\n",
        "cluster_path= \"CovNet_Human_Drawings/data/cluster_dataframes/h_clusters_8_drawings_block5_pool_all.csv\"\n",
        "df_cluster = pd.read_csv(cluster_path, sep=\",\")\n",
        "\n",
        "print(df_metadata.shape)\n",
        "print(df_cluster.shape)\n",
        "print(df_metadata.iloc[0:5,0:5])\n",
        "print(df_cluster.iloc[0:5,0:5])"
      ],
      "execution_count": 3,
      "outputs": [
        {
          "output_type": "stream",
          "text": [
            "(258, 25091)\n",
            "(258, 3)\n",
            "       id  age_yr  adult  vector_0  vector_1\n",
            "0  DAM001    5.70    0.0       0.0       0.0\n",
            "1  DAM001    5.70    0.0       0.0       0.0\n",
            "2  DAM001    5.70    0.0       0.0       0.0\n",
            "3  DAM002    5.42    0.0       0.0       0.0\n",
            "4  DAM002    5.42    0.0       0.0       0.0\n",
            "   Unnamed: 0  clusters_np             filenames_np\n",
            "0           0            7     DAM024_P_DAP_KID.jpg\n",
            "1           1            4     DAM081_P_DAP_KID.jpg\n",
            "2           2            6  DAMa016_T_DAP_ADULT.jpg\n",
            "3           3            4     DAM064_P_DAP_KID.jpg\n",
            "4           4            3     DAM013_F_DAP_KID.jpg\n"
          ],
          "name": "stdout"
        }
      ]
    },
    {
      "metadata": {
        "id": "trtBcxY0dVbp",
        "colab_type": "code",
        "outputId": "c549d6e7-09c8-499c-e7c2-23b3a9e574ac",
        "colab": {
          "base_uri": "https://localhost:8080/",
          "height": 52
        }
      },
      "cell_type": "code",
      "source": [
        "# extract and crop filename vector\n",
        "filenames_crop = []\n",
        "file_names = df_cluster[\"filenames_np\"]\n",
        "file_len = len(df_cluster[\"filenames_np\"])\n",
        "[filenames_crop.append(file_names[id].split('_')[0]) for id in range(file_len)]\n",
        "print(filenames_crop[0:5])\n",
        "print(len(filenames_crop))"
      ],
      "execution_count": 4,
      "outputs": [
        {
          "output_type": "stream",
          "text": [
            "['DAM024', 'DAM081', 'DAMa016', 'DAM064', 'DAM013']\n",
            "258\n"
          ],
          "name": "stdout"
        }
      ]
    },
    {
      "metadata": {
        "id": "nMYCOLrUf2sd",
        "colab_type": "code",
        "outputId": "93b9dccd-16a0-483d-c427-fff21431ac1a",
        "colab": {
          "base_uri": "https://localhost:8080/",
          "height": 52
        }
      },
      "cell_type": "code",
      "source": [
        "# There is \"a\" in the filenames. To merge this dataframe with the metadata, \n",
        "# we need to change that to uppercasem e.g. DAMa025 needs to change to DAMA025\n",
        "filenames_up = [x.upper() for x in filenames_crop]\n",
        "print(filenames_up[0:5])\n",
        "print(len(filenames_up)) # this should yield 258"
      ],
      "execution_count": 5,
      "outputs": [
        {
          "output_type": "stream",
          "text": [
            "['DAM024', 'DAM081', 'DAMA016', 'DAM064', 'DAM013']\n",
            "258\n"
          ],
          "name": "stdout"
        }
      ]
    },
    {
      "metadata": {
        "id": "U9Px6qDNfpiE",
        "colab_type": "code",
        "outputId": "8c77212d-c94e-420c-ad5e-44c8ec21414b",
        "colab": {
          "base_uri": "https://localhost:8080/",
          "height": 139
        }
      },
      "cell_type": "code",
      "source": [
        "filenames_up = pd.DataFrame(filenames_up, columns =['id']) \n",
        "df_clusters = pd.concat([filenames_up, df_cluster], axis=1)\n",
        "cols = [1,3]\n",
        "#drop index and old filenames\n",
        "df_clusters.drop(df_clusters.columns[cols],axis=1,inplace=True) \n",
        "print(df_clusters.head())\n",
        "print(len(df_clusters)) # this should yield 258"
      ],
      "execution_count": 6,
      "outputs": [
        {
          "output_type": "stream",
          "text": [
            "        id  clusters_np\n",
            "0   DAM024            7\n",
            "1   DAM081            4\n",
            "2  DAMA016            6\n",
            "3   DAM064            4\n",
            "4   DAM013            3\n",
            "258\n"
          ],
          "name": "stdout"
        }
      ]
    },
    {
      "metadata": {
        "id": "Cu9LxsEobB2e",
        "colab_type": "code",
        "colab": {
          "base_uri": "https://localhost:8080/",
          "height": 219
        },
        "outputId": "d1575a9f-cdf7-411d-a3dd-af5e0cec9da5"
      },
      "cell_type": "code",
      "source": [
        "# subset metadata; get id and age columns\n",
        "df_metadata = df_metadata[['id','age_yr', 'adult']]\n",
        "print(df_metadata.shape)\n",
        "df_metadata.sort_values(by=['id'])[0:5]"
      ],
      "execution_count": 7,
      "outputs": [
        {
          "output_type": "stream",
          "text": [
            "(258, 3)\n"
          ],
          "name": "stdout"
        },
        {
          "output_type": "execute_result",
          "data": {
            "text/html": [
              "<div>\n",
              "<style scoped>\n",
              "    .dataframe tbody tr th:only-of-type {\n",
              "        vertical-align: middle;\n",
              "    }\n",
              "\n",
              "    .dataframe tbody tr th {\n",
              "        vertical-align: top;\n",
              "    }\n",
              "\n",
              "    .dataframe thead th {\n",
              "        text-align: right;\n",
              "    }\n",
              "</style>\n",
              "<table border=\"1\" class=\"dataframe\">\n",
              "  <thead>\n",
              "    <tr style=\"text-align: right;\">\n",
              "      <th></th>\n",
              "      <th>id</th>\n",
              "      <th>age_yr</th>\n",
              "      <th>adult</th>\n",
              "    </tr>\n",
              "  </thead>\n",
              "  <tbody>\n",
              "    <tr>\n",
              "      <th>0</th>\n",
              "      <td>DAM001</td>\n",
              "      <td>5.70</td>\n",
              "      <td>0.0</td>\n",
              "    </tr>\n",
              "    <tr>\n",
              "      <th>1</th>\n",
              "      <td>DAM001</td>\n",
              "      <td>5.70</td>\n",
              "      <td>0.0</td>\n",
              "    </tr>\n",
              "    <tr>\n",
              "      <th>2</th>\n",
              "      <td>DAM001</td>\n",
              "      <td>5.70</td>\n",
              "      <td>0.0</td>\n",
              "    </tr>\n",
              "    <tr>\n",
              "      <th>3</th>\n",
              "      <td>DAM002</td>\n",
              "      <td>5.42</td>\n",
              "      <td>0.0</td>\n",
              "    </tr>\n",
              "    <tr>\n",
              "      <th>4</th>\n",
              "      <td>DAM002</td>\n",
              "      <td>5.42</td>\n",
              "      <td>0.0</td>\n",
              "    </tr>\n",
              "  </tbody>\n",
              "</table>\n",
              "</div>"
            ],
            "text/plain": [
              "       id  age_yr  adult\n",
              "0  DAM001    5.70    0.0\n",
              "1  DAM001    5.70    0.0\n",
              "2  DAM001    5.70    0.0\n",
              "3  DAM002    5.42    0.0\n",
              "4  DAM002    5.42    0.0"
            ]
          },
          "metadata": {
            "tags": []
          },
          "execution_count": 7
        }
      ]
    },
    {
      "metadata": {
        "id": "dpI5-caiapbX",
        "colab_type": "code",
        "colab": {
          "base_uri": "https://localhost:8080/",
          "height": 225
        },
        "outputId": "ae77b581-093d-46aa-f8e2-1174b7897a3b"
      },
      "cell_type": "code",
      "source": [
        "# reset index \n",
        "df_metadata = df_metadata.reset_index(drop=True)\n",
        "df_clusters = df_clusters.reset_index(drop=True)\n",
        "\n",
        "# merge metadata and clusters by id\n",
        "df_clusters_age = pd.merge(df_metadata, df_clusters, on=['id'])\n",
        "print(df_clusters_age.shape) \n",
        "print(df_clusters_age[0:10])"
      ],
      "execution_count": 8,
      "outputs": [
        {
          "output_type": "stream",
          "text": [
            "(678, 4)\n",
            "       id  age_yr  adult  clusters_np\n",
            "0  DAM001    5.70    0.0            1\n",
            "1  DAM001    5.70    0.0            4\n",
            "2  DAM001    5.70    0.0            7\n",
            "3  DAM001    5.70    0.0            1\n",
            "4  DAM001    5.70    0.0            4\n",
            "5  DAM001    5.70    0.0            7\n",
            "6  DAM001    5.70    0.0            1\n",
            "7  DAM001    5.70    0.0            4\n",
            "8  DAM001    5.70    0.0            7\n",
            "9  DAM002    5.42    0.0            1\n"
          ],
          "name": "stdout"
        }
      ]
    },
    {
      "metadata": {
        "id": "CgJGBZ6Jitgx",
        "colab_type": "code",
        "colab": {}
      },
      "cell_type": "code",
      "source": [
        "df_clusters_age.to_csv(\"age_clusters_merged.csv\", sep=',')"
      ],
      "execution_count": 0,
      "outputs": []
    },
    {
      "metadata": {
        "id": "xhWBu8NVZCeN",
        "colab_type": "code",
        "colab": {
          "base_uri": "https://localhost:8080/",
          "height": 325
        },
        "outputId": "1f2049d6-ac6a-4eb0-f850-551cf089bf79"
      },
      "cell_type": "code",
      "source": [
        "df_mean_sd = df_clusters_age.groupby(\"clusters_np\")[\"age_yr\"].agg([np.mean, np.std])\n",
        "df_mean_sd"
      ],
      "execution_count": 47,
      "outputs": [
        {
          "output_type": "execute_result",
          "data": {
            "text/html": [
              "<div>\n",
              "<style scoped>\n",
              "    .dataframe tbody tr th:only-of-type {\n",
              "        vertical-align: middle;\n",
              "    }\n",
              "\n",
              "    .dataframe tbody tr th {\n",
              "        vertical-align: top;\n",
              "    }\n",
              "\n",
              "    .dataframe thead th {\n",
              "        text-align: right;\n",
              "    }\n",
              "</style>\n",
              "<table border=\"1\" class=\"dataframe\">\n",
              "  <thead>\n",
              "    <tr style=\"text-align: right;\">\n",
              "      <th></th>\n",
              "      <th>mean</th>\n",
              "      <th>std</th>\n",
              "    </tr>\n",
              "    <tr>\n",
              "      <th>clusters_np</th>\n",
              "      <th></th>\n",
              "      <th></th>\n",
              "    </tr>\n",
              "  </thead>\n",
              "  <tbody>\n",
              "    <tr>\n",
              "      <th>0</th>\n",
              "      <td>4.148813</td>\n",
              "      <td>2.962651</td>\n",
              "    </tr>\n",
              "    <tr>\n",
              "      <th>1</th>\n",
              "      <td>7.847219</td>\n",
              "      <td>6.124862</td>\n",
              "    </tr>\n",
              "    <tr>\n",
              "      <th>2</th>\n",
              "      <td>20.676250</td>\n",
              "      <td>1.115048</td>\n",
              "    </tr>\n",
              "    <tr>\n",
              "      <th>3</th>\n",
              "      <td>6.701275</td>\n",
              "      <td>4.922543</td>\n",
              "    </tr>\n",
              "    <tr>\n",
              "      <th>4</th>\n",
              "      <td>5.332912</td>\n",
              "      <td>4.536147</td>\n",
              "    </tr>\n",
              "    <tr>\n",
              "      <th>5</th>\n",
              "      <td>19.650000</td>\n",
              "      <td>0.185903</td>\n",
              "    </tr>\n",
              "    <tr>\n",
              "      <th>6</th>\n",
              "      <td>12.998182</td>\n",
              "      <td>7.950278</td>\n",
              "    </tr>\n",
              "    <tr>\n",
              "      <th>7</th>\n",
              "      <td>3.658291</td>\n",
              "      <td>0.929691</td>\n",
              "    </tr>\n",
              "  </tbody>\n",
              "</table>\n",
              "</div>"
            ],
            "text/plain": [
              "                  mean       std\n",
              "clusters_np                     \n",
              "0             4.148813  2.962651\n",
              "1             7.847219  6.124862\n",
              "2            20.676250  1.115048\n",
              "3             6.701275  4.922543\n",
              "4             5.332912  4.536147\n",
              "5            19.650000  0.185903\n",
              "6            12.998182  7.950278\n",
              "7             3.658291  0.929691"
            ]
          },
          "metadata": {
            "tags": []
          },
          "execution_count": 47
        }
      ]
    },
    {
      "metadata": {
        "id": "zqaL7MXEc35W",
        "colab_type": "code",
        "colab": {
          "base_uri": "https://localhost:8080/",
          "height": 291
        },
        "outputId": "408ea7fb-fecb-44a6-ec32-d85254e60fae"
      },
      "cell_type": "code",
      "source": [
        "sns.set_style(\"dark\")\n",
        "sns.despine()\n",
        "barplot = sns.barplot(x=\"clusters_np\", y=\"age_yr\",capsize=.1, data=df_clusters_age)"
      ],
      "execution_count": 66,
      "outputs": [
        {
          "output_type": "display_data",
          "data": {
            "image/png": "[encoded data removed]",
            "text/plain": [
              "<Figure size 432x288 with 1 Axes>"
            ]
          },
          "metadata": {
            "tags": []
          }
        }
      ]
    }
  ]
}