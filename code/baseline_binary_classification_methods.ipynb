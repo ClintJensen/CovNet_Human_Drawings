{
  "nbformat": 4,
  "nbformat_minor": 0,
  "metadata": {
    "colab": {
      "name": "baseline_binary_classification_methods.ipynb",
      "version": "0.3.2",
      "provenance": [],
      "toc_visible": true,
      "include_colab_link": true
    },
    "kernelspec": {
      "name": "python3",
      "display_name": "Python 3"
    }
  },
  "cells": [
    {
      "cell_type": "markdown",
      "metadata": {
        "id": "view-in-github",
        "colab_type": "text"
      },
      "source": [
        "<a href=\"https://colab.research.google.com/github/pabloinsente/CovNet_Human_Drawings/blob/master/code/baseline_binary_classification_methods.ipynb\" target=\"_parent\"><img src=\"https://colab.research.google.com/assets/colab-badge.svg\" alt=\"Open In Colab\"/></a>"
      ]
    },
    {
      "metadata": {
        "id": "TXwk9Cqq_Sai",
        "colab_type": "text"
      },
      "cell_type": "markdown",
      "source": [
        "#Baseline for binary classification of child/adult from drawings with PCA vectors"
      ]
    },
    {
      "metadata": {
        "id": "ObeZBPWqBiSV",
        "colab_type": "text"
      },
      "cell_type": "markdown",
      "source": [
        "##Data Preparation"
      ]
    },
    {
      "metadata": {
        "id": "9JbnYBHLjbcB",
        "colab_type": "code",
        "colab": {}
      },
      "cell_type": "code",
      "source": [
        "!pip install rarfile"
      ],
      "execution_count": 0,
      "outputs": []
    },
    {
      "metadata": {
        "id": "EbY-t84bAzVT",
        "colab_type": "code",
        "colab": {}
      },
      "cell_type": "code",
      "source": [
        "from sklearn.model_selection import train_test_split\n",
        "from sklearn.metrics import confusion_matrix\n",
        "from sklearn.metrics import classification_report\n",
        "from sklearn.metrics import accuracy_score\n",
        "\n",
        "from imblearn.over_sampling import RandomOverSampler \n",
        "from imblearn.over_sampling import SMOTE \n",
        "\n",
        "import rarfile, csv\n",
        "\n",
        "from numpy import genfromtxt\n",
        "import pandas as pd\n",
        "from collections import Counter\n",
        "import matplotlib.pyplot as plt"
      ],
      "execution_count": 0,
      "outputs": []
    },
    {
      "metadata": {
        "id": "QkbiV6x5-y3D",
        "colab_type": "code",
        "colab": {}
      },
      "cell_type": "code",
      "source": [
        "# Clone the data into Colab\n",
        "! git clone https://github.com/pabloinsente/CovNet_Human_Drawings"
      ],
      "execution_count": 0,
      "outputs": []
    },
    {
      "metadata": {
        "id": "lIBgExTWf7QR",
        "colab_type": "code",
        "colab": {
          "base_uri": "https://localhost:8080/",
          "height": 139
        },
        "outputId": "e16d01aa-c92b-40cb-ddae-bdfeb2e4da39"
      },
      "cell_type": "code",
      "source": [
        "# Read csv files from compressed rar file and convert into a dataframe\n",
        "rar_path = rarfile.RarFile(\"CovNet_Human_Drawings/data/merged_dataframes_prediction/x_drawings_features_max_pool_5.rar\")\n",
        "csv_file_name = \"x_drawings_features_max_pool_5.csv\"\n",
        "rar_file = rarfile.RarFile.open(rar_path, csv_file_name)\n",
        "x = pd.read_csv(rar_file, sep=\",\", header=None)\n",
        "print(x.shape)\n",
        "print(x.iloc[0:5,0:5])"
      ],
      "execution_count": 11,
      "outputs": [
        {
          "output_type": "stream",
          "text": [
            "(258, 25088)\n",
            "          0    1    2         3         4\n",
            "0 -0.001317  0.0  0.0 -0.001322 -0.003181\n",
            "1 -0.001052  0.0  0.0 -0.001056 -0.002540\n",
            "2 -0.001176  0.0  0.0 -0.001181 -0.002840\n",
            "3 -0.000836  0.0  0.0 -0.000839 -0.000957\n",
            "4 -0.001163  0.0  0.0 -0.001168  0.011156\n"
          ],
          "name": "stdout"
        }
      ]
    },
    {
      "metadata": {
        "id": "ufsZPu0JHTB_",
        "colab_type": "code",
        "outputId": "207d0976-340a-406b-8ef8-2ccc01ce2b09",
        "colab": {
          "base_uri": "https://localhost:8080/",
          "height": 52
        }
      },
      "cell_type": "code",
      "source": [
        "# Read labels vector\n",
        "y_path = 'CovNet_Human_Drawings/data/merged_dataframes_prediction/y_age_adult_labels.csv'\n",
        "y = genfromtxt(y_path, delimiter=',')\n",
        "\n",
        "#x = x.drop([0]) # drop headers\n",
        "print(y.shape)\n",
        "print(y[0:5])"
      ],
      "execution_count": 13,
      "outputs": [
        {
          "output_type": "stream",
          "text": [
            "(258,)\n",
            "[0. 0. 0. 0. 0.]\n"
          ],
          "name": "stdout"
        }
      ]
    },
    {
      "metadata": {
        "id": "xLRMtpc3HYOv",
        "colab_type": "text"
      },
      "cell_type": "markdown",
      "source": [
        "##PCA"
      ]
    },
    {
      "metadata": {
        "id": "bSUV_o6tId5Q",
        "colab_type": "code",
        "colab": {}
      },
      "cell_type": "code",
      "source": [
        "from sklearn.decomposition import PCA\n",
        "import numpy as np"
      ],
      "execution_count": 0,
      "outputs": []
    },
    {
      "metadata": {
        "id": "JnCACU9YHfh9",
        "colab_type": "code",
        "outputId": "60c028e8-52ab-4024-c95e-f598dc1d3a50",
        "colab": {
          "base_uri": "https://localhost:8080/",
          "height": 301
        }
      },
      "cell_type": "code",
      "source": [
        "# Let's print out the accumulated explained variance as we get\n",
        "# more components using PCA \n",
        "\n",
        "pca = PCA(n_components=x.shape[0])\n",
        "pca.fit(x)\n",
        "\n",
        "plt.plot(np.cumsum(pca.explained_variance_ratio_))\n",
        "plt.xlabel('Number of components')\n",
        "plt.ylabel('Cumulative explained variance')"
      ],
      "execution_count": 17,
      "outputs": [
        {
          "output_type": "execute_result",
          "data": {
            "text/plain": [
              "Text(0, 0.5, 'Cumulative explained variance')"
            ]
          },
          "metadata": {
            "tags": []
          },
          "execution_count": 17
        },
        {
          "output_type": "display_data",
          "data": {
            "image/png": "[encoded data removed]",
            "text/plain": [
              "<Figure size 432x288 with 1 Axes>"
            ]
          },
          "metadata": {
            "tags": []
          }
        }
      ]
    },
    {
      "metadata": {
        "id": "8zz0sCqRIrlA",
        "colab_type": "code",
        "outputId": "096a3ac5-b4f3-4a65-cdd5-4fcb69b58a19",
        "colab": {
          "base_uri": "https://localhost:8080/",
          "height": 35
        }
      },
      "cell_type": "code",
      "source": [
        "NCOMPONENTS = 200\n",
        "\n",
        "pca = PCA(n_components=NCOMPONENTS)\n",
        "x_pca = pca.fit_transform(x)\n",
        "x = x_pca\n",
        "x.shape"
      ],
      "execution_count": 18,
      "outputs": [
        {
          "output_type": "execute_result",
          "data": {
            "text/plain": [
              "(258, 200)"
            ]
          },
          "metadata": {
            "tags": []
          },
          "execution_count": 18
        }
      ]
    },
    {
      "metadata": {
        "id": "rXjzygJTBa3D",
        "colab_type": "code",
        "outputId": "a4a46398-e5a3-4514-f3b0-6de97b36d985",
        "colab": {
          "base_uri": "https://localhost:8080/",
          "height": 87
        }
      },
      "cell_type": "code",
      "source": [
        "# Split data into train and test sets\n",
        "# Since we have an small sample, we will do a 70/30 split\n",
        "\n",
        "x_train, x_test, y_train, y_test = train_test_split(x, y, test_size = 0.3, random_state=44, stratify=y)\n",
        "print(x_train.shape) \n",
        "print(y_train.shape) \n",
        "print(x_test.shape) \n",
        "print(y_test.shape)"
      ],
      "execution_count": 19,
      "outputs": [
        {
          "output_type": "stream",
          "text": [
            "(180, 200)\n",
            "(180,)\n",
            "(78, 200)\n",
            "(78,)\n"
          ],
          "name": "stdout"
        }
      ]
    },
    {
      "metadata": {
        "id": "oDthiRfdCEYx",
        "colab_type": "text"
      },
      "cell_type": "markdown",
      "source": [
        "##Resampling Imbalanced Data\n",
        "Since our classes are imbalanced, we will use oversampling of the \"adult\" class **on the training set**  to help training on that class. *imblearn* implement oversampling for us\n",
        "\n",
        "**See documentantion at** https://imbalanced-learn.readthedocs.io/en/stable/generated/imblearn.over_sampling.RandomOverSampler.html"
      ]
    },
    {
      "metadata": {
        "id": "7Usr2cw8B8N6",
        "colab_type": "code",
        "outputId": "4d3a1d0c-44c2-4064-c179-4855c9dce9b7",
        "colab": {
          "base_uri": "https://localhost:8080/",
          "height": 69
        }
      },
      "cell_type": "code",
      "source": [
        "#ros = RandomOverSampler(random_state=42)\n",
        "ros = SMOTE(random_state=42)\n",
        "\n",
        "x_train_res, y_train_res = ros.fit_resample(x_train, y_train)\n",
        "print(x_train_res.shape) # (258, 200)\n",
        "print(y_train_res.shape) # (258,)\n",
        "print('Resampled dataset shape %s' % Counter(y_train_res))\n",
        "\n",
        "# Now we have 50/50 balanced classes"
      ],
      "execution_count": 20,
      "outputs": [
        {
          "output_type": "stream",
          "text": [
            "(290, 200)\n",
            "(290,)\n",
            "Resampled dataset shape Counter({0.0: 145, 1.0: 145})\n"
          ],
          "name": "stdout"
        }
      ]
    },
    {
      "metadata": {
        "id": "ZcBrBokeM9M0",
        "colab_type": "code",
        "outputId": "db3c328c-d949-46a8-9888-6cedea651838",
        "colab": {
          "base_uri": "https://localhost:8080/",
          "height": 299
        }
      },
      "cell_type": "code",
      "source": [
        "x_train = x_train_res\n",
        "y_train = y_train_res\n",
        "print('Resampled dataset shape %s' % Counter(y_train))\n",
        "plt.hist(y_train, bins='auto')  # arguments are passed to np.histogram\n",
        "plt.title(\"Histogram train dataset classes\")\n",
        "plt.show()"
      ],
      "execution_count": 21,
      "outputs": [
        {
          "output_type": "stream",
          "text": [
            "Resampled dataset shape Counter({0.0: 145, 1.0: 145})\n"
          ],
          "name": "stdout"
        },
        {
          "output_type": "display_data",
          "data": {
            "image/png": "[encoded data removed]",
            "text/plain": [
              "<Figure size 432x288 with 1 Axes>"
            ]
          },
          "metadata": {
            "tags": []
          }
        }
      ]
    },
    {
      "metadata": {
        "id": "T6-DBBeQMfz3",
        "colab_type": "code",
        "outputId": "83575e46-5651-4f24-c190-9e1d9e1fe15e",
        "colab": {
          "base_uri": "https://localhost:8080/",
          "height": 299
        }
      },
      "cell_type": "code",
      "source": [
        "print('Test dataset shape %s' % Counter(y_test))\n",
        "plt.hist(y_test, bins='auto')  # arguments are passed to np.histogram\n",
        "plt.title(\"Histogram test dataset classes\")\n",
        "plt.show()"
      ],
      "execution_count": 22,
      "outputs": [
        {
          "output_type": "stream",
          "text": [
            "Test dataset shape Counter({0.0: 63, 1.0: 15})\n"
          ],
          "name": "stdout"
        },
        {
          "output_type": "display_data",
          "data": {
            "image/png": "[encoded data removed]",
            "text/plain": [
              "<Figure size 432x288 with 1 Axes>"
            ]
          },
          "metadata": {
            "tags": []
          }
        }
      ]
    },
    {
      "metadata": {
        "id": "ZJEejZeyA3UF",
        "colab_type": "text"
      },
      "cell_type": "markdown",
      "source": [
        "## Logistic Regression"
      ]
    },
    {
      "metadata": {
        "id": "oWyYBLkmBgN1",
        "colab_type": "code",
        "colab": {}
      },
      "cell_type": "code",
      "source": [
        "from sklearn.linear_model import LogisticRegression"
      ],
      "execution_count": 0,
      "outputs": []
    },
    {
      "metadata": {
        "id": "HvOfH8nQHqhd",
        "colab_type": "text"
      },
      "cell_type": "markdown",
      "source": [
        "###Train logistic regression"
      ]
    },
    {
      "metadata": {
        "id": "SSx65HTUAxBD",
        "colab_type": "code",
        "outputId": "1db36fc1-2792-4dfd-934c-e60308728d9f",
        "colab": {
          "base_uri": "https://localhost:8080/",
          "height": 72
        }
      },
      "cell_type": "code",
      "source": [
        "# Train classifier\n",
        "log_classifier = LogisticRegression(random_state=0)\n",
        "log_classifier.fit(x_train, y_train)\n",
        "y_pred = log_classifier.predict(x_test)"
      ],
      "execution_count": 24,
      "outputs": [
        {
          "output_type": "stream",
          "text": [
            "/usr/local/lib/python3.6/dist-packages/sklearn/linear_model/logistic.py:433: FutureWarning: Default solver will be changed to 'lbfgs' in 0.22. Specify a solver to silence this warning.\n",
            "  FutureWarning)\n"
          ],
          "name": "stderr"
        }
      ]
    },
    {
      "metadata": {
        "id": "siZ29snsHt-S",
        "colab_type": "text"
      },
      "cell_type": "markdown",
      "source": [
        "###Test logistic regression"
      ]
    },
    {
      "metadata": {
        "id": "jvnLEL0OCfJT",
        "colab_type": "code",
        "outputId": "646cc07a-3aec-475b-d386-63797cca6de2",
        "colab": {
          "base_uri": "https://localhost:8080/",
          "height": 312
        }
      },
      "cell_type": "code",
      "source": [
        "# Accuracy \n",
        "acc = accuracy_score(y_test, y_pred)\n",
        "print(\"Accuracy\", \"\\n\", acc, \"\\n\")\n",
        "\n",
        "# Confusion matrix\n",
        "cm = confusion_matrix(y_test, y_pred)\n",
        "print(\"Confusion Matrix\", \"\\n\", cm, \"\\n\")\n",
        "\n",
        "# Classification report\n",
        "target_names = ['Child', 'Adult']\n",
        "cr = classification_report(y_test, y_pred, target_names=target_names)\n",
        "print(\"Calssification report\", \"\\n\", cr)"
      ],
      "execution_count": 25,
      "outputs": [
        {
          "output_type": "stream",
          "text": [
            "Accuracy \n",
            " 0.7692307692307693 \n",
            "\n",
            "Confusion Matrix \n",
            " [[59  4]\n",
            " [14  1]] \n",
            "\n",
            "Calssification report \n",
            "               precision    recall  f1-score   support\n",
            "\n",
            "       Child       0.81      0.94      0.87        63\n",
            "       Adult       0.20      0.07      0.10        15\n",
            "\n",
            "   micro avg       0.77      0.77      0.77        78\n",
            "   macro avg       0.50      0.50      0.48        78\n",
            "weighted avg       0.69      0.77      0.72        78\n",
            "\n"
          ],
          "name": "stdout"
        }
      ]
    },
    {
      "metadata": {
        "id": "Xj1hKl9EKTjK",
        "colab_type": "text"
      },
      "cell_type": "markdown",
      "source": [
        "##Suport Vector Machine"
      ]
    },
    {
      "metadata": {
        "id": "eslBDDCKKWV0",
        "colab_type": "code",
        "colab": {}
      },
      "cell_type": "code",
      "source": [
        "from sklearn.svm import SVC"
      ],
      "execution_count": 0,
      "outputs": []
    },
    {
      "metadata": {
        "id": "JOx-QOmjOdwZ",
        "colab_type": "text"
      },
      "cell_type": "markdown",
      "source": [
        "###Training support vector machine"
      ]
    },
    {
      "metadata": {
        "id": "7-UNddEtKXN0",
        "colab_type": "code",
        "colab": {}
      },
      "cell_type": "code",
      "source": [
        "svm = SVC(gamma='auto')\n",
        "svm.fit(x_train, y_train) \n",
        "y_pred = svm.predict(x_test)"
      ],
      "execution_count": 0,
      "outputs": []
    },
    {
      "metadata": {
        "id": "PMjRUuPQOi72",
        "colab_type": "text"
      },
      "cell_type": "markdown",
      "source": [
        "###Testing support vector machine"
      ]
    },
    {
      "metadata": {
        "id": "X0WYMs1BMGHU",
        "colab_type": "code",
        "outputId": "a6c02d37-2814-4854-d85d-f4405e080c4a",
        "colab": {
          "base_uri": "https://localhost:8080/",
          "height": 312
        }
      },
      "cell_type": "code",
      "source": [
        "# Accuracy \n",
        "acc = accuracy_score(y_test, y_pred)\n",
        "print(\"Accuracy\", \"\\n\", acc, \"\\n\")\n",
        "\n",
        "# Confusion matrix\n",
        "cm = confusion_matrix(y_test, y_pred)\n",
        "print(\"Confusion Matrix\", \"\\n\", cm, \"\\n\")\n",
        "\n",
        "# Classification report\n",
        "target_names = ['Child', 'Adult']\n",
        "cr = classification_report(y_test, y_pred, target_names=target_names)\n",
        "print(\"Calssification report\", \"\\n\", cr)"
      ],
      "execution_count": 28,
      "outputs": [
        {
          "output_type": "stream",
          "text": [
            "Accuracy \n",
            " 0.7692307692307693 \n",
            "\n",
            "Confusion Matrix \n",
            " [[60  3]\n",
            " [15  0]] \n",
            "\n",
            "Calssification report \n",
            "               precision    recall  f1-score   support\n",
            "\n",
            "       Child       0.80      0.95      0.87        63\n",
            "       Adult       0.00      0.00      0.00        15\n",
            "\n",
            "   micro avg       0.77      0.77      0.77        78\n",
            "   macro avg       0.40      0.48      0.43        78\n",
            "weighted avg       0.65      0.77      0.70        78\n",
            "\n"
          ],
          "name": "stdout"
        }
      ]
    },
    {
      "metadata": {
        "id": "IUnvV8k2PRcw",
        "colab_type": "text"
      },
      "cell_type": "markdown",
      "source": [
        "##Decision Tree"
      ]
    },
    {
      "metadata": {
        "id": "1Xw_vjesPTEe",
        "colab_type": "code",
        "colab": {}
      },
      "cell_type": "code",
      "source": [
        "from sklearn import tree"
      ],
      "execution_count": 0,
      "outputs": []
    },
    {
      "metadata": {
        "id": "CA8dCLfXPr9u",
        "colab_type": "text"
      },
      "cell_type": "markdown",
      "source": [
        "###Training decision tree"
      ]
    },
    {
      "metadata": {
        "id": "UNY_wRsqPYYE",
        "colab_type": "code",
        "colab": {}
      },
      "cell_type": "code",
      "source": [
        "d_tree = tree.DecisionTreeClassifier()\n",
        "d_tree.fit(x_train, y_train) \n",
        "y_pred = d_tree.predict(x_test)"
      ],
      "execution_count": 0,
      "outputs": []
    },
    {
      "metadata": {
        "id": "XSgKy-kHPzCu",
        "colab_type": "text"
      },
      "cell_type": "markdown",
      "source": [
        "###Testing decision tree"
      ]
    },
    {
      "metadata": {
        "id": "wZWYB0nfPiRh",
        "colab_type": "code",
        "outputId": "f821b0eb-be69-43e8-93df-155e5d91fa63",
        "colab": {
          "base_uri": "https://localhost:8080/",
          "height": 312
        }
      },
      "cell_type": "code",
      "source": [
        "# Accuracy \n",
        "acc = accuracy_score(y_test, y_pred)\n",
        "print(\"Accuracy\", \"\\n\", acc, \"\\n\")\n",
        "\n",
        "# Confusion matrix\n",
        "cm = confusion_matrix(y_test, y_pred)\n",
        "print(\"Confusion Matrix\", \"\\n\", cm, \"\\n\")\n",
        "\n",
        "# Classification report\n",
        "target_names = ['Child', 'Adult']\n",
        "cr = classification_report(y_test, y_pred, target_names=target_names)\n",
        "print(\"Calssification report\", \"\\n\", cr)"
      ],
      "execution_count": 31,
      "outputs": [
        {
          "output_type": "stream",
          "text": [
            "Accuracy \n",
            " 0.6538461538461539 \n",
            "\n",
            "Confusion Matrix \n",
            " [[45 18]\n",
            " [ 9  6]] \n",
            "\n",
            "Calssification report \n",
            "               precision    recall  f1-score   support\n",
            "\n",
            "       Child       0.83      0.71      0.77        63\n",
            "       Adult       0.25      0.40      0.31        15\n",
            "\n",
            "   micro avg       0.65      0.65      0.65        78\n",
            "   macro avg       0.54      0.56      0.54        78\n",
            "weighted avg       0.72      0.65      0.68        78\n",
            "\n"
          ],
          "name": "stdout"
        }
      ]
    },
    {
      "metadata": {
        "id": "37Bkqa_FQL4Z",
        "colab_type": "text"
      },
      "cell_type": "markdown",
      "source": [
        "##Gaussian Naive Bayes"
      ]
    },
    {
      "metadata": {
        "id": "Y4HEWPMAQLYf",
        "colab_type": "code",
        "colab": {}
      },
      "cell_type": "code",
      "source": [
        "from sklearn.naive_bayes import GaussianNB"
      ],
      "execution_count": 0,
      "outputs": []
    },
    {
      "metadata": {
        "id": "jCYkCbF6TLtg",
        "colab_type": "text"
      },
      "cell_type": "markdown",
      "source": [
        "###Training Naive Bayes"
      ]
    },
    {
      "metadata": {
        "id": "kpJhLIr0QUlS",
        "colab_type": "code",
        "colab": {}
      },
      "cell_type": "code",
      "source": [
        "bayes = GaussianNB()\n",
        "bayes.fit(x_train, y_train) \n",
        "y_pred = bayes.predict(x_test)"
      ],
      "execution_count": 0,
      "outputs": []
    },
    {
      "metadata": {
        "id": "n9G0qFrqTQO1",
        "colab_type": "text"
      },
      "cell_type": "markdown",
      "source": [
        "###Testing Naive Bayes"
      ]
    },
    {
      "metadata": {
        "id": "rKQMA1k8QgF1",
        "colab_type": "code",
        "outputId": "3bf55ed8-d6be-4024-ee01-e05a1a4b4589",
        "colab": {
          "base_uri": "https://localhost:8080/",
          "height": 312
        }
      },
      "cell_type": "code",
      "source": [
        "# Accuracy \n",
        "acc = accuracy_score(y_test, y_pred)\n",
        "print(\"Accuracy\", \"\\n\", acc, \"\\n\")\n",
        "\n",
        "# Confusion matrix\n",
        "cm = confusion_matrix(y_test, y_pred)\n",
        "print(\"Confusion Matrix\", \"\\n\", cm, \"\\n\")\n",
        "\n",
        "# Classification report\n",
        "target_names = ['Child', 'Adult']\n",
        "cr = classification_report(y_test, y_pred, target_names=target_names)\n",
        "print(\"Calssification report\", \"\\n\", cr)"
      ],
      "execution_count": 34,
      "outputs": [
        {
          "output_type": "stream",
          "text": [
            "Accuracy \n",
            " 0.7564102564102564 \n",
            "\n",
            "Confusion Matrix \n",
            " [[58  5]\n",
            " [14  1]] \n",
            "\n",
            "Calssification report \n",
            "               precision    recall  f1-score   support\n",
            "\n",
            "       Child       0.81      0.92      0.86        63\n",
            "       Adult       0.17      0.07      0.10        15\n",
            "\n",
            "   micro avg       0.76      0.76      0.76        78\n",
            "   macro avg       0.49      0.49      0.48        78\n",
            "weighted avg       0.68      0.76      0.71        78\n",
            "\n"
          ],
          "name": "stdout"
        }
      ]
    },
    {
      "metadata": {
        "id": "p3Fjn75FQ0A2",
        "colab_type": "text"
      },
      "cell_type": "markdown",
      "source": [
        "## Random Forest"
      ]
    },
    {
      "metadata": {
        "id": "oAsAISt4Q1g9",
        "colab_type": "code",
        "colab": {}
      },
      "cell_type": "code",
      "source": [
        "from sklearn.ensemble import RandomForestClassifier"
      ],
      "execution_count": 0,
      "outputs": []
    },
    {
      "metadata": {
        "id": "LbUF0ndhTT7T",
        "colab_type": "text"
      },
      "cell_type": "markdown",
      "source": [
        "###Training Random Forest"
      ]
    },
    {
      "metadata": {
        "id": "KQ8LptbHQ3fC",
        "colab_type": "code",
        "colab": {}
      },
      "cell_type": "code",
      "source": [
        "forest = RandomForestClassifier(n_estimators=100)\n",
        "forest.fit(x_train, y_train) \n",
        "y_pred = forest.predict(x_test)"
      ],
      "execution_count": 0,
      "outputs": []
    },
    {
      "metadata": {
        "id": "7ALD5ojETYrJ",
        "colab_type": "text"
      },
      "cell_type": "markdown",
      "source": [
        "###Testing Random Forest"
      ]
    },
    {
      "metadata": {
        "id": "Nt8dMDUlSFO6",
        "colab_type": "code",
        "outputId": "5bcb03f1-1671-4f99-ca86-242fe4f60dc7",
        "colab": {
          "base_uri": "https://localhost:8080/",
          "height": 312
        }
      },
      "cell_type": "code",
      "source": [
        "# Accuracy \n",
        "acc = accuracy_score(y_test, y_pred)\n",
        "print(\"Accuracy\", \"\\n\", acc, \"\\n\")\n",
        "\n",
        "# Confusion matrix\n",
        "cm = confusion_matrix(y_test, y_pred)\n",
        "print(\"Confusion Matrix\", \"\\n\", cm, \"\\n\")\n",
        "\n",
        "# Classification report\n",
        "target_names = ['Child', 'Adult']\n",
        "cr = classification_report(y_test, y_pred, target_names=target_names)\n",
        "print(\"Calssification report\", \"\\n\", cr)"
      ],
      "execution_count": 37,
      "outputs": [
        {
          "output_type": "stream",
          "text": [
            "Accuracy \n",
            " 0.7948717948717948 \n",
            "\n",
            "Confusion Matrix \n",
            " [[62  1]\n",
            " [15  0]] \n",
            "\n",
            "Calssification report \n",
            "               precision    recall  f1-score   support\n",
            "\n",
            "       Child       0.81      0.98      0.89        63\n",
            "       Adult       0.00      0.00      0.00        15\n",
            "\n",
            "   micro avg       0.79      0.79      0.79        78\n",
            "   macro avg       0.40      0.49      0.44        78\n",
            "weighted avg       0.65      0.79      0.72        78\n",
            "\n"
          ],
          "name": "stdout"
        }
      ]
    },
    {
      "metadata": {
        "id": "mZkPa4EnS4VF",
        "colab_type": "text"
      },
      "cell_type": "markdown",
      "source": [
        "##Gradient Boosting Classifier"
      ]
    },
    {
      "metadata": {
        "id": "B4VRSGnnSs6V",
        "colab_type": "code",
        "colab": {}
      },
      "cell_type": "code",
      "source": [
        "from sklearn.ensemble import GradientBoostingClassifier"
      ],
      "execution_count": 0,
      "outputs": []
    },
    {
      "metadata": {
        "id": "_Te7YLW5Tf2_",
        "colab_type": "text"
      },
      "cell_type": "markdown",
      "source": [
        "###Training Gradient Boosting Classifier"
      ]
    },
    {
      "metadata": {
        "id": "rpnkfdHLSvrX",
        "colab_type": "code",
        "colab": {}
      },
      "cell_type": "code",
      "source": [
        "boosting = GradientBoostingClassifier(n_estimators=100, learning_rate = 0.1)\n",
        "boosting.fit(x_train, y_train) \n",
        "boosting = forest.predict(x_test)"
      ],
      "execution_count": 0,
      "outputs": []
    },
    {
      "metadata": {
        "id": "_VNIAXFNTkK2",
        "colab_type": "text"
      },
      "cell_type": "markdown",
      "source": [
        "###Testing Gradient Boosting Classifier"
      ]
    },
    {
      "metadata": {
        "id": "U2gXcU-USng9",
        "colab_type": "code",
        "outputId": "b6007cf2-3d7d-4f39-d667-853d02e92313",
        "colab": {
          "base_uri": "https://localhost:8080/",
          "height": 312
        }
      },
      "cell_type": "code",
      "source": [
        "# Accuracy \n",
        "acc = accuracy_score(y_test, y_pred)\n",
        "print(\"Accuracy\", \"\\n\", acc, \"\\n\")\n",
        "\n",
        "# Confusion matrix\n",
        "cm = confusion_matrix(y_test, y_pred)\n",
        "print(\"Confusion Matrix\", \"\\n\", cm, \"\\n\")\n",
        "\n",
        "# Classification report\n",
        "target_names = ['Child', 'Adult']\n",
        "cr = classification_report(y_test, y_pred, target_names=target_names)\n",
        "print(\"Calssification report\", \"\\n\", cr)"
      ],
      "execution_count": 40,
      "outputs": [
        {
          "output_type": "stream",
          "text": [
            "Accuracy \n",
            " 0.7948717948717948 \n",
            "\n",
            "Confusion Matrix \n",
            " [[62  1]\n",
            " [15  0]] \n",
            "\n",
            "Calssification report \n",
            "               precision    recall  f1-score   support\n",
            "\n",
            "       Child       0.81      0.98      0.89        63\n",
            "       Adult       0.00      0.00      0.00        15\n",
            "\n",
            "   micro avg       0.79      0.79      0.79        78\n",
            "   macro avg       0.40      0.49      0.44        78\n",
            "weighted avg       0.65      0.79      0.72        78\n",
            "\n"
          ],
          "name": "stdout"
        }
      ]
    }
  ]
}