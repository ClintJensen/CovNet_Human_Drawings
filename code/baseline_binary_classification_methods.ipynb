{
  "nbformat": 4,
  "nbformat_minor": 0,
  "metadata": {
    "colab": {
      "name": "baseline_binary_classification_methods.ipynb",
      "version": "0.3.2",
      "provenance": [],
      "toc_visible": true,
      "include_colab_link": true
    },
    "kernelspec": {
      "name": "python3",
      "display_name": "Python 3"
    }
  },
  "cells": [
    {
      "cell_type": "markdown",
      "metadata": {
        "id": "view-in-github",
        "colab_type": "text"
      },
      "source": [
        "<a href=\"https://colab.research.google.com/github/pabloinsente/CovNet_Human_Drawings/blob/master/code/baseline_binary_classification_methods.ipynb\" target=\"_parent\"><img src=\"https://colab.research.google.com/assets/colab-badge.svg\" alt=\"Open In Colab\"/></a>"
      ]
    },
    {
      "cell_type": "markdown",
      "metadata": {
        "id": "TXwk9Cqq_Sai",
        "colab_type": "text"
      },
      "source": [
        "#Baseline for binary classification of child/adult from drawings with PCA vectors"
      ]
    },
    {
      "cell_type": "markdown",
      "metadata": {
        "id": "ObeZBPWqBiSV",
        "colab_type": "text"
      },
      "source": [
        "##Data Preparation"
      ]
    },
    {
      "cell_type": "code",
      "metadata": {
        "id": "9JbnYBHLjbcB",
        "colab_type": "code",
        "colab": {}
      },
      "source": [
        "!pip install rarfile"
      ],
      "execution_count": 0,
      "outputs": []
    },
    {
      "cell_type": "code",
      "metadata": {
        "id": "EbY-t84bAzVT",
        "colab_type": "code",
        "colab": {}
      },
      "source": [
        "from sklearn.model_selection import train_test_split\n",
        "from sklearn.metrics import confusion_matrix\n",
        "from sklearn.metrics import classification_report\n",
        "from sklearn.metrics import accuracy_score\n",
        "\n",
        "from imblearn.over_sampling import RandomOverSampler \n",
        "from imblearn.over_sampling import SMOTE \n",
        "\n",
        "import rarfile, csv\n",
        "\n",
        "from numpy import genfromtxt\n",
        "import pandas as pd\n",
        "from collections import Counter\n",
        "import matplotlib.pyplot as plt"
      ],
      "execution_count": 0,
      "outputs": []
    },
    {
      "cell_type": "code",
      "metadata": {
        "id": "QkbiV6x5-y3D",
        "colab_type": "code",
        "colab": {}
      },
      "source": [
        "# Clone the data into Colab\n",
        "! git clone https://github.com/pabloinsente/CovNet_Human_Drawings"
      ],
      "execution_count": 0,
      "outputs": []
    },
    {
      "cell_type": "code",
      "metadata": {
        "id": "lIBgExTWf7QR",
        "colab_type": "code",
        "outputId": "ac21e635-dea0-42c4-8e2e-f6ead413f803",
        "colab": {
          "base_uri": "https://localhost:8080/",
          "height": 145
        }
      },
      "source": [
        "# Read csv files from compressed rar file and convert into a dataframe\n",
        "rar_path = rarfile.RarFile(\"CovNet_Human_Drawings/data/merged_dataframes_prediction/x_drawings_features_max_pool_5.rar\")\n",
        "csv_file_name = \"x_drawings_features_max_pool_5.csv\"\n",
        "rar_file = rarfile.RarFile.open(rar_path, csv_file_name)\n",
        "x = pd.read_csv(rar_file, sep=\",\", header=None)\n",
        "print(x.shape)\n",
        "print(x.iloc[0:5,0:5])"
      ],
      "execution_count": 16,
      "outputs": [
        {
          "output_type": "stream",
          "text": [
            "(258, 25088)\n",
            "          0    1    2         3         4\n",
            "0 -0.001317  0.0  0.0 -0.001322 -0.003181\n",
            "1 -0.001052  0.0  0.0 -0.001056 -0.002540\n",
            "2 -0.001176  0.0  0.0 -0.001181 -0.002840\n",
            "3 -0.000836  0.0  0.0 -0.000839 -0.000957\n",
            "4 -0.001163  0.0  0.0 -0.001168  0.011156\n"
          ],
          "name": "stdout"
        }
      ]
    },
    {
      "cell_type": "code",
      "metadata": {
        "id": "ufsZPu0JHTB_",
        "colab_type": "code",
        "outputId": "5978bcec-adbf-4a38-98bc-f7909d79ddf5",
        "colab": {
          "base_uri": "https://localhost:8080/",
          "height": 54
        }
      },
      "source": [
        "# Read labels vector\n",
        "y_path = 'CovNet_Human_Drawings/data/merged_dataframes_prediction/y_age_adult_labels.csv'\n",
        "y = genfromtxt(y_path, delimiter=',')\n",
        "\n",
        "#x = x.drop([0]) # drop headers\n",
        "print(y.shape)\n",
        "print(y[0:5])"
      ],
      "execution_count": 17,
      "outputs": [
        {
          "output_type": "stream",
          "text": [
            "(258,)\n",
            "[0. 0. 0. 0. 0.]\n"
          ],
          "name": "stdout"
        }
      ]
    },
    {
      "cell_type": "markdown",
      "metadata": {
        "id": "xLRMtpc3HYOv",
        "colab_type": "text"
      },
      "source": [
        "##PCA"
      ]
    },
    {
      "cell_type": "code",
      "metadata": {
        "id": "bSUV_o6tId5Q",
        "colab_type": "code",
        "colab": {}
      },
      "source": [
        "from sklearn.decomposition import PCA\n",
        "import numpy as np"
      ],
      "execution_count": 0,
      "outputs": []
    },
    {
      "cell_type": "code",
      "metadata": {
        "id": "JnCACU9YHfh9",
        "colab_type": "code",
        "outputId": "59261523-f760-42f9-8f7b-9347efd6dcd8",
        "colab": {
          "base_uri": "https://localhost:8080/",
          "height": 302
        }
      },
      "source": [
        "# Let's print out the accumulated explained variance as we get\n",
        "# more components using PCA \n",
        "\n",
        "pca = PCA(n_components=x.shape[0])\n",
        "pca.fit(x)\n",
        "\n",
        "plt.plot(np.cumsum(pca.explained_variance_ratio_))\n",
        "plt.xlabel('Number of components')\n",
        "plt.ylabel('Cumulative explained variance')"
      ],
      "execution_count": 19,
      "outputs": [
        {
          "output_type": "execute_result",
          "data": {
            "text/plain": [
              "Text(0, 0.5, 'Cumulative explained variance')"
            ]
          },
          "metadata": {
            "tags": []
          },
          "execution_count": 19
        },
        {
          "output_type": "display_data",
          "data": {
            "image/png": "[encoded data removed]",
            "text/plain": [
              "<Figure size 432x288 with 1 Axes>"
            ]
          },
          "metadata": {
            "tags": []
          }
        }
      ]
    },
    {
      "cell_type": "code",
      "metadata": {
        "id": "8zz0sCqRIrlA",
        "colab_type": "code",
        "outputId": "80fcb589-547c-4e3b-ef5a-3ab3b9601143",
        "colab": {
          "base_uri": "https://localhost:8080/",
          "height": 35
        }
      },
      "source": [
        "NCOMPONENTS = 200\n",
        "\n",
        "pca = PCA(n_components=NCOMPONENTS)\n",
        "x_pca = pca.fit_transform(x)\n",
        "x = x_pca\n",
        "x.shape"
      ],
      "execution_count": 20,
      "outputs": [
        {
          "output_type": "execute_result",
          "data": {
            "text/plain": [
              "(258, 200)"
            ]
          },
          "metadata": {
            "tags": []
          },
          "execution_count": 20
        }
      ]
    },
    {
      "cell_type": "code",
      "metadata": {
        "id": "rXjzygJTBa3D",
        "colab_type": "code",
        "outputId": "1ab4fcbc-0609-4ca1-e486-2ea9ba260bb6",
        "colab": {
          "base_uri": "https://localhost:8080/",
          "height": 90
        }
      },
      "source": [
        "# Split data into train and test sets\n",
        "# Since we have an small sample, we will do a 70/30 split\n",
        "\n",
        "x_train, x_test, y_train, y_test = train_test_split(x, y, test_size = 0.3, random_state=44, stratify=y)\n",
        "print(x_train.shape) \n",
        "print(y_train.shape) \n",
        "print(x_test.shape) \n",
        "print(y_test.shape)"
      ],
      "execution_count": 22,
      "outputs": [
        {
          "output_type": "stream",
          "text": [
            "(180, 200)\n",
            "(180,)\n",
            "(78, 200)\n",
            "(78,)\n"
          ],
          "name": "stdout"
        }
      ]
    },
    {
      "cell_type": "markdown",
      "metadata": {
        "id": "oDthiRfdCEYx",
        "colab_type": "text"
      },
      "source": [
        "##Resampling Imbalanced Data\n",
        "Since our classes are imbalanced, we will use oversampling of the \"adult\" class **on the training set**  to help training on that class. *imblearn* implement oversampling for us\n",
        "\n",
        "**See documentantion at** https://imbalanced-learn.readthedocs.io/en/stable/generated/imblearn.over_sampling.RandomOverSampler.html"
      ]
    },
    {
      "cell_type": "code",
      "metadata": {
        "id": "7Usr2cw8B8N6",
        "colab_type": "code",
        "outputId": "478966e4-14f6-4f6e-c6d5-271c20363d3f",
        "colab": {
          "base_uri": "https://localhost:8080/",
          "height": 72
        }
      },
      "source": [
        "#ros = RandomOverSampler(random_state=42)\n",
        "ros = SMOTE(random_state=42)\n",
        "\n",
        "x_train_res, y_train_res = ros.fit_resample(x_train, y_train)\n",
        "print(x_train_res.shape) # (258, 200)\n",
        "print(y_train_res.shape) # (258,)\n",
        "print('Resampled dataset shape %s' % Counter(y_train_res))\n",
        "\n",
        "# Now we have 50/50 balanced classes"
      ],
      "execution_count": 23,
      "outputs": [
        {
          "output_type": "stream",
          "text": [
            "(290, 200)\n",
            "(290,)\n",
            "Resampled dataset shape Counter({0.0: 145, 1.0: 145})\n"
          ],
          "name": "stdout"
        }
      ]
    },
    {
      "cell_type": "code",
      "metadata": {
        "id": "ZcBrBokeM9M0",
        "colab_type": "code",
        "outputId": "f6187a1c-bef2-4a6b-920e-562e058c027e",
        "colab": {
          "base_uri": "https://localhost:8080/",
          "height": 299
        }
      },
      "source": [
        "x_train = x_train_res\n",
        "y_train = y_train_res\n",
        "print('Resampled dataset shape %s' % Counter(y_train))\n",
        "plt.hist(y_train, bins='auto')  # arguments are passed to np.histogram\n",
        "plt.title(\"Histogram train dataset classes\")\n",
        "plt.show()"
      ],
      "execution_count": 24,
      "outputs": [
        {
          "output_type": "stream",
          "text": [
            "Resampled dataset shape Counter({0.0: 145, 1.0: 145})\n"
          ],
          "name": "stdout"
        },
        {
          "output_type": "display_data",
          "data": {
            "image/png": "[encoded data removed]",
            "text/plain": [
              "<Figure size 432x288 with 1 Axes>"
            ]
          },
          "metadata": {
            "tags": []
          }
        }
      ]
    },
    {
      "cell_type": "code",
      "metadata": {
        "id": "T6-DBBeQMfz3",
        "colab_type": "code",
        "outputId": "4119002c-4270-4bcb-809f-ed4fa5eee18f",
        "colab": {
          "base_uri": "https://localhost:8080/",
          "height": 299
        }
      },
      "source": [
        "print('Test dataset shape %s' % Counter(y_test))\n",
        "plt.hist(y_test, bins='auto')  # arguments are passed to np.histogram\n",
        "plt.title(\"Histogram test dataset classes\")\n",
        "plt.show()"
      ],
      "execution_count": 25,
      "outputs": [
        {
          "output_type": "stream",
          "text": [
            "Test dataset shape Counter({0.0: 63, 1.0: 15})\n"
          ],
          "name": "stdout"
        },
        {
          "output_type": "display_data",
          "data": {
            "image/png": "[encoded data removed]",
            "text/plain": [
              "<Figure size 432x288 with 1 Axes>"
            ]
          },
          "metadata": {
            "tags": []
          }
        }
      ]
    },
    {
      "cell_type": "markdown",
      "metadata": {
        "id": "ZJEejZeyA3UF",
        "colab_type": "text"
      },
      "source": [
        "## Train and test machine learning classifiers"
      ]
    },
    {
      "cell_type": "code",
      "metadata": {
        "id": "yCTVpcxRCKIx",
        "colab_type": "code",
        "colab": {}
      },
      "source": [
        "# Import metrics\n",
        "from sklearn.metrics import confusion_matrix\n",
        "from sklearn.metrics import accuracy_score\n",
        "from scipy.stats import norm\n",
        "\n",
        "# Import models\n",
        "from sklearn.linear_model import LogisticRegression\n",
        "from sklearn.svm import SVC\n",
        "from sklearn import tree\n",
        "from sklearn.naive_bayes import GaussianNB\n",
        "from sklearn.ensemble import RandomForestClassifier\n",
        "from sklearn.ensemble import GradientBoostingClassifier\n",
        "\n",
        "import math\n",
        "import pandas as pd"
      ],
      "execution_count": 0,
      "outputs": []
    },
    {
      "cell_type": "code",
      "metadata": {
        "id": "aYs6qir6dKhn",
        "colab_type": "code",
        "colab": {}
      },
      "source": [
        "# Lists to store values\n",
        "# List of performance measures to evaluate models (criteria list)\n",
        "# List of labels to create dataframe\n",
        "\n",
        "# Confusion matrix values as frequency\n",
        "true_neg_l = []\n",
        "false_pos_l = []\n",
        "false_neg_l = []\n",
        "true_pos_l = []\n",
        "\n",
        "# Confusion matrix values as percentage\n",
        "true_neg_per_l = []\n",
        "false_pos_per_l = []\n",
        "false_neg_per_l = []\n",
        "true_pos_per_l = []\n",
        "\n",
        "# Other metrics for all\n",
        "hit_rate_l = []\n",
        "false_alarm_rate_l = []\n",
        "d_sensitivity_l = []\n",
        "c_bias_l = []\n",
        "accuracy_score_l = []\n",
        "\n",
        "# List to append model name\n",
        "model_l= []\n",
        "\n",
        "# Function that receives the model name, training and testing dataset, and appends values to lists\n",
        "def classification_report(model, x_train, y_train, x_test, y_test, random_state = 0):\n",
        "  \n",
        "  # Get model name and append\n",
        "  model_n = str(model)\n",
        "  model_n = model_n.split('(')[0]\n",
        "  model_l.append(model_n)\n",
        "  \n",
        "  # pass model to classifier\n",
        "  classifier = model\n",
        "  # train model\n",
        "  classifier.fit(x_train, y_train)\n",
        "\n",
        "  # test model on test set\n",
        "  y_pred = classifier.predict(x_test)\n",
        "  y_true = y_test \n",
        "\n",
        "  # Extract confusion matrix values\n",
        "  true_neg, false_pos, false_neg, true_pos = confusion_matrix(y_true, y_pred).ravel()\n",
        "  true_neg_l.append(true_neg)\n",
        "  false_pos_l.append(false_pos)\n",
        "  false_neg_l.append(false_neg)\n",
        "  true_pos_l.append(true_pos)\n",
        "\n",
        "  # Compute confusion matrix as percentage\n",
        "  all_negatives = true_neg + false_pos\n",
        "  all_positives = false_neg + true_pos\n",
        "  true_neg_per = true_neg / all_negatives\n",
        "  true_neg_per_l.append(true_neg_per)\n",
        "  false_pos_per = false_pos / all_negatives\n",
        "  false_pos_per_l.append(false_pos_per)\n",
        "  false_neg_per = false_neg / all_positives\n",
        "  false_neg_per_l.append(false_neg_per)\n",
        "  true_pos_per = true_pos / all_positives\n",
        "  true_pos_per_l.append(true_pos_per)\n",
        "  \n",
        "  \n",
        "  # Floors an ceilings are replaced by half hits and half FA's\n",
        "  half_hit = 0.5 / (true_pos + false_neg)\n",
        "  half_fa = 0.5 / (false_pos + true_neg)\n",
        "  \n",
        "  # Compute Hit rate and avoid d' infinity\n",
        "  hit_rate = true_pos / (true_pos + false_neg)\n",
        "  if hit_rate == 1: \n",
        "    hit_rate = 1 - half_hit\n",
        "  if hit_rate == 0: \n",
        "    hit_rate = half_hit\n",
        "  \n",
        "  hit_rate_l.append(hit_rate)\n",
        "  \n",
        "  # Compute False alarm rate and avoid d' infinity\n",
        "  false_alarm_rate = false_pos / (false_pos + true_neg)\n",
        "  if false_alarm_rate == 1: \n",
        "      false_alarm_rate = 1 - half_fa\n",
        "  if false_alarm_rate == 0: \n",
        "      false_alarm_rate = half_fa\n",
        "  false_alarm_rate_l.append(false_alarm_rate) \n",
        "  \n",
        "  # get z-score\n",
        "  Z = norm.ppf\n",
        "  \n",
        "  # Compute Sensitivity - d'\n",
        "  d_sensitivity = Z(hit_rate) - Z(false_alarm_rate)\n",
        "  d_sensitivity_l.append(d_sensitivity)\n",
        "  \n",
        "  # Compute Bias - c\n",
        "  c_bias = -(Z(hit_rate) + Z(false_alarm_rate)) / 2\n",
        "  c_bias_l.append(c_bias)\n",
        "  \n",
        "  # Compute test accuracy\n",
        "  acc = accuracy_score(y_true, y_pred)\n",
        "  accuracy_score_l.append(acc)"
      ],
      "execution_count": 0,
      "outputs": []
    },
    {
      "cell_type": "code",
      "metadata": {
        "id": "9maUBCdMG_zk",
        "colab_type": "code",
        "colab": {
          "base_uri": "https://localhost:8080/",
          "height": 74
        },
        "outputId": "b16510de-e41f-48f4-fff0-20ac8c06be37"
      },
      "source": [
        "# Define and train models to get classification report by calling \"classification_report\" function\n",
        "\n",
        "log_classifier  =  LogisticRegression()\n",
        "svm =  SVC(gamma='auto')\n",
        "d_tree  =  tree.DecisionTreeClassifier()\n",
        "g_bayes =  GaussianNB()\n",
        "r_forest =  RandomForestClassifier(n_estimators=100)\n",
        "g_boosting =  GradientBoostingClassifier(n_estimators=100, learning_rate = 0.1)\n",
        "\n",
        "classification_report(log_classifier, x_train, y_train, x_test, y_test)\n",
        "classification_report(svm, x_train, y_train, x_test, y_test)\n",
        "classification_report(d_tree, x_train, y_train, x_test, y_test)\n",
        "classification_report(g_bayes, x_train, y_train, x_test, y_test)\n",
        "classification_report(r_forest, x_train, y_train, x_test, y_test)\n",
        "classification_report(g_boosting, x_train, y_train, x_test, y_test)"
      ],
      "execution_count": 48,
      "outputs": [
        {
          "output_type": "stream",
          "text": [
            "/usr/local/lib/python3.6/dist-packages/sklearn/linear_model/logistic.py:433: FutureWarning: Default solver will be changed to 'lbfgs' in 0.22. Specify a solver to silence this warning.\n",
            "  FutureWarning)\n"
          ],
          "name": "stderr"
        }
      ]
    },
    {
      "cell_type": "code",
      "metadata": {
        "id": "qiG7Eh2-J0Ey",
        "colab_type": "code",
        "colab": {
          "base_uri": "https://localhost:8080/",
          "height": 248
        },
        "outputId": "d268d58c-7235-4d40-c7e0-635757e9eb36"
      },
      "source": [
        "# Build classification report dataframe \n",
        "\n",
        "# Labels to build dataframe\n",
        "labels = [\"Model\",\"True_Negatives\", \"False_Positives\", \"False_Negatives\", \"True_Positives\",\n",
        "          \"True_Negatives_Per\", \"False_Positives_Per\", \"False_Negatives_Per\", \"True_Positives_Per\",\n",
        "          \"Hit_Rate\", \"False_Alarm_Rate\", \"d_sensitivity\", \"c_bias\", \"Test_Accuracy_Score\"]\n",
        "\n",
        "data = list(zip(model_l, true_neg_l, false_pos_l, false_neg_l, true_pos_l,\n",
        "                true_neg_per_l, false_pos_per_l, false_neg_per_l,true_pos_per_l,\n",
        "                hit_rate_l,false_alarm_rate_l, d_sensitivity_l, c_bias_l, \n",
        "                accuracy_score_l))\n",
        "\n",
        "assert len(model_l) == len(data), \"criteria list and data don't match\"\n",
        "\n",
        "classification_report = pd.DataFrame(data, columns=labels, index = None )\n",
        "\n",
        "# Now we can look the report in one place\n",
        "classification_report "
      ],
      "execution_count": 49,
      "outputs": [
        {
          "output_type": "execute_result",
          "data": {
            "text/html": [
              "<div>\n",
              "<style scoped>\n",
              "    .dataframe tbody tr th:only-of-type {\n",
              "        vertical-align: middle;\n",
              "    }\n",
              "\n",
              "    .dataframe tbody tr th {\n",
              "        vertical-align: top;\n",
              "    }\n",
              "\n",
              "    .dataframe thead th {\n",
              "        text-align: right;\n",
              "    }\n",
              "</style>\n",
              "<table border=\"1\" class=\"dataframe\">\n",
              "  <thead>\n",
              "    <tr style=\"text-align: right;\">\n",
              "      <th></th>\n",
              "      <th>Model</th>\n",
              "      <th>True_Negatives</th>\n",
              "      <th>False_Positives</th>\n",
              "      <th>False_Negatives</th>\n",
              "      <th>True_Positives</th>\n",
              "      <th>True_Negatives_Per</th>\n",
              "      <th>False_Positives_Per</th>\n",
              "      <th>False_Negatives_Per</th>\n",
              "      <th>True_Positives_Per</th>\n",
              "      <th>Hit_Rate</th>\n",
              "      <th>False_Alarm_Rate</th>\n",
              "      <th>d_sensitivity</th>\n",
              "      <th>c_bias</th>\n",
              "      <th>Test_Accuracy_Score</th>\n",
              "    </tr>\n",
              "  </thead>\n",
              "  <tbody>\n",
              "    <tr>\n",
              "      <th>0</th>\n",
              "      <td>LogisticRegression</td>\n",
              "      <td>60</td>\n",
              "      <td>3</td>\n",
              "      <td>14</td>\n",
              "      <td>1</td>\n",
              "      <td>0.952381</td>\n",
              "      <td>0.047619</td>\n",
              "      <td>0.933333</td>\n",
              "      <td>0.066667</td>\n",
              "      <td>0.066667</td>\n",
              "      <td>0.047619</td>\n",
              "      <td>0.167305</td>\n",
              "      <td>1.584739</td>\n",
              "      <td>0.782051</td>\n",
              "    </tr>\n",
              "    <tr>\n",
              "      <th>1</th>\n",
              "      <td>SVC</td>\n",
              "      <td>62</td>\n",
              "      <td>1</td>\n",
              "      <td>15</td>\n",
              "      <td>0</td>\n",
              "      <td>0.984127</td>\n",
              "      <td>0.015873</td>\n",
              "      <td>1.000000</td>\n",
              "      <td>0.000000</td>\n",
              "      <td>0.033333</td>\n",
              "      <td>0.015873</td>\n",
              "      <td>0.313679</td>\n",
              "      <td>1.990754</td>\n",
              "      <td>0.794872</td>\n",
              "    </tr>\n",
              "    <tr>\n",
              "      <th>2</th>\n",
              "      <td>DecisionTreeClassifier</td>\n",
              "      <td>50</td>\n",
              "      <td>13</td>\n",
              "      <td>13</td>\n",
              "      <td>2</td>\n",
              "      <td>0.793651</td>\n",
              "      <td>0.206349</td>\n",
              "      <td>0.866667</td>\n",
              "      <td>0.133333</td>\n",
              "      <td>0.133333</td>\n",
              "      <td>0.206349</td>\n",
              "      <td>-0.291617</td>\n",
              "      <td>0.964963</td>\n",
              "      <td>0.666667</td>\n",
              "    </tr>\n",
              "    <tr>\n",
              "      <th>3</th>\n",
              "      <td>GaussianNB</td>\n",
              "      <td>55</td>\n",
              "      <td>8</td>\n",
              "      <td>14</td>\n",
              "      <td>1</td>\n",
              "      <td>0.873016</td>\n",
              "      <td>0.126984</td>\n",
              "      <td>0.933333</td>\n",
              "      <td>0.066667</td>\n",
              "      <td>0.066667</td>\n",
              "      <td>0.126984</td>\n",
              "      <td>-0.360322</td>\n",
              "      <td>1.320925</td>\n",
              "      <td>0.717949</td>\n",
              "    </tr>\n",
              "    <tr>\n",
              "      <th>4</th>\n",
              "      <td>RandomForestClassifier</td>\n",
              "      <td>63</td>\n",
              "      <td>0</td>\n",
              "      <td>15</td>\n",
              "      <td>0</td>\n",
              "      <td>1.000000</td>\n",
              "      <td>0.000000</td>\n",
              "      <td>1.000000</td>\n",
              "      <td>0.000000</td>\n",
              "      <td>0.033333</td>\n",
              "      <td>0.007937</td>\n",
              "      <td>0.577908</td>\n",
              "      <td>2.122868</td>\n",
              "      <td>0.807692</td>\n",
              "    </tr>\n",
              "    <tr>\n",
              "      <th>5</th>\n",
              "      <td>GradientBoostingClassifier</td>\n",
              "      <td>58</td>\n",
              "      <td>5</td>\n",
              "      <td>15</td>\n",
              "      <td>0</td>\n",
              "      <td>0.920635</td>\n",
              "      <td>0.079365</td>\n",
              "      <td>1.000000</td>\n",
              "      <td>0.000000</td>\n",
              "      <td>0.033333</td>\n",
              "      <td>0.079365</td>\n",
              "      <td>-0.424559</td>\n",
              "      <td>1.621635</td>\n",
              "      <td>0.743590</td>\n",
              "    </tr>\n",
              "  </tbody>\n",
              "</table>\n",
              "</div>"
            ],
            "text/plain": [
              "                        Model  True_Negatives  False_Positives  \\\n",
              "0          LogisticRegression              60                3   \n",
              "1                         SVC              62                1   \n",
              "2      DecisionTreeClassifier              50               13   \n",
              "3                  GaussianNB              55                8   \n",
              "4      RandomForestClassifier              63                0   \n",
              "5  GradientBoostingClassifier              58                5   \n",
              "\n",
              "   False_Negatives  True_Positives  True_Negatives_Per  False_Positives_Per  \\\n",
              "0               14               1            0.952381             0.047619   \n",
              "1               15               0            0.984127             0.015873   \n",
              "2               13               2            0.793651             0.206349   \n",
              "3               14               1            0.873016             0.126984   \n",
              "4               15               0            1.000000             0.000000   \n",
              "5               15               0            0.920635             0.079365   \n",
              "\n",
              "   False_Negatives_Per  True_Positives_Per  Hit_Rate  False_Alarm_Rate  \\\n",
              "0             0.933333            0.066667  0.066667          0.047619   \n",
              "1             1.000000            0.000000  0.033333          0.015873   \n",
              "2             0.866667            0.133333  0.133333          0.206349   \n",
              "3             0.933333            0.066667  0.066667          0.126984   \n",
              "4             1.000000            0.000000  0.033333          0.007937   \n",
              "5             1.000000            0.000000  0.033333          0.079365   \n",
              "\n",
              "   d_sensitivity    c_bias  Test_Accuracy_Score  \n",
              "0       0.167305  1.584739             0.782051  \n",
              "1       0.313679  1.990754             0.794872  \n",
              "2      -0.291617  0.964963             0.666667  \n",
              "3      -0.360322  1.320925             0.717949  \n",
              "4       0.577908  2.122868             0.807692  \n",
              "5      -0.424559  1.621635             0.743590  "
            ]
          },
          "metadata": {
            "tags": []
          },
          "execution_count": 49
        }
      ]
    },
    {
      "cell_type": "code",
      "metadata": {
        "id": "zSUVXKA9SJmO",
        "colab_type": "code",
        "colab": {}
      },
      "source": [
        "# save report on a csv file\n",
        "exp_n = 'ml_classifiers'\n",
        "file_name = 'classification_report_dap_' + exp_n + '.csv'\n",
        "classification_report.to_csv(file_name, sep=',')"
      ],
      "execution_count": 0,
      "outputs": []
    },
    {
      "cell_type": "markdown",
      "metadata": {
        "id": "lB91ORBgP7dh",
        "colab_type": "text"
      },
      "source": [
        "## Plot results"
      ]
    },
    {
      "cell_type": "code",
      "metadata": {
        "id": "o6ny9eITP6uv",
        "colab_type": "code",
        "colab": {
          "base_uri": "https://localhost:8080/",
          "height": 745
        },
        "outputId": "66d88cf5-fab9-489e-962d-10e25e4b3481"
      },
      "source": [
        "import seaborn as sns\n",
        "sns.set(style=\"whitegrid\")\n",
        "\n",
        "f, axes = plt.subplots(2, 2, figsize=(15, 10), sharex=True)\n",
        "sns.despine(left=True)\n",
        "\n",
        "sns.barplot(x=\"True_Negatives_Per\", y= \"Model\", data=classification_report, ax=axes[0, 0])\n",
        "sns.barplot(x=\"False_Positives_Per\", y= \"Model\", data=classification_report, ax=axes[0, 1])\n",
        "sns.barplot(x=\"False_Negatives_Per\", y= \"Model\", data=classification_report, ax=axes[1, 0])\n",
        "sns.barplot(x=\"True_Positives_Per\", y= \"Model\", data=classification_report, ax=axes[1, 1])\n",
        "\n",
        "\n",
        "plt.tight_layout()\n",
        "plt.savefig('confusion_matrix_classifiers.pdf')"
      ],
      "execution_count": 50,
      "outputs": [
        {
          "output_type": "display_data",
          "data": {
            "image/png": "[encoded data removed]",
            "text/plain": [
              "<Figure size 1080x720 with 4 Axes>"
            ]
          },
          "metadata": {
            "tags": []
          }
        }
      ]
    },
    {
      "cell_type": "code",
      "metadata": {
        "id": "rQKcRC4FQvIG",
        "colab_type": "code",
        "colab": {
          "base_uri": "https://localhost:8080/",
          "height": 745
        },
        "outputId": "04daca03-b3ac-4b1a-8e8b-cf2a303cbc39"
      },
      "source": [
        "sns.set(style=\"whitegrid\")\n",
        "\n",
        "f, axes = plt.subplots(2, 2, figsize=(15, 10), sharex=True)\n",
        "sns.despine(left=True)\n",
        "\n",
        "sns.barplot(x=\"Hit_Rate\", y= \"Model\", data=classification_report, ax=axes[0, 0])\n",
        "sns.barplot(x=\"False_Alarm_Rate\", y= \"Model\", data=classification_report, ax=axes[0, 1])\n",
        "sns.barplot(x=\"d_sensitivity\", y= \"Model\", data=classification_report, ax=axes[1, 0])\n",
        "sns.barplot(x=\"c_bias\", y= \"Model\", data=classification_report, ax=axes[1, 1])\n",
        "\n",
        "plt.tight_layout()\n",
        "plt.savefig('signal_detection_report_classifiers.pdf')"
      ],
      "execution_count": 51,
      "outputs": [
        {
          "output_type": "display_data",
          "data": {
            "image/png": "[encoded data removed]",
            "text/plain": [
              "<Figure size 1080x720 with 4 Axes>"
            ]
          },
          "metadata": {
            "tags": []
          }
        }
      ]
    },
    {
      "cell_type": "code",
      "metadata": {
        "id": "Hg8I5FxsQ5O3",
        "colab_type": "code",
        "colab": {
          "base_uri": "https://localhost:8080/",
          "height": 294
        },
        "outputId": "c5e7c895-fec7-4c0c-8c18-8cf1a7db6c90"
      },
      "source": [
        "sns.set(style=\"whitegrid\")\n",
        "\n",
        "#f, axes = plt.subplots(ncols=2, figsize=(15, 10), sharex=True)\n",
        "sns.despine(left=True)\n",
        "\n",
        "sns.barplot(x=\"Test_Accuracy_Score\", y= \"Model\", data=classification_report)\n",
        "\n",
        "plt.tight_layout()\n",
        "plt.savefig('test_accuracy_classifiers.pdf')"
      ],
      "execution_count": 55,
      "outputs": [
        {
          "output_type": "display_data",
          "data": {
            "image/png": "[encoded data removed]",
            "text/plain": [
              "<Figure size 432x288 with 1 Axes>"
            ]
          },
          "metadata": {
            "tags": []
          }
        }
      ]
    }
  ]
}