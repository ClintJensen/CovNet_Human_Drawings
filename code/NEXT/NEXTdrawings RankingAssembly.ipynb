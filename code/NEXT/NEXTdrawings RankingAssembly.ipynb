{
 "cells": [
  {
   "cell_type": "markdown",
   "metadata": {},
   "source": [
    "# NEXTdrawings RankingAssembly\n",
    "-  Karl Rosengren, PI; Heather Kirkorian, PI; Tim Rogers, PI;  University of Wisconsin – Madison\n",
    "-  Clint Jensen, Graduate Student, University of Wisconsin – Madison\n",
    "\n",
    "This script takes dimensional embedding data split over multiple .csv files and creates one file for visualizatons and graphs. \n",
    "\n",
    "NEXT is an online suite of algorithms that allow for the presentation of stimuli (images, text, videos), so that participants can make judgments providing group level data about the set of stimuli presented. Additional tools within NEXT allow for the visualization of that data into representations, such as multidimensional spaces or rank order graphs. NEXT is hosted on AWS as an Amazon Machine Image (AMI). Participants for this project were Amazon MTurk workers. Each MTurk worker was asked to make 200 judgements and was paid 1 dollar for what was intended to be 10 minutes of work. \n",
    "\n",
    "### Script uses concatenated stub.yaml file NEXTdrawings data (DAP, as well as CUBE and CYLINDER 2D and 3D Objects and Renderings) for Triplets Visualization\n",
    "\n",
    "#### Drawing Study 1: Drawing Across Media (DAM)\n",
    "\n",
    "* Mediums: Children and adults copied simple shapes using each of three mediums (marker on paper, stylus on tablet, finger on tablet). \n",
    "\n",
    "* Shape copies: They copied 4 familiar shapes (circle=CI, square=SQ, triangle=TR, cross=CR) and 2 novel shapes (novel triangle=NT, novel cross=NC) using each of the three mediums, resulting in 18 shape copies per participant (1 for each shape/medium combination)\n",
    "\n",
    "* Draw-a-person: They also drew a person using each of the three mediums (3 person drawings per participant). \n",
    "\n",
    "\n",
    "#### Drawing Study 3: Drawing 2D and 3D Objects and Renderings \n",
    "-- Study 3 also had children draw-a-person, which produced drawings used in our overall DAP analysis \n",
    "\n",
    "* Mediums: Children and adults copied simple shapes using each of three mediums (marker on paper, stylus on tablet, finger on tablet). \n",
    "\n",
    "* One 2D rendering was assigned to the marker-paper condition and the other was assigned to the two tablet conditions (stylus and finger). The opposite shape was used for 3D object drawings (e.g., if the paper condition has 2D cube and 3D cylinder, then the two tablet conditions have 3D cube and 2D cylinder).  \n",
    " \n",
    "* For Study 3 DAP images, children drew one person at the end of the study during free draw, using a medium of their choice (they first chose a surface, then the marker/stylus was placed on the table to use if they wanted). \n",
    "\n",
    "### Code Book for Analysis Critical Elements\n",
    "* Subject IDs for children are \"DAM\" followed by 3-digit number (e.g., DAM001). Subject IDs for adults are \"DAMa\" followed by 3-digit number (e.g., DAMa001). \n",
    "* marker on paper - (_P_)\n",
    "* stylus on tablet - (_T_)\n",
    "* finger on tablet - (_F_)\n",
    "\n",
    "\n",
    "* Participant.ID - NEXT generated ID -- different from MTurk ID\n",
    "* Timestamp - Date of participation -- stub.yaml requires a very specific format, script may need adjustment given potential .csv adjustments in Excel \n",
    "* Center - Image presented at top center -- images that the other two images are compared against for similarity judgement\n",
    "* Left - Image presented at bottom left\n",
    "* Right - Image presented at bottom right \n",
    "* Answer - Image participants chose as most similar to Center image\n",
    "* Alg.label - All set to Test initially, these are adjusted to include 90% training designation and 10% test to create a hold out set for model fit comparisons\n",
    "* Response.Time..s. - Response time for individual triplet set\n",
    "* Participant.ID.sub - NEXT generated ID minus experimentID\n",
    "* Condition - Name given to Study within this script\n",
    "* Session - NEXT generated ID experimentID"
   ]
  },
  {
   "cell_type": "markdown",
   "metadata": {},
   "source": [
    "#### Setting CRAN to load packages (Might be necessary depending on how jupyter is loaded)"
   ]
  },
  {
   "cell_type": "code",
   "execution_count": 1,
   "metadata": {},
   "outputs": [],
   "source": [
    "options(repos=structure(c(CRAN=\"https://rweb.crmda.ku.edu/cran/\")))"
   ]
  },
  {
   "cell_type": "markdown",
   "metadata": {},
   "source": [
    "#### Loading packages used in analysis, plots, data managment"
   ]
  },
  {
   "cell_type": "code",
   "execution_count": 4,
   "metadata": {
    "scrolled": true
   },
   "outputs": [
    {
     "name": "stderr",
     "output_type": "stream",
     "text": [
      "Loading required package: tidyverse\n",
      "── \u001b[1mAttaching packages\u001b[22m ─────────────────────────────────────── tidyverse 1.2.1 ──\n",
      "\u001b[32m✔\u001b[39m \u001b[34mggplot2\u001b[39m 3.2.1     \u001b[32m✔\u001b[39m \u001b[34mpurrr  \u001b[39m 0.3.4\n",
      "\u001b[32m✔\u001b[39m \u001b[34mtibble \u001b[39m 2.1.3     \u001b[32m✔\u001b[39m \u001b[34mdplyr  \u001b[39m 0.8.3\n",
      "\u001b[32m✔\u001b[39m \u001b[34mtidyr  \u001b[39m 1.0.0     \u001b[32m✔\u001b[39m \u001b[34mstringr\u001b[39m 1.4.0\n",
      "\u001b[32m✔\u001b[39m \u001b[34mreadr  \u001b[39m 1.3.1     \u001b[32m✔\u001b[39m \u001b[34mforcats\u001b[39m 0.4.0\n",
      "Warning message:\n",
      "“package ‘purrr’ was built under R version 3.6.2”── \u001b[1mConflicts\u001b[22m ────────────────────────────────────────── tidyverse_conflicts() ──\n",
      "\u001b[31m✖\u001b[39m \u001b[34mdplyr\u001b[39m::\u001b[32mfilter()\u001b[39m masks \u001b[34mstats\u001b[39m::filter()\n",
      "\u001b[31m✖\u001b[39m \u001b[34mdplyr\u001b[39m::\u001b[32mlag()\u001b[39m    masks \u001b[34mstats\u001b[39m::lag()\n"
     ]
    }
   ],
   "source": [
    "#-----------------------------------------------------------------------------------------------------------\n",
    "#AUTOMATING PACKAGES NEEDED\n",
    "\n",
    "haspackage = require(\"tidyverse\") # used for data structure codes\n",
    "if (haspackage==FALSE){\n",
    "  install.packages(\"tidyverse\")\n",
    "    }"
   ]
  },
  {
   "cell_type": "markdown",
   "metadata": {},
   "source": [
    "#### Setting R to file where data is stored"
   ]
  },
  {
   "cell_type": "markdown",
   "metadata": {},
   "source": [
    "# <font color='BLUE'>  Draw-A-Person (DAP) </font>"
   ]
  },
  {
   "cell_type": "code",
   "execution_count": 1,
   "metadata": {},
   "outputs": [],
   "source": [
    "#PC - must map network Z drive to rogerslab.drive.wisc.edu first\n",
    "#setwd(\"Z:/NEXT/NEXTdrawings/NEXTdrawingsData/Data/NEXTdrawingsData/DAP_DuelingBandits\")\n",
    "\n",
    "#Mac - must connect to rogerslab.drive.wisc.edu first\n",
    "setwd(\"/Volumes/rogerslab/NEXT/NEXTdrawings/Data/NEXTdrawingsData/DAP_DuelingBandits\")\n",
    "\n",
    "#laptop\n",
    "#setwd(\"/Users/clintjensen/NEXT/NEXTdrawingsDownloads/Data/NEXTdrawingsData/DAP_DuelingBandits\")"
   ]
  },
  {
   "cell_type": "code",
   "execution_count": 2,
   "metadata": {},
   "outputs": [],
   "source": [
    "#DAP\n",
    "data <- read.csv(\"stub.yamlStyle_DAP_DuelingBandits_data.csv\", header=TRUE)"
   ]
  },
  {
   "cell_type": "markdown",
   "metadata": {},
   "source": [
    "#### Fixing image ids for a few image labels (only applies to DAP study)"
   ]
  },
  {
   "cell_type": "code",
   "execution_count": 5,
   "metadata": {},
   "outputs": [],
   "source": [
    "data$Left <- str_replace(data$Left, \"DAM3D026_DAPedit\", \"DAM3D026_P_DAPedit\")\n",
    "data$Right <- str_replace(data$Right, \"DAM3D026_DAPedit\", \"DAM3D026_P_DAPedit\")\n",
    "data$Answer <- str_replace(data$Answer, \"DAM3D026_DAPedit\", \"DAM3D026_P_DAPedit\")\n",
    "\n",
    "data$Left <- str_replace(data$Left, \"DAM3D058_P%20_DAPedit\", \"DAM3D058_P_DAPedit\")\n",
    "data$Right <- str_replace(data$Right, \"DAM3D058_P%20_DAPedit\", \"DAM3D058_P_DAPedit\")\n",
    "data$Answer <- str_replace(data$Answer, \"DAM3D058_P%20_DAPedit\", \"DAM3D058_P_DAPedit\")\n",
    "\n",
    "data$Left <- str_replace(data$Left, \"DAM065_F_DAPedt\", \"DAM065_F_DAPedit\")\n",
    "data$Right <- str_replace(data$Right, \"DAM065_F_DAPedt\", \"DAM065_F_DAPedit\")\n",
    "data$Answer <- str_replace(data$Answer, \"DAM065_F_DAPedt\", \"DAM065_F_DAPedit\")\n",
    "\n",
    "data$Left <- str_replace(data$Left, \"DAM3D069_P%20_DAPedit\", \"DAM3D069_P_DAPedit\")\n",
    "data$Right <- str_replace(data$Right, \"DAM3D069_P%20_DAPedit\", \"DAM3D069_P_DAPedit\")\n",
    "data$Answer <- str_replace(data$Answer, \"DAM3D069_P%20_DAPedit\", \"DAM3D069_P_DAPedit\")\n",
    "\n",
    "data$Left <- str_replace(data$Left, \"DAMa015_DAPedit\", \"DAMa015_T_DAPedit\")\n",
    "data$Right <- str_replace(data$Right, \"DAMa015_DAPedit\", \"DAMa015_T_DAPedit\")\n",
    "data$Answer <- str_replace(data$Answer, \"DAMa015_DAPedit\", \"DAMa015_T_DAPedit\")\n"
   ]
  },
  {
   "cell_type": "code",
   "execution_count": 6,
   "metadata": {},
   "outputs": [
    {
     "name": "stdout",
     "output_type": "stream",
     "text": [
      "'data.frame':\t10107 obs. of  11 variables:\n",
      " $ X                 : int  1 2 3 4 5 6 7 8 9 10 ...\n",
      " $ Participant.ID    : Factor w/ 58 levels \"3f79018a4fdda45cb0e91058e9df3a_5TPUjUICaHMugj5AU28qJdo2dc1UFK\",..: 11 11 11 11 11 11 11 11 11 11 ...\n",
      " $ Timestamp         : Factor w/ 1 level \"26:14.1\": 1 1 1 1 1 1 1 1 1 1 ...\n",
      " $ Left              : chr  \"DAM3D060_P_DAPedit\" \"DAM3D031_T_DAPedit\" \"DAM3D059_T_DAPedit\" \"DAMa017_F_DAPedit\" ...\n",
      " $ Right             : chr  \"DAM016_P_DAPedit\" \"DAM005_T_DAPedit\" \"DAM010_P_DAPedit\" \"DAM065_T_DAPedit\" ...\n",
      " $ Answer            : chr  \"DAM3D060_P_DAPedit\" \"DAM3D031_T_DAPedit\" \"DAM3D059_T_DAPedit\" \"DAMa017_F_DAPedit\" ...\n",
      " $ Alg.Label         : Factor w/ 2 levels \"Test\",\"Train\": 2 2 2 2 2 2 2 2 2 2 ...\n",
      " $ Response.Time..s. : num  5.369 1.442 1.112 1.132 0.942 ...\n",
      " $ Participant.ID.sub: Factor w/ 58 levels \"0Jc2z1HIcxsVppzXqgpxn77UpcbKFR\",..: 56 56 56 56 56 56 56 56 56 56 ...\n",
      " $ Condition         : Factor w/ 1 level \"DAP_DuelingBandits\": 1 1 1 1 1 1 1 1 1 1 ...\n",
      " $ Session           : Factor w/ 2 levels \"3f79018a4fdda45cb0e91058e9df3a\",..: 1 1 1 1 1 1 1 1 1 1 ...\n"
     ]
    }
   ],
   "source": [
    "str(data)"
   ]
  },
  {
   "cell_type": "code",
   "execution_count": 7,
   "metadata": {},
   "outputs": [
    {
     "data": {
      "text/html": [
       "10107"
      ],
      "text/latex": [
       "10107"
      ],
      "text/markdown": [
       "10107"
      ],
      "text/plain": [
       "[1] 10107"
      ]
     },
     "metadata": {},
     "output_type": "display_data"
    }
   ],
   "source": [
    "nrow(data)"
   ]
  },
  {
   "cell_type": "code",
   "execution_count": 9,
   "metadata": {},
   "outputs": [],
   "source": [
    "LR_Image <- c(as.character(data$Left), as.character(data$Right))\n",
    "LR_Image <- as.data.frame(LR_Image)"
   ]
  },
  {
   "cell_type": "code",
   "execution_count": 10,
   "metadata": {},
   "outputs": [
    {
     "data": {
      "text/html": [
       "20214"
      ],
      "text/latex": [
       "20214"
      ],
      "text/markdown": [
       "20214"
      ],
      "text/plain": [
       "[1] 20214"
      ]
     },
     "metadata": {},
     "output_type": "display_data"
    }
   ],
   "source": [
    "nrow(LR_Image)"
   ]
  },
  {
   "cell_type": "markdown",
   "metadata": {},
   "source": [
    "#### Identifying the number of times that a given image was presented as an option"
   ]
  },
  {
   "cell_type": "code",
   "execution_count": 11,
   "metadata": {},
   "outputs": [],
   "source": [
    "BothLandR <- LR_Image%>% group_by(LR_Image)%>% tally()"
   ]
  },
  {
   "cell_type": "code",
   "execution_count": 12,
   "metadata": {
    "scrolled": true
   },
   "outputs": [],
   "source": [
    "BothLandR$TotalCount<- BothLandR$n\n",
    "BothLandR <- BothLandR %>% \n",
    "  select(-n)"
   ]
  },
  {
   "cell_type": "code",
   "execution_count": 13,
   "metadata": {},
   "outputs": [
    {
     "data": {
      "text/html": [
       "305"
      ],
      "text/latex": [
       "305"
      ],
      "text/markdown": [
       "305"
      ],
      "text/plain": [
       "[1] 305"
      ]
     },
     "metadata": {},
     "output_type": "display_data"
    }
   ],
   "source": [
    "nrow(BothLandR)"
   ]
  },
  {
   "cell_type": "markdown",
   "metadata": {},
   "source": [
    "#### Identifying the number of times that a given image was selected"
   ]
  },
  {
   "cell_type": "code",
   "execution_count": 14,
   "metadata": {},
   "outputs": [],
   "source": [
    "Answer <- data%>% group_by(Answer)%>% tally()"
   ]
  },
  {
   "cell_type": "code",
   "execution_count": 15,
   "metadata": {
    "scrolled": true
   },
   "outputs": [],
   "source": [
    "Answer$AnswerCount<- Answer$n\n",
    "Answer <- Answer %>% \n",
    "  select(-n)"
   ]
  },
  {
   "cell_type": "code",
   "execution_count": 16,
   "metadata": {},
   "outputs": [
    {
     "data": {
      "text/html": [
       "305"
      ],
      "text/latex": [
       "305"
      ],
      "text/markdown": [
       "305"
      ],
      "text/plain": [
       "[1] 305"
      ]
     },
     "metadata": {},
     "output_type": "display_data"
    }
   ],
   "source": [
    "nrow(Answer)"
   ]
  },
  {
   "cell_type": "markdown",
   "metadata": {},
   "source": [
    "#### combining the two dataframes and finding the difference between presentations and selections"
   ]
  },
  {
   "cell_type": "code",
   "execution_count": 17,
   "metadata": {},
   "outputs": [],
   "source": [
    "rankSet <- cbind(BothLandR, Answer)"
   ]
  },
  {
   "cell_type": "code",
   "execution_count": 18,
   "metadata": {},
   "outputs": [],
   "source": [
    "rankSet$diff <-  rankSet$TotalCount - rankSet$AnswerCount"
   ]
  },
  {
   "cell_type": "code",
   "execution_count": 20,
   "metadata": {},
   "outputs": [],
   "source": [
    "rankSet$RankRatio <- rankSet$AnswerCount/rankSet$TotalCount"
   ]
  },
  {
   "cell_type": "code",
   "execution_count": 21,
   "metadata": {
    "scrolled": true
   },
   "outputs": [],
   "source": [
    "# Ordering output based on RankRatio\n",
    "rankSet<- rankSet[order(-rankSet$RankRatio),]\n",
    "\n",
    "# Adding a rankOder value based on RankRatio\n",
    "rankSet <- rankSet %>% mutate(rankOrder = 1:n())"
   ]
  },
  {
   "cell_type": "code",
   "execution_count": 22,
   "metadata": {
    "scrolled": true
   },
   "outputs": [
    {
     "data": {
      "text/html": [
       "<table>\n",
       "<caption>A data.frame: 305 × 7</caption>\n",
       "<thead>\n",
       "\t<tr><th scope=col>LR_Image</th><th scope=col>TotalCount</th><th scope=col>Answer</th><th scope=col>AnswerCount</th><th scope=col>diff</th><th scope=col>RankRatio</th><th scope=col>rankOrder</th></tr>\n",
       "\t<tr><th scope=col>&lt;fct&gt;</th><th scope=col>&lt;int&gt;</th><th scope=col>&lt;chr&gt;</th><th scope=col>&lt;int&gt;</th><th scope=col>&lt;int&gt;</th><th scope=col>&lt;dbl&gt;</th><th scope=col>&lt;int&gt;</th></tr>\n",
       "</thead>\n",
       "<tbody>\n",
       "\t<tr><td>DAMa007_T_DAPedit </td><td>63</td><td>DAMa007_T_DAPedit </td><td>60</td><td>3</td><td>0.9523810</td><td> 1</td></tr>\n",
       "\t<tr><td>DAMa025_F_DAPedit </td><td>61</td><td>DAMa025_F_DAPedit </td><td>58</td><td>3</td><td>0.9508197</td><td> 2</td></tr>\n",
       "\t<tr><td>DAMa003_F_DAPedit </td><td>55</td><td>DAMa003_F_DAPedit </td><td>52</td><td>3</td><td>0.9454545</td><td> 3</td></tr>\n",
       "\t<tr><td>DAMa024_T_DAPedit </td><td>52</td><td>DAMa024_T_DAPedit </td><td>49</td><td>3</td><td>0.9423077</td><td> 4</td></tr>\n",
       "\t<tr><td>DAMa022_T_DAPedit </td><td>83</td><td>DAMa022_T_DAPedit </td><td>78</td><td>5</td><td>0.9397590</td><td> 5</td></tr>\n",
       "\t<tr><td>DAMa005_F_DAPedit </td><td>65</td><td>DAMa005_F_DAPedit </td><td>61</td><td>4</td><td>0.9384615</td><td> 6</td></tr>\n",
       "\t<tr><td>DAMa017_F_DAPedit </td><td>64</td><td>DAMa017_F_DAPedit </td><td>60</td><td>4</td><td>0.9375000</td><td> 7</td></tr>\n",
       "\t<tr><td>DAM3D029_P_DAPedit</td><td>63</td><td>DAM3D029_P_DAPedit</td><td>59</td><td>4</td><td>0.9365079</td><td> 8</td></tr>\n",
       "\t<tr><td>DAM3D015_P_DAPedit</td><td>77</td><td>DAM3D015_P_DAPedit</td><td>72</td><td>5</td><td>0.9350649</td><td> 9</td></tr>\n",
       "\t<tr><td>DAM3D027_T_DAPedit</td><td>57</td><td>DAM3D027_T_DAPedit</td><td>53</td><td>4</td><td>0.9298246</td><td>10</td></tr>\n",
       "\t<tr><td>DAMa022_F_DAPedit </td><td>65</td><td>DAMa022_F_DAPedit </td><td>60</td><td>5</td><td>0.9230769</td><td>11</td></tr>\n",
       "\t<tr><td>DAM3D012_P_DAPedit</td><td>64</td><td>DAM3D012_P_DAPedit</td><td>59</td><td>5</td><td>0.9218750</td><td>12</td></tr>\n",
       "\t<tr><td>DAMa025_T_DAPedit </td><td>76</td><td>DAMa025_T_DAPedit </td><td>70</td><td>6</td><td>0.9210526</td><td>13</td></tr>\n",
       "\t<tr><td>DAMa019_T_DAPedit </td><td>60</td><td>DAMa019_T_DAPedit </td><td>55</td><td>5</td><td>0.9166667</td><td>14</td></tr>\n",
       "\t<tr><td>DAMa024_F_DAPedit </td><td>58</td><td>DAMa024_F_DAPedit </td><td>53</td><td>5</td><td>0.9137931</td><td>15</td></tr>\n",
       "\t<tr><td>DAMa013_F_DAPedit </td><td>73</td><td>DAMa013_F_DAPedit </td><td>66</td><td>7</td><td>0.9041096</td><td>16</td></tr>\n",
       "\t<tr><td>DAMa015_T_DAPedit </td><td>58</td><td>DAMa015_T_DAPedit </td><td>52</td><td>6</td><td>0.8965517</td><td>17</td></tr>\n",
       "\t<tr><td>DAMa003_T_DAPedit </td><td>55</td><td>DAMa003_T_DAPedit </td><td>49</td><td>6</td><td>0.8909091</td><td>18</td></tr>\n",
       "\t<tr><td>DAMa004_F_DAPedit </td><td>81</td><td>DAMa004_F_DAPedit </td><td>72</td><td>9</td><td>0.8888889</td><td>19</td></tr>\n",
       "\t<tr><td>DAMa009_F_DAPedit </td><td>70</td><td>DAMa009_F_DAPedit </td><td>62</td><td>8</td><td>0.8857143</td><td>20</td></tr>\n",
       "\t<tr><td>DAMa013_T_DAPedit </td><td>76</td><td>DAMa013_T_DAPedit </td><td>67</td><td>9</td><td>0.8815789</td><td>21</td></tr>\n",
       "\t<tr><td>DAMa007_F_DAPedit </td><td>67</td><td>DAMa007_F_DAPedit </td><td>59</td><td>8</td><td>0.8805970</td><td>22</td></tr>\n",
       "\t<tr><td>DAMa017_T_DAPedit </td><td>75</td><td>DAMa017_T_DAPedit </td><td>66</td><td>9</td><td>0.8800000</td><td>23</td></tr>\n",
       "\t<tr><td>DAM3D060_P_DAPedit</td><td>58</td><td>DAM3D060_P_DAPedit</td><td>51</td><td>7</td><td>0.8793103</td><td>24</td></tr>\n",
       "\t<tr><td>DAMa015_F_DAPedit </td><td>58</td><td>DAMa015_F_DAPedit </td><td>51</td><td>7</td><td>0.8793103</td><td>25</td></tr>\n",
       "\t<tr><td>DAM3D039_T_DAPedit</td><td>66</td><td>DAM3D039_T_DAPedit</td><td>58</td><td>8</td><td>0.8787879</td><td>26</td></tr>\n",
       "\t<tr><td>DAM3D030_F_DAPedit</td><td>72</td><td>DAM3D030_F_DAPedit</td><td>63</td><td>9</td><td>0.8750000</td><td>27</td></tr>\n",
       "\t<tr><td>DAMa006_F_DAPedit </td><td>70</td><td>DAMa006_F_DAPedit </td><td>61</td><td>9</td><td>0.8714286</td><td>28</td></tr>\n",
       "\t<tr><td>DAMa014_T_DAPedit </td><td>70</td><td>DAMa014_T_DAPedit </td><td>61</td><td>9</td><td>0.8714286</td><td>29</td></tr>\n",
       "\t<tr><td>DAMa021_F_DAPedit </td><td>69</td><td>DAMa021_F_DAPedit </td><td>60</td><td>9</td><td>0.8695652</td><td>30</td></tr>\n",
       "\t<tr><td>⋮</td><td>⋮</td><td>⋮</td><td>⋮</td><td>⋮</td><td>⋮</td><td>⋮</td></tr>\n",
       "\t<tr><td>DAM013_P_DAPedit  </td><td>59</td><td>DAM013_P_DAPedit  </td><td>5</td><td>54</td><td>0.08474576</td><td>276</td></tr>\n",
       "\t<tr><td>DAM041_T_DAPedit  </td><td>71</td><td>DAM041_T_DAPedit  </td><td>6</td><td>65</td><td>0.08450704</td><td>277</td></tr>\n",
       "\t<tr><td>DAM041_F_DAPedit  </td><td>72</td><td>DAM041_F_DAPedit  </td><td>6</td><td>66</td><td>0.08333333</td><td>278</td></tr>\n",
       "\t<tr><td>DAM3D022_F_DAPedit</td><td>60</td><td>DAM3D022_F_DAPedit</td><td>5</td><td>55</td><td>0.08333333</td><td>279</td></tr>\n",
       "\t<tr><td>DAM022_P_DAPedit  </td><td>62</td><td>DAM022_P_DAPedit  </td><td>5</td><td>57</td><td>0.08064516</td><td>280</td></tr>\n",
       "\t<tr><td>DAM072_F_DAPedit  </td><td>62</td><td>DAM072_F_DAPedit  </td><td>5</td><td>57</td><td>0.08064516</td><td>281</td></tr>\n",
       "\t<tr><td>DAM070_T_DAPedit  </td><td>67</td><td>DAM070_T_DAPedit  </td><td>5</td><td>62</td><td>0.07462687</td><td>282</td></tr>\n",
       "\t<tr><td>DAM065_T_DAPedit  </td><td>55</td><td>DAM065_T_DAPedit  </td><td>4</td><td>51</td><td>0.07272727</td><td>283</td></tr>\n",
       "\t<tr><td>DAM073_F_DAPedit  </td><td>73</td><td>DAM073_F_DAPedit  </td><td>5</td><td>68</td><td>0.06849315</td><td>284</td></tr>\n",
       "\t<tr><td>DAM041_P_DAPedit  </td><td>60</td><td>DAM041_P_DAPedit  </td><td>4</td><td>56</td><td>0.06666667</td><td>285</td></tr>\n",
       "\t<tr><td>DAM059_P_DAPedit  </td><td>49</td><td>DAM059_P_DAPedit  </td><td>3</td><td>46</td><td>0.06122449</td><td>286</td></tr>\n",
       "\t<tr><td>DAM057_P_DAPedit  </td><td>66</td><td>DAM057_P_DAPedit  </td><td>4</td><td>62</td><td>0.06060606</td><td>287</td></tr>\n",
       "\t<tr><td>DAM043_T_DAPedit  </td><td>52</td><td>DAM043_T_DAPedit  </td><td>3</td><td>49</td><td>0.05769231</td><td>288</td></tr>\n",
       "\t<tr><td>DAM082_F_DAPedit  </td><td>70</td><td>DAM082_F_DAPedit  </td><td>4</td><td>66</td><td>0.05714286</td><td>289</td></tr>\n",
       "\t<tr><td>DAM084_T_DAPedit  </td><td>70</td><td>DAM084_T_DAPedit  </td><td>4</td><td>66</td><td>0.05714286</td><td>290</td></tr>\n",
       "\t<tr><td>DAM082_P_DAPedit  </td><td>54</td><td>DAM082_P_DAPedit  </td><td>3</td><td>51</td><td>0.05555556</td><td>291</td></tr>\n",
       "\t<tr><td>DAM010_P_DAPedit  </td><td>59</td><td>DAM010_P_DAPedit  </td><td>3</td><td>56</td><td>0.05084746</td><td>292</td></tr>\n",
       "\t<tr><td>DAM057_F_DAPedit  </td><td>62</td><td>DAM057_F_DAPedit  </td><td>3</td><td>59</td><td>0.04838710</td><td>293</td></tr>\n",
       "\t<tr><td>DAM071_F_DAPedit  </td><td>65</td><td>DAM071_F_DAPedit  </td><td>3</td><td>62</td><td>0.04615385</td><td>294</td></tr>\n",
       "\t<tr><td>DAM070_F_DAPedit  </td><td>70</td><td>DAM070_F_DAPedit  </td><td>3</td><td>67</td><td>0.04285714</td><td>295</td></tr>\n",
       "\t<tr><td>DAM065_P_DAPedit  </td><td>75</td><td>DAM065_P_DAPedit  </td><td>3</td><td>72</td><td>0.04000000</td><td>296</td></tr>\n",
       "\t<tr><td>DAM074_F_DAPedit  </td><td>50</td><td>DAM074_F_DAPedit  </td><td>2</td><td>48</td><td>0.04000000</td><td>297</td></tr>\n",
       "\t<tr><td>DAM049_F_DAPedit  </td><td>80</td><td>DAM049_F_DAPedit  </td><td>3</td><td>77</td><td>0.03750000</td><td>298</td></tr>\n",
       "\t<tr><td>DAM084_F_DAPedit  </td><td>61</td><td>DAM084_F_DAPedit  </td><td>2</td><td>59</td><td>0.03278689</td><td>299</td></tr>\n",
       "\t<tr><td>DAM083_P_DAPedit  </td><td>62</td><td>DAM083_P_DAPedit  </td><td>2</td><td>60</td><td>0.03225806</td><td>300</td></tr>\n",
       "\t<tr><td>DAM010_F_DAPedit  </td><td>56</td><td>DAM010_F_DAPedit  </td><td>1</td><td>55</td><td>0.01785714</td><td>301</td></tr>\n",
       "\t<tr><td>DAM015_F_DAPedit  </td><td>62</td><td>DAM015_F_DAPedit  </td><td>1</td><td>61</td><td>0.01612903</td><td>302</td></tr>\n",
       "\t<tr><td>DAM044_P_DAPedit  </td><td>62</td><td>DAM044_P_DAPedit  </td><td>1</td><td>61</td><td>0.01612903</td><td>303</td></tr>\n",
       "\t<tr><td>DAM073_P_DAPedit  </td><td>62</td><td>DAM073_P_DAPedit  </td><td>1</td><td>61</td><td>0.01612903</td><td>304</td></tr>\n",
       "\t<tr><td>DAM015_T_DAPedit  </td><td>68</td><td>DAM015_T_DAPedit  </td><td>1</td><td>67</td><td>0.01470588</td><td>305</td></tr>\n",
       "</tbody>\n",
       "</table>\n"
      ],
      "text/latex": [
       "A data.frame: 305 × 7\n",
       "\\begin{tabular}{r|lllllll}\n",
       " LR\\_Image & TotalCount & Answer & AnswerCount & diff & RankRatio & rankOrder\\\\\n",
       " <fct> & <int> & <chr> & <int> & <int> & <dbl> & <int>\\\\\n",
       "\\hline\n",
       "\t DAMa007\\_T\\_DAPedit  & 63 & DAMa007\\_T\\_DAPedit  & 60 & 3 & 0.9523810 &  1\\\\\n",
       "\t DAMa025\\_F\\_DAPedit  & 61 & DAMa025\\_F\\_DAPedit  & 58 & 3 & 0.9508197 &  2\\\\\n",
       "\t DAMa003\\_F\\_DAPedit  & 55 & DAMa003\\_F\\_DAPedit  & 52 & 3 & 0.9454545 &  3\\\\\n",
       "\t DAMa024\\_T\\_DAPedit  & 52 & DAMa024\\_T\\_DAPedit  & 49 & 3 & 0.9423077 &  4\\\\\n",
       "\t DAMa022\\_T\\_DAPedit  & 83 & DAMa022\\_T\\_DAPedit  & 78 & 5 & 0.9397590 &  5\\\\\n",
       "\t DAMa005\\_F\\_DAPedit  & 65 & DAMa005\\_F\\_DAPedit  & 61 & 4 & 0.9384615 &  6\\\\\n",
       "\t DAMa017\\_F\\_DAPedit  & 64 & DAMa017\\_F\\_DAPedit  & 60 & 4 & 0.9375000 &  7\\\\\n",
       "\t DAM3D029\\_P\\_DAPedit & 63 & DAM3D029\\_P\\_DAPedit & 59 & 4 & 0.9365079 &  8\\\\\n",
       "\t DAM3D015\\_P\\_DAPedit & 77 & DAM3D015\\_P\\_DAPedit & 72 & 5 & 0.9350649 &  9\\\\\n",
       "\t DAM3D027\\_T\\_DAPedit & 57 & DAM3D027\\_T\\_DAPedit & 53 & 4 & 0.9298246 & 10\\\\\n",
       "\t DAMa022\\_F\\_DAPedit  & 65 & DAMa022\\_F\\_DAPedit  & 60 & 5 & 0.9230769 & 11\\\\\n",
       "\t DAM3D012\\_P\\_DAPedit & 64 & DAM3D012\\_P\\_DAPedit & 59 & 5 & 0.9218750 & 12\\\\\n",
       "\t DAMa025\\_T\\_DAPedit  & 76 & DAMa025\\_T\\_DAPedit  & 70 & 6 & 0.9210526 & 13\\\\\n",
       "\t DAMa019\\_T\\_DAPedit  & 60 & DAMa019\\_T\\_DAPedit  & 55 & 5 & 0.9166667 & 14\\\\\n",
       "\t DAMa024\\_F\\_DAPedit  & 58 & DAMa024\\_F\\_DAPedit  & 53 & 5 & 0.9137931 & 15\\\\\n",
       "\t DAMa013\\_F\\_DAPedit  & 73 & DAMa013\\_F\\_DAPedit  & 66 & 7 & 0.9041096 & 16\\\\\n",
       "\t DAMa015\\_T\\_DAPedit  & 58 & DAMa015\\_T\\_DAPedit  & 52 & 6 & 0.8965517 & 17\\\\\n",
       "\t DAMa003\\_T\\_DAPedit  & 55 & DAMa003\\_T\\_DAPedit  & 49 & 6 & 0.8909091 & 18\\\\\n",
       "\t DAMa004\\_F\\_DAPedit  & 81 & DAMa004\\_F\\_DAPedit  & 72 & 9 & 0.8888889 & 19\\\\\n",
       "\t DAMa009\\_F\\_DAPedit  & 70 & DAMa009\\_F\\_DAPedit  & 62 & 8 & 0.8857143 & 20\\\\\n",
       "\t DAMa013\\_T\\_DAPedit  & 76 & DAMa013\\_T\\_DAPedit  & 67 & 9 & 0.8815789 & 21\\\\\n",
       "\t DAMa007\\_F\\_DAPedit  & 67 & DAMa007\\_F\\_DAPedit  & 59 & 8 & 0.8805970 & 22\\\\\n",
       "\t DAMa017\\_T\\_DAPedit  & 75 & DAMa017\\_T\\_DAPedit  & 66 & 9 & 0.8800000 & 23\\\\\n",
       "\t DAM3D060\\_P\\_DAPedit & 58 & DAM3D060\\_P\\_DAPedit & 51 & 7 & 0.8793103 & 24\\\\\n",
       "\t DAMa015\\_F\\_DAPedit  & 58 & DAMa015\\_F\\_DAPedit  & 51 & 7 & 0.8793103 & 25\\\\\n",
       "\t DAM3D039\\_T\\_DAPedit & 66 & DAM3D039\\_T\\_DAPedit & 58 & 8 & 0.8787879 & 26\\\\\n",
       "\t DAM3D030\\_F\\_DAPedit & 72 & DAM3D030\\_F\\_DAPedit & 63 & 9 & 0.8750000 & 27\\\\\n",
       "\t DAMa006\\_F\\_DAPedit  & 70 & DAMa006\\_F\\_DAPedit  & 61 & 9 & 0.8714286 & 28\\\\\n",
       "\t DAMa014\\_T\\_DAPedit  & 70 & DAMa014\\_T\\_DAPedit  & 61 & 9 & 0.8714286 & 29\\\\\n",
       "\t DAMa021\\_F\\_DAPedit  & 69 & DAMa021\\_F\\_DAPedit  & 60 & 9 & 0.8695652 & 30\\\\\n",
       "\t ⋮ & ⋮ & ⋮ & ⋮ & ⋮ & ⋮ & ⋮\\\\\n",
       "\t DAM013\\_P\\_DAPedit   & 59 & DAM013\\_P\\_DAPedit   & 5 & 54 & 0.08474576 & 276\\\\\n",
       "\t DAM041\\_T\\_DAPedit   & 71 & DAM041\\_T\\_DAPedit   & 6 & 65 & 0.08450704 & 277\\\\\n",
       "\t DAM041\\_F\\_DAPedit   & 72 & DAM041\\_F\\_DAPedit   & 6 & 66 & 0.08333333 & 278\\\\\n",
       "\t DAM3D022\\_F\\_DAPedit & 60 & DAM3D022\\_F\\_DAPedit & 5 & 55 & 0.08333333 & 279\\\\\n",
       "\t DAM022\\_P\\_DAPedit   & 62 & DAM022\\_P\\_DAPedit   & 5 & 57 & 0.08064516 & 280\\\\\n",
       "\t DAM072\\_F\\_DAPedit   & 62 & DAM072\\_F\\_DAPedit   & 5 & 57 & 0.08064516 & 281\\\\\n",
       "\t DAM070\\_T\\_DAPedit   & 67 & DAM070\\_T\\_DAPedit   & 5 & 62 & 0.07462687 & 282\\\\\n",
       "\t DAM065\\_T\\_DAPedit   & 55 & DAM065\\_T\\_DAPedit   & 4 & 51 & 0.07272727 & 283\\\\\n",
       "\t DAM073\\_F\\_DAPedit   & 73 & DAM073\\_F\\_DAPedit   & 5 & 68 & 0.06849315 & 284\\\\\n",
       "\t DAM041\\_P\\_DAPedit   & 60 & DAM041\\_P\\_DAPedit   & 4 & 56 & 0.06666667 & 285\\\\\n",
       "\t DAM059\\_P\\_DAPedit   & 49 & DAM059\\_P\\_DAPedit   & 3 & 46 & 0.06122449 & 286\\\\\n",
       "\t DAM057\\_P\\_DAPedit   & 66 & DAM057\\_P\\_DAPedit   & 4 & 62 & 0.06060606 & 287\\\\\n",
       "\t DAM043\\_T\\_DAPedit   & 52 & DAM043\\_T\\_DAPedit   & 3 & 49 & 0.05769231 & 288\\\\\n",
       "\t DAM082\\_F\\_DAPedit   & 70 & DAM082\\_F\\_DAPedit   & 4 & 66 & 0.05714286 & 289\\\\\n",
       "\t DAM084\\_T\\_DAPedit   & 70 & DAM084\\_T\\_DAPedit   & 4 & 66 & 0.05714286 & 290\\\\\n",
       "\t DAM082\\_P\\_DAPedit   & 54 & DAM082\\_P\\_DAPedit   & 3 & 51 & 0.05555556 & 291\\\\\n",
       "\t DAM010\\_P\\_DAPedit   & 59 & DAM010\\_P\\_DAPedit   & 3 & 56 & 0.05084746 & 292\\\\\n",
       "\t DAM057\\_F\\_DAPedit   & 62 & DAM057\\_F\\_DAPedit   & 3 & 59 & 0.04838710 & 293\\\\\n",
       "\t DAM071\\_F\\_DAPedit   & 65 & DAM071\\_F\\_DAPedit   & 3 & 62 & 0.04615385 & 294\\\\\n",
       "\t DAM070\\_F\\_DAPedit   & 70 & DAM070\\_F\\_DAPedit   & 3 & 67 & 0.04285714 & 295\\\\\n",
       "\t DAM065\\_P\\_DAPedit   & 75 & DAM065\\_P\\_DAPedit   & 3 & 72 & 0.04000000 & 296\\\\\n",
       "\t DAM074\\_F\\_DAPedit   & 50 & DAM074\\_F\\_DAPedit   & 2 & 48 & 0.04000000 & 297\\\\\n",
       "\t DAM049\\_F\\_DAPedit   & 80 & DAM049\\_F\\_DAPedit   & 3 & 77 & 0.03750000 & 298\\\\\n",
       "\t DAM084\\_F\\_DAPedit   & 61 & DAM084\\_F\\_DAPedit   & 2 & 59 & 0.03278689 & 299\\\\\n",
       "\t DAM083\\_P\\_DAPedit   & 62 & DAM083\\_P\\_DAPedit   & 2 & 60 & 0.03225806 & 300\\\\\n",
       "\t DAM010\\_F\\_DAPedit   & 56 & DAM010\\_F\\_DAPedit   & 1 & 55 & 0.01785714 & 301\\\\\n",
       "\t DAM015\\_F\\_DAPedit   & 62 & DAM015\\_F\\_DAPedit   & 1 & 61 & 0.01612903 & 302\\\\\n",
       "\t DAM044\\_P\\_DAPedit   & 62 & DAM044\\_P\\_DAPedit   & 1 & 61 & 0.01612903 & 303\\\\\n",
       "\t DAM073\\_P\\_DAPedit   & 62 & DAM073\\_P\\_DAPedit   & 1 & 61 & 0.01612903 & 304\\\\\n",
       "\t DAM015\\_T\\_DAPedit   & 68 & DAM015\\_T\\_DAPedit   & 1 & 67 & 0.01470588 & 305\\\\\n",
       "\\end{tabular}\n"
      ],
      "text/markdown": [
       "\n",
       "A data.frame: 305 × 7\n",
       "\n",
       "| LR_Image &lt;fct&gt; | TotalCount &lt;int&gt; | Answer &lt;chr&gt; | AnswerCount &lt;int&gt; | diff &lt;int&gt; | RankRatio &lt;dbl&gt; | rankOrder &lt;int&gt; |\n",
       "|---|---|---|---|---|---|---|\n",
       "| DAMa007_T_DAPedit  | 63 | DAMa007_T_DAPedit  | 60 | 3 | 0.9523810 |  1 |\n",
       "| DAMa025_F_DAPedit  | 61 | DAMa025_F_DAPedit  | 58 | 3 | 0.9508197 |  2 |\n",
       "| DAMa003_F_DAPedit  | 55 | DAMa003_F_DAPedit  | 52 | 3 | 0.9454545 |  3 |\n",
       "| DAMa024_T_DAPedit  | 52 | DAMa024_T_DAPedit  | 49 | 3 | 0.9423077 |  4 |\n",
       "| DAMa022_T_DAPedit  | 83 | DAMa022_T_DAPedit  | 78 | 5 | 0.9397590 |  5 |\n",
       "| DAMa005_F_DAPedit  | 65 | DAMa005_F_DAPedit  | 61 | 4 | 0.9384615 |  6 |\n",
       "| DAMa017_F_DAPedit  | 64 | DAMa017_F_DAPedit  | 60 | 4 | 0.9375000 |  7 |\n",
       "| DAM3D029_P_DAPedit | 63 | DAM3D029_P_DAPedit | 59 | 4 | 0.9365079 |  8 |\n",
       "| DAM3D015_P_DAPedit | 77 | DAM3D015_P_DAPedit | 72 | 5 | 0.9350649 |  9 |\n",
       "| DAM3D027_T_DAPedit | 57 | DAM3D027_T_DAPedit | 53 | 4 | 0.9298246 | 10 |\n",
       "| DAMa022_F_DAPedit  | 65 | DAMa022_F_DAPedit  | 60 | 5 | 0.9230769 | 11 |\n",
       "| DAM3D012_P_DAPedit | 64 | DAM3D012_P_DAPedit | 59 | 5 | 0.9218750 | 12 |\n",
       "| DAMa025_T_DAPedit  | 76 | DAMa025_T_DAPedit  | 70 | 6 | 0.9210526 | 13 |\n",
       "| DAMa019_T_DAPedit  | 60 | DAMa019_T_DAPedit  | 55 | 5 | 0.9166667 | 14 |\n",
       "| DAMa024_F_DAPedit  | 58 | DAMa024_F_DAPedit  | 53 | 5 | 0.9137931 | 15 |\n",
       "| DAMa013_F_DAPedit  | 73 | DAMa013_F_DAPedit  | 66 | 7 | 0.9041096 | 16 |\n",
       "| DAMa015_T_DAPedit  | 58 | DAMa015_T_DAPedit  | 52 | 6 | 0.8965517 | 17 |\n",
       "| DAMa003_T_DAPedit  | 55 | DAMa003_T_DAPedit  | 49 | 6 | 0.8909091 | 18 |\n",
       "| DAMa004_F_DAPedit  | 81 | DAMa004_F_DAPedit  | 72 | 9 | 0.8888889 | 19 |\n",
       "| DAMa009_F_DAPedit  | 70 | DAMa009_F_DAPedit  | 62 | 8 | 0.8857143 | 20 |\n",
       "| DAMa013_T_DAPedit  | 76 | DAMa013_T_DAPedit  | 67 | 9 | 0.8815789 | 21 |\n",
       "| DAMa007_F_DAPedit  | 67 | DAMa007_F_DAPedit  | 59 | 8 | 0.8805970 | 22 |\n",
       "| DAMa017_T_DAPedit  | 75 | DAMa017_T_DAPedit  | 66 | 9 | 0.8800000 | 23 |\n",
       "| DAM3D060_P_DAPedit | 58 | DAM3D060_P_DAPedit | 51 | 7 | 0.8793103 | 24 |\n",
       "| DAMa015_F_DAPedit  | 58 | DAMa015_F_DAPedit  | 51 | 7 | 0.8793103 | 25 |\n",
       "| DAM3D039_T_DAPedit | 66 | DAM3D039_T_DAPedit | 58 | 8 | 0.8787879 | 26 |\n",
       "| DAM3D030_F_DAPedit | 72 | DAM3D030_F_DAPedit | 63 | 9 | 0.8750000 | 27 |\n",
       "| DAMa006_F_DAPedit  | 70 | DAMa006_F_DAPedit  | 61 | 9 | 0.8714286 | 28 |\n",
       "| DAMa014_T_DAPedit  | 70 | DAMa014_T_DAPedit  | 61 | 9 | 0.8714286 | 29 |\n",
       "| DAMa021_F_DAPedit  | 69 | DAMa021_F_DAPedit  | 60 | 9 | 0.8695652 | 30 |\n",
       "| ⋮ | ⋮ | ⋮ | ⋮ | ⋮ | ⋮ | ⋮ |\n",
       "| DAM013_P_DAPedit   | 59 | DAM013_P_DAPedit   | 5 | 54 | 0.08474576 | 276 |\n",
       "| DAM041_T_DAPedit   | 71 | DAM041_T_DAPedit   | 6 | 65 | 0.08450704 | 277 |\n",
       "| DAM041_F_DAPedit   | 72 | DAM041_F_DAPedit   | 6 | 66 | 0.08333333 | 278 |\n",
       "| DAM3D022_F_DAPedit | 60 | DAM3D022_F_DAPedit | 5 | 55 | 0.08333333 | 279 |\n",
       "| DAM022_P_DAPedit   | 62 | DAM022_P_DAPedit   | 5 | 57 | 0.08064516 | 280 |\n",
       "| DAM072_F_DAPedit   | 62 | DAM072_F_DAPedit   | 5 | 57 | 0.08064516 | 281 |\n",
       "| DAM070_T_DAPedit   | 67 | DAM070_T_DAPedit   | 5 | 62 | 0.07462687 | 282 |\n",
       "| DAM065_T_DAPedit   | 55 | DAM065_T_DAPedit   | 4 | 51 | 0.07272727 | 283 |\n",
       "| DAM073_F_DAPedit   | 73 | DAM073_F_DAPedit   | 5 | 68 | 0.06849315 | 284 |\n",
       "| DAM041_P_DAPedit   | 60 | DAM041_P_DAPedit   | 4 | 56 | 0.06666667 | 285 |\n",
       "| DAM059_P_DAPedit   | 49 | DAM059_P_DAPedit   | 3 | 46 | 0.06122449 | 286 |\n",
       "| DAM057_P_DAPedit   | 66 | DAM057_P_DAPedit   | 4 | 62 | 0.06060606 | 287 |\n",
       "| DAM043_T_DAPedit   | 52 | DAM043_T_DAPedit   | 3 | 49 | 0.05769231 | 288 |\n",
       "| DAM082_F_DAPedit   | 70 | DAM082_F_DAPedit   | 4 | 66 | 0.05714286 | 289 |\n",
       "| DAM084_T_DAPedit   | 70 | DAM084_T_DAPedit   | 4 | 66 | 0.05714286 | 290 |\n",
       "| DAM082_P_DAPedit   | 54 | DAM082_P_DAPedit   | 3 | 51 | 0.05555556 | 291 |\n",
       "| DAM010_P_DAPedit   | 59 | DAM010_P_DAPedit   | 3 | 56 | 0.05084746 | 292 |\n",
       "| DAM057_F_DAPedit   | 62 | DAM057_F_DAPedit   | 3 | 59 | 0.04838710 | 293 |\n",
       "| DAM071_F_DAPedit   | 65 | DAM071_F_DAPedit   | 3 | 62 | 0.04615385 | 294 |\n",
       "| DAM070_F_DAPedit   | 70 | DAM070_F_DAPedit   | 3 | 67 | 0.04285714 | 295 |\n",
       "| DAM065_P_DAPedit   | 75 | DAM065_P_DAPedit   | 3 | 72 | 0.04000000 | 296 |\n",
       "| DAM074_F_DAPedit   | 50 | DAM074_F_DAPedit   | 2 | 48 | 0.04000000 | 297 |\n",
       "| DAM049_F_DAPedit   | 80 | DAM049_F_DAPedit   | 3 | 77 | 0.03750000 | 298 |\n",
       "| DAM084_F_DAPedit   | 61 | DAM084_F_DAPedit   | 2 | 59 | 0.03278689 | 299 |\n",
       "| DAM083_P_DAPedit   | 62 | DAM083_P_DAPedit   | 2 | 60 | 0.03225806 | 300 |\n",
       "| DAM010_F_DAPedit   | 56 | DAM010_F_DAPedit   | 1 | 55 | 0.01785714 | 301 |\n",
       "| DAM015_F_DAPedit   | 62 | DAM015_F_DAPedit   | 1 | 61 | 0.01612903 | 302 |\n",
       "| DAM044_P_DAPedit   | 62 | DAM044_P_DAPedit   | 1 | 61 | 0.01612903 | 303 |\n",
       "| DAM073_P_DAPedit   | 62 | DAM073_P_DAPedit   | 1 | 61 | 0.01612903 | 304 |\n",
       "| DAM015_T_DAPedit   | 68 | DAM015_T_DAPedit   | 1 | 67 | 0.01470588 | 305 |\n",
       "\n"
      ],
      "text/plain": [
       "    LR_Image           TotalCount Answer             AnswerCount diff\n",
       "1   DAMa007_T_DAPedit  63         DAMa007_T_DAPedit  60          3   \n",
       "2   DAMa025_F_DAPedit  61         DAMa025_F_DAPedit  58          3   \n",
       "3   DAMa003_F_DAPedit  55         DAMa003_F_DAPedit  52          3   \n",
       "4   DAMa024_T_DAPedit  52         DAMa024_T_DAPedit  49          3   \n",
       "5   DAMa022_T_DAPedit  83         DAMa022_T_DAPedit  78          5   \n",
       "6   DAMa005_F_DAPedit  65         DAMa005_F_DAPedit  61          4   \n",
       "7   DAMa017_F_DAPedit  64         DAMa017_F_DAPedit  60          4   \n",
       "8   DAM3D029_P_DAPedit 63         DAM3D029_P_DAPedit 59          4   \n",
       "9   DAM3D015_P_DAPedit 77         DAM3D015_P_DAPedit 72          5   \n",
       "10  DAM3D027_T_DAPedit 57         DAM3D027_T_DAPedit 53          4   \n",
       "11  DAMa022_F_DAPedit  65         DAMa022_F_DAPedit  60          5   \n",
       "12  DAM3D012_P_DAPedit 64         DAM3D012_P_DAPedit 59          5   \n",
       "13  DAMa025_T_DAPedit  76         DAMa025_T_DAPedit  70          6   \n",
       "14  DAMa019_T_DAPedit  60         DAMa019_T_DAPedit  55          5   \n",
       "15  DAMa024_F_DAPedit  58         DAMa024_F_DAPedit  53          5   \n",
       "16  DAMa013_F_DAPedit  73         DAMa013_F_DAPedit  66          7   \n",
       "17  DAMa015_T_DAPedit  58         DAMa015_T_DAPedit  52          6   \n",
       "18  DAMa003_T_DAPedit  55         DAMa003_T_DAPedit  49          6   \n",
       "19  DAMa004_F_DAPedit  81         DAMa004_F_DAPedit  72          9   \n",
       "20  DAMa009_F_DAPedit  70         DAMa009_F_DAPedit  62          8   \n",
       "21  DAMa013_T_DAPedit  76         DAMa013_T_DAPedit  67          9   \n",
       "22  DAMa007_F_DAPedit  67         DAMa007_F_DAPedit  59          8   \n",
       "23  DAMa017_T_DAPedit  75         DAMa017_T_DAPedit  66          9   \n",
       "24  DAM3D060_P_DAPedit 58         DAM3D060_P_DAPedit 51          7   \n",
       "25  DAMa015_F_DAPedit  58         DAMa015_F_DAPedit  51          7   \n",
       "26  DAM3D039_T_DAPedit 66         DAM3D039_T_DAPedit 58          8   \n",
       "27  DAM3D030_F_DAPedit 72         DAM3D030_F_DAPedit 63          9   \n",
       "28  DAMa006_F_DAPedit  70         DAMa006_F_DAPedit  61          9   \n",
       "29  DAMa014_T_DAPedit  70         DAMa014_T_DAPedit  61          9   \n",
       "30  DAMa021_F_DAPedit  69         DAMa021_F_DAPedit  60          9   \n",
       "⋮   ⋮                  ⋮          ⋮                  ⋮           ⋮   \n",
       "276 DAM013_P_DAPedit   59         DAM013_P_DAPedit   5           54  \n",
       "277 DAM041_T_DAPedit   71         DAM041_T_DAPedit   6           65  \n",
       "278 DAM041_F_DAPedit   72         DAM041_F_DAPedit   6           66  \n",
       "279 DAM3D022_F_DAPedit 60         DAM3D022_F_DAPedit 5           55  \n",
       "280 DAM022_P_DAPedit   62         DAM022_P_DAPedit   5           57  \n",
       "281 DAM072_F_DAPedit   62         DAM072_F_DAPedit   5           57  \n",
       "282 DAM070_T_DAPedit   67         DAM070_T_DAPedit   5           62  \n",
       "283 DAM065_T_DAPedit   55         DAM065_T_DAPedit   4           51  \n",
       "284 DAM073_F_DAPedit   73         DAM073_F_DAPedit   5           68  \n",
       "285 DAM041_P_DAPedit   60         DAM041_P_DAPedit   4           56  \n",
       "286 DAM059_P_DAPedit   49         DAM059_P_DAPedit   3           46  \n",
       "287 DAM057_P_DAPedit   66         DAM057_P_DAPedit   4           62  \n",
       "288 DAM043_T_DAPedit   52         DAM043_T_DAPedit   3           49  \n",
       "289 DAM082_F_DAPedit   70         DAM082_F_DAPedit   4           66  \n",
       "290 DAM084_T_DAPedit   70         DAM084_T_DAPedit   4           66  \n",
       "291 DAM082_P_DAPedit   54         DAM082_P_DAPedit   3           51  \n",
       "292 DAM010_P_DAPedit   59         DAM010_P_DAPedit   3           56  \n",
       "293 DAM057_F_DAPedit   62         DAM057_F_DAPedit   3           59  \n",
       "294 DAM071_F_DAPedit   65         DAM071_F_DAPedit   3           62  \n",
       "295 DAM070_F_DAPedit   70         DAM070_F_DAPedit   3           67  \n",
       "296 DAM065_P_DAPedit   75         DAM065_P_DAPedit   3           72  \n",
       "297 DAM074_F_DAPedit   50         DAM074_F_DAPedit   2           48  \n",
       "298 DAM049_F_DAPedit   80         DAM049_F_DAPedit   3           77  \n",
       "299 DAM084_F_DAPedit   61         DAM084_F_DAPedit   2           59  \n",
       "300 DAM083_P_DAPedit   62         DAM083_P_DAPedit   2           60  \n",
       "301 DAM010_F_DAPedit   56         DAM010_F_DAPedit   1           55  \n",
       "302 DAM015_F_DAPedit   62         DAM015_F_DAPedit   1           61  \n",
       "303 DAM044_P_DAPedit   62         DAM044_P_DAPedit   1           61  \n",
       "304 DAM073_P_DAPedit   62         DAM073_P_DAPedit   1           61  \n",
       "305 DAM015_T_DAPedit   68         DAM015_T_DAPedit   1           67  \n",
       "    RankRatio  rankOrder\n",
       "1   0.9523810   1       \n",
       "2   0.9508197   2       \n",
       "3   0.9454545   3       \n",
       "4   0.9423077   4       \n",
       "5   0.9397590   5       \n",
       "6   0.9384615   6       \n",
       "7   0.9375000   7       \n",
       "8   0.9365079   8       \n",
       "9   0.9350649   9       \n",
       "10  0.9298246  10       \n",
       "11  0.9230769  11       \n",
       "12  0.9218750  12       \n",
       "13  0.9210526  13       \n",
       "14  0.9166667  14       \n",
       "15  0.9137931  15       \n",
       "16  0.9041096  16       \n",
       "17  0.8965517  17       \n",
       "18  0.8909091  18       \n",
       "19  0.8888889  19       \n",
       "20  0.8857143  20       \n",
       "21  0.8815789  21       \n",
       "22  0.8805970  22       \n",
       "23  0.8800000  23       \n",
       "24  0.8793103  24       \n",
       "25  0.8793103  25       \n",
       "26  0.8787879  26       \n",
       "27  0.8750000  27       \n",
       "28  0.8714286  28       \n",
       "29  0.8714286  29       \n",
       "30  0.8695652  30       \n",
       "⋮   ⋮          ⋮        \n",
       "276 0.08474576 276      \n",
       "277 0.08450704 277      \n",
       "278 0.08333333 278      \n",
       "279 0.08333333 279      \n",
       "280 0.08064516 280      \n",
       "281 0.08064516 281      \n",
       "282 0.07462687 282      \n",
       "283 0.07272727 283      \n",
       "284 0.06849315 284      \n",
       "285 0.06666667 285      \n",
       "286 0.06122449 286      \n",
       "287 0.06060606 287      \n",
       "288 0.05769231 288      \n",
       "289 0.05714286 289      \n",
       "290 0.05714286 290      \n",
       "291 0.05555556 291      \n",
       "292 0.05084746 292      \n",
       "293 0.04838710 293      \n",
       "294 0.04615385 294      \n",
       "295 0.04285714 295      \n",
       "296 0.04000000 296      \n",
       "297 0.04000000 297      \n",
       "298 0.03750000 298      \n",
       "299 0.03278689 299      \n",
       "300 0.03225806 300      \n",
       "301 0.01785714 301      \n",
       "302 0.01612903 302      \n",
       "303 0.01612903 303      \n",
       "304 0.01612903 304      \n",
       "305 0.01470588 305      "
      ]
     },
     "metadata": {},
     "output_type": "display_data"
    }
   ],
   "source": [
    "rankSet"
   ]
  },
  {
   "cell_type": "code",
   "execution_count": 23,
   "metadata": {},
   "outputs": [],
   "source": [
    "NEXT_RankingEmbedding <- select(rankSet, LR_Image, TotalCount, AnswerCount, diff, RankRatio, rankOrder)"
   ]
  },
  {
   "cell_type": "markdown",
   "metadata": {},
   "source": [
    "#### Removing underscores from variable names so that elements can be used as independent variables"
   ]
  },
  {
   "cell_type": "code",
   "execution_count": 24,
   "metadata": {},
   "outputs": [],
   "source": [
    "# separating data based on underscore used in distinguishing common elements among variables\n",
    "#separate( ) function: #Objective - Splitting a single variable into two\n",
    "\n",
    "NEXT_RankingEmbedding <- separate(NEXT_RankingEmbedding, LR_Image, \n",
    "                            c(\"id\", \"mediaType\",\"imageLabel\"), sep = \"_\", remove = TRUE, convert = FALSE)"
   ]
  },
  {
   "cell_type": "code",
   "execution_count": 25,
   "metadata": {},
   "outputs": [],
   "source": [
    "NEXT_RankingEmbedding <- select(NEXT_RankingEmbedding, id, mediaType, TotalCount, \n",
    "                                         AnswerCount, diff, RankRatio, rankOrder)"
   ]
  },
  {
   "cell_type": "code",
   "execution_count": 26,
   "metadata": {},
   "outputs": [],
   "source": [
    "DAP_NEXT_RankingEmbedding <- NEXT_RankingEmbedding"
   ]
  },
  {
   "cell_type": "code",
   "execution_count": 27,
   "metadata": {},
   "outputs": [],
   "source": [
    "DAP_NEXT_RankingEmbedding <- rename(DAP_NEXT_RankingEmbedding, DAP_mediaType = mediaType)\n",
    "DAP_NEXT_RankingEmbedding <- rename(DAP_NEXT_RankingEmbedding, DAP_TotalCount = TotalCount)\n",
    "DAP_NEXT_RankingEmbedding <- rename(DAP_NEXT_RankingEmbedding, DAP_AnswerCount = AnswerCount)\n",
    "DAP_NEXT_RankingEmbedding <- rename(DAP_NEXT_RankingEmbedding, DAP_diff = diff)\n",
    "DAP_NEXT_RankingEmbedding <- rename(DAP_NEXT_RankingEmbedding, DAP_RankRatio = RankRatio)\n",
    "DAP_NEXT_RankingEmbedding <- rename(DAP_NEXT_RankingEmbedding, DAP_rankOrder = rankOrder)"
   ]
  },
  {
   "cell_type": "markdown",
   "metadata": {},
   "source": [
    "### Export data file"
   ]
  },
  {
   "cell_type": "code",
   "execution_count": 31,
   "metadata": {},
   "outputs": [],
   "source": [
    "#Mac - must connect to rogerslab.drive.wisc.edu first\n",
    "setwd(\"/Volumes/rogerslab/NEXT/NEXTdrawings/Data/NEXTdrawingsData/EmbeddingData\")\n",
    "\n",
    "#laptop\n",
    "#setwd(\"/Users/clintjensen/NEXT/NEXTdrawingsDownloads/Data/NEXTdrawingsData/EmbeddingData\")"
   ]
  },
  {
   "cell_type": "code",
   "execution_count": 32,
   "metadata": {},
   "outputs": [],
   "source": [
    "\n",
    "write.table(DAP_NEXT_RankingEmbedding, \"DAP_NEXT_RankingEmbedding.csv\", sep=\",\", col.names=T, row.names=F)"
   ]
  },
  {
   "cell_type": "markdown",
   "metadata": {},
   "source": [
    "# <font color='blue'>  CUBE </font>"
   ]
  },
  {
   "cell_type": "markdown",
   "metadata": {},
   "source": [
    "#### Setting R to file where data is stored"
   ]
  },
  {
   "cell_type": "code",
   "execution_count": 33,
   "metadata": {},
   "outputs": [],
   "source": [
    "#PC - must map network Z drive to rogerslab.drive.wisc.edu first\n",
    "#setwd(\"Z:/NEXT/NEXTdrawings/Data/NEXTdrawingsData/DAP_DuelingBandits\")\n",
    "\n",
    "#Mac - must connect to rogerslab.drive.wisc.edu first\n",
    "setwd(\"/Volumes/rogerslab/NEXT/NEXTdrawings/Data/NEXTdrawingsData/CUBE_DuelingBandits\")\n",
    "\n",
    "#laptop\n",
    "#setwd(\"/Users/clintjensen/NEXT/NEXTdrawingsDownloads/Data/NEXTdrawingsData/CUBE_DuelingBandits\")"
   ]
  },
  {
   "cell_type": "code",
   "execution_count": 34,
   "metadata": {},
   "outputs": [],
   "source": [
    "#Cube\n",
    "cube_data <- read.csv(\"stub.yamlStyle_CUBE_DuelingBandits_data.csv\", header=TRUE)"
   ]
  },
  {
   "cell_type": "markdown",
   "metadata": {},
   "source": [
    "#### Fixing image ids for a few image labels (only applies to DAP study)"
   ]
  },
  {
   "cell_type": "code",
   "execution_count": 35,
   "metadata": {},
   "outputs": [
    {
     "name": "stdout",
     "output_type": "stream",
     "text": [
      "'data.frame':\t10384 obs. of  11 variables:\n",
      " $ X                 : int  1 2 3 4 5 6 7 8 9 10 ...\n",
      " $ Participant.ID    : Factor w/ 102 levels \"c3cb439c448e7d39a7c8cbbc821891_06QzA1XnzGpiBF1uSsBpwDDjcwsThP\",..: 65 65 65 65 65 65 65 65 65 65 ...\n",
      " $ Timestamp         : Factor w/ 10384 levels \"2019-07-15 21:26:14.082564\",..: 1 2 3 5 7 9 11 13 15 16 ...\n",
      " $ Left              : Factor w/ 169 levels \"CUA_3D_Cube_edit\",..: 39 44 127 115 106 14 105 137 94 44 ...\n",
      " $ Right             : Factor w/ 169 levels \"CUA_3D_Cube_edit\",..: 55 161 5 26 44 42 42 140 164 157 ...\n",
      " $ Answer            : Factor w/ 169 levels \"CUA_3D_Cube_edit\",..: 39 44 127 115 106 14 105 137 164 157 ...\n",
      " $ Alg.Label         : Factor w/ 2 levels \"Test\",\"Train\": 2 2 2 2 2 2 2 2 2 2 ...\n",
      " $ Response.Time..s. : num  3.95 2.15 2.85 1.33 2.09 ...\n",
      " $ Participant.ID.sub: Factor w/ 102 levels \"06QzA1XnzGpiBF1uSsBpwDDjcwsThP\",..: 65 65 65 65 65 65 65 65 65 65 ...\n",
      " $ Condition         : Factor w/ 1 level \"CUBE_DuelingBandits\": 1 1 1 1 1 1 1 1 1 1 ...\n",
      " $ Session           : Factor w/ 1 level \"c3cb439c448e7d39a7c8cbbc821891\": 1 1 1 1 1 1 1 1 1 1 ...\n"
     ]
    }
   ],
   "source": [
    "str(cube_data)"
   ]
  },
  {
   "cell_type": "code",
   "execution_count": 36,
   "metadata": {},
   "outputs": [
    {
     "data": {
      "text/html": [
       "10384"
      ],
      "text/latex": [
       "10384"
      ],
      "text/markdown": [
       "10384"
      ],
      "text/plain": [
       "[1] 10384"
      ]
     },
     "metadata": {},
     "output_type": "display_data"
    }
   ],
   "source": [
    "nrow(cube_data)"
   ]
  },
  {
   "cell_type": "code",
   "execution_count": 37,
   "metadata": {},
   "outputs": [],
   "source": [
    "LR_Image <- c(as.character(cube_data$Left), as.character(cube_data$Right))\n",
    "LR_Image <- as.data.frame(LR_Image)"
   ]
  },
  {
   "cell_type": "code",
   "execution_count": 38,
   "metadata": {},
   "outputs": [
    {
     "data": {
      "text/html": [
       "20768"
      ],
      "text/latex": [
       "20768"
      ],
      "text/markdown": [
       "20768"
      ],
      "text/plain": [
       "[1] 20768"
      ]
     },
     "metadata": {},
     "output_type": "display_data"
    }
   ],
   "source": [
    "nrow(LR_Image)"
   ]
  },
  {
   "cell_type": "markdown",
   "metadata": {},
   "source": [
    "#### Identifying the number of times that a given image was presented as an option"
   ]
  },
  {
   "cell_type": "code",
   "execution_count": 39,
   "metadata": {},
   "outputs": [],
   "source": [
    "BothLandR <- LR_Image%>% group_by(LR_Image)%>% tally()"
   ]
  },
  {
   "cell_type": "code",
   "execution_count": 40,
   "metadata": {
    "scrolled": true
   },
   "outputs": [],
   "source": [
    "BothLandR$TotalCount<- BothLandR$n\n",
    "BothLandR <- BothLandR %>% \n",
    "  select(-n)"
   ]
  },
  {
   "cell_type": "code",
   "execution_count": 41,
   "metadata": {},
   "outputs": [
    {
     "data": {
      "text/html": [
       "169"
      ],
      "text/latex": [
       "169"
      ],
      "text/markdown": [
       "169"
      ],
      "text/plain": [
       "[1] 169"
      ]
     },
     "metadata": {},
     "output_type": "display_data"
    }
   ],
   "source": [
    "nrow(BothLandR)"
   ]
  },
  {
   "cell_type": "markdown",
   "metadata": {},
   "source": [
    "#### Identifying the number of times that a given image was selected"
   ]
  },
  {
   "cell_type": "code",
   "execution_count": 42,
   "metadata": {},
   "outputs": [],
   "source": [
    "Answer <- cube_data%>% group_by(Answer)%>% tally()"
   ]
  },
  {
   "cell_type": "code",
   "execution_count": 43,
   "metadata": {
    "scrolled": true
   },
   "outputs": [],
   "source": [
    "Answer$AnswerCount<- Answer$n\n",
    "Answer <- Answer %>% \n",
    "  select(-n)"
   ]
  },
  {
   "cell_type": "code",
   "execution_count": 44,
   "metadata": {},
   "outputs": [
    {
     "data": {
      "text/html": [
       "169"
      ],
      "text/latex": [
       "169"
      ],
      "text/markdown": [
       "169"
      ],
      "text/plain": [
       "[1] 169"
      ]
     },
     "metadata": {},
     "output_type": "display_data"
    }
   ],
   "source": [
    "nrow(Answer)"
   ]
  },
  {
   "cell_type": "markdown",
   "metadata": {},
   "source": [
    "#### combining the two dataframes and finding the difference between presentations and selections"
   ]
  },
  {
   "cell_type": "code",
   "execution_count": 45,
   "metadata": {},
   "outputs": [],
   "source": [
    "rankSet <- cbind(BothLandR, Answer)"
   ]
  },
  {
   "cell_type": "code",
   "execution_count": 46,
   "metadata": {},
   "outputs": [],
   "source": [
    "rankSet$diff <-  rankSet$TotalCount - rankSet$AnswerCount"
   ]
  },
  {
   "cell_type": "code",
   "execution_count": 48,
   "metadata": {},
   "outputs": [],
   "source": [
    "rankSet$RankRatio <- rankSet$AnswerCount/rankSet$TotalCount"
   ]
  },
  {
   "cell_type": "code",
   "execution_count": 49,
   "metadata": {
    "scrolled": true
   },
   "outputs": [],
   "source": [
    "# Ordering output based on RankRatio\n",
    "rankSet<- rankSet[order(-rankSet$RankRatio),]\n",
    "\n",
    "# Adding a rankOder value based on RankRatio\n",
    "rankSet <- rankSet %>% mutate(rankOrder = 1:n())"
   ]
  },
  {
   "cell_type": "code",
   "execution_count": 50,
   "metadata": {
    "scrolled": true
   },
   "outputs": [
    {
     "data": {
      "text/html": [
       "<table>\n",
       "<caption>A data.frame: 169 × 7</caption>\n",
       "<thead>\n",
       "\t<tr><th scope=col>LR_Image</th><th scope=col>TotalCount</th><th scope=col>Answer</th><th scope=col>AnswerCount</th><th scope=col>diff</th><th scope=col>RankRatio</th><th scope=col>rankOrder</th></tr>\n",
       "\t<tr><th scope=col>&lt;fct&gt;</th><th scope=col>&lt;int&gt;</th><th scope=col>&lt;fct&gt;</th><th scope=col>&lt;int&gt;</th><th scope=col>&lt;int&gt;</th><th scope=col>&lt;dbl&gt;</th><th scope=col>&lt;int&gt;</th></tr>\n",
       "</thead>\n",
       "<tbody>\n",
       "\t<tr><td>CUA_3D_Cube_edit  </td><td>136</td><td>CUA_3D_Cube_edit  </td><td>132</td><td> 4</td><td>0.9705882</td><td> 1</td></tr>\n",
       "\t<tr><td>CUD_2D_Cube_edit  </td><td>135</td><td>CUD_2D_Cube_edit  </td><td>127</td><td> 8</td><td>0.9407407</td><td> 2</td></tr>\n",
       "\t<tr><td>DAM3D005_T_CUAedit</td><td>129</td><td>DAM3D005_T_CUAedit</td><td>119</td><td>10</td><td>0.9224806</td><td> 3</td></tr>\n",
       "\t<tr><td>DAM3D011_T_CUAedit</td><td>111</td><td>DAM3D011_T_CUAedit</td><td> 99</td><td>12</td><td>0.8918919</td><td> 4</td></tr>\n",
       "\t<tr><td>DAM3D012_P_CUDedit</td><td>110</td><td>DAM3D012_P_CUDedit</td><td> 98</td><td>12</td><td>0.8909091</td><td> 5</td></tr>\n",
       "\t<tr><td>DAM3D060_F_CUAedit</td><td>109</td><td>DAM3D060_F_CUAedit</td><td> 97</td><td>12</td><td>0.8899083</td><td> 6</td></tr>\n",
       "\t<tr><td>DAM3D011_F_CUDedit</td><td>105</td><td>DAM3D011_F_CUDedit</td><td> 93</td><td>12</td><td>0.8857143</td><td> 7</td></tr>\n",
       "\t<tr><td>DAM3D013_F_CUAedit</td><td> 96</td><td>DAM3D013_F_CUAedit</td><td> 84</td><td>12</td><td>0.8750000</td><td> 8</td></tr>\n",
       "\t<tr><td>DAM3D030_F_CUDedit</td><td>134</td><td>DAM3D030_F_CUDedit</td><td>116</td><td>18</td><td>0.8656716</td><td> 9</td></tr>\n",
       "\t<tr><td>DAM3D005_P_CUDedit</td><td>126</td><td>DAM3D005_P_CUDedit</td><td>109</td><td>17</td><td>0.8650794</td><td>10</td></tr>\n",
       "\t<tr><td>DAM3D012_F_CUAedit</td><td>116</td><td>DAM3D012_F_CUAedit</td><td> 99</td><td>17</td><td>0.8534483</td><td>11</td></tr>\n",
       "\t<tr><td>DAM3D060_T_CUDedit</td><td>132</td><td>DAM3D060_T_CUDedit</td><td>112</td><td>20</td><td>0.8484848</td><td>12</td></tr>\n",
       "\t<tr><td>DAM3D065_P_CUDedit</td><td>119</td><td>DAM3D065_P_CUDedit</td><td> 98</td><td>21</td><td>0.8235294</td><td>13</td></tr>\n",
       "\t<tr><td>DAM3D012_T_CUDedit</td><td>116</td><td>DAM3D012_T_CUDedit</td><td> 95</td><td>21</td><td>0.8189655</td><td>14</td></tr>\n",
       "\t<tr><td>DAM3D030_T_CUAedit</td><td>122</td><td>DAM3D030_T_CUAedit</td><td> 99</td><td>23</td><td>0.8114754</td><td>15</td></tr>\n",
       "\t<tr><td>DAM3D060_P_CUAedit</td><td>125</td><td>DAM3D060_P_CUAedit</td><td>101</td><td>24</td><td>0.8080000</td><td>16</td></tr>\n",
       "\t<tr><td>DAM3D061_F_CUDedit</td><td>131</td><td>DAM3D061_F_CUDedit</td><td>103</td><td>28</td><td>0.7862595</td><td>17</td></tr>\n",
       "\t<tr><td>DAM3D030_P_CUAedit</td><td>113</td><td>DAM3D030_P_CUAedit</td><td> 88</td><td>25</td><td>0.7787611</td><td>18</td></tr>\n",
       "\t<tr><td>DAM3D013_P_CUDedit</td><td>112</td><td>DAM3D013_P_CUDedit</td><td> 86</td><td>26</td><td>0.7678571</td><td>19</td></tr>\n",
       "\t<tr><td>DAM3D009_T_CUAedit</td><td>117</td><td>DAM3D009_T_CUAedit</td><td> 89</td><td>28</td><td>0.7606838</td><td>20</td></tr>\n",
       "\t<tr><td>DAM3D056_P_CUAedit</td><td>144</td><td>DAM3D056_P_CUAedit</td><td>109</td><td>35</td><td>0.7569444</td><td>21</td></tr>\n",
       "\t<tr><td>DAM3D045_P_CUDedit</td><td>111</td><td>DAM3D045_P_CUDedit</td><td> 80</td><td>31</td><td>0.7207207</td><td>22</td></tr>\n",
       "\t<tr><td>DAM3D033_F_CUDedit</td><td>124</td><td>DAM3D033_F_CUDedit</td><td> 87</td><td>37</td><td>0.7016129</td><td>23</td></tr>\n",
       "\t<tr><td>DAM3D009_P_CUAedit</td><td>144</td><td>DAM3D009_P_CUAedit</td><td>101</td><td>43</td><td>0.7013889</td><td>24</td></tr>\n",
       "\t<tr><td>DAM3D061_T_CUAedit</td><td>130</td><td>DAM3D061_T_CUAedit</td><td> 91</td><td>39</td><td>0.7000000</td><td>25</td></tr>\n",
       "\t<tr><td>DAM3D021_P_CUDedit</td><td>116</td><td>DAM3D021_P_CUDedit</td><td> 81</td><td>35</td><td>0.6982759</td><td>26</td></tr>\n",
       "\t<tr><td>DAM3D033_T_CUAedit</td><td>141</td><td>DAM3D033_T_CUAedit</td><td> 97</td><td>44</td><td>0.6879433</td><td>27</td></tr>\n",
       "\t<tr><td>DAM3D063_P_CUDedit</td><td>103</td><td>DAM3D063_P_CUDedit</td><td> 70</td><td>33</td><td>0.6796117</td><td>28</td></tr>\n",
       "\t<tr><td>DAM3D020_T_CUAedit</td><td>146</td><td>DAM3D020_T_CUAedit</td><td> 99</td><td>47</td><td>0.6780822</td><td>29</td></tr>\n",
       "\t<tr><td>DAM3D064_P_CUAedit</td><td>104</td><td>DAM3D064_P_CUAedit</td><td> 70</td><td>34</td><td>0.6730769</td><td>30</td></tr>\n",
       "\t<tr><td>⋮</td><td>⋮</td><td>⋮</td><td>⋮</td><td>⋮</td><td>⋮</td><td>⋮</td></tr>\n",
       "\t<tr><td>DAM3D046_F_CUAedit</td><td>127</td><td>DAM3D046_F_CUAedit</td><td>33</td><td> 94</td><td>0.25984252</td><td>140</td></tr>\n",
       "\t<tr><td>DAM3D048_P_CUAedit</td><td>128</td><td>DAM3D048_P_CUAedit</td><td>32</td><td> 96</td><td>0.25000000</td><td>141</td></tr>\n",
       "\t<tr><td>DAM3D051_T_CUDedit</td><td>113</td><td>DAM3D051_T_CUDedit</td><td>27</td><td> 86</td><td>0.23893805</td><td>142</td></tr>\n",
       "\t<tr><td>DAM3D058_P_CUAedit</td><td>124</td><td>DAM3D058_P_CUAedit</td><td>29</td><td> 95</td><td>0.23387097</td><td>143</td></tr>\n",
       "\t<tr><td>DAM3D008_P_CUAedit</td><td>137</td><td>DAM3D008_P_CUAedit</td><td>32</td><td>105</td><td>0.23357664</td><td>144</td></tr>\n",
       "\t<tr><td>DAM3D031_T_CUDedit</td><td>142</td><td>DAM3D031_T_CUDedit</td><td>32</td><td>110</td><td>0.22535211</td><td>145</td></tr>\n",
       "\t<tr><td>DAM3D018_P_CUDedit</td><td>118</td><td>DAM3D018_P_CUDedit</td><td>25</td><td> 93</td><td>0.21186441</td><td>146</td></tr>\n",
       "\t<tr><td>DAM3D022_P_CUAedit</td><td>103</td><td>DAM3D022_P_CUAedit</td><td>20</td><td> 83</td><td>0.19417476</td><td>147</td></tr>\n",
       "\t<tr><td>DAM3D051_P_CUAedit</td><td> 97</td><td>DAM3D051_P_CUAedit</td><td>18</td><td> 79</td><td>0.18556701</td><td>148</td></tr>\n",
       "\t<tr><td>DAM3D003_P_CUDedit</td><td>124</td><td>DAM3D003_P_CUDedit</td><td>23</td><td>101</td><td>0.18548387</td><td>149</td></tr>\n",
       "\t<tr><td>DAM3D052_P_CUDedit</td><td>108</td><td>DAM3D052_P_CUDedit</td><td>19</td><td> 89</td><td>0.17592593</td><td>150</td></tr>\n",
       "\t<tr><td>DAM3D069_F_CUDedit</td><td>127</td><td>DAM3D069_F_CUDedit</td><td>21</td><td>106</td><td>0.16535433</td><td>151</td></tr>\n",
       "\t<tr><td>DAM3D006_F_CUDedit</td><td>140</td><td>DAM3D006_F_CUDedit</td><td>21</td><td>119</td><td>0.15000000</td><td>152</td></tr>\n",
       "\t<tr><td>DAM3D003_F_CUDedit</td><td>131</td><td>DAM3D003_F_CUDedit</td><td>19</td><td>112</td><td>0.14503817</td><td>153</td></tr>\n",
       "\t<tr><td>DAM3D046_T_CUDedit</td><td>115</td><td>DAM3D046_T_CUDedit</td><td>16</td><td> 99</td><td>0.13913043</td><td>154</td></tr>\n",
       "\t<tr><td>DAM3D068_P_CUDedit</td><td>119</td><td>DAM3D068_P_CUDedit</td><td>16</td><td>103</td><td>0.13445378</td><td>155</td></tr>\n",
       "\t<tr><td>DAM3D018_F_CUAedit</td><td>134</td><td>DAM3D018_F_CUAedit</td><td>18</td><td>116</td><td>0.13432836</td><td>156</td></tr>\n",
       "\t<tr><td>DAM3D058_T_CUDedit</td><td>111</td><td>DAM3D058_T_CUDedit</td><td>14</td><td> 97</td><td>0.12612613</td><td>157</td></tr>\n",
       "\t<tr><td>DAM3D022_F_CUDedit</td><td>126</td><td>DAM3D022_F_CUDedit</td><td>15</td><td>111</td><td>0.11904762</td><td>158</td></tr>\n",
       "\t<tr><td>DAM3D035_T_CUDedit</td><td>118</td><td>DAM3D035_T_CUDedit</td><td>14</td><td>104</td><td>0.11864407</td><td>159</td></tr>\n",
       "\t<tr><td>DAM3D022_T_CUAedit</td><td>147</td><td>DAM3D022_T_CUAedit</td><td>17</td><td>130</td><td>0.11564626</td><td>160</td></tr>\n",
       "\t<tr><td>DAM3D046_P_CUAedit</td><td>125</td><td>DAM3D046_P_CUAedit</td><td>14</td><td>111</td><td>0.11200000</td><td>161</td></tr>\n",
       "\t<tr><td>DAM3D034_F_CUDedit</td><td>121</td><td>DAM3D034_F_CUDedit</td><td>10</td><td>111</td><td>0.08264463</td><td>162</td></tr>\n",
       "\t<tr><td>DAM3D057_P_CUDedit</td><td>126</td><td>DAM3D057_P_CUDedit</td><td>10</td><td>116</td><td>0.07936508</td><td>163</td></tr>\n",
       "\t<tr><td>DAM3D003_T_CUDedit</td><td>143</td><td>DAM3D003_T_CUDedit</td><td>11</td><td>132</td><td>0.07692308</td><td>164</td></tr>\n",
       "\t<tr><td>DAM3D037_F_CUAedit</td><td>100</td><td>DAM3D037_F_CUAedit</td><td> 7</td><td> 93</td><td>0.07000000</td><td>165</td></tr>\n",
       "\t<tr><td>DAM3D037_P_CUAedit</td><td>132</td><td>DAM3D037_P_CUAedit</td><td> 9</td><td>123</td><td>0.06818182</td><td>166</td></tr>\n",
       "\t<tr><td>DAM3D034_T_CUAedit</td><td>119</td><td>DAM3D034_T_CUAedit</td><td> 8</td><td>111</td><td>0.06722689</td><td>167</td></tr>\n",
       "\t<tr><td>DAM3D034_P_CUDedit</td><td>105</td><td>DAM3D034_P_CUDedit</td><td> 7</td><td> 98</td><td>0.06666667</td><td>168</td></tr>\n",
       "\t<tr><td>DAM3D037_T_CUDedit</td><td>114</td><td>DAM3D037_T_CUDedit</td><td> 5</td><td>109</td><td>0.04385965</td><td>169</td></tr>\n",
       "</tbody>\n",
       "</table>\n"
      ],
      "text/latex": [
       "A data.frame: 169 × 7\n",
       "\\begin{tabular}{r|lllllll}\n",
       " LR\\_Image & TotalCount & Answer & AnswerCount & diff & RankRatio & rankOrder\\\\\n",
       " <fct> & <int> & <fct> & <int> & <int> & <dbl> & <int>\\\\\n",
       "\\hline\n",
       "\t CUA\\_3D\\_Cube\\_edit   & 136 & CUA\\_3D\\_Cube\\_edit   & 132 &  4 & 0.9705882 &  1\\\\\n",
       "\t CUD\\_2D\\_Cube\\_edit   & 135 & CUD\\_2D\\_Cube\\_edit   & 127 &  8 & 0.9407407 &  2\\\\\n",
       "\t DAM3D005\\_T\\_CUAedit & 129 & DAM3D005\\_T\\_CUAedit & 119 & 10 & 0.9224806 &  3\\\\\n",
       "\t DAM3D011\\_T\\_CUAedit & 111 & DAM3D011\\_T\\_CUAedit &  99 & 12 & 0.8918919 &  4\\\\\n",
       "\t DAM3D012\\_P\\_CUDedit & 110 & DAM3D012\\_P\\_CUDedit &  98 & 12 & 0.8909091 &  5\\\\\n",
       "\t DAM3D060\\_F\\_CUAedit & 109 & DAM3D060\\_F\\_CUAedit &  97 & 12 & 0.8899083 &  6\\\\\n",
       "\t DAM3D011\\_F\\_CUDedit & 105 & DAM3D011\\_F\\_CUDedit &  93 & 12 & 0.8857143 &  7\\\\\n",
       "\t DAM3D013\\_F\\_CUAedit &  96 & DAM3D013\\_F\\_CUAedit &  84 & 12 & 0.8750000 &  8\\\\\n",
       "\t DAM3D030\\_F\\_CUDedit & 134 & DAM3D030\\_F\\_CUDedit & 116 & 18 & 0.8656716 &  9\\\\\n",
       "\t DAM3D005\\_P\\_CUDedit & 126 & DAM3D005\\_P\\_CUDedit & 109 & 17 & 0.8650794 & 10\\\\\n",
       "\t DAM3D012\\_F\\_CUAedit & 116 & DAM3D012\\_F\\_CUAedit &  99 & 17 & 0.8534483 & 11\\\\\n",
       "\t DAM3D060\\_T\\_CUDedit & 132 & DAM3D060\\_T\\_CUDedit & 112 & 20 & 0.8484848 & 12\\\\\n",
       "\t DAM3D065\\_P\\_CUDedit & 119 & DAM3D065\\_P\\_CUDedit &  98 & 21 & 0.8235294 & 13\\\\\n",
       "\t DAM3D012\\_T\\_CUDedit & 116 & DAM3D012\\_T\\_CUDedit &  95 & 21 & 0.8189655 & 14\\\\\n",
       "\t DAM3D030\\_T\\_CUAedit & 122 & DAM3D030\\_T\\_CUAedit &  99 & 23 & 0.8114754 & 15\\\\\n",
       "\t DAM3D060\\_P\\_CUAedit & 125 & DAM3D060\\_P\\_CUAedit & 101 & 24 & 0.8080000 & 16\\\\\n",
       "\t DAM3D061\\_F\\_CUDedit & 131 & DAM3D061\\_F\\_CUDedit & 103 & 28 & 0.7862595 & 17\\\\\n",
       "\t DAM3D030\\_P\\_CUAedit & 113 & DAM3D030\\_P\\_CUAedit &  88 & 25 & 0.7787611 & 18\\\\\n",
       "\t DAM3D013\\_P\\_CUDedit & 112 & DAM3D013\\_P\\_CUDedit &  86 & 26 & 0.7678571 & 19\\\\\n",
       "\t DAM3D009\\_T\\_CUAedit & 117 & DAM3D009\\_T\\_CUAedit &  89 & 28 & 0.7606838 & 20\\\\\n",
       "\t DAM3D056\\_P\\_CUAedit & 144 & DAM3D056\\_P\\_CUAedit & 109 & 35 & 0.7569444 & 21\\\\\n",
       "\t DAM3D045\\_P\\_CUDedit & 111 & DAM3D045\\_P\\_CUDedit &  80 & 31 & 0.7207207 & 22\\\\\n",
       "\t DAM3D033\\_F\\_CUDedit & 124 & DAM3D033\\_F\\_CUDedit &  87 & 37 & 0.7016129 & 23\\\\\n",
       "\t DAM3D009\\_P\\_CUAedit & 144 & DAM3D009\\_P\\_CUAedit & 101 & 43 & 0.7013889 & 24\\\\\n",
       "\t DAM3D061\\_T\\_CUAedit & 130 & DAM3D061\\_T\\_CUAedit &  91 & 39 & 0.7000000 & 25\\\\\n",
       "\t DAM3D021\\_P\\_CUDedit & 116 & DAM3D021\\_P\\_CUDedit &  81 & 35 & 0.6982759 & 26\\\\\n",
       "\t DAM3D033\\_T\\_CUAedit & 141 & DAM3D033\\_T\\_CUAedit &  97 & 44 & 0.6879433 & 27\\\\\n",
       "\t DAM3D063\\_P\\_CUDedit & 103 & DAM3D063\\_P\\_CUDedit &  70 & 33 & 0.6796117 & 28\\\\\n",
       "\t DAM3D020\\_T\\_CUAedit & 146 & DAM3D020\\_T\\_CUAedit &  99 & 47 & 0.6780822 & 29\\\\\n",
       "\t DAM3D064\\_P\\_CUAedit & 104 & DAM3D064\\_P\\_CUAedit &  70 & 34 & 0.6730769 & 30\\\\\n",
       "\t ⋮ & ⋮ & ⋮ & ⋮ & ⋮ & ⋮ & ⋮\\\\\n",
       "\t DAM3D046\\_F\\_CUAedit & 127 & DAM3D046\\_F\\_CUAedit & 33 &  94 & 0.25984252 & 140\\\\\n",
       "\t DAM3D048\\_P\\_CUAedit & 128 & DAM3D048\\_P\\_CUAedit & 32 &  96 & 0.25000000 & 141\\\\\n",
       "\t DAM3D051\\_T\\_CUDedit & 113 & DAM3D051\\_T\\_CUDedit & 27 &  86 & 0.23893805 & 142\\\\\n",
       "\t DAM3D058\\_P\\_CUAedit & 124 & DAM3D058\\_P\\_CUAedit & 29 &  95 & 0.23387097 & 143\\\\\n",
       "\t DAM3D008\\_P\\_CUAedit & 137 & DAM3D008\\_P\\_CUAedit & 32 & 105 & 0.23357664 & 144\\\\\n",
       "\t DAM3D031\\_T\\_CUDedit & 142 & DAM3D031\\_T\\_CUDedit & 32 & 110 & 0.22535211 & 145\\\\\n",
       "\t DAM3D018\\_P\\_CUDedit & 118 & DAM3D018\\_P\\_CUDedit & 25 &  93 & 0.21186441 & 146\\\\\n",
       "\t DAM3D022\\_P\\_CUAedit & 103 & DAM3D022\\_P\\_CUAedit & 20 &  83 & 0.19417476 & 147\\\\\n",
       "\t DAM3D051\\_P\\_CUAedit &  97 & DAM3D051\\_P\\_CUAedit & 18 &  79 & 0.18556701 & 148\\\\\n",
       "\t DAM3D003\\_P\\_CUDedit & 124 & DAM3D003\\_P\\_CUDedit & 23 & 101 & 0.18548387 & 149\\\\\n",
       "\t DAM3D052\\_P\\_CUDedit & 108 & DAM3D052\\_P\\_CUDedit & 19 &  89 & 0.17592593 & 150\\\\\n",
       "\t DAM3D069\\_F\\_CUDedit & 127 & DAM3D069\\_F\\_CUDedit & 21 & 106 & 0.16535433 & 151\\\\\n",
       "\t DAM3D006\\_F\\_CUDedit & 140 & DAM3D006\\_F\\_CUDedit & 21 & 119 & 0.15000000 & 152\\\\\n",
       "\t DAM3D003\\_F\\_CUDedit & 131 & DAM3D003\\_F\\_CUDedit & 19 & 112 & 0.14503817 & 153\\\\\n",
       "\t DAM3D046\\_T\\_CUDedit & 115 & DAM3D046\\_T\\_CUDedit & 16 &  99 & 0.13913043 & 154\\\\\n",
       "\t DAM3D068\\_P\\_CUDedit & 119 & DAM3D068\\_P\\_CUDedit & 16 & 103 & 0.13445378 & 155\\\\\n",
       "\t DAM3D018\\_F\\_CUAedit & 134 & DAM3D018\\_F\\_CUAedit & 18 & 116 & 0.13432836 & 156\\\\\n",
       "\t DAM3D058\\_T\\_CUDedit & 111 & DAM3D058\\_T\\_CUDedit & 14 &  97 & 0.12612613 & 157\\\\\n",
       "\t DAM3D022\\_F\\_CUDedit & 126 & DAM3D022\\_F\\_CUDedit & 15 & 111 & 0.11904762 & 158\\\\\n",
       "\t DAM3D035\\_T\\_CUDedit & 118 & DAM3D035\\_T\\_CUDedit & 14 & 104 & 0.11864407 & 159\\\\\n",
       "\t DAM3D022\\_T\\_CUAedit & 147 & DAM3D022\\_T\\_CUAedit & 17 & 130 & 0.11564626 & 160\\\\\n",
       "\t DAM3D046\\_P\\_CUAedit & 125 & DAM3D046\\_P\\_CUAedit & 14 & 111 & 0.11200000 & 161\\\\\n",
       "\t DAM3D034\\_F\\_CUDedit & 121 & DAM3D034\\_F\\_CUDedit & 10 & 111 & 0.08264463 & 162\\\\\n",
       "\t DAM3D057\\_P\\_CUDedit & 126 & DAM3D057\\_P\\_CUDedit & 10 & 116 & 0.07936508 & 163\\\\\n",
       "\t DAM3D003\\_T\\_CUDedit & 143 & DAM3D003\\_T\\_CUDedit & 11 & 132 & 0.07692308 & 164\\\\\n",
       "\t DAM3D037\\_F\\_CUAedit & 100 & DAM3D037\\_F\\_CUAedit &  7 &  93 & 0.07000000 & 165\\\\\n",
       "\t DAM3D037\\_P\\_CUAedit & 132 & DAM3D037\\_P\\_CUAedit &  9 & 123 & 0.06818182 & 166\\\\\n",
       "\t DAM3D034\\_T\\_CUAedit & 119 & DAM3D034\\_T\\_CUAedit &  8 & 111 & 0.06722689 & 167\\\\\n",
       "\t DAM3D034\\_P\\_CUDedit & 105 & DAM3D034\\_P\\_CUDedit &  7 &  98 & 0.06666667 & 168\\\\\n",
       "\t DAM3D037\\_T\\_CUDedit & 114 & DAM3D037\\_T\\_CUDedit &  5 & 109 & 0.04385965 & 169\\\\\n",
       "\\end{tabular}\n"
      ],
      "text/markdown": [
       "\n",
       "A data.frame: 169 × 7\n",
       "\n",
       "| LR_Image &lt;fct&gt; | TotalCount &lt;int&gt; | Answer &lt;fct&gt; | AnswerCount &lt;int&gt; | diff &lt;int&gt; | RankRatio &lt;dbl&gt; | rankOrder &lt;int&gt; |\n",
       "|---|---|---|---|---|---|---|\n",
       "| CUA_3D_Cube_edit   | 136 | CUA_3D_Cube_edit   | 132 |  4 | 0.9705882 |  1 |\n",
       "| CUD_2D_Cube_edit   | 135 | CUD_2D_Cube_edit   | 127 |  8 | 0.9407407 |  2 |\n",
       "| DAM3D005_T_CUAedit | 129 | DAM3D005_T_CUAedit | 119 | 10 | 0.9224806 |  3 |\n",
       "| DAM3D011_T_CUAedit | 111 | DAM3D011_T_CUAedit |  99 | 12 | 0.8918919 |  4 |\n",
       "| DAM3D012_P_CUDedit | 110 | DAM3D012_P_CUDedit |  98 | 12 | 0.8909091 |  5 |\n",
       "| DAM3D060_F_CUAedit | 109 | DAM3D060_F_CUAedit |  97 | 12 | 0.8899083 |  6 |\n",
       "| DAM3D011_F_CUDedit | 105 | DAM3D011_F_CUDedit |  93 | 12 | 0.8857143 |  7 |\n",
       "| DAM3D013_F_CUAedit |  96 | DAM3D013_F_CUAedit |  84 | 12 | 0.8750000 |  8 |\n",
       "| DAM3D030_F_CUDedit | 134 | DAM3D030_F_CUDedit | 116 | 18 | 0.8656716 |  9 |\n",
       "| DAM3D005_P_CUDedit | 126 | DAM3D005_P_CUDedit | 109 | 17 | 0.8650794 | 10 |\n",
       "| DAM3D012_F_CUAedit | 116 | DAM3D012_F_CUAedit |  99 | 17 | 0.8534483 | 11 |\n",
       "| DAM3D060_T_CUDedit | 132 | DAM3D060_T_CUDedit | 112 | 20 | 0.8484848 | 12 |\n",
       "| DAM3D065_P_CUDedit | 119 | DAM3D065_P_CUDedit |  98 | 21 | 0.8235294 | 13 |\n",
       "| DAM3D012_T_CUDedit | 116 | DAM3D012_T_CUDedit |  95 | 21 | 0.8189655 | 14 |\n",
       "| DAM3D030_T_CUAedit | 122 | DAM3D030_T_CUAedit |  99 | 23 | 0.8114754 | 15 |\n",
       "| DAM3D060_P_CUAedit | 125 | DAM3D060_P_CUAedit | 101 | 24 | 0.8080000 | 16 |\n",
       "| DAM3D061_F_CUDedit | 131 | DAM3D061_F_CUDedit | 103 | 28 | 0.7862595 | 17 |\n",
       "| DAM3D030_P_CUAedit | 113 | DAM3D030_P_CUAedit |  88 | 25 | 0.7787611 | 18 |\n",
       "| DAM3D013_P_CUDedit | 112 | DAM3D013_P_CUDedit |  86 | 26 | 0.7678571 | 19 |\n",
       "| DAM3D009_T_CUAedit | 117 | DAM3D009_T_CUAedit |  89 | 28 | 0.7606838 | 20 |\n",
       "| DAM3D056_P_CUAedit | 144 | DAM3D056_P_CUAedit | 109 | 35 | 0.7569444 | 21 |\n",
       "| DAM3D045_P_CUDedit | 111 | DAM3D045_P_CUDedit |  80 | 31 | 0.7207207 | 22 |\n",
       "| DAM3D033_F_CUDedit | 124 | DAM3D033_F_CUDedit |  87 | 37 | 0.7016129 | 23 |\n",
       "| DAM3D009_P_CUAedit | 144 | DAM3D009_P_CUAedit | 101 | 43 | 0.7013889 | 24 |\n",
       "| DAM3D061_T_CUAedit | 130 | DAM3D061_T_CUAedit |  91 | 39 | 0.7000000 | 25 |\n",
       "| DAM3D021_P_CUDedit | 116 | DAM3D021_P_CUDedit |  81 | 35 | 0.6982759 | 26 |\n",
       "| DAM3D033_T_CUAedit | 141 | DAM3D033_T_CUAedit |  97 | 44 | 0.6879433 | 27 |\n",
       "| DAM3D063_P_CUDedit | 103 | DAM3D063_P_CUDedit |  70 | 33 | 0.6796117 | 28 |\n",
       "| DAM3D020_T_CUAedit | 146 | DAM3D020_T_CUAedit |  99 | 47 | 0.6780822 | 29 |\n",
       "| DAM3D064_P_CUAedit | 104 | DAM3D064_P_CUAedit |  70 | 34 | 0.6730769 | 30 |\n",
       "| ⋮ | ⋮ | ⋮ | ⋮ | ⋮ | ⋮ | ⋮ |\n",
       "| DAM3D046_F_CUAedit | 127 | DAM3D046_F_CUAedit | 33 |  94 | 0.25984252 | 140 |\n",
       "| DAM3D048_P_CUAedit | 128 | DAM3D048_P_CUAedit | 32 |  96 | 0.25000000 | 141 |\n",
       "| DAM3D051_T_CUDedit | 113 | DAM3D051_T_CUDedit | 27 |  86 | 0.23893805 | 142 |\n",
       "| DAM3D058_P_CUAedit | 124 | DAM3D058_P_CUAedit | 29 |  95 | 0.23387097 | 143 |\n",
       "| DAM3D008_P_CUAedit | 137 | DAM3D008_P_CUAedit | 32 | 105 | 0.23357664 | 144 |\n",
       "| DAM3D031_T_CUDedit | 142 | DAM3D031_T_CUDedit | 32 | 110 | 0.22535211 | 145 |\n",
       "| DAM3D018_P_CUDedit | 118 | DAM3D018_P_CUDedit | 25 |  93 | 0.21186441 | 146 |\n",
       "| DAM3D022_P_CUAedit | 103 | DAM3D022_P_CUAedit | 20 |  83 | 0.19417476 | 147 |\n",
       "| DAM3D051_P_CUAedit |  97 | DAM3D051_P_CUAedit | 18 |  79 | 0.18556701 | 148 |\n",
       "| DAM3D003_P_CUDedit | 124 | DAM3D003_P_CUDedit | 23 | 101 | 0.18548387 | 149 |\n",
       "| DAM3D052_P_CUDedit | 108 | DAM3D052_P_CUDedit | 19 |  89 | 0.17592593 | 150 |\n",
       "| DAM3D069_F_CUDedit | 127 | DAM3D069_F_CUDedit | 21 | 106 | 0.16535433 | 151 |\n",
       "| DAM3D006_F_CUDedit | 140 | DAM3D006_F_CUDedit | 21 | 119 | 0.15000000 | 152 |\n",
       "| DAM3D003_F_CUDedit | 131 | DAM3D003_F_CUDedit | 19 | 112 | 0.14503817 | 153 |\n",
       "| DAM3D046_T_CUDedit | 115 | DAM3D046_T_CUDedit | 16 |  99 | 0.13913043 | 154 |\n",
       "| DAM3D068_P_CUDedit | 119 | DAM3D068_P_CUDedit | 16 | 103 | 0.13445378 | 155 |\n",
       "| DAM3D018_F_CUAedit | 134 | DAM3D018_F_CUAedit | 18 | 116 | 0.13432836 | 156 |\n",
       "| DAM3D058_T_CUDedit | 111 | DAM3D058_T_CUDedit | 14 |  97 | 0.12612613 | 157 |\n",
       "| DAM3D022_F_CUDedit | 126 | DAM3D022_F_CUDedit | 15 | 111 | 0.11904762 | 158 |\n",
       "| DAM3D035_T_CUDedit | 118 | DAM3D035_T_CUDedit | 14 | 104 | 0.11864407 | 159 |\n",
       "| DAM3D022_T_CUAedit | 147 | DAM3D022_T_CUAedit | 17 | 130 | 0.11564626 | 160 |\n",
       "| DAM3D046_P_CUAedit | 125 | DAM3D046_P_CUAedit | 14 | 111 | 0.11200000 | 161 |\n",
       "| DAM3D034_F_CUDedit | 121 | DAM3D034_F_CUDedit | 10 | 111 | 0.08264463 | 162 |\n",
       "| DAM3D057_P_CUDedit | 126 | DAM3D057_P_CUDedit | 10 | 116 | 0.07936508 | 163 |\n",
       "| DAM3D003_T_CUDedit | 143 | DAM3D003_T_CUDedit | 11 | 132 | 0.07692308 | 164 |\n",
       "| DAM3D037_F_CUAedit | 100 | DAM3D037_F_CUAedit |  7 |  93 | 0.07000000 | 165 |\n",
       "| DAM3D037_P_CUAedit | 132 | DAM3D037_P_CUAedit |  9 | 123 | 0.06818182 | 166 |\n",
       "| DAM3D034_T_CUAedit | 119 | DAM3D034_T_CUAedit |  8 | 111 | 0.06722689 | 167 |\n",
       "| DAM3D034_P_CUDedit | 105 | DAM3D034_P_CUDedit |  7 |  98 | 0.06666667 | 168 |\n",
       "| DAM3D037_T_CUDedit | 114 | DAM3D037_T_CUDedit |  5 | 109 | 0.04385965 | 169 |\n",
       "\n"
      ],
      "text/plain": [
       "    LR_Image           TotalCount Answer             AnswerCount diff\n",
       "1   CUA_3D_Cube_edit   136        CUA_3D_Cube_edit   132          4  \n",
       "2   CUD_2D_Cube_edit   135        CUD_2D_Cube_edit   127          8  \n",
       "3   DAM3D005_T_CUAedit 129        DAM3D005_T_CUAedit 119         10  \n",
       "4   DAM3D011_T_CUAedit 111        DAM3D011_T_CUAedit  99         12  \n",
       "5   DAM3D012_P_CUDedit 110        DAM3D012_P_CUDedit  98         12  \n",
       "6   DAM3D060_F_CUAedit 109        DAM3D060_F_CUAedit  97         12  \n",
       "7   DAM3D011_F_CUDedit 105        DAM3D011_F_CUDedit  93         12  \n",
       "8   DAM3D013_F_CUAedit  96        DAM3D013_F_CUAedit  84         12  \n",
       "9   DAM3D030_F_CUDedit 134        DAM3D030_F_CUDedit 116         18  \n",
       "10  DAM3D005_P_CUDedit 126        DAM3D005_P_CUDedit 109         17  \n",
       "11  DAM3D012_F_CUAedit 116        DAM3D012_F_CUAedit  99         17  \n",
       "12  DAM3D060_T_CUDedit 132        DAM3D060_T_CUDedit 112         20  \n",
       "13  DAM3D065_P_CUDedit 119        DAM3D065_P_CUDedit  98         21  \n",
       "14  DAM3D012_T_CUDedit 116        DAM3D012_T_CUDedit  95         21  \n",
       "15  DAM3D030_T_CUAedit 122        DAM3D030_T_CUAedit  99         23  \n",
       "16  DAM3D060_P_CUAedit 125        DAM3D060_P_CUAedit 101         24  \n",
       "17  DAM3D061_F_CUDedit 131        DAM3D061_F_CUDedit 103         28  \n",
       "18  DAM3D030_P_CUAedit 113        DAM3D030_P_CUAedit  88         25  \n",
       "19  DAM3D013_P_CUDedit 112        DAM3D013_P_CUDedit  86         26  \n",
       "20  DAM3D009_T_CUAedit 117        DAM3D009_T_CUAedit  89         28  \n",
       "21  DAM3D056_P_CUAedit 144        DAM3D056_P_CUAedit 109         35  \n",
       "22  DAM3D045_P_CUDedit 111        DAM3D045_P_CUDedit  80         31  \n",
       "23  DAM3D033_F_CUDedit 124        DAM3D033_F_CUDedit  87         37  \n",
       "24  DAM3D009_P_CUAedit 144        DAM3D009_P_CUAedit 101         43  \n",
       "25  DAM3D061_T_CUAedit 130        DAM3D061_T_CUAedit  91         39  \n",
       "26  DAM3D021_P_CUDedit 116        DAM3D021_P_CUDedit  81         35  \n",
       "27  DAM3D033_T_CUAedit 141        DAM3D033_T_CUAedit  97         44  \n",
       "28  DAM3D063_P_CUDedit 103        DAM3D063_P_CUDedit  70         33  \n",
       "29  DAM3D020_T_CUAedit 146        DAM3D020_T_CUAedit  99         47  \n",
       "30  DAM3D064_P_CUAedit 104        DAM3D064_P_CUAedit  70         34  \n",
       "⋮   ⋮                  ⋮          ⋮                  ⋮           ⋮   \n",
       "140 DAM3D046_F_CUAedit 127        DAM3D046_F_CUAedit 33           94 \n",
       "141 DAM3D048_P_CUAedit 128        DAM3D048_P_CUAedit 32           96 \n",
       "142 DAM3D051_T_CUDedit 113        DAM3D051_T_CUDedit 27           86 \n",
       "143 DAM3D058_P_CUAedit 124        DAM3D058_P_CUAedit 29           95 \n",
       "144 DAM3D008_P_CUAedit 137        DAM3D008_P_CUAedit 32          105 \n",
       "145 DAM3D031_T_CUDedit 142        DAM3D031_T_CUDedit 32          110 \n",
       "146 DAM3D018_P_CUDedit 118        DAM3D018_P_CUDedit 25           93 \n",
       "147 DAM3D022_P_CUAedit 103        DAM3D022_P_CUAedit 20           83 \n",
       "148 DAM3D051_P_CUAedit  97        DAM3D051_P_CUAedit 18           79 \n",
       "149 DAM3D003_P_CUDedit 124        DAM3D003_P_CUDedit 23          101 \n",
       "150 DAM3D052_P_CUDedit 108        DAM3D052_P_CUDedit 19           89 \n",
       "151 DAM3D069_F_CUDedit 127        DAM3D069_F_CUDedit 21          106 \n",
       "152 DAM3D006_F_CUDedit 140        DAM3D006_F_CUDedit 21          119 \n",
       "153 DAM3D003_F_CUDedit 131        DAM3D003_F_CUDedit 19          112 \n",
       "154 DAM3D046_T_CUDedit 115        DAM3D046_T_CUDedit 16           99 \n",
       "155 DAM3D068_P_CUDedit 119        DAM3D068_P_CUDedit 16          103 \n",
       "156 DAM3D018_F_CUAedit 134        DAM3D018_F_CUAedit 18          116 \n",
       "157 DAM3D058_T_CUDedit 111        DAM3D058_T_CUDedit 14           97 \n",
       "158 DAM3D022_F_CUDedit 126        DAM3D022_F_CUDedit 15          111 \n",
       "159 DAM3D035_T_CUDedit 118        DAM3D035_T_CUDedit 14          104 \n",
       "160 DAM3D022_T_CUAedit 147        DAM3D022_T_CUAedit 17          130 \n",
       "161 DAM3D046_P_CUAedit 125        DAM3D046_P_CUAedit 14          111 \n",
       "162 DAM3D034_F_CUDedit 121        DAM3D034_F_CUDedit 10          111 \n",
       "163 DAM3D057_P_CUDedit 126        DAM3D057_P_CUDedit 10          116 \n",
       "164 DAM3D003_T_CUDedit 143        DAM3D003_T_CUDedit 11          132 \n",
       "165 DAM3D037_F_CUAedit 100        DAM3D037_F_CUAedit  7           93 \n",
       "166 DAM3D037_P_CUAedit 132        DAM3D037_P_CUAedit  9          123 \n",
       "167 DAM3D034_T_CUAedit 119        DAM3D034_T_CUAedit  8          111 \n",
       "168 DAM3D034_P_CUDedit 105        DAM3D034_P_CUDedit  7           98 \n",
       "169 DAM3D037_T_CUDedit 114        DAM3D037_T_CUDedit  5          109 \n",
       "    RankRatio  rankOrder\n",
       "1   0.9705882   1       \n",
       "2   0.9407407   2       \n",
       "3   0.9224806   3       \n",
       "4   0.8918919   4       \n",
       "5   0.8909091   5       \n",
       "6   0.8899083   6       \n",
       "7   0.8857143   7       \n",
       "8   0.8750000   8       \n",
       "9   0.8656716   9       \n",
       "10  0.8650794  10       \n",
       "11  0.8534483  11       \n",
       "12  0.8484848  12       \n",
       "13  0.8235294  13       \n",
       "14  0.8189655  14       \n",
       "15  0.8114754  15       \n",
       "16  0.8080000  16       \n",
       "17  0.7862595  17       \n",
       "18  0.7787611  18       \n",
       "19  0.7678571  19       \n",
       "20  0.7606838  20       \n",
       "21  0.7569444  21       \n",
       "22  0.7207207  22       \n",
       "23  0.7016129  23       \n",
       "24  0.7013889  24       \n",
       "25  0.7000000  25       \n",
       "26  0.6982759  26       \n",
       "27  0.6879433  27       \n",
       "28  0.6796117  28       \n",
       "29  0.6780822  29       \n",
       "30  0.6730769  30       \n",
       "⋮   ⋮          ⋮        \n",
       "140 0.25984252 140      \n",
       "141 0.25000000 141      \n",
       "142 0.23893805 142      \n",
       "143 0.23387097 143      \n",
       "144 0.23357664 144      \n",
       "145 0.22535211 145      \n",
       "146 0.21186441 146      \n",
       "147 0.19417476 147      \n",
       "148 0.18556701 148      \n",
       "149 0.18548387 149      \n",
       "150 0.17592593 150      \n",
       "151 0.16535433 151      \n",
       "152 0.15000000 152      \n",
       "153 0.14503817 153      \n",
       "154 0.13913043 154      \n",
       "155 0.13445378 155      \n",
       "156 0.13432836 156      \n",
       "157 0.12612613 157      \n",
       "158 0.11904762 158      \n",
       "159 0.11864407 159      \n",
       "160 0.11564626 160      \n",
       "161 0.11200000 161      \n",
       "162 0.08264463 162      \n",
       "163 0.07936508 163      \n",
       "164 0.07692308 164      \n",
       "165 0.07000000 165      \n",
       "166 0.06818182 166      \n",
       "167 0.06722689 167      \n",
       "168 0.06666667 168      \n",
       "169 0.04385965 169      "
      ]
     },
     "metadata": {},
     "output_type": "display_data"
    }
   ],
   "source": [
    "rankSet"
   ]
  },
  {
   "cell_type": "code",
   "execution_count": 51,
   "metadata": {},
   "outputs": [],
   "source": [
    "NEXT_RankingEmbedding <- select(rankSet, LR_Image, TotalCount, AnswerCount, diff, RankRatio, rankOrder)"
   ]
  },
  {
   "cell_type": "markdown",
   "metadata": {},
   "source": [
    "#### Removing underscores from variable names so that elements can be used as independent variables"
   ]
  },
  {
   "cell_type": "code",
   "execution_count": 52,
   "metadata": {},
   "outputs": [
    {
     "name": "stderr",
     "output_type": "stream",
     "text": [
      "Warning message:\n",
      "“Expected 3 pieces. Additional pieces discarded in 2 rows [1, 2].”"
     ]
    }
   ],
   "source": [
    "# separating data based on underscore used in distinguishing common elements among variables\n",
    "#separate( ) function: #Objective - Splitting a single variable into two\n",
    "\n",
    "NEXT_RankingEmbedding <- separate(NEXT_RankingEmbedding, LR_Image, \n",
    "                            c(\"id\", \"mediaType\",\"imageLabel\"), sep = \"_\", remove = TRUE, convert = FALSE)"
   ]
  },
  {
   "cell_type": "markdown",
   "metadata": {},
   "source": [
    "#### Explanation for Warning message: “Expected 3 pieces. Additional pieces discarded in 2 rows [1, 2].”\n",
    "The images CUA and CUD are the stimuli used during the task, thus not produced by participants. \n",
    "For this reason their names differ from the common structure (they include '_edit' after the first two values).\n",
    "Shown below in the output is how they are fit into that structure after this adjustment (the '_edit' is discarded)."
   ]
  },
  {
   "cell_type": "code",
   "execution_count": 53,
   "metadata": {},
   "outputs": [],
   "source": [
    "NEXT_RankingEmbedding <- select(NEXT_RankingEmbedding, id, mediaType, TotalCount, \n",
    "                                         AnswerCount, diff, RankRatio, rankOrder)"
   ]
  },
  {
   "cell_type": "code",
   "execution_count": 54,
   "metadata": {},
   "outputs": [],
   "source": [
    "Cube_NEXT_RankingEmbedding <- NEXT_RankingEmbedding"
   ]
  },
  {
   "cell_type": "code",
   "execution_count": 55,
   "metadata": {},
   "outputs": [],
   "source": [
    "Cube_NEXT_RankingEmbedding <- rename(Cube_NEXT_RankingEmbedding, Cube_mediaType = mediaType)\n",
    "Cube_NEXT_RankingEmbedding <- rename(Cube_NEXT_RankingEmbedding, Cube_TotalCount = TotalCount)\n",
    "Cube_NEXT_RankingEmbedding <- rename(Cube_NEXT_RankingEmbedding, Cube_AnswerCount = AnswerCount)\n",
    "Cube_NEXT_RankingEmbedding <- rename(Cube_NEXT_RankingEmbedding, Cube_diff = diff)\n",
    "Cube_NEXT_RankingEmbedding <- rename(Cube_NEXT_RankingEmbedding, Cube_RankRatio = RankRatio)\n",
    "Cube_NEXT_RankingEmbedding <- rename(Cube_NEXT_RankingEmbedding, Cube_rankOrder = rankOrder)"
   ]
  },
  {
   "cell_type": "markdown",
   "metadata": {},
   "source": [
    "### Export data file"
   ]
  },
  {
   "cell_type": "code",
   "execution_count": 56,
   "metadata": {},
   "outputs": [],
   "source": [
    "#PC - must map network Z drive to rogerslab.drive.wisc.edu first\n",
    "\n",
    "#Mac - must connect to rogerslab.drive.wisc.edu first\n",
    "setwd(\"/Volumes/rogerslab/NEXT/NEXTdrawings/Data/NEXTdrawingsData/EmbeddingData\")\n",
    "\n",
    "#laptop\n",
    "#setwd(\"/Users/clintjensen/NEXT/NEXTdrawingsDownloads/Data/NEXTdrawingsData/EmbeddingData\")"
   ]
  },
  {
   "cell_type": "code",
   "execution_count": 57,
   "metadata": {},
   "outputs": [],
   "source": [
    "write.table(Cube_NEXT_RankingEmbedding, \"Cube_NEXT_RankingEmbedding.csv\", sep=\",\", col.names=T, row.names=F)"
   ]
  },
  {
   "cell_type": "markdown",
   "metadata": {},
   "source": [
    "# <font color='blue'>  CYLINDER </font>"
   ]
  },
  {
   "cell_type": "code",
   "execution_count": 58,
   "metadata": {},
   "outputs": [],
   "source": [
    "#PC - must map network Z drive to rogerslab.drive.wisc.edu first\n",
    "#setwd(\"Z:/NEXT/NEXTdrawings/Data/NEXTdrawingsData/DAP_DuelingBandits\")\n",
    "\n",
    "#Mac - must connect to rogerslab.drive.wisc.edu first\n",
    "setwd(\"/Volumes/rogerslab/NEXT/NEXTdrawings/Data/NEXTdrawingsData/CYLINDER_DuelingBandits\")\n",
    "\n",
    "#laptop\n",
    "#setwd(\"/Users/clintjensen/NEXT/NEXTdrawingsDownloads/Data/NEXTdrawingsData/CYLINDER_DuelingBandits\")"
   ]
  },
  {
   "cell_type": "code",
   "execution_count": 59,
   "metadata": {},
   "outputs": [],
   "source": [
    "#Cylinder\n",
    "cyl_data <- read.csv(\"stub.yamlStyle_CYLINDER_DuelingBandits_data.csv\", header=TRUE)"
   ]
  },
  {
   "cell_type": "markdown",
   "metadata": {},
   "source": [
    "#### Fixing image ids for a few image labels (only applies to DAP study)"
   ]
  },
  {
   "cell_type": "code",
   "execution_count": 60,
   "metadata": {},
   "outputs": [
    {
     "name": "stdout",
     "output_type": "stream",
     "text": [
      "'data.frame':\t10174 obs. of  11 variables:\n",
      " $ X                 : int  1 2 3 4 5 6 7 8 9 10 ...\n",
      " $ Participant.ID    : Factor w/ 69 levels \"602c168468300675783bef75294459_8RH4ZggPiA62qmVXu4cXDjn1nvAylo\",..: 41 41 41 41 41 41 41 41 41 41 ...\n",
      " $ Timestamp         : Factor w/ 10174 levels \"2019-07-11 17:22:34.859404\",..: 1 2 3 4 5 6 7 8 9 10 ...\n",
      " $ Left              : Factor w/ 182 levels \"CYA_3D_Cylinder_edit\",..: 159 46 61 7 108 133 132 155 144 95 ...\n",
      " $ Right             : Factor w/ 182 levels \"CYA_3D_Cylinder_edit\",..: 138 176 33 80 87 167 9 145 174 89 ...\n",
      " $ Answer            : Factor w/ 182 levels \"CYA_3D_Cylinder_edit\",..: 159 46 33 7 108 167 132 155 174 89 ...\n",
      " $ Alg.Label         : Factor w/ 2 levels \"Test\",\"Train\": 2 2 2 2 2 2 1 2 2 2 ...\n",
      " $ Response.Time..s. : num  8.41 1.7 1.42 3.61 1.35 ...\n",
      " $ Participant.ID.sub: Factor w/ 69 levels \"0LEXjoHc7R3m6VerWA1ymhTssdmt33\",..: 39 39 39 39 39 39 39 39 39 39 ...\n",
      " $ Condition         : Factor w/ 1 level \"CYLINDER_DuelingBandits\": 1 1 1 1 1 1 1 1 1 1 ...\n",
      " $ Session           : Factor w/ 2 levels \"602c168468300675783bef75294459\",..: 2 2 2 2 2 2 2 2 2 2 ...\n"
     ]
    }
   ],
   "source": [
    "str(cyl_data)"
   ]
  },
  {
   "cell_type": "code",
   "execution_count": 61,
   "metadata": {},
   "outputs": [
    {
     "data": {
      "text/html": [
       "10174"
      ],
      "text/latex": [
       "10174"
      ],
      "text/markdown": [
       "10174"
      ],
      "text/plain": [
       "[1] 10174"
      ]
     },
     "metadata": {},
     "output_type": "display_data"
    }
   ],
   "source": [
    "nrow(cyl_data)"
   ]
  },
  {
   "cell_type": "code",
   "execution_count": 62,
   "metadata": {},
   "outputs": [],
   "source": [
    "LR_Image <- c(as.character(cyl_data$Left), as.character(cyl_data$Right))\n",
    "LR_Image <- as.data.frame(LR_Image)"
   ]
  },
  {
   "cell_type": "code",
   "execution_count": 63,
   "metadata": {},
   "outputs": [
    {
     "data": {
      "text/html": [
       "20348"
      ],
      "text/latex": [
       "20348"
      ],
      "text/markdown": [
       "20348"
      ],
      "text/plain": [
       "[1] 20348"
      ]
     },
     "metadata": {},
     "output_type": "display_data"
    }
   ],
   "source": [
    "nrow(LR_Image)"
   ]
  },
  {
   "cell_type": "markdown",
   "metadata": {},
   "source": [
    "#### Identifying the number of times that a given image was presented as an option"
   ]
  },
  {
   "cell_type": "code",
   "execution_count": 64,
   "metadata": {},
   "outputs": [],
   "source": [
    "BothLandR <- LR_Image%>% group_by(LR_Image)%>% tally()"
   ]
  },
  {
   "cell_type": "code",
   "execution_count": 65,
   "metadata": {
    "scrolled": true
   },
   "outputs": [],
   "source": [
    "BothLandR$TotalCount<- BothLandR$n\n",
    "BothLandR <- BothLandR %>% \n",
    "  select(-n)"
   ]
  },
  {
   "cell_type": "code",
   "execution_count": 66,
   "metadata": {},
   "outputs": [
    {
     "data": {
      "text/html": [
       "182"
      ],
      "text/latex": [
       "182"
      ],
      "text/markdown": [
       "182"
      ],
      "text/plain": [
       "[1] 182"
      ]
     },
     "metadata": {},
     "output_type": "display_data"
    }
   ],
   "source": [
    "nrow(BothLandR)"
   ]
  },
  {
   "cell_type": "markdown",
   "metadata": {},
   "source": [
    "#### Identifying the number of times that a given image was selected"
   ]
  },
  {
   "cell_type": "code",
   "execution_count": 67,
   "metadata": {},
   "outputs": [],
   "source": [
    "Answer <- cyl_data%>% group_by(Answer)%>% tally()"
   ]
  },
  {
   "cell_type": "code",
   "execution_count": 68,
   "metadata": {
    "scrolled": true
   },
   "outputs": [],
   "source": [
    "Answer$AnswerCount<- Answer$n\n",
    "Answer <- Answer %>% \n",
    "  select(-n)"
   ]
  },
  {
   "cell_type": "code",
   "execution_count": 69,
   "metadata": {},
   "outputs": [
    {
     "data": {
      "text/html": [
       "182"
      ],
      "text/latex": [
       "182"
      ],
      "text/markdown": [
       "182"
      ],
      "text/plain": [
       "[1] 182"
      ]
     },
     "metadata": {},
     "output_type": "display_data"
    }
   ],
   "source": [
    "nrow(Answer)"
   ]
  },
  {
   "cell_type": "markdown",
   "metadata": {},
   "source": [
    "#### combining the two dataframes and finding the difference between presentations and selections"
   ]
  },
  {
   "cell_type": "code",
   "execution_count": 70,
   "metadata": {},
   "outputs": [],
   "source": [
    "rankSet <- cbind(BothLandR, Answer)"
   ]
  },
  {
   "cell_type": "code",
   "execution_count": 71,
   "metadata": {},
   "outputs": [],
   "source": [
    "rankSet$diff <-  rankSet$TotalCount - rankSet$AnswerCount"
   ]
  },
  {
   "cell_type": "code",
   "execution_count": 73,
   "metadata": {},
   "outputs": [],
   "source": [
    "rankSet$RankRatio <- rankSet$AnswerCount/rankSet$TotalCount"
   ]
  },
  {
   "cell_type": "code",
   "execution_count": 74,
   "metadata": {
    "scrolled": true
   },
   "outputs": [],
   "source": [
    "# Ordering output based on RankRatio\n",
    "rankSet<- rankSet[order(-rankSet$RankRatio),]\n",
    "\n",
    "# Adding a rankOder value based on RankRatio\n",
    "rankSet <- rankSet %>% mutate(rankOrder = 1:n())"
   ]
  },
  {
   "cell_type": "code",
   "execution_count": 75,
   "metadata": {
    "scrolled": true
   },
   "outputs": [
    {
     "data": {
      "text/html": [
       "<table>\n",
       "<caption>A data.frame: 182 × 7</caption>\n",
       "<thead>\n",
       "\t<tr><th scope=col>LR_Image</th><th scope=col>TotalCount</th><th scope=col>Answer</th><th scope=col>AnswerCount</th><th scope=col>diff</th><th scope=col>RankRatio</th><th scope=col>rankOrder</th></tr>\n",
       "\t<tr><th scope=col>&lt;fct&gt;</th><th scope=col>&lt;int&gt;</th><th scope=col>&lt;fct&gt;</th><th scope=col>&lt;int&gt;</th><th scope=col>&lt;int&gt;</th><th scope=col>&lt;dbl&gt;</th><th scope=col>&lt;int&gt;</th></tr>\n",
       "</thead>\n",
       "<tbody>\n",
       "\t<tr><td>CYA_3D_Cylinder_edit</td><td>114</td><td>CYA_3D_Cylinder_edit</td><td>112</td><td> 2</td><td>0.9824561</td><td> 1</td></tr>\n",
       "\t<tr><td>DAM3D060_F_CYDedit  </td><td> 96</td><td>DAM3D060_F_CYDedit  </td><td> 94</td><td> 2</td><td>0.9791667</td><td> 2</td></tr>\n",
       "\t<tr><td>CYD_2D_Cylinder_edit</td><td>113</td><td>CYD_2D_Cylinder_edit</td><td>110</td><td> 3</td><td>0.9734513</td><td> 3</td></tr>\n",
       "\t<tr><td>DAM3D027_F_CYDedit  </td><td>106</td><td>DAM3D027_F_CYDedit  </td><td>100</td><td> 6</td><td>0.9433962</td><td> 4</td></tr>\n",
       "\t<tr><td>DAM3D030_T_CYDedit  </td><td>108</td><td>DAM3D030_T_CYDedit  </td><td> 99</td><td> 9</td><td>0.9166667</td><td> 5</td></tr>\n",
       "\t<tr><td>DAM3D060_P_CYDedit  </td><td>104</td><td>DAM3D060_P_CYDedit  </td><td> 95</td><td> 9</td><td>0.9134615</td><td> 6</td></tr>\n",
       "\t<tr><td>DAM3D068_F_CYDedit  </td><td>121</td><td>DAM3D068_F_CYDedit  </td><td>110</td><td>11</td><td>0.9090909</td><td> 7</td></tr>\n",
       "\t<tr><td>DAM3D039_F_CYAedit  </td><td>113</td><td>DAM3D039_F_CYAedit  </td><td>102</td><td>11</td><td>0.9026549</td><td> 8</td></tr>\n",
       "\t<tr><td>DAM3D030_P_CYDedit  </td><td>119</td><td>DAM3D030_P_CYDedit  </td><td>107</td><td>12</td><td>0.8991597</td><td> 9</td></tr>\n",
       "\t<tr><td>DAM3D033_T_CYDedit  </td><td>117</td><td>DAM3D033_T_CYDedit  </td><td>105</td><td>12</td><td>0.8974359</td><td>10</td></tr>\n",
       "\t<tr><td>DAM3D011_T_CYDedit  </td><td>105</td><td>DAM3D011_T_CYDedit  </td><td> 93</td><td>12</td><td>0.8857143</td><td>11</td></tr>\n",
       "\t<tr><td>DAM3D012_F_CYDedit  </td><td>111</td><td>DAM3D012_F_CYDedit  </td><td> 98</td><td>13</td><td>0.8828829</td><td>12</td></tr>\n",
       "\t<tr><td>DAM3D039_T_CYDedit  </td><td>112</td><td>DAM3D039_T_CYDedit  </td><td> 98</td><td>14</td><td>0.8750000</td><td>13</td></tr>\n",
       "\t<tr><td>DAM3D065_P_CYAedit  </td><td>109</td><td>DAM3D065_P_CYAedit  </td><td> 95</td><td>14</td><td>0.8715596</td><td>14</td></tr>\n",
       "\t<tr><td>DAM3D019_P_CYDedit  </td><td>115</td><td>DAM3D019_P_CYDedit  </td><td>100</td><td>15</td><td>0.8695652</td><td>15</td></tr>\n",
       "\t<tr><td>DAM3D061_T_CYDedit  </td><td>100</td><td>DAM3D061_T_CYDedit  </td><td> 86</td><td>14</td><td>0.8600000</td><td>16</td></tr>\n",
       "\t<tr><td>DAM3D045_P_CYAedit  </td><td>121</td><td>DAM3D045_P_CYAedit  </td><td>104</td><td>17</td><td>0.8595041</td><td>17</td></tr>\n",
       "\t<tr><td>DAM3D068_T_CYDedit  </td><td>110</td><td>DAM3D068_T_CYDedit  </td><td> 94</td><td>16</td><td>0.8545455</td><td>18</td></tr>\n",
       "\t<tr><td>DAM3D045_T_CYDedit  </td><td>108</td><td>DAM3D045_T_CYDedit  </td><td> 92</td><td>16</td><td>0.8518519</td><td>19</td></tr>\n",
       "\t<tr><td>DAM3D027_T_CYDedit  </td><td>120</td><td>DAM3D027_T_CYDedit  </td><td>102</td><td>18</td><td>0.8500000</td><td>20</td></tr>\n",
       "\t<tr><td>DAM3D060_T_CYAedit  </td><td> 93</td><td>DAM3D060_T_CYAedit  </td><td> 78</td><td>15</td><td>0.8387097</td><td>21</td></tr>\n",
       "\t<tr><td>DAM3D005_T_CYDedit  </td><td>125</td><td>DAM3D005_T_CYDedit  </td><td>104</td><td>21</td><td>0.8320000</td><td>22</td></tr>\n",
       "\t<tr><td>DAM3D030_F_CYAedit  </td><td>123</td><td>DAM3D030_F_CYAedit  </td><td>102</td><td>21</td><td>0.8292683</td><td>23</td></tr>\n",
       "\t<tr><td>DAM3D013_F_CYDedit  </td><td>103</td><td>DAM3D013_F_CYDedit  </td><td> 85</td><td>18</td><td>0.8252427</td><td>24</td></tr>\n",
       "\t<tr><td>DAM3D013_P_CYAedit  </td><td>116</td><td>DAM3D013_P_CYAedit  </td><td> 94</td><td>22</td><td>0.8103448</td><td>25</td></tr>\n",
       "\t<tr><td>DAM3D009_T_CYDedit  </td><td>121</td><td>DAM3D009_T_CYDedit  </td><td> 98</td><td>23</td><td>0.8099174</td><td>26</td></tr>\n",
       "\t<tr><td>DAM3D033_P_CYDedit  </td><td>124</td><td>DAM3D033_P_CYDedit  </td><td> 99</td><td>25</td><td>0.7983871</td><td>27</td></tr>\n",
       "\t<tr><td>DAM3D053_P_CYDedit  </td><td>100</td><td>DAM3D053_P_CYDedit  </td><td> 79</td><td>21</td><td>0.7900000</td><td>28</td></tr>\n",
       "\t<tr><td>DAM3D011_P_CYDedit  </td><td>118</td><td>DAM3D011_P_CYDedit  </td><td> 93</td><td>25</td><td>0.7881356</td><td>29</td></tr>\n",
       "\t<tr><td>DAM3D061_P_CYAedit  </td><td>117</td><td>DAM3D061_P_CYAedit  </td><td> 92</td><td>25</td><td>0.7863248</td><td>30</td></tr>\n",
       "\t<tr><td>⋮</td><td>⋮</td><td>⋮</td><td>⋮</td><td>⋮</td><td>⋮</td><td>⋮</td></tr>\n",
       "\t<tr><td>DAM3D003_P_CYAedit</td><td> 99</td><td>DAM3D003_P_CYAedit</td><td>23</td><td> 76</td><td>0.23232323</td><td>153</td></tr>\n",
       "\t<tr><td>DAM3D062_T_CYDedit</td><td>104</td><td>DAM3D062_T_CYDedit</td><td>24</td><td> 80</td><td>0.23076923</td><td>154</td></tr>\n",
       "\t<tr><td>DAM3D006_F_CYAedit</td><td>109</td><td>DAM3D006_F_CYAedit</td><td>25</td><td> 84</td><td>0.22935780</td><td>155</td></tr>\n",
       "\t<tr><td>DAM3D037_F_CYDedit</td><td>111</td><td>DAM3D037_F_CYDedit</td><td>25</td><td> 86</td><td>0.22522523</td><td>156</td></tr>\n",
       "\t<tr><td>DAM3D031_T_CYAedit</td><td>116</td><td>DAM3D031_T_CYAedit</td><td>25</td><td> 91</td><td>0.21551724</td><td>157</td></tr>\n",
       "\t<tr><td>DAM3D046_T_CYAedit</td><td>110</td><td>DAM3D046_T_CYAedit</td><td>23</td><td> 87</td><td>0.20909091</td><td>158</td></tr>\n",
       "\t<tr><td>DAM3D021_T_CYAedit</td><td>134</td><td>DAM3D021_T_CYAedit</td><td>27</td><td>107</td><td>0.20149254</td><td>159</td></tr>\n",
       "\t<tr><td>DAM3D050_P_CYDedit</td><td>117</td><td>DAM3D050_P_CYDedit</td><td>23</td><td> 94</td><td>0.19658120</td><td>160</td></tr>\n",
       "\t<tr><td>DAM3D008_T_CYAedit</td><td>105</td><td>DAM3D008_T_CYAedit</td><td>20</td><td> 85</td><td>0.19047619</td><td>161</td></tr>\n",
       "\t<tr><td>DAM3D034_F_CYAedit</td><td>102</td><td>DAM3D034_F_CYAedit</td><td>19</td><td> 83</td><td>0.18627451</td><td>162</td></tr>\n",
       "\t<tr><td>DAM3D052_P_CYAedit</td><td>124</td><td>DAM3D052_P_CYAedit</td><td>23</td><td>101</td><td>0.18548387</td><td>163</td></tr>\n",
       "\t<tr><td>DAM3D058_F_CYAedit</td><td>105</td><td>DAM3D058_F_CYAedit</td><td>19</td><td> 86</td><td>0.18095238</td><td>164</td></tr>\n",
       "\t<tr><td>DAM3D067_P_CYDedit</td><td>111</td><td>DAM3D067_P_CYDedit</td><td>20</td><td> 91</td><td>0.18018018</td><td>165</td></tr>\n",
       "\t<tr><td>DAM3D037_T_CYAedit</td><td>109</td><td>DAM3D037_T_CYAedit</td><td>17</td><td> 92</td><td>0.15596330</td><td>166</td></tr>\n",
       "\t<tr><td>DAM3D003_F_CYAedit</td><td>115</td><td>DAM3D003_F_CYAedit</td><td>16</td><td> 99</td><td>0.13913043</td><td>167</td></tr>\n",
       "\t<tr><td>DAM3D055_T_CYAedit</td><td>109</td><td>DAM3D055_T_CYAedit</td><td>15</td><td> 94</td><td>0.13761468</td><td>168</td></tr>\n",
       "\t<tr><td>DAM3D010_P_CYAedit</td><td> 98</td><td>DAM3D010_P_CYAedit</td><td>13</td><td> 85</td><td>0.13265306</td><td>169</td></tr>\n",
       "\t<tr><td>DAM3D057_T_CYAedit</td><td>101</td><td>DAM3D057_T_CYAedit</td><td>13</td><td> 88</td><td>0.12871287</td><td>170</td></tr>\n",
       "\t<tr><td>DAM3D021_P_CYDedit</td><td>109</td><td>DAM3D021_P_CYDedit</td><td>14</td><td> 95</td><td>0.12844037</td><td>171</td></tr>\n",
       "\t<tr><td>DAM3D003_T_CYAedit</td><td>120</td><td>DAM3D003_T_CYAedit</td><td>14</td><td>106</td><td>0.11666667</td><td>172</td></tr>\n",
       "\t<tr><td>DAM3D022_F_CYAedit</td><td>113</td><td>DAM3D022_F_CYAedit</td><td>13</td><td>100</td><td>0.11504425</td><td>173</td></tr>\n",
       "\t<tr><td>DAM3D069_F_CYAedit</td><td> 97</td><td>DAM3D069_F_CYAedit</td><td>11</td><td> 86</td><td>0.11340206</td><td>174</td></tr>\n",
       "\t<tr><td>DAM3D035_P_CYDedit</td><td>114</td><td>DAM3D035_P_CYDedit</td><td>12</td><td>102</td><td>0.10526316</td><td>175</td></tr>\n",
       "\t<tr><td>DAM3D055_F_CYAedit</td><td>102</td><td>DAM3D055_F_CYAedit</td><td>10</td><td> 92</td><td>0.09803922</td><td>176</td></tr>\n",
       "\t<tr><td>DAM3D055_P_CYDedit</td><td>113</td><td>DAM3D055_P_CYDedit</td><td>11</td><td>102</td><td>0.09734513</td><td>177</td></tr>\n",
       "\t<tr><td>DAM3D010_F_CYAedit</td><td> 99</td><td>DAM3D010_F_CYAedit</td><td> 7</td><td> 92</td><td>0.07070707</td><td>178</td></tr>\n",
       "\t<tr><td>DAM3D018_F_CYDedit</td><td>107</td><td>DAM3D018_F_CYDedit</td><td> 7</td><td>100</td><td>0.06542056</td><td>179</td></tr>\n",
       "\t<tr><td>DAM3D022_T_CYDedit</td><td>109</td><td>DAM3D022_T_CYDedit</td><td> 7</td><td>102</td><td>0.06422018</td><td>180</td></tr>\n",
       "\t<tr><td>DAM3D022_P_CYDedit</td><td>120</td><td>DAM3D022_P_CYDedit</td><td> 6</td><td>114</td><td>0.05000000</td><td>181</td></tr>\n",
       "\t<tr><td>DAM3D057_P_CYAedit</td><td>111</td><td>DAM3D057_P_CYAedit</td><td> 4</td><td>107</td><td>0.03603604</td><td>182</td></tr>\n",
       "</tbody>\n",
       "</table>\n"
      ],
      "text/latex": [
       "A data.frame: 182 × 7\n",
       "\\begin{tabular}{r|lllllll}\n",
       " LR\\_Image & TotalCount & Answer & AnswerCount & diff & RankRatio & rankOrder\\\\\n",
       " <fct> & <int> & <fct> & <int> & <int> & <dbl> & <int>\\\\\n",
       "\\hline\n",
       "\t CYA\\_3D\\_Cylinder\\_edit & 114 & CYA\\_3D\\_Cylinder\\_edit & 112 &  2 & 0.9824561 &  1\\\\\n",
       "\t DAM3D060\\_F\\_CYDedit   &  96 & DAM3D060\\_F\\_CYDedit   &  94 &  2 & 0.9791667 &  2\\\\\n",
       "\t CYD\\_2D\\_Cylinder\\_edit & 113 & CYD\\_2D\\_Cylinder\\_edit & 110 &  3 & 0.9734513 &  3\\\\\n",
       "\t DAM3D027\\_F\\_CYDedit   & 106 & DAM3D027\\_F\\_CYDedit   & 100 &  6 & 0.9433962 &  4\\\\\n",
       "\t DAM3D030\\_T\\_CYDedit   & 108 & DAM3D030\\_T\\_CYDedit   &  99 &  9 & 0.9166667 &  5\\\\\n",
       "\t DAM3D060\\_P\\_CYDedit   & 104 & DAM3D060\\_P\\_CYDedit   &  95 &  9 & 0.9134615 &  6\\\\\n",
       "\t DAM3D068\\_F\\_CYDedit   & 121 & DAM3D068\\_F\\_CYDedit   & 110 & 11 & 0.9090909 &  7\\\\\n",
       "\t DAM3D039\\_F\\_CYAedit   & 113 & DAM3D039\\_F\\_CYAedit   & 102 & 11 & 0.9026549 &  8\\\\\n",
       "\t DAM3D030\\_P\\_CYDedit   & 119 & DAM3D030\\_P\\_CYDedit   & 107 & 12 & 0.8991597 &  9\\\\\n",
       "\t DAM3D033\\_T\\_CYDedit   & 117 & DAM3D033\\_T\\_CYDedit   & 105 & 12 & 0.8974359 & 10\\\\\n",
       "\t DAM3D011\\_T\\_CYDedit   & 105 & DAM3D011\\_T\\_CYDedit   &  93 & 12 & 0.8857143 & 11\\\\\n",
       "\t DAM3D012\\_F\\_CYDedit   & 111 & DAM3D012\\_F\\_CYDedit   &  98 & 13 & 0.8828829 & 12\\\\\n",
       "\t DAM3D039\\_T\\_CYDedit   & 112 & DAM3D039\\_T\\_CYDedit   &  98 & 14 & 0.8750000 & 13\\\\\n",
       "\t DAM3D065\\_P\\_CYAedit   & 109 & DAM3D065\\_P\\_CYAedit   &  95 & 14 & 0.8715596 & 14\\\\\n",
       "\t DAM3D019\\_P\\_CYDedit   & 115 & DAM3D019\\_P\\_CYDedit   & 100 & 15 & 0.8695652 & 15\\\\\n",
       "\t DAM3D061\\_T\\_CYDedit   & 100 & DAM3D061\\_T\\_CYDedit   &  86 & 14 & 0.8600000 & 16\\\\\n",
       "\t DAM3D045\\_P\\_CYAedit   & 121 & DAM3D045\\_P\\_CYAedit   & 104 & 17 & 0.8595041 & 17\\\\\n",
       "\t DAM3D068\\_T\\_CYDedit   & 110 & DAM3D068\\_T\\_CYDedit   &  94 & 16 & 0.8545455 & 18\\\\\n",
       "\t DAM3D045\\_T\\_CYDedit   & 108 & DAM3D045\\_T\\_CYDedit   &  92 & 16 & 0.8518519 & 19\\\\\n",
       "\t DAM3D027\\_T\\_CYDedit   & 120 & DAM3D027\\_T\\_CYDedit   & 102 & 18 & 0.8500000 & 20\\\\\n",
       "\t DAM3D060\\_T\\_CYAedit   &  93 & DAM3D060\\_T\\_CYAedit   &  78 & 15 & 0.8387097 & 21\\\\\n",
       "\t DAM3D005\\_T\\_CYDedit   & 125 & DAM3D005\\_T\\_CYDedit   & 104 & 21 & 0.8320000 & 22\\\\\n",
       "\t DAM3D030\\_F\\_CYAedit   & 123 & DAM3D030\\_F\\_CYAedit   & 102 & 21 & 0.8292683 & 23\\\\\n",
       "\t DAM3D013\\_F\\_CYDedit   & 103 & DAM3D013\\_F\\_CYDedit   &  85 & 18 & 0.8252427 & 24\\\\\n",
       "\t DAM3D013\\_P\\_CYAedit   & 116 & DAM3D013\\_P\\_CYAedit   &  94 & 22 & 0.8103448 & 25\\\\\n",
       "\t DAM3D009\\_T\\_CYDedit   & 121 & DAM3D009\\_T\\_CYDedit   &  98 & 23 & 0.8099174 & 26\\\\\n",
       "\t DAM3D033\\_P\\_CYDedit   & 124 & DAM3D033\\_P\\_CYDedit   &  99 & 25 & 0.7983871 & 27\\\\\n",
       "\t DAM3D053\\_P\\_CYDedit   & 100 & DAM3D053\\_P\\_CYDedit   &  79 & 21 & 0.7900000 & 28\\\\\n",
       "\t DAM3D011\\_P\\_CYDedit   & 118 & DAM3D011\\_P\\_CYDedit   &  93 & 25 & 0.7881356 & 29\\\\\n",
       "\t DAM3D061\\_P\\_CYAedit   & 117 & DAM3D061\\_P\\_CYAedit   &  92 & 25 & 0.7863248 & 30\\\\\n",
       "\t ⋮ & ⋮ & ⋮ & ⋮ & ⋮ & ⋮ & ⋮\\\\\n",
       "\t DAM3D003\\_P\\_CYAedit &  99 & DAM3D003\\_P\\_CYAedit & 23 &  76 & 0.23232323 & 153\\\\\n",
       "\t DAM3D062\\_T\\_CYDedit & 104 & DAM3D062\\_T\\_CYDedit & 24 &  80 & 0.23076923 & 154\\\\\n",
       "\t DAM3D006\\_F\\_CYAedit & 109 & DAM3D006\\_F\\_CYAedit & 25 &  84 & 0.22935780 & 155\\\\\n",
       "\t DAM3D037\\_F\\_CYDedit & 111 & DAM3D037\\_F\\_CYDedit & 25 &  86 & 0.22522523 & 156\\\\\n",
       "\t DAM3D031\\_T\\_CYAedit & 116 & DAM3D031\\_T\\_CYAedit & 25 &  91 & 0.21551724 & 157\\\\\n",
       "\t DAM3D046\\_T\\_CYAedit & 110 & DAM3D046\\_T\\_CYAedit & 23 &  87 & 0.20909091 & 158\\\\\n",
       "\t DAM3D021\\_T\\_CYAedit & 134 & DAM3D021\\_T\\_CYAedit & 27 & 107 & 0.20149254 & 159\\\\\n",
       "\t DAM3D050\\_P\\_CYDedit & 117 & DAM3D050\\_P\\_CYDedit & 23 &  94 & 0.19658120 & 160\\\\\n",
       "\t DAM3D008\\_T\\_CYAedit & 105 & DAM3D008\\_T\\_CYAedit & 20 &  85 & 0.19047619 & 161\\\\\n",
       "\t DAM3D034\\_F\\_CYAedit & 102 & DAM3D034\\_F\\_CYAedit & 19 &  83 & 0.18627451 & 162\\\\\n",
       "\t DAM3D052\\_P\\_CYAedit & 124 & DAM3D052\\_P\\_CYAedit & 23 & 101 & 0.18548387 & 163\\\\\n",
       "\t DAM3D058\\_F\\_CYAedit & 105 & DAM3D058\\_F\\_CYAedit & 19 &  86 & 0.18095238 & 164\\\\\n",
       "\t DAM3D067\\_P\\_CYDedit & 111 & DAM3D067\\_P\\_CYDedit & 20 &  91 & 0.18018018 & 165\\\\\n",
       "\t DAM3D037\\_T\\_CYAedit & 109 & DAM3D037\\_T\\_CYAedit & 17 &  92 & 0.15596330 & 166\\\\\n",
       "\t DAM3D003\\_F\\_CYAedit & 115 & DAM3D003\\_F\\_CYAedit & 16 &  99 & 0.13913043 & 167\\\\\n",
       "\t DAM3D055\\_T\\_CYAedit & 109 & DAM3D055\\_T\\_CYAedit & 15 &  94 & 0.13761468 & 168\\\\\n",
       "\t DAM3D010\\_P\\_CYAedit &  98 & DAM3D010\\_P\\_CYAedit & 13 &  85 & 0.13265306 & 169\\\\\n",
       "\t DAM3D057\\_T\\_CYAedit & 101 & DAM3D057\\_T\\_CYAedit & 13 &  88 & 0.12871287 & 170\\\\\n",
       "\t DAM3D021\\_P\\_CYDedit & 109 & DAM3D021\\_P\\_CYDedit & 14 &  95 & 0.12844037 & 171\\\\\n",
       "\t DAM3D003\\_T\\_CYAedit & 120 & DAM3D003\\_T\\_CYAedit & 14 & 106 & 0.11666667 & 172\\\\\n",
       "\t DAM3D022\\_F\\_CYAedit & 113 & DAM3D022\\_F\\_CYAedit & 13 & 100 & 0.11504425 & 173\\\\\n",
       "\t DAM3D069\\_F\\_CYAedit &  97 & DAM3D069\\_F\\_CYAedit & 11 &  86 & 0.11340206 & 174\\\\\n",
       "\t DAM3D035\\_P\\_CYDedit & 114 & DAM3D035\\_P\\_CYDedit & 12 & 102 & 0.10526316 & 175\\\\\n",
       "\t DAM3D055\\_F\\_CYAedit & 102 & DAM3D055\\_F\\_CYAedit & 10 &  92 & 0.09803922 & 176\\\\\n",
       "\t DAM3D055\\_P\\_CYDedit & 113 & DAM3D055\\_P\\_CYDedit & 11 & 102 & 0.09734513 & 177\\\\\n",
       "\t DAM3D010\\_F\\_CYAedit &  99 & DAM3D010\\_F\\_CYAedit &  7 &  92 & 0.07070707 & 178\\\\\n",
       "\t DAM3D018\\_F\\_CYDedit & 107 & DAM3D018\\_F\\_CYDedit &  7 & 100 & 0.06542056 & 179\\\\\n",
       "\t DAM3D022\\_T\\_CYDedit & 109 & DAM3D022\\_T\\_CYDedit &  7 & 102 & 0.06422018 & 180\\\\\n",
       "\t DAM3D022\\_P\\_CYDedit & 120 & DAM3D022\\_P\\_CYDedit &  6 & 114 & 0.05000000 & 181\\\\\n",
       "\t DAM3D057\\_P\\_CYAedit & 111 & DAM3D057\\_P\\_CYAedit &  4 & 107 & 0.03603604 & 182\\\\\n",
       "\\end{tabular}\n"
      ],
      "text/markdown": [
       "\n",
       "A data.frame: 182 × 7\n",
       "\n",
       "| LR_Image &lt;fct&gt; | TotalCount &lt;int&gt; | Answer &lt;fct&gt; | AnswerCount &lt;int&gt; | diff &lt;int&gt; | RankRatio &lt;dbl&gt; | rankOrder &lt;int&gt; |\n",
       "|---|---|---|---|---|---|---|\n",
       "| CYA_3D_Cylinder_edit | 114 | CYA_3D_Cylinder_edit | 112 |  2 | 0.9824561 |  1 |\n",
       "| DAM3D060_F_CYDedit   |  96 | DAM3D060_F_CYDedit   |  94 |  2 | 0.9791667 |  2 |\n",
       "| CYD_2D_Cylinder_edit | 113 | CYD_2D_Cylinder_edit | 110 |  3 | 0.9734513 |  3 |\n",
       "| DAM3D027_F_CYDedit   | 106 | DAM3D027_F_CYDedit   | 100 |  6 | 0.9433962 |  4 |\n",
       "| DAM3D030_T_CYDedit   | 108 | DAM3D030_T_CYDedit   |  99 |  9 | 0.9166667 |  5 |\n",
       "| DAM3D060_P_CYDedit   | 104 | DAM3D060_P_CYDedit   |  95 |  9 | 0.9134615 |  6 |\n",
       "| DAM3D068_F_CYDedit   | 121 | DAM3D068_F_CYDedit   | 110 | 11 | 0.9090909 |  7 |\n",
       "| DAM3D039_F_CYAedit   | 113 | DAM3D039_F_CYAedit   | 102 | 11 | 0.9026549 |  8 |\n",
       "| DAM3D030_P_CYDedit   | 119 | DAM3D030_P_CYDedit   | 107 | 12 | 0.8991597 |  9 |\n",
       "| DAM3D033_T_CYDedit   | 117 | DAM3D033_T_CYDedit   | 105 | 12 | 0.8974359 | 10 |\n",
       "| DAM3D011_T_CYDedit   | 105 | DAM3D011_T_CYDedit   |  93 | 12 | 0.8857143 | 11 |\n",
       "| DAM3D012_F_CYDedit   | 111 | DAM3D012_F_CYDedit   |  98 | 13 | 0.8828829 | 12 |\n",
       "| DAM3D039_T_CYDedit   | 112 | DAM3D039_T_CYDedit   |  98 | 14 | 0.8750000 | 13 |\n",
       "| DAM3D065_P_CYAedit   | 109 | DAM3D065_P_CYAedit   |  95 | 14 | 0.8715596 | 14 |\n",
       "| DAM3D019_P_CYDedit   | 115 | DAM3D019_P_CYDedit   | 100 | 15 | 0.8695652 | 15 |\n",
       "| DAM3D061_T_CYDedit   | 100 | DAM3D061_T_CYDedit   |  86 | 14 | 0.8600000 | 16 |\n",
       "| DAM3D045_P_CYAedit   | 121 | DAM3D045_P_CYAedit   | 104 | 17 | 0.8595041 | 17 |\n",
       "| DAM3D068_T_CYDedit   | 110 | DAM3D068_T_CYDedit   |  94 | 16 | 0.8545455 | 18 |\n",
       "| DAM3D045_T_CYDedit   | 108 | DAM3D045_T_CYDedit   |  92 | 16 | 0.8518519 | 19 |\n",
       "| DAM3D027_T_CYDedit   | 120 | DAM3D027_T_CYDedit   | 102 | 18 | 0.8500000 | 20 |\n",
       "| DAM3D060_T_CYAedit   |  93 | DAM3D060_T_CYAedit   |  78 | 15 | 0.8387097 | 21 |\n",
       "| DAM3D005_T_CYDedit   | 125 | DAM3D005_T_CYDedit   | 104 | 21 | 0.8320000 | 22 |\n",
       "| DAM3D030_F_CYAedit   | 123 | DAM3D030_F_CYAedit   | 102 | 21 | 0.8292683 | 23 |\n",
       "| DAM3D013_F_CYDedit   | 103 | DAM3D013_F_CYDedit   |  85 | 18 | 0.8252427 | 24 |\n",
       "| DAM3D013_P_CYAedit   | 116 | DAM3D013_P_CYAedit   |  94 | 22 | 0.8103448 | 25 |\n",
       "| DAM3D009_T_CYDedit   | 121 | DAM3D009_T_CYDedit   |  98 | 23 | 0.8099174 | 26 |\n",
       "| DAM3D033_P_CYDedit   | 124 | DAM3D033_P_CYDedit   |  99 | 25 | 0.7983871 | 27 |\n",
       "| DAM3D053_P_CYDedit   | 100 | DAM3D053_P_CYDedit   |  79 | 21 | 0.7900000 | 28 |\n",
       "| DAM3D011_P_CYDedit   | 118 | DAM3D011_P_CYDedit   |  93 | 25 | 0.7881356 | 29 |\n",
       "| DAM3D061_P_CYAedit   | 117 | DAM3D061_P_CYAedit   |  92 | 25 | 0.7863248 | 30 |\n",
       "| ⋮ | ⋮ | ⋮ | ⋮ | ⋮ | ⋮ | ⋮ |\n",
       "| DAM3D003_P_CYAedit |  99 | DAM3D003_P_CYAedit | 23 |  76 | 0.23232323 | 153 |\n",
       "| DAM3D062_T_CYDedit | 104 | DAM3D062_T_CYDedit | 24 |  80 | 0.23076923 | 154 |\n",
       "| DAM3D006_F_CYAedit | 109 | DAM3D006_F_CYAedit | 25 |  84 | 0.22935780 | 155 |\n",
       "| DAM3D037_F_CYDedit | 111 | DAM3D037_F_CYDedit | 25 |  86 | 0.22522523 | 156 |\n",
       "| DAM3D031_T_CYAedit | 116 | DAM3D031_T_CYAedit | 25 |  91 | 0.21551724 | 157 |\n",
       "| DAM3D046_T_CYAedit | 110 | DAM3D046_T_CYAedit | 23 |  87 | 0.20909091 | 158 |\n",
       "| DAM3D021_T_CYAedit | 134 | DAM3D021_T_CYAedit | 27 | 107 | 0.20149254 | 159 |\n",
       "| DAM3D050_P_CYDedit | 117 | DAM3D050_P_CYDedit | 23 |  94 | 0.19658120 | 160 |\n",
       "| DAM3D008_T_CYAedit | 105 | DAM3D008_T_CYAedit | 20 |  85 | 0.19047619 | 161 |\n",
       "| DAM3D034_F_CYAedit | 102 | DAM3D034_F_CYAedit | 19 |  83 | 0.18627451 | 162 |\n",
       "| DAM3D052_P_CYAedit | 124 | DAM3D052_P_CYAedit | 23 | 101 | 0.18548387 | 163 |\n",
       "| DAM3D058_F_CYAedit | 105 | DAM3D058_F_CYAedit | 19 |  86 | 0.18095238 | 164 |\n",
       "| DAM3D067_P_CYDedit | 111 | DAM3D067_P_CYDedit | 20 |  91 | 0.18018018 | 165 |\n",
       "| DAM3D037_T_CYAedit | 109 | DAM3D037_T_CYAedit | 17 |  92 | 0.15596330 | 166 |\n",
       "| DAM3D003_F_CYAedit | 115 | DAM3D003_F_CYAedit | 16 |  99 | 0.13913043 | 167 |\n",
       "| DAM3D055_T_CYAedit | 109 | DAM3D055_T_CYAedit | 15 |  94 | 0.13761468 | 168 |\n",
       "| DAM3D010_P_CYAedit |  98 | DAM3D010_P_CYAedit | 13 |  85 | 0.13265306 | 169 |\n",
       "| DAM3D057_T_CYAedit | 101 | DAM3D057_T_CYAedit | 13 |  88 | 0.12871287 | 170 |\n",
       "| DAM3D021_P_CYDedit | 109 | DAM3D021_P_CYDedit | 14 |  95 | 0.12844037 | 171 |\n",
       "| DAM3D003_T_CYAedit | 120 | DAM3D003_T_CYAedit | 14 | 106 | 0.11666667 | 172 |\n",
       "| DAM3D022_F_CYAedit | 113 | DAM3D022_F_CYAedit | 13 | 100 | 0.11504425 | 173 |\n",
       "| DAM3D069_F_CYAedit |  97 | DAM3D069_F_CYAedit | 11 |  86 | 0.11340206 | 174 |\n",
       "| DAM3D035_P_CYDedit | 114 | DAM3D035_P_CYDedit | 12 | 102 | 0.10526316 | 175 |\n",
       "| DAM3D055_F_CYAedit | 102 | DAM3D055_F_CYAedit | 10 |  92 | 0.09803922 | 176 |\n",
       "| DAM3D055_P_CYDedit | 113 | DAM3D055_P_CYDedit | 11 | 102 | 0.09734513 | 177 |\n",
       "| DAM3D010_F_CYAedit |  99 | DAM3D010_F_CYAedit |  7 |  92 | 0.07070707 | 178 |\n",
       "| DAM3D018_F_CYDedit | 107 | DAM3D018_F_CYDedit |  7 | 100 | 0.06542056 | 179 |\n",
       "| DAM3D022_T_CYDedit | 109 | DAM3D022_T_CYDedit |  7 | 102 | 0.06422018 | 180 |\n",
       "| DAM3D022_P_CYDedit | 120 | DAM3D022_P_CYDedit |  6 | 114 | 0.05000000 | 181 |\n",
       "| DAM3D057_P_CYAedit | 111 | DAM3D057_P_CYAedit |  4 | 107 | 0.03603604 | 182 |\n",
       "\n"
      ],
      "text/plain": [
       "    LR_Image             TotalCount Answer               AnswerCount diff\n",
       "1   CYA_3D_Cylinder_edit 114        CYA_3D_Cylinder_edit 112          2  \n",
       "2   DAM3D060_F_CYDedit    96        DAM3D060_F_CYDedit    94          2  \n",
       "3   CYD_2D_Cylinder_edit 113        CYD_2D_Cylinder_edit 110          3  \n",
       "4   DAM3D027_F_CYDedit   106        DAM3D027_F_CYDedit   100          6  \n",
       "5   DAM3D030_T_CYDedit   108        DAM3D030_T_CYDedit    99          9  \n",
       "6   DAM3D060_P_CYDedit   104        DAM3D060_P_CYDedit    95          9  \n",
       "7   DAM3D068_F_CYDedit   121        DAM3D068_F_CYDedit   110         11  \n",
       "8   DAM3D039_F_CYAedit   113        DAM3D039_F_CYAedit   102         11  \n",
       "9   DAM3D030_P_CYDedit   119        DAM3D030_P_CYDedit   107         12  \n",
       "10  DAM3D033_T_CYDedit   117        DAM3D033_T_CYDedit   105         12  \n",
       "11  DAM3D011_T_CYDedit   105        DAM3D011_T_CYDedit    93         12  \n",
       "12  DAM3D012_F_CYDedit   111        DAM3D012_F_CYDedit    98         13  \n",
       "13  DAM3D039_T_CYDedit   112        DAM3D039_T_CYDedit    98         14  \n",
       "14  DAM3D065_P_CYAedit   109        DAM3D065_P_CYAedit    95         14  \n",
       "15  DAM3D019_P_CYDedit   115        DAM3D019_P_CYDedit   100         15  \n",
       "16  DAM3D061_T_CYDedit   100        DAM3D061_T_CYDedit    86         14  \n",
       "17  DAM3D045_P_CYAedit   121        DAM3D045_P_CYAedit   104         17  \n",
       "18  DAM3D068_T_CYDedit   110        DAM3D068_T_CYDedit    94         16  \n",
       "19  DAM3D045_T_CYDedit   108        DAM3D045_T_CYDedit    92         16  \n",
       "20  DAM3D027_T_CYDedit   120        DAM3D027_T_CYDedit   102         18  \n",
       "21  DAM3D060_T_CYAedit    93        DAM3D060_T_CYAedit    78         15  \n",
       "22  DAM3D005_T_CYDedit   125        DAM3D005_T_CYDedit   104         21  \n",
       "23  DAM3D030_F_CYAedit   123        DAM3D030_F_CYAedit   102         21  \n",
       "24  DAM3D013_F_CYDedit   103        DAM3D013_F_CYDedit    85         18  \n",
       "25  DAM3D013_P_CYAedit   116        DAM3D013_P_CYAedit    94         22  \n",
       "26  DAM3D009_T_CYDedit   121        DAM3D009_T_CYDedit    98         23  \n",
       "27  DAM3D033_P_CYDedit   124        DAM3D033_P_CYDedit    99         25  \n",
       "28  DAM3D053_P_CYDedit   100        DAM3D053_P_CYDedit    79         21  \n",
       "29  DAM3D011_P_CYDedit   118        DAM3D011_P_CYDedit    93         25  \n",
       "30  DAM3D061_P_CYAedit   117        DAM3D061_P_CYAedit    92         25  \n",
       "⋮   ⋮                    ⋮          ⋮                    ⋮           ⋮   \n",
       "153 DAM3D003_P_CYAedit    99        DAM3D003_P_CYAedit   23           76 \n",
       "154 DAM3D062_T_CYDedit   104        DAM3D062_T_CYDedit   24           80 \n",
       "155 DAM3D006_F_CYAedit   109        DAM3D006_F_CYAedit   25           84 \n",
       "156 DAM3D037_F_CYDedit   111        DAM3D037_F_CYDedit   25           86 \n",
       "157 DAM3D031_T_CYAedit   116        DAM3D031_T_CYAedit   25           91 \n",
       "158 DAM3D046_T_CYAedit   110        DAM3D046_T_CYAedit   23           87 \n",
       "159 DAM3D021_T_CYAedit   134        DAM3D021_T_CYAedit   27          107 \n",
       "160 DAM3D050_P_CYDedit   117        DAM3D050_P_CYDedit   23           94 \n",
       "161 DAM3D008_T_CYAedit   105        DAM3D008_T_CYAedit   20           85 \n",
       "162 DAM3D034_F_CYAedit   102        DAM3D034_F_CYAedit   19           83 \n",
       "163 DAM3D052_P_CYAedit   124        DAM3D052_P_CYAedit   23          101 \n",
       "164 DAM3D058_F_CYAedit   105        DAM3D058_F_CYAedit   19           86 \n",
       "165 DAM3D067_P_CYDedit   111        DAM3D067_P_CYDedit   20           91 \n",
       "166 DAM3D037_T_CYAedit   109        DAM3D037_T_CYAedit   17           92 \n",
       "167 DAM3D003_F_CYAedit   115        DAM3D003_F_CYAedit   16           99 \n",
       "168 DAM3D055_T_CYAedit   109        DAM3D055_T_CYAedit   15           94 \n",
       "169 DAM3D010_P_CYAedit    98        DAM3D010_P_CYAedit   13           85 \n",
       "170 DAM3D057_T_CYAedit   101        DAM3D057_T_CYAedit   13           88 \n",
       "171 DAM3D021_P_CYDedit   109        DAM3D021_P_CYDedit   14           95 \n",
       "172 DAM3D003_T_CYAedit   120        DAM3D003_T_CYAedit   14          106 \n",
       "173 DAM3D022_F_CYAedit   113        DAM3D022_F_CYAedit   13          100 \n",
       "174 DAM3D069_F_CYAedit    97        DAM3D069_F_CYAedit   11           86 \n",
       "175 DAM3D035_P_CYDedit   114        DAM3D035_P_CYDedit   12          102 \n",
       "176 DAM3D055_F_CYAedit   102        DAM3D055_F_CYAedit   10           92 \n",
       "177 DAM3D055_P_CYDedit   113        DAM3D055_P_CYDedit   11          102 \n",
       "178 DAM3D010_F_CYAedit    99        DAM3D010_F_CYAedit    7           92 \n",
       "179 DAM3D018_F_CYDedit   107        DAM3D018_F_CYDedit    7          100 \n",
       "180 DAM3D022_T_CYDedit   109        DAM3D022_T_CYDedit    7          102 \n",
       "181 DAM3D022_P_CYDedit   120        DAM3D022_P_CYDedit    6          114 \n",
       "182 DAM3D057_P_CYAedit   111        DAM3D057_P_CYAedit    4          107 \n",
       "    RankRatio  rankOrder\n",
       "1   0.9824561   1       \n",
       "2   0.9791667   2       \n",
       "3   0.9734513   3       \n",
       "4   0.9433962   4       \n",
       "5   0.9166667   5       \n",
       "6   0.9134615   6       \n",
       "7   0.9090909   7       \n",
       "8   0.9026549   8       \n",
       "9   0.8991597   9       \n",
       "10  0.8974359  10       \n",
       "11  0.8857143  11       \n",
       "12  0.8828829  12       \n",
       "13  0.8750000  13       \n",
       "14  0.8715596  14       \n",
       "15  0.8695652  15       \n",
       "16  0.8600000  16       \n",
       "17  0.8595041  17       \n",
       "18  0.8545455  18       \n",
       "19  0.8518519  19       \n",
       "20  0.8500000  20       \n",
       "21  0.8387097  21       \n",
       "22  0.8320000  22       \n",
       "23  0.8292683  23       \n",
       "24  0.8252427  24       \n",
       "25  0.8103448  25       \n",
       "26  0.8099174  26       \n",
       "27  0.7983871  27       \n",
       "28  0.7900000  28       \n",
       "29  0.7881356  29       \n",
       "30  0.7863248  30       \n",
       "⋮   ⋮          ⋮        \n",
       "153 0.23232323 153      \n",
       "154 0.23076923 154      \n",
       "155 0.22935780 155      \n",
       "156 0.22522523 156      \n",
       "157 0.21551724 157      \n",
       "158 0.20909091 158      \n",
       "159 0.20149254 159      \n",
       "160 0.19658120 160      \n",
       "161 0.19047619 161      \n",
       "162 0.18627451 162      \n",
       "163 0.18548387 163      \n",
       "164 0.18095238 164      \n",
       "165 0.18018018 165      \n",
       "166 0.15596330 166      \n",
       "167 0.13913043 167      \n",
       "168 0.13761468 168      \n",
       "169 0.13265306 169      \n",
       "170 0.12871287 170      \n",
       "171 0.12844037 171      \n",
       "172 0.11666667 172      \n",
       "173 0.11504425 173      \n",
       "174 0.11340206 174      \n",
       "175 0.10526316 175      \n",
       "176 0.09803922 176      \n",
       "177 0.09734513 177      \n",
       "178 0.07070707 178      \n",
       "179 0.06542056 179      \n",
       "180 0.06422018 180      \n",
       "181 0.05000000 181      \n",
       "182 0.03603604 182      "
      ]
     },
     "metadata": {},
     "output_type": "display_data"
    }
   ],
   "source": [
    "rankSet"
   ]
  },
  {
   "cell_type": "code",
   "execution_count": 76,
   "metadata": {},
   "outputs": [],
   "source": [
    "NEXT_RankingEmbedding <- select(rankSet, LR_Image, TotalCount, AnswerCount, diff, RankRatio, rankOrder)"
   ]
  },
  {
   "cell_type": "markdown",
   "metadata": {},
   "source": [
    "#### Removing underscores from variable names so that elements can be used as independent variables"
   ]
  },
  {
   "cell_type": "code",
   "execution_count": 77,
   "metadata": {},
   "outputs": [
    {
     "name": "stderr",
     "output_type": "stream",
     "text": [
      "Warning message:\n",
      "“Expected 3 pieces. Additional pieces discarded in 2 rows [1, 3].”"
     ]
    }
   ],
   "source": [
    "# separating data based on underscore used in distinguishing common elements among variables\n",
    "#separate( ) function: #Objective - Splitting a single variable into two\n",
    "\n",
    "NEXT_RankingEmbedding <- separate(NEXT_RankingEmbedding, LR_Image, \n",
    "                            c(\"id\", \"mediaType\",\"imageLabel\"), sep = \"_\", remove = TRUE, convert = FALSE)"
   ]
  },
  {
   "cell_type": "markdown",
   "metadata": {},
   "source": [
    "#### Explanation for Warning message: “Expected 3 pieces. Additional pieces discarded in 2 rows [1, 2].”\n",
    "The images CUA and CUD are the stimuli used during the task, thus not produced by participants. \n",
    "For this reason their names differ from the common structure (they include '_edit' after the first two values).\n",
    "Shown below in the output is how they are fit into that structure after this adjustment (the '_edit' is discarded)."
   ]
  },
  {
   "cell_type": "code",
   "execution_count": 78,
   "metadata": {},
   "outputs": [],
   "source": [
    "NEXT_RankingEmbedding <- select(NEXT_RankingEmbedding, id, mediaType, TotalCount, \n",
    "                                         AnswerCount, diff, RankRatio, rankOrder)"
   ]
  },
  {
   "cell_type": "code",
   "execution_count": 79,
   "metadata": {},
   "outputs": [],
   "source": [
    "CYL_NEXT_RankingEmbedding <- NEXT_RankingEmbedding"
   ]
  },
  {
   "cell_type": "code",
   "execution_count": 80,
   "metadata": {},
   "outputs": [],
   "source": [
    "CYL_NEXT_RankingEmbedding <- rename(CYL_NEXT_RankingEmbedding, CYL_mediaType = mediaType)\n",
    "CYL_NEXT_RankingEmbedding <- rename(CYL_NEXT_RankingEmbedding, CYL_TotalCount = TotalCount)\n",
    "CYL_NEXT_RankingEmbedding <- rename(CYL_NEXT_RankingEmbedding, CYL_AnswerCount = AnswerCount)\n",
    "CYL_NEXT_RankingEmbedding <- rename(CYL_NEXT_RankingEmbedding, CYL_diff = diff)\n",
    "CYL_NEXT_RankingEmbedding <- rename(CYL_NEXT_RankingEmbedding, CYL_RankRatio = RankRatio)\n",
    "CYL_NEXT_RankingEmbedding <- rename(CYL_NEXT_RankingEmbedding, CYL_rankOrder = rankOrder)"
   ]
  },
  {
   "cell_type": "markdown",
   "metadata": {},
   "source": [
    "### Export data file"
   ]
  },
  {
   "cell_type": "code",
   "execution_count": 82,
   "metadata": {},
   "outputs": [],
   "source": [
    "#PC - must map network Z drive to rogerslab.drive.wisc.edu first\n",
    "\n",
    "#Mac - must connect to rogerslab.drive.wisc.edu first\n",
    "setwd(\"/Volumes/rogerslab/NEXT/NEXTdrawings/Data/NEXTdrawingsData/EmbeddingData\")\n",
    "\n",
    "#laptop\n",
    "#setwd(\"/Users/clintjensen/NEXT/NEXTdrawingsDownloads/Data/NEXTdrawingsData/EmbeddingData\")"
   ]
  },
  {
   "cell_type": "code",
   "execution_count": 83,
   "metadata": {},
   "outputs": [],
   "source": [
    "write.table(CYL_NEXT_RankingEmbedding, \"CYL_NEXT_RankingEmbedding.csv\", sep=\",\", col.names=T, row.names=F)"
   ]
  },
  {
   "cell_type": "code",
   "execution_count": null,
   "metadata": {},
   "outputs": [],
   "source": []
  }
 ],
 "metadata": {
  "kernelspec": {
   "display_name": "R",
   "language": "R",
   "name": "ir"
  },
  "language_info": {
   "codemirror_mode": "r",
   "file_extension": ".r",
   "mimetype": "text/x-r-source",
   "name": "R",
   "pygments_lexer": "r",
   "version": "3.6.1"
  }
 },
 "nbformat": 4,
 "nbformat_minor": 4
}
