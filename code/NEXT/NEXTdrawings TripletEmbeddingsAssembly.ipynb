{
 "cells": [
  {
   "cell_type": "markdown",
   "metadata": {},
   "source": [
    "# NEXTdrawings TripletEmbeddingsAssembly\n",
    "-  Karl Rosengren, PI; Heather Kirkorian, PI; Tim Rogers, PI;  University of Wisconsin – Madison\n",
    "-  Clint Jensen, Graduate Student, University of Wisconsin – Madison\n",
    "\n",
    "This script takes dimensional embedding data split over multiple .csv files and creates one file for visualizatons and graphs. Additionally, this script gathers the metadata .csv files for Study 1 and 3 so that additional factors of interest can be used to predict drawing outcomes (rank order and MDS position within an embedding). \n",
    "\n",
    "NEXT is an online suite of algorithms that allow for the presentation of stimuli (images, text, videos), so that participants can make judgments providing group level data about the set of stimuli presented. Additional tools within NEXT allow for the visualization of that data into representations, such as multidimensional spaces or rank order graphs. NEXT is hosted on AWS as an Amazon Machine Image (AMI). Participants for this project were Amazon MTurk workers. Each MTurk worker was asked to make 200 judgements and was paid 1 dollar for what was intended to be 10 minutes of work. \n",
    "\n",
    "### Script uses concatenated stub.yaml file NEXTdrawings data (DAP, as well as CUBE and CYLINDER 2D and 3D Objects and Renderings) for Triplets Visualization\n",
    "\n",
    "#### Drawing Study 1: Drawing Across Media (DAM)\n",
    "\n",
    "* Mediums: Children and adults copied simple shapes using each of three mediums (marker on paper, stylus on tablet, finger on tablet). \n",
    "\n",
    "* Shape copies: They copied 4 familiar shapes (circle=CI, square=SQ, triangle=TR, cross=CR) and 2 novel shapes (novel triangle=NT, novel cross=NC) using each of the three mediums, resulting in 18 shape copies per participant (1 for each shape/medium combination)\n",
    "\n",
    "* Draw-a-person: They also drew a person using each of the three mediums (3 person drawings per participant). \n",
    "\n",
    "\n",
    "#### Drawing Study 3: Drawing 2D and 3D Objects and Renderings \n",
    "-- Study 3 also had children draw-a-person, which produced drawings used in our overall DAP analysis \n",
    "\n",
    "* Mediums: Children and adults copied simple shapes using each of three mediums (marker on paper, stylus on tablet, finger on tablet). \n",
    "\n",
    "* One 2D rendering was assigned to the marker-paper condition and the other was assigned to the two tablet conditions (stylus and finger). The opposite shape was used for 3D object drawings (e.g., if the paper condition has 2D cube and 3D cylinder, then the two tablet conditions have 3D cube and 2D cylinder).  \n",
    " \n",
    "* For Study 3 DAP images, children drew one person at the end of the study during free draw, using a medium of their choice (they first chose a surface, then the marker/stylus was placed on the table to use if they wanted). \n",
    "\n",
    "### Code Book for Analysis Critical Elements\n",
    "* Subject IDs for children are \"DAM\" followed by 3-digit number (e.g., DAM001). Subject IDs for adults are \"DAMa\" followed by 3-digit number (e.g., DAMa001). \n",
    "* marker on paper - (_P_)\n",
    "* stylus on tablet - (_T_)\n",
    "* finger on tablet - (_F_)\n",
    "\n",
    "\n",
    "* Participant.ID - NEXT generated ID -- different from MTurk ID\n",
    "* Timestamp - Date of participation -- stub.yaml requires a very specific format, script may need adjustment given potential .csv adjustments in Excel \n",
    "* Center - Image presented at top center -- images that the other two images are compared against for similarity judgement\n",
    "* Left - Image presented at bottom left\n",
    "* Right - Image presented at bottom right \n",
    "* Answer - Image participants chose as most similar to Center image\n",
    "* Alg.label - All set to Test initially, these are adjusted to include 90% training designation and 10% test to create a hold out set for model fit comparisons\n",
    "* Response.Time..s. - Response time for individual triplet set\n",
    "* Participant.ID.sub - NEXT generated ID minus experimentID\n",
    "* Condition - Name given to Study within this script\n",
    "* Session - NEXT generated ID experimentID"
   ]
  },
  {
   "cell_type": "markdown",
   "metadata": {},
   "source": [
    "#### Setting CRAN to load packages (Might be necessary depending on how jupyter is loaded)"
   ]
  },
  {
   "cell_type": "code",
   "execution_count": 82,
   "metadata": {},
   "outputs": [],
   "source": [
    "options(repos=structure(c(CRAN=\"https://rweb.crmda.ku.edu/cran/\")))"
   ]
  },
  {
   "cell_type": "markdown",
   "metadata": {},
   "source": [
    "#### Loading packages used in analysis, plots, data managment"
   ]
  },
  {
   "cell_type": "code",
   "execution_count": 83,
   "metadata": {
    "scrolled": true
   },
   "outputs": [],
   "source": [
    "haspackage = require(\"tidyverse\") # used for data structure codes\n",
    "if (haspackage==FALSE){\n",
    "  install.packages(\"tidyverse\")\n",
    "    }\n",
    "\n",
    "haspackage = require(\"readtext\")\n",
    "if (haspackage==FALSE){\n",
    "  install.packages(\"readtext\", dependencies = TRUE)\n",
    "}\n",
    "\n",
    "library(\"tidyverse\")\n",
    "library(\"readtext\") "
   ]
  },
  {
   "cell_type": "markdown",
   "metadata": {},
   "source": [
    "# <font color='BLUE'>Bringing in NEXT Draw-A-Person (DAP) Data</font>"
   ]
  },
  {
   "cell_type": "markdown",
   "metadata": {},
   "source": [
    "#### Setting R to file where Embedding data is stored"
   ]
  },
  {
   "cell_type": "code",
   "execution_count": 84,
   "metadata": {},
   "outputs": [],
   "source": [
    "#PC - must map network Z drive to rogerslab.drive.wisc.edu first\n",
    "#setwd(\"Z:/NEXT/NEXTdrawings/Data/NEXTdrawingsData/TripletEmbeddings/2019_11_05stub.yamlStyle_DAP_triplets/1\")\n",
    "\n",
    "#Mac - must connect to rogerslab.drive.wisc.edu first\n",
    "#setwd(\"/Volumes/rogerslab/NEXT/NEXTdrawings/Data/NEXTdrawingsData/TripletEmbeddings/2019_11_05stub.yamlStyle_DAP_triplets/1\")\n",
    "setwd(\"/Volumes/rogerslab/NEXT/NEXTdrawings/Data/NEXTdrawingsData/TripletEmbeddings/2020_10_27stub.yamlStyle_DAP_triplets/1\")\n",
    "\n",
    "#laptop\n",
    "#setwd(\"/Users/clintjensen/NEXT/NEXTdrawingsDownloads/NEXTdrawingsData/TripletEmbeddings/2019_11_05stub.yamlStyle_DAP_triplets/1\")\n",
    "#setwd(\"/Users/clintjensen/NEXT/NEXTdrawingsDownloads/NEXTdrawingsData/TripletEmbeddings/2020_10_27stub.yamlStyle_DAP_triplets/1\")"
   ]
  },
  {
   "cell_type": "code",
   "execution_count": 85,
   "metadata": {},
   "outputs": [],
   "source": [
    "Server_data <- list.files(pattern=\".\", full.names = TRUE)"
   ]
  },
  {
   "cell_type": "code",
   "execution_count": 86,
   "metadata": {},
   "outputs": [
    {
     "data": {
      "text/html": [
       "<ol class=list-inline>\n",
       "\t<li>'./combinedDATA.csv'</li>\n",
       "\t<li>'./labels.txt'</li>\n",
       "\t<li>'./loss.csv'</li>\n",
       "\t<li>'./loss.json'</li>\n",
       "\t<li>'./model.csv'</li>\n",
       "\t<li>'./params.json'</li>\n",
       "\t<li>'./querydata.json'</li>\n",
       "\t<li>'./responses_Test_TEST.csv'</li>\n",
       "\t<li>'./responses_Train_TRAIN.csv'</li>\n",
       "</ol>\n"
      ],
      "text/latex": [
       "\\begin{enumerate*}\n",
       "\\item './combinedDATA.csv'\n",
       "\\item './labels.txt'\n",
       "\\item './loss.csv'\n",
       "\\item './loss.json'\n",
       "\\item './model.csv'\n",
       "\\item './params.json'\n",
       "\\item './querydata.json'\n",
       "\\item './responses\\_Test\\_TEST.csv'\n",
       "\\item './responses\\_Train\\_TRAIN.csv'\n",
       "\\end{enumerate*}\n"
      ],
      "text/markdown": [
       "1. './combinedDATA.csv'\n",
       "2. './labels.txt'\n",
       "3. './loss.csv'\n",
       "4. './loss.json'\n",
       "5. './model.csv'\n",
       "6. './params.json'\n",
       "7. './querydata.json'\n",
       "8. './responses_Test_TEST.csv'\n",
       "9. './responses_Train_TRAIN.csv'\n",
       "\n",
       "\n"
      ],
      "text/plain": [
       "[1] \"./combinedDATA.csv\"          \"./labels.txt\"               \n",
       "[3] \"./loss.csv\"                  \"./loss.json\"                \n",
       "[5] \"./model.csv\"                 \"./params.json\"              \n",
       "[7] \"./querydata.json\"            \"./responses_Test_TEST.csv\"  \n",
       "[9] \"./responses_Train_TRAIN.csv\""
      ]
     },
     "metadata": {},
     "output_type": "display_data"
    }
   ],
   "source": [
    "Server_data"
   ]
  },
  {
   "cell_type": "code",
   "execution_count": 87,
   "metadata": {},
   "outputs": [],
   "source": [
    "loss <- read.csv(\"loss.csv\", header=FALSE)\n",
    "model <- read.csv(\"model.csv\", header=FALSE)\n",
    "labels <- read.delim(\"labels.txt\", header = FALSE, sep = \"\\t\", dec = \".\")"
   ]
  },
  {
   "cell_type": "code",
   "execution_count": 88,
   "metadata": {},
   "outputs": [
    {
     "data": {
      "text/html": [
       "<table>\n",
       "<caption>A data.frame: 1 × 2</caption>\n",
       "<thead>\n",
       "\t<tr><th scope=col>V1</th><th scope=col>V2</th></tr>\n",
       "\t<tr><th scope=col>&lt;dbl&gt;</th><th scope=col>&lt;dbl&gt;</th></tr>\n",
       "</thead>\n",
       "<tbody>\n",
       "\t<tr><td>0.2694422</td><td>0.3009471</td></tr>\n",
       "</tbody>\n",
       "</table>\n"
      ],
      "text/latex": [
       "A data.frame: 1 × 2\n",
       "\\begin{tabular}{r|ll}\n",
       " V1 & V2\\\\\n",
       " <dbl> & <dbl>\\\\\n",
       "\\hline\n",
       "\t 0.2694422 & 0.3009471\\\\\n",
       "\\end{tabular}\n"
      ],
      "text/markdown": [
       "\n",
       "A data.frame: 1 × 2\n",
       "\n",
       "| V1 &lt;dbl&gt; | V2 &lt;dbl&gt; |\n",
       "|---|---|\n",
       "| 0.2694422 | 0.3009471 |\n",
       "\n"
      ],
      "text/plain": [
       "  V1        V2       \n",
       "1 0.2694422 0.3009471"
      ]
     },
     "metadata": {},
     "output_type": "display_data"
    },
    {
     "data": {
      "text/html": [
       "<table>\n",
       "<caption>A data.frame: 6 × 1</caption>\n",
       "<thead>\n",
       "\t<tr><th scope=col>V1</th></tr>\n",
       "\t<tr><th scope=col>&lt;fct&gt;</th></tr>\n",
       "</thead>\n",
       "<tbody>\n",
       "\t<tr><td>DAM001_F_DAPedit</td></tr>\n",
       "\t<tr><td>DAM001_P_DAPedit</td></tr>\n",
       "\t<tr><td>DAM001_T_DAPedit</td></tr>\n",
       "\t<tr><td>DAM002_F_DAPedit</td></tr>\n",
       "\t<tr><td>DAM002_P_DAPedit</td></tr>\n",
       "\t<tr><td>DAM002_T_DAPedit</td></tr>\n",
       "</tbody>\n",
       "</table>\n"
      ],
      "text/latex": [
       "A data.frame: 6 × 1\n",
       "\\begin{tabular}{r|l}\n",
       " V1\\\\\n",
       " <fct>\\\\\n",
       "\\hline\n",
       "\t DAM001\\_F\\_DAPedit\\\\\n",
       "\t DAM001\\_P\\_DAPedit\\\\\n",
       "\t DAM001\\_T\\_DAPedit\\\\\n",
       "\t DAM002\\_F\\_DAPedit\\\\\n",
       "\t DAM002\\_P\\_DAPedit\\\\\n",
       "\t DAM002\\_T\\_DAPedit\\\\\n",
       "\\end{tabular}\n"
      ],
      "text/markdown": [
       "\n",
       "A data.frame: 6 × 1\n",
       "\n",
       "| V1 &lt;fct&gt; |\n",
       "|---|\n",
       "| DAM001_F_DAPedit |\n",
       "| DAM001_P_DAPedit |\n",
       "| DAM001_T_DAPedit |\n",
       "| DAM002_F_DAPedit |\n",
       "| DAM002_P_DAPedit |\n",
       "| DAM002_T_DAPedit |\n",
       "\n"
      ],
      "text/plain": [
       "  V1              \n",
       "1 DAM001_F_DAPedit\n",
       "2 DAM001_P_DAPedit\n",
       "3 DAM001_T_DAPedit\n",
       "4 DAM002_F_DAPedit\n",
       "5 DAM002_P_DAPedit\n",
       "6 DAM002_T_DAPedit"
      ]
     },
     "metadata": {},
     "output_type": "display_data"
    },
    {
     "data": {
      "text/html": [
       "<table>\n",
       "<caption>A data.frame: 6 × 2</caption>\n",
       "<thead>\n",
       "\t<tr><th scope=col>V1</th><th scope=col>V2</th></tr>\n",
       "\t<tr><th scope=col>&lt;dbl&gt;</th><th scope=col>&lt;dbl&gt;</th></tr>\n",
       "</thead>\n",
       "<tbody>\n",
       "\t<tr><td>-0.26757699</td><td>-0.12373534</td></tr>\n",
       "\t<tr><td>-0.02132229</td><td>-0.94671753</td></tr>\n",
       "\t<tr><td>-0.50324862</td><td>-0.07551372</td></tr>\n",
       "\t<tr><td>-0.45441354</td><td>-0.43675412</td></tr>\n",
       "\t<tr><td>-0.54208839</td><td>-0.73267946</td></tr>\n",
       "\t<tr><td>-0.28091040</td><td>-0.37405575</td></tr>\n",
       "</tbody>\n",
       "</table>\n"
      ],
      "text/latex": [
       "A data.frame: 6 × 2\n",
       "\\begin{tabular}{r|ll}\n",
       " V1 & V2\\\\\n",
       " <dbl> & <dbl>\\\\\n",
       "\\hline\n",
       "\t -0.26757699 & -0.12373534\\\\\n",
       "\t -0.02132229 & -0.94671753\\\\\n",
       "\t -0.50324862 & -0.07551372\\\\\n",
       "\t -0.45441354 & -0.43675412\\\\\n",
       "\t -0.54208839 & -0.73267946\\\\\n",
       "\t -0.28091040 & -0.37405575\\\\\n",
       "\\end{tabular}\n"
      ],
      "text/markdown": [
       "\n",
       "A data.frame: 6 × 2\n",
       "\n",
       "| V1 &lt;dbl&gt; | V2 &lt;dbl&gt; |\n",
       "|---|---|\n",
       "| -0.26757699 | -0.12373534 |\n",
       "| -0.02132229 | -0.94671753 |\n",
       "| -0.50324862 | -0.07551372 |\n",
       "| -0.45441354 | -0.43675412 |\n",
       "| -0.54208839 | -0.73267946 |\n",
       "| -0.28091040 | -0.37405575 |\n",
       "\n"
      ],
      "text/plain": [
       "  V1          V2         \n",
       "1 -0.26757699 -0.12373534\n",
       "2 -0.02132229 -0.94671753\n",
       "3 -0.50324862 -0.07551372\n",
       "4 -0.45441354 -0.43675412\n",
       "5 -0.54208839 -0.73267946\n",
       "6 -0.28091040 -0.37405575"
      ]
     },
     "metadata": {},
     "output_type": "display_data"
    }
   ],
   "source": [
    "loss\n",
    "head(labels)\n",
    "head(model)"
   ]
  },
  {
   "cell_type": "code",
   "execution_count": 89,
   "metadata": {},
   "outputs": [],
   "source": [
    "labels <- labels %>% rename(image = V1)"
   ]
  },
  {
   "cell_type": "code",
   "execution_count": 90,
   "metadata": {},
   "outputs": [],
   "source": [
    "model <- model %>% rename(DAP_x = V1, DAP_y = V2)"
   ]
  },
  {
   "cell_type": "code",
   "execution_count": 91,
   "metadata": {},
   "outputs": [],
   "source": [
    "DAP_NEXT_TripletsXYdata <- cbind(labels,model)"
   ]
  },
  {
   "cell_type": "markdown",
   "metadata": {},
   "source": [
    "#### Checking data file"
   ]
  },
  {
   "cell_type": "code",
   "execution_count": 92,
   "metadata": {},
   "outputs": [
    {
     "data": {
      "text/html": [
       "<table>\n",
       "<caption>A data.frame: 6 × 3</caption>\n",
       "<thead>\n",
       "\t<tr><th scope=col>image</th><th scope=col>DAP_x</th><th scope=col>DAP_y</th></tr>\n",
       "\t<tr><th scope=col>&lt;fct&gt;</th><th scope=col>&lt;dbl&gt;</th><th scope=col>&lt;dbl&gt;</th></tr>\n",
       "</thead>\n",
       "<tbody>\n",
       "\t<tr><td>DAM001_F_DAPedit</td><td>-0.26757699</td><td>-0.12373534</td></tr>\n",
       "\t<tr><td>DAM001_P_DAPedit</td><td>-0.02132229</td><td>-0.94671753</td></tr>\n",
       "\t<tr><td>DAM001_T_DAPedit</td><td>-0.50324862</td><td>-0.07551372</td></tr>\n",
       "\t<tr><td>DAM002_F_DAPedit</td><td>-0.45441354</td><td>-0.43675412</td></tr>\n",
       "\t<tr><td>DAM002_P_DAPedit</td><td>-0.54208839</td><td>-0.73267946</td></tr>\n",
       "\t<tr><td>DAM002_T_DAPedit</td><td>-0.28091040</td><td>-0.37405575</td></tr>\n",
       "</tbody>\n",
       "</table>\n"
      ],
      "text/latex": [
       "A data.frame: 6 × 3\n",
       "\\begin{tabular}{r|lll}\n",
       " image & DAP\\_x & DAP\\_y\\\\\n",
       " <fct> & <dbl> & <dbl>\\\\\n",
       "\\hline\n",
       "\t DAM001\\_F\\_DAPedit & -0.26757699 & -0.12373534\\\\\n",
       "\t DAM001\\_P\\_DAPedit & -0.02132229 & -0.94671753\\\\\n",
       "\t DAM001\\_T\\_DAPedit & -0.50324862 & -0.07551372\\\\\n",
       "\t DAM002\\_F\\_DAPedit & -0.45441354 & -0.43675412\\\\\n",
       "\t DAM002\\_P\\_DAPedit & -0.54208839 & -0.73267946\\\\\n",
       "\t DAM002\\_T\\_DAPedit & -0.28091040 & -0.37405575\\\\\n",
       "\\end{tabular}\n"
      ],
      "text/markdown": [
       "\n",
       "A data.frame: 6 × 3\n",
       "\n",
       "| image &lt;fct&gt; | DAP_x &lt;dbl&gt; | DAP_y &lt;dbl&gt; |\n",
       "|---|---|---|\n",
       "| DAM001_F_DAPedit | -0.26757699 | -0.12373534 |\n",
       "| DAM001_P_DAPedit | -0.02132229 | -0.94671753 |\n",
       "| DAM001_T_DAPedit | -0.50324862 | -0.07551372 |\n",
       "| DAM002_F_DAPedit | -0.45441354 | -0.43675412 |\n",
       "| DAM002_P_DAPedit | -0.54208839 | -0.73267946 |\n",
       "| DAM002_T_DAPedit | -0.28091040 | -0.37405575 |\n",
       "\n"
      ],
      "text/plain": [
       "  image            DAP_x       DAP_y      \n",
       "1 DAM001_F_DAPedit -0.26757699 -0.12373534\n",
       "2 DAM001_P_DAPedit -0.02132229 -0.94671753\n",
       "3 DAM001_T_DAPedit -0.50324862 -0.07551372\n",
       "4 DAM002_F_DAPedit -0.45441354 -0.43675412\n",
       "5 DAM002_P_DAPedit -0.54208839 -0.73267946\n",
       "6 DAM002_T_DAPedit -0.28091040 -0.37405575"
      ]
     },
     "metadata": {},
     "output_type": "display_data"
    }
   ],
   "source": [
    "head(DAP_NEXT_TripletsXYdata)"
   ]
  },
  {
   "cell_type": "markdown",
   "metadata": {},
   "source": [
    "#### Fixing image ids for a few image labels that were missing their media type or had a '-' instead of a '_' resulting in '%20' being inserted by NEXT"
   ]
  },
  {
   "cell_type": "code",
   "execution_count": 93,
   "metadata": {},
   "outputs": [],
   "source": [
    "DAP_NEXT_TripletsXYdata$image<- str_replace(DAP_NEXT_TripletsXYdata$image, \"DAMa015_DAPedit\", \"DAMa015_T_DAPedit\")\n",
    "DAP_NEXT_TripletsXYdata$image<- str_replace(DAP_NEXT_TripletsXYdata$image, \"DAM3D026_DAPedit\", \"DAM3D026_P_DAPedit\")\n",
    "DAP_NEXT_TripletsXYdata$image<- str_replace(DAP_NEXT_TripletsXYdata$image, \"DAM3D058_P%20_DAPedit\", \"DAM3D058_P_DAPedit\")\n",
    "DAP_NEXT_TripletsXYdata$image<- str_replace(DAP_NEXT_TripletsXYdata$image, \"DAM3D060_P%20_DAPedit\", \"DAM3D060_P_DAPedit\")\n",
    "DAP_NEXT_TripletsXYdata$image<- str_replace(DAP_NEXT_TripletsXYdata$image, \"DAM3D069_P%20_DAPedit\", \"DAM3D069_P_DAPedit\")"
   ]
  },
  {
   "cell_type": "code",
   "execution_count": 94,
   "metadata": {},
   "outputs": [],
   "source": [
    "#Removing image that is blank\n",
    "DAP_NEXT_TripletsXYdata<- DAP_NEXT_TripletsXYdata %>%\n",
    "  filter(!((image == \"DAM072_P_DAPedit\")))"
   ]
  },
  {
   "cell_type": "code",
   "execution_count": 95,
   "metadata": {},
   "outputs": [],
   "source": [
    "# separating data based on underscore used in distinguishing common elements among variables\n",
    "#separate( ) function: #Objective - Splitting a single variable into two\n",
    "DAP_NEXT_TripletsXYdata <- separate(DAP_NEXT_TripletsXYdata, image, \n",
    "                            c(\"id\", \"DAP_mediaType\",\"imageLabel\"), sep = \"_\", remove = TRUE, convert = FALSE)"
   ]
  },
  {
   "cell_type": "code",
   "execution_count": 96,
   "metadata": {},
   "outputs": [],
   "source": [
    "DAP_NEXT_TripletsXYdata <- select(DAP_NEXT_TripletsXYdata, id, DAP_mediaType, DAP_x, DAP_y)"
   ]
  },
  {
   "cell_type": "code",
   "execution_count": 113,
   "metadata": {},
   "outputs": [
    {
     "data": {
      "text/html": [
       "<table>\n",
       "<caption>A data.frame: 305 × 4</caption>\n",
       "<thead>\n",
       "\t<tr><th scope=col>id</th><th scope=col>DAP_mediaType</th><th scope=col>DAP_x</th><th scope=col>DAP_y</th></tr>\n",
       "\t<tr><th scope=col>&lt;chr&gt;</th><th scope=col>&lt;chr&gt;</th><th scope=col>&lt;dbl&gt;</th><th scope=col>&lt;dbl&gt;</th></tr>\n",
       "</thead>\n",
       "<tbody>\n",
       "\t<tr><td>DAM001</td><td>F</td><td>-0.26757699</td><td>-0.12373534</td></tr>\n",
       "\t<tr><td>DAM001</td><td>P</td><td>-0.02132229</td><td>-0.94671753</td></tr>\n",
       "\t<tr><td>DAM001</td><td>T</td><td>-0.50324862</td><td>-0.07551372</td></tr>\n",
       "\t<tr><td>DAM002</td><td>F</td><td>-0.45441354</td><td>-0.43675412</td></tr>\n",
       "\t<tr><td>DAM002</td><td>P</td><td>-0.54208839</td><td>-0.73267946</td></tr>\n",
       "\t<tr><td>DAM002</td><td>T</td><td>-0.28091040</td><td>-0.37405575</td></tr>\n",
       "\t<tr><td>DAM003</td><td>F</td><td>-0.35753167</td><td>-0.19157602</td></tr>\n",
       "\t<tr><td>DAM003</td><td>P</td><td>-0.18081694</td><td>-0.35677236</td></tr>\n",
       "\t<tr><td>DAM003</td><td>T</td><td>-0.31257299</td><td>-0.14542227</td></tr>\n",
       "\t<tr><td>DAM004</td><td>F</td><td>-0.29255056</td><td> 0.05899558</td></tr>\n",
       "\t<tr><td>DAM004</td><td>P</td><td>-0.53863456</td><td> 0.21765673</td></tr>\n",
       "\t<tr><td>DAM004</td><td>T</td><td>-0.44955633</td><td> 0.22803175</td></tr>\n",
       "\t<tr><td>DAM005</td><td>F</td><td>-0.02368887</td><td> 0.56781880</td></tr>\n",
       "\t<tr><td>DAM005</td><td>P</td><td>-0.15208639</td><td> 0.83922249</td></tr>\n",
       "\t<tr><td>DAM005</td><td>T</td><td> 0.06369747</td><td> 0.82070734</td></tr>\n",
       "\t<tr><td>DAM006</td><td>F</td><td>-0.03966134</td><td> 0.28039319</td></tr>\n",
       "\t<tr><td>DAM006</td><td>P</td><td>-0.14424733</td><td> 0.53835503</td></tr>\n",
       "\t<tr><td>DAM006</td><td>T</td><td> 0.12712050</td><td> 0.46565262</td></tr>\n",
       "\t<tr><td>DAM007</td><td>F</td><td>-0.30735907</td><td> 0.49120427</td></tr>\n",
       "\t<tr><td>DAM007</td><td>P</td><td>-0.34386607</td><td> 0.38703598</td></tr>\n",
       "\t<tr><td>DAM007</td><td>T</td><td>-0.30988111</td><td> 0.25927878</td></tr>\n",
       "\t<tr><td>DAM008</td><td>F</td><td>-0.42784665</td><td> 0.31550892</td></tr>\n",
       "\t<tr><td>DAM008</td><td>P</td><td>-0.14022122</td><td> 0.46436253</td></tr>\n",
       "\t<tr><td>DAM008</td><td>T</td><td>-0.41356336</td><td> 0.06308854</td></tr>\n",
       "\t<tr><td>DAM009</td><td>F</td><td>-0.47161695</td><td> 0.42402001</td></tr>\n",
       "\t<tr><td>DAM009</td><td>P</td><td>-0.37010067</td><td> 0.30323578</td></tr>\n",
       "\t<tr><td>DAM009</td><td>T</td><td>-0.48944908</td><td> 0.36817081</td></tr>\n",
       "\t<tr><td>DAM010</td><td>F</td><td> 1.05283684</td><td> 0.32731844</td></tr>\n",
       "\t<tr><td>DAM010</td><td>P</td><td> 1.00863360</td><td>-0.11461136</td></tr>\n",
       "\t<tr><td>DAM010</td><td>T</td><td> 0.90762345</td><td>-0.48538453</td></tr>\n",
       "\t<tr><td>⋮</td><td>⋮</td><td>⋮</td><td>⋮</td></tr>\n",
       "\t<tr><td>DAMa011</td><td>F</td><td>-0.4439137</td><td>-0.08888858</td></tr>\n",
       "\t<tr><td>DAMa011</td><td>T</td><td>-0.7358200</td><td>-0.26588402</td></tr>\n",
       "\t<tr><td>DAMa012</td><td>F</td><td>-0.5462674</td><td>-0.68306626</td></tr>\n",
       "\t<tr><td>DAMa012</td><td>T</td><td>-0.5754241</td><td>-0.74616724</td></tr>\n",
       "\t<tr><td>DAMa013</td><td>F</td><td>-0.3619779</td><td>-0.43958775</td></tr>\n",
       "\t<tr><td>DAMa013</td><td>T</td><td>-0.6148942</td><td>-0.56689691</td></tr>\n",
       "\t<tr><td>DAMa014</td><td>F</td><td>-0.4618601</td><td>-0.41446945</td></tr>\n",
       "\t<tr><td>DAMa014</td><td>T</td><td>-0.6110891</td><td>-0.47044095</td></tr>\n",
       "\t<tr><td>DAMa015</td><td>T</td><td>-0.8734626</td><td>-0.64065741</td></tr>\n",
       "\t<tr><td>DAMa015</td><td>F</td><td>-0.7112176</td><td>-0.27190442</td></tr>\n",
       "\t<tr><td>DAMa016</td><td>F</td><td>-0.4871791</td><td>-0.10501044</td></tr>\n",
       "\t<tr><td>DAMa016</td><td>T</td><td>-0.4290614</td><td>-0.31461379</td></tr>\n",
       "\t<tr><td>DAMa017</td><td>F</td><td>-0.2498786</td><td>-0.90723386</td></tr>\n",
       "\t<tr><td>DAMa017</td><td>T</td><td>-0.6124428</td><td>-0.78663363</td></tr>\n",
       "\t<tr><td>DAMa018</td><td>F</td><td>-0.3908543</td><td>-0.47924512</td></tr>\n",
       "\t<tr><td>DAMa018</td><td>T</td><td>-0.3720503</td><td>-0.37438642</td></tr>\n",
       "\t<tr><td>DAMa019</td><td>F</td><td>-0.6193438</td><td>-0.62616733</td></tr>\n",
       "\t<tr><td>DAMa019</td><td>T</td><td>-0.4972399</td><td>-0.72080184</td></tr>\n",
       "\t<tr><td>DAMa020</td><td>F</td><td>-0.5927361</td><td>-0.45578419</td></tr>\n",
       "\t<tr><td>DAMa020</td><td>T</td><td>-0.3031209</td><td>-0.53019768</td></tr>\n",
       "\t<tr><td>DAMa021</td><td>F</td><td>-0.5607769</td><td>-0.48945941</td></tr>\n",
       "\t<tr><td>DAMa021</td><td>T</td><td>-0.7409400</td><td>-0.56223426</td></tr>\n",
       "\t<tr><td>DAMa022</td><td>F</td><td>-0.7509596</td><td>-0.24205278</td></tr>\n",
       "\t<tr><td>DAMa022</td><td>T</td><td>-1.4079290</td><td> 0.03431293</td></tr>\n",
       "\t<tr><td>DAMa023</td><td>F</td><td>-0.1770841</td><td>-0.94972960</td></tr>\n",
       "\t<tr><td>DAMa023</td><td>T</td><td>-0.4971785</td><td>-0.50173330</td></tr>\n",
       "\t<tr><td>DAMa024</td><td>F</td><td>-0.4561150</td><td>-0.30748262</td></tr>\n",
       "\t<tr><td>DAMa024</td><td>T</td><td>-0.1703170</td><td>-0.86060679</td></tr>\n",
       "\t<tr><td>DAMa025</td><td>F</td><td>-0.4944483</td><td>-0.76349772</td></tr>\n",
       "\t<tr><td>DAMa025</td><td>T</td><td>-0.4217124</td><td>-0.76307442</td></tr>\n",
       "</tbody>\n",
       "</table>\n"
      ],
      "text/latex": [
       "A data.frame: 305 × 4\n",
       "\\begin{tabular}{r|llll}\n",
       " id & DAP\\_mediaType & DAP\\_x & DAP\\_y\\\\\n",
       " <chr> & <chr> & <dbl> & <dbl>\\\\\n",
       "\\hline\n",
       "\t DAM001 & F & -0.26757699 & -0.12373534\\\\\n",
       "\t DAM001 & P & -0.02132229 & -0.94671753\\\\\n",
       "\t DAM001 & T & -0.50324862 & -0.07551372\\\\\n",
       "\t DAM002 & F & -0.45441354 & -0.43675412\\\\\n",
       "\t DAM002 & P & -0.54208839 & -0.73267946\\\\\n",
       "\t DAM002 & T & -0.28091040 & -0.37405575\\\\\n",
       "\t DAM003 & F & -0.35753167 & -0.19157602\\\\\n",
       "\t DAM003 & P & -0.18081694 & -0.35677236\\\\\n",
       "\t DAM003 & T & -0.31257299 & -0.14542227\\\\\n",
       "\t DAM004 & F & -0.29255056 &  0.05899558\\\\\n",
       "\t DAM004 & P & -0.53863456 &  0.21765673\\\\\n",
       "\t DAM004 & T & -0.44955633 &  0.22803175\\\\\n",
       "\t DAM005 & F & -0.02368887 &  0.56781880\\\\\n",
       "\t DAM005 & P & -0.15208639 &  0.83922249\\\\\n",
       "\t DAM005 & T &  0.06369747 &  0.82070734\\\\\n",
       "\t DAM006 & F & -0.03966134 &  0.28039319\\\\\n",
       "\t DAM006 & P & -0.14424733 &  0.53835503\\\\\n",
       "\t DAM006 & T &  0.12712050 &  0.46565262\\\\\n",
       "\t DAM007 & F & -0.30735907 &  0.49120427\\\\\n",
       "\t DAM007 & P & -0.34386607 &  0.38703598\\\\\n",
       "\t DAM007 & T & -0.30988111 &  0.25927878\\\\\n",
       "\t DAM008 & F & -0.42784665 &  0.31550892\\\\\n",
       "\t DAM008 & P & -0.14022122 &  0.46436253\\\\\n",
       "\t DAM008 & T & -0.41356336 &  0.06308854\\\\\n",
       "\t DAM009 & F & -0.47161695 &  0.42402001\\\\\n",
       "\t DAM009 & P & -0.37010067 &  0.30323578\\\\\n",
       "\t DAM009 & T & -0.48944908 &  0.36817081\\\\\n",
       "\t DAM010 & F &  1.05283684 &  0.32731844\\\\\n",
       "\t DAM010 & P &  1.00863360 & -0.11461136\\\\\n",
       "\t DAM010 & T &  0.90762345 & -0.48538453\\\\\n",
       "\t ⋮ & ⋮ & ⋮ & ⋮\\\\\n",
       "\t DAMa011 & F & -0.4439137 & -0.08888858\\\\\n",
       "\t DAMa011 & T & -0.7358200 & -0.26588402\\\\\n",
       "\t DAMa012 & F & -0.5462674 & -0.68306626\\\\\n",
       "\t DAMa012 & T & -0.5754241 & -0.74616724\\\\\n",
       "\t DAMa013 & F & -0.3619779 & -0.43958775\\\\\n",
       "\t DAMa013 & T & -0.6148942 & -0.56689691\\\\\n",
       "\t DAMa014 & F & -0.4618601 & -0.41446945\\\\\n",
       "\t DAMa014 & T & -0.6110891 & -0.47044095\\\\\n",
       "\t DAMa015 & T & -0.8734626 & -0.64065741\\\\\n",
       "\t DAMa015 & F & -0.7112176 & -0.27190442\\\\\n",
       "\t DAMa016 & F & -0.4871791 & -0.10501044\\\\\n",
       "\t DAMa016 & T & -0.4290614 & -0.31461379\\\\\n",
       "\t DAMa017 & F & -0.2498786 & -0.90723386\\\\\n",
       "\t DAMa017 & T & -0.6124428 & -0.78663363\\\\\n",
       "\t DAMa018 & F & -0.3908543 & -0.47924512\\\\\n",
       "\t DAMa018 & T & -0.3720503 & -0.37438642\\\\\n",
       "\t DAMa019 & F & -0.6193438 & -0.62616733\\\\\n",
       "\t DAMa019 & T & -0.4972399 & -0.72080184\\\\\n",
       "\t DAMa020 & F & -0.5927361 & -0.45578419\\\\\n",
       "\t DAMa020 & T & -0.3031209 & -0.53019768\\\\\n",
       "\t DAMa021 & F & -0.5607769 & -0.48945941\\\\\n",
       "\t DAMa021 & T & -0.7409400 & -0.56223426\\\\\n",
       "\t DAMa022 & F & -0.7509596 & -0.24205278\\\\\n",
       "\t DAMa022 & T & -1.4079290 &  0.03431293\\\\\n",
       "\t DAMa023 & F & -0.1770841 & -0.94972960\\\\\n",
       "\t DAMa023 & T & -0.4971785 & -0.50173330\\\\\n",
       "\t DAMa024 & F & -0.4561150 & -0.30748262\\\\\n",
       "\t DAMa024 & T & -0.1703170 & -0.86060679\\\\\n",
       "\t DAMa025 & F & -0.4944483 & -0.76349772\\\\\n",
       "\t DAMa025 & T & -0.4217124 & -0.76307442\\\\\n",
       "\\end{tabular}\n"
      ],
      "text/markdown": [
       "\n",
       "A data.frame: 305 × 4\n",
       "\n",
       "| id &lt;chr&gt; | DAP_mediaType &lt;chr&gt; | DAP_x &lt;dbl&gt; | DAP_y &lt;dbl&gt; |\n",
       "|---|---|---|---|\n",
       "| DAM001 | F | -0.26757699 | -0.12373534 |\n",
       "| DAM001 | P | -0.02132229 | -0.94671753 |\n",
       "| DAM001 | T | -0.50324862 | -0.07551372 |\n",
       "| DAM002 | F | -0.45441354 | -0.43675412 |\n",
       "| DAM002 | P | -0.54208839 | -0.73267946 |\n",
       "| DAM002 | T | -0.28091040 | -0.37405575 |\n",
       "| DAM003 | F | -0.35753167 | -0.19157602 |\n",
       "| DAM003 | P | -0.18081694 | -0.35677236 |\n",
       "| DAM003 | T | -0.31257299 | -0.14542227 |\n",
       "| DAM004 | F | -0.29255056 |  0.05899558 |\n",
       "| DAM004 | P | -0.53863456 |  0.21765673 |\n",
       "| DAM004 | T | -0.44955633 |  0.22803175 |\n",
       "| DAM005 | F | -0.02368887 |  0.56781880 |\n",
       "| DAM005 | P | -0.15208639 |  0.83922249 |\n",
       "| DAM005 | T |  0.06369747 |  0.82070734 |\n",
       "| DAM006 | F | -0.03966134 |  0.28039319 |\n",
       "| DAM006 | P | -0.14424733 |  0.53835503 |\n",
       "| DAM006 | T |  0.12712050 |  0.46565262 |\n",
       "| DAM007 | F | -0.30735907 |  0.49120427 |\n",
       "| DAM007 | P | -0.34386607 |  0.38703598 |\n",
       "| DAM007 | T | -0.30988111 |  0.25927878 |\n",
       "| DAM008 | F | -0.42784665 |  0.31550892 |\n",
       "| DAM008 | P | -0.14022122 |  0.46436253 |\n",
       "| DAM008 | T | -0.41356336 |  0.06308854 |\n",
       "| DAM009 | F | -0.47161695 |  0.42402001 |\n",
       "| DAM009 | P | -0.37010067 |  0.30323578 |\n",
       "| DAM009 | T | -0.48944908 |  0.36817081 |\n",
       "| DAM010 | F |  1.05283684 |  0.32731844 |\n",
       "| DAM010 | P |  1.00863360 | -0.11461136 |\n",
       "| DAM010 | T |  0.90762345 | -0.48538453 |\n",
       "| ⋮ | ⋮ | ⋮ | ⋮ |\n",
       "| DAMa011 | F | -0.4439137 | -0.08888858 |\n",
       "| DAMa011 | T | -0.7358200 | -0.26588402 |\n",
       "| DAMa012 | F | -0.5462674 | -0.68306626 |\n",
       "| DAMa012 | T | -0.5754241 | -0.74616724 |\n",
       "| DAMa013 | F | -0.3619779 | -0.43958775 |\n",
       "| DAMa013 | T | -0.6148942 | -0.56689691 |\n",
       "| DAMa014 | F | -0.4618601 | -0.41446945 |\n",
       "| DAMa014 | T | -0.6110891 | -0.47044095 |\n",
       "| DAMa015 | T | -0.8734626 | -0.64065741 |\n",
       "| DAMa015 | F | -0.7112176 | -0.27190442 |\n",
       "| DAMa016 | F | -0.4871791 | -0.10501044 |\n",
       "| DAMa016 | T | -0.4290614 | -0.31461379 |\n",
       "| DAMa017 | F | -0.2498786 | -0.90723386 |\n",
       "| DAMa017 | T | -0.6124428 | -0.78663363 |\n",
       "| DAMa018 | F | -0.3908543 | -0.47924512 |\n",
       "| DAMa018 | T | -0.3720503 | -0.37438642 |\n",
       "| DAMa019 | F | -0.6193438 | -0.62616733 |\n",
       "| DAMa019 | T | -0.4972399 | -0.72080184 |\n",
       "| DAMa020 | F | -0.5927361 | -0.45578419 |\n",
       "| DAMa020 | T | -0.3031209 | -0.53019768 |\n",
       "| DAMa021 | F | -0.5607769 | -0.48945941 |\n",
       "| DAMa021 | T | -0.7409400 | -0.56223426 |\n",
       "| DAMa022 | F | -0.7509596 | -0.24205278 |\n",
       "| DAMa022 | T | -1.4079290 |  0.03431293 |\n",
       "| DAMa023 | F | -0.1770841 | -0.94972960 |\n",
       "| DAMa023 | T | -0.4971785 | -0.50173330 |\n",
       "| DAMa024 | F | -0.4561150 | -0.30748262 |\n",
       "| DAMa024 | T | -0.1703170 | -0.86060679 |\n",
       "| DAMa025 | F | -0.4944483 | -0.76349772 |\n",
       "| DAMa025 | T | -0.4217124 | -0.76307442 |\n",
       "\n"
      ],
      "text/plain": [
       "    id      DAP_mediaType DAP_x       DAP_y      \n",
       "1   DAM001  F             -0.26757699 -0.12373534\n",
       "2   DAM001  P             -0.02132229 -0.94671753\n",
       "3   DAM001  T             -0.50324862 -0.07551372\n",
       "4   DAM002  F             -0.45441354 -0.43675412\n",
       "5   DAM002  P             -0.54208839 -0.73267946\n",
       "6   DAM002  T             -0.28091040 -0.37405575\n",
       "7   DAM003  F             -0.35753167 -0.19157602\n",
       "8   DAM003  P             -0.18081694 -0.35677236\n",
       "9   DAM003  T             -0.31257299 -0.14542227\n",
       "10  DAM004  F             -0.29255056  0.05899558\n",
       "11  DAM004  P             -0.53863456  0.21765673\n",
       "12  DAM004  T             -0.44955633  0.22803175\n",
       "13  DAM005  F             -0.02368887  0.56781880\n",
       "14  DAM005  P             -0.15208639  0.83922249\n",
       "15  DAM005  T              0.06369747  0.82070734\n",
       "16  DAM006  F             -0.03966134  0.28039319\n",
       "17  DAM006  P             -0.14424733  0.53835503\n",
       "18  DAM006  T              0.12712050  0.46565262\n",
       "19  DAM007  F             -0.30735907  0.49120427\n",
       "20  DAM007  P             -0.34386607  0.38703598\n",
       "21  DAM007  T             -0.30988111  0.25927878\n",
       "22  DAM008  F             -0.42784665  0.31550892\n",
       "23  DAM008  P             -0.14022122  0.46436253\n",
       "24  DAM008  T             -0.41356336  0.06308854\n",
       "25  DAM009  F             -0.47161695  0.42402001\n",
       "26  DAM009  P             -0.37010067  0.30323578\n",
       "27  DAM009  T             -0.48944908  0.36817081\n",
       "28  DAM010  F              1.05283684  0.32731844\n",
       "29  DAM010  P              1.00863360 -0.11461136\n",
       "30  DAM010  T              0.90762345 -0.48538453\n",
       "⋮   ⋮       ⋮             ⋮           ⋮          \n",
       "276 DAMa011 F             -0.4439137  -0.08888858\n",
       "277 DAMa011 T             -0.7358200  -0.26588402\n",
       "278 DAMa012 F             -0.5462674  -0.68306626\n",
       "279 DAMa012 T             -0.5754241  -0.74616724\n",
       "280 DAMa013 F             -0.3619779  -0.43958775\n",
       "281 DAMa013 T             -0.6148942  -0.56689691\n",
       "282 DAMa014 F             -0.4618601  -0.41446945\n",
       "283 DAMa014 T             -0.6110891  -0.47044095\n",
       "284 DAMa015 T             -0.8734626  -0.64065741\n",
       "285 DAMa015 F             -0.7112176  -0.27190442\n",
       "286 DAMa016 F             -0.4871791  -0.10501044\n",
       "287 DAMa016 T             -0.4290614  -0.31461379\n",
       "288 DAMa017 F             -0.2498786  -0.90723386\n",
       "289 DAMa017 T             -0.6124428  -0.78663363\n",
       "290 DAMa018 F             -0.3908543  -0.47924512\n",
       "291 DAMa018 T             -0.3720503  -0.37438642\n",
       "292 DAMa019 F             -0.6193438  -0.62616733\n",
       "293 DAMa019 T             -0.4972399  -0.72080184\n",
       "294 DAMa020 F             -0.5927361  -0.45578419\n",
       "295 DAMa020 T             -0.3031209  -0.53019768\n",
       "296 DAMa021 F             -0.5607769  -0.48945941\n",
       "297 DAMa021 T             -0.7409400  -0.56223426\n",
       "298 DAMa022 F             -0.7509596  -0.24205278\n",
       "299 DAMa022 T             -1.4079290   0.03431293\n",
       "300 DAMa023 F             -0.1770841  -0.94972960\n",
       "301 DAMa023 T             -0.4971785  -0.50173330\n",
       "302 DAMa024 F             -0.4561150  -0.30748262\n",
       "303 DAMa024 T             -0.1703170  -0.86060679\n",
       "304 DAMa025 F             -0.4944483  -0.76349772\n",
       "305 DAMa025 T             -0.4217124  -0.76307442"
      ]
     },
     "metadata": {},
     "output_type": "display_data"
    }
   ],
   "source": [
    "head(DAP_NEXT_TripletsXYdata)"
   ]
  },
  {
   "cell_type": "code",
   "execution_count": 98,
   "metadata": {},
   "outputs": [
    {
     "data": {
      "text/html": [
       "<table>\n",
       "<caption>A data.frame: 3 × 2</caption>\n",
       "<thead>\n",
       "\t<tr><th scope=col>DAP_mediaType</th><th scope=col>id</th></tr>\n",
       "\t<tr><th scope=col>&lt;chr&gt;</th><th scope=col>&lt;int&gt;</th></tr>\n",
       "</thead>\n",
       "<tbody>\n",
       "\t<tr><td>F</td><td>102</td></tr>\n",
       "\t<tr><td>P</td><td> 89</td></tr>\n",
       "\t<tr><td>T</td><td>114</td></tr>\n",
       "</tbody>\n",
       "</table>\n"
      ],
      "text/latex": [
       "A data.frame: 3 × 2\n",
       "\\begin{tabular}{r|ll}\n",
       " DAP\\_mediaType & id\\\\\n",
       " <chr> & <int>\\\\\n",
       "\\hline\n",
       "\t F & 102\\\\\n",
       "\t P &  89\\\\\n",
       "\t T & 114\\\\\n",
       "\\end{tabular}\n"
      ],
      "text/markdown": [
       "\n",
       "A data.frame: 3 × 2\n",
       "\n",
       "| DAP_mediaType &lt;chr&gt; | id &lt;int&gt; |\n",
       "|---|---|\n",
       "| F | 102 |\n",
       "| P |  89 |\n",
       "| T | 114 |\n",
       "\n"
      ],
      "text/plain": [
       "  DAP_mediaType id \n",
       "1 F             102\n",
       "2 P              89\n",
       "3 T             114"
      ]
     },
     "metadata": {},
     "output_type": "display_data"
    }
   ],
   "source": [
    "# how many total participants based on asq, Study and mediaType?\n",
    " aggregate(id ~ id +  DAP_mediaType, data=DAP_NEXT_TripletsXYdata , FUN=function(x) length(unique(x)))"
   ]
  },
  {
   "cell_type": "markdown",
   "metadata": {},
   "source": [
    "#### Export data file"
   ]
  },
  {
   "cell_type": "code",
   "execution_count": 99,
   "metadata": {},
   "outputs": [],
   "source": [
    "#PC - must map network Z drive to rogerslab.drive.wisc.edu first\n",
    "\n",
    "#Mac - must connect to rogerslab.drive.wisc.edu first\n",
    "setwd(\"/Volumes/rogerslab/NEXT/NEXTdrawings/Data/NEXTdrawingsData/EmbeddingData\")\n",
    "\n",
    "#laptop\n",
    "#setwd(\"/Users/clintjensen/NEXT/NEXTdrawingsDownloads/Data/NEXTdrawingsData/EmbeddingData\")"
   ]
  },
  {
   "cell_type": "code",
   "execution_count": 100,
   "metadata": {},
   "outputs": [],
   "source": [
    "write.table(DAP_NEXT_TripletsXYdata, \"DAP_NEXT_TripletsXYdata_2020_10_27.csv\", sep=\",\", col.names=T, row.names=F)"
   ]
  },
  {
   "cell_type": "markdown",
   "metadata": {},
   "source": [
    "# <font color='blue'>Bringing in NEXT Cube Data</font>"
   ]
  },
  {
   "cell_type": "markdown",
   "metadata": {},
   "source": [
    "#### Setting R to file where Embedding data is stored"
   ]
  },
  {
   "cell_type": "code",
   "execution_count": 101,
   "metadata": {},
   "outputs": [],
   "source": [
    "#PC - must map network Z drive to rogerslab.drive.wisc.edu first\n",
    "#setwd(\"Z:/NEXT/NEXTdrawings/Data/NEXTdrawingsData/TripletEmbeddings/2019_10_30stub.yamlStyle_CUBE_triplets/1\")\n",
    "\n",
    "#Mac - must connect to rogerslab.drive.wisc.edu first\n",
    "setwd(\"/Volumes/rogerslab/NEXT/NEXTdrawings/Data/NEXTdrawingsData/TripletEmbeddings/2019_10_30stub.yamlStyle_CUBE_triplets/1\")\n",
    "\n",
    "#laptop\n",
    "#setwd(\"/Users/clintjensen/NEXT/NEXTdrawingsDownloads/Data/NEXTdrawingsData/TripletEmbeddings/2019_10_30stub.yamlStyle_CUBE_triplets/1\")"
   ]
  },
  {
   "cell_type": "code",
   "execution_count": 102,
   "metadata": {},
   "outputs": [],
   "source": [
    "Server_data <- list.files(pattern=\".\", full.names = TRUE)"
   ]
  },
  {
   "cell_type": "code",
   "execution_count": 103,
   "metadata": {},
   "outputs": [
    {
     "data": {
      "text/html": [
       "<ol class=list-inline>\n",
       "\t<li>'./combinedDATA.csv'</li>\n",
       "\t<li>'./labels.txt'</li>\n",
       "\t<li>'./loss.csv'</li>\n",
       "\t<li>'./loss.json'</li>\n",
       "\t<li>'./model.csv'</li>\n",
       "\t<li>'./params.json'</li>\n",
       "\t<li>'./querydata.json'</li>\n",
       "\t<li>'./responses_Test_TEST.csv'</li>\n",
       "\t<li>'./responses_Train_TRAIN.csv'</li>\n",
       "</ol>\n"
      ],
      "text/latex": [
       "\\begin{enumerate*}\n",
       "\\item './combinedDATA.csv'\n",
       "\\item './labels.txt'\n",
       "\\item './loss.csv'\n",
       "\\item './loss.json'\n",
       "\\item './model.csv'\n",
       "\\item './params.json'\n",
       "\\item './querydata.json'\n",
       "\\item './responses\\_Test\\_TEST.csv'\n",
       "\\item './responses\\_Train\\_TRAIN.csv'\n",
       "\\end{enumerate*}\n"
      ],
      "text/markdown": [
       "1. './combinedDATA.csv'\n",
       "2. './labels.txt'\n",
       "3. './loss.csv'\n",
       "4. './loss.json'\n",
       "5. './model.csv'\n",
       "6. './params.json'\n",
       "7. './querydata.json'\n",
       "8. './responses_Test_TEST.csv'\n",
       "9. './responses_Train_TRAIN.csv'\n",
       "\n",
       "\n"
      ],
      "text/plain": [
       "[1] \"./combinedDATA.csv\"          \"./labels.txt\"               \n",
       "[3] \"./loss.csv\"                  \"./loss.json\"                \n",
       "[5] \"./model.csv\"                 \"./params.json\"              \n",
       "[7] \"./querydata.json\"            \"./responses_Test_TEST.csv\"  \n",
       "[9] \"./responses_Train_TRAIN.csv\""
      ]
     },
     "metadata": {},
     "output_type": "display_data"
    }
   ],
   "source": [
    "Server_data"
   ]
  },
  {
   "cell_type": "code",
   "execution_count": 104,
   "metadata": {},
   "outputs": [],
   "source": [
    "loss <- read.csv(\"loss.csv\", header=FALSE)\n",
    "labels <- read.delim(\"labels.txt\", header = FALSE, sep = \"\\t\", dec = \".\")\n",
    "model <- read.csv(\"model.csv\", header=FALSE)"
   ]
  },
  {
   "cell_type": "code",
   "execution_count": 105,
   "metadata": {},
   "outputs": [
    {
     "data": {
      "text/html": [
       "<table>\n",
       "<caption>A data.frame: 1 × 2</caption>\n",
       "<thead>\n",
       "\t<tr><th scope=col>V1</th><th scope=col>V2</th></tr>\n",
       "\t<tr><th scope=col>&lt;dbl&gt;</th><th scope=col>&lt;dbl&gt;</th></tr>\n",
       "</thead>\n",
       "<tbody>\n",
       "\t<tr><td>0.2643133</td><td>0.2824011</td></tr>\n",
       "</tbody>\n",
       "</table>\n"
      ],
      "text/latex": [
       "A data.frame: 1 × 2\n",
       "\\begin{tabular}{r|ll}\n",
       " V1 & V2\\\\\n",
       " <dbl> & <dbl>\\\\\n",
       "\\hline\n",
       "\t 0.2643133 & 0.2824011\\\\\n",
       "\\end{tabular}\n"
      ],
      "text/markdown": [
       "\n",
       "A data.frame: 1 × 2\n",
       "\n",
       "| V1 &lt;dbl&gt; | V2 &lt;dbl&gt; |\n",
       "|---|---|\n",
       "| 0.2643133 | 0.2824011 |\n",
       "\n"
      ],
      "text/plain": [
       "  V1        V2       \n",
       "1 0.2643133 0.2824011"
      ]
     },
     "metadata": {},
     "output_type": "display_data"
    },
    {
     "data": {
      "text/html": [
       "<table>\n",
       "<caption>A data.frame: 6 × 1</caption>\n",
       "<thead>\n",
       "\t<tr><th scope=col>V1</th></tr>\n",
       "\t<tr><th scope=col>&lt;fct&gt;</th></tr>\n",
       "</thead>\n",
       "<tbody>\n",
       "\t<tr><td>CUA_3D_Cube_edit  </td></tr>\n",
       "\t<tr><td>CUD_2D_Cube_edit  </td></tr>\n",
       "\t<tr><td>DAM3D001_P_CUAedit</td></tr>\n",
       "\t<tr><td>DAM3D002_F_CUDedit</td></tr>\n",
       "\t<tr><td>DAM3D002_P_CUAedit</td></tr>\n",
       "\t<tr><td>DAM3D002_T_CUDedit</td></tr>\n",
       "</tbody>\n",
       "</table>\n"
      ],
      "text/latex": [
       "A data.frame: 6 × 1\n",
       "\\begin{tabular}{r|l}\n",
       " V1\\\\\n",
       " <fct>\\\\\n",
       "\\hline\n",
       "\t CUA\\_3D\\_Cube\\_edit  \\\\\n",
       "\t CUD\\_2D\\_Cube\\_edit  \\\\\n",
       "\t DAM3D001\\_P\\_CUAedit\\\\\n",
       "\t DAM3D002\\_F\\_CUDedit\\\\\n",
       "\t DAM3D002\\_P\\_CUAedit\\\\\n",
       "\t DAM3D002\\_T\\_CUDedit\\\\\n",
       "\\end{tabular}\n"
      ],
      "text/markdown": [
       "\n",
       "A data.frame: 6 × 1\n",
       "\n",
       "| V1 &lt;fct&gt; |\n",
       "|---|\n",
       "| CUA_3D_Cube_edit   |\n",
       "| CUD_2D_Cube_edit   |\n",
       "| DAM3D001_P_CUAedit |\n",
       "| DAM3D002_F_CUDedit |\n",
       "| DAM3D002_P_CUAedit |\n",
       "| DAM3D002_T_CUDedit |\n",
       "\n"
      ],
      "text/plain": [
       "  V1                \n",
       "1 CUA_3D_Cube_edit  \n",
       "2 CUD_2D_Cube_edit  \n",
       "3 DAM3D001_P_CUAedit\n",
       "4 DAM3D002_F_CUDedit\n",
       "5 DAM3D002_P_CUAedit\n",
       "6 DAM3D002_T_CUDedit"
      ]
     },
     "metadata": {},
     "output_type": "display_data"
    },
    {
     "data": {
      "text/html": [
       "<table>\n",
       "<caption>A data.frame: 6 × 2</caption>\n",
       "<thead>\n",
       "\t<tr><th scope=col>V1</th><th scope=col>V2</th></tr>\n",
       "\t<tr><th scope=col>&lt;dbl&gt;</th><th scope=col>&lt;dbl&gt;</th></tr>\n",
       "</thead>\n",
       "<tbody>\n",
       "\t<tr><td>-0.4575054</td><td>-1.09600240</td></tr>\n",
       "\t<tr><td>-0.5322104</td><td>-0.85375702</td></tr>\n",
       "\t<tr><td>-0.5028356</td><td>-0.06529614</td></tr>\n",
       "\t<tr><td>-0.5140222</td><td>-0.06359127</td></tr>\n",
       "\t<tr><td>-0.5326146</td><td>-0.43417944</td></tr>\n",
       "\t<tr><td>-0.9392444</td><td>-0.28619059</td></tr>\n",
       "</tbody>\n",
       "</table>\n"
      ],
      "text/latex": [
       "A data.frame: 6 × 2\n",
       "\\begin{tabular}{r|ll}\n",
       " V1 & V2\\\\\n",
       " <dbl> & <dbl>\\\\\n",
       "\\hline\n",
       "\t -0.4575054 & -1.09600240\\\\\n",
       "\t -0.5322104 & -0.85375702\\\\\n",
       "\t -0.5028356 & -0.06529614\\\\\n",
       "\t -0.5140222 & -0.06359127\\\\\n",
       "\t -0.5326146 & -0.43417944\\\\\n",
       "\t -0.9392444 & -0.28619059\\\\\n",
       "\\end{tabular}\n"
      ],
      "text/markdown": [
       "\n",
       "A data.frame: 6 × 2\n",
       "\n",
       "| V1 &lt;dbl&gt; | V2 &lt;dbl&gt; |\n",
       "|---|---|\n",
       "| -0.4575054 | -1.09600240 |\n",
       "| -0.5322104 | -0.85375702 |\n",
       "| -0.5028356 | -0.06529614 |\n",
       "| -0.5140222 | -0.06359127 |\n",
       "| -0.5326146 | -0.43417944 |\n",
       "| -0.9392444 | -0.28619059 |\n",
       "\n"
      ],
      "text/plain": [
       "  V1         V2         \n",
       "1 -0.4575054 -1.09600240\n",
       "2 -0.5322104 -0.85375702\n",
       "3 -0.5028356 -0.06529614\n",
       "4 -0.5140222 -0.06359127\n",
       "5 -0.5326146 -0.43417944\n",
       "6 -0.9392444 -0.28619059"
      ]
     },
     "metadata": {},
     "output_type": "display_data"
    }
   ],
   "source": [
    "loss\n",
    "head(labels)\n",
    "head(model)"
   ]
  },
  {
   "cell_type": "code",
   "execution_count": 106,
   "metadata": {},
   "outputs": [],
   "source": [
    "labels <- labels %>% rename(image = V1)"
   ]
  },
  {
   "cell_type": "code",
   "execution_count": 107,
   "metadata": {},
   "outputs": [],
   "source": [
    "model <- model %>% rename(Cube_x = V1, Cube_y = V2)"
   ]
  },
  {
   "cell_type": "code",
   "execution_count": 108,
   "metadata": {},
   "outputs": [],
   "source": [
    "Cube_NEXT_TripletsXYdata <-  cbind(labels,model)"
   ]
  },
  {
   "cell_type": "markdown",
   "metadata": {},
   "source": [
    "#### Checking data file"
   ]
  },
  {
   "cell_type": "code",
   "execution_count": 109,
   "metadata": {},
   "outputs": [
    {
     "data": {
      "text/html": [
       "<table>\n",
       "<caption>A data.frame: 6 × 3</caption>\n",
       "<thead>\n",
       "\t<tr><th scope=col>image</th><th scope=col>Cube_x</th><th scope=col>Cube_y</th></tr>\n",
       "\t<tr><th scope=col>&lt;fct&gt;</th><th scope=col>&lt;dbl&gt;</th><th scope=col>&lt;dbl&gt;</th></tr>\n",
       "</thead>\n",
       "<tbody>\n",
       "\t<tr><td>CUA_3D_Cube_edit  </td><td>-0.4575054</td><td>-1.09600240</td></tr>\n",
       "\t<tr><td>CUD_2D_Cube_edit  </td><td>-0.5322104</td><td>-0.85375702</td></tr>\n",
       "\t<tr><td>DAM3D001_P_CUAedit</td><td>-0.5028356</td><td>-0.06529614</td></tr>\n",
       "\t<tr><td>DAM3D002_F_CUDedit</td><td>-0.5140222</td><td>-0.06359127</td></tr>\n",
       "\t<tr><td>DAM3D002_P_CUAedit</td><td>-0.5326146</td><td>-0.43417944</td></tr>\n",
       "\t<tr><td>DAM3D002_T_CUDedit</td><td>-0.9392444</td><td>-0.28619059</td></tr>\n",
       "</tbody>\n",
       "</table>\n"
      ],
      "text/latex": [
       "A data.frame: 6 × 3\n",
       "\\begin{tabular}{r|lll}\n",
       " image & Cube\\_x & Cube\\_y\\\\\n",
       " <fct> & <dbl> & <dbl>\\\\\n",
       "\\hline\n",
       "\t CUA\\_3D\\_Cube\\_edit   & -0.4575054 & -1.09600240\\\\\n",
       "\t CUD\\_2D\\_Cube\\_edit   & -0.5322104 & -0.85375702\\\\\n",
       "\t DAM3D001\\_P\\_CUAedit & -0.5028356 & -0.06529614\\\\\n",
       "\t DAM3D002\\_F\\_CUDedit & -0.5140222 & -0.06359127\\\\\n",
       "\t DAM3D002\\_P\\_CUAedit & -0.5326146 & -0.43417944\\\\\n",
       "\t DAM3D002\\_T\\_CUDedit & -0.9392444 & -0.28619059\\\\\n",
       "\\end{tabular}\n"
      ],
      "text/markdown": [
       "\n",
       "A data.frame: 6 × 3\n",
       "\n",
       "| image &lt;fct&gt; | Cube_x &lt;dbl&gt; | Cube_y &lt;dbl&gt; |\n",
       "|---|---|---|\n",
       "| CUA_3D_Cube_edit   | -0.4575054 | -1.09600240 |\n",
       "| CUD_2D_Cube_edit   | -0.5322104 | -0.85375702 |\n",
       "| DAM3D001_P_CUAedit | -0.5028356 | -0.06529614 |\n",
       "| DAM3D002_F_CUDedit | -0.5140222 | -0.06359127 |\n",
       "| DAM3D002_P_CUAedit | -0.5326146 | -0.43417944 |\n",
       "| DAM3D002_T_CUDedit | -0.9392444 | -0.28619059 |\n",
       "\n"
      ],
      "text/plain": [
       "  image              Cube_x     Cube_y     \n",
       "1 CUA_3D_Cube_edit   -0.4575054 -1.09600240\n",
       "2 CUD_2D_Cube_edit   -0.5322104 -0.85375702\n",
       "3 DAM3D001_P_CUAedit -0.5028356 -0.06529614\n",
       "4 DAM3D002_F_CUDedit -0.5140222 -0.06359127\n",
       "5 DAM3D002_P_CUAedit -0.5326146 -0.43417944\n",
       "6 DAM3D002_T_CUDedit -0.9392444 -0.28619059"
      ]
     },
     "metadata": {},
     "output_type": "display_data"
    }
   ],
   "source": [
    "head(Cube_NEXT_TripletsXYdata)"
   ]
  },
  {
   "cell_type": "code",
   "execution_count": 110,
   "metadata": {},
   "outputs": [
    {
     "name": "stderr",
     "output_type": "stream",
     "text": [
      "Warning message:\n",
      "“Expected 3 pieces. Additional pieces discarded in 2 rows [1, 2].”"
     ]
    }
   ],
   "source": [
    "# separating data based on underscore used in distinguishing common elements among variables\n",
    "#separate( ) function: #Objective - Splitting a single variable into two\n",
    "Cube_NEXT_TripletsXYdata <- separate(Cube_NEXT_TripletsXYdata, image, \n",
    "                            c(\"id\", \"Cube_mediaType\",\"imageLabel\"), sep = \"_\", remove = TRUE, convert = FALSE)"
   ]
  },
  {
   "cell_type": "markdown",
   "metadata": {},
   "source": [
    "#### Explanation for Warning message: “Expected 3 pieces. Additional pieces discarded in 2 rows [1, 2].”\n",
    "The images CUA and CUD are the stimuli used during the task, thus not produced by participants. \n",
    "For this reason their names differ from the common structure (they include '_edit' after the first two values).\n",
    "Shown below in the output is how they are fit into that structure after this adjustment (the '_edit' is discarded)."
   ]
  },
  {
   "cell_type": "code",
   "execution_count": 111,
   "metadata": {},
   "outputs": [],
   "source": [
    "Cube_NEXT_TripletsXYdata <- select(Cube_NEXT_TripletsXYdata, id, Cube_mediaType, Cube_x, Cube_y)"
   ]
  },
  {
   "cell_type": "code",
   "execution_count": 112,
   "metadata": {},
   "outputs": [
    {
     "data": {
      "text/html": [
       "<table>\n",
       "<caption>A data.frame: 6 × 4</caption>\n",
       "<thead>\n",
       "\t<tr><th scope=col>id</th><th scope=col>Cube_mediaType</th><th scope=col>Cube_x</th><th scope=col>Cube_y</th></tr>\n",
       "\t<tr><th scope=col>&lt;chr&gt;</th><th scope=col>&lt;chr&gt;</th><th scope=col>&lt;dbl&gt;</th><th scope=col>&lt;dbl&gt;</th></tr>\n",
       "</thead>\n",
       "<tbody>\n",
       "\t<tr><td>CUA     </td><td>3D</td><td>-0.4575054</td><td>-1.09600240</td></tr>\n",
       "\t<tr><td>CUD     </td><td>2D</td><td>-0.5322104</td><td>-0.85375702</td></tr>\n",
       "\t<tr><td>DAM3D001</td><td>P </td><td>-0.5028356</td><td>-0.06529614</td></tr>\n",
       "\t<tr><td>DAM3D002</td><td>F </td><td>-0.5140222</td><td>-0.06359127</td></tr>\n",
       "\t<tr><td>DAM3D002</td><td>P </td><td>-0.5326146</td><td>-0.43417944</td></tr>\n",
       "\t<tr><td>DAM3D002</td><td>T </td><td>-0.9392444</td><td>-0.28619059</td></tr>\n",
       "</tbody>\n",
       "</table>\n"
      ],
      "text/latex": [
       "A data.frame: 6 × 4\n",
       "\\begin{tabular}{r|llll}\n",
       " id & Cube\\_mediaType & Cube\\_x & Cube\\_y\\\\\n",
       " <chr> & <chr> & <dbl> & <dbl>\\\\\n",
       "\\hline\n",
       "\t CUA      & 3D & -0.4575054 & -1.09600240\\\\\n",
       "\t CUD      & 2D & -0.5322104 & -0.85375702\\\\\n",
       "\t DAM3D001 & P  & -0.5028356 & -0.06529614\\\\\n",
       "\t DAM3D002 & F  & -0.5140222 & -0.06359127\\\\\n",
       "\t DAM3D002 & P  & -0.5326146 & -0.43417944\\\\\n",
       "\t DAM3D002 & T  & -0.9392444 & -0.28619059\\\\\n",
       "\\end{tabular}\n"
      ],
      "text/markdown": [
       "\n",
       "A data.frame: 6 × 4\n",
       "\n",
       "| id &lt;chr&gt; | Cube_mediaType &lt;chr&gt; | Cube_x &lt;dbl&gt; | Cube_y &lt;dbl&gt; |\n",
       "|---|---|---|---|\n",
       "| CUA      | 3D | -0.4575054 | -1.09600240 |\n",
       "| CUD      | 2D | -0.5322104 | -0.85375702 |\n",
       "| DAM3D001 | P  | -0.5028356 | -0.06529614 |\n",
       "| DAM3D002 | F  | -0.5140222 | -0.06359127 |\n",
       "| DAM3D002 | P  | -0.5326146 | -0.43417944 |\n",
       "| DAM3D002 | T  | -0.9392444 | -0.28619059 |\n",
       "\n"
      ],
      "text/plain": [
       "  id       Cube_mediaType Cube_x     Cube_y     \n",
       "1 CUA      3D             -0.4575054 -1.09600240\n",
       "2 CUD      2D             -0.5322104 -0.85375702\n",
       "3 DAM3D001 P              -0.5028356 -0.06529614\n",
       "4 DAM3D002 F              -0.5140222 -0.06359127\n",
       "5 DAM3D002 P              -0.5326146 -0.43417944\n",
       "6 DAM3D002 T              -0.9392444 -0.28619059"
      ]
     },
     "metadata": {},
     "output_type": "display_data"
    }
   ],
   "source": [
    "head(Cube_NEXT_TripletsXYdata)"
   ]
  },
  {
   "cell_type": "code",
   "execution_count": 114,
   "metadata": {},
   "outputs": [
    {
     "data": {
      "text/html": [
       "<table>\n",
       "<caption>A data.frame: 5 × 2</caption>\n",
       "<thead>\n",
       "\t<tr><th scope=col>Cube_mediaType</th><th scope=col>id</th></tr>\n",
       "\t<tr><th scope=col>&lt;chr&gt;</th><th scope=col>&lt;int&gt;</th></tr>\n",
       "</thead>\n",
       "<tbody>\n",
       "\t<tr><td>2D</td><td> 1</td></tr>\n",
       "\t<tr><td>3D</td><td> 1</td></tr>\n",
       "\t<tr><td>F </td><td>51</td></tr>\n",
       "\t<tr><td>P </td><td>65</td></tr>\n",
       "\t<tr><td>T </td><td>51</td></tr>\n",
       "</tbody>\n",
       "</table>\n"
      ],
      "text/latex": [
       "A data.frame: 5 × 2\n",
       "\\begin{tabular}{r|ll}\n",
       " Cube\\_mediaType & id\\\\\n",
       " <chr> & <int>\\\\\n",
       "\\hline\n",
       "\t 2D &  1\\\\\n",
       "\t 3D &  1\\\\\n",
       "\t F  & 51\\\\\n",
       "\t P  & 65\\\\\n",
       "\t T  & 51\\\\\n",
       "\\end{tabular}\n"
      ],
      "text/markdown": [
       "\n",
       "A data.frame: 5 × 2\n",
       "\n",
       "| Cube_mediaType &lt;chr&gt; | id &lt;int&gt; |\n",
       "|---|---|\n",
       "| 2D |  1 |\n",
       "| 3D |  1 |\n",
       "| F  | 51 |\n",
       "| P  | 65 |\n",
       "| T  | 51 |\n",
       "\n"
      ],
      "text/plain": [
       "  Cube_mediaType id\n",
       "1 2D              1\n",
       "2 3D              1\n",
       "3 F              51\n",
       "4 P              65\n",
       "5 T              51"
      ]
     },
     "metadata": {},
     "output_type": "display_data"
    }
   ],
   "source": [
    "# how many total participants based on id and mediaType?\n",
    "aggregate(id ~ id +  Cube_mediaType , data=Cube_NEXT_TripletsXYdata , FUN=function(x) length(unique(x)))"
   ]
  },
  {
   "cell_type": "markdown",
   "metadata": {},
   "source": [
    "#### Export data file"
   ]
  },
  {
   "cell_type": "code",
   "execution_count": 115,
   "metadata": {},
   "outputs": [],
   "source": [
    "#PC - must map network Z drive to rogerslab.drive.wisc.edu first\n",
    "\n",
    "#Mac - must connect to rogerslab.drive.wisc.edu first\n",
    "setwd(\"/Volumes/rogerslab/NEXT/NEXTdrawings/Data/NEXTdrawingsData/EmbeddingData\")\n",
    "\n",
    "#laptop\n",
    "#setwd(\"/Users/clintjensen/NEXT/NEXTdrawingsDownloads/Data/NEXTdrawingsData/EmbeddingData\")"
   ]
  },
  {
   "cell_type": "code",
   "execution_count": 116,
   "metadata": {},
   "outputs": [],
   "source": [
    "#write.csv(Cube_NEXT_TripletsXYdata , file = \"Cube_NEXT_TripletsXYdata.csv\")\n",
    "\n",
    "write.table(Cube_NEXT_TripletsXYdata, \"Cube_NEXT_TripletsXYdata.csv\", sep=\",\", col.names=T, row.names=F)"
   ]
  },
  {
   "cell_type": "markdown",
   "metadata": {},
   "source": [
    "# <font color='blue'>  Bringing in NEXT Cylinder (CYL) Data </font>"
   ]
  },
  {
   "cell_type": "markdown",
   "metadata": {},
   "source": [
    "#### Setting R to file where Embedding data is stored"
   ]
  },
  {
   "cell_type": "code",
   "execution_count": 117,
   "metadata": {},
   "outputs": [],
   "source": [
    "#PC - must map network Z drive to rogerslab.drive.wisc.edu first\n",
    "#setwd(\"Z:/NEXT/NEXTdrawings/Data/NEXTdrawingsData/TripletEmbeddings/2019_11_01stub.yamlStyle_CYLINDER_triplets/1\")\n",
    "\n",
    "#Mac - must connect to rogerslab.drive.wisc.edu first\n",
    "setwd(\"/Volumes/rogerslab/NEXT/NEXTdrawings/Data/NEXTdrawingsData/TripletEmbeddings/2019_11_01stub.yamlStyle_CYLINDER_triplets/1\")\n",
    "\n",
    "#laptop\n",
    "#setwd(\"/Users/clintjensen/NEXT/NEXTdrawingsDownloads/Data/NEXTdrawingsData/TripletEmbeddings/2019_11_01stub.yamlStyle_CYLINDER_triplets/1\")"
   ]
  },
  {
   "cell_type": "code",
   "execution_count": 118,
   "metadata": {},
   "outputs": [],
   "source": [
    "Server_data <- list.files(pattern=\".\", full.names = TRUE)"
   ]
  },
  {
   "cell_type": "code",
   "execution_count": 119,
   "metadata": {},
   "outputs": [
    {
     "data": {
      "text/html": [
       "<ol class=list-inline>\n",
       "\t<li>'./combinedDATA.csv'</li>\n",
       "\t<li>'./labels.txt'</li>\n",
       "\t<li>'./loss.csv'</li>\n",
       "\t<li>'./loss.json'</li>\n",
       "\t<li>'./model.csv'</li>\n",
       "\t<li>'./params.json'</li>\n",
       "\t<li>'./querydata.json'</li>\n",
       "\t<li>'./responses_Test_TEST.csv'</li>\n",
       "\t<li>'./responses_Train_TRAIN.csv'</li>\n",
       "</ol>\n"
      ],
      "text/latex": [
       "\\begin{enumerate*}\n",
       "\\item './combinedDATA.csv'\n",
       "\\item './labels.txt'\n",
       "\\item './loss.csv'\n",
       "\\item './loss.json'\n",
       "\\item './model.csv'\n",
       "\\item './params.json'\n",
       "\\item './querydata.json'\n",
       "\\item './responses\\_Test\\_TEST.csv'\n",
       "\\item './responses\\_Train\\_TRAIN.csv'\n",
       "\\end{enumerate*}\n"
      ],
      "text/markdown": [
       "1. './combinedDATA.csv'\n",
       "2. './labels.txt'\n",
       "3. './loss.csv'\n",
       "4. './loss.json'\n",
       "5. './model.csv'\n",
       "6. './params.json'\n",
       "7. './querydata.json'\n",
       "8. './responses_Test_TEST.csv'\n",
       "9. './responses_Train_TRAIN.csv'\n",
       "\n",
       "\n"
      ],
      "text/plain": [
       "[1] \"./combinedDATA.csv\"          \"./labels.txt\"               \n",
       "[3] \"./loss.csv\"                  \"./loss.json\"                \n",
       "[5] \"./model.csv\"                 \"./params.json\"              \n",
       "[7] \"./querydata.json\"            \"./responses_Test_TEST.csv\"  \n",
       "[9] \"./responses_Train_TRAIN.csv\""
      ]
     },
     "metadata": {},
     "output_type": "display_data"
    }
   ],
   "source": [
    "Server_data"
   ]
  },
  {
   "cell_type": "code",
   "execution_count": 120,
   "metadata": {},
   "outputs": [],
   "source": [
    "loss <- read.csv(\"loss.csv\", header=FALSE)\n",
    "model <- read.csv(\"model.csv\", header=FALSE)\n",
    "labels <- read.delim(\"labels.txt\", header = FALSE, sep = \"\\t\", dec = \".\")"
   ]
  },
  {
   "cell_type": "code",
   "execution_count": 122,
   "metadata": {},
   "outputs": [
    {
     "data": {
      "text/html": [
       "<table>\n",
       "<caption>A data.frame: 1 × 2</caption>\n",
       "<thead>\n",
       "\t<tr><th scope=col>V1</th><th scope=col>V2</th></tr>\n",
       "\t<tr><th scope=col>&lt;dbl&gt;</th><th scope=col>&lt;dbl&gt;</th></tr>\n",
       "</thead>\n",
       "<tbody>\n",
       "\t<tr><td>0.2550747</td><td>0.249248</td></tr>\n",
       "</tbody>\n",
       "</table>\n"
      ],
      "text/latex": [
       "A data.frame: 1 × 2\n",
       "\\begin{tabular}{r|ll}\n",
       " V1 & V2\\\\\n",
       " <dbl> & <dbl>\\\\\n",
       "\\hline\n",
       "\t 0.2550747 & 0.249248\\\\\n",
       "\\end{tabular}\n"
      ],
      "text/markdown": [
       "\n",
       "A data.frame: 1 × 2\n",
       "\n",
       "| V1 &lt;dbl&gt; | V2 &lt;dbl&gt; |\n",
       "|---|---|\n",
       "| 0.2550747 | 0.249248 |\n",
       "\n"
      ],
      "text/plain": [
       "  V1        V2      \n",
       "1 0.2550747 0.249248"
      ]
     },
     "metadata": {},
     "output_type": "display_data"
    },
    {
     "data": {
      "text/html": [
       "<table>\n",
       "<caption>A data.frame: 6 × 1</caption>\n",
       "<thead>\n",
       "\t<tr><th scope=col>V1</th></tr>\n",
       "\t<tr><th scope=col>&lt;fct&gt;</th></tr>\n",
       "</thead>\n",
       "<tbody>\n",
       "\t<tr><td>CYA_3D_Cylinder_edit</td></tr>\n",
       "\t<tr><td>CYD_2D_Cylinder_edit</td></tr>\n",
       "\t<tr><td>DAM3D001_F_CYAedit  </td></tr>\n",
       "\t<tr><td>DAM3D001_P_CYDedit  </td></tr>\n",
       "\t<tr><td>DAM3D001_T_CYAedit  </td></tr>\n",
       "\t<tr><td>DAM3D002_F_CYAedit  </td></tr>\n",
       "</tbody>\n",
       "</table>\n"
      ],
      "text/latex": [
       "A data.frame: 6 × 1\n",
       "\\begin{tabular}{r|l}\n",
       " V1\\\\\n",
       " <fct>\\\\\n",
       "\\hline\n",
       "\t CYA\\_3D\\_Cylinder\\_edit\\\\\n",
       "\t CYD\\_2D\\_Cylinder\\_edit\\\\\n",
       "\t DAM3D001\\_F\\_CYAedit  \\\\\n",
       "\t DAM3D001\\_P\\_CYDedit  \\\\\n",
       "\t DAM3D001\\_T\\_CYAedit  \\\\\n",
       "\t DAM3D002\\_F\\_CYAedit  \\\\\n",
       "\\end{tabular}\n"
      ],
      "text/markdown": [
       "\n",
       "A data.frame: 6 × 1\n",
       "\n",
       "| V1 &lt;fct&gt; |\n",
       "|---|\n",
       "| CYA_3D_Cylinder_edit |\n",
       "| CYD_2D_Cylinder_edit |\n",
       "| DAM3D001_F_CYAedit   |\n",
       "| DAM3D001_P_CYDedit   |\n",
       "| DAM3D001_T_CYAedit   |\n",
       "| DAM3D002_F_CYAedit   |\n",
       "\n"
      ],
      "text/plain": [
       "  V1                  \n",
       "1 CYA_3D_Cylinder_edit\n",
       "2 CYD_2D_Cylinder_edit\n",
       "3 DAM3D001_F_CYAedit  \n",
       "4 DAM3D001_P_CYDedit  \n",
       "5 DAM3D001_T_CYAedit  \n",
       "6 DAM3D002_F_CYAedit  "
      ]
     },
     "metadata": {},
     "output_type": "display_data"
    },
    {
     "data": {
      "text/html": [
       "<table>\n",
       "<caption>A data.frame: 6 × 2</caption>\n",
       "<thead>\n",
       "\t<tr><th scope=col>V1</th><th scope=col>V2</th></tr>\n",
       "\t<tr><th scope=col>&lt;dbl&gt;</th><th scope=col>&lt;dbl&gt;</th></tr>\n",
       "</thead>\n",
       "<tbody>\n",
       "\t<tr><td>-0.16907949</td><td>-0.8764045</td></tr>\n",
       "\t<tr><td> 0.02231006</td><td>-0.9875438</td></tr>\n",
       "\t<tr><td>-0.68576273</td><td>-0.1298833</td></tr>\n",
       "\t<tr><td>-0.27881001</td><td>-0.1230406</td></tr>\n",
       "\t<tr><td>-0.41527247</td><td>-0.1129261</td></tr>\n",
       "\t<tr><td>-0.49271010</td><td>-0.3213007</td></tr>\n",
       "</tbody>\n",
       "</table>\n"
      ],
      "text/latex": [
       "A data.frame: 6 × 2\n",
       "\\begin{tabular}{r|ll}\n",
       " V1 & V2\\\\\n",
       " <dbl> & <dbl>\\\\\n",
       "\\hline\n",
       "\t -0.16907949 & -0.8764045\\\\\n",
       "\t  0.02231006 & -0.9875438\\\\\n",
       "\t -0.68576273 & -0.1298833\\\\\n",
       "\t -0.27881001 & -0.1230406\\\\\n",
       "\t -0.41527247 & -0.1129261\\\\\n",
       "\t -0.49271010 & -0.3213007\\\\\n",
       "\\end{tabular}\n"
      ],
      "text/markdown": [
       "\n",
       "A data.frame: 6 × 2\n",
       "\n",
       "| V1 &lt;dbl&gt; | V2 &lt;dbl&gt; |\n",
       "|---|---|\n",
       "| -0.16907949 | -0.8764045 |\n",
       "|  0.02231006 | -0.9875438 |\n",
       "| -0.68576273 | -0.1298833 |\n",
       "| -0.27881001 | -0.1230406 |\n",
       "| -0.41527247 | -0.1129261 |\n",
       "| -0.49271010 | -0.3213007 |\n",
       "\n"
      ],
      "text/plain": [
       "  V1          V2        \n",
       "1 -0.16907949 -0.8764045\n",
       "2  0.02231006 -0.9875438\n",
       "3 -0.68576273 -0.1298833\n",
       "4 -0.27881001 -0.1230406\n",
       "5 -0.41527247 -0.1129261\n",
       "6 -0.49271010 -0.3213007"
      ]
     },
     "metadata": {},
     "output_type": "display_data"
    }
   ],
   "source": [
    "loss\n",
    "head(labels)\n",
    "head(model)"
   ]
  },
  {
   "cell_type": "code",
   "execution_count": 123,
   "metadata": {},
   "outputs": [],
   "source": [
    "labels <- labels %>% rename(image = V1)"
   ]
  },
  {
   "cell_type": "code",
   "execution_count": 124,
   "metadata": {},
   "outputs": [],
   "source": [
    "model <- model %>% rename(CYL_x = V1, CYL_y = V2)"
   ]
  },
  {
   "cell_type": "code",
   "execution_count": 125,
   "metadata": {},
   "outputs": [],
   "source": [
    "CYL_NEXT_TripletsXYdata <- cbind(labels,model)"
   ]
  },
  {
   "cell_type": "markdown",
   "metadata": {},
   "source": [
    "#### Checking data file"
   ]
  },
  {
   "cell_type": "code",
   "execution_count": 126,
   "metadata": {},
   "outputs": [
    {
     "data": {
      "text/html": [
       "<table>\n",
       "<caption>A data.frame: 6 × 3</caption>\n",
       "<thead>\n",
       "\t<tr><th scope=col>image</th><th scope=col>CYL_x</th><th scope=col>CYL_y</th></tr>\n",
       "\t<tr><th scope=col>&lt;fct&gt;</th><th scope=col>&lt;dbl&gt;</th><th scope=col>&lt;dbl&gt;</th></tr>\n",
       "</thead>\n",
       "<tbody>\n",
       "\t<tr><td>CYA_3D_Cylinder_edit</td><td>-0.16907949</td><td>-0.8764045</td></tr>\n",
       "\t<tr><td>CYD_2D_Cylinder_edit</td><td> 0.02231006</td><td>-0.9875438</td></tr>\n",
       "\t<tr><td>DAM3D001_F_CYAedit  </td><td>-0.68576273</td><td>-0.1298833</td></tr>\n",
       "\t<tr><td>DAM3D001_P_CYDedit  </td><td>-0.27881001</td><td>-0.1230406</td></tr>\n",
       "\t<tr><td>DAM3D001_T_CYAedit  </td><td>-0.41527247</td><td>-0.1129261</td></tr>\n",
       "\t<tr><td>DAM3D002_F_CYAedit  </td><td>-0.49271010</td><td>-0.3213007</td></tr>\n",
       "</tbody>\n",
       "</table>\n"
      ],
      "text/latex": [
       "A data.frame: 6 × 3\n",
       "\\begin{tabular}{r|lll}\n",
       " image & CYL\\_x & CYL\\_y\\\\\n",
       " <fct> & <dbl> & <dbl>\\\\\n",
       "\\hline\n",
       "\t CYA\\_3D\\_Cylinder\\_edit & -0.16907949 & -0.8764045\\\\\n",
       "\t CYD\\_2D\\_Cylinder\\_edit &  0.02231006 & -0.9875438\\\\\n",
       "\t DAM3D001\\_F\\_CYAedit   & -0.68576273 & -0.1298833\\\\\n",
       "\t DAM3D001\\_P\\_CYDedit   & -0.27881001 & -0.1230406\\\\\n",
       "\t DAM3D001\\_T\\_CYAedit   & -0.41527247 & -0.1129261\\\\\n",
       "\t DAM3D002\\_F\\_CYAedit   & -0.49271010 & -0.3213007\\\\\n",
       "\\end{tabular}\n"
      ],
      "text/markdown": [
       "\n",
       "A data.frame: 6 × 3\n",
       "\n",
       "| image &lt;fct&gt; | CYL_x &lt;dbl&gt; | CYL_y &lt;dbl&gt; |\n",
       "|---|---|---|\n",
       "| CYA_3D_Cylinder_edit | -0.16907949 | -0.8764045 |\n",
       "| CYD_2D_Cylinder_edit |  0.02231006 | -0.9875438 |\n",
       "| DAM3D001_F_CYAedit   | -0.68576273 | -0.1298833 |\n",
       "| DAM3D001_P_CYDedit   | -0.27881001 | -0.1230406 |\n",
       "| DAM3D001_T_CYAedit   | -0.41527247 | -0.1129261 |\n",
       "| DAM3D002_F_CYAedit   | -0.49271010 | -0.3213007 |\n",
       "\n"
      ],
      "text/plain": [
       "  image                CYL_x       CYL_y     \n",
       "1 CYA_3D_Cylinder_edit -0.16907949 -0.8764045\n",
       "2 CYD_2D_Cylinder_edit  0.02231006 -0.9875438\n",
       "3 DAM3D001_F_CYAedit   -0.68576273 -0.1298833\n",
       "4 DAM3D001_P_CYDedit   -0.27881001 -0.1230406\n",
       "5 DAM3D001_T_CYAedit   -0.41527247 -0.1129261\n",
       "6 DAM3D002_F_CYAedit   -0.49271010 -0.3213007"
      ]
     },
     "metadata": {},
     "output_type": "display_data"
    }
   ],
   "source": [
    "head(CYL_NEXT_TripletsXYdata)"
   ]
  },
  {
   "cell_type": "code",
   "execution_count": 127,
   "metadata": {},
   "outputs": [
    {
     "name": "stderr",
     "output_type": "stream",
     "text": [
      "Warning message:\n",
      "“Expected 3 pieces. Additional pieces discarded in 2 rows [1, 2].”"
     ]
    }
   ],
   "source": [
    "# separating data based on underscore used in distinguishing common elements among variables\n",
    "#separate( ) function: #Objective - Splitting a single variable into two\n",
    "CYL_NEXT_TripletsXYdata <- separate(CYL_NEXT_TripletsXYdata, image, \n",
    "                            c(\"id\", \"CYL_mediaType\",\"imageLabel\"), sep = \"_\", remove = TRUE, convert = FALSE)"
   ]
  },
  {
   "cell_type": "markdown",
   "metadata": {},
   "source": [
    "#### Explanation for Warning message: “Expected 3 pieces. Additional pieces discarded in 2 rows [1, 2].”\n",
    "The images CYA and CYD are the stimuli used during the task, thus not produced by participants. \n",
    "For this reason their names differ from the common structure (they include '_edit' after the first two values).\n",
    "Shown below in the output is how they are fit into that structure after this adjustment (the '_edit' is discarded)."
   ]
  },
  {
   "cell_type": "code",
   "execution_count": 128,
   "metadata": {},
   "outputs": [],
   "source": [
    "CYL_NEXT_TripletsXYdata <- select(CYL_NEXT_TripletsXYdata, id, CYL_mediaType, CYL_x, CYL_y)"
   ]
  },
  {
   "cell_type": "code",
   "execution_count": 129,
   "metadata": {},
   "outputs": [
    {
     "data": {
      "text/html": [
       "<table>\n",
       "<caption>A data.frame: 6 × 4</caption>\n",
       "<thead>\n",
       "\t<tr><th scope=col>id</th><th scope=col>CYL_mediaType</th><th scope=col>CYL_x</th><th scope=col>CYL_y</th></tr>\n",
       "\t<tr><th scope=col>&lt;chr&gt;</th><th scope=col>&lt;chr&gt;</th><th scope=col>&lt;dbl&gt;</th><th scope=col>&lt;dbl&gt;</th></tr>\n",
       "</thead>\n",
       "<tbody>\n",
       "\t<tr><td>CYA     </td><td>3D</td><td>-0.16907949</td><td>-0.8764045</td></tr>\n",
       "\t<tr><td>CYD     </td><td>2D</td><td> 0.02231006</td><td>-0.9875438</td></tr>\n",
       "\t<tr><td>DAM3D001</td><td>F </td><td>-0.68576273</td><td>-0.1298833</td></tr>\n",
       "\t<tr><td>DAM3D001</td><td>P </td><td>-0.27881001</td><td>-0.1230406</td></tr>\n",
       "\t<tr><td>DAM3D001</td><td>T </td><td>-0.41527247</td><td>-0.1129261</td></tr>\n",
       "\t<tr><td>DAM3D002</td><td>F </td><td>-0.49271010</td><td>-0.3213007</td></tr>\n",
       "</tbody>\n",
       "</table>\n"
      ],
      "text/latex": [
       "A data.frame: 6 × 4\n",
       "\\begin{tabular}{r|llll}\n",
       " id & CYL\\_mediaType & CYL\\_x & CYL\\_y\\\\\n",
       " <chr> & <chr> & <dbl> & <dbl>\\\\\n",
       "\\hline\n",
       "\t CYA      & 3D & -0.16907949 & -0.8764045\\\\\n",
       "\t CYD      & 2D &  0.02231006 & -0.9875438\\\\\n",
       "\t DAM3D001 & F  & -0.68576273 & -0.1298833\\\\\n",
       "\t DAM3D001 & P  & -0.27881001 & -0.1230406\\\\\n",
       "\t DAM3D001 & T  & -0.41527247 & -0.1129261\\\\\n",
       "\t DAM3D002 & F  & -0.49271010 & -0.3213007\\\\\n",
       "\\end{tabular}\n"
      ],
      "text/markdown": [
       "\n",
       "A data.frame: 6 × 4\n",
       "\n",
       "| id &lt;chr&gt; | CYL_mediaType &lt;chr&gt; | CYL_x &lt;dbl&gt; | CYL_y &lt;dbl&gt; |\n",
       "|---|---|---|---|\n",
       "| CYA      | 3D | -0.16907949 | -0.8764045 |\n",
       "| CYD      | 2D |  0.02231006 | -0.9875438 |\n",
       "| DAM3D001 | F  | -0.68576273 | -0.1298833 |\n",
       "| DAM3D001 | P  | -0.27881001 | -0.1230406 |\n",
       "| DAM3D001 | T  | -0.41527247 | -0.1129261 |\n",
       "| DAM3D002 | F  | -0.49271010 | -0.3213007 |\n",
       "\n"
      ],
      "text/plain": [
       "  id       CYL_mediaType CYL_x       CYL_y     \n",
       "1 CYA      3D            -0.16907949 -0.8764045\n",
       "2 CYD      2D             0.02231006 -0.9875438\n",
       "3 DAM3D001 F             -0.68576273 -0.1298833\n",
       "4 DAM3D001 P             -0.27881001 -0.1230406\n",
       "5 DAM3D001 T             -0.41527247 -0.1129261\n",
       "6 DAM3D002 F             -0.49271010 -0.3213007"
      ]
     },
     "metadata": {},
     "output_type": "display_data"
    }
   ],
   "source": [
    "head(CYL_NEXT_TripletsXYdata)"
   ]
  },
  {
   "cell_type": "code",
   "execution_count": 130,
   "metadata": {},
   "outputs": [
    {
     "data": {
      "text/html": [
       "<table>\n",
       "<caption>A data.frame: 5 × 2</caption>\n",
       "<thead>\n",
       "\t<tr><th scope=col>CYL_mediaType</th><th scope=col>id</th></tr>\n",
       "\t<tr><th scope=col>&lt;chr&gt;</th><th scope=col>&lt;int&gt;</th></tr>\n",
       "</thead>\n",
       "<tbody>\n",
       "\t<tr><td>2D</td><td> 1</td></tr>\n",
       "\t<tr><td>3D</td><td> 1</td></tr>\n",
       "\t<tr><td>F </td><td>59</td></tr>\n",
       "\t<tr><td>P </td><td>65</td></tr>\n",
       "\t<tr><td>T </td><td>56</td></tr>\n",
       "</tbody>\n",
       "</table>\n"
      ],
      "text/latex": [
       "A data.frame: 5 × 2\n",
       "\\begin{tabular}{r|ll}\n",
       " CYL\\_mediaType & id\\\\\n",
       " <chr> & <int>\\\\\n",
       "\\hline\n",
       "\t 2D &  1\\\\\n",
       "\t 3D &  1\\\\\n",
       "\t F  & 59\\\\\n",
       "\t P  & 65\\\\\n",
       "\t T  & 56\\\\\n",
       "\\end{tabular}\n"
      ],
      "text/markdown": [
       "\n",
       "A data.frame: 5 × 2\n",
       "\n",
       "| CYL_mediaType &lt;chr&gt; | id &lt;int&gt; |\n",
       "|---|---|\n",
       "| 2D |  1 |\n",
       "| 3D |  1 |\n",
       "| F  | 59 |\n",
       "| P  | 65 |\n",
       "| T  | 56 |\n",
       "\n"
      ],
      "text/plain": [
       "  CYL_mediaType id\n",
       "1 2D             1\n",
       "2 3D             1\n",
       "3 F             59\n",
       "4 P             65\n",
       "5 T             56"
      ]
     },
     "metadata": {},
     "output_type": "display_data"
    }
   ],
   "source": [
    "# how many total participants based on id and mediaType?\n",
    " aggregate(id ~ id +  CYL_mediaType , data=CYL_NEXT_TripletsXYdata , FUN=function(x) length(unique(x)))"
   ]
  },
  {
   "cell_type": "markdown",
   "metadata": {},
   "source": [
    "#### Export data file"
   ]
  },
  {
   "cell_type": "code",
   "execution_count": 131,
   "metadata": {},
   "outputs": [],
   "source": [
    "#PC - must map network Z drive to rogerslab.drive.wisc.edu first\n",
    "\n",
    "#Mac - must connect to rogerslab.drive.wisc.edu first\n",
    "setwd(\"/Volumes/rogerslab/NEXT/NEXTdrawings/Data/NEXTdrawingsData/EmbeddingData\")\n",
    "\n",
    "#laptop\n",
    "#setwd(\"/Users/clintjensen/NEXT/NEXTdrawingsDownloads/Data/NEXTdrawingsData/EmbeddingData\")"
   ]
  },
  {
   "cell_type": "code",
   "execution_count": 132,
   "metadata": {},
   "outputs": [],
   "source": [
    "#write.csv(CYL_NEXT_TripletsXYdata , file = \"CYL_NEXT_TripletsXYdata.csv\")\n",
    "\n",
    "write.table(CYL_NEXT_TripletsXYdata, \"CYL_NEXT_TripletsXYdata.csv\", sep=\",\", col.names=T, row.names=F)"
   ]
  },
  {
   "cell_type": "code",
   "execution_count": null,
   "metadata": {},
   "outputs": [],
   "source": []
  }
 ],
 "metadata": {
  "kernelspec": {
   "display_name": "R",
   "language": "R",
   "name": "ir"
  },
  "language_info": {
   "codemirror_mode": "r",
   "file_extension": ".r",
   "mimetype": "text/x-r-source",
   "name": "R",
   "pygments_lexer": "r",
   "version": "3.6.1"
  }
 },
 "nbformat": 4,
 "nbformat_minor": 4
}
