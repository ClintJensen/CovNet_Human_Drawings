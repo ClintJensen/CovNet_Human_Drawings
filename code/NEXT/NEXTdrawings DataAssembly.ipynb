{
 "cells": [
  {
   "cell_type": "markdown",
   "metadata": {},
   "source": [
    "# NEXTdrawings DataAssembly\n",
    "-  Karl Rosengren, PI; Heather Kirkorian, PI; Tim Rogers, PI;  University of Wisconsin – Madison\n",
    "-  Clint Jensen, Graduate Student, University of Wisconsin – Madison\n",
    "\n",
    "This script gathers the metadata .csv files for Study 1 and 3, and output , and NEXT output using the drawings from those study participants so that additional factors of interest can be used to predict drawing outcomes (rank, place within an embedding). Analysis of this data can be found in a seperate Jupyter Notebook 'NEXTdrawings Metadata Analysis'. \n",
    "\n",
    "\n",
    "### Script  concatenates and alligns metadata (DAP, as well as CUBE and CYLINDER 2D and 3D Objects and Renderings) \n",
    "\n",
    "#### Drawing Study 1: Drawing Across Media (DAM)\n",
    "\n",
    "* Mediums: Children and adults copied simple shapes using each of three mediums (marker on paper, stylus on tablet, finger on tablet). \n",
    "\n",
    "* Shape copies: They copied 4 familiar shapes (circle=CI, square=SQ, triangle=TR, cross=CR) and 2 novel shapes (novel triangle=NT, novel cross=NC) using each of the three mediums, resulting in 18 shape copies per participant (1 for each shape/medium combination)\n",
    "\n",
    "* Draw-a-person: They also drew a person using each of the three mediums (3 person drawings per participant). \n",
    "\n",
    "\n",
    "#### Drawing Study 2: Repeated Shapes Across Media (RSAM)\n",
    "\n",
    "* Mediums: Children drew 1 familiar-novel shape pair using each of the 3 mediums from Study 1 (marker on paper, stylus on tablet, finger on tablet). The shapes were copied 3 times in a row (e.g., 3 squares followed by 3 novel squares on a single medium). The result was 18 drawings per child. \n",
    "\n",
    "* Some children also drew one person at the end of the study during free draw, using a medium of their choice (they first chose a surface, then the marker/stylus was placed on the table).\n",
    "\n",
    "There are DAP images for the following children:\n",
    "\n",
    "RSAM005, RSAM008, RSAM009, RSAM010, RSAM011, RSAM012, RSAM013, RSAM019, RSAM020, RSAM021, RSAM022, RSAM023, RSAM024, RSAM026 (photo of ipad), RSAM027 (photo of ipad), RSAM028 (photo of ipad), RSAM029, RSAM030, RSAM031, RSAM032, RSAM036, RSAM037, RSAM038, RSAM039 (photo of ipad), RSAM040\n",
    "\n",
    "Of these there is metadata (no asq, but age and some technology questions) for RSAM008, RSAM009, RSAM010, RSAM011, RSAM012, RSAM013\n",
    "\n",
    "* No Drawing Study #2 RSAM participants images were used in NEXT.\n",
    "\n",
    "\n",
    "#### Drawing Study 3: Drawing 2D and 3D Objects and Renderings \n",
    "-- Study 3 also had children draw-a-person, which produced drawings used in our overall DAP analysis \n",
    "\n",
    "* Mediums: Children and adults copied simple shapes using each of three mediums (marker on paper, stylus on tablet, finger on tablet). \n",
    "\n",
    "* One 2D rendering was assigned to the marker-paper condition and the other was assigned to the two tablet conditions (stylus and finger). The opposite shape was used for 3D object drawings (e.g., if the paper condition has 2D cube and 3D cylinder, then the two tablet conditions have 3D cube and 2D cylinder).  \n",
    " \n",
    "* For Study 3 DAP images, children drew one person at the end of the study during free draw, using a medium of their choice (they first chose a surface, then the marker/stylus was placed on the table to use if they wanted). \n",
    "\n",
    "\n",
    "\n",
    "#### Missing Data - DAP\n",
    "\n",
    "Participants had metadata but no useable DAP images for NEXT\n",
    "DAM00T1, DAM067, DAM3D001, DAM3D004, DAM3D017, DAM3D019, DAM3D028, DAM3D035, DAM3D042, DAM3D049, DAM3D052, DAM3D053, DAM3D054, DAM3D055, DAM3D057, DAM3D068, DAM3D071\n",
    "\n",
    "\n",
    "IDs for participant images used in NEXT, but missing aligned participant metadata\n",
    "DAM3D002, DAM3D005, DAM3D011, DAM3D012, DAM3D015, DAM3D026, DAM3D029, DAM3D030, DAM3D037, DAM3D039, DAM3D040, DAM3D058, DAM3D061, DAM3D066\n",
    "\n",
    "\n",
    "### Code Book for Analysis Critical Elements\n",
    "\n",
    "#### Code Book for Metadata\n",
    "\n",
    "QC - Qualtrics Coding\n",
    "* e.g., QC_personL1 - medium1_drawperson_left\n",
    "\n",
    "SC - ShapeCoding\n",
    "* e.g., SC_f_c - ShapeCoding_Finger_Circle\n",
    "\n",
    "DP - Draw-A-Person\n",
    "* DP_f_head - DrawPerson_Finger_head\n",
    "\n",
    "PS - Parent Survey\n",
    "\n",
    "* id - participant ID\n",
    "* female - sex (1 = yes; 0 = no)\n",
    "* adult - (1 = yes; 0 = no)\n",
    "* child - (1 = yes; 0 = no)\n",
    "* mediaTypeP - Paper   \n",
    "* mediaTypeT - Tablet   \n",
    "* age_yr - age in year\n",
    "* QC_grip_maxLR - grip_max_bothhands\n",
    "* QC_pinch_maxLR - pinch_max_bothhands  \n",
    "* QC_catch_sumLRB - catch_sum_trial1-3_left+right+both\n",
    "* QC_throw_sumLRB - throw_sum_trial1-3_left+right+both\n",
    "* PS_p_age - ParentSurvey_ParentAge_Years\n",
    "* PS_p_edu - ParentSurvey_ParentEdu_Years\n",
    "* PS_p_ses - ParentSurvey_SES \n",
    "* PS_eth_asian - ParentSurvey_Child_Ethnicity_Asian  \n",
    "* PS_eth_black - ParentSurvey_Child_Ethnicity_Black\n",
    "* PS_eth_cauc - ParentSurvey_Child_Ethnicity_Causian \n",
    "* PS_eth_hisp - ParentSurvey_Child_Ethnicity_Hispanic\n",
    "* PS_eth_yother - ParentSurvey_Child_Ethnicity_Other \n",
    "* asq_total - Ages & Stages Questionnaires: A Parent-Completed Child Monitoring System sum of scores for (asq_communication, asq_grossmotor, asq_finemotor, asq_problemsolving, asq_personalsocial)\n",
    "\n",
    "\n",
    "#### Code Book for NEXT output \n",
    "\n",
    "* Subject IDs for children are \"DAM\" followed by 3-digit number (e.g., DAM001). Subject IDs for adults are \"DAMa\" followed by 3-digit number (e.g., DAMa001). \n",
    "* marker on paper - (_P_)\n",
    "* stylus on tablet - (_T_)\n",
    "* finger on tablet - (_F_)\n",
    "\n",
    "* Participant.ID - NEXT generated ID -- different from MTurk ID\n",
    "* Timestamp - Date of participation -- stub.yaml requires a very specific format, script may need adjustment given potential .csv adjustments in Excel \n",
    "* Center - Image presented at top center -- images that the other two images are compared against for similarity judgement\n",
    "* Left - Image presented at bottom left\n",
    "* Right - Image presented at bottom right \n",
    "* Answer - Image participants chose as most similar to Center image\n",
    "* Alg.label - All set to Test initially, these are adjusted to include 90% training designation and 10% test to create a hold out set for model fit comparisons\n",
    "* Response.Time..s. - Response time for individual triplet set\n",
    "* Participant.ID.sub - NEXT generated ID minus experimentID\n",
    "* Condition - Name given to Study within this script\n",
    "* Session - - NEXT generated ID experimentID\n",
    "\n",
    "\n",
    "\n",
    "\n"
   ]
  },
  {
   "cell_type": "markdown",
   "metadata": {},
   "source": [
    "#### Setting CRAN to load packages (Might be necessary depending on how jupyter is loaded)"
   ]
  },
  {
   "cell_type": "code",
   "execution_count": 3,
   "metadata": {},
   "outputs": [],
   "source": [
    "options(repos=structure(c(CRAN=\"https://rweb.crmda.ku.edu/cran/\")))"
   ]
  },
  {
   "cell_type": "markdown",
   "metadata": {},
   "source": [
    "#### In the event of Jupyter Notebook Kernal issues run the following"
   ]
  },
  {
   "cell_type": "code",
   "execution_count": 4,
   "metadata": {},
   "outputs": [],
   "source": [
    "#R.Version()"
   ]
  },
  {
   "cell_type": "code",
   "execution_count": 5,
   "metadata": {},
   "outputs": [],
   "source": [
    "#install.packages('IRkernel')\n",
    "#IRkernel::installspec() "
   ]
  },
  {
   "cell_type": "code",
   "execution_count": 6,
   "metadata": {},
   "outputs": [],
   "source": [
    "#update.packages('IRkernel')"
   ]
  },
  {
   "cell_type": "code",
   "execution_count": 7,
   "metadata": {},
   "outputs": [],
   "source": [
    "#R.Version()"
   ]
  },
  {
   "cell_type": "markdown",
   "metadata": {},
   "source": [
    "#### Loading packages used in analysis, plots, data managment"
   ]
  },
  {
   "cell_type": "code",
   "execution_count": 8,
   "metadata": {
    "scrolled": true
   },
   "outputs": [
    {
     "name": "stderr",
     "output_type": "stream",
     "text": [
      "Loading required package: tidyverse\n",
      "── \u001b[1mAttaching packages\u001b[22m ─────────────────────────────────────── tidyverse 1.2.1 ──\n",
      "\u001b[32m✔\u001b[39m \u001b[34mggplot2\u001b[39m 3.2.1     \u001b[32m✔\u001b[39m \u001b[34mpurrr  \u001b[39m 0.3.4\n",
      "\u001b[32m✔\u001b[39m \u001b[34mtibble \u001b[39m 2.1.3     \u001b[32m✔\u001b[39m \u001b[34mdplyr  \u001b[39m 0.8.3\n",
      "\u001b[32m✔\u001b[39m \u001b[34mtidyr  \u001b[39m 1.0.0     \u001b[32m✔\u001b[39m \u001b[34mstringr\u001b[39m 1.4.0\n",
      "\u001b[32m✔\u001b[39m \u001b[34mreadr  \u001b[39m 1.3.1     \u001b[32m✔\u001b[39m \u001b[34mforcats\u001b[39m 0.4.0\n",
      "Warning message:\n",
      "“package ‘purrr’ was built under R version 3.6.2”── \u001b[1mConflicts\u001b[22m ────────────────────────────────────────── tidyverse_conflicts() ──\n",
      "\u001b[31m✖\u001b[39m \u001b[34mdplyr\u001b[39m::\u001b[32mfilter()\u001b[39m masks \u001b[34mstats\u001b[39m::filter()\n",
      "\u001b[31m✖\u001b[39m \u001b[34mdplyr\u001b[39m::\u001b[32mlag()\u001b[39m    masks \u001b[34mstats\u001b[39m::lag()\n",
      "Loading required package: irr\n",
      "Loading required package: lpSolve\n"
     ]
    }
   ],
   "source": [
    "haspackage = require(\"tidyverse\") # used for data structure codes\n",
    "if (haspackage==FALSE){\n",
    "  install.packages(\"tidyverse\")\n",
    "    }\n",
    "\n",
    "haspackage = require(\"irr\") # used for inter-rater reliabiliity \n",
    "if (haspackage==FALSE){\n",
    "  install.packages(\"irr\")\n",
    "    }\n",
    "\n",
    "library(tidyverse) \n",
    "library(irr)"
   ]
  },
  {
   "cell_type": "markdown",
   "metadata": {},
   "source": [
    "#### Setting R to file where data is stored"
   ]
  },
  {
   "cell_type": "code",
   "execution_count": 9,
   "metadata": {},
   "outputs": [],
   "source": [
    "#PC - must map network Z drive to rogerslab.drive.wisc.edu first\n",
    "#setwd(\"Z:/NEXT/NEXTdrawings/Data/Metadata\")\n",
    "\n",
    "#Mac - must connect to rogerslab.drive.wisc.edu first\n",
    "setwd(\"/Volumes/rogerslab/NEXT/NEXTdrawings/Data/Metadata\")\n",
    "\n",
    "#laptop\n",
    "#setwd(\"/Users/clintjensen/NEXT/NEXTdrawingsDownloads/Data/Metadata\")"
   ]
  },
  {
   "cell_type": "code",
   "execution_count": 10,
   "metadata": {},
   "outputs": [],
   "source": [
    "Server_data <- list.files(pattern=\".csv\", full.names = TRUE)"
   ]
  },
  {
   "cell_type": "code",
   "execution_count": 11,
   "metadata": {},
   "outputs": [
    {
     "data": {
      "text/html": [
       "<ol class=list-inline>\n",
       "\t<li>'./brief12_DataAssembly.csv'</li>\n",
       "\t<li>'./DAP brief12_January 27, 2020_15.47.csv'</li>\n",
       "\t<li>'./data1_DataAssembly.csv'</li>\n",
       "\t<li>'./data3_DataAssembly.csv'</li>\n",
       "\t<li>'./Study 1 DAM masterdata053117.csv'</li>\n",
       "\t<li>'./Study 2 RSAM Parent Survey.csv'</li>\n",
       "\t<li>'./Study 3 DAM3D Parent Survey_CJ_Update.csv'</li>\n",
       "\t<li>'./Study 3 DAM3D Parent Survey.csv'</li>\n",
       "</ol>\n"
      ],
      "text/latex": [
       "\\begin{enumerate*}\n",
       "\\item './brief12\\_DataAssembly.csv'\n",
       "\\item './DAP brief12\\_January 27, 2020\\_15.47.csv'\n",
       "\\item './data1\\_DataAssembly.csv'\n",
       "\\item './data3\\_DataAssembly.csv'\n",
       "\\item './Study 1 DAM masterdata053117.csv'\n",
       "\\item './Study 2 RSAM Parent Survey.csv'\n",
       "\\item './Study 3 DAM3D Parent Survey\\_CJ\\_Update.csv'\n",
       "\\item './Study 3 DAM3D Parent Survey.csv'\n",
       "\\end{enumerate*}\n"
      ],
      "text/markdown": [
       "1. './brief12_DataAssembly.csv'\n",
       "2. './DAP brief12_January 27, 2020_15.47.csv'\n",
       "3. './data1_DataAssembly.csv'\n",
       "4. './data3_DataAssembly.csv'\n",
       "5. './Study 1 DAM masterdata053117.csv'\n",
       "6. './Study 2 RSAM Parent Survey.csv'\n",
       "7. './Study 3 DAM3D Parent Survey_CJ_Update.csv'\n",
       "8. './Study 3 DAM3D Parent Survey.csv'\n",
       "\n",
       "\n"
      ],
      "text/plain": [
       "[1] \"./brief12_DataAssembly.csv\"                 \n",
       "[2] \"./DAP brief12_January 27, 2020_15.47.csv\"   \n",
       "[3] \"./data1_DataAssembly.csv\"                   \n",
       "[4] \"./data3_DataAssembly.csv\"                   \n",
       "[5] \"./Study 1 DAM masterdata053117.csv\"         \n",
       "[6] \"./Study 2 RSAM Parent Survey.csv\"           \n",
       "[7] \"./Study 3 DAM3D Parent Survey_CJ_Update.csv\"\n",
       "[8] \"./Study 3 DAM3D Parent Survey.csv\"          "
      ]
     },
     "metadata": {},
     "output_type": "display_data"
    }
   ],
   "source": [
    "#output of files on server\n",
    "Server_data"
   ]
  },
  {
   "cell_type": "markdown",
   "metadata": {},
   "source": [
    "#### Reading in data files"
   ]
  },
  {
   "cell_type": "code",
   "execution_count": 12,
   "metadata": {},
   "outputs": [],
   "source": [
    "#reading in data files\n",
    "data1 <- read.csv(\"Study 1 DAM masterdata053117.csv\", header=TRUE)"
   ]
  },
  {
   "cell_type": "code",
   "execution_count": 13,
   "metadata": {},
   "outputs": [],
   "source": [
    "#reading in data files\n",
    "data3 <- read.csv(\"Study 3 DAM3D Parent Survey_CJ_Update.csv\", header=TRUE)"
   ]
  },
  {
   "cell_type": "code",
   "execution_count": 14,
   "metadata": {},
   "outputs": [],
   "source": [
    "#reading in data files\n",
    "brief12 <- read.csv(\"DAP brief12_January 27, 2020_15.47.csv\", header=TRUE)"
   ]
  },
  {
   "cell_type": "markdown",
   "metadata": {},
   "source": [
    "#### adjusting Study 1 data"
   ]
  },
  {
   "cell_type": "code",
   "execution_count": 15,
   "metadata": {},
   "outputs": [],
   "source": [
    "# Addressing missing child / adult coding\n",
    "data1[data1$id==\"DAMA001\", \"child\"] <- 0\n",
    "data1[data1$id==\"DAMA001\", \"adult\"] <- 1\n",
    "\n",
    "# Addressing missing child / adult coding\n",
    "data1[data1$id==\"DAM065\", \"child\"] <- 1\n",
    "data1[data1$id==\"DAM065\", \"adult\"] <- 0"
   ]
  },
  {
   "cell_type": "code",
   "execution_count": 16,
   "metadata": {},
   "outputs": [],
   "source": [
    "#Removing participant that doesn't have a matching image file (possibly because of an error in naming)\n",
    "data1<- data1 %>%\n",
    "  filter(!((id == \"DAM00T1\")))"
   ]
  },
  {
   "cell_type": "code",
   "execution_count": 17,
   "metadata": {
    "scrolled": true
   },
   "outputs": [],
   "source": [
    "# list rows of data that have missing values\n",
    "#data1[!complete.cases(data1$child),]"
   ]
  },
  {
   "cell_type": "markdown",
   "metadata": {},
   "source": [
    "#### renaming Study 3 data from Qualtrics to match Study 1 column names"
   ]
  },
  {
   "cell_type": "code",
   "execution_count": 18,
   "metadata": {},
   "outputs": [],
   "source": [
    "#renaming Study 3 data from Qualtrics to match Study 1\n",
    "#exception is last value \"Age_in_months\"=\"Age\" -- in Qualtrics the Age variable was Age in Months, which Study 1 doesn't have\n",
    "data3<- data3 %>% rename(\"id\"=\"Q385\", \"PS_p_age\"=\"Q389\", \"PS_p_edu\"=\"Q391\", \"PS_p_merital\"=\"Q393\",\"PS_p_house\"=\"Q395\",\n",
    "                       \"PS_p_ses\"=\"Q397_1\",\"PS_c5_age\"=\"Q399_5\",\"PS_c1_age\"=\"Q399_1\",\"PS_c2_age\"=\"Q399_2\",\n",
    "                       \"PS_c3_age\"=\"Q399_3\",\"PS_c4_age\"=\"Q399_4\",\"PS_c5_age\"=\"Q399_5\",\"PS_c_dob_mm\"=\"Q401.1_1\",\n",
    "                       \"PS_c_dob_dd\"=\"Q401.2_1\",\"PS_c_dob_yy\"=\"Q401.3_1\",\"PS_eth_asian\"=\"Q405_2\",\"PS_eth_black\"=\"Q405_3\",\n",
    "                       \"PS_eth_cauc\"=\"Q405_4\",\"PS_eth_hisp\"=\"Q405_5\",\"PS_eth_native\"=\"Q405_6\",\"PS_eth_other\"=\"Q405_7\",\n",
    "                       \"PS_freq_marker_paper\"=\"Q453_1\",\"PS_freq_crayon_paper\"=\"Q453_2\",\"PS_freq_pens_paper\"=\"Q453_3\",\n",
    "                       \"PS_freq_pencil_paper\"=\"Q453_4\",\"PS_freq_finger_ipad\"=\"Q453_5\",\"PS_freq_stylus_ipad\"=\"Q453_6\",\n",
    "                       \"PS_freq_chalk_pavement\"=\"Q453_7\",\"PS_freq_otherd\"=\"Q453_8\",\"PS_enjoy_traditional\"=\"Q455_1\",\n",
    "                       \"PS_enjoy_electronic\"=\"Q455_2\",\"PS_min_traditional\"=\"Q457_1\",\"PS_min_electornic\"=\"Q457_2\",\n",
    "                       \"PS_yesterday\"=\"Q409\",\"PS_ymin_video\"=\"Q411_1\",\"PS_ymin_computer\"=\"Q411_2\",\n",
    "                       \"PS_ymin_internet\"=\"Q411_3\",\"PS_ymin_videochat\"=\"Q411_4\",\"PS_ymin_cellphone\"=\"Q411_5\",\n",
    "                       \"PS_ymin_xbox\"=\"Q411_6\",\"PS_ymin_nintendo\"=\"Q411_7\",\"PS_ymin_kindle\"=\"Q411_8\",\n",
    "                       \"PS_ymin_touchscreen\"=\"Q411_10\",\"PS_ymin_usual\"=\"Q413\",\"PS_outside_care\"=\"Q415\",\n",
    "                       \"PS_num_tv\"=\"Q417_1\",\"PS_num_desktop\"=\"Q417_2\",\"PS_num_laptop\"=\"Q417_3\",\"PS_num_xbox\"=\"Q417_4\",\n",
    "                       \"PS_num_nintendo\"=\"Q417_5\",\"PS_num_tablet\"=\"Q417_6\", \"PS_num_smartphone\"=\"Q417_7\",\n",
    "                       \"PS_num_othertouch\"=\"Q417_8\",\"PPS_allow_touch\"=\"Q419\",\"PS_comment\"=\"Q459\",\"Age_in_months\"=\"Age\", \n",
    "                       \"Gender\" = \"Gender\")"
   ]
  },
  {
   "cell_type": "markdown",
   "metadata": {},
   "source": [
    "<span style=\"color:blue\"> There are 53 unique ids in total, but there is a fair amount of missing data in Study 3. Not all kids produced DAP drawings, and some kids who produced DAP drawings are missing their demographic information."
   ]
  },
  {
   "cell_type": "markdown",
   "metadata": {},
   "source": [
    "#### Removing cells that aren't part of this analysis"
   ]
  },
  {
   "cell_type": "code",
   "execution_count": 19,
   "metadata": {},
   "outputs": [],
   "source": [
    "#removing Qualtrics columns that print out at the start of data\n",
    "data3 <- data3 %>% select(-(StartDate:DistributionChannel))"
   ]
  },
  {
   "cell_type": "code",
   "execution_count": 20,
   "metadata": {},
   "outputs": [],
   "source": [
    "#removing two Qualtrics rows that print out question and produce a Qualtrics ImportID \n",
    "data3 <- data3[-c(1:2),] "
   ]
  },
  {
   "cell_type": "code",
   "execution_count": 21,
   "metadata": {
    "scrolled": true
   },
   "outputs": [],
   "source": [
    "#removing row that Qualtrics inserts\n",
    "data3 <- data3 %>% filter(!((id==\"TEST ONLY\")))"
   ]
  },
  {
   "cell_type": "code",
   "execution_count": 22,
   "metadata": {},
   "outputs": [],
   "source": [
    "#removing mostly empty cells of qualitative questions that were at end of Study 3 survey and aren't part of analysis\n",
    "data3 <- data3 %>% select(-(X18Comm1:SC0))"
   ]
  },
  {
   "cell_type": "markdown",
   "metadata": {},
   "source": [
    "#### Adding in Participants that aren't included in Study 3 Metadata"
   ]
  },
  {
   "cell_type": "code",
   "execution_count": 23,
   "metadata": {},
   "outputs": [],
   "source": [
    "Study3.missingParticipants <-rbind(\"DAM3D002\", \"DAM3D005\", \"DAM3D011\", \"DAM3D012\", \"DAM3D026\",\n",
    "                                        \"DAM3D029\", \"DAM3D030\", \"DAM3D037\", \"DAM3D039\", \"DAM3D040\",\n",
    "                                        \"DAM3D058\", \"DAM3D061\", \"DAM3D066\")"
   ]
  },
  {
   "cell_type": "code",
   "execution_count": 24,
   "metadata": {},
   "outputs": [],
   "source": [
    "Study3.missingParticipants<- as.data.frame(Study3.missingParticipants)\n",
    "Study3.missingParticipants<- rename(Study3.missingParticipants, id = V1)"
   ]
  },
  {
   "cell_type": "code",
   "execution_count": 25,
   "metadata": {},
   "outputs": [
    {
     "name": "stderr",
     "output_type": "stream",
     "text": [
      "Warning message in bind_rows_(x, .id):\n",
      "“Unequal factor levels: coercing to character”Warning message in bind_rows_(x, .id):\n",
      "“binding character and factor vector, coercing into character vector”Warning message in bind_rows_(x, .id):\n",
      "“binding character and factor vector, coercing into character vector”"
     ]
    }
   ],
   "source": [
    "data3 <- bind_rows(data3, Study3.missingParticipants)"
   ]
  },
  {
   "cell_type": "markdown",
   "metadata": {},
   "source": [
    "#### adjusting brief12 data"
   ]
  },
  {
   "cell_type": "code",
   "execution_count": 26,
   "metadata": {},
   "outputs": [],
   "source": [
    "#renaming brief12 data from generic Qualtrics column assignment to understandable values\n",
    "brief12 <- brief12 %>% rename(\"RA_initials\"=\"Q5\", \"imageID\"=\"Q3\", \"RA_Head\"=\"Q1_1\", \"RA_Ears\"=\"Q1_2\",\"RA_Eyes\"=\"Q1_3\",\n",
    "                              \"RA_Nose\"=\"Q1_4\", \"RA_Mouth\"=\"Q1_5\",\"RA_Body\"=\"Q1_6\",\"RA_Arms\"=\"Q1_7\",\"RA_Hands\"=\"Q1_8\",\n",
    "                              \"RA_Legs\"=\"Q1_9\",\"RA_Feet\"=\"Q1_10\",\"RA_Clothes\"=\"Q1_11\",\"RA_Hair\"=\"Q1_12\",\"RA_notes\"=\"Q4\")"
   ]
  },
  {
   "cell_type": "code",
   "execution_count": 27,
   "metadata": {},
   "outputs": [],
   "source": [
    "#removing Qualtrics columns that print out at the start of data\n",
    "brief12 <- brief12 %>% select(-(StartDate:UserLanguage))\n",
    "\n",
    "#removing two Qualtrics rows that print out question and produce a Qualtrics ImportID \n",
    "brief12 <- brief12[-c(1:2),]"
   ]
  },
  {
   "cell_type": "markdown",
   "metadata": {},
   "source": [
    "#### RA Notes for Brief 12"
   ]
  },
  {
   "cell_type": "code",
   "execution_count": 28,
   "metadata": {
    "scrolled": true
   },
   "outputs": [
    {
     "data": {
      "text/html": [
       "<ol class=list-inline>\n",
       "\t<li>Female</li>\n",
       "\t<li>female</li>\n",
       "\t<li></li>\n",
       "\t<li>male</li>\n",
       "\t<li>lots of scribbles</li>\n",
       "\t<li>has human form so not class A - 2, but scribbled out</li>\n",
       "\t<li>female - shoulders up</li>\n",
       "\t<li>male, shoulders up</li>\n",
       "\t<li>female, shoulders up</li>\n",
       "\t<li>male, hat, one arm</li>\n",
       "\t<li>female, hands behind back</li>\n",
       "\t<li>unsure if really hair</li>\n",
       "\t<li>male, chest up</li>\n",
       "\t<li>female, eyebrows</li>\n",
       "\t<li>female, head only, glasses</li>\n",
       "\t<li>female, head only, eyebrows</li>\n",
       "\t<li>male, neck up</li>\n",
       "\t<li>female, chest up, eyebrows</li>\n",
       "\t<li>male, chest up, eyebrows</li>\n",
       "\t<li>female, glasses</li>\n",
       "\t<li>Class A - 1</li>\n",
       "\t<li>dismembered</li>\n",
       "\t<li>Class A - 2</li>\n",
       "\t<li>borderline Class A - 2</li>\n",
       "\t<li>clothing + gender questionable</li>\n",
       "\t<li>female, arms + clothing questionable</li>\n",
       "\t<li>hair questionable</li>\n",
       "\t<li>teeth present</li>\n",
       "\t<li>head detached</li>\n",
       "\t<li>legs detached</li>\n",
       "\t<li>mouth drawn sideways between eyes</li>\n",
       "\t<li>unsure if legs or half of trunk</li>\n",
       "\t<li>borderline Class A - 2 (scribbles, one arm, one leg, clothing questionable)</li>\n",
       "\t<li>no neck</li>\n",
       "\t<li>4 legs, speech bubble present</li>\n",
       "\t<li>4 legs, appears to be a tail</li>\n",
       "\t<li>eyebrows</li>\n",
       "\t<li>female - clothing and trunk are questionable</li>\n",
       "\t<li>clothing and trunk questionable</li>\n",
       "\t<li>AS</li>\n",
       "\t<li>male, unsure if half of trunk or legs</li>\n",
       "\t<li>male, four legs</li>\n",
       "\t<li>lots of scribbles on face, but no discernible features</li>\n",
       "\t<li>single dot on face that could not be made out as a specific feature, protrusions coming off of legs</li>\n",
       "\t<li>glasses but no visible eyes, body is separated from head</li>\n",
       "\t<li>body is a series of separated circles</li>\n",
       "\t<li>one eye is not on face, body is a series of separate circles</li>\n",
       "\t<li>one foot</li>\n",
       "\t<li>female, scribbles but nothing identifiable as legs under body</li>\n",
       "\t<li>feet questionable</li>\n",
       "\t<li>many separate segments of body - borderline Class A - 2</li>\n",
       "\t<li>head, trunk, legs all separate</li>\n",
       "\t<li>male, 4 legs</li>\n",
       "\t<li>face is scribbles</li>\n",
       "\t<li>4 legs</li>\n",
       "\t<li>head and legs separate from trunk</li>\n",
       "\t<li>no neck, legs and one arm separate from trunk</li>\n",
       "\t<li>concentric semi-circles around head but not a body</li>\n",
       "\t<li>female, concentric semi-circles come out from head, but no body</li>\n",
       "\t<li>facial features are hard to discriminate</li>\n",
       "\t<li>dot on face that could be nose, but was not between two eyes and mouth</li>\n",
       "\t<li>female, facial features not in correct positions</li>\n",
       "\t<li>tail?</li>\n",
       "\t<li>one hand</li>\n",
       "\t<li>lines coming out of center that are disconnected from body</li>\n",
       "\t<li>female, bow in hair?</li>\n",
       "\t<li>swirly line present in center of person that is body-like, but not classified as a body</li>\n",
       "\t<li>several parts present, but all disconnected from each other</li>\n",
       "\t<li>legs separated from head</li>\n",
       "\t<li>shoulders up</li>\n",
       "\t<li>female, disproportionate limbs</li>\n",
       "\t<li>teeth</li>\n",
       "\t<li>male, one foot</li>\n",
       "\t<li>male, eyebrows, shoulders up</li>\n",
       "\t<li>male, disproportionate limbs</li>\n",
       "\t<li>male, glasses, ears detached?</li>\n",
       "\t<li>female, legs questionable</li>\n",
       "\t<li>unsure if legs or top half of trunk</li>\n",
       "\t<li>female, unsure if legs or top half of trunk</li>\n",
       "\t<li>arms questionable</li>\n",
       "\t<li>belly button?</li>\n",
       "\t<li>female, feet same as hands (forked), mongolian armor??</li>\n",
       "\t<li>scribbled</li>\n",
       "\t<li>female, wearing glasses</li>\n",
       "\t<li>male, head detached from body</li>\n",
       "\t<li>male, wearing a hat</li>\n",
       "\t<li>female, looks like there is a cat in her lap</li>\n",
       "\t<li>male, wearing hat, speaking</li>\n",
       "</ol>\n",
       "\n",
       "<details>\n",
       "\t<summary style=display:list-item;cursor:pointer>\n",
       "\t\t<strong>Levels</strong>:\n",
       "\t</summary>\n",
       "\t<ol class=list-inline>\n",
       "\t\t<li>''</li>\n",
       "\t\t<li>'{\"ImportId\":\"QID4_TEXT\"}'</li>\n",
       "\t\t<li>'4 legs'</li>\n",
       "\t\t<li>'4 legs, appears to be a tail'</li>\n",
       "\t\t<li>'4 legs, speech bubble present'</li>\n",
       "\t\t<li>'arms questionable'</li>\n",
       "\t\t<li>'AS'</li>\n",
       "\t\t<li>'belly button?'</li>\n",
       "\t\t<li>'body is a series of separated circles'</li>\n",
       "\t\t<li>'borderline Class A - 2'</li>\n",
       "\t\t<li>'borderline Class A - 2 (scribbles, one arm, one leg, clothing questionable)'</li>\n",
       "\t\t<li>'Class A - 1'</li>\n",
       "\t\t<li>'Class A - 2'</li>\n",
       "\t\t<li>'clothing + gender questionable'</li>\n",
       "\t\t<li>'clothing and trunk questionable'</li>\n",
       "\t\t<li>'concentric semi-circles around head but not a body'</li>\n",
       "\t\t<li>'dismembered'</li>\n",
       "\t\t<li>'dot on face that could be nose, but was not between two eyes and mouth'</li>\n",
       "\t\t<li>'eyebrows'</li>\n",
       "\t\t<li>'face is scribbles'</li>\n",
       "\t\t<li>'facial features are hard to discriminate'</li>\n",
       "\t\t<li>'feet questionable'</li>\n",
       "\t\t<li>'female'</li>\n",
       "\t\t<li>'Female'</li>\n",
       "\t\t<li>'female - clothing and trunk are questionable'</li>\n",
       "\t\t<li>'female - shoulders up'</li>\n",
       "\t\t<li>'female, arms + clothing questionable'</li>\n",
       "\t\t<li>'female, bow in hair?'</li>\n",
       "\t\t<li>'female, chest up, eyebrows'</li>\n",
       "\t\t<li>'female, concentric semi-circles come out from head, but no body'</li>\n",
       "\t\t<li>'female, disproportionate limbs'</li>\n",
       "\t\t<li>'female, eyebrows'</li>\n",
       "\t\t<li>'female, facial features not in correct positions'</li>\n",
       "\t\t<li>'female, feet same as hands (forked), mongolian armor??'</li>\n",
       "\t\t<li>'female, glasses'</li>\n",
       "\t\t<li>'female, hands behind back'</li>\n",
       "\t\t<li>'female, head only, eyebrows'</li>\n",
       "\t\t<li>'female, head only, glasses'</li>\n",
       "\t\t<li>'female, legs questionable'</li>\n",
       "\t\t<li>'female, looks like there is a cat in her lap'</li>\n",
       "\t\t<li>'female, scribbles but nothing identifiable as legs under body'</li>\n",
       "\t\t<li>'female, shoulders up'</li>\n",
       "\t\t<li>'female, unsure if legs or top half of trunk'</li>\n",
       "\t\t<li>'female, wearing glasses'</li>\n",
       "\t\t<li>'glasses but no visible eyes, body is separated from head'</li>\n",
       "\t\t<li>'hair questionable'</li>\n",
       "\t\t<li>'has human form so not class A - 2, but scribbled out'</li>\n",
       "\t\t<li>'head and legs separate from trunk'</li>\n",
       "\t\t<li>'head detached'</li>\n",
       "\t\t<li>'head, trunk, legs all separate'</li>\n",
       "\t\t<li>'legs detached'</li>\n",
       "\t\t<li>'legs separated from head'</li>\n",
       "\t\t<li>'lines coming out of center that are disconnected from body'</li>\n",
       "\t\t<li>'lots of scribbles'</li>\n",
       "\t\t<li>'lots of scribbles on face, but no discernible features'</li>\n",
       "\t\t<li>'male'</li>\n",
       "\t\t<li>'male, 4 legs'</li>\n",
       "\t\t<li>'male, chest up'</li>\n",
       "\t\t<li>'male, chest up, eyebrows'</li>\n",
       "\t\t<li>'male, disproportionate limbs'</li>\n",
       "\t\t<li>'male, eyebrows, shoulders up'</li>\n",
       "\t\t<li>'male, four legs'</li>\n",
       "\t\t<li>'male, glasses, ears detached?'</li>\n",
       "\t\t<li>'male, hat, one arm'</li>\n",
       "\t\t<li>'male, head detached from body'</li>\n",
       "\t\t<li>'male, neck up'</li>\n",
       "\t\t<li>'male, one foot'</li>\n",
       "\t\t<li>'male, shoulders up'</li>\n",
       "\t\t<li>'male, unsure if half of trunk or legs'</li>\n",
       "\t\t<li>'male, wearing a hat'</li>\n",
       "\t\t<li>'male, wearing hat, speaking'</li>\n",
       "\t\t<li>'many separate segments of body - borderline Class A - 2'</li>\n",
       "\t\t<li>'mouth drawn sideways between eyes'</li>\n",
       "\t\t<li>'no neck'</li>\n",
       "\t\t<li>'no neck, legs and one arm separate from trunk'</li>\n",
       "\t\t<li>'one eye is not on face, body is a series of separate circles'</li>\n",
       "\t\t<li>'one foot'</li>\n",
       "\t\t<li>'one hand'</li>\n",
       "\t\t<li>'scribbled'</li>\n",
       "\t\t<li>'several parts present, but all disconnected from each other'</li>\n",
       "\t\t<li>'shoulders up'</li>\n",
       "\t\t<li>'single dot on face that could not be made out as a specific feature, protrusions coming off of legs'</li>\n",
       "\t\t<li>'swirly line present in center of person that is body-like, but not classified as a body'</li>\n",
       "\t\t<li>'tail?'</li>\n",
       "\t\t<li>'teeth'</li>\n",
       "\t\t<li>'teeth present'</li>\n",
       "\t\t<li>'unsure if legs or half of trunk'</li>\n",
       "\t\t<li>'unsure if legs or top half of trunk'</li>\n",
       "\t\t<li>'unsure if really hair'</li>\n",
       "\t\t<li><span style=white-space:pre-wrap>'Write any notes concerning image here:\\n \\n\\n\\nClass A. Preliminary Stage in which the drawing cannot be recognized as a human figure:\\n\\n1.     Aimless uncontrolled scribbling – score 1.  \\n\\n2.     Lines somewhat controlled – approaches crude geometrical form – score 2.\\n\\n \\n\\nThese should be documented as: \\'Class A - 1\\' for a scribble \\'Class A - 2\\' for a form that isn\\'t clearly a human figure, but also isn\\'t just a scribble\\n\\n \\n\\n \\n\\nGender.\\n\\nMostly this will be cases where the image appears to be female. (female/male)\\n\\n \\n\\nOtherwise, make note of things that seem to warrant review, or cases that blur the boundaries, but don\\'t feel the need to make a note for all images.'</span></li>\n",
       "\t</ol>\n",
       "</details>"
      ],
      "text/latex": [
       "\\begin{enumerate*}\n",
       "\\item Female\n",
       "\\item female\n",
       "\\item \n",
       "\\item male\n",
       "\\item lots of scribbles\n",
       "\\item has human form so not class A - 2, but scribbled out\n",
       "\\item female - shoulders up\n",
       "\\item male, shoulders up\n",
       "\\item female, shoulders up\n",
       "\\item male, hat, one arm\n",
       "\\item female, hands behind back\n",
       "\\item unsure if really hair\n",
       "\\item male, chest up\n",
       "\\item female, eyebrows\n",
       "\\item female, head only, glasses\n",
       "\\item female, head only, eyebrows\n",
       "\\item male, neck up\n",
       "\\item female, chest up, eyebrows\n",
       "\\item male, chest up, eyebrows\n",
       "\\item female, glasses\n",
       "\\item Class A - 1\n",
       "\\item dismembered\n",
       "\\item Class A - 2\n",
       "\\item borderline Class A - 2\n",
       "\\item clothing + gender questionable\n",
       "\\item female, arms + clothing questionable\n",
       "\\item hair questionable\n",
       "\\item teeth present\n",
       "\\item head detached\n",
       "\\item legs detached\n",
       "\\item mouth drawn sideways between eyes\n",
       "\\item unsure if legs or half of trunk\n",
       "\\item borderline Class A - 2 (scribbles, one arm, one leg, clothing questionable)\n",
       "\\item no neck\n",
       "\\item 4 legs, speech bubble present\n",
       "\\item 4 legs, appears to be a tail\n",
       "\\item eyebrows\n",
       "\\item female - clothing and trunk are questionable\n",
       "\\item clothing and trunk questionable\n",
       "\\item AS\n",
       "\\item male, unsure if half of trunk or legs\n",
       "\\item male, four legs\n",
       "\\item lots of scribbles on face, but no discernible features\n",
       "\\item single dot on face that could not be made out as a specific feature, protrusions coming off of legs\n",
       "\\item glasses but no visible eyes, body is separated from head\n",
       "\\item body is a series of separated circles\n",
       "\\item one eye is not on face, body is a series of separate circles\n",
       "\\item one foot\n",
       "\\item female, scribbles but nothing identifiable as legs under body\n",
       "\\item feet questionable\n",
       "\\item many separate segments of body - borderline Class A - 2\n",
       "\\item head, trunk, legs all separate\n",
       "\\item male, 4 legs\n",
       "\\item face is scribbles\n",
       "\\item 4 legs\n",
       "\\item head and legs separate from trunk\n",
       "\\item no neck, legs and one arm separate from trunk\n",
       "\\item concentric semi-circles around head but not a body\n",
       "\\item female, concentric semi-circles come out from head, but no body\n",
       "\\item facial features are hard to discriminate\n",
       "\\item dot on face that could be nose, but was not between two eyes and mouth\n",
       "\\item female, facial features not in correct positions\n",
       "\\item tail?\n",
       "\\item one hand\n",
       "\\item lines coming out of center that are disconnected from body\n",
       "\\item female, bow in hair?\n",
       "\\item swirly line present in center of person that is body-like, but not classified as a body\n",
       "\\item several parts present, but all disconnected from each other\n",
       "\\item legs separated from head\n",
       "\\item shoulders up\n",
       "\\item female, disproportionate limbs\n",
       "\\item teeth\n",
       "\\item male, one foot\n",
       "\\item male, eyebrows, shoulders up\n",
       "\\item male, disproportionate limbs\n",
       "\\item male, glasses, ears detached?\n",
       "\\item female, legs questionable\n",
       "\\item unsure if legs or top half of trunk\n",
       "\\item female, unsure if legs or top half of trunk\n",
       "\\item arms questionable\n",
       "\\item belly button?\n",
       "\\item female, feet same as hands (forked), mongolian armor??\n",
       "\\item scribbled\n",
       "\\item female, wearing glasses\n",
       "\\item male, head detached from body\n",
       "\\item male, wearing a hat\n",
       "\\item female, looks like there is a cat in her lap\n",
       "\\item male, wearing hat, speaking\n",
       "\\end{enumerate*}\n",
       "\n",
       "\\emph{Levels}: \\begin{enumerate*}\n",
       "\\item ''\n",
       "\\item '\\{\"ImportId\":\"QID4\\_TEXT\"\\}'\n",
       "\\item '4 legs'\n",
       "\\item '4 legs, appears to be a tail'\n",
       "\\item '4 legs, speech bubble present'\n",
       "\\item 'arms questionable'\n",
       "\\item 'AS'\n",
       "\\item 'belly button?'\n",
       "\\item 'body is a series of separated circles'\n",
       "\\item 'borderline Class A - 2'\n",
       "\\item 'borderline Class A - 2 (scribbles, one arm, one leg, clothing questionable)'\n",
       "\\item 'Class A - 1'\n",
       "\\item 'Class A - 2'\n",
       "\\item 'clothing + gender questionable'\n",
       "\\item 'clothing and trunk questionable'\n",
       "\\item 'concentric semi-circles around head but not a body'\n",
       "\\item 'dismembered'\n",
       "\\item 'dot on face that could be nose, but was not between two eyes and mouth'\n",
       "\\item 'eyebrows'\n",
       "\\item 'face is scribbles'\n",
       "\\item 'facial features are hard to discriminate'\n",
       "\\item 'feet questionable'\n",
       "\\item 'female'\n",
       "\\item 'Female'\n",
       "\\item 'female - clothing and trunk are questionable'\n",
       "\\item 'female - shoulders up'\n",
       "\\item 'female, arms + clothing questionable'\n",
       "\\item 'female, bow in hair?'\n",
       "\\item 'female, chest up, eyebrows'\n",
       "\\item 'female, concentric semi-circles come out from head, but no body'\n",
       "\\item 'female, disproportionate limbs'\n",
       "\\item 'female, eyebrows'\n",
       "\\item 'female, facial features not in correct positions'\n",
       "\\item 'female, feet same as hands (forked), mongolian armor??'\n",
       "\\item 'female, glasses'\n",
       "\\item 'female, hands behind back'\n",
       "\\item 'female, head only, eyebrows'\n",
       "\\item 'female, head only, glasses'\n",
       "\\item 'female, legs questionable'\n",
       "\\item 'female, looks like there is a cat in her lap'\n",
       "\\item 'female, scribbles but nothing identifiable as legs under body'\n",
       "\\item 'female, shoulders up'\n",
       "\\item 'female, unsure if legs or top half of trunk'\n",
       "\\item 'female, wearing glasses'\n",
       "\\item 'glasses but no visible eyes, body is separated from head'\n",
       "\\item 'hair questionable'\n",
       "\\item 'has human form so not class A - 2, but scribbled out'\n",
       "\\item 'head and legs separate from trunk'\n",
       "\\item 'head detached'\n",
       "\\item 'head, trunk, legs all separate'\n",
       "\\item 'legs detached'\n",
       "\\item 'legs separated from head'\n",
       "\\item 'lines coming out of center that are disconnected from body'\n",
       "\\item 'lots of scribbles'\n",
       "\\item 'lots of scribbles on face, but no discernible features'\n",
       "\\item 'male'\n",
       "\\item 'male, 4 legs'\n",
       "\\item 'male, chest up'\n",
       "\\item 'male, chest up, eyebrows'\n",
       "\\item 'male, disproportionate limbs'\n",
       "\\item 'male, eyebrows, shoulders up'\n",
       "\\item 'male, four legs'\n",
       "\\item 'male, glasses, ears detached?'\n",
       "\\item 'male, hat, one arm'\n",
       "\\item 'male, head detached from body'\n",
       "\\item 'male, neck up'\n",
       "\\item 'male, one foot'\n",
       "\\item 'male, shoulders up'\n",
       "\\item 'male, unsure if half of trunk or legs'\n",
       "\\item 'male, wearing a hat'\n",
       "\\item 'male, wearing hat, speaking'\n",
       "\\item 'many separate segments of body - borderline Class A - 2'\n",
       "\\item 'mouth drawn sideways between eyes'\n",
       "\\item 'no neck'\n",
       "\\item 'no neck, legs and one arm separate from trunk'\n",
       "\\item 'one eye is not on face, body is a series of separate circles'\n",
       "\\item 'one foot'\n",
       "\\item 'one hand'\n",
       "\\item 'scribbled'\n",
       "\\item 'several parts present, but all disconnected from each other'\n",
       "\\item 'shoulders up'\n",
       "\\item 'single dot on face that could not be made out as a specific feature, protrusions coming off of legs'\n",
       "\\item 'swirly line present in center of person that is body-like, but not classified as a body'\n",
       "\\item 'tail?'\n",
       "\\item 'teeth'\n",
       "\\item 'teeth present'\n",
       "\\item 'unsure if legs or half of trunk'\n",
       "\\item 'unsure if legs or top half of trunk'\n",
       "\\item 'unsure if really hair'\n",
       "\\item 'Write any notes concerning image here:\\textbackslash{}n \\textbackslash{}n\\textbackslash{}n\\textbackslash{}nClass A. Preliminary Stage in which the drawing cannot be recognized as a human figure:\\textbackslash{}n\\textbackslash{}n1.     Aimless uncontrolled scribbling – score 1.  \\textbackslash{}n\\textbackslash{}n2.     Lines somewhat controlled – approaches crude geometrical form – score 2.\\textbackslash{}n\\textbackslash{}n \\textbackslash{}n\\textbackslash{}nThese should be documented as: \\textbackslash{}'Class A - 1\\textbackslash{}' for a scribble \\textbackslash{}'Class A - 2\\textbackslash{}' for a form that isn\\textbackslash{}'t clearly a human figure, but also isn\\textbackslash{}'t just a scribble\\textbackslash{}n\\textbackslash{}n \\textbackslash{}n\\textbackslash{}n \\textbackslash{}n\\textbackslash{}nGender.\\textbackslash{}n\\textbackslash{}nMostly this will be cases where the image appears to be female. (female/male)\\textbackslash{}n\\textbackslash{}n \\textbackslash{}n\\textbackslash{}nOtherwise, make note of things that seem to warrant review, or cases that blur the boundaries, but don\\textbackslash{}'t feel the need to make a note for all images.'\n",
       "\\end{enumerate*}\n"
      ],
      "text/markdown": [
       "1. Female\n",
       "2. female\n",
       "3. \n",
       "4. male\n",
       "5. lots of scribbles\n",
       "6. has human form so not class A - 2, but scribbled out\n",
       "7. female - shoulders up\n",
       "8. male, shoulders up\n",
       "9. female, shoulders up\n",
       "10. male, hat, one arm\n",
       "11. female, hands behind back\n",
       "12. unsure if really hair\n",
       "13. male, chest up\n",
       "14. female, eyebrows\n",
       "15. female, head only, glasses\n",
       "16. female, head only, eyebrows\n",
       "17. male, neck up\n",
       "18. female, chest up, eyebrows\n",
       "19. male, chest up, eyebrows\n",
       "20. female, glasses\n",
       "21. Class A - 1\n",
       "22. dismembered\n",
       "23. Class A - 2\n",
       "24. borderline Class A - 2\n",
       "25. clothing + gender questionable\n",
       "26. female, arms + clothing questionable\n",
       "27. hair questionable\n",
       "28. teeth present\n",
       "29. head detached\n",
       "30. legs detached\n",
       "31. mouth drawn sideways between eyes\n",
       "32. unsure if legs or half of trunk\n",
       "33. borderline Class A - 2 (scribbles, one arm, one leg, clothing questionable)\n",
       "34. no neck\n",
       "35. 4 legs, speech bubble present\n",
       "36. 4 legs, appears to be a tail\n",
       "37. eyebrows\n",
       "38. female - clothing and trunk are questionable\n",
       "39. clothing and trunk questionable\n",
       "40. AS\n",
       "41. male, unsure if half of trunk or legs\n",
       "42. male, four legs\n",
       "43. lots of scribbles on face, but no discernible features\n",
       "44. single dot on face that could not be made out as a specific feature, protrusions coming off of legs\n",
       "45. glasses but no visible eyes, body is separated from head\n",
       "46. body is a series of separated circles\n",
       "47. one eye is not on face, body is a series of separate circles\n",
       "48. one foot\n",
       "49. female, scribbles but nothing identifiable as legs under body\n",
       "50. feet questionable\n",
       "51. many separate segments of body - borderline Class A - 2\n",
       "52. head, trunk, legs all separate\n",
       "53. male, 4 legs\n",
       "54. face is scribbles\n",
       "55. 4 legs\n",
       "56. head and legs separate from trunk\n",
       "57. no neck, legs and one arm separate from trunk\n",
       "58. concentric semi-circles around head but not a body\n",
       "59. female, concentric semi-circles come out from head, but no body\n",
       "60. facial features are hard to discriminate\n",
       "61. dot on face that could be nose, but was not between two eyes and mouth\n",
       "62. female, facial features not in correct positions\n",
       "63. tail?\n",
       "64. one hand\n",
       "65. lines coming out of center that are disconnected from body\n",
       "66. female, bow in hair?\n",
       "67. swirly line present in center of person that is body-like, but not classified as a body\n",
       "68. several parts present, but all disconnected from each other\n",
       "69. legs separated from head\n",
       "70. shoulders up\n",
       "71. female, disproportionate limbs\n",
       "72. teeth\n",
       "73. male, one foot\n",
       "74. male, eyebrows, shoulders up\n",
       "75. male, disproportionate limbs\n",
       "76. male, glasses, ears detached?\n",
       "77. female, legs questionable\n",
       "78. unsure if legs or top half of trunk\n",
       "79. female, unsure if legs or top half of trunk\n",
       "80. arms questionable\n",
       "81. belly button?\n",
       "82. female, feet same as hands (forked), mongolian armor??\n",
       "83. scribbled\n",
       "84. female, wearing glasses\n",
       "85. male, head detached from body\n",
       "86. male, wearing a hat\n",
       "87. female, looks like there is a cat in her lap\n",
       "88. male, wearing hat, speaking\n",
       "\n",
       "\n",
       "\n",
       "**Levels**: 1. ''\n",
       "2. '{\"ImportId\":\"QID4_TEXT\"}'\n",
       "3. '4 legs'\n",
       "4. '4 legs, appears to be a tail'\n",
       "5. '4 legs, speech bubble present'\n",
       "6. 'arms questionable'\n",
       "7. 'AS'\n",
       "8. 'belly button?'\n",
       "9. 'body is a series of separated circles'\n",
       "10. 'borderline Class A - 2'\n",
       "11. 'borderline Class A - 2 (scribbles, one arm, one leg, clothing questionable)'\n",
       "12. 'Class A - 1'\n",
       "13. 'Class A - 2'\n",
       "14. 'clothing + gender questionable'\n",
       "15. 'clothing and trunk questionable'\n",
       "16. 'concentric semi-circles around head but not a body'\n",
       "17. 'dismembered'\n",
       "18. 'dot on face that could be nose, but was not between two eyes and mouth'\n",
       "19. 'eyebrows'\n",
       "20. 'face is scribbles'\n",
       "21. 'facial features are hard to discriminate'\n",
       "22. 'feet questionable'\n",
       "23. 'female'\n",
       "24. 'Female'\n",
       "25. 'female - clothing and trunk are questionable'\n",
       "26. 'female - shoulders up'\n",
       "27. 'female, arms + clothing questionable'\n",
       "28. 'female, bow in hair?'\n",
       "29. 'female, chest up, eyebrows'\n",
       "30. 'female, concentric semi-circles come out from head, but no body'\n",
       "31. 'female, disproportionate limbs'\n",
       "32. 'female, eyebrows'\n",
       "33. 'female, facial features not in correct positions'\n",
       "34. 'female, feet same as hands (forked), mongolian armor??'\n",
       "35. 'female, glasses'\n",
       "36. 'female, hands behind back'\n",
       "37. 'female, head only, eyebrows'\n",
       "38. 'female, head only, glasses'\n",
       "39. 'female, legs questionable'\n",
       "40. 'female, looks like there is a cat in her lap'\n",
       "41. 'female, scribbles but nothing identifiable as legs under body'\n",
       "42. 'female, shoulders up'\n",
       "43. 'female, unsure if legs or top half of trunk'\n",
       "44. 'female, wearing glasses'\n",
       "45. 'glasses but no visible eyes, body is separated from head'\n",
       "46. 'hair questionable'\n",
       "47. 'has human form so not class A - 2, but scribbled out'\n",
       "48. 'head and legs separate from trunk'\n",
       "49. 'head detached'\n",
       "50. 'head, trunk, legs all separate'\n",
       "51. 'legs detached'\n",
       "52. 'legs separated from head'\n",
       "53. 'lines coming out of center that are disconnected from body'\n",
       "54. 'lots of scribbles'\n",
       "55. 'lots of scribbles on face, but no discernible features'\n",
       "56. 'male'\n",
       "57. 'male, 4 legs'\n",
       "58. 'male, chest up'\n",
       "59. 'male, chest up, eyebrows'\n",
       "60. 'male, disproportionate limbs'\n",
       "61. 'male, eyebrows, shoulders up'\n",
       "62. 'male, four legs'\n",
       "63. 'male, glasses, ears detached?'\n",
       "64. 'male, hat, one arm'\n",
       "65. 'male, head detached from body'\n",
       "66. 'male, neck up'\n",
       "67. 'male, one foot'\n",
       "68. 'male, shoulders up'\n",
       "69. 'male, unsure if half of trunk or legs'\n",
       "70. 'male, wearing a hat'\n",
       "71. 'male, wearing hat, speaking'\n",
       "72. 'many separate segments of body - borderline Class A - 2'\n",
       "73. 'mouth drawn sideways between eyes'\n",
       "74. 'no neck'\n",
       "75. 'no neck, legs and one arm separate from trunk'\n",
       "76. 'one eye is not on face, body is a series of separate circles'\n",
       "77. 'one foot'\n",
       "78. 'one hand'\n",
       "79. 'scribbled'\n",
       "80. 'several parts present, but all disconnected from each other'\n",
       "81. 'shoulders up'\n",
       "82. 'single dot on face that could not be made out as a specific feature, protrusions coming off of legs'\n",
       "83. 'swirly line present in center of person that is body-like, but not classified as a body'\n",
       "84. 'tail?'\n",
       "85. 'teeth'\n",
       "86. 'teeth present'\n",
       "87. 'unsure if legs or half of trunk'\n",
       "88. 'unsure if legs or top half of trunk'\n",
       "89. 'unsure if really hair'\n",
       "90. <span style=white-space:pre-wrap>'Write any notes concerning image here:\\n \\n\\n\\nClass A. Preliminary Stage in which the drawing cannot be recognized as a human figure:\\n\\n1.     Aimless uncontrolled scribbling – score 1.  \\n\\n2.     Lines somewhat controlled – approaches crude geometrical form – score 2.\\n\\n \\n\\nThese should be documented as: \\'Class A - 1\\' for a scribble \\'Class A - 2\\' for a form that isn\\'t clearly a human figure, but also isn\\'t just a scribble\\n\\n \\n\\n \\n\\nGender.\\n\\nMostly this will be cases where the image appears to be female. (female/male)\\n\\n \\n\\nOtherwise, make note of things that seem to warrant review, or cases that blur the boundaries, but don\\'t feel the need to make a note for all images.'</span>\n",
       "\n",
       "\n"
      ],
      "text/plain": [
       " [1] Female                                                                                             \n",
       " [2] female                                                                                             \n",
       " [3]                                                                                                    \n",
       " [4] male                                                                                               \n",
       " [5] lots of scribbles                                                                                  \n",
       " [6] has human form so not class A - 2, but scribbled out                                               \n",
       " [7] female - shoulders up                                                                              \n",
       " [8] male, shoulders up                                                                                 \n",
       " [9] female, shoulders up                                                                               \n",
       "[10] male, hat, one arm                                                                                 \n",
       "[11] female, hands behind back                                                                          \n",
       "[12] unsure if really hair                                                                              \n",
       "[13] male, chest up                                                                                     \n",
       "[14] female, eyebrows                                                                                   \n",
       "[15] female, head only, glasses                                                                         \n",
       "[16] female, head only, eyebrows                                                                        \n",
       "[17] male, neck up                                                                                      \n",
       "[18] female, chest up, eyebrows                                                                         \n",
       "[19] male, chest up, eyebrows                                                                           \n",
       "[20] female, glasses                                                                                    \n",
       "[21] Class A - 1                                                                                        \n",
       "[22] dismembered                                                                                        \n",
       "[23] Class A - 2                                                                                        \n",
       "[24] borderline Class A - 2                                                                             \n",
       "[25] clothing + gender questionable                                                                     \n",
       "[26] female, arms + clothing questionable                                                               \n",
       "[27] hair questionable                                                                                  \n",
       "[28] teeth present                                                                                      \n",
       "[29] head detached                                                                                      \n",
       "[30] legs detached                                                                                      \n",
       "[31] mouth drawn sideways between eyes                                                                  \n",
       "[32] unsure if legs or half of trunk                                                                    \n",
       "[33] borderline Class A - 2 (scribbles, one arm, one leg, clothing questionable)                        \n",
       "[34] no neck                                                                                            \n",
       "[35] 4 legs, speech bubble present                                                                      \n",
       "[36] 4 legs, appears to be a tail                                                                       \n",
       "[37] eyebrows                                                                                           \n",
       "[38] female - clothing and trunk are questionable                                                       \n",
       "[39] clothing and trunk questionable                                                                    \n",
       "[40] AS                                                                                                 \n",
       "[41] male, unsure if half of trunk or legs                                                              \n",
       "[42] male, four legs                                                                                    \n",
       "[43] lots of scribbles on face, but no discernible features                                             \n",
       "[44] single dot on face that could not be made out as a specific feature, protrusions coming off of legs\n",
       "[45] glasses but no visible eyes, body is separated from head                                           \n",
       "[46] body is a series of separated circles                                                              \n",
       "[47] one eye is not on face, body is a series of separate circles                                       \n",
       "[48] one foot                                                                                           \n",
       "[49] female, scribbles but nothing identifiable as legs under body                                      \n",
       "[50] feet questionable                                                                                  \n",
       "[51] many separate segments of body - borderline Class A - 2                                            \n",
       "[52] head, trunk, legs all separate                                                                     \n",
       "[53] male, 4 legs                                                                                       \n",
       "[54] face is scribbles                                                                                  \n",
       "[55] 4 legs                                                                                             \n",
       "[56] head and legs separate from trunk                                                                  \n",
       "[57] no neck, legs and one arm separate from trunk                                                      \n",
       "[58] concentric semi-circles around head but not a body                                                 \n",
       "[59] female, concentric semi-circles come out from head, but no body                                    \n",
       "[60] facial features are hard to discriminate                                                           \n",
       "[61] dot on face that could be nose, but was not between two eyes and mouth                             \n",
       "[62] female, facial features not in correct positions                                                   \n",
       "[63] tail?                                                                                              \n",
       "[64] one hand                                                                                           \n",
       "[65] lines coming out of center that are disconnected from body                                         \n",
       "[66] female, bow in hair?                                                                               \n",
       "[67] swirly line present in center of person that is body-like, but not classified as a body            \n",
       "[68] several parts present, but all disconnected from each other                                        \n",
       "[69] legs separated from head                                                                           \n",
       "[70] shoulders up                                                                                       \n",
       "[71] female, disproportionate limbs                                                                     \n",
       "[72] teeth                                                                                              \n",
       "[73] male, one foot                                                                                     \n",
       "[74] male, eyebrows, shoulders up                                                                       \n",
       "[75] male, disproportionate limbs                                                                       \n",
       "[76] male, glasses, ears detached?                                                                      \n",
       "[77] female, legs questionable                                                                          \n",
       "[78] unsure if legs or top half of trunk                                                                \n",
       "[79] female, unsure if legs or top half of trunk                                                        \n",
       "[80] arms questionable                                                                                  \n",
       "[81] belly button?                                                                                      \n",
       "[82] female, feet same as hands (forked), mongolian armor??                                             \n",
       "[83] scribbled                                                                                          \n",
       "[84] female, wearing glasses                                                                            \n",
       "[85] male, head detached from body                                                                      \n",
       "[86] male, wearing a hat                                                                                \n",
       "[87] female, looks like there is a cat in her lap                                                       \n",
       "[88] male, wearing hat, speaking                                                                        \n",
       "90 Levels:  {\"ImportId\":\"QID4_TEXT\"} 4 legs ... Write any notes concerning image here:\\n \\n\\n\\nClass A. Preliminary Stage in which the drawing cannot be recognized as a human figure:\\n\\n1.     Aimless uncontrolled scribbling – score 1.  \\n\\n2.     Lines somewhat controlled – approaches crude geometrical form – score 2.\\n\\n \\n\\nThese should be documented as: 'Class A - 1' for a scribble 'Class A - 2' for a form that isn't clearly a human figure, but also isn't just a scribble\\n\\n \\n\\n \\n\\nGender.\\n\\nMostly this will be cases where the image appears to be female. (female/male)\\n\\n \\n\\nOtherwise, make note of things that seem to warrant review, or cases that blur the boundaries, but don't feel the need to make a note for all images."
      ]
     },
     "metadata": {},
     "output_type": "display_data"
    }
   ],
   "source": [
    "unique(brief12$RA_notes)"
   ]
  },
  {
   "cell_type": "code",
   "execution_count": 29,
   "metadata": {},
   "outputs": [],
   "source": [
    "brief12$RA_notesAdj<- ifelse(brief12$RA_notes == \"Female\", \"Female\",\n",
    "                        ifelse(brief12$RA_notes == \"female\", \"Female\",  \n",
    "                        ifelse(brief12$RA_notes == \"female - shoulders up\", \"Female\", \n",
    "                        ifelse(brief12$RA_notes == \"female, shoulders up\", \"Female\", \n",
    "                        ifelse(brief12$RA_notes == \"female, hands behind back\", \"Female\", \n",
    "                        ifelse(brief12$RA_notes == \"female, eyebrows\", \"Female\",        \n",
    "                        ifelse(brief12$RA_notes == \"female, head only, glasses\", \"Female\", \n",
    "                        ifelse(brief12$RA_notes == \"female, head only, eyebrows\", \"Female\",  \n",
    "                        ifelse(brief12$RA_notes == \"female, chest up, eyebrows\", \"Female\", \n",
    "                        ifelse(brief12$RA_notes == \"female, glasses\", \"Female\",  \n",
    "                        ifelse(brief12$RA_notes == \"female, arms + clothing questionable\", \"Female\", \n",
    "                        ifelse(brief12$RA_notes == \"female - clothing and trunk are questionable\", \"Female\", \n",
    "                        ifelse(brief12$RA_notes == \"female, scribbles but nothing identifiable as legs under body\", \"Female\", \n",
    "                        ifelse(brief12$RA_notes == \"female, concentric semi-circles come out from head, but no body\", \"Female\", \n",
    "                        ifelse(brief12$RA_notes == \"female, facial features not in correct position\", \"Female\", \n",
    "                        ifelse(brief12$RA_notes == \"female, bow in hair?\", \"Female\", \n",
    "                        ifelse(brief12$RA_notes == \"female, disproportionate limbs\", \"Female\", \n",
    "                        ifelse(brief12$RA_notes == \"female, legs questionable\", \"Female\", \n",
    "                        ifelse(brief12$RA_notes == \"female, unsure if legs or top half of trunk\", \"Female\", \n",
    "                        ifelse(brief12$RA_notes == \"female, feet same as hands (forked), mongolian armor??\", \"Female\", \n",
    "                        ifelse(brief12$RA_notes == \"female, wearing glasses\", \"Female\",      \n",
    "                        ifelse(brief12$RA_notes == \"female, looks like there is a cat in her lap\", \"Female\", \n",
    "\n",
    "                                          \"Male or Unspecified\"))))))))))))))))))))))"
   ]
  },
  {
   "cell_type": "code",
   "execution_count": 30,
   "metadata": {
    "scrolled": true
   },
   "outputs": [
    {
     "data": {
      "text/html": [
       "<table>\n",
       "<caption>A data.frame: 2 × 2</caption>\n",
       "<thead>\n",
       "\t<tr><th scope=col>RA_notesAdj</th><th scope=col>imageID</th></tr>\n",
       "\t<tr><th scope=col>&lt;chr&gt;</th><th scope=col>&lt;dbl&gt;</th></tr>\n",
       "</thead>\n",
       "<tbody>\n",
       "\t<tr><td>Female             </td><td> 44.5</td></tr>\n",
       "\t<tr><td>Male or Unspecified</td><td>119.5</td></tr>\n",
       "</tbody>\n",
       "</table>\n"
      ],
      "text/latex": [
       "A data.frame: 2 × 2\n",
       "\\begin{tabular}{r|ll}\n",
       " RA\\_notesAdj & imageID\\\\\n",
       " <chr> & <dbl>\\\\\n",
       "\\hline\n",
       "\t Female              &  44.5\\\\\n",
       "\t Male or Unspecified & 119.5\\\\\n",
       "\\end{tabular}\n"
      ],
      "text/markdown": [
       "\n",
       "A data.frame: 2 × 2\n",
       "\n",
       "| RA_notesAdj &lt;chr&gt; | imageID &lt;dbl&gt; |\n",
       "|---|---|\n",
       "| Female              |  44.5 |\n",
       "| Male or Unspecified | 119.5 |\n",
       "\n"
      ],
      "text/plain": [
       "  RA_notesAdj         imageID\n",
       "1 Female               44.5  \n",
       "2 Male or Unspecified 119.5  "
      ]
     },
     "metadata": {},
     "output_type": "display_data"
    }
   ],
   "source": [
    "# how many of the images appear to be visually female?\n",
    "aggregate(imageID~ RA_notesAdj, data=brief12, FUN=function(x) length(unique(x))/2)"
   ]
  },
  {
   "cell_type": "markdown",
   "metadata": {},
   "source": [
    "<span style=\"color:blue\"> Numbers above are based on RAs percieved judgements about the number of images that could be classified as 'Female'.\n",
    " \n",
    " Notes:  \n",
    "* Sometimes the experimenter asked the students to draw their mommy or a teacher rather than simply asking them to draw a person.\n",
    "* Both VGG-19 and the Dueling Bandits may have been impacted by this gendering. VGG-19 may pick up on visual features that suggest the female gender, while M-Turkers may inadvertently make selections about similarity based on percieved gender.\n"
   ]
  },
  {
   "cell_type": "markdown",
   "metadata": {},
   "source": [
    "#### Fixing image ids for a few image labels in the brief12"
   ]
  },
  {
   "cell_type": "code",
   "execution_count": 31,
   "metadata": {},
   "outputs": [],
   "source": [
    "brief12$imageID <- str_replace(brief12$imageID, \"DAM001_F_DAPedit.jpg\", \"DAM001_F_DAPedit\")\n",
    "brief12$imageID <- str_replace(brief12$imageID, \"DAM001_P_DAPedit.jpg\", \"DAM001_P_DAPedit\")\n",
    "brief12$imageID <- str_replace(brief12$imageID, \"DAM001_T_DAPedit.jpg\", \"DAM001_T_DAPedit\")\n",
    "brief12$imageID <- str_replace(brief12$imageID, \"DAM002_F_DAPedit.jpg\", \"DAM002_F_DAPedit\")\n",
    "brief12$imageID <- str_replace(brief12$imageID, \"DAM002_P_DAPedit.jpg\", \"DAM002_P_DAPedit\")\n",
    "brief12$imageID <- str_replace(brief12$imageID, \"DAM002_T_DAPedit.jpg\", \"DAM002_T_DAPedit\")\n",
    "brief12$imageID <- str_replace(brief12$imageID, \"DAM3D026_DAPedit\", \"DAM3D026_P_DAPedit\")\n",
    "brief12$imageID <- str_replace(brief12$imageID, \"DAM3D058_P _DAPedit\", \"DAM3D058_P_DAPedit\")\n",
    "brief12$imageID <- str_replace(brief12$imageID, \"DAM065_F_DAPedt\", \"DAM065_F_DAPedit\")\n",
    "brief12$imageID <- str_replace(brief12$imageID, \"DAM3D069_P _DAPedit\", \"DAM3D069_P_DAPedit\")\n",
    "brief12$imageID <- str_replace(brief12$imageID, \"DAMa015_DAPedit\", \"DAMa015_T_DAPedit\")\n",
    "\n",
    "# DAM3D060_P _DAPedit fixed in different script\n",
    "#brief12$imageID <- str_replace(brief12$imageID, \"DAM3D060_P _DAPedit\", \"DAM3D060_P_DAPedit\")"
   ]
  },
  {
   "cell_type": "markdown",
   "metadata": {},
   "source": [
    "#### Adjusting brief12 RA_initials for Pw as PW"
   ]
  },
  {
   "cell_type": "code",
   "execution_count": 32,
   "metadata": {},
   "outputs": [],
   "source": [
    "brief12$RA_initials <- ifelse(brief12$RA_initials == \"Pw\", \"PW\",\n",
    "                            ifelse(brief12$RA_initials == \"PW\", \"PW\",      \n",
    "                                   ifelse(brief12$RA_initials == \"AS\", \"AS\", \"Check\")))"
   ]
  },
  {
   "cell_type": "markdown",
   "metadata": {},
   "source": [
    "#### Replacing brief12 responses 'Yes' = 1, 'No' = 0"
   ]
  },
  {
   "cell_type": "code",
   "execution_count": 33,
   "metadata": {},
   "outputs": [],
   "source": [
    "# brief12 replacing 'Yes' = 1, 'No' = 0\n",
    "\n",
    "\n",
    "brief12$RA_Head <- ifelse(brief12$RA_Head == \"Yes\", 1,\n",
    "               ifelse(brief12$RA_Head ==\"No\", 0, NA))\n",
    "\n",
    "brief12$RA_Ears <- ifelse(brief12$RA_Ears == \"Yes\", 1,\n",
    "               ifelse(brief12$RA_Ears ==\"No\", 0, NA))\n",
    "                                        \n",
    "brief12$RA_Eyes <- ifelse(brief12$RA_Eyes == \"Yes\", 1,\n",
    "               ifelse(brief12$RA_Eyes ==\"No\", 0, NA))\n",
    "                                         \n",
    "brief12$RA_Nose <- ifelse(brief12$RA_Nose == \"Yes\", 1,\n",
    "               ifelse(brief12$RA_Nose ==\"No\", 0, NA))\n",
    "                                         \n",
    "brief12$RA_Mouth <- ifelse(brief12$RA_Mouth == \"Yes\", 1,\n",
    "               ifelse(brief12$RA_Mouth ==\"No\", 0, NA))\n",
    "                                          \n",
    "brief12$RA_Body <- ifelse(brief12$RA_Body == \"Yes\", 1,\n",
    "               ifelse(brief12$RA_Body ==\"No\", 0, NA))\n",
    "                                          \n",
    "brief12$RA_Arms <- ifelse(brief12$RA_Arms == \"Yes\", 1,\n",
    "               ifelse(brief12$RA_Arms ==\"No\", 0, NA))\n",
    "                                           \n",
    "brief12$RA_Hands <- ifelse(brief12$RA_Hands == \"Yes\", 1,\n",
    "               ifelse(brief12$RA_Hands ==\"No\", 0, NA))\n",
    "                                          \n",
    "brief12$RA_Legs <- ifelse(brief12$RA_Legs == \"Yes\", 1,\n",
    "               ifelse(brief12$RA_Legs ==\"No\", 0, NA))\n",
    "                                      \n",
    "brief12$RA_Feet <- ifelse(brief12$RA_Feet == \"Yes\", 1,\n",
    "               ifelse(brief12$RA_Feet ==\"No\", 0, NA))\n",
    "                                         \n",
    "brief12$RA_Clothes <- ifelse(brief12$RA_Clothes == \"Yes\", 1,\n",
    "               ifelse(brief12$RA_Clothes ==\"No\", 0, NA))\n",
    "                                           \n",
    "brief12$RA_Hair <- ifelse(brief12$RA_Hair == \"Yes\", 1,\n",
    "               ifelse(brief12$RA_Hair ==\"No\", 0, NA))   "
   ]
  },
  {
   "cell_type": "code",
   "execution_count": 34,
   "metadata": {},
   "outputs": [],
   "source": [
    "#Creating a dataframe for NEXTdrawings Analysis notebook\n",
    "#data3_IDsCount<- data3"
   ]
  },
  {
   "cell_type": "code",
   "execution_count": 35,
   "metadata": {},
   "outputs": [],
   "source": [
    "#write.table(data3_IDsCount, \"data3_IDsCount.csv\", sep=\",\", col.names=T, row.names=F)"
   ]
  },
  {
   "cell_type": "markdown",
   "metadata": {},
   "source": [
    "### Adding column to mark studies"
   ]
  },
  {
   "cell_type": "code",
   "execution_count": 36,
   "metadata": {},
   "outputs": [],
   "source": [
    "data1 <- add_column(data1, Study = \"One\")\n",
    "data3 <- add_column(data3, Study = \"Three\")"
   ]
  },
  {
   "cell_type": "code",
   "execution_count": 37,
   "metadata": {},
   "outputs": [],
   "source": [
    "#Participants that don't have drawings will have this value shifted to 0\n",
    "data1 <- add_column(data1, HasDrawing = 1)\n",
    "data3 <- add_column(data3, HasDrawing = 1)"
   ]
  },
  {
   "cell_type": "markdown",
   "metadata": {},
   "source": [
    "### Selecting useful variables for analysis"
   ]
  },
  {
   "cell_type": "code",
   "execution_count": 38,
   "metadata": {},
   "outputs": [],
   "source": [
    "#Selecting useful variables for analysis - Study 1\n",
    "data1 <- select(data1,id,age_yr,female, child,\n",
    "                        QC_grip_maxLR, QC_pinch_maxLR, QC_catch_sumLRB, QC_throw_sumLRB,\n",
    "                        DP_f_head:DP_s_total, PS_p_age, PS_p_edu, PS_p_ses, PS_ethnicity:PS_eth_other,\n",
    "                PS_ymin_usual, PS_freq_ipod:PS_freq_other, PS_min_electornic,\n",
    "               PS_freq_marker_paper:PS_freq_otherd, PS_enjoy_traditional,PS_enjoy_electronic,\n",
    "               asq_total:asq_personalsocial, Study, HasDrawing)"
   ]
  },
  {
   "cell_type": "code",
   "execution_count": 39,
   "metadata": {},
   "outputs": [],
   "source": [
    "#Selecting useful variables for analysis - Study 3\n",
    "\n",
    "###Not in Study 3###\n",
    "#age_yr,female, adult, child, \n",
    "#QC_grip_maxLR, QC_pinch_maxLR, QC_catch_sumLRB, QC_throw_sumLRB,\n",
    "#SC_pcp_f:DP_s_total, PS_freq_ipod:PS_freq_other\n",
    "#asq_total:asq_personalsocial\n",
    "\n",
    "\n",
    "data3 <- select(data3,id,Age_in_months, Gender,       \n",
    "                         PS_p_age, PS_p_edu, PS_p_ses, PS_eth_asian:PS_eth_other,\n",
    "                PS_ymin_usual, PS_min_electornic,\n",
    "               PS_freq_marker_paper:PS_freq_otherd, PS_enjoy_traditional,PS_enjoy_electronic, Study, HasDrawing)"
   ]
  },
  {
   "cell_type": "markdown",
   "metadata": {},
   "source": [
    "### Adjusting Data to common form across data sets"
   ]
  },
  {
   "cell_type": "markdown",
   "metadata": {},
   "source": [
    "#### renaming Study 1 Adult data from Qualtrics to match image names for Study 1"
   ]
  },
  {
   "cell_type": "code",
   "execution_count": 40,
   "metadata": {},
   "outputs": [],
   "source": [
    "#naming convention switched to lower case 'a' to signify adult\n",
    "data1$id <- recode(data1$id, \"DAMA001\"=\"DAMa001\")\n",
    "data1$id <- recode(data1$id, \"DAMA002\"=\"DAMa002\")\n",
    "data1$id <- recode(data1$id, \"DAMA003\"=\"DAMa003\")\n",
    "data1$id <- recode(data1$id, \"DAMA004\"=\"DAMa004\")\n",
    "data1$id <- recode(data1$id, \"DAMA005\"=\"DAMa005\")\n",
    "data1$id <- recode(data1$id, \"DAMA006\"=\"DAMa006\")\n",
    "data1$id <- recode(data1$id, \"DAMA007\"=\"DAMa007\")\n",
    "data1$id <- recode(data1$id, \"DAMA008\"=\"DAMa008\")\n",
    "data1$id <- recode(data1$id, \"DAMA009\"=\"DAMa009\")\n",
    "data1$id <- recode(data1$id, \"DAMA010\"=\"DAMa010\")\n",
    "data1$id <- recode(data1$id, \"DAMA011\"=\"DAMa011\")\n",
    "data1$id <- recode(data1$id, \"DAMA012\"=\"DAMa012\")\n",
    "data1$id <- recode(data1$id, \"DAMA013\"=\"DAMa013\")\n",
    "data1$id <- recode(data1$id, \"DAMA014\"=\"DAMa014\")\n",
    "data1$id <- recode(data1$id, \"DAMA015\"=\"DAMa015\")\n",
    "data1$id <- recode(data1$id, \"DAMA016\"=\"DAMa016\")\n",
    "data1$id <- recode(data1$id, \"DAMA017\"=\"DAMa017\")\n",
    "data1$id <- recode(data1$id, \"DAMA018\"=\"DAMa018\")\n",
    "data1$id <- recode(data1$id, \"DAMA019\"=\"DAMa019\")\n",
    "data1$id <- recode(data1$id, \"DAMA020\"=\"DAMa020\")\n",
    "data1$id <- recode(data1$id, \"DAMA021\"=\"DAMa021\")\n",
    "data1$id <- recode(data1$id, \"DAMA022\"=\"DAMa022\")\n",
    "data1$id <- recode(data1$id, \"DAMA023\"=\"DAMa023\")\n",
    "data1$id <- recode(data1$id, \"DAMA024\"=\"DAMa024\")\n",
    "data1$id <- recode(data1$id, \"DAMA025\"=\"DAMa025\")\n"
   ]
  },
  {
   "cell_type": "markdown",
   "metadata": {},
   "source": [
    "#### Addressing missing data for a single participant for Study 3"
   ]
  },
  {
   "cell_type": "code",
   "execution_count": 41,
   "metadata": {},
   "outputs": [],
   "source": [
    "# Addressing missing data for a single participant\n",
    "data3[data3$id==\"DAM3D001\", \"PS_min_electornic\"] <- NA\n",
    "data3[data3$id==\"DAM3D001\", \"PS_freq_marker_paper\"] <- NA\n",
    "data3[data3$id==\"DAM3D001\", \"PS_freq_crayon_paper\"] <- NA\n",
    "data3[data3$id==\"DAM3D001\", \"PS_freq_pens_paper\"] <- NA\n",
    "data3[data3$id==\"DAM3D001\", \"PS_freq_pencil_paper\"] <- NA\n",
    "data3[data3$id==\"DAM3D001\", \"PS_freq_finger_ipad\"] <- NA\n",
    "data3[data3$id==\"DAM3D001\", \"PS_freq_stylus_ipad\"] <- NA\n",
    "data3[data3$id==\"DAM3D001\", \"PS_freq_chalk_pavement\"] <- NA\n",
    "data3[data3$id==\"DAM3D001\", \"PS_freq_otherd\"] <- NA\n",
    "data3[data3$id==\"DAM3D001\", \"PS_enjoy_traditional\"] <- NA\n",
    "data3[data3$id==\"DAM3D001\", \"PS_enjoy_electronic\"] <- NA"
   ]
  },
  {
   "cell_type": "markdown",
   "metadata": {},
   "source": [
    "#### Creating 'Gender' (coded: Female, Male) and 'female' (coded: female = 1, male = 0) variables so data sets match"
   ]
  },
  {
   "cell_type": "code",
   "execution_count": 42,
   "metadata": {},
   "outputs": [],
   "source": [
    "data1 <- data1 %>% \n",
    "  mutate(Gender = female)"
   ]
  },
  {
   "cell_type": "code",
   "execution_count": 43,
   "metadata": {},
   "outputs": [],
   "source": [
    "# Changing variable name to account for different versions of Gender name in excel format data\n",
    "data1$Gender <-ifelse(data1$Gender ==  1, \"Female\",\n",
    "                                ifelse(data1$Gender == 0,\"Male\",\"Check\"))"
   ]
  },
  {
   "cell_type": "code",
   "execution_count": 44,
   "metadata": {},
   "outputs": [],
   "source": [
    "data3 <- data3 %>% \n",
    "  mutate(female = Gender)"
   ]
  },
  {
   "cell_type": "code",
   "execution_count": 45,
   "metadata": {},
   "outputs": [],
   "source": [
    "# Changing variable name to account for different versions of Gender name in excel format data\n",
    "data3$female <-ifelse(data3$female == \"Female\", 1,\n",
    "                                ifelse(data3$female ==\"Male\", 0,\"Check\"))"
   ]
  },
  {
   "cell_type": "markdown",
   "metadata": {},
   "source": [
    "#### Uniting all ethnicity variables into 1 column"
   ]
  },
  {
   "cell_type": "code",
   "execution_count": 46,
   "metadata": {},
   "outputs": [],
   "source": [
    "data3 <- data3 %>% \n",
    "  unite(PS_ethnicity,\"PS_eth_asian\",\"PS_eth_black\",\"PS_eth_cauc\",\"PS_eth_hisp\",\n",
    "        \"PS_eth_native\",\"PS_eth_other\", sep = \"\")"
   ]
  },
  {
   "cell_type": "code",
   "execution_count": 47,
   "metadata": {},
   "outputs": [],
   "source": [
    "#replacing united NA's with one NA\n",
    "data3$PS_ethnicity <- recode(data3$PS_ethnicity, 'NANANANANANA' = \"NA\")"
   ]
  },
  {
   "cell_type": "markdown",
   "metadata": {},
   "source": [
    "#### Adding Child and Adult columns to match Study 1"
   ]
  },
  {
   "cell_type": "code",
   "execution_count": 48,
   "metadata": {},
   "outputs": [],
   "source": [
    "data3$child <- 1\n",
    "data3$adult <- 0"
   ]
  },
  {
   "cell_type": "markdown",
   "metadata": {},
   "source": [
    "#### Creating age_yr column using the Age_in_months values"
   ]
  },
  {
   "cell_type": "code",
   "execution_count": 49,
   "metadata": {},
   "outputs": [],
   "source": [
    "data3 <- data3 %>% \n",
    "  mutate(age_yr = Age_in_months)"
   ]
  },
  {
   "cell_type": "markdown",
   "metadata": {},
   "source": [
    "#### Coverting age_yr to a character value so that it can then be converted into a numeric value"
   ]
  },
  {
   "cell_type": "code",
   "execution_count": 50,
   "metadata": {},
   "outputs": [],
   "source": [
    "data3$age_yr <- as.numeric(as.character(data3$age_yr))"
   ]
  },
  {
   "cell_type": "markdown",
   "metadata": {},
   "source": [
    "#### Dividing age_yr by 12"
   ]
  },
  {
   "cell_type": "code",
   "execution_count": 51,
   "metadata": {},
   "outputs": [],
   "source": [
    "data3 <- data3 %>% \n",
    "  mutate_at(vars(starts_with(\"age_yr\")), list(~./12))"
   ]
  },
  {
   "cell_type": "markdown",
   "metadata": {},
   "source": [
    "#### Rounding age_yr to 2 decimals"
   ]
  },
  {
   "cell_type": "code",
   "execution_count": 52,
   "metadata": {},
   "outputs": [],
   "source": [
    "data3 <- data3 %>% \n",
    "  mutate_at(\"age_yr\", round, 2)"
   ]
  },
  {
   "cell_type": "markdown",
   "metadata": {},
   "source": [
    "#### Creating numeric age variables that round up to a single value for each Study  "
   ]
  },
  {
   "cell_type": "code",
   "execution_count": 53,
   "metadata": {},
   "outputs": [],
   "source": [
    "# Creating a Rounded Decimal Age factor\n",
    "data1$AgeRound<-round(as.numeric(as.character(data1$age_yr)))\n",
    "# Creating a Rounded Decimal Age factor\n",
    "data3$AgeRound<-round(as.numeric(as.character(data3$age_yr)))"
   ]
  },
  {
   "cell_type": "markdown",
   "metadata": {},
   "source": [
    "#### Adjusting value to 0 for Participants that no useable DAP images for NEXT"
   ]
  },
  {
   "cell_type": "markdown",
   "metadata": {},
   "source": [
    "Participants that had may have metadata but no useable DAP images for NEXT\n",
    "* Study 1: DAM067 \n",
    "* Study3: DAM3D001, DAM3D004, DAM3D017, DAM3D019, DAM3D028, DAM3D035, DAM3D042, DAM3D049,\n",
    " DAM3D052, DAM3D053, DAM3D054, DAM3D055, DAM3D057, DAM3D068, DAM3D071"
   ]
  },
  {
   "cell_type": "code",
   "execution_count": 54,
   "metadata": {},
   "outputs": [],
   "source": [
    "#Adjusting value to 0 for Participants that no useable DAP images for NEXT - Study 1\n",
    "\n",
    "data1[data1$id==\"DAM067\", \"HasDrawing\"] <- 0"
   ]
  },
  {
   "cell_type": "code",
   "execution_count": 55,
   "metadata": {},
   "outputs": [],
   "source": [
    "#Adjusting value to 0 for Participants that no useable DAP images for NEXT - Study 3\n",
    "\n",
    "data3[data3$id==\"DAM3D001\", \"HasDrawing\"] <- 0\n",
    "data3[data3$id==\"DAM3D004\", \"HasDrawing\"] <- 0\n",
    "data3[data3$id==\"DAM3D010\", \"HasDrawing\"] <- 0\n",
    "data3[data3$id==\"DAM3D017\", \"HasDrawing\"] <- 0\n",
    "data3[data3$id==\"DAM3D019\", \"HasDrawing\"] <- 0\n",
    "data3[data3$id==\"DAM3D028\", \"HasDrawing\"] <- 0\n",
    "data3[data3$id==\"DAM3D035\", \"HasDrawing\"] <- 0\n",
    "data3[data3$id==\"DAM3D042\", \"HasDrawing\"] <- 0\n",
    "data3[data3$id==\"DAM3D049\", \"HasDrawing\"] <- 0\n",
    "data3[data3$id==\"DAM3D052\", \"HasDrawing\"] <- 0\n",
    "data3[data3$id==\"DAM3D053\", \"HasDrawing\"] <- 0\n",
    "data3[data3$id==\"DAM3D054\", \"HasDrawing\"] <- 0\n",
    "data3[data3$id==\"DAM3D055\", \"HasDrawing\"] <- 0\n",
    "data3[data3$id==\"DAM3D057\", \"HasDrawing\"] <- 0\n",
    "data3[data3$id==\"DAM3D068\", \"HasDrawing\"] <- 0\n",
    "data3[data3$id==\"DAM3D071\", \"HasDrawing\"] <- 0"
   ]
  },
  {
   "cell_type": "markdown",
   "metadata": {},
   "source": [
    "#### Fixing image id for a Study 3 participant"
   ]
  },
  {
   "cell_type": "code",
   "execution_count": 56,
   "metadata": {},
   "outputs": [],
   "source": [
    "#fixing missing study number in an id *Note - this is important given that DAM015 is a participant ID in Study 1\n",
    "data3$id <- str_replace(data3$id, \"DAM015\", \"DAM3D015\")"
   ]
  },
  {
   "cell_type": "markdown",
   "metadata": {},
   "source": [
    "### Export data file"
   ]
  },
  {
   "cell_type": "code",
   "execution_count": 57,
   "metadata": {},
   "outputs": [],
   "source": [
    "write.table(data1, \"data1_DataAssembly.csv\", sep=\",\", col.names=T, row.names=F)\n",
    "write.table(data3, \"data3_DataAssembly.csv\", sep=\",\", col.names=T, row.names=F)\n",
    "\n",
    "#This notebook is useful for considering apparent gender issues, etc.\n",
    "write.table(brief12, \"brief12_DataAssembly.csv\", sep=\",\", col.names=T, row.names=F)"
   ]
  },
  {
   "cell_type": "markdown",
   "metadata": {},
   "source": [
    "#### Duplicating column to maintain png name"
   ]
  },
  {
   "cell_type": "code",
   "execution_count": 58,
   "metadata": {
    "scrolled": true
   },
   "outputs": [],
   "source": [
    "brief12 <- brief12 %>% \n",
    "  mutate(pngName = imageID)"
   ]
  },
  {
   "cell_type": "markdown",
   "metadata": {},
   "source": [
    "# Participant Overview"
   ]
  },
  {
   "cell_type": "markdown",
   "metadata": {},
   "source": [
    "### Study 1"
   ]
  },
  {
   "cell_type": "code",
   "execution_count": 59,
   "metadata": {},
   "outputs": [
    {
     "data": {
      "text/html": [
       "<table>\n",
       "<caption>A data.frame: 1 × 1</caption>\n",
       "<thead>\n",
       "\t<tr><th scope=col>id</th></tr>\n",
       "\t<tr><th scope=col>&lt;int&gt;</th></tr>\n",
       "</thead>\n",
       "<tbody>\n",
       "\t<tr><td>106</td></tr>\n",
       "</tbody>\n",
       "</table>\n"
      ],
      "text/latex": [
       "A data.frame: 1 × 1\n",
       "\\begin{tabular}{r|l}\n",
       " id\\\\\n",
       " <int>\\\\\n",
       "\\hline\n",
       "\t 106\\\\\n",
       "\\end{tabular}\n"
      ],
      "text/markdown": [
       "\n",
       "A data.frame: 1 × 1\n",
       "\n",
       "| id &lt;int&gt; |\n",
       "|---|\n",
       "| 106 |\n",
       "\n"
      ],
      "text/plain": [
       "  id \n",
       "1 106"
      ]
     },
     "metadata": {},
     "output_type": "display_data"
    }
   ],
   "source": [
    "# how many total unique ids in Study 1?\n",
    "aggregate(id ~ id, data=data1, FUN=function(x) length(unique(x)))"
   ]
  },
  {
   "cell_type": "code",
   "execution_count": 60,
   "metadata": {},
   "outputs": [
    {
     "data": {
      "text/html": [
       "<table>\n",
       "<caption>A data.frame: 3 × 3</caption>\n",
       "<thead>\n",
       "\t<tr><th scope=col>child</th><th scope=col>HasDrawing</th><th scope=col>id</th></tr>\n",
       "\t<tr><th scope=col>&lt;dbl&gt;</th><th scope=col>&lt;dbl&gt;</th><th scope=col>&lt;int&gt;</th></tr>\n",
       "</thead>\n",
       "<tbody>\n",
       "\t<tr><td>1</td><td>0</td><td> 1</td></tr>\n",
       "\t<tr><td>0</td><td>1</td><td>25</td></tr>\n",
       "\t<tr><td>1</td><td>1</td><td>80</td></tr>\n",
       "</tbody>\n",
       "</table>\n"
      ],
      "text/latex": [
       "A data.frame: 3 × 3\n",
       "\\begin{tabular}{r|lll}\n",
       " child & HasDrawing & id\\\\\n",
       " <dbl> & <dbl> & <int>\\\\\n",
       "\\hline\n",
       "\t 1 & 0 &  1\\\\\n",
       "\t 0 & 1 & 25\\\\\n",
       "\t 1 & 1 & 80\\\\\n",
       "\\end{tabular}\n"
      ],
      "text/markdown": [
       "\n",
       "A data.frame: 3 × 3\n",
       "\n",
       "| child &lt;dbl&gt; | HasDrawing &lt;dbl&gt; | id &lt;int&gt; |\n",
       "|---|---|---|\n",
       "| 1 | 0 |  1 |\n",
       "| 0 | 1 | 25 |\n",
       "| 1 | 1 | 80 |\n",
       "\n"
      ],
      "text/plain": [
       "  child HasDrawing id\n",
       "1 1     0           1\n",
       "2 0     1          25\n",
       "3 1     1          80"
      ]
     },
     "metadata": {},
     "output_type": "display_data"
    }
   ],
   "source": [
    "# how many total participants in Study 1?\n",
    "aggregate(id ~ id + child + HasDrawing, data=data1, FUN=function(x) length(unique(x)))"
   ]
  },
  {
   "cell_type": "markdown",
   "metadata": {},
   "source": [
    "<span style=\"color:blue\"> 25 adults and 81 kids - 1 child (DAM067) doesn't have DAP images"
   ]
  },
  {
   "cell_type": "code",
   "execution_count": 61,
   "metadata": {},
   "outputs": [
    {
     "data": {
      "text/html": [
       "<table>\n",
       "<caption>A data.frame: 18 × 3</caption>\n",
       "<thead>\n",
       "\t<tr><th scope=col>Gender</th><th scope=col>AgeRound</th><th scope=col>id</th></tr>\n",
       "\t<tr><th scope=col>&lt;chr&gt;</th><th scope=col>&lt;dbl&gt;</th><th scope=col>&lt;int&gt;</th></tr>\n",
       "</thead>\n",
       "<tbody>\n",
       "\t<tr><td>Female</td><td> 2</td><td> 7</td></tr>\n",
       "\t<tr><td>Male  </td><td> 2</td><td> 7</td></tr>\n",
       "\t<tr><td>Female</td><td> 3</td><td>10</td></tr>\n",
       "\t<tr><td>Male  </td><td> 3</td><td> 6</td></tr>\n",
       "\t<tr><td>Female</td><td> 4</td><td>18</td></tr>\n",
       "\t<tr><td>Male  </td><td> 4</td><td>11</td></tr>\n",
       "\t<tr><td>Female</td><td> 5</td><td>12</td></tr>\n",
       "\t<tr><td>Male  </td><td> 5</td><td> 2</td></tr>\n",
       "\t<tr><td>Female</td><td> 6</td><td> 1</td></tr>\n",
       "\t<tr><td>Male  </td><td> 6</td><td> 3</td></tr>\n",
       "\t<tr><td>Female</td><td> 7</td><td> 1</td></tr>\n",
       "\t<tr><td>Female</td><td> 8</td><td> 2</td></tr>\n",
       "\t<tr><td>Female</td><td>19</td><td> 2</td></tr>\n",
       "\t<tr><td>Male  </td><td>19</td><td> 1</td></tr>\n",
       "\t<tr><td>Female</td><td>20</td><td> 7</td></tr>\n",
       "\t<tr><td>Female</td><td>21</td><td> 6</td></tr>\n",
       "\t<tr><td>Male  </td><td>21</td><td> 2</td></tr>\n",
       "\t<tr><td>Female</td><td>22</td><td> 3</td></tr>\n",
       "</tbody>\n",
       "</table>\n"
      ],
      "text/latex": [
       "A data.frame: 18 × 3\n",
       "\\begin{tabular}{r|lll}\n",
       " Gender & AgeRound & id\\\\\n",
       " <chr> & <dbl> & <int>\\\\\n",
       "\\hline\n",
       "\t Female &  2 &  7\\\\\n",
       "\t Male   &  2 &  7\\\\\n",
       "\t Female &  3 & 10\\\\\n",
       "\t Male   &  3 &  6\\\\\n",
       "\t Female &  4 & 18\\\\\n",
       "\t Male   &  4 & 11\\\\\n",
       "\t Female &  5 & 12\\\\\n",
       "\t Male   &  5 &  2\\\\\n",
       "\t Female &  6 &  1\\\\\n",
       "\t Male   &  6 &  3\\\\\n",
       "\t Female &  7 &  1\\\\\n",
       "\t Female &  8 &  2\\\\\n",
       "\t Female & 19 &  2\\\\\n",
       "\t Male   & 19 &  1\\\\\n",
       "\t Female & 20 &  7\\\\\n",
       "\t Female & 21 &  6\\\\\n",
       "\t Male   & 21 &  2\\\\\n",
       "\t Female & 22 &  3\\\\\n",
       "\\end{tabular}\n"
      ],
      "text/markdown": [
       "\n",
       "A data.frame: 18 × 3\n",
       "\n",
       "| Gender &lt;chr&gt; | AgeRound &lt;dbl&gt; | id &lt;int&gt; |\n",
       "|---|---|---|\n",
       "| Female |  2 |  7 |\n",
       "| Male   |  2 |  7 |\n",
       "| Female |  3 | 10 |\n",
       "| Male   |  3 |  6 |\n",
       "| Female |  4 | 18 |\n",
       "| Male   |  4 | 11 |\n",
       "| Female |  5 | 12 |\n",
       "| Male   |  5 |  2 |\n",
       "| Female |  6 |  1 |\n",
       "| Male   |  6 |  3 |\n",
       "| Female |  7 |  1 |\n",
       "| Female |  8 |  2 |\n",
       "| Female | 19 |  2 |\n",
       "| Male   | 19 |  1 |\n",
       "| Female | 20 |  7 |\n",
       "| Female | 21 |  6 |\n",
       "| Male   | 21 |  2 |\n",
       "| Female | 22 |  3 |\n",
       "\n"
      ],
      "text/plain": [
       "   Gender AgeRound id\n",
       "1  Female  2        7\n",
       "2  Male    2        7\n",
       "3  Female  3       10\n",
       "4  Male    3        6\n",
       "5  Female  4       18\n",
       "6  Male    4       11\n",
       "7  Female  5       12\n",
       "8  Male    5        2\n",
       "9  Female  6        1\n",
       "10 Male    6        3\n",
       "11 Female  7        1\n",
       "12 Female  8        2\n",
       "13 Female 19        2\n",
       "14 Male   19        1\n",
       "15 Female 20        7\n",
       "16 Female 21        6\n",
       "17 Male   21        2\n",
       "18 Female 22        3"
      ]
     },
     "metadata": {},
     "output_type": "display_data"
    }
   ],
   "source": [
    "# how many total participants based on age in Study 1?\n",
    "aggregate(id ~ id + Gender +AgeRound, data=data1, FUN=function(x) length(unique(x)))"
   ]
  },
  {
   "cell_type": "markdown",
   "metadata": {},
   "source": [
    "<span style=\"color:blue\"> There are fewer older Male children. For example there are 15 girls 5-8, but only 5 boys in the age range."
   ]
  },
  {
   "cell_type": "code",
   "execution_count": 62,
   "metadata": {},
   "outputs": [
    {
     "data": {
      "text/html": [
       "<table>\n",
       "<caption>A data.frame: 4 × 3</caption>\n",
       "<thead>\n",
       "\t<tr><th scope=col>Gender</th><th scope=col>child</th><th scope=col>id</th></tr>\n",
       "\t<tr><th scope=col>&lt;chr&gt;</th><th scope=col>&lt;dbl&gt;</th><th scope=col>&lt;int&gt;</th></tr>\n",
       "</thead>\n",
       "<tbody>\n",
       "\t<tr><td>Female</td><td>0</td><td>19</td></tr>\n",
       "\t<tr><td>Male  </td><td>0</td><td> 5</td></tr>\n",
       "\t<tr><td>Female</td><td>1</td><td>51</td></tr>\n",
       "\t<tr><td>Male  </td><td>1</td><td>29</td></tr>\n",
       "</tbody>\n",
       "</table>\n"
      ],
      "text/latex": [
       "A data.frame: 4 × 3\n",
       "\\begin{tabular}{r|lll}\n",
       " Gender & child & id\\\\\n",
       " <chr> & <dbl> & <int>\\\\\n",
       "\\hline\n",
       "\t Female & 0 & 19\\\\\n",
       "\t Male   & 0 &  5\\\\\n",
       "\t Female & 1 & 51\\\\\n",
       "\t Male   & 1 & 29\\\\\n",
       "\\end{tabular}\n"
      ],
      "text/markdown": [
       "\n",
       "A data.frame: 4 × 3\n",
       "\n",
       "| Gender &lt;chr&gt; | child &lt;dbl&gt; | id &lt;int&gt; |\n",
       "|---|---|---|\n",
       "| Female | 0 | 19 |\n",
       "| Male   | 0 |  5 |\n",
       "| Female | 1 | 51 |\n",
       "| Male   | 1 | 29 |\n",
       "\n"
      ],
      "text/plain": [
       "  Gender child id\n",
       "1 Female 0     19\n",
       "2 Male   0      5\n",
       "3 Female 1     51\n",
       "4 Male   1     29"
      ]
     },
     "metadata": {},
     "output_type": "display_data"
    }
   ],
   "source": [
    "# how many total participants by Gender in Study 1?\n",
    "aggregate(id ~ id+Gender+child, data=data1, FUN=function(x) length(unique(x)))"
   ]
  },
  {
   "cell_type": "markdown",
   "metadata": {},
   "source": [
    "<span style=\"color:blue\"> Most of the adults (coded 0) are female. Likewise, the majority of children are female"
   ]
  },
  {
   "cell_type": "code",
   "execution_count": 63,
   "metadata": {
    "scrolled": true
   },
   "outputs": [],
   "source": [
    "# how many total participants have an Ages & Stages Questionnaires (asq_total)\n",
    "asq_count <- aggregate(id ~ asq_total, data=data1, FUN=function(x) length(unique(x)))"
   ]
  },
  {
   "cell_type": "code",
   "execution_count": 64,
   "metadata": {},
   "outputs": [
    {
     "data": {
      "text/html": [
       "45"
      ],
      "text/latex": [
       "45"
      ],
      "text/markdown": [
       "45"
      ],
      "text/plain": [
       "[1] 45"
      ]
     },
     "metadata": {},
     "output_type": "display_data"
    }
   ],
   "source": [
    "sum(asq_count$id)"
   ]
  },
  {
   "cell_type": "markdown",
   "metadata": {},
   "source": [
    "<span style=\"color:blue\"> 45 out of 81 kids data include an Ages & Stages Questionnaires (asq_total) total"
   ]
  },
  {
   "cell_type": "code",
   "execution_count": 65,
   "metadata": {
    "scrolled": true
   },
   "outputs": [
    {
     "data": {
      "text/html": [
       "<table>\n",
       "<caption>A data.frame: 8 × 2</caption>\n",
       "<thead>\n",
       "\t<tr><th scope=col>PS_ethnicity</th><th scope=col>id</th></tr>\n",
       "\t<tr><th scope=col>&lt;fct&gt;</th><th scope=col>&lt;int&gt;</th></tr>\n",
       "</thead>\n",
       "<tbody>\n",
       "\t<tr><td>asian            </td><td> 5</td></tr>\n",
       "\t<tr><td>black            </td><td> 1</td></tr>\n",
       "\t<tr><td>cauc             </td><td>36</td></tr>\n",
       "\t<tr><td>cauc_black_native</td><td> 1</td></tr>\n",
       "\t<tr><td>cauc_hisp        </td><td> 1</td></tr>\n",
       "\t<tr><td>cauc_other       </td><td> 1</td></tr>\n",
       "\t<tr><td>hisp             </td><td> 4</td></tr>\n",
       "\t<tr><td>other            </td><td> 1</td></tr>\n",
       "</tbody>\n",
       "</table>\n"
      ],
      "text/latex": [
       "A data.frame: 8 × 2\n",
       "\\begin{tabular}{r|ll}\n",
       " PS\\_ethnicity & id\\\\\n",
       " <fct> & <int>\\\\\n",
       "\\hline\n",
       "\t asian             &  5\\\\\n",
       "\t black             &  1\\\\\n",
       "\t cauc              & 36\\\\\n",
       "\t cauc\\_black\\_native &  1\\\\\n",
       "\t cauc\\_hisp         &  1\\\\\n",
       "\t cauc\\_other        &  1\\\\\n",
       "\t hisp              &  4\\\\\n",
       "\t other             &  1\\\\\n",
       "\\end{tabular}\n"
      ],
      "text/markdown": [
       "\n",
       "A data.frame: 8 × 2\n",
       "\n",
       "| PS_ethnicity &lt;fct&gt; | id &lt;int&gt; |\n",
       "|---|---|\n",
       "| asian             |  5 |\n",
       "| black             |  1 |\n",
       "| cauc              | 36 |\n",
       "| cauc_black_native |  1 |\n",
       "| cauc_hisp         |  1 |\n",
       "| cauc_other        |  1 |\n",
       "| hisp              |  4 |\n",
       "| other             |  1 |\n",
       "\n"
      ],
      "text/plain": [
       "  PS_ethnicity      id\n",
       "1 asian              5\n",
       "2 black              1\n",
       "3 cauc              36\n",
       "4 cauc_black_native  1\n",
       "5 cauc_hisp          1\n",
       "6 cauc_other         1\n",
       "7 hisp               4\n",
       "8 other              1"
      ]
     },
     "metadata": {},
     "output_type": "display_data"
    }
   ],
   "source": [
    "#how many total participants by Ethnicity in Study 1?\n",
    "aggregate(id ~ id+PS_ethnicity, data=data1, FUN=function(x) length(unique(x)))"
   ]
  },
  {
   "cell_type": "markdown",
   "metadata": {},
   "source": [
    "### Study 3"
   ]
  },
  {
   "cell_type": "code",
   "execution_count": 66,
   "metadata": {},
   "outputs": [
    {
     "data": {
      "text/html": [
       "<table>\n",
       "<caption>A data.frame: 2 × 3</caption>\n",
       "<thead>\n",
       "\t<tr><th scope=col>child</th><th scope=col>HasDrawing</th><th scope=col>id</th></tr>\n",
       "\t<tr><th scope=col>&lt;dbl&gt;</th><th scope=col>&lt;dbl&gt;</th><th scope=col>&lt;int&gt;</th></tr>\n",
       "</thead>\n",
       "<tbody>\n",
       "\t<tr><td>1</td><td>0</td><td>16</td></tr>\n",
       "\t<tr><td>1</td><td>1</td><td>49</td></tr>\n",
       "</tbody>\n",
       "</table>\n"
      ],
      "text/latex": [
       "A data.frame: 2 × 3\n",
       "\\begin{tabular}{r|lll}\n",
       " child & HasDrawing & id\\\\\n",
       " <dbl> & <dbl> & <int>\\\\\n",
       "\\hline\n",
       "\t 1 & 0 & 16\\\\\n",
       "\t 1 & 1 & 49\\\\\n",
       "\\end{tabular}\n"
      ],
      "text/markdown": [
       "\n",
       "A data.frame: 2 × 3\n",
       "\n",
       "| child &lt;dbl&gt; | HasDrawing &lt;dbl&gt; | id &lt;int&gt; |\n",
       "|---|---|---|\n",
       "| 1 | 0 | 16 |\n",
       "| 1 | 1 | 49 |\n",
       "\n"
      ],
      "text/plain": [
       "  child HasDrawing id\n",
       "1 1     0          16\n",
       "2 1     1          49"
      ]
     },
     "metadata": {},
     "output_type": "display_data"
    }
   ],
   "source": [
    "# how many total participants in study 3 that produced DAP drawings?\n",
    "aggregate(id ~ id + child + HasDrawing, data=data3, FUN=function(x) length(unique(x)))"
   ]
  },
  {
   "cell_type": "markdown",
   "metadata": {},
   "source": [
    "<span style=\"color:blue\"> 65 kids - 16 childred don't have DAP images"
   ]
  },
  {
   "cell_type": "code",
   "execution_count": 67,
   "metadata": {
    "scrolled": true
   },
   "outputs": [
    {
     "data": {
      "text/html": [
       "<table>\n",
       "<caption>A data.frame: 2 × 2</caption>\n",
       "<thead>\n",
       "\t<tr><th scope=col>Gender</th><th scope=col>id</th></tr>\n",
       "\t<tr><th scope=col>&lt;fct&gt;</th><th scope=col>&lt;int&gt;</th></tr>\n",
       "</thead>\n",
       "<tbody>\n",
       "\t<tr><td>Female</td><td>32</td></tr>\n",
       "\t<tr><td>Male  </td><td>20</td></tr>\n",
       "</tbody>\n",
       "</table>\n"
      ],
      "text/latex": [
       "A data.frame: 2 × 2\n",
       "\\begin{tabular}{r|ll}\n",
       " Gender & id\\\\\n",
       " <fct> & <int>\\\\\n",
       "\\hline\n",
       "\t Female & 32\\\\\n",
       "\t Male   & 20\\\\\n",
       "\\end{tabular}\n"
      ],
      "text/markdown": [
       "\n",
       "A data.frame: 2 × 2\n",
       "\n",
       "| Gender &lt;fct&gt; | id &lt;int&gt; |\n",
       "|---|---|\n",
       "| Female | 32 |\n",
       "| Male   | 20 |\n",
       "\n"
      ],
      "text/plain": [
       "  Gender id\n",
       "1 Female 32\n",
       "2 Male   20"
      ]
     },
     "metadata": {},
     "output_type": "display_data"
    }
   ],
   "source": [
    "# how many total participants by Gender in Study 3?\n",
    "aggregate(id ~ id+Gender, data=data3, FUN=function(x) length(unique(x)))"
   ]
  },
  {
   "cell_type": "markdown",
   "metadata": {},
   "source": [
    "<span style=\"color:blue\"> Not all participants have metadata concerning gender so these numbers aren't a complete reflection of the sample."
   ]
  },
  {
   "cell_type": "code",
   "execution_count": 68,
   "metadata": {},
   "outputs": [
    {
     "data": {
      "text/html": [
       "<table>\n",
       "<caption>A data.frame: 9 × 2</caption>\n",
       "<thead>\n",
       "\t<tr><th scope=col>PS_ethnicity</th><th scope=col>id</th></tr>\n",
       "\t<tr><th scope=col>&lt;chr&gt;</th><th scope=col>&lt;int&gt;</th></tr>\n",
       "</thead>\n",
       "<tbody>\n",
       "\t<tr><td>Asian/Pacific Islander                </td><td> 1</td></tr>\n",
       "\t<tr><td>Black/African-American                </td><td> 1</td></tr>\n",
       "\t<tr><td>Black/African-AmericanCaucasian       </td><td> 1</td></tr>\n",
       "\t<tr><td>Caucasian                             </td><td>44</td></tr>\n",
       "\t<tr><td>CaucasianHispanic                     </td><td> 1</td></tr>\n",
       "\t<tr><td>CaucasianNative American/Alaska Native</td><td> 1</td></tr>\n",
       "\t<tr><td>Hispanic                              </td><td> 1</td></tr>\n",
       "\t<tr><td>NA                                    </td><td>14</td></tr>\n",
       "\t<tr><td>Other                                 </td><td> 1</td></tr>\n",
       "</tbody>\n",
       "</table>\n"
      ],
      "text/latex": [
       "A data.frame: 9 × 2\n",
       "\\begin{tabular}{r|ll}\n",
       " PS\\_ethnicity & id\\\\\n",
       " <chr> & <int>\\\\\n",
       "\\hline\n",
       "\t Asian/Pacific Islander                 &  1\\\\\n",
       "\t Black/African-American                 &  1\\\\\n",
       "\t Black/African-AmericanCaucasian        &  1\\\\\n",
       "\t Caucasian                              & 44\\\\\n",
       "\t CaucasianHispanic                      &  1\\\\\n",
       "\t CaucasianNative American/Alaska Native &  1\\\\\n",
       "\t Hispanic                               &  1\\\\\n",
       "\t NA                                     & 14\\\\\n",
       "\t Other                                  &  1\\\\\n",
       "\\end{tabular}\n"
      ],
      "text/markdown": [
       "\n",
       "A data.frame: 9 × 2\n",
       "\n",
       "| PS_ethnicity &lt;chr&gt; | id &lt;int&gt; |\n",
       "|---|---|\n",
       "| Asian/Pacific Islander                 |  1 |\n",
       "| Black/African-American                 |  1 |\n",
       "| Black/African-AmericanCaucasian        |  1 |\n",
       "| Caucasian                              | 44 |\n",
       "| CaucasianHispanic                      |  1 |\n",
       "| CaucasianNative American/Alaska Native |  1 |\n",
       "| Hispanic                               |  1 |\n",
       "| NA                                     | 14 |\n",
       "| Other                                  |  1 |\n",
       "\n"
      ],
      "text/plain": [
       "  PS_ethnicity                           id\n",
       "1 Asian/Pacific Islander                  1\n",
       "2 Black/African-American                  1\n",
       "3 Black/African-AmericanCaucasian         1\n",
       "4 Caucasian                              44\n",
       "5 CaucasianHispanic                       1\n",
       "6 CaucasianNative American/Alaska Native  1\n",
       "7 Hispanic                                1\n",
       "8 NA                                     14\n",
       "9 Other                                   1"
      ]
     },
     "metadata": {},
     "output_type": "display_data"
    }
   ],
   "source": [
    "#how many total participants by Ethnicity in Study 3?\n",
    "aggregate(id ~ id+PS_ethnicity, data=data3, FUN=function(x) length(unique(x)))"
   ]
  },
  {
   "cell_type": "markdown",
   "metadata": {},
   "source": [
    "<span style=\"color:blue\"> Ethnic representation within the sample is likely too low to offer meaningful interpretations for either Study"
   ]
  },
  {
   "cell_type": "markdown",
   "metadata": {},
   "source": [
    "## Recoding Ethnicity"
   ]
  },
  {
   "cell_type": "code",
   "execution_count": 69,
   "metadata": {},
   "outputs": [],
   "source": [
    "# recoding cauc as a_cauc to take advantange of R's ordering by alphabeticality\n",
    "data1$PS_ethnicity.f <-ifelse(data1$PS_ethnicity == \"cauc\", \"a_cauc\",\n",
    "                                ifelse(data1$PS_ethnicity ==\"asian\", \"asian\",\n",
    "                                ifelse(data1$PS_ethnicity ==\"black\", \"black\",\n",
    "                                ifelse(data1$PS_ethnicity ==\"hisp\", \"hisp\",\n",
    "                                ifelse(data1$PS_ethnicity ==\"other\", \"other\",\n",
    "                                ifelse(data1$PS_ethnicity ==\"cauc_hisp\", \"hisp\",\n",
    "                                ifelse(data1$PS_ethnicity ==\"cauc_other\", \"other\",\n",
    "                                ifelse(data1$PS_ethnicity ==\"cauc_black_native\", \"black\",\n",
    "                                       \"Check\"))))))))\n"
   ]
  },
  {
   "cell_type": "code",
   "execution_count": 70,
   "metadata": {},
   "outputs": [],
   "source": [
    "# recoding cauc as a_cauc to take advantange of R's ordering by alphabeticality\n",
    "data3$PS_ethnicity.f <-ifelse(data3$PS_ethnicity == \"Caucasian\", \"a_cauc\",\n",
    "                                ifelse(data3$PS_ethnicity ==\"Asian/Pacific Islander\", \"asian\",\n",
    "                                ifelse(data3$PS_ethnicity ==\"Black/African-American\", \"black\",\n",
    "                                ifelse(data3$PS_ethnicity ==\"Black/African-AmericanCaucasian\", \"black\",\n",
    "                                ifelse(data3$PS_ethnicity ==\"Hispanic\", \"hisp\",\n",
    "                                ifelse(data3$PS_ethnicity ==\"Other\", \"other\",\n",
    "                                ifelse(data3$PS_ethnicity ==\"NA\", \"other\",\n",
    "                                ifelse(data3$PS_ethnicity ==\"CaucasianHispanic\", \"hisp\",\n",
    "                                ifelse(data3$PS_ethnicity ==\"CaucasianNative American/Alaska Native\", \"other\",\n",
    "                                  \"Check\")))))))))\n"
   ]
  },
  {
   "cell_type": "code",
   "execution_count": 71,
   "metadata": {},
   "outputs": [],
   "source": [
    "#creating the factor variable PS_ethnicity.f\n",
    "data1$PS_ethnicity.f = factor(data1$PS_ethnicity.f, labels=c(\"a_cauc\", \"asian\", \"black\", \"hisp\", \"other\"))"
   ]
  },
  {
   "cell_type": "code",
   "execution_count": 72,
   "metadata": {},
   "outputs": [],
   "source": [
    "data3$PS_ethnicity.f = factor(data3$PS_ethnicity.f, labels=c(\"a_cauc\", \"asian\", \"black\", \"hisp\", \"other\"))"
   ]
  },
  {
   "cell_type": "code",
   "execution_count": 73,
   "metadata": {},
   "outputs": [],
   "source": [
    "#Selecting variables for export - Study 1\n",
    "data1_complete <- select(data1, id, age_yr, AgeRound, female, child,\n",
    "                        QC_grip_maxLR, QC_pinch_maxLR, QC_catch_sumLRB, QC_throw_sumLRB,\n",
    "                        DP_f_head:DP_s_total, PS_p_age, PS_p_edu, PS_p_ses, PS_ethnicity:PS_eth_other,\n",
    "                PS_ymin_usual, PS_freq_ipod:PS_freq_other, PS_min_electornic,\n",
    "               PS_freq_marker_paper:PS_freq_otherd, PS_enjoy_traditional,PS_enjoy_electronic,\n",
    "               asq_total:asq_personalsocial, Study, Gender, HasDrawing)"
   ]
  },
  {
   "cell_type": "code",
   "execution_count": 74,
   "metadata": {},
   "outputs": [],
   "source": [
    "#Selecting useful variables for export and analysis - Study 1\n",
    "\n",
    "###Not in Study 1 Reduced###\n",
    "#DP_f_head:DP_s_total, \n",
    "#PS_freq_ipod:PS_freq_other,\n",
    "#asq_communication:asq_personalsocial\n",
    "\n",
    "data1_reduced <- select(data1,id, age_yr, AgeRound, female, child,\n",
    "                        QC_grip_maxLR, QC_pinch_maxLR, QC_catch_sumLRB, QC_throw_sumLRB,\n",
    "                         PS_p_age, PS_p_edu, PS_p_ses, PS_ethnicity, PS_ethnicity.f,\n",
    "                PS_ymin_usual, PS_min_electornic,\n",
    "               PS_freq_marker_paper:PS_freq_otherd, PS_enjoy_traditional,PS_enjoy_electronic, \n",
    "                        asq_total:asq_personalsocial, Study, Gender, HasDrawing)"
   ]
  },
  {
   "cell_type": "code",
   "execution_count": 75,
   "metadata": {},
   "outputs": [],
   "source": [
    "#Creating an object with the variables in Study 1 that are missing from Study 3\n",
    "Study1_variables <- c(\"QC_grip_maxLR\", \"QC_pinch_maxLR\", \"QC_catch_sumLRB\", \"QC_throw_sumLRB\", \"DP_f_total\", \n",
    "                      \"DP_p_total\", \"DP_s_total\",\"asq_total\",\"asq_communication\", \"asq_grossmotor\", \n",
    "                      \"asq_finemotor\", \"asq_problemsolving\", \"asq_personalsocial\")\n"
   ]
  },
  {
   "cell_type": "code",
   "execution_count": 76,
   "metadata": {},
   "outputs": [],
   "source": [
    "#Inserting columns to match Study 1 and inserting NA values\n",
    "data3[Study1_variables]<- NA"
   ]
  },
  {
   "cell_type": "code",
   "execution_count": 77,
   "metadata": {},
   "outputs": [],
   "source": [
    "#Selecting useful variables for export and analysis - Study 3\n",
    "\n",
    "###Not in Study 3###\n",
    "#age_yr,female, adult, child, \n",
    "#QC_grip_maxLR, QC_pinch_maxLR, QC_catch_sumLRB, QC_throw_sumLRB,\n",
    "#SC_pcp_f:DP_s_total, PS_freq_ipod:PS_freq_other\n",
    "#asq_total:asq_personalsocial\n",
    "\n",
    "data3<- select(data3,id, age_yr, AgeRound, female, child,\n",
    "                        QC_grip_maxLR, QC_pinch_maxLR, QC_catch_sumLRB, QC_throw_sumLRB,\n",
    "                         PS_p_age, PS_p_edu, PS_p_ses, PS_ethnicity, PS_ethnicity.f,\n",
    "                PS_ymin_usual, PS_min_electornic,\n",
    "               PS_freq_marker_paper:PS_freq_otherd, PS_enjoy_traditional,PS_enjoy_electronic, \n",
    "                       asq_total:asq_personalsocial, Study, Gender, HasDrawing)"
   ]
  },
  {
   "cell_type": "code",
   "execution_count": 78,
   "metadata": {},
   "outputs": [],
   "source": [
    "combinedData1Data3<- rbind(data1_reduced , data3)"
   ]
  },
  {
   "cell_type": "code",
   "execution_count": 79,
   "metadata": {},
   "outputs": [],
   "source": [
    "#Creating a dataframe for NEXTdrawings Analysis notebook\n",
    "#write.table(combinedData1Data3, \"combinedData1Data3.csv\", sep=\",\", col.names=T, row.names=F)"
   ]
  },
  {
   "cell_type": "markdown",
   "metadata": {},
   "source": [
    "#### Getting a single rating value for DAP scores"
   ]
  },
  {
   "cell_type": "code",
   "execution_count": 80,
   "metadata": {},
   "outputs": [],
   "source": [
    "brief12_RA_rating <- brief12 %>%\n",
    "  mutate(RA_DAP_rating = select(., RA_Head:RA_Hair) %>% apply(1, sum, na.rm=TRUE))"
   ]
  },
  {
   "cell_type": "markdown",
   "metadata": {},
   "source": [
    "#### Removing underscores from variable names so that elements can be used as independent variables"
   ]
  },
  {
   "cell_type": "code",
   "execution_count": 81,
   "metadata": {},
   "outputs": [],
   "source": [
    "# separating data based on underscore used in distinguishing common elements among variables\n",
    "#separate( ) function: #Objective - Splitting a single variable into two\n",
    "brief12_RA_split <- separate(brief12_RA_rating, imageID, \n",
    "                            c(\"id\", \"DAP_mediaType\",\"imageLabel\"), sep = \"_\", remove = TRUE, convert = FALSE)"
   ]
  },
  {
   "cell_type": "code",
   "execution_count": 82,
   "metadata": {},
   "outputs": [],
   "source": [
    "#Creating a single value to reflect average of DAP ratings\n",
    "RA_DAP_AvgRating <- brief12_RA_split  %>% \n",
    "group_by(id, DAP_mediaType) %>%\n",
    "summarise(RA_DAP_AvgRating = mean(RA_DAP_rating, na.rm = TRUE))"
   ]
  },
  {
   "cell_type": "code",
   "execution_count": 83,
   "metadata": {
    "scrolled": true
   },
   "outputs": [],
   "source": [
    "brief12_combined <- left_join(brief12_RA_split,RA_DAP_AvgRating,\n",
    "                           by=c(\"id\",\"DAP_mediaType\"))"
   ]
  },
  {
   "cell_type": "code",
   "execution_count": 84,
   "metadata": {},
   "outputs": [
    {
     "data": {
      "text/html": [
       "<table>\n",
       "<caption>A data.frame: 1 × 1</caption>\n",
       "<thead>\n",
       "\t<tr><th scope=col>id</th></tr>\n",
       "\t<tr><th scope=col>&lt;int&gt;</th></tr>\n",
       "</thead>\n",
       "<tbody>\n",
       "\t<tr><td>171</td></tr>\n",
       "</tbody>\n",
       "</table>\n"
      ],
      "text/latex": [
       "A data.frame: 1 × 1\n",
       "\\begin{tabular}{r|l}\n",
       " id\\\\\n",
       " <int>\\\\\n",
       "\\hline\n",
       "\t 171\\\\\n",
       "\\end{tabular}\n"
      ],
      "text/markdown": [
       "\n",
       "A data.frame: 1 × 1\n",
       "\n",
       "| id &lt;int&gt; |\n",
       "|---|\n",
       "| 171 |\n",
       "\n"
      ],
      "text/plain": [
       "  id \n",
       "1 171"
      ]
     },
     "metadata": {},
     "output_type": "display_data"
    }
   ],
   "source": [
    "# how many adults = 0, and children = 1 across the Study 1 and 3?\n",
    "aggregate(id ~ id ,  data=combinedData1Data3, FUN=function(x) length(unique(x)))"
   ]
  },
  {
   "cell_type": "code",
   "execution_count": 85,
   "metadata": {},
   "outputs": [
    {
     "data": {
      "text/html": [
       "<table>\n",
       "<caption>A data.frame: 1 × 1</caption>\n",
       "<thead>\n",
       "\t<tr><th scope=col>id</th></tr>\n",
       "\t<tr><th scope=col>&lt;int&gt;</th></tr>\n",
       "</thead>\n",
       "<tbody>\n",
       "\t<tr><td>154</td></tr>\n",
       "</tbody>\n",
       "</table>\n"
      ],
      "text/latex": [
       "A data.frame: 1 × 1\n",
       "\\begin{tabular}{r|l}\n",
       " id\\\\\n",
       " <int>\\\\\n",
       "\\hline\n",
       "\t 154\\\\\n",
       "\\end{tabular}\n"
      ],
      "text/markdown": [
       "\n",
       "A data.frame: 1 × 1\n",
       "\n",
       "| id &lt;int&gt; |\n",
       "|---|\n",
       "| 154 |\n",
       "\n"
      ],
      "text/plain": [
       "  id \n",
       "1 154"
      ]
     },
     "metadata": {},
     "output_type": "display_data"
    }
   ],
   "source": [
    "# how many adults = 0, and children = 1 across the Study 1 and 3?\n",
    "aggregate(id ~ id ,  data=brief12_combined, FUN=function(x) length(unique(x)))"
   ]
  },
  {
   "cell_type": "code",
   "execution_count": 86,
   "metadata": {},
   "outputs": [
    {
     "name": "stderr",
     "output_type": "stream",
     "text": [
      "Warning message:\n",
      "“Column `id` joining factor and character vector, coercing into character vector”"
     ]
    }
   ],
   "source": [
    "DAPrating_dataCombined<- left_join(combinedData1Data3,brief12_combined , \n",
    "                           by=c(\"id\"))"
   ]
  },
  {
   "cell_type": "code",
   "execution_count": 87,
   "metadata": {},
   "outputs": [
    {
     "data": {
      "text/html": [
       "<table>\n",
       "<caption>A data.frame: 2 × 2</caption>\n",
       "<thead>\n",
       "\t<tr><th scope=col>HasDrawing</th><th scope=col>id</th></tr>\n",
       "\t<tr><th scope=col>&lt;dbl&gt;</th><th scope=col>&lt;int&gt;</th></tr>\n",
       "</thead>\n",
       "<tbody>\n",
       "\t<tr><td>0</td><td> 17</td></tr>\n",
       "\t<tr><td>1</td><td>154</td></tr>\n",
       "</tbody>\n",
       "</table>\n"
      ],
      "text/latex": [
       "A data.frame: 2 × 2\n",
       "\\begin{tabular}{r|ll}\n",
       " HasDrawing & id\\\\\n",
       " <dbl> & <int>\\\\\n",
       "\\hline\n",
       "\t 0 &  17\\\\\n",
       "\t 1 & 154\\\\\n",
       "\\end{tabular}\n"
      ],
      "text/markdown": [
       "\n",
       "A data.frame: 2 × 2\n",
       "\n",
       "| HasDrawing &lt;dbl&gt; | id &lt;int&gt; |\n",
       "|---|---|\n",
       "| 0 |  17 |\n",
       "| 1 | 154 |\n",
       "\n"
      ],
      "text/plain": [
       "  HasDrawing id \n",
       "1 0           17\n",
       "2 1          154"
      ]
     },
     "metadata": {},
     "output_type": "display_data"
    }
   ],
   "source": [
    "# how many total participants across the Study 1 and 3?\n",
    "aggregate(id ~ id + HasDrawing,  data=DAPrating_dataCombined, FUN=function(x) length(unique(x)))"
   ]
  },
  {
   "cell_type": "code",
   "execution_count": 88,
   "metadata": {},
   "outputs": [
    {
     "data": {
      "text/html": [
       "<table>\n",
       "<caption>A data.frame: 2 × 2</caption>\n",
       "<thead>\n",
       "\t<tr><th scope=col>child</th><th scope=col>id</th></tr>\n",
       "\t<tr><th scope=col>&lt;dbl&gt;</th><th scope=col>&lt;int&gt;</th></tr>\n",
       "</thead>\n",
       "<tbody>\n",
       "\t<tr><td>0</td><td> 25</td></tr>\n",
       "\t<tr><td>1</td><td>146</td></tr>\n",
       "</tbody>\n",
       "</table>\n"
      ],
      "text/latex": [
       "A data.frame: 2 × 2\n",
       "\\begin{tabular}{r|ll}\n",
       " child & id\\\\\n",
       " <dbl> & <int>\\\\\n",
       "\\hline\n",
       "\t 0 &  25\\\\\n",
       "\t 1 & 146\\\\\n",
       "\\end{tabular}\n"
      ],
      "text/markdown": [
       "\n",
       "A data.frame: 2 × 2\n",
       "\n",
       "| child &lt;dbl&gt; | id &lt;int&gt; |\n",
       "|---|---|\n",
       "| 0 |  25 |\n",
       "| 1 | 146 |\n",
       "\n"
      ],
      "text/plain": [
       "  child id \n",
       "1 0      25\n",
       "2 1     146"
      ]
     },
     "metadata": {},
     "output_type": "display_data"
    }
   ],
   "source": [
    "# how many adults = 0, and children = 1 across the Study 1 and 3?\n",
    "aggregate(id ~ id + child,  data=DAPrating_dataCombined, FUN=function(x) length(unique(x)))"
   ]
  },
  {
   "cell_type": "code",
   "execution_count": 89,
   "metadata": {
    "scrolled": true
   },
   "outputs": [
    {
     "data": {
      "text/html": [
       "<table>\n",
       "<caption>A data.frame: 3 × 3</caption>\n",
       "<thead>\n",
       "\t<tr><th scope=col>child</th><th scope=col>Study</th><th scope=col>id</th></tr>\n",
       "\t<tr><th scope=col>&lt;dbl&gt;</th><th scope=col>&lt;chr&gt;</th><th scope=col>&lt;int&gt;</th></tr>\n",
       "</thead>\n",
       "<tbody>\n",
       "\t<tr><td>0</td><td>One  </td><td>25</td></tr>\n",
       "\t<tr><td>1</td><td>One  </td><td>81</td></tr>\n",
       "\t<tr><td>1</td><td>Three</td><td>65</td></tr>\n",
       "</tbody>\n",
       "</table>\n"
      ],
      "text/latex": [
       "A data.frame: 3 × 3\n",
       "\\begin{tabular}{r|lll}\n",
       " child & Study & id\\\\\n",
       " <dbl> & <chr> & <int>\\\\\n",
       "\\hline\n",
       "\t 0 & One   & 25\\\\\n",
       "\t 1 & One   & 81\\\\\n",
       "\t 1 & Three & 65\\\\\n",
       "\\end{tabular}\n"
      ],
      "text/markdown": [
       "\n",
       "A data.frame: 3 × 3\n",
       "\n",
       "| child &lt;dbl&gt; | Study &lt;chr&gt; | id &lt;int&gt; |\n",
       "|---|---|---|\n",
       "| 0 | One   | 25 |\n",
       "| 1 | One   | 81 |\n",
       "| 1 | Three | 65 |\n",
       "\n"
      ],
      "text/plain": [
       "  child Study id\n",
       "1 0     One   25\n",
       "2 1     One   81\n",
       "3 1     Three 65"
      ]
     },
     "metadata": {},
     "output_type": "display_data"
    }
   ],
   "source": [
    "# how many adults = 0, and children = 1 between Study 1 and 3?\n",
    "aggregate(id ~ id + child + Study , data=DAPrating_dataCombined, FUN=function(x) length(unique(x)))"
   ]
  },
  {
   "cell_type": "markdown",
   "metadata": {},
   "source": [
    "#### creating variable 'asq'"
   ]
  },
  {
   "cell_type": "code",
   "execution_count": 90,
   "metadata": {},
   "outputs": [],
   "source": [
    "#creating variable 'asq' (has a asq_total score = 1, doesn't have an asq_total score = 0)\n",
    "\n",
    "DAPrating_dataCombined$asq <- ifelse(DAPrating_dataCombined$asq_total == \"NA\", 0, 1)\n",
    "\n",
    "DAPrating_dataCombined$asq [is.na(DAPrating_dataCombined$asq) ] = 0"
   ]
  },
  {
   "cell_type": "code",
   "execution_count": 91,
   "metadata": {},
   "outputs": [
    {
     "data": {
      "text/html": [
       "<table>\n",
       "<caption>A data.frame: 4 × 4</caption>\n",
       "<thead>\n",
       "\t<tr><th scope=col>child</th><th scope=col>asq</th><th scope=col>Study</th><th scope=col>id</th></tr>\n",
       "\t<tr><th scope=col>&lt;dbl&gt;</th><th scope=col>&lt;dbl&gt;</th><th scope=col>&lt;chr&gt;</th><th scope=col>&lt;int&gt;</th></tr>\n",
       "</thead>\n",
       "<tbody>\n",
       "\t<tr><td>0</td><td>0</td><td>One  </td><td>25</td></tr>\n",
       "\t<tr><td>1</td><td>0</td><td>One  </td><td>36</td></tr>\n",
       "\t<tr><td>1</td><td>1</td><td>One  </td><td>45</td></tr>\n",
       "\t<tr><td>1</td><td>0</td><td>Three</td><td>65</td></tr>\n",
       "</tbody>\n",
       "</table>\n"
      ],
      "text/latex": [
       "A data.frame: 4 × 4\n",
       "\\begin{tabular}{r|llll}\n",
       " child & asq & Study & id\\\\\n",
       " <dbl> & <dbl> & <chr> & <int>\\\\\n",
       "\\hline\n",
       "\t 0 & 0 & One   & 25\\\\\n",
       "\t 1 & 0 & One   & 36\\\\\n",
       "\t 1 & 1 & One   & 45\\\\\n",
       "\t 1 & 0 & Three & 65\\\\\n",
       "\\end{tabular}\n"
      ],
      "text/markdown": [
       "\n",
       "A data.frame: 4 × 4\n",
       "\n",
       "| child &lt;dbl&gt; | asq &lt;dbl&gt; | Study &lt;chr&gt; | id &lt;int&gt; |\n",
       "|---|---|---|---|\n",
       "| 0 | 0 | One   | 25 |\n",
       "| 1 | 0 | One   | 36 |\n",
       "| 1 | 1 | One   | 45 |\n",
       "| 1 | 0 | Three | 65 |\n",
       "\n"
      ],
      "text/plain": [
       "  child asq Study id\n",
       "1 0     0   One   25\n",
       "2 1     0   One   36\n",
       "3 1     1   One   45\n",
       "4 1     0   Three 65"
      ]
     },
     "metadata": {},
     "output_type": "display_data"
    }
   ],
   "source": [
    "# how many total participants based on asq and Study?\n",
    "aggregate(id ~ id + child + asq +Study , data=DAPrating_dataCombined, FUN=function(x) length(unique(x)))\n",
    "          "
   ]
  },
  {
   "cell_type": "markdown",
   "metadata": {},
   "source": [
    "<span style=\"color:blue\"> 45 kids with an asq_total score, and 101 kids and 25 adults without an asq score"
   ]
  },
  {
   "cell_type": "code",
   "execution_count": 92,
   "metadata": {},
   "outputs": [],
   "source": [
    "# # how many total participants based on asq, Study and mediaType?\n",
    "# agOrder <- aggregate(id ~ id + child + DAP_mediaType+ asq  , data=DAPrating_dataCombined, \n",
    "#                      FUN=function(x) length(unique(x)))\n",
    "          \n",
    "# agOrder[order(agOrder$child), ]"
   ]
  },
  {
   "cell_type": "markdown",
   "metadata": {},
   "source": [
    "### Export data file"
   ]
  },
  {
   "cell_type": "code",
   "execution_count": 93,
   "metadata": {},
   "outputs": [],
   "source": [
    "#PC - must map network Z drive to rogerslab.drive.wisc.edu first\n",
    "\n",
    "#Mac - must connect to rogerslab.drive.wisc.edu first\n",
    "setwd(\"/Volumes/rogerslab/NEXT/NEXTdrawings/Data/dataCombined\")\n",
    "\n",
    "#laptop\n",
    "#setwd(\"/Users/clintjensen/NEXT/NEXTdrawingsDownloads/NEXTdrawings/Data/combinedData\")"
   ]
  },
  {
   "cell_type": "code",
   "execution_count": 94,
   "metadata": {},
   "outputs": [],
   "source": [
    "#Creating a dataframe for NEXTdrawings Analysis notebook\n",
    "write.table(DAPrating_dataCombined, \"DAPrating_dataCombined.csv\", sep=\",\", col.names=T, row.names=F)"
   ]
  },
  {
   "cell_type": "code",
   "execution_count": 95,
   "metadata": {},
   "outputs": [],
   "source": [
    "# Shouldn't need these going forward\n",
    "#write.table(data1_complete, \"Study1_complete.csv\", sep=\",\", col.names=T, row.names=F)\n",
    "#write.table(data1_reduced, \"Study1_keyVariables.csv\", sep=\",\", col.names=T, row.names=F)\n",
    "#write.table(data3, \"Study3_keyVariables.csv\", sep=\",\", col.names=T, row.names=F)\n",
    "#write.table(brief12_RA_rating, \"brief12_keyVariables.csv\", sep=\",\", col.names=T, row.names=F)\n",
    "#write.table(brief12_combined, \"brief12_combined.csv\", sep=\",\", col.names=T, row.names=F)"
   ]
  },
  {
   "cell_type": "markdown",
   "metadata": {},
   "source": [
    "# Bringing in NEXT Data"
   ]
  },
  {
   "cell_type": "markdown",
   "metadata": {},
   "source": [
    "#### Setting R to file where Embedding data is stored"
   ]
  },
  {
   "cell_type": "code",
   "execution_count": 96,
   "metadata": {},
   "outputs": [],
   "source": [
    "#PC - must map network Z drive to rogerslab.drive.wisc.edu first\n",
    "\n",
    "#Mac - must connect to rogerslab.drive.wisc.edu first\n",
    "setwd(\"/Volumes/rogerslab/NEXT/NEXTdrawings/Data/NEXTdrawingsData/EmbeddingData\")\n",
    "\n",
    "#laptop\n",
    "#setwd(\"/Users/clintjensen/NEXT/NEXTdrawingsDownloads/Data/NEXTdrawingsData/EmbeddingData\")"
   ]
  },
  {
   "cell_type": "markdown",
   "metadata": {},
   "source": [
    "#### Reading in data files"
   ]
  },
  {
   "cell_type": "code",
   "execution_count": 97,
   "metadata": {},
   "outputs": [],
   "source": [
    "#reading in data files\n",
    "DAP_NEXT_TripletsXYdata <- read.csv(\"DAP_NEXT_TripletsXYdata.csv\", header=TRUE)\n",
    "DAP_NEXT_RankEmeddingdata <- read.csv(\"DAP_NEXT_RankingEmbedding.csv\", header=TRUE)\n",
    "\n",
    "Cube_NEXT_TripletsXYdata <- read.csv(\"Cube_NEXT_TripletsXYdata.csv\", header=TRUE)\n",
    "Cube_NEXT_RankEmeddingdata <- read.csv(\"Cube_NEXT_RankingEmbedding.csv\", header=TRUE)\n",
    "\n",
    "\n",
    "Cylinder_NEXT_TripletsXYdata <- read.csv(\"CYL_NEXT_TripletsXYdata.csv\", header=TRUE)\n",
    "Cylinder_NEXT_RankEmeddingdata <- read.csv(\"CYL_NEXT_RankingEmbedding.csv\", header=TRUE)"
   ]
  },
  {
   "cell_type": "code",
   "execution_count": 98,
   "metadata": {},
   "outputs": [
    {
     "data": {
      "text/html": [
       "<table>\n",
       "<caption>A data.frame: 1 × 1</caption>\n",
       "<thead>\n",
       "\t<tr><th scope=col>id</th></tr>\n",
       "\t<tr><th scope=col>&lt;int&gt;</th></tr>\n",
       "</thead>\n",
       "<tbody>\n",
       "\t<tr><td>154</td></tr>\n",
       "</tbody>\n",
       "</table>\n"
      ],
      "text/latex": [
       "A data.frame: 1 × 1\n",
       "\\begin{tabular}{r|l}\n",
       " id\\\\\n",
       " <int>\\\\\n",
       "\\hline\n",
       "\t 154\\\\\n",
       "\\end{tabular}\n"
      ],
      "text/markdown": [
       "\n",
       "A data.frame: 1 × 1\n",
       "\n",
       "| id &lt;int&gt; |\n",
       "|---|\n",
       "| 154 |\n",
       "\n"
      ],
      "text/plain": [
       "  id \n",
       "1 154"
      ]
     },
     "metadata": {},
     "output_type": "display_data"
    }
   ],
   "source": [
    "# how many adults = 0, and children = 1 across the Study 1 and 3?\n",
    "aggregate(id ~ id,  data=DAP_NEXT_TripletsXYdata, FUN=function(x) length(unique(x)))"
   ]
  },
  {
   "cell_type": "code",
   "execution_count": 99,
   "metadata": {},
   "outputs": [
    {
     "data": {
      "text/html": [
       "<table>\n",
       "<caption>A data.frame: 1 × 1</caption>\n",
       "<thead>\n",
       "\t<tr><th scope=col>id</th></tr>\n",
       "\t<tr><th scope=col>&lt;int&gt;</th></tr>\n",
       "</thead>\n",
       "<tbody>\n",
       "\t<tr><td>154</td></tr>\n",
       "</tbody>\n",
       "</table>\n"
      ],
      "text/latex": [
       "A data.frame: 1 × 1\n",
       "\\begin{tabular}{r|l}\n",
       " id\\\\\n",
       " <int>\\\\\n",
       "\\hline\n",
       "\t 154\\\\\n",
       "\\end{tabular}\n"
      ],
      "text/markdown": [
       "\n",
       "A data.frame: 1 × 1\n",
       "\n",
       "| id &lt;int&gt; |\n",
       "|---|\n",
       "| 154 |\n",
       "\n"
      ],
      "text/plain": [
       "  id \n",
       "1 154"
      ]
     },
     "metadata": {},
     "output_type": "display_data"
    }
   ],
   "source": [
    "# how many adults = 0, and children = 1 across the Study 1 and 3?\n",
    "aggregate(id ~ id,  data=DAP_NEXT_RankEmeddingdata, FUN=function(x) length(unique(x)))"
   ]
  },
  {
   "cell_type": "code",
   "execution_count": 100,
   "metadata": {
    "scrolled": true
   },
   "outputs": [
    {
     "data": {
      "text/html": [
       "<table>\n",
       "<caption>A data.frame: 305 × 7</caption>\n",
       "<thead>\n",
       "\t<tr><th scope=col>id</th><th scope=col>DAP_mediaType</th><th scope=col>DAP_TotalCount</th><th scope=col>DAP_AnswerCount</th><th scope=col>DAP_diff</th><th scope=col>DAP_RankRatio</th><th scope=col>DAP_rankOrder</th></tr>\n",
       "\t<tr><th scope=col>&lt;fct&gt;</th><th scope=col>&lt;fct&gt;</th><th scope=col>&lt;int&gt;</th><th scope=col>&lt;int&gt;</th><th scope=col>&lt;int&gt;</th><th scope=col>&lt;dbl&gt;</th><th scope=col>&lt;int&gt;</th></tr>\n",
       "</thead>\n",
       "<tbody>\n",
       "\t<tr><td>DAMa007 </td><td>T</td><td>63</td><td>60</td><td>3</td><td>0.9523810</td><td> 1</td></tr>\n",
       "\t<tr><td>DAMa025 </td><td>F</td><td>61</td><td>58</td><td>3</td><td>0.9508197</td><td> 2</td></tr>\n",
       "\t<tr><td>DAMa003 </td><td>F</td><td>55</td><td>52</td><td>3</td><td>0.9454545</td><td> 3</td></tr>\n",
       "\t<tr><td>DAMa024 </td><td>T</td><td>52</td><td>49</td><td>3</td><td>0.9423077</td><td> 4</td></tr>\n",
       "\t<tr><td>DAMa022 </td><td>T</td><td>83</td><td>78</td><td>5</td><td>0.9397590</td><td> 5</td></tr>\n",
       "\t<tr><td>DAMa005 </td><td>F</td><td>65</td><td>61</td><td>4</td><td>0.9384615</td><td> 6</td></tr>\n",
       "\t<tr><td>DAMa017 </td><td>F</td><td>64</td><td>60</td><td>4</td><td>0.9375000</td><td> 7</td></tr>\n",
       "\t<tr><td>DAM3D029</td><td>P</td><td>63</td><td>59</td><td>4</td><td>0.9365079</td><td> 8</td></tr>\n",
       "\t<tr><td>DAM3D015</td><td>P</td><td>77</td><td>72</td><td>5</td><td>0.9350649</td><td> 9</td></tr>\n",
       "\t<tr><td>DAM3D027</td><td>T</td><td>57</td><td>53</td><td>4</td><td>0.9298246</td><td>10</td></tr>\n",
       "\t<tr><td>DAMa022 </td><td>F</td><td>65</td><td>60</td><td>5</td><td>0.9230769</td><td>11</td></tr>\n",
       "\t<tr><td>DAM3D012</td><td>P</td><td>64</td><td>59</td><td>5</td><td>0.9218750</td><td>12</td></tr>\n",
       "\t<tr><td>DAMa025 </td><td>T</td><td>76</td><td>70</td><td>6</td><td>0.9210526</td><td>13</td></tr>\n",
       "\t<tr><td>DAMa019 </td><td>T</td><td>60</td><td>55</td><td>5</td><td>0.9166667</td><td>14</td></tr>\n",
       "\t<tr><td>DAMa024 </td><td>F</td><td>58</td><td>53</td><td>5</td><td>0.9137931</td><td>15</td></tr>\n",
       "\t<tr><td>DAMa013 </td><td>F</td><td>73</td><td>66</td><td>7</td><td>0.9041096</td><td>16</td></tr>\n",
       "\t<tr><td>DAMa015 </td><td>T</td><td>58</td><td>52</td><td>6</td><td>0.8965517</td><td>17</td></tr>\n",
       "\t<tr><td>DAMa003 </td><td>T</td><td>55</td><td>49</td><td>6</td><td>0.8909091</td><td>18</td></tr>\n",
       "\t<tr><td>DAMa004 </td><td>F</td><td>81</td><td>72</td><td>9</td><td>0.8888889</td><td>19</td></tr>\n",
       "\t<tr><td>DAMa009 </td><td>F</td><td>70</td><td>62</td><td>8</td><td>0.8857143</td><td>20</td></tr>\n",
       "\t<tr><td>DAMa013 </td><td>T</td><td>76</td><td>67</td><td>9</td><td>0.8815789</td><td>21</td></tr>\n",
       "\t<tr><td>DAMa007 </td><td>F</td><td>67</td><td>59</td><td>8</td><td>0.8805970</td><td>22</td></tr>\n",
       "\t<tr><td>DAMa017 </td><td>T</td><td>75</td><td>66</td><td>9</td><td>0.8800000</td><td>23</td></tr>\n",
       "\t<tr><td>DAM3D060</td><td>P</td><td>58</td><td>51</td><td>7</td><td>0.8793103</td><td>24</td></tr>\n",
       "\t<tr><td>DAMa015 </td><td>F</td><td>58</td><td>51</td><td>7</td><td>0.8793103</td><td>25</td></tr>\n",
       "\t<tr><td>DAM3D039</td><td>T</td><td>66</td><td>58</td><td>8</td><td>0.8787879</td><td>26</td></tr>\n",
       "\t<tr><td>DAM3D030</td><td>F</td><td>72</td><td>63</td><td>9</td><td>0.8750000</td><td>27</td></tr>\n",
       "\t<tr><td>DAMa006 </td><td>F</td><td>70</td><td>61</td><td>9</td><td>0.8714286</td><td>28</td></tr>\n",
       "\t<tr><td>DAMa014 </td><td>T</td><td>70</td><td>61</td><td>9</td><td>0.8714286</td><td>29</td></tr>\n",
       "\t<tr><td>DAMa021 </td><td>F</td><td>69</td><td>60</td><td>9</td><td>0.8695652</td><td>30</td></tr>\n",
       "\t<tr><td>⋮</td><td>⋮</td><td>⋮</td><td>⋮</td><td>⋮</td><td>⋮</td><td>⋮</td></tr>\n",
       "\t<tr><td>DAM013  </td><td>P</td><td>59</td><td>5</td><td>54</td><td>0.08474576</td><td>276</td></tr>\n",
       "\t<tr><td>DAM041  </td><td>T</td><td>71</td><td>6</td><td>65</td><td>0.08450704</td><td>277</td></tr>\n",
       "\t<tr><td>DAM041  </td><td>F</td><td>72</td><td>6</td><td>66</td><td>0.08333333</td><td>278</td></tr>\n",
       "\t<tr><td>DAM3D022</td><td>F</td><td>60</td><td>5</td><td>55</td><td>0.08333333</td><td>279</td></tr>\n",
       "\t<tr><td>DAM022  </td><td>P</td><td>62</td><td>5</td><td>57</td><td>0.08064516</td><td>280</td></tr>\n",
       "\t<tr><td>DAM072  </td><td>F</td><td>62</td><td>5</td><td>57</td><td>0.08064516</td><td>281</td></tr>\n",
       "\t<tr><td>DAM070  </td><td>T</td><td>67</td><td>5</td><td>62</td><td>0.07462687</td><td>282</td></tr>\n",
       "\t<tr><td>DAM065  </td><td>T</td><td>55</td><td>4</td><td>51</td><td>0.07272727</td><td>283</td></tr>\n",
       "\t<tr><td>DAM073  </td><td>F</td><td>73</td><td>5</td><td>68</td><td>0.06849315</td><td>284</td></tr>\n",
       "\t<tr><td>DAM041  </td><td>P</td><td>60</td><td>4</td><td>56</td><td>0.06666667</td><td>285</td></tr>\n",
       "\t<tr><td>DAM059  </td><td>P</td><td>49</td><td>3</td><td>46</td><td>0.06122449</td><td>286</td></tr>\n",
       "\t<tr><td>DAM057  </td><td>P</td><td>66</td><td>4</td><td>62</td><td>0.06060606</td><td>287</td></tr>\n",
       "\t<tr><td>DAM043  </td><td>T</td><td>52</td><td>3</td><td>49</td><td>0.05769231</td><td>288</td></tr>\n",
       "\t<tr><td>DAM082  </td><td>F</td><td>70</td><td>4</td><td>66</td><td>0.05714286</td><td>289</td></tr>\n",
       "\t<tr><td>DAM084  </td><td>T</td><td>70</td><td>4</td><td>66</td><td>0.05714286</td><td>290</td></tr>\n",
       "\t<tr><td>DAM082  </td><td>P</td><td>54</td><td>3</td><td>51</td><td>0.05555556</td><td>291</td></tr>\n",
       "\t<tr><td>DAM010  </td><td>P</td><td>59</td><td>3</td><td>56</td><td>0.05084746</td><td>292</td></tr>\n",
       "\t<tr><td>DAM057  </td><td>F</td><td>62</td><td>3</td><td>59</td><td>0.04838710</td><td>293</td></tr>\n",
       "\t<tr><td>DAM071  </td><td>F</td><td>65</td><td>3</td><td>62</td><td>0.04615385</td><td>294</td></tr>\n",
       "\t<tr><td>DAM070  </td><td>F</td><td>70</td><td>3</td><td>67</td><td>0.04285714</td><td>295</td></tr>\n",
       "\t<tr><td>DAM065  </td><td>P</td><td>75</td><td>3</td><td>72</td><td>0.04000000</td><td>296</td></tr>\n",
       "\t<tr><td>DAM074  </td><td>F</td><td>50</td><td>2</td><td>48</td><td>0.04000000</td><td>297</td></tr>\n",
       "\t<tr><td>DAM049  </td><td>F</td><td>80</td><td>3</td><td>77</td><td>0.03750000</td><td>298</td></tr>\n",
       "\t<tr><td>DAM084  </td><td>F</td><td>61</td><td>2</td><td>59</td><td>0.03278689</td><td>299</td></tr>\n",
       "\t<tr><td>DAM083  </td><td>P</td><td>62</td><td>2</td><td>60</td><td>0.03225806</td><td>300</td></tr>\n",
       "\t<tr><td>DAM010  </td><td>F</td><td>56</td><td>1</td><td>55</td><td>0.01785714</td><td>301</td></tr>\n",
       "\t<tr><td>DAM015  </td><td>F</td><td>62</td><td>1</td><td>61</td><td>0.01612903</td><td>302</td></tr>\n",
       "\t<tr><td>DAM044  </td><td>P</td><td>62</td><td>1</td><td>61</td><td>0.01612903</td><td>303</td></tr>\n",
       "\t<tr><td>DAM073  </td><td>P</td><td>62</td><td>1</td><td>61</td><td>0.01612903</td><td>304</td></tr>\n",
       "\t<tr><td>DAM015  </td><td>T</td><td>68</td><td>1</td><td>67</td><td>0.01470588</td><td>305</td></tr>\n",
       "</tbody>\n",
       "</table>\n"
      ],
      "text/latex": [
       "A data.frame: 305 × 7\n",
       "\\begin{tabular}{r|lllllll}\n",
       " id & DAP\\_mediaType & DAP\\_TotalCount & DAP\\_AnswerCount & DAP\\_diff & DAP\\_RankRatio & DAP\\_rankOrder\\\\\n",
       " <fct> & <fct> & <int> & <int> & <int> & <dbl> & <int>\\\\\n",
       "\\hline\n",
       "\t DAMa007  & T & 63 & 60 & 3 & 0.9523810 &  1\\\\\n",
       "\t DAMa025  & F & 61 & 58 & 3 & 0.9508197 &  2\\\\\n",
       "\t DAMa003  & F & 55 & 52 & 3 & 0.9454545 &  3\\\\\n",
       "\t DAMa024  & T & 52 & 49 & 3 & 0.9423077 &  4\\\\\n",
       "\t DAMa022  & T & 83 & 78 & 5 & 0.9397590 &  5\\\\\n",
       "\t DAMa005  & F & 65 & 61 & 4 & 0.9384615 &  6\\\\\n",
       "\t DAMa017  & F & 64 & 60 & 4 & 0.9375000 &  7\\\\\n",
       "\t DAM3D029 & P & 63 & 59 & 4 & 0.9365079 &  8\\\\\n",
       "\t DAM3D015 & P & 77 & 72 & 5 & 0.9350649 &  9\\\\\n",
       "\t DAM3D027 & T & 57 & 53 & 4 & 0.9298246 & 10\\\\\n",
       "\t DAMa022  & F & 65 & 60 & 5 & 0.9230769 & 11\\\\\n",
       "\t DAM3D012 & P & 64 & 59 & 5 & 0.9218750 & 12\\\\\n",
       "\t DAMa025  & T & 76 & 70 & 6 & 0.9210526 & 13\\\\\n",
       "\t DAMa019  & T & 60 & 55 & 5 & 0.9166667 & 14\\\\\n",
       "\t DAMa024  & F & 58 & 53 & 5 & 0.9137931 & 15\\\\\n",
       "\t DAMa013  & F & 73 & 66 & 7 & 0.9041096 & 16\\\\\n",
       "\t DAMa015  & T & 58 & 52 & 6 & 0.8965517 & 17\\\\\n",
       "\t DAMa003  & T & 55 & 49 & 6 & 0.8909091 & 18\\\\\n",
       "\t DAMa004  & F & 81 & 72 & 9 & 0.8888889 & 19\\\\\n",
       "\t DAMa009  & F & 70 & 62 & 8 & 0.8857143 & 20\\\\\n",
       "\t DAMa013  & T & 76 & 67 & 9 & 0.8815789 & 21\\\\\n",
       "\t DAMa007  & F & 67 & 59 & 8 & 0.8805970 & 22\\\\\n",
       "\t DAMa017  & T & 75 & 66 & 9 & 0.8800000 & 23\\\\\n",
       "\t DAM3D060 & P & 58 & 51 & 7 & 0.8793103 & 24\\\\\n",
       "\t DAMa015  & F & 58 & 51 & 7 & 0.8793103 & 25\\\\\n",
       "\t DAM3D039 & T & 66 & 58 & 8 & 0.8787879 & 26\\\\\n",
       "\t DAM3D030 & F & 72 & 63 & 9 & 0.8750000 & 27\\\\\n",
       "\t DAMa006  & F & 70 & 61 & 9 & 0.8714286 & 28\\\\\n",
       "\t DAMa014  & T & 70 & 61 & 9 & 0.8714286 & 29\\\\\n",
       "\t DAMa021  & F & 69 & 60 & 9 & 0.8695652 & 30\\\\\n",
       "\t ⋮ & ⋮ & ⋮ & ⋮ & ⋮ & ⋮ & ⋮\\\\\n",
       "\t DAM013   & P & 59 & 5 & 54 & 0.08474576 & 276\\\\\n",
       "\t DAM041   & T & 71 & 6 & 65 & 0.08450704 & 277\\\\\n",
       "\t DAM041   & F & 72 & 6 & 66 & 0.08333333 & 278\\\\\n",
       "\t DAM3D022 & F & 60 & 5 & 55 & 0.08333333 & 279\\\\\n",
       "\t DAM022   & P & 62 & 5 & 57 & 0.08064516 & 280\\\\\n",
       "\t DAM072   & F & 62 & 5 & 57 & 0.08064516 & 281\\\\\n",
       "\t DAM070   & T & 67 & 5 & 62 & 0.07462687 & 282\\\\\n",
       "\t DAM065   & T & 55 & 4 & 51 & 0.07272727 & 283\\\\\n",
       "\t DAM073   & F & 73 & 5 & 68 & 0.06849315 & 284\\\\\n",
       "\t DAM041   & P & 60 & 4 & 56 & 0.06666667 & 285\\\\\n",
       "\t DAM059   & P & 49 & 3 & 46 & 0.06122449 & 286\\\\\n",
       "\t DAM057   & P & 66 & 4 & 62 & 0.06060606 & 287\\\\\n",
       "\t DAM043   & T & 52 & 3 & 49 & 0.05769231 & 288\\\\\n",
       "\t DAM082   & F & 70 & 4 & 66 & 0.05714286 & 289\\\\\n",
       "\t DAM084   & T & 70 & 4 & 66 & 0.05714286 & 290\\\\\n",
       "\t DAM082   & P & 54 & 3 & 51 & 0.05555556 & 291\\\\\n",
       "\t DAM010   & P & 59 & 3 & 56 & 0.05084746 & 292\\\\\n",
       "\t DAM057   & F & 62 & 3 & 59 & 0.04838710 & 293\\\\\n",
       "\t DAM071   & F & 65 & 3 & 62 & 0.04615385 & 294\\\\\n",
       "\t DAM070   & F & 70 & 3 & 67 & 0.04285714 & 295\\\\\n",
       "\t DAM065   & P & 75 & 3 & 72 & 0.04000000 & 296\\\\\n",
       "\t DAM074   & F & 50 & 2 & 48 & 0.04000000 & 297\\\\\n",
       "\t DAM049   & F & 80 & 3 & 77 & 0.03750000 & 298\\\\\n",
       "\t DAM084   & F & 61 & 2 & 59 & 0.03278689 & 299\\\\\n",
       "\t DAM083   & P & 62 & 2 & 60 & 0.03225806 & 300\\\\\n",
       "\t DAM010   & F & 56 & 1 & 55 & 0.01785714 & 301\\\\\n",
       "\t DAM015   & F & 62 & 1 & 61 & 0.01612903 & 302\\\\\n",
       "\t DAM044   & P & 62 & 1 & 61 & 0.01612903 & 303\\\\\n",
       "\t DAM073   & P & 62 & 1 & 61 & 0.01612903 & 304\\\\\n",
       "\t DAM015   & T & 68 & 1 & 67 & 0.01470588 & 305\\\\\n",
       "\\end{tabular}\n"
      ],
      "text/markdown": [
       "\n",
       "A data.frame: 305 × 7\n",
       "\n",
       "| id &lt;fct&gt; | DAP_mediaType &lt;fct&gt; | DAP_TotalCount &lt;int&gt; | DAP_AnswerCount &lt;int&gt; | DAP_diff &lt;int&gt; | DAP_RankRatio &lt;dbl&gt; | DAP_rankOrder &lt;int&gt; |\n",
       "|---|---|---|---|---|---|---|\n",
       "| DAMa007  | T | 63 | 60 | 3 | 0.9523810 |  1 |\n",
       "| DAMa025  | F | 61 | 58 | 3 | 0.9508197 |  2 |\n",
       "| DAMa003  | F | 55 | 52 | 3 | 0.9454545 |  3 |\n",
       "| DAMa024  | T | 52 | 49 | 3 | 0.9423077 |  4 |\n",
       "| DAMa022  | T | 83 | 78 | 5 | 0.9397590 |  5 |\n",
       "| DAMa005  | F | 65 | 61 | 4 | 0.9384615 |  6 |\n",
       "| DAMa017  | F | 64 | 60 | 4 | 0.9375000 |  7 |\n",
       "| DAM3D029 | P | 63 | 59 | 4 | 0.9365079 |  8 |\n",
       "| DAM3D015 | P | 77 | 72 | 5 | 0.9350649 |  9 |\n",
       "| DAM3D027 | T | 57 | 53 | 4 | 0.9298246 | 10 |\n",
       "| DAMa022  | F | 65 | 60 | 5 | 0.9230769 | 11 |\n",
       "| DAM3D012 | P | 64 | 59 | 5 | 0.9218750 | 12 |\n",
       "| DAMa025  | T | 76 | 70 | 6 | 0.9210526 | 13 |\n",
       "| DAMa019  | T | 60 | 55 | 5 | 0.9166667 | 14 |\n",
       "| DAMa024  | F | 58 | 53 | 5 | 0.9137931 | 15 |\n",
       "| DAMa013  | F | 73 | 66 | 7 | 0.9041096 | 16 |\n",
       "| DAMa015  | T | 58 | 52 | 6 | 0.8965517 | 17 |\n",
       "| DAMa003  | T | 55 | 49 | 6 | 0.8909091 | 18 |\n",
       "| DAMa004  | F | 81 | 72 | 9 | 0.8888889 | 19 |\n",
       "| DAMa009  | F | 70 | 62 | 8 | 0.8857143 | 20 |\n",
       "| DAMa013  | T | 76 | 67 | 9 | 0.8815789 | 21 |\n",
       "| DAMa007  | F | 67 | 59 | 8 | 0.8805970 | 22 |\n",
       "| DAMa017  | T | 75 | 66 | 9 | 0.8800000 | 23 |\n",
       "| DAM3D060 | P | 58 | 51 | 7 | 0.8793103 | 24 |\n",
       "| DAMa015  | F | 58 | 51 | 7 | 0.8793103 | 25 |\n",
       "| DAM3D039 | T | 66 | 58 | 8 | 0.8787879 | 26 |\n",
       "| DAM3D030 | F | 72 | 63 | 9 | 0.8750000 | 27 |\n",
       "| DAMa006  | F | 70 | 61 | 9 | 0.8714286 | 28 |\n",
       "| DAMa014  | T | 70 | 61 | 9 | 0.8714286 | 29 |\n",
       "| DAMa021  | F | 69 | 60 | 9 | 0.8695652 | 30 |\n",
       "| ⋮ | ⋮ | ⋮ | ⋮ | ⋮ | ⋮ | ⋮ |\n",
       "| DAM013   | P | 59 | 5 | 54 | 0.08474576 | 276 |\n",
       "| DAM041   | T | 71 | 6 | 65 | 0.08450704 | 277 |\n",
       "| DAM041   | F | 72 | 6 | 66 | 0.08333333 | 278 |\n",
       "| DAM3D022 | F | 60 | 5 | 55 | 0.08333333 | 279 |\n",
       "| DAM022   | P | 62 | 5 | 57 | 0.08064516 | 280 |\n",
       "| DAM072   | F | 62 | 5 | 57 | 0.08064516 | 281 |\n",
       "| DAM070   | T | 67 | 5 | 62 | 0.07462687 | 282 |\n",
       "| DAM065   | T | 55 | 4 | 51 | 0.07272727 | 283 |\n",
       "| DAM073   | F | 73 | 5 | 68 | 0.06849315 | 284 |\n",
       "| DAM041   | P | 60 | 4 | 56 | 0.06666667 | 285 |\n",
       "| DAM059   | P | 49 | 3 | 46 | 0.06122449 | 286 |\n",
       "| DAM057   | P | 66 | 4 | 62 | 0.06060606 | 287 |\n",
       "| DAM043   | T | 52 | 3 | 49 | 0.05769231 | 288 |\n",
       "| DAM082   | F | 70 | 4 | 66 | 0.05714286 | 289 |\n",
       "| DAM084   | T | 70 | 4 | 66 | 0.05714286 | 290 |\n",
       "| DAM082   | P | 54 | 3 | 51 | 0.05555556 | 291 |\n",
       "| DAM010   | P | 59 | 3 | 56 | 0.05084746 | 292 |\n",
       "| DAM057   | F | 62 | 3 | 59 | 0.04838710 | 293 |\n",
       "| DAM071   | F | 65 | 3 | 62 | 0.04615385 | 294 |\n",
       "| DAM070   | F | 70 | 3 | 67 | 0.04285714 | 295 |\n",
       "| DAM065   | P | 75 | 3 | 72 | 0.04000000 | 296 |\n",
       "| DAM074   | F | 50 | 2 | 48 | 0.04000000 | 297 |\n",
       "| DAM049   | F | 80 | 3 | 77 | 0.03750000 | 298 |\n",
       "| DAM084   | F | 61 | 2 | 59 | 0.03278689 | 299 |\n",
       "| DAM083   | P | 62 | 2 | 60 | 0.03225806 | 300 |\n",
       "| DAM010   | F | 56 | 1 | 55 | 0.01785714 | 301 |\n",
       "| DAM015   | F | 62 | 1 | 61 | 0.01612903 | 302 |\n",
       "| DAM044   | P | 62 | 1 | 61 | 0.01612903 | 303 |\n",
       "| DAM073   | P | 62 | 1 | 61 | 0.01612903 | 304 |\n",
       "| DAM015   | T | 68 | 1 | 67 | 0.01470588 | 305 |\n",
       "\n"
      ],
      "text/plain": [
       "    id       DAP_mediaType DAP_TotalCount DAP_AnswerCount DAP_diff\n",
       "1   DAMa007  T             63             60              3       \n",
       "2   DAMa025  F             61             58              3       \n",
       "3   DAMa003  F             55             52              3       \n",
       "4   DAMa024  T             52             49              3       \n",
       "5   DAMa022  T             83             78              5       \n",
       "6   DAMa005  F             65             61              4       \n",
       "7   DAMa017  F             64             60              4       \n",
       "8   DAM3D029 P             63             59              4       \n",
       "9   DAM3D015 P             77             72              5       \n",
       "10  DAM3D027 T             57             53              4       \n",
       "11  DAMa022  F             65             60              5       \n",
       "12  DAM3D012 P             64             59              5       \n",
       "13  DAMa025  T             76             70              6       \n",
       "14  DAMa019  T             60             55              5       \n",
       "15  DAMa024  F             58             53              5       \n",
       "16  DAMa013  F             73             66              7       \n",
       "17  DAMa015  T             58             52              6       \n",
       "18  DAMa003  T             55             49              6       \n",
       "19  DAMa004  F             81             72              9       \n",
       "20  DAMa009  F             70             62              8       \n",
       "21  DAMa013  T             76             67              9       \n",
       "22  DAMa007  F             67             59              8       \n",
       "23  DAMa017  T             75             66              9       \n",
       "24  DAM3D060 P             58             51              7       \n",
       "25  DAMa015  F             58             51              7       \n",
       "26  DAM3D039 T             66             58              8       \n",
       "27  DAM3D030 F             72             63              9       \n",
       "28  DAMa006  F             70             61              9       \n",
       "29  DAMa014  T             70             61              9       \n",
       "30  DAMa021  F             69             60              9       \n",
       "⋮   ⋮        ⋮             ⋮              ⋮               ⋮       \n",
       "276 DAM013   P             59             5               54      \n",
       "277 DAM041   T             71             6               65      \n",
       "278 DAM041   F             72             6               66      \n",
       "279 DAM3D022 F             60             5               55      \n",
       "280 DAM022   P             62             5               57      \n",
       "281 DAM072   F             62             5               57      \n",
       "282 DAM070   T             67             5               62      \n",
       "283 DAM065   T             55             4               51      \n",
       "284 DAM073   F             73             5               68      \n",
       "285 DAM041   P             60             4               56      \n",
       "286 DAM059   P             49             3               46      \n",
       "287 DAM057   P             66             4               62      \n",
       "288 DAM043   T             52             3               49      \n",
       "289 DAM082   F             70             4               66      \n",
       "290 DAM084   T             70             4               66      \n",
       "291 DAM082   P             54             3               51      \n",
       "292 DAM010   P             59             3               56      \n",
       "293 DAM057   F             62             3               59      \n",
       "294 DAM071   F             65             3               62      \n",
       "295 DAM070   F             70             3               67      \n",
       "296 DAM065   P             75             3               72      \n",
       "297 DAM074   F             50             2               48      \n",
       "298 DAM049   F             80             3               77      \n",
       "299 DAM084   F             61             2               59      \n",
       "300 DAM083   P             62             2               60      \n",
       "301 DAM010   F             56             1               55      \n",
       "302 DAM015   F             62             1               61      \n",
       "303 DAM044   P             62             1               61      \n",
       "304 DAM073   P             62             1               61      \n",
       "305 DAM015   T             68             1               67      \n",
       "    DAP_RankRatio DAP_rankOrder\n",
       "1   0.9523810      1           \n",
       "2   0.9508197      2           \n",
       "3   0.9454545      3           \n",
       "4   0.9423077      4           \n",
       "5   0.9397590      5           \n",
       "6   0.9384615      6           \n",
       "7   0.9375000      7           \n",
       "8   0.9365079      8           \n",
       "9   0.9350649      9           \n",
       "10  0.9298246     10           \n",
       "11  0.9230769     11           \n",
       "12  0.9218750     12           \n",
       "13  0.9210526     13           \n",
       "14  0.9166667     14           \n",
       "15  0.9137931     15           \n",
       "16  0.9041096     16           \n",
       "17  0.8965517     17           \n",
       "18  0.8909091     18           \n",
       "19  0.8888889     19           \n",
       "20  0.8857143     20           \n",
       "21  0.8815789     21           \n",
       "22  0.8805970     22           \n",
       "23  0.8800000     23           \n",
       "24  0.8793103     24           \n",
       "25  0.8793103     25           \n",
       "26  0.8787879     26           \n",
       "27  0.8750000     27           \n",
       "28  0.8714286     28           \n",
       "29  0.8714286     29           \n",
       "30  0.8695652     30           \n",
       "⋮   ⋮             ⋮            \n",
       "276 0.08474576    276          \n",
       "277 0.08450704    277          \n",
       "278 0.08333333    278          \n",
       "279 0.08333333    279          \n",
       "280 0.08064516    280          \n",
       "281 0.08064516    281          \n",
       "282 0.07462687    282          \n",
       "283 0.07272727    283          \n",
       "284 0.06849315    284          \n",
       "285 0.06666667    285          \n",
       "286 0.06122449    286          \n",
       "287 0.06060606    287          \n",
       "288 0.05769231    288          \n",
       "289 0.05714286    289          \n",
       "290 0.05714286    290          \n",
       "291 0.05555556    291          \n",
       "292 0.05084746    292          \n",
       "293 0.04838710    293          \n",
       "294 0.04615385    294          \n",
       "295 0.04285714    295          \n",
       "296 0.04000000    296          \n",
       "297 0.04000000    297          \n",
       "298 0.03750000    298          \n",
       "299 0.03278689    299          \n",
       "300 0.03225806    300          \n",
       "301 0.01785714    301          \n",
       "302 0.01612903    302          \n",
       "303 0.01612903    303          \n",
       "304 0.01612903    304          \n",
       "305 0.01470588    305          "
      ]
     },
     "metadata": {},
     "output_type": "display_data"
    }
   ],
   "source": [
    " # Ordering output based on RankRatio\n",
    "DAP_NEXT_RankEmeddingdata[order(-DAP_NEXT_RankEmeddingdata$DAP_RankRatio),]"
   ]
  },
  {
   "cell_type": "markdown",
   "metadata": {},
   "source": [
    "#### Combining DAP data files"
   ]
  },
  {
   "cell_type": "code",
   "execution_count": 101,
   "metadata": {},
   "outputs": [],
   "source": [
    "#Combining Triplets and DuelingBandits Embedding data\n",
    "DAP_NEXT_Data <- left_join(DAP_NEXT_TripletsXYdata , DAP_NEXT_RankEmeddingdata,\n",
    "                           by=c(\"id\",\"DAP_mediaType\"))"
   ]
  },
  {
   "cell_type": "code",
   "execution_count": 102,
   "metadata": {},
   "outputs": [
    {
     "data": {
      "text/html": [
       "<table>\n",
       "<caption>A data.frame: 6 × 9</caption>\n",
       "<thead>\n",
       "\t<tr><th scope=col>id</th><th scope=col>DAP_mediaType</th><th scope=col>DAP_x</th><th scope=col>DAP_y</th><th scope=col>DAP_TotalCount</th><th scope=col>DAP_AnswerCount</th><th scope=col>DAP_diff</th><th scope=col>DAP_RankRatio</th><th scope=col>DAP_rankOrder</th></tr>\n",
       "\t<tr><th scope=col>&lt;fct&gt;</th><th scope=col>&lt;fct&gt;</th><th scope=col>&lt;dbl&gt;</th><th scope=col>&lt;dbl&gt;</th><th scope=col>&lt;int&gt;</th><th scope=col>&lt;int&gt;</th><th scope=col>&lt;int&gt;</th><th scope=col>&lt;dbl&gt;</th><th scope=col>&lt;int&gt;</th></tr>\n",
       "</thead>\n",
       "<tbody>\n",
       "\t<tr><td>DAM001</td><td>F</td><td> 0.13788683</td><td>0.1293402</td><td>52</td><td>35</td><td>17</td><td>0.6730769</td><td>102</td></tr>\n",
       "\t<tr><td>DAM001</td><td>P</td><td>-0.58970773</td><td>0.5503520</td><td>64</td><td>28</td><td>36</td><td>0.4375000</td><td>177</td></tr>\n",
       "\t<tr><td>DAM001</td><td>T</td><td> 0.36307131</td><td>0.2444565</td><td>76</td><td>50</td><td>26</td><td>0.6578947</td><td>110</td></tr>\n",
       "\t<tr><td>DAM002</td><td>F</td><td> 0.04676664</td><td>0.4997855</td><td>69</td><td>46</td><td>23</td><td>0.6666667</td><td>105</td></tr>\n",
       "\t<tr><td>DAM002</td><td>P</td><td>-0.06888923</td><td>0.7531382</td><td>73</td><td>56</td><td>17</td><td>0.7671233</td><td> 74</td></tr>\n",
       "\t<tr><td>DAM002</td><td>T</td><td>-0.01309746</td><td>0.3157595</td><td>49</td><td>30</td><td>19</td><td>0.6122449</td><td>128</td></tr>\n",
       "</tbody>\n",
       "</table>\n"
      ],
      "text/latex": [
       "A data.frame: 6 × 9\n",
       "\\begin{tabular}{r|lllllllll}\n",
       " id & DAP\\_mediaType & DAP\\_x & DAP\\_y & DAP\\_TotalCount & DAP\\_AnswerCount & DAP\\_diff & DAP\\_RankRatio & DAP\\_rankOrder\\\\\n",
       " <fct> & <fct> & <dbl> & <dbl> & <int> & <int> & <int> & <dbl> & <int>\\\\\n",
       "\\hline\n",
       "\t DAM001 & F &  0.13788683 & 0.1293402 & 52 & 35 & 17 & 0.6730769 & 102\\\\\n",
       "\t DAM001 & P & -0.58970773 & 0.5503520 & 64 & 28 & 36 & 0.4375000 & 177\\\\\n",
       "\t DAM001 & T &  0.36307131 & 0.2444565 & 76 & 50 & 26 & 0.6578947 & 110\\\\\n",
       "\t DAM002 & F &  0.04676664 & 0.4997855 & 69 & 46 & 23 & 0.6666667 & 105\\\\\n",
       "\t DAM002 & P & -0.06888923 & 0.7531382 & 73 & 56 & 17 & 0.7671233 &  74\\\\\n",
       "\t DAM002 & T & -0.01309746 & 0.3157595 & 49 & 30 & 19 & 0.6122449 & 128\\\\\n",
       "\\end{tabular}\n"
      ],
      "text/markdown": [
       "\n",
       "A data.frame: 6 × 9\n",
       "\n",
       "| id &lt;fct&gt; | DAP_mediaType &lt;fct&gt; | DAP_x &lt;dbl&gt; | DAP_y &lt;dbl&gt; | DAP_TotalCount &lt;int&gt; | DAP_AnswerCount &lt;int&gt; | DAP_diff &lt;int&gt; | DAP_RankRatio &lt;dbl&gt; | DAP_rankOrder &lt;int&gt; |\n",
       "|---|---|---|---|---|---|---|---|---|\n",
       "| DAM001 | F |  0.13788683 | 0.1293402 | 52 | 35 | 17 | 0.6730769 | 102 |\n",
       "| DAM001 | P | -0.58970773 | 0.5503520 | 64 | 28 | 36 | 0.4375000 | 177 |\n",
       "| DAM001 | T |  0.36307131 | 0.2444565 | 76 | 50 | 26 | 0.6578947 | 110 |\n",
       "| DAM002 | F |  0.04676664 | 0.4997855 | 69 | 46 | 23 | 0.6666667 | 105 |\n",
       "| DAM002 | P | -0.06888923 | 0.7531382 | 73 | 56 | 17 | 0.7671233 |  74 |\n",
       "| DAM002 | T | -0.01309746 | 0.3157595 | 49 | 30 | 19 | 0.6122449 | 128 |\n",
       "\n"
      ],
      "text/plain": [
       "  id     DAP_mediaType DAP_x       DAP_y     DAP_TotalCount DAP_AnswerCount\n",
       "1 DAM001 F              0.13788683 0.1293402 52             35             \n",
       "2 DAM001 P             -0.58970773 0.5503520 64             28             \n",
       "3 DAM001 T              0.36307131 0.2444565 76             50             \n",
       "4 DAM002 F              0.04676664 0.4997855 69             46             \n",
       "5 DAM002 P             -0.06888923 0.7531382 73             56             \n",
       "6 DAM002 T             -0.01309746 0.3157595 49             30             \n",
       "  DAP_diff DAP_RankRatio DAP_rankOrder\n",
       "1 17       0.6730769     102          \n",
       "2 36       0.4375000     177          \n",
       "3 26       0.6578947     110          \n",
       "4 23       0.6666667     105          \n",
       "5 17       0.7671233      74          \n",
       "6 19       0.6122449     128          "
      ]
     },
     "metadata": {},
     "output_type": "display_data"
    }
   ],
   "source": [
    "head(DAP_NEXT_Data)"
   ]
  },
  {
   "cell_type": "code",
   "execution_count": 103,
   "metadata": {},
   "outputs": [],
   "source": [
    "#Removing columns that are produced by duplicate RAs brief12 DAP Scores rows\n",
    "\n",
    "###Removed ###\n",
    "# RA_initials, imageLabel, RA_Head, RA_Ears, RA_Eyes, RA_Nose, RA_Mouth, RA_Body\t\n",
    "# RA_Arms, RA_Hands, RA_Legs, RA_Feet, RA_Clothes, RA_Hair, RA_notes, RA_notesAdj\n",
    "# RA_DAP_rating\n",
    "\n",
    "\n",
    "DAPrating_dataCombined <- select(DAPrating_dataCombined, \n",
    "                                 -c(RA_initials, imageLabel, RA_Head, RA_Ears, RA_Eyes, RA_Nose, RA_Mouth, RA_Body,\t\n",
    "                                     RA_Arms, RA_Hands, RA_Legs, RA_Feet, RA_Clothes, RA_Hair, RA_notes, RA_notesAdj,\n",
    "                                         RA_DAP_rating))"
   ]
  },
  {
   "cell_type": "code",
   "execution_count": 104,
   "metadata": {},
   "outputs": [
    {
     "name": "stderr",
     "output_type": "stream",
     "text": [
      "Warning message:\n",
      "“Column `id` joining factor and character vector, coercing into character vector”Warning message:\n",
      "“Column `DAP_mediaType` joining factor and character vector, coercing into character vector”"
     ]
    }
   ],
   "source": [
    "#Combining Study 1 and Study 3 data with DAP NEXT Embedding data\n",
    "DAP_NEXT_dataCombined <- left_join(DAP_NEXT_Data, DAPrating_dataCombined,\n",
    "                           by=c(\"id\", \"DAP_mediaType\"))"
   ]
  },
  {
   "cell_type": "code",
   "execution_count": 105,
   "metadata": {},
   "outputs": [],
   "source": [
    "#Removing duplicate rows based on RAs DAP Scores\n",
    "\n",
    "DAP_NEXT_dataCombined <- DAP_NEXT_dataCombined %>% distinct(pngName, .keep_all = TRUE)"
   ]
  },
  {
   "cell_type": "markdown",
   "metadata": {},
   "source": [
    "#### Combining Cube data files"
   ]
  },
  {
   "cell_type": "code",
   "execution_count": 106,
   "metadata": {},
   "outputs": [],
   "source": [
    "#Combining Triplets and DuelingBandits Embedding data\n",
    "Cube_NEXT_dataCombined <- left_join(Cube_NEXT_TripletsXYdata , Cube_NEXT_RankEmeddingdata,\n",
    "                           by=c(\"id\",\"Cube_mediaType\"))"
   ]
  },
  {
   "cell_type": "markdown",
   "metadata": {},
   "source": [
    "#### Combining Cylinder data files"
   ]
  },
  {
   "cell_type": "code",
   "execution_count": 107,
   "metadata": {},
   "outputs": [],
   "source": [
    "#Combining Triplets and DuelingBandits Embedding data\n",
    "CYL_NEXT_dataCombined <- left_join(Cylinder_NEXT_TripletsXYdata  , Cylinder_NEXT_RankEmeddingdata,\n",
    "                           by=c(\"id\",\"CYL_mediaType\"))"
   ]
  },
  {
   "cell_type": "markdown",
   "metadata": {},
   "source": [
    "### Export data file"
   ]
  },
  {
   "cell_type": "code",
   "execution_count": 108,
   "metadata": {},
   "outputs": [],
   "source": [
    "#PC - must map network Z drive to rogerslab.drive.wisc.edu first\n",
    "\n",
    "#Mac - must connect to rogerslab.drive.wisc.edu first\n",
    "setwd(\"/Volumes/rogerslab/NEXT/NEXTdrawings/Data/dataCombined\")\n",
    "\n",
    "#laptop\n",
    "#setwd(\"/Users/clintjensen/NEXT/NEXTdrawingsDownloads/NEXTdrawings/Data/dataCombined\")"
   ]
  },
  {
   "cell_type": "code",
   "execution_count": 109,
   "metadata": {},
   "outputs": [],
   "source": [
    "#DAP\n",
    "write.table(DAP_NEXT_dataCombined,\"DAP_NEXT_dataCombined.csv\", sep=\",\", col.names=T, row.names=F)\n",
    "\n",
    "#Cube\n",
    "write.table(Cube_NEXT_dataCombined,\"Cube_NEXT_dataCombined.csv\", sep=\",\", col.names=T, row.names=F)\n",
    "\n",
    "#Cylinder (CYL)\n",
    "write.table(CYL_NEXT_dataCombined,\"CYL_NEXT_dataCombined.csv\", sep=\",\", col.names=T, row.names=F)"
   ]
  },
  {
   "cell_type": "code",
   "execution_count": 110,
   "metadata": {},
   "outputs": [
    {
     "data": {
      "text/html": [
       "<table>\n",
       "<caption>A data.frame: 1 × 1</caption>\n",
       "<thead>\n",
       "\t<tr><th scope=col>id</th></tr>\n",
       "\t<tr><th scope=col>&lt;int&gt;</th></tr>\n",
       "</thead>\n",
       "<tbody>\n",
       "\t<tr><td>154</td></tr>\n",
       "</tbody>\n",
       "</table>\n"
      ],
      "text/latex": [
       "A data.frame: 1 × 1\n",
       "\\begin{tabular}{r|l}\n",
       " id\\\\\n",
       " <int>\\\\\n",
       "\\hline\n",
       "\t 154\\\\\n",
       "\\end{tabular}\n"
      ],
      "text/markdown": [
       "\n",
       "A data.frame: 1 × 1\n",
       "\n",
       "| id &lt;int&gt; |\n",
       "|---|\n",
       "| 154 |\n",
       "\n"
      ],
      "text/plain": [
       "  id \n",
       "1 154"
      ]
     },
     "metadata": {},
     "output_type": "display_data"
    }
   ],
   "source": [
    "# how many total unique ids included across the DAP studies?\n",
    "aggregate(id ~ id  , data=DAP_NEXT_dataCombined , FUN=function(x) length(unique(x)))"
   ]
  },
  {
   "cell_type": "code",
   "execution_count": 111,
   "metadata": {},
   "outputs": [
    {
     "data": {
      "text/html": [
       "<table>\n",
       "<caption>A data.frame: 2 × 2</caption>\n",
       "<thead>\n",
       "\t<tr><th scope=col>Study</th><th scope=col>pngName</th></tr>\n",
       "\t<tr><th scope=col>&lt;chr&gt;</th><th scope=col>&lt;int&gt;</th></tr>\n",
       "</thead>\n",
       "<tbody>\n",
       "\t<tr><td>One  </td><td>256</td></tr>\n",
       "\t<tr><td>Three</td><td> 49</td></tr>\n",
       "</tbody>\n",
       "</table>\n"
      ],
      "text/latex": [
       "A data.frame: 2 × 2\n",
       "\\begin{tabular}{r|ll}\n",
       " Study & pngName\\\\\n",
       " <chr> & <int>\\\\\n",
       "\\hline\n",
       "\t One   & 256\\\\\n",
       "\t Three &  49\\\\\n",
       "\\end{tabular}\n"
      ],
      "text/markdown": [
       "\n",
       "A data.frame: 2 × 2\n",
       "\n",
       "| Study &lt;chr&gt; | pngName &lt;int&gt; |\n",
       "|---|---|\n",
       "| One   | 256 |\n",
       "| Three |  49 |\n",
       "\n"
      ],
      "text/plain": [
       "  Study pngName\n",
       "1 One   256    \n",
       "2 Three  49    "
      ]
     },
     "metadata": {},
     "output_type": "display_data"
    }
   ],
   "source": [
    "# how many total participants based on asq, Study and mediaType?\n",
    "agImages <- aggregate(pngName ~  pngName +Study , data=DAP_NEXT_dataCombined, \n",
    "                      FUN=function(x) length(unique(x)))\n",
    "          \n",
    "agImages                      "
   ]
  },
  {
   "cell_type": "markdown",
   "metadata": {},
   "source": [
    "# Bringing in VGG19 Data"
   ]
  },
  {
   "cell_type": "markdown",
   "metadata": {},
   "source": [
    "#### Reading in data files"
   ]
  },
  {
   "cell_type": "code",
   "execution_count": 112,
   "metadata": {},
   "outputs": [],
   "source": [
    "#PC - must map network Z drive to rogerslab.drive.wisc.edu first\n",
    "\n",
    "#Mac - must connect to rogerslab.drive.wisc.edu first\n",
    "setwd(\"/Volumes/rogerslab/NEXT/NEXTdrawings/Data/VGG-19Data\")\n",
    "\n",
    "#laptop\n",
    "#setwd(\"/Users/clintjensen/NEXT/NEXTdrawingsDownloads/NEXTdrawings/Data/VGG-19Data\")"
   ]
  },
  {
   "cell_type": "code",
   "execution_count": 113,
   "metadata": {},
   "outputs": [
    {
     "data": {
      "text/html": [
       "<ol class=list-inline>\n",
       "\t<li>'./DAP_NEXT_VGG19_dataCombined.csv'</li>\n",
       "\t<li>'./drawings_df_fc2_11clust.csv'</li>\n",
       "</ol>\n"
      ],
      "text/latex": [
       "\\begin{enumerate*}\n",
       "\\item './DAP\\_NEXT\\_VGG19\\_dataCombined.csv'\n",
       "\\item './drawings\\_df\\_fc2\\_11clust.csv'\n",
       "\\end{enumerate*}\n"
      ],
      "text/markdown": [
       "1. './DAP_NEXT_VGG19_dataCombined.csv'\n",
       "2. './drawings_df_fc2_11clust.csv'\n",
       "\n",
       "\n"
      ],
      "text/plain": [
       "[1] \"./DAP_NEXT_VGG19_dataCombined.csv\" \"./drawings_df_fc2_11clust.csv\"    "
      ]
     },
     "metadata": {},
     "output_type": "display_data"
    }
   ],
   "source": [
    "Server_data <- list.files(pattern=\".csv\", full.names = TRUE)\n",
    "Server_data"
   ]
  },
  {
   "cell_type": "code",
   "execution_count": 114,
   "metadata": {},
   "outputs": [],
   "source": [
    "#reading in data files\n",
    "VGG19_df <- read.csv(\"drawings_df_fc2_11clust.csv\", header=TRUE)"
   ]
  },
  {
   "cell_type": "code",
   "execution_count": 115,
   "metadata": {},
   "outputs": [
    {
     "name": "stdout",
     "output_type": "stream",
     "text": [
      "'data.frame':\t305 obs. of  2 variables:\n",
      " $ filenames_np: Factor w/ 305 levels \"DAM001_F_DAPedit.jpg\",..: 299 9 218 37 229 27 43 150 225 277 ...\n",
      " $ clusters_np : int  4 2 0 2 10 3 8 1 0 0 ...\n"
     ]
    }
   ],
   "source": [
    "str(VGG19_df)"
   ]
  },
  {
   "cell_type": "code",
   "execution_count": 116,
   "metadata": {},
   "outputs": [],
   "source": [
    "VGG19_df$filenames_np <- str_replace(VGG19_df$filenames_np, \".jpg\", \"\")"
   ]
  },
  {
   "cell_type": "code",
   "execution_count": 117,
   "metadata": {},
   "outputs": [],
   "source": [
    "#missing mediaType\n",
    "VGG19_df$filenames_np <- str_replace(VGG19_df$filenames_np , \"DAM3D026_DAPedit\", \"DAM3D026_P_DAPedit\")\n",
    "VGG19_df$filenames_np <- str_replace(VGG19_df$filenames_np ,  \"DAMa015_DAPedit\", \"DAMa015_T_DAPedit\")\n",
    "\n",
    "#extra space\n",
    "VGG19_df$filenames_np <- str_replace(VGG19_df$filenames_np , \"DAM3D058_P _DAPedit\", \"DAM3D058_P_DAPedit\")\n",
    "VGG19_df$filenames_np <- str_replace(VGG19_df$filenames_np ,  \"DAM3D069_P _DAPedit\", \"DAM3D069_P_DAPedit\")\n",
    "\n",
    "#typo\n",
    "VGG19_df$filenames_np <- str_replace(VGG19_df$filenames_np ,  \"DAM065_F_DAPedt\", \"DAM065_F_DAPedit\")"
   ]
  },
  {
   "cell_type": "code",
   "execution_count": 118,
   "metadata": {},
   "outputs": [],
   "source": [
    "# separating data based on underscore used in distinguishing common elements among variables\n",
    "#separate( ) function: #Objective - Splitting a single variable into two\n",
    "VGG19_df_data <- separate(VGG19_df, filenames_np, \n",
    "                            c(\"id\", \"DAP_mediaType\",\"imageLabel\"), sep = \"_\", remove = TRUE, convert = FALSE)"
   ]
  },
  {
   "cell_type": "code",
   "execution_count": 119,
   "metadata": {},
   "outputs": [],
   "source": [
    "DAP_VGG19_data <- select(VGG19_df_data, id, DAP_mediaType, clusters_np)"
   ]
  },
  {
   "cell_type": "code",
   "execution_count": 120,
   "metadata": {},
   "outputs": [],
   "source": [
    "#Combining Study 1 and Study 3 data with DAP VGG19 data\n",
    "DAP_NEXT_VGG19_dataCombined <- left_join(DAP_NEXT_dataCombined  , DAP_VGG19_data ,\n",
    "                           by=c(\"id\", \"DAP_mediaType\"))"
   ]
  },
  {
   "cell_type": "markdown",
   "metadata": {},
   "source": [
    "### Export data file"
   ]
  },
  {
   "cell_type": "code",
   "execution_count": 121,
   "metadata": {},
   "outputs": [],
   "source": [
    "#PC - must map network Z drive to rogerslab.drive.wisc.edu first\n",
    "\n",
    "#Mac - must connect to rogerslab.drive.wisc.edu first\n",
    "setwd(\"/Volumes/rogerslab/NEXT/NEXTdrawings/Data/dataCombined\")\n",
    "\n",
    "#laptop\n",
    "#setwd(\"/Users/clintjensen/NEXT/NEXTdrawingsDownloads/NEXTdrawings/Data/dataCombined\")"
   ]
  },
  {
   "cell_type": "code",
   "execution_count": 122,
   "metadata": {},
   "outputs": [],
   "source": [
    "write.table(DAP_NEXT_VGG19_dataCombined, \"DAP_NEXT_VGG19_dataCombined.csv\", sep=\",\", col.names=T, row.names=F)"
   ]
  },
  {
   "cell_type": "markdown",
   "metadata": {},
   "source": [
    "# To Do"
   ]
  },
  {
   "cell_type": "markdown",
   "metadata": {},
   "source": [
    "Add in VGG-19 coordinates - probably need to rerun as the images used in NEXT are likely different\n",
    "\n",
    "Create a spreadsheet of what data we have\n",
    "Data sets - DAP and others"
   ]
  },
  {
   "cell_type": "markdown",
   "metadata": {},
   "source": [
    "# Done"
   ]
  },
  {
   "cell_type": "markdown",
   "metadata": {},
   "source": [
    "next project is to connect DP scores to the individual images above. The issue is that the T, F, and P will have to be assigned to the individual participants via their id. \n",
    "\n",
    "Options: \n",
    "Each of the images and their x y coordinates can be added to each participant\n",
    "or\n",
    "Each of the images can be a row with all the participant info copied... "
   ]
  },
  {
   "cell_type": "code",
   "execution_count": null,
   "metadata": {},
   "outputs": [],
   "source": []
  }
 ],
 "metadata": {
  "kernelspec": {
   "display_name": "R",
   "language": "R",
   "name": "ir"
  },
  "language_info": {
   "codemirror_mode": "r",
   "file_extension": ".r",
   "mimetype": "text/x-r-source",
   "name": "R",
   "pygments_lexer": "r",
   "version": "3.6.1"
  }
 },
 "nbformat": 4,
 "nbformat_minor": 4
}
