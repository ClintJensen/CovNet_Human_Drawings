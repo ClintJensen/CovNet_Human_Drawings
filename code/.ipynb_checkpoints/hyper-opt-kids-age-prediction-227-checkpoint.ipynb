{
 "cells": [
  {
   "cell_type": "markdown",
   "metadata": {},
   "source": [
    "# Hyperparameter optimization for age (years) prediction from vector-features for all kids"
   ]
  },
  {
   "cell_type": "code",
   "execution_count": null,
   "metadata": {},
   "outputs": [],
   "source": [
    "# If you are in Colab, install...\n",
    "\n",
    "# !pip install talos\n",
    "# !pip install rarfile\n",
    "\n",
    "# ...and restart kernel "
   ]
  },
  {
   "cell_type": "code",
   "execution_count": null,
   "metadata": {},
   "outputs": [],
   "source": [
    "# Let's import Talos, tensorflow, and dependencies\n",
    "\n",
    "import talos as ta\n",
    "#from talos.metrics.keras_metrics import precision_acc, recall_acc, matthews_correlation_acc, fmeasure_acc\n",
    "from talos.model.normalizers import lr_normalizer\n",
    "from talos.utils.best_model import best_model, activate_model\n",
    "from talos import Predict\n",
    "\n",
    "from keras.activations import relu, sigmoid, linear\n",
    "from keras.optimizers import Adam, Nadam, RMSprop\n",
    "from keras.losses import mean_squared_error\n",
    "from keras.models import Sequential\n",
    "from keras.layers import Dense, Dropout\n",
    "\n",
    "from sklearn.model_selection import train_test_split\n",
    "from sklearn.preprocessing import StandardScaler\n",
    "from sklearn.preprocessing import Normalizer\n",
    "\n",
    "import pandas as pd\n",
    "import numpy as np\n",
    "from numpy import genfromtxt\n",
    "from collections import Counter\n",
    "import rarfile, csv\n",
    "\n",
    "# to import filenames\n",
    "from os import listdir\n",
    "from os.path import isfile, join\n",
    "\n",
    "import seaborn as sns\n",
    "import matplotlib.pyplot as plt\n",
    "%matplotlib inline"
   ]
  },
  {
   "cell_type": "markdown",
   "metadata": {},
   "source": [
    "## Data preparation\n",
    "First, we need to split the data into training and testing as usual. The training dataset will be feed into the model training and optimization process. The testing data will be used to evalute the model. \n",
    "\n",
    "***Data preparation can be skipped by jumping to the \"load data\" section***"
   ]
  },
  {
   "cell_type": "code",
   "execution_count": null,
   "metadata": {},
   "outputs": [],
   "source": [
    "#####################\n",
    "# If you are in Colab\n",
    "#####################\n",
    "\n",
    "# Clone the data into Colab\n",
    "# ! git clone https://github.com/pabloinsente/CovNet_Human_Drawings"
   ]
  },
  {
   "cell_type": "code",
   "execution_count": 448,
   "metadata": {},
   "outputs": [
    {
     "data": {
      "text/html": [
       "<div>\n",
       "<style scoped>\n",
       "    .dataframe tbody tr th:only-of-type {\n",
       "        vertical-align: middle;\n",
       "    }\n",
       "\n",
       "    .dataframe tbody tr th {\n",
       "        vertical-align: top;\n",
       "    }\n",
       "\n",
       "    .dataframe thead th {\n",
       "        text-align: right;\n",
       "    }\n",
       "</style>\n",
       "<table border=\"1\" class=\"dataframe\">\n",
       "  <thead>\n",
       "    <tr style=\"text-align: right;\">\n",
       "      <th></th>\n",
       "      <th>id</th>\n",
       "    </tr>\n",
       "  </thead>\n",
       "  <tbody>\n",
       "    <tr>\n",
       "      <th>0</th>\n",
       "      <td>DAM073</td>\n",
       "    </tr>\n",
       "    <tr>\n",
       "      <th>1</th>\n",
       "      <td>DAM015</td>\n",
       "    </tr>\n",
       "    <tr>\n",
       "      <th>2</th>\n",
       "      <td>DAM076</td>\n",
       "    </tr>\n",
       "    <tr>\n",
       "      <th>3</th>\n",
       "      <td>DAM3D009</td>\n",
       "    </tr>\n",
       "    <tr>\n",
       "      <th>4</th>\n",
       "      <td>DAM063</td>\n",
       "    </tr>\n",
       "  </tbody>\n",
       "</table>\n",
       "</div>"
      ],
      "text/plain": [
       "         id\n",
       "0    DAM073\n",
       "1    DAM015\n",
       "2    DAM076\n",
       "3  DAM3D009\n",
       "4    DAM063"
      ]
     },
     "execution_count": 448,
     "metadata": {},
     "output_type": "execute_result"
    }
   ],
   "source": [
    "#######################################\n",
    "# Get drawings filenames from directory \n",
    "#######################################\n",
    "\n",
    "# If relative path doesn't work, change path as nedeed\n",
    "path = '../data/dap-drawings-kids/'\n",
    "filenames = [f for f in listdir(path) if isfile(join(path, f))]\n",
    "len(filenames) # This should yield 257\n",
    "\n",
    "# Strip off .jpg extension \n",
    "sep = '.'\n",
    "filenames_s = [name.split(sep, 1)[0] for name in filenames]\n",
    "\n",
    "# Strip off characters extension \n",
    "sep = '_'\n",
    "filenames_ss = [name.split(sep, 1)[0] for name in filenames_s]\n",
    "\n",
    "# Transform into dataframe\n",
    "df_filenames = pd.DataFrame({'id':filenames_ss})\n",
    "\n",
    "df_filenames.head()"
   ]
  },
  {
   "cell_type": "code",
   "execution_count": 449,
   "metadata": {},
   "outputs": [
    {
     "name": "stdout",
     "output_type": "stream",
     "text": [
      "df_s1 shape: (82, 3) \n",
      "\n",
      "df_s1 head: \n",
      "        id  age_yr  female\n",
      "0  DAM001    5.70     0.0\n",
      "1  DAM002    5.42     1.0\n",
      "2  DAM003    4.53     1.0\n",
      "3  DAM004    5.37     0.0\n",
      "4  DAM005    4.19     0.0 \n",
      "\n",
      "df_s3 shape: (52, 3) \n",
      "\n",
      "df_s3 head: \n",
      "          id    age_yr  female\n",
      "0  DAM3D001  6.500000       0\n",
      "1  DAM3D003  4.000000       0\n",
      "2  DAM3D004  6.083333       0\n",
      "3  DAM3D006  0.416667       1\n",
      "4  DAM3D007  6.000000       0\n"
     ]
    }
   ],
   "source": [
    "####################\n",
    "# Read kids metadata\n",
    "####################\n",
    "\n",
    "path = '../data/dap-metadata-kids/'\n",
    "filename_s1 = 'dap_s1_metadata.csv'\n",
    "filename_s3 = 'dap_s3_metadata.csv'\n",
    "\n",
    "df_s1 = pd.read_csv(path+filename_s1, sep=',')\n",
    "df_s3 = pd.read_csv(path+filename_s3, sep=',')\n",
    "\n",
    "print(\"df_s1 shape:\", df_s1.shape, '\\n') # (82, 3) \n",
    "print(\"df_s1 head:\", '\\n', df_s1.head(), '\\n')\n",
    "print(\"df_s3 shape:\", df_s3.shape, '\\n') # (52, 3)\n",
    "print(\"df_s3 head:\", '\\n', df_s3.head())"
   ]
  },
  {
   "cell_type": "code",
   "execution_count": 450,
   "metadata": {},
   "outputs": [
    {
     "data": {
      "text/html": [
       "<div>\n",
       "<style scoped>\n",
       "    .dataframe tbody tr th:only-of-type {\n",
       "        vertical-align: middle;\n",
       "    }\n",
       "\n",
       "    .dataframe tbody tr th {\n",
       "        vertical-align: top;\n",
       "    }\n",
       "\n",
       "    .dataframe thead th {\n",
       "        text-align: right;\n",
       "    }\n",
       "</style>\n",
       "<table border=\"1\" class=\"dataframe\">\n",
       "  <thead>\n",
       "    <tr style=\"text-align: right;\">\n",
       "      <th></th>\n",
       "      <th>id</th>\n",
       "      <th>age_yr</th>\n",
       "      <th>female</th>\n",
       "    </tr>\n",
       "  </thead>\n",
       "  <tbody>\n",
       "    <tr>\n",
       "      <th>0</th>\n",
       "      <td>DAM001</td>\n",
       "      <td>5.70</td>\n",
       "      <td>0.0</td>\n",
       "    </tr>\n",
       "    <tr>\n",
       "      <th>1</th>\n",
       "      <td>DAM002</td>\n",
       "      <td>5.42</td>\n",
       "      <td>1.0</td>\n",
       "    </tr>\n",
       "    <tr>\n",
       "      <th>2</th>\n",
       "      <td>DAM003</td>\n",
       "      <td>4.53</td>\n",
       "      <td>1.0</td>\n",
       "    </tr>\n",
       "    <tr>\n",
       "      <th>3</th>\n",
       "      <td>DAM004</td>\n",
       "      <td>5.37</td>\n",
       "      <td>0.0</td>\n",
       "    </tr>\n",
       "    <tr>\n",
       "      <th>4</th>\n",
       "      <td>DAM005</td>\n",
       "      <td>4.19</td>\n",
       "      <td>0.0</td>\n",
       "    </tr>\n",
       "  </tbody>\n",
       "</table>\n",
       "</div>"
      ],
      "text/plain": [
       "       id  age_yr  female\n",
       "0  DAM001    5.70     0.0\n",
       "1  DAM002    5.42     1.0\n",
       "2  DAM003    4.53     1.0\n",
       "3  DAM004    5.37     0.0\n",
       "4  DAM005    4.19     0.0"
      ]
     },
     "execution_count": 450,
     "metadata": {},
     "output_type": "execute_result"
    }
   ],
   "source": [
    "##############################\n",
    "# Concatenate df study 1 and 3\n",
    "##############################\n",
    "# print(df_kids.to_string()) to print all values in jupyter\n",
    "\n",
    "frames = [df_s1, df_s3]\n",
    "\n",
    "# concatenate dataframes vertically\n",
    "df_kids = pd.concat(frames, ignore_index = True)\n",
    "\n",
    "df_kids.head()"
   ]
  },
  {
   "cell_type": "code",
   "execution_count": 451,
   "metadata": {},
   "outputs": [
    {
     "data": {
      "text/plain": [
       "(244, 3)"
      ]
     },
     "execution_count": 451,
     "metadata": {},
     "output_type": "execute_result"
    }
   ],
   "source": [
    "################################\n",
    "# Merge df_filenames and df_kids\n",
    "################################\n",
    "\n",
    "# This is necessary to merge with vector features\n",
    "# Only rows where 'id' is present will be keep\n",
    "\n",
    "df_kids_all = df_filenames.merge(df_kids, left_on='id', right_on='id')\n",
    "df_kids_all.shape # (244, 3)"
   ]
  },
  {
   "cell_type": "code",
   "execution_count": 452,
   "metadata": {},
   "outputs": [
    {
     "data": {
      "text/html": [
       "<div>\n",
       "<style scoped>\n",
       "    .dataframe tbody tr th:only-of-type {\n",
       "        vertical-align: middle;\n",
       "    }\n",
       "\n",
       "    .dataframe tbody tr th {\n",
       "        vertical-align: top;\n",
       "    }\n",
       "\n",
       "    .dataframe thead th {\n",
       "        text-align: right;\n",
       "    }\n",
       "</style>\n",
       "<table border=\"1\" class=\"dataframe\">\n",
       "  <thead>\n",
       "    <tr style=\"text-align: right;\">\n",
       "      <th></th>\n",
       "      <th>id</th>\n",
       "    </tr>\n",
       "  </thead>\n",
       "  <tbody>\n",
       "    <tr>\n",
       "      <th>0</th>\n",
       "      <td>True</td>\n",
       "    </tr>\n",
       "    <tr>\n",
       "      <th>1</th>\n",
       "      <td>True</td>\n",
       "    </tr>\n",
       "    <tr>\n",
       "      <th>2</th>\n",
       "      <td>True</td>\n",
       "    </tr>\n",
       "    <tr>\n",
       "      <th>3</th>\n",
       "      <td>True</td>\n",
       "    </tr>\n",
       "    <tr>\n",
       "      <th>4</th>\n",
       "      <td>True</td>\n",
       "    </tr>\n",
       "  </tbody>\n",
       "</table>\n",
       "</div>"
      ],
      "text/plain": [
       "     id\n",
       "0  True\n",
       "1  True\n",
       "2  True\n",
       "3  True\n",
       "4  True"
      ]
     },
     "execution_count": 452,
     "metadata": {},
     "output_type": "execute_result"
    }
   ],
   "source": [
    "####################################################\n",
    "# Get an index of the ids present in both dataframes\n",
    "####################################################\n",
    "\n",
    "# This is necessary filter out rows in the vector-matrix where metadata is absent\n",
    "# Output a boolean vector \n",
    "\n",
    "isin = df_filenames['id'].isin(df_kids['id'])\n",
    "df_isin = isin.to_frame()\n",
    "df_isin.head()"
   ]
  },
  {
   "cell_type": "code",
   "execution_count": 453,
   "metadata": {},
   "outputs": [
    {
     "data": {
      "text/plain": [
       "(257, 25088)"
      ]
     },
     "execution_count": 453,
     "metadata": {},
     "output_type": "execute_result"
    }
   ],
   "source": [
    "#################################\n",
    "# Load vector features from VGG19\n",
    "#################################\n",
    "\n",
    "# WARNING: this workds assuming that you are in the CovNet_Human_Drawings/code directory\n",
    "# otherwise change path_np appropriately\n",
    "\n",
    "path_np = '../data/vectors-features/'\n",
    "filename = 'vgg19_vectors_drawings_block5_pool_kids_257_raw.npy'\n",
    "\n",
    "x = np.load(path_np+filename)\n",
    "x_ncols = x.shape[1]\n",
    "x.shape # (257, 25088)"
   ]
  },
  {
   "cell_type": "code",
   "execution_count": 454,
   "metadata": {},
   "outputs": [
    {
     "name": "stdout",
     "output_type": "stream",
     "text": [
      "(257, 25089)\n",
      "(244, 25089)\n"
     ]
    }
   ],
   "source": [
    "############################\n",
    "# Drop rows without metadata\n",
    "############################\n",
    "\n",
    "# Create a pandas dataframe from numpy array \n",
    "df_vectors = pd.DataFrame(x)\n",
    "\n",
    "# Add 'isin' vector to df_vectors \n",
    "df_vectors['isin'] = df_isin['id']\n",
    "\n",
    "# Now we have a boolean vector indicating whether metadata is available for the row\n",
    "\n",
    "# Keep data with metadata available ['isin' = True]\n",
    "df_vectors_isin = df_vectors.loc[df_vectors['isin'] == 1]\n",
    "\n",
    "print(df_vectors.shape) # original: (257, 25089)\n",
    "print(df_vectors_isin.shape) # filtered: (244, 25089)"
   ]
  },
  {
   "cell_type": "code",
   "execution_count": 455,
   "metadata": {},
   "outputs": [
    {
     "data": {
      "text/plain": [
       "True"
      ]
     },
     "execution_count": 455,
     "metadata": {},
     "output_type": "execute_result"
    }
   ],
   "source": [
    "# Check that df_kids_all and df_vectors_isin have equal length\n",
    "# Otherwise there must be a misalignment between vector-matrix and age_yr vector \n",
    "# If 'False', 'ages' will not be assigned to right row \n",
    "df_kids_all.shape[0] == df_vectors_isin.shape[0]"
   ]
  },
  {
   "cell_type": "code",
   "execution_count": 456,
   "metadata": {},
   "outputs": [
    {
     "data": {
      "text/plain": [
       "(244, 25090)"
      ]
     },
     "execution_count": 456,
     "metadata": {},
     "output_type": "execute_result"
    }
   ],
   "source": [
    "#########################################\n",
    "# Add age_yr col to feature-vector matrix\n",
    "#########################################\n",
    "\n",
    "df_vectors_isin['age_yr'] = df_kids_all['age_yr']\n",
    "\n",
    "df_vectors_isin.shape # (244, 25090)"
   ]
  },
  {
   "cell_type": "code",
   "execution_count": 457,
   "metadata": {},
   "outputs": [
    {
     "data": {
      "text/plain": [
       "count    227.000000\n",
       "mean       4.261307\n",
       "std        1.518234\n",
       "min        0.416667\n",
       "25%        3.070000\n",
       "50%        4.190000\n",
       "75%        5.195000\n",
       "max        8.833333\n",
       "Name: age_yr, dtype: float64"
      ]
     },
     "execution_count": 457,
     "metadata": {},
     "output_type": "execute_result"
    }
   ],
   "source": [
    "# Describe age to check range\n",
    "df_vectors_isin['age_yr'].describe()"
   ]
  },
  {
   "cell_type": "code",
   "execution_count": 458,
   "metadata": {},
   "outputs": [
    {
     "data": {
      "text/plain": [
       "17"
      ]
     },
     "execution_count": 458,
     "metadata": {},
     "output_type": "execute_result"
    }
   ],
   "source": [
    "# Check NAs on age_yr vector\n",
    "sum(df_vectors_isin['age_yr'].isna()) # There are 17 NA"
   ]
  },
  {
   "cell_type": "code",
   "execution_count": 459,
   "metadata": {},
   "outputs": [
    {
     "data": {
      "text/plain": [
       "count    226.000000\n",
       "mean       4.278319\n",
       "std        1.499764\n",
       "min        1.830000\n",
       "25%        3.100000\n",
       "50%        4.190000\n",
       "75%        5.202500\n",
       "max        8.833333\n",
       "Name: age_yr, dtype: float64"
      ]
     },
     "execution_count": 459,
     "metadata": {},
     "output_type": "execute_result"
    }
   ],
   "source": [
    "# Filter out rows with age_yr out of range \n",
    "# Kids with ages < 1 must be a typo \n",
    "# Kids with NA values can't be used for prediction\n",
    "\n",
    "# Keep data with age_yr > 1 ['isin' = True]\n",
    "df_vectors_isin_age = df_vectors_isin.loc[df_vectors_isin['age_yr'] > 1]\n",
    "df_vectors_isin_age['age_yr'].describe()\n",
    "# Now min = 1.830000"
   ]
  },
  {
   "cell_type": "code",
   "execution_count": 460,
   "metadata": {},
   "outputs": [
    {
     "data": {
      "text/plain": [
       "0"
      ]
     },
     "execution_count": 460,
     "metadata": {},
     "output_type": "execute_result"
    }
   ],
   "source": [
    "# Keep data with age_yr NOT NA\n",
    "df_vectors_isin_age_na = df_vectors_isin_age.dropna()\n",
    "sum(df_vectors_isin_age_na['age_yr'].isna()) # sum 0"
   ]
  },
  {
   "cell_type": "code",
   "execution_count": 461,
   "metadata": {},
   "outputs": [
    {
     "data": {
      "text/plain": [
       "(226, 25090)"
      ]
     },
     "execution_count": 461,
     "metadata": {},
     "output_type": "execute_result"
    }
   ],
   "source": [
    "# We are left with 226 complete cases\n",
    "df_vectors_isin_age_na.shape # (226, 25090)"
   ]
  },
  {
   "cell_type": "code",
   "execution_count": 462,
   "metadata": {},
   "outputs": [
    {
     "data": {
      "text/plain": [
       "0    2.52\n",
       "1    2.52\n",
       "2    2.52\n",
       "3    2.93\n",
       "4    2.93\n",
       "Name: age_yr, dtype: float64"
      ]
     },
     "execution_count": 462,
     "metadata": {},
     "output_type": "execute_result"
    }
   ],
   "source": [
    "###############################################\n",
    "# Split data into x(matrix) and y(label-vector)\n",
    "###############################################\n",
    "\n",
    "# Get age_yr vector\n",
    "y = df_vectors_isin_age_na['age_yr']\n",
    "y.head()"
   ]
  },
  {
   "cell_type": "code",
   "execution_count": 463,
   "metadata": {},
   "outputs": [
    {
     "data": {
      "text/plain": [
       "True"
      ]
     },
     "execution_count": 463,
     "metadata": {},
     "output_type": "execute_result"
    }
   ],
   "source": [
    "# Drop 'isin'  and 'age_yr' to get a clean numeric matrix\n",
    "x = df_vectors_isin_age_na.drop(columns=['isin', 'age_yr'])\n",
    "# Verify that new matrix has the same col dimension that original matrix\n",
    "x_ncols == x.shape[1]"
   ]
  },
  {
   "cell_type": "code",
   "execution_count": 464,
   "metadata": {},
   "outputs": [
    {
     "name": "stdout",
     "output_type": "stream",
     "text": [
      "<class 'numpy.ndarray'>\n",
      "<class 'numpy.ndarray'>\n"
     ]
    }
   ],
   "source": [
    "#####################################\n",
    "# Change pandas series to numpy array\n",
    "#####################################\n",
    "\n",
    "# Talos/Keras will only take a numpy array \n",
    "x = x.to_numpy(dtype='float64')\n",
    "y = y.to_numpy(dtype='float64')\n",
    "\n",
    "print(type(x))\n",
    "print(type(y))"
   ]
  },
  {
   "cell_type": "code",
   "execution_count": 465,
   "metadata": {},
   "outputs": [],
   "source": [
    "# Round ages to 1 decimal place\n",
    "y = np.round_(y, decimals=1)"
   ]
  },
  {
   "cell_type": "code",
   "execution_count": 466,
   "metadata": {},
   "outputs": [
    {
     "name": "stdout",
     "output_type": "stream",
     "text": [
      "[[0. 0. 0. ... 0. 0. 0.]\n",
      " [0. 0. 0. ... 0. 0. 0.]\n",
      " [0. 0. 0. ... 0. 0. 0.]\n",
      " ...\n",
      " [0. 0. 0. ... 0. 0. 0.]\n",
      " [0. 0. 0. ... 0. 0. 0.]\n",
      " [0. 0. 0. ... 0. 0. 0.]]\n"
     ]
    }
   ],
   "source": [
    "###########################\n",
    "# Normalize with lenght = 1\n",
    "###########################\n",
    "\n",
    "scaler = Normalizer().fit(x)\n",
    "x_n = scaler.transform(x)\n",
    "\n",
    "# summarize transformed data\n",
    "np.set_printoptions(precision=3)\n",
    "print(x_n)"
   ]
  },
  {
   "cell_type": "code",
   "execution_count": null,
   "metadata": {},
   "outputs": [],
   "source": [
    "#############################################################\n",
    "# Compare raw, standarized, and standarized+normalized values\n",
    "#############################################################\n",
    "\n",
    "print(\"Max values\")\n",
    "print(np.amax(x))\n",
    "print(np.amax(x_n), \"\\n\")\n",
    "print(\"Min values\")\n",
    "print(np.amin(x))\n",
    "print(np.amin(x_n), \"\\n\")\n",
    "print(\"Shape\")\n",
    "print(np.shape(x_n))"
   ]
  },
  {
   "cell_type": "code",
   "execution_count": 467,
   "metadata": {},
   "outputs": [],
   "source": [
    "###################\n",
    "# Save numpy arrays\n",
    "###################\n",
    "path_x = '../data/vectors-features/x_matrix_kids_norm_226'\n",
    "np.save(path_x, x_n)\n",
    "\n",
    "path_y = '../data/vectors-features/y_vector_kids_226'\n",
    "np.save(path_y, y)"
   ]
  },
  {
   "cell_type": "markdown",
   "metadata": {},
   "source": [
    "## Load data"
   ]
  },
  {
   "cell_type": "code",
   "execution_count": 468,
   "metadata": {},
   "outputs": [
    {
     "name": "stdout",
     "output_type": "stream",
     "text": [
      "(226, 25088)\n",
      "(226,)\n"
     ]
    }
   ],
   "source": [
    "####################\n",
    "# Load data to train\n",
    "####################\n",
    "\n",
    "path_x = '../data/vectors-features/x_matrix_kids_norm_226.npy'\n",
    "x = np.load(path_x)\n",
    "\n",
    "path_y = '../data/vectors-features/y_vector_kids_226.npy'\n",
    "y = np.load(path_y)\n",
    "\n",
    "print(x.shape)\n",
    "print(y.shape)"
   ]
  },
  {
   "cell_type": "code",
   "execution_count": 469,
   "metadata": {},
   "outputs": [
    {
     "name": "stdout",
     "output_type": "stream",
     "text": [
      "x_train:  (169, 25088)\n",
      "y_train:  (169,)\n",
      "x_test:  (57, 25088)\n",
      "y_test:  (57,)\n"
     ]
    }
   ],
   "source": [
    "# Split data into train and test sets\n",
    "# Since we have an small sample, we will do a 70/30 split\n",
    "\n",
    "x_train, x_test, y_train, y_test = train_test_split(x, y, test_size = 0.25, random_state=44)\n",
    "print(\"x_train: \",x_train.shape) \n",
    "print(\"y_train: \",y_train.shape) \n",
    "print(\"x_test: \",x_test.shape) \n",
    "print(\"y_test: \",y_test.shape)"
   ]
  },
  {
   "cell_type": "markdown",
   "metadata": {},
   "source": [
    "## Hyper-optimization experiment"
   ]
  },
  {
   "cell_type": "code",
   "execution_count": null,
   "metadata": {},
   "outputs": [],
   "source": [
    "# define model\n",
    "def input_model(x_train, y_train, x_val, y_val, params):\n",
    "  model = Sequential()\n",
    "  # add hidden layer\n",
    "  model.add(Dense(params['first_neuron'], \n",
    "                  input_dim=x_train.shape[1], \n",
    "                  activation=params['activation'],\n",
    "                  kernel_initializer = params['kernel_initializer']))\n",
    "  # add dropout layer\n",
    "  model.add(Dropout(params['dropout']))\n",
    "  # add output layer\n",
    "  model.add(Dense(1,activation=params['last_activation'],\n",
    "                  kernel_initializer = params['kernel_initializer']))\n",
    "  # compile model\n",
    "  model.compile(loss=params['losses'],\n",
    "                optimizer=params['optimizer'](lr=lr_normalizer(params['lr'], params['optimizer'])),\n",
    "                metrics=['mean_absolute_error', 'mean_squared_error'])\n",
    "  # train model\n",
    "  out = model.fit(x_train, y_train,\n",
    "                  validation_data=[x_val, y_val],\n",
    "                  batch_size=params['batch_size'],\n",
    "                  epochs=params['epochs'],\n",
    "                  verbose = 0)\n",
    "  return out, model"
   ]
  },
  {
   "cell_type": "markdown",
   "metadata": {},
   "source": [
    "## Setting the Parameter Space Boundaries \n",
    "Here we create a dictionary that will be passed to Talos together with the model above. We have three different ways to input values:\n",
    "\n",
    "- as stepped ranges (min, max, steps)\n",
    "- as multiple values [in a list]\n",
    "- as a single value [in a list]"
   ]
  },
  {
   "cell_type": "code",
   "execution_count": null,
   "metadata": {},
   "outputs": [],
   "source": [
    "#################################\n",
    "# Set hyperparameters to optimize\n",
    "#################################\n",
    "\n",
    "p = {'first_neuron': [2, 4, 8, 16],\n",
    "     'activation': [relu, sigmoid],\n",
    "     'optimizer': [RMSprop, Adam],\n",
    "     'losses':[mean_squared_error],\n",
    "     'hidden_layers':[0, 1, 2],\n",
    "     'batch_size': [10, 20, 40],\n",
    "     'epochs':[20, 50, 100, 300, 500],\n",
    "     'dropout': [0.001, 0.1, 0.2],\n",
    "     'kernel_initializer': ['uniform','normal'],\n",
    "     'lr':[0.001, 0.01, 0.1],\n",
    "     'last_activation': ['linear']} "
   ]
  },
  {
   "cell_type": "markdown",
   "metadata": {},
   "source": [
    "## Running the hyperparameter optimization with Scan() \n",
    "Now we are ready to run the model based on the parameters and the layer configuration above. The exact same process would apply with any other model, just make sure to pass the model function name in the Scan() command as in the below example."
   ]
  },
  {
   "cell_type": "code",
   "execution_count": null,
   "metadata": {},
   "outputs": [],
   "source": [
    "#######################\n",
    "# starting optimization\n",
    "#######################\n",
    "\n",
    "h = ta.Scan(x= x_train, y=y_train,\n",
    "            params=p,\n",
    "            model=input_model,\n",
    "            # Use .33 split to get ~56 datapoints or ~25% of all data\n",
    "            val_split = 0.33,\n",
    "            dataset_name='dap_age_prediction',\n",
    "            experiment_no='experiment_1',\n",
    "            grid_downsample=.1)"
   ]
  },
  {
   "cell_type": "markdown",
   "metadata": {},
   "source": [
    "## Accessing the results through the Scan object\n",
    "The scan object saves all the necessary information for analysis and deployment  \n",
    "**See source code at** https://github.com/autonomio/talos/blob/daily-dev/talos/scan/Scan.py"
   ]
  },
  {
   "cell_type": "code",
   "execution_count": null,
   "metadata": {},
   "outputs": [],
   "source": [
    "# accessing the results data frame\n",
    "h.data[0:5]"
   ]
  },
  {
   "cell_type": "code",
   "execution_count": null,
   "metadata": {},
   "outputs": [],
   "source": [
    "# summary of training\n",
    "h.details"
   ]
  },
  {
   "cell_type": "markdown",
   "metadata": {},
   "source": [
    "## Reporting optimization\n",
    "In the Scan process, the results are stored round-by-round in the corresponding experiment log which is a .csv file stored in the present working directory. The Reporting() accepts as its source either a file name, or the Scan object.\n",
    "\n",
    "**See source code to dcide how to use this command**   \n",
    "https://github.com/autonomio/talos/blob/daily-dev/talos/commands/reporting.py "
   ]
  },
  {
   "cell_type": "code",
   "execution_count": null,
   "metadata": {},
   "outputs": [],
   "source": [
    "# Use Scan object as input\n",
    "r = ta.Reporting(h) # creates report object from scan object"
   ]
  },
  {
   "cell_type": "code",
   "execution_count": null,
   "metadata": {},
   "outputs": [],
   "source": [
    "# Best (lower) values for val_mean_absolute_error and val_mean_squared_error\n",
    "print(r.low(metric='val_mean_absolute_error'))\n",
    "print(r.low(metric='val_mean_squared_error'))"
   ]
  },
  {
   "cell_type": "code",
   "execution_count": null,
   "metadata": {},
   "outputs": [],
   "source": [
    "###################################################################\n",
    "# Get correltion between val_mean_squared_error and hyperparameters\n",
    "###################################################################\n",
    "\n",
    "r.correlate('val_mean_squared_error')\n",
    "\n",
    "# -------\n",
    "# Summary\n",
    "# -------\n",
    "# Less units/neuros on hidden layers do better (r=-0.123577)\n",
    "# Hidden layers not very important (r=0.029703)\n",
    "# Bigger batch size do better (r=0.196092)\n",
    "# Less epochs do better (r=-0.409351)\n",
    "# Dropout has low importance\n",
    "# Lower learning rate do better"
   ]
  },
  {
   "cell_type": "code",
   "execution_count": null,
   "metadata": {},
   "outputs": [],
   "source": [
    "########################################################\n",
    "# Make dataframe with hyperparameters and error measures\n",
    "########################################################\n",
    "\n",
    "# Get data\n",
    "hp_metrics = {'mae': r.data['val_mean_absolute_error'], 'mse': r.data['val_mean_squared_error'],\n",
    "              'units': r.data['first_neuron'],'activation': r.data['activation'] , \n",
    "              'optimizer': r.data['optimizer'],'hidden_ly': r.data['hidden_layers'],\n",
    "              'batch_size': r.data['batch_size'],'epochs': r.data['epochs'],\n",
    "              'dropout': r.data['dropout'] , 'initializer': r.data['kernel_initializer'],\n",
    "              'lr': r.data['lr']}\n",
    "\n",
    "# Build dataframe\n",
    "df_hp = pd.DataFrame(data=hp_metrics)\n",
    "df_hp.head()"
   ]
  },
  {
   "cell_type": "code",
   "execution_count": null,
   "metadata": {},
   "outputs": [],
   "source": [
    "# Replace value labels to plot\n",
    "df_hp.replace({\"<class 'keras.optimizers.RMSprop'>\":'RMSprop',\"<class 'keras.optimizers.Adam'>\": 'Adam',\n",
    "              \"<function relu at 0x7fbcdab15a60>\": 'relu', \"<function sigmoid at 0x7fbcdab15b70>\": 'sigmoid'}, \n",
    "              inplace = True)\n",
    "df_hp.head()"
   ]
  },
  {
   "cell_type": "code",
   "execution_count": null,
   "metadata": {},
   "outputs": [],
   "source": [
    "#########################################################\n",
    "# Plot hyperparameters and validation mean absolute error\n",
    "#########################################################\n",
    "\n",
    "\n",
    "def plotHyper(error, plotTitle, fontsize):\n",
    "    '''Plot error metric against parameters in a grid'''\n",
    "    # Grid plot parameters\n",
    "    col_index = df_hp.columns[2:13]\n",
    "    fig = plt.figure(figsize=(15,15))\n",
    "    plot_index = 0\n",
    "    nrows = 3\n",
    "    ncols = 3\n",
    "    \n",
    "    # Loop over grid to plot\n",
    "    for param in col_index:\n",
    "        plot_index += 1\n",
    "        fig.add_subplot(nrows, ncols, plot_index)\n",
    "        plt.subplot(3, 3, plot_index)\n",
    "        plt.plot(df_hp[param], df_hp[error], 'o-')\n",
    "        plt.xlabel(param)\n",
    "\n",
    "        fig.suptitle(plotTitle, va = 'center', fontsize=fontsize)\n",
    "    plt.show()\n",
    "\n",
    "\n",
    "error = 'mae'\n",
    "plotTitle = 'Validation Mean Absolute Error and Hyperparameters'\n",
    "fontsize = 20\n",
    "\n",
    "# Function call\n",
    "plotHyper(error, plotTitle, fontsize)"
   ]
  },
  {
   "cell_type": "code",
   "execution_count": null,
   "metadata": {},
   "outputs": [],
   "source": [
    "#-------------\n",
    "# Plot summary\n",
    "#-------------\n",
    "# Parameters that get better (lower) mean absolute error in the validation set\n",
    "# Models with more units/neurons \n",
    "# Models with sigmoid activation \n",
    "# A few Models with RMSprop optimizer \n",
    "# Models with 2 or 0 hidden layers \n",
    "# Models with smalle batch size\n",
    "# Models with more epochs\n",
    "# Models with 0 dropout\n",
    "# Models wuth normal kernel initializer of weights\n",
    "# Models with higher learning rate"
   ]
  },
  {
   "cell_type": "code",
   "execution_count": null,
   "metadata": {},
   "outputs": [],
   "source": [
    "#################################################\n",
    "# Sort dataframe by a metric to obtain best model\n",
    "#################################################\n",
    "r_sorted = r.data.sort_values(by='val_mean_absolute_error')\n",
    "r_sorted.head(2)\n",
    "\n",
    "# Round 834 model get the best results based on mean absolute error in the validation set"
   ]
  },
  {
   "cell_type": "code",
   "execution_count": null,
   "metadata": {},
   "outputs": [],
   "source": [
    "r.data.iloc[834,]"
   ]
  },
  {
   "cell_type": "code",
   "execution_count": null,
   "metadata": {},
   "outputs": [],
   "source": [
    "############################\n",
    "# Hyperparameters best model\n",
    "############################\n",
    "\n",
    "# Now we can use this hyper-parameters as an anchor to search for a better model\n",
    "\n",
    "p_best = {'first_neuron': [16],\n",
    "          'activation': [sigmoid],\n",
    "          'optimizer': [RMSprop],\n",
    "          'losses':[mean_squared_error],\n",
    "          'hidden_layers':[2],\n",
    "          'batch_size': [10],\n",
    "          'epochs':[500],\n",
    "          'dropout': [0.001],\n",
    "          'kernel_initializer': ['normal'],\n",
    "          'lr':[0.1],\n",
    "          'last_activation': ['linear']} "
   ]
  },
  {
   "cell_type": "code",
   "execution_count": 527,
   "metadata": {},
   "outputs": [],
   "source": [
    "##########################\n",
    "# Save optimization report\n",
    "##########################\n",
    "\n",
    "r.data.to_csv(\"../data/optimization-results/hyper_opt_kids_age_predic_227.csv\", index=False)"
   ]
  },
  {
   "cell_type": "markdown",
   "metadata": {},
   "source": [
    "## Retrain best model\n",
    "\n",
    "Three approaches to train modek:\n",
    "\n",
    "- With all features (~25,000)\n",
    "- With features reduced by PCA\n",
    "- With features reduced by MDA"
   ]
  },
  {
   "cell_type": "markdown",
   "metadata": {},
   "source": [
    "# PCA"
   ]
  },
  {
   "cell_type": "code",
   "execution_count": 470,
   "metadata": {},
   "outputs": [
    {
     "data": {
      "text/plain": [
       "Text(0,0.5,'Cumulative explained variance')"
      ]
     },
     "execution_count": 470,
     "metadata": {},
     "output_type": "execute_result"
    },
    {
     "data": {
      "image/png": "[encoded data removed]",
      "text/plain": [
       "<Figure size 432x288 with 1 Axes>"
      ]
     },
     "metadata": {
      "needs_background": "light"
     },
     "output_type": "display_data"
    }
   ],
   "source": [
    "# Let's print out the accumulated explained variance as we get\n",
    "# more components using PCA \n",
    "\n",
    "from sklearn.decomposition import PCA\n",
    "import numpy as np\n",
    "\n",
    "pca = PCA(n_components=x.shape[0])\n",
    "pca.fit(x)\n",
    "\n",
    "plt.plot(np.cumsum(pca.explained_variance_ratio_))\n",
    "plt.xlabel('Number of components')\n",
    "plt.ylabel('Cumulative explained variance')"
   ]
  },
  {
   "cell_type": "code",
   "execution_count": 471,
   "metadata": {},
   "outputs": [
    {
     "data": {
      "text/plain": [
       "(226, 150)"
      ]
     },
     "execution_count": 471,
     "metadata": {},
     "output_type": "execute_result"
    }
   ],
   "source": [
    "# With 150 factors we retain more than 90% of the variance in the data\n",
    "NCOMPONENTS = 150\n",
    "\n",
    "pca = PCA(n_components=NCOMPONENTS)\n",
    "x_pca = pca.fit_transform(x)\n",
    "x_pca.shape"
   ]
  },
  {
   "cell_type": "code",
   "execution_count": 473,
   "metadata": {},
   "outputs": [
    {
     "name": "stdout",
     "output_type": "stream",
     "text": [
      "x_train:  (169, 150)\n",
      "y_train:  (169,)\n",
      "x_test:  (57, 150)\n",
      "y_test:  (57,)\n"
     ]
    }
   ],
   "source": [
    "# Split data into train and test sets with PCA features\n",
    "# Since we have an small sample, we will do a 70/30 split\n",
    "\n",
    "x_train_pca, x_test_pca, y_train, y_test = train_test_split(x_pca, y, test_size = 0.25, random_state=44)\n",
    "print(\"x_train: \",x_train_pca.shape) \n",
    "print(\"y_train: \",y_train.shape) \n",
    "print(\"x_test: \",x_test_pca.shape) \n",
    "print(\"y_test: \",y_test.shape)"
   ]
  },
  {
   "cell_type": "markdown",
   "metadata": {},
   "source": [
    "# MDE"
   ]
  },
  {
   "cell_type": "code",
   "execution_count": 474,
   "metadata": {},
   "outputs": [
    {
     "data": {
      "text/plain": [
       "(226, 3)"
      ]
     },
     "execution_count": 474,
     "metadata": {},
     "output_type": "execute_result"
    }
   ],
   "source": [
    "# Let's try a 3 embeddings solution to start\n",
    "\n",
    "from sklearn.manifold import MDS\n",
    "embedding = MDS(n_components=3)\n",
    "x_mde = embedding.fit_transform(x)\n",
    "x_mde.shape"
   ]
  },
  {
   "cell_type": "code",
   "execution_count": 475,
   "metadata": {},
   "outputs": [
    {
     "name": "stdout",
     "output_type": "stream",
     "text": [
      "x_train:  (169, 3)\n",
      "y_train:  (169,)\n",
      "x_test:  (57, 3)\n",
      "y_test:  (57,)\n"
     ]
    }
   ],
   "source": [
    "# Split data into train and test sets with MDA embeddings\n",
    "# Since we have an small sample, we will do a 70/30 split\n",
    "\n",
    "x_train_mde, x_test_mde, y_train, y_test = train_test_split(x_mde, y, test_size = 0.25, random_state=44)\n",
    "print(\"x_train: \",x_train_mde.shape) \n",
    "print(\"y_train: \",y_train.shape) \n",
    "print(\"x_test: \",x_test_mde.shape) \n",
    "print(\"y_test: \",y_test.shape)"
   ]
  },
  {
   "cell_type": "code",
   "execution_count": 476,
   "metadata": {},
   "outputs": [],
   "source": [
    "import tensorflow as tf\n",
    "\n",
    "from tensorflow import keras\n",
    "from tensorflow.keras import layers\n",
    "\n",
    "import matplotlib.pyplot as plt\n",
    "import pandas as pd\n",
    "import seaborn as sns\n",
    "\n",
    "from keras.activations import sigmoid, linear"
   ]
  },
  {
   "cell_type": "markdown",
   "metadata": {},
   "source": [
    "## Model training and results with original vector-features"
   ]
  },
  {
   "cell_type": "code",
   "execution_count": 489,
   "metadata": {},
   "outputs": [
    {
     "name": "stdout",
     "output_type": "stream",
     "text": [
      "_________________________________________________________________\n",
      "Layer (type)                 Output Shape              Param #   \n",
      "=================================================================\n",
      "dense_99 (Dense)             (None, 2)                 50178     \n",
      "_________________________________________________________________\n",
      "dense_100 (Dense)            (None, 2)                 6         \n",
      "_________________________________________________________________\n",
      "dense_101 (Dense)            (None, 1)                 3         \n",
      "=================================================================\n",
      "Total params: 50,187\n",
      "Trainable params: 50,187\n",
      "Non-trainable params: 0\n",
      "_________________________________________________________________\n"
     ]
    }
   ],
   "source": [
    "###########################################\n",
    "# Build model with parameters of best model\n",
    "###########################################\n",
    "\n",
    "def build_model():\n",
    "  model = keras.Sequential([\n",
    "    layers.Dense(2, kernel_initializer='random_uniform', activation=sigmoid, input_shape=[x_train.shape[1]]),\n",
    "    layers.Dense(2, kernel_initializer='random_uniform', activation=sigmoid),\n",
    "    layers.Dense(1)\n",
    "  ])\n",
    "\n",
    "  optimizer = keras.optimizers.RMSprop(0.01)\n",
    "\n",
    "  model.compile(loss='mean_squared_error',\n",
    "                optimizer=optimizer,\n",
    "                metrics=['mean_absolute_error', 'mean_squared_error'])\n",
    "  return model\n",
    "\n",
    "# compile model\n",
    "model = build_model()\n",
    "model.summary()"
   ]
  },
  {
   "cell_type": "code",
   "execution_count": 490,
   "metadata": {},
   "outputs": [
    {
     "name": "stdout",
     "output_type": "stream",
     "text": [
      "\n",
      "....................................................................................................\n",
      "....................................................................................................\n",
      "....................................................................................................\n",
      "....................................................................................................\n",
      "...................................................................................................."
     ]
    }
   ],
   "source": [
    "# Display training progress by printing a single dot for each completed epoch\n",
    "class PrintDot(keras.callbacks.Callback):\n",
    "  def on_epoch_end(self, epoch, logs):\n",
    "    if epoch % 100 == 0: print('')\n",
    "    print('.', end='')\n",
    "\n",
    "EPOCHS = 500\n",
    "\n",
    "##############\n",
    "# Train model\n",
    "#############\n",
    "\n",
    "history = model.fit(x_train, y_train,\n",
    "                    epochs=EPOCHS, validation_split = 0.3, verbose=0,batch_size=10,\n",
    "                    callbacks=[PrintDot()])"
   ]
  },
  {
   "cell_type": "code",
   "execution_count": 491,
   "metadata": {},
   "outputs": [
    {
     "data": {
      "text/html": [
       "<div>\n",
       "<style scoped>\n",
       "    .dataframe tbody tr th:only-of-type {\n",
       "        vertical-align: middle;\n",
       "    }\n",
       "\n",
       "    .dataframe tbody tr th {\n",
       "        vertical-align: top;\n",
       "    }\n",
       "\n",
       "    .dataframe thead th {\n",
       "        text-align: right;\n",
       "    }\n",
       "</style>\n",
       "<table border=\"1\" class=\"dataframe\">\n",
       "  <thead>\n",
       "    <tr style=\"text-align: right;\">\n",
       "      <th></th>\n",
       "      <th>loss</th>\n",
       "      <th>mean_absolute_error</th>\n",
       "      <th>mean_squared_error</th>\n",
       "      <th>val_loss</th>\n",
       "      <th>val_mean_absolute_error</th>\n",
       "      <th>val_mean_squared_error</th>\n",
       "      <th>epoch</th>\n",
       "    </tr>\n",
       "  </thead>\n",
       "  <tbody>\n",
       "    <tr>\n",
       "      <th>490</th>\n",
       "      <td>0.005859</td>\n",
       "      <td>0.055700</td>\n",
       "      <td>0.005859</td>\n",
       "      <td>2.339709</td>\n",
       "      <td>1.237774</td>\n",
       "      <td>2.339709</td>\n",
       "      <td>490</td>\n",
       "    </tr>\n",
       "    <tr>\n",
       "      <th>491</th>\n",
       "      <td>0.010196</td>\n",
       "      <td>0.076765</td>\n",
       "      <td>0.010196</td>\n",
       "      <td>2.340443</td>\n",
       "      <td>1.229853</td>\n",
       "      <td>2.340443</td>\n",
       "      <td>491</td>\n",
       "    </tr>\n",
       "    <tr>\n",
       "      <th>492</th>\n",
       "      <td>0.008247</td>\n",
       "      <td>0.066434</td>\n",
       "      <td>0.008247</td>\n",
       "      <td>2.320433</td>\n",
       "      <td>1.225748</td>\n",
       "      <td>2.320433</td>\n",
       "      <td>492</td>\n",
       "    </tr>\n",
       "    <tr>\n",
       "      <th>493</th>\n",
       "      <td>0.006822</td>\n",
       "      <td>0.063666</td>\n",
       "      <td>0.006822</td>\n",
       "      <td>2.371063</td>\n",
       "      <td>1.252503</td>\n",
       "      <td>2.371063</td>\n",
       "      <td>493</td>\n",
       "    </tr>\n",
       "    <tr>\n",
       "      <th>494</th>\n",
       "      <td>0.007548</td>\n",
       "      <td>0.064898</td>\n",
       "      <td>0.007548</td>\n",
       "      <td>2.307198</td>\n",
       "      <td>1.219715</td>\n",
       "      <td>2.307198</td>\n",
       "      <td>494</td>\n",
       "    </tr>\n",
       "    <tr>\n",
       "      <th>495</th>\n",
       "      <td>0.010011</td>\n",
       "      <td>0.070423</td>\n",
       "      <td>0.010011</td>\n",
       "      <td>2.350718</td>\n",
       "      <td>1.240586</td>\n",
       "      <td>2.350718</td>\n",
       "      <td>495</td>\n",
       "    </tr>\n",
       "    <tr>\n",
       "      <th>496</th>\n",
       "      <td>0.010588</td>\n",
       "      <td>0.073161</td>\n",
       "      <td>0.010588</td>\n",
       "      <td>2.373085</td>\n",
       "      <td>1.250641</td>\n",
       "      <td>2.373084</td>\n",
       "      <td>496</td>\n",
       "    </tr>\n",
       "    <tr>\n",
       "      <th>497</th>\n",
       "      <td>0.007426</td>\n",
       "      <td>0.060903</td>\n",
       "      <td>0.007426</td>\n",
       "      <td>2.374569</td>\n",
       "      <td>1.250413</td>\n",
       "      <td>2.374569</td>\n",
       "      <td>497</td>\n",
       "    </tr>\n",
       "    <tr>\n",
       "      <th>498</th>\n",
       "      <td>0.006509</td>\n",
       "      <td>0.058813</td>\n",
       "      <td>0.006508</td>\n",
       "      <td>2.361256</td>\n",
       "      <td>1.240084</td>\n",
       "      <td>2.361255</td>\n",
       "      <td>498</td>\n",
       "    </tr>\n",
       "    <tr>\n",
       "      <th>499</th>\n",
       "      <td>0.007396</td>\n",
       "      <td>0.062862</td>\n",
       "      <td>0.007396</td>\n",
       "      <td>2.313796</td>\n",
       "      <td>1.220664</td>\n",
       "      <td>2.313796</td>\n",
       "      <td>499</td>\n",
       "    </tr>\n",
       "  </tbody>\n",
       "</table>\n",
       "</div>"
      ],
      "text/plain": [
       "         loss  mean_absolute_error  mean_squared_error  val_loss  \\\n",
       "490  0.005859             0.055700            0.005859  2.339709   \n",
       "491  0.010196             0.076765            0.010196  2.340443   \n",
       "492  0.008247             0.066434            0.008247  2.320433   \n",
       "493  0.006822             0.063666            0.006822  2.371063   \n",
       "494  0.007548             0.064898            0.007548  2.307198   \n",
       "495  0.010011             0.070423            0.010011  2.350718   \n",
       "496  0.010588             0.073161            0.010588  2.373085   \n",
       "497  0.007426             0.060903            0.007426  2.374569   \n",
       "498  0.006509             0.058813            0.006508  2.361256   \n",
       "499  0.007396             0.062862            0.007396  2.313796   \n",
       "\n",
       "     val_mean_absolute_error  val_mean_squared_error  epoch  \n",
       "490                 1.237774                2.339709    490  \n",
       "491                 1.229853                2.340443    491  \n",
       "492                 1.225748                2.320433    492  \n",
       "493                 1.252503                2.371063    493  \n",
       "494                 1.219715                2.307198    494  \n",
       "495                 1.240586                2.350718    495  \n",
       "496                 1.250641                2.373084    496  \n",
       "497                 1.250413                2.374569    497  \n",
       "498                 1.240084                2.361255    498  \n",
       "499                 1.220664                2.313796    499  "
      ]
     },
     "execution_count": 491,
     "metadata": {},
     "output_type": "execute_result"
    }
   ],
   "source": [
    "hist = pd.DataFrame(history.history)\n",
    "hist['epoch'] = history.epoch\n",
    "hist.tail(10)"
   ]
  },
  {
   "cell_type": "code",
   "execution_count": 492,
   "metadata": {},
   "outputs": [
    {
     "data": {
      "image/png": "[encoded data removed]",
      "text/plain": [
       "<Figure size 1080x360 with 1 Axes>"
      ]
     },
     "metadata": {
      "needs_background": "light"
     },
     "output_type": "display_data"
    },
    {
     "data": {
      "image/png": "[encoded data removed]",
      "text/plain": [
       "<Figure size 1080x360 with 1 Axes>"
      ]
     },
     "metadata": {
      "needs_background": "light"
     },
     "output_type": "display_data"
    }
   ],
   "source": [
    "#####################\n",
    "# Plot training error \n",
    "#####################\n",
    "\n",
    "# When validation and training error start to diverge is a sign of overfitting\n",
    "# We want to stop training when both curves start to diverge\n",
    "\n",
    "def plot_history(history):\n",
    "  hist = pd.DataFrame(history.history)\n",
    "  hist['epoch'] = history.epoch\n",
    "  \n",
    "  plt.figure(figsize=(15, 5))\n",
    "  plt.xlabel('Epoch')\n",
    "  plt.ylabel('Mean Abs Error [AGE]')\n",
    "  plt.plot(hist['epoch'], hist['mean_absolute_error'],\n",
    "           label='Train Error')\n",
    "  plt.plot(hist['epoch'], hist['val_mean_absolute_error'],\n",
    "           label = 'Val Error')\n",
    "  plt.ylim([0,5])\n",
    "  plt.legend()\n",
    "  \n",
    "  plt.figure(figsize=(15, 5))\n",
    "  plt.xlabel('Epoch')\n",
    "  plt.ylabel('Mean Square Error [$AGE^2$]')\n",
    "  plt.plot(hist['epoch'], hist['mean_squared_error'],\n",
    "           label='Train Error')\n",
    "  plt.plot(hist['epoch'], hist['val_mean_squared_error'],\n",
    "           label = 'Val Error')\n",
    "  plt.ylim([0,20])\n",
    "  plt.legend()\n",
    "  plt.show()\n",
    "\n",
    "plot_history(history)"
   ]
  },
  {
   "cell_type": "code",
   "execution_count": 494,
   "metadata": {},
   "outputs": [
    {
     "name": "stdout",
     "output_type": "stream",
     "text": [
      "Mean absolute error:  1.445741\n",
      "Mean squared error:  3.2372303\n"
     ]
    }
   ],
   "source": [
    "#############\n",
    "# Get metrics\n",
    "#############\n",
    "\n",
    "# Create vector with nodel predictions for test set\n",
    "y_pred = model.predict(x_test)\n",
    "\n",
    "loss, mae, mse = model.evaluate(x_test, y_test, verbose=0)\n",
    "\n",
    "print(\"loss\", loss)\n",
    "print(\"Mean absolute error: \", mae)\n",
    "print(\"Mean squared error: \", mse)"
   ]
  },
  {
   "cell_type": "code",
   "execution_count": 496,
   "metadata": {},
   "outputs": [],
   "source": [
    "#########################\n",
    "# Create pandas dataframe\n",
    "#########################\n",
    "\n",
    "d_metrics = {'mean-abs-error': [mae], 'mean-sq-error': [mse]}\n",
    "df_metrics = pd.DataFrame(data=d_metrics)"
   ]
  },
  {
   "cell_type": "markdown",
   "metadata": {},
   "source": [
    "# Model training and results with PCA vector-features"
   ]
  },
  {
   "cell_type": "code",
   "execution_count": 503,
   "metadata": {},
   "outputs": [
    {
     "name": "stdout",
     "output_type": "stream",
     "text": [
      "_________________________________________________________________\n",
      "Layer (type)                 Output Shape              Param #   \n",
      "=================================================================\n",
      "dense_108 (Dense)            (None, 2)                 302       \n",
      "_________________________________________________________________\n",
      "dense_109 (Dense)            (None, 2)                 6         \n",
      "_________________________________________________________________\n",
      "dense_110 (Dense)            (None, 1)                 3         \n",
      "=================================================================\n",
      "Total params: 311\n",
      "Trainable params: 311\n",
      "Non-trainable params: 0\n",
      "_________________________________________________________________\n"
     ]
    }
   ],
   "source": [
    "###########################################\n",
    "# Build model with parameters of best model\n",
    "###########################################\n",
    "\n",
    "# Change [x_train.shape[1]] to [x_train_pca.shape[1]]\n",
    "\n",
    "def build_model():\n",
    "  model = keras.Sequential([\n",
    "    layers.Dense(2, kernel_initializer='random_uniform', activation=sigmoid, input_shape=[x_train_pca.shape[1]]),\n",
    "    layers.Dense(2, kernel_initializer='random_uniform', activation=sigmoid),\n",
    "    layers.Dense(1)\n",
    "  ])\n",
    "\n",
    "  optimizer = keras.optimizers.RMSprop(0.01)\n",
    "\n",
    "  model.compile(loss='mean_squared_error',\n",
    "                optimizer=optimizer,\n",
    "                metrics=['mean_absolute_error', 'mean_squared_error'])\n",
    "  return model\n",
    "\n",
    "# compile model\n",
    "model = build_model()\n",
    "model.summary()"
   ]
  },
  {
   "cell_type": "code",
   "execution_count": 504,
   "metadata": {},
   "outputs": [
    {
     "name": "stdout",
     "output_type": "stream",
     "text": [
      "\n",
      ".................................................."
     ]
    }
   ],
   "source": [
    "# Display training progress by printing a single dot for each completed epoch\n",
    "class PrintDot(keras.callbacks.Callback):\n",
    "  def on_epoch_end(self, epoch, logs):\n",
    "    if epoch % 100 == 0: print('')\n",
    "    print('.', end='')\n",
    "\n",
    "EPOCHS = 50\n",
    "\n",
    "##############\n",
    "# Train model\n",
    "#############\n",
    "\n",
    "history = model.fit(x_train_pca, y_train,\n",
    "                    epochs=EPOCHS, validation_split = 0.3, verbose=0,batch_size=10,\n",
    "                    callbacks=[PrintDot()])"
   ]
  },
  {
   "cell_type": "code",
   "execution_count": 505,
   "metadata": {},
   "outputs": [
    {
     "data": {
      "text/html": [
       "<div>\n",
       "<style scoped>\n",
       "    .dataframe tbody tr th:only-of-type {\n",
       "        vertical-align: middle;\n",
       "    }\n",
       "\n",
       "    .dataframe tbody tr th {\n",
       "        vertical-align: top;\n",
       "    }\n",
       "\n",
       "    .dataframe thead th {\n",
       "        text-align: right;\n",
       "    }\n",
       "</style>\n",
       "<table border=\"1\" class=\"dataframe\">\n",
       "  <thead>\n",
       "    <tr style=\"text-align: right;\">\n",
       "      <th></th>\n",
       "      <th>loss</th>\n",
       "      <th>mean_absolute_error</th>\n",
       "      <th>mean_squared_error</th>\n",
       "      <th>val_loss</th>\n",
       "      <th>val_mean_absolute_error</th>\n",
       "      <th>val_mean_squared_error</th>\n",
       "      <th>epoch</th>\n",
       "    </tr>\n",
       "  </thead>\n",
       "  <tbody>\n",
       "    <tr>\n",
       "      <th>45</th>\n",
       "      <td>0.972173</td>\n",
       "      <td>0.748992</td>\n",
       "      <td>0.972173</td>\n",
       "      <td>2.077427</td>\n",
       "      <td>1.165791</td>\n",
       "      <td>2.077427</td>\n",
       "      <td>45</td>\n",
       "    </tr>\n",
       "    <tr>\n",
       "      <th>46</th>\n",
       "      <td>0.917985</td>\n",
       "      <td>0.726177</td>\n",
       "      <td>0.917985</td>\n",
       "      <td>2.092946</td>\n",
       "      <td>1.174905</td>\n",
       "      <td>2.092947</td>\n",
       "      <td>46</td>\n",
       "    </tr>\n",
       "    <tr>\n",
       "      <th>47</th>\n",
       "      <td>0.857588</td>\n",
       "      <td>0.706194</td>\n",
       "      <td>0.857588</td>\n",
       "      <td>2.088280</td>\n",
       "      <td>1.177939</td>\n",
       "      <td>2.088280</td>\n",
       "      <td>47</td>\n",
       "    </tr>\n",
       "    <tr>\n",
       "      <th>48</th>\n",
       "      <td>0.810036</td>\n",
       "      <td>0.679274</td>\n",
       "      <td>0.810036</td>\n",
       "      <td>2.095145</td>\n",
       "      <td>1.183731</td>\n",
       "      <td>2.095145</td>\n",
       "      <td>48</td>\n",
       "    </tr>\n",
       "    <tr>\n",
       "      <th>49</th>\n",
       "      <td>0.763936</td>\n",
       "      <td>0.657157</td>\n",
       "      <td>0.763936</td>\n",
       "      <td>2.104901</td>\n",
       "      <td>1.188816</td>\n",
       "      <td>2.104901</td>\n",
       "      <td>49</td>\n",
       "    </tr>\n",
       "  </tbody>\n",
       "</table>\n",
       "</div>"
      ],
      "text/plain": [
       "        loss  mean_absolute_error  mean_squared_error  val_loss  \\\n",
       "45  0.972173             0.748992            0.972173  2.077427   \n",
       "46  0.917985             0.726177            0.917985  2.092946   \n",
       "47  0.857588             0.706194            0.857588  2.088280   \n",
       "48  0.810036             0.679274            0.810036  2.095145   \n",
       "49  0.763936             0.657157            0.763936  2.104901   \n",
       "\n",
       "    val_mean_absolute_error  val_mean_squared_error  epoch  \n",
       "45                 1.165791                2.077427     45  \n",
       "46                 1.174905                2.092947     46  \n",
       "47                 1.177939                2.088280     47  \n",
       "48                 1.183731                2.095145     48  \n",
       "49                 1.188816                2.104901     49  "
      ]
     },
     "execution_count": 505,
     "metadata": {},
     "output_type": "execute_result"
    }
   ],
   "source": [
    "hist = pd.DataFrame(history.history)\n",
    "hist['epoch'] = history.epoch\n",
    "hist.tail(5)"
   ]
  },
  {
   "cell_type": "code",
   "execution_count": 506,
   "metadata": {},
   "outputs": [
    {
     "data": {
      "image/png": "[encoded data removed]",
      "text/plain": [
       "<Figure size 1080x360 with 1 Axes>"
      ]
     },
     "metadata": {
      "needs_background": "light"
     },
     "output_type": "display_data"
    },
    {
     "data": {
      "image/png": "[encoded data removed]",
      "text/plain": [
       "<Figure size 1080x360 with 1 Axes>"
      ]
     },
     "metadata": {
      "needs_background": "light"
     },
     "output_type": "display_data"
    }
   ],
   "source": [
    "#####################\n",
    "# Plot training error \n",
    "#####################\n",
    "\n",
    "# When validation and training error start to diverge is a sign of overfitting\n",
    "# We want to stop training when both curves start to diverge\n",
    "\n",
    "plot_history(history)"
   ]
  },
  {
   "cell_type": "code",
   "execution_count": 507,
   "metadata": {},
   "outputs": [
    {
     "name": "stdout",
     "output_type": "stream",
     "text": [
      "loss PCA 3.308254886091801\n",
      "Mean absolute error PCA:  1.4553988\n",
      "Mean squared error PCA:  3.308255\n"
     ]
    }
   ],
   "source": [
    "#############\n",
    "# Get metrics\n",
    "#############\n",
    "\n",
    "# Create vector with nodel predictions for test set\n",
    "y_pred_pca = model.predict(x_test_pca)\n",
    "\n",
    "loss_pca, mae_pca, mse_pca = model.evaluate(x_test_pca, y_test, verbose=0)\n",
    "\n",
    "print(\"loss PCA\", loss_pca)\n",
    "print(\"Mean absolute error PCA: \", mae_pca)\n",
    "print(\"Mean squared error PCA: \", mse_pca)"
   ]
  },
  {
   "cell_type": "markdown",
   "metadata": {},
   "source": [
    "## Model training and results with MDA embeddings\n"
   ]
  },
  {
   "cell_type": "code",
   "execution_count": 508,
   "metadata": {},
   "outputs": [
    {
     "name": "stdout",
     "output_type": "stream",
     "text": [
      "_________________________________________________________________\n",
      "Layer (type)                 Output Shape              Param #   \n",
      "=================================================================\n",
      "dense_111 (Dense)            (None, 2)                 8         \n",
      "_________________________________________________________________\n",
      "dense_112 (Dense)            (None, 2)                 6         \n",
      "_________________________________________________________________\n",
      "dense_113 (Dense)            (None, 1)                 3         \n",
      "=================================================================\n",
      "Total params: 17\n",
      "Trainable params: 17\n",
      "Non-trainable params: 0\n",
      "_________________________________________________________________\n"
     ]
    }
   ],
   "source": [
    "###########################################\n",
    "# Build model with parameters of best model\n",
    "###########################################\n",
    "\n",
    "# Change [x_train.shape[1]] to [x_train_mde.shape[1]]\n",
    "\n",
    "def build_model():\n",
    "  model = keras.Sequential([\n",
    "    layers.Dense(2, kernel_initializer='random_uniform', activation=sigmoid, input_shape=[x_train_mde.shape[1]]),\n",
    "    layers.Dense(2, kernel_initializer='random_uniform', activation=sigmoid),\n",
    "    layers.Dense(1)\n",
    "  ])\n",
    "\n",
    "  optimizer = keras.optimizers.RMSprop(0.01)\n",
    "\n",
    "  model.compile(loss='mean_squared_error',\n",
    "                optimizer=optimizer,\n",
    "                metrics=['mean_absolute_error', 'mean_squared_error'])\n",
    "  return model\n",
    "\n",
    "# compile model\n",
    "model = build_model()\n",
    "model.summary()"
   ]
  },
  {
   "cell_type": "code",
   "execution_count": 509,
   "metadata": {},
   "outputs": [
    {
     "name": "stdout",
     "output_type": "stream",
     "text": [
      "\n",
      "....................................................................................................\n",
      "....................................................................................................\n",
      "....................................................................................................\n",
      "....................................................................................................\n",
      "...................................................................................................."
     ]
    }
   ],
   "source": [
    "# Display training progress by printing a single dot for each completed epoch\n",
    "class PrintDot(keras.callbacks.Callback):\n",
    "  def on_epoch_end(self, epoch, logs):\n",
    "    if epoch % 100 == 0: print('')\n",
    "    print('.', end='')\n",
    "\n",
    "EPOCHS = 500\n",
    "\n",
    "##############\n",
    "# Train model\n",
    "#############\n",
    "\n",
    "history = model.fit(x_train_mde, y_train,\n",
    "                    epochs=EPOCHS, validation_split = 0.3, verbose=0,batch_size=10,\n",
    "                    callbacks=[PrintDot()])"
   ]
  },
  {
   "cell_type": "code",
   "execution_count": 510,
   "metadata": {},
   "outputs": [
    {
     "data": {
      "text/html": [
       "<div>\n",
       "<style scoped>\n",
       "    .dataframe tbody tr th:only-of-type {\n",
       "        vertical-align: middle;\n",
       "    }\n",
       "\n",
       "    .dataframe tbody tr th {\n",
       "        vertical-align: top;\n",
       "    }\n",
       "\n",
       "    .dataframe thead th {\n",
       "        text-align: right;\n",
       "    }\n",
       "</style>\n",
       "<table border=\"1\" class=\"dataframe\">\n",
       "  <thead>\n",
       "    <tr style=\"text-align: right;\">\n",
       "      <th></th>\n",
       "      <th>loss</th>\n",
       "      <th>mean_absolute_error</th>\n",
       "      <th>mean_squared_error</th>\n",
       "      <th>val_loss</th>\n",
       "      <th>val_mean_absolute_error</th>\n",
       "      <th>val_mean_squared_error</th>\n",
       "      <th>epoch</th>\n",
       "    </tr>\n",
       "  </thead>\n",
       "  <tbody>\n",
       "    <tr>\n",
       "      <th>495</th>\n",
       "      <td>2.027583</td>\n",
       "      <td>1.116852</td>\n",
       "      <td>2.027583</td>\n",
       "      <td>2.255226</td>\n",
       "      <td>1.183873</td>\n",
       "      <td>2.255226</td>\n",
       "      <td>495</td>\n",
       "    </tr>\n",
       "    <tr>\n",
       "      <th>496</th>\n",
       "      <td>2.028776</td>\n",
       "      <td>1.118953</td>\n",
       "      <td>2.028776</td>\n",
       "      <td>2.253994</td>\n",
       "      <td>1.183376</td>\n",
       "      <td>2.253994</td>\n",
       "      <td>496</td>\n",
       "    </tr>\n",
       "    <tr>\n",
       "      <th>497</th>\n",
       "      <td>2.034100</td>\n",
       "      <td>1.111901</td>\n",
       "      <td>2.034100</td>\n",
       "      <td>2.252106</td>\n",
       "      <td>1.182153</td>\n",
       "      <td>2.252106</td>\n",
       "      <td>497</td>\n",
       "    </tr>\n",
       "    <tr>\n",
       "      <th>498</th>\n",
       "      <td>2.030961</td>\n",
       "      <td>1.117063</td>\n",
       "      <td>2.030961</td>\n",
       "      <td>2.252642</td>\n",
       "      <td>1.182481</td>\n",
       "      <td>2.252642</td>\n",
       "      <td>498</td>\n",
       "    </tr>\n",
       "    <tr>\n",
       "      <th>499</th>\n",
       "      <td>2.037960</td>\n",
       "      <td>1.126593</td>\n",
       "      <td>2.037960</td>\n",
       "      <td>2.249745</td>\n",
       "      <td>1.181629</td>\n",
       "      <td>2.249745</td>\n",
       "      <td>499</td>\n",
       "    </tr>\n",
       "  </tbody>\n",
       "</table>\n",
       "</div>"
      ],
      "text/plain": [
       "         loss  mean_absolute_error  mean_squared_error  val_loss  \\\n",
       "495  2.027583             1.116852            2.027583  2.255226   \n",
       "496  2.028776             1.118953            2.028776  2.253994   \n",
       "497  2.034100             1.111901            2.034100  2.252106   \n",
       "498  2.030961             1.117063            2.030961  2.252642   \n",
       "499  2.037960             1.126593            2.037960  2.249745   \n",
       "\n",
       "     val_mean_absolute_error  val_mean_squared_error  epoch  \n",
       "495                 1.183873                2.255226    495  \n",
       "496                 1.183376                2.253994    496  \n",
       "497                 1.182153                2.252106    497  \n",
       "498                 1.182481                2.252642    498  \n",
       "499                 1.181629                2.249745    499  "
      ]
     },
     "execution_count": 510,
     "metadata": {},
     "output_type": "execute_result"
    }
   ],
   "source": [
    "hist = pd.DataFrame(history.history)\n",
    "hist['epoch'] = history.epoch\n",
    "hist.tail(5)"
   ]
  },
  {
   "cell_type": "code",
   "execution_count": 512,
   "metadata": {},
   "outputs": [
    {
     "data": {
      "image/png": "[encoded data removed]",
      "text/plain": [
       "<Figure size 1080x360 with 1 Axes>"
      ]
     },
     "metadata": {
      "needs_background": "light"
     },
     "output_type": "display_data"
    },
    {
     "data": {
      "image/png": "[encoded data removed]",
      "text/plain": [
       "<Figure size 1080x360 with 1 Axes>"
      ]
     },
     "metadata": {
      "needs_background": "light"
     },
     "output_type": "display_data"
    }
   ],
   "source": [
    "#####################\n",
    "# Plot training error \n",
    "#####################\n",
    "\n",
    "# When validation and training error start to diverge is a sign of overfitting\n",
    "# We want to stop training when both curves start to diverge\n",
    "\n",
    "plot_history(history)"
   ]
  },
  {
   "cell_type": "code",
   "execution_count": 513,
   "metadata": {},
   "outputs": [
    {
     "name": "stdout",
     "output_type": "stream",
     "text": [
      "loss MDA 2.669814766499034\n",
      "Mean absolute error MDA:  1.2894275\n",
      "Mean squared error MDA:  2.6698148\n"
     ]
    }
   ],
   "source": [
    "#############\n",
    "# Get metrics\n",
    "#############\n",
    "\n",
    "# Create vector with nodel predictions for test set\n",
    "y_pred_mda = model.predict(x_test_mde)\n",
    "\n",
    "loss_mda, mae_mda, mse_mda = model.evaluate(x_test_mde, y_test, verbose=0)\n",
    "\n",
    "print(\"loss MDA\", loss_mda)\n",
    "print(\"Mean absolute error MDA: \", mae_mda)\n",
    "print(\"Mean squared error MDA: \", mse_mda)"
   ]
  },
  {
   "cell_type": "markdown",
   "metadata": {},
   "source": [
    "## Linear regression "
   ]
  },
  {
   "cell_type": "code",
   "execution_count": 522,
   "metadata": {},
   "outputs": [
    {
     "name": "stdout",
     "output_type": "stream",
     "text": [
      "Mean absolute error: 1.49\n",
      "Mean squared error: 3.27\n",
      "Mean absolute error PCA: 4.35\n",
      "Mean squared error PCA: 36.24\n",
      "Mean absolute error MDA: 1.28\n",
      "Mean squared error MDA: 2.67\n"
     ]
    }
   ],
   "source": [
    "# Lets create a baseline with linear regression\n",
    "\n",
    "from sklearn import linear_model\n",
    "from sklearn.metrics import mean_squared_error, mean_absolute_error\n",
    "\n",
    "# Create linear regression object\n",
    "regr = linear_model.LinearRegression()\n",
    "regr_pca = linear_model.LinearRegression()\n",
    "regr_mda = linear_model.LinearRegression()\n",
    "\n",
    "# Train the model with all features\n",
    "regr.fit(x_train, y_train)\n",
    "# Train model with PCA features\n",
    "regr_pca.fit(x_train_pca, y_train)\n",
    "# Train model with MDA features\n",
    "regr_mda.fit(x_train_mde, y_train)\n",
    "\n",
    "\n",
    "# Make predictions using the testing set\n",
    "y_pred_lin = regr.predict(x_test)\n",
    "y_pred_pca = regr_pca.predict(x_test_pca)\n",
    "y_pred_mda = regr_mda.predict(x_test_mde)\n",
    "\n",
    "# Metrics with all vectors\n",
    "print('Mean absolute error: %.2f' % mean_absolute_error(y_test, y_pred_lin))\n",
    "print(\"Mean squared error: %.2f\" % mean_squared_error(y_test, y_pred_lin))\n",
    "# Metrics with all vectors\n",
    "print('Mean absolute error PCA: %.2f' % mean_absolute_error(y_test, y_pred_pca))\n",
    "print(\"Mean squared error PCA: %.2f\" % mean_squared_error(y_test, y_pred_pca))\n",
    "# Metrics with all vectors\n",
    "print('Mean absolute error MDA: %.2f' % mean_absolute_error(y_test, y_pred_mda))\n",
    "print(\"Mean squared error MDA: %.2f\" % mean_squared_error(y_test, y_pred_mda))"
   ]
  },
  {
   "cell_type": "code",
   "execution_count": 524,
   "metadata": {},
   "outputs": [
    {
     "name": "stdout",
     "output_type": "stream",
     "text": [
      "NEURAL NET RESULTS:  \n",
      "\n",
      "Mean absolute error:  1.45\n",
      "Mean squared error:  3.24\n",
      "Mean absolute error PCA:  1.46\n",
      "Mean squared error PCA:  3.31\n",
      "Mean absolute error MDA:  1.29\n",
      "Mean squared error MDA:  2.67\n",
      "LINEAR REGRESSION RESULTS:  \n",
      "\n",
      "Mean absolute error: 1.49\n",
      "Mean squared error: 3.27\n",
      "Mean absolute error PCA: 4.35\n",
      "Mean squared error PCA: 36.24\n",
      "Mean absolute error MDA: 1.28\n",
      "Mean squared error MDA: 2.67\n"
     ]
    }
   ],
   "source": [
    "####################\n",
    "# Neural net results\n",
    "####################\n",
    "\n",
    "print(\"NEURAL NET RESULTS: \", \"\\n\")\n",
    "\n",
    "print(\"Mean absolute error: \", round(mae, 2))\n",
    "print(\"Mean squared error: \", round(mse, 2))\n",
    "print(\"Mean absolute error PCA: \", round(mae_pca,2))\n",
    "print(\"Mean squared error PCA: \", round(mse_pca,2))\n",
    "print(\"Mean absolute error MDA: \", round(mae_mda,2))\n",
    "print(\"Mean squared error MDA: \", round(mse_mda,2))\n",
    "\n",
    "print(\"LINEAR REGRESSION RESULTS: \", \"\\n\")\n",
    "\n",
    "# Metrics with all vectors\n",
    "print('Mean absolute error: %.2f' % mean_absolute_error(y_test, y_pred_lin))\n",
    "print(\"Mean squared error: %.2f\" % mean_squared_error(y_test, y_pred_lin))\n",
    "# Metrics with all vectors\n",
    "print('Mean absolute error PCA: %.2f' % mean_absolute_error(y_test, y_pred_pca))\n",
    "print(\"Mean squared error PCA: %.2f\" % mean_squared_error(y_test, y_pred_pca))\n",
    "# Metrics with all vectors\n",
    "print('Mean absolute error MDA: %.2f' % mean_absolute_error(y_test, y_pred_mda))\n",
    "print(\"Mean squared error MDA: %.2f\" % mean_squared_error(y_test, y_pred_mda))"
   ]
  },
  {
   "cell_type": "markdown",
   "metadata": {},
   "source": [
    "## Summary\n",
    "\n",
    "The best results are obtained with MDA-3D embeddings, with mean absolute error of 1.29 for the neural net and 1.28 for the linear regression model.  "
   ]
  }
 ],
 "metadata": {
  "kernelspec": {
   "display_name": "Python 3",
   "language": "python",
   "name": "python3"
  },
  "language_info": {
   "codemirror_mode": {
    "name": "ipython",
    "version": 3
   },
   "file_extension": ".py",
   "mimetype": "text/x-python",
   "name": "python",
   "nbconvert_exporter": "python",
   "pygments_lexer": "ipython3",
   "version": "3.6.8"
  }
 },
 "nbformat": 4,
 "nbformat_minor": 2
}
