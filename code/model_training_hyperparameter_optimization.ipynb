{
  "nbformat": 4,
  "nbformat_minor": 0,
  "metadata": {
    "colab": {
      "name": "model_training_hyperparameter_optimization.ipynb",
      "version": "0.3.2",
      "provenance": [],
      "toc_visible": true,
      "include_colab_link": true
    },
    "kernelspec": {
      "name": "python3",
      "display_name": "Python 3"
    },
    "accelerator": "GPU"
  },
  "cells": [
    {
      "cell_type": "markdown",
      "metadata": {
        "id": "view-in-github",
        "colab_type": "text"
      },
      "source": [
        "<a href=\"https://colab.research.google.com/github/pabloinsente/CovNet_Human_Drawings/blob/master/code/model_training_hyperparameter_optimization.ipynb\" target=\"_parent\"><img src=\"https://colab.research.google.com/assets/colab-badge.svg\" alt=\"Open In Colab\"/></a>"
      ]
    },
    {
      "metadata": {
        "id": "R6LRZjUh8mcM",
        "colab_type": "text"
      },
      "cell_type": "markdown",
      "source": [
        "# Model training and hyperparameter optimization for Age-prediction\n",
        "Here we use Keras and the Talos library to set up the hyperparameter optimization. \n",
        "\n",
        "***Warning***: since we are using colab, we need to (1) install talos (2) re-start the running environment (to update some packages that Talos needs to un) before running the optimization.  "
      ]
    },
    {
      "metadata": {
        "id": "3oEwJCxQRSIn",
        "colab_type": "code",
        "colab": {}
      },
      "cell_type": "code",
      "source": [
        "!pip install talos"
      ],
      "execution_count": 0,
      "outputs": []
    },
    {
      "metadata": {
        "id": "LVwIGgW9N9v7",
        "colab_type": "code",
        "colab": {}
      },
      "cell_type": "code",
      "source": [
        "# Let's import Talos, Keras, and dependencies\n",
        "\n",
        "import talos as ta\n",
        "from talos.metrics.keras_metrics import precision_acc, recall_acc, matthews_correlation_acc, fmeasure_acc\n",
        "from talos.model.normalizers import lr_normalizer\n",
        "from talos.utils.best_model import best_model, activate_model\n",
        "from talos import Predict\n",
        "\n",
        "from keras.activations import relu, elu, sigmoid\n",
        "from keras.optimizers import Adam, Nadam, RMSprop\n",
        "from keras.losses import binary_crossentropy, logcosh\n",
        "from keras.models import Sequential\n",
        "from keras.layers import Dense, Dropout\n",
        "\n",
        "from sklearn.model_selection import train_test_split\n",
        "\n",
        "from imblearn.over_sampling import RandomOverSampler \n",
        "\n",
        "from numpy import genfromtxt\n",
        "from collections import Counter\n",
        "\n",
        "\n",
        "import seaborn as sns\n",
        "import matplotlib.pyplot as plt\n",
        "%matplotlib inline"
      ],
      "execution_count": 0,
      "outputs": []
    },
    {
      "metadata": {
        "id": "jN0uSEPf8QBS",
        "colab_type": "text"
      },
      "cell_type": "markdown",
      "source": [
        "## Data preparation\n",
        "First, we need to split the data into training and testing as usual. The training dataset will be feed into the model training and optimization process The testing data will be used to evalute the model. "
      ]
    },
    {
      "metadata": {
        "id": "oGx8tVOIQ_6U",
        "colab_type": "code",
        "colab": {}
      },
      "cell_type": "code",
      "source": [
        "# Clone the data into Colab\n",
        "! git clone https://github.com/pabloinsente/CovNet_Human_Drawings"
      ],
      "execution_count": 0,
      "outputs": []
    },
    {
      "metadata": {
        "id": "MU75iiW7VYIj",
        "colab_type": "code",
        "colab": {
          "base_uri": "https://localhost:8080/",
          "height": 52
        },
        "outputId": "090806f6-0742-4eb9-af52-83a1a86a39d3"
      },
      "cell_type": "code",
      "source": [
        "# Get data\n",
        "x_path= 'CovNet_Human_Drawings/data/merged_dataframes_prediction/x_train_drawings_features_max_pool_5_pca.csv'\n",
        "y_path = 'CovNet_Human_Drawings/data/merged_dataframes_prediction/y_train_age_adult_labels.csv'\n",
        "\n",
        "x = genfromtxt(x_path, delimiter=',')\n",
        "y = genfromtxt(y_path, delimiter=',')\n",
        "\n",
        "print(x.shape) # (258, 200)\n",
        "print(y.shape) # (258,)"
      ],
      "execution_count": 137,
      "outputs": [
        {
          "output_type": "stream",
          "text": [
            "(258, 200)\n",
            "(258,)\n"
          ],
          "name": "stdout"
        }
      ]
    },
    {
      "metadata": {
        "id": "pXlWYvau94lp",
        "colab_type": "code",
        "colab": {
          "base_uri": "https://localhost:8080/",
          "height": 275
        },
        "outputId": "22ef70b4-e229-423a-b6c2-9a860dda2500"
      },
      "cell_type": "code",
      "source": [
        "# Let's look at the distribution of 0s and 1s\n",
        "\n",
        "colors = ['#ef8a62' if v == 0 else '#67a9cf' for v in y]\n",
        "kwarg_params = {'linewidth': 1, 'edgecolor': 'black'}\n",
        "fig = plt.Figure(figsize=(12,6))\n",
        "plt.scatter(x[:, 0], x[:, 1], c=colors, **kwarg_params)\n",
        "sns.despine()"
      ],
      "execution_count": 138,
      "outputs": [
        {
          "output_type": "display_data",
          "data": {
            "image/png": "[encoded data removed]",
            "text/plain": [
              "<Figure size 432x288 with 1 Axes>"
            ]
          },
          "metadata": {
            "tags": []
          }
        }
      ]
    },
    {
      "metadata": {
        "id": "IjFd7wkTjvk2",
        "colab_type": "code",
        "colab": {
          "base_uri": "https://localhost:8080/",
          "height": 87
        },
        "outputId": "8602fb3f-a49b-4fe5-c770-28b8131ba43e"
      },
      "cell_type": "code",
      "source": [
        "# Split data into train and test sets\n",
        "# Since we have an small sample, we will do a 70/30 split\n",
        "\n",
        "x_train, x_test, y_train, y_test = train_test_split(x, y, test_size = 0.3, random_state=44)\n",
        "print(x_train.shape) \n",
        "print(y_train.shape) \n",
        "print(x_test.shape) \n",
        "print(y_test.shape)"
      ],
      "execution_count": 139,
      "outputs": [
        {
          "output_type": "stream",
          "text": [
            "(180, 200)\n",
            "(180,)\n",
            "(78, 200)\n",
            "(78,)\n"
          ],
          "name": "stdout"
        }
      ]
    },
    {
      "metadata": {
        "id": "mTqZ23N5_fdM",
        "colab_type": "text"
      },
      "cell_type": "markdown",
      "source": [
        "###Resampling imbalanced data\n",
        "Since our classes are imbalanced, we will use oversampling of the \"adult\" class **on the training set**  to help training on that class. *imblearn* implement oversampling for us\n",
        "\n",
        "**See documentantion at** https://imbalanced-learn.readthedocs.io/en/stable/generated/imblearn.over_sampling.RandomOverSampler.html"
      ]
    },
    {
      "metadata": {
        "id": "4eQpvM3_6wTS",
        "colab_type": "code",
        "colab": {}
      },
      "cell_type": "code",
      "source": [
        "ros = RandomOverSampler(random_state=42)\n",
        "x_train_res, y_train_res = ros.fit_resample(x_train, y_train)"
      ],
      "execution_count": 0,
      "outputs": []
    },
    {
      "metadata": {
        "id": "CAgEjbau7-cF",
        "colab_type": "code",
        "colab": {
          "base_uri": "https://localhost:8080/",
          "height": 69
        },
        "outputId": "1adf0b38-ea82-4595-eaf8-87fb59eb5006"
      },
      "cell_type": "code",
      "source": [
        "print(x_train_res.shape) # (258, 200)\n",
        "print(y_train_res.shape) # (258,)\n",
        "print('Resampled dataset shape %s' % Counter(y_train_res))\n",
        "\n",
        "# Now we have 50/50 balanced classes"
      ],
      "execution_count": 143,
      "outputs": [
        {
          "output_type": "stream",
          "text": [
            "(286, 200)\n",
            "(286,)\n",
            "Resampled dataset shape Counter({1.0: 143, 0.0: 143})\n"
          ],
          "name": "stdout"
        }
      ]
    },
    {
      "metadata": {
        "id": "pAg1wGr_8AG1",
        "colab_type": "text"
      },
      "cell_type": "markdown",
      "source": [
        "## Model Definition\n",
        "Here we define the model using Keras. The main point is to pass all the arguments as keys of a Python dictionary instead of variables"
      ]
    },
    {
      "metadata": {
        "id": "LmQPGeHVMvFv",
        "colab_type": "code",
        "colab": {}
      },
      "cell_type": "code",
      "source": [
        "# define model\n",
        "def input_model(x_train, y_train, x_val, y_val, params):\n",
        "  model = Sequential()\n",
        "  # add hidden layer\n",
        "  model.add(Dense(params['first_neuron'], \n",
        "                  input_dim=x_train.shape[1], \n",
        "                  activation=params['activation'],\n",
        "                  kernel_initializer = params['kernel_initializer']))\n",
        "  # add dropout layer\n",
        "  model.add(Dropout(params['dropout']))\n",
        "  # add output layer\n",
        "  model.add(Dense(1,activation=params['last_activation'],\n",
        "                  kernel_initializer = params['kernel_initializer']))\n",
        "  # compile model\n",
        "  model.compile(loss=params['losses'],\n",
        "                optimizer=params['optimizer'](lr=lr_normalizer(params['lr'], params['optimizer'])),\n",
        "                metrics=['acc', fmeasure_acc, recall_acc, precision_acc, matthews_correlation_acc])\n",
        "  # train model\n",
        "  out = model.fit(x_train, y_train,\n",
        "                  validation_data=[x_val, y_val],\n",
        "                  batch_size=params['batch_size'],\n",
        "                  epochs=params['epochs'],\n",
        "                  verbose = 0)\n",
        "  return out, model"
      ],
      "execution_count": 0,
      "outputs": []
    },
    {
      "metadata": {
        "id": "6SqVZ7dM7uG-",
        "colab_type": "text"
      },
      "cell_type": "markdown",
      "source": [
        "## Setting the Parameter Space Boundaries \n",
        "here we create a dictionary, which will then be passed on to Talos together with the model above. Here we have three different ways to input values:\n",
        "\n",
        "- as stepped ranges (min, max, steps)\n",
        "- as multiple values [in a list]\n",
        "- as a single value [in a list]"
      ]
    },
    {
      "metadata": {
        "id": "dI3vgOBzlAPN",
        "colab_type": "code",
        "colab": {}
      },
      "cell_type": "code",
      "source": [
        "# set hyperparameters to optimize\n",
        "p = {'first_neuron': [4, 8, 16, 32, 64],\n",
        "     'activation': [relu, sigmoid],\n",
        "     'optimizer': [Nadam, Adam],\n",
        "     'losses':[binary_crossentropy],\n",
        "     'hidden_layers':[0, 1, 2],\n",
        "     'batch_size': [10, 20, 40],\n",
        "     'epochs':[10, 25, 50, 100, 150],\n",
        "     'dropout': [0, 0.1, 0.2],\n",
        "     'kernel_initializer': ['uniform','normal'],\n",
        "     'lr':[0.001, 0.01, 0.1, 0.2],\n",
        "     'last_activation': ['sigmoid']}"
      ],
      "execution_count": 0,
      "outputs": []
    },
    {
      "metadata": {
        "id": "lwNKsUF_7WIA",
        "colab_type": "text"
      },
      "cell_type": "markdown",
      "source": [
        "## Running the hyperparameter optimization with Scan() \n",
        "Now we are ready to run the model based on the parameters and the layer configuration above. The exact same process would apply with any other model, just make sure to pass the model function name in the Scan() command as in the below example.\n",
        "\n"
      ]
    },
    {
      "metadata": {
        "id": "KPtOn24CUsEO",
        "colab_type": "code",
        "colab": {}
      },
      "cell_type": "code",
      "source": [
        "# starting optimization\n",
        "h = ta.Scan(x= x_train_res, y=y_train_res,\n",
        "            params=p,\n",
        "            model=input_model,\n",
        "            # I use .29 split because that is ~20% of all data\n",
        "            val_split = 0.29,\n",
        "            dataset_name='Draw_a_person',\n",
        "            experiment_no='experiment_5',\n",
        "            grid_downsample=.1)"
      ],
      "execution_count": 0,
      "outputs": []
    },
    {
      "metadata": {
        "id": "vzXz0OXr66kG",
        "colab_type": "text"
      },
      "cell_type": "markdown",
      "source": [
        "## Accessing the results through the Scan object\n",
        "The scan object saves all the necessary information for analysis and deployment\n",
        "**See source code at** https://github.com/autonomio/talos/blob/daily-dev/talos/scan/Scan.py"
      ]
    },
    {
      "metadata": {
        "id": "3jLhYJQ4t5lQ",
        "colab_type": "code",
        "colab": {}
      },
      "cell_type": "code",
      "source": [
        "# accessing the results data frame\n",
        "h.data[0:3]"
      ],
      "execution_count": 0,
      "outputs": []
    },
    {
      "metadata": {
        "id": "DkT24zd8xE3Z",
        "colab_type": "code",
        "colab": {}
      },
      "cell_type": "code",
      "source": [
        "# sort by criteria\n",
        "# h.data.sort_values('val_acc')"
      ],
      "execution_count": 0,
      "outputs": []
    },
    {
      "metadata": {
        "id": "P_eM9y8RiyfJ",
        "colab_type": "code",
        "colab": {}
      },
      "cell_type": "code",
      "source": [
        "# Best model based on training criteria \"val_acc\"\n",
        "# see source code to use https://github.com/autonomio/talos/blob/master/talos/utils/best_model.py\n",
        "\n",
        "criteria = 'acc'\n",
        "\n",
        "# get best model id from the scan object based on some acc measure\n",
        "model_id = best_model(h, criteria, False)\n",
        "# activate best model based on model id\n",
        "model = activate_model(h, model_id)\n",
        "# makes probability predictions based on weights from best model\n",
        "print(model.predict(x_test)[0:1,]) # print first value\n",
        "# makes class predictions based on weights from best model\n",
        "print(model.predict_classes(x_test)[0:9,]) # print first 10\n",
        "\n",
        "# All in one line\n",
        "# activate_model(scan_object, best_model(scan_object, 'val_acc', False)).predict(X)"
      ],
      "execution_count": 0,
      "outputs": []
    },
    {
      "metadata": {
        "id": "Jps9bGEtuC0w",
        "colab_type": "code",
        "colab": {}
      },
      "cell_type": "code",
      "source": [
        "# accessing epoch entropy values for each round\n",
        "h.peak_epochs_df[0:5] # print first 5 rows"
      ],
      "execution_count": 0,
      "outputs": []
    },
    {
      "metadata": {
        "id": "6n2YlqKLuH1R",
        "colab_type": "code",
        "colab": {}
      },
      "cell_type": "code",
      "source": [
        "# access the summary details\n",
        "h.details"
      ],
      "execution_count": 0,
      "outputs": []
    },
    {
      "metadata": {
        "id": "TuCWhUXauTNt",
        "colab_type": "code",
        "colab": {}
      },
      "cell_type": "code",
      "source": [
        "# accessing the saved models\n",
        "h.saved_models[0] # print first model"
      ],
      "execution_count": 0,
      "outputs": []
    },
    {
      "metadata": {
        "id": "iIySufgBuWNM",
        "colab_type": "code",
        "colab": {}
      },
      "cell_type": "code",
      "source": [
        "# accessing the saved weights for models\n",
        "# h.saved_weights[0] # print weights first model"
      ],
      "execution_count": 0,
      "outputs": []
    },
    {
      "metadata": {
        "id": "yF0EJL-cfvB7",
        "colab_type": "text"
      },
      "cell_type": "markdown",
      "source": [
        "## Reporting optimization\n",
        "In the Scan process, the results are stored round-by-round in the corresponding experiment log which is a .csv file stored in the present working directory. The Reporting() accepts as its source either a file name, or the Scan object.\n",
        "\n",
        "**See source code to dcide how to use this command** \n",
        "https://github.com/autonomio/talos/blob/daily-dev/talos/commands/reporting.py "
      ]
    },
    {
      "metadata": {
        "id": "vUSL0U1muiuK",
        "colab_type": "code",
        "colab": {}
      },
      "cell_type": "code",
      "source": [
        "# use Scan object as input\n",
        "r = ta.Reporting(h) # creates report object from scan object\n",
        "#r = ta.Reporting('Draw_a_person_experiment_3.csv')"
      ],
      "execution_count": 0,
      "outputs": []
    },
    {
      "metadata": {
        "id": "ZT5SHcUdux56",
        "colab_type": "code",
        "colab": {}
      },
      "cell_type": "code",
      "source": [
        "# access the dataframe with the results\n",
        "r.data[0:3]"
      ],
      "execution_count": 0,
      "outputs": []
    },
    {
      "metadata": {
        "id": "-Os1t3GKu5VA",
        "colab_type": "code",
        "colab": {
          "base_uri": "https://localhost:8080/",
          "height": 35
        },
        "outputId": "4717d7d1-a273-437f-d7f1-e936f2d9a1d9"
      },
      "cell_type": "code",
      "source": [
        "# get the number of rounds in the Scan\n",
        "r.rounds()"
      ],
      "execution_count": 190,
      "outputs": [
        {
          "output_type": "execute_result",
          "data": {
            "text/plain": [
              "2160"
            ]
          },
          "metadata": {
            "tags": []
          },
          "execution_count": 190
        }
      ]
    },
    {
      "metadata": {
        "id": "SmBCauXmu74R",
        "colab_type": "code",
        "colab": {
          "base_uri": "https://localhost:8080/",
          "height": 35
        },
        "outputId": "9bc3be40-fd34-4928-f8f9-b1d301dbb44d"
      },
      "cell_type": "code",
      "source": [
        "# get the highest result ('val_acc' by default)\n",
        "r.high()"
      ],
      "execution_count": 191,
      "outputs": [
        {
          "output_type": "execute_result",
          "data": {
            "text/plain": [
              "0.9879518187189676"
            ]
          },
          "metadata": {
            "tags": []
          },
          "execution_count": 191
        }
      ]
    },
    {
      "metadata": {
        "id": "_ZPQqpf9u_FK",
        "colab_type": "code",
        "colab": {
          "base_uri": "https://localhost:8080/",
          "height": 121
        },
        "outputId": "bb23f5b3-86d3-4e9e-870e-cd55cda09603"
      },
      "cell_type": "code",
      "source": [
        "# get the highest result for any metric\n",
        "print(\"F-measure accuracy:\", r.high('val_fmeasure_acc'))\n",
        "print(\"Training accuracy:\", r.high('acc'))\n",
        "print(\"Validation accuracy:\", r.high('val_acc'))\n",
        "print(\"Validation recall accuracy:\", r.high('val_recall_acc'))\n",
        "print(\"Validation precision accuracy:\", r.high('val_precision_acc'))\n",
        "print(\"Validation matthews correlation accuracy:\", r.high('val_matthews_correlation_acc'))"
      ],
      "execution_count": 215,
      "outputs": [
        {
          "output_type": "stream",
          "text": [
            "F-measure accuracy: 0.9887923734733858\n",
            "Training accuracy: 1.0\n",
            "Validation accuracy: 0.9879518187189676\n",
            "Validation recall accuracy: 1.0\n",
            "Validation precision accuracy: 1.0\n",
            "Validation matthews correlation accuracy: 0.9763615447354604\n"
          ],
          "name": "stdout"
        }
      ]
    },
    {
      "metadata": {
        "id": "Hf-EDDDgvBFs",
        "colab_type": "code",
        "colab": {
          "base_uri": "https://localhost:8080/",
          "height": 121
        },
        "outputId": "99056998-4fe0-42b4-db8d-f0ed1117122c"
      },
      "cell_type": "code",
      "source": [
        "# get the round with the best result\n",
        "\n",
        "print(\"F-measure accuracy best round:\", r.rounds2high('val_fmeasure_acc'))\n",
        "print(\"Training accuracy best round:\", r.rounds2high('acc'))\n",
        "print(\"Validation accuracy best round:\", r.rounds2high('val_acc'))\n",
        "print(\"Validation recall accuracy best round:\", r.rounds2high('val_recall_acc'))\n",
        "print(\"Validation precision accuracy best round:\", r.rounds2high('val_precision_acc'))\n",
        "print(\"Validation matthews correlation accuracy best round:\", r.rounds2high('val_matthews_correlation_acc'))"
      ],
      "execution_count": 210,
      "outputs": [
        {
          "output_type": "stream",
          "text": [
            "F-measure accuracy best round: 99\n",
            "Training accuracy best round: 29\n",
            "Validation accuracy best round: 99\n",
            "Validation recall accuracy best round: 0\n",
            "Validation precision accuracy best round: 43\n",
            "Validation matthews correlation accuracy best round: 99\n"
          ],
          "name": "stdout"
        }
      ]
    },
    {
      "metadata": {
        "id": "jsmR6_o0vZXh",
        "colab_type": "code",
        "colab": {
          "base_uri": "https://localhost:8080/",
          "height": 780
        },
        "outputId": "dcf9f2a6-58f9-43c1-9d20-535934c57dc6"
      },
      "cell_type": "code",
      "source": [
        "# get correlation for hyperparameters against a metric\n",
        "print(\"Hyperparameters and f-measure accuracy\")\n",
        "print(r.correlate('val_fmeasure_acc'),\"\\n\")\n",
        "print(\"Hyperparameters and validation loss\")\n",
        "print(r.correlate('val_loss'),\"\\n\")\n",
        "print(\"Hyperparameters and validation accuracy\")\n",
        "print(r.correlate('val_acc'),\"\\n\")\n",
        "print(\"Hyperparameters and recall accuracy\")\n",
        "print(r.correlate('val_recall_acc'),\"\\n\")\n",
        "print(\"Hyperparameters and precision accuracy\")\n",
        "print(r.correlate('val_precision_acc'))"
      ],
      "execution_count": 196,
      "outputs": [
        {
          "output_type": "stream",
          "text": [
            "Hyperparameters and f-measure accuracy\n",
            "first_neuron     0.146144\n",
            "hidden_layers    0.005349\n",
            "batch_size      -0.045891\n",
            "epochs           0.190069\n",
            "dropout         -0.003413\n",
            "lr               0.396140\n",
            "Name: val_fmeasure_acc, dtype: float64 \n",
            "\n",
            "Hyperparameters and validation loss\n",
            "first_neuron    -0.135657\n",
            "hidden_layers    0.015102\n",
            "batch_size       0.146555\n",
            "epochs          -0.334908\n",
            "dropout          0.022795\n",
            "lr              -0.402029\n",
            "Name: val_loss, dtype: float64 \n",
            "\n",
            "Hyperparameters and validation accuracy\n",
            "first_neuron     0.187517\n",
            "hidden_layers    0.019827\n",
            "batch_size      -0.108949\n",
            "epochs           0.294629\n",
            "dropout         -0.033471\n",
            "lr               0.653550\n",
            "Name: val_acc, dtype: float64 \n",
            "\n",
            "Hyperparameters and recall accuracy\n",
            "first_neuron     0.110033\n",
            "hidden_layers   -0.000950\n",
            "batch_size      -0.036814\n",
            "epochs           0.130875\n",
            "dropout          0.018991\n",
            "lr               0.289289\n",
            "Name: val_recall_acc, dtype: float64 \n",
            "\n",
            "Hyperparameters and precision accuracy\n",
            "first_neuron     0.166516\n",
            "hidden_layers    0.016800\n",
            "batch_size      -0.046671\n",
            "epochs           0.226966\n",
            "dropout         -0.027435\n",
            "lr               0.490415\n",
            "Name: val_precision_acc, dtype: float64\n"
          ],
          "name": "stdout"
        }
      ]
    },
    {
      "metadata": {
        "id": "HMrXRoMHFfde",
        "colab_type": "code",
        "colab": {}
      },
      "cell_type": "code",
      "source": [
        "# access the row with the highest f-measure validation value\n",
        "h_value = r.high('val_fmeasure_acc')\n",
        "r.data.loc[r.data['val_fmeasure_acc'] == h_value]"
      ],
      "execution_count": 0,
      "outputs": []
    },
    {
      "metadata": {
        "id": "RGlss-RFvKYt",
        "colab_type": "code",
        "colab": {}
      },
      "cell_type": "code",
      "source": [
        "# get the best paramaters\n",
        "r.best_params(n=3) # return the best 3 sets of params"
      ],
      "execution_count": 0,
      "outputs": []
    },
    {
      "metadata": {
        "id": "4GaRG2g5vhxl",
        "colab_type": "code",
        "colab": {
          "base_uri": "https://localhost:8080/",
          "height": 481
        },
        "outputId": "0fb29475-7b80-4e12-dff7-abcc100c5425"
      },
      "cell_type": "code",
      "source": [
        "# a regression plot for two dimensions \n",
        "r.plot_regs(\"val_acc\", \"epochs\")"
      ],
      "execution_count": 197,
      "outputs": [
        {
          "output_type": "display_data",
          "data": {
            "image/png": "[encoded data removed]",
            "text/plain": [
              "<Figure size 720x475.2 with 1 Axes>"
            ]
          },
          "metadata": {
            "tags": []
          }
        }
      ]
    },
    {
      "metadata": {
        "id": "BwlX1zsFaEz2",
        "colab_type": "code",
        "colab": {
          "base_uri": "https://localhost:8080/",
          "height": 518
        },
        "outputId": "f9cbb441-da2f-4667-ba3c-913f17be817b"
      },
      "cell_type": "code",
      "source": [
        "# line plot\n",
        "print(r.plot_line(\"val_acc\"))"
      ],
      "execution_count": 198,
      "outputs": [
        {
          "output_type": "stream",
          "text": [
            "None\n"
          ],
          "name": "stdout"
        },
        {
          "output_type": "display_data",
          "data": {
            "image/png": "[encoded data removed]",
            "text/plain": [
              "<Figure size 864x475.2 with 1 Axes>"
            ]
          },
          "metadata": {
            "tags": []
          }
        }
      ]
    },
    {
      "metadata": {
        "id": "ZRgsw8x5wEnx",
        "colab_type": "code",
        "colab": {
          "base_uri": "https://localhost:8080/",
          "height": 481
        },
        "outputId": "6c834b31-02da-47b4-853e-1d992e55d0df"
      },
      "cell_type": "code",
      "source": [
        "# up to two dimensional kernel density estimator\n",
        "r.plot_kde(\"epochs\",\"val_acc\")"
      ],
      "execution_count": 199,
      "outputs": [
        {
          "output_type": "display_data",
          "data": {
            "image/png": "[encoded data removed]",
            "text/plain": [
              "<Figure size 720x475.2 with 1 Axes>"
            ]
          },
          "metadata": {
            "tags": []
          }
        }
      ]
    },
    {
      "metadata": {
        "id": "rMRhX83oxIv4",
        "colab_type": "code",
        "colab": {
          "base_uri": "https://localhost:8080/",
          "height": 481
        },
        "outputId": "3d98455b-52dd-4df1-9c5c-d7221550f1a8"
      },
      "cell_type": "code",
      "source": [
        "# a simple histogram\n",
        "r.plot_hist(bins=50)"
      ],
      "execution_count": 200,
      "outputs": [
        {
          "output_type": "display_data",
          "data": {
            "image/png": "[encoded data removed]",
            "text/plain": [
              "<Figure size 720x475.2 with 1 Axes>"
            ]
          },
          "metadata": {
            "tags": []
          }
        }
      ]
    },
    {
      "metadata": {
        "id": "QsM9EKRxxNf1",
        "colab_type": "code",
        "colab": {
          "base_uri": "https://localhost:8080/",
          "height": 313
        },
        "outputId": "e8941cb2-f7cd-4be4-ab3b-44644593cdc5"
      },
      "cell_type": "code",
      "source": [
        "# a four dimensional bar grid\n",
        "r.plot_bars('batch_size', 'val_acc', 'first_neuron', 'lr')"
      ],
      "execution_count": 201,
      "outputs": [
        {
          "output_type": "display_data",
          "data": {
            "image/png": "[encoded data removed]",
            "text/plain": [
              "<Figure size 1218.25x288 with 4 Axes>"
            ]
          },
          "metadata": {
            "tags": []
          }
        }
      ]
    },
    {
      "metadata": {
        "id": "YeXKG6T51GH3",
        "colab_type": "text"
      },
      "cell_type": "markdown",
      "source": [
        "## Evaluating models\n",
        "Models can be evaluated with Evaluate() against a k-fold cross-validation. Ideally at least 50% of the data, or more if possible, is kept completely out of the Scan process and only exposed into Evaluate once one or more candidate models have been identified.\n",
        "\n",
        "**See source code at** https://github.com/autonomio/talos/blob/daily-dev/talos/commands/evaluate.py\n"
      ]
    },
    {
      "metadata": {
        "id": "nJzqujxIdWgy",
        "colab_type": "code",
        "colab": {}
      },
      "cell_type": "code",
      "source": [
        "# k-fols crossvalidation with 10 folds, from test data\n",
        "# we're going to validate using the f-measure or harmonic mean since \n",
        "# combines precision and recall (optimize on that)\n",
        "# https://en.wikipedia.org/wiki/Precision_and_recall#F-measure\n",
        "\n",
        "e = ta.Evaluate(h)\n",
        "\n",
        "e.evaluate(x=x_test, y=y_test,\n",
        "           folds=10,\n",
        "           shuffle=True,\n",
        "           metric='val_fmeasure_acc',\n",
        "           mode='binary',\n",
        "           print_out=True)"
      ],
      "execution_count": 0,
      "outputs": []
    },
    {
      "metadata": {
        "id": "4-DAUSyPfIkS",
        "colab_type": "text"
      },
      "cell_type": "markdown",
      "source": [
        "## Evaluating model on test set"
      ]
    },
    {
      "metadata": {
        "id": "_KbTwElFfXgM",
        "colab_type": "text"
      },
      "cell_type": "markdown",
      "source": [
        "### Classification report AND Confusion matrix\n",
        "\n",
        "Here we will iterate over all possible evaluation criteria to generate a matrix of confusion matrices. Each evaluation criteria (acc, val_acc, etc.) index the round (model) with the highest value on that criteria from all the trained models.\n",
        "\n",
        "After model selection, we make predictions on the test set. The results for the confusion matrix and the classification report are storaged in a pandas dataframe for each model-criteria pair. \n",
        "\n",
        "- **accuracy:** true positives + true negatives/ total results OR OR *“for all instances, what percent was correct?”*\n",
        "- **precision:** true positives / false positives + true positives OR *“for all instances classified positive, what percent was correct?”*\n",
        "- **recall:** true positives / true positives + false negatives   OR  “for all instances that were actually positive, what percent was classified correctly?”\n",
        "- **f1-score:** 2 * (precision * recall)/(precision + recall) // The F1 score is a weighted harmonic mean of precision and recall such that the best score is 1.0 and the worst is 0.0. \n",
        "-  **support:** is the number of actual occurrences of the class in the specified dataset. Imbalanced support in the training data may indicate structural weaknesses in the reported scores of the classifier and could indicate the need for stratified sampling or rebalancing\n",
        "\n",
        "**See documentation at** https://www.scikit-yb.org/en/latest/api/classifier/classification_report.html"
      ]
    },
    {
      "metadata": {
        "id": "gySzkULR_yXa",
        "colab_type": "code",
        "colab": {}
      },
      "cell_type": "code",
      "source": [
        "# Here we loop over the best models based on relevant criterias to build a \n",
        "# confusion matrix and classification report \n",
        "\n",
        "from sklearn.metrics import confusion_matrix\n",
        "from sklearn.metrics import classification_report\n",
        "from sklearn.metrics import accuracy_score\n",
        "\n",
        "import pandas as pd\n",
        "\n",
        "true_neg_l = []\n",
        "false_pos_l = []\n",
        "false_neg_l = []\n",
        "true_pos_l = []\n",
        "\n",
        "precision_l_c = []\n",
        "recall_l_c = []\n",
        "fscore_l_c = []\n",
        "support_l_c = []\n",
        "\n",
        "precision_l_a = []\n",
        "recall_l_a = []\n",
        "fscore_l_a = []\n",
        "support_l_a = []\n",
        "\n",
        "accuracy_score_l = []\n",
        "\n",
        "criteria_list= ['acc', 'fmeasure_acc', 'recall_acc', 'precision_acc', 'matthews_correlation_acc',\n",
        "               'val_acc', 'val_fmeasure_acc', 'val_recall_acc', 'val_precision_acc', 'val_matthews_correlation_acc']\n",
        "for criteria in criteria_list:\n",
        "  # get best model id from the scan object based on some acc measure\n",
        "  model_id = best_model(h, criteria, False)\n",
        "  # activate best model based on model id\n",
        "  model = activate_model(h, model_id)\n",
        "  \n",
        "  # predicted labels\n",
        "  y_pred = model.predict_classes(x_test) \n",
        "  # true labels\n",
        "  y_true = y_test \n",
        "  \n",
        "  # Extract confusion matrix values\n",
        "  true_neg, false_pos, false_neg, true_pos = confusion_matrix(y_true, y_pred).ravel()\n",
        "  true_neg_l.append(true_neg)\n",
        "  false_pos_l.append(false_pos)\n",
        "  false_neg_l.append(false_neg)\n",
        "  true_pos_l.append(true_pos)\n",
        "  \n",
        "  precision,recall,fscore,support = score(y_true,y_pred,average=None)\n",
        "  acc = accuracy_score(y_true, y_pred)\n",
        "  # child data \n",
        "  precision_l_c.append(precision[0])\n",
        "  recall_l_c.append(recall[0])\n",
        "  fscore_l_c.append(fscore[0])\n",
        "  support_l_c.append(support[0])\n",
        "  # adult data\n",
        "  precision_l_a.append(precision[1])\n",
        "  recall_l_a.append(recall[1])\n",
        "  fscore_l_a.append(fscore[1])\n",
        "  support_l_a.append(support[1])\n",
        "  # total accuracy\n",
        "  accuracy_score_l.append(acc)\n",
        "\n",
        "\n",
        "labels = [\"True_Negatives\", \"False_Positives\", \"False_Negatives\", \"True_Positives\",\n",
        "          \"Precision_(Child)\", \"Recall_(Child)\", \"F-Score_(Child)\",\"Support_(Child)\",\n",
        "          \"Precision_(Adult)\", \"Recall_(Adult)\", \"F-Score_(Adult)\",\"Support_(adult)\",\n",
        "          \"Accuracy_Score\"]\n",
        "data = list(zip(true_neg_l, false_pos_l, false_neg_l, true_pos_l, \n",
        "                precision_l_c, recall_l_c, fscore_l_c, support_l_c, \n",
        "                precision_l_a, recall_l_a, fscore_l_a, support_l_a, \n",
        "                accuracy_score_l))\n",
        "\n",
        "assert len(criteria_list) == len(data), \"criteria list and data don't match\"\n",
        "\n",
        "classification_report = pd.DataFrame(data, columns=labels, index =criteria_list )\n"
      ],
      "execution_count": 0,
      "outputs": []
    },
    {
      "metadata": {
        "id": "0y7iN0L_N4kf",
        "colab_type": "code",
        "colab": {}
      },
      "cell_type": "code",
      "source": [
        "# save the model on a csv file\n",
        "exp_n = '5'\n",
        "file_name = 'classification_report_dap_' + exp_n + '.csv'\n",
        "classification_report.to_csv(file_name, sep=',')"
      ],
      "execution_count": 0,
      "outputs": []
    },
    {
      "metadata": {
        "id": "Nlhko36eL9VR",
        "colab_type": "code",
        "colab": {
          "base_uri": "https://localhost:8080/",
          "height": 393
        },
        "outputId": "77013334-4167-4eaa-f345-51aa187c2f7a"
      },
      "cell_type": "code",
      "source": [
        "# Now we can look the report in one place\n",
        "classification_report \n",
        "# We can pick the one with the best numbers based on any criteria to deploy"
      ],
      "execution_count": 291,
      "outputs": [
        {
          "output_type": "execute_result",
          "data": {
            "text/html": [
              "<div>\n",
              "<style scoped>\n",
              "    .dataframe tbody tr th:only-of-type {\n",
              "        vertical-align: middle;\n",
              "    }\n",
              "\n",
              "    .dataframe tbody tr th {\n",
              "        vertical-align: top;\n",
              "    }\n",
              "\n",
              "    .dataframe thead th {\n",
              "        text-align: right;\n",
              "    }\n",
              "</style>\n",
              "<table border=\"1\" class=\"dataframe\">\n",
              "  <thead>\n",
              "    <tr style=\"text-align: right;\">\n",
              "      <th></th>\n",
              "      <th>True Negatives</th>\n",
              "      <th>False Positives</th>\n",
              "      <th>False Negatives</th>\n",
              "      <th>True Positives</th>\n",
              "      <th>Precision (Child)</th>\n",
              "      <th>Recall (Child)</th>\n",
              "      <th>F-Score (Child)</th>\n",
              "      <th>Support (Child)</th>\n",
              "      <th>Precision (Adult)</th>\n",
              "      <th>Recall (Adult)</th>\n",
              "      <th>F-Score (Adult)</th>\n",
              "      <th>Support (adult)</th>\n",
              "      <th>Accuracy Score</th>\n",
              "    </tr>\n",
              "  </thead>\n",
              "  <tbody>\n",
              "    <tr>\n",
              "      <th>acc</th>\n",
              "      <td>56</td>\n",
              "      <td>9</td>\n",
              "      <td>11</td>\n",
              "      <td>2</td>\n",
              "      <td>0.835821</td>\n",
              "      <td>0.861538</td>\n",
              "      <td>0.848485</td>\n",
              "      <td>65</td>\n",
              "      <td>0.181818</td>\n",
              "      <td>0.153846</td>\n",
              "      <td>0.166667</td>\n",
              "      <td>13</td>\n",
              "      <td>0.743590</td>\n",
              "    </tr>\n",
              "    <tr>\n",
              "      <th>fmeasure_acc</th>\n",
              "      <td>61</td>\n",
              "      <td>4</td>\n",
              "      <td>12</td>\n",
              "      <td>1</td>\n",
              "      <td>0.835616</td>\n",
              "      <td>0.938462</td>\n",
              "      <td>0.884058</td>\n",
              "      <td>65</td>\n",
              "      <td>0.200000</td>\n",
              "      <td>0.076923</td>\n",
              "      <td>0.111111</td>\n",
              "      <td>13</td>\n",
              "      <td>0.794872</td>\n",
              "    </tr>\n",
              "    <tr>\n",
              "      <th>recall_acc</th>\n",
              "      <td>59</td>\n",
              "      <td>6</td>\n",
              "      <td>11</td>\n",
              "      <td>2</td>\n",
              "      <td>0.842857</td>\n",
              "      <td>0.907692</td>\n",
              "      <td>0.874074</td>\n",
              "      <td>65</td>\n",
              "      <td>0.250000</td>\n",
              "      <td>0.153846</td>\n",
              "      <td>0.190476</td>\n",
              "      <td>13</td>\n",
              "      <td>0.782051</td>\n",
              "    </tr>\n",
              "    <tr>\n",
              "      <th>precision_acc</th>\n",
              "      <td>64</td>\n",
              "      <td>1</td>\n",
              "      <td>12</td>\n",
              "      <td>1</td>\n",
              "      <td>0.842105</td>\n",
              "      <td>0.984615</td>\n",
              "      <td>0.907801</td>\n",
              "      <td>65</td>\n",
              "      <td>0.500000</td>\n",
              "      <td>0.076923</td>\n",
              "      <td>0.133333</td>\n",
              "      <td>13</td>\n",
              "      <td>0.833333</td>\n",
              "    </tr>\n",
              "    <tr>\n",
              "      <th>matthews_correlation_acc</th>\n",
              "      <td>59</td>\n",
              "      <td>6</td>\n",
              "      <td>11</td>\n",
              "      <td>2</td>\n",
              "      <td>0.842857</td>\n",
              "      <td>0.907692</td>\n",
              "      <td>0.874074</td>\n",
              "      <td>65</td>\n",
              "      <td>0.250000</td>\n",
              "      <td>0.153846</td>\n",
              "      <td>0.190476</td>\n",
              "      <td>13</td>\n",
              "      <td>0.782051</td>\n",
              "    </tr>\n",
              "    <tr>\n",
              "      <th>val_acc</th>\n",
              "      <td>63</td>\n",
              "      <td>2</td>\n",
              "      <td>12</td>\n",
              "      <td>1</td>\n",
              "      <td>0.840000</td>\n",
              "      <td>0.969231</td>\n",
              "      <td>0.900000</td>\n",
              "      <td>65</td>\n",
              "      <td>0.333333</td>\n",
              "      <td>0.076923</td>\n",
              "      <td>0.125000</td>\n",
              "      <td>13</td>\n",
              "      <td>0.820513</td>\n",
              "    </tr>\n",
              "    <tr>\n",
              "      <th>val_fmeasure_acc</th>\n",
              "      <td>63</td>\n",
              "      <td>2</td>\n",
              "      <td>12</td>\n",
              "      <td>1</td>\n",
              "      <td>0.840000</td>\n",
              "      <td>0.969231</td>\n",
              "      <td>0.900000</td>\n",
              "      <td>65</td>\n",
              "      <td>0.333333</td>\n",
              "      <td>0.076923</td>\n",
              "      <td>0.125000</td>\n",
              "      <td>13</td>\n",
              "      <td>0.820513</td>\n",
              "    </tr>\n",
              "    <tr>\n",
              "      <th>val_recall_acc</th>\n",
              "      <td>0</td>\n",
              "      <td>65</td>\n",
              "      <td>0</td>\n",
              "      <td>13</td>\n",
              "      <td>0.000000</td>\n",
              "      <td>0.000000</td>\n",
              "      <td>0.000000</td>\n",
              "      <td>65</td>\n",
              "      <td>0.166667</td>\n",
              "      <td>1.000000</td>\n",
              "      <td>0.285714</td>\n",
              "      <td>13</td>\n",
              "      <td>0.166667</td>\n",
              "    </tr>\n",
              "    <tr>\n",
              "      <th>val_precision_acc</th>\n",
              "      <td>65</td>\n",
              "      <td>0</td>\n",
              "      <td>13</td>\n",
              "      <td>0</td>\n",
              "      <td>0.833333</td>\n",
              "      <td>1.000000</td>\n",
              "      <td>0.909091</td>\n",
              "      <td>65</td>\n",
              "      <td>0.000000</td>\n",
              "      <td>0.000000</td>\n",
              "      <td>0.000000</td>\n",
              "      <td>13</td>\n",
              "      <td>0.833333</td>\n",
              "    </tr>\n",
              "    <tr>\n",
              "      <th>val_matthews_correlation_acc</th>\n",
              "      <td>63</td>\n",
              "      <td>2</td>\n",
              "      <td>12</td>\n",
              "      <td>1</td>\n",
              "      <td>0.840000</td>\n",
              "      <td>0.969231</td>\n",
              "      <td>0.900000</td>\n",
              "      <td>65</td>\n",
              "      <td>0.333333</td>\n",
              "      <td>0.076923</td>\n",
              "      <td>0.125000</td>\n",
              "      <td>13</td>\n",
              "      <td>0.820513</td>\n",
              "    </tr>\n",
              "  </tbody>\n",
              "</table>\n",
              "</div>"
            ],
            "text/plain": [
              "                              True Negatives  False Positives  \\\n",
              "acc                                       56                9   \n",
              "fmeasure_acc                              61                4   \n",
              "recall_acc                                59                6   \n",
              "precision_acc                             64                1   \n",
              "matthews_correlation_acc                  59                6   \n",
              "val_acc                                   63                2   \n",
              "val_fmeasure_acc                          63                2   \n",
              "val_recall_acc                             0               65   \n",
              "val_precision_acc                         65                0   \n",
              "val_matthews_correlation_acc              63                2   \n",
              "\n",
              "                              False Negatives  True Positives  \\\n",
              "acc                                        11               2   \n",
              "fmeasure_acc                               12               1   \n",
              "recall_acc                                 11               2   \n",
              "precision_acc                              12               1   \n",
              "matthews_correlation_acc                   11               2   \n",
              "val_acc                                    12               1   \n",
              "val_fmeasure_acc                           12               1   \n",
              "val_recall_acc                              0              13   \n",
              "val_precision_acc                          13               0   \n",
              "val_matthews_correlation_acc               12               1   \n",
              "\n",
              "                              Precision (Child)  Recall (Child)  \\\n",
              "acc                                    0.835821        0.861538   \n",
              "fmeasure_acc                           0.835616        0.938462   \n",
              "recall_acc                             0.842857        0.907692   \n",
              "precision_acc                          0.842105        0.984615   \n",
              "matthews_correlation_acc               0.842857        0.907692   \n",
              "val_acc                                0.840000        0.969231   \n",
              "val_fmeasure_acc                       0.840000        0.969231   \n",
              "val_recall_acc                         0.000000        0.000000   \n",
              "val_precision_acc                      0.833333        1.000000   \n",
              "val_matthews_correlation_acc           0.840000        0.969231   \n",
              "\n",
              "                              F-Score (Child)  Support (Child)  \\\n",
              "acc                                  0.848485               65   \n",
              "fmeasure_acc                         0.884058               65   \n",
              "recall_acc                           0.874074               65   \n",
              "precision_acc                        0.907801               65   \n",
              "matthews_correlation_acc             0.874074               65   \n",
              "val_acc                              0.900000               65   \n",
              "val_fmeasure_acc                     0.900000               65   \n",
              "val_recall_acc                       0.000000               65   \n",
              "val_precision_acc                    0.909091               65   \n",
              "val_matthews_correlation_acc         0.900000               65   \n",
              "\n",
              "                              Precision (Adult)  Recall (Adult)  \\\n",
              "acc                                    0.181818        0.153846   \n",
              "fmeasure_acc                           0.200000        0.076923   \n",
              "recall_acc                             0.250000        0.153846   \n",
              "precision_acc                          0.500000        0.076923   \n",
              "matthews_correlation_acc               0.250000        0.153846   \n",
              "val_acc                                0.333333        0.076923   \n",
              "val_fmeasure_acc                       0.333333        0.076923   \n",
              "val_recall_acc                         0.166667        1.000000   \n",
              "val_precision_acc                      0.000000        0.000000   \n",
              "val_matthews_correlation_acc           0.333333        0.076923   \n",
              "\n",
              "                              F-Score (Adult)  Support (adult)  Accuracy Score  \n",
              "acc                                  0.166667               13        0.743590  \n",
              "fmeasure_acc                         0.111111               13        0.794872  \n",
              "recall_acc                           0.190476               13        0.782051  \n",
              "precision_acc                        0.133333               13        0.833333  \n",
              "matthews_correlation_acc             0.190476               13        0.782051  \n",
              "val_acc                              0.125000               13        0.820513  \n",
              "val_fmeasure_acc                     0.125000               13        0.820513  \n",
              "val_recall_acc                       0.285714               13        0.166667  \n",
              "val_precision_acc                    0.000000               13        0.833333  \n",
              "val_matthews_correlation_acc         0.125000               13        0.820513  "
            ]
          },
          "metadata": {
            "tags": []
          },
          "execution_count": 291
        }
      ]
    },
    {
      "metadata": {
        "id": "1z_nW90U1YDT",
        "colab_type": "text"
      },
      "cell_type": "markdown",
      "source": [
        "## Deploying models\n",
        "\n",
        "Once the right model or models have been found, you can create a deployment package with Deploy() which is then easy to transfer to a production or other environment, send via email, or upload to shared remote location. Best model is automatically chosen based on a given metric ('val_acc' by default).\n",
        "\n",
        "The Deploy package is a zip file that consist of:\n",
        "\n",
        "- details of the scan\n",
        "- model weights\n",
        "- model json\n",
        "- results of the experiment\n",
        "- sample of x data\n",
        "- sample of y data\n",
        "\n",
        "**See source code at** https://github.com/autonomio/talos/blob/daily-dev/talos/commands/deploy.py"
      ]
    },
    {
      "metadata": {
        "id": "x5k0Ow3s1veN",
        "colab_type": "code",
        "colab": {
          "base_uri": "https://localhost:8080/",
          "height": 35
        },
        "outputId": "a00149dc-8835-4fae-818b-401a2caf460d"
      },
      "cell_type": "code",
      "source": [
        "# By default selects the model with best validation accuracy \"recall_acc\"\n",
        "# Other metrics can be specified\n",
        "# name code: \"[dataset]-[experiment-number]-[rounds/models]-[seleccion-criteria]-[%-searched]\"\n",
        "ta.Deploy(h, 'drawings-exp5-2160r-recall-acc-10p', metric='recall_acc');"
      ],
      "execution_count": 293,
      "outputs": [
        {
          "output_type": "stream",
          "text": [
            "Deploy package drawings-exp5-2160r-recall-acc-10p have been saved.\n"
          ],
          "name": "stdout"
        }
      ]
    },
    {
      "metadata": {
        "id": "A7N2o6du2ZiY",
        "colab_type": "text"
      },
      "cell_type": "markdown",
      "source": [
        "## Restoring models\n",
        "Restores the scan_object that had been stored locally as a result of talos.Deploy\n",
        "\n",
        "**See source code at** https://github.com/autonomio/talos/blob/daily-dev/talos/commands/restore.py "
      ]
    },
    {
      "metadata": {
        "id": "3xwaox5A2bk1",
        "colab_type": "code",
        "colab": {}
      },
      "cell_type": "code",
      "source": [
        "# Restore model from local environment\n",
        "model_name = 'drawings-exp5-2160r-recall-acc-10p.zip'\n",
        "drawings = ta.Restore(model_name)"
      ],
      "execution_count": 0,
      "outputs": []
    },
    {
      "metadata": {
        "id": "UPinzBzp24wO",
        "colab_type": "code",
        "colab": {}
      },
      "cell_type": "code",
      "source": [
        "# make predictions with the model\n",
        "drawings.model.predict(x_test)[0:9,] # print first 10"
      ],
      "execution_count": 0,
      "outputs": []
    },
    {
      "metadata": {
        "id": "VDOp6Hj73Fq4",
        "colab_type": "code",
        "colab": {}
      },
      "cell_type": "code",
      "source": [
        "# get the meta-data for the experiment/optimization\n",
        "print(drawings.details)"
      ],
      "execution_count": 0,
      "outputs": []
    },
    {
      "metadata": {
        "id": "21pi4AT43nMx",
        "colab_type": "code",
        "colab": {}
      },
      "cell_type": "code",
      "source": [
        "# get the hyperparameter space boundary for the experiment/optimization\n",
        "print(drawings.params)"
      ],
      "execution_count": 0,
      "outputs": []
    },
    {
      "metadata": {
        "id": "tu38HGIU3rJ4",
        "colab_type": "code",
        "colab": {}
      },
      "cell_type": "code",
      "source": [
        "# sample of x and y data, returns pandas dataframe\n",
        "print(drawings.x.iloc[0:3, 0:3]) # print first 3 rows and columns\n",
        "print(drawings.y.iloc[0:3]) # print first 3 rows "
      ],
      "execution_count": 0,
      "outputs": []
    },
    {
      "metadata": {
        "id": "Aa2lLx9d3s8Z",
        "colab_type": "code",
        "colab": {}
      },
      "cell_type": "code",
      "source": [
        "# the results dataframe\n",
        "drawings.results[0:3] # print first 3 rows"
      ],
      "execution_count": 0,
      "outputs": []
    },
    {
      "metadata": {
        "id": "SXdtsIOHBZWj",
        "colab_type": "text"
      },
      "cell_type": "markdown",
      "source": [
        "# Resources\n",
        "- **Talos repo**: https://github.com/autonomio/talos\n",
        "- **Talos example**:  https://nbviewer.jupyter.org/github/autonomio/talos/blob/master/examples/Hyperparameter%20Optimization%20on%20Keras%20with%20Breast%20Cancer%20Data.ipynb"
      ]
    }
  ]
}