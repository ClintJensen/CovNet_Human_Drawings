{
  "nbformat": 4,
  "nbformat_minor": 0,
  "metadata": {
    "colab": {
      "name": "model_training_hyperparameter_optimization.ipynb",
      "version": "0.3.2",
      "provenance": [],
      "toc_visible": true,
      "include_colab_link": true
    },
    "kernelspec": {
      "name": "python3",
      "display_name": "Python 3"
    },
    "accelerator": "GPU"
  },
  "cells": [
    {
      "cell_type": "markdown",
      "metadata": {
        "id": "view-in-github",
        "colab_type": "text"
      },
      "source": [
        "<a href=\"https://colab.research.google.com/github/pabloinsente/CovNet_Human_Drawings/blob/master/code/model_training_hyperparameter_optimization.ipynb\" target=\"_parent\"><img src=\"https://colab.research.google.com/assets/colab-badge.svg\" alt=\"Open In Colab\"/></a>"
      ]
    },
    {
      "metadata": {
        "id": "R6LRZjUh8mcM",
        "colab_type": "text"
      },
      "cell_type": "markdown",
      "source": [
        "# Model training and hyperparameter optimization for Age-prediction\n",
        "Here we use Keras and the Talos library to set up the hyperparameter optimization. \n",
        "\n",
        "***Warning***: since we are using colab, we need to (1) install talos (2) re-start the running environment AFTER installing Talos (to update some packages that Talos needs to un) before running the optimization.  "
      ]
    },
    {
      "metadata": {
        "id": "3oEwJCxQRSIn",
        "colab_type": "code",
        "colab": {}
      },
      "cell_type": "code",
      "source": [
        "!pip install talos\n",
        "!pip install rarfile"
      ],
      "execution_count": 0,
      "outputs": []
    },
    {
      "metadata": {
        "id": "LVwIGgW9N9v7",
        "colab_type": "code",
        "outputId": "862c3ec3-919b-41ea-e2e5-a48639628e60",
        "colab": {
          "base_uri": "https://localhost:8080/",
          "height": 35
        }
      },
      "cell_type": "code",
      "source": [
        "# Let's import Talos, Keras, and dependencies\n",
        "\n",
        "import talos as ta\n",
        "from talos.metrics.keras_metrics import precision_acc, recall_acc, matthews_correlation_acc, fmeasure_acc\n",
        "from talos.model.normalizers import lr_normalizer\n",
        "from talos.utils.best_model import best_model, activate_model\n",
        "from talos import Predict\n",
        "\n",
        "from keras.activations import relu, elu, sigmoid\n",
        "from keras.optimizers import Adam, Nadam, RMSprop\n",
        "from keras.losses import binary_crossentropy, logcosh\n",
        "from keras.models import Sequential\n",
        "from keras.layers import Dense, Dropout\n",
        "\n",
        "from sklearn.model_selection import train_test_split\n",
        "\n",
        "from imblearn.over_sampling import RandomOverSampler \n",
        "\n",
        "import pandas as pd\n",
        "from numpy import genfromtxt\n",
        "from collections import Counter\n",
        "import rarfile, csv\n",
        "\n",
        "import seaborn as sns\n",
        "import matplotlib.pyplot as plt\n",
        "%matplotlib inline"
      ],
      "execution_count": 1,
      "outputs": [
        {
          "output_type": "stream",
          "text": [
            "Using TensorFlow backend.\n"
          ],
          "name": "stderr"
        }
      ]
    },
    {
      "metadata": {
        "id": "jN0uSEPf8QBS",
        "colab_type": "text"
      },
      "cell_type": "markdown",
      "source": [
        "## Data preparation\n",
        "First, we need to split the data into training and testing as usual. The training dataset will be feed into the model training and optimization process The testing data will be used to evalute the model. "
      ]
    },
    {
      "metadata": {
        "id": "oGx8tVOIQ_6U",
        "colab_type": "code",
        "outputId": "b4a89726-741d-4c0e-eb04-e121d859ba79",
        "colab": {
          "base_uri": "https://localhost:8080/",
          "height": 139
        }
      },
      "cell_type": "code",
      "source": [
        "# Clone the data into Colab\n",
        "! git clone https://github.com/pabloinsente/CovNet_Human_Drawings"
      ],
      "execution_count": 2,
      "outputs": [
        {
          "output_type": "stream",
          "text": [
            "Cloning into 'CovNet_Human_Drawings'...\n",
            "remote: Enumerating objects: 20, done.\u001b[K\n",
            "remote: Counting objects: 100% (20/20), done.\u001b[K\n",
            "remote: Compressing objects: 100% (20/20), done.\u001b[K\n",
            "remote: Total 672 (delta 9), reused 0 (delta 0), pack-reused 652\u001b[K\n",
            "Receiving objects: 100% (672/672), 97.50 MiB | 24.43 MiB/s, done.\n",
            "Resolving deltas: 100% (191/191), done.\n"
          ],
          "name": "stdout"
        }
      ]
    },
    {
      "metadata": {
        "id": "GISuW-0qmZA6",
        "colab_type": "code",
        "outputId": "b63e3ae5-63d8-4492-a09e-7c24aed1a905",
        "colab": {
          "base_uri": "https://localhost:8080/",
          "height": 139
        }
      },
      "cell_type": "code",
      "source": [
        "# Read csv files from compressed rar file and convert into a dataframe\n",
        "rar_path = rarfile.RarFile(\"CovNet_Human_Drawings/data/merged_dataframes_prediction/x_drawings_features_max_pool_5.rar\")\n",
        "csv_file_name = \"x_drawings_features_max_pool_5.csv\"\n",
        "rar_file = rarfile.RarFile.open(rar_path, csv_file_name)\n",
        "x = pd.read_csv(rar_file, sep=\",\", header=None)\n",
        "print(x.shape)\n",
        "print(x.iloc[0:5,0:5])"
      ],
      "execution_count": 3,
      "outputs": [
        {
          "output_type": "stream",
          "text": [
            "(258, 25088)\n",
            "          0    1    2         3         4\n",
            "0 -0.001317  0.0  0.0 -0.001322 -0.003181\n",
            "1 -0.001052  0.0  0.0 -0.001056 -0.002540\n",
            "2 -0.001176  0.0  0.0 -0.001181 -0.002840\n",
            "3 -0.000836  0.0  0.0 -0.000839 -0.000957\n",
            "4 -0.001163  0.0  0.0 -0.001168  0.011156\n"
          ],
          "name": "stdout"
        }
      ]
    },
    {
      "metadata": {
        "id": "GEU3O3yepG6l",
        "colab_type": "code",
        "colab": {
          "base_uri": "https://localhost:8080/",
          "height": 52
        },
        "outputId": "38e35a18-e64e-413d-a5f2-54911ea84df7"
      },
      "cell_type": "code",
      "source": [
        "x = x.values # as numpy array\n",
        "print(type(x))\n",
        "print(x.shape)"
      ],
      "execution_count": 4,
      "outputs": [
        {
          "output_type": "stream",
          "text": [
            "<class 'numpy.ndarray'>\n",
            "(258, 25088)\n"
          ],
          "name": "stdout"
        }
      ]
    },
    {
      "metadata": {
        "id": "MU75iiW7VYIj",
        "colab_type": "code",
        "outputId": "86b8f1e2-5553-4ad1-e474-f19e43f4634e",
        "colab": {
          "base_uri": "https://localhost:8080/",
          "height": 52
        }
      },
      "cell_type": "code",
      "source": [
        "# Read labels vector\n",
        "y_path = 'CovNet_Human_Drawings/data/merged_dataframes_prediction/y_age_adult_labels.csv'\n",
        "y = genfromtxt(y_path, delimiter=',')\n",
        "\n",
        "#x = x.drop([0]) # drop headers\n",
        "print(y.shape)\n",
        "print(y[0:5])"
      ],
      "execution_count": 5,
      "outputs": [
        {
          "output_type": "stream",
          "text": [
            "(258,)\n",
            "[0. 0. 0. 0. 0.]\n"
          ],
          "name": "stdout"
        }
      ]
    },
    {
      "metadata": {
        "id": "pXlWYvau94lp",
        "colab_type": "code",
        "outputId": "09302fd6-e853-49e1-e13b-bb9298a3c0a1",
        "colab": {
          "base_uri": "https://localhost:8080/",
          "height": 269
        }
      },
      "cell_type": "code",
      "source": [
        "# Let's look at the distribution of 0s and 1s\n",
        "\n",
        "colors = ['#ef8a62' if v == 0 else '#67a9cf' for v in y]\n",
        "kwarg_params = {'linewidth': 1, 'edgecolor': 'black'}\n",
        "fig = plt.Figure(figsize=(12,6))\n",
        "plt.scatter(x[:, 0], x[:, 1], c=colors, **kwarg_params)\n",
        "sns.despine()"
      ],
      "execution_count": 6,
      "outputs": [
        {
          "output_type": "display_data",
          "data": {
            "image/png": "[encoded data removed]",
            "text/plain": [
              "<Figure size 432x288 with 1 Axes>"
            ]
          },
          "metadata": {
            "tags": []
          }
        }
      ]
    },
    {
      "metadata": {
        "id": "IjFd7wkTjvk2",
        "colab_type": "code",
        "outputId": "19da8aec-cbab-4616-f93b-fd62bdff5731",
        "colab": {
          "base_uri": "https://localhost:8080/",
          "height": 87
        }
      },
      "cell_type": "code",
      "source": [
        "# Split data into train and test sets\n",
        "# Since we have an small sample, we will do a 70/30 split\n",
        "\n",
        "x_train, x_test, y_train, y_test = train_test_split(x, y, test_size = 0.3, random_state=44)\n",
        "print(x_train.shape) \n",
        "print(y_train.shape) \n",
        "print(x_test.shape) \n",
        "print(y_test.shape)"
      ],
      "execution_count": 7,
      "outputs": [
        {
          "output_type": "stream",
          "text": [
            "(180, 25088)\n",
            "(180,)\n",
            "(78, 25088)\n",
            "(78,)\n"
          ],
          "name": "stdout"
        }
      ]
    },
    {
      "metadata": {
        "id": "mTqZ23N5_fdM",
        "colab_type": "text"
      },
      "cell_type": "markdown",
      "source": [
        "###Resampling imbalanced data\n",
        "Since our classes are imbalanced, we will use oversampling of the \"adult\" class **on the training set**  to help training on that class. *imblearn* implement oversampling for us\n",
        "\n",
        "**See documentantion at** https://imbalanced-learn.readthedocs.io/en/stable/generated/imblearn.over_sampling.RandomOverSampler.html"
      ]
    },
    {
      "metadata": {
        "id": "4eQpvM3_6wTS",
        "colab_type": "code",
        "colab": {}
      },
      "cell_type": "code",
      "source": [
        "ros = RandomOverSampler(random_state=42)\n",
        "x_train_res, y_train_res = ros.fit_resample(x_train, y_train)"
      ],
      "execution_count": 0,
      "outputs": []
    },
    {
      "metadata": {
        "id": "CAgEjbau7-cF",
        "colab_type": "code",
        "outputId": "baef5bd7-3769-4056-cfcb-933f67d13455",
        "colab": {
          "base_uri": "https://localhost:8080/",
          "height": 69
        }
      },
      "cell_type": "code",
      "source": [
        "print(x_train_res.shape) # (258, 200)\n",
        "print(y_train_res.shape) # (258,)\n",
        "print('Resampled dataset shape %s' % Counter(y_train_res))\n",
        "\n",
        "# Now we have 50/50 balanced classes"
      ],
      "execution_count": 9,
      "outputs": [
        {
          "output_type": "stream",
          "text": [
            "(286, 25088)\n",
            "(286,)\n",
            "Resampled dataset shape Counter({1.0: 143, 0.0: 143})\n"
          ],
          "name": "stdout"
        }
      ]
    },
    {
      "metadata": {
        "id": "pAg1wGr_8AG1",
        "colab_type": "text"
      },
      "cell_type": "markdown",
      "source": [
        "## Model Definition\n",
        "Here we define the model using Keras. The main point is to pass all the arguments as keys of a Python dictionary instead of variables"
      ]
    },
    {
      "metadata": {
        "id": "LmQPGeHVMvFv",
        "colab_type": "code",
        "colab": {}
      },
      "cell_type": "code",
      "source": [
        "# define model\n",
        "def input_model(x_train, y_train, x_val, y_val, params):\n",
        "  model = Sequential()\n",
        "  # add hidden layer\n",
        "  model.add(Dense(params['first_neuron'], \n",
        "                  input_dim=x_train.shape[1], \n",
        "                  activation=params['activation'],\n",
        "                  kernel_initializer = params['kernel_initializer']))\n",
        "  # add dropout layer\n",
        "  model.add(Dropout(params['dropout']))\n",
        "  # add output layer\n",
        "  model.add(Dense(1,activation=params['last_activation'],\n",
        "                  kernel_initializer = params['kernel_initializer']))\n",
        "  # compile model\n",
        "  model.compile(loss=params['losses'],\n",
        "                optimizer=params['optimizer'](lr=lr_normalizer(params['lr'], params['optimizer'])),\n",
        "                metrics=['acc', fmeasure_acc, recall_acc, precision_acc, matthews_correlation_acc])\n",
        "  # train model\n",
        "  out = model.fit(x_train, y_train,\n",
        "                  validation_data=[x_val, y_val],\n",
        "                  batch_size=params['batch_size'],\n",
        "                  epochs=params['epochs'],\n",
        "                  verbose = 0)\n",
        "  return out, model"
      ],
      "execution_count": 0,
      "outputs": []
    },
    {
      "metadata": {
        "id": "6SqVZ7dM7uG-",
        "colab_type": "text"
      },
      "cell_type": "markdown",
      "source": [
        "## Setting the Parameter Space Boundaries \n",
        "here we create a dictionary, which will then be passed on to Talos together with the model above. Here we have three different ways to input values:\n",
        "\n",
        "- as stepped ranges (min, max, steps)\n",
        "- as multiple values [in a list]\n",
        "- as a single value [in a list]"
      ]
    },
    {
      "metadata": {
        "id": "dI3vgOBzlAPN",
        "colab_type": "code",
        "colab": {}
      },
      "cell_type": "code",
      "source": [
        "# set hyperparameters to optimize\n",
        "p = {'first_neuron': [8, 16, 32, 64],\n",
        "     'activation': [relu, sigmoid],\n",
        "     'optimizer': [Nadam, Adam],\n",
        "     'losses':[binary_crossentropy],\n",
        "     'hidden_layers':[0, 1, 2],\n",
        "     'batch_size': [10, 20, 40],\n",
        "     'epochs':[10, 100, 200],\n",
        "     'dropout': [0, 0.1, 0.2],\n",
        "     'kernel_initializer': ['uniform','normal'],\n",
        "     'lr':[0.01, 0.1, 0.2],\n",
        "     'last_activation': ['sigmoid']}"
      ],
      "execution_count": 0,
      "outputs": []
    },
    {
      "metadata": {
        "id": "lwNKsUF_7WIA",
        "colab_type": "text"
      },
      "cell_type": "markdown",
      "source": [
        "## Running the hyperparameter optimization with Scan() \n",
        "Now we are ready to run the model based on the parameters and the layer configuration above. The exact same process would apply with any other model, just make sure to pass the model function name in the Scan() command as in the below example.\n",
        "\n"
      ]
    },
    {
      "metadata": {
        "id": "KPtOn24CUsEO",
        "colab_type": "code",
        "outputId": "41040e18-7e5d-402f-de77-8a7689f6cf63",
        "colab": {
          "base_uri": "https://localhost:8080/",
          "height": 211
        }
      },
      "cell_type": "code",
      "source": [
        "# starting optimization\n",
        "h = ta.Scan(x= x_train_res, y=y_train_res,\n",
        "            params=p,\n",
        "            model=input_model,\n",
        "            # I use .29 split because that is ~20% of all data\n",
        "            val_split = 0.29,\n",
        "            dataset_name='Draw_a_person',\n",
        "            experiment_no='experiment_1',\n",
        "            grid_downsample=.05)"
      ],
      "execution_count": 12,
      "outputs": [
        {
          "output_type": "stream",
          "text": [
            "\r  0%|          | 0/388 [00:00<?, ?it/s]"
          ],
          "name": "stderr"
        },
        {
          "output_type": "stream",
          "text": [
            "WARNING:tensorflow:From /usr/local/lib/python3.6/dist-packages/tensorflow/python/framework/op_def_library.py:263: colocate_with (from tensorflow.python.framework.ops) is deprecated and will be removed in a future version.\n",
            "Instructions for updating:\n",
            "Colocations handled automatically by placer.\n",
            "WARNING:tensorflow:From /usr/local/lib/python3.6/dist-packages/keras/backend/tensorflow_backend.py:3445: calling dropout (from tensorflow.python.ops.nn_ops) with keep_prob is deprecated and will be removed in a future version.\n",
            "Instructions for updating:\n",
            "Please use `rate` instead of `keep_prob`. Rate should be set to `rate = 1 - keep_prob`.\n",
            "WARNING:tensorflow:From /usr/local/lib/python3.6/dist-packages/tensorflow/python/ops/math_ops.py:3066: to_int32 (from tensorflow.python.ops.math_ops) is deprecated and will be removed in a future version.\n",
            "Instructions for updating:\n",
            "Use tf.cast instead.\n"
          ],
          "name": "stdout"
        },
        {
          "output_type": "stream",
          "text": [
            "100%|██████████| 388/388 [1:01:59<00:00, 12.65s/it]\n"
          ],
          "name": "stderr"
        }
      ]
    },
    {
      "metadata": {
        "id": "vzXz0OXr66kG",
        "colab_type": "text"
      },
      "cell_type": "markdown",
      "source": [
        "## Accessing the results through the Scan object\n",
        "The scan object saves all the necessary information for analysis and deployment\n",
        "**See source code at** https://github.com/autonomio/talos/blob/daily-dev/talos/scan/Scan.py"
      ]
    },
    {
      "metadata": {
        "id": "3jLhYJQ4t5lQ",
        "colab_type": "code",
        "outputId": "0c3243b7-f517-486a-c5da-99cdfb4a08f4",
        "colab": {
          "base_uri": "https://localhost:8080/",
          "height": 346
        }
      },
      "cell_type": "code",
      "source": [
        "# accessing the results data frame\n",
        "h.data[0:3]"
      ],
      "execution_count": 13,
      "outputs": [
        {
          "output_type": "execute_result",
          "data": {
            "text/html": [
              "<div>\n",
              "<style scoped>\n",
              "    .dataframe tbody tr th:only-of-type {\n",
              "        vertical-align: middle;\n",
              "    }\n",
              "\n",
              "    .dataframe tbody tr th {\n",
              "        vertical-align: top;\n",
              "    }\n",
              "\n",
              "    .dataframe thead th {\n",
              "        text-align: right;\n",
              "    }\n",
              "</style>\n",
              "<table border=\"1\" class=\"dataframe\">\n",
              "  <thead>\n",
              "    <tr style=\"text-align: right;\">\n",
              "      <th></th>\n",
              "      <th>round_epochs</th>\n",
              "      <th>val_loss</th>\n",
              "      <th>val_acc</th>\n",
              "      <th>val_fmeasure_acc</th>\n",
              "      <th>val_recall_acc</th>\n",
              "      <th>val_precision_acc</th>\n",
              "      <th>val_matthews_correlation_acc</th>\n",
              "      <th>loss</th>\n",
              "      <th>acc</th>\n",
              "      <th>fmeasure_acc</th>\n",
              "      <th>...</th>\n",
              "      <th>activation</th>\n",
              "      <th>optimizer</th>\n",
              "      <th>losses</th>\n",
              "      <th>hidden_layers</th>\n",
              "      <th>batch_size</th>\n",
              "      <th>epochs</th>\n",
              "      <th>dropout</th>\n",
              "      <th>kernel_initializer</th>\n",
              "      <th>lr</th>\n",
              "      <th>last_activation</th>\n",
              "    </tr>\n",
              "  </thead>\n",
              "  <tbody>\n",
              "    <tr>\n",
              "      <th>0</th>\n",
              "      <td>200</td>\n",
              "      <td>0.534237</td>\n",
              "      <td>0.686747</td>\n",
              "      <td>0.709235</td>\n",
              "      <td>1.0</td>\n",
              "      <td>0.572439</td>\n",
              "      <td>0.435617</td>\n",
              "      <td>0.281847</td>\n",
              "      <td>1.0</td>\n",
              "      <td>1.0</td>\n",
              "      <td>...</td>\n",
              "      <td>&lt;function relu at 0x7f1981979d90&gt;</td>\n",
              "      <td>&lt;class 'keras.optimizers.Adam'&gt;</td>\n",
              "      <td>&lt;function binary_crossentropy at 0x7f19819c3ea0&gt;</td>\n",
              "      <td>2</td>\n",
              "      <td>20</td>\n",
              "      <td>200</td>\n",
              "      <td>0.2</td>\n",
              "      <td>uniform</td>\n",
              "      <td>0.1</td>\n",
              "      <td>sigmoid</td>\n",
              "    </tr>\n",
              "    <tr>\n",
              "      <th>1</th>\n",
              "      <td>200</td>\n",
              "      <td>0.428998</td>\n",
              "      <td>0.771084</td>\n",
              "      <td>0.773933</td>\n",
              "      <td>1.0</td>\n",
              "      <td>0.653627</td>\n",
              "      <td>0.567155</td>\n",
              "      <td>0.011614</td>\n",
              "      <td>1.0</td>\n",
              "      <td>1.0</td>\n",
              "      <td>...</td>\n",
              "      <td>&lt;function relu at 0x7f1981979d90&gt;</td>\n",
              "      <td>&lt;class 'keras.optimizers.Adam'&gt;</td>\n",
              "      <td>&lt;function binary_crossentropy at 0x7f19819c3ea0&gt;</td>\n",
              "      <td>1</td>\n",
              "      <td>20</td>\n",
              "      <td>200</td>\n",
              "      <td>0.2</td>\n",
              "      <td>normal</td>\n",
              "      <td>0.2</td>\n",
              "      <td>sigmoid</td>\n",
              "    </tr>\n",
              "    <tr>\n",
              "      <th>2</th>\n",
              "      <td>200</td>\n",
              "      <td>0.425038</td>\n",
              "      <td>0.831325</td>\n",
              "      <td>0.823911</td>\n",
              "      <td>1.0</td>\n",
              "      <td>0.847390</td>\n",
              "      <td>0.674616</td>\n",
              "      <td>0.011953</td>\n",
              "      <td>1.0</td>\n",
              "      <td>1.0</td>\n",
              "      <td>...</td>\n",
              "      <td>&lt;function sigmoid at 0x7f1981979ea0&gt;</td>\n",
              "      <td>&lt;class 'keras.optimizers.Nadam'&gt;</td>\n",
              "      <td>&lt;function binary_crossentropy at 0x7f19819c3ea0&gt;</td>\n",
              "      <td>0</td>\n",
              "      <td>10</td>\n",
              "      <td>200</td>\n",
              "      <td>0.2</td>\n",
              "      <td>normal</td>\n",
              "      <td>0.1</td>\n",
              "      <td>sigmoid</td>\n",
              "    </tr>\n",
              "  </tbody>\n",
              "</table>\n",
              "<p>3 rows × 24 columns</p>\n",
              "</div>"
            ],
            "text/plain": [
              "   round_epochs  val_loss   val_acc  val_fmeasure_acc  val_recall_acc  \\\n",
              "0           200  0.534237  0.686747          0.709235             1.0   \n",
              "1           200  0.428998  0.771084          0.773933             1.0   \n",
              "2           200  0.425038  0.831325          0.823911             1.0   \n",
              "\n",
              "   val_precision_acc  val_matthews_correlation_acc      loss  acc  \\\n",
              "0           0.572439                      0.435617  0.281847  1.0   \n",
              "1           0.653627                      0.567155  0.011614  1.0   \n",
              "2           0.847390                      0.674616  0.011953  1.0   \n",
              "\n",
              "   fmeasure_acc  ...                            activation  \\\n",
              "0           1.0  ...     <function relu at 0x7f1981979d90>   \n",
              "1           1.0  ...     <function relu at 0x7f1981979d90>   \n",
              "2           1.0  ...  <function sigmoid at 0x7f1981979ea0>   \n",
              "\n",
              "                          optimizer  \\\n",
              "0   <class 'keras.optimizers.Adam'>   \n",
              "1   <class 'keras.optimizers.Adam'>   \n",
              "2  <class 'keras.optimizers.Nadam'>   \n",
              "\n",
              "                                             losses  hidden_layers batch_size  \\\n",
              "0  <function binary_crossentropy at 0x7f19819c3ea0>              2         20   \n",
              "1  <function binary_crossentropy at 0x7f19819c3ea0>              1         20   \n",
              "2  <function binary_crossentropy at 0x7f19819c3ea0>              0         10   \n",
              "\n",
              "  epochs dropout  kernel_initializer   lr  last_activation  \n",
              "0    200     0.2             uniform  0.1          sigmoid  \n",
              "1    200     0.2              normal  0.2          sigmoid  \n",
              "2    200     0.2              normal  0.1          sigmoid  \n",
              "\n",
              "[3 rows x 24 columns]"
            ]
          },
          "metadata": {
            "tags": []
          },
          "execution_count": 13
        }
      ]
    },
    {
      "metadata": {
        "id": "DkT24zd8xE3Z",
        "colab_type": "code",
        "colab": {}
      },
      "cell_type": "code",
      "source": [
        "# sort by criteria\n",
        "# h.data.sort_values('val_acc')"
      ],
      "execution_count": 0,
      "outputs": []
    },
    {
      "metadata": {
        "id": "P_eM9y8RiyfJ",
        "colab_type": "code",
        "outputId": "34f20866-4c75-49de-94fc-db0dbb5b6f22",
        "colab": {
          "base_uri": "https://localhost:8080/",
          "height": 191
        }
      },
      "cell_type": "code",
      "source": [
        "# Best model based on training criteria \"val_acc\"\n",
        "# see source code to use https://github.com/autonomio/talos/blob/master/talos/utils/best_model.py\n",
        "\n",
        "criteria = 'acc'\n",
        "\n",
        "# get best model id from the scan object based on some acc measure\n",
        "model_id = best_model(h, criteria, False)\n",
        "# activate best model based on model id\n",
        "model = activate_model(h, model_id)\n",
        "# makes probability predictions based on weights from best model\n",
        "print(model.predict(x_test)[0:1,]) # print first value\n",
        "# makes class predictions based on weights from best model\n",
        "print(model.predict_classes(x_test)[0:9,]) # print first 10\n",
        "\n",
        "# All in one line\n",
        "# activate_model(scan_object, best_model(scan_object, 'val_acc', False)).predict(X)"
      ],
      "execution_count": 14,
      "outputs": [
        {
          "output_type": "stream",
          "text": [
            "[[0.63808584]]\n",
            "[[1]\n",
            " [0]\n",
            " [0]\n",
            " [0]\n",
            " [1]\n",
            " [1]\n",
            " [0]\n",
            " [1]\n",
            " [1]]\n"
          ],
          "name": "stdout"
        }
      ]
    },
    {
      "metadata": {
        "id": "Jps9bGEtuC0w",
        "colab_type": "code",
        "outputId": "10a91fb5-6e48-4c5d-c893-ad5af1bfe5b8",
        "colab": {
          "base_uri": "https://localhost:8080/",
          "height": 309
        }
      },
      "cell_type": "code",
      "source": [
        "# accessing epoch entropy values for each round\n",
        "h.peak_epochs_df[0:5] # print first 5 rows"
      ],
      "execution_count": 15,
      "outputs": [
        {
          "output_type": "execute_result",
          "data": {
            "text/html": [
              "<div>\n",
              "<style scoped>\n",
              "    .dataframe tbody tr th:only-of-type {\n",
              "        vertical-align: middle;\n",
              "    }\n",
              "\n",
              "    .dataframe tbody tr th {\n",
              "        vertical-align: top;\n",
              "    }\n",
              "\n",
              "    .dataframe thead th {\n",
              "        text-align: right;\n",
              "    }\n",
              "</style>\n",
              "<table border=\"1\" class=\"dataframe\">\n",
              "  <thead>\n",
              "    <tr style=\"text-align: right;\">\n",
              "      <th></th>\n",
              "      <th>val_loss</th>\n",
              "      <th>val_acc</th>\n",
              "      <th>val_fmeasure_acc</th>\n",
              "      <th>val_recall_acc</th>\n",
              "      <th>val_precision_acc</th>\n",
              "      <th>val_matthews_correlation_acc</th>\n",
              "      <th>loss</th>\n",
              "      <th>acc</th>\n",
              "      <th>fmeasure_acc</th>\n",
              "      <th>recall_acc</th>\n",
              "      <th>precision_acc</th>\n",
              "      <th>matthews_correlation_acc</th>\n",
              "      <th>acc_epoch</th>\n",
              "      <th>loss_epoch</th>\n",
              "    </tr>\n",
              "  </thead>\n",
              "  <tbody>\n",
              "    <tr>\n",
              "      <th>1</th>\n",
              "      <td>199</td>\n",
              "      <td>199</td>\n",
              "      <td>199</td>\n",
              "      <td>85</td>\n",
              "      <td>199</td>\n",
              "      <td>199</td>\n",
              "      <td>199</td>\n",
              "      <td>196</td>\n",
              "      <td>168</td>\n",
              "      <td>199</td>\n",
              "      <td>194</td>\n",
              "      <td>196</td>\n",
              "      <td>2.630011e-03</td>\n",
              "      <td>1.801038e-02</td>\n",
              "    </tr>\n",
              "    <tr>\n",
              "      <th>2</th>\n",
              "      <td>150</td>\n",
              "      <td>199</td>\n",
              "      <td>199</td>\n",
              "      <td>40</td>\n",
              "      <td>199</td>\n",
              "      <td>199</td>\n",
              "      <td>185</td>\n",
              "      <td>199</td>\n",
              "      <td>197</td>\n",
              "      <td>197</td>\n",
              "      <td>197</td>\n",
              "      <td>199</td>\n",
              "      <td>3.122154e-03</td>\n",
              "      <td>6.098501e-01</td>\n",
              "    </tr>\n",
              "    <tr>\n",
              "      <th>3</th>\n",
              "      <td>116</td>\n",
              "      <td>63</td>\n",
              "      <td>63</td>\n",
              "      <td>199</td>\n",
              "      <td>4</td>\n",
              "      <td>63</td>\n",
              "      <td>195</td>\n",
              "      <td>199</td>\n",
              "      <td>199</td>\n",
              "      <td>199</td>\n",
              "      <td>199</td>\n",
              "      <td>199</td>\n",
              "      <td>3.605318e-03</td>\n",
              "      <td>6.017307e-01</td>\n",
              "    </tr>\n",
              "    <tr>\n",
              "      <th>4</th>\n",
              "      <td>4</td>\n",
              "      <td>9</td>\n",
              "      <td>9</td>\n",
              "      <td>9</td>\n",
              "      <td>9</td>\n",
              "      <td>9</td>\n",
              "      <td>8</td>\n",
              "      <td>8</td>\n",
              "      <td>8</td>\n",
              "      <td>9</td>\n",
              "      <td>1</td>\n",
              "      <td>8</td>\n",
              "      <td>2.758528e-03</td>\n",
              "      <td>9.926617e-05</td>\n",
              "    </tr>\n",
              "    <tr>\n",
              "      <th>5</th>\n",
              "      <td>9</td>\n",
              "      <td>9</td>\n",
              "      <td>9</td>\n",
              "      <td>9</td>\n",
              "      <td>9</td>\n",
              "      <td>9</td>\n",
              "      <td>9</td>\n",
              "      <td>7</td>\n",
              "      <td>7</td>\n",
              "      <td>9</td>\n",
              "      <td>7</td>\n",
              "      <td>9</td>\n",
              "      <td>-1.064402e-16</td>\n",
              "      <td>6.024057e-09</td>\n",
              "    </tr>\n",
              "  </tbody>\n",
              "</table>\n",
              "</div>"
            ],
            "text/plain": [
              "  val_loss val_acc val_fmeasure_acc val_recall_acc val_precision_acc  \\\n",
              "1      199     199              199             85               199   \n",
              "2      150     199              199             40               199   \n",
              "3      116      63               63            199                 4   \n",
              "4        4       9                9              9                 9   \n",
              "5        9       9                9              9                 9   \n",
              "\n",
              "  val_matthews_correlation_acc loss  acc fmeasure_acc recall_acc  \\\n",
              "1                          199  199  196          168        199   \n",
              "2                          199  185  199          197        197   \n",
              "3                           63  195  199          199        199   \n",
              "4                            9    8    8            8          9   \n",
              "5                            9    9    7            7          9   \n",
              "\n",
              "  precision_acc matthews_correlation_acc     acc_epoch    loss_epoch  \n",
              "1           194                      196  2.630011e-03  1.801038e-02  \n",
              "2           197                      199  3.122154e-03  6.098501e-01  \n",
              "3           199                      199  3.605318e-03  6.017307e-01  \n",
              "4             1                        8  2.758528e-03  9.926617e-05  \n",
              "5             7                        9 -1.064402e-16  6.024057e-09  "
            ]
          },
          "metadata": {
            "tags": []
          },
          "execution_count": 15
        }
      ]
    },
    {
      "metadata": {
        "id": "6n2YlqKLuH1R",
        "colab_type": "code",
        "outputId": "06ad39fb-13af-4ae1-f90b-ed1a083181f8",
        "colab": {
          "base_uri": "https://localhost:8080/",
          "height": 243
        }
      },
      "cell_type": "code",
      "source": [
        "# access the summary details\n",
        "h.details"
      ],
      "execution_count": 16,
      "outputs": [
        {
          "output_type": "execute_result",
          "data": {
            "text/plain": [
              "random_method                    uniform_mersenne\n",
              "reduction_method                             None\n",
              "reduction_interval                             50\n",
              "reduction_window                               20\n",
              "grid_downsample                              0.05\n",
              "reduction_threshold                           0.2\n",
              "reduction_metric                          val_acc\n",
              "reduce_loss                                 False\n",
              "experiment_name        Draw_a_person_experiment_1\n",
              "complete_time                      04/23/19/17:02\n",
              "x_shape                              (286, 25088)\n",
              "y_shape                                    (286,)\n",
              "dtype: object"
            ]
          },
          "metadata": {
            "tags": []
          },
          "execution_count": 16
        }
      ]
    },
    {
      "metadata": {
        "id": "TuCWhUXauTNt",
        "colab_type": "code",
        "outputId": "b7f0d496-5df9-4b03-c002-7e44b298a950",
        "colab": {
          "base_uri": "https://localhost:8080/",
          "height": 55
        }
      },
      "cell_type": "code",
      "source": [
        "# accessing the saved models\n",
        "h.saved_models[0] # print first model"
      ],
      "execution_count": 0,
      "outputs": [
        {
          "output_type": "execute_result",
          "data": {
            "text/plain": [
              "'{\"class_name\": \"Sequential\", \"config\": {\"name\": \"sequential_1\", \"layers\": [{\"class_name\": \"Dense\", \"config\": {\"name\": \"dense_1\", \"trainable\": true, \"batch_input_shape\": [null, 25088], \"dtype\": \"float32\", \"units\": 64, \"activation\": \"sigmoid\", \"use_bias\": true, \"kernel_initializer\": {\"class_name\": \"RandomUniform\", \"config\": {\"minval\": -0.05, \"maxval\": 0.05, \"seed\": null}}, \"bias_initializer\": {\"class_name\": \"Zeros\", \"config\": {}}, \"kernel_regularizer\": null, \"bias_regularizer\": null, \"activity_regularizer\": null, \"kernel_constraint\": null, \"bias_constraint\": null}}, {\"class_name\": \"Dropout\", \"config\": {\"name\": \"dropout_1\", \"trainable\": true, \"rate\": 0.1, \"noise_shape\": null, \"seed\": null}}, {\"class_name\": \"Dense\", \"config\": {\"name\": \"dense_2\", \"trainable\": true, \"units\": 1, \"activation\": \"sigmoid\", \"use_bias\": true, \"kernel_initializer\": {\"class_name\": \"RandomUniform\", \"config\": {\"minval\": -0.05, \"maxval\": 0.05, \"seed\": null}}, \"bias_initializer\": {\"class_name\": \"Zeros\", \"config\": {}}, \"kernel_regularizer\": null, \"bias_regularizer\": null, \"activity_regularizer\": null, \"kernel_constraint\": null, \"bias_constraint\": null}}]}, \"keras_version\": \"2.2.4\", \"backend\": \"tensorflow\"}'"
            ]
          },
          "metadata": {
            "tags": []
          },
          "execution_count": 20
        }
      ]
    },
    {
      "metadata": {
        "id": "iIySufgBuWNM",
        "colab_type": "code",
        "colab": {}
      },
      "cell_type": "code",
      "source": [
        "# accessing the saved weights for models\n",
        "# h.saved_weights[0] # print weights first model"
      ],
      "execution_count": 0,
      "outputs": []
    },
    {
      "metadata": {
        "id": "yF0EJL-cfvB7",
        "colab_type": "text"
      },
      "cell_type": "markdown",
      "source": [
        "## Reporting optimization\n",
        "In the Scan process, the results are stored round-by-round in the corresponding experiment log which is a .csv file stored in the present working directory. The Reporting() accepts as its source either a file name, or the Scan object.\n",
        "\n",
        "**See source code to dcide how to use this command** \n",
        "https://github.com/autonomio/talos/blob/daily-dev/talos/commands/reporting.py "
      ]
    },
    {
      "metadata": {
        "id": "vUSL0U1muiuK",
        "colab_type": "code",
        "colab": {}
      },
      "cell_type": "code",
      "source": [
        "# use Scan object as input\n",
        "r = ta.Reporting(h) # creates report object from scan object\n",
        "#r = ta.Reporting('Draw_a_person_experiment_3.csv')"
      ],
      "execution_count": 0,
      "outputs": []
    },
    {
      "metadata": {
        "id": "ZT5SHcUdux56",
        "colab_type": "code",
        "outputId": "53c185d9-4b70-4f35-f2dc-794695f5c08d",
        "colab": {
          "base_uri": "https://localhost:8080/",
          "height": 346
        }
      },
      "cell_type": "code",
      "source": [
        "# access the dataframe with the results\n",
        "r.data[0:3]"
      ],
      "execution_count": 18,
      "outputs": [
        {
          "output_type": "execute_result",
          "data": {
            "text/html": [
              "<div>\n",
              "<style scoped>\n",
              "    .dataframe tbody tr th:only-of-type {\n",
              "        vertical-align: middle;\n",
              "    }\n",
              "\n",
              "    .dataframe tbody tr th {\n",
              "        vertical-align: top;\n",
              "    }\n",
              "\n",
              "    .dataframe thead th {\n",
              "        text-align: right;\n",
              "    }\n",
              "</style>\n",
              "<table border=\"1\" class=\"dataframe\">\n",
              "  <thead>\n",
              "    <tr style=\"text-align: right;\">\n",
              "      <th></th>\n",
              "      <th>round_epochs</th>\n",
              "      <th>val_loss</th>\n",
              "      <th>val_acc</th>\n",
              "      <th>val_fmeasure_acc</th>\n",
              "      <th>val_recall_acc</th>\n",
              "      <th>val_precision_acc</th>\n",
              "      <th>val_matthews_correlation_acc</th>\n",
              "      <th>loss</th>\n",
              "      <th>acc</th>\n",
              "      <th>fmeasure_acc</th>\n",
              "      <th>...</th>\n",
              "      <th>activation</th>\n",
              "      <th>optimizer</th>\n",
              "      <th>losses</th>\n",
              "      <th>hidden_layers</th>\n",
              "      <th>batch_size</th>\n",
              "      <th>epochs</th>\n",
              "      <th>dropout</th>\n",
              "      <th>kernel_initializer</th>\n",
              "      <th>lr</th>\n",
              "      <th>last_activation</th>\n",
              "    </tr>\n",
              "  </thead>\n",
              "  <tbody>\n",
              "    <tr>\n",
              "      <th>0</th>\n",
              "      <td>200</td>\n",
              "      <td>0.534237</td>\n",
              "      <td>0.686747</td>\n",
              "      <td>0.709235</td>\n",
              "      <td>1.0</td>\n",
              "      <td>0.572439</td>\n",
              "      <td>0.435617</td>\n",
              "      <td>0.281847</td>\n",
              "      <td>1.0</td>\n",
              "      <td>1.0</td>\n",
              "      <td>...</td>\n",
              "      <td>&lt;function relu at 0x7f1981979d90&gt;</td>\n",
              "      <td>&lt;class 'keras.optimizers.Adam'&gt;</td>\n",
              "      <td>&lt;function binary_crossentropy at 0x7f19819c3ea0&gt;</td>\n",
              "      <td>2</td>\n",
              "      <td>20</td>\n",
              "      <td>200</td>\n",
              "      <td>0.2</td>\n",
              "      <td>uniform</td>\n",
              "      <td>0.1</td>\n",
              "      <td>sigmoid</td>\n",
              "    </tr>\n",
              "    <tr>\n",
              "      <th>1</th>\n",
              "      <td>200</td>\n",
              "      <td>0.428998</td>\n",
              "      <td>0.771084</td>\n",
              "      <td>0.773933</td>\n",
              "      <td>1.0</td>\n",
              "      <td>0.653627</td>\n",
              "      <td>0.567155</td>\n",
              "      <td>0.011614</td>\n",
              "      <td>1.0</td>\n",
              "      <td>1.0</td>\n",
              "      <td>...</td>\n",
              "      <td>&lt;function relu at 0x7f1981979d90&gt;</td>\n",
              "      <td>&lt;class 'keras.optimizers.Adam'&gt;</td>\n",
              "      <td>&lt;function binary_crossentropy at 0x7f19819c3ea0&gt;</td>\n",
              "      <td>1</td>\n",
              "      <td>20</td>\n",
              "      <td>200</td>\n",
              "      <td>0.2</td>\n",
              "      <td>normal</td>\n",
              "      <td>0.2</td>\n",
              "      <td>sigmoid</td>\n",
              "    </tr>\n",
              "    <tr>\n",
              "      <th>2</th>\n",
              "      <td>200</td>\n",
              "      <td>0.425038</td>\n",
              "      <td>0.831325</td>\n",
              "      <td>0.823911</td>\n",
              "      <td>1.0</td>\n",
              "      <td>0.847390</td>\n",
              "      <td>0.674616</td>\n",
              "      <td>0.011953</td>\n",
              "      <td>1.0</td>\n",
              "      <td>1.0</td>\n",
              "      <td>...</td>\n",
              "      <td>&lt;function sigmoid at 0x7f1981979ea0&gt;</td>\n",
              "      <td>&lt;class 'keras.optimizers.Nadam'&gt;</td>\n",
              "      <td>&lt;function binary_crossentropy at 0x7f19819c3ea0&gt;</td>\n",
              "      <td>0</td>\n",
              "      <td>10</td>\n",
              "      <td>200</td>\n",
              "      <td>0.2</td>\n",
              "      <td>normal</td>\n",
              "      <td>0.1</td>\n",
              "      <td>sigmoid</td>\n",
              "    </tr>\n",
              "  </tbody>\n",
              "</table>\n",
              "<p>3 rows × 24 columns</p>\n",
              "</div>"
            ],
            "text/plain": [
              "   round_epochs  val_loss   val_acc  val_fmeasure_acc  val_recall_acc  \\\n",
              "0           200  0.534237  0.686747          0.709235             1.0   \n",
              "1           200  0.428998  0.771084          0.773933             1.0   \n",
              "2           200  0.425038  0.831325          0.823911             1.0   \n",
              "\n",
              "   val_precision_acc  val_matthews_correlation_acc      loss  acc  \\\n",
              "0           0.572439                      0.435617  0.281847  1.0   \n",
              "1           0.653627                      0.567155  0.011614  1.0   \n",
              "2           0.847390                      0.674616  0.011953  1.0   \n",
              "\n",
              "   fmeasure_acc  ...                            activation  \\\n",
              "0           1.0  ...     <function relu at 0x7f1981979d90>   \n",
              "1           1.0  ...     <function relu at 0x7f1981979d90>   \n",
              "2           1.0  ...  <function sigmoid at 0x7f1981979ea0>   \n",
              "\n",
              "                          optimizer  \\\n",
              "0   <class 'keras.optimizers.Adam'>   \n",
              "1   <class 'keras.optimizers.Adam'>   \n",
              "2  <class 'keras.optimizers.Nadam'>   \n",
              "\n",
              "                                             losses  hidden_layers batch_size  \\\n",
              "0  <function binary_crossentropy at 0x7f19819c3ea0>              2         20   \n",
              "1  <function binary_crossentropy at 0x7f19819c3ea0>              1         20   \n",
              "2  <function binary_crossentropy at 0x7f19819c3ea0>              0         10   \n",
              "\n",
              "  epochs dropout  kernel_initializer   lr  last_activation  \n",
              "0    200     0.2             uniform  0.1          sigmoid  \n",
              "1    200     0.2              normal  0.2          sigmoid  \n",
              "2    200     0.2              normal  0.1          sigmoid  \n",
              "\n",
              "[3 rows x 24 columns]"
            ]
          },
          "metadata": {
            "tags": []
          },
          "execution_count": 18
        }
      ]
    },
    {
      "metadata": {
        "id": "-Os1t3GKu5VA",
        "colab_type": "code",
        "outputId": "defb1aa4-dbca-4248-9e74-c1d669289225",
        "colab": {
          "base_uri": "https://localhost:8080/",
          "height": 35
        }
      },
      "cell_type": "code",
      "source": [
        "# get the number of rounds in the Scan\n",
        "r.rounds()"
      ],
      "execution_count": 19,
      "outputs": [
        {
          "output_type": "execute_result",
          "data": {
            "text/plain": [
              "388"
            ]
          },
          "metadata": {
            "tags": []
          },
          "execution_count": 19
        }
      ]
    },
    {
      "metadata": {
        "id": "SmBCauXmu74R",
        "colab_type": "code",
        "outputId": "3ac90909-45fa-4a22-ea77-16406e751971",
        "colab": {
          "base_uri": "https://localhost:8080/",
          "height": 35
        }
      },
      "cell_type": "code",
      "source": [
        "# get the highest result ('val_acc' by default)\n",
        "r.high()"
      ],
      "execution_count": 20,
      "outputs": [
        {
          "output_type": "execute_result",
          "data": {
            "text/plain": [
              "0.9156626448573837"
            ]
          },
          "metadata": {
            "tags": []
          },
          "execution_count": 20
        }
      ]
    },
    {
      "metadata": {
        "id": "_ZPQqpf9u_FK",
        "colab_type": "code",
        "outputId": "317c51f4-a764-499f-fc81-3f62ee7bb435",
        "colab": {
          "base_uri": "https://localhost:8080/",
          "height": 121
        }
      },
      "cell_type": "code",
      "source": [
        "# get the highest result for any metric\n",
        "print(\"F-measure accuracy:\", r.high('val_fmeasure_acc'))\n",
        "print(\"Training accuracy:\", r.high('acc'))\n",
        "print(\"Validation accuracy:\", r.high('val_acc'))\n",
        "print(\"Validation recall accuracy:\", r.high('val_recall_acc'))\n",
        "print(\"Validation precision accuracy:\", r.high('val_precision_acc'))\n",
        "print(\"Validation matthews correlation accuracy:\", r.high('val_matthews_correlation_acc'))"
      ],
      "execution_count": 21,
      "outputs": [
        {
          "output_type": "stream",
          "text": [
            "F-measure accuracy: 0.9000684547137066\n",
            "Training accuracy: 1.0\n",
            "Validation accuracy: 0.9156626448573837\n",
            "Validation recall accuracy: 0.9999999956912305\n",
            "Validation precision accuracy: 0.9999999956912305\n",
            "Validation matthews correlation accuracy: 0.824953337749803\n"
          ],
          "name": "stdout"
        }
      ]
    },
    {
      "metadata": {
        "id": "Hf-EDDDgvBFs",
        "colab_type": "code",
        "outputId": "6664d3e5-f615-4f6e-dbe2-f8e2c68612f9",
        "colab": {
          "base_uri": "https://localhost:8080/",
          "height": 121
        }
      },
      "cell_type": "code",
      "source": [
        "# get the round with the best result\n",
        "\n",
        "print(\"F-measure accuracy best round:\", r.rounds2high('val_fmeasure_acc'))\n",
        "print(\"Training accuracy best round:\", r.rounds2high('acc'))\n",
        "print(\"Validation accuracy best round:\", r.rounds2high('val_acc'))\n",
        "print(\"Validation recall accuracy best round:\", r.rounds2high('val_recall_acc'))\n",
        "print(\"Validation precision accuracy best round:\", r.rounds2high('val_precision_acc'))\n",
        "print(\"Validation matthews correlation accuracy best round:\", r.rounds2high('val_matthews_correlation_acc'))"
      ],
      "execution_count": 22,
      "outputs": [
        {
          "output_type": "stream",
          "text": [
            "F-measure accuracy best round: 90\n",
            "Training accuracy best round: 0\n",
            "Validation accuracy best round: 97\n",
            "Validation recall accuracy best round: 0\n",
            "Validation precision accuracy best round: 16\n",
            "Validation matthews correlation accuracy best round: 97\n"
          ],
          "name": "stdout"
        }
      ]
    },
    {
      "metadata": {
        "id": "jsmR6_o0vZXh",
        "colab_type": "code",
        "outputId": "f9425fdc-b8be-4baf-ab0f-afcfbb29808f",
        "colab": {
          "base_uri": "https://localhost:8080/",
          "height": 780
        }
      },
      "cell_type": "code",
      "source": [
        "# get correlation for hyperparameters against a metric\n",
        "print(\"Hyperparameters and f-measure accuracy\")\n",
        "print(r.correlate('val_fmeasure_acc'),\"\\n\")\n",
        "print(\"Hyperparameters and validation loss\")\n",
        "print(r.correlate('val_loss'),\"\\n\")\n",
        "print(\"Hyperparameters and validation accuracy\")\n",
        "print(r.correlate('val_acc'),\"\\n\")\n",
        "print(\"Hyperparameters and recall accuracy\")\n",
        "print(r.correlate('val_recall_acc'),\"\\n\")\n",
        "print(\"Hyperparameters and precision accuracy\")\n",
        "print(r.correlate('val_precision_acc'))"
      ],
      "execution_count": 23,
      "outputs": [
        {
          "output_type": "stream",
          "text": [
            "Hyperparameters and f-measure accuracy\n",
            "first_neuron     0.222249\n",
            "hidden_layers   -0.078367\n",
            "batch_size      -0.076679\n",
            "epochs           0.367650\n",
            "dropout          0.059883\n",
            "lr               0.371231\n",
            "Name: val_fmeasure_acc, dtype: float64 \n",
            "\n",
            "Hyperparameters and validation loss\n",
            "first_neuron    -0.210797\n",
            "hidden_layers    0.012421\n",
            "batch_size       0.135721\n",
            "epochs          -0.532521\n",
            "dropout         -0.037964\n",
            "lr              -0.539774\n",
            "Name: val_loss, dtype: float64 \n",
            "\n",
            "Hyperparameters and validation accuracy\n",
            "first_neuron     0.207769\n",
            "hidden_layers   -0.005968\n",
            "batch_size      -0.005012\n",
            "epochs           0.406014\n",
            "dropout          0.014584\n",
            "lr               0.364576\n",
            "Name: val_acc, dtype: float64 \n",
            "\n",
            "Hyperparameters and recall accuracy\n",
            "first_neuron     0.149992\n",
            "hidden_layers   -0.110142\n",
            "batch_size      -0.113936\n",
            "epochs           0.250214\n",
            "dropout          0.061186\n",
            "lr               0.262825\n",
            "Name: val_recall_acc, dtype: float64 \n",
            "\n",
            "Hyperparameters and precision accuracy\n",
            "first_neuron     0.183370\n",
            "hidden_layers   -0.040127\n",
            "batch_size      -0.012131\n",
            "epochs           0.347910\n",
            "dropout          0.052663\n",
            "lr               0.345085\n",
            "Name: val_precision_acc, dtype: float64\n"
          ],
          "name": "stdout"
        }
      ]
    },
    {
      "metadata": {
        "id": "HMrXRoMHFfde",
        "colab_type": "code",
        "outputId": "06ad0129-4220-48b4-89e0-694644bb70ca",
        "colab": {
          "base_uri": "https://localhost:8080/",
          "height": 181
        }
      },
      "cell_type": "code",
      "source": [
        "# access the row with the highest f-measure validation value\n",
        "h_value = r.high('val_fmeasure_acc')\n",
        "r.data.loc[r.data['val_fmeasure_acc'] == h_value]"
      ],
      "execution_count": 24,
      "outputs": [
        {
          "output_type": "execute_result",
          "data": {
            "text/html": [
              "<div>\n",
              "<style scoped>\n",
              "    .dataframe tbody tr th:only-of-type {\n",
              "        vertical-align: middle;\n",
              "    }\n",
              "\n",
              "    .dataframe tbody tr th {\n",
              "        vertical-align: top;\n",
              "    }\n",
              "\n",
              "    .dataframe thead th {\n",
              "        text-align: right;\n",
              "    }\n",
              "</style>\n",
              "<table border=\"1\" class=\"dataframe\">\n",
              "  <thead>\n",
              "    <tr style=\"text-align: right;\">\n",
              "      <th></th>\n",
              "      <th>round_epochs</th>\n",
              "      <th>val_loss</th>\n",
              "      <th>val_acc</th>\n",
              "      <th>val_fmeasure_acc</th>\n",
              "      <th>val_recall_acc</th>\n",
              "      <th>val_precision_acc</th>\n",
              "      <th>val_matthews_correlation_acc</th>\n",
              "      <th>loss</th>\n",
              "      <th>acc</th>\n",
              "      <th>fmeasure_acc</th>\n",
              "      <th>...</th>\n",
              "      <th>activation</th>\n",
              "      <th>optimizer</th>\n",
              "      <th>losses</th>\n",
              "      <th>hidden_layers</th>\n",
              "      <th>batch_size</th>\n",
              "      <th>epochs</th>\n",
              "      <th>dropout</th>\n",
              "      <th>kernel_initializer</th>\n",
              "      <th>lr</th>\n",
              "      <th>last_activation</th>\n",
              "    </tr>\n",
              "  </thead>\n",
              "  <tbody>\n",
              "    <tr>\n",
              "      <th>90</th>\n",
              "      <td>200</td>\n",
              "      <td>0.553653</td>\n",
              "      <td>0.903614</td>\n",
              "      <td>0.900068</td>\n",
              "      <td>0.956188</td>\n",
              "      <td>1.0</td>\n",
              "      <td>0.802246</td>\n",
              "      <td>0.434272</td>\n",
              "      <td>1.0</td>\n",
              "      <td>1.0</td>\n",
              "      <td>...</td>\n",
              "      <td>&lt;function sigmoid at 0x7f1981979ea0&gt;</td>\n",
              "      <td>&lt;class 'keras.optimizers.Adam'&gt;</td>\n",
              "      <td>&lt;function binary_crossentropy at 0x7f19819c3ea0&gt;</td>\n",
              "      <td>2</td>\n",
              "      <td>40</td>\n",
              "      <td>200</td>\n",
              "      <td>0.0</td>\n",
              "      <td>normal</td>\n",
              "      <td>0.2</td>\n",
              "      <td>sigmoid</td>\n",
              "    </tr>\n",
              "  </tbody>\n",
              "</table>\n",
              "<p>1 rows × 24 columns</p>\n",
              "</div>"
            ],
            "text/plain": [
              "    round_epochs  val_loss   val_acc  val_fmeasure_acc  val_recall_acc  \\\n",
              "90           200  0.553653  0.903614          0.900068        0.956188   \n",
              "\n",
              "    val_precision_acc  val_matthews_correlation_acc      loss  acc  \\\n",
              "90                1.0                      0.802246  0.434272  1.0   \n",
              "\n",
              "    fmeasure_acc  ...                            activation  \\\n",
              "90           1.0  ...  <function sigmoid at 0x7f1981979ea0>   \n",
              "\n",
              "                          optimizer  \\\n",
              "90  <class 'keras.optimizers.Adam'>   \n",
              "\n",
              "                                              losses  hidden_layers  \\\n",
              "90  <function binary_crossentropy at 0x7f19819c3ea0>              2   \n",
              "\n",
              "   batch_size epochs dropout  kernel_initializer   lr  last_activation  \n",
              "90         40    200     0.0              normal  0.2          sigmoid  \n",
              "\n",
              "[1 rows x 24 columns]"
            ]
          },
          "metadata": {
            "tags": []
          },
          "execution_count": 24
        }
      ]
    },
    {
      "metadata": {
        "id": "RGlss-RFvKYt",
        "colab_type": "code",
        "outputId": "e89d7d24-d133-4937-ec4d-8d3215ef0967",
        "colab": {
          "base_uri": "https://localhost:8080/",
          "height": 243
        }
      },
      "cell_type": "code",
      "source": [
        "# get the best paramaters\n",
        "r.best_params(n=3) # return the best 3 sets of params"
      ],
      "execution_count": 25,
      "outputs": [
        {
          "output_type": "execute_result",
          "data": {
            "text/plain": [
              "array([[0.1, 32, 100, 'normal', 2, 0.2,\n",
              "        '<function sigmoid at 0x7f1981979ea0>',\n",
              "        \"<class 'keras.optimizers.Nadam'>\", 'sigmoid',\n",
              "        '<function binary_crossentropy at 0x7f19819c3ea0>', 40, 0],\n",
              "       [0.2, 16, 200, 'normal', 2, 0.0,\n",
              "        '<function sigmoid at 0x7f1981979ea0>',\n",
              "        \"<class 'keras.optimizers.Adam'>\", 'sigmoid',\n",
              "        '<function binary_crossentropy at 0x7f19819c3ea0>', 40, 1],\n",
              "       [0.2, 8, 100, 'uniform', 1, 0.2,\n",
              "        '<function sigmoid at 0x7f1981979ea0>',\n",
              "        \"<class 'keras.optimizers.Nadam'>\", 'sigmoid',\n",
              "        '<function binary_crossentropy at 0x7f19819c3ea0>', 40, 2]],\n",
              "      dtype=object)"
            ]
          },
          "metadata": {
            "tags": []
          },
          "execution_count": 25
        }
      ]
    },
    {
      "metadata": {
        "id": "4GaRG2g5vhxl",
        "colab_type": "code",
        "outputId": "0a6c5ffb-5c65-47c5-c1a3-30ec8ea1dd4b",
        "colab": {
          "base_uri": "https://localhost:8080/",
          "height": 481
        }
      },
      "cell_type": "code",
      "source": [
        "# a regression plot for two dimensions \n",
        "r.plot_regs(\"val_acc\", \"epochs\")"
      ],
      "execution_count": 26,
      "outputs": [
        {
          "output_type": "display_data",
          "data": {
            "image/png": "[encoded data removed]",
            "text/plain": [
              "<Figure size 720x475.2 with 1 Axes>"
            ]
          },
          "metadata": {
            "tags": []
          }
        }
      ]
    },
    {
      "metadata": {
        "id": "BwlX1zsFaEz2",
        "colab_type": "code",
        "outputId": "c8bfccd0-5f06-487c-b280-60d4b0b5e5ae",
        "colab": {
          "base_uri": "https://localhost:8080/",
          "height": 518
        }
      },
      "cell_type": "code",
      "source": [
        "# line plot\n",
        "print(r.plot_line(\"val_acc\"))"
      ],
      "execution_count": 27,
      "outputs": [
        {
          "output_type": "stream",
          "text": [
            "None\n"
          ],
          "name": "stdout"
        },
        {
          "output_type": "display_data",
          "data": {
            "image/png": "[encoded data removed]",
            "text/plain": [
              "<Figure size 864x475.2 with 1 Axes>"
            ]
          },
          "metadata": {
            "tags": []
          }
        }
      ]
    },
    {
      "metadata": {
        "id": "ZRgsw8x5wEnx",
        "colab_type": "code",
        "outputId": "2a02d14c-c0fb-48c7-a40e-fb333bc3b705",
        "colab": {
          "base_uri": "https://localhost:8080/",
          "height": 481
        }
      },
      "cell_type": "code",
      "source": [
        "# up to two dimensional kernel density estimator\n",
        "r.plot_kde(\"epochs\",\"val_acc\")"
      ],
      "execution_count": 28,
      "outputs": [
        {
          "output_type": "display_data",
          "data": {
            "image/png": "[encoded data removed]",
            "text/plain": [
              "<Figure size 720x475.2 with 1 Axes>"
            ]
          },
          "metadata": {
            "tags": []
          }
        }
      ]
    },
    {
      "metadata": {
        "id": "rMRhX83oxIv4",
        "colab_type": "code",
        "outputId": "63034a68-194f-4ca6-9c16-89179d879f1c",
        "colab": {
          "base_uri": "https://localhost:8080/",
          "height": 481
        }
      },
      "cell_type": "code",
      "source": [
        "# a simple histogram\n",
        "r.plot_hist(bins=50)"
      ],
      "execution_count": 29,
      "outputs": [
        {
          "output_type": "display_data",
          "data": {
            "image/png": "[encoded data removed]",
            "text/plain": [
              "<Figure size 720x475.2 with 1 Axes>"
            ]
          },
          "metadata": {
            "tags": []
          }
        }
      ]
    },
    {
      "metadata": {
        "id": "QsM9EKRxxNf1",
        "colab_type": "code",
        "outputId": "ada36db0-2b42-4c59-9911-2e9a0b654bdf",
        "colab": {
          "base_uri": "https://localhost:8080/",
          "height": 313
        }
      },
      "cell_type": "code",
      "source": [
        "# a four dimensional bar grid\n",
        "r.plot_bars('batch_size', 'val_acc', 'first_neuron', 'lr')"
      ],
      "execution_count": 30,
      "outputs": [
        {
          "output_type": "display_data",
          "data": {
            "image/png": "[encoded data removed]",
            "text/plain": [
              "<Figure size 1236.25x288 with 3 Axes>"
            ]
          },
          "metadata": {
            "tags": []
          }
        }
      ]
    },
    {
      "metadata": {
        "id": "YeXKG6T51GH3",
        "colab_type": "text"
      },
      "cell_type": "markdown",
      "source": [
        "## Evaluating models\n",
        "Models can be evaluated with Evaluate() against a k-fold cross-validation. Ideally at least 50% of the data, or more if possible, is kept completely out of the Scan process and only exposed into Evaluate once one or more candidate models have been identified.\n",
        "\n",
        "**See source code at** https://github.com/autonomio/talos/blob/daily-dev/talos/commands/evaluate.py\n"
      ]
    },
    {
      "metadata": {
        "id": "nJzqujxIdWgy",
        "colab_type": "code",
        "outputId": "18929053-6669-47d5-ac04-9080fea5716e",
        "colab": {
          "base_uri": "https://localhost:8080/",
          "height": 69
        }
      },
      "cell_type": "code",
      "source": [
        "# k-fols crossvalidation with 10 folds, from test data\n",
        "# we're going to validate using the f-measure or harmonic mean since \n",
        "# combines precision and recall (optimize on that)\n",
        "# https://en.wikipedia.org/wiki/Precision_and_recall#F-measure\n",
        "\n",
        "e = ta.Evaluate(h)\n",
        "\n",
        "e.evaluate(x=x_test, y=y_test,\n",
        "           folds=10,\n",
        "           shuffle=True,\n",
        "           metric='val_fmeasure_acc',\n",
        "           mode='binary',\n",
        "           print_out=True)"
      ],
      "execution_count": 31,
      "outputs": [
        {
          "output_type": "stream",
          "text": [
            "mean : 0.09 \n",
            " std : 0.18\n"
          ],
          "name": "stdout"
        },
        {
          "output_type": "execute_result",
          "data": {
            "text/plain": [
              "[0.0, 0.0, 0.0, 0.0, 0.0, 0.4, 0.0, 0.0, 0.0, 0.5]"
            ]
          },
          "metadata": {
            "tags": []
          },
          "execution_count": 31
        }
      ]
    },
    {
      "metadata": {
        "id": "4-DAUSyPfIkS",
        "colab_type": "text"
      },
      "cell_type": "markdown",
      "source": [
        "## Evaluating model on test set"
      ]
    },
    {
      "metadata": {
        "id": "_KbTwElFfXgM",
        "colab_type": "text"
      },
      "cell_type": "markdown",
      "source": [
        "### Classification report AND Confusion matrix\n",
        "\n",
        "Here we will iterate over all possible evaluation criteria to generate a matrix of confusion matrices. Each evaluation criteria (acc, val_acc, etc.) index the round (model) with the highest value on that criteria from all the trained models.\n",
        "\n",
        "After model selection, we make predictions on the test set. The results for the confusion matrix and the classification report are storaged in a pandas dataframe for each model-criteria pair. \n",
        "\n",
        "- **accuracy:** true positives + true negatives/ total results OR OR *“for all instances, what percent was correct?”*\n",
        "- **precision:** true positives / false positives + true positives OR *“for all instances classified positive, what percent was correct?”*\n",
        "- **recall:** true positives / true positives + false negatives   OR  “for all instances that were actually positive, what percent was classified correctly?”\n",
        "- **f1-score:** 2 * (precision * recall)/(precision + recall) // The F1 score is a weighted harmonic mean of precision and recall such that the best score is 1.0 and the worst is 0.0. \n",
        "-  **support:** is the number of actual occurrences of the class in the specified dataset. Imbalanced support in the training data may indicate structural weaknesses in the reported scores of the classifier and could indicate the need for stratified sampling or rebalancing\n",
        "\n",
        "**See documentation at** https://www.scikit-yb.org/en/latest/api/classifier/classification_report.html"
      ]
    },
    {
      "metadata": {
        "id": "gySzkULR_yXa",
        "colab_type": "code",
        "colab": {}
      },
      "cell_type": "code",
      "source": [
        "# Here we loop over the best models based on relevant criterias to build a \n",
        "# confusion matrix and classification report \n",
        "\n",
        "from sklearn.metrics import confusion_matrix\n",
        "from sklearn.metrics import classification_report\n",
        "from sklearn.metrics import accuracy_score\n",
        "from sklearn.metrics import average_precision_score\n",
        "from sklearn.metrics import matthews_corrcoef\n",
        "from sklearn.metrics import precision_recall_fscore_support as score\n",
        "\n",
        "import pandas as pd\n",
        "\n",
        "# for all (child and adult)\n",
        "true_neg_l = []\n",
        "false_pos_l = []\n",
        "false_neg_l = []\n",
        "true_pos_l = []\n",
        "matthews_l = []\n",
        "ave_precision_l = []\n",
        "accuracy_score_l = []\n",
        "\n",
        "\n",
        "# for child\n",
        "precision_l_c = []\n",
        "recall_l_c = []\n",
        "fscore_l_c = []\n",
        "support_l_c = []\n",
        "\n",
        "# for adult\n",
        "precision_l_a = []\n",
        "recall_l_a = []\n",
        "fscore_l_a = []\n",
        "support_l_a = []\n",
        "\n",
        "\n",
        "criteria_list= ['acc', 'fmeasure_acc', 'recall_acc', 'precision_acc', 'matthews_correlation_acc',\n",
        "               'val_acc', 'val_fmeasure_acc', 'val_recall_acc', 'val_precision_acc', 'val_matthews_correlation_acc']\n",
        "for criteria in criteria_list:\n",
        "  # get best model id from the scan object based on some acc measure\n",
        "  model_id = best_model(h, criteria, False)\n",
        "  # activate best model based on model id\n",
        "  model = activate_model(h, model_id)\n",
        "  \n",
        "  # predicted labels\n",
        "  y_pred = model.predict_classes(x_test) \n",
        "  # true labels\n",
        "  y_true = y_test \n",
        "  \n",
        "  # Extract confusion matrix values\n",
        "  true_neg, false_pos, false_neg, true_pos = confusion_matrix(y_true, y_pred).ravel()\n",
        "  true_neg_l.append(true_neg)\n",
        "  false_pos_l.append(false_pos)\n",
        "  false_neg_l.append(false_neg)\n",
        "  true_pos_l.append(true_pos)\n",
        "  \n",
        "  # extract \n",
        "  precision,recall,fscore,support = score(y_true,y_pred,average=None)\n",
        "  matthews = matthews_corrcoef(y_true, y_pred)  \n",
        "  ave_precision = average_precision_score(y_true, y_pred)\n",
        "  acc = accuracy_score(y_true, y_pred)\n",
        "  \n",
        "  # child data \n",
        "  precision_l_c.append(precision[0])\n",
        "  recall_l_c.append(recall[0])\n",
        "  fscore_l_c.append(fscore[0])\n",
        "  support_l_c.append(support[0])\n",
        "  \n",
        "  # adult data\n",
        "  precision_l_a.append(precision[1])\n",
        "  recall_l_a.append(recall[1])\n",
        "  fscore_l_a.append(fscore[1])\n",
        "  support_l_a.append(support[1])\n",
        "  \n",
        "  # matthews-score, ave-precision, total accuracy\n",
        "  matthews_l.append(matthews)\n",
        "  ave_precision_l.append(ave_precision)\n",
        "  accuracy_score_l.append(acc)\n",
        "\n",
        "labels = [\"criteria\",\"True_Negatives\", \"False_Positives\", \"False_Negatives\", \"True_Positives\",\n",
        "          \"Precision_(Child)\", \"Recall_(Child)\", \"F-Score_(Child)\",\"Support_(Child)\",\n",
        "          \"Precision_(Adult)\", \"Recall_(Adult)\", \"F-Score_(Adult)\",\"Support_(adult)\",\n",
        "          \"Matthews_Score\", \"Average_Precision\", \"Accuracy_Score\"]\n",
        "\n",
        "data = list(zip(criteria_list, true_neg_l, false_pos_l, false_neg_l, true_pos_l, \n",
        "                precision_l_c, recall_l_c, fscore_l_c, support_l_c, \n",
        "                precision_l_a, recall_l_a, fscore_l_a, support_l_a, \n",
        "                matthews_l, ave_precision_l, accuracy_score_l))\n",
        "\n",
        "assert len(criteria_list) == len(data), \"criteria list and data don't match\"\n",
        "\n",
        "classification_report = pd.DataFrame(data, columns=labels, index = None )\n"
      ],
      "execution_count": 0,
      "outputs": []
    },
    {
      "metadata": {
        "id": "Nlhko36eL9VR",
        "colab_type": "code",
        "outputId": "8abb6a79-f0e1-46a5-cc8e-c7d23aa6fbee",
        "colab": {
          "base_uri": "https://localhost:8080/",
          "height": 393
        }
      },
      "cell_type": "code",
      "source": [
        "# Now we can look the report in one place\n",
        "classification_report \n",
        "# We can pick the one with the best numbers based on any criteria to deploy"
      ],
      "execution_count": 37,
      "outputs": [
        {
          "output_type": "execute_result",
          "data": {
            "text/html": [
              "<div>\n",
              "<style scoped>\n",
              "    .dataframe tbody tr th:only-of-type {\n",
              "        vertical-align: middle;\n",
              "    }\n",
              "\n",
              "    .dataframe tbody tr th {\n",
              "        vertical-align: top;\n",
              "    }\n",
              "\n",
              "    .dataframe thead th {\n",
              "        text-align: right;\n",
              "    }\n",
              "</style>\n",
              "<table border=\"1\" class=\"dataframe\">\n",
              "  <thead>\n",
              "    <tr style=\"text-align: right;\">\n",
              "      <th></th>\n",
              "      <th>criteria</th>\n",
              "      <th>True_Negatives</th>\n",
              "      <th>False_Positives</th>\n",
              "      <th>False_Negatives</th>\n",
              "      <th>True_Positives</th>\n",
              "      <th>Precision_(Child)</th>\n",
              "      <th>Recall_(Child)</th>\n",
              "      <th>F-Score_(Child)</th>\n",
              "      <th>Support_(Child)</th>\n",
              "      <th>Precision_(Adult)</th>\n",
              "      <th>Recall_(Adult)</th>\n",
              "      <th>F-Score_(Adult)</th>\n",
              "      <th>Support_(adult)</th>\n",
              "      <th>Matthews_Score</th>\n",
              "      <th>Average_Precision</th>\n",
              "      <th>Accuracy_Score</th>\n",
              "    </tr>\n",
              "  </thead>\n",
              "  <tbody>\n",
              "    <tr>\n",
              "      <th>0</th>\n",
              "      <td>acc</td>\n",
              "      <td>35</td>\n",
              "      <td>30</td>\n",
              "      <td>5</td>\n",
              "      <td>8</td>\n",
              "      <td>0.875000</td>\n",
              "      <td>0.538462</td>\n",
              "      <td>0.666667</td>\n",
              "      <td>65</td>\n",
              "      <td>0.210526</td>\n",
              "      <td>0.615385</td>\n",
              "      <td>0.313725</td>\n",
              "      <td>13</td>\n",
              "      <td>0.114708</td>\n",
              "      <td>0.193657</td>\n",
              "      <td>0.551282</td>\n",
              "    </tr>\n",
              "    <tr>\n",
              "      <th>1</th>\n",
              "      <td>fmeasure_acc</td>\n",
              "      <td>35</td>\n",
              "      <td>30</td>\n",
              "      <td>5</td>\n",
              "      <td>8</td>\n",
              "      <td>0.875000</td>\n",
              "      <td>0.538462</td>\n",
              "      <td>0.666667</td>\n",
              "      <td>65</td>\n",
              "      <td>0.210526</td>\n",
              "      <td>0.615385</td>\n",
              "      <td>0.313725</td>\n",
              "      <td>13</td>\n",
              "      <td>0.114708</td>\n",
              "      <td>0.193657</td>\n",
              "      <td>0.551282</td>\n",
              "    </tr>\n",
              "    <tr>\n",
              "      <th>2</th>\n",
              "      <td>recall_acc</td>\n",
              "      <td>35</td>\n",
              "      <td>30</td>\n",
              "      <td>5</td>\n",
              "      <td>8</td>\n",
              "      <td>0.875000</td>\n",
              "      <td>0.538462</td>\n",
              "      <td>0.666667</td>\n",
              "      <td>65</td>\n",
              "      <td>0.210526</td>\n",
              "      <td>0.615385</td>\n",
              "      <td>0.313725</td>\n",
              "      <td>13</td>\n",
              "      <td>0.114708</td>\n",
              "      <td>0.193657</td>\n",
              "      <td>0.551282</td>\n",
              "    </tr>\n",
              "    <tr>\n",
              "      <th>3</th>\n",
              "      <td>precision_acc</td>\n",
              "      <td>35</td>\n",
              "      <td>30</td>\n",
              "      <td>5</td>\n",
              "      <td>8</td>\n",
              "      <td>0.875000</td>\n",
              "      <td>0.538462</td>\n",
              "      <td>0.666667</td>\n",
              "      <td>65</td>\n",
              "      <td>0.210526</td>\n",
              "      <td>0.615385</td>\n",
              "      <td>0.313725</td>\n",
              "      <td>13</td>\n",
              "      <td>0.114708</td>\n",
              "      <td>0.193657</td>\n",
              "      <td>0.551282</td>\n",
              "    </tr>\n",
              "    <tr>\n",
              "      <th>4</th>\n",
              "      <td>matthews_correlation_acc</td>\n",
              "      <td>35</td>\n",
              "      <td>30</td>\n",
              "      <td>5</td>\n",
              "      <td>8</td>\n",
              "      <td>0.875000</td>\n",
              "      <td>0.538462</td>\n",
              "      <td>0.666667</td>\n",
              "      <td>65</td>\n",
              "      <td>0.210526</td>\n",
              "      <td>0.615385</td>\n",
              "      <td>0.313725</td>\n",
              "      <td>13</td>\n",
              "      <td>0.114708</td>\n",
              "      <td>0.193657</td>\n",
              "      <td>0.551282</td>\n",
              "    </tr>\n",
              "    <tr>\n",
              "      <th>5</th>\n",
              "      <td>val_acc</td>\n",
              "      <td>28</td>\n",
              "      <td>37</td>\n",
              "      <td>4</td>\n",
              "      <td>9</td>\n",
              "      <td>0.875000</td>\n",
              "      <td>0.430769</td>\n",
              "      <td>0.577320</td>\n",
              "      <td>65</td>\n",
              "      <td>0.195652</td>\n",
              "      <td>0.692308</td>\n",
              "      <td>0.305085</td>\n",
              "      <td>13</td>\n",
              "      <td>0.093250</td>\n",
              "      <td>0.186734</td>\n",
              "      <td>0.474359</td>\n",
              "    </tr>\n",
              "    <tr>\n",
              "      <th>6</th>\n",
              "      <td>val_fmeasure_acc</td>\n",
              "      <td>51</td>\n",
              "      <td>14</td>\n",
              "      <td>11</td>\n",
              "      <td>2</td>\n",
              "      <td>0.822581</td>\n",
              "      <td>0.784615</td>\n",
              "      <td>0.803150</td>\n",
              "      <td>65</td>\n",
              "      <td>0.125000</td>\n",
              "      <td>0.153846</td>\n",
              "      <td>0.137931</td>\n",
              "      <td>13</td>\n",
              "      <td>-0.056796</td>\n",
              "      <td>0.160256</td>\n",
              "      <td>0.679487</td>\n",
              "    </tr>\n",
              "    <tr>\n",
              "      <th>7</th>\n",
              "      <td>val_recall_acc</td>\n",
              "      <td>35</td>\n",
              "      <td>30</td>\n",
              "      <td>5</td>\n",
              "      <td>8</td>\n",
              "      <td>0.875000</td>\n",
              "      <td>0.538462</td>\n",
              "      <td>0.666667</td>\n",
              "      <td>65</td>\n",
              "      <td>0.210526</td>\n",
              "      <td>0.615385</td>\n",
              "      <td>0.313725</td>\n",
              "      <td>13</td>\n",
              "      <td>0.114708</td>\n",
              "      <td>0.193657</td>\n",
              "      <td>0.551282</td>\n",
              "    </tr>\n",
              "    <tr>\n",
              "      <th>8</th>\n",
              "      <td>val_precision_acc</td>\n",
              "      <td>60</td>\n",
              "      <td>5</td>\n",
              "      <td>13</td>\n",
              "      <td>0</td>\n",
              "      <td>0.821918</td>\n",
              "      <td>0.923077</td>\n",
              "      <td>0.869565</td>\n",
              "      <td>65</td>\n",
              "      <td>0.000000</td>\n",
              "      <td>0.000000</td>\n",
              "      <td>0.000000</td>\n",
              "      <td>13</td>\n",
              "      <td>-0.117041</td>\n",
              "      <td>0.166667</td>\n",
              "      <td>0.769231</td>\n",
              "    </tr>\n",
              "    <tr>\n",
              "      <th>9</th>\n",
              "      <td>val_matthews_correlation_acc</td>\n",
              "      <td>28</td>\n",
              "      <td>37</td>\n",
              "      <td>4</td>\n",
              "      <td>9</td>\n",
              "      <td>0.875000</td>\n",
              "      <td>0.430769</td>\n",
              "      <td>0.577320</td>\n",
              "      <td>65</td>\n",
              "      <td>0.195652</td>\n",
              "      <td>0.692308</td>\n",
              "      <td>0.305085</td>\n",
              "      <td>13</td>\n",
              "      <td>0.093250</td>\n",
              "      <td>0.186734</td>\n",
              "      <td>0.474359</td>\n",
              "    </tr>\n",
              "  </tbody>\n",
              "</table>\n",
              "</div>"
            ],
            "text/plain": [
              "                       criteria  True_Negatives  False_Positives  \\\n",
              "0                           acc              35               30   \n",
              "1                  fmeasure_acc              35               30   \n",
              "2                    recall_acc              35               30   \n",
              "3                 precision_acc              35               30   \n",
              "4      matthews_correlation_acc              35               30   \n",
              "5                       val_acc              28               37   \n",
              "6              val_fmeasure_acc              51               14   \n",
              "7                val_recall_acc              35               30   \n",
              "8             val_precision_acc              60                5   \n",
              "9  val_matthews_correlation_acc              28               37   \n",
              "\n",
              "   False_Negatives  True_Positives  Precision_(Child)  Recall_(Child)  \\\n",
              "0                5               8           0.875000        0.538462   \n",
              "1                5               8           0.875000        0.538462   \n",
              "2                5               8           0.875000        0.538462   \n",
              "3                5               8           0.875000        0.538462   \n",
              "4                5               8           0.875000        0.538462   \n",
              "5                4               9           0.875000        0.430769   \n",
              "6               11               2           0.822581        0.784615   \n",
              "7                5               8           0.875000        0.538462   \n",
              "8               13               0           0.821918        0.923077   \n",
              "9                4               9           0.875000        0.430769   \n",
              "\n",
              "   F-Score_(Child)  Support_(Child)  Precision_(Adult)  Recall_(Adult)  \\\n",
              "0         0.666667               65           0.210526        0.615385   \n",
              "1         0.666667               65           0.210526        0.615385   \n",
              "2         0.666667               65           0.210526        0.615385   \n",
              "3         0.666667               65           0.210526        0.615385   \n",
              "4         0.666667               65           0.210526        0.615385   \n",
              "5         0.577320               65           0.195652        0.692308   \n",
              "6         0.803150               65           0.125000        0.153846   \n",
              "7         0.666667               65           0.210526        0.615385   \n",
              "8         0.869565               65           0.000000        0.000000   \n",
              "9         0.577320               65           0.195652        0.692308   \n",
              "\n",
              "   F-Score_(Adult)  Support_(adult)  Matthews_Score  Average_Precision  \\\n",
              "0         0.313725               13        0.114708           0.193657   \n",
              "1         0.313725               13        0.114708           0.193657   \n",
              "2         0.313725               13        0.114708           0.193657   \n",
              "3         0.313725               13        0.114708           0.193657   \n",
              "4         0.313725               13        0.114708           0.193657   \n",
              "5         0.305085               13        0.093250           0.186734   \n",
              "6         0.137931               13       -0.056796           0.160256   \n",
              "7         0.313725               13        0.114708           0.193657   \n",
              "8         0.000000               13       -0.117041           0.166667   \n",
              "9         0.305085               13        0.093250           0.186734   \n",
              "\n",
              "   Accuracy_Score  \n",
              "0        0.551282  \n",
              "1        0.551282  \n",
              "2        0.551282  \n",
              "3        0.551282  \n",
              "4        0.551282  \n",
              "5        0.474359  \n",
              "6        0.679487  \n",
              "7        0.551282  \n",
              "8        0.769231  \n",
              "9        0.474359  "
            ]
          },
          "metadata": {
            "tags": []
          },
          "execution_count": 37
        }
      ]
    },
    {
      "metadata": {
        "id": "0nOBnwC4QxuK",
        "colab_type": "code",
        "colab": {
          "base_uri": "https://localhost:8080/",
          "height": 745
        },
        "outputId": "2e85c919-96d1-430a-88da-735f99db8b34"
      },
      "cell_type": "code",
      "source": [
        "import seaborn as sns\n",
        "sns.set(style=\"whitegrid\")\n",
        "\n",
        "f, axes = plt.subplots(2, 2, figsize=(15, 10), sharex=True)\n",
        "sns.despine(left=True)\n",
        "\n",
        "sns.barplot(x=\"True_Negatives\", y= \"criteria\", data=classification_report, ax=axes[0, 0])\n",
        "sns.barplot(x=\"False_Negatives\", y= \"criteria\", data=classification_report, ax=axes[0, 1])\n",
        "sns.barplot(x=\"True_Positives\", y= \"criteria\", data=classification_report, ax=axes[1, 0])\n",
        "sns.barplot(x=\"False_Positives\", y= \"criteria\", data=classification_report, ax=axes[1, 1])\n",
        "\n",
        "plt.tight_layout()\n",
        "plt.savefig('confusion_matrix_exp1.pdf')"
      ],
      "execution_count": 59,
      "outputs": [
        {
          "output_type": "display_data",
          "data": {
            "image/png": "[encoded data removed]",
            "text/plain": [
              "<Figure size 1080x720 with 4 Axes>"
            ]
          },
          "metadata": {
            "tags": []
          }
        }
      ]
    },
    {
      "metadata": {
        "id": "SWw-yF6UZG2w",
        "colab_type": "code",
        "colab": {
          "base_uri": "https://localhost:8080/",
          "height": 745
        },
        "outputId": "a0c8b1a4-255a-4121-dc51-d9e087186e2a"
      },
      "cell_type": "code",
      "source": [
        "sns.set(style=\"whitegrid\")\n",
        "\n",
        "f, axes = plt.subplots(2, 2, figsize=(15, 10), sharex=True)\n",
        "sns.despine(left=True)\n",
        "\n",
        "sns.barplot(x=\"Precision_(Child)\", y= \"criteria\", data=classification_report, ax=axes[0, 0])\n",
        "sns.barplot(x=\"Recall_(Child)\", y= \"criteria\", data=classification_report, ax=axes[0, 1])\n",
        "sns.barplot(x=\"Precision_(Adult)\", y= \"criteria\", data=classification_report, ax=axes[1, 0])\n",
        "sns.barplot(x=\"Recall_(Adult)\", y= \"criteria\", data=classification_report, ax=axes[1, 1])\n",
        "\n",
        "plt.tight_layout()\n",
        "plt.savefig('classification_report_exp1.pdf')"
      ],
      "execution_count": 60,
      "outputs": [
        {
          "output_type": "display_data",
          "data": {
            "image/png": "[encoded data removed]",
            "text/plain": [
              "<Figure size 1080x720 with 4 Axes>"
            ]
          },
          "metadata": {
            "tags": []
          }
        }
      ]
    },
    {
      "metadata": {
        "id": "JAwTjVRJbltB",
        "colab_type": "code",
        "colab": {
          "base_uri": "https://localhost:8080/",
          "height": 745
        },
        "outputId": "c344f8c2-bad4-4c58-faf5-fe0cb6d89d85"
      },
      "cell_type": "code",
      "source": [
        "sns.set(style=\"whitegrid\")\n",
        "\n",
        "f, axes = plt.subplots(ncols=2, figsize=(15, 10), sharex=True)\n",
        "sns.despine(left=True)\n",
        "\n",
        "sns.barplot(x=\"Accuracy_Score\", y= \"criteria\", data=classification_report, ax=axes[0])\n",
        "sns.barplot(x=\"Average_Precision\", y= \"criteria\", data=classification_report, ax=axes[1])\n",
        "\n",
        "plt.tight_layout()\n",
        "plt.savefig('avg_precision_accuracy_exp1.pdf')"
      ],
      "execution_count": 61,
      "outputs": [
        {
          "output_type": "display_data",
          "data": {
            "image/png": "[encoded data removed]",
            "text/plain": [
              "<Figure size 1080x720 with 2 Axes>"
            ]
          },
          "metadata": {
            "tags": []
          }
        }
      ]
    },
    {
      "metadata": {
        "id": "0y7iN0L_N4kf",
        "colab_type": "code",
        "colab": {}
      },
      "cell_type": "code",
      "source": [
        "# save the model on a csv file\n",
        "exp_n = '1'\n",
        "file_name = 'classification_report_dap_' + exp_n + '.csv'\n",
        "classification_report.to_csv(file_name, sep=',')"
      ],
      "execution_count": 0,
      "outputs": []
    },
    {
      "metadata": {
        "id": "1z_nW90U1YDT",
        "colab_type": "text"
      },
      "cell_type": "markdown",
      "source": [
        "## Deploying models\n",
        "\n",
        "Once the right model or models have been found, you can create a deployment package with Deploy() which is then easy to transfer to a production or other environment, send via email, or upload to shared remote location. Best model is automatically chosen based on a given metric ('val_acc' by default).\n",
        "\n",
        "The Deploy package is a zip file that consist of:\n",
        "\n",
        "- details of the scan\n",
        "- model weights\n",
        "- model json\n",
        "- results of the experiment\n",
        "- sample of x data\n",
        "- sample of y data\n",
        "\n",
        "**See source code at** https://github.com/autonomio/talos/blob/daily-dev/talos/commands/deploy.py"
      ]
    },
    {
      "metadata": {
        "id": "x5k0Ow3s1veN",
        "colab_type": "code",
        "outputId": "c7175cc0-192e-4e43-87e3-3d3c9ed1c254",
        "colab": {
          "base_uri": "https://localhost:8080/",
          "height": 35
        }
      },
      "cell_type": "code",
      "source": [
        "# By default selects the model with best validation accuracy \"recall_acc\"\n",
        "# Other metrics can be specified\n",
        "# name code: \"[dataset]-[experiment-number]-[rounds/models]-[seleccion-criteria]-[%-searched]\"\n",
        "rounds = str(r.rounds())\n",
        "exp_n = '1'\n",
        "metric = 'val_recall_acc'\n",
        "proportion = '5_out_of_a_100'\n",
        "filename = 'dap' + 'exp' + exp_n + metric + rounds + proportion\n",
        "ta.Deploy(h, filename, metric='val_recall_acc');"
      ],
      "execution_count": 63,
      "outputs": [
        {
          "output_type": "stream",
          "text": [
            "Deploy package dapexp1val_recall_acc3885_out_of_a_100 have been saved.\n"
          ],
          "name": "stdout"
        }
      ]
    },
    {
      "metadata": {
        "id": "A7N2o6du2ZiY",
        "colab_type": "text"
      },
      "cell_type": "markdown",
      "source": [
        "## Restoring models\n",
        "Restores the scan_object that had been stored locally as a result of talos.Deploy\n",
        "\n",
        "**See source code at** https://github.com/autonomio/talos/blob/daily-dev/talos/commands/restore.py "
      ]
    },
    {
      "metadata": {
        "id": "3xwaox5A2bk1",
        "colab_type": "code",
        "colab": {}
      },
      "cell_type": "code",
      "source": [
        "# Restore model from local environment\n",
        "model_name = # COPY NAME TO RESTOR FROM FILES\n",
        "drawings = ta.Restore(model_name)"
      ],
      "execution_count": 0,
      "outputs": []
    },
    {
      "metadata": {
        "id": "UPinzBzp24wO",
        "colab_type": "code",
        "colab": {}
      },
      "cell_type": "code",
      "source": [
        "# make predictions with the model\n",
        "drawings.model.predict(x_test)[0:9,] # print first 10"
      ],
      "execution_count": 0,
      "outputs": []
    },
    {
      "metadata": {
        "id": "VDOp6Hj73Fq4",
        "colab_type": "code",
        "colab": {}
      },
      "cell_type": "code",
      "source": [
        "# get the meta-data for the experiment/optimization\n",
        "print(drawings.details)"
      ],
      "execution_count": 0,
      "outputs": []
    },
    {
      "metadata": {
        "id": "21pi4AT43nMx",
        "colab_type": "code",
        "colab": {}
      },
      "cell_type": "code",
      "source": [
        "# get the hyperparameter space boundary for the experiment/optimization\n",
        "print(drawings.params)"
      ],
      "execution_count": 0,
      "outputs": []
    },
    {
      "metadata": {
        "id": "tu38HGIU3rJ4",
        "colab_type": "code",
        "colab": {}
      },
      "cell_type": "code",
      "source": [
        "# sample of x and y data, returns pandas dataframe\n",
        "print(drawings.x.iloc[0:3, 0:3]) # print first 3 rows and columns\n",
        "print(drawings.y.iloc[0:3]) # print first 3 rows "
      ],
      "execution_count": 0,
      "outputs": []
    },
    {
      "metadata": {
        "id": "Aa2lLx9d3s8Z",
        "colab_type": "code",
        "colab": {}
      },
      "cell_type": "code",
      "source": [
        "# the results dataframe\n",
        "drawings.results[0:3] # print first 3 rows"
      ],
      "execution_count": 0,
      "outputs": []
    },
    {
      "metadata": {
        "id": "SXdtsIOHBZWj",
        "colab_type": "text"
      },
      "cell_type": "markdown",
      "source": [
        "# Resources\n",
        "- **Talos repo**: https://github.com/autonomio/talos\n",
        "- **Talos example**:  https://nbviewer.jupyter.org/github/autonomio/talos/blob/master/examples/Hyperparameter%20Optimization%20on%20Keras%20with%20Breast%20Cancer%20Data.ipynb"
      ]
    }
  ]
}