{
  "nbformat": 4,
  "nbformat_minor": 0,
  "metadata": {
    "colab": {
      "name": "model_training_hyperparameter_optimization.ipynb",
      "version": "0.3.2",
      "provenance": [],
      "toc_visible": true,
      "include_colab_link": true
    },
    "kernelspec": {
      "name": "python3",
      "display_name": "Python 3"
    },
    "accelerator": "GPU"
  },
  "cells": [
    {
      "cell_type": "markdown",
      "metadata": {
        "id": "view-in-github",
        "colab_type": "text"
      },
      "source": [
        "<a href=\"https://colab.research.google.com/github/pabloinsente/CovNet_Human_Drawings/blob/master/code/model_training_hyperparameter_optimization.ipynb\" target=\"_parent\"><img src=\"https://colab.research.google.com/assets/colab-badge.svg\" alt=\"Open In Colab\"/></a>"
      ]
    },
    {
      "metadata": {
        "id": "3oEwJCxQRSIn",
        "colab_type": "code",
        "colab": {
          "base_uri": "https://localhost:8080/",
          "height": 1164
        },
        "outputId": "0d912f5d-63fa-44be-ce3e-0ef2c015e836"
      },
      "cell_type": "code",
      "source": [
        "!pip install talos"
      ],
      "execution_count": 1,
      "outputs": [
        {
          "output_type": "stream",
          "text": [
            "Collecting talos\n",
            "  Downloading https://files.pythonhosted.org/packages/74/26/c44a51af579835c873e878b99c68fcba08107cdfc22d72ac4ecbc027f158/talos-0.4.9.tar.gz\n",
            "Requirement already satisfied: numpy in /usr/local/lib/python3.6/dist-packages (from talos) (1.16.2)\n",
            "Requirement already satisfied: pandas in /usr/local/lib/python3.6/dist-packages (from talos) (0.23.4)\n",
            "Requirement already satisfied: keras in /usr/local/lib/python3.6/dist-packages (from talos) (2.2.4)\n",
            "Collecting astetik (from talos)\n",
            "  Downloading https://files.pythonhosted.org/packages/03/c7/d074a03a59f55708cacb875c008bf375028c452a1ffcc452762a3c3dfed2/astetik-1.9.8.tar.gz\n",
            "Requirement already satisfied: sklearn in /usr/local/lib/python3.6/dist-packages (from talos) (0.0)\n",
            "Requirement already satisfied: tqdm in /usr/local/lib/python3.6/dist-packages (from talos) (4.28.1)\n",
            "Collecting chances (from talos)\n",
            "\u001b[?25l  Downloading https://files.pythonhosted.org/packages/7f/8a/e0ce40affac9c5292da615375cd2ce979728b8f5a5d3afd4a9e3acdf9166/chances-0.1.6.tar.gz (45kB)\n",
            "\u001b[K    100% |████████████████████████████████| 51kB 20.8MB/s \n",
            "\u001b[?25hCollecting kerasplotlib (from talos)\n",
            "  Downloading https://files.pythonhosted.org/packages/e8/2e/b8628bfef6a817da9be863f650cf67187676b10d27d94b23f248da35d2b4/kerasplotlib-0.1.4.tar.gz\n",
            "Collecting wrangle (from talos)\n",
            "  Downloading https://files.pythonhosted.org/packages/71/9b/11fec37414435e24d2592672540a1c3e358c35fe05a98c8df2e08df91000/wrangle-0.6.2.tar.gz\n",
            "Requirement already satisfied: requests in /usr/local/lib/python3.6/dist-packages (from talos) (2.18.4)\n",
            "Requirement already satisfied: python-dateutil>=2.5.0 in /usr/local/lib/python3.6/dist-packages (from pandas->talos) (2.5.3)\n",
            "Requirement already satisfied: pytz>=2011k in /usr/local/lib/python3.6/dist-packages (from pandas->talos) (2018.9)\n",
            "Requirement already satisfied: six>=1.9.0 in /usr/local/lib/python3.6/dist-packages (from keras->talos) (1.11.0)\n",
            "Requirement already satisfied: keras-applications>=1.0.6 in /usr/local/lib/python3.6/dist-packages (from keras->talos) (1.0.7)\n",
            "Requirement already satisfied: pyyaml in /usr/local/lib/python3.6/dist-packages (from keras->talos) (3.13)\n",
            "Requirement already satisfied: keras-preprocessing>=1.0.5 in /usr/local/lib/python3.6/dist-packages (from keras->talos) (1.0.9)\n",
            "Requirement already satisfied: h5py in /usr/local/lib/python3.6/dist-packages (from keras->talos) (2.8.0)\n",
            "Requirement already satisfied: scipy>=0.14 in /usr/local/lib/python3.6/dist-packages (from keras->talos) (1.2.1)\n",
            "Collecting geonamescache (from astetik->talos)\n",
            "\u001b[?25l  Downloading https://files.pythonhosted.org/packages/f4/66/586b63536bc578a6d28ffc1114959f51b2ca1a9582f9b987206b3ba9aa86/geonamescache-1.0.1-py3-none-any.whl (775kB)\n",
            "\u001b[K    100% |████████████████████████████████| 778kB 20.3MB/s \n",
            "\u001b[?25hRequirement already satisfied: scikit-learn in /usr/local/lib/python3.6/dist-packages (from sklearn->talos) (0.20.3)\n",
            "Collecting matplotlib==2.2.3 (from chances->talos)\n",
            "\u001b[?25l  Downloading https://files.pythonhosted.org/packages/9e/59/f235ab21bbe7b7c6570c4abf17ffb893071f4fa3b9cf557b09b60359ad9a/matplotlib-2.2.3-cp36-cp36m-manylinux1_x86_64.whl (12.6MB)\n",
            "\u001b[K    100% |████████████████████████████████| 12.6MB 3.5MB/s \n",
            "\u001b[?25hRequirement already satisfied: statsmodels in /usr/local/lib/python3.6/dist-packages (from wrangle->talos) (0.8.0)\n",
            "Requirement already satisfied: urllib3<1.23,>=1.21.1 in /usr/local/lib/python3.6/dist-packages (from requests->talos) (1.22)\n",
            "Requirement already satisfied: chardet<3.1.0,>=3.0.2 in /usr/local/lib/python3.6/dist-packages (from requests->talos) (3.0.4)\n",
            "Requirement already satisfied: certifi>=2017.4.17 in /usr/local/lib/python3.6/dist-packages (from requests->talos) (2019.3.9)\n",
            "Requirement already satisfied: idna<2.7,>=2.5 in /usr/local/lib/python3.6/dist-packages (from requests->talos) (2.6)\n",
            "Requirement already satisfied: cycler>=0.10 in /usr/local/lib/python3.6/dist-packages (from matplotlib==2.2.3->chances->talos) (0.10.0)\n",
            "Requirement already satisfied: pyparsing!=2.0.4,!=2.1.2,!=2.1.6,>=2.0.1 in /usr/local/lib/python3.6/dist-packages (from matplotlib==2.2.3->chances->talos) (2.4.0)\n",
            "Requirement already satisfied: kiwisolver>=1.0.1 in /usr/local/lib/python3.6/dist-packages (from matplotlib==2.2.3->chances->talos) (1.0.1)\n",
            "Requirement already satisfied: patsy in /usr/local/lib/python3.6/dist-packages (from statsmodels->wrangle->talos) (0.5.1)\n",
            "Requirement already satisfied: setuptools in /usr/local/lib/python3.6/dist-packages (from kiwisolver>=1.0.1->matplotlib==2.2.3->chances->talos) (40.9.0)\n",
            "Building wheels for collected packages: talos, astetik, chances, kerasplotlib, wrangle\n",
            "  Building wheel for talos (setup.py) ... \u001b[?25ldone\n",
            "\u001b[?25h  Stored in directory: /root/.cache/pip/wheels/eb/6b/c0/5b58a4767728bb467656ccd70b4fc2e286840c1e8ffa2631ac\n",
            "  Building wheel for astetik (setup.py) ... \u001b[?25ldone\n",
            "\u001b[?25h  Stored in directory: /root/.cache/pip/wheels/ba/cc/e9/11c6a853d8379f295e17b68f2139ea1bbcd13c5b260822abc7\n",
            "  Building wheel for chances (setup.py) ... \u001b[?25ldone\n",
            "\u001b[?25h  Stored in directory: /root/.cache/pip/wheels/61/12/37/957767d4ed95919b90081079c6eb74f83927930e652b30fa93\n",
            "  Building wheel for kerasplotlib (setup.py) ... \u001b[?25ldone\n",
            "\u001b[?25h  Stored in directory: /root/.cache/pip/wheels/36/6b/4c/e1fc6d7d8811940fbea1147b1519c7baa6933e4baeff904433\n",
            "  Building wheel for wrangle (setup.py) ... \u001b[?25ldone\n",
            "\u001b[?25h  Stored in directory: /root/.cache/pip/wheels/ce/ea/67/c7756f897f70f22279c7f2bbf5be52423d85835643042fcc34\n",
            "Successfully built talos astetik chances kerasplotlib wrangle\n",
            "\u001b[31malbumentations 0.1.12 has requirement imgaug<0.2.7,>=0.2.5, but you'll have imgaug 0.2.8 which is incompatible.\u001b[0m\n",
            "Installing collected packages: wrangle, geonamescache, astetik, matplotlib, chances, kerasplotlib, talos\n",
            "  Found existing installation: matplotlib 3.0.3\n",
            "    Uninstalling matplotlib-3.0.3:\n",
            "      Successfully uninstalled matplotlib-3.0.3\n",
            "Successfully installed astetik-1.9.8 chances-0.1.6 geonamescache-1.0.1 kerasplotlib-0.1.4 matplotlib-2.2.3 talos-0.4.9 wrangle-0.6.2\n"
          ],
          "name": "stdout"
        },
        {
          "output_type": "display_data",
          "data": {
            "application/vnd.colab-display-data+json": {
              "pip_warning": {
                "packages": [
                  "matplotlib",
                  "mpl_toolkits"
                ]
              }
            }
          },
          "metadata": {
            "tags": []
          }
        }
      ]
    },
    {
      "metadata": {
        "id": "LVwIGgW9N9v7",
        "colab_type": "code",
        "colab": {
          "base_uri": "https://localhost:8080/",
          "height": 89
        },
        "outputId": "d79fb4b3-6230-4ff2-d0a2-1bb2997d4279"
      },
      "cell_type": "code",
      "source": [
        "import talos as ta\n",
        "from talos.metrics.keras_metrics import fmeasure_acc\n",
        "from talos.model.normalizers import lr_normalizer\n",
        "\n",
        "from keras.activations import relu, elu, sigmoid\n",
        "from keras.optimizers import Adam, Nadam, RMSprop\n",
        "from keras.losses import binary_crossentropy, logcosh\n",
        "from keras.models import Sequential\n",
        "from keras.layers import Dense, Dropout\n",
        "\n",
        "from numpy import genfromtxt\n",
        "\n",
        "%matplotlib inline"
      ],
      "execution_count": 1,
      "outputs": [
        {
          "output_type": "stream",
          "text": [
            "/usr/local/lib/python3.6/dist-packages/statsmodels/compat/pandas.py:56: FutureWarning: The pandas.core.datetools module is deprecated and will be removed in a future version. Please use the pandas.tseries module instead.\n",
            "  from pandas.core import datetools\n",
            "Using TensorFlow backend.\n"
          ],
          "name": "stderr"
        }
      ]
    },
    {
      "metadata": {
        "id": "oGx8tVOIQ_6U",
        "colab_type": "code",
        "colab": {
          "base_uri": "https://localhost:8080/",
          "height": 139
        },
        "outputId": "d1822368-110f-4c0c-925e-f52cd33cf8b2"
      },
      "cell_type": "code",
      "source": [
        "# Clone the data into Colab\n",
        "! git clone https://github.com/pabloinsente/CovNet_Human_Drawings"
      ],
      "execution_count": 2,
      "outputs": [
        {
          "output_type": "stream",
          "text": [
            "Cloning into 'CovNet_Human_Drawings'...\n",
            "remote: Enumerating objects: 57, done.\u001b[K\n",
            "remote: Counting objects: 100% (57/57), done.\u001b[K\n",
            "remote: Compressing objects: 100% (48/48), done.\u001b[K\n",
            "remote: Total 584 (delta 25), reused 25 (delta 9), pack-reused 527\u001b[K\n",
            "Receiving objects: 100% (584/584), 54.96 MiB | 27.96 MiB/s, done.\n",
            "Resolving deltas: 100% (135/135), done.\n"
          ],
          "name": "stdout"
        }
      ]
    },
    {
      "metadata": {
        "id": "MU75iiW7VYIj",
        "colab_type": "code",
        "colab": {
          "base_uri": "https://localhost:8080/",
          "height": 52
        },
        "outputId": "76cce42e-e372-46f2-900f-50a37f205230"
      },
      "cell_type": "code",
      "source": [
        "# Get data\n",
        "x_path= 'CovNet_Human_Drawings/data/merged_dataframes_prediction/x_train_drawings_features_max_pool_5_pca.csv'\n",
        "y_path = 'CovNet_Human_Drawings/data/merged_dataframes_prediction/y_train_age_adult_labels.csv'\n",
        "\n",
        "x = genfromtxt(x_path, delimiter=',')\n",
        "y = genfromtxt(y_path, delimiter=',')\n",
        "\n",
        "print(x.shape) # (258, 200)\n",
        "print(y.shape) # (258,)"
      ],
      "execution_count": 3,
      "outputs": [
        {
          "output_type": "stream",
          "text": [
            "(258, 200)\n",
            "(258,)\n"
          ],
          "name": "stdout"
        }
      ]
    },
    {
      "metadata": {
        "id": "IjFd7wkTjvk2",
        "colab_type": "code",
        "colab": {
          "base_uri": "https://localhost:8080/",
          "height": 87
        },
        "outputId": "2677dfec-7a7e-4f84-8d65-64c438b50d72"
      },
      "cell_type": "code",
      "source": [
        "# Split data into train and test sets\n",
        "# Since we have an small sample, we will do a 70/30 split\n",
        "from sklearn.model_selection import train_test_split\n",
        "x_train, x_test, y_train, y_test = train_test_split(x, y, test_size = 0.3, random_state=44)\n",
        "print(x_train.shape) # (180, 200)\n",
        "print(y_train.shape) # (180,)\n",
        "print(x_test.shape) # (78, 200)\n",
        "print(y_test.shape) # (78,)"
      ],
      "execution_count": 4,
      "outputs": [
        {
          "output_type": "stream",
          "text": [
            "(180, 200)\n",
            "(180,)\n",
            "(78, 200)\n",
            "(78,)\n"
          ],
          "name": "stdout"
        }
      ]
    },
    {
      "metadata": {
        "id": "LmQPGeHVMvFv",
        "colab_type": "code",
        "colab": {}
      },
      "cell_type": "code",
      "source": [
        "# define model\n",
        "def input_model(x_train, y_train, x_val, y_val, params):\n",
        "  model = Sequential()\n",
        "  # add hidden layer\n",
        "  model.add(Dense(params['first_neuron'], \n",
        "                  input_dim=x_train.shape[1], \n",
        "                  activation=params['activation'],\n",
        "                  kernel_initializer = params['kernel_initializer']))\n",
        "  # add dropout layer\n",
        "  model.add(Dropout(params['dropout']))\n",
        "  # add output layer\n",
        "  model.add(Dense(1,activation=params['last_activation'],\n",
        "                  kernel_initializer = params['kernel_initializer']))\n",
        "  # compile model\n",
        "  model.compile(loss=params['losses'],\n",
        "                optimizer=params['optimizer'](lr=lr_normalizer(params['lr'], params['optimizer'])),\n",
        "                metrics=['acc', fmeasure_acc])\n",
        "  # train model\n",
        "  out = model.fit(x_train, y_train,\n",
        "                  validation_data=[x_val, y_val],\n",
        "                  batch_size=params['batch_size'],\n",
        "                  # 180*.29 = ~52, which is ~20% of all data\n",
        "                  #val_split = .29, \n",
        "                  epochs=params['epochs'])\n",
        "  return out, model"
      ],
      "execution_count": 0,
      "outputs": []
    },
    {
      "metadata": {
        "id": "dI3vgOBzlAPN",
        "colab_type": "code",
        "colab": {}
      },
      "cell_type": "code",
      "source": [
        "# set hyperparameters to optimize\n",
        "p = {'first_neuron': [4, 8, 16, 32],\n",
        "     'activation': [relu, sigmoid],\n",
        "     'optimizer': [Nadam, Adam],\n",
        "     'losses':[binary_crossentropy],\n",
        "     'hidden_layers':[0, 1, 2],\n",
        "     'batch_size': [10, 20, 30],\n",
        "     'epochs':[4, 10, 20, 40],\n",
        "     'dropout': [0, 0.1, 0.2],\n",
        "     'kernel_initializer': ['uniform','normal'],\n",
        "     'lr':[0.001, 0.01, 0.1],\n",
        "     'last_activation': ['sigmoid']}"
      ],
      "execution_count": 0,
      "outputs": []
    },
    {
      "metadata": {
        "id": "KPtOn24CUsEO",
        "colab_type": "code",
        "colab": {
          "base_uri": "https://localhost:8080/",
          "height": 5584
        },
        "outputId": "c73871a5-2a9d-4238-95bc-5ed5ef1650e0"
      },
      "cell_type": "code",
      "source": [
        "# starting optimization\n",
        "h = ta.Scan(x= x_train, y=y_train,\n",
        "            params=p,\n",
        "            model=input_model,\n",
        "            grid_downsample=.001)"
      ],
      "execution_count": 7,
      "outputs": [
        {
          "output_type": "stream",
          "text": [
            "\r  0%|          | 0/10 [00:00<?, ?it/s]"
          ],
          "name": "stderr"
        },
        {
          "output_type": "stream",
          "text": [
            "WARNING:tensorflow:From /usr/local/lib/python3.6/dist-packages/tensorflow/python/framework/op_def_library.py:263: colocate_with (from tensorflow.python.framework.ops) is deprecated and will be removed in a future version.\n",
            "Instructions for updating:\n",
            "Colocations handled automatically by placer.\n",
            "WARNING:tensorflow:From /usr/local/lib/python3.6/dist-packages/tensorflow/python/ops/math_ops.py:3066: to_int32 (from tensorflow.python.ops.math_ops) is deprecated and will be removed in a future version.\n",
            "Instructions for updating:\n",
            "Use tf.cast instead.\n",
            "Train on 125 samples, validate on 55 samples\n",
            "Epoch 1/4\n",
            "125/125 [==============================] - 3s 24ms/step - loss: 0.6756 - acc: 0.7920 - fmeasure_acc: 0.0000e+00 - val_loss: 0.6745 - val_acc: 0.8000 - val_fmeasure_acc: 0.0000e+00\n",
            "Epoch 2/4\n",
            "125/125 [==============================] - 0s 218us/step - loss: 0.6754 - acc: 0.7920 - fmeasure_acc: 0.0000e+00 - val_loss: 0.6743 - val_acc: 0.8000 - val_fmeasure_acc: 0.0000e+00\n",
            "Epoch 3/4\n",
            "125/125 [==============================] - 0s 215us/step - loss: 0.6752 - acc: 0.7920 - fmeasure_acc: 0.0000e+00 - val_loss: 0.6740 - val_acc: 0.8000 - val_fmeasure_acc: 0.0000e+00\n",
            "Epoch 4/4\n",
            "125/125 [==============================] - 0s 234us/step - loss: 0.6749 - acc: 0.7920 - fmeasure_acc: 0.0000e+00 - val_loss: 0.6738 - val_acc: 0.8000 - val_fmeasure_acc: 0.0000e+00\n"
          ],
          "name": "stdout"
        },
        {
          "output_type": "stream",
          "text": [
            "\r 10%|█         | 1/10 [00:03<00:33,  3.68s/it]"
          ],
          "name": "stderr"
        },
        {
          "output_type": "stream",
          "text": [
            "WARNING:tensorflow:From /usr/local/lib/python3.6/dist-packages/keras/backend/tensorflow_backend.py:3445: calling dropout (from tensorflow.python.ops.nn_ops) with keep_prob is deprecated and will be removed in a future version.\n",
            "Instructions for updating:\n",
            "Please use `rate` instead of `keep_prob`. Rate should be set to `rate = 1 - keep_prob`.\n",
            "Train on 125 samples, validate on 55 samples\n",
            "Epoch 1/4\n",
            "125/125 [==============================] - 0s 3ms/step - loss: 0.7165 - acc: 0.2160 - fmeasure_acc: 0.3352 - val_loss: 0.7170 - val_acc: 0.2000 - val_fmeasure_acc: 0.3249\n",
            "Epoch 2/4\n",
            "125/125 [==============================] - 0s 773us/step - loss: 0.7149 - acc: 0.2000 - fmeasure_acc: 0.3244 - val_loss: 0.7167 - val_acc: 0.2000 - val_fmeasure_acc: 0.3249\n",
            "Epoch 3/4\n",
            "125/125 [==============================] - 0s 532us/step - loss: 0.7132 - acc: 0.2240 - fmeasure_acc: 0.3220 - val_loss: 0.7163 - val_acc: 0.2000 - val_fmeasure_acc: 0.3249\n",
            "Epoch 4/4\n",
            "125/125 [==============================] - 0s 552us/step - loss: 0.7165 - acc: 0.2080 - fmeasure_acc: 0.3261 - val_loss: 0.7160 - val_acc: 0.2000 - val_fmeasure_acc: 0.3249\n"
          ],
          "name": "stdout"
        },
        {
          "output_type": "stream",
          "text": [
            "\r 20%|██        | 2/10 [00:04<00:23,  2.91s/it]"
          ],
          "name": "stderr"
        },
        {
          "output_type": "stream",
          "text": [
            "Train on 125 samples, validate on 55 samples\n",
            "Epoch 1/40\n",
            "125/125 [==============================] - 0s 3ms/step - loss: 0.6706 - acc: 0.7920 - fmeasure_acc: 0.0000e+00 - val_loss: 0.6684 - val_acc: 0.8000 - val_fmeasure_acc: 0.0000e+00\n",
            "Epoch 2/40\n",
            "125/125 [==============================] - 0s 318us/step - loss: 0.6686 - acc: 0.7920 - fmeasure_acc: 0.0000e+00 - val_loss: 0.6683 - val_acc: 0.8000 - val_fmeasure_acc: 0.0000e+00\n",
            "Epoch 3/40\n",
            "125/125 [==============================] - 0s 329us/step - loss: 0.6691 - acc: 0.7920 - fmeasure_acc: 0.0000e+00 - val_loss: 0.6682 - val_acc: 0.8000 - val_fmeasure_acc: 0.0000e+00\n",
            "Epoch 4/40\n",
            "125/125 [==============================] - 0s 294us/step - loss: 0.6680 - acc: 0.7920 - fmeasure_acc: 0.0000e+00 - val_loss: 0.6681 - val_acc: 0.8000 - val_fmeasure_acc: 0.0000e+00\n",
            "Epoch 5/40\n",
            "125/125 [==============================] - 0s 299us/step - loss: 0.6683 - acc: 0.7920 - fmeasure_acc: 0.0000e+00 - val_loss: 0.6679 - val_acc: 0.8000 - val_fmeasure_acc: 0.0000e+00\n",
            "Epoch 6/40\n",
            "125/125 [==============================] - 0s 307us/step - loss: 0.6693 - acc: 0.7920 - fmeasure_acc: 0.0000e+00 - val_loss: 0.6678 - val_acc: 0.8000 - val_fmeasure_acc: 0.0000e+00\n",
            "Epoch 7/40\n",
            "125/125 [==============================] - 0s 314us/step - loss: 0.6692 - acc: 0.7920 - fmeasure_acc: 0.0000e+00 - val_loss: 0.6677 - val_acc: 0.8000 - val_fmeasure_acc: 0.0000e+00\n",
            "Epoch 8/40\n",
            "125/125 [==============================] - 0s 350us/step - loss: 0.6678 - acc: 0.7920 - fmeasure_acc: 0.0000e+00 - val_loss: 0.6676 - val_acc: 0.8000 - val_fmeasure_acc: 0.0000e+00\n",
            "Epoch 9/40\n",
            "125/125 [==============================] - 0s 321us/step - loss: 0.6677 - acc: 0.7920 - fmeasure_acc: 0.0000e+00 - val_loss: 0.6674 - val_acc: 0.8000 - val_fmeasure_acc: 0.0000e+00\n",
            "Epoch 10/40\n",
            "125/125 [==============================] - 0s 397us/step - loss: 0.6670 - acc: 0.7920 - fmeasure_acc: 0.0000e+00 - val_loss: 0.6673 - val_acc: 0.8000 - val_fmeasure_acc: 0.0000e+00\n",
            "Epoch 11/40\n",
            "125/125 [==============================] - 0s 293us/step - loss: 0.6679 - acc: 0.7920 - fmeasure_acc: 0.0000e+00 - val_loss: 0.6672 - val_acc: 0.8000 - val_fmeasure_acc: 0.0000e+00\n",
            "Epoch 12/40\n",
            "125/125 [==============================] - 0s 356us/step - loss: 0.6661 - acc: 0.7920 - fmeasure_acc: 0.0000e+00 - val_loss: 0.6670 - val_acc: 0.8000 - val_fmeasure_acc: 0.0000e+00\n",
            "Epoch 13/40\n",
            "125/125 [==============================] - 0s 318us/step - loss: 0.6672 - acc: 0.7920 - fmeasure_acc: 0.0000e+00 - val_loss: 0.6669 - val_acc: 0.8000 - val_fmeasure_acc: 0.0000e+00\n",
            "Epoch 14/40\n",
            "125/125 [==============================] - 0s 293us/step - loss: 0.6690 - acc: 0.7920 - fmeasure_acc: 0.0000e+00 - val_loss: 0.6668 - val_acc: 0.8000 - val_fmeasure_acc: 0.0000e+00\n",
            "Epoch 15/40\n",
            "125/125 [==============================] - 0s 292us/step - loss: 0.6670 - acc: 0.7920 - fmeasure_acc: 0.0000e+00 - val_loss: 0.6667 - val_acc: 0.8000 - val_fmeasure_acc: 0.0000e+00\n",
            "Epoch 16/40\n",
            "125/125 [==============================] - 0s 314us/step - loss: 0.6674 - acc: 0.7920 - fmeasure_acc: 0.0000e+00 - val_loss: 0.6665 - val_acc: 0.8000 - val_fmeasure_acc: 0.0000e+00\n",
            "Epoch 17/40\n",
            "125/125 [==============================] - 0s 274us/step - loss: 0.6668 - acc: 0.7920 - fmeasure_acc: 0.0000e+00 - val_loss: 0.6664 - val_acc: 0.8000 - val_fmeasure_acc: 0.0000e+00\n",
            "Epoch 18/40\n",
            "125/125 [==============================] - 0s 318us/step - loss: 0.6671 - acc: 0.7920 - fmeasure_acc: 0.0000e+00 - val_loss: 0.6663 - val_acc: 0.8000 - val_fmeasure_acc: 0.0000e+00\n",
            "Epoch 19/40\n",
            "125/125 [==============================] - 0s 327us/step - loss: 0.6688 - acc: 0.7920 - fmeasure_acc: 0.0000e+00 - val_loss: 0.6661 - val_acc: 0.8000 - val_fmeasure_acc: 0.0000e+00\n",
            "Epoch 20/40\n",
            "125/125 [==============================] - 0s 294us/step - loss: 0.6657 - acc: 0.7920 - fmeasure_acc: 0.0000e+00 - val_loss: 0.6660 - val_acc: 0.8000 - val_fmeasure_acc: 0.0000e+00\n",
            "Epoch 21/40\n",
            "125/125 [==============================] - 0s 296us/step - loss: 0.6666 - acc: 0.7920 - fmeasure_acc: 0.0000e+00 - val_loss: 0.6658 - val_acc: 0.8000 - val_fmeasure_acc: 0.0000e+00\n",
            "Epoch 22/40\n",
            "125/125 [==============================] - 0s 327us/step - loss: 0.6663 - acc: 0.7920 - fmeasure_acc: 0.0000e+00 - val_loss: 0.6657 - val_acc: 0.8000 - val_fmeasure_acc: 0.0000e+00\n",
            "Epoch 23/40\n",
            "125/125 [==============================] - 0s 319us/step - loss: 0.6660 - acc: 0.7920 - fmeasure_acc: 0.0000e+00 - val_loss: 0.6656 - val_acc: 0.8000 - val_fmeasure_acc: 0.0000e+00\n",
            "Epoch 24/40\n",
            "125/125 [==============================] - 0s 307us/step - loss: 0.6662 - acc: 0.7920 - fmeasure_acc: 0.0000e+00 - val_loss: 0.6654 - val_acc: 0.8000 - val_fmeasure_acc: 0.0000e+00\n",
            "Epoch 25/40\n",
            "125/125 [==============================] - 0s 280us/step - loss: 0.6662 - acc: 0.7920 - fmeasure_acc: 0.0000e+00 - val_loss: 0.6653 - val_acc: 0.8000 - val_fmeasure_acc: 0.0000e+00\n",
            "Epoch 26/40\n",
            "125/125 [==============================] - 0s 302us/step - loss: 0.6661 - acc: 0.7920 - fmeasure_acc: 0.0000e+00 - val_loss: 0.6652 - val_acc: 0.8000 - val_fmeasure_acc: 0.0000e+00\n",
            "Epoch 27/40\n",
            "125/125 [==============================] - 0s 315us/step - loss: 0.6655 - acc: 0.7920 - fmeasure_acc: 0.0000e+00 - val_loss: 0.6651 - val_acc: 0.8000 - val_fmeasure_acc: 0.0000e+00\n",
            "Epoch 28/40\n",
            "125/125 [==============================] - 0s 339us/step - loss: 0.6647 - acc: 0.7920 - fmeasure_acc: 0.0000e+00 - val_loss: 0.6649 - val_acc: 0.8000 - val_fmeasure_acc: 0.0000e+00\n",
            "Epoch 29/40\n",
            "125/125 [==============================] - 0s 326us/step - loss: 0.6652 - acc: 0.7920 - fmeasure_acc: 0.0000e+00 - val_loss: 0.6648 - val_acc: 0.8000 - val_fmeasure_acc: 0.0000e+00\n",
            "Epoch 30/40\n",
            "125/125 [==============================] - 0s 293us/step - loss: 0.6654 - acc: 0.7920 - fmeasure_acc: 0.0000e+00 - val_loss: 0.6647 - val_acc: 0.8000 - val_fmeasure_acc: 0.0000e+00\n",
            "Epoch 31/40\n",
            "125/125 [==============================] - 0s 311us/step - loss: 0.6651 - acc: 0.7920 - fmeasure_acc: 0.0000e+00 - val_loss: 0.6645 - val_acc: 0.8000 - val_fmeasure_acc: 0.0000e+00\n",
            "Epoch 32/40\n",
            "125/125 [==============================] - 0s 277us/step - loss: 0.6636 - acc: 0.7920 - fmeasure_acc: 0.0000e+00 - val_loss: 0.6644 - val_acc: 0.8000 - val_fmeasure_acc: 0.0000e+00\n",
            "Epoch 33/40\n",
            "125/125 [==============================] - 0s 339us/step - loss: 0.6649 - acc: 0.7920 - fmeasure_acc: 0.0000e+00 - val_loss: 0.6643 - val_acc: 0.8000 - val_fmeasure_acc: 0.0000e+00\n",
            "Epoch 34/40\n",
            "125/125 [==============================] - 0s 293us/step - loss: 0.6646 - acc: 0.7920 - fmeasure_acc: 0.0000e+00 - val_loss: 0.6641 - val_acc: 0.8000 - val_fmeasure_acc: 0.0000e+00\n",
            "Epoch 35/40\n",
            "125/125 [==============================] - 0s 444us/step - loss: 0.6644 - acc: 0.7920 - fmeasure_acc: 0.0000e+00 - val_loss: 0.6640 - val_acc: 0.8000 - val_fmeasure_acc: 0.0000e+00\n",
            "Epoch 36/40\n",
            "125/125 [==============================] - 0s 309us/step - loss: 0.6651 - acc: 0.7920 - fmeasure_acc: 0.0000e+00 - val_loss: 0.6639 - val_acc: 0.8000 - val_fmeasure_acc: 0.0000e+00\n",
            "Epoch 37/40\n",
            "125/125 [==============================] - 0s 342us/step - loss: 0.6658 - acc: 0.7920 - fmeasure_acc: 0.0000e+00 - val_loss: 0.6638 - val_acc: 0.8000 - val_fmeasure_acc: 0.0000e+00\n",
            "Epoch 38/40\n",
            "125/125 [==============================] - 0s 358us/step - loss: 0.6642 - acc: 0.7920 - fmeasure_acc: 0.0000e+00 - val_loss: 0.6636 - val_acc: 0.8000 - val_fmeasure_acc: 0.0000e+00\n",
            "Epoch 39/40\n",
            "125/125 [==============================] - 0s 350us/step - loss: 0.6636 - acc: 0.7920 - fmeasure_acc: 0.0000e+00 - val_loss: 0.6635 - val_acc: 0.8000 - val_fmeasure_acc: 0.0000e+00\n",
            "Epoch 40/40\n",
            "125/125 [==============================] - 0s 312us/step - loss: 0.6646 - acc: 0.7920 - fmeasure_acc: 0.0000e+00 - val_loss: 0.6634 - val_acc: 0.8000 - val_fmeasure_acc: 0.0000e+00\n"
          ],
          "name": "stdout"
        },
        {
          "output_type": "stream",
          "text": [
            "\r 30%|███       | 3/10 [00:07<00:19,  2.81s/it]"
          ],
          "name": "stderr"
        },
        {
          "output_type": "stream",
          "text": [
            "Train on 125 samples, validate on 55 samples\n",
            "Epoch 1/4\n",
            "125/125 [==============================] - 0s 3ms/step - loss: 0.6966 - acc: 0.2880 - fmeasure_acc: 0.3206 - val_loss: 0.6955 - val_acc: 0.2000 - val_fmeasure_acc: 0.3308\n",
            "Epoch 2/4\n",
            "125/125 [==============================] - 0s 434us/step - loss: 0.6952 - acc: 0.2720 - fmeasure_acc: 0.2982 - val_loss: 0.6944 - val_acc: 0.2000 - val_fmeasure_acc: 0.3308\n",
            "Epoch 3/4\n",
            "125/125 [==============================] - 0s 410us/step - loss: 0.6940 - acc: 0.3440 - fmeasure_acc: 0.3262 - val_loss: 0.6933 - val_acc: 0.3091 - val_fmeasure_acc: 0.3499\n",
            "Epoch 4/4\n",
            "125/125 [==============================] - 0s 422us/step - loss: 0.6930 - acc: 0.5120 - fmeasure_acc: 0.2538 - val_loss: 0.6922 - val_acc: 0.8000 - val_fmeasure_acc: 0.0000e+00\n"
          ],
          "name": "stdout"
        },
        {
          "output_type": "stream",
          "text": [
            "\r 40%|████      | 4/10 [00:08<00:14,  2.37s/it]"
          ],
          "name": "stderr"
        },
        {
          "output_type": "stream",
          "text": [
            "Train on 125 samples, validate on 55 samples\n",
            "Epoch 1/4\n",
            "125/125 [==============================] - 0s 3ms/step - loss: 0.6836 - acc: 0.7920 - fmeasure_acc: 0.0990 - val_loss: 0.6830 - val_acc: 0.8000 - val_fmeasure_acc: 0.0000e+00\n",
            "Epoch 2/4\n",
            "125/125 [==============================] - 0s 371us/step - loss: 0.6805 - acc: 0.8000 - fmeasure_acc: 0.0400 - val_loss: 0.6800 - val_acc: 0.8000 - val_fmeasure_acc: 0.0000e+00\n",
            "Epoch 3/4\n",
            "125/125 [==============================] - 0s 407us/step - loss: 0.6801 - acc: 0.7840 - fmeasure_acc: 0.0000e+00 - val_loss: 0.6767 - val_acc: 0.8000 - val_fmeasure_acc: 0.0000e+00\n",
            "Epoch 4/4\n",
            "125/125 [==============================] - 0s 391us/step - loss: 0.6762 - acc: 0.7920 - fmeasure_acc: 0.0000e+00 - val_loss: 0.6734 - val_acc: 0.8000 - val_fmeasure_acc: 0.0000e+00\n"
          ],
          "name": "stdout"
        },
        {
          "output_type": "stream",
          "text": [
            "\r 50%|█████     | 5/10 [00:09<00:09,  2.00s/it]"
          ],
          "name": "stderr"
        },
        {
          "output_type": "stream",
          "text": [
            "Train on 125 samples, validate on 55 samples\n",
            "Epoch 1/20\n",
            "125/125 [==============================] - 0s 3ms/step - loss: 0.6935 - acc: 0.3600 - fmeasure_acc: 0.2935 - val_loss: 0.6934 - val_acc: 0.4364 - val_fmeasure_acc: 0.3566\n",
            "Epoch 2/20\n",
            "125/125 [==============================] - 0s 709us/step - loss: 0.6931 - acc: 0.5600 - fmeasure_acc: 0.2168 - val_loss: 0.6930 - val_acc: 0.6727 - val_fmeasure_acc: 0.4190\n",
            "Epoch 3/20\n",
            "125/125 [==============================] - 0s 780us/step - loss: 0.6926 - acc: 0.6640 - fmeasure_acc: 0.1853 - val_loss: 0.6926 - val_acc: 0.7273 - val_fmeasure_acc: 0.3152\n",
            "Epoch 4/20\n",
            "125/125 [==============================] - 0s 698us/step - loss: 0.6922 - acc: 0.7120 - fmeasure_acc: 0.1467 - val_loss: 0.6922 - val_acc: 0.7273 - val_fmeasure_acc: 0.1212\n",
            "Epoch 5/20\n",
            "125/125 [==============================] - 0s 720us/step - loss: 0.6918 - acc: 0.7600 - fmeasure_acc: 0.0400 - val_loss: 0.6918 - val_acc: 0.7818 - val_fmeasure_acc: 0.0000e+00\n",
            "Epoch 6/20\n",
            "125/125 [==============================] - 0s 701us/step - loss: 0.6914 - acc: 0.7920 - fmeasure_acc: 0.0400 - val_loss: 0.6913 - val_acc: 0.8000 - val_fmeasure_acc: 0.0000e+00\n",
            "Epoch 7/20\n",
            "125/125 [==============================] - 0s 667us/step - loss: 0.6910 - acc: 0.7840 - fmeasure_acc: 0.0000e+00 - val_loss: 0.6909 - val_acc: 0.8000 - val_fmeasure_acc: 0.0000e+00\n",
            "Epoch 8/20\n",
            "125/125 [==============================] - 0s 672us/step - loss: 0.6906 - acc: 0.7920 - fmeasure_acc: 0.0400 - val_loss: 0.6905 - val_acc: 0.8000 - val_fmeasure_acc: 0.0000e+00\n",
            "Epoch 9/20\n",
            "125/125 [==============================] - 0s 691us/step - loss: 0.6901 - acc: 0.7920 - fmeasure_acc: 0.0000e+00 - val_loss: 0.6901 - val_acc: 0.8000 - val_fmeasure_acc: 0.0000e+00\n",
            "Epoch 10/20\n",
            "125/125 [==============================] - 0s 693us/step - loss: 0.6896 - acc: 0.7920 - fmeasure_acc: 0.0000e+00 - val_loss: 0.6897 - val_acc: 0.8000 - val_fmeasure_acc: 0.0000e+00\n",
            "Epoch 11/20\n",
            "125/125 [==============================] - 0s 675us/step - loss: 0.6892 - acc: 0.7920 - fmeasure_acc: 0.0000e+00 - val_loss: 0.6893 - val_acc: 0.8000 - val_fmeasure_acc: 0.0000e+00\n",
            "Epoch 12/20\n",
            "125/125 [==============================] - 0s 755us/step - loss: 0.6889 - acc: 0.7920 - fmeasure_acc: 0.0000e+00 - val_loss: 0.6889 - val_acc: 0.8000 - val_fmeasure_acc: 0.0000e+00\n",
            "Epoch 13/20\n",
            "125/125 [==============================] - 0s 695us/step - loss: 0.6884 - acc: 0.7920 - fmeasure_acc: 0.0000e+00 - val_loss: 0.6885 - val_acc: 0.8000 - val_fmeasure_acc: 0.0000e+00\n",
            "Epoch 14/20\n",
            "125/125 [==============================] - 0s 726us/step - loss: 0.6881 - acc: 0.7920 - fmeasure_acc: 0.0000e+00 - val_loss: 0.6881 - val_acc: 0.8000 - val_fmeasure_acc: 0.0000e+00\n",
            "Epoch 15/20\n",
            "125/125 [==============================] - 0s 827us/step - loss: 0.6877 - acc: 0.7920 - fmeasure_acc: 0.0000e+00 - val_loss: 0.6877 - val_acc: 0.8000 - val_fmeasure_acc: 0.0000e+00\n",
            "Epoch 16/20\n",
            "125/125 [==============================] - 0s 726us/step - loss: 0.6871 - acc: 0.7920 - fmeasure_acc: 0.0000e+00 - val_loss: 0.6873 - val_acc: 0.8000 - val_fmeasure_acc: 0.0000e+00\n",
            "Epoch 17/20\n",
            "125/125 [==============================] - 0s 740us/step - loss: 0.6867 - acc: 0.7920 - fmeasure_acc: 0.0000e+00 - val_loss: 0.6869 - val_acc: 0.8000 - val_fmeasure_acc: 0.0000e+00\n",
            "Epoch 18/20\n",
            "125/125 [==============================] - 0s 735us/step - loss: 0.6862 - acc: 0.7920 - fmeasure_acc: 0.0000e+00 - val_loss: 0.6865 - val_acc: 0.8000 - val_fmeasure_acc: 0.0000e+00\n",
            "Epoch 19/20\n",
            "125/125 [==============================] - 0s 728us/step - loss: 0.6857 - acc: 0.7920 - fmeasure_acc: 0.0000e+00 - val_loss: 0.6860 - val_acc: 0.8000 - val_fmeasure_acc: 0.0000e+00\n",
            "Epoch 20/20\n",
            "125/125 [==============================] - 0s 571us/step - loss: 0.6853 - acc: 0.7920 - fmeasure_acc: 0.0000e+00 - val_loss: 0.6856 - val_acc: 0.8000 - val_fmeasure_acc: 0.0000e+00\n"
          ],
          "name": "stdout"
        },
        {
          "output_type": "stream",
          "text": [
            "\r 60%|██████    | 6/10 [00:12<00:09,  2.28s/it]"
          ],
          "name": "stderr"
        },
        {
          "output_type": "stream",
          "text": [
            "Train on 125 samples, validate on 55 samples\n",
            "Epoch 1/10\n",
            "125/125 [==============================] - 0s 3ms/step - loss: 0.6931 - acc: 0.4880 - fmeasure_acc: 0.3195 - val_loss: 0.6929 - val_acc: 0.6182 - val_fmeasure_acc: 0.3231\n",
            "Epoch 2/10\n",
            "125/125 [==============================] - 0s 309us/step - loss: 0.6929 - acc: 0.6640 - fmeasure_acc: 0.3957 - val_loss: 0.6927 - val_acc: 0.6364 - val_fmeasure_acc: 0.2727\n",
            "Epoch 3/10\n",
            "125/125 [==============================] - 0s 295us/step - loss: 0.6927 - acc: 0.7280 - fmeasure_acc: 0.3253 - val_loss: 0.6926 - val_acc: 0.6727 - val_fmeasure_acc: 0.1948\n",
            "Epoch 4/10\n",
            "125/125 [==============================] - 0s 286us/step - loss: 0.6925 - acc: 0.7760 - fmeasure_acc: 0.2024 - val_loss: 0.6924 - val_acc: 0.7455 - val_fmeasure_acc: 0.1136\n",
            "Epoch 5/10\n",
            "125/125 [==============================] - 0s 301us/step - loss: 0.6923 - acc: 0.7680 - fmeasure_acc: 0.0000e+00 - val_loss: 0.6922 - val_acc: 0.7455 - val_fmeasure_acc: 0.0000e+00\n",
            "Epoch 6/10\n",
            "125/125 [==============================] - 0s 297us/step - loss: 0.6921 - acc: 0.7840 - fmeasure_acc: 0.0000e+00 - val_loss: 0.6920 - val_acc: 0.8000 - val_fmeasure_acc: 0.0000e+00\n",
            "Epoch 7/10\n",
            "125/125 [==============================] - 0s 316us/step - loss: 0.6919 - acc: 0.7840 - fmeasure_acc: 0.0000e+00 - val_loss: 0.6918 - val_acc: 0.8000 - val_fmeasure_acc: 0.0000e+00\n",
            "Epoch 8/10\n",
            "125/125 [==============================] - 0s 338us/step - loss: 0.6917 - acc: 0.7920 - fmeasure_acc: 0.0000e+00 - val_loss: 0.6916 - val_acc: 0.8000 - val_fmeasure_acc: 0.0000e+00\n",
            "Epoch 9/10\n",
            "125/125 [==============================] - 0s 309us/step - loss: 0.6915 - acc: 0.7920 - fmeasure_acc: 0.0000e+00 - val_loss: 0.6914 - val_acc: 0.8000 - val_fmeasure_acc: 0.0000e+00\n",
            "Epoch 10/10\n",
            "125/125 [==============================] - 0s 292us/step - loss: 0.6913 - acc: 0.7920 - fmeasure_acc: 0.0000e+00 - val_loss: 0.6913 - val_acc: 0.8000 - val_fmeasure_acc: 0.0000e+00\n"
          ],
          "name": "stdout"
        },
        {
          "output_type": "stream",
          "text": [
            "\r 70%|███████   | 7/10 [00:13<00:05,  1.95s/it]"
          ],
          "name": "stderr"
        },
        {
          "output_type": "stream",
          "text": [
            "Train on 125 samples, validate on 55 samples\n",
            "Epoch 1/20\n",
            "125/125 [==============================] - 0s 3ms/step - loss: 0.6935 - acc: 0.3760 - fmeasure_acc: 0.3458 - val_loss: 0.6935 - val_acc: 0.3273 - val_fmeasure_acc: 0.2298\n",
            "Epoch 2/20\n",
            "125/125 [==============================] - 0s 695us/step - loss: 0.6935 - acc: 0.3520 - fmeasure_acc: 0.2945 - val_loss: 0.6934 - val_acc: 0.3273 - val_fmeasure_acc: 0.2298\n",
            "Epoch 3/20\n",
            "125/125 [==============================] - 0s 725us/step - loss: 0.6934 - acc: 0.3520 - fmeasure_acc: 0.2922 - val_loss: 0.6934 - val_acc: 0.3455 - val_fmeasure_acc: 0.2088\n",
            "Epoch 4/20\n",
            "125/125 [==============================] - 0s 709us/step - loss: 0.6933 - acc: 0.4160 - fmeasure_acc: 0.3168 - val_loss: 0.6933 - val_acc: 0.3818 - val_fmeasure_acc: 0.2088\n",
            "Epoch 5/20\n",
            "125/125 [==============================] - 0s 711us/step - loss: 0.6933 - acc: 0.4480 - fmeasure_acc: 0.2804 - val_loss: 0.6933 - val_acc: 0.4000 - val_fmeasure_acc: 0.2169\n",
            "Epoch 6/20\n",
            "125/125 [==============================] - 0s 775us/step - loss: 0.6932 - acc: 0.4960 - fmeasure_acc: 0.3658 - val_loss: 0.6932 - val_acc: 0.4364 - val_fmeasure_acc: 0.2283\n",
            "Epoch 7/20\n",
            "125/125 [==============================] - 0s 735us/step - loss: 0.6932 - acc: 0.5360 - fmeasure_acc: 0.3300 - val_loss: 0.6931 - val_acc: 0.4545 - val_fmeasure_acc: 0.2121\n",
            "Epoch 8/20\n",
            "125/125 [==============================] - 0s 707us/step - loss: 0.6931 - acc: 0.5280 - fmeasure_acc: 0.3292 - val_loss: 0.6931 - val_acc: 0.4727 - val_fmeasure_acc: 0.2121\n",
            "Epoch 9/20\n",
            "125/125 [==============================] - 0s 656us/step - loss: 0.6930 - acc: 0.5920 - fmeasure_acc: 0.3554 - val_loss: 0.6930 - val_acc: 0.5455 - val_fmeasure_acc: 0.2251\n",
            "Epoch 10/20\n",
            "125/125 [==============================] - 0s 732us/step - loss: 0.6930 - acc: 0.6000 - fmeasure_acc: 0.3092 - val_loss: 0.6930 - val_acc: 0.6000 - val_fmeasure_acc: 0.2442\n",
            "Epoch 11/20\n",
            "125/125 [==============================] - 0s 715us/step - loss: 0.6929 - acc: 0.6000 - fmeasure_acc: 0.3156 - val_loss: 0.6929 - val_acc: 0.6000 - val_fmeasure_acc: 0.2442\n",
            "Epoch 12/20\n",
            "125/125 [==============================] - 0s 680us/step - loss: 0.6929 - acc: 0.6400 - fmeasure_acc: 0.3226 - val_loss: 0.6929 - val_acc: 0.6364 - val_fmeasure_acc: 0.2442\n",
            "Epoch 13/20\n",
            "125/125 [==============================] - 0s 667us/step - loss: 0.6929 - acc: 0.6000 - fmeasure_acc: 0.3250 - val_loss: 0.6928 - val_acc: 0.6727 - val_fmeasure_acc: 0.2615\n",
            "Epoch 14/20\n",
            "125/125 [==============================] - 0s 651us/step - loss: 0.6927 - acc: 0.6400 - fmeasure_acc: 0.3510 - val_loss: 0.6928 - val_acc: 0.6727 - val_fmeasure_acc: 0.2615\n",
            "Epoch 15/20\n",
            "125/125 [==============================] - 0s 672us/step - loss: 0.6927 - acc: 0.7040 - fmeasure_acc: 0.3174 - val_loss: 0.6927 - val_acc: 0.6909 - val_fmeasure_acc: 0.2667\n",
            "Epoch 16/20\n",
            "125/125 [==============================] - 0s 579us/step - loss: 0.6926 - acc: 0.6720 - fmeasure_acc: 0.3356 - val_loss: 0.6927 - val_acc: 0.7091 - val_fmeasure_acc: 0.2667\n",
            "Epoch 17/20\n",
            "125/125 [==============================] - 0s 566us/step - loss: 0.6927 - acc: 0.6960 - fmeasure_acc: 0.2853 - val_loss: 0.6926 - val_acc: 0.7091 - val_fmeasure_acc: 0.2667\n",
            "Epoch 18/20\n",
            "125/125 [==============================] - 0s 719us/step - loss: 0.6925 - acc: 0.7120 - fmeasure_acc: 0.2964 - val_loss: 0.6926 - val_acc: 0.7455 - val_fmeasure_acc: 0.2667\n",
            "Epoch 19/20\n",
            "125/125 [==============================] - 0s 568us/step - loss: 0.6925 - acc: 0.7040 - fmeasure_acc: 0.2990 - val_loss: 0.6925 - val_acc: 0.7455 - val_fmeasure_acc: 0.2667\n",
            "Epoch 20/20\n",
            "125/125 [==============================] - 0s 568us/step - loss: 0.6924 - acc: 0.7520 - fmeasure_acc: 0.2819 - val_loss: 0.6925 - val_acc: 0.7818 - val_fmeasure_acc: 0.2667\n"
          ],
          "name": "stdout"
        },
        {
          "output_type": "stream",
          "text": [
            "\r 80%|████████  | 8/10 [00:16<00:04,  2.15s/it]"
          ],
          "name": "stderr"
        },
        {
          "output_type": "stream",
          "text": [
            "Train on 125 samples, validate on 55 samples\n",
            "Epoch 1/4\n",
            "125/125 [==============================] - 0s 3ms/step - loss: 0.6937 - acc: 0.4480 - fmeasure_acc: 0.2650 - val_loss: 0.6947 - val_acc: 0.3273 - val_fmeasure_acc: 0.2744\n",
            "Epoch 2/4\n",
            "125/125 [==============================] - 0s 302us/step - loss: 0.6937 - acc: 0.4560 - fmeasure_acc: 0.2883 - val_loss: 0.6947 - val_acc: 0.3273 - val_fmeasure_acc: 0.2744\n",
            "Epoch 3/4\n",
            "125/125 [==============================] - 0s 318us/step - loss: 0.6937 - acc: 0.4560 - fmeasure_acc: 0.2427 - val_loss: 0.6947 - val_acc: 0.3273 - val_fmeasure_acc: 0.2744\n",
            "Epoch 4/4\n",
            "125/125 [==============================] - 0s 300us/step - loss: 0.6938 - acc: 0.4560 - fmeasure_acc: 0.2593 - val_loss: 0.6947 - val_acc: 0.3273 - val_fmeasure_acc: 0.2744\n"
          ],
          "name": "stdout"
        },
        {
          "output_type": "stream",
          "text": [
            "\r 90%|█████████ | 9/10 [00:17<00:01,  1.92s/it]"
          ],
          "name": "stderr"
        },
        {
          "output_type": "stream",
          "text": [
            "Train on 125 samples, validate on 55 samples\n",
            "Epoch 1/40\n",
            "125/125 [==============================] - 0s 3ms/step - loss: 0.6642 - acc: 0.7920 - fmeasure_acc: 0.0000e+00 - val_loss: 0.6636 - val_acc: 0.8000 - val_fmeasure_acc: 0.0000e+00\n",
            "Epoch 2/40\n",
            "125/125 [==============================] - 0s 360us/step - loss: 0.6642 - acc: 0.7920 - fmeasure_acc: 0.0000e+00 - val_loss: 0.6636 - val_acc: 0.8000 - val_fmeasure_acc: 0.0000e+00\n",
            "Epoch 3/40\n",
            "125/125 [==============================] - 0s 370us/step - loss: 0.6642 - acc: 0.7920 - fmeasure_acc: 0.0000e+00 - val_loss: 0.6635 - val_acc: 0.8000 - val_fmeasure_acc: 0.0000e+00\n",
            "Epoch 4/40\n",
            "125/125 [==============================] - 0s 366us/step - loss: 0.6641 - acc: 0.7920 - fmeasure_acc: 0.0000e+00 - val_loss: 0.6635 - val_acc: 0.8000 - val_fmeasure_acc: 0.0000e+00\n",
            "Epoch 5/40\n",
            "125/125 [==============================] - 0s 424us/step - loss: 0.6641 - acc: 0.7920 - fmeasure_acc: 0.0000e+00 - val_loss: 0.6635 - val_acc: 0.8000 - val_fmeasure_acc: 0.0000e+00\n",
            "Epoch 6/40\n",
            "125/125 [==============================] - 0s 409us/step - loss: 0.6641 - acc: 0.7920 - fmeasure_acc: 0.0000e+00 - val_loss: 0.6634 - val_acc: 0.8000 - val_fmeasure_acc: 0.0000e+00\n",
            "Epoch 7/40\n",
            "125/125 [==============================] - 0s 319us/step - loss: 0.6641 - acc: 0.7920 - fmeasure_acc: 0.0000e+00 - val_loss: 0.6634 - val_acc: 0.8000 - val_fmeasure_acc: 0.0000e+00\n",
            "Epoch 8/40\n",
            "125/125 [==============================] - 0s 377us/step - loss: 0.6640 - acc: 0.7920 - fmeasure_acc: 0.0000e+00 - val_loss: 0.6634 - val_acc: 0.8000 - val_fmeasure_acc: 0.0000e+00\n",
            "Epoch 9/40\n",
            "125/125 [==============================] - 0s 405us/step - loss: 0.6640 - acc: 0.7920 - fmeasure_acc: 0.0000e+00 - val_loss: 0.6634 - val_acc: 0.8000 - val_fmeasure_acc: 0.0000e+00\n",
            "Epoch 10/40\n",
            "125/125 [==============================] - 0s 394us/step - loss: 0.6640 - acc: 0.7920 - fmeasure_acc: 0.0000e+00 - val_loss: 0.6633 - val_acc: 0.8000 - val_fmeasure_acc: 0.0000e+00\n",
            "Epoch 11/40\n",
            "125/125 [==============================] - 0s 367us/step - loss: 0.6639 - acc: 0.7920 - fmeasure_acc: 0.0000e+00 - val_loss: 0.6633 - val_acc: 0.8000 - val_fmeasure_acc: 0.0000e+00\n",
            "Epoch 12/40\n",
            "125/125 [==============================] - 0s 359us/step - loss: 0.6639 - acc: 0.7920 - fmeasure_acc: 0.0000e+00 - val_loss: 0.6633 - val_acc: 0.8000 - val_fmeasure_acc: 0.0000e+00\n",
            "Epoch 13/40\n",
            "125/125 [==============================] - 0s 390us/step - loss: 0.6639 - acc: 0.7920 - fmeasure_acc: 0.0000e+00 - val_loss: 0.6632 - val_acc: 0.8000 - val_fmeasure_acc: 0.0000e+00\n",
            "Epoch 14/40\n",
            "125/125 [==============================] - 0s 428us/step - loss: 0.6638 - acc: 0.7920 - fmeasure_acc: 0.0000e+00 - val_loss: 0.6632 - val_acc: 0.8000 - val_fmeasure_acc: 0.0000e+00\n",
            "Epoch 15/40\n",
            "125/125 [==============================] - 0s 361us/step - loss: 0.6638 - acc: 0.7920 - fmeasure_acc: 0.0000e+00 - val_loss: 0.6632 - val_acc: 0.8000 - val_fmeasure_acc: 0.0000e+00\n",
            "Epoch 16/40\n",
            "125/125 [==============================] - 0s 380us/step - loss: 0.6638 - acc: 0.7920 - fmeasure_acc: 0.0000e+00 - val_loss: 0.6631 - val_acc: 0.8000 - val_fmeasure_acc: 0.0000e+00\n",
            "Epoch 17/40\n",
            "125/125 [==============================] - 0s 394us/step - loss: 0.6638 - acc: 0.7920 - fmeasure_acc: 0.0000e+00 - val_loss: 0.6631 - val_acc: 0.8000 - val_fmeasure_acc: 0.0000e+00\n",
            "Epoch 18/40\n",
            "125/125 [==============================] - 0s 378us/step - loss: 0.6637 - acc: 0.7920 - fmeasure_acc: 0.0000e+00 - val_loss: 0.6631 - val_acc: 0.8000 - val_fmeasure_acc: 0.0000e+00\n",
            "Epoch 19/40\n",
            "125/125 [==============================] - 0s 384us/step - loss: 0.6637 - acc: 0.7920 - fmeasure_acc: 0.0000e+00 - val_loss: 0.6630 - val_acc: 0.8000 - val_fmeasure_acc: 0.0000e+00\n",
            "Epoch 20/40\n",
            "125/125 [==============================] - 0s 381us/step - loss: 0.6637 - acc: 0.7920 - fmeasure_acc: 0.0000e+00 - val_loss: 0.6630 - val_acc: 0.8000 - val_fmeasure_acc: 0.0000e+00\n",
            "Epoch 21/40\n",
            "125/125 [==============================] - 0s 352us/step - loss: 0.6636 - acc: 0.7920 - fmeasure_acc: 0.0000e+00 - val_loss: 0.6630 - val_acc: 0.8000 - val_fmeasure_acc: 0.0000e+00\n",
            "Epoch 22/40\n",
            "125/125 [==============================] - 0s 382us/step - loss: 0.6636 - acc: 0.7920 - fmeasure_acc: 0.0000e+00 - val_loss: 0.6630 - val_acc: 0.8000 - val_fmeasure_acc: 0.0000e+00\n",
            "Epoch 23/40\n",
            "125/125 [==============================] - 0s 382us/step - loss: 0.6636 - acc: 0.7920 - fmeasure_acc: 0.0000e+00 - val_loss: 0.6629 - val_acc: 0.8000 - val_fmeasure_acc: 0.0000e+00\n",
            "Epoch 24/40\n",
            "125/125 [==============================] - 0s 378us/step - loss: 0.6635 - acc: 0.7920 - fmeasure_acc: 0.0000e+00 - val_loss: 0.6629 - val_acc: 0.8000 - val_fmeasure_acc: 0.0000e+00\n",
            "Epoch 25/40\n",
            "125/125 [==============================] - 0s 375us/step - loss: 0.6635 - acc: 0.7920 - fmeasure_acc: 0.0000e+00 - val_loss: 0.6629 - val_acc: 0.8000 - val_fmeasure_acc: 0.0000e+00\n",
            "Epoch 26/40\n",
            "125/125 [==============================] - 0s 434us/step - loss: 0.6635 - acc: 0.7920 - fmeasure_acc: 0.0000e+00 - val_loss: 0.6628 - val_acc: 0.8000 - val_fmeasure_acc: 0.0000e+00\n",
            "Epoch 27/40\n",
            "125/125 [==============================] - 0s 430us/step - loss: 0.6635 - acc: 0.7920 - fmeasure_acc: 0.0000e+00 - val_loss: 0.6628 - val_acc: 0.8000 - val_fmeasure_acc: 0.0000e+00\n",
            "Epoch 28/40\n",
            "125/125 [==============================] - 0s 371us/step - loss: 0.6634 - acc: 0.7920 - fmeasure_acc: 0.0000e+00 - val_loss: 0.6628 - val_acc: 0.8000 - val_fmeasure_acc: 0.0000e+00\n",
            "Epoch 29/40\n",
            "125/125 [==============================] - 0s 395us/step - loss: 0.6634 - acc: 0.7920 - fmeasure_acc: 0.0000e+00 - val_loss: 0.6627 - val_acc: 0.8000 - val_fmeasure_acc: 0.0000e+00\n",
            "Epoch 30/40\n",
            "125/125 [==============================] - 0s 416us/step - loss: 0.6634 - acc: 0.7920 - fmeasure_acc: 0.0000e+00 - val_loss: 0.6627 - val_acc: 0.8000 - val_fmeasure_acc: 0.0000e+00\n",
            "Epoch 31/40\n",
            "125/125 [==============================] - 0s 398us/step - loss: 0.6633 - acc: 0.7920 - fmeasure_acc: 0.0000e+00 - val_loss: 0.6627 - val_acc: 0.8000 - val_fmeasure_acc: 0.0000e+00\n",
            "Epoch 32/40\n",
            "125/125 [==============================] - 0s 379us/step - loss: 0.6633 - acc: 0.7920 - fmeasure_acc: 0.0000e+00 - val_loss: 0.6627 - val_acc: 0.8000 - val_fmeasure_acc: 0.0000e+00\n",
            "Epoch 33/40\n",
            "125/125 [==============================] - 0s 408us/step - loss: 0.6633 - acc: 0.7920 - fmeasure_acc: 0.0000e+00 - val_loss: 0.6626 - val_acc: 0.8000 - val_fmeasure_acc: 0.0000e+00\n",
            "Epoch 34/40\n",
            "125/125 [==============================] - 0s 585us/step - loss: 0.6632 - acc: 0.7920 - fmeasure_acc: 0.0000e+00 - val_loss: 0.6626 - val_acc: 0.8000 - val_fmeasure_acc: 0.0000e+00\n",
            "Epoch 35/40\n",
            "125/125 [==============================] - 0s 382us/step - loss: 0.6632 - acc: 0.7920 - fmeasure_acc: 0.0000e+00 - val_loss: 0.6626 - val_acc: 0.8000 - val_fmeasure_acc: 0.0000e+00\n",
            "Epoch 36/40\n",
            "125/125 [==============================] - 0s 367us/step - loss: 0.6632 - acc: 0.7920 - fmeasure_acc: 0.0000e+00 - val_loss: 0.6625 - val_acc: 0.8000 - val_fmeasure_acc: 0.0000e+00\n",
            "Epoch 37/40\n",
            "125/125 [==============================] - 0s 356us/step - loss: 0.6632 - acc: 0.7920 - fmeasure_acc: 0.0000e+00 - val_loss: 0.6625 - val_acc: 0.8000 - val_fmeasure_acc: 0.0000e+00\n",
            "Epoch 38/40\n",
            "125/125 [==============================] - 0s 387us/step - loss: 0.6631 - acc: 0.7920 - fmeasure_acc: 0.0000e+00 - val_loss: 0.6625 - val_acc: 0.8000 - val_fmeasure_acc: 0.0000e+00\n",
            "Epoch 39/40\n",
            "125/125 [==============================] - 0s 383us/step - loss: 0.6631 - acc: 0.7920 - fmeasure_acc: 0.0000e+00 - val_loss: 0.6624 - val_acc: 0.8000 - val_fmeasure_acc: 0.0000e+00\n",
            "Epoch 40/40\n",
            "125/125 [==============================] - 0s 407us/step - loss: 0.6631 - acc: 0.7920 - fmeasure_acc: 0.0000e+00 - val_loss: 0.6624 - val_acc: 0.8000 - val_fmeasure_acc: 0.0000e+00\n"
          ],
          "name": "stdout"
        },
        {
          "output_type": "stream",
          "text": [
            "\r100%|██████████| 10/10 [00:20<00:00,  2.20s/it]\n"
          ],
          "name": "stderr"
        }
      ]
    },
    {
      "metadata": {
        "id": "3jLhYJQ4t5lQ",
        "colab_type": "code",
        "colab": {
          "base_uri": "https://localhost:8080/",
          "height": 482
        },
        "outputId": "20c5e39b-8792-4de0-bced-aa114b4b5a68"
      },
      "cell_type": "code",
      "source": [
        "# accessing the results data frame\n",
        "h.data.head()"
      ],
      "execution_count": 8,
      "outputs": [
        {
          "output_type": "execute_result",
          "data": {
            "text/html": [
              "<div>\n",
              "<style scoped>\n",
              "    .dataframe tbody tr th:only-of-type {\n",
              "        vertical-align: middle;\n",
              "    }\n",
              "\n",
              "    .dataframe tbody tr th {\n",
              "        vertical-align: top;\n",
              "    }\n",
              "\n",
              "    .dataframe thead th {\n",
              "        text-align: right;\n",
              "    }\n",
              "</style>\n",
              "<table border=\"1\" class=\"dataframe\">\n",
              "  <thead>\n",
              "    <tr style=\"text-align: right;\">\n",
              "      <th></th>\n",
              "      <th>round_epochs</th>\n",
              "      <th>val_loss</th>\n",
              "      <th>val_acc</th>\n",
              "      <th>val_fmeasure_acc</th>\n",
              "      <th>loss</th>\n",
              "      <th>acc</th>\n",
              "      <th>fmeasure_acc</th>\n",
              "      <th>first_neuron</th>\n",
              "      <th>activation</th>\n",
              "      <th>optimizer</th>\n",
              "      <th>losses</th>\n",
              "      <th>hidden_layers</th>\n",
              "      <th>batch_size</th>\n",
              "      <th>epochs</th>\n",
              "      <th>dropout</th>\n",
              "      <th>kernel_initializer</th>\n",
              "      <th>lr</th>\n",
              "      <th>last_activation</th>\n",
              "    </tr>\n",
              "  </thead>\n",
              "  <tbody>\n",
              "    <tr>\n",
              "      <th>0</th>\n",
              "      <td>4</td>\n",
              "      <td>0.673808</td>\n",
              "      <td>0.8</td>\n",
              "      <td>0.000000</td>\n",
              "      <td>0.674917</td>\n",
              "      <td>0.792</td>\n",
              "      <td>0.000000</td>\n",
              "      <td>32</td>\n",
              "      <td>&lt;function sigmoid at 0x7f708d2d8840&gt;</td>\n",
              "      <td>&lt;class 'keras.optimizers.Adam'&gt;</td>\n",
              "      <td>&lt;function binary_crossentropy at 0x7f708d326840&gt;</td>\n",
              "      <td>1</td>\n",
              "      <td>30</td>\n",
              "      <td>4</td>\n",
              "      <td>0.0</td>\n",
              "      <td>normal</td>\n",
              "      <td>0.01</td>\n",
              "      <td>sigmoid</td>\n",
              "    </tr>\n",
              "    <tr>\n",
              "      <th>1</th>\n",
              "      <td>4</td>\n",
              "      <td>0.715969</td>\n",
              "      <td>0.2</td>\n",
              "      <td>0.324857</td>\n",
              "      <td>0.713250</td>\n",
              "      <td>0.224</td>\n",
              "      <td>0.335161</td>\n",
              "      <td>16</td>\n",
              "      <td>&lt;function sigmoid at 0x7f708d2d8840&gt;</td>\n",
              "      <td>&lt;class 'keras.optimizers.Adam'&gt;</td>\n",
              "      <td>&lt;function binary_crossentropy at 0x7f708d326840&gt;</td>\n",
              "      <td>1</td>\n",
              "      <td>10</td>\n",
              "      <td>4</td>\n",
              "      <td>0.1</td>\n",
              "      <td>normal</td>\n",
              "      <td>0.01</td>\n",
              "      <td>sigmoid</td>\n",
              "    </tr>\n",
              "    <tr>\n",
              "      <th>2</th>\n",
              "      <td>40</td>\n",
              "      <td>0.663364</td>\n",
              "      <td>0.8</td>\n",
              "      <td>0.000000</td>\n",
              "      <td>0.663591</td>\n",
              "      <td>0.792</td>\n",
              "      <td>0.000000</td>\n",
              "      <td>8</td>\n",
              "      <td>&lt;function sigmoid at 0x7f708d2d8840&gt;</td>\n",
              "      <td>&lt;class 'keras.optimizers.Nadam'&gt;</td>\n",
              "      <td>&lt;function binary_crossentropy at 0x7f708d326840&gt;</td>\n",
              "      <td>1</td>\n",
              "      <td>30</td>\n",
              "      <td>40</td>\n",
              "      <td>0.1</td>\n",
              "      <td>uniform</td>\n",
              "      <td>0.01</td>\n",
              "      <td>sigmoid</td>\n",
              "    </tr>\n",
              "    <tr>\n",
              "      <th>3</th>\n",
              "      <td>4</td>\n",
              "      <td>0.692159</td>\n",
              "      <td>0.8</td>\n",
              "      <td>0.349885</td>\n",
              "      <td>0.693015</td>\n",
              "      <td>0.512</td>\n",
              "      <td>0.326171</td>\n",
              "      <td>4</td>\n",
              "      <td>&lt;function sigmoid at 0x7f708d2d8840&gt;</td>\n",
              "      <td>&lt;class 'keras.optimizers.Nadam'&gt;</td>\n",
              "      <td>&lt;function binary_crossentropy at 0x7f708d326840&gt;</td>\n",
              "      <td>2</td>\n",
              "      <td>20</td>\n",
              "      <td>4</td>\n",
              "      <td>0.1</td>\n",
              "      <td>uniform</td>\n",
              "      <td>0.10</td>\n",
              "      <td>sigmoid</td>\n",
              "    </tr>\n",
              "    <tr>\n",
              "      <th>4</th>\n",
              "      <td>4</td>\n",
              "      <td>0.673400</td>\n",
              "      <td>0.8</td>\n",
              "      <td>0.000000</td>\n",
              "      <td>0.676160</td>\n",
              "      <td>0.800</td>\n",
              "      <td>0.099048</td>\n",
              "      <td>16</td>\n",
              "      <td>&lt;function sigmoid at 0x7f708d2d8840&gt;</td>\n",
              "      <td>&lt;class 'keras.optimizers.Nadam'&gt;</td>\n",
              "      <td>&lt;function binary_crossentropy at 0x7f708d326840&gt;</td>\n",
              "      <td>1</td>\n",
              "      <td>20</td>\n",
              "      <td>4</td>\n",
              "      <td>0.1</td>\n",
              "      <td>uniform</td>\n",
              "      <td>0.10</td>\n",
              "      <td>sigmoid</td>\n",
              "    </tr>\n",
              "  </tbody>\n",
              "</table>\n",
              "</div>"
            ],
            "text/plain": [
              "   round_epochs  val_loss  val_acc  val_fmeasure_acc      loss    acc  \\\n",
              "0             4  0.673808      0.8          0.000000  0.674917  0.792   \n",
              "1             4  0.715969      0.2          0.324857  0.713250  0.224   \n",
              "2            40  0.663364      0.8          0.000000  0.663591  0.792   \n",
              "3             4  0.692159      0.8          0.349885  0.693015  0.512   \n",
              "4             4  0.673400      0.8          0.000000  0.676160  0.800   \n",
              "\n",
              "   fmeasure_acc  first_neuron                            activation  \\\n",
              "0      0.000000            32  <function sigmoid at 0x7f708d2d8840>   \n",
              "1      0.335161            16  <function sigmoid at 0x7f708d2d8840>   \n",
              "2      0.000000             8  <function sigmoid at 0x7f708d2d8840>   \n",
              "3      0.326171             4  <function sigmoid at 0x7f708d2d8840>   \n",
              "4      0.099048            16  <function sigmoid at 0x7f708d2d8840>   \n",
              "\n",
              "                          optimizer  \\\n",
              "0   <class 'keras.optimizers.Adam'>   \n",
              "1   <class 'keras.optimizers.Adam'>   \n",
              "2  <class 'keras.optimizers.Nadam'>   \n",
              "3  <class 'keras.optimizers.Nadam'>   \n",
              "4  <class 'keras.optimizers.Nadam'>   \n",
              "\n",
              "                                             losses  hidden_layers  \\\n",
              "0  <function binary_crossentropy at 0x7f708d326840>              1   \n",
              "1  <function binary_crossentropy at 0x7f708d326840>              1   \n",
              "2  <function binary_crossentropy at 0x7f708d326840>              1   \n",
              "3  <function binary_crossentropy at 0x7f708d326840>              2   \n",
              "4  <function binary_crossentropy at 0x7f708d326840>              1   \n",
              "\n",
              "   batch_size  epochs  dropout kernel_initializer    lr last_activation  \n",
              "0          30       4      0.0             normal  0.01         sigmoid  \n",
              "1          10       4      0.1             normal  0.01         sigmoid  \n",
              "2          30      40      0.1            uniform  0.01         sigmoid  \n",
              "3          20       4      0.1            uniform  0.10         sigmoid  \n",
              "4          20       4      0.1            uniform  0.10         sigmoid  "
            ]
          },
          "metadata": {
            "tags": []
          },
          "execution_count": 8
        }
      ]
    },
    {
      "metadata": {
        "id": "P_eM9y8RiyfJ",
        "colab_type": "code",
        "colab": {}
      },
      "cell_type": "code",
      "source": [
        "# Best model based on training criteria \"val_acc\"\n",
        "best_model = h.best_model(metric='val_acc')"
      ],
      "execution_count": 0,
      "outputs": []
    },
    {
      "metadata": {
        "id": "Jps9bGEtuC0w",
        "colab_type": "code",
        "colab": {
          "base_uri": "https://localhost:8080/",
          "height": 355
        },
        "outputId": "21d7fd2d-20d1-41d7-85cf-10695a5c580c"
      },
      "cell_type": "code",
      "source": [
        "# accessing epoch entropy values for each round\n",
        "h.peak_epochs_df"
      ],
      "execution_count": 9,
      "outputs": [
        {
          "output_type": "execute_result",
          "data": {
            "text/html": [
              "<div>\n",
              "<style scoped>\n",
              "    .dataframe tbody tr th:only-of-type {\n",
              "        vertical-align: middle;\n",
              "    }\n",
              "\n",
              "    .dataframe tbody tr th {\n",
              "        vertical-align: top;\n",
              "    }\n",
              "\n",
              "    .dataframe thead th {\n",
              "        text-align: right;\n",
              "    }\n",
              "</style>\n",
              "<table border=\"1\" class=\"dataframe\">\n",
              "  <thead>\n",
              "    <tr style=\"text-align: right;\">\n",
              "      <th></th>\n",
              "      <th>val_loss</th>\n",
              "      <th>val_acc</th>\n",
              "      <th>val_fmeasure_acc</th>\n",
              "      <th>loss</th>\n",
              "      <th>acc</th>\n",
              "      <th>fmeasure_acc</th>\n",
              "      <th>acc_epoch</th>\n",
              "      <th>loss_epoch</th>\n",
              "    </tr>\n",
              "  </thead>\n",
              "  <tbody>\n",
              "    <tr>\n",
              "      <th>1</th>\n",
              "      <td>3</td>\n",
              "      <td>3</td>\n",
              "      <td>3</td>\n",
              "      <td>3</td>\n",
              "      <td>2</td>\n",
              "      <td>3</td>\n",
              "      <td>-5.579151e-17</td>\n",
              "      <td>4.573270e-11</td>\n",
              "    </tr>\n",
              "    <tr>\n",
              "      <th>2</th>\n",
              "      <td>3</td>\n",
              "      <td>3</td>\n",
              "      <td>3</td>\n",
              "      <td>2</td>\n",
              "      <td>2</td>\n",
              "      <td>0</td>\n",
              "      <td>8.912983e-04</td>\n",
              "      <td>1.781976e-06</td>\n",
              "    </tr>\n",
              "    <tr>\n",
              "      <th>3</th>\n",
              "      <td>39</td>\n",
              "      <td>39</td>\n",
              "      <td>39</td>\n",
              "      <td>31</td>\n",
              "      <td>30</td>\n",
              "      <td>39</td>\n",
              "      <td>1.343987e-16</td>\n",
              "      <td>6.234624e-07</td>\n",
              "    </tr>\n",
              "    <tr>\n",
              "      <th>4</th>\n",
              "      <td>3</td>\n",
              "      <td>3</td>\n",
              "      <td>2</td>\n",
              "      <td>3</td>\n",
              "      <td>3</td>\n",
              "      <td>2</td>\n",
              "      <td>6.192039e-02</td>\n",
              "      <td>2.005898e-08</td>\n",
              "    </tr>\n",
              "    <tr>\n",
              "      <th>5</th>\n",
              "      <td>3</td>\n",
              "      <td>3</td>\n",
              "      <td>3</td>\n",
              "      <td>3</td>\n",
              "      <td>1</td>\n",
              "      <td>0</td>\n",
              "      <td>2.550888e-05</td>\n",
              "      <td>1.817601e-06</td>\n",
              "    </tr>\n",
              "    <tr>\n",
              "      <th>6</th>\n",
              "      <td>19</td>\n",
              "      <td>19</td>\n",
              "      <td>1</td>\n",
              "      <td>19</td>\n",
              "      <td>5</td>\n",
              "      <td>0</td>\n",
              "      <td>1.079944e-03</td>\n",
              "      <td>1.742530e-08</td>\n",
              "    </tr>\n",
              "    <tr>\n",
              "      <th>7</th>\n",
              "      <td>9</td>\n",
              "      <td>9</td>\n",
              "      <td>0</td>\n",
              "      <td>9</td>\n",
              "      <td>7</td>\n",
              "      <td>1</td>\n",
              "      <td>2.689707e-03</td>\n",
              "      <td>2.043705e-09</td>\n",
              "    </tr>\n",
              "    <tr>\n",
              "      <th>8</th>\n",
              "      <td>19</td>\n",
              "      <td>19</td>\n",
              "      <td>19</td>\n",
              "      <td>19</td>\n",
              "      <td>19</td>\n",
              "      <td>5</td>\n",
              "      <td>2.776147e-03</td>\n",
              "      <td>1.969397e-09</td>\n",
              "    </tr>\n",
              "    <tr>\n",
              "      <th>9</th>\n",
              "      <td>3</td>\n",
              "      <td>3</td>\n",
              "      <td>3</td>\n",
              "      <td>2</td>\n",
              "      <td>3</td>\n",
              "      <td>1</td>\n",
              "      <td>2.928282e-05</td>\n",
              "      <td>1.566126e-09</td>\n",
              "    </tr>\n",
              "    <tr>\n",
              "      <th>10</th>\n",
              "      <td>39</td>\n",
              "      <td>39</td>\n",
              "      <td>39</td>\n",
              "      <td>39</td>\n",
              "      <td>35</td>\n",
              "      <td>39</td>\n",
              "      <td>2.691666e-17</td>\n",
              "      <td>3.909669e-11</td>\n",
              "    </tr>\n",
              "  </tbody>\n",
              "</table>\n",
              "</div>"
            ],
            "text/plain": [
              "   val_loss val_acc val_fmeasure_acc loss acc fmeasure_acc     acc_epoch  \\\n",
              "1         3       3                3    3   2            3 -5.579151e-17   \n",
              "2         3       3                3    2   2            0  8.912983e-04   \n",
              "3        39      39               39   31  30           39  1.343987e-16   \n",
              "4         3       3                2    3   3            2  6.192039e-02   \n",
              "5         3       3                3    3   1            0  2.550888e-05   \n",
              "6        19      19                1   19   5            0  1.079944e-03   \n",
              "7         9       9                0    9   7            1  2.689707e-03   \n",
              "8        19      19               19   19  19            5  2.776147e-03   \n",
              "9         3       3                3    2   3            1  2.928282e-05   \n",
              "10       39      39               39   39  35           39  2.691666e-17   \n",
              "\n",
              "      loss_epoch  \n",
              "1   4.573270e-11  \n",
              "2   1.781976e-06  \n",
              "3   6.234624e-07  \n",
              "4   2.005898e-08  \n",
              "5   1.817601e-06  \n",
              "6   1.742530e-08  \n",
              "7   2.043705e-09  \n",
              "8   1.969397e-09  \n",
              "9   1.566126e-09  \n",
              "10  3.909669e-11  "
            ]
          },
          "metadata": {
            "tags": []
          },
          "execution_count": 9
        }
      ]
    },
    {
      "metadata": {
        "id": "6n2YlqKLuH1R",
        "colab_type": "code",
        "colab": {
          "base_uri": "https://localhost:8080/",
          "height": 243
        },
        "outputId": "945784a2-1bb8-42a9-ea15-90f52ce9a177"
      },
      "cell_type": "code",
      "source": [
        "# access the summary details\n",
        "h.details"
      ],
      "execution_count": 10,
      "outputs": [
        {
          "output_type": "execute_result",
          "data": {
            "text/plain": [
              "random_method          uniform_mersenne\n",
              "reduction_method                   None\n",
              "reduction_interval                   50\n",
              "reduction_window                     20\n",
              "grid_downsample                   0.001\n",
              "reduction_threshold                 0.2\n",
              "reduction_metric                val_acc\n",
              "reduce_loss                       False\n",
              "experiment_name           041519141558_\n",
              "complete_time            04/15/19/14:16\n",
              "x_shape                      (180, 200)\n",
              "y_shape                          (180,)\n",
              "dtype: object"
            ]
          },
          "metadata": {
            "tags": []
          },
          "execution_count": 10
        }
      ]
    },
    {
      "metadata": {
        "id": "TuCWhUXauTNt",
        "colab_type": "code",
        "colab": {
          "base_uri": "https://localhost:8080/",
          "height": 55
        },
        "outputId": "6c8d1488-98fc-4aca-cddd-8886aac91465"
      },
      "cell_type": "code",
      "source": [
        "# accessing the saved models\n",
        "h.saved_models[0]"
      ],
      "execution_count": 11,
      "outputs": [
        {
          "output_type": "execute_result",
          "data": {
            "text/plain": [
              "'{\"class_name\": \"Sequential\", \"config\": {\"name\": \"sequential_1\", \"layers\": [{\"class_name\": \"Dense\", \"config\": {\"name\": \"dense_1\", \"trainable\": true, \"batch_input_shape\": [null, 200], \"dtype\": \"float32\", \"units\": 32, \"activation\": \"sigmoid\", \"use_bias\": true, \"kernel_initializer\": {\"class_name\": \"RandomNormal\", \"config\": {\"mean\": 0.0, \"stddev\": 0.05, \"seed\": null}}, \"bias_initializer\": {\"class_name\": \"Zeros\", \"config\": {}}, \"kernel_regularizer\": null, \"bias_regularizer\": null, \"activity_regularizer\": null, \"kernel_constraint\": null, \"bias_constraint\": null}}, {\"class_name\": \"Dropout\", \"config\": {\"name\": \"dropout_1\", \"trainable\": true, \"rate\": 0.0, \"noise_shape\": null, \"seed\": null}}, {\"class_name\": \"Dense\", \"config\": {\"name\": \"dense_2\", \"trainable\": true, \"units\": 1, \"activation\": \"sigmoid\", \"use_bias\": true, \"kernel_initializer\": {\"class_name\": \"RandomNormal\", \"config\": {\"mean\": 0.0, \"stddev\": 0.05, \"seed\": null}}, \"bias_initializer\": {\"class_name\": \"Zeros\", \"config\": {}}, \"kernel_regularizer\": null, \"bias_regularizer\": null, \"activity_regularizer\": null, \"kernel_constraint\": null, \"bias_constraint\": null}}]}, \"keras_version\": \"2.2.4\", \"backend\": \"tensorflow\"}'"
            ]
          },
          "metadata": {
            "tags": []
          },
          "execution_count": 11
        }
      ]
    },
    {
      "metadata": {
        "id": "iIySufgBuWNM",
        "colab_type": "code",
        "colab": {
          "base_uri": "https://localhost:8080/",
          "height": 936
        },
        "outputId": "ba8c5983-b9d0-45a2-8a05-98178b22c103"
      },
      "cell_type": "code",
      "source": [
        "# accessing the saved weights for models\n",
        "h.saved_weights[0]"
      ],
      "execution_count": 12,
      "outputs": [
        {
          "output_type": "execute_result",
          "data": {
            "text/plain": [
              "[array([[-1.5504115e-02,  3.8878426e-03,  8.7533459e-02, ...,\n",
              "          2.4995238e-03,  2.6606908e-02, -5.2861843e-02],\n",
              "        [ 2.4652418e-02, -1.1545826e-01,  3.2242130e-02, ...,\n",
              "          4.4823869e-04, -9.6932516e-02, -3.3947691e-02],\n",
              "        [ 1.2177426e-02, -5.1329322e-03,  1.9165458e-02, ...,\n",
              "          4.4482771e-02, -8.4633753e-02,  4.1414011e-02],\n",
              "        ...,\n",
              "        [ 8.1212394e-02, -3.0108670e-02, -8.0518350e-03, ...,\n",
              "          2.1253228e-03,  1.0025525e-01, -9.8016575e-02],\n",
              "        [ 5.6933537e-02, -8.1771612e-03, -1.1432476e-04, ...,\n",
              "          2.5697306e-02,  2.1992780e-02, -8.4980195e-03],\n",
              "        [ 6.4491525e-02,  2.8621262e-02, -8.0150381e-02, ...,\n",
              "         -5.9528198e-02,  3.4931384e-02, -6.1381827e-03]], dtype=float32),\n",
              " array([-0.00018658,  0.00019664,  0.00019672, -0.00019623, -0.00019656,\n",
              "        -0.00019637,  0.00019667,  0.00019669, -0.00019667,  0.00019672,\n",
              "         0.00019669, -0.00019658,  0.00019672, -0.00019664, -0.00019642,\n",
              "         0.00019671, -0.00019642,  0.00019662,  0.00019672, -0.00019665,\n",
              "         0.00019658,  0.00019669,  0.00019672, -0.00019608, -0.00019652,\n",
              "        -0.0001957 , -0.00019668,  0.00019651, -0.00019663,  0.00019671,\n",
              "        -0.00019646, -0.00019653], dtype=float32),\n",
              " array([[ 0.00041086],\n",
              "        [-0.01077248],\n",
              "        [-0.06843471],\n",
              "        [ 0.01117927],\n",
              "        [ 0.03229481],\n",
              "        [ 0.01539708],\n",
              "        [-0.01514218],\n",
              "        [-0.02404671],\n",
              "        [ 0.08993984],\n",
              "        [-0.06049369],\n",
              "        [-0.02383694],\n",
              "        [ 0.03712425],\n",
              "        [-0.09832423],\n",
              "        [ 0.06016709],\n",
              "        [ 0.01779344],\n",
              "        [-0.05612478],\n",
              "        [ 0.01793789],\n",
              "        [-0.00906727],\n",
              "        [-0.09388889],\n",
              "        [ 0.06691787],\n",
              "        [-0.00677412],\n",
              "        [-0.0242716 ],\n",
              "        [-0.18180272],\n",
              "        [ 0.00848943],\n",
              "        [ 0.02611648],\n",
              "        [ 0.00527836],\n",
              "        [ 0.11484578],\n",
              "        [-0.00462524],\n",
              "        [ 0.05364643],\n",
              "        [-0.05799765],\n",
              "        [ 0.02105957],\n",
              "        [ 0.02838195]], dtype=float32),\n",
              " array([-0.00019673], dtype=float32)]"
            ]
          },
          "metadata": {
            "tags": []
          },
          "execution_count": 12
        }
      ]
    },
    {
      "metadata": {
        "id": "yF0EJL-cfvB7",
        "colab_type": "text"
      },
      "cell_type": "markdown",
      "source": [
        "## Reporting \n",
        "In the Scan process, the results are stored round-by-round in the corresponding experiment log which is a .csv file stored in the present working directory. The Reporting() accepts as its source either a file name, or the Scan object.\n",
        "\n",
        "**See source code to dcide how to use this command** \n",
        "https://github.com/autonomio/talos/blob/daily-dev/talos/commands/reporting.py "
      ]
    },
    {
      "metadata": {
        "id": "vUSL0U1muiuK",
        "colab_type": "code",
        "colab": {}
      },
      "cell_type": "code",
      "source": [
        "# use Scan object as input\n",
        "r = ta.Reporting(h)"
      ],
      "execution_count": 0,
      "outputs": []
    },
    {
      "metadata": {
        "id": "ZT5SHcUdux56",
        "colab_type": "code",
        "colab": {
          "base_uri": "https://localhost:8080/",
          "height": 647
        },
        "outputId": "8c85eaf3-8a48-412d-c344-a08b76b4c15d"
      },
      "cell_type": "code",
      "source": [
        "# access the dataframe with the results\n",
        "r.data.head(-3)"
      ],
      "execution_count": 14,
      "outputs": [
        {
          "output_type": "execute_result",
          "data": {
            "text/html": [
              "<div>\n",
              "<style scoped>\n",
              "    .dataframe tbody tr th:only-of-type {\n",
              "        vertical-align: middle;\n",
              "    }\n",
              "\n",
              "    .dataframe tbody tr th {\n",
              "        vertical-align: top;\n",
              "    }\n",
              "\n",
              "    .dataframe thead th {\n",
              "        text-align: right;\n",
              "    }\n",
              "</style>\n",
              "<table border=\"1\" class=\"dataframe\">\n",
              "  <thead>\n",
              "    <tr style=\"text-align: right;\">\n",
              "      <th></th>\n",
              "      <th>round_epochs</th>\n",
              "      <th>val_loss</th>\n",
              "      <th>val_acc</th>\n",
              "      <th>val_fmeasure_acc</th>\n",
              "      <th>loss</th>\n",
              "      <th>acc</th>\n",
              "      <th>fmeasure_acc</th>\n",
              "      <th>first_neuron</th>\n",
              "      <th>activation</th>\n",
              "      <th>optimizer</th>\n",
              "      <th>losses</th>\n",
              "      <th>hidden_layers</th>\n",
              "      <th>batch_size</th>\n",
              "      <th>epochs</th>\n",
              "      <th>dropout</th>\n",
              "      <th>kernel_initializer</th>\n",
              "      <th>lr</th>\n",
              "      <th>last_activation</th>\n",
              "    </tr>\n",
              "  </thead>\n",
              "  <tbody>\n",
              "    <tr>\n",
              "      <th>0</th>\n",
              "      <td>4</td>\n",
              "      <td>0.673808</td>\n",
              "      <td>0.8</td>\n",
              "      <td>0.000000</td>\n",
              "      <td>0.674917</td>\n",
              "      <td>0.792</td>\n",
              "      <td>0.000000</td>\n",
              "      <td>32</td>\n",
              "      <td>&lt;function sigmoid at 0x7f708d2d8840&gt;</td>\n",
              "      <td>&lt;class 'keras.optimizers.Adam'&gt;</td>\n",
              "      <td>&lt;function binary_crossentropy at 0x7f708d326840&gt;</td>\n",
              "      <td>1</td>\n",
              "      <td>30</td>\n",
              "      <td>4</td>\n",
              "      <td>0.0</td>\n",
              "      <td>normal</td>\n",
              "      <td>0.01</td>\n",
              "      <td>sigmoid</td>\n",
              "    </tr>\n",
              "    <tr>\n",
              "      <th>1</th>\n",
              "      <td>4</td>\n",
              "      <td>0.715969</td>\n",
              "      <td>0.2</td>\n",
              "      <td>0.324857</td>\n",
              "      <td>0.713250</td>\n",
              "      <td>0.224</td>\n",
              "      <td>0.335161</td>\n",
              "      <td>16</td>\n",
              "      <td>&lt;function sigmoid at 0x7f708d2d8840&gt;</td>\n",
              "      <td>&lt;class 'keras.optimizers.Adam'&gt;</td>\n",
              "      <td>&lt;function binary_crossentropy at 0x7f708d326840&gt;</td>\n",
              "      <td>1</td>\n",
              "      <td>10</td>\n",
              "      <td>4</td>\n",
              "      <td>0.1</td>\n",
              "      <td>normal</td>\n",
              "      <td>0.01</td>\n",
              "      <td>sigmoid</td>\n",
              "    </tr>\n",
              "    <tr>\n",
              "      <th>2</th>\n",
              "      <td>40</td>\n",
              "      <td>0.663364</td>\n",
              "      <td>0.8</td>\n",
              "      <td>0.000000</td>\n",
              "      <td>0.663591</td>\n",
              "      <td>0.792</td>\n",
              "      <td>0.000000</td>\n",
              "      <td>8</td>\n",
              "      <td>&lt;function sigmoid at 0x7f708d2d8840&gt;</td>\n",
              "      <td>&lt;class 'keras.optimizers.Nadam'&gt;</td>\n",
              "      <td>&lt;function binary_crossentropy at 0x7f708d326840&gt;</td>\n",
              "      <td>1</td>\n",
              "      <td>30</td>\n",
              "      <td>40</td>\n",
              "      <td>0.1</td>\n",
              "      <td>uniform</td>\n",
              "      <td>0.01</td>\n",
              "      <td>sigmoid</td>\n",
              "    </tr>\n",
              "    <tr>\n",
              "      <th>3</th>\n",
              "      <td>4</td>\n",
              "      <td>0.692159</td>\n",
              "      <td>0.8</td>\n",
              "      <td>0.349885</td>\n",
              "      <td>0.693015</td>\n",
              "      <td>0.512</td>\n",
              "      <td>0.326171</td>\n",
              "      <td>4</td>\n",
              "      <td>&lt;function sigmoid at 0x7f708d2d8840&gt;</td>\n",
              "      <td>&lt;class 'keras.optimizers.Nadam'&gt;</td>\n",
              "      <td>&lt;function binary_crossentropy at 0x7f708d326840&gt;</td>\n",
              "      <td>2</td>\n",
              "      <td>20</td>\n",
              "      <td>4</td>\n",
              "      <td>0.1</td>\n",
              "      <td>uniform</td>\n",
              "      <td>0.10</td>\n",
              "      <td>sigmoid</td>\n",
              "    </tr>\n",
              "    <tr>\n",
              "      <th>4</th>\n",
              "      <td>4</td>\n",
              "      <td>0.673400</td>\n",
              "      <td>0.8</td>\n",
              "      <td>0.000000</td>\n",
              "      <td>0.676160</td>\n",
              "      <td>0.800</td>\n",
              "      <td>0.099048</td>\n",
              "      <td>16</td>\n",
              "      <td>&lt;function sigmoid at 0x7f708d2d8840&gt;</td>\n",
              "      <td>&lt;class 'keras.optimizers.Nadam'&gt;</td>\n",
              "      <td>&lt;function binary_crossentropy at 0x7f708d326840&gt;</td>\n",
              "      <td>1</td>\n",
              "      <td>20</td>\n",
              "      <td>4</td>\n",
              "      <td>0.1</td>\n",
              "      <td>uniform</td>\n",
              "      <td>0.10</td>\n",
              "      <td>sigmoid</td>\n",
              "    </tr>\n",
              "    <tr>\n",
              "      <th>5</th>\n",
              "      <td>20</td>\n",
              "      <td>0.685601</td>\n",
              "      <td>0.8</td>\n",
              "      <td>0.419048</td>\n",
              "      <td>0.685337</td>\n",
              "      <td>0.792</td>\n",
              "      <td>0.293524</td>\n",
              "      <td>8</td>\n",
              "      <td>&lt;function relu at 0x7f708d2d8730&gt;</td>\n",
              "      <td>&lt;class 'keras.optimizers.Adam'&gt;</td>\n",
              "      <td>&lt;function binary_crossentropy at 0x7f708d326840&gt;</td>\n",
              "      <td>2</td>\n",
              "      <td>10</td>\n",
              "      <td>20</td>\n",
              "      <td>0.1</td>\n",
              "      <td>normal</td>\n",
              "      <td>0.10</td>\n",
              "      <td>sigmoid</td>\n",
              "    </tr>\n",
              "    <tr>\n",
              "      <th>6</th>\n",
              "      <td>10</td>\n",
              "      <td>0.691251</td>\n",
              "      <td>0.8</td>\n",
              "      <td>0.323147</td>\n",
              "      <td>0.691289</td>\n",
              "      <td>0.792</td>\n",
              "      <td>0.395702</td>\n",
              "      <td>16</td>\n",
              "      <td>&lt;function relu at 0x7f708d2d8730&gt;</td>\n",
              "      <td>&lt;class 'keras.optimizers.Adam'&gt;</td>\n",
              "      <td>&lt;function binary_crossentropy at 0x7f708d326840&gt;</td>\n",
              "      <td>1</td>\n",
              "      <td>30</td>\n",
              "      <td>10</td>\n",
              "      <td>0.0</td>\n",
              "      <td>uniform</td>\n",
              "      <td>0.10</td>\n",
              "      <td>sigmoid</td>\n",
              "    </tr>\n",
              "  </tbody>\n",
              "</table>\n",
              "</div>"
            ],
            "text/plain": [
              "   round_epochs  val_loss  val_acc  val_fmeasure_acc      loss    acc  \\\n",
              "0             4  0.673808      0.8          0.000000  0.674917  0.792   \n",
              "1             4  0.715969      0.2          0.324857  0.713250  0.224   \n",
              "2            40  0.663364      0.8          0.000000  0.663591  0.792   \n",
              "3             4  0.692159      0.8          0.349885  0.693015  0.512   \n",
              "4             4  0.673400      0.8          0.000000  0.676160  0.800   \n",
              "5            20  0.685601      0.8          0.419048  0.685337  0.792   \n",
              "6            10  0.691251      0.8          0.323147  0.691289  0.792   \n",
              "\n",
              "   fmeasure_acc  first_neuron                            activation  \\\n",
              "0      0.000000            32  <function sigmoid at 0x7f708d2d8840>   \n",
              "1      0.335161            16  <function sigmoid at 0x7f708d2d8840>   \n",
              "2      0.000000             8  <function sigmoid at 0x7f708d2d8840>   \n",
              "3      0.326171             4  <function sigmoid at 0x7f708d2d8840>   \n",
              "4      0.099048            16  <function sigmoid at 0x7f708d2d8840>   \n",
              "5      0.293524             8     <function relu at 0x7f708d2d8730>   \n",
              "6      0.395702            16     <function relu at 0x7f708d2d8730>   \n",
              "\n",
              "                          optimizer  \\\n",
              "0   <class 'keras.optimizers.Adam'>   \n",
              "1   <class 'keras.optimizers.Adam'>   \n",
              "2  <class 'keras.optimizers.Nadam'>   \n",
              "3  <class 'keras.optimizers.Nadam'>   \n",
              "4  <class 'keras.optimizers.Nadam'>   \n",
              "5   <class 'keras.optimizers.Adam'>   \n",
              "6   <class 'keras.optimizers.Adam'>   \n",
              "\n",
              "                                             losses  hidden_layers  \\\n",
              "0  <function binary_crossentropy at 0x7f708d326840>              1   \n",
              "1  <function binary_crossentropy at 0x7f708d326840>              1   \n",
              "2  <function binary_crossentropy at 0x7f708d326840>              1   \n",
              "3  <function binary_crossentropy at 0x7f708d326840>              2   \n",
              "4  <function binary_crossentropy at 0x7f708d326840>              1   \n",
              "5  <function binary_crossentropy at 0x7f708d326840>              2   \n",
              "6  <function binary_crossentropy at 0x7f708d326840>              1   \n",
              "\n",
              "   batch_size  epochs  dropout kernel_initializer    lr last_activation  \n",
              "0          30       4      0.0             normal  0.01         sigmoid  \n",
              "1          10       4      0.1             normal  0.01         sigmoid  \n",
              "2          30      40      0.1            uniform  0.01         sigmoid  \n",
              "3          20       4      0.1            uniform  0.10         sigmoid  \n",
              "4          20       4      0.1            uniform  0.10         sigmoid  \n",
              "5          10      20      0.1             normal  0.10         sigmoid  \n",
              "6          30      10      0.0            uniform  0.10         sigmoid  "
            ]
          },
          "metadata": {
            "tags": []
          },
          "execution_count": 14
        }
      ]
    },
    {
      "metadata": {
        "id": "-Os1t3GKu5VA",
        "colab_type": "code",
        "colab": {
          "base_uri": "https://localhost:8080/",
          "height": 35
        },
        "outputId": "5fbed6ed-342e-4578-9005-4d0564692f05"
      },
      "cell_type": "code",
      "source": [
        "# get the number of rounds in the Scan\n",
        "r.rounds()"
      ],
      "execution_count": 15,
      "outputs": [
        {
          "output_type": "execute_result",
          "data": {
            "text/plain": [
              "10"
            ]
          },
          "metadata": {
            "tags": []
          },
          "execution_count": 15
        }
      ]
    },
    {
      "metadata": {
        "id": "SmBCauXmu74R",
        "colab_type": "code",
        "colab": {
          "base_uri": "https://localhost:8080/",
          "height": 35
        },
        "outputId": "ff92c41a-3230-4148-cc3c-439dee4cc9fc"
      },
      "cell_type": "code",
      "source": [
        "# get the highest result ('val_acc' by default)\n",
        "r.high()"
      ],
      "execution_count": 16,
      "outputs": [
        {
          "output_type": "execute_result",
          "data": {
            "text/plain": [
              "0.800000011920929"
            ]
          },
          "metadata": {
            "tags": []
          },
          "execution_count": 16
        }
      ]
    },
    {
      "metadata": {
        "id": "_ZPQqpf9u_FK",
        "colab_type": "code",
        "colab": {
          "base_uri": "https://localhost:8080/",
          "height": 69
        },
        "outputId": "294b29db-2466-4e78-9c1e-7e2d55c5660e"
      },
      "cell_type": "code",
      "source": [
        "# get the highest result for any metric\n",
        "print(\"F-measure accuracy:\", r.high('val_fmeasure_acc'))\n",
        "print(\"Training accuracy:\", r.high('acc'))\n",
        "print(\"Validation accuracy:\", r.high('val_acc'))"
      ],
      "execution_count": 19,
      "outputs": [
        {
          "output_type": "stream",
          "text": [
            "F-measure accuracy: 0.4190475723960183\n",
            "Training accuracy: 0.8000000023841858\n",
            "Validation accuracy: 0.800000011920929\n"
          ],
          "name": "stdout"
        }
      ]
    },
    {
      "metadata": {
        "id": "Hf-EDDDgvBFs",
        "colab_type": "code",
        "colab": {
          "base_uri": "https://localhost:8080/",
          "height": 35
        },
        "outputId": "46bc06e8-3d61-43b9-fcda-cc2b132d4213"
      },
      "cell_type": "code",
      "source": [
        "# get the round with the best result\n",
        "r.rounds2high()"
      ],
      "execution_count": 20,
      "outputs": [
        {
          "output_type": "execute_result",
          "data": {
            "text/plain": [
              "0"
            ]
          },
          "metadata": {
            "tags": []
          },
          "execution_count": 20
        }
      ]
    },
    {
      "metadata": {
        "id": "RGlss-RFvKYt",
        "colab_type": "code",
        "colab": {
          "base_uri": "https://localhost:8080/",
          "height": 191
        },
        "outputId": "e28a8302-e34a-4244-8a0e-f68e5331d9d5"
      },
      "cell_type": "code",
      "source": [
        "# get the best paramaters\n",
        "r.best_params(n=3) # return the best 3 sets of params"
      ],
      "execution_count": 60,
      "outputs": [
        {
          "output_type": "execute_result",
          "data": {
            "text/plain": [
              "array([[0, '<function sigmoid at 0x7f708d2d8840>', 'sigmoid', 4,\n",
              "        '<function binary_crossentropy at 0x7f708d326840>', 32, 1, 0.01,\n",
              "        30, 0.0, \"<class 'keras.optimizers.Adam'>\", 'normal', 0],\n",
              "       [2, '<function sigmoid at 0x7f708d2d8840>', 'sigmoid', 40,\n",
              "        '<function binary_crossentropy at 0x7f708d326840>', 8, 1, 0.01,\n",
              "        30, 0.1, \"<class 'keras.optimizers.Nadam'>\", 'uniform', 1],\n",
              "       [6, '<function relu at 0x7f708d2d8730>', 'sigmoid', 10,\n",
              "        '<function binary_crossentropy at 0x7f708d326840>', 16, 1, 0.1,\n",
              "        30, 0.0, \"<class 'keras.optimizers.Adam'>\", 'uniform', 2]],\n",
              "      dtype=object)"
            ]
          },
          "metadata": {
            "tags": []
          },
          "execution_count": 60
        }
      ]
    },
    {
      "metadata": {
        "id": "jsmR6_o0vZXh",
        "colab_type": "code",
        "colab": {
          "base_uri": "https://localhost:8080/",
          "height": 312
        },
        "outputId": "683a6c02-7d5a-4f6b-f806-f9bf35b3b07b"
      },
      "cell_type": "code",
      "source": [
        "# get correlation for hyperparameters against a metric\n",
        "print(\"Hyperparameters and validation loss\")\n",
        "print(r.correlate('val_loss'),\"\\n\")\n",
        "print(\"Hyperparameters and validation accuracy\")\n",
        "print(r.correlate('val_acc'))"
      ],
      "execution_count": 30,
      "outputs": [
        {
          "output_type": "stream",
          "text": [
            "Hyperparameters and validation loss\n",
            "first_neuron    -0.210870\n",
            "hidden_layers   -0.186751\n",
            "batch_size      -0.427704\n",
            "epochs          -0.632774\n",
            "dropout          0.364396\n",
            "lr               0.070279\n",
            "Name: val_loss, dtype: float64 \n",
            "\n",
            "Hyperparameters and validation accuracy\n",
            "first_neuron     0.087708\n",
            "hidden_layers    0.331261\n",
            "batch_size       0.142138\n",
            "epochs           0.390944\n",
            "dropout         -0.331261\n",
            "lr               0.422054\n",
            "Name: val_acc, dtype: float64\n"
          ],
          "name": "stdout"
        }
      ]
    },
    {
      "metadata": {
        "id": "4GaRG2g5vhxl",
        "colab_type": "code",
        "colab": {
          "base_uri": "https://localhost:8080/",
          "height": 481
        },
        "outputId": "a35d2565-4957-47cf-ea49-6c33fb5744fb"
      },
      "cell_type": "code",
      "source": [
        "# a regression plot for two dimensions \n",
        "r.plot_regs(\"val_acc\", \"epochs\")"
      ],
      "execution_count": 33,
      "outputs": [
        {
          "output_type": "display_data",
          "data": {
            "image/png": "[encoded data removed]",
            "text/plain": [
              "<Figure size 720x475.2 with 1 Axes>"
            ]
          },
          "metadata": {
            "tags": []
          }
        }
      ]
    },
    {
      "metadata": {
        "id": "BwlX1zsFaEz2",
        "colab_type": "code",
        "colab": {
          "base_uri": "https://localhost:8080/",
          "height": 518
        },
        "outputId": "65b93b90-be08-4412-a436-6afb455d1b22"
      },
      "cell_type": "code",
      "source": [
        "# line plot\n",
        "print(r.plot_line(\"val_acc\"))"
      ],
      "execution_count": 50,
      "outputs": [
        {
          "output_type": "stream",
          "text": [
            "None\n"
          ],
          "name": "stdout"
        },
        {
          "output_type": "display_data",
          "data": {
            "image/png": "[encoded data removed]",
            "text/plain": [
              "<Figure size 864x475.2 with 1 Axes>"
            ]
          },
          "metadata": {
            "tags": []
          }
        }
      ]
    },
    {
      "metadata": {
        "id": "ZRgsw8x5wEnx",
        "colab_type": "code",
        "colab": {
          "base_uri": "https://localhost:8080/",
          "height": 481
        },
        "outputId": "82c598ee-4c4c-4f90-d993-cda382bdfd13"
      },
      "cell_type": "code",
      "source": [
        "# up to two dimensional kernel density estimator\n",
        "r.plot_kde(\"epochs\",\"val_acc\")"
      ],
      "execution_count": 43,
      "outputs": [
        {
          "output_type": "display_data",
          "data": {
            "image/png": "[encoded data removed]",
            "text/plain": [
              "<Figure size 720x475.2 with 1 Axes>"
            ]
          },
          "metadata": {
            "tags": []
          }
        }
      ]
    },
    {
      "metadata": {
        "id": "rMRhX83oxIv4",
        "colab_type": "code",
        "colab": {
          "base_uri": "https://localhost:8080/",
          "height": 481
        },
        "outputId": "3d930594-894b-47d8-862b-50b577e60d1a"
      },
      "cell_type": "code",
      "source": [
        "# a simple histogram\n",
        "r.plot_hist(bins=50)"
      ],
      "execution_count": 44,
      "outputs": [
        {
          "output_type": "display_data",
          "data": {
            "image/png": "[encoded data removed]",
            "text/plain": [
              "<Figure size 720x475.2 with 1 Axes>"
            ]
          },
          "metadata": {
            "tags": []
          }
        }
      ]
    },
    {
      "metadata": {
        "id": "QsM9EKRxxNf1",
        "colab_type": "code",
        "colab": {
          "base_uri": "https://localhost:8080/",
          "height": 313
        },
        "outputId": "4eb4cc2e-667e-400e-85e2-d1f2e12eba34"
      },
      "cell_type": "code",
      "source": [
        "# a four dimensional bar grid\n",
        "r.plot_bars('batch_size', 'val_acc', 'first_neuron', 'lr')\n"
      ],
      "execution_count": 45,
      "outputs": [
        {
          "output_type": "display_data",
          "data": {
            "image/png": "[encoded data removed]",
            "text/plain": [
              "<Figure size 1218.25x288 with 3 Axes>"
            ]
          },
          "metadata": {
            "tags": []
          }
        }
      ]
    },
    {
      "metadata": {
        "id": "nJzqujxIdWgy",
        "colab_type": "code",
        "colab": {
          "base_uri": "https://localhost:8080/",
          "height": 69
        },
        "outputId": "dc553f98-9803-4c4a-d8c2-cbce0bd3d2b1"
      },
      "cell_type": "code",
      "source": [
        "e = ta.Evaluate(h)\n",
        "\n",
        "e.evaluate(x=x_test, y=y_test,\n",
        "           folds=10,\n",
        "           shuffle=True,\n",
        "           metric='val_acc',\n",
        "           mode='binary',\n",
        "           print_out=True)"
      ],
      "execution_count": 66,
      "outputs": [
        {
          "output_type": "stream",
          "text": [
            "mean : 0.00 \n",
            " std : 0.00\n"
          ],
          "name": "stdout"
        },
        {
          "output_type": "execute_result",
          "data": {
            "text/plain": [
              "[0.0, 0.0, 0.0, 0.0, 0.0, 0.0, 0.0, 0.0, 0.0, 0.0]"
            ]
          },
          "metadata": {
            "tags": []
          },
          "execution_count": 66
        }
      ]
    },
    {
      "metadata": {
        "id": "J90p7EWnyRuf",
        "colab_type": "code",
        "colab": {}
      },
      "cell_type": "code",
      "source": [
        "from talos import Predict\n",
        "\n",
        "p = Predict(h)"
      ],
      "execution_count": 0,
      "outputs": []
    },
    {
      "metadata": {
        "id": "9YNRNJRly0Tu",
        "colab_type": "code",
        "colab": {
          "base_uri": "https://localhost:8080/",
          "height": 1369
        },
        "outputId": "5e1f45bb-08ee-43b0-e2b8-ff8a604fa68d"
      },
      "cell_type": "code",
      "source": [
        "# returns predictions for input x\n",
        "p.predict_classes(x_test, metric='fmeasure_acc')"
      ],
      "execution_count": 73,
      "outputs": [
        {
          "output_type": "execute_result",
          "data": {
            "text/plain": [
              "array([[0],\n",
              "       [0],\n",
              "       [0],\n",
              "       [0],\n",
              "       [0],\n",
              "       [0],\n",
              "       [0],\n",
              "       [0],\n",
              "       [0],\n",
              "       [0],\n",
              "       [0],\n",
              "       [0],\n",
              "       [0],\n",
              "       [0],\n",
              "       [0],\n",
              "       [0],\n",
              "       [0],\n",
              "       [0],\n",
              "       [0],\n",
              "       [0],\n",
              "       [0],\n",
              "       [0],\n",
              "       [0],\n",
              "       [0],\n",
              "       [0],\n",
              "       [0],\n",
              "       [0],\n",
              "       [0],\n",
              "       [0],\n",
              "       [0],\n",
              "       [0],\n",
              "       [0],\n",
              "       [0],\n",
              "       [0],\n",
              "       [0],\n",
              "       [0],\n",
              "       [0],\n",
              "       [0],\n",
              "       [0],\n",
              "       [0],\n",
              "       [0],\n",
              "       [0],\n",
              "       [0],\n",
              "       [0],\n",
              "       [0],\n",
              "       [0],\n",
              "       [0],\n",
              "       [0],\n",
              "       [0],\n",
              "       [0],\n",
              "       [0],\n",
              "       [0],\n",
              "       [0],\n",
              "       [0],\n",
              "       [0],\n",
              "       [0],\n",
              "       [0],\n",
              "       [0],\n",
              "       [0],\n",
              "       [0],\n",
              "       [0],\n",
              "       [0],\n",
              "       [0],\n",
              "       [0],\n",
              "       [0],\n",
              "       [0],\n",
              "       [0],\n",
              "       [0],\n",
              "       [0],\n",
              "       [0],\n",
              "       [0],\n",
              "       [0],\n",
              "       [0],\n",
              "       [0],\n",
              "       [0],\n",
              "       [0],\n",
              "       [0],\n",
              "       [0]], dtype=int32)"
            ]
          },
          "metadata": {
            "tags": []
          },
          "execution_count": 73
        }
      ]
    },
    {
      "metadata": {
        "id": "SXdtsIOHBZWj",
        "colab_type": "text"
      },
      "cell_type": "markdown",
      "source": [
        "# Resources\n",
        "- Talos example:  https://nbviewer.jupyter.org/github/autonomio/talos/blob/master/examples/Hyperparameter%20Optimization%20on%20Keras%20with%20Breast%20Cancer%20Data.ipynb"
      ]
    }
  ]
}