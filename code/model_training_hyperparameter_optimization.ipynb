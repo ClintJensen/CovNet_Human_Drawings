{
  "nbformat": 4,
  "nbformat_minor": 0,
  "metadata": {
    "colab": {
      "name": "model_training_hyperparameter_optimization.ipynb",
      "version": "0.3.2",
      "provenance": [],
      "include_colab_link": true
    },
    "kernelspec": {
      "name": "python3",
      "display_name": "Python 3"
    },
    "accelerator": "GPU"
  },
  "cells": [
    {
      "cell_type": "markdown",
      "metadata": {
        "id": "view-in-github",
        "colab_type": "text"
      },
      "source": [
        "<a href=\"https://colab.research.google.com/github/pabloinsente/CovNet_Human_Drawings/blob/master/code/model_training_hyperparameter_optimization.ipynb\" target=\"_parent\"><img src=\"https://colab.research.google.com/assets/colab-badge.svg\" alt=\"Open In Colab\"/></a>"
      ]
    },
    {
      "metadata": {
        "id": "R6LRZjUh8mcM",
        "colab_type": "text"
      },
      "cell_type": "markdown",
      "source": [
        "# Model training and hyperparameter optimization for Age-prediction\n",
        "Here we use Keras and the Talos library to set up the hyperparameter optimization. \n",
        "\n",
        "***Warning***: since we are using colab, we need to (1) install talos (2) re-start the running environment AFTER installing Talos (to update some packages that Talos needs to un) before running the optimization.  "
      ]
    },
    {
      "metadata": {
        "id": "3oEwJCxQRSIn",
        "colab_type": "code",
        "colab": {}
      },
      "cell_type": "code",
      "source": [
        "!pip install talos"
      ],
      "execution_count": 0,
      "outputs": []
    },
    {
      "metadata": {
        "id": "LVwIGgW9N9v7",
        "colab_type": "code",
        "colab": {
          "base_uri": "https://localhost:8080/",
          "height": 89
        },
        "outputId": "b3c89fe4-2f95-42ad-d9e5-525f913b5f30"
      },
      "cell_type": "code",
      "source": [
        "# Let's import Talos, Keras, and dependencies\n",
        "\n",
        "import talos as ta\n",
        "from talos.metrics.keras_metrics import precision_acc, recall_acc, matthews_correlation_acc, fmeasure_acc\n",
        "from talos.model.normalizers import lr_normalizer\n",
        "from talos.utils.best_model import best_model, activate_model\n",
        "from talos import Predict\n",
        "\n",
        "from keras.activations import relu, elu, sigmoid\n",
        "from keras.optimizers import Adam, Nadam, RMSprop\n",
        "from keras.losses import binary_crossentropy, logcosh\n",
        "from keras.models import Sequential\n",
        "from keras.layers import Dense, Dropout\n",
        "\n",
        "from sklearn.model_selection import train_test_split\n",
        "\n",
        "from imblearn.over_sampling import RandomOverSampler \n",
        "\n",
        "from numpy import genfromtxt\n",
        "from collections import Counter\n",
        "\n",
        "\n",
        "import seaborn as sns\n",
        "import matplotlib.pyplot as plt\n",
        "%matplotlib inline"
      ],
      "execution_count": 1,
      "outputs": [
        {
          "output_type": "stream",
          "text": [
            "/usr/local/lib/python3.6/dist-packages/statsmodels/compat/pandas.py:56: FutureWarning: The pandas.core.datetools module is deprecated and will be removed in a future version. Please use the pandas.tseries module instead.\n",
            "  from pandas.core import datetools\n",
            "Using TensorFlow backend.\n"
          ],
          "name": "stderr"
        }
      ]
    },
    {
      "metadata": {
        "id": "jN0uSEPf8QBS",
        "colab_type": "text"
      },
      "cell_type": "markdown",
      "source": [
        "## Data preparation\n",
        "First, we need to split the data into training and testing as usual. The training dataset will be feed into the model training and optimization process The testing data will be used to evalute the model. "
      ]
    },
    {
      "metadata": {
        "id": "oGx8tVOIQ_6U",
        "colab_type": "code",
        "colab": {}
      },
      "cell_type": "code",
      "source": [
        "# Clone the data into Colab\n",
        "! git clone https://github.com/pabloinsente/CovNet_Human_Drawings"
      ],
      "execution_count": 0,
      "outputs": []
    },
    {
      "metadata": {
        "id": "MU75iiW7VYIj",
        "colab_type": "code",
        "outputId": "f1d9f967-6635-4fda-82ee-375e8b173797",
        "colab": {
          "base_uri": "https://localhost:8080/",
          "height": 52
        }
      },
      "cell_type": "code",
      "source": [
        "# Get data\n",
        "x_path= 'CovNet_Human_Drawings/data/merged_dataframes_prediction/x_train_drawings_features_max_pool_5_pca.csv'\n",
        "y_path = 'CovNet_Human_Drawings/data/merged_dataframes_prediction/y_train_age_adult_labels.csv'\n",
        "\n",
        "x = genfromtxt(x_path, delimiter=',')\n",
        "y = genfromtxt(y_path, delimiter=',')\n",
        "\n",
        "print(x.shape) # (258, 200)\n",
        "print(y.shape) # (258,)"
      ],
      "execution_count": 4,
      "outputs": [
        {
          "output_type": "stream",
          "text": [
            "(258, 200)\n",
            "(258,)\n"
          ],
          "name": "stdout"
        }
      ]
    },
    {
      "metadata": {
        "id": "pXlWYvau94lp",
        "colab_type": "code",
        "colab": {}
      },
      "cell_type": "code",
      "source": [
        "# Let's look at the distribution of 0s and 1s\n",
        "\n",
        "colors = ['#ef8a62' if v == 0 else '#67a9cf' for v in y]\n",
        "kwarg_params = {'linewidth': 1, 'edgecolor': 'black'}\n",
        "fig = plt.Figure(figsize=(12,6))\n",
        "plt.scatter(x[:, 0], x[:, 1], c=colors, **kwarg_params)\n",
        "sns.despine()"
      ],
      "execution_count": 0,
      "outputs": []
    },
    {
      "metadata": {
        "id": "IjFd7wkTjvk2",
        "colab_type": "code",
        "outputId": "c134d2d0-d204-4ac5-9ea7-a36da246cf1f",
        "colab": {
          "base_uri": "https://localhost:8080/",
          "height": 87
        }
      },
      "cell_type": "code",
      "source": [
        "# Split data into train and test sets\n",
        "# Since we have an small sample, we will do a 70/30 split\n",
        "\n",
        "x_train, x_test, y_train, y_test = train_test_split(x, y, test_size = 0.3, random_state=44)\n",
        "print(x_train.shape) \n",
        "print(y_train.shape) \n",
        "print(x_test.shape) \n",
        "print(y_test.shape)"
      ],
      "execution_count": 5,
      "outputs": [
        {
          "output_type": "stream",
          "text": [
            "(180, 200)\n",
            "(180,)\n",
            "(78, 200)\n",
            "(78,)\n"
          ],
          "name": "stdout"
        }
      ]
    },
    {
      "metadata": {
        "id": "mTqZ23N5_fdM",
        "colab_type": "text"
      },
      "cell_type": "markdown",
      "source": [
        "###Resampling imbalanced data\n",
        "Since our classes are imbalanced, we will use oversampling of the \"adult\" class **on the training set**  to help training on that class. *imblearn* implement oversampling for us\n",
        "\n",
        "**See documentantion at** https://imbalanced-learn.readthedocs.io/en/stable/generated/imblearn.over_sampling.RandomOverSampler.html"
      ]
    },
    {
      "metadata": {
        "id": "4eQpvM3_6wTS",
        "colab_type": "code",
        "colab": {}
      },
      "cell_type": "code",
      "source": [
        "ros = RandomOverSampler(random_state=42)\n",
        "x_train_res, y_train_res = ros.fit_resample(x_train, y_train)"
      ],
      "execution_count": 0,
      "outputs": []
    },
    {
      "metadata": {
        "id": "CAgEjbau7-cF",
        "colab_type": "code",
        "outputId": "9cec9a6f-23ad-4e62-c08e-823d7ab2e033",
        "colab": {
          "base_uri": "https://localhost:8080/",
          "height": 69
        }
      },
      "cell_type": "code",
      "source": [
        "print(x_train_res.shape) # (258, 200)\n",
        "print(y_train_res.shape) # (258,)\n",
        "print('Resampled dataset shape %s' % Counter(y_train_res))\n",
        "\n",
        "# Now we have 50/50 balanced classes"
      ],
      "execution_count": 7,
      "outputs": [
        {
          "output_type": "stream",
          "text": [
            "(286, 200)\n",
            "(286,)\n",
            "Resampled dataset shape Counter({1.0: 143, 0.0: 143})\n"
          ],
          "name": "stdout"
        }
      ]
    },
    {
      "metadata": {
        "id": "pAg1wGr_8AG1",
        "colab_type": "text"
      },
      "cell_type": "markdown",
      "source": [
        "## Model Definition\n",
        "Here we define the model using Keras. The main point is to pass all the arguments as keys of a Python dictionary instead of variables"
      ]
    },
    {
      "metadata": {
        "id": "LmQPGeHVMvFv",
        "colab_type": "code",
        "colab": {}
      },
      "cell_type": "code",
      "source": [
        "# define model\n",
        "def input_model(x_train, y_train, x_val, y_val, params):\n",
        "  model = Sequential()\n",
        "  # add hidden layer\n",
        "  model.add(Dense(params['first_neuron'], \n",
        "                  input_dim=x_train.shape[1], \n",
        "                  activation=params['activation'],\n",
        "                  kernel_initializer = params['kernel_initializer']))\n",
        "  # add dropout layer\n",
        "  model.add(Dropout(params['dropout']))\n",
        "  # add output layer\n",
        "  model.add(Dense(1,activation=params['last_activation'],\n",
        "                  kernel_initializer = params['kernel_initializer']))\n",
        "  # compile model\n",
        "  model.compile(loss=params['losses'],\n",
        "                optimizer=params['optimizer'](lr=lr_normalizer(params['lr'], params['optimizer'])),\n",
        "                metrics=['acc', fmeasure_acc, recall_acc, precision_acc, matthews_correlation_acc])\n",
        "  # train model\n",
        "  out = model.fit(x_train, y_train,\n",
        "                  validation_data=[x_val, y_val],\n",
        "                  batch_size=params['batch_size'],\n",
        "                  epochs=params['epochs'],\n",
        "                  verbose = 0)\n",
        "  return out, model"
      ],
      "execution_count": 0,
      "outputs": []
    },
    {
      "metadata": {
        "id": "6SqVZ7dM7uG-",
        "colab_type": "text"
      },
      "cell_type": "markdown",
      "source": [
        "## Setting the Parameter Space Boundaries \n",
        "here we create a dictionary, which will then be passed on to Talos together with the model above. Here we have three different ways to input values:\n",
        "\n",
        "- as stepped ranges (min, max, steps)\n",
        "- as multiple values [in a list]\n",
        "- as a single value [in a list]"
      ]
    },
    {
      "metadata": {
        "id": "dI3vgOBzlAPN",
        "colab_type": "code",
        "colab": {}
      },
      "cell_type": "code",
      "source": [
        "# set hyperparameters to optimize\n",
        "p = {'first_neuron': [4, 8, 16, 32, 64],\n",
        "     'activation': [relu, sigmoid],\n",
        "     'optimizer': [Nadam, Adam],\n",
        "     'losses':[binary_crossentropy],\n",
        "     'hidden_layers':[0, 1, 2],\n",
        "     'batch_size': [10, 20, 40],\n",
        "     'epochs':[10, 50, 100, 200],\n",
        "     'dropout': [0, 0.1, 0.2],\n",
        "     'kernel_initializer': ['uniform','normal'],\n",
        "     'lr':[0.001, 0.01, 0.1, 0.2],\n",
        "     'last_activation': ['sigmoid']}"
      ],
      "execution_count": 0,
      "outputs": []
    },
    {
      "metadata": {
        "id": "lwNKsUF_7WIA",
        "colab_type": "text"
      },
      "cell_type": "markdown",
      "source": [
        "## Running the hyperparameter optimization with Scan() \n",
        "Now we are ready to run the model based on the parameters and the layer configuration above. The exact same process would apply with any other model, just make sure to pass the model function name in the Scan() command as in the below example.\n",
        "\n"
      ]
    },
    {
      "metadata": {
        "id": "KPtOn24CUsEO",
        "colab_type": "code",
        "colab": {
          "base_uri": "https://localhost:8080/",
          "height": 15028
        },
        "outputId": "add0fc0d-fb2c-47cc-e8a0-6b56e2d00f64"
      },
      "cell_type": "code",
      "source": [
        "# starting optimization\n",
        "h = ta.Scan(x= x_train_res, y=y_train_res,\n",
        "            params=p,\n",
        "            model=input_model,\n",
        "            # I use .29 split because that is ~20% of all data\n",
        "            val_split = 0.29,\n",
        "            dataset_name='Draw_a_person',\n",
        "            experiment_no='experiment_6',\n",
        "            grid_downsample=.05)"
      ],
      "execution_count": 35,
      "outputs": [
        {
          "output_type": "stream",
          "text": [
            "\n",
            "  0%|          | 0/864 [00:00<?, ?it/s]\u001b[A\n",
            "  0%|          | 1/864 [00:06<1:30:04,  6.26s/it]\u001b[A\n",
            "  0%|          | 2/864 [00:08<1:13:03,  5.08s/it]\u001b[A\n",
            "  0%|          | 3/864 [00:15<1:21:06,  5.65s/it]\u001b[A\n",
            "  0%|          | 4/864 [00:16<1:02:27,  4.36s/it]\u001b[A\n",
            "  1%|          | 5/864 [00:27<1:29:03,  6.22s/it]\u001b[A\n",
            "  1%|          | 6/864 [00:33<1:28:48,  6.21s/it]\u001b[A\n",
            "  1%|          | 7/864 [00:45<1:50:54,  7.76s/it]\u001b[A\n",
            "  1%|          | 8/864 [01:06<2:50:54, 11.98s/it]\u001b[A\n",
            "  1%|          | 9/864 [01:10<2:14:44,  9.46s/it]\u001b[A\n",
            "  1%|          | 10/864 [01:18<2:06:37,  8.90s/it]\u001b[A\n",
            "  1%|▏         | 11/864 [01:19<1:33:16,  6.56s/it]\u001b[A\n",
            "  1%|▏         | 12/864 [01:30<1:53:36,  8.00s/it]\u001b[A\n",
            "  2%|▏         | 13/864 [01:37<1:50:18,  7.78s/it]\u001b[A\n",
            "  2%|▏         | 14/864 [01:58<2:43:40, 11.55s/it]\u001b[A\n",
            "  2%|▏         | 15/864 [02:09<2:42:59, 11.52s/it]\u001b[A\n",
            "  2%|▏         | 16/864 [02:20<2:41:29, 11.43s/it]\u001b[A\n",
            "  2%|▏         | 17/864 [02:22<1:59:57,  8.50s/it]\u001b[A\n",
            "  2%|▏         | 18/864 [02:26<1:39:44,  7.07s/it]\u001b[A\n",
            "  2%|▏         | 19/864 [02:27<1:15:07,  5.33s/it]\u001b[A\n",
            "  2%|▏         | 20/864 [02:37<1:36:46,  6.88s/it]\u001b[A\n",
            "  2%|▏         | 21/864 [02:49<1:54:55,  8.18s/it]\u001b[A\n",
            "  3%|▎         | 22/864 [02:51<1:30:14,  6.43s/it]\u001b[A\n",
            "  3%|▎         | 23/864 [03:02<1:50:24,  7.88s/it]\u001b[A\n",
            "  3%|▎         | 24/864 [03:04<1:23:07,  5.94s/it]\u001b[A\n",
            "  3%|▎         | 25/864 [03:10<1:24:42,  6.06s/it]\u001b[A\n",
            "  3%|▎         | 26/864 [03:16<1:25:28,  6.12s/it]\u001b[A\n",
            "  3%|▎         | 27/864 [03:23<1:28:05,  6.31s/it]\u001b[A\n",
            "  3%|▎         | 28/864 [03:26<1:14:08,  5.32s/it]\u001b[A\n",
            "  3%|▎         | 29/864 [03:37<1:37:49,  7.03s/it]\u001b[A\n",
            "  3%|▎         | 30/864 [03:39<1:14:59,  5.40s/it]\u001b[A\n",
            "  4%|▎         | 31/864 [03:40<59:30,  4.29s/it]  \u001b[A\n",
            "  4%|▎         | 32/864 [04:00<2:03:28,  8.90s/it]\u001b[A\n",
            "  4%|▍         | 33/864 [04:03<1:40:17,  7.24s/it]\u001b[A\n",
            "  4%|▍         | 34/864 [04:15<1:56:45,  8.44s/it]\u001b[A\n",
            "  4%|▍         | 35/864 [04:16<1:28:35,  6.41s/it]\u001b[A\n",
            "  4%|▍         | 36/864 [04:18<1:10:07,  5.08s/it]\u001b[A\n",
            "  4%|▍         | 37/864 [04:20<56:50,  4.12s/it]  \u001b[A\n",
            "  4%|▍         | 38/864 [04:22<46:14,  3.36s/it]\u001b[A\n",
            "  5%|▍         | 39/864 [04:23<37:10,  2.70s/it]\u001b[A\n",
            "  5%|▍         | 40/864 [04:25<36:20,  2.65s/it]\u001b[A\n",
            "  5%|▍         | 41/864 [04:38<1:15:07,  5.48s/it]\u001b[A\n",
            "  5%|▍         | 42/864 [04:39<59:18,  4.33s/it]  \u001b[A\n",
            "  5%|▍         | 43/864 [04:40<46:24,  3.39s/it]\u001b[A\n",
            "  5%|▌         | 44/864 [04:47<1:00:03,  4.39s/it]\u001b[A\n",
            "  5%|▌         | 45/864 [04:49<50:54,  3.73s/it]  \u001b[A\n",
            "  5%|▌         | 46/864 [05:00<1:19:18,  5.82s/it]\u001b[A\n",
            "  5%|▌         | 47/864 [05:04<1:10:23,  5.17s/it]\u001b[A\n",
            "  6%|▌         | 48/864 [05:07<1:03:25,  4.66s/it]\u001b[A\n",
            "  6%|▌         | 49/864 [05:11<1:01:13,  4.51s/it]\u001b[A\n",
            "  6%|▌         | 50/864 [05:23<1:29:03,  6.56s/it]\u001b[A\n",
            "  6%|▌         | 51/864 [05:33<1:45:41,  7.80s/it]\u001b[A\n",
            "  6%|▌         | 52/864 [05:35<1:21:25,  6.02s/it]\u001b[A\n",
            "  6%|▌         | 53/864 [05:39<1:14:11,  5.49s/it]\u001b[A\n",
            "  6%|▋         | 54/864 [05:41<59:12,  4.39s/it]  \u001b[A\n",
            "  6%|▋         | 55/864 [05:48<1:07:37,  5.02s/it]\u001b[A\n",
            "  6%|▋         | 56/864 [05:50<56:50,  4.22s/it]  \u001b[A\n",
            "  7%|▋         | 57/864 [06:01<1:25:27,  6.35s/it]\u001b[A\n",
            "  7%|▋         | 58/864 [06:09<1:28:54,  6.62s/it]\u001b[A\n",
            "  7%|▋         | 59/864 [06:10<1:06:44,  4.97s/it]\u001b[A\n",
            "  7%|▋         | 60/864 [06:12<54:14,  4.05s/it]  \u001b[A\n",
            "  7%|▋         | 61/864 [06:15<52:56,  3.96s/it]\u001b[A\n",
            "  7%|▋         | 62/864 [06:17<44:24,  3.32s/it]\u001b[A\n",
            "  7%|▋         | 63/864 [06:22<48:08,  3.61s/it]\u001b[A\n",
            "  7%|▋         | 64/864 [06:28<59:51,  4.49s/it]\u001b[A\n",
            "  8%|▊         | 65/864 [06:30<49:25,  3.71s/it]\u001b[A\n",
            "  8%|▊         | 66/864 [06:37<1:03:09,  4.75s/it]\u001b[A\n",
            "  8%|▊         | 67/864 [06:44<1:12:33,  5.46s/it]\u001b[A\n",
            "  8%|▊         | 68/864 [06:48<1:05:07,  4.91s/it]\u001b[A\n",
            "  8%|▊         | 69/864 [06:49<49:57,  3.77s/it]  \u001b[A\n",
            "  8%|▊         | 70/864 [06:51<41:32,  3.14s/it]\u001b[A\n",
            "  8%|▊         | 71/864 [07:02<1:14:00,  5.60s/it]\u001b[A\n",
            "  8%|▊         | 72/864 [07:04<58:40,  4.44s/it]  \u001b[A\n",
            "  8%|▊         | 73/864 [07:06<50:08,  3.80s/it]\u001b[A\n",
            "  9%|▊         | 74/864 [07:28<2:00:03,  9.12s/it]\u001b[A\n",
            "  9%|▊         | 75/864 [07:29<1:31:26,  6.95s/it]\u001b[A\n",
            "  9%|▉         | 76/864 [07:41<1:48:41,  8.28s/it]\u001b[A\n",
            "  9%|▉         | 77/864 [07:45<1:30:46,  6.92s/it]\u001b[A\n",
            "  9%|▉         | 78/864 [07:51<1:28:50,  6.78s/it]\u001b[A\n",
            "  9%|▉         | 79/864 [07:52<1:07:29,  5.16s/it]\u001b[A\n",
            "  9%|▉         | 80/864 [08:00<1:15:22,  5.77s/it]\u001b[A\n",
            "  9%|▉         | 81/864 [08:11<1:35:16,  7.30s/it]\u001b[A\n",
            "  9%|▉         | 82/864 [08:22<1:49:52,  8.43s/it]\u001b[A\n",
            " 10%|▉         | 83/864 [08:43<2:41:17, 12.39s/it]\u001b[A\n",
            " 10%|▉         | 84/864 [09:04<3:11:57, 14.77s/it]\u001b[A\n",
            " 10%|▉         | 85/864 [09:07<2:27:32, 11.36s/it]\u001b[A\n",
            " 10%|▉         | 86/864 [09:08<1:47:27,  8.29s/it]\u001b[A\n",
            " 10%|█         | 87/864 [09:11<1:28:16,  6.82s/it]\u001b[A\n",
            " 10%|█         | 88/864 [09:13<1:08:37,  5.31s/it]\u001b[A\n",
            " 10%|█         | 89/864 [09:15<53:23,  4.13s/it]  \u001b[A\n",
            " 10%|█         | 90/864 [09:36<2:00:26,  9.34s/it]\u001b[A\n",
            " 11%|█         | 91/864 [09:38<1:30:55,  7.06s/it]\u001b[A\n",
            " 11%|█         | 92/864 [09:50<1:49:36,  8.52s/it]\u001b[A\n",
            " 11%|█         | 93/864 [09:52<1:23:42,  6.51s/it]\u001b[A\n",
            " 11%|█         | 94/864 [10:03<1:43:55,  8.10s/it]\u001b[A\n",
            " 11%|█         | 95/864 [10:08<1:28:30,  6.91s/it]\u001b[A\n",
            " 11%|█         | 96/864 [10:11<1:17:00,  6.02s/it]\u001b[A\n",
            " 11%|█         | 97/864 [10:13<1:00:18,  4.72s/it]\u001b[A\n",
            " 11%|█▏        | 98/864 [10:24<1:22:07,  6.43s/it]\u001b[A\n",
            " 11%|█▏        | 99/864 [10:27<1:10:50,  5.56s/it]\u001b[A\n",
            " 12%|█▏        | 100/864 [10:33<1:12:44,  5.71s/it]\u001b[A\n",
            " 12%|█▏        | 101/864 [10:37<1:04:51,  5.10s/it]\u001b[A\n",
            " 12%|█▏        | 102/864 [10:39<54:11,  4.27s/it]  \u001b[A\n",
            " 12%|█▏        | 103/864 [10:43<52:06,  4.11s/it]\u001b[A\n",
            " 12%|█▏        | 104/864 [10:49<1:00:36,  4.79s/it]\u001b[A\n",
            " 12%|█▏        | 105/864 [10:51<48:49,  3.86s/it]  \u001b[A\n",
            " 12%|█▏        | 106/864 [10:53<42:57,  3.40s/it]\u001b[A\n",
            " 12%|█▏        | 107/864 [10:55<35:14,  2.79s/it]\u001b[A\n",
            " 12%|█▎        | 108/864 [10:56<29:46,  2.36s/it]\u001b[A\n",
            " 13%|█▎        | 109/864 [11:00<37:18,  2.96s/it]\u001b[A\n",
            " 13%|█▎        | 110/864 [11:12<1:10:40,  5.62s/it]\u001b[A\n",
            " 13%|█▎        | 111/864 [11:14<57:52,  4.61s/it]  \u001b[A\n",
            " 13%|█▎        | 112/864 [11:21<1:05:38,  5.24s/it]\u001b[A\n",
            " 13%|█▎        | 113/864 [11:22<50:13,  4.01s/it]  \u001b[A\n",
            " 13%|█▎        | 114/864 [11:24<40:06,  3.21s/it]\u001b[A\n",
            " 13%|█▎        | 115/864 [11:30<51:49,  4.15s/it]\u001b[A\n",
            " 13%|█▎        | 116/864 [11:31<41:01,  3.29s/it]\u001b[A\n",
            " 14%|█▎        | 117/864 [11:33<34:52,  2.80s/it]\u001b[A\n",
            " 14%|█▎        | 118/864 [11:35<32:43,  2.63s/it]\u001b[A\n",
            " 14%|█▍        | 119/864 [11:47<1:08:14,  5.50s/it]\u001b[A\n",
            " 14%|█▍        | 120/864 [11:58<1:29:06,  7.19s/it]\u001b[A\n",
            " 14%|█▍        | 121/864 [12:09<1:39:30,  8.04s/it]\u001b[A\n",
            " 14%|█▍        | 122/864 [12:15<1:34:00,  7.60s/it]\u001b[A\n",
            " 14%|█▍        | 123/864 [12:21<1:27:22,  7.07s/it]\u001b[A\n",
            " 14%|█▍        | 124/864 [12:27<1:23:23,  6.76s/it]\u001b[A\n",
            " 14%|█▍        | 125/864 [12:37<1:36:34,  7.84s/it]\u001b[A\n",
            " 15%|█▍        | 126/864 [12:39<1:12:46,  5.92s/it]\u001b[A\n",
            " 15%|█▍        | 127/864 [12:41<57:38,  4.69s/it]  \u001b[A\n",
            " 15%|█▍        | 128/864 [12:47<1:03:41,  5.19s/it]\u001b[A\n",
            " 15%|█▍        | 129/864 [12:49<52:48,  4.31s/it]  \u001b[A\n",
            " 15%|█▌        | 130/864 [12:55<59:31,  4.87s/it]\u001b[A\n",
            " 15%|█▌        | 131/864 [12:56<45:26,  3.72s/it]\u001b[A\n",
            " 15%|█▌        | 132/864 [13:18<1:50:22,  9.05s/it]\u001b[A\n",
            " 15%|█▌        | 133/864 [13:21<1:29:31,  7.35s/it]\u001b[A\n",
            " 16%|█▌        | 134/864 [13:34<1:47:31,  8.84s/it]\u001b[A\n",
            " 16%|█▌        | 135/864 [13:41<1:41:00,  8.31s/it]\u001b[A\n",
            " 16%|█▌        | 136/864 [13:53<1:54:46,  9.46s/it]\u001b[A\n",
            " 16%|█▌        | 137/864 [13:55<1:26:36,  7.15s/it]\u001b[A\n",
            " 16%|█▌        | 138/864 [14:06<1:40:45,  8.33s/it]\u001b[A\n",
            " 16%|█▌        | 139/864 [14:07<1:14:42,  6.18s/it]\u001b[A\n",
            " 16%|█▌        | 140/864 [14:09<1:00:46,  5.04s/it]\u001b[A\n",
            " 16%|█▋        | 141/864 [14:21<1:23:40,  6.94s/it]\u001b[A\n",
            " 16%|█▋        | 142/864 [14:23<1:06:45,  5.55s/it]\u001b[A\n",
            " 17%|█▋        | 143/864 [14:24<51:29,  4.29s/it]  \u001b[A\n",
            " 17%|█▋        | 144/864 [14:32<1:02:23,  5.20s/it]\u001b[A\n",
            " 17%|█▋        | 145/864 [14:42<1:20:57,  6.76s/it]\u001b[A\n",
            " 17%|█▋        | 146/864 [14:53<1:36:35,  8.07s/it]\u001b[A\n",
            " 17%|█▋        | 147/864 [14:59<1:29:16,  7.47s/it]\u001b[A\n",
            " 17%|█▋        | 148/864 [15:05<1:23:32,  7.00s/it]\u001b[A\n",
            " 17%|█▋        | 149/864 [15:10<1:17:44,  6.52s/it]\u001b[A\n",
            " 17%|█▋        | 150/864 [15:12<59:22,  4.99s/it]  \u001b[A\n",
            " 17%|█▋        | 151/864 [15:13<47:02,  3.96s/it]\u001b[A\n",
            " 18%|█▊        | 152/864 [15:25<1:12:28,  6.11s/it]\u001b[A\n",
            " 18%|█▊        | 153/864 [15:28<1:02:51,  5.31s/it]\u001b[A\n",
            " 18%|█▊        | 154/864 [15:34<1:04:26,  5.45s/it]\u001b[A\n",
            " 18%|█▊        | 155/864 [15:41<1:09:56,  5.92s/it]\u001b[A\n",
            " 18%|█▊        | 156/864 [15:42<53:59,  4.58s/it]  \u001b[A\n",
            " 18%|█▊        | 157/864 [15:46<50:53,  4.32s/it]\u001b[A\n",
            " 18%|█▊        | 158/864 [15:50<48:27,  4.12s/it]\u001b[A\n",
            " 18%|█▊        | 159/864 [16:09<1:44:03,  8.86s/it]\u001b[A\n",
            " 19%|█▊        | 160/864 [16:11<1:19:37,  6.79s/it]\u001b[A\n",
            " 19%|█▊        | 161/864 [16:13<59:42,  5.10s/it]  \u001b[A\n",
            " 19%|█▉        | 162/864 [16:17<56:04,  4.79s/it]\u001b[A\n",
            " 19%|█▉        | 163/864 [16:18<44:10,  3.78s/it]\u001b[A\n",
            " 19%|█▉        | 164/864 [16:28<1:06:00,  5.66s/it]\u001b[A\n",
            " 19%|█▉        | 165/864 [16:30<52:17,  4.49s/it]  \u001b[A\n",
            " 19%|█▉        | 166/864 [16:31<40:09,  3.45s/it]\u001b[A\n",
            " 19%|█▉        | 167/864 [16:51<1:37:14,  8.37s/it]\u001b[A\n",
            " 19%|█▉        | 168/864 [16:54<1:20:27,  6.94s/it]\u001b[A\n",
            " 20%|█▉        | 169/864 [16:59<1:10:38,  6.10s/it]\u001b[A\n",
            " 20%|█▉        | 170/864 [17:00<55:34,  4.81s/it]  \u001b[A\n",
            " 20%|█▉        | 171/864 [17:06<59:27,  5.15s/it]\u001b[A\n",
            " 20%|█▉        | 172/864 [17:08<46:56,  4.07s/it]\u001b[A\n",
            " 20%|██        | 173/864 [17:09<38:37,  3.35s/it]\u001b[A\n",
            " 20%|██        | 174/864 [17:11<30:55,  2.69s/it]\u001b[A\n",
            " 20%|██        | 175/864 [17:15<35:07,  3.06s/it]\u001b[A\n",
            " 20%|██        | 176/864 [17:16<30:05,  2.62s/it]\u001b[A\n",
            " 20%|██        | 177/864 [17:27<57:39,  5.04s/it]\u001b[A\n",
            " 21%|██        | 178/864 [17:49<1:54:42, 10.03s/it]\u001b[A\n",
            " 21%|██        | 179/864 [17:55<1:43:24,  9.06s/it]\u001b[A\n",
            " 21%|██        | 180/864 [17:57<1:17:14,  6.78s/it]\u001b[A\n",
            " 21%|██        | 181/864 [17:59<1:00:28,  5.31s/it]\u001b[A\n",
            " 21%|██        | 182/864 [18:00<46:56,  4.13s/it]  \u001b[A\n",
            " 21%|██        | 183/864 [18:12<1:12:36,  6.40s/it]\u001b[A\n",
            " 21%|██▏       | 184/864 [18:22<1:25:56,  7.58s/it]\u001b[A\n",
            " 21%|██▏       | 185/864 [18:24<1:06:16,  5.86s/it]\u001b[A\n",
            " 22%|██▏       | 186/864 [18:27<58:12,  5.15s/it]  \u001b[A\n",
            " 22%|██▏       | 187/864 [18:34<1:03:36,  5.64s/it]\u001b[A\n",
            " 22%|██▏       | 188/864 [18:45<1:22:05,  7.29s/it]\u001b[A\n",
            " 22%|██▏       | 189/864 [18:46<1:01:05,  5.43s/it]\u001b[A\n",
            " 22%|██▏       | 190/864 [18:48<48:50,  4.35s/it]  \u001b[A\n",
            " 22%|██▏       | 191/864 [18:52<46:10,  4.12s/it]\u001b[A\n",
            " 22%|██▏       | 192/864 [18:53<37:20,  3.33s/it]\u001b[A\n",
            " 22%|██▏       | 193/864 [18:58<41:18,  3.69s/it]\u001b[A\n",
            " 22%|██▏       | 194/864 [19:04<50:19,  4.51s/it]\u001b[A\n",
            " 23%|██▎       | 195/864 [19:11<57:00,  5.11s/it]\u001b[A\n",
            " 23%|██▎       | 196/864 [19:15<52:56,  4.75s/it]\u001b[A\n",
            " 23%|██▎       | 197/864 [19:17<43:13,  3.89s/it]\u001b[A\n",
            " 23%|██▎       | 198/864 [19:19<38:16,  3.45s/it]\u001b[A\n",
            " 23%|██▎       | 199/864 [19:38<1:31:12,  8.23s/it]\u001b[A\n",
            " 23%|██▎       | 200/864 [19:40<1:10:42,  6.39s/it]\u001b[A\n",
            " 23%|██▎       | 201/864 [19:47<1:11:17,  6.45s/it]\u001b[A\n",
            " 23%|██▎       | 202/864 [20:08<2:00:14, 10.90s/it]\u001b[A\n",
            " 23%|██▎       | 203/864 [20:12<1:37:03,  8.81s/it]\u001b[A\n",
            " 24%|██▎       | 204/864 [20:14<1:14:01,  6.73s/it]\u001b[A\n",
            " 24%|██▎       | 205/864 [20:25<1:26:23,  7.87s/it]\u001b[A\n",
            " 24%|██▍       | 206/864 [20:27<1:08:20,  6.23s/it]\u001b[A\n",
            " 24%|██▍       | 207/864 [20:38<1:23:21,  7.61s/it]\u001b[A\n",
            " 24%|██▍       | 208/864 [20:40<1:05:40,  6.01s/it]\u001b[A\n",
            " 24%|██▍       | 209/864 [20:43<53:46,  4.93s/it]  \u001b[A\n",
            " 24%|██▍       | 210/864 [20:44<42:11,  3.87s/it]\u001b[A\n",
            " 24%|██▍       | 211/864 [20:50<50:38,  4.65s/it]\u001b[A\n",
            " 25%|██▍       | 212/864 [20:57<56:06,  5.16s/it]\u001b[A\n",
            " 25%|██▍       | 213/864 [21:03<58:38,  5.40s/it]\u001b[A\n",
            " 25%|██▍       | 214/864 [21:06<52:48,  4.87s/it]\u001b[A\n",
            " 25%|██▍       | 215/864 [21:27<1:44:09,  9.63s/it]\u001b[A\n",
            " 25%|██▌       | 216/864 [21:31<1:25:20,  7.90s/it]\u001b[A\n",
            " 25%|██▌       | 217/864 [21:37<1:19:16,  7.35s/it]\u001b[A\n",
            " 25%|██▌       | 218/864 [21:49<1:32:27,  8.59s/it]\u001b[A\n",
            " 25%|██▌       | 219/864 [21:51<1:11:56,  6.69s/it]\u001b[A\n",
            " 25%|██▌       | 220/864 [21:53<56:02,  5.22s/it]  \u001b[A\n",
            " 26%|██▌       | 221/864 [22:14<1:47:39, 10.05s/it]\u001b[A\n",
            " 26%|██▌       | 222/864 [22:17<1:25:46,  8.02s/it]\u001b[A\n",
            " 26%|██▌       | 223/864 [22:28<1:35:43,  8.96s/it]\u001b[A\n",
            " 26%|██▌       | 224/864 [22:32<1:19:20,  7.44s/it]\u001b[A\n",
            " 26%|██▌       | 225/864 [22:34<1:02:34,  5.88s/it]\u001b[A\n",
            " 26%|██▌       | 226/864 [22:45<1:17:52,  7.32s/it]\u001b[A\n",
            " 26%|██▋       | 227/864 [22:51<1:11:49,  6.76s/it]\u001b[A\n",
            " 26%|██▋       | 228/864 [22:55<1:03:11,  5.96s/it]\u001b[A\n",
            " 27%|██▋       | 229/864 [22:58<55:11,  5.21s/it]  \u001b[A\n",
            " 27%|██▋       | 230/864 [23:02<50:25,  4.77s/it]\u001b[A\n",
            " 27%|██▋       | 231/864 [23:03<38:56,  3.69s/it]\u001b[A\n",
            " 27%|██▋       | 232/864 [23:06<35:48,  3.40s/it]\u001b[A\n",
            " 27%|██▋       | 233/864 [23:12<44:30,  4.23s/it]\u001b[A\n",
            " 27%|██▋       | 234/864 [23:13<35:11,  3.35s/it]\u001b[A\n",
            " 27%|██▋       | 235/864 [23:15<30:29,  2.91s/it]\u001b[A\n",
            " 27%|██▋       | 236/864 [23:19<32:03,  3.06s/it]\u001b[A\n",
            " 27%|██▋       | 237/864 [23:25<42:24,  4.06s/it]\u001b[A\n",
            " 28%|██▊       | 238/864 [23:36<1:03:15,  6.06s/it]\u001b[A\n",
            " 28%|██▊       | 239/864 [23:38<51:32,  4.95s/it]  \u001b[A\n",
            " 28%|██▊       | 240/864 [23:42<47:07,  4.53s/it]\u001b[A\n",
            " 28%|██▊       | 241/864 [23:48<53:17,  5.13s/it]\u001b[A\n",
            " 28%|██▊       | 242/864 [23:50<42:50,  4.13s/it]\u001b[A\n",
            " 28%|██▊       | 243/864 [23:52<37:17,  3.60s/it]\u001b[A\n",
            " 28%|██▊       | 244/864 [23:55<33:08,  3.21s/it]\u001b[A\n",
            " 28%|██▊       | 245/864 [24:01<42:04,  4.08s/it]\u001b[A\n",
            " 28%|██▊       | 246/864 [24:05<42:05,  4.09s/it]\u001b[A\n",
            " 29%|██▊       | 247/864 [24:06<33:18,  3.24s/it]\u001b[A\n",
            " 29%|██▊       | 248/864 [24:08<27:51,  2.71s/it]\u001b[A\n",
            " 29%|██▉       | 249/864 [24:14<37:43,  3.68s/it]\u001b[A\n",
            " 29%|██▉       | 250/864 [24:20<46:15,  4.52s/it]\u001b[A\n",
            " 29%|██▉       | 251/864 [24:30<1:03:29,  6.22s/it]\u001b[A\n",
            " 29%|██▉       | 252/864 [24:36<1:03:42,  6.25s/it]\u001b[A\n",
            " 29%|██▉       | 253/864 [24:41<57:12,  5.62s/it]  \u001b[A\n",
            " 29%|██▉       | 254/864 [24:43<46:41,  4.59s/it]\u001b[A\n",
            " 30%|██▉       | 255/864 [24:54<1:06:26,  6.55s/it]\u001b[A\n",
            " 30%|██▉       | 256/864 [25:06<1:22:21,  8.13s/it]\u001b[A\n",
            " 30%|██▉       | 257/864 [25:12<1:17:07,  7.62s/it]\u001b[A\n",
            " 30%|██▉       | 258/864 [25:14<59:05,  5.85s/it]  \u001b[A\n",
            " 30%|██▉       | 259/864 [25:17<51:03,  5.06s/it]\u001b[A\n",
            " 30%|███       | 260/864 [25:38<1:38:43,  9.81s/it]\u001b[A\n",
            " 30%|███       | 261/864 [25:40<1:13:53,  7.35s/it]\u001b[A\n",
            " 30%|███       | 262/864 [25:46<1:09:51,  6.96s/it]\u001b[A\n",
            " 30%|███       | 263/864 [25:49<58:35,  5.85s/it]  \u001b[A\n",
            " 31%|███       | 264/864 [25:51<47:28,  4.75s/it]\u001b[A\n",
            " 31%|███       | 265/864 [26:02<1:06:47,  6.69s/it]\u001b[A\n",
            " 31%|███       | 266/864 [26:04<52:05,  5.23s/it]  \u001b[A\n",
            " 31%|███       | 267/864 [26:06<43:10,  4.34s/it]\u001b[A\n",
            " 31%|███       | 268/864 [26:17<1:02:45,  6.32s/it]\u001b[A\n",
            " 31%|███       | 269/864 [26:20<51:07,  5.15s/it]  \u001b[A\n",
            " 31%|███▏      | 270/864 [26:30<1:05:48,  6.65s/it]\u001b[A\n",
            " 31%|███▏      | 271/864 [26:31<50:34,  5.12s/it]  \u001b[A\n",
            " 31%|███▏      | 272/864 [26:33<40:37,  4.12s/it]\u001b[A\n",
            " 32%|███▏      | 273/864 [26:39<45:53,  4.66s/it]\u001b[A\n",
            " 32%|███▏      | 274/864 [26:41<37:25,  3.81s/it]\u001b[A\n",
            " 32%|███▏      | 275/864 [26:43<32:58,  3.36s/it]\u001b[A\n",
            " 32%|███▏      | 276/864 [26:47<33:50,  3.45s/it]\u001b[A\n",
            " 32%|███▏      | 277/864 [26:54<44:11,  4.52s/it]\u001b[A\n",
            " 32%|███▏      | 278/864 [26:57<38:48,  3.97s/it]\u001b[A\n",
            " 32%|███▏      | 279/864 [27:03<45:41,  4.69s/it]\u001b[A\n",
            " 32%|███▏      | 280/864 [27:07<42:47,  4.40s/it]\u001b[A\n",
            " 33%|███▎      | 281/864 [27:08<33:44,  3.47s/it]\u001b[A\n",
            " 33%|███▎      | 282/864 [27:10<28:14,  2.91s/it]\u001b[A\n",
            " 33%|███▎      | 283/864 [27:16<37:19,  3.85s/it]\u001b[A\n",
            " 33%|███▎      | 284/864 [27:19<36:31,  3.78s/it]\u001b[A\n",
            " 33%|███▎      | 285/864 [27:30<56:50,  5.89s/it]\u001b[A\n",
            " 33%|███▎      | 286/864 [27:36<57:01,  5.92s/it]\u001b[A\n",
            " 33%|███▎      | 287/864 [27:47<1:10:45,  7.36s/it]\u001b[A\n",
            " 33%|███▎      | 288/864 [27:58<1:21:20,  8.47s/it]\u001b[A\n",
            " 33%|███▎      | 289/864 [28:00<1:03:36,  6.64s/it]\u001b[A\n",
            " 34%|███▎      | 290/864 [28:04<55:11,  5.77s/it]  \u001b[A\n",
            " 34%|███▎      | 291/864 [28:07<48:02,  5.03s/it]\u001b[A\n",
            " 34%|███▍      | 292/864 [28:09<38:55,  4.08s/it]\u001b[A\n",
            " 34%|███▍      | 293/864 [28:15<43:51,  4.61s/it]\u001b[A\n",
            " 34%|███▍      | 294/864 [28:21<48:12,  5.07s/it]\u001b[A\n",
            " 34%|███▍      | 295/864 [28:23<38:15,  4.03s/it]\u001b[A\n",
            " 34%|███▍      | 296/864 [28:29<43:02,  4.55s/it]\u001b[A\n",
            " 34%|███▍      | 297/864 [28:39<1:00:40,  6.42s/it]\u001b[A\n",
            " 34%|███▍      | 298/864 [29:01<1:43:10, 10.94s/it]\u001b[A\n",
            " 35%|███▍      | 299/864 [29:02<1:16:49,  8.16s/it]\u001b[A\n",
            " 35%|███▍      | 300/864 [29:09<1:10:55,  7.54s/it]\u001b[A\n",
            " 35%|███▍      | 301/864 [29:20<1:20:17,  8.56s/it]\u001b[A\n",
            " 35%|███▍      | 302/864 [29:25<1:12:04,  7.70s/it]\u001b[A\n",
            " 35%|███▌      | 303/864 [29:28<58:01,  6.21s/it]  \u001b[A\n",
            " 35%|███▌      | 304/864 [29:30<45:33,  4.88s/it]\u001b[A\n",
            " 35%|███▌      | 305/864 [29:33<40:59,  4.40s/it]\u001b[A\n",
            " 35%|███▌      | 306/864 [29:45<1:00:42,  6.53s/it]\u001b[A\n",
            " 36%|███▌      | 307/864 [29:46<47:29,  5.12s/it]  \u001b[A\n",
            " 36%|███▌      | 308/864 [29:48<38:08,  4.12s/it]\u001b[A\n",
            " 36%|███▌      | 309/864 [29:51<33:20,  3.61s/it]\u001b[A\n",
            " 36%|███▌      | 310/864 [29:55<34:55,  3.78s/it]\u001b[A\n",
            " 36%|███▌      | 311/864 [29:56<27:35,  2.99s/it]\u001b[A\n",
            " 36%|███▌      | 312/864 [30:07<49:03,  5.33s/it]\u001b[A\n",
            " 36%|███▌      | 313/864 [30:13<51:16,  5.58s/it]\u001b[A\n",
            " 36%|███▋      | 314/864 [30:15<40:49,  4.45s/it]\u001b[A\n",
            " 36%|███▋      | 315/864 [30:25<58:11,  6.36s/it]\u001b[A\n",
            " 37%|███▋      | 316/864 [30:36<1:10:15,  7.69s/it]\u001b[A\n",
            " 37%|███▋      | 317/864 [30:38<54:02,  5.93s/it]  \u001b[A\n",
            " 37%|███▋      | 318/864 [31:00<1:36:47, 10.64s/it]\u001b[A\n",
            " 37%|███▋      | 319/864 [31:03<1:17:22,  8.52s/it]\u001b[A\n",
            " 37%|███▋      | 320/864 [31:14<1:22:22,  9.09s/it]\u001b[A\n",
            " 37%|███▋      | 321/864 [31:21<1:17:40,  8.58s/it]\u001b[A\n",
            " 37%|███▋      | 322/864 [31:33<1:26:27,  9.57s/it]\u001b[A\n",
            " 37%|███▋      | 323/864 [31:34<1:03:40,  7.06s/it]\u001b[A\n",
            " 38%|███▊      | 324/864 [31:40<1:01:32,  6.84s/it]\u001b[A\n",
            " 38%|███▊      | 325/864 [31:43<49:30,  5.51s/it]  \u001b[A\n",
            " 38%|███▊      | 326/864 [31:50<53:14,  5.94s/it]\u001b[A\n",
            " 38%|███▊      | 327/864 [31:52<43:05,  4.81s/it]\u001b[A\n",
            " 38%|███▊      | 328/864 [32:03<59:59,  6.72s/it]\u001b[A\n",
            " 38%|███▊      | 329/864 [32:07<51:36,  5.79s/it]\u001b[A\n",
            " 38%|███▊      | 330/864 [32:09<42:24,  4.77s/it]\u001b[A\n",
            " 38%|███▊      | 331/864 [32:13<40:52,  4.60s/it]\u001b[A\n",
            " 38%|███▊      | 332/864 [32:19<43:08,  4.87s/it]\u001b[A\n",
            " 39%|███▊      | 333/864 [32:21<34:59,  3.95s/it]\u001b[A\n",
            " 39%|███▊      | 334/864 [32:27<41:22,  4.68s/it]\u001b[A\n",
            " 39%|███▉      | 335/864 [32:28<32:18,  3.67s/it]\u001b[A\n",
            " 39%|███▉      | 336/864 [32:31<28:37,  3.25s/it]\u001b[A\n",
            " 39%|███▉      | 337/864 [32:33<25:58,  2.96s/it]\u001b[A\n",
            " 39%|███▉      | 338/864 [32:40<36:00,  4.11s/it]\u001b[A\n",
            " 39%|███▉      | 339/864 [32:51<54:09,  6.19s/it]\u001b[A\n",
            " 39%|███▉      | 340/864 [32:57<54:32,  6.25s/it]\u001b[A\n",
            " 39%|███▉      | 341/864 [33:03<53:54,  6.19s/it]\u001b[A\n",
            " 40%|███▉      | 342/864 [33:05<42:25,  4.88s/it]\u001b[A\n",
            " 40%|███▉      | 343/864 [33:16<58:30,  6.74s/it]\u001b[A\n",
            " 40%|███▉      | 344/864 [33:19<47:07,  5.44s/it]\u001b[A\n",
            " 40%|███▉      | 345/864 [33:21<40:26,  4.68s/it]\u001b[A\n",
            " 40%|████      | 346/864 [33:33<57:39,  6.68s/it]\u001b[A\n",
            " 40%|████      | 347/864 [33:34<43:09,  5.01s/it]\u001b[A\n",
            " 40%|████      | 348/864 [33:41<47:47,  5.56s/it]\u001b[A\n",
            " 40%|████      | 349/864 [33:53<1:03:59,  7.46s/it]\u001b[A\n",
            " 41%|████      | 350/864 [34:03<1:12:21,  8.45s/it]\u001b[A\n",
            " 41%|████      | 351/864 [34:24<1:44:14, 12.19s/it]\u001b[A\n",
            " 41%|████      | 352/864 [34:28<1:22:43,  9.69s/it]\u001b[A\n",
            " 41%|████      | 353/864 [34:30<1:01:36,  7.23s/it]\u001b[A\n",
            " 41%|████      | 354/864 [34:31<46:50,  5.51s/it]  \u001b[A\n",
            " 41%|████      | 355/864 [34:42<1:00:43,  7.16s/it]\u001b[A\n",
            " 41%|████      | 356/864 [34:49<58:44,  6.94s/it]  \u001b[A\n",
            " 41%|████▏     | 357/864 [34:50<44:43,  5.29s/it]\u001b[A\n",
            " 41%|████▏     | 358/864 [35:02<1:01:35,  7.30s/it]\u001b[A\n",
            " 42%|████▏     | 359/864 [35:06<53:16,  6.33s/it]  \u001b[A\n",
            " 42%|████▏     | 360/864 [35:13<53:25,  6.36s/it]\u001b[A\n",
            " 42%|████▏     | 361/864 [35:16<46:09,  5.51s/it]\u001b[A\n",
            " 42%|████▏     | 362/864 [35:18<37:57,  4.54s/it]\u001b[A\n",
            " 42%|████▏     | 363/864 [35:39<1:17:54,  9.33s/it]\u001b[A\n",
            " 42%|████▏     | 364/864 [35:58<1:42:51, 12.34s/it]\u001b[A\n",
            " 42%|████▏     | 365/864 [36:04<1:26:47, 10.44s/it]\u001b[A\n",
            " 42%|████▏     | 366/864 [36:15<1:26:38, 10.44s/it]\u001b[A\n",
            " 42%|████▏     | 367/864 [36:22<1:18:13,  9.44s/it]\u001b[A\n",
            " 43%|████▎     | 368/864 [36:33<1:22:09,  9.94s/it]\u001b[A\n",
            " 43%|████▎     | 369/864 [36:36<1:06:06,  8.01s/it]\u001b[A\n",
            " 43%|████▎     | 370/864 [36:48<1:14:32,  9.05s/it]\u001b[A\n",
            " 43%|████▎     | 371/864 [36:52<1:01:43,  7.51s/it]\u001b[A\n",
            " 43%|████▎     | 372/864 [36:53<46:28,  5.67s/it]  \u001b[A\n",
            " 43%|████▎     | 373/864 [37:05<1:00:50,  7.43s/it]\u001b[A\n",
            " 43%|████▎     | 374/864 [37:07<48:03,  5.89s/it]  \u001b[A\n",
            " 43%|████▎     | 375/864 [37:11<42:26,  5.21s/it]\u001b[A\n",
            " 44%|████▎     | 376/864 [37:18<46:51,  5.76s/it]\u001b[A\n",
            " 44%|████▎     | 377/864 [37:24<49:11,  6.06s/it]\u001b[A\n",
            " 44%|████▍     | 378/864 [37:27<39:57,  4.93s/it]\u001b[A\n",
            " 44%|████▍     | 379/864 [37:38<55:03,  6.81s/it]\u001b[A\n",
            " 44%|████▍     | 380/864 [37:42<49:22,  6.12s/it]\u001b[A\n",
            " 44%|████▍     | 381/864 [37:44<38:56,  4.84s/it]\u001b[A\n",
            " 44%|████▍     | 382/864 [37:51<42:31,  5.29s/it]\u001b[A\n",
            " 44%|████▍     | 383/864 [37:57<44:12,  5.51s/it]\u001b[A\n",
            " 44%|████▍     | 384/864 [38:03<46:35,  5.82s/it]\u001b[A\n",
            " 45%|████▍     | 385/864 [38:04<35:26,  4.44s/it]\u001b[A\n",
            " 45%|████▍     | 386/864 [38:11<41:25,  5.20s/it]\u001b[A\n",
            " 45%|████▍     | 387/864 [38:13<33:12,  4.18s/it]\u001b[A\n",
            " 45%|████▍     | 388/864 [38:19<37:32,  4.73s/it]\u001b[A\n",
            " 45%|████▌     | 389/864 [38:20<29:04,  3.67s/it]\u001b[A\n",
            " 45%|████▌     | 390/864 [38:27<35:05,  4.44s/it]\u001b[A\n",
            " 45%|████▌     | 391/864 [38:46<1:10:37,  8.96s/it]\u001b[A\n",
            " 45%|████▌     | 392/864 [38:48<54:22,  6.91s/it]  \u001b[A\n",
            " 45%|████▌     | 393/864 [39:00<1:05:57,  8.40s/it]\u001b[A\n",
            " 46%|████▌     | 394/864 [39:07<1:01:20,  7.83s/it]\u001b[A\n",
            " 46%|████▌     | 395/864 [39:10<51:42,  6.62s/it]  \u001b[A\n",
            " 46%|████▌     | 396/864 [39:14<45:17,  5.81s/it]\u001b[A\n",
            " 46%|████▌     | 397/864 [39:21<46:30,  5.97s/it]\u001b[A\n",
            " 46%|████▌     | 398/864 [39:28<48:50,  6.29s/it]\u001b[A\n",
            " 46%|████▌     | 399/864 [39:30<38:20,  4.95s/it]\u001b[A\n",
            " 46%|████▋     | 400/864 [39:31<29:41,  3.84s/it]\u001b[A\n",
            " 46%|████▋     | 401/864 [39:52<1:09:11,  8.97s/it]\u001b[A\n",
            " 47%|████▋     | 402/864 [40:03<1:13:48,  9.59s/it]\u001b[A\n",
            " 47%|████▋     | 403/864 [40:08<1:04:33,  8.40s/it]\u001b[A\n",
            " 47%|████▋     | 404/864 [40:12<53:58,  7.04s/it]  \u001b[A\n",
            " 47%|████▋     | 405/864 [40:16<46:40,  6.10s/it]\u001b[A\n",
            " 47%|████▋     | 406/864 [40:20<41:10,  5.39s/it]\u001b[A\n",
            " 47%|████▋     | 407/864 [40:26<41:49,  5.49s/it]\u001b[A\n",
            " 47%|████▋     | 408/864 [40:47<1:19:07, 10.41s/it]\u001b[A\n",
            " 47%|████▋     | 409/864 [40:59<1:22:13, 10.84s/it]\u001b[A\n",
            " 47%|████▋     | 410/864 [41:03<1:05:55,  8.71s/it]\u001b[A\n",
            " 48%|████▊     | 411/864 [41:15<1:13:39,  9.76s/it]\u001b[A\n",
            " 48%|████▊     | 412/864 [41:26<1:15:52, 10.07s/it]\u001b[A\n",
            " 48%|████▊     | 413/864 [41:38<1:19:55, 10.63s/it]\u001b[A\n",
            " 48%|████▊     | 414/864 [41:44<1:09:45,  9.30s/it]\u001b[A\n",
            " 48%|████▊     | 415/864 [41:50<1:02:17,  8.32s/it]\u001b[A\n",
            " 48%|████▊     | 416/864 [41:56<55:35,  7.45s/it]  \u001b[A\n",
            " 48%|████▊     | 417/864 [42:00<47:34,  6.38s/it]\u001b[A\n",
            " 48%|████▊     | 418/864 [42:03<41:47,  5.62s/it]\u001b[A\n",
            " 48%|████▊     | 419/864 [42:05<32:14,  4.35s/it]\u001b[A\n",
            " 49%|████▊     | 420/864 [42:16<47:11,  6.38s/it]\u001b[A\n",
            " 49%|████▊     | 421/864 [42:22<45:46,  6.20s/it]\u001b[A\n",
            " 49%|████▉     | 422/864 [42:23<35:51,  4.87s/it]\u001b[A\n",
            " 49%|████▉     | 423/864 [42:27<32:39,  4.44s/it]\u001b[A\n",
            " 49%|████▉     | 424/864 [42:34<38:22,  5.23s/it]\u001b[A\n",
            " 49%|████▉     | 425/864 [42:40<39:40,  5.42s/it]\u001b[A\n",
            " 49%|████▉     | 426/864 [42:46<42:02,  5.76s/it]\u001b[A\n",
            " 49%|████▉     | 427/864 [42:48<32:16,  4.43s/it]\u001b[A\n",
            " 50%|████▉     | 428/864 [42:49<25:28,  3.51s/it]\u001b[A\n",
            " 50%|████▉     | 429/864 [43:01<42:58,  5.93s/it]\u001b[A\n",
            " 50%|████▉     | 430/864 [43:02<33:00,  4.56s/it]\u001b[A\n",
            " 50%|████▉     | 431/864 [43:06<31:08,  4.31s/it]\u001b[A\n",
            " 50%|█████     | 432/864 [43:08<27:27,  3.81s/it]\u001b[A\n",
            " 50%|█████     | 433/864 [43:10<22:17,  3.10s/it]\u001b[A\n",
            " 50%|█████     | 434/864 [43:29<56:50,  7.93s/it]\u001b[A\n",
            " 50%|█████     | 435/864 [43:35<52:46,  7.38s/it]\u001b[A\n",
            " 50%|█████     | 436/864 [43:37<40:15,  5.64s/it]\u001b[A\n",
            " 51%|█████     | 437/864 [43:40<35:33,  5.00s/it]\u001b[A\n",
            " 51%|█████     | 438/864 [43:44<32:37,  4.60s/it]\u001b[A\n",
            " 51%|█████     | 439/864 [43:56<47:42,  6.73s/it]\u001b[A\n",
            " 51%|█████     | 440/864 [44:02<45:54,  6.50s/it]\u001b[A\n",
            " 51%|█████     | 441/864 [44:05<39:06,  5.55s/it]\u001b[A\n",
            " 51%|█████     | 442/864 [44:09<35:30,  5.05s/it]\u001b[A\n",
            " 51%|█████▏    | 443/864 [44:11<30:28,  4.34s/it]\u001b[A\n",
            " 51%|█████▏    | 444/864 [44:32<1:03:27,  9.06s/it]\u001b[A\n",
            " 52%|█████▏    | 445/864 [44:33<47:45,  6.84s/it]  \u001b[A\n",
            " 52%|█████▏    | 446/864 [44:37<41:11,  5.91s/it]\u001b[A\n",
            " 52%|█████▏    | 447/864 [44:43<41:31,  5.98s/it]\u001b[A\n",
            " 52%|█████▏    | 448/864 [44:50<44:07,  6.37s/it]\u001b[A\n",
            " 52%|█████▏    | 449/864 [45:10<1:11:33, 10.35s/it]\u001b[A\n",
            " 52%|█████▏    | 450/864 [45:31<1:33:29, 13.55s/it]\u001b[A\n",
            " 52%|█████▏    | 451/864 [45:36<1:16:13, 11.07s/it]\u001b[A\n",
            " 52%|█████▏    | 452/864 [45:58<1:36:58, 14.12s/it]\u001b[A\n",
            " 52%|█████▏    | 453/864 [46:03<1:18:29, 11.46s/it]\u001b[A\n",
            " 53%|█████▎    | 454/864 [46:07<1:02:51,  9.20s/it]\u001b[A\n",
            " 53%|█████▎    | 455/864 [46:08<46:24,  6.81s/it]  \u001b[A\n",
            " 53%|█████▎    | 456/864 [46:09<34:23,  5.06s/it]\u001b[A\n",
            " 53%|█████▎    | 457/864 [46:16<37:55,  5.59s/it]\u001b[A\n",
            " 53%|█████▎    | 458/864 [46:22<38:48,  5.73s/it]\u001b[A\n",
            " 53%|█████▎    | 459/864 [46:23<29:21,  4.35s/it]\u001b[A\n",
            " 53%|█████▎    | 460/864 [46:27<27:43,  4.12s/it]\u001b[A\n",
            " 53%|█████▎    | 461/864 [46:30<26:48,  3.99s/it]\u001b[A\n",
            " 53%|█████▎    | 462/864 [46:32<23:08,  3.45s/it]\u001b[A\n",
            " 54%|█████▎    | 463/864 [46:54<58:33,  8.76s/it]\u001b[A\n",
            " 54%|█████▎    | 464/864 [46:57<47:39,  7.15s/it]\u001b[A\n",
            " 54%|█████▍    | 465/864 [46:59<36:24,  5.48s/it]\u001b[A\n",
            " 54%|█████▍    | 466/864 [47:05<38:02,  5.74s/it]\u001b[A\n",
            " 54%|█████▍    | 467/864 [47:08<33:21,  5.04s/it]\u001b[A\n",
            " 54%|█████▍    | 468/864 [47:15<36:27,  5.52s/it]\u001b[A\n",
            " 54%|█████▍    | 469/864 [47:17<29:53,  4.54s/it]\u001b[A\n",
            " 54%|█████▍    | 470/864 [47:19<25:19,  3.86s/it]\u001b[A\n",
            " 55%|█████▍    | 471/864 [47:31<39:54,  6.09s/it]\u001b[A\n",
            " 55%|█████▍    | 472/864 [47:32<31:04,  4.76s/it]\u001b[A\n",
            " 55%|█████▍    | 473/864 [47:44<44:17,  6.80s/it]\u001b[A\n",
            " 55%|█████▍    | 474/864 [47:55<52:46,  8.12s/it]\u001b[A\n",
            " 55%|█████▍    | 475/864 [48:01<49:01,  7.56s/it]\u001b[A\n",
            " 55%|█████▌    | 476/864 [48:03<36:25,  5.63s/it]\u001b[A\n",
            " 55%|█████▌    | 477/864 [48:09<37:38,  5.84s/it]\u001b[A\n",
            " 55%|█████▌    | 478/864 [48:11<30:47,  4.79s/it]\u001b[A\n",
            " 55%|█████▌    | 479/864 [48:17<33:35,  5.23s/it]\u001b[A\n",
            " 56%|█████▌    | 480/864 [48:28<44:14,  6.91s/it]\u001b[A\n",
            " 56%|█████▌    | 481/864 [48:32<38:15,  5.99s/it]\u001b[A\n",
            " 56%|█████▌    | 482/864 [48:36<34:03,  5.35s/it]\u001b[A\n",
            " 56%|█████▌    | 483/864 [48:39<30:28,  4.80s/it]\u001b[A\n",
            " 56%|█████▌    | 484/864 [48:41<24:37,  3.89s/it]\u001b[A\n",
            " 56%|█████▌    | 485/864 [48:48<29:04,  4.60s/it]\u001b[A\n",
            " 56%|█████▋    | 486/864 [48:59<42:05,  6.68s/it]\u001b[A\n",
            " 56%|█████▋    | 487/864 [49:02<35:28,  5.65s/it]\u001b[A\n",
            " 56%|█████▋    | 488/864 [49:05<29:09,  4.65s/it]\u001b[A\n",
            " 57%|█████▋    | 489/864 [49:06<23:13,  3.71s/it]\u001b[A\n",
            " 57%|█████▋    | 490/864 [49:09<22:25,  3.60s/it]\u001b[A\n",
            " 57%|█████▋    | 491/864 [49:11<18:49,  3.03s/it]\u001b[A\n",
            " 57%|█████▋    | 492/864 [49:18<26:38,  4.30s/it]\u001b[A\n",
            " 57%|█████▋    | 493/864 [49:20<21:51,  3.54s/it]\u001b[A\n",
            " 57%|█████▋    | 494/864 [49:23<19:38,  3.18s/it]\u001b[A\n",
            " 57%|█████▋    | 495/864 [49:42<49:05,  7.98s/it]\u001b[A\n",
            " 57%|█████▋    | 496/864 [49:48<45:54,  7.49s/it]\u001b[A\n",
            " 58%|█████▊    | 497/864 [49:52<39:17,  6.42s/it]\u001b[A\n",
            " 58%|█████▊    | 498/864 [49:55<33:41,  5.52s/it]\u001b[A\n",
            " 58%|█████▊    | 499/864 [50:02<35:57,  5.91s/it]\u001b[A\n",
            " 58%|█████▊    | 500/864 [50:06<32:34,  5.37s/it]\u001b[A\n",
            " 58%|█████▊    | 501/864 [50:10<29:19,  4.85s/it]\u001b[A\n",
            " 58%|█████▊    | 502/864 [50:11<22:26,  3.72s/it]\u001b[A\n",
            " 58%|█████▊    | 503/864 [50:22<35:43,  5.94s/it]\u001b[A\n",
            " 58%|█████▊    | 504/864 [50:24<27:20,  4.56s/it]\u001b[A\n",
            " 58%|█████▊    | 505/864 [50:43<54:15,  9.07s/it]\u001b[A\n",
            " 59%|█████▊    | 506/864 [50:49<48:22,  8.11s/it]\u001b[A\n",
            " 59%|█████▊    | 507/864 [50:56<45:44,  7.69s/it]\u001b[A\n",
            " 59%|█████▉    | 508/864 [51:03<44:19,  7.47s/it]\u001b[A\n",
            " 59%|█████▉    | 509/864 [51:09<41:58,  7.09s/it]\u001b[A\n",
            " 59%|█████▉    | 510/864 [51:21<50:31,  8.56s/it]\u001b[A\n",
            " 59%|█████▉    | 511/864 [51:22<37:12,  6.32s/it]\u001b[A\n",
            " 59%|█████▉    | 512/864 [51:24<30:07,  5.13s/it]\u001b[A\n",
            " 59%|█████▉    | 513/864 [51:36<41:16,  7.06s/it]\u001b[A\n",
            " 59%|█████▉    | 514/864 [51:42<40:00,  6.86s/it]\u001b[A\n",
            " 60%|█████▉    | 515/864 [51:44<31:05,  5.34s/it]\u001b[A\n",
            " 60%|█████▉    | 516/864 [51:51<32:54,  5.67s/it]\u001b[A\n",
            " 60%|█████▉    | 517/864 [51:57<34:56,  6.04s/it]\u001b[A\n",
            " 60%|█████▉    | 518/864 [52:08<42:05,  7.30s/it]\u001b[A\n",
            " 60%|██████    | 519/864 [52:13<39:28,  6.87s/it]\u001b[A\n",
            " 60%|██████    | 520/864 [52:17<34:09,  5.96s/it]\u001b[A\n",
            " 60%|██████    | 521/864 [52:19<26:50,  4.70s/it]\u001b[A\n",
            " 60%|██████    | 522/864 [52:41<55:22,  9.71s/it]\u001b[A\n",
            " 61%|██████    | 523/864 [52:46<48:26,  8.52s/it]\u001b[A\n",
            " 61%|██████    | 524/864 [52:50<40:17,  7.11s/it]\u001b[A\n",
            " 61%|██████    | 525/864 [52:52<31:56,  5.65s/it]\u001b[A\n",
            " 61%|██████    | 526/864 [52:54<24:23,  4.33s/it]\u001b[A\n",
            " 61%|██████    | 527/864 [52:55<19:01,  3.39s/it]\u001b[A\n",
            " 61%|██████    | 528/864 [53:16<49:14,  8.79s/it]\u001b[A\n",
            " 61%|██████    | 529/864 [53:18<37:29,  6.72s/it]\u001b[A\n",
            " 61%|██████▏   | 530/864 [53:19<27:58,  5.03s/it]\u001b[A\n",
            " 61%|██████▏   | 531/864 [53:26<31:14,  5.63s/it]\u001b[A\n",
            " 62%|██████▏   | 532/864 [53:28<24:42,  4.47s/it]\u001b[A\n",
            " 62%|██████▏   | 533/864 [53:31<22:28,  4.07s/it]\u001b[A\n",
            " 62%|██████▏   | 534/864 [53:38<27:11,  4.95s/it]\u001b[A\n",
            " 62%|██████▏   | 535/864 [53:44<28:22,  5.17s/it]\u001b[A\n",
            " 62%|██████▏   | 536/864 [54:05<54:42, 10.01s/it]\u001b[A\n",
            " 62%|██████▏   | 537/864 [54:17<57:01, 10.46s/it]\u001b[A\n",
            " 62%|██████▏   | 538/864 [54:21<46:14,  8.51s/it]\u001b[A\n",
            " 62%|██████▏   | 539/864 [54:22<34:58,  6.46s/it]\u001b[A\n",
            " 62%|██████▎   | 540/864 [54:43<58:09, 10.77s/it]\u001b[A\n",
            " 63%|██████▎   | 541/864 [54:45<44:24,  8.25s/it]\u001b[A\n",
            " 63%|██████▎   | 542/864 [54:49<36:44,  6.85s/it]\u001b[A\n",
            " 63%|██████▎   | 543/864 [55:00<43:14,  8.08s/it]\u001b[A\n",
            " 63%|██████▎   | 544/864 [55:21<1:03:59, 12.00s/it]\u001b[A\n",
            " 63%|██████▎   | 545/864 [55:25<51:12,  9.63s/it]  \u001b[A\n",
            " 63%|██████▎   | 546/864 [55:36<53:04, 10.01s/it]\u001b[A\n",
            " 63%|██████▎   | 547/864 [55:37<38:39,  7.32s/it]\u001b[A\n",
            " 63%|██████▎   | 548/864 [55:39<30:27,  5.78s/it]\u001b[A\n",
            " 64%|██████▎   | 549/864 [55:51<39:02,  7.44s/it]\u001b[A\n",
            " 64%|██████▎   | 550/864 [56:02<44:54,  8.58s/it]\u001b[A\n",
            " 64%|██████▍   | 551/864 [56:03<33:24,  6.40s/it]\u001b[A\n",
            " 64%|██████▍   | 552/864 [56:25<57:00, 10.96s/it]\u001b[A\n",
            " 64%|██████▍   | 553/864 [56:29<45:59,  8.87s/it]\u001b[A\n",
            " 64%|██████▍   | 554/864 [56:35<41:23,  8.01s/it]\u001b[A\n",
            " 64%|██████▍   | 555/864 [56:54<59:08, 11.48s/it]\u001b[A\n",
            " 64%|██████▍   | 556/864 [57:00<50:06,  9.76s/it]\u001b[A\n",
            " 64%|██████▍   | 557/864 [57:02<38:24,  7.51s/it]\u001b[A\n",
            " 65%|██████▍   | 558/864 [57:05<30:14,  5.93s/it]\u001b[A\n",
            " 65%|██████▍   | 559/864 [57:08<26:44,  5.26s/it]\u001b[A\n",
            " 65%|██████▍   | 560/864 [57:12<24:29,  4.83s/it]\u001b[A\n",
            " 65%|██████▍   | 561/864 [57:14<19:58,  3.96s/it]\u001b[A\n",
            " 65%|██████▌   | 562/864 [57:35<45:34,  9.06s/it]\u001b[A\n",
            " 65%|██████▌   | 563/864 [57:40<40:05,  7.99s/it]\u001b[A\n",
            " 65%|██████▌   | 564/864 [57:48<38:31,  7.71s/it]\u001b[A\n",
            " 65%|██████▌   | 565/864 [57:49<28:48,  5.78s/it]\u001b[A\n",
            " 66%|██████▌   | 566/864 [57:53<26:11,  5.27s/it]\u001b[A\n",
            " 66%|██████▌   | 567/864 [57:56<23:25,  4.73s/it]\u001b[A\n",
            " 66%|██████▌   | 568/864 [58:00<21:06,  4.28s/it]\u001b[A\n",
            " 66%|██████▌   | 569/864 [58:10<30:09,  6.13s/it]\u001b[A\n",
            " 66%|██████▌   | 570/864 [58:20<36:13,  7.39s/it]\u001b[A\n",
            " 66%|██████▌   | 571/864 [58:23<28:35,  5.86s/it]\u001b[A\n",
            " 66%|██████▌   | 572/864 [58:25<23:13,  4.77s/it]\u001b[A\n",
            " 66%|██████▋   | 573/864 [58:45<45:32,  9.39s/it]\u001b[A\n",
            " 66%|██████▋   | 574/864 [58:49<36:59,  7.65s/it]\u001b[A\n",
            " 67%|██████▋   | 575/864 [58:50<27:35,  5.73s/it]\u001b[A\n",
            " 67%|██████▋   | 576/864 [58:51<21:22,  4.45s/it]\u001b[A\n",
            " 67%|██████▋   | 577/864 [58:54<18:52,  3.95s/it]\u001b[A\n",
            " 67%|██████▋   | 578/864 [58:58<18:02,  3.79s/it]\u001b[A\n",
            " 67%|██████▋   | 579/864 [59:04<21:07,  4.45s/it]\u001b[A\n",
            " 67%|██████▋   | 580/864 [59:15<31:03,  6.56s/it]\u001b[A\n",
            " 67%|██████▋   | 581/864 [59:19<26:49,  5.69s/it]\u001b[A\n",
            " 67%|██████▋   | 582/864 [59:20<20:08,  4.29s/it]\u001b[A\n",
            " 67%|██████▋   | 583/864 [59:30<28:56,  6.18s/it]\u001b[A\n",
            " 68%|██████▊   | 584/864 [59:50<47:28, 10.17s/it]\u001b[A\n",
            " 68%|██████▊   | 585/864 [59:51<34:57,  7.52s/it]\u001b[A\n",
            " 68%|██████▊   | 586/864 [59:54<27:43,  5.98s/it]\u001b[A\n",
            " 68%|██████▊   | 587/864 [1:00:13<46:35, 10.09s/it]\u001b[A\n",
            " 68%|██████▊   | 588/864 [1:00:17<38:20,  8.34s/it]\u001b[A\n",
            " 68%|██████▊   | 589/864 [1:00:38<55:39, 12.14s/it]\u001b[A\n",
            " 68%|██████▊   | 590/864 [1:00:49<53:18, 11.67s/it]\u001b[A\n",
            " 68%|██████▊   | 591/864 [1:00:53<42:59,  9.45s/it]\u001b[A\n",
            " 69%|██████▊   | 592/864 [1:01:13<56:37, 12.49s/it]\u001b[A\n",
            " 69%|██████▊   | 593/864 [1:01:14<41:18,  9.15s/it]\u001b[A\n",
            " 69%|██████▉   | 594/864 [1:01:21<38:04,  8.46s/it]\u001b[A\n",
            " 69%|██████▉   | 595/864 [1:01:23<29:42,  6.63s/it]\u001b[A\n",
            " 69%|██████▉   | 596/864 [1:01:25<22:37,  5.07s/it]\u001b[A\n",
            " 69%|██████▉   | 597/864 [1:01:27<18:19,  4.12s/it]\u001b[A\n",
            " 69%|██████▉   | 598/864 [1:01:33<20:44,  4.68s/it]\u001b[A\n",
            " 69%|██████▉   | 599/864 [1:01:39<22:47,  5.16s/it]\u001b[A\n",
            " 69%|██████▉   | 600/864 [1:01:45<24:13,  5.50s/it]\u001b[A\n",
            " 70%|██████▉   | 601/864 [1:01:47<18:40,  4.26s/it]\u001b[A\n",
            " 70%|██████▉   | 602/864 [1:01:53<21:39,  4.96s/it]\u001b[A\n",
            " 70%|██████▉   | 603/864 [1:01:57<20:11,  4.64s/it]\u001b[A\n",
            " 70%|██████▉   | 604/864 [1:02:09<29:22,  6.78s/it]\u001b[A\n",
            " 70%|███████   | 605/864 [1:02:21<35:33,  8.24s/it]\u001b[A\n",
            " 70%|███████   | 606/864 [1:02:26<32:15,  7.50s/it]\u001b[A\n",
            " 70%|███████   | 607/864 [1:02:28<23:59,  5.60s/it]\u001b[A\n",
            " 70%|███████   | 608/864 [1:02:33<23:57,  5.61s/it]\u001b[A\n",
            " 70%|███████   | 609/864 [1:02:35<18:34,  4.37s/it]\u001b[A\n",
            " 71%|███████   | 610/864 [1:02:38<17:34,  4.15s/it]\u001b[A\n",
            " 71%|███████   | 611/864 [1:02:49<25:56,  6.15s/it]\u001b[A\n",
            " 71%|███████   | 612/864 [1:02:51<19:58,  4.76s/it]\u001b[A\n",
            " 71%|███████   | 613/864 [1:02:57<21:46,  5.21s/it]\u001b[A\n",
            " 71%|███████   | 614/864 [1:03:03<22:25,  5.38s/it]\u001b[A\n",
            " 71%|███████   | 615/864 [1:03:13<28:42,  6.92s/it]\u001b[A\n",
            " 71%|███████▏  | 616/864 [1:03:15<22:41,  5.49s/it]\u001b[A\n",
            " 71%|███████▏  | 617/864 [1:03:19<20:10,  4.90s/it]\u001b[A\n",
            " 72%|███████▏  | 618/864 [1:03:20<15:47,  3.85s/it]\u001b[A\n",
            " 72%|███████▏  | 619/864 [1:03:24<15:55,  3.90s/it]\u001b[A\n",
            " 72%|███████▏  | 620/864 [1:03:31<19:08,  4.71s/it]\u001b[A\n",
            " 72%|███████▏  | 621/864 [1:03:37<20:18,  5.01s/it]\u001b[A\n",
            " 72%|███████▏  | 622/864 [1:03:40<18:14,  4.52s/it]\u001b[A\n",
            " 72%|███████▏  | 623/864 [1:03:46<20:03,  4.99s/it]\u001b[A\n",
            " 72%|███████▏  | 624/864 [1:03:47<15:41,  3.92s/it]\u001b[A\n",
            " 72%|███████▏  | 625/864 [1:03:58<23:23,  5.87s/it]\u001b[A\n",
            " 72%|███████▏  | 626/864 [1:04:02<21:01,  5.30s/it]\u001b[A\n",
            " 73%|███████▎  | 627/864 [1:04:03<16:11,  4.10s/it]\u001b[A\n",
            " 73%|███████▎  | 628/864 [1:04:07<15:47,  4.01s/it]\u001b[A\n",
            " 73%|███████▎  | 629/864 [1:04:13<18:13,  4.65s/it]\u001b[A\n",
            " 73%|███████▎  | 630/864 [1:04:15<14:30,  3.72s/it]\u001b[A\n",
            " 73%|███████▎  | 631/864 [1:04:18<14:00,  3.61s/it]\u001b[A\n",
            " 73%|███████▎  | 632/864 [1:04:24<16:57,  4.39s/it]\u001b[A\n",
            " 73%|███████▎  | 633/864 [1:04:28<16:09,  4.20s/it]\u001b[A\n",
            " 73%|███████▎  | 634/864 [1:04:39<23:53,  6.23s/it]\u001b[A\n",
            " 73%|███████▎  | 635/864 [1:04:59<39:51, 10.44s/it]\u001b[A\n",
            " 74%|███████▎  | 636/864 [1:05:06<35:26,  9.33s/it]\u001b[A\n",
            " 74%|███████▎  | 637/864 [1:05:08<27:11,  7.19s/it]\u001b[A\n",
            " 74%|███████▍  | 638/864 [1:05:14<25:32,  6.78s/it]\u001b[A\n",
            " 74%|███████▍  | 639/864 [1:05:16<20:27,  5.45s/it]\u001b[A\n",
            " 74%|███████▍  | 640/864 [1:05:23<21:22,  5.72s/it]\u001b[A\n",
            " 74%|███████▍  | 641/864 [1:05:24<16:16,  4.38s/it]\u001b[A\n",
            " 74%|███████▍  | 642/864 [1:05:30<18:13,  4.93s/it]\u001b[A\n",
            " 74%|███████▍  | 643/864 [1:05:36<19:22,  5.26s/it]\u001b[A\n",
            " 75%|███████▍  | 644/864 [1:05:43<21:01,  5.73s/it]\u001b[A\n",
            " 75%|███████▍  | 645/864 [1:05:55<27:34,  7.55s/it]\u001b[A\n",
            " 75%|███████▍  | 646/864 [1:05:56<20:24,  5.62s/it]\u001b[A\n",
            " 75%|███████▍  | 647/864 [1:05:59<17:11,  4.75s/it]\u001b[A\n",
            " 75%|███████▌  | 648/864 [1:06:00<13:04,  3.63s/it]\u001b[A\n",
            " 75%|███████▌  | 649/864 [1:06:03<13:12,  3.69s/it]\u001b[A\n",
            " 75%|███████▌  | 650/864 [1:06:06<11:28,  3.22s/it]\u001b[A\n",
            " 75%|███████▌  | 651/864 [1:06:26<30:13,  8.52s/it]\u001b[A\n",
            " 75%|███████▌  | 652/864 [1:06:37<31:52,  9.02s/it]\u001b[A\n",
            " 76%|███████▌  | 653/864 [1:06:38<23:41,  6.74s/it]\u001b[A\n",
            " 76%|███████▌  | 654/864 [1:06:42<20:35,  5.89s/it]\u001b[A\n",
            " 76%|███████▌  | 655/864 [1:06:52<24:54,  7.15s/it]\u001b[A\n",
            " 76%|███████▌  | 656/864 [1:06:54<19:30,  5.63s/it]\u001b[A\n",
            " 76%|███████▌  | 657/864 [1:06:58<17:58,  5.21s/it]\u001b[A\n",
            " 76%|███████▌  | 658/864 [1:07:18<32:16,  9.40s/it]\u001b[A\n",
            " 76%|███████▋  | 659/864 [1:07:38<43:51, 12.84s/it]\u001b[A\n",
            " 76%|███████▋  | 660/864 [1:07:40<32:19,  9.51s/it]\u001b[A\n",
            " 77%|███████▋  | 661/864 [1:07:47<29:16,  8.65s/it]\u001b[A\n",
            " 77%|███████▋  | 662/864 [1:08:06<40:04, 11.90s/it]\u001b[A\n",
            " 77%|███████▋  | 663/864 [1:08:08<29:40,  8.86s/it]\u001b[A\n",
            " 77%|███████▋  | 664/864 [1:08:15<27:40,  8.30s/it]\u001b[A\n",
            " 77%|███████▋  | 665/864 [1:08:19<22:56,  6.92s/it]\u001b[A\n",
            " 77%|███████▋  | 666/864 [1:08:20<17:04,  5.17s/it]\u001b[A\n",
            " 77%|███████▋  | 667/864 [1:08:21<13:11,  4.02s/it]\u001b[A\n",
            " 77%|███████▋  | 668/864 [1:08:24<11:47,  3.61s/it]\u001b[A\n",
            " 77%|███████▋  | 669/864 [1:08:25<09:31,  2.93s/it]\u001b[A\n",
            " 78%|███████▊  | 670/864 [1:08:32<12:46,  3.95s/it]\u001b[A\n",
            " 78%|███████▊  | 671/864 [1:08:34<11:35,  3.60s/it]\u001b[A\n",
            " 78%|███████▊  | 672/864 [1:08:38<11:28,  3.59s/it]\u001b[A\n",
            " 78%|███████▊  | 673/864 [1:08:59<28:10,  8.85s/it]\u001b[A\n",
            " 78%|███████▊  | 674/864 [1:09:03<23:24,  7.39s/it]\u001b[A\n",
            " 78%|███████▊  | 675/864 [1:09:10<22:53,  7.27s/it]\u001b[A\n",
            " 78%|███████▊  | 676/864 [1:09:16<21:28,  6.86s/it]\u001b[A\n",
            " 78%|███████▊  | 677/864 [1:09:17<16:03,  5.15s/it]\u001b[A\n",
            " 78%|███████▊  | 678/864 [1:09:19<13:05,  4.22s/it]\u001b[A\n",
            " 79%|███████▊  | 679/864 [1:09:23<12:29,  4.05s/it]\u001b[A\n",
            " 79%|███████▊  | 680/864 [1:09:25<10:44,  3.50s/it]\u001b[A\n",
            " 79%|███████▉  | 681/864 [1:09:27<09:05,  2.98s/it]\u001b[A\n",
            " 79%|███████▉  | 682/864 [1:09:30<08:51,  2.92s/it]\u001b[A\n",
            " 79%|███████▉  | 683/864 [1:09:33<09:24,  3.12s/it]\u001b[A\n",
            " 79%|███████▉  | 684/864 [1:09:35<08:34,  2.86s/it]\u001b[A\n",
            " 79%|███████▉  | 685/864 [1:09:37<07:34,  2.54s/it]\u001b[A\n",
            " 79%|███████▉  | 686/864 [1:09:39<06:56,  2.34s/it]\u001b[A\n",
            " 80%|███████▉  | 687/864 [1:09:45<10:28,  3.55s/it]\u001b[A\n",
            " 80%|███████▉  | 688/864 [1:09:49<10:50,  3.70s/it]\u001b[A\n",
            " 80%|███████▉  | 689/864 [1:10:09<24:48,  8.51s/it]\u001b[A\n",
            " 80%|███████▉  | 690/864 [1:10:11<18:54,  6.52s/it]\u001b[A\n",
            " 80%|███████▉  | 691/864 [1:10:12<14:20,  4.98s/it]\u001b[A\n",
            " 80%|████████  | 692/864 [1:10:19<15:23,  5.37s/it]\u001b[A\n",
            " 80%|████████  | 693/864 [1:10:20<11:42,  4.11s/it]\u001b[A\n",
            " 80%|████████  | 694/864 [1:10:23<11:11,  3.95s/it]\u001b[A\n",
            " 80%|████████  | 695/864 [1:10:26<09:41,  3.44s/it]\u001b[A\n",
            " 81%|████████  | 696/864 [1:10:38<16:41,  5.96s/it]\u001b[A\n",
            " 81%|████████  | 697/864 [1:10:40<13:41,  4.92s/it]\u001b[A\n",
            " 81%|████████  | 698/864 [1:10:42<10:52,  3.93s/it]\u001b[A\n",
            " 81%|████████  | 699/864 [1:10:44<09:22,  3.41s/it]\u001b[A\n",
            " 81%|████████  | 700/864 [1:10:47<09:20,  3.42s/it]\u001b[A\n",
            " 81%|████████  | 701/864 [1:10:48<07:26,  2.74s/it]\u001b[A\n",
            " 81%|████████▏ | 702/864 [1:10:53<08:36,  3.19s/it]\u001b[A\n",
            " 81%|████████▏ | 703/864 [1:10:59<10:49,  4.03s/it]\u001b[A\n",
            " 81%|████████▏ | 704/864 [1:11:00<08:57,  3.36s/it]\u001b[A\n",
            " 82%|████████▏ | 705/864 [1:11:03<08:00,  3.02s/it]\u001b[A\n",
            " 82%|████████▏ | 706/864 [1:11:09<10:53,  4.13s/it]\u001b[A\n",
            " 82%|████████▏ | 707/864 [1:11:11<08:37,  3.30s/it]\u001b[A\n",
            " 82%|████████▏ | 708/864 [1:11:15<08:56,  3.44s/it]\u001b[A\n",
            " 82%|████████▏ | 709/864 [1:11:25<14:27,  5.60s/it]\u001b[A\n",
            " 82%|████████▏ | 710/864 [1:11:27<11:47,  4.59s/it]\u001b[A\n",
            " 82%|████████▏ | 711/864 [1:11:33<12:23,  4.86s/it]\u001b[A\n",
            " 82%|████████▏ | 712/864 [1:11:35<10:23,  4.11s/it]\u001b[A\n",
            " 83%|████████▎ | 713/864 [1:11:37<08:32,  3.39s/it]\u001b[A\n",
            " 83%|████████▎ | 714/864 [1:11:40<08:27,  3.39s/it]\u001b[A\n",
            " 83%|████████▎ | 715/864 [1:11:47<10:41,  4.30s/it]\u001b[A\n",
            " 83%|████████▎ | 716/864 [1:11:48<08:19,  3.37s/it]\u001b[A\n",
            " 83%|████████▎ | 717/864 [1:11:52<08:31,  3.48s/it]\u001b[A\n",
            " 83%|████████▎ | 718/864 [1:11:54<07:12,  2.96s/it]\u001b[A\n",
            " 83%|████████▎ | 719/864 [1:11:55<06:20,  2.62s/it]\u001b[A\n",
            " 83%|████████▎ | 720/864 [1:12:17<19:42,  8.21s/it]\u001b[A\n",
            " 83%|████████▎ | 721/864 [1:12:27<21:01,  8.82s/it]\u001b[A\n",
            " 84%|████████▎ | 722/864 [1:12:39<22:56,  9.70s/it]\u001b[A\n",
            " 84%|████████▎ | 723/864 [1:12:42<18:42,  7.96s/it]\u001b[A\n",
            " 84%|████████▍ | 724/864 [1:12:49<17:46,  7.62s/it]\u001b[A\n",
            " 84%|████████▍ | 725/864 [1:12:53<14:35,  6.30s/it]\u001b[A\n",
            " 84%|████████▍ | 726/864 [1:12:56<12:46,  5.55s/it]\u001b[A\n",
            " 84%|████████▍ | 727/864 [1:13:00<11:30,  5.04s/it]\u001b[A\n",
            " 84%|████████▍ | 728/864 [1:13:07<12:26,  5.49s/it]\u001b[A\n",
            " 84%|████████▍ | 729/864 [1:13:12<12:21,  5.49s/it]\u001b[A\n",
            " 84%|████████▍ | 730/864 [1:13:14<09:45,  4.37s/it]\u001b[A\n",
            " 85%|████████▍ | 731/864 [1:13:15<07:44,  3.49s/it]\u001b[A\n",
            " 85%|████████▍ | 732/864 [1:13:26<12:15,  5.57s/it]\u001b[A\n",
            " 85%|████████▍ | 733/864 [1:13:28<09:57,  4.56s/it]\u001b[A\n",
            " 85%|████████▍ | 734/864 [1:13:29<07:38,  3.53s/it]\u001b[A\n",
            " 85%|████████▌ | 735/864 [1:13:33<07:48,  3.63s/it]\u001b[A\n",
            " 85%|████████▌ | 736/864 [1:13:34<06:09,  2.88s/it]\u001b[A\n",
            " 85%|████████▌ | 737/864 [1:13:44<10:42,  5.06s/it]\u001b[A\n",
            " 85%|████████▌ | 738/864 [1:13:49<10:07,  4.82s/it]\u001b[A\n",
            " 86%|████████▌ | 739/864 [1:13:50<07:44,  3.72s/it]\u001b[A\n",
            " 86%|████████▌ | 740/864 [1:13:55<08:45,  4.24s/it]\u001b[A\n",
            " 86%|████████▌ | 741/864 [1:13:57<07:10,  3.50s/it]\u001b[A\n",
            " 86%|████████▌ | 742/864 [1:14:03<08:51,  4.35s/it]\u001b[A\n",
            " 86%|████████▌ | 743/864 [1:14:10<10:01,  4.97s/it]\u001b[A\n",
            " 86%|████████▌ | 744/864 [1:14:21<13:53,  6.94s/it]\u001b[A\n",
            " 86%|████████▌ | 745/864 [1:14:25<12:02,  6.07s/it]\u001b[A\n",
            " 86%|████████▋ | 746/864 [1:14:29<10:37,  5.41s/it]\u001b[A\n",
            " 86%|████████▋ | 747/864 [1:14:31<08:37,  4.42s/it]\u001b[A\n",
            " 87%|████████▋ | 748/864 [1:14:33<06:45,  3.50s/it]\u001b[A\n",
            " 87%|████████▋ | 749/864 [1:14:53<16:15,  8.48s/it]\u001b[A\n",
            " 87%|████████▋ | 750/864 [1:14:55<12:36,  6.63s/it]\u001b[A\n",
            " 87%|████████▋ | 751/864 [1:15:06<15:03,  8.00s/it]\u001b[A\n",
            " 87%|████████▋ | 752/864 [1:15:08<11:27,  6.14s/it]\u001b[A\n",
            " 87%|████████▋ | 753/864 [1:15:15<11:40,  6.31s/it]\u001b[A\n",
            " 87%|████████▋ | 754/864 [1:15:16<08:45,  4.78s/it]\u001b[A\n",
            " 87%|████████▋ | 755/864 [1:15:22<09:07,  5.03s/it]\u001b[A\n",
            " 88%|████████▊ | 756/864 [1:15:28<09:45,  5.42s/it]\u001b[A\n",
            " 88%|████████▊ | 757/864 [1:15:33<09:35,  5.38s/it]\u001b[A\n",
            " 88%|████████▊ | 758/864 [1:15:39<09:57,  5.64s/it]\u001b[A\n",
            " 88%|████████▊ | 759/864 [1:15:46<10:33,  6.03s/it]\u001b[A\n",
            " 88%|████████▊ | 760/864 [1:15:53<10:37,  6.13s/it]\u001b[A\n",
            " 88%|████████▊ | 761/864 [1:15:55<08:32,  4.98s/it]\u001b[A\n",
            " 88%|████████▊ | 762/864 [1:15:59<07:51,  4.62s/it]\u001b[A\n",
            " 88%|████████▊ | 763/864 [1:16:10<10:55,  6.49s/it]\u001b[A\n",
            " 88%|████████▊ | 764/864 [1:16:15<10:18,  6.19s/it]\u001b[A\n",
            " 89%|████████▊ | 765/864 [1:16:17<08:04,  4.89s/it]\u001b[A\n",
            " 89%|████████▊ | 766/864 [1:16:37<15:15,  9.34s/it]\u001b[A\n",
            " 89%|████████▉ | 767/864 [1:16:39<11:54,  7.36s/it]\u001b[A\n",
            " 89%|████████▉ | 768/864 [1:16:46<11:18,  7.06s/it]\u001b[A\n",
            " 89%|████████▉ | 769/864 [1:16:49<09:24,  5.94s/it]\u001b[A\n",
            " 89%|████████▉ | 770/864 [1:17:01<11:54,  7.60s/it]\u001b[A\n",
            " 89%|████████▉ | 771/864 [1:17:04<09:50,  6.35s/it]\u001b[A\n",
            " 89%|████████▉ | 772/864 [1:17:25<16:22, 10.68s/it]\u001b[A\n",
            " 89%|████████▉ | 773/864 [1:17:36<16:14, 10.71s/it]\u001b[A\n",
            " 90%|████████▉ | 774/864 [1:17:42<13:58,  9.31s/it]\u001b[A\n",
            " 90%|████████▉ | 775/864 [1:17:48<12:16,  8.28s/it]\u001b[A\n",
            " 90%|████████▉ | 776/864 [1:17:49<09:14,  6.30s/it]\u001b[A\n",
            " 90%|████████▉ | 777/864 [1:17:53<07:52,  5.44s/it]\u001b[A\n",
            " 90%|█████████ | 778/864 [1:17:58<07:58,  5.56s/it]\u001b[A\n",
            " 90%|█████████ | 779/864 [1:18:19<14:11, 10.01s/it]\u001b[A\n",
            " 90%|█████████ | 780/864 [1:18:29<14:06, 10.08s/it]\u001b[A\n",
            " 90%|█████████ | 781/864 [1:18:40<14:16, 10.32s/it]\u001b[A\n",
            " 91%|█████████ | 782/864 [1:18:44<11:30,  8.42s/it]\u001b[A\n",
            " 91%|█████████ | 783/864 [1:18:46<08:48,  6.52s/it]\u001b[A\n",
            " 91%|█████████ | 784/864 [1:18:48<06:39,  4.99s/it]\u001b[A\n",
            " 91%|█████████ | 785/864 [1:18:58<08:50,  6.71s/it]\u001b[A\n",
            " 91%|█████████ | 786/864 [1:19:00<06:37,  5.10s/it]\u001b[A\n",
            " 91%|█████████ | 787/864 [1:19:02<05:28,  4.27s/it]\u001b[A\n",
            " 91%|█████████ | 788/864 [1:19:08<06:16,  4.95s/it]\u001b[A\n",
            " 91%|█████████▏| 789/864 [1:19:11<05:22,  4.30s/it]\u001b[A\n",
            " 91%|█████████▏| 790/864 [1:19:17<05:50,  4.74s/it]\u001b[A\n",
            " 92%|█████████▏| 791/864 [1:19:18<04:28,  3.67s/it]\u001b[A\n",
            " 92%|█████████▏| 792/864 [1:19:21<04:03,  3.38s/it]\u001b[A\n",
            " 92%|█████████▏| 793/864 [1:19:23<03:37,  3.06s/it]\u001b[A\n",
            " 92%|█████████▏| 794/864 [1:19:25<02:59,  2.56s/it]\u001b[A\n",
            " 92%|█████████▏| 795/864 [1:19:44<08:46,  7.63s/it]\u001b[A\n",
            " 92%|█████████▏| 796/864 [1:19:51<08:18,  7.33s/it]\u001b[A\n",
            " 92%|█████████▏| 797/864 [1:20:01<09:20,  8.37s/it]\u001b[A\n",
            " 92%|█████████▏| 798/864 [1:20:08<08:29,  7.71s/it]\u001b[A\n",
            " 92%|█████████▏| 799/864 [1:20:14<07:48,  7.21s/it]\u001b[A\n",
            " 93%|█████████▎| 800/864 [1:20:15<05:56,  5.58s/it]\u001b[A\n",
            " 93%|█████████▎| 801/864 [1:20:18<04:45,  4.53s/it]\u001b[A\n",
            " 93%|█████████▎| 802/864 [1:20:23<05:06,  4.94s/it]\u001b[A\n",
            " 93%|█████████▎| 803/864 [1:20:25<04:03,  3.98s/it]\u001b[A\n",
            " 93%|█████████▎| 804/864 [1:20:31<04:33,  4.57s/it]\u001b[A\n",
            " 93%|█████████▎| 805/864 [1:20:35<04:08,  4.22s/it]\u001b[A\n",
            " 93%|█████████▎| 806/864 [1:20:41<04:44,  4.91s/it]\u001b[A\n",
            " 93%|█████████▎| 807/864 [1:20:47<04:56,  5.20s/it]\u001b[A\n",
            " 94%|█████████▎| 808/864 [1:20:58<06:29,  6.95s/it]\u001b[A\n",
            " 94%|█████████▎| 809/864 [1:21:08<07:20,  8.02s/it]\u001b[A\n",
            " 94%|█████████▍| 810/864 [1:21:10<05:28,  6.08s/it]\u001b[A\n",
            " 94%|█████████▍| 811/864 [1:21:21<06:33,  7.43s/it]\u001b[A\n",
            " 94%|█████████▍| 812/864 [1:21:24<05:30,  6.35s/it]\u001b[A\n",
            " 94%|█████████▍| 813/864 [1:21:28<04:44,  5.57s/it]\u001b[A\n",
            " 94%|█████████▍| 814/864 [1:21:31<04:05,  4.90s/it]\u001b[A\n",
            " 94%|█████████▍| 815/864 [1:21:33<03:05,  3.78s/it]\u001b[A\n",
            " 94%|█████████▍| 816/864 [1:21:34<02:32,  3.18s/it]\u001b[A\n",
            " 95%|█████████▍| 817/864 [1:21:41<03:13,  4.12s/it]\u001b[A\n",
            " 95%|█████████▍| 818/864 [1:21:48<03:45,  4.91s/it]\u001b[A\n",
            " 95%|█████████▍| 819/864 [1:21:50<03:06,  4.15s/it]\u001b[A\n",
            " 95%|█████████▍| 820/864 [1:21:53<02:42,  3.70s/it]\u001b[A\n",
            " 95%|█████████▌| 821/864 [1:21:54<02:14,  3.13s/it]\u001b[A\n",
            " 95%|█████████▌| 822/864 [1:21:58<02:13,  3.17s/it]\u001b[A\n",
            " 95%|█████████▌| 823/864 [1:21:59<01:43,  2.53s/it]\u001b[A\n",
            " 95%|█████████▌| 824/864 [1:22:02<01:55,  2.90s/it]\u001b[A\n",
            " 95%|█████████▌| 825/864 [1:22:22<05:06,  7.87s/it]\u001b[A\n",
            " 96%|█████████▌| 826/864 [1:22:27<04:31,  7.16s/it]\u001b[A\n",
            " 96%|█████████▌| 827/864 [1:22:39<05:10,  8.40s/it]\u001b[A\n",
            " 96%|█████████▌| 828/864 [1:22:40<03:49,  6.38s/it]\u001b[A\n",
            " 96%|█████████▌| 829/864 [1:22:50<04:19,  7.43s/it]\u001b[A\n",
            " 96%|█████████▌| 830/864 [1:22:52<03:19,  5.86s/it]\u001b[A\n",
            " 96%|█████████▌| 831/864 [1:23:04<04:06,  7.48s/it]\u001b[A\n",
            " 96%|█████████▋| 832/864 [1:23:07<03:24,  6.38s/it]\u001b[A\n",
            " 96%|█████████▋| 833/864 [1:23:11<02:50,  5.51s/it]\u001b[A\n",
            " 97%|█████████▋| 834/864 [1:23:24<03:49,  7.66s/it]\u001b[A\n",
            " 97%|█████████▋| 835/864 [1:23:29<03:23,  7.01s/it]\u001b[A\n",
            " 97%|█████████▋| 836/864 [1:23:35<03:09,  6.77s/it]\u001b[A\n",
            " 97%|█████████▋| 837/864 [1:23:55<04:45, 10.57s/it]\u001b[A\n",
            " 97%|█████████▋| 838/864 [1:24:01<03:58,  9.17s/it]\u001b[A\n",
            " 97%|█████████▋| 839/864 [1:24:02<02:50,  6.84s/it]\u001b[A\n",
            " 97%|█████████▋| 840/864 [1:24:03<02:02,  5.11s/it]\u001b[A\n",
            " 97%|█████████▋| 841/864 [1:24:09<02:05,  5.45s/it]\u001b[A\n",
            " 97%|█████████▋| 842/864 [1:24:20<02:36,  7.11s/it]\u001b[A\n",
            " 98%|█████████▊| 843/864 [1:24:42<03:57, 11.31s/it]\u001b[A\n",
            " 98%|█████████▊| 844/864 [1:24:48<03:15,  9.80s/it]\u001b[A\n",
            " 98%|█████████▊| 845/864 [1:24:49<02:16,  7.21s/it]\u001b[A\n",
            " 98%|█████████▊| 846/864 [1:24:59<02:25,  8.06s/it]\u001b[A\n",
            " 98%|█████████▊| 847/864 [1:25:05<02:04,  7.34s/it]\u001b[A\n",
            " 98%|█████████▊| 848/864 [1:25:16<02:14,  8.42s/it]\u001b[A\n",
            " 98%|█████████▊| 849/864 [1:25:19<01:44,  6.98s/it]\u001b[A\n",
            " 98%|█████████▊| 850/864 [1:25:30<01:53,  8.13s/it]\u001b[A\n",
            " 98%|█████████▊| 851/864 [1:25:51<02:35, 11.96s/it]\u001b[A\n",
            " 99%|█████████▊| 852/864 [1:25:58<02:04, 10.39s/it]\u001b[A\n",
            " 99%|█████████▊| 853/864 [1:26:05<01:42,  9.34s/it]\u001b[A\n",
            " 99%|█████████▉| 854/864 [1:26:11<01:24,  8.43s/it]\u001b[A\n",
            " 99%|█████████▉| 855/864 [1:26:17<01:09,  7.72s/it]\u001b[A\n",
            " 99%|█████████▉| 856/864 [1:26:24<00:59,  7.46s/it]\u001b[A\n",
            " 99%|█████████▉| 857/864 [1:26:26<00:40,  5.85s/it]\u001b[A\n",
            " 99%|█████████▉| 858/864 [1:26:37<00:45,  7.55s/it]\u001b[A\n",
            " 99%|█████████▉| 859/864 [1:26:40<00:30,  6.08s/it]\u001b[A\n",
            "100%|█████████▉| 860/864 [1:26:46<00:24,  6.06s/it]\u001b[A\n",
            "100%|█████████▉| 861/864 [1:27:07<00:31, 10.51s/it]\u001b[A\n",
            "100%|█████████▉| 862/864 [1:27:09<00:15,  7.88s/it]\u001b[A\n",
            "100%|█████████▉| 863/864 [1:27:29<00:11, 11.47s/it]\u001b[A\n",
            "100%|██████████| 864/864 [1:27:30<00:00,  8.42s/it]\u001b[A\n",
            "\u001b[A"
          ],
          "name": "stderr"
        }
      ]
    },
    {
      "metadata": {
        "id": "vzXz0OXr66kG",
        "colab_type": "text"
      },
      "cell_type": "markdown",
      "source": [
        "## Accessing the results through the Scan object\n",
        "The scan object saves all the necessary information for analysis and deployment\n",
        "**See source code at** https://github.com/autonomio/talos/blob/daily-dev/talos/scan/Scan.py"
      ]
    },
    {
      "metadata": {
        "id": "3jLhYJQ4t5lQ",
        "colab_type": "code",
        "colab": {}
      },
      "cell_type": "code",
      "source": [
        "# accessing the results data frame\n",
        "h.data[0:3]"
      ],
      "execution_count": 0,
      "outputs": []
    },
    {
      "metadata": {
        "id": "DkT24zd8xE3Z",
        "colab_type": "code",
        "colab": {}
      },
      "cell_type": "code",
      "source": [
        "# sort by criteria\n",
        "# h.data.sort_values('val_acc')"
      ],
      "execution_count": 0,
      "outputs": []
    },
    {
      "metadata": {
        "id": "P_eM9y8RiyfJ",
        "colab_type": "code",
        "colab": {}
      },
      "cell_type": "code",
      "source": [
        "# Best model based on training criteria \"val_acc\"\n",
        "# see source code to use https://github.com/autonomio/talos/blob/master/talos/utils/best_model.py\n",
        "\n",
        "criteria = 'acc'\n",
        "\n",
        "# get best model id from the scan object based on some acc measure\n",
        "model_id = best_model(h, criteria, False)\n",
        "# activate best model based on model id\n",
        "model = activate_model(h, model_id)\n",
        "# makes probability predictions based on weights from best model\n",
        "print(model.predict(x_test)[0:1,]) # print first value\n",
        "# makes class predictions based on weights from best model\n",
        "print(model.predict_classes(x_test)[0:9,]) # print first 10\n",
        "\n",
        "# All in one line\n",
        "# activate_model(scan_object, best_model(scan_object, 'val_acc', False)).predict(X)"
      ],
      "execution_count": 0,
      "outputs": []
    },
    {
      "metadata": {
        "id": "Jps9bGEtuC0w",
        "colab_type": "code",
        "colab": {}
      },
      "cell_type": "code",
      "source": [
        "# accessing epoch entropy values for each round\n",
        "h.peak_epochs_df[0:5] # print first 5 rows"
      ],
      "execution_count": 0,
      "outputs": []
    },
    {
      "metadata": {
        "id": "6n2YlqKLuH1R",
        "colab_type": "code",
        "colab": {}
      },
      "cell_type": "code",
      "source": [
        "# access the summary details\n",
        "h.details"
      ],
      "execution_count": 0,
      "outputs": []
    },
    {
      "metadata": {
        "id": "TuCWhUXauTNt",
        "colab_type": "code",
        "colab": {}
      },
      "cell_type": "code",
      "source": [
        "# accessing the saved models\n",
        "h.saved_models[0] # print first model"
      ],
      "execution_count": 0,
      "outputs": []
    },
    {
      "metadata": {
        "id": "iIySufgBuWNM",
        "colab_type": "code",
        "colab": {}
      },
      "cell_type": "code",
      "source": [
        "# accessing the saved weights for models\n",
        "# h.saved_weights[0] # print weights first model"
      ],
      "execution_count": 0,
      "outputs": []
    },
    {
      "metadata": {
        "id": "yF0EJL-cfvB7",
        "colab_type": "text"
      },
      "cell_type": "markdown",
      "source": [
        "## Reporting optimization\n",
        "In the Scan process, the results are stored round-by-round in the corresponding experiment log which is a .csv file stored in the present working directory. The Reporting() accepts as its source either a file name, or the Scan object.\n",
        "\n",
        "**See source code to dcide how to use this command** \n",
        "https://github.com/autonomio/talos/blob/daily-dev/talos/commands/reporting.py "
      ]
    },
    {
      "metadata": {
        "id": "vUSL0U1muiuK",
        "colab_type": "code",
        "colab": {}
      },
      "cell_type": "code",
      "source": [
        "# use Scan object as input\n",
        "r = ta.Reporting(h) # creates report object from scan object\n",
        "#r = ta.Reporting('Draw_a_person_experiment_3.csv')"
      ],
      "execution_count": 0,
      "outputs": []
    },
    {
      "metadata": {
        "id": "ZT5SHcUdux56",
        "colab_type": "code",
        "colab": {}
      },
      "cell_type": "code",
      "source": [
        "# access the dataframe with the results\n",
        "r.data[0:3]"
      ],
      "execution_count": 0,
      "outputs": []
    },
    {
      "metadata": {
        "id": "-Os1t3GKu5VA",
        "colab_type": "code",
        "outputId": "4717d7d1-a273-437f-d7f1-e936f2d9a1d9",
        "colab": {
          "base_uri": "https://localhost:8080/",
          "height": 35
        }
      },
      "cell_type": "code",
      "source": [
        "# get the number of rounds in the Scan\n",
        "r.rounds()"
      ],
      "execution_count": 0,
      "outputs": [
        {
          "output_type": "execute_result",
          "data": {
            "text/plain": [
              "2160"
            ]
          },
          "metadata": {
            "tags": []
          },
          "execution_count": 190
        }
      ]
    },
    {
      "metadata": {
        "id": "SmBCauXmu74R",
        "colab_type": "code",
        "outputId": "9bc3be40-fd34-4928-f8f9-b1d301dbb44d",
        "colab": {
          "base_uri": "https://localhost:8080/",
          "height": 35
        }
      },
      "cell_type": "code",
      "source": [
        "# get the highest result ('val_acc' by default)\n",
        "r.high()"
      ],
      "execution_count": 0,
      "outputs": [
        {
          "output_type": "execute_result",
          "data": {
            "text/plain": [
              "0.9879518187189676"
            ]
          },
          "metadata": {
            "tags": []
          },
          "execution_count": 191
        }
      ]
    },
    {
      "metadata": {
        "id": "_ZPQqpf9u_FK",
        "colab_type": "code",
        "outputId": "bb23f5b3-86d3-4e9e-870e-cd55cda09603",
        "colab": {
          "base_uri": "https://localhost:8080/",
          "height": 121
        }
      },
      "cell_type": "code",
      "source": [
        "# get the highest result for any metric\n",
        "print(\"F-measure accuracy:\", r.high('val_fmeasure_acc'))\n",
        "print(\"Training accuracy:\", r.high('acc'))\n",
        "print(\"Validation accuracy:\", r.high('val_acc'))\n",
        "print(\"Validation recall accuracy:\", r.high('val_recall_acc'))\n",
        "print(\"Validation precision accuracy:\", r.high('val_precision_acc'))\n",
        "print(\"Validation matthews correlation accuracy:\", r.high('val_matthews_correlation_acc'))"
      ],
      "execution_count": 0,
      "outputs": [
        {
          "output_type": "stream",
          "text": [
            "F-measure accuracy: 0.9887923734733858\n",
            "Training accuracy: 1.0\n",
            "Validation accuracy: 0.9879518187189676\n",
            "Validation recall accuracy: 1.0\n",
            "Validation precision accuracy: 1.0\n",
            "Validation matthews correlation accuracy: 0.9763615447354604\n"
          ],
          "name": "stdout"
        }
      ]
    },
    {
      "metadata": {
        "id": "Hf-EDDDgvBFs",
        "colab_type": "code",
        "outputId": "99056998-4fe0-42b4-db8d-f0ed1117122c",
        "colab": {
          "base_uri": "https://localhost:8080/",
          "height": 121
        }
      },
      "cell_type": "code",
      "source": [
        "# get the round with the best result\n",
        "\n",
        "print(\"F-measure accuracy best round:\", r.rounds2high('val_fmeasure_acc'))\n",
        "print(\"Training accuracy best round:\", r.rounds2high('acc'))\n",
        "print(\"Validation accuracy best round:\", r.rounds2high('val_acc'))\n",
        "print(\"Validation recall accuracy best round:\", r.rounds2high('val_recall_acc'))\n",
        "print(\"Validation precision accuracy best round:\", r.rounds2high('val_precision_acc'))\n",
        "print(\"Validation matthews correlation accuracy best round:\", r.rounds2high('val_matthews_correlation_acc'))"
      ],
      "execution_count": 0,
      "outputs": [
        {
          "output_type": "stream",
          "text": [
            "F-measure accuracy best round: 99\n",
            "Training accuracy best round: 29\n",
            "Validation accuracy best round: 99\n",
            "Validation recall accuracy best round: 0\n",
            "Validation precision accuracy best round: 43\n",
            "Validation matthews correlation accuracy best round: 99\n"
          ],
          "name": "stdout"
        }
      ]
    },
    {
      "metadata": {
        "id": "jsmR6_o0vZXh",
        "colab_type": "code",
        "outputId": "dcf9f2a6-58f9-43c1-9d20-535934c57dc6",
        "colab": {
          "base_uri": "https://localhost:8080/",
          "height": 780
        }
      },
      "cell_type": "code",
      "source": [
        "# get correlation for hyperparameters against a metric\n",
        "print(\"Hyperparameters and f-measure accuracy\")\n",
        "print(r.correlate('val_fmeasure_acc'),\"\\n\")\n",
        "print(\"Hyperparameters and validation loss\")\n",
        "print(r.correlate('val_loss'),\"\\n\")\n",
        "print(\"Hyperparameters and validation accuracy\")\n",
        "print(r.correlate('val_acc'),\"\\n\")\n",
        "print(\"Hyperparameters and recall accuracy\")\n",
        "print(r.correlate('val_recall_acc'),\"\\n\")\n",
        "print(\"Hyperparameters and precision accuracy\")\n",
        "print(r.correlate('val_precision_acc'))"
      ],
      "execution_count": 0,
      "outputs": [
        {
          "output_type": "stream",
          "text": [
            "Hyperparameters and f-measure accuracy\n",
            "first_neuron     0.146144\n",
            "hidden_layers    0.005349\n",
            "batch_size      -0.045891\n",
            "epochs           0.190069\n",
            "dropout         -0.003413\n",
            "lr               0.396140\n",
            "Name: val_fmeasure_acc, dtype: float64 \n",
            "\n",
            "Hyperparameters and validation loss\n",
            "first_neuron    -0.135657\n",
            "hidden_layers    0.015102\n",
            "batch_size       0.146555\n",
            "epochs          -0.334908\n",
            "dropout          0.022795\n",
            "lr              -0.402029\n",
            "Name: val_loss, dtype: float64 \n",
            "\n",
            "Hyperparameters and validation accuracy\n",
            "first_neuron     0.187517\n",
            "hidden_layers    0.019827\n",
            "batch_size      -0.108949\n",
            "epochs           0.294629\n",
            "dropout         -0.033471\n",
            "lr               0.653550\n",
            "Name: val_acc, dtype: float64 \n",
            "\n",
            "Hyperparameters and recall accuracy\n",
            "first_neuron     0.110033\n",
            "hidden_layers   -0.000950\n",
            "batch_size      -0.036814\n",
            "epochs           0.130875\n",
            "dropout          0.018991\n",
            "lr               0.289289\n",
            "Name: val_recall_acc, dtype: float64 \n",
            "\n",
            "Hyperparameters and precision accuracy\n",
            "first_neuron     0.166516\n",
            "hidden_layers    0.016800\n",
            "batch_size      -0.046671\n",
            "epochs           0.226966\n",
            "dropout         -0.027435\n",
            "lr               0.490415\n",
            "Name: val_precision_acc, dtype: float64\n"
          ],
          "name": "stdout"
        }
      ]
    },
    {
      "metadata": {
        "id": "HMrXRoMHFfde",
        "colab_type": "code",
        "colab": {}
      },
      "cell_type": "code",
      "source": [
        "# access the row with the highest f-measure validation value\n",
        "h_value = r.high('val_fmeasure_acc')\n",
        "r.data.loc[r.data['val_fmeasure_acc'] == h_value]"
      ],
      "execution_count": 0,
      "outputs": []
    },
    {
      "metadata": {
        "id": "RGlss-RFvKYt",
        "colab_type": "code",
        "colab": {}
      },
      "cell_type": "code",
      "source": [
        "# get the best paramaters\n",
        "r.best_params(n=3) # return the best 3 sets of params"
      ],
      "execution_count": 0,
      "outputs": []
    },
    {
      "metadata": {
        "id": "4GaRG2g5vhxl",
        "colab_type": "code",
        "outputId": "0fb29475-7b80-4e12-dff7-abcc100c5425",
        "colab": {
          "base_uri": "https://localhost:8080/",
          "height": 481
        }
      },
      "cell_type": "code",
      "source": [
        "# a regression plot for two dimensions \n",
        "r.plot_regs(\"val_acc\", \"epochs\")"
      ],
      "execution_count": 0,
      "outputs": [
        {
          "output_type": "display_data",
          "data": {
            "image/png": "[encoded data removed]",
            "text/plain": [
              "<Figure size 720x475.2 with 1 Axes>"
            ]
          },
          "metadata": {
            "tags": []
          }
        }
      ]
    },
    {
      "metadata": {
        "id": "BwlX1zsFaEz2",
        "colab_type": "code",
        "outputId": "f9cbb441-da2f-4667-ba3c-913f17be817b",
        "colab": {
          "base_uri": "https://localhost:8080/",
          "height": 518
        }
      },
      "cell_type": "code",
      "source": [
        "# line plot\n",
        "print(r.plot_line(\"val_acc\"))"
      ],
      "execution_count": 0,
      "outputs": [
        {
          "output_type": "stream",
          "text": [
            "None\n"
          ],
          "name": "stdout"
        },
        {
          "output_type": "display_data",
          "data": {
            "image/png": "[encoded data removed]",
            "text/plain": [
              "<Figure size 864x475.2 with 1 Axes>"
            ]
          },
          "metadata": {
            "tags": []
          }
        }
      ]
    },
    {
      "metadata": {
        "id": "ZRgsw8x5wEnx",
        "colab_type": "code",
        "outputId": "6c834b31-02da-47b4-853e-1d992e55d0df",
        "colab": {
          "base_uri": "https://localhost:8080/",
          "height": 481
        }
      },
      "cell_type": "code",
      "source": [
        "# up to two dimensional kernel density estimator\n",
        "r.plot_kde(\"epochs\",\"val_acc\")"
      ],
      "execution_count": 0,
      "outputs": [
        {
          "output_type": "display_data",
          "data": {
            "image/png": "[encoded data removed]",
            "text/plain": [
              "<Figure size 720x475.2 with 1 Axes>"
            ]
          },
          "metadata": {
            "tags": []
          }
        }
      ]
    },
    {
      "metadata": {
        "id": "rMRhX83oxIv4",
        "colab_type": "code",
        "outputId": "3d98455b-52dd-4df1-9c5c-d7221550f1a8",
        "colab": {
          "base_uri": "https://localhost:8080/",
          "height": 481
        }
      },
      "cell_type": "code",
      "source": [
        "# a simple histogram\n",
        "r.plot_hist(bins=50)"
      ],
      "execution_count": 0,
      "outputs": [
        {
          "output_type": "display_data",
          "data": {
            "image/png": "[encoded data removed]",
            "text/plain": [
              "<Figure size 720x475.2 with 1 Axes>"
            ]
          },
          "metadata": {
            "tags": []
          }
        }
      ]
    },
    {
      "metadata": {
        "id": "QsM9EKRxxNf1",
        "colab_type": "code",
        "outputId": "e8941cb2-f7cd-4be4-ab3b-44644593cdc5",
        "colab": {
          "base_uri": "https://localhost:8080/",
          "height": 313
        }
      },
      "cell_type": "code",
      "source": [
        "# a four dimensional bar grid\n",
        "r.plot_bars('batch_size', 'val_acc', 'first_neuron', 'lr')"
      ],
      "execution_count": 0,
      "outputs": [
        {
          "output_type": "display_data",
          "data": {
            "image/png": "[encoded data removed]",
            "text/plain": [
              "<Figure size 1218.25x288 with 4 Axes>"
            ]
          },
          "metadata": {
            "tags": []
          }
        }
      ]
    },
    {
      "metadata": {
        "id": "YeXKG6T51GH3",
        "colab_type": "text"
      },
      "cell_type": "markdown",
      "source": [
        "## Evaluating models\n",
        "Models can be evaluated with Evaluate() against a k-fold cross-validation. Ideally at least 50% of the data, or more if possible, is kept completely out of the Scan process and only exposed into Evaluate once one or more candidate models have been identified.\n",
        "\n",
        "**See source code at** https://github.com/autonomio/talos/blob/daily-dev/talos/commands/evaluate.py\n"
      ]
    },
    {
      "metadata": {
        "id": "nJzqujxIdWgy",
        "colab_type": "code",
        "colab": {}
      },
      "cell_type": "code",
      "source": [
        "# k-fols crossvalidation with 10 folds, from test data\n",
        "# we're going to validate using the f-measure or harmonic mean since \n",
        "# combines precision and recall (optimize on that)\n",
        "# https://en.wikipedia.org/wiki/Precision_and_recall#F-measure\n",
        "\n",
        "e = ta.Evaluate(h)\n",
        "\n",
        "e.evaluate(x=x_test, y=y_test,\n",
        "           folds=10,\n",
        "           shuffle=True,\n",
        "           metric='val_fmeasure_acc',\n",
        "           mode='binary',\n",
        "           print_out=True)"
      ],
      "execution_count": 0,
      "outputs": []
    },
    {
      "metadata": {
        "id": "4-DAUSyPfIkS",
        "colab_type": "text"
      },
      "cell_type": "markdown",
      "source": [
        "## Evaluating model on test set"
      ]
    },
    {
      "metadata": {
        "id": "_KbTwElFfXgM",
        "colab_type": "text"
      },
      "cell_type": "markdown",
      "source": [
        "### Classification report AND Confusion matrix\n",
        "\n",
        "Here we will iterate over all possible evaluation criteria to generate a matrix of confusion matrices. Each evaluation criteria (acc, val_acc, etc.) index the round (model) with the highest value on that criteria from all the trained models.\n",
        "\n",
        "After model selection, we make predictions on the test set. The results for the confusion matrix and the classification report are storaged in a pandas dataframe for each model-criteria pair. \n",
        "\n",
        "- **accuracy:** true positives + true negatives/ total results OR OR *“for all instances, what percent was correct?”*\n",
        "- **precision:** true positives / false positives + true positives OR *“for all instances classified positive, what percent was correct?”*\n",
        "- **recall:** true positives / true positives + false negatives   OR  “for all instances that were actually positive, what percent was classified correctly?”\n",
        "- **f1-score:** 2 * (precision * recall)/(precision + recall) // The F1 score is a weighted harmonic mean of precision and recall such that the best score is 1.0 and the worst is 0.0. \n",
        "-  **support:** is the number of actual occurrences of the class in the specified dataset. Imbalanced support in the training data may indicate structural weaknesses in the reported scores of the classifier and could indicate the need for stratified sampling or rebalancing\n",
        "\n",
        "**See documentation at** https://www.scikit-yb.org/en/latest/api/classifier/classification_report.html"
      ]
    },
    {
      "metadata": {
        "id": "gySzkULR_yXa",
        "colab_type": "code",
        "colab": {}
      },
      "cell_type": "code",
      "source": [
        "# Here we loop over the best models based on relevant criterias to build a \n",
        "# confusion matrix and classification report \n",
        "\n",
        "from sklearn.metrics import confusion_matrix\n",
        "from sklearn.metrics import classification_report\n",
        "from sklearn.metrics import accuracy_score\n",
        "from sklearn.metrics import average_precision_score\n",
        "from sklearn.metrics import matthews_corrcoef\n",
        "from sklearn.metrics import precision_recall_fscore_support as score\n",
        "\n",
        "import pandas as pd\n",
        "\n",
        "# for all (child and adult)\n",
        "true_neg_l = []\n",
        "false_pos_l = []\n",
        "false_neg_l = []\n",
        "true_pos_l = []\n",
        "matthews_l = []\n",
        "ave_precision_l = []\n",
        "accuracy_score_l = []\n",
        "\n",
        "\n",
        "# for child\n",
        "precision_l_c = []\n",
        "recall_l_c = []\n",
        "fscore_l_c = []\n",
        "support_l_c = []\n",
        "\n",
        "# for adult\n",
        "precision_l_a = []\n",
        "recall_l_a = []\n",
        "fscore_l_a = []\n",
        "support_l_a = []\n",
        "\n",
        "\n",
        "criteria_list= ['acc', 'fmeasure_acc', 'recall_acc', 'precision_acc', 'matthews_correlation_acc',\n",
        "               'val_acc', 'val_fmeasure_acc', 'val_recall_acc', 'val_precision_acc', 'val_matthews_correlation_acc']\n",
        "for criteria in criteria_list:\n",
        "  # get best model id from the scan object based on some acc measure\n",
        "  model_id = best_model(h, criteria, False)\n",
        "  # activate best model based on model id\n",
        "  model = activate_model(h, model_id)\n",
        "  \n",
        "  # predicted labels\n",
        "  y_pred = model.predict_classes(x_test) \n",
        "  # true labels\n",
        "  y_true = y_test \n",
        "  \n",
        "  # Extract confusion matrix values\n",
        "  true_neg, false_pos, false_neg, true_pos = confusion_matrix(y_true, y_pred).ravel()\n",
        "  true_neg_l.append(true_neg)\n",
        "  false_pos_l.append(false_pos)\n",
        "  false_neg_l.append(false_neg)\n",
        "  true_pos_l.append(true_pos)\n",
        "  \n",
        "  # extract \n",
        "  precision,recall,fscore,support = score(y_true,y_pred,average=None)\n",
        "  matthews = matthews_corrcoef(y_true, y_pred)  \n",
        "  ave_precision = average_precision_score(y_true, y_pred)\n",
        "  acc = accuracy_score(y_true, y_pred)\n",
        "  \n",
        "  # child data \n",
        "  precision_l_c.append(precision[0])\n",
        "  recall_l_c.append(recall[0])\n",
        "  fscore_l_c.append(fscore[0])\n",
        "  support_l_c.append(support[0])\n",
        "  \n",
        "  # adult data\n",
        "  precision_l_a.append(precision[1])\n",
        "  recall_l_a.append(recall[1])\n",
        "  fscore_l_a.append(fscore[1])\n",
        "  support_l_a.append(support[1])\n",
        "  \n",
        "  # matthews-score, ave-precision, total accuracy\n",
        "  matthews_l.append(matthews)\n",
        "  ave_precision_l.append(ave_precision)\n",
        "  accuracy_score_l.append(acc)\n",
        "\n",
        "labels = [\"True_Negatives\", \"False_Positives\", \"False_Negatives\", \"True_Positives\",\n",
        "          \"Precision_(Child)\", \"Recall_(Child)\", \"F-Score_(Child)\",\"Support_(Child)\",\n",
        "          \"Precision_(Adult)\", \"Recall_(Adult)\", \"F-Score_(Adult)\",\"Support_(adult)\",\n",
        "          \"Matthews_Score\", \"Average_Precision\", \"Accuracy_Score\"]\n",
        "\n",
        "data = list(zip(true_neg_l, false_pos_l, false_neg_l, true_pos_l, \n",
        "                precision_l_c, recall_l_c, fscore_l_c, support_l_c, \n",
        "                precision_l_a, recall_l_a, fscore_l_a, support_l_a, \n",
        "                matthews_l, ave_precision_l, accuracy_score_l))\n",
        "\n",
        "assert len(criteria_list) == len(data), \"criteria list and data don't match\"\n",
        "\n",
        "classification_report = pd.DataFrame(data, columns=labels, index =criteria_list )\n"
      ],
      "execution_count": 0,
      "outputs": []
    },
    {
      "metadata": {
        "id": "Nlhko36eL9VR",
        "colab_type": "code",
        "outputId": "3a07590f-acf0-4b45-977e-f47bc3f9c23b",
        "colab": {
          "base_uri": "https://localhost:8080/",
          "height": 393
        }
      },
      "cell_type": "code",
      "source": [
        "# Now we can look the report in one place\n",
        "classification_report \n",
        "# We can pick the one with the best numbers based on any criteria to deploy"
      ],
      "execution_count": 38,
      "outputs": [
        {
          "output_type": "execute_result",
          "data": {
            "text/html": [
              "<div>\n",
              "<style scoped>\n",
              "    .dataframe tbody tr th:only-of-type {\n",
              "        vertical-align: middle;\n",
              "    }\n",
              "\n",
              "    .dataframe tbody tr th {\n",
              "        vertical-align: top;\n",
              "    }\n",
              "\n",
              "    .dataframe thead th {\n",
              "        text-align: right;\n",
              "    }\n",
              "</style>\n",
              "<table border=\"1\" class=\"dataframe\">\n",
              "  <thead>\n",
              "    <tr style=\"text-align: right;\">\n",
              "      <th></th>\n",
              "      <th>True_Negatives</th>\n",
              "      <th>False_Positives</th>\n",
              "      <th>False_Negatives</th>\n",
              "      <th>True_Positives</th>\n",
              "      <th>Precision_(Child)</th>\n",
              "      <th>Recall_(Child)</th>\n",
              "      <th>F-Score_(Child)</th>\n",
              "      <th>Support_(Child)</th>\n",
              "      <th>Precision_(Adult)</th>\n",
              "      <th>Recall_(Adult)</th>\n",
              "      <th>F-Score_(Adult)</th>\n",
              "      <th>Support_(adult)</th>\n",
              "      <th>Matthews_Score</th>\n",
              "      <th>Average_Precision</th>\n",
              "      <th>Accuracy_Score</th>\n",
              "    </tr>\n",
              "  </thead>\n",
              "  <tbody>\n",
              "    <tr>\n",
              "      <th>acc</th>\n",
              "      <td>57</td>\n",
              "      <td>8</td>\n",
              "      <td>12</td>\n",
              "      <td>1</td>\n",
              "      <td>0.826087</td>\n",
              "      <td>0.876923</td>\n",
              "      <td>0.850746</td>\n",
              "      <td>65</td>\n",
              "      <td>0.111111</td>\n",
              "      <td>0.076923</td>\n",
              "      <td>0.090909</td>\n",
              "      <td>13</td>\n",
              "      <td>-0.053838</td>\n",
              "      <td>0.162393</td>\n",
              "      <td>0.743590</td>\n",
              "    </tr>\n",
              "    <tr>\n",
              "      <th>fmeasure_acc</th>\n",
              "      <td>58</td>\n",
              "      <td>7</td>\n",
              "      <td>12</td>\n",
              "      <td>1</td>\n",
              "      <td>0.828571</td>\n",
              "      <td>0.892308</td>\n",
              "      <td>0.859259</td>\n",
              "      <td>65</td>\n",
              "      <td>0.125000</td>\n",
              "      <td>0.076923</td>\n",
              "      <td>0.095238</td>\n",
              "      <td>13</td>\n",
              "      <td>-0.037796</td>\n",
              "      <td>0.163462</td>\n",
              "      <td>0.756410</td>\n",
              "    </tr>\n",
              "    <tr>\n",
              "      <th>recall_acc</th>\n",
              "      <td>58</td>\n",
              "      <td>7</td>\n",
              "      <td>12</td>\n",
              "      <td>1</td>\n",
              "      <td>0.828571</td>\n",
              "      <td>0.892308</td>\n",
              "      <td>0.859259</td>\n",
              "      <td>65</td>\n",
              "      <td>0.125000</td>\n",
              "      <td>0.076923</td>\n",
              "      <td>0.095238</td>\n",
              "      <td>13</td>\n",
              "      <td>-0.037796</td>\n",
              "      <td>0.163462</td>\n",
              "      <td>0.756410</td>\n",
              "    </tr>\n",
              "    <tr>\n",
              "      <th>precision_acc</th>\n",
              "      <td>54</td>\n",
              "      <td>11</td>\n",
              "      <td>12</td>\n",
              "      <td>1</td>\n",
              "      <td>0.818182</td>\n",
              "      <td>0.830769</td>\n",
              "      <td>0.824427</td>\n",
              "      <td>65</td>\n",
              "      <td>0.083333</td>\n",
              "      <td>0.076923</td>\n",
              "      <td>0.080000</td>\n",
              "      <td>13</td>\n",
              "      <td>-0.095346</td>\n",
              "      <td>0.160256</td>\n",
              "      <td>0.705128</td>\n",
              "    </tr>\n",
              "    <tr>\n",
              "      <th>matthews_correlation_acc</th>\n",
              "      <td>58</td>\n",
              "      <td>7</td>\n",
              "      <td>12</td>\n",
              "      <td>1</td>\n",
              "      <td>0.828571</td>\n",
              "      <td>0.892308</td>\n",
              "      <td>0.859259</td>\n",
              "      <td>65</td>\n",
              "      <td>0.125000</td>\n",
              "      <td>0.076923</td>\n",
              "      <td>0.095238</td>\n",
              "      <td>13</td>\n",
              "      <td>-0.037796</td>\n",
              "      <td>0.163462</td>\n",
              "      <td>0.756410</td>\n",
              "    </tr>\n",
              "    <tr>\n",
              "      <th>val_acc</th>\n",
              "      <td>59</td>\n",
              "      <td>6</td>\n",
              "      <td>12</td>\n",
              "      <td>1</td>\n",
              "      <td>0.830986</td>\n",
              "      <td>0.907692</td>\n",
              "      <td>0.867647</td>\n",
              "      <td>65</td>\n",
              "      <td>0.142857</td>\n",
              "      <td>0.076923</td>\n",
              "      <td>0.100000</td>\n",
              "      <td>13</td>\n",
              "      <td>-0.020060</td>\n",
              "      <td>0.164835</td>\n",
              "      <td>0.769231</td>\n",
              "    </tr>\n",
              "    <tr>\n",
              "      <th>val_fmeasure_acc</th>\n",
              "      <td>59</td>\n",
              "      <td>6</td>\n",
              "      <td>12</td>\n",
              "      <td>1</td>\n",
              "      <td>0.830986</td>\n",
              "      <td>0.907692</td>\n",
              "      <td>0.867647</td>\n",
              "      <td>65</td>\n",
              "      <td>0.142857</td>\n",
              "      <td>0.076923</td>\n",
              "      <td>0.100000</td>\n",
              "      <td>13</td>\n",
              "      <td>-0.020060</td>\n",
              "      <td>0.164835</td>\n",
              "      <td>0.769231</td>\n",
              "    </tr>\n",
              "    <tr>\n",
              "      <th>val_recall_acc</th>\n",
              "      <td>3</td>\n",
              "      <td>62</td>\n",
              "      <td>1</td>\n",
              "      <td>12</td>\n",
              "      <td>0.750000</td>\n",
              "      <td>0.046154</td>\n",
              "      <td>0.086957</td>\n",
              "      <td>65</td>\n",
              "      <td>0.162162</td>\n",
              "      <td>0.923077</td>\n",
              "      <td>0.275862</td>\n",
              "      <td>13</td>\n",
              "      <td>-0.051988</td>\n",
              "      <td>0.162509</td>\n",
              "      <td>0.192308</td>\n",
              "    </tr>\n",
              "    <tr>\n",
              "      <th>val_precision_acc</th>\n",
              "      <td>60</td>\n",
              "      <td>5</td>\n",
              "      <td>12</td>\n",
              "      <td>1</td>\n",
              "      <td>0.833333</td>\n",
              "      <td>0.923077</td>\n",
              "      <td>0.875912</td>\n",
              "      <td>65</td>\n",
              "      <td>0.166667</td>\n",
              "      <td>0.076923</td>\n",
              "      <td>0.105263</td>\n",
              "      <td>13</td>\n",
              "      <td>0.000000</td>\n",
              "      <td>0.166667</td>\n",
              "      <td>0.782051</td>\n",
              "    </tr>\n",
              "    <tr>\n",
              "      <th>val_matthews_correlation_acc</th>\n",
              "      <td>59</td>\n",
              "      <td>6</td>\n",
              "      <td>12</td>\n",
              "      <td>1</td>\n",
              "      <td>0.830986</td>\n",
              "      <td>0.907692</td>\n",
              "      <td>0.867647</td>\n",
              "      <td>65</td>\n",
              "      <td>0.142857</td>\n",
              "      <td>0.076923</td>\n",
              "      <td>0.100000</td>\n",
              "      <td>13</td>\n",
              "      <td>-0.020060</td>\n",
              "      <td>0.164835</td>\n",
              "      <td>0.769231</td>\n",
              "    </tr>\n",
              "  </tbody>\n",
              "</table>\n",
              "</div>"
            ],
            "text/plain": [
              "                              True_Negatives  False_Positives  \\\n",
              "acc                                       57                8   \n",
              "fmeasure_acc                              58                7   \n",
              "recall_acc                                58                7   \n",
              "precision_acc                             54               11   \n",
              "matthews_correlation_acc                  58                7   \n",
              "val_acc                                   59                6   \n",
              "val_fmeasure_acc                          59                6   \n",
              "val_recall_acc                             3               62   \n",
              "val_precision_acc                         60                5   \n",
              "val_matthews_correlation_acc              59                6   \n",
              "\n",
              "                              False_Negatives  True_Positives  \\\n",
              "acc                                        12               1   \n",
              "fmeasure_acc                               12               1   \n",
              "recall_acc                                 12               1   \n",
              "precision_acc                              12               1   \n",
              "matthews_correlation_acc                   12               1   \n",
              "val_acc                                    12               1   \n",
              "val_fmeasure_acc                           12               1   \n",
              "val_recall_acc                              1              12   \n",
              "val_precision_acc                          12               1   \n",
              "val_matthews_correlation_acc               12               1   \n",
              "\n",
              "                              Precision_(Child)  Recall_(Child)  \\\n",
              "acc                                    0.826087        0.876923   \n",
              "fmeasure_acc                           0.828571        0.892308   \n",
              "recall_acc                             0.828571        0.892308   \n",
              "precision_acc                          0.818182        0.830769   \n",
              "matthews_correlation_acc               0.828571        0.892308   \n",
              "val_acc                                0.830986        0.907692   \n",
              "val_fmeasure_acc                       0.830986        0.907692   \n",
              "val_recall_acc                         0.750000        0.046154   \n",
              "val_precision_acc                      0.833333        0.923077   \n",
              "val_matthews_correlation_acc           0.830986        0.907692   \n",
              "\n",
              "                              F-Score_(Child)  Support_(Child)  \\\n",
              "acc                                  0.850746               65   \n",
              "fmeasure_acc                         0.859259               65   \n",
              "recall_acc                           0.859259               65   \n",
              "precision_acc                        0.824427               65   \n",
              "matthews_correlation_acc             0.859259               65   \n",
              "val_acc                              0.867647               65   \n",
              "val_fmeasure_acc                     0.867647               65   \n",
              "val_recall_acc                       0.086957               65   \n",
              "val_precision_acc                    0.875912               65   \n",
              "val_matthews_correlation_acc         0.867647               65   \n",
              "\n",
              "                              Precision_(Adult)  Recall_(Adult)  \\\n",
              "acc                                    0.111111        0.076923   \n",
              "fmeasure_acc                           0.125000        0.076923   \n",
              "recall_acc                             0.125000        0.076923   \n",
              "precision_acc                          0.083333        0.076923   \n",
              "matthews_correlation_acc               0.125000        0.076923   \n",
              "val_acc                                0.142857        0.076923   \n",
              "val_fmeasure_acc                       0.142857        0.076923   \n",
              "val_recall_acc                         0.162162        0.923077   \n",
              "val_precision_acc                      0.166667        0.076923   \n",
              "val_matthews_correlation_acc           0.142857        0.076923   \n",
              "\n",
              "                              F-Score_(Adult)  Support_(adult)  \\\n",
              "acc                                  0.090909               13   \n",
              "fmeasure_acc                         0.095238               13   \n",
              "recall_acc                           0.095238               13   \n",
              "precision_acc                        0.080000               13   \n",
              "matthews_correlation_acc             0.095238               13   \n",
              "val_acc                              0.100000               13   \n",
              "val_fmeasure_acc                     0.100000               13   \n",
              "val_recall_acc                       0.275862               13   \n",
              "val_precision_acc                    0.105263               13   \n",
              "val_matthews_correlation_acc         0.100000               13   \n",
              "\n",
              "                              Matthews_Score  Average_Precision  \\\n",
              "acc                                -0.053838           0.162393   \n",
              "fmeasure_acc                       -0.037796           0.163462   \n",
              "recall_acc                         -0.037796           0.163462   \n",
              "precision_acc                      -0.095346           0.160256   \n",
              "matthews_correlation_acc           -0.037796           0.163462   \n",
              "val_acc                            -0.020060           0.164835   \n",
              "val_fmeasure_acc                   -0.020060           0.164835   \n",
              "val_recall_acc                     -0.051988           0.162509   \n",
              "val_precision_acc                   0.000000           0.166667   \n",
              "val_matthews_correlation_acc       -0.020060           0.164835   \n",
              "\n",
              "                              Accuracy_Score  \n",
              "acc                                 0.743590  \n",
              "fmeasure_acc                        0.756410  \n",
              "recall_acc                          0.756410  \n",
              "precision_acc                       0.705128  \n",
              "matthews_correlation_acc            0.756410  \n",
              "val_acc                             0.769231  \n",
              "val_fmeasure_acc                    0.769231  \n",
              "val_recall_acc                      0.192308  \n",
              "val_precision_acc                   0.782051  \n",
              "val_matthews_correlation_acc        0.769231  "
            ]
          },
          "metadata": {
            "tags": []
          },
          "execution_count": 38
        }
      ]
    },
    {
      "metadata": {
        "id": "0y7iN0L_N4kf",
        "colab_type": "code",
        "colab": {}
      },
      "cell_type": "code",
      "source": [
        "# save the model on a csv file\n",
        "exp_n = '5'\n",
        "file_name = 'classification_report_dap_' + exp_n + '.csv'\n",
        "classification_report.to_csv(file_name, sep=',')"
      ],
      "execution_count": 0,
      "outputs": []
    },
    {
      "metadata": {
        "id": "1z_nW90U1YDT",
        "colab_type": "text"
      },
      "cell_type": "markdown",
      "source": [
        "## Deploying models\n",
        "\n",
        "Once the right model or models have been found, you can create a deployment package with Deploy() which is then easy to transfer to a production or other environment, send via email, or upload to shared remote location. Best model is automatically chosen based on a given metric ('val_acc' by default).\n",
        "\n",
        "The Deploy package is a zip file that consist of:\n",
        "\n",
        "- details of the scan\n",
        "- model weights\n",
        "- model json\n",
        "- results of the experiment\n",
        "- sample of x data\n",
        "- sample of y data\n",
        "\n",
        "**See source code at** https://github.com/autonomio/talos/blob/daily-dev/talos/commands/deploy.py"
      ]
    },
    {
      "metadata": {
        "id": "x5k0Ow3s1veN",
        "colab_type": "code",
        "outputId": "a00149dc-8835-4fae-818b-401a2caf460d",
        "colab": {
          "base_uri": "https://localhost:8080/",
          "height": 35
        }
      },
      "cell_type": "code",
      "source": [
        "# By default selects the model with best validation accuracy \"recall_acc\"\n",
        "# Other metrics can be specified\n",
        "# name code: \"[dataset]-[experiment-number]-[rounds/models]-[seleccion-criteria]-[%-searched]\"\n",
        "ta.Deploy(h, 'drawings-exp5-2160r-recall-acc-10p', metric='recall_acc');"
      ],
      "execution_count": 0,
      "outputs": [
        {
          "output_type": "stream",
          "text": [
            "Deploy package drawings-exp5-2160r-recall-acc-10p have been saved.\n"
          ],
          "name": "stdout"
        }
      ]
    },
    {
      "metadata": {
        "id": "A7N2o6du2ZiY",
        "colab_type": "text"
      },
      "cell_type": "markdown",
      "source": [
        "## Restoring models\n",
        "Restores the scan_object that had been stored locally as a result of talos.Deploy\n",
        "\n",
        "**See source code at** https://github.com/autonomio/talos/blob/daily-dev/talos/commands/restore.py "
      ]
    },
    {
      "metadata": {
        "id": "3xwaox5A2bk1",
        "colab_type": "code",
        "colab": {}
      },
      "cell_type": "code",
      "source": [
        "# Restore model from local environment\n",
        "model_name = 'drawings-exp5-2160r-recall-acc-10p.zip'\n",
        "drawings = ta.Restore(model_name)"
      ],
      "execution_count": 0,
      "outputs": []
    },
    {
      "metadata": {
        "id": "UPinzBzp24wO",
        "colab_type": "code",
        "colab": {}
      },
      "cell_type": "code",
      "source": [
        "# make predictions with the model\n",
        "drawings.model.predict(x_test)[0:9,] # print first 10"
      ],
      "execution_count": 0,
      "outputs": []
    },
    {
      "metadata": {
        "id": "VDOp6Hj73Fq4",
        "colab_type": "code",
        "colab": {}
      },
      "cell_type": "code",
      "source": [
        "# get the meta-data for the experiment/optimization\n",
        "print(drawings.details)"
      ],
      "execution_count": 0,
      "outputs": []
    },
    {
      "metadata": {
        "id": "21pi4AT43nMx",
        "colab_type": "code",
        "colab": {}
      },
      "cell_type": "code",
      "source": [
        "# get the hyperparameter space boundary for the experiment/optimization\n",
        "print(drawings.params)"
      ],
      "execution_count": 0,
      "outputs": []
    },
    {
      "metadata": {
        "id": "tu38HGIU3rJ4",
        "colab_type": "code",
        "colab": {}
      },
      "cell_type": "code",
      "source": [
        "# sample of x and y data, returns pandas dataframe\n",
        "print(drawings.x.iloc[0:3, 0:3]) # print first 3 rows and columns\n",
        "print(drawings.y.iloc[0:3]) # print first 3 rows "
      ],
      "execution_count": 0,
      "outputs": []
    },
    {
      "metadata": {
        "id": "Aa2lLx9d3s8Z",
        "colab_type": "code",
        "colab": {}
      },
      "cell_type": "code",
      "source": [
        "# the results dataframe\n",
        "drawings.results[0:3] # print first 3 rows"
      ],
      "execution_count": 0,
      "outputs": []
    },
    {
      "metadata": {
        "id": "SXdtsIOHBZWj",
        "colab_type": "text"
      },
      "cell_type": "markdown",
      "source": [
        "# Resources\n",
        "- **Talos repo**: https://github.com/autonomio/talos\n",
        "- **Talos example**:  https://nbviewer.jupyter.org/github/autonomio/talos/blob/master/examples/Hyperparameter%20Optimization%20on%20Keras%20with%20Breast%20Cancer%20Data.ipynb"
      ]
    }
  ]
}