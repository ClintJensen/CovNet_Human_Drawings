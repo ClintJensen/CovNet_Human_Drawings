{
  "nbformat": 4,
  "nbformat_minor": 0,
  "metadata": {
    "colab": {
      "name": "model_training_hyperparameter_optimization.ipynb",
      "version": "0.3.2",
      "provenance": [],
      "toc_visible": true,
      "include_colab_link": true
    },
    "kernelspec": {
      "name": "python3",
      "display_name": "Python 3"
    },
    "accelerator": "GPU"
  },
  "cells": [
    {
      "cell_type": "markdown",
      "metadata": {
        "id": "view-in-github",
        "colab_type": "text"
      },
      "source": [
        "<a href=\"https://colab.research.google.com/github/pabloinsente/CovNet_Human_Drawings/blob/master/code/model_training_hyperparameter_optimization.ipynb\" target=\"_parent\"><img src=\"https://colab.research.google.com/assets/colab-badge.svg\" alt=\"Open In Colab\"/></a>"
      ]
    },
    {
      "metadata": {
        "id": "R6LRZjUh8mcM",
        "colab_type": "text"
      },
      "cell_type": "markdown",
      "source": [
        "# Model training and hyperparameter optimization for Age-prediction\n",
        "Here we use Keras and the Talos library to set up the hyperparameter optimization. \n",
        "\n",
        "***Warning***: since we are using colab, we need to (1) install talos (2) re-start the running environment (to update some packages that Talos needs to un) before running the optimization.  "
      ]
    },
    {
      "metadata": {
        "id": "3oEwJCxQRSIn",
        "colab_type": "code",
        "colab": {}
      },
      "cell_type": "code",
      "source": [
        "!pip install talos"
      ],
      "execution_count": 0,
      "outputs": []
    },
    {
      "metadata": {
        "id": "LVwIGgW9N9v7",
        "colab_type": "code",
        "colab": {}
      },
      "cell_type": "code",
      "source": [
        "# Let's import Talos, Keras, and dependencies\n",
        "\n",
        "import talos as ta\n",
        "from talos.metrics.keras_metrics import precision_acc, recall_acc, matthews_correlation_acc, fmeasure_acc\n",
        "from talos.model.normalizers import lr_normalizer\n",
        "\n",
        "from keras.activations import relu, elu, sigmoid\n",
        "from keras.optimizers import Adam, Nadam, RMSprop\n",
        "from keras.losses import binary_crossentropy, logcosh\n",
        "from keras.models import Sequential\n",
        "from keras.layers import Dense, Dropout\n",
        "\n",
        "from numpy import genfromtxt\n",
        "\n",
        "%matplotlib inline"
      ],
      "execution_count": 0,
      "outputs": []
    },
    {
      "metadata": {
        "id": "jN0uSEPf8QBS",
        "colab_type": "text"
      },
      "cell_type": "markdown",
      "source": [
        "## Data preparation\n",
        "First, we need to split the data into training and testing as usual. The training dataset will be feed into the model training and optimization process The testing data will be used to evalute the model. "
      ]
    },
    {
      "metadata": {
        "id": "oGx8tVOIQ_6U",
        "colab_type": "code",
        "colab": {
          "base_uri": "https://localhost:8080/",
          "height": 139
        },
        "outputId": "59408b59-f1fe-479a-e4a2-2d5f8e047f8d"
      },
      "cell_type": "code",
      "source": [
        "# Clone the data into Colab\n",
        "! git clone https://github.com/pabloinsente/CovNet_Human_Drawings"
      ],
      "execution_count": 2,
      "outputs": [
        {
          "output_type": "stream",
          "text": [
            "Cloning into 'CovNet_Human_Drawings'...\n",
            "remote: Enumerating objects: 61, done.\u001b[K\n",
            "remote: Counting objects: 100% (61/61), done.\u001b[K\n",
            "remote: Compressing objects: 100% (52/52), done.\u001b[K\n",
            "remote: Total 588 (delta 28), reused 23 (delta 9), pack-reused 527\u001b[K\n",
            "Receiving objects: 100% (588/588), 55.02 MiB | 20.88 MiB/s, done.\n",
            "Resolving deltas: 100% (138/138), done.\n"
          ],
          "name": "stdout"
        }
      ]
    },
    {
      "metadata": {
        "id": "MU75iiW7VYIj",
        "colab_type": "code",
        "colab": {
          "base_uri": "https://localhost:8080/",
          "height": 52
        },
        "outputId": "59da29d4-8dc2-46d8-c2d7-4221e84e49be"
      },
      "cell_type": "code",
      "source": [
        "# Get data\n",
        "x_path= 'CovNet_Human_Drawings/data/merged_dataframes_prediction/x_train_drawings_features_max_pool_5_pca.csv'\n",
        "y_path = 'CovNet_Human_Drawings/data/merged_dataframes_prediction/y_train_age_adult_labels.csv'\n",
        "\n",
        "x = genfromtxt(x_path, delimiter=',')\n",
        "y = genfromtxt(y_path, delimiter=',')\n",
        "\n",
        "print(x.shape) # (258, 200)\n",
        "print(y.shape) # (258,)"
      ],
      "execution_count": 3,
      "outputs": [
        {
          "output_type": "stream",
          "text": [
            "(258, 200)\n",
            "(258,)\n"
          ],
          "name": "stdout"
        }
      ]
    },
    {
      "metadata": {
        "id": "IjFd7wkTjvk2",
        "colab_type": "code",
        "colab": {
          "base_uri": "https://localhost:8080/",
          "height": 87
        },
        "outputId": "80c3dcf8-2fcd-4aa3-9823-45fa14085b52"
      },
      "cell_type": "code",
      "source": [
        "# Split data into train and test sets\n",
        "# Since we have an small sample, we will do a 70/30 split\n",
        "from sklearn.model_selection import train_test_split\n",
        "x_train, x_test, y_train, y_test = train_test_split(x, y, test_size = 0.3, random_state=44)\n",
        "print(x_train.shape) # (180, 200)\n",
        "print(y_train.shape) # (180,)\n",
        "print(x_test.shape) # (78, 200)\n",
        "print(y_test.shape) # (78,)"
      ],
      "execution_count": 4,
      "outputs": [
        {
          "output_type": "stream",
          "text": [
            "(180, 200)\n",
            "(180,)\n",
            "(78, 200)\n",
            "(78,)\n"
          ],
          "name": "stdout"
        }
      ]
    },
    {
      "metadata": {
        "id": "pAg1wGr_8AG1",
        "colab_type": "text"
      },
      "cell_type": "markdown",
      "source": [
        "## Model Definition\n",
        "Here we define the model using Keras. The main point is to pass all the arguments as keys of a Python dictionary instead of variables"
      ]
    },
    {
      "metadata": {
        "id": "LmQPGeHVMvFv",
        "colab_type": "code",
        "colab": {}
      },
      "cell_type": "code",
      "source": [
        "# define model\n",
        "def input_model(x_train, y_train, x_val, y_val, params):\n",
        "  model = Sequential()\n",
        "  # add hidden layer\n",
        "  model.add(Dense(params['first_neuron'], \n",
        "                  input_dim=x_train.shape[1], \n",
        "                  activation=params['activation'],\n",
        "                  kernel_initializer = params['kernel_initializer']))\n",
        "  # add dropout layer\n",
        "  model.add(Dropout(params['dropout']))\n",
        "  # add output layer\n",
        "  model.add(Dense(1,activation=params['last_activation'],\n",
        "                  kernel_initializer = params['kernel_initializer']))\n",
        "  # compile model\n",
        "  model.compile(loss=params['losses'],\n",
        "                optimizer=params['optimizer'](lr=lr_normalizer(params['lr'], params['optimizer'])),\n",
        "                metrics=['acc', fmeasure_acc, recall_acc, precision_acc, matthews_correlation_acc])\n",
        "  # train model\n",
        "  out = model.fit(x_train, y_train,\n",
        "                  validation_data=[x_val, y_val],\n",
        "                  batch_size=params['batch_size'],\n",
        "                  # 180*.29 = ~52, which is ~20% of all data\n",
        "                  #val_split = .29, \n",
        "                  epochs=params['epochs'])\n",
        "  return out, model"
      ],
      "execution_count": 0,
      "outputs": []
    },
    {
      "metadata": {
        "id": "6SqVZ7dM7uG-",
        "colab_type": "text"
      },
      "cell_type": "markdown",
      "source": [
        "## Setting the Parameter Space Boundaries \n",
        "here we create a dictionary, which will then be passed on to Talos together with the model above. Here we have three different ways to input values:\n",
        "\n",
        "- as stepped ranges (min, max, steps)\n",
        "- as multiple values [in a list]\n",
        "- as a single value [in a list]"
      ]
    },
    {
      "metadata": {
        "id": "dI3vgOBzlAPN",
        "colab_type": "code",
        "colab": {}
      },
      "cell_type": "code",
      "source": [
        "# set hyperparameters to optimize\n",
        "p = {'first_neuron': [4, 8, 16, 32],\n",
        "     'activation': [relu, sigmoid],\n",
        "     'optimizer': [Nadam, Adam],\n",
        "     'losses':[binary_crossentropy],\n",
        "     'hidden_layers':[0, 1, 2],\n",
        "     'batch_size': [10, 20, 30],\n",
        "     'epochs':[4, 10, 25, 50],\n",
        "     'dropout': [0, 0.1, 0.2],\n",
        "     'kernel_initializer': ['uniform','normal'],\n",
        "     'lr':[0.001, 0.01, 0.1],\n",
        "     'last_activation': ['sigmoid']}"
      ],
      "execution_count": 0,
      "outputs": []
    },
    {
      "metadata": {
        "id": "lwNKsUF_7WIA",
        "colab_type": "text"
      },
      "cell_type": "markdown",
      "source": [
        "## Running the hyperparameter optimization with Scan() \n",
        "Now we are ready to run the model based on the parameters and the layer configuration above. The exact same process would apply with any other model, just make sure to pass the model function name in the Scan() command as in the below example. To get started quickly, we're going to invoke the 'grid_downsample' parameter to 10/100 of the entire permutations.\n",
        "\n"
      ]
    },
    {
      "metadata": {
        "id": "KPtOn24CUsEO",
        "colab_type": "code",
        "colab": {}
      },
      "cell_type": "code",
      "source": [
        "# starting optimization\n",
        "# with the current hyperparameter space, taking a random sample of 10% will \n",
        "# run 518 models\n",
        "h = ta.Scan(x= x_train, y=y_train,\n",
        "            params=p,\n",
        "            model=input_model,\n",
        "            grid_downsample=.10)"
      ],
      "execution_count": 0,
      "outputs": []
    },
    {
      "metadata": {
        "id": "vzXz0OXr66kG",
        "colab_type": "text"
      },
      "cell_type": "markdown",
      "source": [
        "## Accessing the results through the Scan object\n",
        "The scan object saves all the necessary information for analysis and deployment\n",
        "**See source code at** https://github.com/autonomio/talos/blob/daily-dev/talos/scan/Scan.py"
      ]
    },
    {
      "metadata": {
        "id": "3jLhYJQ4t5lQ",
        "colab_type": "code",
        "colab": {
          "base_uri": "https://localhost:8080/",
          "height": 265
        },
        "outputId": "1cc306a6-fbb9-4d59-c681-366442b7f0d1"
      },
      "cell_type": "code",
      "source": [
        "# accessing the results data frame\n",
        "h.data[0:3]"
      ],
      "execution_count": 59,
      "outputs": [
        {
          "output_type": "execute_result",
          "data": {
            "text/html": [
              "<div>\n",
              "<style scoped>\n",
              "    .dataframe tbody tr th:only-of-type {\n",
              "        vertical-align: middle;\n",
              "    }\n",
              "\n",
              "    .dataframe tbody tr th {\n",
              "        vertical-align: top;\n",
              "    }\n",
              "\n",
              "    .dataframe thead th {\n",
              "        text-align: right;\n",
              "    }\n",
              "</style>\n",
              "<table border=\"1\" class=\"dataframe\">\n",
              "  <thead>\n",
              "    <tr style=\"text-align: right;\">\n",
              "      <th></th>\n",
              "      <th>round_epochs</th>\n",
              "      <th>val_loss</th>\n",
              "      <th>val_acc</th>\n",
              "      <th>val_fmeasure_acc</th>\n",
              "      <th>loss</th>\n",
              "      <th>acc</th>\n",
              "      <th>fmeasure_acc</th>\n",
              "      <th>first_neuron</th>\n",
              "      <th>activation</th>\n",
              "      <th>optimizer</th>\n",
              "      <th>losses</th>\n",
              "      <th>hidden_layers</th>\n",
              "      <th>batch_size</th>\n",
              "      <th>epochs</th>\n",
              "      <th>dropout</th>\n",
              "      <th>kernel_initializer</th>\n",
              "      <th>lr</th>\n",
              "      <th>last_activation</th>\n",
              "    </tr>\n",
              "  </thead>\n",
              "  <tbody>\n",
              "    <tr>\n",
              "      <th>0</th>\n",
              "      <td>4</td>\n",
              "      <td>0.690543</td>\n",
              "      <td>0.763636</td>\n",
              "      <td>0.000000</td>\n",
              "      <td>0.690048</td>\n",
              "      <td>0.672</td>\n",
              "      <td>0.350667</td>\n",
              "      <td>16</td>\n",
              "      <td>&lt;function sigmoid at 0x7faf18dfb840&gt;</td>\n",
              "      <td>&lt;class 'keras.optimizers.Nadam'&gt;</td>\n",
              "      <td>&lt;function binary_crossentropy at 0x7faf18e49840&gt;</td>\n",
              "      <td>0</td>\n",
              "      <td>30</td>\n",
              "      <td>4</td>\n",
              "      <td>0.1</td>\n",
              "      <td>uniform</td>\n",
              "      <td>0.01</td>\n",
              "      <td>sigmoid</td>\n",
              "    </tr>\n",
              "    <tr>\n",
              "      <th>1</th>\n",
              "      <td>10</td>\n",
              "      <td>0.691332</td>\n",
              "      <td>0.727273</td>\n",
              "      <td>0.268398</td>\n",
              "      <td>0.690578</td>\n",
              "      <td>0.784</td>\n",
              "      <td>0.081524</td>\n",
              "      <td>16</td>\n",
              "      <td>&lt;function relu at 0x7faf18dfb730&gt;</td>\n",
              "      <td>&lt;class 'keras.optimizers.Nadam'&gt;</td>\n",
              "      <td>&lt;function binary_crossentropy at 0x7faf18e49840&gt;</td>\n",
              "      <td>0</td>\n",
              "      <td>10</td>\n",
              "      <td>10</td>\n",
              "      <td>0.0</td>\n",
              "      <td>normal</td>\n",
              "      <td>0.01</td>\n",
              "      <td>sigmoid</td>\n",
              "    </tr>\n",
              "    <tr>\n",
              "      <th>2</th>\n",
              "      <td>4</td>\n",
              "      <td>0.692836</td>\n",
              "      <td>0.672727</td>\n",
              "      <td>0.300275</td>\n",
              "      <td>0.692735</td>\n",
              "      <td>0.728</td>\n",
              "      <td>0.315472</td>\n",
              "      <td>4</td>\n",
              "      <td>&lt;function relu at 0x7faf18dfb730&gt;</td>\n",
              "      <td>&lt;class 'keras.optimizers.Adam'&gt;</td>\n",
              "      <td>&lt;function binary_crossentropy at 0x7faf18e49840&gt;</td>\n",
              "      <td>0</td>\n",
              "      <td>30</td>\n",
              "      <td>4</td>\n",
              "      <td>0.1</td>\n",
              "      <td>uniform</td>\n",
              "      <td>0.10</td>\n",
              "      <td>sigmoid</td>\n",
              "    </tr>\n",
              "  </tbody>\n",
              "</table>\n",
              "</div>"
            ],
            "text/plain": [
              "   round_epochs  val_loss   val_acc  val_fmeasure_acc      loss    acc  \\\n",
              "0             4  0.690543  0.763636          0.000000  0.690048  0.672   \n",
              "1            10  0.691332  0.727273          0.268398  0.690578  0.784   \n",
              "2             4  0.692836  0.672727          0.300275  0.692735  0.728   \n",
              "\n",
              "   fmeasure_acc  first_neuron                            activation  \\\n",
              "0      0.350667            16  <function sigmoid at 0x7faf18dfb840>   \n",
              "1      0.081524            16     <function relu at 0x7faf18dfb730>   \n",
              "2      0.315472             4     <function relu at 0x7faf18dfb730>   \n",
              "\n",
              "                          optimizer  \\\n",
              "0  <class 'keras.optimizers.Nadam'>   \n",
              "1  <class 'keras.optimizers.Nadam'>   \n",
              "2   <class 'keras.optimizers.Adam'>   \n",
              "\n",
              "                                             losses  hidden_layers  \\\n",
              "0  <function binary_crossentropy at 0x7faf18e49840>              0   \n",
              "1  <function binary_crossentropy at 0x7faf18e49840>              0   \n",
              "2  <function binary_crossentropy at 0x7faf18e49840>              0   \n",
              "\n",
              "   batch_size  epochs  dropout kernel_initializer    lr last_activation  \n",
              "0          30       4      0.1            uniform  0.01         sigmoid  \n",
              "1          10      10      0.0             normal  0.01         sigmoid  \n",
              "2          30       4      0.1            uniform  0.10         sigmoid  "
            ]
          },
          "metadata": {
            "tags": []
          },
          "execution_count": 59
        }
      ]
    },
    {
      "metadata": {
        "id": "P_eM9y8RiyfJ",
        "colab_type": "code",
        "colab": {
          "base_uri": "https://localhost:8080/",
          "height": 329
        },
        "outputId": "c733b395-71da-460d-a4ea-6559016179f0"
      },
      "cell_type": "code",
      "source": [
        "# Best model based on training criteria \"val_acc\"\n",
        "# see source code to use https://github.com/autonomio/talos/blob/master/talos/utils/best_model.py\n",
        "from talos.utils.best_model import best_model, activate_model\n",
        "from talos import Predict\n",
        "\n",
        "# get best model id from the scan object, based on f-measure accuracy\n",
        "model_id = best_model(h, 'val_fmeasure_acc', False)\n",
        "# activate best model based on model id\n",
        "model = activate_model(h, model_id)\n",
        "# makes probability predictions based on weights from best model\n",
        "print(model.predict(x_test)[0:9,]) # print first 10\n",
        "# makes class predictions based on weights from best model\n",
        "print(model.predict_classes(x_test)[0:9,]) # print first 10\n",
        "\n",
        "# All in one line\n",
        "# activate_model(scan_object, best_model(scan_object, 'val_acc', False)).predict(X)"
      ],
      "execution_count": 60,
      "outputs": [
        {
          "output_type": "stream",
          "text": [
            "[[0.49851948]\n",
            " [0.49932215]\n",
            " [0.4986936 ]\n",
            " [0.49928543]\n",
            " [0.49902347]\n",
            " [0.49879903]\n",
            " [0.4991182 ]\n",
            " [0.4991543 ]\n",
            " [0.49925563]]\n",
            "[[0]\n",
            " [0]\n",
            " [0]\n",
            " [0]\n",
            " [0]\n",
            " [0]\n",
            " [0]\n",
            " [0]\n",
            " [0]]\n"
          ],
          "name": "stdout"
        }
      ]
    },
    {
      "metadata": {
        "id": "Jps9bGEtuC0w",
        "colab_type": "code",
        "colab": {
          "base_uri": "https://localhost:8080/",
          "height": 202
        },
        "outputId": "40e1b584-1768-4a66-b6ce-cc0f38a6cbc5"
      },
      "cell_type": "code",
      "source": [
        "# accessing epoch entropy values for each round\n",
        "h.peak_epochs_df[0:5] # print first 5 rows"
      ],
      "execution_count": 61,
      "outputs": [
        {
          "output_type": "execute_result",
          "data": {
            "text/html": [
              "<div>\n",
              "<style scoped>\n",
              "    .dataframe tbody tr th:only-of-type {\n",
              "        vertical-align: middle;\n",
              "    }\n",
              "\n",
              "    .dataframe tbody tr th {\n",
              "        vertical-align: top;\n",
              "    }\n",
              "\n",
              "    .dataframe thead th {\n",
              "        text-align: right;\n",
              "    }\n",
              "</style>\n",
              "<table border=\"1\" class=\"dataframe\">\n",
              "  <thead>\n",
              "    <tr style=\"text-align: right;\">\n",
              "      <th></th>\n",
              "      <th>val_loss</th>\n",
              "      <th>val_acc</th>\n",
              "      <th>val_fmeasure_acc</th>\n",
              "      <th>loss</th>\n",
              "      <th>acc</th>\n",
              "      <th>fmeasure_acc</th>\n",
              "      <th>acc_epoch</th>\n",
              "      <th>loss_epoch</th>\n",
              "    </tr>\n",
              "  </thead>\n",
              "  <tbody>\n",
              "    <tr>\n",
              "      <th>1</th>\n",
              "      <td>3</td>\n",
              "      <td>3</td>\n",
              "      <td>3</td>\n",
              "      <td>3</td>\n",
              "      <td>1</td>\n",
              "      <td>1</td>\n",
              "      <td>1.430999e-03</td>\n",
              "      <td>3.407251e-07</td>\n",
              "    </tr>\n",
              "    <tr>\n",
              "      <th>2</th>\n",
              "      <td>9</td>\n",
              "      <td>6</td>\n",
              "      <td>4</td>\n",
              "      <td>9</td>\n",
              "      <td>8</td>\n",
              "      <td>0</td>\n",
              "      <td>4.552545e-04</td>\n",
              "      <td>1.586281e-08</td>\n",
              "    </tr>\n",
              "    <tr>\n",
              "      <th>3</th>\n",
              "      <td>3</td>\n",
              "      <td>3</td>\n",
              "      <td>0</td>\n",
              "      <td>3</td>\n",
              "      <td>3</td>\n",
              "      <td>0</td>\n",
              "      <td>3.124634e-03</td>\n",
              "      <td>5.878659e-09</td>\n",
              "    </tr>\n",
              "    <tr>\n",
              "      <th>4</th>\n",
              "      <td>9</td>\n",
              "      <td>9</td>\n",
              "      <td>9</td>\n",
              "      <td>9</td>\n",
              "      <td>9</td>\n",
              "      <td>9</td>\n",
              "      <td>-2.322294e-16</td>\n",
              "      <td>7.868515e-07</td>\n",
              "    </tr>\n",
              "    <tr>\n",
              "      <th>5</th>\n",
              "      <td>9</td>\n",
              "      <td>9</td>\n",
              "      <td>9</td>\n",
              "      <td>4</td>\n",
              "      <td>1</td>\n",
              "      <td>1</td>\n",
              "      <td>1.159724e-03</td>\n",
              "      <td>1.424362e-07</td>\n",
              "    </tr>\n",
              "  </tbody>\n",
              "</table>\n",
              "</div>"
            ],
            "text/plain": [
              "  val_loss val_acc val_fmeasure_acc loss acc fmeasure_acc     acc_epoch  \\\n",
              "1        3       3                3    3   1            1  1.430999e-03   \n",
              "2        9       6                4    9   8            0  4.552545e-04   \n",
              "3        3       3                0    3   3            0  3.124634e-03   \n",
              "4        9       9                9    9   9            9 -2.322294e-16   \n",
              "5        9       9                9    4   1            1  1.159724e-03   \n",
              "\n",
              "     loss_epoch  \n",
              "1  3.407251e-07  \n",
              "2  1.586281e-08  \n",
              "3  5.878659e-09  \n",
              "4  7.868515e-07  \n",
              "5  1.424362e-07  "
            ]
          },
          "metadata": {
            "tags": []
          },
          "execution_count": 61
        }
      ]
    },
    {
      "metadata": {
        "id": "6n2YlqKLuH1R",
        "colab_type": "code",
        "colab": {
          "base_uri": "https://localhost:8080/",
          "height": 243
        },
        "outputId": "80519c97-de76-4ad9-9b53-8fdaa824a2de"
      },
      "cell_type": "code",
      "source": [
        "# access the summary details\n",
        "h.details"
      ],
      "execution_count": 62,
      "outputs": [
        {
          "output_type": "execute_result",
          "data": {
            "text/plain": [
              "random_method          uniform_mersenne\n",
              "reduction_method                   None\n",
              "reduction_interval                   50\n",
              "reduction_window                     20\n",
              "grid_downsample                     0.1\n",
              "reduction_threshold                 0.2\n",
              "reduction_metric                val_acc\n",
              "reduce_loss                       False\n",
              "experiment_name           041519200034_\n",
              "complete_time            04/15/19/20:36\n",
              "x_shape                      (180, 200)\n",
              "y_shape                          (180,)\n",
              "dtype: object"
            ]
          },
          "metadata": {
            "tags": []
          },
          "execution_count": 62
        }
      ]
    },
    {
      "metadata": {
        "id": "TuCWhUXauTNt",
        "colab_type": "code",
        "colab": {
          "base_uri": "https://localhost:8080/",
          "height": 55
        },
        "outputId": "735dcfd7-9804-4a00-ce41-abe89da8e4f4"
      },
      "cell_type": "code",
      "source": [
        "# accessing the saved models\n",
        "h.saved_models[0] # print first model"
      ],
      "execution_count": 63,
      "outputs": [
        {
          "output_type": "execute_result",
          "data": {
            "text/plain": [
              "'{\"class_name\": \"Sequential\", \"config\": {\"name\": \"sequential_1\", \"layers\": [{\"class_name\": \"Dense\", \"config\": {\"name\": \"dense_1\", \"trainable\": true, \"batch_input_shape\": [null, 200], \"dtype\": \"float32\", \"units\": 16, \"activation\": \"sigmoid\", \"use_bias\": true, \"kernel_initializer\": {\"class_name\": \"RandomUniform\", \"config\": {\"minval\": -0.05, \"maxval\": 0.05, \"seed\": null}}, \"bias_initializer\": {\"class_name\": \"Zeros\", \"config\": {}}, \"kernel_regularizer\": null, \"bias_regularizer\": null, \"activity_regularizer\": null, \"kernel_constraint\": null, \"bias_constraint\": null}}, {\"class_name\": \"Dropout\", \"config\": {\"name\": \"dropout_1\", \"trainable\": true, \"rate\": 0.1, \"noise_shape\": null, \"seed\": null}}, {\"class_name\": \"Dense\", \"config\": {\"name\": \"dense_2\", \"trainable\": true, \"units\": 1, \"activation\": \"sigmoid\", \"use_bias\": true, \"kernel_initializer\": {\"class_name\": \"RandomUniform\", \"config\": {\"minval\": -0.05, \"maxval\": 0.05, \"seed\": null}}, \"bias_initializer\": {\"class_name\": \"Zeros\", \"config\": {}}, \"kernel_regularizer\": null, \"bias_regularizer\": null, \"activity_regularizer\": null, \"kernel_constraint\": null, \"bias_constraint\": null}}]}, \"keras_version\": \"2.2.4\", \"backend\": \"tensorflow\"}'"
            ]
          },
          "metadata": {
            "tags": []
          },
          "execution_count": 63
        }
      ]
    },
    {
      "metadata": {
        "id": "iIySufgBuWNM",
        "colab_type": "code",
        "colab": {}
      },
      "cell_type": "code",
      "source": [
        "# accessing the saved weights for models\n",
        "# h.saved_weights[0] # print weights first model"
      ],
      "execution_count": 0,
      "outputs": []
    },
    {
      "metadata": {
        "id": "yF0EJL-cfvB7",
        "colab_type": "text"
      },
      "cell_type": "markdown",
      "source": [
        "## Reporting optimization\n",
        "In the Scan process, the results are stored round-by-round in the corresponding experiment log which is a .csv file stored in the present working directory. The Reporting() accepts as its source either a file name, or the Scan object.\n",
        "\n",
        "**See source code to dcide how to use this command** \n",
        "https://github.com/autonomio/talos/blob/daily-dev/talos/commands/reporting.py "
      ]
    },
    {
      "metadata": {
        "id": "vUSL0U1muiuK",
        "colab_type": "code",
        "colab": {}
      },
      "cell_type": "code",
      "source": [
        "# use Scan object as input\n",
        "r = ta.Reporting(h) # creates report object from scan object"
      ],
      "execution_count": 0,
      "outputs": []
    },
    {
      "metadata": {
        "id": "ZT5SHcUdux56",
        "colab_type": "code",
        "colab": {
          "base_uri": "https://localhost:8080/",
          "height": 265
        },
        "outputId": "6e540247-0dbc-4a60-d123-12b163a0170d"
      },
      "cell_type": "code",
      "source": [
        "# access the dataframe with the results\n",
        "r.data[0:3]"
      ],
      "execution_count": 65,
      "outputs": [
        {
          "output_type": "execute_result",
          "data": {
            "text/html": [
              "<div>\n",
              "<style scoped>\n",
              "    .dataframe tbody tr th:only-of-type {\n",
              "        vertical-align: middle;\n",
              "    }\n",
              "\n",
              "    .dataframe tbody tr th {\n",
              "        vertical-align: top;\n",
              "    }\n",
              "\n",
              "    .dataframe thead th {\n",
              "        text-align: right;\n",
              "    }\n",
              "</style>\n",
              "<table border=\"1\" class=\"dataframe\">\n",
              "  <thead>\n",
              "    <tr style=\"text-align: right;\">\n",
              "      <th></th>\n",
              "      <th>round_epochs</th>\n",
              "      <th>val_loss</th>\n",
              "      <th>val_acc</th>\n",
              "      <th>val_fmeasure_acc</th>\n",
              "      <th>loss</th>\n",
              "      <th>acc</th>\n",
              "      <th>fmeasure_acc</th>\n",
              "      <th>first_neuron</th>\n",
              "      <th>activation</th>\n",
              "      <th>optimizer</th>\n",
              "      <th>losses</th>\n",
              "      <th>hidden_layers</th>\n",
              "      <th>batch_size</th>\n",
              "      <th>epochs</th>\n",
              "      <th>dropout</th>\n",
              "      <th>kernel_initializer</th>\n",
              "      <th>lr</th>\n",
              "      <th>last_activation</th>\n",
              "    </tr>\n",
              "  </thead>\n",
              "  <tbody>\n",
              "    <tr>\n",
              "      <th>0</th>\n",
              "      <td>4</td>\n",
              "      <td>0.690543</td>\n",
              "      <td>0.763636</td>\n",
              "      <td>0.000000</td>\n",
              "      <td>0.690048</td>\n",
              "      <td>0.672</td>\n",
              "      <td>0.350667</td>\n",
              "      <td>16</td>\n",
              "      <td>&lt;function sigmoid at 0x7faf18dfb840&gt;</td>\n",
              "      <td>&lt;class 'keras.optimizers.Nadam'&gt;</td>\n",
              "      <td>&lt;function binary_crossentropy at 0x7faf18e49840&gt;</td>\n",
              "      <td>0</td>\n",
              "      <td>30</td>\n",
              "      <td>4</td>\n",
              "      <td>0.1</td>\n",
              "      <td>uniform</td>\n",
              "      <td>0.01</td>\n",
              "      <td>sigmoid</td>\n",
              "    </tr>\n",
              "    <tr>\n",
              "      <th>1</th>\n",
              "      <td>10</td>\n",
              "      <td>0.691332</td>\n",
              "      <td>0.727273</td>\n",
              "      <td>0.268398</td>\n",
              "      <td>0.690578</td>\n",
              "      <td>0.784</td>\n",
              "      <td>0.081524</td>\n",
              "      <td>16</td>\n",
              "      <td>&lt;function relu at 0x7faf18dfb730&gt;</td>\n",
              "      <td>&lt;class 'keras.optimizers.Nadam'&gt;</td>\n",
              "      <td>&lt;function binary_crossentropy at 0x7faf18e49840&gt;</td>\n",
              "      <td>0</td>\n",
              "      <td>10</td>\n",
              "      <td>10</td>\n",
              "      <td>0.0</td>\n",
              "      <td>normal</td>\n",
              "      <td>0.01</td>\n",
              "      <td>sigmoid</td>\n",
              "    </tr>\n",
              "    <tr>\n",
              "      <th>2</th>\n",
              "      <td>4</td>\n",
              "      <td>0.692836</td>\n",
              "      <td>0.672727</td>\n",
              "      <td>0.300275</td>\n",
              "      <td>0.692735</td>\n",
              "      <td>0.728</td>\n",
              "      <td>0.315472</td>\n",
              "      <td>4</td>\n",
              "      <td>&lt;function relu at 0x7faf18dfb730&gt;</td>\n",
              "      <td>&lt;class 'keras.optimizers.Adam'&gt;</td>\n",
              "      <td>&lt;function binary_crossentropy at 0x7faf18e49840&gt;</td>\n",
              "      <td>0</td>\n",
              "      <td>30</td>\n",
              "      <td>4</td>\n",
              "      <td>0.1</td>\n",
              "      <td>uniform</td>\n",
              "      <td>0.10</td>\n",
              "      <td>sigmoid</td>\n",
              "    </tr>\n",
              "  </tbody>\n",
              "</table>\n",
              "</div>"
            ],
            "text/plain": [
              "   round_epochs  val_loss   val_acc  val_fmeasure_acc      loss    acc  \\\n",
              "0             4  0.690543  0.763636          0.000000  0.690048  0.672   \n",
              "1            10  0.691332  0.727273          0.268398  0.690578  0.784   \n",
              "2             4  0.692836  0.672727          0.300275  0.692735  0.728   \n",
              "\n",
              "   fmeasure_acc  first_neuron                            activation  \\\n",
              "0      0.350667            16  <function sigmoid at 0x7faf18dfb840>   \n",
              "1      0.081524            16     <function relu at 0x7faf18dfb730>   \n",
              "2      0.315472             4     <function relu at 0x7faf18dfb730>   \n",
              "\n",
              "                          optimizer  \\\n",
              "0  <class 'keras.optimizers.Nadam'>   \n",
              "1  <class 'keras.optimizers.Nadam'>   \n",
              "2   <class 'keras.optimizers.Adam'>   \n",
              "\n",
              "                                             losses  hidden_layers  \\\n",
              "0  <function binary_crossentropy at 0x7faf18e49840>              0   \n",
              "1  <function binary_crossentropy at 0x7faf18e49840>              0   \n",
              "2  <function binary_crossentropy at 0x7faf18e49840>              0   \n",
              "\n",
              "   batch_size  epochs  dropout kernel_initializer    lr last_activation  \n",
              "0          30       4      0.1            uniform  0.01         sigmoid  \n",
              "1          10      10      0.0             normal  0.01         sigmoid  \n",
              "2          30       4      0.1            uniform  0.10         sigmoid  "
            ]
          },
          "metadata": {
            "tags": []
          },
          "execution_count": 65
        }
      ]
    },
    {
      "metadata": {
        "id": "-Os1t3GKu5VA",
        "colab_type": "code",
        "colab": {
          "base_uri": "https://localhost:8080/",
          "height": 35
        },
        "outputId": "8d29d8b7-0caa-47e0-ce2f-1580faa2723d"
      },
      "cell_type": "code",
      "source": [
        "# get the number of rounds in the Scan\n",
        "r.rounds()"
      ],
      "execution_count": 66,
      "outputs": [
        {
          "output_type": "execute_result",
          "data": {
            "text/plain": [
              "1036"
            ]
          },
          "metadata": {
            "tags": []
          },
          "execution_count": 66
        }
      ]
    },
    {
      "metadata": {
        "id": "SmBCauXmu74R",
        "colab_type": "code",
        "colab": {
          "base_uri": "https://localhost:8080/",
          "height": 35
        },
        "outputId": "90121fb1-3ae2-4af2-90cf-45dfaad088b3"
      },
      "cell_type": "code",
      "source": [
        "# get the highest result ('val_acc' by default)\n",
        "r.high()"
      ],
      "execution_count": 67,
      "outputs": [
        {
          "output_type": "execute_result",
          "data": {
            "text/plain": [
              "0.8181818236004222"
            ]
          },
          "metadata": {
            "tags": []
          },
          "execution_count": 67
        }
      ]
    },
    {
      "metadata": {
        "id": "_ZPQqpf9u_FK",
        "colab_type": "code",
        "colab": {
          "base_uri": "https://localhost:8080/",
          "height": 69
        },
        "outputId": "31ded240-8fff-418b-f2b8-f16a4e6c0162"
      },
      "cell_type": "code",
      "source": [
        "# get the highest result for any metric\n",
        "print(\"F-measure accuracy:\", r.high('val_fmeasure_acc'))\n",
        "print(\"Training accuracy:\", r.high('acc'))\n",
        "print(\"Validation accuracy:\", r.high('val_acc'))"
      ],
      "execution_count": 68,
      "outputs": [
        {
          "output_type": "stream",
          "text": [
            "F-measure accuracy: 0.512121170759201\n",
            "Training accuracy: 0.8400000023841858\n",
            "Validation accuracy: 0.8181818236004222\n"
          ],
          "name": "stdout"
        }
      ]
    },
    {
      "metadata": {
        "id": "Hf-EDDDgvBFs",
        "colab_type": "code",
        "colab": {
          "base_uri": "https://localhost:8080/",
          "height": 69
        },
        "outputId": "a11fa573-0d36-426c-a4cd-aa19cff161bc"
      },
      "cell_type": "code",
      "source": [
        "# get the round with the best result\n",
        "print(r.rounds2high('val_fmeasure_acc'))\n",
        "print(r.rounds2high('acc'))\n",
        "print(r.rounds2high('val_acc'))"
      ],
      "execution_count": 69,
      "outputs": [
        {
          "output_type": "stream",
          "text": [
            "178\n",
            "128\n",
            "546\n"
          ],
          "name": "stdout"
        }
      ]
    },
    {
      "metadata": {
        "id": "HMrXRoMHFfde",
        "colab_type": "code",
        "colab": {
          "base_uri": "https://localhost:8080/",
          "height": 134
        },
        "outputId": "22c3e003-c321-4fa2-99ab-59a8212d1f23"
      },
      "cell_type": "code",
      "source": [
        "# access the row with the highest f-measure validation value\n",
        "h_value = r.high('val_fmeasure_acc')\n",
        "r.data.loc[r.data['val_fmeasure_acc'] == h_value]"
      ],
      "execution_count": 70,
      "outputs": [
        {
          "output_type": "execute_result",
          "data": {
            "text/html": [
              "<div>\n",
              "<style scoped>\n",
              "    .dataframe tbody tr th:only-of-type {\n",
              "        vertical-align: middle;\n",
              "    }\n",
              "\n",
              "    .dataframe tbody tr th {\n",
              "        vertical-align: top;\n",
              "    }\n",
              "\n",
              "    .dataframe thead th {\n",
              "        text-align: right;\n",
              "    }\n",
              "</style>\n",
              "<table border=\"1\" class=\"dataframe\">\n",
              "  <thead>\n",
              "    <tr style=\"text-align: right;\">\n",
              "      <th></th>\n",
              "      <th>round_epochs</th>\n",
              "      <th>val_loss</th>\n",
              "      <th>val_acc</th>\n",
              "      <th>val_fmeasure_acc</th>\n",
              "      <th>loss</th>\n",
              "      <th>acc</th>\n",
              "      <th>fmeasure_acc</th>\n",
              "      <th>first_neuron</th>\n",
              "      <th>activation</th>\n",
              "      <th>optimizer</th>\n",
              "      <th>losses</th>\n",
              "      <th>hidden_layers</th>\n",
              "      <th>batch_size</th>\n",
              "      <th>epochs</th>\n",
              "      <th>dropout</th>\n",
              "      <th>kernel_initializer</th>\n",
              "      <th>lr</th>\n",
              "      <th>last_activation</th>\n",
              "    </tr>\n",
              "  </thead>\n",
              "  <tbody>\n",
              "    <tr>\n",
              "      <th>178</th>\n",
              "      <td>25</td>\n",
              "      <td>0.691958</td>\n",
              "      <td>0.763636</td>\n",
              "      <td>0.512121</td>\n",
              "      <td>0.692221</td>\n",
              "      <td>0.776</td>\n",
              "      <td>0.29304</td>\n",
              "      <td>4</td>\n",
              "      <td>&lt;function relu at 0x7faf18dfb730&gt;</td>\n",
              "      <td>&lt;class 'keras.optimizers.Nadam'&gt;</td>\n",
              "      <td>&lt;function binary_crossentropy at 0x7faf18e49840&gt;</td>\n",
              "      <td>2</td>\n",
              "      <td>20</td>\n",
              "      <td>25</td>\n",
              "      <td>0.2</td>\n",
              "      <td>normal</td>\n",
              "      <td>0.01</td>\n",
              "      <td>sigmoid</td>\n",
              "    </tr>\n",
              "  </tbody>\n",
              "</table>\n",
              "</div>"
            ],
            "text/plain": [
              "     round_epochs  val_loss   val_acc  val_fmeasure_acc      loss    acc  \\\n",
              "178            25  0.691958  0.763636          0.512121  0.692221  0.776   \n",
              "\n",
              "     fmeasure_acc  first_neuron                         activation  \\\n",
              "178       0.29304             4  <function relu at 0x7faf18dfb730>   \n",
              "\n",
              "                            optimizer  \\\n",
              "178  <class 'keras.optimizers.Nadam'>   \n",
              "\n",
              "                                               losses  hidden_layers  \\\n",
              "178  <function binary_crossentropy at 0x7faf18e49840>              2   \n",
              "\n",
              "     batch_size  epochs  dropout kernel_initializer    lr last_activation  \n",
              "178          20      25      0.2             normal  0.01         sigmoid  "
            ]
          },
          "metadata": {
            "tags": []
          },
          "execution_count": 70
        }
      ]
    },
    {
      "metadata": {
        "id": "RGlss-RFvKYt",
        "colab_type": "code",
        "colab": {
          "base_uri": "https://localhost:8080/",
          "height": 225
        },
        "outputId": "08ecc09f-0545-4c68-f799-e64f37251330"
      },
      "cell_type": "code",
      "source": [
        "# get the best paramaters\n",
        "r.best_params(n=3) # return the best 3 sets of params"
      ],
      "execution_count": 71,
      "outputs": [
        {
          "output_type": "execute_result",
          "data": {
            "text/plain": [
              "array([['uniform', 32, \"<class 'keras.optimizers.Nadam'>\", 25,\n",
              "        '<function binary_crossentropy at 0x7faf18e49840>',\n",
              "        '<function relu at 0x7faf18dfb730>', 0.001, 2, 0.0, 'sigmoid',\n",
              "        20, 0],\n",
              "       ['uniform', 4, \"<class 'keras.optimizers.Adam'>\", 10,\n",
              "        '<function binary_crossentropy at 0x7faf18e49840>',\n",
              "        '<function relu at 0x7faf18dfb730>', 0.1, 1, 0.1, 'sigmoid', 30,\n",
              "        1],\n",
              "       ['normal', 32, \"<class 'keras.optimizers.Nadam'>\", 25,\n",
              "        '<function binary_crossentropy at 0x7faf18e49840>',\n",
              "        '<function relu at 0x7faf18dfb730>', 0.1, 0, 0.2, 'sigmoid', 30,\n",
              "        2]], dtype=object)"
            ]
          },
          "metadata": {
            "tags": []
          },
          "execution_count": 71
        }
      ]
    },
    {
      "metadata": {
        "id": "jsmR6_o0vZXh",
        "colab_type": "code",
        "colab": {
          "base_uri": "https://localhost:8080/",
          "height": 468
        },
        "outputId": "b22f5d96-91ca-470f-cc8f-7fd582976afd"
      },
      "cell_type": "code",
      "source": [
        "# get correlation for hyperparameters against a metric\n",
        "print(\"Hyperparameters and f-measure accuracy\")\n",
        "print(r.correlate('val_fmeasure_acc'),\"\\n\")\n",
        "print(\"Hyperparameters and validation loss\")\n",
        "print(r.correlate('val_loss'),\"\\n\")\n",
        "print(\"Hyperparameters and validation accuracy\")\n",
        "print(r.correlate('val_acc'))"
      ],
      "execution_count": 72,
      "outputs": [
        {
          "output_type": "stream",
          "text": [
            "Hyperparameters and f-measure accuracy\n",
            "first_neuron     0.048114\n",
            "hidden_layers    0.042303\n",
            "batch_size       0.093793\n",
            "epochs           0.004612\n",
            "dropout         -0.024489\n",
            "lr              -0.142437\n",
            "Name: val_fmeasure_acc, dtype: float64 \n",
            "\n",
            "Hyperparameters and validation loss\n",
            "first_neuron    -0.138480\n",
            "hidden_layers   -0.009155\n",
            "batch_size       0.090538\n",
            "epochs          -0.275169\n",
            "dropout          0.021375\n",
            "lr              -0.423076\n",
            "Name: val_loss, dtype: float64 \n",
            "\n",
            "Hyperparameters and validation accuracy\n",
            "first_neuron    -0.008519\n",
            "hidden_layers   -0.044707\n",
            "batch_size      -0.059162\n",
            "epochs           0.180308\n",
            "dropout          0.014738\n",
            "lr               0.350725\n",
            "Name: val_acc, dtype: float64\n"
          ],
          "name": "stdout"
        }
      ]
    },
    {
      "metadata": {
        "id": "4GaRG2g5vhxl",
        "colab_type": "code",
        "colab": {
          "base_uri": "https://localhost:8080/",
          "height": 481
        },
        "outputId": "1fa0305d-7c78-4276-e769-d5661e817b13"
      },
      "cell_type": "code",
      "source": [
        "# a regression plot for two dimensions \n",
        "r.plot_regs(\"val_acc\", \"epochs\")"
      ],
      "execution_count": 73,
      "outputs": [
        {
          "output_type": "display_data",
          "data": {
            "image/png": "[encoded data removed]",
            "text/plain": [
              "<Figure size 720x475.2 with 1 Axes>"
            ]
          },
          "metadata": {
            "tags": []
          }
        }
      ]
    },
    {
      "metadata": {
        "id": "BwlX1zsFaEz2",
        "colab_type": "code",
        "colab": {
          "base_uri": "https://localhost:8080/",
          "height": 518
        },
        "outputId": "a23f8cae-56c2-4049-ca8d-2cbed2aef332"
      },
      "cell_type": "code",
      "source": [
        "# line plot\n",
        "print(r.plot_line(\"val_acc\"))"
      ],
      "execution_count": 74,
      "outputs": [
        {
          "output_type": "stream",
          "text": [
            "None\n"
          ],
          "name": "stdout"
        },
        {
          "output_type": "display_data",
          "data": {
            "image/png": "[encoded data removed]",
            "text/plain": [
              "<Figure size 864x475.2 with 1 Axes>"
            ]
          },
          "metadata": {
            "tags": []
          }
        }
      ]
    },
    {
      "metadata": {
        "id": "ZRgsw8x5wEnx",
        "colab_type": "code",
        "colab": {
          "base_uri": "https://localhost:8080/",
          "height": 481
        },
        "outputId": "6f5a6277-3ceb-479b-da08-57117fc75fda"
      },
      "cell_type": "code",
      "source": [
        "# up to two dimensional kernel density estimator\n",
        "r.plot_kde(\"epochs\",\"val_acc\")"
      ],
      "execution_count": 75,
      "outputs": [
        {
          "output_type": "display_data",
          "data": {
            "image/png": "[encoded data removed]",
            "text/plain": [
              "<Figure size 720x475.2 with 1 Axes>"
            ]
          },
          "metadata": {
            "tags": []
          }
        }
      ]
    },
    {
      "metadata": {
        "id": "rMRhX83oxIv4",
        "colab_type": "code",
        "colab": {
          "base_uri": "https://localhost:8080/",
          "height": 481
        },
        "outputId": "a953d069-ae88-4d54-e9b5-5c5487459c03"
      },
      "cell_type": "code",
      "source": [
        "# a simple histogram\n",
        "r.plot_hist(bins=50)"
      ],
      "execution_count": 76,
      "outputs": [
        {
          "output_type": "display_data",
          "data": {
            "image/png": "[encoded data removed]",
            "text/plain": [
              "<Figure size 720x475.2 with 1 Axes>"
            ]
          },
          "metadata": {
            "tags": []
          }
        }
      ]
    },
    {
      "metadata": {
        "id": "QsM9EKRxxNf1",
        "colab_type": "code",
        "colab": {
          "base_uri": "https://localhost:8080/",
          "height": 313
        },
        "outputId": "9871e9ba-dbe1-425d-bce5-605c88cfcf0b"
      },
      "cell_type": "code",
      "source": [
        "# a four dimensional bar grid\n",
        "r.plot_bars('batch_size', 'val_acc', 'first_neuron', 'lr')"
      ],
      "execution_count": 77,
      "outputs": [
        {
          "output_type": "display_data",
          "data": {
            "image/png": "[encoded data removed]",
            "text/plain": [
              "<Figure size 1218.25x288 with 3 Axes>"
            ]
          },
          "metadata": {
            "tags": []
          }
        }
      ]
    },
    {
      "metadata": {
        "id": "YeXKG6T51GH3",
        "colab_type": "text"
      },
      "cell_type": "markdown",
      "source": [
        "## Evaluating models\n",
        "Models can be evaluated with Evaluate() against a k-fold cross-validation. Ideally at least 50% of the data, or more if possible, is kept completely out of the Scan process and only exposed into Evaluate once one or more candidate models have been identified.\n",
        "\n",
        "**See source code at** https://github.com/autonomio/talos/blob/daily-dev/talos/commands/evaluate.py\n"
      ]
    },
    {
      "metadata": {
        "id": "nJzqujxIdWgy",
        "colab_type": "code",
        "colab": {
          "base_uri": "https://localhost:8080/",
          "height": 69
        },
        "outputId": "34ad7aad-364b-4526-f9bb-c9c8e461efb8"
      },
      "cell_type": "code",
      "source": [
        "# k-fols crossvalidation with 10 folds, from test data\n",
        "# we're going to validate using the f-measure or harmonic mean since \n",
        "# combines precision and recall (optimize on that)\n",
        "# https://en.wikipedia.org/wiki/Precision_and_recall#F-measure\n",
        "\n",
        "e = ta.Evaluate(h)\n",
        "\n",
        "e.evaluate(x=x_test, y=y_test,\n",
        "           folds=10,\n",
        "           shuffle=True,\n",
        "           metric='val_fmeasure_acc',\n",
        "           mode='binary',\n",
        "           print_out=True)"
      ],
      "execution_count": 78,
      "outputs": [
        {
          "output_type": "stream",
          "text": [
            "mean : 0.05 \n",
            " std : 0.15\n"
          ],
          "name": "stdout"
        },
        {
          "output_type": "execute_result",
          "data": {
            "text/plain": [
              "[0.0, 0.5, 0.0, 0.0, 0.0, 0.0, 0.0, 0.0, 0.0, 0.0]"
            ]
          },
          "metadata": {
            "tags": []
          },
          "execution_count": 78
        }
      ]
    },
    {
      "metadata": {
        "id": "1z_nW90U1YDT",
        "colab_type": "text"
      },
      "cell_type": "markdown",
      "source": [
        "## Deploying models\n",
        "\n",
        "Once the right model or models have been found, you can create a deployment package with Deploy() which is then easy to transfer to a production or other environment, send via email, or upload to shared remote location. Best model is automatically chosen based on a given metric ('val_acc' by default).\n",
        "\n",
        "The Deploy package is a zip file that consist of:\n",
        "\n",
        "- details of the scan\n",
        "- model weights\n",
        "- model json\n",
        "- results of the experiment\n",
        "- sample of x data\n",
        "- sample of y data\n",
        "\n",
        "**See source code at** https://github.com/autonomio/talos/blob/daily-dev/talos/commands/deploy.py"
      ]
    },
    {
      "metadata": {
        "id": "x5k0Ow3s1veN",
        "colab_type": "code",
        "colab": {
          "base_uri": "https://localhost:8080/",
          "height": 35
        },
        "outputId": "75b43b39-0527-41dc-c279-3f64f13e5884"
      },
      "cell_type": "code",
      "source": [
        "# By default selects the model with best validation accuracy \"val_acc\"\n",
        "# Other metrics can be specified\n",
        "ta.Deploy(h, 'drawings-exp2', metric='val_fmeasure_acc');"
      ],
      "execution_count": 79,
      "outputs": [
        {
          "output_type": "stream",
          "text": [
            "Deploy package drawings-exp2 have been saved.\n"
          ],
          "name": "stdout"
        }
      ]
    },
    {
      "metadata": {
        "id": "A7N2o6du2ZiY",
        "colab_type": "text"
      },
      "cell_type": "markdown",
      "source": [
        "## Restoring models\n",
        "Restores the scan_object that had been stored locally as a result of talos.Deploy\n",
        "\n",
        "**See source code at** https://github.com/autonomio/talos/blob/daily-dev/talos/commands/restore.py "
      ]
    },
    {
      "metadata": {
        "id": "3xwaox5A2bk1",
        "colab_type": "code",
        "colab": {}
      },
      "cell_type": "code",
      "source": [
        "# Restore model from local environment\n",
        "drawings = ta.Restore('drawings-exp2.zip')"
      ],
      "execution_count": 0,
      "outputs": []
    },
    {
      "metadata": {
        "id": "UPinzBzp24wO",
        "colab_type": "code",
        "colab": {
          "base_uri": "https://localhost:8080/",
          "height": 173
        },
        "outputId": "73f8c198-1d9e-474f-cdf0-b2e4063b4afc"
      },
      "cell_type": "code",
      "source": [
        "# make predictions with the model\n",
        "drawings.model.predict(x_test)[0:9,] # print first 10"
      ],
      "execution_count": 81,
      "outputs": [
        {
          "output_type": "execute_result",
          "data": {
            "text/plain": [
              "array([[0.49851948],\n",
              "       [0.49932215],\n",
              "       [0.4986936 ],\n",
              "       [0.49928543],\n",
              "       [0.49902347],\n",
              "       [0.49879903],\n",
              "       [0.4991182 ],\n",
              "       [0.4991543 ],\n",
              "       [0.49925563]], dtype=float32)"
            ]
          },
          "metadata": {
            "tags": []
          },
          "execution_count": 81
        }
      ]
    },
    {
      "metadata": {
        "id": "VDOp6Hj73Fq4",
        "colab_type": "code",
        "colab": {
          "base_uri": "https://localhost:8080/",
          "height": 243
        },
        "outputId": "518ded01-d5ff-4532-b3c6-2a5392b87e83"
      },
      "cell_type": "code",
      "source": [
        "# get the meta-data for the experiment/optimization\n",
        "print(drawings.details)"
      ],
      "execution_count": 82,
      "outputs": [
        {
          "output_type": "stream",
          "text": [
            "                      0                 1\n",
            "0         random_method  uniform_mersenne\n",
            "1      reduction_method               NaN\n",
            "2    reduction_interval                50\n",
            "3      reduction_window                20\n",
            "4       grid_downsample               0.1\n",
            "5   reduction_threshold               0.2\n",
            "6      reduction_metric           val_acc\n",
            "7           reduce_loss             False\n",
            "8       experiment_name     041519200034_\n",
            "9         complete_time    04/15/19/20:36\n",
            "10              x_shape        (180, 200)\n",
            "11              y_shape            (180,)\n"
          ],
          "name": "stdout"
        }
      ]
    },
    {
      "metadata": {
        "id": "21pi4AT43nMx",
        "colab_type": "code",
        "colab": {
          "base_uri": "https://localhost:8080/",
          "height": 55
        },
        "outputId": "1f09e4be-f209-4439-a85e-6c5e7b3ccd6f"
      },
      "cell_type": "code",
      "source": [
        "# get the hyperparameter space boundary for the experiment/optimization\n",
        "print(drawings.params)"
      ],
      "execution_count": 83,
      "outputs": [
        {
          "output_type": "stream",
          "text": [
            "OrderedDict([('first_neuron', [4, 8, 16, 32]), ('activation', [<function relu at 0x7faf18dfb730>, <function sigmoid at 0x7faf18dfb840>]), ('optimizer', [<class 'keras.optimizers.Nadam'>, <class 'keras.optimizers.Adam'>]), ('losses', [<function binary_crossentropy at 0x7faf18e49840>]), ('hidden_layers', [0, 1, 2]), ('batch_size', [10, 20, 30]), ('epochs', [4, 10, 25, 50]), ('dropout', [0, 0.1, 0.2]), ('kernel_initializer', ['uniform', 'normal']), ('lr', [0.001, 0.01, 0.1]), ('last_activation', ['sigmoid'])])\n"
          ],
          "name": "stdout"
        }
      ]
    },
    {
      "metadata": {
        "id": "tu38HGIU3rJ4",
        "colab_type": "code",
        "colab": {
          "base_uri": "https://localhost:8080/",
          "height": 156
        },
        "outputId": "50e449f4-7947-4bde-bc5d-e8a8c6e7dc3f"
      },
      "cell_type": "code",
      "source": [
        "# sample of x and y data, returns pandas dataframe\n",
        "print(drawings.x.iloc[0:3, 0:3]) # print first 3 rows and columns\n",
        "print(drawings.y.iloc[0:3]) # print first 3 rows "
      ],
      "execution_count": 84,
      "outputs": [
        {
          "output_type": "stream",
          "text": [
            "          0         1         2\n",
            "0  0.217741 -0.107344  0.033749\n",
            "1  0.323461  0.078702  0.230611\n",
            "2 -0.010556 -0.111332  0.069449\n",
            "     0\n",
            "0  1.0\n",
            "1  0.0\n",
            "2  0.0\n"
          ],
          "name": "stdout"
        }
      ]
    },
    {
      "metadata": {
        "id": "Aa2lLx9d3s8Z",
        "colab_type": "code",
        "colab": {
          "base_uri": "https://localhost:8080/",
          "height": 282
        },
        "outputId": "8f49bc68-f1e1-4a76-934d-84c70af4b582"
      },
      "cell_type": "code",
      "source": [
        "# the results dataframe\n",
        "drawings.results[0:3] # print first 3 rows"
      ],
      "execution_count": 85,
      "outputs": [
        {
          "output_type": "execute_result",
          "data": {
            "text/html": [
              "<div>\n",
              "<style scoped>\n",
              "    .dataframe tbody tr th:only-of-type {\n",
              "        vertical-align: middle;\n",
              "    }\n",
              "\n",
              "    .dataframe tbody tr th {\n",
              "        vertical-align: top;\n",
              "    }\n",
              "\n",
              "    .dataframe thead th {\n",
              "        text-align: right;\n",
              "    }\n",
              "</style>\n",
              "<table border=\"1\" class=\"dataframe\">\n",
              "  <thead>\n",
              "    <tr style=\"text-align: right;\">\n",
              "      <th></th>\n",
              "      <th>round_epochs</th>\n",
              "      <th>val_loss</th>\n",
              "      <th>val_acc</th>\n",
              "      <th>val_fmeasure_acc</th>\n",
              "      <th>loss</th>\n",
              "      <th>acc</th>\n",
              "      <th>fmeasure_acc</th>\n",
              "      <th>first_neuron</th>\n",
              "      <th>activation</th>\n",
              "      <th>optimizer</th>\n",
              "      <th>losses</th>\n",
              "      <th>hidden_layers</th>\n",
              "      <th>batch_size</th>\n",
              "      <th>epochs</th>\n",
              "      <th>dropout</th>\n",
              "      <th>kernel_initializer</th>\n",
              "      <th>lr</th>\n",
              "      <th>last_activation</th>\n",
              "      <th>Unnamed: 19</th>\n",
              "    </tr>\n",
              "  </thead>\n",
              "  <tbody>\n",
              "    <tr>\n",
              "      <th>0</th>\n",
              "      <td>4</td>\n",
              "      <td>0.690543</td>\n",
              "      <td>0.763636</td>\n",
              "      <td>0.000000</td>\n",
              "      <td>0.690048</td>\n",
              "      <td>0.672</td>\n",
              "      <td>0.350667</td>\n",
              "      <td>16</td>\n",
              "      <td>&lt;function sigmoid at 0x7faf18dfb840&gt;</td>\n",
              "      <td>&lt;class 'keras.optimizers.Nadam'&gt;</td>\n",
              "      <td>&lt;function binary_crossentropy at 0x7faf18e49840&gt;</td>\n",
              "      <td>0</td>\n",
              "      <td>30</td>\n",
              "      <td>4</td>\n",
              "      <td>0.1</td>\n",
              "      <td>uniform</td>\n",
              "      <td>0.01</td>\n",
              "      <td>sigmoid</td>\n",
              "      <td>0</td>\n",
              "    </tr>\n",
              "    <tr>\n",
              "      <th>1</th>\n",
              "      <td>10</td>\n",
              "      <td>0.691332</td>\n",
              "      <td>0.727273</td>\n",
              "      <td>0.268398</td>\n",
              "      <td>0.690578</td>\n",
              "      <td>0.784</td>\n",
              "      <td>0.081524</td>\n",
              "      <td>16</td>\n",
              "      <td>&lt;function relu at 0x7faf18dfb730&gt;</td>\n",
              "      <td>&lt;class 'keras.optimizers.Nadam'&gt;</td>\n",
              "      <td>&lt;function binary_crossentropy at 0x7faf18e49840&gt;</td>\n",
              "      <td>0</td>\n",
              "      <td>10</td>\n",
              "      <td>10</td>\n",
              "      <td>0.0</td>\n",
              "      <td>normal</td>\n",
              "      <td>0.01</td>\n",
              "      <td>sigmoid</td>\n",
              "      <td>1</td>\n",
              "    </tr>\n",
              "    <tr>\n",
              "      <th>2</th>\n",
              "      <td>4</td>\n",
              "      <td>0.692836</td>\n",
              "      <td>0.672727</td>\n",
              "      <td>0.300275</td>\n",
              "      <td>0.692735</td>\n",
              "      <td>0.728</td>\n",
              "      <td>0.315472</td>\n",
              "      <td>4</td>\n",
              "      <td>&lt;function relu at 0x7faf18dfb730&gt;</td>\n",
              "      <td>&lt;class 'keras.optimizers.Adam'&gt;</td>\n",
              "      <td>&lt;function binary_crossentropy at 0x7faf18e49840&gt;</td>\n",
              "      <td>0</td>\n",
              "      <td>30</td>\n",
              "      <td>4</td>\n",
              "      <td>0.1</td>\n",
              "      <td>uniform</td>\n",
              "      <td>0.10</td>\n",
              "      <td>sigmoid</td>\n",
              "      <td>2</td>\n",
              "    </tr>\n",
              "  </tbody>\n",
              "</table>\n",
              "</div>"
            ],
            "text/plain": [
              "   round_epochs  val_loss   val_acc  val_fmeasure_acc      loss    acc  \\\n",
              "0             4  0.690543  0.763636          0.000000  0.690048  0.672   \n",
              "1            10  0.691332  0.727273          0.268398  0.690578  0.784   \n",
              "2             4  0.692836  0.672727          0.300275  0.692735  0.728   \n",
              "\n",
              "   fmeasure_acc  first_neuron                            activation  \\\n",
              "0      0.350667            16  <function sigmoid at 0x7faf18dfb840>   \n",
              "1      0.081524            16     <function relu at 0x7faf18dfb730>   \n",
              "2      0.315472             4     <function relu at 0x7faf18dfb730>   \n",
              "\n",
              "                          optimizer  \\\n",
              "0  <class 'keras.optimizers.Nadam'>   \n",
              "1  <class 'keras.optimizers.Nadam'>   \n",
              "2   <class 'keras.optimizers.Adam'>   \n",
              "\n",
              "                                             losses  hidden_layers  \\\n",
              "0  <function binary_crossentropy at 0x7faf18e49840>              0   \n",
              "1  <function binary_crossentropy at 0x7faf18e49840>              0   \n",
              "2  <function binary_crossentropy at 0x7faf18e49840>              0   \n",
              "\n",
              "   batch_size  epochs  dropout kernel_initializer    lr last_activation  \\\n",
              "0          30       4      0.1            uniform  0.01         sigmoid   \n",
              "1          10      10      0.0             normal  0.01         sigmoid   \n",
              "2          30       4      0.1            uniform  0.10         sigmoid   \n",
              "\n",
              "   Unnamed: 19  \n",
              "0            0  \n",
              "1            1  \n",
              "2            2  "
            ]
          },
          "metadata": {
            "tags": []
          },
          "execution_count": 85
        }
      ]
    },
    {
      "metadata": {
        "id": "4-DAUSyPfIkS",
        "colab_type": "text"
      },
      "cell_type": "markdown",
      "source": [
        "## Evaluating model on test set"
      ]
    },
    {
      "metadata": {
        "id": "Gsj4B8-4fVIB",
        "colab_type": "text"
      },
      "cell_type": "markdown",
      "source": [
        "### Confusion matrix"
      ]
    },
    {
      "metadata": {
        "id": "q_Ci3OF_bxaP",
        "colab_type": "code",
        "colab": {
          "base_uri": "https://localhost:8080/",
          "height": 139
        },
        "outputId": "b351aedf-e4eb-4a37-bd2e-38e7cc18a620"
      },
      "cell_type": "code",
      "source": [
        "from sklearn.metrics import confusion_matrix\n",
        "y_pred = model.predict_classes(x_test) # predicted labels\n",
        "y_true = y_test # true labels \n",
        "\n",
        "# Extract confusion matrix values\n",
        "true_neg, false_pos, false_neg, true_pos = confusion_matrix(y_true, y_pred).ravel()\n",
        "print(\"True negative:\", true_neg, \"\\n\")\n",
        "print(\"True positive:\", true_pos, \"\\n\")\n",
        "print(\"False negative:\", false_neg, \"\\n\")\n",
        "print(\"False positive:\", false_pos)"
      ],
      "execution_count": 86,
      "outputs": [
        {
          "output_type": "stream",
          "text": [
            "True negative: 63 \n",
            "\n",
            "True positive: 1 \n",
            "\n",
            "False negative: 12 \n",
            "\n",
            "False positive: 2\n"
          ],
          "name": "stdout"
        }
      ]
    },
    {
      "metadata": {
        "id": "_KbTwElFfXgM",
        "colab_type": "text"
      },
      "cell_type": "markdown",
      "source": [
        "### Classification report\n",
        "- **accuracy:** true positives + true negatives/ total results OR OR *“for all instances, what percent was correct?”*\n",
        "- **precision:** true positives / false positives + true positives OR *“for all instances classified positive, what percent was correct?”*\n",
        "- **recall:** true positives / true positives + false negatives   OR  “for all instances that were actually positive, what percent was classified correctly?”\n",
        "- **f1-score:** 2 * (precision * recall)/(precision + recall) // The F1 score is a weighted harmonic mean of precision and recall such that the best score is 1.0 and the worst is 0.0. \n",
        "-  **support:** is the number of actual occurrences of the class in the specified dataset. Imbalanced support in the training data may indicate structural weaknesses in the reported scores of the classifier and could indicate the need for stratified sampling or rebalancing\n",
        "\n",
        "**See documentation at** https://www.scikit-yb.org/en/latest/api/classifier/classification_report.html"
      ]
    },
    {
      "metadata": {
        "id": "RQYMySYceIBl",
        "colab_type": "code",
        "colab": {
          "base_uri": "https://localhost:8080/",
          "height": 191
        },
        "outputId": "5c540f63-9e74-418b-c92f-4959ec21889f"
      },
      "cell_type": "code",
      "source": [
        "from sklearn.metrics import classification_report\n",
        "from sklearn.metrics import accuracy_score\n",
        "\n",
        "classes = [\"child\", \"adult\"]\n",
        "\n",
        "print(\"accuracy:\", accuracy_score(y_true, y_pred))\n",
        "print(classification_report(y_true, y_pred, target_names=classes))"
      ],
      "execution_count": 87,
      "outputs": [
        {
          "output_type": "stream",
          "text": [
            "accuracy: 0.8205128205128205\n",
            "              precision    recall  f1-score   support\n",
            "\n",
            "       child       0.84      0.97      0.90        65\n",
            "       adult       0.33      0.08      0.12        13\n",
            "\n",
            "   micro avg       0.82      0.82      0.82        78\n",
            "   macro avg       0.59      0.52      0.51        78\n",
            "weighted avg       0.76      0.82      0.77        78\n",
            "\n"
          ],
          "name": "stdout"
        }
      ]
    },
    {
      "metadata": {
        "id": "SXdtsIOHBZWj",
        "colab_type": "text"
      },
      "cell_type": "markdown",
      "source": [
        "# Resources\n",
        "- **Talos repo**: https://github.com/autonomio/talos\n",
        "- **Talos example**:  https://nbviewer.jupyter.org/github/autonomio/talos/blob/master/examples/Hyperparameter%20Optimization%20on%20Keras%20with%20Breast%20Cancer%20Data.ipynb"
      ]
    }
  ]
}