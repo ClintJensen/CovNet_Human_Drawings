{
  "nbformat": 4,
  "nbformat_minor": 0,
  "metadata": {
    "colab": {
      "name": "model_training_hyperparameter_optimization.ipynb",
      "version": "0.3.2",
      "provenance": [],
      "toc_visible": true,
      "include_colab_link": true
    },
    "kernelspec": {
      "name": "python3",
      "display_name": "Python 3"
    },
    "accelerator": "GPU"
  },
  "cells": [
    {
      "cell_type": "markdown",
      "metadata": {
        "id": "view-in-github",
        "colab_type": "text"
      },
      "source": [
        "<a href=\"https://colab.research.google.com/github/pabloinsente/CovNet_Human_Drawings/blob/master/code/model_training_hyperparameter_optimization.ipynb\" target=\"_parent\"><img src=\"https://colab.research.google.com/assets/colab-badge.svg\" alt=\"Open In Colab\"/></a>"
      ]
    },
    {
      "metadata": {
        "id": "R6LRZjUh8mcM",
        "colab_type": "text"
      },
      "cell_type": "markdown",
      "source": [
        "# Model training and hyperparameter optimization for Age-prediction\n",
        "Here we use Keras and the Talos library to set up the hyperparameter optimization. \n",
        "\n",
        "***Warning***: since we are using colab, we need to (1) install talos (2) re-start the running environment AFTER installing Talos (to update some packages that Talos needs to un) before running the optimization.  "
      ]
    },
    {
      "metadata": {
        "id": "3oEwJCxQRSIn",
        "colab_type": "code",
        "colab": {}
      },
      "cell_type": "code",
      "source": [
        "!pip install talos\n",
        "!pip install rarfile"
      ],
      "execution_count": 0,
      "outputs": []
    },
    {
      "metadata": {
        "id": "LVwIGgW9N9v7",
        "colab_type": "code",
        "outputId": "9f2fd521-2240-4485-e1ee-e7e55bfdcdd0",
        "colab": {
          "base_uri": "https://localhost:8080/",
          "height": 89
        }
      },
      "cell_type": "code",
      "source": [
        "# Let's import Talos, Keras, and dependencies\n",
        "\n",
        "import talos as ta\n",
        "from talos.metrics.keras_metrics import precision_acc, recall_acc, matthews_correlation_acc, fmeasure_acc\n",
        "from talos.model.normalizers import lr_normalizer\n",
        "from talos.utils.best_model import best_model, activate_model\n",
        "from talos import Predict\n",
        "\n",
        "from keras.activations import relu, elu, sigmoid\n",
        "from keras.optimizers import Adam, Nadam, RMSprop\n",
        "from keras.losses import binary_crossentropy, logcosh\n",
        "from keras.models import Sequential\n",
        "from keras.layers import Dense, Dropout\n",
        "\n",
        "from sklearn.model_selection import train_test_split\n",
        "\n",
        "from imblearn.over_sampling import RandomOverSampler \n",
        "\n",
        "import pandas as pd\n",
        "from numpy import genfromtxt\n",
        "from collections import Counter\n",
        "import rarfile, csv\n",
        "\n",
        "import seaborn as sns\n",
        "import matplotlib.pyplot as plt\n",
        "%matplotlib inline"
      ],
      "execution_count": 1,
      "outputs": [
        {
          "output_type": "stream",
          "text": [
            "/usr/local/lib/python3.6/dist-packages/statsmodels/compat/pandas.py:56: FutureWarning: The pandas.core.datetools module is deprecated and will be removed in a future version. Please use the pandas.tseries module instead.\n",
            "  from pandas.core import datetools\n",
            "Using TensorFlow backend.\n"
          ],
          "name": "stderr"
        }
      ]
    },
    {
      "metadata": {
        "id": "jN0uSEPf8QBS",
        "colab_type": "text"
      },
      "cell_type": "markdown",
      "source": [
        "## Data preparation\n",
        "First, we need to split the data into training and testing as usual. The training dataset will be feed into the model training and optimization process The testing data will be used to evalute the model. "
      ]
    },
    {
      "metadata": {
        "id": "oGx8tVOIQ_6U",
        "colab_type": "code",
        "colab": {
          "base_uri": "https://localhost:8080/",
          "height": 139
        },
        "outputId": "aee0e101-14a7-4f7a-8ab4-4750f7004c69"
      },
      "cell_type": "code",
      "source": [
        "# Clone the data into Colab\n",
        "! git clone https://github.com/pabloinsente/CovNet_Human_Drawings"
      ],
      "execution_count": 2,
      "outputs": [
        {
          "output_type": "stream",
          "text": [
            "Cloning into 'CovNet_Human_Drawings'...\n",
            "remote: Enumerating objects: 8, done.\u001b[K\n",
            "remote: Counting objects: 100% (8/8), done.\u001b[K\n",
            "remote: Compressing objects: 100% (8/8), done.\u001b[K\n",
            "remote: Total 660 (delta 3), reused 0 (delta 0), pack-reused 652\u001b[K\n",
            "Receiving objects: 100% (660/660), 96.37 MiB | 50.68 MiB/s, done.\n",
            "Resolving deltas: 100% (185/185), done.\n"
          ],
          "name": "stdout"
        }
      ]
    },
    {
      "metadata": {
        "id": "GISuW-0qmZA6",
        "colab_type": "code",
        "colab": {
          "base_uri": "https://localhost:8080/",
          "height": 139
        },
        "outputId": "2b710f97-4a83-4436-be60-4eb8bebdb0c2"
      },
      "cell_type": "code",
      "source": [
        "# Read csv files from compressed rar file and convert into a dataframe\n",
        "rar_path = rarfile.RarFile(\"CovNet_Human_Drawings/data/merged_dataframes_prediction/x_drawings_features_max_pool_5.rar\")\n",
        "csv_file_name = \"x_drawings_features_max_pool_5.csv\"\n",
        "rar_file = rarfile.RarFile.open(rar_path, csv_file_name)\n",
        "x = pd.read_csv(rar_file, sep=\",\", header=None)\n",
        "print(x.shape)\n",
        "print(x.iloc[0:5,0:5])"
      ],
      "execution_count": 3,
      "outputs": [
        {
          "output_type": "stream",
          "text": [
            "(258, 25088)\n",
            "          0    1    2         3         4\n",
            "0 -0.001317  0.0  0.0 -0.001322 -0.003181\n",
            "1 -0.001052  0.0  0.0 -0.001056 -0.002540\n",
            "2 -0.001176  0.0  0.0 -0.001181 -0.002840\n",
            "3 -0.000836  0.0  0.0 -0.000839 -0.000957\n",
            "4 -0.001163  0.0  0.0 -0.001168  0.011156\n"
          ],
          "name": "stdout"
        }
      ]
    },
    {
      "metadata": {
        "id": "GEU3O3yepG6l",
        "colab_type": "code",
        "colab": {}
      },
      "cell_type": "code",
      "source": [
        "x = x.values # as numpy array"
      ],
      "execution_count": 0,
      "outputs": []
    },
    {
      "metadata": {
        "id": "MU75iiW7VYIj",
        "colab_type": "code",
        "outputId": "14339ded-c95b-4197-8c1d-ba67dd54c28f",
        "colab": {
          "base_uri": "https://localhost:8080/",
          "height": 52
        }
      },
      "cell_type": "code",
      "source": [
        "# Read labels vector\n",
        "y_path = 'CovNet_Human_Drawings/data/merged_dataframes_prediction/y_age_adult_labels.csv'\n",
        "y = genfromtxt(y_path, delimiter=',')\n",
        "\n",
        "#x = x.drop([0]) # drop headers\n",
        "print(y.shape)\n",
        "print(y[0:5])"
      ],
      "execution_count": 8,
      "outputs": [
        {
          "output_type": "stream",
          "text": [
            "(258,)\n",
            "[0. 0. 0. 0. 0.]\n"
          ],
          "name": "stdout"
        }
      ]
    },
    {
      "metadata": {
        "id": "pXlWYvau94lp",
        "colab_type": "code",
        "colab": {
          "base_uri": "https://localhost:8080/",
          "height": 269
        },
        "outputId": "c35b62c0-131a-4239-f73c-354f850ae503"
      },
      "cell_type": "code",
      "source": [
        "# Let's look at the distribution of 0s and 1s\n",
        "\n",
        "colors = ['#ef8a62' if v == 0 else '#67a9cf' for v in y]\n",
        "kwarg_params = {'linewidth': 1, 'edgecolor': 'black'}\n",
        "fig = plt.Figure(figsize=(12,6))\n",
        "plt.scatter(x[:, 0], x[:, 1], c=colors, **kwarg_params)\n",
        "sns.despine()"
      ],
      "execution_count": 9,
      "outputs": [
        {
          "output_type": "display_data",
          "data": {
            "image/png": "[encoded data removed]",
            "text/plain": [
              "<Figure size 432x288 with 1 Axes>"
            ]
          },
          "metadata": {
            "tags": []
          }
        }
      ]
    },
    {
      "metadata": {
        "id": "IjFd7wkTjvk2",
        "colab_type": "code",
        "outputId": "7c6d7cb4-e814-40fe-c5ff-eaa0ff4c05d0",
        "colab": {
          "base_uri": "https://localhost:8080/",
          "height": 87
        }
      },
      "cell_type": "code",
      "source": [
        "# Split data into train and test sets\n",
        "# Since we have an small sample, we will do a 70/30 split\n",
        "\n",
        "x_train, x_test, y_train, y_test = train_test_split(x, y, test_size = 0.3, random_state=44)\n",
        "print(x_train.shape) \n",
        "print(y_train.shape) \n",
        "print(x_test.shape) \n",
        "print(y_test.shape)"
      ],
      "execution_count": 10,
      "outputs": [
        {
          "output_type": "stream",
          "text": [
            "(180, 25088)\n",
            "(180,)\n",
            "(78, 25088)\n",
            "(78,)\n"
          ],
          "name": "stdout"
        }
      ]
    },
    {
      "metadata": {
        "id": "mTqZ23N5_fdM",
        "colab_type": "text"
      },
      "cell_type": "markdown",
      "source": [
        "###Resampling imbalanced data\n",
        "Since our classes are imbalanced, we will use oversampling of the \"adult\" class **on the training set**  to help training on that class. *imblearn* implement oversampling for us\n",
        "\n",
        "**See documentantion at** https://imbalanced-learn.readthedocs.io/en/stable/generated/imblearn.over_sampling.RandomOverSampler.html"
      ]
    },
    {
      "metadata": {
        "id": "4eQpvM3_6wTS",
        "colab_type": "code",
        "colab": {}
      },
      "cell_type": "code",
      "source": [
        "ros = RandomOverSampler(random_state=42)\n",
        "x_train_res, y_train_res = ros.fit_resample(x_train, y_train)"
      ],
      "execution_count": 0,
      "outputs": []
    },
    {
      "metadata": {
        "id": "CAgEjbau7-cF",
        "colab_type": "code",
        "outputId": "6cb5aeaf-4d50-4e1b-8356-5e40457c5185",
        "colab": {
          "base_uri": "https://localhost:8080/",
          "height": 69
        }
      },
      "cell_type": "code",
      "source": [
        "print(x_train_res.shape) # (258, 200)\n",
        "print(y_train_res.shape) # (258,)\n",
        "print('Resampled dataset shape %s' % Counter(y_train_res))\n",
        "\n",
        "# Now we have 50/50 balanced classes"
      ],
      "execution_count": 12,
      "outputs": [
        {
          "output_type": "stream",
          "text": [
            "(286, 25088)\n",
            "(286,)\n",
            "Resampled dataset shape Counter({1.0: 143, 0.0: 143})\n"
          ],
          "name": "stdout"
        }
      ]
    },
    {
      "metadata": {
        "id": "pAg1wGr_8AG1",
        "colab_type": "text"
      },
      "cell_type": "markdown",
      "source": [
        "## Model Definition\n",
        "Here we define the model using Keras. The main point is to pass all the arguments as keys of a Python dictionary instead of variables"
      ]
    },
    {
      "metadata": {
        "id": "LmQPGeHVMvFv",
        "colab_type": "code",
        "colab": {}
      },
      "cell_type": "code",
      "source": [
        "# define model\n",
        "def input_model(x_train, y_train, x_val, y_val, params):\n",
        "  model = Sequential()\n",
        "  # add hidden layer\n",
        "  model.add(Dense(params['first_neuron'], \n",
        "                  input_dim=x_train.shape[1], \n",
        "                  activation=params['activation'],\n",
        "                  kernel_initializer = params['kernel_initializer']))\n",
        "  # add dropout layer\n",
        "  model.add(Dropout(params['dropout']))\n",
        "  # add output layer\n",
        "  model.add(Dense(1,activation=params['last_activation'],\n",
        "                  kernel_initializer = params['kernel_initializer']))\n",
        "  # compile model\n",
        "  model.compile(loss=params['losses'],\n",
        "                optimizer=params['optimizer'](lr=lr_normalizer(params['lr'], params['optimizer'])),\n",
        "                metrics=['acc', fmeasure_acc, recall_acc, precision_acc, matthews_correlation_acc])\n",
        "  # train model\n",
        "  out = model.fit(x_train, y_train,\n",
        "                  validation_data=[x_val, y_val],\n",
        "                  batch_size=params['batch_size'],\n",
        "                  epochs=params['epochs'],\n",
        "                  verbose = 0)\n",
        "  return out, model"
      ],
      "execution_count": 0,
      "outputs": []
    },
    {
      "metadata": {
        "id": "6SqVZ7dM7uG-",
        "colab_type": "text"
      },
      "cell_type": "markdown",
      "source": [
        "## Setting the Parameter Space Boundaries \n",
        "here we create a dictionary, which will then be passed on to Talos together with the model above. Here we have three different ways to input values:\n",
        "\n",
        "- as stepped ranges (min, max, steps)\n",
        "- as multiple values [in a list]\n",
        "- as a single value [in a list]"
      ]
    },
    {
      "metadata": {
        "id": "dI3vgOBzlAPN",
        "colab_type": "code",
        "colab": {}
      },
      "cell_type": "code",
      "source": [
        "# set hyperparameters to optimize\n",
        "p = {'first_neuron': [4, 8, 16, 32, 64],\n",
        "     'activation': [relu, sigmoid],\n",
        "     'optimizer': [Nadam, Adam],\n",
        "     'losses':[binary_crossentropy],\n",
        "     'hidden_layers':[0, 1, 2],\n",
        "     'batch_size': [10, 20, 40],\n",
        "     'epochs':[10, 100, 200],\n",
        "     'dropout': [0, 0.1, 0.2],\n",
        "     'kernel_initializer': ['uniform','normal'],\n",
        "     'lr':[0.01, 0.1, 0.2],\n",
        "     'last_activation': ['sigmoid']}"
      ],
      "execution_count": 0,
      "outputs": []
    },
    {
      "metadata": {
        "id": "lwNKsUF_7WIA",
        "colab_type": "text"
      },
      "cell_type": "markdown",
      "source": [
        "## Running the hyperparameter optimization with Scan() \n",
        "Now we are ready to run the model based on the parameters and the layer configuration above. The exact same process would apply with any other model, just make sure to pass the model function name in the Scan() command as in the below example.\n",
        "\n"
      ]
    },
    {
      "metadata": {
        "id": "KPtOn24CUsEO",
        "colab_type": "code",
        "outputId": "b399b862-765a-4e8c-92ff-424a02b1f6f8",
        "colab": {
          "base_uri": "https://localhost:8080/",
          "height": 211
        }
      },
      "cell_type": "code",
      "source": [
        "# starting optimization\n",
        "h = ta.Scan(x= x_train_res, y=y_train_res,\n",
        "            params=p,\n",
        "            model=input_model,\n",
        "            # I use .29 split because that is ~20% of all data\n",
        "            val_split = 0.29,\n",
        "            dataset_name='Draw_a_person',\n",
        "            experiment_no='experiment_1',\n",
        "            grid_downsample=.02)"
      ],
      "execution_count": 15,
      "outputs": [
        {
          "output_type": "stream",
          "text": [
            "\r  0%|          | 0/194 [00:00<?, ?it/s]"
          ],
          "name": "stderr"
        },
        {
          "output_type": "stream",
          "text": [
            "WARNING:tensorflow:From /usr/local/lib/python3.6/dist-packages/tensorflow/python/framework/op_def_library.py:263: colocate_with (from tensorflow.python.framework.ops) is deprecated and will be removed in a future version.\n",
            "Instructions for updating:\n",
            "Colocations handled automatically by placer.\n",
            "WARNING:tensorflow:From /usr/local/lib/python3.6/dist-packages/keras/backend/tensorflow_backend.py:3445: calling dropout (from tensorflow.python.ops.nn_ops) with keep_prob is deprecated and will be removed in a future version.\n",
            "Instructions for updating:\n",
            "Please use `rate` instead of `keep_prob`. Rate should be set to `rate = 1 - keep_prob`.\n",
            "WARNING:tensorflow:From /usr/local/lib/python3.6/dist-packages/tensorflow/python/ops/math_ops.py:3066: to_int32 (from tensorflow.python.ops.math_ops) is deprecated and will be removed in a future version.\n",
            "Instructions for updating:\n",
            "Use tf.cast instead.\n"
          ],
          "name": "stdout"
        },
        {
          "output_type": "stream",
          "text": [
            "100%|██████████| 194/194 [29:58<00:00,  6.04s/it]\n"
          ],
          "name": "stderr"
        }
      ]
    },
    {
      "metadata": {
        "id": "vzXz0OXr66kG",
        "colab_type": "text"
      },
      "cell_type": "markdown",
      "source": [
        "## Accessing the results through the Scan object\n",
        "The scan object saves all the necessary information for analysis and deployment\n",
        "**See source code at** https://github.com/autonomio/talos/blob/daily-dev/talos/scan/Scan.py"
      ]
    },
    {
      "metadata": {
        "id": "3jLhYJQ4t5lQ",
        "colab_type": "code",
        "colab": {
          "base_uri": "https://localhost:8080/",
          "height": 294
        },
        "outputId": "4f768ae8-fc71-44ea-c5fc-11c93771a60e"
      },
      "cell_type": "code",
      "source": [
        "# accessing the results data frame\n",
        "h.data[0:3]"
      ],
      "execution_count": 16,
      "outputs": [
        {
          "output_type": "execute_result",
          "data": {
            "text/html": [
              "<div>\n",
              "<style scoped>\n",
              "    .dataframe tbody tr th:only-of-type {\n",
              "        vertical-align: middle;\n",
              "    }\n",
              "\n",
              "    .dataframe tbody tr th {\n",
              "        vertical-align: top;\n",
              "    }\n",
              "\n",
              "    .dataframe thead th {\n",
              "        text-align: right;\n",
              "    }\n",
              "</style>\n",
              "<table border=\"1\" class=\"dataframe\">\n",
              "  <thead>\n",
              "    <tr style=\"text-align: right;\">\n",
              "      <th></th>\n",
              "      <th>round_epochs</th>\n",
              "      <th>val_loss</th>\n",
              "      <th>val_acc</th>\n",
              "      <th>val_fmeasure_acc</th>\n",
              "      <th>val_recall_acc</th>\n",
              "      <th>val_precision_acc</th>\n",
              "      <th>val_matthews_correlation_acc</th>\n",
              "      <th>loss</th>\n",
              "      <th>acc</th>\n",
              "      <th>fmeasure_acc</th>\n",
              "      <th>...</th>\n",
              "      <th>activation</th>\n",
              "      <th>optimizer</th>\n",
              "      <th>losses</th>\n",
              "      <th>hidden_layers</th>\n",
              "      <th>batch_size</th>\n",
              "      <th>epochs</th>\n",
              "      <th>dropout</th>\n",
              "      <th>kernel_initializer</th>\n",
              "      <th>lr</th>\n",
              "      <th>last_activation</th>\n",
              "    </tr>\n",
              "  </thead>\n",
              "  <tbody>\n",
              "    <tr>\n",
              "      <th>0</th>\n",
              "      <td>100</td>\n",
              "      <td>0.360625</td>\n",
              "      <td>0.903614</td>\n",
              "      <td>0.914633</td>\n",
              "      <td>1.000000</td>\n",
              "      <td>0.873781</td>\n",
              "      <td>0.824478</td>\n",
              "      <td>0.076157</td>\n",
              "      <td>1.000000</td>\n",
              "      <td>1.000000</td>\n",
              "      <td>...</td>\n",
              "      <td>&lt;function sigmoid at 0x7f463917eae8&gt;</td>\n",
              "      <td>&lt;class 'keras.optimizers.Nadam'&gt;</td>\n",
              "      <td>&lt;function binary_crossentropy at 0x7f46391ccae8&gt;</td>\n",
              "      <td>2</td>\n",
              "      <td>10</td>\n",
              "      <td>100</td>\n",
              "      <td>0.1</td>\n",
              "      <td>uniform</td>\n",
              "      <td>0.10</td>\n",
              "      <td>sigmoid</td>\n",
              "    </tr>\n",
              "    <tr>\n",
              "      <th>1</th>\n",
              "      <td>200</td>\n",
              "      <td>0.662502</td>\n",
              "      <td>0.855422</td>\n",
              "      <td>0.851771</td>\n",
              "      <td>0.931727</td>\n",
              "      <td>0.873494</td>\n",
              "      <td>0.715812</td>\n",
              "      <td>0.613322</td>\n",
              "      <td>0.995074</td>\n",
              "      <td>0.996211</td>\n",
              "      <td>...</td>\n",
              "      <td>&lt;function relu at 0x7f463917e9d8&gt;</td>\n",
              "      <td>&lt;class 'keras.optimizers.Nadam'&gt;</td>\n",
              "      <td>&lt;function binary_crossentropy at 0x7f46391ccae8&gt;</td>\n",
              "      <td>2</td>\n",
              "      <td>10</td>\n",
              "      <td>200</td>\n",
              "      <td>0.1</td>\n",
              "      <td>normal</td>\n",
              "      <td>0.01</td>\n",
              "      <td>sigmoid</td>\n",
              "    </tr>\n",
              "    <tr>\n",
              "      <th>2</th>\n",
              "      <td>10</td>\n",
              "      <td>0.670817</td>\n",
              "      <td>0.855422</td>\n",
              "      <td>0.876959</td>\n",
              "      <td>1.000000</td>\n",
              "      <td>0.787866</td>\n",
              "      <td>0.722998</td>\n",
              "      <td>0.661827</td>\n",
              "      <td>0.916256</td>\n",
              "      <td>0.905934</td>\n",
              "      <td>...</td>\n",
              "      <td>&lt;function sigmoid at 0x7f463917eae8&gt;</td>\n",
              "      <td>&lt;class 'keras.optimizers.Nadam'&gt;</td>\n",
              "      <td>&lt;function binary_crossentropy at 0x7f46391ccae8&gt;</td>\n",
              "      <td>2</td>\n",
              "      <td>10</td>\n",
              "      <td>10</td>\n",
              "      <td>0.1</td>\n",
              "      <td>uniform</td>\n",
              "      <td>0.20</td>\n",
              "      <td>sigmoid</td>\n",
              "    </tr>\n",
              "  </tbody>\n",
              "</table>\n",
              "<p>3 rows × 24 columns</p>\n",
              "</div>"
            ],
            "text/plain": [
              "   round_epochs  val_loss   val_acc  val_fmeasure_acc  val_recall_acc  \\\n",
              "0           100  0.360625  0.903614          0.914633        1.000000   \n",
              "1           200  0.662502  0.855422          0.851771        0.931727   \n",
              "2            10  0.670817  0.855422          0.876959        1.000000   \n",
              "\n",
              "   val_precision_acc  val_matthews_correlation_acc      loss       acc  \\\n",
              "0           0.873781                      0.824478  0.076157  1.000000   \n",
              "1           0.873494                      0.715812  0.613322  0.995074   \n",
              "2           0.787866                      0.722998  0.661827  0.916256   \n",
              "\n",
              "   fmeasure_acc       ...                                   activation  \\\n",
              "0      1.000000       ...         <function sigmoid at 0x7f463917eae8>   \n",
              "1      0.996211       ...            <function relu at 0x7f463917e9d8>   \n",
              "2      0.905934       ...         <function sigmoid at 0x7f463917eae8>   \n",
              "\n",
              "                          optimizer  \\\n",
              "0  <class 'keras.optimizers.Nadam'>   \n",
              "1  <class 'keras.optimizers.Nadam'>   \n",
              "2  <class 'keras.optimizers.Nadam'>   \n",
              "\n",
              "                                             losses  hidden_layers batch_size  \\\n",
              "0  <function binary_crossentropy at 0x7f46391ccae8>              2         10   \n",
              "1  <function binary_crossentropy at 0x7f46391ccae8>              2         10   \n",
              "2  <function binary_crossentropy at 0x7f46391ccae8>              2         10   \n",
              "\n",
              "  epochs dropout  kernel_initializer    lr  last_activation  \n",
              "0    100     0.1             uniform  0.10          sigmoid  \n",
              "1    200     0.1              normal  0.01          sigmoid  \n",
              "2     10     0.1             uniform  0.20          sigmoid  \n",
              "\n",
              "[3 rows x 24 columns]"
            ]
          },
          "metadata": {
            "tags": []
          },
          "execution_count": 16
        }
      ]
    },
    {
      "metadata": {
        "id": "DkT24zd8xE3Z",
        "colab_type": "code",
        "colab": {}
      },
      "cell_type": "code",
      "source": [
        "# sort by criteria\n",
        "# h.data.sort_values('val_acc')"
      ],
      "execution_count": 0,
      "outputs": []
    },
    {
      "metadata": {
        "id": "P_eM9y8RiyfJ",
        "colab_type": "code",
        "colab": {
          "base_uri": "https://localhost:8080/",
          "height": 191
        },
        "outputId": "9094d6f3-e2a9-4d9d-8b07-2a8f091ced30"
      },
      "cell_type": "code",
      "source": [
        "# Best model based on training criteria \"val_acc\"\n",
        "# see source code to use https://github.com/autonomio/talos/blob/master/talos/utils/best_model.py\n",
        "\n",
        "criteria = 'acc'\n",
        "\n",
        "# get best model id from the scan object based on some acc measure\n",
        "model_id = best_model(h, criteria, False)\n",
        "# activate best model based on model id\n",
        "model = activate_model(h, model_id)\n",
        "# makes probability predictions based on weights from best model\n",
        "print(model.predict(x_test)[0:1,]) # print first value\n",
        "# makes class predictions based on weights from best model\n",
        "print(model.predict_classes(x_test)[0:9,]) # print first 10\n",
        "\n",
        "# All in one line\n",
        "# activate_model(scan_object, best_model(scan_object, 'val_acc', False)).predict(X)"
      ],
      "execution_count": 17,
      "outputs": [
        {
          "output_type": "stream",
          "text": [
            "[[0.53255486]]\n",
            "[[1]\n",
            " [0]\n",
            " [0]\n",
            " [0]\n",
            " [0]\n",
            " [1]\n",
            " [0]\n",
            " [0]\n",
            " [1]]\n"
          ],
          "name": "stdout"
        }
      ]
    },
    {
      "metadata": {
        "id": "Jps9bGEtuC0w",
        "colab_type": "code",
        "colab": {
          "base_uri": "https://localhost:8080/",
          "height": 222
        },
        "outputId": "a2769c75-bfa6-4275-fcfa-2fd641e31cd1"
      },
      "cell_type": "code",
      "source": [
        "# accessing epoch entropy values for each round\n",
        "h.peak_epochs_df[0:5] # print first 5 rows"
      ],
      "execution_count": 18,
      "outputs": [
        {
          "output_type": "execute_result",
          "data": {
            "text/html": [
              "<div>\n",
              "<style scoped>\n",
              "    .dataframe tbody tr th:only-of-type {\n",
              "        vertical-align: middle;\n",
              "    }\n",
              "\n",
              "    .dataframe tbody tr th {\n",
              "        vertical-align: top;\n",
              "    }\n",
              "\n",
              "    .dataframe thead th {\n",
              "        text-align: right;\n",
              "    }\n",
              "</style>\n",
              "<table border=\"1\" class=\"dataframe\">\n",
              "  <thead>\n",
              "    <tr style=\"text-align: right;\">\n",
              "      <th></th>\n",
              "      <th>val_loss</th>\n",
              "      <th>val_acc</th>\n",
              "      <th>val_fmeasure_acc</th>\n",
              "      <th>val_recall_acc</th>\n",
              "      <th>val_precision_acc</th>\n",
              "      <th>val_matthews_correlation_acc</th>\n",
              "      <th>loss</th>\n",
              "      <th>acc</th>\n",
              "      <th>fmeasure_acc</th>\n",
              "      <th>recall_acc</th>\n",
              "      <th>precision_acc</th>\n",
              "      <th>matthews_correlation_acc</th>\n",
              "      <th>acc_epoch</th>\n",
              "      <th>loss_epoch</th>\n",
              "    </tr>\n",
              "  </thead>\n",
              "  <tbody>\n",
              "    <tr>\n",
              "      <th>1</th>\n",
              "      <td>99</td>\n",
              "      <td>40</td>\n",
              "      <td>40</td>\n",
              "      <td>14</td>\n",
              "      <td>40</td>\n",
              "      <td>40</td>\n",
              "      <td>99</td>\n",
              "      <td>99</td>\n",
              "      <td>99</td>\n",
              "      <td>99</td>\n",
              "      <td>99</td>\n",
              "      <td>97</td>\n",
              "      <td>0.002040</td>\n",
              "      <td>0.092001</td>\n",
              "    </tr>\n",
              "    <tr>\n",
              "      <th>2</th>\n",
              "      <td>199</td>\n",
              "      <td>79</td>\n",
              "      <td>79</td>\n",
              "      <td>199</td>\n",
              "      <td>79</td>\n",
              "      <td>79</td>\n",
              "      <td>199</td>\n",
              "      <td>194</td>\n",
              "      <td>194</td>\n",
              "      <td>194</td>\n",
              "      <td>160</td>\n",
              "      <td>171</td>\n",
              "      <td>0.001363</td>\n",
              "      <td>0.000263</td>\n",
              "    </tr>\n",
              "    <tr>\n",
              "      <th>3</th>\n",
              "      <td>9</td>\n",
              "      <td>7</td>\n",
              "      <td>7</td>\n",
              "      <td>9</td>\n",
              "      <td>7</td>\n",
              "      <td>7</td>\n",
              "      <td>9</td>\n",
              "      <td>8</td>\n",
              "      <td>8</td>\n",
              "      <td>0</td>\n",
              "      <td>8</td>\n",
              "      <td>8</td>\n",
              "      <td>0.004365</td>\n",
              "      <td>0.000017</td>\n",
              "    </tr>\n",
              "    <tr>\n",
              "      <th>4</th>\n",
              "      <td>199</td>\n",
              "      <td>82</td>\n",
              "      <td>82</td>\n",
              "      <td>199</td>\n",
              "      <td>82</td>\n",
              "      <td>82</td>\n",
              "      <td>199</td>\n",
              "      <td>187</td>\n",
              "      <td>181</td>\n",
              "      <td>188</td>\n",
              "      <td>186</td>\n",
              "      <td>168</td>\n",
              "      <td>0.000628</td>\n",
              "      <td>0.000013</td>\n",
              "    </tr>\n",
              "    <tr>\n",
              "      <th>5</th>\n",
              "      <td>99</td>\n",
              "      <td>91</td>\n",
              "      <td>91</td>\n",
              "      <td>99</td>\n",
              "      <td>91</td>\n",
              "      <td>91</td>\n",
              "      <td>99</td>\n",
              "      <td>93</td>\n",
              "      <td>90</td>\n",
              "      <td>94</td>\n",
              "      <td>87</td>\n",
              "      <td>93</td>\n",
              "      <td>0.001217</td>\n",
              "      <td>0.000080</td>\n",
              "    </tr>\n",
              "  </tbody>\n",
              "</table>\n",
              "</div>"
            ],
            "text/plain": [
              "  val_loss val_acc val_fmeasure_acc val_recall_acc val_precision_acc  \\\n",
              "1       99      40               40             14                40   \n",
              "2      199      79               79            199                79   \n",
              "3        9       7                7              9                 7   \n",
              "4      199      82               82            199                82   \n",
              "5       99      91               91             99                91   \n",
              "\n",
              "  val_matthews_correlation_acc loss  acc fmeasure_acc recall_acc  \\\n",
              "1                           40   99   99           99         99   \n",
              "2                           79  199  194          194        194   \n",
              "3                            7    9    8            8          0   \n",
              "4                           82  199  187          181        188   \n",
              "5                           91   99   93           90         94   \n",
              "\n",
              "  precision_acc matthews_correlation_acc  acc_epoch  loss_epoch  \n",
              "1            99                       97   0.002040    0.092001  \n",
              "2           160                      171   0.001363    0.000263  \n",
              "3             8                        8   0.004365    0.000017  \n",
              "4           186                      168   0.000628    0.000013  \n",
              "5            87                       93   0.001217    0.000080  "
            ]
          },
          "metadata": {
            "tags": []
          },
          "execution_count": 18
        }
      ]
    },
    {
      "metadata": {
        "id": "6n2YlqKLuH1R",
        "colab_type": "code",
        "colab": {
          "base_uri": "https://localhost:8080/",
          "height": 243
        },
        "outputId": "cb8c08e8-1c15-4f74-8abf-37de500da05e"
      },
      "cell_type": "code",
      "source": [
        "# access the summary details\n",
        "h.details"
      ],
      "execution_count": 19,
      "outputs": [
        {
          "output_type": "execute_result",
          "data": {
            "text/plain": [
              "random_method                    uniform_mersenne\n",
              "reduction_method                             None\n",
              "reduction_interval                             50\n",
              "reduction_window                               20\n",
              "grid_downsample                              0.02\n",
              "reduction_threshold                           0.2\n",
              "reduction_metric                          val_acc\n",
              "reduce_loss                                 False\n",
              "experiment_name        Draw_a_person_experiment_1\n",
              "complete_time                      04/19/19/18:02\n",
              "x_shape                              (286, 25088)\n",
              "y_shape                                    (286,)\n",
              "dtype: object"
            ]
          },
          "metadata": {
            "tags": []
          },
          "execution_count": 19
        }
      ]
    },
    {
      "metadata": {
        "id": "TuCWhUXauTNt",
        "colab_type": "code",
        "colab": {
          "base_uri": "https://localhost:8080/",
          "height": 55
        },
        "outputId": "b7f0d496-5df9-4b03-c002-7e44b298a950"
      },
      "cell_type": "code",
      "source": [
        "# accessing the saved models\n",
        "h.saved_models[0] # print first model"
      ],
      "execution_count": 20,
      "outputs": [
        {
          "output_type": "execute_result",
          "data": {
            "text/plain": [
              "'{\"class_name\": \"Sequential\", \"config\": {\"name\": \"sequential_1\", \"layers\": [{\"class_name\": \"Dense\", \"config\": {\"name\": \"dense_1\", \"trainable\": true, \"batch_input_shape\": [null, 25088], \"dtype\": \"float32\", \"units\": 64, \"activation\": \"sigmoid\", \"use_bias\": true, \"kernel_initializer\": {\"class_name\": \"RandomUniform\", \"config\": {\"minval\": -0.05, \"maxval\": 0.05, \"seed\": null}}, \"bias_initializer\": {\"class_name\": \"Zeros\", \"config\": {}}, \"kernel_regularizer\": null, \"bias_regularizer\": null, \"activity_regularizer\": null, \"kernel_constraint\": null, \"bias_constraint\": null}}, {\"class_name\": \"Dropout\", \"config\": {\"name\": \"dropout_1\", \"trainable\": true, \"rate\": 0.1, \"noise_shape\": null, \"seed\": null}}, {\"class_name\": \"Dense\", \"config\": {\"name\": \"dense_2\", \"trainable\": true, \"units\": 1, \"activation\": \"sigmoid\", \"use_bias\": true, \"kernel_initializer\": {\"class_name\": \"RandomUniform\", \"config\": {\"minval\": -0.05, \"maxval\": 0.05, \"seed\": null}}, \"bias_initializer\": {\"class_name\": \"Zeros\", \"config\": {}}, \"kernel_regularizer\": null, \"bias_regularizer\": null, \"activity_regularizer\": null, \"kernel_constraint\": null, \"bias_constraint\": null}}]}, \"keras_version\": \"2.2.4\", \"backend\": \"tensorflow\"}'"
            ]
          },
          "metadata": {
            "tags": []
          },
          "execution_count": 20
        }
      ]
    },
    {
      "metadata": {
        "id": "iIySufgBuWNM",
        "colab_type": "code",
        "colab": {}
      },
      "cell_type": "code",
      "source": [
        "# accessing the saved weights for models\n",
        "# h.saved_weights[0] # print weights first model"
      ],
      "execution_count": 0,
      "outputs": []
    },
    {
      "metadata": {
        "id": "yF0EJL-cfvB7",
        "colab_type": "text"
      },
      "cell_type": "markdown",
      "source": [
        "## Reporting optimization\n",
        "In the Scan process, the results are stored round-by-round in the corresponding experiment log which is a .csv file stored in the present working directory. The Reporting() accepts as its source either a file name, or the Scan object.\n",
        "\n",
        "**See source code to dcide how to use this command** \n",
        "https://github.com/autonomio/talos/blob/daily-dev/talos/commands/reporting.py "
      ]
    },
    {
      "metadata": {
        "id": "vUSL0U1muiuK",
        "colab_type": "code",
        "colab": {}
      },
      "cell_type": "code",
      "source": [
        "# use Scan object as input\n",
        "r = ta.Reporting(h) # creates report object from scan object\n",
        "#r = ta.Reporting('Draw_a_person_experiment_3.csv')"
      ],
      "execution_count": 0,
      "outputs": []
    },
    {
      "metadata": {
        "id": "ZT5SHcUdux56",
        "colab_type": "code",
        "colab": {
          "base_uri": "https://localhost:8080/",
          "height": 294
        },
        "outputId": "b475d43c-cd05-43b3-d02c-85553f022481"
      },
      "cell_type": "code",
      "source": [
        "# access the dataframe with the results\n",
        "r.data[0:3]"
      ],
      "execution_count": 22,
      "outputs": [
        {
          "output_type": "execute_result",
          "data": {
            "text/html": [
              "<div>\n",
              "<style scoped>\n",
              "    .dataframe tbody tr th:only-of-type {\n",
              "        vertical-align: middle;\n",
              "    }\n",
              "\n",
              "    .dataframe tbody tr th {\n",
              "        vertical-align: top;\n",
              "    }\n",
              "\n",
              "    .dataframe thead th {\n",
              "        text-align: right;\n",
              "    }\n",
              "</style>\n",
              "<table border=\"1\" class=\"dataframe\">\n",
              "  <thead>\n",
              "    <tr style=\"text-align: right;\">\n",
              "      <th></th>\n",
              "      <th>round_epochs</th>\n",
              "      <th>val_loss</th>\n",
              "      <th>val_acc</th>\n",
              "      <th>val_fmeasure_acc</th>\n",
              "      <th>val_recall_acc</th>\n",
              "      <th>val_precision_acc</th>\n",
              "      <th>val_matthews_correlation_acc</th>\n",
              "      <th>loss</th>\n",
              "      <th>acc</th>\n",
              "      <th>fmeasure_acc</th>\n",
              "      <th>...</th>\n",
              "      <th>activation</th>\n",
              "      <th>optimizer</th>\n",
              "      <th>losses</th>\n",
              "      <th>hidden_layers</th>\n",
              "      <th>batch_size</th>\n",
              "      <th>epochs</th>\n",
              "      <th>dropout</th>\n",
              "      <th>kernel_initializer</th>\n",
              "      <th>lr</th>\n",
              "      <th>last_activation</th>\n",
              "    </tr>\n",
              "  </thead>\n",
              "  <tbody>\n",
              "    <tr>\n",
              "      <th>0</th>\n",
              "      <td>100</td>\n",
              "      <td>0.360625</td>\n",
              "      <td>0.903614</td>\n",
              "      <td>0.914633</td>\n",
              "      <td>1.000000</td>\n",
              "      <td>0.873781</td>\n",
              "      <td>0.824478</td>\n",
              "      <td>0.076157</td>\n",
              "      <td>1.000000</td>\n",
              "      <td>1.000000</td>\n",
              "      <td>...</td>\n",
              "      <td>&lt;function sigmoid at 0x7f463917eae8&gt;</td>\n",
              "      <td>&lt;class 'keras.optimizers.Nadam'&gt;</td>\n",
              "      <td>&lt;function binary_crossentropy at 0x7f46391ccae8&gt;</td>\n",
              "      <td>2</td>\n",
              "      <td>10</td>\n",
              "      <td>100</td>\n",
              "      <td>0.1</td>\n",
              "      <td>uniform</td>\n",
              "      <td>0.10</td>\n",
              "      <td>sigmoid</td>\n",
              "    </tr>\n",
              "    <tr>\n",
              "      <th>1</th>\n",
              "      <td>200</td>\n",
              "      <td>0.662502</td>\n",
              "      <td>0.855422</td>\n",
              "      <td>0.851771</td>\n",
              "      <td>0.931727</td>\n",
              "      <td>0.873494</td>\n",
              "      <td>0.715812</td>\n",
              "      <td>0.613322</td>\n",
              "      <td>0.995074</td>\n",
              "      <td>0.996211</td>\n",
              "      <td>...</td>\n",
              "      <td>&lt;function relu at 0x7f463917e9d8&gt;</td>\n",
              "      <td>&lt;class 'keras.optimizers.Nadam'&gt;</td>\n",
              "      <td>&lt;function binary_crossentropy at 0x7f46391ccae8&gt;</td>\n",
              "      <td>2</td>\n",
              "      <td>10</td>\n",
              "      <td>200</td>\n",
              "      <td>0.1</td>\n",
              "      <td>normal</td>\n",
              "      <td>0.01</td>\n",
              "      <td>sigmoid</td>\n",
              "    </tr>\n",
              "    <tr>\n",
              "      <th>2</th>\n",
              "      <td>10</td>\n",
              "      <td>0.670817</td>\n",
              "      <td>0.855422</td>\n",
              "      <td>0.876959</td>\n",
              "      <td>1.000000</td>\n",
              "      <td>0.787866</td>\n",
              "      <td>0.722998</td>\n",
              "      <td>0.661827</td>\n",
              "      <td>0.916256</td>\n",
              "      <td>0.905934</td>\n",
              "      <td>...</td>\n",
              "      <td>&lt;function sigmoid at 0x7f463917eae8&gt;</td>\n",
              "      <td>&lt;class 'keras.optimizers.Nadam'&gt;</td>\n",
              "      <td>&lt;function binary_crossentropy at 0x7f46391ccae8&gt;</td>\n",
              "      <td>2</td>\n",
              "      <td>10</td>\n",
              "      <td>10</td>\n",
              "      <td>0.1</td>\n",
              "      <td>uniform</td>\n",
              "      <td>0.20</td>\n",
              "      <td>sigmoid</td>\n",
              "    </tr>\n",
              "  </tbody>\n",
              "</table>\n",
              "<p>3 rows × 24 columns</p>\n",
              "</div>"
            ],
            "text/plain": [
              "   round_epochs  val_loss   val_acc  val_fmeasure_acc  val_recall_acc  \\\n",
              "0           100  0.360625  0.903614          0.914633        1.000000   \n",
              "1           200  0.662502  0.855422          0.851771        0.931727   \n",
              "2            10  0.670817  0.855422          0.876959        1.000000   \n",
              "\n",
              "   val_precision_acc  val_matthews_correlation_acc      loss       acc  \\\n",
              "0           0.873781                      0.824478  0.076157  1.000000   \n",
              "1           0.873494                      0.715812  0.613322  0.995074   \n",
              "2           0.787866                      0.722998  0.661827  0.916256   \n",
              "\n",
              "   fmeasure_acc       ...                                   activation  \\\n",
              "0      1.000000       ...         <function sigmoid at 0x7f463917eae8>   \n",
              "1      0.996211       ...            <function relu at 0x7f463917e9d8>   \n",
              "2      0.905934       ...         <function sigmoid at 0x7f463917eae8>   \n",
              "\n",
              "                          optimizer  \\\n",
              "0  <class 'keras.optimizers.Nadam'>   \n",
              "1  <class 'keras.optimizers.Nadam'>   \n",
              "2  <class 'keras.optimizers.Nadam'>   \n",
              "\n",
              "                                             losses  hidden_layers batch_size  \\\n",
              "0  <function binary_crossentropy at 0x7f46391ccae8>              2         10   \n",
              "1  <function binary_crossentropy at 0x7f46391ccae8>              2         10   \n",
              "2  <function binary_crossentropy at 0x7f46391ccae8>              2         10   \n",
              "\n",
              "  epochs dropout  kernel_initializer    lr  last_activation  \n",
              "0    100     0.1             uniform  0.10          sigmoid  \n",
              "1    200     0.1              normal  0.01          sigmoid  \n",
              "2     10     0.1             uniform  0.20          sigmoid  \n",
              "\n",
              "[3 rows x 24 columns]"
            ]
          },
          "metadata": {
            "tags": []
          },
          "execution_count": 22
        }
      ]
    },
    {
      "metadata": {
        "id": "-Os1t3GKu5VA",
        "colab_type": "code",
        "outputId": "c90bf7e9-67e8-4967-ab7a-60107d34c433",
        "colab": {
          "base_uri": "https://localhost:8080/",
          "height": 35
        }
      },
      "cell_type": "code",
      "source": [
        "# get the number of rounds in the Scan\n",
        "r.rounds()"
      ],
      "execution_count": 23,
      "outputs": [
        {
          "output_type": "execute_result",
          "data": {
            "text/plain": [
              "194"
            ]
          },
          "metadata": {
            "tags": []
          },
          "execution_count": 23
        }
      ]
    },
    {
      "metadata": {
        "id": "SmBCauXmu74R",
        "colab_type": "code",
        "outputId": "ec7dff60-8429-443c-a99d-a29396c5ab57",
        "colab": {
          "base_uri": "https://localhost:8080/",
          "height": 35
        }
      },
      "cell_type": "code",
      "source": [
        "# get the highest result ('val_acc' by default)\n",
        "r.high()"
      ],
      "execution_count": 24,
      "outputs": [
        {
          "output_type": "execute_result",
          "data": {
            "text/plain": [
              "0.9518072174256107"
            ]
          },
          "metadata": {
            "tags": []
          },
          "execution_count": 24
        }
      ]
    },
    {
      "metadata": {
        "id": "_ZPQqpf9u_FK",
        "colab_type": "code",
        "outputId": "676c1eae-77c9-4758-de32-83543bdde8be",
        "colab": {
          "base_uri": "https://localhost:8080/",
          "height": 121
        }
      },
      "cell_type": "code",
      "source": [
        "# get the highest result for any metric\n",
        "print(\"F-measure accuracy:\", r.high('val_fmeasure_acc'))\n",
        "print(\"Training accuracy:\", r.high('acc'))\n",
        "print(\"Validation accuracy:\", r.high('val_acc'))\n",
        "print(\"Validation recall accuracy:\", r.high('val_recall_acc'))\n",
        "print(\"Validation precision accuracy:\", r.high('val_precision_acc'))\n",
        "print(\"Validation matthews correlation accuracy:\", r.high('val_matthews_correlation_acc'))"
      ],
      "execution_count": 25,
      "outputs": [
        {
          "output_type": "stream",
          "text": [
            "F-measure accuracy: 0.9518071599753506\n",
            "Training accuracy: 1.0\n",
            "Validation accuracy: 0.9518072174256107\n",
            "Validation recall accuracy: 1.0\n",
            "Validation precision accuracy: 1.0\n",
            "Validation matthews correlation accuracy: 0.9036144348512213\n"
          ],
          "name": "stdout"
        }
      ]
    },
    {
      "metadata": {
        "id": "Hf-EDDDgvBFs",
        "colab_type": "code",
        "outputId": "ca21681c-8a5c-465a-e913-c1665cc1791b",
        "colab": {
          "base_uri": "https://localhost:8080/",
          "height": 121
        }
      },
      "cell_type": "code",
      "source": [
        "# get the round with the best result\n",
        "\n",
        "print(\"F-measure accuracy best round:\", r.rounds2high('val_fmeasure_acc'))\n",
        "print(\"Training accuracy best round:\", r.rounds2high('acc'))\n",
        "print(\"Validation accuracy best round:\", r.rounds2high('val_acc'))\n",
        "print(\"Validation recall accuracy best round:\", r.rounds2high('val_recall_acc'))\n",
        "print(\"Validation precision accuracy best round:\", r.rounds2high('val_precision_acc'))\n",
        "print(\"Validation matthews correlation accuracy best round:\", r.rounds2high('val_matthews_correlation_acc'))"
      ],
      "execution_count": 26,
      "outputs": [
        {
          "output_type": "stream",
          "text": [
            "F-measure accuracy best round: 117\n",
            "Training accuracy best round: 0\n",
            "Validation accuracy best round: 117\n",
            "Validation recall accuracy best round: 0\n",
            "Validation precision accuracy best round: 7\n",
            "Validation matthews correlation accuracy best round: 117\n"
          ],
          "name": "stdout"
        }
      ]
    },
    {
      "metadata": {
        "id": "jsmR6_o0vZXh",
        "colab_type": "code",
        "outputId": "caf2f766-96b9-4aba-f79e-0d099d8a7d42",
        "colab": {
          "base_uri": "https://localhost:8080/",
          "height": 780
        }
      },
      "cell_type": "code",
      "source": [
        "# get correlation for hyperparameters against a metric\n",
        "print(\"Hyperparameters and f-measure accuracy\")\n",
        "print(r.correlate('val_fmeasure_acc'),\"\\n\")\n",
        "print(\"Hyperparameters and validation loss\")\n",
        "print(r.correlate('val_loss'),\"\\n\")\n",
        "print(\"Hyperparameters and validation accuracy\")\n",
        "print(r.correlate('val_acc'),\"\\n\")\n",
        "print(\"Hyperparameters and recall accuracy\")\n",
        "print(r.correlate('val_recall_acc'),\"\\n\")\n",
        "print(\"Hyperparameters and precision accuracy\")\n",
        "print(r.correlate('val_precision_acc'))"
      ],
      "execution_count": 27,
      "outputs": [
        {
          "output_type": "stream",
          "text": [
            "Hyperparameters and f-measure accuracy\n",
            "first_neuron     0.327924\n",
            "hidden_layers   -0.003699\n",
            "batch_size      -0.092609\n",
            "epochs           0.320177\n",
            "dropout         -0.003323\n",
            "lr               0.257724\n",
            "Name: val_fmeasure_acc, dtype: float64 \n",
            "\n",
            "Hyperparameters and validation loss\n",
            "first_neuron    -0.362076\n",
            "hidden_layers    0.056660\n",
            "batch_size       0.168656\n",
            "epochs          -0.438552\n",
            "dropout          0.078771\n",
            "lr              -0.546637\n",
            "Name: val_loss, dtype: float64 \n",
            "\n",
            "Hyperparameters and validation accuracy\n",
            "first_neuron     0.409164\n",
            "hidden_layers   -0.037556\n",
            "batch_size      -0.134662\n",
            "epochs           0.417155\n",
            "dropout          0.019501\n",
            "lr               0.392778\n",
            "Name: val_acc, dtype: float64 \n",
            "\n",
            "Hyperparameters and recall accuracy\n",
            "first_neuron     0.248213\n",
            "hidden_layers    0.022887\n",
            "batch_size      -0.062606\n",
            "epochs           0.272499\n",
            "dropout         -0.031886\n",
            "lr               0.212883\n",
            "Name: val_recall_acc, dtype: float64 \n",
            "\n",
            "Hyperparameters and precision accuracy\n",
            "first_neuron     0.333522\n",
            "hidden_layers   -0.019835\n",
            "batch_size      -0.063842\n",
            "epochs           0.307559\n",
            "dropout          0.045716\n",
            "lr               0.292793\n",
            "Name: val_precision_acc, dtype: float64\n"
          ],
          "name": "stdout"
        }
      ]
    },
    {
      "metadata": {
        "id": "HMrXRoMHFfde",
        "colab_type": "code",
        "colab": {
          "base_uri": "https://localhost:8080/",
          "height": 163
        },
        "outputId": "787ec203-fa92-4d9d-9dc4-0703bbaac04e"
      },
      "cell_type": "code",
      "source": [
        "# access the row with the highest f-measure validation value\n",
        "h_value = r.high('val_fmeasure_acc')\n",
        "r.data.loc[r.data['val_fmeasure_acc'] == h_value]"
      ],
      "execution_count": 28,
      "outputs": [
        {
          "output_type": "execute_result",
          "data": {
            "text/html": [
              "<div>\n",
              "<style scoped>\n",
              "    .dataframe tbody tr th:only-of-type {\n",
              "        vertical-align: middle;\n",
              "    }\n",
              "\n",
              "    .dataframe tbody tr th {\n",
              "        vertical-align: top;\n",
              "    }\n",
              "\n",
              "    .dataframe thead th {\n",
              "        text-align: right;\n",
              "    }\n",
              "</style>\n",
              "<table border=\"1\" class=\"dataframe\">\n",
              "  <thead>\n",
              "    <tr style=\"text-align: right;\">\n",
              "      <th></th>\n",
              "      <th>round_epochs</th>\n",
              "      <th>val_loss</th>\n",
              "      <th>val_acc</th>\n",
              "      <th>val_fmeasure_acc</th>\n",
              "      <th>val_recall_acc</th>\n",
              "      <th>val_precision_acc</th>\n",
              "      <th>val_matthews_correlation_acc</th>\n",
              "      <th>loss</th>\n",
              "      <th>acc</th>\n",
              "      <th>fmeasure_acc</th>\n",
              "      <th>...</th>\n",
              "      <th>activation</th>\n",
              "      <th>optimizer</th>\n",
              "      <th>losses</th>\n",
              "      <th>hidden_layers</th>\n",
              "      <th>batch_size</th>\n",
              "      <th>epochs</th>\n",
              "      <th>dropout</th>\n",
              "      <th>kernel_initializer</th>\n",
              "      <th>lr</th>\n",
              "      <th>last_activation</th>\n",
              "    </tr>\n",
              "  </thead>\n",
              "  <tbody>\n",
              "    <tr>\n",
              "      <th>117</th>\n",
              "      <td>10</td>\n",
              "      <td>0.687988</td>\n",
              "      <td>0.951807</td>\n",
              "      <td>0.951807</td>\n",
              "      <td>0.975904</td>\n",
              "      <td>0.951807</td>\n",
              "      <td>0.903614</td>\n",
              "      <td>0.683146</td>\n",
              "      <td>1.0</td>\n",
              "      <td>1.0</td>\n",
              "      <td>...</td>\n",
              "      <td>&lt;function relu at 0x7f463917e9d8&gt;</td>\n",
              "      <td>&lt;class 'keras.optimizers.Adam'&gt;</td>\n",
              "      <td>&lt;function binary_crossentropy at 0x7f46391ccae8&gt;</td>\n",
              "      <td>1</td>\n",
              "      <td>40</td>\n",
              "      <td>10</td>\n",
              "      <td>0.2</td>\n",
              "      <td>uniform</td>\n",
              "      <td>0.1</td>\n",
              "      <td>sigmoid</td>\n",
              "    </tr>\n",
              "  </tbody>\n",
              "</table>\n",
              "<p>1 rows × 24 columns</p>\n",
              "</div>"
            ],
            "text/plain": [
              "     round_epochs  val_loss   val_acc  val_fmeasure_acc  val_recall_acc  \\\n",
              "117            10  0.687988  0.951807          0.951807        0.975904   \n",
              "\n",
              "     val_precision_acc  val_matthews_correlation_acc      loss  acc  \\\n",
              "117           0.951807                      0.903614  0.683146  1.0   \n",
              "\n",
              "     fmeasure_acc       ...                                activation  \\\n",
              "117           1.0       ...         <function relu at 0x7f463917e9d8>   \n",
              "\n",
              "                           optimizer  \\\n",
              "117  <class 'keras.optimizers.Adam'>   \n",
              "\n",
              "                                               losses  hidden_layers  \\\n",
              "117  <function binary_crossentropy at 0x7f46391ccae8>              1   \n",
              "\n",
              "    batch_size epochs dropout  kernel_initializer   lr  last_activation  \n",
              "117         40     10     0.2             uniform  0.1          sigmoid  \n",
              "\n",
              "[1 rows x 24 columns]"
            ]
          },
          "metadata": {
            "tags": []
          },
          "execution_count": 28
        }
      ]
    },
    {
      "metadata": {
        "id": "RGlss-RFvKYt",
        "colab_type": "code",
        "colab": {
          "base_uri": "https://localhost:8080/",
          "height": 225
        },
        "outputId": "b85295e2-742b-4940-d330-972a5fc2b06d"
      },
      "cell_type": "code",
      "source": [
        "# get the best paramaters\n",
        "r.best_params(n=3) # return the best 3 sets of params"
      ],
      "execution_count": 29,
      "outputs": [
        {
          "output_type": "execute_result",
          "data": {
            "text/plain": [
              "array([[0.2, 40, 10, \"<class 'keras.optimizers.Adam'>\", 64, 'uniform',\n",
              "        '<function relu at 0x7f463917e9d8>', 0.1,\n",
              "        '<function binary_crossentropy at 0x7f46391ccae8>', 'sigmoid', 1,\n",
              "        0],\n",
              "       [0.1, 20, 100, \"<class 'keras.optimizers.Nadam'>\", 16, 'normal',\n",
              "        '<function sigmoid at 0x7f463917eae8>', 0.2,\n",
              "        '<function binary_crossentropy at 0x7f46391ccae8>', 'sigmoid', 2,\n",
              "        1],\n",
              "       [0.2, 10, 200, \"<class 'keras.optimizers.Nadam'>\", 4, 'normal',\n",
              "        '<function sigmoid at 0x7f463917eae8>', 0.2,\n",
              "        '<function binary_crossentropy at 0x7f46391ccae8>', 'sigmoid', 2,\n",
              "        2]], dtype=object)"
            ]
          },
          "metadata": {
            "tags": []
          },
          "execution_count": 29
        }
      ]
    },
    {
      "metadata": {
        "id": "4GaRG2g5vhxl",
        "colab_type": "code",
        "outputId": "fc2143ff-f050-48d6-9d81-05388a56444a",
        "colab": {
          "base_uri": "https://localhost:8080/",
          "height": 481
        }
      },
      "cell_type": "code",
      "source": [
        "# a regression plot for two dimensions \n",
        "r.plot_regs(\"val_acc\", \"epochs\")"
      ],
      "execution_count": 30,
      "outputs": [
        {
          "output_type": "display_data",
          "data": {
            "image/png": "[encoded data removed]",
            "text/plain": [
              "<Figure size 720x475.2 with 1 Axes>"
            ]
          },
          "metadata": {
            "tags": []
          }
        }
      ]
    },
    {
      "metadata": {
        "id": "BwlX1zsFaEz2",
        "colab_type": "code",
        "outputId": "d5a53eb9-0575-40be-d405-b3d905de5a5a",
        "colab": {
          "base_uri": "https://localhost:8080/",
          "height": 518
        }
      },
      "cell_type": "code",
      "source": [
        "# line plot\n",
        "print(r.plot_line(\"val_acc\"))"
      ],
      "execution_count": 31,
      "outputs": [
        {
          "output_type": "stream",
          "text": [
            "None\n"
          ],
          "name": "stdout"
        },
        {
          "output_type": "display_data",
          "data": {
            "image/png": "[encoded data removed]",
            "text/plain": [
              "<Figure size 864x475.2 with 1 Axes>"
            ]
          },
          "metadata": {
            "tags": []
          }
        }
      ]
    },
    {
      "metadata": {
        "id": "ZRgsw8x5wEnx",
        "colab_type": "code",
        "outputId": "b2c6d5db-e574-4e03-f59f-f6e9d2fe183a",
        "colab": {
          "base_uri": "https://localhost:8080/",
          "height": 481
        }
      },
      "cell_type": "code",
      "source": [
        "# up to two dimensional kernel density estimator\n",
        "r.plot_kde(\"epochs\",\"val_acc\")"
      ],
      "execution_count": 32,
      "outputs": [
        {
          "output_type": "display_data",
          "data": {
            "image/png": "[encoded data removed]",
            "text/plain": [
              "<Figure size 720x475.2 with 1 Axes>"
            ]
          },
          "metadata": {
            "tags": []
          }
        }
      ]
    },
    {
      "metadata": {
        "id": "rMRhX83oxIv4",
        "colab_type": "code",
        "outputId": "2755c20c-07cc-471d-b009-f120dfc6c1c6",
        "colab": {
          "base_uri": "https://localhost:8080/",
          "height": 481
        }
      },
      "cell_type": "code",
      "source": [
        "# a simple histogram\n",
        "r.plot_hist(bins=50)"
      ],
      "execution_count": 33,
      "outputs": [
        {
          "output_type": "display_data",
          "data": {
            "image/png": "[encoded data removed]",
            "text/plain": [
              "<Figure size 720x475.2 with 1 Axes>"
            ]
          },
          "metadata": {
            "tags": []
          }
        }
      ]
    },
    {
      "metadata": {
        "id": "QsM9EKRxxNf1",
        "colab_type": "code",
        "outputId": "6f0907a7-0762-4f6e-d4f9-fc44d6eaa304",
        "colab": {
          "base_uri": "https://localhost:8080/",
          "height": 313
        }
      },
      "cell_type": "code",
      "source": [
        "# a four dimensional bar grid\n",
        "r.plot_bars('batch_size', 'val_acc', 'first_neuron', 'lr')"
      ],
      "execution_count": 34,
      "outputs": [
        {
          "output_type": "display_data",
          "data": {
            "image/png": "[encoded data removed]",
            "text/plain": [
              "<Figure size 1236.25x288 with 3 Axes>"
            ]
          },
          "metadata": {
            "tags": []
          }
        }
      ]
    },
    {
      "metadata": {
        "id": "YeXKG6T51GH3",
        "colab_type": "text"
      },
      "cell_type": "markdown",
      "source": [
        "## Evaluating models\n",
        "Models can be evaluated with Evaluate() against a k-fold cross-validation. Ideally at least 50% of the data, or more if possible, is kept completely out of the Scan process and only exposed into Evaluate once one or more candidate models have been identified.\n",
        "\n",
        "**See source code at** https://github.com/autonomio/talos/blob/daily-dev/talos/commands/evaluate.py\n"
      ]
    },
    {
      "metadata": {
        "id": "nJzqujxIdWgy",
        "colab_type": "code",
        "colab": {
          "base_uri": "https://localhost:8080/",
          "height": 69
        },
        "outputId": "f2281be9-7f70-41a8-8249-05fb8f5b90cd"
      },
      "cell_type": "code",
      "source": [
        "# k-fols crossvalidation with 10 folds, from test data\n",
        "# we're going to validate using the f-measure or harmonic mean since \n",
        "# combines precision and recall (optimize on that)\n",
        "# https://en.wikipedia.org/wiki/Precision_and_recall#F-measure\n",
        "\n",
        "e = ta.Evaluate(h)\n",
        "\n",
        "e.evaluate(x=x_test, y=y_test,\n",
        "           folds=10,\n",
        "           shuffle=True,\n",
        "           metric='val_fmeasure_acc',\n",
        "           mode='binary',\n",
        "           print_out=True)"
      ],
      "execution_count": 35,
      "outputs": [
        {
          "output_type": "stream",
          "text": [
            "mean : 0.10 \n",
            " std : 0.20\n"
          ],
          "name": "stdout"
        },
        {
          "output_type": "execute_result",
          "data": {
            "text/plain": [
              "[0.0, 0.0, 0.0, 0.0, 0.5, 0.0, 0.0, 0.0, 0.5, 0.0]"
            ]
          },
          "metadata": {
            "tags": []
          },
          "execution_count": 35
        }
      ]
    },
    {
      "metadata": {
        "id": "4-DAUSyPfIkS",
        "colab_type": "text"
      },
      "cell_type": "markdown",
      "source": [
        "## Evaluating model on test set"
      ]
    },
    {
      "metadata": {
        "id": "_KbTwElFfXgM",
        "colab_type": "text"
      },
      "cell_type": "markdown",
      "source": [
        "### Classification report AND Confusion matrix\n",
        "\n",
        "Here we will iterate over all possible evaluation criteria to generate a matrix of confusion matrices. Each evaluation criteria (acc, val_acc, etc.) index the round (model) with the highest value on that criteria from all the trained models.\n",
        "\n",
        "After model selection, we make predictions on the test set. The results for the confusion matrix and the classification report are storaged in a pandas dataframe for each model-criteria pair. \n",
        "\n",
        "- **accuracy:** true positives + true negatives/ total results OR OR *“for all instances, what percent was correct?”*\n",
        "- **precision:** true positives / false positives + true positives OR *“for all instances classified positive, what percent was correct?”*\n",
        "- **recall:** true positives / true positives + false negatives   OR  “for all instances that were actually positive, what percent was classified correctly?”\n",
        "- **f1-score:** 2 * (precision * recall)/(precision + recall) // The F1 score is a weighted harmonic mean of precision and recall such that the best score is 1.0 and the worst is 0.0. \n",
        "-  **support:** is the number of actual occurrences of the class in the specified dataset. Imbalanced support in the training data may indicate structural weaknesses in the reported scores of the classifier and could indicate the need for stratified sampling or rebalancing\n",
        "\n",
        "**See documentation at** https://www.scikit-yb.org/en/latest/api/classifier/classification_report.html"
      ]
    },
    {
      "metadata": {
        "id": "gySzkULR_yXa",
        "colab_type": "code",
        "colab": {}
      },
      "cell_type": "code",
      "source": [
        "# Here we loop over the best models based on relevant criterias to build a \n",
        "# confusion matrix and classification report \n",
        "\n",
        "from sklearn.metrics import confusion_matrix\n",
        "from sklearn.metrics import classification_report\n",
        "from sklearn.metrics import accuracy_score\n",
        "from sklearn.metrics import average_precision_score\n",
        "from sklearn.metrics import matthews_corrcoef\n",
        "from sklearn.metrics import precision_recall_fscore_support as score\n",
        "\n",
        "import pandas as pd\n",
        "\n",
        "# for all (child and adult)\n",
        "true_neg_l = []\n",
        "false_pos_l = []\n",
        "false_neg_l = []\n",
        "true_pos_l = []\n",
        "matthews_l = []\n",
        "ave_precision_l = []\n",
        "accuracy_score_l = []\n",
        "\n",
        "\n",
        "# for child\n",
        "precision_l_c = []\n",
        "recall_l_c = []\n",
        "fscore_l_c = []\n",
        "support_l_c = []\n",
        "\n",
        "# for adult\n",
        "precision_l_a = []\n",
        "recall_l_a = []\n",
        "fscore_l_a = []\n",
        "support_l_a = []\n",
        "\n",
        "\n",
        "criteria_list= ['acc', 'fmeasure_acc', 'recall_acc', 'precision_acc', 'matthews_correlation_acc',\n",
        "               'val_acc', 'val_fmeasure_acc', 'val_recall_acc', 'val_precision_acc', 'val_matthews_correlation_acc']\n",
        "for criteria in criteria_list:\n",
        "  # get best model id from the scan object based on some acc measure\n",
        "  model_id = best_model(h, criteria, False)\n",
        "  # activate best model based on model id\n",
        "  model = activate_model(h, model_id)\n",
        "  \n",
        "  # predicted labels\n",
        "  y_pred = model.predict_classes(x_test) \n",
        "  # true labels\n",
        "  y_true = y_test \n",
        "  \n",
        "  # Extract confusion matrix values\n",
        "  true_neg, false_pos, false_neg, true_pos = confusion_matrix(y_true, y_pred).ravel()\n",
        "  true_neg_l.append(true_neg)\n",
        "  false_pos_l.append(false_pos)\n",
        "  false_neg_l.append(false_neg)\n",
        "  true_pos_l.append(true_pos)\n",
        "  \n",
        "  # extract \n",
        "  precision,recall,fscore,support = score(y_true,y_pred,average=None)\n",
        "  matthews = matthews_corrcoef(y_true, y_pred)  \n",
        "  ave_precision = average_precision_score(y_true, y_pred)\n",
        "  acc = accuracy_score(y_true, y_pred)\n",
        "  \n",
        "  # child data \n",
        "  precision_l_c.append(precision[0])\n",
        "  recall_l_c.append(recall[0])\n",
        "  fscore_l_c.append(fscore[0])\n",
        "  support_l_c.append(support[0])\n",
        "  \n",
        "  # adult data\n",
        "  precision_l_a.append(precision[1])\n",
        "  recall_l_a.append(recall[1])\n",
        "  fscore_l_a.append(fscore[1])\n",
        "  support_l_a.append(support[1])\n",
        "  \n",
        "  # matthews-score, ave-precision, total accuracy\n",
        "  matthews_l.append(matthews)\n",
        "  ave_precision_l.append(ave_precision)\n",
        "  accuracy_score_l.append(acc)\n",
        "\n",
        "labels = [\"True_Negatives\", \"False_Positives\", \"False_Negatives\", \"True_Positives\",\n",
        "          \"Precision_(Child)\", \"Recall_(Child)\", \"F-Score_(Child)\",\"Support_(Child)\",\n",
        "          \"Precision_(Adult)\", \"Recall_(Adult)\", \"F-Score_(Adult)\",\"Support_(adult)\",\n",
        "          \"Matthews_Score\", \"Average_Precision\", \"Accuracy_Score\"]\n",
        "\n",
        "data = list(zip(true_neg_l, false_pos_l, false_neg_l, true_pos_l, \n",
        "                precision_l_c, recall_l_c, fscore_l_c, support_l_c, \n",
        "                precision_l_a, recall_l_a, fscore_l_a, support_l_a, \n",
        "                matthews_l, ave_precision_l, accuracy_score_l))\n",
        "\n",
        "assert len(criteria_list) == len(data), \"criteria list and data don't match\"\n",
        "\n",
        "classification_report = pd.DataFrame(data, columns=labels, index =criteria_list )\n"
      ],
      "execution_count": 0,
      "outputs": []
    },
    {
      "metadata": {
        "id": "Nlhko36eL9VR",
        "colab_type": "code",
        "outputId": "c3461767-a9e1-4cdc-a123-507090b7ad3e",
        "colab": {
          "base_uri": "https://localhost:8080/",
          "height": 393
        }
      },
      "cell_type": "code",
      "source": [
        "# Now we can look the report in one place\n",
        "classification_report \n",
        "# We can pick the one with the best numbers based on any criteria to deploy"
      ],
      "execution_count": 37,
      "outputs": [
        {
          "output_type": "execute_result",
          "data": {
            "text/html": [
              "<div>\n",
              "<style scoped>\n",
              "    .dataframe tbody tr th:only-of-type {\n",
              "        vertical-align: middle;\n",
              "    }\n",
              "\n",
              "    .dataframe tbody tr th {\n",
              "        vertical-align: top;\n",
              "    }\n",
              "\n",
              "    .dataframe thead th {\n",
              "        text-align: right;\n",
              "    }\n",
              "</style>\n",
              "<table border=\"1\" class=\"dataframe\">\n",
              "  <thead>\n",
              "    <tr style=\"text-align: right;\">\n",
              "      <th></th>\n",
              "      <th>True_Negatives</th>\n",
              "      <th>False_Positives</th>\n",
              "      <th>False_Negatives</th>\n",
              "      <th>True_Positives</th>\n",
              "      <th>Precision_(Child)</th>\n",
              "      <th>Recall_(Child)</th>\n",
              "      <th>F-Score_(Child)</th>\n",
              "      <th>Support_(Child)</th>\n",
              "      <th>Precision_(Adult)</th>\n",
              "      <th>Recall_(Adult)</th>\n",
              "      <th>F-Score_(Adult)</th>\n",
              "      <th>Support_(adult)</th>\n",
              "      <th>Matthews_Score</th>\n",
              "      <th>Average_Precision</th>\n",
              "      <th>Accuracy_Score</th>\n",
              "    </tr>\n",
              "  </thead>\n",
              "  <tbody>\n",
              "    <tr>\n",
              "      <th>acc</th>\n",
              "      <td>50</td>\n",
              "      <td>15</td>\n",
              "      <td>8</td>\n",
              "      <td>5</td>\n",
              "      <td>0.862069</td>\n",
              "      <td>0.769231</td>\n",
              "      <td>0.813008</td>\n",
              "      <td>65</td>\n",
              "      <td>0.250000</td>\n",
              "      <td>0.384615</td>\n",
              "      <td>0.303030</td>\n",
              "      <td>13</td>\n",
              "      <td>0.131306</td>\n",
              "      <td>0.198718</td>\n",
              "      <td>0.705128</td>\n",
              "    </tr>\n",
              "    <tr>\n",
              "      <th>fmeasure_acc</th>\n",
              "      <td>50</td>\n",
              "      <td>15</td>\n",
              "      <td>8</td>\n",
              "      <td>5</td>\n",
              "      <td>0.862069</td>\n",
              "      <td>0.769231</td>\n",
              "      <td>0.813008</td>\n",
              "      <td>65</td>\n",
              "      <td>0.250000</td>\n",
              "      <td>0.384615</td>\n",
              "      <td>0.303030</td>\n",
              "      <td>13</td>\n",
              "      <td>0.131306</td>\n",
              "      <td>0.198718</td>\n",
              "      <td>0.705128</td>\n",
              "    </tr>\n",
              "    <tr>\n",
              "      <th>recall_acc</th>\n",
              "      <td>50</td>\n",
              "      <td>15</td>\n",
              "      <td>8</td>\n",
              "      <td>5</td>\n",
              "      <td>0.862069</td>\n",
              "      <td>0.769231</td>\n",
              "      <td>0.813008</td>\n",
              "      <td>65</td>\n",
              "      <td>0.250000</td>\n",
              "      <td>0.384615</td>\n",
              "      <td>0.303030</td>\n",
              "      <td>13</td>\n",
              "      <td>0.131306</td>\n",
              "      <td>0.198718</td>\n",
              "      <td>0.705128</td>\n",
              "    </tr>\n",
              "    <tr>\n",
              "      <th>precision_acc</th>\n",
              "      <td>50</td>\n",
              "      <td>15</td>\n",
              "      <td>8</td>\n",
              "      <td>5</td>\n",
              "      <td>0.862069</td>\n",
              "      <td>0.769231</td>\n",
              "      <td>0.813008</td>\n",
              "      <td>65</td>\n",
              "      <td>0.250000</td>\n",
              "      <td>0.384615</td>\n",
              "      <td>0.303030</td>\n",
              "      <td>13</td>\n",
              "      <td>0.131306</td>\n",
              "      <td>0.198718</td>\n",
              "      <td>0.705128</td>\n",
              "    </tr>\n",
              "    <tr>\n",
              "      <th>matthews_correlation_acc</th>\n",
              "      <td>50</td>\n",
              "      <td>15</td>\n",
              "      <td>8</td>\n",
              "      <td>5</td>\n",
              "      <td>0.862069</td>\n",
              "      <td>0.769231</td>\n",
              "      <td>0.813008</td>\n",
              "      <td>65</td>\n",
              "      <td>0.250000</td>\n",
              "      <td>0.384615</td>\n",
              "      <td>0.303030</td>\n",
              "      <td>13</td>\n",
              "      <td>0.131306</td>\n",
              "      <td>0.198718</td>\n",
              "      <td>0.705128</td>\n",
              "    </tr>\n",
              "    <tr>\n",
              "      <th>val_acc</th>\n",
              "      <td>60</td>\n",
              "      <td>5</td>\n",
              "      <td>11</td>\n",
              "      <td>2</td>\n",
              "      <td>0.845070</td>\n",
              "      <td>0.923077</td>\n",
              "      <td>0.882353</td>\n",
              "      <td>65</td>\n",
              "      <td>0.285714</td>\n",
              "      <td>0.153846</td>\n",
              "      <td>0.200000</td>\n",
              "      <td>13</td>\n",
              "      <td>0.100301</td>\n",
              "      <td>0.184982</td>\n",
              "      <td>0.794872</td>\n",
              "    </tr>\n",
              "    <tr>\n",
              "      <th>val_fmeasure_acc</th>\n",
              "      <td>60</td>\n",
              "      <td>5</td>\n",
              "      <td>11</td>\n",
              "      <td>2</td>\n",
              "      <td>0.845070</td>\n",
              "      <td>0.923077</td>\n",
              "      <td>0.882353</td>\n",
              "      <td>65</td>\n",
              "      <td>0.285714</td>\n",
              "      <td>0.153846</td>\n",
              "      <td>0.200000</td>\n",
              "      <td>13</td>\n",
              "      <td>0.100301</td>\n",
              "      <td>0.184982</td>\n",
              "      <td>0.794872</td>\n",
              "    </tr>\n",
              "    <tr>\n",
              "      <th>val_recall_acc</th>\n",
              "      <td>50</td>\n",
              "      <td>15</td>\n",
              "      <td>8</td>\n",
              "      <td>5</td>\n",
              "      <td>0.862069</td>\n",
              "      <td>0.769231</td>\n",
              "      <td>0.813008</td>\n",
              "      <td>65</td>\n",
              "      <td>0.250000</td>\n",
              "      <td>0.384615</td>\n",
              "      <td>0.303030</td>\n",
              "      <td>13</td>\n",
              "      <td>0.131306</td>\n",
              "      <td>0.198718</td>\n",
              "      <td>0.705128</td>\n",
              "    </tr>\n",
              "    <tr>\n",
              "      <th>val_precision_acc</th>\n",
              "      <td>47</td>\n",
              "      <td>18</td>\n",
              "      <td>6</td>\n",
              "      <td>7</td>\n",
              "      <td>0.886792</td>\n",
              "      <td>0.723077</td>\n",
              "      <td>0.796610</td>\n",
              "      <td>65</td>\n",
              "      <td>0.280000</td>\n",
              "      <td>0.538462</td>\n",
              "      <td>0.368421</td>\n",
              "      <td>13</td>\n",
              "      <td>0.208860</td>\n",
              "      <td>0.227692</td>\n",
              "      <td>0.692308</td>\n",
              "    </tr>\n",
              "    <tr>\n",
              "      <th>val_matthews_correlation_acc</th>\n",
              "      <td>60</td>\n",
              "      <td>5</td>\n",
              "      <td>11</td>\n",
              "      <td>2</td>\n",
              "      <td>0.845070</td>\n",
              "      <td>0.923077</td>\n",
              "      <td>0.882353</td>\n",
              "      <td>65</td>\n",
              "      <td>0.285714</td>\n",
              "      <td>0.153846</td>\n",
              "      <td>0.200000</td>\n",
              "      <td>13</td>\n",
              "      <td>0.100301</td>\n",
              "      <td>0.184982</td>\n",
              "      <td>0.794872</td>\n",
              "    </tr>\n",
              "  </tbody>\n",
              "</table>\n",
              "</div>"
            ],
            "text/plain": [
              "                              True_Negatives  False_Positives  \\\n",
              "acc                                       50               15   \n",
              "fmeasure_acc                              50               15   \n",
              "recall_acc                                50               15   \n",
              "precision_acc                             50               15   \n",
              "matthews_correlation_acc                  50               15   \n",
              "val_acc                                   60                5   \n",
              "val_fmeasure_acc                          60                5   \n",
              "val_recall_acc                            50               15   \n",
              "val_precision_acc                         47               18   \n",
              "val_matthews_correlation_acc              60                5   \n",
              "\n",
              "                              False_Negatives  True_Positives  \\\n",
              "acc                                         8               5   \n",
              "fmeasure_acc                                8               5   \n",
              "recall_acc                                  8               5   \n",
              "precision_acc                               8               5   \n",
              "matthews_correlation_acc                    8               5   \n",
              "val_acc                                    11               2   \n",
              "val_fmeasure_acc                           11               2   \n",
              "val_recall_acc                              8               5   \n",
              "val_precision_acc                           6               7   \n",
              "val_matthews_correlation_acc               11               2   \n",
              "\n",
              "                              Precision_(Child)  Recall_(Child)  \\\n",
              "acc                                    0.862069        0.769231   \n",
              "fmeasure_acc                           0.862069        0.769231   \n",
              "recall_acc                             0.862069        0.769231   \n",
              "precision_acc                          0.862069        0.769231   \n",
              "matthews_correlation_acc               0.862069        0.769231   \n",
              "val_acc                                0.845070        0.923077   \n",
              "val_fmeasure_acc                       0.845070        0.923077   \n",
              "val_recall_acc                         0.862069        0.769231   \n",
              "val_precision_acc                      0.886792        0.723077   \n",
              "val_matthews_correlation_acc           0.845070        0.923077   \n",
              "\n",
              "                              F-Score_(Child)  Support_(Child)  \\\n",
              "acc                                  0.813008               65   \n",
              "fmeasure_acc                         0.813008               65   \n",
              "recall_acc                           0.813008               65   \n",
              "precision_acc                        0.813008               65   \n",
              "matthews_correlation_acc             0.813008               65   \n",
              "val_acc                              0.882353               65   \n",
              "val_fmeasure_acc                     0.882353               65   \n",
              "val_recall_acc                       0.813008               65   \n",
              "val_precision_acc                    0.796610               65   \n",
              "val_matthews_correlation_acc         0.882353               65   \n",
              "\n",
              "                              Precision_(Adult)  Recall_(Adult)  \\\n",
              "acc                                    0.250000        0.384615   \n",
              "fmeasure_acc                           0.250000        0.384615   \n",
              "recall_acc                             0.250000        0.384615   \n",
              "precision_acc                          0.250000        0.384615   \n",
              "matthews_correlation_acc               0.250000        0.384615   \n",
              "val_acc                                0.285714        0.153846   \n",
              "val_fmeasure_acc                       0.285714        0.153846   \n",
              "val_recall_acc                         0.250000        0.384615   \n",
              "val_precision_acc                      0.280000        0.538462   \n",
              "val_matthews_correlation_acc           0.285714        0.153846   \n",
              "\n",
              "                              F-Score_(Adult)  Support_(adult)  \\\n",
              "acc                                  0.303030               13   \n",
              "fmeasure_acc                         0.303030               13   \n",
              "recall_acc                           0.303030               13   \n",
              "precision_acc                        0.303030               13   \n",
              "matthews_correlation_acc             0.303030               13   \n",
              "val_acc                              0.200000               13   \n",
              "val_fmeasure_acc                     0.200000               13   \n",
              "val_recall_acc                       0.303030               13   \n",
              "val_precision_acc                    0.368421               13   \n",
              "val_matthews_correlation_acc         0.200000               13   \n",
              "\n",
              "                              Matthews_Score  Average_Precision  \\\n",
              "acc                                 0.131306           0.198718   \n",
              "fmeasure_acc                        0.131306           0.198718   \n",
              "recall_acc                          0.131306           0.198718   \n",
              "precision_acc                       0.131306           0.198718   \n",
              "matthews_correlation_acc            0.131306           0.198718   \n",
              "val_acc                             0.100301           0.184982   \n",
              "val_fmeasure_acc                    0.100301           0.184982   \n",
              "val_recall_acc                      0.131306           0.198718   \n",
              "val_precision_acc                   0.208860           0.227692   \n",
              "val_matthews_correlation_acc        0.100301           0.184982   \n",
              "\n",
              "                              Accuracy_Score  \n",
              "acc                                 0.705128  \n",
              "fmeasure_acc                        0.705128  \n",
              "recall_acc                          0.705128  \n",
              "precision_acc                       0.705128  \n",
              "matthews_correlation_acc            0.705128  \n",
              "val_acc                             0.794872  \n",
              "val_fmeasure_acc                    0.794872  \n",
              "val_recall_acc                      0.705128  \n",
              "val_precision_acc                   0.692308  \n",
              "val_matthews_correlation_acc        0.794872  "
            ]
          },
          "metadata": {
            "tags": []
          },
          "execution_count": 37
        }
      ]
    },
    {
      "metadata": {
        "id": "0y7iN0L_N4kf",
        "colab_type": "code",
        "colab": {}
      },
      "cell_type": "code",
      "source": [
        "# save the model on a csv file\n",
        "exp_n = '1'\n",
        "file_name = 'classification_report_dap_' + exp_n + '.csv'\n",
        "classification_report.to_csv(file_name, sep=',')"
      ],
      "execution_count": 0,
      "outputs": []
    },
    {
      "metadata": {
        "id": "1z_nW90U1YDT",
        "colab_type": "text"
      },
      "cell_type": "markdown",
      "source": [
        "## Deploying models\n",
        "\n",
        "Once the right model or models have been found, you can create a deployment package with Deploy() which is then easy to transfer to a production or other environment, send via email, or upload to shared remote location. Best model is automatically chosen based on a given metric ('val_acc' by default).\n",
        "\n",
        "The Deploy package is a zip file that consist of:\n",
        "\n",
        "- details of the scan\n",
        "- model weights\n",
        "- model json\n",
        "- results of the experiment\n",
        "- sample of x data\n",
        "- sample of y data\n",
        "\n",
        "**See source code at** https://github.com/autonomio/talos/blob/daily-dev/talos/commands/deploy.py"
      ]
    },
    {
      "metadata": {
        "id": "x5k0Ow3s1veN",
        "colab_type": "code",
        "outputId": "d1562942-f8c1-497a-8691-92820cb53129",
        "colab": {
          "base_uri": "https://localhost:8080/",
          "height": 35
        }
      },
      "cell_type": "code",
      "source": [
        "# By default selects the model with best validation accuracy \"recall_acc\"\n",
        "# Other metrics can be specified\n",
        "# name code: \"[dataset]-[experiment-number]-[rounds/models]-[seleccion-criteria]-[%-searched]\"\n",
        "rounds = str(r.rounds())\n",
        "exp_n = '1'\n",
        "metric = 'val_precision_acc'\n",
        "proportion = '2_out_of_a_100'\n",
        "filename = 'dap' + 'exp' + exp_n + metric + rounds + proportion\n",
        "ta.Deploy(h, filename, metric='val_precision_acc');"
      ],
      "execution_count": 40,
      "outputs": [
        {
          "output_type": "stream",
          "text": [
            "Deploy package dapexp1val_precision_acc1942_out_of_a_100 have been saved.\n"
          ],
          "name": "stdout"
        }
      ]
    },
    {
      "metadata": {
        "id": "A7N2o6du2ZiY",
        "colab_type": "text"
      },
      "cell_type": "markdown",
      "source": [
        "## Restoring models\n",
        "Restores the scan_object that had been stored locally as a result of talos.Deploy\n",
        "\n",
        "**See source code at** https://github.com/autonomio/talos/blob/daily-dev/talos/commands/restore.py "
      ]
    },
    {
      "metadata": {
        "id": "3xwaox5A2bk1",
        "colab_type": "code",
        "colab": {}
      },
      "cell_type": "code",
      "source": [
        "# Restore model from local environment\n",
        "model_name = # COPY NAME TO RESTOR FROM FILES\n",
        "drawings = ta.Restore(model_name)"
      ],
      "execution_count": 0,
      "outputs": []
    },
    {
      "metadata": {
        "id": "UPinzBzp24wO",
        "colab_type": "code",
        "colab": {}
      },
      "cell_type": "code",
      "source": [
        "# make predictions with the model\n",
        "drawings.model.predict(x_test)[0:9,] # print first 10"
      ],
      "execution_count": 0,
      "outputs": []
    },
    {
      "metadata": {
        "id": "VDOp6Hj73Fq4",
        "colab_type": "code",
        "colab": {}
      },
      "cell_type": "code",
      "source": [
        "# get the meta-data for the experiment/optimization\n",
        "print(drawings.details)"
      ],
      "execution_count": 0,
      "outputs": []
    },
    {
      "metadata": {
        "id": "21pi4AT43nMx",
        "colab_type": "code",
        "colab": {}
      },
      "cell_type": "code",
      "source": [
        "# get the hyperparameter space boundary for the experiment/optimization\n",
        "print(drawings.params)"
      ],
      "execution_count": 0,
      "outputs": []
    },
    {
      "metadata": {
        "id": "tu38HGIU3rJ4",
        "colab_type": "code",
        "colab": {}
      },
      "cell_type": "code",
      "source": [
        "# sample of x and y data, returns pandas dataframe\n",
        "print(drawings.x.iloc[0:3, 0:3]) # print first 3 rows and columns\n",
        "print(drawings.y.iloc[0:3]) # print first 3 rows "
      ],
      "execution_count": 0,
      "outputs": []
    },
    {
      "metadata": {
        "id": "Aa2lLx9d3s8Z",
        "colab_type": "code",
        "colab": {}
      },
      "cell_type": "code",
      "source": [
        "# the results dataframe\n",
        "drawings.results[0:3] # print first 3 rows"
      ],
      "execution_count": 0,
      "outputs": []
    },
    {
      "metadata": {
        "id": "SXdtsIOHBZWj",
        "colab_type": "text"
      },
      "cell_type": "markdown",
      "source": [
        "# Resources\n",
        "- **Talos repo**: https://github.com/autonomio/talos\n",
        "- **Talos example**:  https://nbviewer.jupyter.org/github/autonomio/talos/blob/master/examples/Hyperparameter%20Optimization%20on%20Keras%20with%20Breast%20Cancer%20Data.ipynb"
      ]
    }
  ]
}