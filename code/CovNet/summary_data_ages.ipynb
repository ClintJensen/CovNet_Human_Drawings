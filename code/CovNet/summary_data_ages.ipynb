{
 "cells": [
  {
   "cell_type": "markdown",
   "metadata": {
    "colab_type": "text",
    "id": "view-in-github"
   },
   "source": [
    "<a href=\"https://colab.research.google.com/github/pabloinsente/CovNet_Human_Drawings/blob/master/code/summary_data_ages.ipynb\" target=\"_parent\"><img src=\"https://colab.research.google.com/assets/colab-badge.svg\" alt=\"Open In Colab\"/></a>"
   ]
  },
  {
   "cell_type": "code",
   "execution_count": 1,
   "metadata": {},
   "outputs": [
    {
     "name": "stderr",
     "output_type": "stream",
     "text": [
      "Using TensorFlow backend.\n"
     ]
    }
   ],
   "source": [
    "import keras"
   ]
  },
  {
   "cell_type": "code",
   "execution_count": null,
   "metadata": {
    "colab": {},
    "colab_type": "code",
    "id": "hfnyNhNSrvCQ"
   },
   "outputs": [],
   "source": [
    "import pandas as pd\n",
    "import seaborn as sns"
   ]
  },
  {
   "cell_type": "code",
   "execution_count": null,
   "metadata": {
    "colab": {
     "base_uri": "https://localhost:8080/",
     "height": 35
    },
    "colab_type": "code",
    "id": "hKPue_Txrxph",
    "outputId": "743d604c-a4a5-42c7-afd6-fa9557816d79"
   },
   "outputs": [
    {
     "name": "stdout",
     "output_type": "stream",
     "text": [
      "fatal: destination path 'CovNet_Human_Drawings' already exists and is not an empty directory.\n"
     ]
    }
   ],
   "source": [
    "# Clone the data into Colab\n",
    "! git clone https://github.com/pabloinsente/CovNet_Human_Drawings"
   ]
  },
  {
   "cell_type": "code",
   "execution_count": null,
   "metadata": {
    "colab": {},
    "colab_type": "code",
    "id": "igP3p3crrs0V"
   },
   "outputs": [],
   "source": [
    "# read metadata as pandas dataframe\n",
    "meta_path= \"CovNet_Human_Drawings/data/merged_dataframes_prediction/predict_age_from_vectors_block5_pool_all.csv\"\n",
    "df_metadata = pd.read_csv(meta_path, sep=\",\")"
   ]
  },
  {
   "cell_type": "code",
   "execution_count": null,
   "metadata": {
    "colab": {
     "base_uri": "https://localhost:8080/",
     "height": 173
    },
    "colab_type": "code",
    "id": "G7_9Vg4lr9HL",
    "outputId": "2a357739-6c47-4527-e4c2-5186a851362a"
   },
   "outputs": [
    {
     "data": {
      "text/plain": [
       "count    205.000000\n",
       "mean       4.015610\n",
       "std        1.302883\n",
       "min        1.830000\n",
       "25%        2.930000\n",
       "50%        4.020000\n",
       "75%        4.960000\n",
       "max        7.700000\n",
       "Name: age_yr, dtype: float64"
      ]
     },
     "execution_count": 4,
     "metadata": {
      "tags": []
     },
     "output_type": "execute_result"
    }
   ],
   "source": [
    "# Children age summary\n",
    "# Filter by 'adult' == 0 -> pick 'age_year' col -> describe()\n",
    "df_metadata.loc[df_metadata['adult'] == 0]['age_yr'].describe()"
   ]
  },
  {
   "cell_type": "code",
   "execution_count": null,
   "metadata": {
    "colab": {
     "base_uri": "https://localhost:8080/",
     "height": 173
    },
    "colab_type": "code",
    "id": "05IbyLELsCZO",
    "outputId": "7775fdea-bdee-416c-a7a9-d53707eede71"
   },
   "outputs": [
    {
     "data": {
      "text/plain": [
       "count    42.000000\n",
       "mean     20.595714\n",
       "std       0.845121\n",
       "min      19.100000\n",
       "25%      19.910000\n",
       "50%      20.790000\n",
       "75%      21.170000\n",
       "max      22.010000\n",
       "Name: age_yr, dtype: float64"
      ]
     },
     "execution_count": 5,
     "metadata": {
      "tags": []
     },
     "output_type": "execute_result"
    }
   ],
   "source": [
    "# Adults age summary \n",
    "# Filter by 'adult' == 1 -> pick 'age_year' col -> describe()\n",
    "df_metadata.loc[df_metadata['adult'] == 1]['age_yr'].describe()"
   ]
  }
 ],
 "metadata": {
  "colab": {
   "include_colab_link": true,
   "name": "Untitled2.ipynb",
   "provenance": [],
   "version": "0.3.2"
  },
  "kernelspec": {
   "display_name": "Python 3",
   "language": "python",
   "name": "python3"
  },
  "language_info": {
   "codemirror_mode": {
    "name": "ipython",
    "version": 3
   },
   "file_extension": ".py",
   "mimetype": "text/x-python",
   "name": "python",
   "nbconvert_exporter": "python",
   "pygments_lexer": "ipython3",
   "version": "3.6.8"
  }
 },
 "nbformat": 4,
 "nbformat_minor": 2
}
