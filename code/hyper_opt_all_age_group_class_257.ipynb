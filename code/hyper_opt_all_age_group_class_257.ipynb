{
 "cells": [
  {
   "cell_type": "markdown",
   "metadata": {
    "colab_type": "text",
    "id": "view-in-github"
   },
   "source": [
    "<a href=\"https://colab.research.google.com/github/pabloinsente/CovNet_Human_Drawings/blob/master/code/model_training_hyperparameter_optimization.ipynb\" target=\"_parent\"><img src=\"https://colab.research.google.com/assets/colab-badge.svg\" alt=\"Open In Colab\"/></a>"
   ]
  },
  {
   "cell_type": "markdown",
   "metadata": {
    "colab_type": "text",
    "id": "R6LRZjUh8mcM"
   },
   "source": [
    "# Model training and hyperparameter optimization for Age-prediction\n",
    "Here we use Keras and the Talos library to set up the hyperparameter optimization. \n",
    "\n",
    "***Warning***: since we are using colab, we need to (1) install talos (2) re-start the running environment AFTER installing Talos (to update some packages that Talos needs to un) before running the optimization.  "
   ]
  },
  {
   "cell_type": "code",
   "execution_count": null,
   "metadata": {
    "colab": {},
    "colab_type": "code",
    "id": "3oEwJCxQRSIn"
   },
   "outputs": [],
   "source": [
    "!pip install talos\n",
    "!pip install rarfile"
   ]
  },
  {
   "cell_type": "code",
   "execution_count": null,
   "metadata": {
    "colab": {
     "base_uri": "https://localhost:8080/",
     "height": 34
    },
    "colab_type": "code",
    "id": "LVwIGgW9N9v7",
    "outputId": "c9da59bc-3ff1-474e-bc63-9d36f0bd9053"
   },
   "outputs": [
    {
     "name": "stderr",
     "output_type": "stream",
     "text": [
      "Using TensorFlow backend.\n"
     ]
    }
   ],
   "source": [
    "# Let's import Talos, Keras, and dependencies\n",
    "\n",
    "import talos as ta\n",
    "from talos.metrics.keras_metrics import precision_acc, recall_acc, matthews_correlation_acc, fmeasure_acc\n",
    "from talos.model.normalizers import lr_normalizer\n",
    "from talos.utils.best_model import best_model, activate_model\n",
    "from talos import Predict\n",
    "\n",
    "from keras.activations import relu, elu, sigmoid\n",
    "from keras.optimizers import Adam, Nadam, RMSprop\n",
    "from keras.losses import binary_crossentropy, logcosh\n",
    "from keras.models import Sequential\n",
    "from keras.layers import Dense, Dropout\n",
    "\n",
    "from sklearn.model_selection import train_test_split\n",
    "\n",
    "from imblearn.over_sampling import RandomOverSampler \n",
    "\n",
    "import pandas as pd\n",
    "from numpy import genfromtxt\n",
    "from collections import Counter\n",
    "import rarfile, csv\n",
    "\n",
    "import seaborn as sns\n",
    "import matplotlib.pyplot as plt\n",
    "%matplotlib inline"
   ]
  },
  {
   "cell_type": "markdown",
   "metadata": {
    "colab_type": "text",
    "id": "jN0uSEPf8QBS"
   },
   "source": [
    "## Data preparation\n",
    "First, we need to split the data into training and testing as usual. The training dataset will be feed into the model training and optimization process. The testing data will be used to evalute the model. "
   ]
  },
  {
   "cell_type": "code",
   "execution_count": null,
   "metadata": {
    "colab": {},
    "colab_type": "code",
    "id": "oGx8tVOIQ_6U"
   },
   "outputs": [],
   "source": [
    "# Clone the data into Colab\n",
    "! git clone https://github.com/pabloinsente/CovNet_Human_Drawings"
   ]
  },
  {
   "cell_type": "code",
   "execution_count": null,
   "metadata": {
    "colab": {
     "base_uri": "https://localhost:8080/",
     "height": 140
    },
    "colab_type": "code",
    "id": "GISuW-0qmZA6",
    "outputId": "b58327e5-970a-4288-805e-a228d0b394a1"
   },
   "outputs": [
    {
     "name": "stdout",
     "output_type": "stream",
     "text": [
      "(258, 25088)\n",
      "          0    1    2         3         4\n",
      "0 -0.001317  0.0  0.0 -0.001322 -0.003181\n",
      "1 -0.001052  0.0  0.0 -0.001056 -0.002540\n",
      "2 -0.001176  0.0  0.0 -0.001181 -0.002840\n",
      "3 -0.000836  0.0  0.0 -0.000839 -0.000957\n",
      "4 -0.001163  0.0  0.0 -0.001168  0.011156\n"
     ]
    }
   ],
   "source": [
    "# Read csv files from compressed rar file and convert into a dataframe\n",
    "rar_path = rarfile.RarFile(\"CovNet_Human_Drawings/data/merged_dataframes_prediction/x_drawings_features_max_pool_5.rar\")\n",
    "csv_file_name = \"x_drawings_features_max_pool_5.csv\"\n",
    "rar_file = rarfile.RarFile.open(rar_path, csv_file_name)\n",
    "x = pd.read_csv(rar_file, sep=\",\", header=None)\n",
    "print(x.shape)\n",
    "print(x.iloc[0:5,0:5])"
   ]
  },
  {
   "cell_type": "code",
   "execution_count": null,
   "metadata": {
    "colab": {
     "base_uri": "https://localhost:8080/",
     "height": 52
    },
    "colab_type": "code",
    "id": "GEU3O3yepG6l",
    "outputId": "80c38bd1-b9c5-428c-bb1f-05652efa9e77"
   },
   "outputs": [
    {
     "name": "stdout",
     "output_type": "stream",
     "text": [
      "<class 'numpy.ndarray'>\n",
      "(258, 25088)\n"
     ]
    }
   ],
   "source": [
    "x = x.values # as numpy array\n",
    "print(type(x))\n",
    "print(x.shape)"
   ]
  },
  {
   "cell_type": "code",
   "execution_count": null,
   "metadata": {
    "colab": {
     "base_uri": "https://localhost:8080/",
     "height": 52
    },
    "colab_type": "code",
    "id": "MU75iiW7VYIj",
    "outputId": "c8f92565-8e60-4beb-8ed8-550b69be35e1"
   },
   "outputs": [
    {
     "name": "stdout",
     "output_type": "stream",
     "text": [
      "(258,)\n",
      "[0. 0. 0. 0. 0.]\n"
     ]
    }
   ],
   "source": [
    "# Read labels vector\n",
    "y_path = 'CovNet_Human_Drawings/data/merged_dataframes_prediction/y_age_adult_labels.csv'\n",
    "y = genfromtxt(y_path, delimiter=',')\n",
    "\n",
    "#x = x.drop([0]) # drop headers\n",
    "print(y.shape)\n",
    "print(y[0:5])"
   ]
  },
  {
   "cell_type": "code",
   "execution_count": null,
   "metadata": {
    "colab": {
     "base_uri": "https://localhost:8080/",
     "height": 269
    },
    "colab_type": "code",
    "id": "pXlWYvau94lp",
    "outputId": "500faa2a-c43c-4134-f672-f37919bd5d4a"
   },
   "outputs": [
    {
     "data": {
      "image/png": "[encoded data removed]",
      "text/plain": [
       "<Figure size 432x288 with 1 Axes>"
      ]
     },
     "metadata": {
      "tags": []
     },
     "output_type": "display_data"
    }
   ],
   "source": [
    "# Let's look at the distribution of 0s and 1s\n",
    "\n",
    "colors = ['#ef8a62' if v == 0 else '#67a9cf' for v in y]\n",
    "kwarg_params = {'linewidth': 1, 'edgecolor': 'black'}\n",
    "fig = plt.Figure(figsize=(12,6))\n",
    "plt.scatter(x[:, 0], x[:, 1], c=colors, **kwarg_params)\n",
    "sns.despine()"
   ]
  },
  {
   "cell_type": "code",
   "execution_count": null,
   "metadata": {
    "colab": {
     "base_uri": "https://localhost:8080/",
     "height": 87
    },
    "colab_type": "code",
    "id": "IjFd7wkTjvk2",
    "outputId": "5af2c6e7-e1f8-4924-ff79-cb1df006c2ae"
   },
   "outputs": [
    {
     "name": "stdout",
     "output_type": "stream",
     "text": [
      "(180, 25088)\n",
      "(180,)\n",
      "(78, 25088)\n",
      "(78,)\n"
     ]
    }
   ],
   "source": [
    "# Split data into train and test sets\n",
    "# Since we have an small sample, we will do a 70/30 split\n",
    "\n",
    "x_train, x_test, y_train, y_test = train_test_split(x, y, test_size = 0.3, random_state=44)\n",
    "print(x_train.shape) \n",
    "print(y_train.shape) \n",
    "print(x_test.shape) \n",
    "print(y_test.shape)"
   ]
  },
  {
   "cell_type": "markdown",
   "metadata": {
    "colab_type": "text",
    "id": "mTqZ23N5_fdM"
   },
   "source": [
    "### Resampling imbalanced data\n",
    "Since our classes are imbalanced, we will use oversampling of the \"adult\" class **on the training set**  to help training on that class. *imblearn* implement oversampling for us\n",
    "\n",
    "**See documentantion at** https://imbalanced-learn.readthedocs.io/en/stable/generated/imblearn.over_sampling.RandomOverSampler.html"
   ]
  },
  {
   "cell_type": "code",
   "execution_count": null,
   "metadata": {
    "colab": {},
    "colab_type": "code",
    "id": "4eQpvM3_6wTS"
   },
   "outputs": [],
   "source": [
    "ros = RandomOverSampler(random_state=42)\n",
    "x_train_res, y_train_res = ros.fit_resample(x_train, y_train)"
   ]
  },
  {
   "cell_type": "code",
   "execution_count": null,
   "metadata": {
    "colab": {
     "base_uri": "https://localhost:8080/",
     "height": 70
    },
    "colab_type": "code",
    "id": "CAgEjbau7-cF",
    "outputId": "5a90e34c-4074-4615-b56a-79ce0365e067"
   },
   "outputs": [
    {
     "name": "stdout",
     "output_type": "stream",
     "text": [
      "(286, 25088)\n",
      "(286,)\n",
      "Resampled dataset shape Counter({1.0: 143, 0.0: 143})\n"
     ]
    }
   ],
   "source": [
    "print(x_train_res.shape) # (258, 200)\n",
    "print(y_train_res.shape) # (258,)\n",
    "print('Resampled dataset shape %s' % Counter(y_train_res))\n",
    "\n",
    "# Now we have 50/50 balanced classes"
   ]
  },
  {
   "cell_type": "markdown",
   "metadata": {
    "colab_type": "text",
    "id": "pAg1wGr_8AG1"
   },
   "source": [
    "## Model Definition\n",
    "Here we define the model using Keras. The main point is to pass all the arguments as keys of a Python dictionary instead of variables"
   ]
  },
  {
   "cell_type": "code",
   "execution_count": null,
   "metadata": {
    "colab": {},
    "colab_type": "code",
    "id": "LmQPGeHVMvFv"
   },
   "outputs": [],
   "source": [
    "# define model\n",
    "def input_model(x_train, y_train, x_val, y_val, params):\n",
    "  model = Sequential()\n",
    "  # add hidden layer\n",
    "  model.add(Dense(params['first_neuron'], \n",
    "                  input_dim=x_train.shape[1], \n",
    "                  activation=params['activation'],\n",
    "                  kernel_initializer = params['kernel_initializer']))\n",
    "  # add dropout layer\n",
    "  model.add(Dropout(params['dropout']))\n",
    "  # add output layer\n",
    "  model.add(Dense(1,activation=params['last_activation'],\n",
    "                  kernel_initializer = params['kernel_initializer']))\n",
    "  # compile model\n",
    "  model.compile(loss=params['losses'],\n",
    "                optimizer=params['optimizer'](lr=lr_normalizer(params['lr'], params['optimizer'])),\n",
    "                metrics=['acc', fmeasure_acc, recall_acc, precision_acc, matthews_correlation_acc])\n",
    "  # train model\n",
    "  out = model.fit(x_train, y_train,\n",
    "                  validation_data=[x_val, y_val],\n",
    "                  batch_size=params['batch_size'],\n",
    "                  epochs=params['epochs'],\n",
    "                  verbose = 0)\n",
    "  return out, model"
   ]
  },
  {
   "cell_type": "markdown",
   "metadata": {
    "colab_type": "text",
    "id": "6SqVZ7dM7uG-"
   },
   "source": [
    "## Setting the Parameter Space Boundaries \n",
    "here we create a dictionary, which will then be passed on to Talos together with the model above. Here we have three different ways to input values:\n",
    "\n",
    "- as stepped ranges (min, max, steps)\n",
    "- as multiple values [in a list]\n",
    "- as a single value [in a list]"
   ]
  },
  {
   "cell_type": "code",
   "execution_count": null,
   "metadata": {
    "colab": {},
    "colab_type": "code",
    "id": "dI3vgOBzlAPN"
   },
   "outputs": [],
   "source": [
    "# set hyperparameters to optimize\n",
    "p = {'first_neuron': [16, 32, 64],\n",
    "     'activation': [relu, sigmoid],\n",
    "     'optimizer': [Nadam, Adam],\n",
    "     'losses':[binary_crossentropy],\n",
    "     'hidden_layers':[0, 1, 2],\n",
    "     'batch_size': [10, 20, 40],\n",
    "     'epochs':[150, 300],\n",
    "     'dropout': [0, 0.1, 0.2],\n",
    "     'kernel_initializer': ['uniform','normal'],\n",
    "     'lr':[0.01, 0.1, 0.2],\n",
    "     'last_activation': ['sigmoid']} "
   ]
  },
  {
   "cell_type": "markdown",
   "metadata": {
    "colab_type": "text",
    "id": "lwNKsUF_7WIA"
   },
   "source": [
    "## Running the hyperparameter optimization with Scan() \n",
    "Now we are ready to run the model based on the parameters and the layer configuration above. The exact same process would apply with any other model, just make sure to pass the model function name in the Scan() command as in the below example.\n",
    "\n"
   ]
  },
  {
   "cell_type": "code",
   "execution_count": null,
   "metadata": {
    "colab": {
     "base_uri": "https://localhost:8080/",
     "height": 213
    },
    "colab_type": "code",
    "id": "KPtOn24CUsEO",
    "outputId": "f2d2e4d6-e450-4058-bbc6-9927a4df7480"
   },
   "outputs": [
    {
     "name": "stderr",
     "output_type": "stream",
     "text": [
      "  0%|          | 0/583 [00:00<?, ?it/s]"
     ]
    },
    {
     "name": "stdout",
     "output_type": "stream",
     "text": [
      "WARNING:tensorflow:From /usr/local/lib/python3.6/dist-packages/tensorflow/python/framework/op_def_library.py:263: colocate_with (from tensorflow.python.framework.ops) is deprecated and will be removed in a future version.\n",
      "Instructions for updating:\n",
      "Colocations handled automatically by placer.\n",
      "WARNING:tensorflow:From /usr/local/lib/python3.6/dist-packages/tensorflow/python/ops/math_ops.py:3066: to_int32 (from tensorflow.python.ops.math_ops) is deprecated and will be removed in a future version.\n",
      "Instructions for updating:\n",
      "Use tf.cast instead.\n"
     ]
    },
    {
     "name": "stderr",
     "output_type": "stream",
     "text": [
      "  0%|          | 1/583 [00:20<3:21:43, 20.80s/it]"
     ]
    },
    {
     "name": "stdout",
     "output_type": "stream",
     "text": [
      "WARNING:tensorflow:From /usr/local/lib/python3.6/dist-packages/keras/backend/tensorflow_backend.py:3445: calling dropout (from tensorflow.python.ops.nn_ops) with keep_prob is deprecated and will be removed in a future version.\n",
      "Instructions for updating:\n",
      "Please use `rate` instead of `keep_prob`. Rate should be set to `rate = 1 - keep_prob`.\n"
     ]
    },
    {
     "name": "stderr",
     "output_type": "stream",
     "text": [
      "100%|██████████| 583/583 [3:03:24<00:00, 18.93s/it]\n"
     ]
    }
   ],
   "source": [
    "# starting optimization\n",
    "h = ta.Scan(x= x_train_res, y=y_train_res,\n",
    "            params=p,\n",
    "            model=input_model,\n",
    "            # I use .29 split because that is ~20% of all data\n",
    "            val_split = 0.29,\n",
    "            dataset_name='Draw_a_person',\n",
    "            experiment_no='experiment_1',\n",
    "            grid_downsample=.15)"
   ]
  },
  {
   "cell_type": "markdown",
   "metadata": {
    "colab_type": "text",
    "id": "vzXz0OXr66kG"
   },
   "source": [
    "## Accessing the results through the Scan object\n",
    "The scan object saves all the necessary information for analysis and deployment\n",
    "**See source code at** https://github.com/autonomio/talos/blob/daily-dev/talos/scan/Scan.py"
   ]
  },
  {
   "cell_type": "code",
   "execution_count": null,
   "metadata": {
    "colab": {
     "base_uri": "https://localhost:8080/",
     "height": 340
    },
    "colab_type": "code",
    "id": "3jLhYJQ4t5lQ",
    "outputId": "f7c6431d-f7de-4a19-db53-5f9e9057d063"
   },
   "outputs": [
    {
     "data": {
      "text/html": [
       "<div>\n",
       "<style scoped>\n",
       "    .dataframe tbody tr th:only-of-type {\n",
       "        vertical-align: middle;\n",
       "    }\n",
       "\n",
       "    .dataframe tbody tr th {\n",
       "        vertical-align: top;\n",
       "    }\n",
       "\n",
       "    .dataframe thead th {\n",
       "        text-align: right;\n",
       "    }\n",
       "</style>\n",
       "<table border=\"1\" class=\"dataframe\">\n",
       "  <thead>\n",
       "    <tr style=\"text-align: right;\">\n",
       "      <th></th>\n",
       "      <th>round_epochs</th>\n",
       "      <th>val_loss</th>\n",
       "      <th>val_acc</th>\n",
       "      <th>val_fmeasure_acc</th>\n",
       "      <th>val_recall_acc</th>\n",
       "      <th>val_precision_acc</th>\n",
       "      <th>val_matthews_correlation_acc</th>\n",
       "      <th>loss</th>\n",
       "      <th>acc</th>\n",
       "      <th>fmeasure_acc</th>\n",
       "      <th>...</th>\n",
       "      <th>activation</th>\n",
       "      <th>optimizer</th>\n",
       "      <th>losses</th>\n",
       "      <th>hidden_layers</th>\n",
       "      <th>batch_size</th>\n",
       "      <th>epochs</th>\n",
       "      <th>dropout</th>\n",
       "      <th>kernel_initializer</th>\n",
       "      <th>lr</th>\n",
       "      <th>last_activation</th>\n",
       "    </tr>\n",
       "  </thead>\n",
       "  <tbody>\n",
       "    <tr>\n",
       "      <th>0</th>\n",
       "      <td>150</td>\n",
       "      <td>0.285508</td>\n",
       "      <td>0.975904</td>\n",
       "      <td>0.939516</td>\n",
       "      <td>0.919679</td>\n",
       "      <td>0.963855</td>\n",
       "      <td>0.919638</td>\n",
       "      <td>0.048464</td>\n",
       "      <td>1.000000</td>\n",
       "      <td>1.000000</td>\n",
       "      <td>...</td>\n",
       "      <td>&lt;function sigmoid at 0x7f4e893f9268&gt;</td>\n",
       "      <td>&lt;class 'keras.optimizers.Nadam'&gt;</td>\n",
       "      <td>&lt;function binary_crossentropy at 0x7f4e89446268&gt;</td>\n",
       "      <td>1</td>\n",
       "      <td>10</td>\n",
       "      <td>150</td>\n",
       "      <td>0.0</td>\n",
       "      <td>uniform</td>\n",
       "      <td>0.10</td>\n",
       "      <td>sigmoid</td>\n",
       "    </tr>\n",
       "    <tr>\n",
       "      <th>1</th>\n",
       "      <td>150</td>\n",
       "      <td>0.350499</td>\n",
       "      <td>0.843373</td>\n",
       "      <td>0.821711</td>\n",
       "      <td>0.919679</td>\n",
       "      <td>0.819277</td>\n",
       "      <td>0.676645</td>\n",
       "      <td>0.024034</td>\n",
       "      <td>1.000000</td>\n",
       "      <td>1.000000</td>\n",
       "      <td>...</td>\n",
       "      <td>&lt;function relu at 0x7f4e893f9158&gt;</td>\n",
       "      <td>&lt;class 'keras.optimizers.Nadam'&gt;</td>\n",
       "      <td>&lt;function binary_crossentropy at 0x7f4e89446268&gt;</td>\n",
       "      <td>2</td>\n",
       "      <td>10</td>\n",
       "      <td>150</td>\n",
       "      <td>0.1</td>\n",
       "      <td>normal</td>\n",
       "      <td>0.10</td>\n",
       "      <td>sigmoid</td>\n",
       "    </tr>\n",
       "    <tr>\n",
       "      <th>2</th>\n",
       "      <td>300</td>\n",
       "      <td>0.681707</td>\n",
       "      <td>0.506024</td>\n",
       "      <td>0.660699</td>\n",
       "      <td>0.963855</td>\n",
       "      <td>0.506024</td>\n",
       "      <td>0.000000</td>\n",
       "      <td>0.674349</td>\n",
       "      <td>0.596059</td>\n",
       "      <td>0.705888</td>\n",
       "      <td>...</td>\n",
       "      <td>&lt;function sigmoid at 0x7f4e893f9268&gt;</td>\n",
       "      <td>&lt;class 'keras.optimizers.Adam'&gt;</td>\n",
       "      <td>&lt;function binary_crossentropy at 0x7f4e89446268&gt;</td>\n",
       "      <td>2</td>\n",
       "      <td>20</td>\n",
       "      <td>300</td>\n",
       "      <td>0.0</td>\n",
       "      <td>normal</td>\n",
       "      <td>0.01</td>\n",
       "      <td>sigmoid</td>\n",
       "    </tr>\n",
       "  </tbody>\n",
       "</table>\n",
       "<p>3 rows × 24 columns</p>\n",
       "</div>"
      ],
      "text/plain": [
       "   round_epochs  val_loss   val_acc  val_fmeasure_acc  val_recall_acc  \\\n",
       "0           150  0.285508  0.975904          0.939516        0.919679   \n",
       "1           150  0.350499  0.843373          0.821711        0.919679   \n",
       "2           300  0.681707  0.506024          0.660699        0.963855   \n",
       "\n",
       "   val_precision_acc  val_matthews_correlation_acc      loss       acc  \\\n",
       "0           0.963855                      0.919638  0.048464  1.000000   \n",
       "1           0.819277                      0.676645  0.024034  1.000000   \n",
       "2           0.506024                      0.000000  0.674349  0.596059   \n",
       "\n",
       "   fmeasure_acc  ...                            activation  \\\n",
       "0      1.000000  ...  <function sigmoid at 0x7f4e893f9268>   \n",
       "1      1.000000  ...     <function relu at 0x7f4e893f9158>   \n",
       "2      0.705888  ...  <function sigmoid at 0x7f4e893f9268>   \n",
       "\n",
       "                          optimizer  \\\n",
       "0  <class 'keras.optimizers.Nadam'>   \n",
       "1  <class 'keras.optimizers.Nadam'>   \n",
       "2   <class 'keras.optimizers.Adam'>   \n",
       "\n",
       "                                             losses  hidden_layers batch_size  \\\n",
       "0  <function binary_crossentropy at 0x7f4e89446268>              1         10   \n",
       "1  <function binary_crossentropy at 0x7f4e89446268>              2         10   \n",
       "2  <function binary_crossentropy at 0x7f4e89446268>              2         20   \n",
       "\n",
       "  epochs dropout  kernel_initializer    lr  last_activation  \n",
       "0    150     0.0             uniform  0.10          sigmoid  \n",
       "1    150     0.1              normal  0.10          sigmoid  \n",
       "2    300     0.0              normal  0.01          sigmoid  \n",
       "\n",
       "[3 rows x 24 columns]"
      ]
     },
     "execution_count": 13,
     "metadata": {
      "tags": []
     },
     "output_type": "execute_result"
    }
   ],
   "source": [
    "# accessing the results data frame\n",
    "h.data[0:3]"
   ]
  },
  {
   "cell_type": "code",
   "execution_count": null,
   "metadata": {
    "colab": {},
    "colab_type": "code",
    "id": "DkT24zd8xE3Z"
   },
   "outputs": [],
   "source": [
    "# sort by criteria\n",
    "# h.data.sort_values('val_acc')"
   ]
  },
  {
   "cell_type": "code",
   "execution_count": null,
   "metadata": {
    "colab": {
     "base_uri": "https://localhost:8080/",
     "height": 193
    },
    "colab_type": "code",
    "id": "P_eM9y8RiyfJ",
    "outputId": "08407bc5-11be-4277-bfcb-ac483186bb21"
   },
   "outputs": [
    {
     "name": "stdout",
     "output_type": "stream",
     "text": [
      "[[0.61290383]]\n",
      "[[1]\n",
      " [0]\n",
      " [0]\n",
      " [0]\n",
      " [0]\n",
      " [1]\n",
      " [0]\n",
      " [0]\n",
      " [1]]\n"
     ]
    }
   ],
   "source": [
    "# Best model based on training criteria \"val_acc\"\n",
    "# see source code to use https://github.com/autonomio/talos/blob/master/talos/utils/best_model.py\n",
    "\n",
    "criteria = 'acc'\n",
    "\n",
    "# get best model id from the scan object based on some acc measure\n",
    "model_id = best_model(h, criteria, False)\n",
    "# activate best model based on model id\n",
    "model = activate_model(h, model_id)\n",
    "# makes probability predictions based on weights from best model\n",
    "print(model.predict(x_test)[0:1,]) # print first value\n",
    "# makes class predictions based on weights from best model\n",
    "print(model.predict_classes(x_test)[0:9,]) # print first 10\n",
    "\n",
    "# All in one line\n",
    "# activate_model(scan_object, best_model(scan_object, 'val_acc', False)).predict(X)"
   ]
  },
  {
   "cell_type": "code",
   "execution_count": null,
   "metadata": {
    "colab": {
     "base_uri": "https://localhost:8080/",
     "height": 219
    },
    "colab_type": "code",
    "id": "Jps9bGEtuC0w",
    "outputId": "9b28e460-7e06-4fec-b691-a5cdeb8bdf50"
   },
   "outputs": [
    {
     "data": {
      "text/html": [
       "<div>\n",
       "<style scoped>\n",
       "    .dataframe tbody tr th:only-of-type {\n",
       "        vertical-align: middle;\n",
       "    }\n",
       "\n",
       "    .dataframe tbody tr th {\n",
       "        vertical-align: top;\n",
       "    }\n",
       "\n",
       "    .dataframe thead th {\n",
       "        text-align: right;\n",
       "    }\n",
       "</style>\n",
       "<table border=\"1\" class=\"dataframe\">\n",
       "  <thead>\n",
       "    <tr style=\"text-align: right;\">\n",
       "      <th></th>\n",
       "      <th>val_loss</th>\n",
       "      <th>val_acc</th>\n",
       "      <th>val_fmeasure_acc</th>\n",
       "      <th>val_recall_acc</th>\n",
       "      <th>val_precision_acc</th>\n",
       "      <th>val_matthews_correlation_acc</th>\n",
       "      <th>loss</th>\n",
       "      <th>acc</th>\n",
       "      <th>fmeasure_acc</th>\n",
       "      <th>recall_acc</th>\n",
       "      <th>precision_acc</th>\n",
       "      <th>matthews_correlation_acc</th>\n",
       "      <th>acc_epoch</th>\n",
       "      <th>loss_epoch</th>\n",
       "    </tr>\n",
       "  </thead>\n",
       "  <tbody>\n",
       "    <tr>\n",
       "      <th>1</th>\n",
       "      <td>149</td>\n",
       "      <td>73</td>\n",
       "      <td>73</td>\n",
       "      <td>149</td>\n",
       "      <td>73</td>\n",
       "      <td>73</td>\n",
       "      <td>149</td>\n",
       "      <td>149</td>\n",
       "      <td>148</td>\n",
       "      <td>148</td>\n",
       "      <td>148</td>\n",
       "      <td>149</td>\n",
       "      <td>0.000531</td>\n",
       "      <td>0.115908</td>\n",
       "    </tr>\n",
       "    <tr>\n",
       "      <th>2</th>\n",
       "      <td>149</td>\n",
       "      <td>31</td>\n",
       "      <td>31</td>\n",
       "      <td>149</td>\n",
       "      <td>31</td>\n",
       "      <td>18</td>\n",
       "      <td>148</td>\n",
       "      <td>149</td>\n",
       "      <td>148</td>\n",
       "      <td>148</td>\n",
       "      <td>148</td>\n",
       "      <td>149</td>\n",
       "      <td>0.000762</td>\n",
       "      <td>0.356964</td>\n",
       "    </tr>\n",
       "    <tr>\n",
       "      <th>3</th>\n",
       "      <td>299</td>\n",
       "      <td>299</td>\n",
       "      <td>299</td>\n",
       "      <td>299</td>\n",
       "      <td>299</td>\n",
       "      <td>299</td>\n",
       "      <td>299</td>\n",
       "      <td>299</td>\n",
       "      <td>299</td>\n",
       "      <td>299</td>\n",
       "      <td>294</td>\n",
       "      <td>299</td>\n",
       "      <td>0.001131</td>\n",
       "      <td>0.000006</td>\n",
       "    </tr>\n",
       "    <tr>\n",
       "      <th>4</th>\n",
       "      <td>149</td>\n",
       "      <td>149</td>\n",
       "      <td>149</td>\n",
       "      <td>3</td>\n",
       "      <td>149</td>\n",
       "      <td>149</td>\n",
       "      <td>148</td>\n",
       "      <td>149</td>\n",
       "      <td>149</td>\n",
       "      <td>149</td>\n",
       "      <td>149</td>\n",
       "      <td>149</td>\n",
       "      <td>0.000921</td>\n",
       "      <td>1.179099</td>\n",
       "    </tr>\n",
       "    <tr>\n",
       "      <th>5</th>\n",
       "      <td>249</td>\n",
       "      <td>282</td>\n",
       "      <td>282</td>\n",
       "      <td>4</td>\n",
       "      <td>282</td>\n",
       "      <td>282</td>\n",
       "      <td>257</td>\n",
       "      <td>299</td>\n",
       "      <td>299</td>\n",
       "      <td>299</td>\n",
       "      <td>299</td>\n",
       "      <td>297</td>\n",
       "      <td>0.000594</td>\n",
       "      <td>1.246642</td>\n",
       "    </tr>\n",
       "  </tbody>\n",
       "</table>\n",
       "</div>"
      ],
      "text/plain": [
       "  val_loss val_acc val_fmeasure_acc val_recall_acc val_precision_acc  \\\n",
       "1      149      73               73            149                73   \n",
       "2      149      31               31            149                31   \n",
       "3      299     299              299            299               299   \n",
       "4      149     149              149              3               149   \n",
       "5      249     282              282              4               282   \n",
       "\n",
       "  val_matthews_correlation_acc loss  acc fmeasure_acc recall_acc  \\\n",
       "1                           73  149  149          148        148   \n",
       "2                           18  148  149          148        148   \n",
       "3                          299  299  299          299        299   \n",
       "4                          149  148  149          149        149   \n",
       "5                          282  257  299          299        299   \n",
       "\n",
       "  precision_acc matthews_correlation_acc  acc_epoch  loss_epoch  \n",
       "1           148                      149   0.000531    0.115908  \n",
       "2           148                      149   0.000762    0.356964  \n",
       "3           294                      299   0.001131    0.000006  \n",
       "4           149                      149   0.000921    1.179099  \n",
       "5           299                      297   0.000594    1.246642  "
      ]
     },
     "execution_count": 15,
     "metadata": {
      "tags": []
     },
     "output_type": "execute_result"
    }
   ],
   "source": [
    "# accessing epoch entropy values for each round\n",
    "h.peak_epochs_df[0:5] # print first 5 rows"
   ]
  },
  {
   "cell_type": "code",
   "execution_count": null,
   "metadata": {
    "colab": {
     "base_uri": "https://localhost:8080/",
     "height": 245
    },
    "colab_type": "code",
    "id": "6n2YlqKLuH1R",
    "outputId": "043e28a5-485d-4f48-a39a-93f2ae6acadf"
   },
   "outputs": [
    {
     "data": {
      "text/plain": [
       "random_method                    uniform_mersenne\n",
       "reduction_method                             None\n",
       "reduction_interval                             50\n",
       "reduction_window                               20\n",
       "grid_downsample                              0.15\n",
       "reduction_threshold                           0.2\n",
       "reduction_metric                          val_acc\n",
       "reduce_loss                                 False\n",
       "experiment_name        Draw_a_person_experiment_1\n",
       "complete_time                      05/09/19/15:53\n",
       "x_shape                              (286, 25088)\n",
       "y_shape                                    (286,)\n",
       "dtype: object"
      ]
     },
     "execution_count": 16,
     "metadata": {
      "tags": []
     },
     "output_type": "execute_result"
    }
   ],
   "source": [
    "# access the summary details\n",
    "h.details"
   ]
  },
  {
   "cell_type": "code",
   "execution_count": null,
   "metadata": {
    "colab": {
     "base_uri": "https://localhost:8080/",
     "height": 54
    },
    "colab_type": "code",
    "id": "TuCWhUXauTNt",
    "outputId": "df2e8f22-c48c-4bf0-a208-37631850630c"
   },
   "outputs": [
    {
     "data": {
      "text/plain": [
       "'{\"class_name\": \"Sequential\", \"config\": {\"name\": \"sequential_1\", \"layers\": [{\"class_name\": \"Dense\", \"config\": {\"name\": \"dense_1\", \"trainable\": true, \"batch_input_shape\": [null, 25088], \"dtype\": \"float32\", \"units\": 32, \"activation\": \"sigmoid\", \"use_bias\": true, \"kernel_initializer\": {\"class_name\": \"RandomUniform\", \"config\": {\"minval\": -0.05, \"maxval\": 0.05, \"seed\": null}}, \"bias_initializer\": {\"class_name\": \"Zeros\", \"config\": {}}, \"kernel_regularizer\": null, \"bias_regularizer\": null, \"activity_regularizer\": null, \"kernel_constraint\": null, \"bias_constraint\": null}}, {\"class_name\": \"Dropout\", \"config\": {\"name\": \"dropout_1\", \"trainable\": true, \"rate\": 0.0, \"noise_shape\": null, \"seed\": null}}, {\"class_name\": \"Dense\", \"config\": {\"name\": \"dense_2\", \"trainable\": true, \"units\": 1, \"activation\": \"sigmoid\", \"use_bias\": true, \"kernel_initializer\": {\"class_name\": \"RandomUniform\", \"config\": {\"minval\": -0.05, \"maxval\": 0.05, \"seed\": null}}, \"bias_initializer\": {\"class_name\": \"Zeros\", \"config\": {}}, \"kernel_regularizer\": null, \"bias_regularizer\": null, \"activity_regularizer\": null, \"kernel_constraint\": null, \"bias_constraint\": null}}]}, \"keras_version\": \"2.2.4\", \"backend\": \"tensorflow\"}'"
      ]
     },
     "execution_count": 17,
     "metadata": {
      "tags": []
     },
     "output_type": "execute_result"
    }
   ],
   "source": [
    "# accessing the saved models\n",
    "h.saved_models[0] # print first model"
   ]
  },
  {
   "cell_type": "code",
   "execution_count": null,
   "metadata": {
    "colab": {},
    "colab_type": "code",
    "id": "iIySufgBuWNM"
   },
   "outputs": [],
   "source": [
    "# accessing the saved weights for models\n",
    "# h.saved_weights[0] # print weights first model"
   ]
  },
  {
   "cell_type": "markdown",
   "metadata": {
    "colab_type": "text",
    "id": "yF0EJL-cfvB7"
   },
   "source": [
    "## Reporting optimization\n",
    "In the Scan process, the results are stored round-by-round in the corresponding experiment log which is a .csv file stored in the present working directory. The Reporting() accepts as its source either a file name, or the Scan object.\n",
    "\n",
    "**See source code to dcide how to use this command** \n",
    "https://github.com/autonomio/talos/blob/daily-dev/talos/commands/reporting.py "
   ]
  },
  {
   "cell_type": "code",
   "execution_count": null,
   "metadata": {
    "colab": {},
    "colab_type": "code",
    "id": "vUSL0U1muiuK"
   },
   "outputs": [],
   "source": [
    "# use Scan object as input\n",
    "r = ta.Reporting(h) # creates report object from scan object\n",
    "#r = ta.Reporting('Draw_a_person_experiment_3.csv')"
   ]
  },
  {
   "cell_type": "code",
   "execution_count": null,
   "metadata": {
    "colab": {
     "base_uri": "https://localhost:8080/",
     "height": 340
    },
    "colab_type": "code",
    "id": "ZT5SHcUdux56",
    "outputId": "81fe607c-362a-4976-bb1e-17728d74704e"
   },
   "outputs": [
    {
     "data": {
      "text/html": [
       "<div>\n",
       "<style scoped>\n",
       "    .dataframe tbody tr th:only-of-type {\n",
       "        vertical-align: middle;\n",
       "    }\n",
       "\n",
       "    .dataframe tbody tr th {\n",
       "        vertical-align: top;\n",
       "    }\n",
       "\n",
       "    .dataframe thead th {\n",
       "        text-align: right;\n",
       "    }\n",
       "</style>\n",
       "<table border=\"1\" class=\"dataframe\">\n",
       "  <thead>\n",
       "    <tr style=\"text-align: right;\">\n",
       "      <th></th>\n",
       "      <th>round_epochs</th>\n",
       "      <th>val_loss</th>\n",
       "      <th>val_acc</th>\n",
       "      <th>val_fmeasure_acc</th>\n",
       "      <th>val_recall_acc</th>\n",
       "      <th>val_precision_acc</th>\n",
       "      <th>val_matthews_correlation_acc</th>\n",
       "      <th>loss</th>\n",
       "      <th>acc</th>\n",
       "      <th>fmeasure_acc</th>\n",
       "      <th>...</th>\n",
       "      <th>activation</th>\n",
       "      <th>optimizer</th>\n",
       "      <th>losses</th>\n",
       "      <th>hidden_layers</th>\n",
       "      <th>batch_size</th>\n",
       "      <th>epochs</th>\n",
       "      <th>dropout</th>\n",
       "      <th>kernel_initializer</th>\n",
       "      <th>lr</th>\n",
       "      <th>last_activation</th>\n",
       "    </tr>\n",
       "  </thead>\n",
       "  <tbody>\n",
       "    <tr>\n",
       "      <th>0</th>\n",
       "      <td>150</td>\n",
       "      <td>0.285508</td>\n",
       "      <td>0.975904</td>\n",
       "      <td>0.939516</td>\n",
       "      <td>0.919679</td>\n",
       "      <td>0.963855</td>\n",
       "      <td>0.919638</td>\n",
       "      <td>0.048464</td>\n",
       "      <td>1.000000</td>\n",
       "      <td>1.000000</td>\n",
       "      <td>...</td>\n",
       "      <td>&lt;function sigmoid at 0x7f4e893f9268&gt;</td>\n",
       "      <td>&lt;class 'keras.optimizers.Nadam'&gt;</td>\n",
       "      <td>&lt;function binary_crossentropy at 0x7f4e89446268&gt;</td>\n",
       "      <td>1</td>\n",
       "      <td>10</td>\n",
       "      <td>150</td>\n",
       "      <td>0.0</td>\n",
       "      <td>uniform</td>\n",
       "      <td>0.10</td>\n",
       "      <td>sigmoid</td>\n",
       "    </tr>\n",
       "    <tr>\n",
       "      <th>1</th>\n",
       "      <td>150</td>\n",
       "      <td>0.350499</td>\n",
       "      <td>0.843373</td>\n",
       "      <td>0.821711</td>\n",
       "      <td>0.919679</td>\n",
       "      <td>0.819277</td>\n",
       "      <td>0.676645</td>\n",
       "      <td>0.024034</td>\n",
       "      <td>1.000000</td>\n",
       "      <td>1.000000</td>\n",
       "      <td>...</td>\n",
       "      <td>&lt;function relu at 0x7f4e893f9158&gt;</td>\n",
       "      <td>&lt;class 'keras.optimizers.Nadam'&gt;</td>\n",
       "      <td>&lt;function binary_crossentropy at 0x7f4e89446268&gt;</td>\n",
       "      <td>2</td>\n",
       "      <td>10</td>\n",
       "      <td>150</td>\n",
       "      <td>0.1</td>\n",
       "      <td>normal</td>\n",
       "      <td>0.10</td>\n",
       "      <td>sigmoid</td>\n",
       "    </tr>\n",
       "    <tr>\n",
       "      <th>2</th>\n",
       "      <td>300</td>\n",
       "      <td>0.681707</td>\n",
       "      <td>0.506024</td>\n",
       "      <td>0.660699</td>\n",
       "      <td>0.963855</td>\n",
       "      <td>0.506024</td>\n",
       "      <td>0.000000</td>\n",
       "      <td>0.674349</td>\n",
       "      <td>0.596059</td>\n",
       "      <td>0.705888</td>\n",
       "      <td>...</td>\n",
       "      <td>&lt;function sigmoid at 0x7f4e893f9268&gt;</td>\n",
       "      <td>&lt;class 'keras.optimizers.Adam'&gt;</td>\n",
       "      <td>&lt;function binary_crossentropy at 0x7f4e89446268&gt;</td>\n",
       "      <td>2</td>\n",
       "      <td>20</td>\n",
       "      <td>300</td>\n",
       "      <td>0.0</td>\n",
       "      <td>normal</td>\n",
       "      <td>0.01</td>\n",
       "      <td>sigmoid</td>\n",
       "    </tr>\n",
       "  </tbody>\n",
       "</table>\n",
       "<p>3 rows × 24 columns</p>\n",
       "</div>"
      ],
      "text/plain": [
       "   round_epochs  val_loss   val_acc  val_fmeasure_acc  val_recall_acc  \\\n",
       "0           150  0.285508  0.975904          0.939516        0.919679   \n",
       "1           150  0.350499  0.843373          0.821711        0.919679   \n",
       "2           300  0.681707  0.506024          0.660699        0.963855   \n",
       "\n",
       "   val_precision_acc  val_matthews_correlation_acc      loss       acc  \\\n",
       "0           0.963855                      0.919638  0.048464  1.000000   \n",
       "1           0.819277                      0.676645  0.024034  1.000000   \n",
       "2           0.506024                      0.000000  0.674349  0.596059   \n",
       "\n",
       "   fmeasure_acc  ...                            activation  \\\n",
       "0      1.000000  ...  <function sigmoid at 0x7f4e893f9268>   \n",
       "1      1.000000  ...     <function relu at 0x7f4e893f9158>   \n",
       "2      0.705888  ...  <function sigmoid at 0x7f4e893f9268>   \n",
       "\n",
       "                          optimizer  \\\n",
       "0  <class 'keras.optimizers.Nadam'>   \n",
       "1  <class 'keras.optimizers.Nadam'>   \n",
       "2   <class 'keras.optimizers.Adam'>   \n",
       "\n",
       "                                             losses  hidden_layers batch_size  \\\n",
       "0  <function binary_crossentropy at 0x7f4e89446268>              1         10   \n",
       "1  <function binary_crossentropy at 0x7f4e89446268>              2         10   \n",
       "2  <function binary_crossentropy at 0x7f4e89446268>              2         20   \n",
       "\n",
       "  epochs dropout  kernel_initializer    lr  last_activation  \n",
       "0    150     0.0             uniform  0.10          sigmoid  \n",
       "1    150     0.1              normal  0.10          sigmoid  \n",
       "2    300     0.0              normal  0.01          sigmoid  \n",
       "\n",
       "[3 rows x 24 columns]"
      ]
     },
     "execution_count": 20,
     "metadata": {
      "tags": []
     },
     "output_type": "execute_result"
    }
   ],
   "source": [
    "# access the dataframe with the results\n",
    "r.data[0:3]"
   ]
  },
  {
   "cell_type": "code",
   "execution_count": null,
   "metadata": {
    "colab": {
     "base_uri": "https://localhost:8080/",
     "height": 34
    },
    "colab_type": "code",
    "id": "-Os1t3GKu5VA",
    "outputId": "31eb8360-c46c-49aa-e1b3-3a92b1f69d1c"
   },
   "outputs": [
    {
     "data": {
      "text/plain": [
       "583"
      ]
     },
     "execution_count": 21,
     "metadata": {
      "tags": []
     },
     "output_type": "execute_result"
    }
   ],
   "source": [
    "# get the number of rounds in the Scan\n",
    "r.rounds()"
   ]
  },
  {
   "cell_type": "code",
   "execution_count": null,
   "metadata": {
    "colab": {
     "base_uri": "https://localhost:8080/",
     "height": 34
    },
    "colab_type": "code",
    "id": "SmBCauXmu74R",
    "outputId": "30fd44f8-4085-4073-9c3f-d8ca0eef0afa"
   },
   "outputs": [
    {
     "data": {
      "text/plain": [
       "0.9759036374379353"
      ]
     },
     "execution_count": 22,
     "metadata": {
      "tags": []
     },
     "output_type": "execute_result"
    }
   ],
   "source": [
    "# get the highest result ('val_acc' by default)\n",
    "r.high()"
   ]
  },
  {
   "cell_type": "code",
   "execution_count": null,
   "metadata": {
    "colab": {
     "base_uri": "https://localhost:8080/",
     "height": 122
    },
    "colab_type": "code",
    "id": "_ZPQqpf9u_FK",
    "outputId": "4569d237-9fad-4466-b93d-9d6ce1165406"
   },
   "outputs": [
    {
     "name": "stdout",
     "output_type": "stream",
     "text": [
      "F-measure accuracy: 0.9401207659617964\n",
      "Training accuracy: 1.0\n",
      "Validation accuracy: 0.9759036374379353\n",
      "Validation recall accuracy: 0.963855421686747\n",
      "Validation precision accuracy: 0.963855421686747\n",
      "Validation matthews correlation accuracy: 0.9196377231414059\n"
     ]
    }
   ],
   "source": [
    "# get the highest result for any metric\n",
    "print(\"F-measure accuracy:\", r.high('val_fmeasure_acc'))\n",
    "print(\"Training accuracy:\", r.high('acc'))\n",
    "print(\"Validation accuracy:\", r.high('val_acc'))\n",
    "print(\"Validation recall accuracy:\", r.high('val_recall_acc'))\n",
    "print(\"Validation precision accuracy:\", r.high('val_precision_acc'))\n",
    "print(\"Validation matthews correlation accuracy:\", r.high('val_matthews_correlation_acc'))"
   ]
  },
  {
   "cell_type": "code",
   "execution_count": null,
   "metadata": {
    "colab": {
     "base_uri": "https://localhost:8080/",
     "height": 193
    },
    "colab_type": "code",
    "id": "Hf-EDDDgvBFs",
    "outputId": "339ff751-f8a0-4254-8cd9-69b1d3dd4f48"
   },
   "outputs": [
    {
     "name": "stdout",
     "output_type": "stream",
     "text": [
      "acc 0\n",
      "fmeasure_acc 0\n",
      "recall_acc 0\n",
      "precision_acc 0\n",
      "matthews_correlation_acc 0\n",
      "val_acc 63\n",
      "val_fmeasure_acc 63\n",
      "val_recall_acc 2\n",
      "val_precision_acc 0\n",
      "val_matthews_correlation_acc 0\n"
     ]
    }
   ],
   "source": [
    "# get the round with the best result for each of these criteria\n",
    "# here we say \"grab the model/net with the highest score on X criteria and return id/round\"\n",
    "criteria_list= ['acc', 'fmeasure_acc', 'recall_acc', 'precision_acc', 'matthews_correlation_acc',\n",
    "               'val_acc', 'val_fmeasure_acc', 'val_recall_acc', 'val_precision_acc', 'val_matthews_correlation_acc']\n",
    "\n",
    "for i in criteria_list:\n",
    "  print(i, r.rounds2high(i))"
   ]
  },
  {
   "cell_type": "code",
   "execution_count": null,
   "metadata": {
    "colab": {
     "base_uri": "https://localhost:8080/",
     "height": 790
    },
    "colab_type": "code",
    "id": "jsmR6_o0vZXh",
    "outputId": "bfb9c02f-6cfc-4182-ba3b-9ff11d640688"
   },
   "outputs": [
    {
     "name": "stdout",
     "output_type": "stream",
     "text": [
      "Hyperparameters and f-measure accuracy\n",
      "first_neuron     0.150339\n",
      "hidden_layers    0.050790\n",
      "batch_size      -0.105363\n",
      "epochs           0.056669\n",
      "dropout         -0.040679\n",
      "lr               0.420795\n",
      "Name: val_fmeasure_acc, dtype: float64 \n",
      "\n",
      "Hyperparameters and validation loss\n",
      "first_neuron    -0.192355\n",
      "hidden_layers   -0.025059\n",
      "batch_size       0.226713\n",
      "epochs          -0.151943\n",
      "dropout          0.030181\n",
      "lr              -0.760627\n",
      "Name: val_loss, dtype: float64 \n",
      "\n",
      "Hyperparameters and validation accuracy\n",
      "first_neuron     0.143562\n",
      "hidden_layers   -0.012443\n",
      "batch_size      -0.148594\n",
      "epochs           0.059557\n",
      "dropout         -0.004099\n",
      "lr               0.512650\n",
      "Name: val_acc, dtype: float64 \n",
      "\n",
      "Hyperparameters and recall accuracy\n",
      "first_neuron     0.101098\n",
      "hidden_layers    0.090827\n",
      "batch_size      -0.035485\n",
      "epochs           0.050256\n",
      "dropout         -0.069437\n",
      "lr               0.235832\n",
      "Name: val_recall_acc, dtype: float64 \n",
      "\n",
      "Hyperparameters and precision accuracy\n",
      "first_neuron     0.148554\n",
      "hidden_layers    0.010263\n",
      "batch_size      -0.111341\n",
      "epochs           0.065476\n",
      "dropout         -0.010040\n",
      "lr               0.420253\n",
      "Name: val_precision_acc, dtype: float64\n"
     ]
    }
   ],
   "source": [
    "# get correlation for hyperparameters against a metric\n",
    "print(\"Hyperparameters and f-measure accuracy\")\n",
    "print(r.correlate('val_fmeasure_acc'),\"\\n\")\n",
    "print(\"Hyperparameters and validation loss\")\n",
    "print(r.correlate('val_loss'),\"\\n\")\n",
    "print(\"Hyperparameters and validation accuracy\")\n",
    "print(r.correlate('val_acc'),\"\\n\")\n",
    "print(\"Hyperparameters and recall accuracy\")\n",
    "print(r.correlate('val_recall_acc'),\"\\n\")\n",
    "print(\"Hyperparameters and precision accuracy\")\n",
    "print(r.correlate('val_precision_acc'))"
   ]
  },
  {
   "cell_type": "code",
   "execution_count": null,
   "metadata": {
    "colab": {
     "base_uri": "https://localhost:8080/",
     "height": 746
    },
    "colab_type": "code",
    "id": "HMrXRoMHFfde",
    "outputId": "057a7c11-0f45-4b86-ecb8-becff9e48bfe"
   },
   "outputs": [
    {
     "data": {
      "text/html": [
       "<div>\n",
       "<style scoped>\n",
       "    .dataframe tbody tr th:only-of-type {\n",
       "        vertical-align: middle;\n",
       "    }\n",
       "\n",
       "    .dataframe tbody tr th {\n",
       "        vertical-align: top;\n",
       "    }\n",
       "\n",
       "    .dataframe thead th {\n",
       "        text-align: right;\n",
       "    }\n",
       "</style>\n",
       "<table border=\"1\" class=\"dataframe\">\n",
       "  <thead>\n",
       "    <tr style=\"text-align: right;\">\n",
       "      <th></th>\n",
       "      <th>round_epochs</th>\n",
       "      <th>val_loss</th>\n",
       "      <th>val_acc</th>\n",
       "      <th>val_fmeasure_acc</th>\n",
       "      <th>val_recall_acc</th>\n",
       "      <th>val_precision_acc</th>\n",
       "      <th>val_matthews_correlation_acc</th>\n",
       "      <th>loss</th>\n",
       "      <th>acc</th>\n",
       "      <th>fmeasure_acc</th>\n",
       "      <th>...</th>\n",
       "      <th>activation</th>\n",
       "      <th>optimizer</th>\n",
       "      <th>losses</th>\n",
       "      <th>hidden_layers</th>\n",
       "      <th>batch_size</th>\n",
       "      <th>epochs</th>\n",
       "      <th>dropout</th>\n",
       "      <th>kernel_initializer</th>\n",
       "      <th>lr</th>\n",
       "      <th>last_activation</th>\n",
       "    </tr>\n",
       "  </thead>\n",
       "  <tbody>\n",
       "    <tr>\n",
       "      <th>63</th>\n",
       "      <td>150</td>\n",
       "      <td>0.435196</td>\n",
       "      <td>0.975904</td>\n",
       "      <td>0.940121</td>\n",
       "      <td>0.917537</td>\n",
       "      <td>0.963855</td>\n",
       "      <td>0.916344</td>\n",
       "      <td>0.272213</td>\n",
       "      <td>1.0</td>\n",
       "      <td>1.0</td>\n",
       "      <td>...</td>\n",
       "      <td>&lt;function sigmoid at 0x7f4e893f9268&gt;</td>\n",
       "      <td>&lt;class 'keras.optimizers.Nadam'&gt;</td>\n",
       "      <td>&lt;function binary_crossentropy at 0x7f4e89446268&gt;</td>\n",
       "      <td>0</td>\n",
       "      <td>40</td>\n",
       "      <td>150</td>\n",
       "      <td>0.1</td>\n",
       "      <td>normal</td>\n",
       "      <td>0.2</td>\n",
       "      <td>sigmoid</td>\n",
       "    </tr>\n",
       "    <tr>\n",
       "      <th>165</th>\n",
       "      <td>150</td>\n",
       "      <td>0.364036</td>\n",
       "      <td>0.975904</td>\n",
       "      <td>0.940121</td>\n",
       "      <td>0.963855</td>\n",
       "      <td>0.963855</td>\n",
       "      <td>0.916344</td>\n",
       "      <td>0.125319</td>\n",
       "      <td>1.0</td>\n",
       "      <td>1.0</td>\n",
       "      <td>...</td>\n",
       "      <td>&lt;function sigmoid at 0x7f4e893f9268&gt;</td>\n",
       "      <td>&lt;class 'keras.optimizers.Nadam'&gt;</td>\n",
       "      <td>&lt;function binary_crossentropy at 0x7f4e89446268&gt;</td>\n",
       "      <td>0</td>\n",
       "      <td>40</td>\n",
       "      <td>150</td>\n",
       "      <td>0.0</td>\n",
       "      <td>normal</td>\n",
       "      <td>0.2</td>\n",
       "      <td>sigmoid</td>\n",
       "    </tr>\n",
       "    <tr>\n",
       "      <th>414</th>\n",
       "      <td>300</td>\n",
       "      <td>0.399525</td>\n",
       "      <td>0.975904</td>\n",
       "      <td>0.940121</td>\n",
       "      <td>0.938491</td>\n",
       "      <td>0.963855</td>\n",
       "      <td>0.916344</td>\n",
       "      <td>0.078000</td>\n",
       "      <td>1.0</td>\n",
       "      <td>1.0</td>\n",
       "      <td>...</td>\n",
       "      <td>&lt;function sigmoid at 0x7f4e893f9268&gt;</td>\n",
       "      <td>&lt;class 'keras.optimizers.Nadam'&gt;</td>\n",
       "      <td>&lt;function binary_crossentropy at 0x7f4e89446268&gt;</td>\n",
       "      <td>0</td>\n",
       "      <td>40</td>\n",
       "      <td>300</td>\n",
       "      <td>0.2</td>\n",
       "      <td>uniform</td>\n",
       "      <td>0.2</td>\n",
       "      <td>sigmoid</td>\n",
       "    </tr>\n",
       "    <tr>\n",
       "      <th>420</th>\n",
       "      <td>150</td>\n",
       "      <td>0.283552</td>\n",
       "      <td>0.975904</td>\n",
       "      <td>0.940121</td>\n",
       "      <td>0.963855</td>\n",
       "      <td>0.963855</td>\n",
       "      <td>0.916344</td>\n",
       "      <td>0.072315</td>\n",
       "      <td>1.0</td>\n",
       "      <td>1.0</td>\n",
       "      <td>...</td>\n",
       "      <td>&lt;function sigmoid at 0x7f4e893f9268&gt;</td>\n",
       "      <td>&lt;class 'keras.optimizers.Nadam'&gt;</td>\n",
       "      <td>&lt;function binary_crossentropy at 0x7f4e89446268&gt;</td>\n",
       "      <td>0</td>\n",
       "      <td>40</td>\n",
       "      <td>150</td>\n",
       "      <td>0.1</td>\n",
       "      <td>normal</td>\n",
       "      <td>0.2</td>\n",
       "      <td>sigmoid</td>\n",
       "    </tr>\n",
       "    <tr>\n",
       "      <th>486</th>\n",
       "      <td>300</td>\n",
       "      <td>0.308041</td>\n",
       "      <td>0.975904</td>\n",
       "      <td>0.940121</td>\n",
       "      <td>0.963855</td>\n",
       "      <td>0.963855</td>\n",
       "      <td>0.916344</td>\n",
       "      <td>0.060299</td>\n",
       "      <td>1.0</td>\n",
       "      <td>1.0</td>\n",
       "      <td>...</td>\n",
       "      <td>&lt;function sigmoid at 0x7f4e893f9268&gt;</td>\n",
       "      <td>&lt;class 'keras.optimizers.Nadam'&gt;</td>\n",
       "      <td>&lt;function binary_crossentropy at 0x7f4e89446268&gt;</td>\n",
       "      <td>0</td>\n",
       "      <td>40</td>\n",
       "      <td>300</td>\n",
       "      <td>0.0</td>\n",
       "      <td>uniform</td>\n",
       "      <td>0.1</td>\n",
       "      <td>sigmoid</td>\n",
       "    </tr>\n",
       "    <tr>\n",
       "      <th>495</th>\n",
       "      <td>150</td>\n",
       "      <td>0.358432</td>\n",
       "      <td>0.975904</td>\n",
       "      <td>0.940121</td>\n",
       "      <td>0.938491</td>\n",
       "      <td>0.963855</td>\n",
       "      <td>0.916344</td>\n",
       "      <td>0.149354</td>\n",
       "      <td>1.0</td>\n",
       "      <td>1.0</td>\n",
       "      <td>...</td>\n",
       "      <td>&lt;function sigmoid at 0x7f4e893f9268&gt;</td>\n",
       "      <td>&lt;class 'keras.optimizers.Nadam'&gt;</td>\n",
       "      <td>&lt;function binary_crossentropy at 0x7f4e89446268&gt;</td>\n",
       "      <td>0</td>\n",
       "      <td>40</td>\n",
       "      <td>150</td>\n",
       "      <td>0.2</td>\n",
       "      <td>uniform</td>\n",
       "      <td>0.2</td>\n",
       "      <td>sigmoid</td>\n",
       "    </tr>\n",
       "    <tr>\n",
       "      <th>522</th>\n",
       "      <td>300</td>\n",
       "      <td>0.442358</td>\n",
       "      <td>0.975904</td>\n",
       "      <td>0.940121</td>\n",
       "      <td>0.917537</td>\n",
       "      <td>0.963855</td>\n",
       "      <td>0.916344</td>\n",
       "      <td>0.297043</td>\n",
       "      <td>1.0</td>\n",
       "      <td>1.0</td>\n",
       "      <td>...</td>\n",
       "      <td>&lt;function sigmoid at 0x7f4e893f9268&gt;</td>\n",
       "      <td>&lt;class 'keras.optimizers.Nadam'&gt;</td>\n",
       "      <td>&lt;function binary_crossentropy at 0x7f4e89446268&gt;</td>\n",
       "      <td>1</td>\n",
       "      <td>40</td>\n",
       "      <td>300</td>\n",
       "      <td>0.2</td>\n",
       "      <td>uniform</td>\n",
       "      <td>0.1</td>\n",
       "      <td>sigmoid</td>\n",
       "    </tr>\n",
       "    <tr>\n",
       "      <th>554</th>\n",
       "      <td>300</td>\n",
       "      <td>0.451051</td>\n",
       "      <td>0.975904</td>\n",
       "      <td>0.940121</td>\n",
       "      <td>0.917537</td>\n",
       "      <td>0.963855</td>\n",
       "      <td>0.916344</td>\n",
       "      <td>0.289510</td>\n",
       "      <td>1.0</td>\n",
       "      <td>1.0</td>\n",
       "      <td>...</td>\n",
       "      <td>&lt;function sigmoid at 0x7f4e893f9268&gt;</td>\n",
       "      <td>&lt;class 'keras.optimizers.Adam'&gt;</td>\n",
       "      <td>&lt;function binary_crossentropy at 0x7f4e89446268&gt;</td>\n",
       "      <td>2</td>\n",
       "      <td>40</td>\n",
       "      <td>300</td>\n",
       "      <td>0.2</td>\n",
       "      <td>normal</td>\n",
       "      <td>0.2</td>\n",
       "      <td>sigmoid</td>\n",
       "    </tr>\n",
       "  </tbody>\n",
       "</table>\n",
       "<p>8 rows × 24 columns</p>\n",
       "</div>"
      ],
      "text/plain": [
       "     round_epochs  val_loss   val_acc  val_fmeasure_acc  val_recall_acc  \\\n",
       "63            150  0.435196  0.975904          0.940121        0.917537   \n",
       "165           150  0.364036  0.975904          0.940121        0.963855   \n",
       "414           300  0.399525  0.975904          0.940121        0.938491   \n",
       "420           150  0.283552  0.975904          0.940121        0.963855   \n",
       "486           300  0.308041  0.975904          0.940121        0.963855   \n",
       "495           150  0.358432  0.975904          0.940121        0.938491   \n",
       "522           300  0.442358  0.975904          0.940121        0.917537   \n",
       "554           300  0.451051  0.975904          0.940121        0.917537   \n",
       "\n",
       "     val_precision_acc  val_matthews_correlation_acc      loss  acc  \\\n",
       "63            0.963855                      0.916344  0.272213  1.0   \n",
       "165           0.963855                      0.916344  0.125319  1.0   \n",
       "414           0.963855                      0.916344  0.078000  1.0   \n",
       "420           0.963855                      0.916344  0.072315  1.0   \n",
       "486           0.963855                      0.916344  0.060299  1.0   \n",
       "495           0.963855                      0.916344  0.149354  1.0   \n",
       "522           0.963855                      0.916344  0.297043  1.0   \n",
       "554           0.963855                      0.916344  0.289510  1.0   \n",
       "\n",
       "     fmeasure_acc  ...                            activation  \\\n",
       "63            1.0  ...  <function sigmoid at 0x7f4e893f9268>   \n",
       "165           1.0  ...  <function sigmoid at 0x7f4e893f9268>   \n",
       "414           1.0  ...  <function sigmoid at 0x7f4e893f9268>   \n",
       "420           1.0  ...  <function sigmoid at 0x7f4e893f9268>   \n",
       "486           1.0  ...  <function sigmoid at 0x7f4e893f9268>   \n",
       "495           1.0  ...  <function sigmoid at 0x7f4e893f9268>   \n",
       "522           1.0  ...  <function sigmoid at 0x7f4e893f9268>   \n",
       "554           1.0  ...  <function sigmoid at 0x7f4e893f9268>   \n",
       "\n",
       "                            optimizer  \\\n",
       "63   <class 'keras.optimizers.Nadam'>   \n",
       "165  <class 'keras.optimizers.Nadam'>   \n",
       "414  <class 'keras.optimizers.Nadam'>   \n",
       "420  <class 'keras.optimizers.Nadam'>   \n",
       "486  <class 'keras.optimizers.Nadam'>   \n",
       "495  <class 'keras.optimizers.Nadam'>   \n",
       "522  <class 'keras.optimizers.Nadam'>   \n",
       "554   <class 'keras.optimizers.Adam'>   \n",
       "\n",
       "                                               losses  hidden_layers  \\\n",
       "63   <function binary_crossentropy at 0x7f4e89446268>              0   \n",
       "165  <function binary_crossentropy at 0x7f4e89446268>              0   \n",
       "414  <function binary_crossentropy at 0x7f4e89446268>              0   \n",
       "420  <function binary_crossentropy at 0x7f4e89446268>              0   \n",
       "486  <function binary_crossentropy at 0x7f4e89446268>              0   \n",
       "495  <function binary_crossentropy at 0x7f4e89446268>              0   \n",
       "522  <function binary_crossentropy at 0x7f4e89446268>              1   \n",
       "554  <function binary_crossentropy at 0x7f4e89446268>              2   \n",
       "\n",
       "    batch_size epochs dropout  kernel_initializer   lr  last_activation  \n",
       "63          40    150     0.1              normal  0.2          sigmoid  \n",
       "165         40    150     0.0              normal  0.2          sigmoid  \n",
       "414         40    300     0.2             uniform  0.2          sigmoid  \n",
       "420         40    150     0.1              normal  0.2          sigmoid  \n",
       "486         40    300     0.0             uniform  0.1          sigmoid  \n",
       "495         40    150     0.2             uniform  0.2          sigmoid  \n",
       "522         40    300     0.2             uniform  0.1          sigmoid  \n",
       "554         40    300     0.2              normal  0.2          sigmoid  \n",
       "\n",
       "[8 rows x 24 columns]"
      ]
     },
     "execution_count": 26,
     "metadata": {
      "tags": []
     },
     "output_type": "execute_result"
    }
   ],
   "source": [
    "# access the row with the highest f-measure validation value\n",
    "h_value = r.high('val_fmeasure_acc')\n",
    "r.data.loc[r.data['val_fmeasure_acc'] == h_value]"
   ]
  },
  {
   "cell_type": "code",
   "execution_count": null,
   "metadata": {
    "colab": {
     "base_uri": "https://localhost:8080/",
     "height": 562
    },
    "colab_type": "code",
    "id": "RGlss-RFvKYt",
    "outputId": "890e626a-c792-4b5f-c666-dfadea7da3dd"
   },
   "outputs": [
    {
     "data": {
      "text/plain": [
       "array([['<function binary_crossentropy at 0x7f4e89446268>', 150, 0, 0.2,\n",
       "        '<function sigmoid at 0x7f4e893f9268>', 64, 'normal', 420, 40,\n",
       "        \"<class 'keras.optimizers.Nadam'>\", 'sigmoid', 0.1, 0],\n",
       "       ['<function binary_crossentropy at 0x7f4e89446268>', 300, 1, 0.1,\n",
       "        '<function sigmoid at 0x7f4e893f9268>', 16, 'uniform', 522, 40,\n",
       "        \"<class 'keras.optimizers.Nadam'>\", 'sigmoid', 0.2, 1],\n",
       "       ['<function binary_crossentropy at 0x7f4e89446268>', 300, 2, 0.2,\n",
       "        '<function sigmoid at 0x7f4e893f9268>', 16, 'normal', 554, 40,\n",
       "        \"<class 'keras.optimizers.Adam'>\", 'sigmoid', 0.2, 2],\n",
       "       ['<function binary_crossentropy at 0x7f4e89446268>', 150, 0, 0.2,\n",
       "        '<function sigmoid at 0x7f4e893f9268>', 16, 'normal', 63, 40,\n",
       "        \"<class 'keras.optimizers.Nadam'>\", 'sigmoid', 0.1, 3],\n",
       "       ['<function binary_crossentropy at 0x7f4e89446268>', 300, 0, 0.2,\n",
       "        '<function sigmoid at 0x7f4e893f9268>', 16, 'uniform', 414, 40,\n",
       "        \"<class 'keras.optimizers.Nadam'>\", 'sigmoid', 0.2, 4],\n",
       "       ['<function binary_crossentropy at 0x7f4e89446268>', 150, 0, 0.2,\n",
       "        '<function sigmoid at 0x7f4e893f9268>', 32, 'uniform', 495, 40,\n",
       "        \"<class 'keras.optimizers.Nadam'>\", 'sigmoid', 0.2, 5],\n",
       "       ['<function binary_crossentropy at 0x7f4e89446268>', 300, 0, 0.1,\n",
       "        '<function sigmoid at 0x7f4e893f9268>', 64, 'uniform', 486, 40,\n",
       "        \"<class 'keras.optimizers.Nadam'>\", 'sigmoid', 0.0, 6],\n",
       "       ['<function binary_crossentropy at 0x7f4e89446268>', 150, 0, 0.2,\n",
       "        '<function sigmoid at 0x7f4e893f9268>', 32, 'normal', 165, 40,\n",
       "        \"<class 'keras.optimizers.Nadam'>\", 'sigmoid', 0.0, 7],\n",
       "       ['<function binary_crossentropy at 0x7f4e89446268>', 300, 2, 0.2,\n",
       "        '<function sigmoid at 0x7f4e893f9268>', 32, 'normal', 210, 10,\n",
       "        \"<class 'keras.optimizers.Adam'>\", 'sigmoid', 0.2, 8],\n",
       "       ['<function binary_crossentropy at 0x7f4e89446268>', 150, 2, 0.01,\n",
       "        '<function relu at 0x7f4e893f9158>', 16, 'normal', 448, 10,\n",
       "        \"<class 'keras.optimizers.Nadam'>\", 'sigmoid', 0.0, 9]],\n",
       "      dtype=object)"
      ]
     },
     "execution_count": 111,
     "metadata": {
      "tags": []
     },
     "output_type": "execute_result"
    }
   ],
   "source": [
    "# get the best paramaters\n",
    "#r.best_params(n=3) # return the best 3 sets of params\n",
    "r.best_params(\"val_fmeasure_acc\") # return the best 3 sets of params"
   ]
  },
  {
   "cell_type": "code",
   "execution_count": null,
   "metadata": {
    "colab": {
     "base_uri": "https://localhost:8080/",
     "height": 480
    },
    "colab_type": "code",
    "id": "4GaRG2g5vhxl",
    "outputId": "d330612d-abae-4aab-89f3-6f0304cfa5a7"
   },
   "outputs": [
    {
     "data": {
      "image/png": "[encoded data removed]",
      "text/plain": [
       "<Figure size 720x475.2 with 1 Axes>"
      ]
     },
     "metadata": {
      "tags": []
     },
     "output_type": "display_data"
    }
   ],
   "source": [
    "# a regression plot for two dimensions \n",
    "r.plot_regs(\"val_acc\", \"epochs\")"
   ]
  },
  {
   "cell_type": "code",
   "execution_count": null,
   "metadata": {
    "colab": {
     "base_uri": "https://localhost:8080/",
     "height": 497
    },
    "colab_type": "code",
    "id": "BwlX1zsFaEz2",
    "outputId": "8cd4a2f8-f13e-4396-e3dd-df5d7e175f47"
   },
   "outputs": [
    {
     "name": "stdout",
     "output_type": "stream",
     "text": [
      "None\n"
     ]
    },
    {
     "data": {
      "image/png": "[encoded data removed]",
      "text/plain": [
       "<Figure size 864x475.2 with 1 Axes>"
      ]
     },
     "metadata": {
      "tags": []
     },
     "output_type": "display_data"
    }
   ],
   "source": [
    "# line plot\n",
    "print(r.plot_line(\"val_acc\"))"
   ]
  },
  {
   "cell_type": "code",
   "execution_count": null,
   "metadata": {
    "colab": {
     "base_uri": "https://localhost:8080/",
     "height": 480
    },
    "colab_type": "code",
    "id": "ZRgsw8x5wEnx",
    "outputId": "12e4cb46-a27b-463a-90c8-eeb5baaa31c2"
   },
   "outputs": [
    {
     "data": {
      "image/png": "[encoded data removed]",
      "text/plain": [
       "<Figure size 720x475.2 with 1 Axes>"
      ]
     },
     "metadata": {
      "tags": []
     },
     "output_type": "display_data"
    }
   ],
   "source": [
    "# up to two dimensional kernel density estimator\n",
    "r.plot_kde(\"epochs\",\"val_acc\")"
   ]
  },
  {
   "cell_type": "code",
   "execution_count": null,
   "metadata": {
    "colab": {
     "base_uri": "https://localhost:8080/",
     "height": 480
    },
    "colab_type": "code",
    "id": "rMRhX83oxIv4",
    "outputId": "58a13d39-af7b-4f78-8ee3-fd026e799e7f"
   },
   "outputs": [
    {
     "data": {
      "image/png": "[encoded data removed]",
      "text/plain": [
       "<Figure size 720x475.2 with 1 Axes>"
      ]
     },
     "metadata": {
      "tags": []
     },
     "output_type": "display_data"
    }
   ],
   "source": [
    "# a simple histogram\n",
    "r.plot_hist(bins=50)"
   ]
  },
  {
   "cell_type": "code",
   "execution_count": null,
   "metadata": {
    "colab": {
     "base_uri": "https://localhost:8080/",
     "height": 313
    },
    "colab_type": "code",
    "id": "QsM9EKRxxNf1",
    "outputId": "e063b439-d301-4f56-ff64-1370a76e27da"
   },
   "outputs": [
    {
     "data": {
      "image/png": "[encoded data removed]",
      "text/plain": [
       "<Figure size 1236.25x288 with 3 Axes>"
      ]
     },
     "metadata": {
      "tags": []
     },
     "output_type": "display_data"
    }
   ],
   "source": [
    "# a four dimensional bar grid\n",
    "r.plot_bars('batch_size', 'val_acc', 'first_neuron', 'lr')"
   ]
  },
  {
   "cell_type": "markdown",
   "metadata": {
    "colab_type": "text",
    "id": "YeXKG6T51GH3"
   },
   "source": [
    "## Evaluating models\n",
    "Models can be evaluated with Evaluate() against a k-fold cross-validation. Ideally at least 50% of the data, or more if possible, is kept completely out of the Scan process and only exposed into Evaluate once one or more candidate models have been identified.\n",
    "\n",
    "**See source code at** https://github.com/autonomio/talos/blob/daily-dev/talos/commands/evaluate.py\n"
   ]
  },
  {
   "cell_type": "code",
   "execution_count": null,
   "metadata": {
    "colab": {},
    "colab_type": "code",
    "id": "nJzqujxIdWgy"
   },
   "outputs": [],
   "source": [
    "# k-fols crossvalidation with 10 folds, from test data\n",
    "# we're going to validate using the f-measure or harmonic mean since \n",
    "# combines precision and recall (optimize on that)\n",
    "# https://en.wikipedia.org/wiki/Precision_and_recall#F-measure\n",
    "\n",
    "e = ta.Evaluate(h)\n",
    "\n",
    "e.evaluate(x=x_test, y=y_test,\n",
    "           folds=10,\n",
    "           shuffle=True,\n",
    "           metric='val_acc',\n",
    "           mode='binary',\n",
    "           print_out=True)"
   ]
  },
  {
   "cell_type": "markdown",
   "metadata": {
    "colab_type": "text",
    "id": "4-DAUSyPfIkS"
   },
   "source": [
    "## Evaluating model on test set"
   ]
  },
  {
   "cell_type": "markdown",
   "metadata": {
    "colab_type": "text",
    "id": "_KbTwElFfXgM"
   },
   "source": [
    "### Classification report AND Confusion matrix\n",
    "\n",
    "Here we will iterate over all possible evaluation criteria to generate a matrix of confusion matrices. Each evaluation criteria (acc, val_acc, etc.) index the round (model) with the highest value on that criteria from all the trained models.\n",
    "\n",
    "After model selection, we make predictions on the test set. The results for the confusion matrix and the classification report are storaged in a pandas dataframe for each model-criteria pair. \n",
    "\n",
    "- **accuracy:** true positives + true negatives/ total results OR OR *“for all instances, what percent was correct?”*\n",
    "- **precision:** true positives / false positives + true positives OR *“for all instances classified positive, what percent was correct?”*\n",
    "- **recall:** true positives / true positives + false negatives   OR  “for all instances that were actually positive, what percent was classified correctly?”\n",
    "- **f1-score:** 2 * (precision * recall)/(precision + recall) // The F1 score is a weighted harmonic mean of precision and recall such that the best score is 1.0 and the worst is 0.0. \n",
    "-  **support:** is the number of actual occurrences of the class in the specified dataset. Imbalanced support in the training data may indicate structural weaknesses in the reported scores of the classifier and could indicate the need for stratified sampling or rebalancing\n",
    "\n",
    "**See documentation at** https://www.scikit-yb.org/en/latest/api/classifier/classification_report.html"
   ]
  },
  {
   "cell_type": "code",
   "execution_count": null,
   "metadata": {
    "colab": {},
    "colab_type": "code",
    "id": "ePntAqWxjHJ1"
   },
   "outputs": [],
   "source": [
    "from sklearn.metrics import confusion_matrix\n",
    "from sklearn.metrics import accuracy_score\n",
    "from scipy.stats import norm\n",
    "import math\n",
    "import pandas as pd"
   ]
  },
  {
   "cell_type": "code",
   "execution_count": null,
   "metadata": {
    "colab": {},
    "colab_type": "code",
    "id": "Fiu-xz4ciUBl"
   },
   "outputs": [],
   "source": [
    "# Lists to store values\n",
    "# List of performance measures to evaluate models (criteria list)\n",
    "# List of labels to create dataframe\n",
    "\n",
    "# Confusion matrix values as frequency\n",
    "true_neg_l = []\n",
    "false_pos_l = []\n",
    "false_neg_l = []\n",
    "true_pos_l = []\n",
    "\n",
    "# Confusion matrix values as percentage\n",
    "true_neg_per_l = []\n",
    "false_pos_per_l = []\n",
    "false_neg_per_l = []\n",
    "true_pos_per_l = []\n",
    "\n",
    "# Other metrics for all\n",
    "hit_rate_l = []\n",
    "false_alarm_rate_l = []\n",
    "d_sensitivity_l = []\n",
    "c_bias_l = []\n",
    "accuracy_score_l = []\n",
    "\n",
    "# Metrics to pick model and test model perfomance\n",
    "criteria_list= ['acc', 'fmeasure_acc', 'recall_acc', 'precision_acc', 'matthews_correlation_acc',\n",
    "               'val_acc', 'val_fmeasure_acc', 'val_recall_acc', 'val_precision_acc', 'val_matthews_correlation_acc']\n",
    "\n",
    "# Labels to build dataframe\n",
    "labels = [\"Criteria\",\"True_Negatives\", \"False_Positives\", \"False_Negatives\", \"True_Positives\",\n",
    "          \"True_Negatives_Per\", \"False_Positives_Per\", \"False_Negatives_Per\", \"True_Positives_Per\",\n",
    "          \"Hit_Rate\", \"False_Alarm_Rate\", \"d_sensitivity\", \"c_bias\", \"Test_Accuracy_Score\"]\n"
   ]
  },
  {
   "cell_type": "code",
   "execution_count": null,
   "metadata": {
    "colab": {},
    "colab_type": "code",
    "id": "C6jbJGl0jI92"
   },
   "outputs": [],
   "source": [
    "# Here we loop over the best models based on relevant criterias to build a \n",
    "# confusion matrix and classification report \n",
    "\n",
    "# Reference to compute d' and c-bias https://lindeloev.net/calculating-d-in-python-and-php/\n",
    "\n",
    "for criteria in criteria_list:\n",
    "  # get best model id from the scan object based on some perfomance measure\n",
    "  model_id = best_model(h, criteria, False)\n",
    "  # activate best model based on model id\n",
    "  model = activate_model(h, model_id)\n",
    "  \n",
    "  # predicted labels\n",
    "  y_pred = model.predict_classes(x_test) \n",
    "  # true labels\n",
    "  y_true = y_test \n",
    "  \n",
    "  # Compute confusion matrix values\n",
    "  true_neg, false_pos, false_neg, true_pos = confusion_matrix(y_true, y_pred).ravel()\n",
    "  true_neg_l.append(true_neg)\n",
    "  false_pos_l.append(false_pos)\n",
    "  false_neg_l.append(false_neg)\n",
    "  true_pos_l.append(true_pos)\n",
    "  \n",
    "  # Compute confusion matrix as percentage\n",
    "  all_negatives = true_neg + false_pos\n",
    "  all_positives = false_neg + true_pos\n",
    "  true_neg_per = true_neg / all_negatives\n",
    "  true_neg_per_l.append(true_neg_per)\n",
    "  false_pos_per = false_pos / all_negatives\n",
    "  false_pos_per_l.append(false_pos_per)\n",
    "  false_neg_per = false_neg / all_positives\n",
    "  false_neg_per_l.append(false_neg_per)\n",
    "  true_pos_per = true_pos / all_positives\n",
    "  true_pos_per_l.append(true_pos_per)\n",
    "  \n",
    "  # Compute Hit rate and avoid d' infinity\n",
    "  hit_rate = true_pos / (true_pos + false_neg)\n",
    "  if hit_rate == 1: \n",
    "    hit_rate = 1 - half_hit\n",
    "  if hit_rate == 0: \n",
    "    hit_rate = half_hit\n",
    "  hit_rate_l.append(hit_rate)  \n",
    "  \n",
    "  # Compute False alarm rate and avoid d' infinity\n",
    "  false_alarm_rate = false_pos / (false_pos + true_neg)\n",
    "  if false_alarm_rate == 1: \n",
    "      false_alarm_rate = 1 - half_fa\n",
    "  if false_alarm_rate == 0: \n",
    "      false_alarm_rate = half_fa\n",
    "  false_alarm_rate_l.append(false_alarm_rate) \n",
    "  \n",
    "  # get z-score\n",
    "  Z = norm.ppf\n",
    "  \n",
    "  # Compute Sensitivity - d'\n",
    "  d_sensitivity = Z(hit_rate) - Z(false_alarm_rate)\n",
    "  d_sensitivity_l.append(d_sensitivity)\n",
    "  \n",
    "  # Compute Bias - c\n",
    "  c_bias = -(Z(hit_rate) + Z(false_alarm_rate)) / 2\n",
    "  c_bias_l.append(c_bias)\n",
    "  \n",
    "  # Compute test accuracy\n",
    "  acc = accuracy_score(y_true, y_pred)\n",
    "  accuracy_score_l.append(acc)"
   ]
  },
  {
   "cell_type": "code",
   "execution_count": null,
   "metadata": {
    "colab": {
     "base_uri": "https://localhost:8080/",
     "height": 371
    },
    "colab_type": "code",
    "id": "PCVUkA1OmStO",
    "outputId": "2702cd9c-c39c-4834-c89f-c4f71dcdd3a2"
   },
   "outputs": [
    {
     "data": {
      "text/html": [
       "<div>\n",
       "<style scoped>\n",
       "    .dataframe tbody tr th:only-of-type {\n",
       "        vertical-align: middle;\n",
       "    }\n",
       "\n",
       "    .dataframe tbody tr th {\n",
       "        vertical-align: top;\n",
       "    }\n",
       "\n",
       "    .dataframe thead th {\n",
       "        text-align: right;\n",
       "    }\n",
       "</style>\n",
       "<table border=\"1\" class=\"dataframe\">\n",
       "  <thead>\n",
       "    <tr style=\"text-align: right;\">\n",
       "      <th></th>\n",
       "      <th>Criteria</th>\n",
       "      <th>True_Negatives</th>\n",
       "      <th>False_Positives</th>\n",
       "      <th>False_Negatives</th>\n",
       "      <th>True_Positives</th>\n",
       "      <th>True_Negatives_Per</th>\n",
       "      <th>False_Positives_Per</th>\n",
       "      <th>False_Negatives_Per</th>\n",
       "      <th>True_Positives_Per</th>\n",
       "      <th>Hit_Rate</th>\n",
       "      <th>False_Alarm_Rate</th>\n",
       "      <th>d_sensitivity</th>\n",
       "      <th>c_bias</th>\n",
       "      <th>Test_Accuracy_Score</th>\n",
       "    </tr>\n",
       "  </thead>\n",
       "  <tbody>\n",
       "    <tr>\n",
       "      <th>0</th>\n",
       "      <td>acc</td>\n",
       "      <td>50</td>\n",
       "      <td>15</td>\n",
       "      <td>7</td>\n",
       "      <td>6</td>\n",
       "      <td>0.769231</td>\n",
       "      <td>0.230769</td>\n",
       "      <td>0.538462</td>\n",
       "      <td>0.461538</td>\n",
       "      <td>0.461538</td>\n",
       "      <td>0.230769</td>\n",
       "      <td>0.639757</td>\n",
       "      <td>0.416437</td>\n",
       "      <td>0.717949</td>\n",
       "    </tr>\n",
       "    <tr>\n",
       "      <th>1</th>\n",
       "      <td>fmeasure_acc</td>\n",
       "      <td>50</td>\n",
       "      <td>15</td>\n",
       "      <td>7</td>\n",
       "      <td>6</td>\n",
       "      <td>0.769231</td>\n",
       "      <td>0.230769</td>\n",
       "      <td>0.538462</td>\n",
       "      <td>0.461538</td>\n",
       "      <td>0.461538</td>\n",
       "      <td>0.230769</td>\n",
       "      <td>0.639757</td>\n",
       "      <td>0.416437</td>\n",
       "      <td>0.717949</td>\n",
       "    </tr>\n",
       "    <tr>\n",
       "      <th>2</th>\n",
       "      <td>recall_acc</td>\n",
       "      <td>50</td>\n",
       "      <td>15</td>\n",
       "      <td>7</td>\n",
       "      <td>6</td>\n",
       "      <td>0.769231</td>\n",
       "      <td>0.230769</td>\n",
       "      <td>0.538462</td>\n",
       "      <td>0.461538</td>\n",
       "      <td>0.461538</td>\n",
       "      <td>0.230769</td>\n",
       "      <td>0.639757</td>\n",
       "      <td>0.416437</td>\n",
       "      <td>0.717949</td>\n",
       "    </tr>\n",
       "    <tr>\n",
       "      <th>3</th>\n",
       "      <td>precision_acc</td>\n",
       "      <td>50</td>\n",
       "      <td>15</td>\n",
       "      <td>7</td>\n",
       "      <td>6</td>\n",
       "      <td>0.769231</td>\n",
       "      <td>0.230769</td>\n",
       "      <td>0.538462</td>\n",
       "      <td>0.461538</td>\n",
       "      <td>0.461538</td>\n",
       "      <td>0.230769</td>\n",
       "      <td>0.639757</td>\n",
       "      <td>0.416437</td>\n",
       "      <td>0.717949</td>\n",
       "    </tr>\n",
       "    <tr>\n",
       "      <th>4</th>\n",
       "      <td>matthews_correlation_acc</td>\n",
       "      <td>50</td>\n",
       "      <td>15</td>\n",
       "      <td>7</td>\n",
       "      <td>6</td>\n",
       "      <td>0.769231</td>\n",
       "      <td>0.230769</td>\n",
       "      <td>0.538462</td>\n",
       "      <td>0.461538</td>\n",
       "      <td>0.461538</td>\n",
       "      <td>0.230769</td>\n",
       "      <td>0.639757</td>\n",
       "      <td>0.416437</td>\n",
       "      <td>0.717949</td>\n",
       "    </tr>\n",
       "    <tr>\n",
       "      <th>5</th>\n",
       "      <td>val_acc</td>\n",
       "      <td>54</td>\n",
       "      <td>11</td>\n",
       "      <td>9</td>\n",
       "      <td>4</td>\n",
       "      <td>0.830769</td>\n",
       "      <td>0.169231</td>\n",
       "      <td>0.692308</td>\n",
       "      <td>0.307692</td>\n",
       "      <td>0.307692</td>\n",
       "      <td>0.169231</td>\n",
       "      <td>0.454807</td>\n",
       "      <td>0.729806</td>\n",
       "      <td>0.743590</td>\n",
       "    </tr>\n",
       "    <tr>\n",
       "      <th>6</th>\n",
       "      <td>val_fmeasure_acc</td>\n",
       "      <td>51</td>\n",
       "      <td>14</td>\n",
       "      <td>7</td>\n",
       "      <td>6</td>\n",
       "      <td>0.784615</td>\n",
       "      <td>0.215385</td>\n",
       "      <td>0.538462</td>\n",
       "      <td>0.461538</td>\n",
       "      <td>0.461538</td>\n",
       "      <td>0.215385</td>\n",
       "      <td>0.691317</td>\n",
       "      <td>0.442217</td>\n",
       "      <td>0.730769</td>\n",
       "    </tr>\n",
       "    <tr>\n",
       "      <th>7</th>\n",
       "      <td>val_recall_acc</td>\n",
       "      <td>35</td>\n",
       "      <td>30</td>\n",
       "      <td>5</td>\n",
       "      <td>8</td>\n",
       "      <td>0.538462</td>\n",
       "      <td>0.461538</td>\n",
       "      <td>0.384615</td>\n",
       "      <td>0.615385</td>\n",
       "      <td>0.615385</td>\n",
       "      <td>0.461538</td>\n",
       "      <td>0.389940</td>\n",
       "      <td>-0.098411</td>\n",
       "      <td>0.551282</td>\n",
       "    </tr>\n",
       "    <tr>\n",
       "      <th>8</th>\n",
       "      <td>val_precision_acc</td>\n",
       "      <td>50</td>\n",
       "      <td>15</td>\n",
       "      <td>7</td>\n",
       "      <td>6</td>\n",
       "      <td>0.769231</td>\n",
       "      <td>0.230769</td>\n",
       "      <td>0.538462</td>\n",
       "      <td>0.461538</td>\n",
       "      <td>0.461538</td>\n",
       "      <td>0.230769</td>\n",
       "      <td>0.639757</td>\n",
       "      <td>0.416437</td>\n",
       "      <td>0.717949</td>\n",
       "    </tr>\n",
       "    <tr>\n",
       "      <th>9</th>\n",
       "      <td>val_matthews_correlation_acc</td>\n",
       "      <td>50</td>\n",
       "      <td>15</td>\n",
       "      <td>7</td>\n",
       "      <td>6</td>\n",
       "      <td>0.769231</td>\n",
       "      <td>0.230769</td>\n",
       "      <td>0.538462</td>\n",
       "      <td>0.461538</td>\n",
       "      <td>0.461538</td>\n",
       "      <td>0.230769</td>\n",
       "      <td>0.639757</td>\n",
       "      <td>0.416437</td>\n",
       "      <td>0.717949</td>\n",
       "    </tr>\n",
       "  </tbody>\n",
       "</table>\n",
       "</div>"
      ],
      "text/plain": [
       "                       Criteria  True_Negatives  False_Positives  \\\n",
       "0                           acc              50               15   \n",
       "1                  fmeasure_acc              50               15   \n",
       "2                    recall_acc              50               15   \n",
       "3                 precision_acc              50               15   \n",
       "4      matthews_correlation_acc              50               15   \n",
       "5                       val_acc              54               11   \n",
       "6              val_fmeasure_acc              51               14   \n",
       "7                val_recall_acc              35               30   \n",
       "8             val_precision_acc              50               15   \n",
       "9  val_matthews_correlation_acc              50               15   \n",
       "\n",
       "   False_Negatives  True_Positives  True_Negatives_Per  False_Positives_Per  \\\n",
       "0                7               6            0.769231             0.230769   \n",
       "1                7               6            0.769231             0.230769   \n",
       "2                7               6            0.769231             0.230769   \n",
       "3                7               6            0.769231             0.230769   \n",
       "4                7               6            0.769231             0.230769   \n",
       "5                9               4            0.830769             0.169231   \n",
       "6                7               6            0.784615             0.215385   \n",
       "7                5               8            0.538462             0.461538   \n",
       "8                7               6            0.769231             0.230769   \n",
       "9                7               6            0.769231             0.230769   \n",
       "\n",
       "   False_Negatives_Per  True_Positives_Per  Hit_Rate  False_Alarm_Rate  \\\n",
       "0             0.538462            0.461538  0.461538          0.230769   \n",
       "1             0.538462            0.461538  0.461538          0.230769   \n",
       "2             0.538462            0.461538  0.461538          0.230769   \n",
       "3             0.538462            0.461538  0.461538          0.230769   \n",
       "4             0.538462            0.461538  0.461538          0.230769   \n",
       "5             0.692308            0.307692  0.307692          0.169231   \n",
       "6             0.538462            0.461538  0.461538          0.215385   \n",
       "7             0.384615            0.615385  0.615385          0.461538   \n",
       "8             0.538462            0.461538  0.461538          0.230769   \n",
       "9             0.538462            0.461538  0.461538          0.230769   \n",
       "\n",
       "   d_sensitivity    c_bias  Test_Accuracy_Score  \n",
       "0       0.639757  0.416437             0.717949  \n",
       "1       0.639757  0.416437             0.717949  \n",
       "2       0.639757  0.416437             0.717949  \n",
       "3       0.639757  0.416437             0.717949  \n",
       "4       0.639757  0.416437             0.717949  \n",
       "5       0.454807  0.729806             0.743590  \n",
       "6       0.691317  0.442217             0.730769  \n",
       "7       0.389940 -0.098411             0.551282  \n",
       "8       0.639757  0.416437             0.717949  \n",
       "9       0.639757  0.416437             0.717949  "
      ]
     },
     "execution_count": 82,
     "metadata": {
      "tags": []
     },
     "output_type": "execute_result"
    }
   ],
   "source": [
    "# Build classification report dataframe \n",
    "data = list(zip(criteria_list, true_neg_l, false_pos_l, false_neg_l, true_pos_l,\n",
    "                true_neg_per_l, false_pos_per_l, false_neg_per_l,true_pos_per_l,\n",
    "                hit_rate_l,false_alarm_rate_l, d_sensitivity_l, c_bias_l, \n",
    "                accuracy_score_l))\n",
    "\n",
    "assert len(criteria_list) == len(data), \"criteria list and data don't match\"\n",
    "\n",
    "classification_report = pd.DataFrame(data, columns=labels, index = None )\n",
    "\n",
    "# Now we can look the report in one place\n",
    "classification_report \n",
    "# We can pick the one with the best numbers based on any criteria to deploy"
   ]
  },
  {
   "cell_type": "code",
   "execution_count": 4,
   "metadata": {
    "colab": {
     "base_uri": "https://localhost:8080/",
     "height": 388
    },
    "colab_type": "code",
    "id": "VtKVGOVB6l2K",
    "outputId": "c75c6dd7-c706-457e-c990-3b84af97faa5"
   },
   "outputs": [
    {
     "data": {
      "text/html": [
       "<div>\n",
       "<style scoped>\n",
       "    .dataframe tbody tr th:only-of-type {\n",
       "        vertical-align: middle;\n",
       "    }\n",
       "\n",
       "    .dataframe tbody tr th {\n",
       "        vertical-align: top;\n",
       "    }\n",
       "\n",
       "    .dataframe thead th {\n",
       "        text-align: right;\n",
       "    }\n",
       "</style>\n",
       "<table border=\"1\" class=\"dataframe\">\n",
       "  <thead>\n",
       "    <tr style=\"text-align: right;\">\n",
       "      <th></th>\n",
       "      <th>Unnamed: 0</th>\n",
       "      <th>Criteria</th>\n",
       "      <th>True_Negatives</th>\n",
       "      <th>False_Positives</th>\n",
       "      <th>False_Negatives</th>\n",
       "      <th>True_Positives</th>\n",
       "      <th>True_Negatives_Per</th>\n",
       "      <th>False_Positives_Per</th>\n",
       "      <th>False_Negatives_Per</th>\n",
       "      <th>True_Positives_Per</th>\n",
       "      <th>Hit_Rate</th>\n",
       "      <th>False_Alarm_Rate</th>\n",
       "      <th>d_sensitivity</th>\n",
       "      <th>c_bias</th>\n",
       "      <th>Test_Accuracy_Score</th>\n",
       "    </tr>\n",
       "  </thead>\n",
       "  <tbody>\n",
       "    <tr>\n",
       "      <th>0</th>\n",
       "      <td>0</td>\n",
       "      <td>acc</td>\n",
       "      <td>50</td>\n",
       "      <td>15</td>\n",
       "      <td>7</td>\n",
       "      <td>6</td>\n",
       "      <td>0.769231</td>\n",
       "      <td>0.230769</td>\n",
       "      <td>0.538462</td>\n",
       "      <td>0.461538</td>\n",
       "      <td>0.461538</td>\n",
       "      <td>0.230769</td>\n",
       "      <td>0.639757</td>\n",
       "      <td>0.416437</td>\n",
       "      <td>0.717949</td>\n",
       "    </tr>\n",
       "    <tr>\n",
       "      <th>1</th>\n",
       "      <td>1</td>\n",
       "      <td>fmeasure_acc</td>\n",
       "      <td>50</td>\n",
       "      <td>15</td>\n",
       "      <td>7</td>\n",
       "      <td>6</td>\n",
       "      <td>0.769231</td>\n",
       "      <td>0.230769</td>\n",
       "      <td>0.538462</td>\n",
       "      <td>0.461538</td>\n",
       "      <td>0.461538</td>\n",
       "      <td>0.230769</td>\n",
       "      <td>0.639757</td>\n",
       "      <td>0.416437</td>\n",
       "      <td>0.717949</td>\n",
       "    </tr>\n",
       "    <tr>\n",
       "      <th>2</th>\n",
       "      <td>2</td>\n",
       "      <td>recall_acc</td>\n",
       "      <td>50</td>\n",
       "      <td>15</td>\n",
       "      <td>7</td>\n",
       "      <td>6</td>\n",
       "      <td>0.769231</td>\n",
       "      <td>0.230769</td>\n",
       "      <td>0.538462</td>\n",
       "      <td>0.461538</td>\n",
       "      <td>0.461538</td>\n",
       "      <td>0.230769</td>\n",
       "      <td>0.639757</td>\n",
       "      <td>0.416437</td>\n",
       "      <td>0.717949</td>\n",
       "    </tr>\n",
       "    <tr>\n",
       "      <th>3</th>\n",
       "      <td>3</td>\n",
       "      <td>precision_acc</td>\n",
       "      <td>50</td>\n",
       "      <td>15</td>\n",
       "      <td>7</td>\n",
       "      <td>6</td>\n",
       "      <td>0.769231</td>\n",
       "      <td>0.230769</td>\n",
       "      <td>0.538462</td>\n",
       "      <td>0.461538</td>\n",
       "      <td>0.461538</td>\n",
       "      <td>0.230769</td>\n",
       "      <td>0.639757</td>\n",
       "      <td>0.416437</td>\n",
       "      <td>0.717949</td>\n",
       "    </tr>\n",
       "    <tr>\n",
       "      <th>4</th>\n",
       "      <td>4</td>\n",
       "      <td>matthews_correlation_acc</td>\n",
       "      <td>50</td>\n",
       "      <td>15</td>\n",
       "      <td>7</td>\n",
       "      <td>6</td>\n",
       "      <td>0.769231</td>\n",
       "      <td>0.230769</td>\n",
       "      <td>0.538462</td>\n",
       "      <td>0.461538</td>\n",
       "      <td>0.461538</td>\n",
       "      <td>0.230769</td>\n",
       "      <td>0.639757</td>\n",
       "      <td>0.416437</td>\n",
       "      <td>0.717949</td>\n",
       "    </tr>\n",
       "    <tr>\n",
       "      <th>5</th>\n",
       "      <td>5</td>\n",
       "      <td>val_acc</td>\n",
       "      <td>54</td>\n",
       "      <td>11</td>\n",
       "      <td>9</td>\n",
       "      <td>4</td>\n",
       "      <td>0.830769</td>\n",
       "      <td>0.169231</td>\n",
       "      <td>0.692308</td>\n",
       "      <td>0.307692</td>\n",
       "      <td>0.307692</td>\n",
       "      <td>0.169231</td>\n",
       "      <td>0.454807</td>\n",
       "      <td>0.729806</td>\n",
       "      <td>0.743590</td>\n",
       "    </tr>\n",
       "    <tr>\n",
       "      <th>6</th>\n",
       "      <td>6</td>\n",
       "      <td>val_fmeasure_acc</td>\n",
       "      <td>51</td>\n",
       "      <td>14</td>\n",
       "      <td>7</td>\n",
       "      <td>6</td>\n",
       "      <td>0.784615</td>\n",
       "      <td>0.215385</td>\n",
       "      <td>0.538462</td>\n",
       "      <td>0.461538</td>\n",
       "      <td>0.461538</td>\n",
       "      <td>0.215385</td>\n",
       "      <td>0.691317</td>\n",
       "      <td>0.442217</td>\n",
       "      <td>0.730769</td>\n",
       "    </tr>\n",
       "    <tr>\n",
       "      <th>7</th>\n",
       "      <td>7</td>\n",
       "      <td>val_recall_acc</td>\n",
       "      <td>35</td>\n",
       "      <td>30</td>\n",
       "      <td>5</td>\n",
       "      <td>8</td>\n",
       "      <td>0.538462</td>\n",
       "      <td>0.461538</td>\n",
       "      <td>0.384615</td>\n",
       "      <td>0.615385</td>\n",
       "      <td>0.615385</td>\n",
       "      <td>0.461538</td>\n",
       "      <td>0.389940</td>\n",
       "      <td>-0.098411</td>\n",
       "      <td>0.551282</td>\n",
       "    </tr>\n",
       "    <tr>\n",
       "      <th>8</th>\n",
       "      <td>8</td>\n",
       "      <td>val_precision_acc</td>\n",
       "      <td>50</td>\n",
       "      <td>15</td>\n",
       "      <td>7</td>\n",
       "      <td>6</td>\n",
       "      <td>0.769231</td>\n",
       "      <td>0.230769</td>\n",
       "      <td>0.538462</td>\n",
       "      <td>0.461538</td>\n",
       "      <td>0.461538</td>\n",
       "      <td>0.230769</td>\n",
       "      <td>0.639757</td>\n",
       "      <td>0.416437</td>\n",
       "      <td>0.717949</td>\n",
       "    </tr>\n",
       "    <tr>\n",
       "      <th>9</th>\n",
       "      <td>9</td>\n",
       "      <td>val_matthews_correlation_acc</td>\n",
       "      <td>50</td>\n",
       "      <td>15</td>\n",
       "      <td>7</td>\n",
       "      <td>6</td>\n",
       "      <td>0.769231</td>\n",
       "      <td>0.230769</td>\n",
       "      <td>0.538462</td>\n",
       "      <td>0.461538</td>\n",
       "      <td>0.461538</td>\n",
       "      <td>0.230769</td>\n",
       "      <td>0.639757</td>\n",
       "      <td>0.416437</td>\n",
       "      <td>0.717949</td>\n",
       "    </tr>\n",
       "  </tbody>\n",
       "</table>\n",
       "</div>"
      ],
      "text/plain": [
       "   Unnamed: 0                      Criteria  True_Negatives  False_Positives  \\\n",
       "0           0                           acc              50               15   \n",
       "1           1                  fmeasure_acc              50               15   \n",
       "2           2                    recall_acc              50               15   \n",
       "3           3                 precision_acc              50               15   \n",
       "4           4      matthews_correlation_acc              50               15   \n",
       "5           5                       val_acc              54               11   \n",
       "6           6              val_fmeasure_acc              51               14   \n",
       "7           7                val_recall_acc              35               30   \n",
       "8           8             val_precision_acc              50               15   \n",
       "9           9  val_matthews_correlation_acc              50               15   \n",
       "\n",
       "   False_Negatives  True_Positives  True_Negatives_Per  False_Positives_Per  \\\n",
       "0                7               6            0.769231             0.230769   \n",
       "1                7               6            0.769231             0.230769   \n",
       "2                7               6            0.769231             0.230769   \n",
       "3                7               6            0.769231             0.230769   \n",
       "4                7               6            0.769231             0.230769   \n",
       "5                9               4            0.830769             0.169231   \n",
       "6                7               6            0.784615             0.215385   \n",
       "7                5               8            0.538462             0.461538   \n",
       "8                7               6            0.769231             0.230769   \n",
       "9                7               6            0.769231             0.230769   \n",
       "\n",
       "   False_Negatives_Per  True_Positives_Per  Hit_Rate  False_Alarm_Rate  \\\n",
       "0             0.538462            0.461538  0.461538          0.230769   \n",
       "1             0.538462            0.461538  0.461538          0.230769   \n",
       "2             0.538462            0.461538  0.461538          0.230769   \n",
       "3             0.538462            0.461538  0.461538          0.230769   \n",
       "4             0.538462            0.461538  0.461538          0.230769   \n",
       "5             0.692308            0.307692  0.307692          0.169231   \n",
       "6             0.538462            0.461538  0.461538          0.215385   \n",
       "7             0.384615            0.615385  0.615385          0.461538   \n",
       "8             0.538462            0.461538  0.461538          0.230769   \n",
       "9             0.538462            0.461538  0.461538          0.230769   \n",
       "\n",
       "   d_sensitivity    c_bias  Test_Accuracy_Score  \n",
       "0       0.639757  0.416437             0.717949  \n",
       "1       0.639757  0.416437             0.717949  \n",
       "2       0.639757  0.416437             0.717949  \n",
       "3       0.639757  0.416437             0.717949  \n",
       "4       0.639757  0.416437             0.717949  \n",
       "5       0.454807  0.729806             0.743590  \n",
       "6       0.691317  0.442217             0.730769  \n",
       "7       0.389940 -0.098411             0.551282  \n",
       "8       0.639757  0.416437             0.717949  \n",
       "9       0.639757  0.416437             0.717949  "
      ]
     },
     "execution_count": 4,
     "metadata": {
      "tags": []
     },
     "output_type": "execute_result"
    }
   ],
   "source": [
    "# To read from csv classification_report = pd.read_csv('classification_report_dap_1.csv') \n",
    "import pandas as pd\n",
    "import seaborn as sns\n",
    "import matplotlib.pyplot as plt\n",
    "%matplotlib inline\n",
    "\n",
    "classification_report = pd.read_csv('classification_report_dap_1.csv') \n",
    "classification_report"
   ]
  },
  {
   "cell_type": "code",
   "execution_count": 5,
   "metadata": {
    "colab": {
     "base_uri": "https://localhost:8080/",
     "height": 745
    },
    "colab_type": "code",
    "id": "0nOBnwC4QxuK",
    "outputId": "16844bf6-7482-4acf-945b-23fa2a625fd5"
   },
   "outputs": [
    {
     "data": {
      "image/png": "[encoded data removed]",
      "text/plain": [
       "<Figure size 1080x720 with 4 Axes>"
      ]
     },
     "metadata": {
      "tags": []
     },
     "output_type": "display_data"
    }
   ],
   "source": [
    "import seaborn as sns\n",
    "sns.set(style=\"whitegrid\")\n",
    "\n",
    "f, axes = plt.subplots(2, 2, figsize=(15, 10), sharex=True)\n",
    "sns.despine(left=True)\n",
    "\n",
    "sns.barplot(x=\"True_Negatives\", y= \"Criteria\", data=classification_report, ax=axes[0, 0])\n",
    "sns.barplot(x=\"False_Positives\", y= \"Criteria\", data=classification_report, ax=axes[0, 1])\n",
    "sns.barplot(x=\"False_Negatives\", y= \"Criteria\", data=classification_report, ax=axes[1, 0])\n",
    "sns.barplot(x=\"True_Positives\", y= \"Criteria\", data=classification_report, ax=axes[1, 1])\n",
    "\n",
    "\n",
    "plt.tight_layout()\n",
    "plt.savefig('confusion_matrix_exp1.pdf')"
   ]
  },
  {
   "cell_type": "code",
   "execution_count": 6,
   "metadata": {
    "colab": {
     "base_uri": "https://localhost:8080/",
     "height": 745
    },
    "colab_type": "code",
    "id": "SWw-yF6UZG2w",
    "outputId": "cc70a827-678d-498a-b1f4-b5cce68e9c59"
   },
   "outputs": [
    {
     "data": {
      "image/png": "[encoded data removed]",
      "text/plain": [
       "<Figure size 1080x720 with 4 Axes>"
      ]
     },
     "metadata": {
      "tags": []
     },
     "output_type": "display_data"
    }
   ],
   "source": [
    "sns.set(style=\"whitegrid\")\n",
    "\n",
    "f, axes = plt.subplots(2, 2, figsize=(15, 10), sharex=True)\n",
    "sns.despine(left=True)\n",
    "\n",
    "sns.barplot(x=\"Hit_Rate\", y= \"Criteria\", data=classification_report, ax=axes[0, 0])\n",
    "sns.barplot(x=\"False_Alarm_Rate\", y= \"Criteria\", data=classification_report, ax=axes[0, 1])\n",
    "sns.barplot(x=\"d_sensitivity\", y= \"Criteria\", data=classification_report, ax=axes[1, 0])\n",
    "sns.barplot(x=\"c_bias\", y= \"Criteria\", data=classification_report, ax=axes[1, 1])\n",
    "\n",
    "plt.tight_layout()\n",
    "plt.savefig('signal_detection_report_exp1.pdf')"
   ]
  },
  {
   "cell_type": "code",
   "execution_count": 7,
   "metadata": {
    "colab": {
     "base_uri": "https://localhost:8080/",
     "height": 293
    },
    "colab_type": "code",
    "id": "JAwTjVRJbltB",
    "outputId": "18a30d9a-6b58-453b-83cc-d69848176d45"
   },
   "outputs": [
    {
     "data": {
      "image/png": "[encoded data removed]",
      "text/plain": [
       "<Figure size 432x288 with 1 Axes>"
      ]
     },
     "metadata": {
      "tags": []
     },
     "output_type": "display_data"
    }
   ],
   "source": [
    "sns.set(style=\"whitegrid\")\n",
    "\n",
    "#f, axes = plt.subplots(ncols=2, figsize=(15, 10), sharex=True)\n",
    "sns.despine(left=True)\n",
    "\n",
    "sns.barplot(x=\"Test_Accuracy_Score\", y= \"Criteria\", data=classification_report)\n",
    "\n",
    "plt.tight_layout()\n",
    "plt.savefig('test_accuracy_exp1.pdf')"
   ]
  },
  {
   "cell_type": "code",
   "execution_count": null,
   "metadata": {
    "colab": {},
    "colab_type": "code",
    "id": "0y7iN0L_N4kf"
   },
   "outputs": [],
   "source": [
    "# save the model on a csv file\n",
    "exp_n = '1'\n",
    "file_name = 'classification_report_dap_' + exp_n + '.csv'\n",
    "classification_report.to_csv(file_name, sep=',')"
   ]
  },
  {
   "cell_type": "markdown",
   "metadata": {
    "colab_type": "text",
    "id": "uK3pAgvn6eMU"
   },
   "source": [
    "## Selecting best model on test set"
   ]
  },
  {
   "cell_type": "code",
   "execution_count": null,
   "metadata": {
    "colab": {
     "base_uri": "https://localhost:8080/",
     "height": 54
    },
    "colab_type": "code",
    "id": "1H7N3EmE6c__",
    "outputId": "f8737c26-3b85-407d-e0c3-0caec5761acf"
   },
   "outputs": [
    {
     "data": {
      "text/plain": [
       "'{\"class_name\": \"Sequential\", \"config\": {\"name\": \"sequential_1\", \"layers\": [{\"class_name\": \"Dense\", \"config\": {\"name\": \"dense_1\", \"trainable\": true, \"batch_input_shape\": [null, 25088], \"dtype\": \"float32\", \"units\": 16, \"activation\": \"sigmoid\", \"use_bias\": true, \"kernel_initializer\": {\"class_name\": \"RandomNormal\", \"config\": {\"mean\": 0.0, \"stddev\": 0.05, \"seed\": null}}, \"bias_initializer\": {\"class_name\": \"Zeros\", \"config\": {}}, \"kernel_regularizer\": null, \"bias_regularizer\": null, \"activity_regularizer\": null, \"kernel_constraint\": null, \"bias_constraint\": null}}, {\"class_name\": \"Dropout\", \"config\": {\"name\": \"dropout_1\", \"trainable\": true, \"rate\": 0.1, \"noise_shape\": null, \"seed\": null}}, {\"class_name\": \"Dense\", \"config\": {\"name\": \"dense_2\", \"trainable\": true, \"units\": 1, \"activation\": \"sigmoid\", \"use_bias\": true, \"kernel_initializer\": {\"class_name\": \"RandomNormal\", \"config\": {\"mean\": 0.0, \"stddev\": 0.05, \"seed\": null}}, \"bias_initializer\": {\"class_name\": \"Zeros\", \"config\": {}}, \"kernel_regularizer\": null, \"bias_regularizer\": null, \"activity_regularizer\": null, \"kernel_constraint\": null, \"bias_constraint\": null}}]}, \"keras_version\": \"2.2.4\", \"backend\": \"tensorflow\"}'"
      ]
     },
     "execution_count": 109,
     "metadata": {
      "tags": []
     },
     "output_type": "execute_result"
    }
   ],
   "source": [
    "# Based on the analysis of the performance metrics, on exp1, val_fmeasure_acc\n",
    "# is the model that best balance all requirements (test accuracy, hit rate, false alarm rate, bias, sensitivity)\n",
    "best_round =r.rounds2high('val_fmeasure_acc') # round 63 for exp1\n",
    "\n",
    "h.saved_models[best_round] # print parameters best model "
   ]
  },
  {
   "cell_type": "markdown",
   "metadata": {
    "colab_type": "text",
    "id": "1z_nW90U1YDT"
   },
   "source": [
    "## Deploying models\n",
    "\n",
    "Once the right model or models have been found, you can create a deployment package with Deploy() which is then easy to transfer to a production or other environment, send via email, or upload to shared remote location. Best model is automatically chosen based on a given metric ('val_acc' by default).\n",
    "\n",
    "The Deploy package is a zip file that consist of:\n",
    "\n",
    "- details of the scan\n",
    "- model weights\n",
    "- model json\n",
    "- results of the experiment\n",
    "- sample of x data\n",
    "- sample of y data\n",
    "\n",
    "**See source code at** https://github.com/autonomio/talos/blob/daily-dev/talos/commands/deploy.py"
   ]
  },
  {
   "cell_type": "code",
   "execution_count": null,
   "metadata": {
    "colab": {
     "base_uri": "https://localhost:8080/",
     "height": 52
    },
    "colab_type": "code",
    "id": "x5k0Ow3s1veN",
    "outputId": "6247aa88-a19b-4feb-d152-f6071ec65978"
   },
   "outputs": [
    {
     "name": "stdout",
     "output_type": "stream",
     "text": [
      "Deploy package b have been saved.\n"
     ]
    },
    {
     "data": {
      "text/plain": [
       "<talos.commands.deploy.Deploy at 0x7f4e4e8df6d8>"
      ]
     },
     "execution_count": 103,
     "metadata": {
      "tags": []
     },
     "output_type": "execute_result"
    }
   ],
   "source": [
    "# By default selects the model with best validation accuracy\n",
    "# Other metrics can be specified\n",
    "# name code: \"[dataset]-[experiment-number]-[rounds/models]-[seleccion-criteria]-[%-searched]\"\n",
    "# Based on the evaluated metrics, I'll pick validation f-measure accuracy as criteria (val_fmeasure_acc)\n",
    "\n",
    "exp_n = '1_'\n",
    "metric = 'val_fmeasure_acc_'\n",
    "rounds = str(r.rounds())\n",
    "proportion = '_15_percet_sample'\n",
    "filename = 'dap_' + 'exp' + exp_n + metric + 'rounds' + rounds + proportion\n",
    "ta.Deploy(h, filename, metric='val_fmeasure_acc')"
   ]
  },
  {
   "cell_type": "markdown",
   "metadata": {
    "colab_type": "text",
    "id": "A7N2o6du2ZiY"
   },
   "source": [
    "## Restoring models\n",
    "Restores the scan_object that had been stored locally as a result of talos.Deploy\n",
    "\n",
    "**See source code at** https://github.com/autonomio/talos/blob/daily-dev/talos/commands/restore.py "
   ]
  },
  {
   "cell_type": "code",
   "execution_count": null,
   "metadata": {
    "colab": {},
    "colab_type": "code",
    "id": "fcDSSDSx5IhO"
   },
   "outputs": [],
   "source": [
    "# BEFORE RESTORING\n",
    "# This is temporary. Numpy version 1.16.2. has allow_pickle as FALSE which creates a problem\n",
    "!pip install numpy==1.16.1\n",
    "import numpy as np"
   ]
  },
  {
   "cell_type": "code",
   "execution_count": null,
   "metadata": {
    "colab": {},
    "colab_type": "code",
    "id": "3xwaox5A2bk1"
   },
   "outputs": [],
   "source": [
    "# Restore model from local environment\n",
    "model_name = # 'NAME_ZIP_FILE.zip'\n",
    "drawings = ta.Restore(model_name)"
   ]
  },
  {
   "cell_type": "code",
   "execution_count": null,
   "metadata": {
    "colab": {},
    "colab_type": "code",
    "id": "UPinzBzp24wO"
   },
   "outputs": [],
   "source": [
    "# make predictions with the model\n",
    "drawings.model.predict(x_test)[0:9,] # print first 10"
   ]
  },
  {
   "cell_type": "code",
   "execution_count": null,
   "metadata": {
    "colab": {},
    "colab_type": "code",
    "id": "VDOp6Hj73Fq4"
   },
   "outputs": [],
   "source": [
    "# get the meta-data for the experiment/optimization\n",
    "print(drawings.details)"
   ]
  },
  {
   "cell_type": "code",
   "execution_count": null,
   "metadata": {
    "colab": {},
    "colab_type": "code",
    "id": "21pi4AT43nMx"
   },
   "outputs": [],
   "source": [
    "# get the hyperparameter space boundary for the experiment/optimization\n",
    "print(drawings.params)"
   ]
  },
  {
   "cell_type": "code",
   "execution_count": null,
   "metadata": {
    "colab": {},
    "colab_type": "code",
    "id": "tu38HGIU3rJ4"
   },
   "outputs": [],
   "source": [
    "# sample of x and y data, returns pandas dataframe\n",
    "print(drawings.x.iloc[0:3, 0:3]) # print first 3 rows and columns\n",
    "print(drawings.y.iloc[0:3]) # print first 3 rows "
   ]
  },
  {
   "cell_type": "code",
   "execution_count": null,
   "metadata": {
    "colab": {},
    "colab_type": "code",
    "id": "Aa2lLx9d3s8Z"
   },
   "outputs": [],
   "source": [
    "# the results dataframe\n",
    "drawings.results[0:3] # print first 3 rows"
   ]
  },
  {
   "cell_type": "markdown",
   "metadata": {
    "colab_type": "text",
    "id": "SXdtsIOHBZWj"
   },
   "source": [
    "# Resources\n",
    "- **Talos repo**: https://github.com/autonomio/talos\n",
    "- **Talos example**:  https://nbviewer.jupyter.org/github/autonomio/talos/blob/master/examples/Hyperparameter%20Optimization%20on%20Keras%20with%20Breast%20Cancer%20Data.ipynb"
   ]
  }
 ],
 "metadata": {
  "accelerator": "GPU",
  "colab": {
   "include_colab_link": true,
   "name": "model_training_hyperparameter_optimization.ipynb",
   "provenance": [],
   "version": "0.3.2"
  },
  "kernelspec": {
   "display_name": "Python 3",
   "language": "python",
   "name": "python3"
  },
  "language_info": {
   "codemirror_mode": {
    "name": "ipython",
    "version": 3
   },
   "file_extension": ".py",
   "mimetype": "text/x-python",
   "name": "python",
   "nbconvert_exporter": "python",
   "pygments_lexer": "ipython3",
   "version": "3.6.8"
  }
 },
 "nbformat": 4,
 "nbformat_minor": 2
}
