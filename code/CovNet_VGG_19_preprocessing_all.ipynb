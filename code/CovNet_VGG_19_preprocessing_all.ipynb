{
 "cells": [
  {
   "cell_type": "markdown",
   "metadata": {
    "colab_type": "text",
    "id": "view-in-github"
   },
   "source": [
    "<a href=\"https://colab.research.google.com/github/pabloinsente/CovNet_Human_Drawings/blob/master/code/CovNet_VGG_19_preprocessing_all.ipynb\" target=\"_parent\"><img src=\"https://colab.research.google.com/assets/colab-badge.svg\" alt=\"Open In Colab\"/></a>"
   ]
  },
  {
   "cell_type": "markdown",
   "metadata": {
    "colab_type": "text",
    "id": "UPEF0uZFBq7f"
   },
   "source": [
    "# Preprocessing for age classification from features extracted from drawings with VGG-19 CovNet"
   ]
  },
  {
   "cell_type": "code",
   "execution_count": null,
   "metadata": {
    "colab": {},
    "colab_type": "code",
    "id": "mEh6ibgkrxpu"
   },
   "outputs": [],
   "source": [
    "# install seaborn for pairplot\n",
    "!pip install -q seaborn\n",
    "# install rarfile to read feature file\n",
    "!pip install rarfile\n",
    "# update pandas\n",
    "!pip install --upgrade pandas"
   ]
  },
  {
   "cell_type": "code",
   "execution_count": 27,
   "metadata": {
    "colab": {
     "base_uri": "https://localhost:8080/",
     "height": 35
    },
    "colab_type": "code",
    "id": "v44IMLpHsijn",
    "outputId": "aea8ff33-e1a6-4b24-8166-1e8acd4dbf60"
   },
   "outputs": [
    {
     "name": "stdout",
     "output_type": "stream",
     "text": [
      "1.13.1\n"
     ]
    }
   ],
   "source": [
    "import pathlib\n",
    "\n",
    "import pandas as pd\n",
    "import rarfile\n",
    "import csv\n",
    "\n",
    "from sklearn.preprocessing import StandardScaler\n",
    "from sklearn.preprocessing import Normalizer"
   ]
  },
  {
   "cell_type": "code",
   "execution_count": null,
   "metadata": {
    "colab": {},
    "colab_type": "code",
    "id": "4l3p9sEOstD8"
   },
   "outputs": [],
   "source": [
    "# Clone the data into Colab\n",
    "! git clone https://github.com/pabloinsente/CovNet_Human_Drawings\n",
    "# Run this just once per sesion"
   ]
  },
  {
   "cell_type": "markdown",
   "metadata": {
    "colab_type": "text",
    "id": "gwEDpQSM1y5l"
   },
   "source": [
    "# Data Wrangling"
   ]
  },
  {
   "cell_type": "markdown",
   "metadata": {
    "colab_type": "text",
    "id": "-fVfnHW3Bf-l"
   },
   "source": [
    "## Reading dataframe from CovNet for Neural Net"
   ]
  },
  {
   "cell_type": "code",
   "execution_count": 28,
   "metadata": {
    "colab": {
     "base_uri": "https://localhost:8080/",
     "height": 52
    },
    "colab_type": "code",
    "id": "km82JkFos1NH",
    "outputId": "d51560a6-240d-4ee5-c04a-41abcb50a90d"
   },
   "outputs": [
    {
     "name": "stdout",
     "output_type": "stream",
     "text": [
      "(258, 25088)\n",
      "<class 'pandas.core.frame.DataFrame'>\n"
     ]
    }
   ],
   "source": [
    "# Read csv files from compressed rar file and convert into a dataframe\n",
    "rar_path = rarfile.RarFile(\"CovNet_Human_Drawings/data/vectors_features/vgg19_vectors_drawings_block5_pool_all.rar\")\n",
    "csv_file_name = \"vgg19_vectors_drawings_block5_pool_all.csv\"\n",
    "rar_file = rarfile.RarFile.open(rar_path, csv_file_name)\n",
    "raw_dataset = pd.read_csv(rar_file, sep=\",\", header=None)\n",
    "print(raw_dataset.shape)\n",
    "print(type(raw_dataset))"
   ]
  },
  {
   "cell_type": "code",
   "execution_count": 29,
   "metadata": {
    "colab": {
     "base_uri": "https://localhost:8080/",
     "height": 52
    },
    "colab_type": "code",
    "id": "eOZuhSLCv075",
    "outputId": "2cb72a00-92df-496b-de2e-cae21602645e"
   },
   "outputs": [
    {
     "name": "stdout",
     "output_type": "stream",
     "text": [
      "['vector_0', 'vector_1', 'vector_2', 'vector_3', 'vector_4']\n",
      "25088\n"
     ]
    }
   ],
   "source": [
    "# create headers for vectors\n",
    "n_vectors = raw_dataset.shape[1]\n",
    "col_list =[]\n",
    "[col_list.append(\"vector_{}\".format(vector)) for vector in range(n_vectors)]\n",
    "print(col_list[0:5])\n",
    "print(len(col_list))"
   ]
  },
  {
   "cell_type": "code",
   "execution_count": 30,
   "metadata": {
    "colab": {
     "base_uri": "https://localhost:8080/",
     "height": 208
    },
    "colab_type": "code",
    "id": "tMSGem9N4Wet",
    "outputId": "9ee2d5cc-5dd3-4914-99de-8379ee9b32c9"
   },
   "outputs": [
    {
     "name": "stdout",
     "output_type": "stream",
     "text": [
      "   vector_0  vector_1  vector_2  vector_3  vector_4  vector_5\n",
      "0       0.0       0.0       0.0       0.0  0.000000       0.0\n",
      "1       0.0       0.0       0.0       0.0  0.000000       0.0\n",
      "2       0.0       0.0       0.0       0.0  0.000000       0.0\n",
      "3       0.0       0.0       0.0       0.0  0.000000       0.0\n",
      "4       0.0       0.0       0.0       0.0  0.000000       0.0\n",
      "5       0.0       0.0       0.0       0.0  0.979608       0.0\n",
      "6       0.0       0.0       0.0       0.0  0.000000       0.0\n",
      "7       0.0       0.0       0.0       0.0  0.000000       0.0\n",
      "8       0.0       0.0       0.0       0.0  0.000000       0.0\n",
      "9       0.0       0.0       0.0       0.0  0.000000       0.0\n"
     ]
    }
   ],
   "source": [
    "# add headers to vectors in raw dataframe\n",
    "raw_dataset.columns = col_list\n",
    "print(raw_dataset.iloc[0:10, 0:6])"
   ]
  },
  {
   "cell_type": "code",
   "execution_count": 31,
   "metadata": {
    "colab": {
     "base_uri": "https://localhost:8080/",
     "height": 35
    },
    "colab_type": "code",
    "id": "pU1r4ng-zXOG",
    "outputId": "00aa3224-92a0-46ed-b560-60049c7c0dd0"
   },
   "outputs": [
    {
     "data": {
      "text/plain": [
       "258"
      ]
     },
     "execution_count": 31,
     "metadata": {
      "tags": []
     },
     "output_type": "execute_result"
    }
   ],
   "source": [
    "# Get the drwawings filenames from directory \n",
    "from os import listdir\n",
    "from os.path import isfile, join\n",
    "\n",
    "path = 'CovNet_Human_Drawings/data/human_drawings_all/'\n",
    "filenames = [f for f in listdir(path) if isfile(join(path, f))]\n",
    "len(filenames) # This should yield 258 "
   ]
  },
  {
   "cell_type": "code",
   "execution_count": 32,
   "metadata": {
    "colab": {
     "base_uri": "https://localhost:8080/",
     "height": 52
    },
    "colab_type": "code",
    "id": "gUXHZ-fq7hHp",
    "outputId": "5ac61389-1df3-43c6-d0a8-62ebe3c3a8a6"
   },
   "outputs": [
    {
     "name": "stdout",
     "output_type": "stream",
     "text": [
      "['DAM031', 'DAM037', 'DAM003', 'DAM020', 'DAM071']\n",
      "258\n"
     ]
    }
   ],
   "source": [
    "# Split the strings by the underscore and return the first element (row id for merging)\n",
    "filenames_crop = []\n",
    "n_id = len(filenames)\n",
    "[filenames_crop.append(filenames[id].split('_')[0]) for id in range(n_id)]\n",
    "print(filenames_crop[0:5])\n",
    "print(len(filenames_crop)) # this should yield 258"
   ]
  },
  {
   "cell_type": "code",
   "execution_count": 33,
   "metadata": {
    "colab": {
     "base_uri": "https://localhost:8080/",
     "height": 52
    },
    "colab_type": "code",
    "id": "jdLUGu8q9h2o",
    "outputId": "5f3a1fcb-b70b-415c-8786-d7dff56d1c3c"
   },
   "outputs": [
    {
     "name": "stdout",
     "output_type": "stream",
     "text": [
      "['DAM031', 'DAM037', 'DAM003', 'DAM020', 'DAM071']\n",
      "258\n"
     ]
    }
   ],
   "source": [
    "# There is \"a\" in the filenames. To merge this dataframe with the metadata, \n",
    "# we need to change that to uppercasem e.g. DAMa025 needs to change to DAMA025\n",
    "filenames_up = [x.upper() for x in filenames_crop]\n",
    "print(filenames_up[0:5])\n",
    "print(len(filenames_up)) # this should yield 258"
   ]
  },
  {
   "cell_type": "code",
   "execution_count": 34,
   "metadata": {
    "colab": {
     "base_uri": "https://localhost:8080/",
     "height": 156
    },
    "colab_type": "code",
    "id": "qYsBYf0YzooU",
    "outputId": "f6947b27-cde7-4a4a-d9ee-3e52776f3215"
   },
   "outputs": [
    {
     "name": "stdout",
     "output_type": "stream",
     "text": [
      "258\n",
      "<class 'pandas.core.frame.DataFrame'>\n",
      "       id\n",
      "0  DAM031\n",
      "1  DAM037\n",
      "2  DAM003\n",
      "3  DAM020\n",
      "4  DAM071\n"
     ]
    }
   ],
   "source": [
    "# Get rows ids as dataframe\n",
    "id_list = pd.DataFrame(filenames_up, columns=['id'])\n",
    "print(len(id_list)) # This should yield 258 \n",
    "print(type(id_list))\n",
    "print(id_list.head())"
   ]
  },
  {
   "cell_type": "code",
   "execution_count": 35,
   "metadata": {
    "colab": {
     "base_uri": "https://localhost:8080/",
     "height": 225
    },
    "colab_type": "code",
    "id": "2YbLtGskyvS6",
    "outputId": "5ceffcbb-c7e7-4ca2-9e5d-52c666c1ff8f"
   },
   "outputs": [
    {
     "name": "stdout",
     "output_type": "stream",
     "text": [
      "(258, 25089)\n",
      "       id  vector_0  vector_1  vector_2  vector_3  vector_4\n",
      "0  DAM031       0.0       0.0       0.0       0.0  0.000000\n",
      "1  DAM037       0.0       0.0       0.0       0.0  0.000000\n",
      "2  DAM003       0.0       0.0       0.0       0.0  0.000000\n",
      "3  DAM020       0.0       0.0       0.0       0.0  0.000000\n",
      "4  DAM071       0.0       0.0       0.0       0.0  0.000000\n",
      "5  DAM076       0.0       0.0       0.0       0.0  0.979608\n",
      "6  DAM016       0.0       0.0       0.0       0.0  0.000000\n",
      "7  DAM028       0.0       0.0       0.0       0.0  0.000000\n",
      "8  DAM077       0.0       0.0       0.0       0.0  0.000000\n",
      "9  DAM071       0.0       0.0       0.0       0.0  0.000000\n"
     ]
    }
   ],
   "source": [
    "# merge vector's id and raw vectors\n",
    "df_vectors = pd.concat([id_list, raw_dataset], axis=1)\n",
    "print(df_vectors.shape) # this should yield (258, 25089)\n",
    "print(df_vectors.iloc[0:10, 0:6])\n"
   ]
  },
  {
   "cell_type": "code",
   "execution_count": 36,
   "metadata": {
    "colab": {
     "base_uri": "https://localhost:8080/",
     "height": 225
    },
    "colab_type": "code",
    "id": "1QG__dpY5oje",
    "outputId": "5cb12934-02c7-4d15-f27d-58e49e5df73f"
   },
   "outputs": [
    {
     "name": "stdout",
     "output_type": "stream",
     "text": [
      "(107, 397)\n",
      "        id  drop IS_medium_order IS_shape_order    IS_site  age_yr\n",
      "0   DAM001     0             SPF            ABC        PSL    5.70\n",
      "1   DAM002     0             FSP            ACB        PSL    5.42\n",
      "2   DAM003     0             FSP            BAC        PSL    4.53\n",
      "3   DAM004     0             SPF            BCA        PSL    5.37\n",
      "4   DAM005     0             PFS            CBA        PSL    4.19\n",
      "5   DAM006     0             FSP            CAB        PSL    4.30\n",
      "6   DAM007     0             SPF            CAB        PSL    4.20\n",
      "7   DAM008     0             PFS            BCA        PSL    4.40\n",
      "8   DAM009     0             FSP            CBA        PSL    4.02\n",
      "9  DAM00T1     1             NaN            NaN  LehmanLab    7.90\n"
     ]
    }
   ],
   "source": [
    "# read metadata as pandas dataframe\n",
    "meta_path= \"CovNet_Human_Drawings/data/metadata_participants/Study 1 DAM masterdata053117.csv\"\n",
    "df_metadata = pd.read_csv(meta_path, sep=\",\")\n",
    "print(df_metadata.shape)\n",
    "print(df_metadata.iloc[0:10, 0:6])\n"
   ]
  },
  {
   "cell_type": "code",
   "execution_count": 37,
   "metadata": {
    "colab": {
     "base_uri": "https://localhost:8080/",
     "height": 225
    },
    "colab_type": "code",
    "id": "aDcr5RvFAIkG",
    "outputId": "adee23c3-a3ec-4d0a-ed7e-ec7a872dfe9e"
   },
   "outputs": [
    {
     "name": "stdout",
     "output_type": "stream",
     "text": [
      "(107, 3)\n",
      "        id  age_yr  adult\n",
      "0   DAM001    5.70      0\n",
      "1   DAM002    5.42      0\n",
      "2   DAM003    4.53      0\n",
      "3   DAM004    5.37      0\n",
      "4   DAM005    4.19      0\n",
      "5   DAM006    4.30      0\n",
      "6   DAM007    4.20      0\n",
      "7   DAM008    4.40      0\n",
      "8   DAM009    4.02      0\n",
      "9  DAM00T1    7.90      0\n"
     ]
    }
   ],
   "source": [
    "# subset metadata; get id and age columns\n",
    "df_metadata_age = df_metadata[['id','age_yr', 'adult']]\n",
    "print(df_metadata_age.shape)\n",
    "print(df_metadata_age.iloc[0:10])\n",
    "#print(df_metadata_age.sort_values(by=['id'])[0:10])"
   ]
  },
  {
   "cell_type": "code",
   "execution_count": 38,
   "metadata": {
    "colab": {
     "base_uri": "https://localhost:8080/",
     "height": 87
    },
    "colab_type": "code",
    "id": "i5xD_FBF7nBp",
    "outputId": "a259f595-9d3c-4865-dc19-515d201142f4"
   },
   "outputs": [
    {
     "data": {
      "text/plain": [
       "id        0\n",
       "age_yr    5\n",
       "adult     0\n",
       "dtype: int64"
      ]
     },
     "execution_count": 38,
     "metadata": {
      "tags": []
     },
     "output_type": "execute_result"
    }
   ],
   "source": [
    "# check nan values \n",
    "df_metadata_age.isna().sum()\n",
    "# there are missing values for age_yr that we will fix later"
   ]
  },
  {
   "cell_type": "code",
   "execution_count": 39,
   "metadata": {
    "colab": {
     "base_uri": "https://localhost:8080/",
     "height": 225
    },
    "colab_type": "code",
    "id": "BjhDpj1o60xY",
    "outputId": "010811bc-e999-4528-dee2-61f5fcb0840e"
   },
   "outputs": [
    {
     "name": "stdout",
     "output_type": "stream",
     "text": [
      "(258, 25091)\n",
      "       id  age_yr  adult  vector_0  vector_1  vector_2\n",
      "0  DAM001    5.70      0       0.0       0.0       0.0\n",
      "1  DAM001    5.70      0       0.0       0.0       0.0\n",
      "2  DAM001    5.70      0       0.0       0.0       0.0\n",
      "3  DAM002    5.42      0       0.0       0.0       0.0\n",
      "4  DAM002    5.42      0       0.0       0.0       0.0\n",
      "5  DAM002    5.42      0       0.0       0.0       0.0\n",
      "6  DAM003    4.53      0       0.0       0.0       0.0\n",
      "7  DAM003    4.53      0       0.0       0.0       0.0\n",
      "8  DAM003    4.53      0       0.0       0.0       0.0\n",
      "9  DAM004    5.37      0       0.0       0.0       0.0\n"
     ]
    }
   ],
   "source": [
    "# merge metadata and vectors by id\n",
    "df_predict_age = pd.merge(df_metadata_age, df_vectors, on='id')\n",
    "print(df_predict_age.shape) # this should yield (258, 25090)\n",
    "print(df_predict_age.iloc[0:10, 0:6])\n",
    "#print(df_predict_age.sort_values(by=['id']).iloc[0:10, 0:5])"
   ]
  },
  {
   "cell_type": "code",
   "execution_count": null,
   "metadata": {
    "colab": {},
    "colab_type": "code",
    "id": "7HrhPqw1BAQU"
   },
   "outputs": [],
   "source": [
    "# export the pandas dataframe to a csv\n",
    "df_predict_age.to_csv(\"predict_age_from_vectors_block5_pool_all.csv\", sep=',', index= False)"
   ]
  },
  {
   "cell_type": "markdown",
   "metadata": {
    "colab_type": "text",
    "id": "HJekx0_EDBvq"
   },
   "source": [
    "## Cleaning the data "
   ]
  },
  {
   "cell_type": "code",
   "execution_count": 40,
   "metadata": {
    "colab": {
     "base_uri": "https://localhost:8080/",
     "height": 69
    },
    "colab_type": "code",
    "id": "WK980QDiBdPy",
    "outputId": "ab8ecf84-979f-46d4-ca6f-3dd72b2de13a"
   },
   "outputs": [
    {
     "name": "stdout",
     "output_type": "stream",
     "text": [
      "id         0\n",
      "age_yr    11\n",
      "dtype: int64\n"
     ]
    }
   ],
   "source": [
    "# print NA values\n",
    "NA = df_predict_age.isna().sum()\n",
    "print(NA[0:2]) # we have 11 rows with missing values for age"
   ]
  },
  {
   "cell_type": "code",
   "execution_count": 41,
   "metadata": {
    "colab": {
     "base_uri": "https://localhost:8080/",
     "height": 35
    },
    "colab_type": "code",
    "id": "DGPaIBu4DQTc",
    "outputId": "0c1cb874-0ad8-4a7f-fd00-0b86f4082a43"
   },
   "outputs": [
    {
     "name": "stderr",
     "output_type": "stream",
     "text": [
      "Using TensorFlow backend.\n"
     ]
    }
   ],
   "source": [
    "from fancyimpute import IterativeImputer\n",
    "# IterativeImputer: A strategy for imputing missing values by modeling each \n",
    "# feature with missing values as a function of other features in a round-robin fashion.\n",
    "\n",
    "# IterativeImputer only works with scalar values so we have to get rid of \n",
    "# id label first \n",
    "df_predict_age_na = df_predict_age.loc[:, df_predict_age.columns != 'id']\n",
    "\n",
    "# now we can do the imputation \n",
    "df_predict_age_imp = IterativeImputer().fit_transform(df_predict_age_na)"
   ]
  },
  {
   "cell_type": "code",
   "execution_count": 42,
   "metadata": {
    "colab": {
     "base_uri": "https://localhost:8080/",
     "height": 225
    },
    "colab_type": "code",
    "id": "uGa_osUKIW4h",
    "outputId": "70e9e854-ffa8-4f8f-aa38-1618a31b729c"
   },
   "outputs": [
    {
     "name": "stdout",
     "output_type": "stream",
     "text": [
      "<class 'pandas.core.frame.DataFrame'>\n",
      "      0    1    2    3    4\n",
      "0  5.70  0.0  0.0  0.0  0.0\n",
      "1  5.70  0.0  0.0  0.0  0.0\n",
      "2  5.70  0.0  0.0  0.0  0.0\n",
      "3  5.42  0.0  0.0  0.0  0.0\n",
      "4  5.42  0.0  0.0  0.0  0.0\n",
      "5  5.42  0.0  0.0  0.0  0.0\n",
      "6  4.53  0.0  0.0  0.0  0.0\n",
      "7  4.53  0.0  0.0  0.0  0.0\n",
      "8  4.53  0.0  0.0  0.0  0.0\n",
      "9  5.37  0.0  0.0  0.0  0.0\n"
     ]
    }
   ],
   "source": [
    "# IterativeImputer returns a np array, so we need to change it back to pandas\n",
    "df_predict_age_pn = pd.DataFrame(df_predict_age_imp)\n",
    "print(type(df_predict_age_pn))\n",
    "print(df_predict_age_pn.iloc[0:10, 0:5])"
   ]
  },
  {
   "cell_type": "code",
   "execution_count": 58,
   "metadata": {
    "colab": {
     "base_uri": "https://localhost:8080/",
     "height": 208
    },
    "colab_type": "code",
    "id": "092dDB52OnZY",
    "outputId": "b7686232-33e6-4ec3-96da-f53835817e35"
   },
   "outputs": [
    {
     "name": "stdout",
     "output_type": "stream",
     "text": [
      "(258, 25091)\n",
      "       id     0    1    2    3    4    5\n",
      "0  DAM001  5.70  0.0  0.0  0.0  0.0  0.0\n",
      "1  DAM001  5.70  0.0  0.0  0.0  0.0  0.0\n",
      "2  DAM001  5.70  0.0  0.0  0.0  0.0  0.0\n",
      "3  DAM002  5.42  0.0  0.0  0.0  0.0  0.0\n",
      "4  DAM002  5.42  0.0  0.0  0.0  0.0  0.0\n",
      "5  DAM002  5.42  0.0  0.0  0.0  0.0  0.0\n",
      "6  DAM003  4.53  0.0  0.0  0.0  0.0  0.0\n",
      "7  DAM003  4.53  0.0  0.0  0.0  0.0  0.0\n",
      "8  DAM003  4.53  0.0  0.0  0.0  0.0  0.0\n"
     ]
    }
   ],
   "source": [
    "# merge vector's id and raw vectors\n",
    "id_list_sort = id_list.sort_values(by=[\"id\"])\n",
    "\n",
    "id_list_sort.reset_index(drop=True, inplace=True)\n",
    "\n",
    "df_predict_age_fix = pd.concat([id_list_sort, df_predict_age_pn], axis=1)\n",
    "\n",
    "print(df_predict_age_fix.shape) # this should yield (258, 25089)\n",
    "print(df_predict_age_fix.iloc[0:9,0:7])"
   ]
  },
  {
   "cell_type": "code",
   "execution_count": 59,
   "metadata": {
    "colab": {
     "base_uri": "https://localhost:8080/",
     "height": 35
    },
    "colab_type": "code",
    "id": "J-X3gEwiO84u",
    "outputId": "c6b3bd26-9712-48fa-8c76-64cd7b4da7ea"
   },
   "outputs": [
    {
     "name": "stdout",
     "output_type": "stream",
     "text": [
      "['id', 'age_yr', 'adult', 'vector_0', 'vector_1']\n"
     ]
    }
   ],
   "source": [
    "# let's get the original col names to add that back to the new dataframe\n",
    "col_names = list(df_predict_age.columns.values)\n",
    "print(col_names[0:5])"
   ]
  },
  {
   "cell_type": "code",
   "execution_count": 60,
   "metadata": {
    "colab": {
     "base_uri": "https://localhost:8080/",
     "height": 191
    },
    "colab_type": "code",
    "id": "eCW4PUd3LJ1Y",
    "outputId": "ee7d39df-a2ba-4fc2-fba9-362dea7c23dd"
   },
   "outputs": [
    {
     "name": "stdout",
     "output_type": "stream",
     "text": [
      "       id  age_yr  adult  vector_0  vector_1\n",
      "0  DAM001    5.70    0.0       0.0       0.0\n",
      "1  DAM001    5.70    0.0       0.0       0.0\n",
      "2  DAM001    5.70    0.0       0.0       0.0\n",
      "3  DAM002    5.42    0.0       0.0       0.0\n",
      "4  DAM002    5.42    0.0       0.0       0.0\n",
      "5  DAM002    5.42    0.0       0.0       0.0\n",
      "6  DAM003    4.53    0.0       0.0       0.0\n",
      "7  DAM003    4.53    0.0       0.0       0.0\n",
      "8  DAM003    4.53    0.0       0.0       0.0\n"
     ]
    }
   ],
   "source": [
    "# add headers to vectors into dataframe after imputation\n",
    "df_predict_age_fix.columns = col_names\n",
    "print(df_predict_age_fix.iloc[0:9,0:5])"
   ]
  },
  {
   "cell_type": "code",
   "execution_count": 61,
   "metadata": {
    "colab": {
     "base_uri": "https://localhost:8080/",
     "height": 173
    },
    "colab_type": "code",
    "id": "hubhvGiPGaxc",
    "outputId": "ed3e9644-4683-4875-e614-7b230958a619"
   },
   "outputs": [
    {
     "name": "stdout",
     "output_type": "stream",
     "text": [
      "BEFORE imputation\n",
      "id         0\n",
      "age_yr    11\n",
      "dtype: int64 \n",
      "\n",
      "AFTER imputation\n",
      "id        0\n",
      "age_yr    0\n",
      "dtype: int64\n"
     ]
    }
   ],
   "source": [
    "# print NA values before imputation\n",
    "\n",
    "print(\"BEFORE imputation\")\n",
    "NA = df_predict_age.isna().sum()\n",
    "print(NA[0:2],\"\\n\") # we have 11 rows with missing values for age\n",
    "\n",
    "print(\"AFTER imputation\")\n",
    "# print NA values after imputation\n",
    "NA_imp = df_predict_age_fix.isna().sum()\n",
    "print(NA_imp[0:2]) # Now we have 0 NA values in our new dataframe"
   ]
  },
  {
   "cell_type": "code",
   "execution_count": null,
   "metadata": {
    "colab": {},
    "colab_type": "code",
    "id": "n5lhZPWIPpfm"
   },
   "outputs": [],
   "source": [
    "# Let's export the pandas dataframe to a csv for later\n",
    "df_predict_age_fix.to_csv(\"predict_age_from_vectors_block5_pool_all_imp.csv\", sep=',', index=False)"
   ]
  },
  {
   "cell_type": "markdown",
   "metadata": {
    "colab_type": "text",
    "id": "2jTJq8dXdFgO"
   },
   "source": [
    "# Preprocessing data for Neural Network"
   ]
  },
  {
   "cell_type": "markdown",
   "metadata": {
    "colab_type": "text",
    "id": "hXIOHWaoquhR"
   },
   "source": [
    "## Split labels from features"
   ]
  },
  {
   "cell_type": "code",
   "execution_count": null,
   "metadata": {
    "colab": {},
    "colab_type": "code",
    "id": "kuq6PuYJYwH2"
   },
   "outputs": [],
   "source": [
    "df_id = df_predict_age_fix.pop('id') # pop id\n",
    "df_age = df_predict_age_fix.pop('age_yr') # pop age labels\n",
    "df_adult = df_predict_age_fix.pop('adult') # pop adult labels"
   ]
  },
  {
   "cell_type": "code",
   "execution_count": 63,
   "metadata": {
    "colab": {
     "base_uri": "https://localhost:8080/",
     "height": 225
    },
    "colab_type": "code",
    "id": "OJ6FxFi4aowt",
    "outputId": "8169892f-4fcc-48f1-d416-22e95c1a15fb"
   },
   "outputs": [
    {
     "name": "stdout",
     "output_type": "stream",
     "text": [
      "0    DAM001\n",
      "1    DAM001\n",
      "2    DAM001\n",
      "Name: id, dtype: object\n",
      "0    5.7\n",
      "1    5.7\n",
      "2    5.7\n",
      "Name: age_yr, dtype: float64\n",
      "0    0.0\n",
      "1    0.0\n",
      "2    0.0\n",
      "Name: adult, dtype: float64\n"
     ]
    }
   ],
   "source": [
    "print(df_id[0:3])\n",
    "print(df_age[0:3])\n",
    "print(df_adult[0:3])"
   ]
  },
  {
   "cell_type": "code",
   "execution_count": 64,
   "metadata": {
    "colab": {
     "base_uri": "https://localhost:8080/",
     "height": 87
    },
    "colab_type": "code",
    "id": "og3ZMMpuvdbr",
    "outputId": "c3b295d4-4ee6-4065-9e0e-8e9a57c47815"
   },
   "outputs": [
    {
     "name": "stdout",
     "output_type": "stream",
     "text": [
      "<class 'numpy.ndarray'>\n",
      "<class 'numpy.ndarray'>\n",
      "[5.7  5.7  5.7  5.42 5.42 5.42 4.53 4.53 4.53]\n",
      "[0. 0. 0. 0. 0. 0. 0. 0. 0.]\n"
     ]
    }
   ],
   "source": [
    "# change to numpy arrays\n",
    "df_age_array = df_age.to_numpy(dtype='float64')\n",
    "df_adult_array = df_adult.to_numpy(dtype='float64')\n",
    "print(type(df_age_array))\n",
    "print(type(df_adult_array))\n",
    "print(df_age_array[0:9,])\n",
    "print(df_adult_array[0:9,])"
   ]
  },
  {
   "cell_type": "markdown",
   "metadata": {
    "colab_type": "text",
    "id": "8bGRPMIeqWZv"
   },
   "source": [
    "## Standarize"
   ]
  },
  {
   "cell_type": "code",
   "execution_count": 66,
   "metadata": {
    "colab": {
     "base_uri": "https://localhost:8080/",
     "height": 173
    },
    "colab_type": "code",
    "id": "4q21biWnqUQA",
    "outputId": "e32d9d1d-a1de-4bdc-87fe-6b50c0923697"
   },
   "outputs": [
    {
     "name": "stdout",
     "output_type": "stream",
     "text": [
      "[[-0.097  0.     0.    -0.097 -0.235 -0.11  -0.064 -0.088  0.   ]\n",
      " [-0.097  0.     0.    -0.097 -0.235 -0.11  -0.064 -0.088  0.   ]\n",
      " [-0.097  0.     0.    -0.097 -0.235 -0.11  -0.064 -0.088  0.   ]\n",
      " [-0.097  0.     0.    -0.097 -0.111 -0.11  -0.064 -0.088  0.   ]\n",
      " [-0.097  0.     0.    -0.097  0.931 -0.11  -0.064 -0.088  0.   ]\n",
      " [-0.097  0.     0.    -0.097 -0.235 -0.11  -0.064 -0.088  0.   ]\n",
      " [-0.097  0.     0.    -0.097 -0.235 -0.11  -0.064 -0.088  0.   ]\n",
      " [-0.097  0.     0.    -0.097 -0.155 -0.11  -0.064 -0.088  0.   ]\n",
      " [-0.097  0.     0.    -0.097 -0.235 -0.11  -0.064 -0.088  0.   ]]\n"
     ]
    }
   ],
   "source": [
    "# standarize with mean = 0, sd = 1\n",
    "\n",
    "# from pandas to numpy array\n",
    "df_net_array = df_predict_age_fix.to_numpy(dtype='float64')\n",
    "\n",
    "# standarize\n",
    "scaler = StandardScaler().fit(df_net_array)\n",
    "df_net_array_res = scaler.transform(df_net_array)\n",
    "# summarize transformed data\n",
    "np.set_printoptions(precision=3)\n",
    "print(df_net_array_res[0:9,0:9])"
   ]
  },
  {
   "cell_type": "markdown",
   "metadata": {
    "colab_type": "text",
    "id": "-RmdbD6XsqwM"
   },
   "source": [
    "## Normalize"
   ]
  },
  {
   "cell_type": "code",
   "execution_count": 67,
   "metadata": {
    "colab": {
     "base_uri": "https://localhost:8080/",
     "height": 173
    },
    "colab_type": "code",
    "id": "Z6XHjuuksTcD",
    "outputId": "73c83c29-e9c5-494f-ad81-66b85234c19a"
   },
   "outputs": [
    {
     "name": "stdout",
     "output_type": "stream",
     "text": [
      "[[-0.001  0.     0.    -0.001 -0.003 -0.001 -0.001 -0.001  0.   ]\n",
      " [-0.001  0.     0.    -0.001 -0.003 -0.001 -0.001 -0.001  0.   ]\n",
      " [-0.001  0.     0.    -0.001 -0.003 -0.001 -0.001 -0.001  0.   ]\n",
      " [-0.001  0.     0.    -0.001 -0.001 -0.001 -0.001 -0.001  0.   ]\n",
      " [-0.001  0.     0.    -0.001  0.011 -0.001 -0.001 -0.001  0.   ]\n",
      " [-0.001  0.     0.    -0.001 -0.002 -0.001 -0.001 -0.001  0.   ]\n",
      " [-0.001  0.     0.    -0.001 -0.002 -0.001 -0.001 -0.001  0.   ]\n",
      " [-0.002  0.     0.    -0.002 -0.003 -0.002 -0.001 -0.001  0.   ]\n",
      " [-0.001  0.     0.    -0.001 -0.002 -0.001 -0.001 -0.001  0.   ]]\n"
     ]
    }
   ],
   "source": [
    "# normalize with lenght = 1\n",
    "\n",
    "scaler = Normalizer().fit(df_net_array_res)\n",
    "df_net_array_res_norm = scaler.transform(df_net_array_res)\n",
    "# summarize transformed data\n",
    "np.set_printoptions(precision=3)\n",
    "print(df_net_array_res_norm[0:9,0:9])"
   ]
  },
  {
   "cell_type": "markdown",
   "metadata": {
    "colab_type": "text",
    "id": "dkMSWaeZ7reb"
   },
   "source": [
    "## Compare raw, standarized, and normalized max values"
   ]
  },
  {
   "cell_type": "code",
   "execution_count": 68,
   "metadata": {
    "colab": {
     "base_uri": "https://localhost:8080/",
     "height": 225
    },
    "colab_type": "code",
    "id": "0Py--lnFxM7E",
    "outputId": "2c52a6d9-9722-468f-e3fa-c57854bfcce9"
   },
   "outputs": [
    {
     "name": "stdout",
     "output_type": "stream",
     "text": [
      "Max values\n",
      "265.2994079589844\n",
      "16.03121954188141\n",
      "0.35538105580639745 \n",
      "\n",
      "Min values\n",
      "0.0\n",
      "-7.156054591501433\n",
      "-0.05109213937293871 \n",
      "\n",
      "Shape\n",
      "(258, 25088)\n"
     ]
    }
   ],
   "source": [
    "print(\"Max values\")\n",
    "print(np.amax(df_net_array))\n",
    "print(np.amax(df_net_array_res))\n",
    "print(np.amax(df_net_array_res_norm), \"\\n\")\n",
    "print(\"Min values\")\n",
    "print(np.amin(df_net_array))\n",
    "print(np.amin(df_net_array_res))\n",
    "print(np.amin(df_net_array_res_norm), \"\\n\")\n",
    "print(\"Shape\")\n",
    "print(np.shape(df_net_array_res_norm))"
   ]
  },
  {
   "cell_type": "markdown",
   "metadata": {
    "colab_type": "text",
    "id": "Z8h7OuGdugn6"
   },
   "source": [
    "## Save data"
   ]
  },
  {
   "cell_type": "markdown",
   "metadata": {
    "colab_type": "text",
    "id": "fUsB2_ziVp-y"
   },
   "source": [
    "###Save features dataframe"
   ]
  },
  {
   "cell_type": "code",
   "execution_count": null,
   "metadata": {
    "colab": {},
    "colab_type": "code",
    "id": "30GoseA1ujP5"
   },
   "outputs": [],
   "source": [
    "np.savetxt(\"x_drawings_features_max_pool_5.csv\", df_net_array_res_norm, delimiter=\",\")"
   ]
  },
  {
   "cell_type": "markdown",
   "metadata": {
    "colab_type": "text",
    "id": "uvObvXEAVuZK"
   },
   "source": [
    "###Save labels dataframes"
   ]
  },
  {
   "cell_type": "code",
   "execution_count": null,
   "metadata": {
    "colab": {},
    "colab_type": "code",
    "id": "SF1E_bvzvSQP"
   },
   "outputs": [],
   "source": [
    "# Save labels for age prediction\n",
    "np.savetxt(\"y_age_years_labels.csv\", df_age_array, delimiter=\",\")\n",
    "# Save labels for age classification\n",
    "np.savetxt(\"y_age_adult_labels.csv\", df_adult_array, delimiter=\",\")"
   ]
  },
  {
   "cell_type": "markdown",
   "metadata": {
    "colab_type": "text",
    "id": "zbbghGx6soCJ"
   },
   "source": [
    "# Resources\n",
    "\n",
    "- For imputation of missing values \n",
    "https://github.com/iskandr/fancyimpute\n",
    "\n",
    "\n",
    "\n"
   ]
  }
 ],
 "metadata": {
  "accelerator": "GPU",
  "colab": {
   "include_colab_link": true,
   "name": "CovNet_VGG-19_Age_Prediction.ipynb",
   "provenance": [],
   "toc_visible": true,
   "version": "0.3.2"
  },
  "kernelspec": {
   "display_name": "Python 3",
   "language": "python",
   "name": "python3"
  },
  "language_info": {
   "codemirror_mode": {
    "name": "ipython",
    "version": 3
   },
   "file_extension": ".py",
   "mimetype": "text/x-python",
   "name": "python",
   "nbconvert_exporter": "python",
   "pygments_lexer": "ipython3",
   "version": "3.6.8"
  }
 },
 "nbformat": 4,
 "nbformat_minor": 2
}
