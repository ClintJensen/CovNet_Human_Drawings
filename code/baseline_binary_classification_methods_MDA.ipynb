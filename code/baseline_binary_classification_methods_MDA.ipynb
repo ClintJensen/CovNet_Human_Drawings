{
  "nbformat": 4,
  "nbformat_minor": 0,
  "metadata": {
    "colab": {
      "name": "baseline_binary_classification_methods_MDA.ipynb",
      "version": "0.3.2",
      "provenance": [],
      "toc_visible": true,
      "include_colab_link": true
    },
    "kernelspec": {
      "name": "python3",
      "display_name": "Python 3"
    }
  },
  "cells": [
    {
      "cell_type": "markdown",
      "metadata": {
        "id": "view-in-github",
        "colab_type": "text"
      },
      "source": [
        "<a href=\"https://colab.research.google.com/github/pabloinsente/CovNet_Human_Drawings/blob/master/code/baseline_binary_classification_methods_MDA.ipynb\" target=\"_parent\"><img src=\"https://colab.research.google.com/assets/colab-badge.svg\" alt=\"Open In Colab\"/></a>"
      ]
    },
    {
      "metadata": {
        "id": "IkqvnxR44en3",
        "colab_type": "text"
      },
      "cell_type": "markdown",
      "source": [
        "#Baseline for binary classification of child/adult from drawings with MDA vectors"
      ]
    },
    {
      "metadata": {
        "id": "SR14WE_QlF76",
        "colab_type": "code",
        "colab": {
          "base_uri": "https://localhost:8080/",
          "height": 193
        },
        "outputId": "4e7a9d4a-728c-4377-ccc3-75a8f7376a7d"
      },
      "cell_type": "code",
      "source": [
        "!pip install rarfile"
      ],
      "execution_count": 1,
      "outputs": [
        {
          "output_type": "stream",
          "text": [
            "Collecting rarfile\n",
            "\u001b[?25l  Downloading https://files.pythonhosted.org/packages/de/a4/8b4abc72310da6fa53b6de8de1019e0516885d05369d6c91cba23476abe5/rarfile-3.0.tar.gz (110kB)\n",
            "\u001b[K    100% |████████████████████████████████| 112kB 4.8MB/s \n",
            "\u001b[?25hBuilding wheels for collected packages: rarfile\n",
            "  Building wheel for rarfile (setup.py) ... \u001b[?25ldone\n",
            "\u001b[?25h  Stored in directory: /root/.cache/pip/wheels/dc/84/da/8aff50941f548db5384b076d5a6a6afea0cd12672e0326edc4\n",
            "Successfully built rarfile\n",
            "Installing collected packages: rarfile\n",
            "Successfully installed rarfile-3.0\n"
          ],
          "name": "stdout"
        }
      ]
    },
    {
      "metadata": {
        "id": "UzsmE5Ez4-1n",
        "colab_type": "text"
      },
      "cell_type": "markdown",
      "source": [
        "##Data Preparation"
      ]
    },
    {
      "metadata": {
        "id": "NKxEuVPy4ykq",
        "colab_type": "code",
        "colab": {}
      },
      "cell_type": "code",
      "source": [
        "from sklearn.model_selection import train_test_split\n",
        "from sklearn.metrics import confusion_matrix\n",
        "from sklearn.metrics import classification_report\n",
        "from sklearn.metrics import accuracy_score\n",
        "\n",
        "from imblearn.over_sampling import RandomOverSampler \n",
        "from imblearn.over_sampling import SMOTE \n",
        "\n",
        "import rarfile, csv\n",
        "\n",
        "from numpy import genfromtxt\n",
        "import pandas as pd\n",
        "from collections import Counter\n",
        "import matplotlib.pyplot as plt"
      ],
      "execution_count": 0,
      "outputs": []
    },
    {
      "metadata": {
        "id": "VfHNxgoP7kf0",
        "colab_type": "code",
        "colab": {}
      },
      "cell_type": "code",
      "source": [
        "# Clone the data into Colab\n",
        "! git clone https://github.com/pabloinsente/CovNet_Human_Drawings"
      ],
      "execution_count": 0,
      "outputs": []
    },
    {
      "metadata": {
        "id": "TvCowCOIlRkg",
        "colab_type": "code",
        "colab": {
          "base_uri": "https://localhost:8080/",
          "height": 139
        },
        "outputId": "3c85f16e-2054-4860-c376-90ce5516906a"
      },
      "cell_type": "code",
      "source": [
        "# Read csv files from compressed rar file and convert into a dataframe\n",
        "rar_path = rarfile.RarFile(\"CovNet_Human_Drawings/data/merged_dataframes_prediction/x_drawings_features_max_pool_5.rar\")\n",
        "csv_file_name = \"x_drawings_features_max_pool_5.csv\"\n",
        "rar_file = rarfile.RarFile.open(rar_path, csv_file_name)\n",
        "x = pd.read_csv(rar_file, sep=\",\", header=None)\n",
        "print(x.shape)\n",
        "print(x.iloc[0:5,0:5])"
      ],
      "execution_count": 4,
      "outputs": [
        {
          "output_type": "stream",
          "text": [
            "(258, 25088)\n",
            "          0    1    2         3         4\n",
            "0 -0.001317  0.0  0.0 -0.001322 -0.003181\n",
            "1 -0.001052  0.0  0.0 -0.001056 -0.002540\n",
            "2 -0.001176  0.0  0.0 -0.001181 -0.002840\n",
            "3 -0.000836  0.0  0.0 -0.000839 -0.000957\n",
            "4 -0.001163  0.0  0.0 -0.001168  0.011156\n"
          ],
          "name": "stdout"
        }
      ]
    },
    {
      "metadata": {
        "id": "1ImOc2dx4XE3",
        "colab_type": "code",
        "outputId": "daf27582-d4c5-4321-ae76-d21621781e5b",
        "colab": {
          "base_uri": "https://localhost:8080/",
          "height": 52
        }
      },
      "cell_type": "code",
      "source": [
        "# Read labels vector\n",
        "y_path = 'CovNet_Human_Drawings/data/merged_dataframes_prediction/y_age_adult_labels.csv'\n",
        "y = genfromtxt(y_path, delimiter=',')\n",
        "\n",
        "print(y.shape)\n",
        "print(y[0:5])"
      ],
      "execution_count": 5,
      "outputs": [
        {
          "output_type": "stream",
          "text": [
            "(258,)\n",
            "[0. 0. 0. 0. 0.]\n"
          ],
          "name": "stdout"
        }
      ]
    },
    {
      "metadata": {
        "id": "kq5L5JR-9N4-",
        "colab_type": "text"
      },
      "cell_type": "markdown",
      "source": [
        "##Multidimensional scaling"
      ]
    },
    {
      "metadata": {
        "id": "uVE9ztLQ9KJx",
        "colab_type": "code",
        "colab": {}
      },
      "cell_type": "code",
      "source": [
        "from sklearn.manifold import MDS"
      ],
      "execution_count": 0,
      "outputs": []
    },
    {
      "metadata": {
        "id": "TyExc3Qi9P9L",
        "colab_type": "code",
        "outputId": "1f584cdf-1a72-4483-ff6c-cf72460ff8f3",
        "colab": {
          "base_uri": "https://localhost:8080/",
          "height": 35
        }
      },
      "cell_type": "code",
      "source": [
        "embedding = MDS(n_components=2)\n",
        "x_transformed = embedding.fit_transform(x)\n",
        "x = x_transformed\n",
        "x.shape"
      ],
      "execution_count": 7,
      "outputs": [
        {
          "output_type": "execute_result",
          "data": {
            "text/plain": [
              "(258, 2)"
            ]
          },
          "metadata": {
            "tags": []
          },
          "execution_count": 7
        }
      ]
    },
    {
      "metadata": {
        "id": "lt-ai_0r-oR5",
        "colab_type": "code",
        "outputId": "50b1e5fe-d16c-4135-b69f-2de59a6dea1e",
        "colab": {
          "base_uri": "https://localhost:8080/",
          "height": 87
        }
      },
      "cell_type": "code",
      "source": [
        "# Split data into train and test sets\n",
        "# Since we have an small sample, we will do a 70/30 split\n",
        "\n",
        "x_train, x_test, y_train, y_test = train_test_split(x, y, test_size = 0.3, random_state=44, stratify=y)\n",
        "print(x_train.shape) \n",
        "print(y_train.shape) \n",
        "print(x_test.shape) \n",
        "print(y_test.shape)"
      ],
      "execution_count": 8,
      "outputs": [
        {
          "output_type": "stream",
          "text": [
            "(180, 2)\n",
            "(180,)\n",
            "(78, 2)\n",
            "(78,)\n"
          ],
          "name": "stdout"
        }
      ]
    },
    {
      "metadata": {
        "id": "Vucc_DCC_cXb",
        "colab_type": "text"
      },
      "cell_type": "markdown",
      "source": [
        "##Resampling Imbalanced Data\n",
        "Since our classes are imbalanced, we will use oversampling of the \"adult\" class **on the training set**  to help training on that class. *imblearn* implement oversampling for us\n",
        "\n",
        "**See documentantion at** https://imbalanced-learn.readthedocs.io/en/stable/generated/imblearn.over_sampling.RandomOverSampler.html"
      ]
    },
    {
      "metadata": {
        "id": "oG3pLrJa_c3w",
        "colab_type": "code",
        "outputId": "752d6b0e-e994-44fb-ed27-dd99b083ea86",
        "colab": {
          "base_uri": "https://localhost:8080/",
          "height": 69
        }
      },
      "cell_type": "code",
      "source": [
        "#ros = RandomOverSampler(random_state=42)\n",
        "ros = SMOTE(random_state=42)\n",
        "\n",
        "x_train_res, y_train_res = ros.fit_resample(x_train, y_train)\n",
        "print(x_train_res.shape) # (258, 200)\n",
        "print(y_train_res.shape) # (258,)\n",
        "print('Resampled dataset shape %s' % Counter(y_train_res))\n",
        "\n",
        "# Now we have 50/50 balanced classes"
      ],
      "execution_count": 9,
      "outputs": [
        {
          "output_type": "stream",
          "text": [
            "(290, 2)\n",
            "(290,)\n",
            "Resampled dataset shape Counter({0.0: 145, 1.0: 145})\n"
          ],
          "name": "stdout"
        }
      ]
    },
    {
      "metadata": {
        "id": "iadb3lSSAB5w",
        "colab_type": "code",
        "outputId": "e0152dee-9ad2-4d72-8253-500208495678",
        "colab": {
          "base_uri": "https://localhost:8080/",
          "height": 299
        }
      },
      "cell_type": "code",
      "source": [
        "x_train = x_train_res\n",
        "y_train = y_train_res\n",
        "print('Resampled dataset shape %s' % Counter(y_train))\n",
        "plt.hist(y_train, bins='auto')  # arguments are passed to np.histogram\n",
        "plt.title(\"Histogram train dataset classes\")\n",
        "plt.show()"
      ],
      "execution_count": 10,
      "outputs": [
        {
          "output_type": "stream",
          "text": [
            "Resampled dataset shape Counter({0.0: 145, 1.0: 145})\n"
          ],
          "name": "stdout"
        },
        {
          "output_type": "display_data",
          "data": {
            "image/png": "[encoded data removed]",
            "text/plain": [
              "<Figure size 432x288 with 1 Axes>"
            ]
          },
          "metadata": {
            "tags": []
          }
        }
      ]
    },
    {
      "metadata": {
        "id": "1IYy8P6KADpB",
        "colab_type": "code",
        "outputId": "9cda18a4-466d-40c8-cff1-f205d4408afb",
        "colab": {
          "base_uri": "https://localhost:8080/",
          "height": 299
        }
      },
      "cell_type": "code",
      "source": [
        "print('Test dataset shape %s' % Counter(y_test))\n",
        "plt.hist(y_test, bins='auto')  # arguments are passed to np.histogram\n",
        "plt.title(\"Histogram test dataset classes\")\n",
        "plt.show()"
      ],
      "execution_count": 11,
      "outputs": [
        {
          "output_type": "stream",
          "text": [
            "Test dataset shape Counter({0.0: 63, 1.0: 15})\n"
          ],
          "name": "stdout"
        },
        {
          "output_type": "display_data",
          "data": {
            "image/png": "[encoded data removed]",
            "text/plain": [
              "<Figure size 432x288 with 1 Axes>"
            ]
          },
          "metadata": {
            "tags": []
          }
        }
      ]
    },
    {
      "metadata": {
        "id": "ZISSB87_CIpk",
        "colab_type": "text"
      },
      "cell_type": "markdown",
      "source": [
        "## Logistic Regression"
      ]
    },
    {
      "metadata": {
        "id": "jKy9gzK5CHgp",
        "colab_type": "code",
        "colab": {}
      },
      "cell_type": "code",
      "source": [
        "from sklearn.linear_model import LogisticRegression"
      ],
      "execution_count": 0,
      "outputs": []
    },
    {
      "metadata": {
        "id": "w5LJ8GSzCdAM",
        "colab_type": "text"
      },
      "cell_type": "markdown",
      "source": [
        "###Train logistic regression"
      ]
    },
    {
      "metadata": {
        "id": "ZaAiRnI2CTfd",
        "colab_type": "code",
        "outputId": "13741d59-f49d-4bff-fa97-77e8667ae89f",
        "colab": {
          "base_uri": "https://localhost:8080/",
          "height": 72
        }
      },
      "cell_type": "code",
      "source": [
        "#Train classifier\n",
        "log_classifier = LogisticRegression(random_state=0)\n",
        "log_classifier.fit(x_train, y_train)\n",
        "y_pred = log_classifier.predict(x_test)"
      ],
      "execution_count": 13,
      "outputs": [
        {
          "output_type": "stream",
          "text": [
            "/usr/local/lib/python3.6/dist-packages/sklearn/linear_model/logistic.py:433: FutureWarning: Default solver will be changed to 'lbfgs' in 0.22. Specify a solver to silence this warning.\n",
            "  FutureWarning)\n"
          ],
          "name": "stderr"
        }
      ]
    },
    {
      "metadata": {
        "id": "WDcHvUIACZJ5",
        "colab_type": "text"
      },
      "cell_type": "markdown",
      "source": [
        "###Test logistic regression"
      ]
    },
    {
      "metadata": {
        "id": "gZheMsJHCT8D",
        "colab_type": "code",
        "outputId": "ac1901ee-e21e-4d33-e9fb-5ebfd6452068",
        "colab": {
          "base_uri": "https://localhost:8080/",
          "height": 312
        }
      },
      "cell_type": "code",
      "source": [
        "# Accuracy \n",
        "acc = accuracy_score(y_test, y_pred)\n",
        "print(\"Accuracy\", \"\\n\", acc, \"\\n\")\n",
        "\n",
        "# Confusion matrix\n",
        "cm = confusion_matrix(y_test, y_pred)\n",
        "print(\"Confusion Matrix\", \"\\n\", cm, \"\\n\")\n",
        "\n",
        "# Classification report\n",
        "target_names = ['Child', 'Adult']\n",
        "cr = classification_report(y_test, y_pred, target_names=target_names)\n",
        "print(\"Calssification report\", \"\\n\", cr)"
      ],
      "execution_count": 14,
      "outputs": [
        {
          "output_type": "stream",
          "text": [
            "Accuracy \n",
            " 0.5769230769230769 \n",
            "\n",
            "Confusion Matrix \n",
            " [[36 27]\n",
            " [ 6  9]] \n",
            "\n",
            "Calssification report \n",
            "               precision    recall  f1-score   support\n",
            "\n",
            "       Child       0.86      0.57      0.69        63\n",
            "       Adult       0.25      0.60      0.35        15\n",
            "\n",
            "   micro avg       0.58      0.58      0.58        78\n",
            "   macro avg       0.55      0.59      0.52        78\n",
            "weighted avg       0.74      0.58      0.62        78\n",
            "\n"
          ],
          "name": "stdout"
        }
      ]
    },
    {
      "metadata": {
        "id": "7PurYKkGCuXK",
        "colab_type": "text"
      },
      "cell_type": "markdown",
      "source": [
        "##Suport Vector Machine"
      ]
    },
    {
      "metadata": {
        "id": "2vPQz84eCvfw",
        "colab_type": "code",
        "colab": {}
      },
      "cell_type": "code",
      "source": [
        "from sklearn.svm import SVC"
      ],
      "execution_count": 0,
      "outputs": []
    },
    {
      "metadata": {
        "id": "fVTvtM5dEfHP",
        "colab_type": "text"
      },
      "cell_type": "markdown",
      "source": [
        "###Training SVM"
      ]
    },
    {
      "metadata": {
        "id": "rWghQTHECyQr",
        "colab_type": "code",
        "colab": {}
      },
      "cell_type": "code",
      "source": [
        "svm = SVC(gamma='auto')\n",
        "svm.fit(x_train, y_train) \n",
        "y_pred = svm.predict(x_test)"
      ],
      "execution_count": 0,
      "outputs": []
    },
    {
      "metadata": {
        "id": "DSwUg50xEhpU",
        "colab_type": "text"
      },
      "cell_type": "markdown",
      "source": [
        "###Testing SVM"
      ]
    },
    {
      "metadata": {
        "id": "rJ4k2RikC0Cj",
        "colab_type": "code",
        "outputId": "1547c811-f9ed-4598-aadf-829992dfe585",
        "colab": {
          "base_uri": "https://localhost:8080/",
          "height": 312
        }
      },
      "cell_type": "code",
      "source": [
        "# Accuracy \n",
        "acc = accuracy_score(y_test, y_pred)\n",
        "print(\"Accuracy\", \"\\n\", acc, \"\\n\")\n",
        "\n",
        "# Confusion matrix\n",
        "cm = confusion_matrix(y_test, y_pred)\n",
        "print(\"Confusion Matrix\", \"\\n\", cm, \"\\n\")\n",
        "\n",
        "# Classification report\n",
        "target_names = ['Child', 'Adult']\n",
        "cr = classification_report(y_test, y_pred, target_names=target_names)\n",
        "print(\"Calssification report\", \"\\n\", cr)"
      ],
      "execution_count": 17,
      "outputs": [
        {
          "output_type": "stream",
          "text": [
            "Accuracy \n",
            " 0.5512820512820513 \n",
            "\n",
            "Confusion Matrix \n",
            " [[33 30]\n",
            " [ 5 10]] \n",
            "\n",
            "Calssification report \n",
            "               precision    recall  f1-score   support\n",
            "\n",
            "       Child       0.87      0.52      0.65        63\n",
            "       Adult       0.25      0.67      0.36        15\n",
            "\n",
            "   micro avg       0.55      0.55      0.55        78\n",
            "   macro avg       0.56      0.60      0.51        78\n",
            "weighted avg       0.75      0.55      0.60        78\n",
            "\n"
          ],
          "name": "stdout"
        }
      ]
    },
    {
      "metadata": {
        "id": "qAzWQqEMDBo4",
        "colab_type": "text"
      },
      "cell_type": "markdown",
      "source": [
        "##Decision Tree"
      ]
    },
    {
      "metadata": {
        "id": "nJlaghTyC3CP",
        "colab_type": "code",
        "colab": {}
      },
      "cell_type": "code",
      "source": [
        "from sklearn import tree"
      ],
      "execution_count": 0,
      "outputs": []
    },
    {
      "metadata": {
        "id": "4Zp6zihOEkNp",
        "colab_type": "text"
      },
      "cell_type": "markdown",
      "source": [
        "###Training Decision Tree"
      ]
    },
    {
      "metadata": {
        "id": "28D1jnNtDE2-",
        "colab_type": "code",
        "colab": {}
      },
      "cell_type": "code",
      "source": [
        "d_tree = tree.DecisionTreeClassifier()\n",
        "d_tree.fit(x_train, y_train) \n",
        "y_pred = d_tree.predict(x_test)"
      ],
      "execution_count": 0,
      "outputs": []
    },
    {
      "metadata": {
        "id": "givblE85EnI4",
        "colab_type": "text"
      },
      "cell_type": "markdown",
      "source": [
        "###Testing Decision Tree"
      ]
    },
    {
      "metadata": {
        "id": "m-ozyzjVDGss",
        "colab_type": "code",
        "outputId": "37741498-055b-40c3-8e4b-015e3aa9cf91",
        "colab": {
          "base_uri": "https://localhost:8080/",
          "height": 312
        }
      },
      "cell_type": "code",
      "source": [
        "# Accuracy \n",
        "acc = accuracy_score(y_test, y_pred)\n",
        "print(\"Accuracy\", \"\\n\", acc, \"\\n\")\n",
        "\n",
        "# Confusion matrix\n",
        "cm = confusion_matrix(y_test, y_pred)\n",
        "print(\"Confusion Matrix\", \"\\n\", cm, \"\\n\")\n",
        "\n",
        "# Classification report\n",
        "target_names = ['Child', 'Adult']\n",
        "cr = classification_report(y_test, y_pred, target_names=target_names)\n",
        "print(\"Calssification report\", \"\\n\", cr)"
      ],
      "execution_count": 20,
      "outputs": [
        {
          "output_type": "stream",
          "text": [
            "Accuracy \n",
            " 0.5512820512820513 \n",
            "\n",
            "Confusion Matrix \n",
            " [[40 23]\n",
            " [12  3]] \n",
            "\n",
            "Calssification report \n",
            "               precision    recall  f1-score   support\n",
            "\n",
            "       Child       0.77      0.63      0.70        63\n",
            "       Adult       0.12      0.20      0.15        15\n",
            "\n",
            "   micro avg       0.55      0.55      0.55        78\n",
            "   macro avg       0.44      0.42      0.42        78\n",
            "weighted avg       0.64      0.55      0.59        78\n",
            "\n"
          ],
          "name": "stdout"
        }
      ]
    },
    {
      "metadata": {
        "id": "0Qe5iaLxDRk0",
        "colab_type": "text"
      },
      "cell_type": "markdown",
      "source": [
        "##Gaussian Naive Bayes"
      ]
    },
    {
      "metadata": {
        "id": "LSQUQeQ3DY6K",
        "colab_type": "code",
        "colab": {}
      },
      "cell_type": "code",
      "source": [
        "from sklearn.naive_bayes import GaussianNB"
      ],
      "execution_count": 0,
      "outputs": []
    },
    {
      "metadata": {
        "id": "Z_LcphfnEqSn",
        "colab_type": "text"
      },
      "cell_type": "markdown",
      "source": [
        "###Training Naive Bayes"
      ]
    },
    {
      "metadata": {
        "id": "NBqmF9G4DJ3e",
        "colab_type": "code",
        "colab": {}
      },
      "cell_type": "code",
      "source": [
        "bayes = GaussianNB()\n",
        "bayes.fit(x_train, y_train) \n",
        "y_pred = bayes.predict(x_test)"
      ],
      "execution_count": 0,
      "outputs": []
    },
    {
      "metadata": {
        "id": "MFWkaQ4EEtAr",
        "colab_type": "text"
      },
      "cell_type": "markdown",
      "source": [
        "###Testing Naive Bayes"
      ]
    },
    {
      "metadata": {
        "id": "mwMIZR5ODVJh",
        "colab_type": "code",
        "outputId": "5fd6b7a2-025f-4cea-ae89-b40be5b0774e",
        "colab": {
          "base_uri": "https://localhost:8080/",
          "height": 312
        }
      },
      "cell_type": "code",
      "source": [
        "# Accuracy \n",
        "acc = accuracy_score(y_test, y_pred)\n",
        "print(\"Accuracy\", \"\\n\", acc, \"\\n\")\n",
        "\n",
        "# Confusion matrix\n",
        "cm = confusion_matrix(y_test, y_pred)\n",
        "print(\"Confusion Matrix\", \"\\n\", cm, \"\\n\")\n",
        "\n",
        "# Classification report\n",
        "target_names = ['Child', 'Adult']\n",
        "cr = classification_report(y_test, y_pred, target_names=target_names)\n",
        "print(\"Calssification report\", \"\\n\", cr)"
      ],
      "execution_count": 23,
      "outputs": [
        {
          "output_type": "stream",
          "text": [
            "Accuracy \n",
            " 0.47435897435897434 \n",
            "\n",
            "Confusion Matrix \n",
            " [[28 35]\n",
            " [ 6  9]] \n",
            "\n",
            "Calssification report \n",
            "               precision    recall  f1-score   support\n",
            "\n",
            "       Child       0.82      0.44      0.58        63\n",
            "       Adult       0.20      0.60      0.31        15\n",
            "\n",
            "   micro avg       0.47      0.47      0.47        78\n",
            "   macro avg       0.51      0.52      0.44        78\n",
            "weighted avg       0.70      0.47      0.52        78\n",
            "\n"
          ],
          "name": "stdout"
        }
      ]
    },
    {
      "metadata": {
        "id": "ycNH1eTHDlLt",
        "colab_type": "text"
      },
      "cell_type": "markdown",
      "source": [
        "##Random Forest"
      ]
    },
    {
      "metadata": {
        "id": "ineHNAqiDgF-",
        "colab_type": "code",
        "colab": {}
      },
      "cell_type": "code",
      "source": [
        "from sklearn.ensemble import RandomForestClassifier"
      ],
      "execution_count": 0,
      "outputs": []
    },
    {
      "metadata": {
        "id": "8xrxdERbEwDw",
        "colab_type": "text"
      },
      "cell_type": "markdown",
      "source": [
        "###Training Random Forest"
      ]
    },
    {
      "metadata": {
        "id": "yQGZoKO9DnWi",
        "colab_type": "code",
        "colab": {}
      },
      "cell_type": "code",
      "source": [
        "forest = RandomForestClassifier(n_estimators=100)\n",
        "forest.fit(x_train, y_train) \n",
        "y_pred = forest.predict(x_test)"
      ],
      "execution_count": 0,
      "outputs": []
    },
    {
      "metadata": {
        "id": "xRR861gKE8e3",
        "colab_type": "text"
      },
      "cell_type": "markdown",
      "source": [
        "###Testing Random Forest"
      ]
    },
    {
      "metadata": {
        "id": "RGgcTBsgDpB5",
        "colab_type": "code",
        "outputId": "3b391d45-e70d-47f2-8a6a-d7b432d20f99",
        "colab": {
          "base_uri": "https://localhost:8080/",
          "height": 312
        }
      },
      "cell_type": "code",
      "source": [
        "# Accuracy \n",
        "acc = accuracy_score(y_test, y_pred)\n",
        "print(\"Accuracy\", \"\\n\", acc, \"\\n\")\n",
        "\n",
        "# Confusion matrix\n",
        "cm = confusion_matrix(y_test, y_pred)\n",
        "print(\"Confusion Matrix\", \"\\n\", cm, \"\\n\")\n",
        "\n",
        "# Classification report\n",
        "target_names = ['Child', 'Adult']\n",
        "cr = classification_report(y_test, y_pred, target_names=target_names)\n",
        "print(\"Calssification report\", \"\\n\", cr)"
      ],
      "execution_count": 26,
      "outputs": [
        {
          "output_type": "stream",
          "text": [
            "Accuracy \n",
            " 0.6410256410256411 \n",
            "\n",
            "Confusion Matrix \n",
            " [[47 16]\n",
            " [12  3]] \n",
            "\n",
            "Calssification report \n",
            "               precision    recall  f1-score   support\n",
            "\n",
            "       Child       0.80      0.75      0.77        63\n",
            "       Adult       0.16      0.20      0.18        15\n",
            "\n",
            "   micro avg       0.64      0.64      0.64        78\n",
            "   macro avg       0.48      0.47      0.47        78\n",
            "weighted avg       0.67      0.64      0.66        78\n",
            "\n"
          ],
          "name": "stdout"
        }
      ]
    },
    {
      "metadata": {
        "id": "XUQ6PtNODudA",
        "colab_type": "text"
      },
      "cell_type": "markdown",
      "source": [
        "##Gradient Boosting Classifier"
      ]
    },
    {
      "metadata": {
        "id": "ZW8juoFqDq8O",
        "colab_type": "code",
        "colab": {}
      },
      "cell_type": "code",
      "source": [
        "from sklearn.ensemble import GradientBoostingClassifier"
      ],
      "execution_count": 0,
      "outputs": []
    },
    {
      "metadata": {
        "id": "M_nOyh3jE_0L",
        "colab_type": "text"
      },
      "cell_type": "markdown",
      "source": [
        "###Training Boosting"
      ]
    },
    {
      "metadata": {
        "id": "0YGye5LyDwxO",
        "colab_type": "code",
        "colab": {}
      },
      "cell_type": "code",
      "source": [
        "boosting = GradientBoostingClassifier(n_estimators=100, learning_rate = 0.1)\n",
        "boosting.fit(x_train, y_train) \n",
        "boosting = forest.predict(x_test)"
      ],
      "execution_count": 0,
      "outputs": []
    },
    {
      "metadata": {
        "id": "bUAOJs3NFL3-",
        "colab_type": "text"
      },
      "cell_type": "markdown",
      "source": [
        "###Testing Boosting"
      ]
    },
    {
      "metadata": {
        "id": "EzoXGDhtD2NQ",
        "colab_type": "code",
        "outputId": "d892edae-d0bb-48f0-a390-4ea86f2b7ec3",
        "colab": {
          "base_uri": "https://localhost:8080/",
          "height": 312
        }
      },
      "cell_type": "code",
      "source": [
        "# Accuracy \n",
        "acc = accuracy_score(y_test, y_pred)\n",
        "print(\"Accuracy\", \"\\n\", acc, \"\\n\")\n",
        "\n",
        "# Confusion matrix\n",
        "cm = confusion_matrix(y_test, y_pred)\n",
        "print(\"Confusion Matrix\", \"\\n\", cm, \"\\n\")\n",
        "\n",
        "# Classification report\n",
        "target_names = ['Child', 'Adult']\n",
        "cr = classification_report(y_test, y_pred, target_names=target_names)\n",
        "print(\"Calssification report\", \"\\n\", cr)"
      ],
      "execution_count": 29,
      "outputs": [
        {
          "output_type": "stream",
          "text": [
            "Accuracy \n",
            " 0.6410256410256411 \n",
            "\n",
            "Confusion Matrix \n",
            " [[47 16]\n",
            " [12  3]] \n",
            "\n",
            "Calssification report \n",
            "               precision    recall  f1-score   support\n",
            "\n",
            "       Child       0.80      0.75      0.77        63\n",
            "       Adult       0.16      0.20      0.18        15\n",
            "\n",
            "   micro avg       0.64      0.64      0.64        78\n",
            "   macro avg       0.48      0.47      0.47        78\n",
            "weighted avg       0.67      0.64      0.66        78\n",
            "\n"
          ],
          "name": "stdout"
        }
      ]
    }
  ]
}